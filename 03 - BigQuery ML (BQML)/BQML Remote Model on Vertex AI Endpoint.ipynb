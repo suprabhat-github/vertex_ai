{
 "cells": [
  {
   "cell_type": "markdown",
   "id": "a141a35c",
   "metadata": {},
   "source": [
    "![ga4](https://www.google-analytics.com/collect?v=2&tid=G-6VDTYWLKX6&cid=1&en=page_view&sid=1&dl=statmike%2Fvertex-ai-mlops%2F03+-+BigQuery+ML+%28BQML%29&dt=BQML+Remote+Model+on+Vertex+AI+Endpoint.ipynb)\n",
    "<!--- header table --->\n",
    "<table align=\"left\">\n",
    "  <td style=\"text-align: center\">\n",
    "    <a href=\"https://colab.research.google.com/github/statmike/vertex-ai-mlops/blob/main/03%20-%20BigQuery%20ML%20%28BQML%29/BQML%20Remote%20Model%20on%20Vertex%20AI%20Endpoint.ipynb\">\n",
    "      <img src=\"https://cloud.google.com/ml-engine/images/colab-logo-32px.png\" alt=\"Google Colaboratory logo\">\n",
    "      <br>Run in<br>Colab\n",
    "    </a>\n",
    "  </td>\n",
    "  <td style=\"text-align: center\">\n",
    "    <a href=\"https://console.cloud.google.com/vertex-ai/colab/import/https%3A//raw.githubusercontent.com/statmike/vertex-ai-mlops/main/03%20-%20BigQuery%20ML%20%28BQML%29/BQML%20Remote%20Model%20on%20Vertex%20AI%20Endpoint.ipynb\">\n",
    "      <img width=\"32px\" src=\"https://lh3.googleusercontent.com/JmcxdQi-qOpctIvWKgPtrzZdJJK-J3sWE1RsfjZNwshCFgE_9fULcNpuXYTilIR2hjwN\" alt=\"Google Cloud Colab Enterprise logo\">\n",
    "      <br>Run in<br>Colab Enterprise\n",
    "    </a>\n",
    "  </td>      \n",
    "  <td style=\"text-align: center\">\n",
    "    <a href=\"https://github.com/statmike/vertex-ai-mlops/blob/main/03%20-%20BigQuery%20ML%20%28BQML%29/BQML%20Remote%20Model%20on%20Vertex%20AI%20Endpoint.ipynb\">\n",
    "      <img src=\"https://cloud.google.com/ml-engine/images/github-logo-32px.png\" alt=\"GitHub logo\">\n",
    "      <br>View on<br>GitHub\n",
    "    </a>\n",
    "  </td>\n",
    "  <td style=\"text-align: center\">\n",
    "    <a href=\"https://console.cloud.google.com/vertex-ai/workbench/deploy-notebook?download_url=https%3A//raw.githubusercontent.com/statmike/vertex-ai-mlops/main/03%20-%20BigQuery%20ML%20%28BQML%29/BQML%20Remote%20Model%20on%20Vertex%20AI%20Endpoint.ipynb\">\n",
    "      <img src=\"https://lh3.googleusercontent.com/UiNooY4LUgW_oTvpsNhPpQzsstV5W8F7rYgxgGBD85cWJoLmrOzhVs_ksK_vgx40SHs7jCqkTkCk=e14-rj-sc0xffffff-h130-w32\" alt=\"Vertex AI logo\">\n",
    "      <br>Open in<br>Vertex AI Workbench\n",
    "    </a>\n",
    "  </td>\n",
    "</table>"
   ]
  },
  {
   "cell_type": "markdown",
   "id": "c3e30f40-05b9-4872-9de1-1deb5639617f",
   "metadata": {},
   "source": [
    "# BQML Predictions With Remote Model (Vertex AI)\n",
    "\n",
    "This notebooks show how to register a remote model, on Vertex AI Prediction Endpoints, as a BigQuery ML model.  This makes it possible to do inference/prediction within BigQuery using the [ML.PREDICT()](https://cloud.google.com/bigquery/docs/reference/standard-sql/bigqueryml-syntax-predict) function.  This can be very helpful in cases where the model is already hosted for online prediction and might even needing serving infrastructure like GPUs or might be too large for [importing into BigQuery ML](https://cloud.google.com/bigquery/docs/reference/standard-sql/inference-overview#inference_using_imported_models).\n",
    "\n",
    "$$\\textrm{BigQuery ML} \\Longrightarrow \\textrm{Vertex AI Prediction Endpoint}$$\n",
    "\n",
    "\n",
    "**Prerequisites**\n",
    "\n",
    "This notebook requires an existing model hosted on a Vertex AI Prediction Endpoint to server predictions. It makes uses of any of the prior notebooks in [this series](./readme.md) which each export a BigQuery ML model to Vertex AI Model Registry and host them for online prediction on a Vertex AI Prediction Endpoint.  \n",
    "\n",
    "**References**\n",
    "- Tutorial [Make predictions with remote models on Vertex AI](https://cloud.google.com/bigquery/docs/bigquery-ml-remote-model-tutorial)\n",
    "    - This features a another tutorial within this repository: [BQML Remote Model Tutorial](./BQML%20Remote%20Model%20Tutorial.md)"
   ]
  },
  {
   "cell_type": "markdown",
   "id": "bcfdfc60-24bb-4518-a1fd-2dd897bfb163",
   "metadata": {},
   "source": [
    "---\n",
    "## Colab Setup\n",
    "\n",
    "To run this notebook in Colab click [![Open In Colab](https://colab.research.google.com/assets/colab-badge.svg)](https://colab.research.google.com/github/statmike/vertex-ai-mlops/blob/main/03%20-%20BigQuery%20ML%20(BQML)/BQML%20Remote%20Model%20on%20Vertex%20AI%20Endpoint.ipynb) and run the cells in this section.  Otherwise, skip this section.\n",
    "\n",
    "This cell will authenticate to GCP (follow prompts in the popup)."
   ]
  },
  {
   "cell_type": "code",
   "execution_count": 1,
   "id": "556c16b7-e058-4b0d-afd4-58591045522e",
   "metadata": {},
   "outputs": [],
   "source": [
    "PROJECT_ID = 'statmike-mlops-349915' # replace with project ID"
   ]
  },
  {
   "cell_type": "code",
   "execution_count": 473,
   "id": "6510cb8e-1aec-40d0-91be-acefd6b95693",
   "metadata": {},
   "outputs": [],
   "source": [
    "try:\n",
    "    import google.colab\n",
    "    from google.colab import auth\n",
    "    auth.authenticate_user()\n",
    "    !gcloud config set project {PROJECT_ID}\n",
    "except Exception:\n",
    "    pass"
   ]
  },
  {
   "cell_type": "markdown",
   "id": "50a6ac94-4d75-4eb5-9374-7b1afb869efc",
   "metadata": {},
   "source": [
    "---\n",
    "## Setup"
   ]
  },
  {
   "cell_type": "markdown",
   "id": "cf15112a-cc0b-42c5-99b9-75d3e8e099fc",
   "metadata": {},
   "source": [
    "installations\n",
    "\n",
    "This notebook uses the Python Clients for\n",
    "- Google Service Usage\n",
    "    - to enable APIs (BigQuery Connection)"
   ]
  },
  {
   "cell_type": "code",
   "execution_count": 3,
   "id": "07c49f74-f0a4-47cb-ac5d-5eb84bb5834c",
   "metadata": {},
   "outputs": [],
   "source": [
    "try:\n",
    "    import google.cloud.service_usage_v1\n",
    "except ImportError:\n",
    "    !pip install google-cloud-service-usage -q"
   ]
  },
  {
   "cell_type": "markdown",
   "id": "dd097e47-b59a-4da0-a31a-f3488330142b",
   "metadata": {},
   "source": [
    "inputs:"
   ]
  },
  {
   "cell_type": "code",
   "execution_count": 4,
   "id": "86c85e51-c676-49e6-a521-a272c2c0cd78",
   "metadata": {},
   "outputs": [
    {
     "data": {
      "text/plain": [
       "'statmike-mlops-349915'"
      ]
     },
     "execution_count": 4,
     "metadata": {},
     "output_type": "execute_result"
    }
   ],
   "source": [
    "project = !gcloud config get-value project\n",
    "PROJECT_ID = project[0]\n",
    "PROJECT_ID"
   ]
  },
  {
   "cell_type": "code",
   "execution_count": 5,
   "id": "19274cad-4750-4104-be05-6a6fc55b3c24",
   "metadata": {},
   "outputs": [],
   "source": [
    "REGION = 'us-central1'\n",
    "EXPERIMENT = 'remote-model'\n",
    "SERIES = 'bqml'\n",
    "\n",
    "# source data\n",
    "BQ_PROJECT = PROJECT_ID\n",
    "BQ_DATASET = 'fraud'\n",
    "BQ_TABLE = 'fraud_prepped'\n",
    "\n",
    "# Model Training\n",
    "VAR_TARGET = 'Class'\n",
    "VAR_OMIT = 'transaction_id' # add more variables to the string with space delimiters"
   ]
  },
  {
   "cell_type": "markdown",
   "id": "65cd1071-806d-4f14-9857-2e4c26e6e3ba",
   "metadata": {},
   "source": [
    "packages:"
   ]
  },
  {
   "cell_type": "code",
   "execution_count": 7,
   "id": "25624717-c07e-40a2-bb76-41335eaa1509",
   "metadata": {},
   "outputs": [],
   "source": [
    "from google.cloud import bigquery\n",
    "from google.cloud import aiplatform\n",
    "from google.cloud import service_usage_v1\n",
    "\n",
    "import json"
   ]
  },
  {
   "cell_type": "markdown",
   "id": "ee82a869-35ab-4730-8552-62b854d03860",
   "metadata": {},
   "source": [
    "clients:"
   ]
  },
  {
   "cell_type": "code",
   "execution_count": 8,
   "id": "ce28e465-a064-425b-9ccc-147f6b069186",
   "metadata": {},
   "outputs": [],
   "source": [
    "bq = bigquery.Client(project = PROJECT_ID)\n",
    "aiplatform.init(project = PROJECT_ID, location = REGION)\n",
    "su_client = service_usage_v1.ServiceUsageClient()"
   ]
  },
  {
   "cell_type": "markdown",
   "id": "774217f5-786c-4345-9805-43868ca3ff4c",
   "metadata": {
    "tags": []
   },
   "source": [
    "### Enable APIs\n",
    "\n",
    "BigQuery Remote models use the BigQuery Connection API. \n",
    "\n",
    "Options for enabeling:  In this notebook option 2 is used.\n",
    " 1. Use the APIs & Services page in the console: https://console.cloud.google.com/apis\n",
    "     - `+ Enable APIs and Services`\n",
    "     - Search for BigQuery Connection\n",
    " 2. Use [Google Service Usage](https://cloud.google.com/service-usage/docs) API from Python\n",
    "     - [Python Client For Service Usage](https://github.com/googleapis/python-service-usage)\n",
    "     - [Python Client Library Documentation](https://cloud.google.com/python/docs/reference/serviceusage/latest)\n",
    "     \n",
    "The following code cells use the Service Usage Client to:\n",
    "- get the state of the service\n",
    "- if 'DISABLED':\n",
    "    - Try enabling the service and return the state after trying\n",
    "- if 'ENABLED' print the state for confirmation"
   ]
  },
  {
   "cell_type": "markdown",
   "id": "9053aa29-e48b-4d8d-8839-f71360eae6de",
   "metadata": {},
   "source": [
    "#### BigQuery Connection"
   ]
  },
  {
   "cell_type": "code",
   "execution_count": 9,
   "id": "8bbc3262-c47e-4df1-9d05-d7ad594dfdef",
   "metadata": {},
   "outputs": [
    {
     "name": "stdout",
     "output_type": "stream",
     "text": [
      "API already enabled for project: statmike-mlops-349915\n"
     ]
    }
   ],
   "source": [
    "bigqueryconnection = su_client.get_service(\n",
    "    request = service_usage_v1.GetServiceRequest(\n",
    "        name = f'projects/{PROJECT_ID}/services/bigqueryconnection.googleapis.com'\n",
    "    )\n",
    ").state.name\n",
    "\n",
    "\n",
    "if bigqueryconnection == 'DISABLED':\n",
    "    print(f'API is currently {bigqueryconnection} for project: {PROJECT_ID}')\n",
    "    print(f'Trying to Enable...')\n",
    "    operation = su_client.enable_service(\n",
    "        request = service_usage_v1.EnableServiceRequest(\n",
    "            name = f'projects/{PROJECT_ID}/services/bigqueryconnection.googleapis.com'\n",
    "        )\n",
    "    )\n",
    "    response = operation.result()\n",
    "    if response.service.state.name == 'ENABLED':\n",
    "        print(f'API is now enabled for project: {PROJECT_ID}')\n",
    "    else:\n",
    "        print(response)\n",
    "else:\n",
    "    print(f'API already enabled for project: {PROJECT_ID}')"
   ]
  },
  {
   "cell_type": "markdown",
   "id": "0bf9a3b7-b504-4e81-b144-844b5d485fac",
   "metadata": {},
   "source": [
    "---\n",
    "## Get Data For Predictions"
   ]
  },
  {
   "cell_type": "markdown",
   "id": "a722f734-5ec3-469e-9dc3-b16fff63ef17",
   "metadata": {},
   "source": [
    "### Retrieve Records For Prediction"
   ]
  },
  {
   "cell_type": "code",
   "execution_count": 13,
   "id": "7737defd-7e33-46ff-8071-2c0cabe8db75",
   "metadata": {},
   "outputs": [],
   "source": [
    "n = 10\n",
    "pred = bq.query(\n",
    "    query = f\"\"\"\n",
    "        SELECT * EXCEPT({VAR_TARGET}, {VAR_OMIT}, splits)\n",
    "        FROM {BQ_PROJECT}.{BQ_DATASET}.{BQ_TABLE}\n",
    "        WHERE splits='TEST'\n",
    "        LIMIT {n}\n",
    "        \"\"\"\n",
    ").to_dataframe()"
   ]
  },
  {
   "cell_type": "code",
   "execution_count": 14,
   "id": "61c8fcba-0442-4a70-bbeb-fc6a96f43da9",
   "metadata": {},
   "outputs": [
    {
     "data": {
      "text/html": [
       "<div>\n",
       "<style scoped>\n",
       "    .dataframe tbody tr th:only-of-type {\n",
       "        vertical-align: middle;\n",
       "    }\n",
       "\n",
       "    .dataframe tbody tr th {\n",
       "        vertical-align: top;\n",
       "    }\n",
       "\n",
       "    .dataframe thead th {\n",
       "        text-align: right;\n",
       "    }\n",
       "</style>\n",
       "<table border=\"1\" class=\"dataframe\">\n",
       "  <thead>\n",
       "    <tr style=\"text-align: right;\">\n",
       "      <th></th>\n",
       "      <th>Time</th>\n",
       "      <th>V1</th>\n",
       "      <th>V2</th>\n",
       "      <th>V3</th>\n",
       "      <th>V4</th>\n",
       "      <th>V5</th>\n",
       "      <th>V6</th>\n",
       "      <th>V7</th>\n",
       "      <th>V8</th>\n",
       "      <th>V9</th>\n",
       "      <th>...</th>\n",
       "      <th>V20</th>\n",
       "      <th>V21</th>\n",
       "      <th>V22</th>\n",
       "      <th>V23</th>\n",
       "      <th>V24</th>\n",
       "      <th>V25</th>\n",
       "      <th>V26</th>\n",
       "      <th>V27</th>\n",
       "      <th>V28</th>\n",
       "      <th>Amount</th>\n",
       "    </tr>\n",
       "  </thead>\n",
       "  <tbody>\n",
       "    <tr>\n",
       "      <th>0</th>\n",
       "      <td>35337</td>\n",
       "      <td>1.092844</td>\n",
       "      <td>-0.013230</td>\n",
       "      <td>1.359829</td>\n",
       "      <td>2.731537</td>\n",
       "      <td>-0.707357</td>\n",
       "      <td>0.873837</td>\n",
       "      <td>-0.796130</td>\n",
       "      <td>0.437707</td>\n",
       "      <td>0.396770</td>\n",
       "      <td>...</td>\n",
       "      <td>-0.240428</td>\n",
       "      <td>0.037603</td>\n",
       "      <td>0.380026</td>\n",
       "      <td>-0.167647</td>\n",
       "      <td>0.027557</td>\n",
       "      <td>0.592115</td>\n",
       "      <td>0.219695</td>\n",
       "      <td>0.036970</td>\n",
       "      <td>0.010984</td>\n",
       "      <td>0.0</td>\n",
       "    </tr>\n",
       "    <tr>\n",
       "      <th>1</th>\n",
       "      <td>60481</td>\n",
       "      <td>1.238973</td>\n",
       "      <td>0.035226</td>\n",
       "      <td>0.063003</td>\n",
       "      <td>0.641406</td>\n",
       "      <td>-0.260893</td>\n",
       "      <td>-0.580097</td>\n",
       "      <td>0.049938</td>\n",
       "      <td>-0.034733</td>\n",
       "      <td>0.405932</td>\n",
       "      <td>...</td>\n",
       "      <td>-0.265080</td>\n",
       "      <td>-0.060003</td>\n",
       "      <td>-0.053585</td>\n",
       "      <td>-0.057718</td>\n",
       "      <td>0.104983</td>\n",
       "      <td>0.537987</td>\n",
       "      <td>0.589563</td>\n",
       "      <td>-0.046207</td>\n",
       "      <td>-0.006212</td>\n",
       "      <td>0.0</td>\n",
       "    </tr>\n",
       "    <tr>\n",
       "      <th>2</th>\n",
       "      <td>139587</td>\n",
       "      <td>1.870539</td>\n",
       "      <td>0.211079</td>\n",
       "      <td>0.224457</td>\n",
       "      <td>3.889486</td>\n",
       "      <td>-0.380177</td>\n",
       "      <td>0.249799</td>\n",
       "      <td>-0.577133</td>\n",
       "      <td>0.179189</td>\n",
       "      <td>-0.120462</td>\n",
       "      <td>...</td>\n",
       "      <td>-0.374356</td>\n",
       "      <td>0.196006</td>\n",
       "      <td>0.656552</td>\n",
       "      <td>0.180776</td>\n",
       "      <td>-0.060226</td>\n",
       "      <td>-0.228979</td>\n",
       "      <td>0.080827</td>\n",
       "      <td>0.009868</td>\n",
       "      <td>-0.036997</td>\n",
       "      <td>0.0</td>\n",
       "    </tr>\n",
       "    <tr>\n",
       "      <th>3</th>\n",
       "      <td>162908</td>\n",
       "      <td>-3.368339</td>\n",
       "      <td>-1.980442</td>\n",
       "      <td>0.153645</td>\n",
       "      <td>-0.159795</td>\n",
       "      <td>3.847169</td>\n",
       "      <td>-3.516873</td>\n",
       "      <td>-1.209398</td>\n",
       "      <td>-0.292122</td>\n",
       "      <td>0.760543</td>\n",
       "      <td>...</td>\n",
       "      <td>-0.923275</td>\n",
       "      <td>-0.545992</td>\n",
       "      <td>-0.252324</td>\n",
       "      <td>-1.171627</td>\n",
       "      <td>0.214333</td>\n",
       "      <td>-0.159652</td>\n",
       "      <td>-0.060883</td>\n",
       "      <td>1.294977</td>\n",
       "      <td>0.120503</td>\n",
       "      <td>0.0</td>\n",
       "    </tr>\n",
       "    <tr>\n",
       "      <th>4</th>\n",
       "      <td>165236</td>\n",
       "      <td>2.180149</td>\n",
       "      <td>0.218732</td>\n",
       "      <td>-2.637726</td>\n",
       "      <td>0.348776</td>\n",
       "      <td>1.063546</td>\n",
       "      <td>-1.249197</td>\n",
       "      <td>0.942021</td>\n",
       "      <td>-0.547652</td>\n",
       "      <td>-0.087823</td>\n",
       "      <td>...</td>\n",
       "      <td>-0.250653</td>\n",
       "      <td>0.234502</td>\n",
       "      <td>0.825237</td>\n",
       "      <td>-0.176957</td>\n",
       "      <td>0.563779</td>\n",
       "      <td>0.730183</td>\n",
       "      <td>0.707494</td>\n",
       "      <td>-0.131066</td>\n",
       "      <td>-0.090428</td>\n",
       "      <td>0.0</td>\n",
       "    </tr>\n",
       "  </tbody>\n",
       "</table>\n",
       "<p>5 rows × 30 columns</p>\n",
       "</div>"
      ],
      "text/plain": [
       "     Time        V1        V2        V3        V4        V5        V6  \\\n",
       "0   35337  1.092844 -0.013230  1.359829  2.731537 -0.707357  0.873837   \n",
       "1   60481  1.238973  0.035226  0.063003  0.641406 -0.260893 -0.580097   \n",
       "2  139587  1.870539  0.211079  0.224457  3.889486 -0.380177  0.249799   \n",
       "3  162908 -3.368339 -1.980442  0.153645 -0.159795  3.847169 -3.516873   \n",
       "4  165236  2.180149  0.218732 -2.637726  0.348776  1.063546 -1.249197   \n",
       "\n",
       "         V7        V8        V9  ...       V20       V21       V22       V23  \\\n",
       "0 -0.796130  0.437707  0.396770  ... -0.240428  0.037603  0.380026 -0.167647   \n",
       "1  0.049938 -0.034733  0.405932  ... -0.265080 -0.060003 -0.053585 -0.057718   \n",
       "2 -0.577133  0.179189 -0.120462  ... -0.374356  0.196006  0.656552  0.180776   \n",
       "3 -1.209398 -0.292122  0.760543  ... -0.923275 -0.545992 -0.252324 -1.171627   \n",
       "4  0.942021 -0.547652 -0.087823  ... -0.250653  0.234502  0.825237 -0.176957   \n",
       "\n",
       "        V24       V25       V26       V27       V28  Amount  \n",
       "0  0.027557  0.592115  0.219695  0.036970  0.010984     0.0  \n",
       "1  0.104983  0.537987  0.589563 -0.046207 -0.006212     0.0  \n",
       "2 -0.060226 -0.228979  0.080827  0.009868 -0.036997     0.0  \n",
       "3  0.214333 -0.159652 -0.060883  1.294977  0.120503     0.0  \n",
       "4  0.563779  0.730183  0.707494 -0.131066 -0.090428     0.0  \n",
       "\n",
       "[5 rows x 30 columns]"
      ]
     },
     "execution_count": 14,
     "metadata": {},
     "output_type": "execute_result"
    }
   ],
   "source": [
    "pred.head()"
   ]
  },
  {
   "cell_type": "markdown",
   "id": "fa2ef164-1c3c-4e16-835f-91fa99a3f5b9",
   "metadata": {},
   "source": [
    "Shape as instances: dictionaries of key:value pairs for only features used in model"
   ]
  },
  {
   "cell_type": "code",
   "execution_count": 15,
   "id": "a2fcf157-9df7-4a8e-bbc4-3cac81c87d8c",
   "metadata": {},
   "outputs": [],
   "source": [
    "newobs = pred.to_dict(orient='records')\n",
    "#newobs[0]"
   ]
  },
  {
   "cell_type": "code",
   "execution_count": 16,
   "id": "2fa2b2cf-aa04-4897-9341-13dac35d182a",
   "metadata": {},
   "outputs": [
    {
     "data": {
      "text/plain": [
       "10"
      ]
     },
     "execution_count": 16,
     "metadata": {},
     "output_type": "execute_result"
    }
   ],
   "source": [
    "len(newobs)"
   ]
  },
  {
   "cell_type": "code",
   "execution_count": 17,
   "id": "d0478f48-01ba-4a65-9695-9b5502fd7a32",
   "metadata": {},
   "outputs": [
    {
     "data": {
      "text/plain": [
       "{'Time': 35337,\n",
       " 'V1': 1.0928441854981998,\n",
       " 'V2': -0.0132303486713432,\n",
       " 'V3': 1.35982868199426,\n",
       " 'V4': 2.7315370965921004,\n",
       " 'V5': -0.707357349219652,\n",
       " 'V6': 0.8738370029866129,\n",
       " 'V7': -0.7961301510622031,\n",
       " 'V8': 0.437706509544851,\n",
       " 'V9': 0.39676985012996396,\n",
       " 'V10': 0.587438102569443,\n",
       " 'V11': -0.14979756231827498,\n",
       " 'V12': 0.29514781622888103,\n",
       " 'V13': -1.30382621882143,\n",
       " 'V14': -0.31782283120234495,\n",
       " 'V15': -2.03673231037199,\n",
       " 'V16': 0.376090905274179,\n",
       " 'V17': -0.30040350116459497,\n",
       " 'V18': 0.433799615590844,\n",
       " 'V19': -0.145082264348681,\n",
       " 'V20': -0.240427548108996,\n",
       " 'V21': 0.0376030733329398,\n",
       " 'V22': 0.38002620963091405,\n",
       " 'V23': -0.16764742731151097,\n",
       " 'V24': 0.0275573495476881,\n",
       " 'V25': 0.59211469704354,\n",
       " 'V26': 0.219695164116351,\n",
       " 'V27': 0.0369695108704894,\n",
       " 'V28': 0.010984441006191,\n",
       " 'Amount': 0.0}"
      ]
     },
     "execution_count": 17,
     "metadata": {},
     "output_type": "execute_result"
    }
   ],
   "source": [
    "newobs[0]"
   ]
  },
  {
   "cell_type": "markdown",
   "id": "aeb2e05e-29e6-4075-99f8-f6a2737defeb",
   "metadata": {},
   "source": [
    "---\n",
    "\n",
    "## Get A Model For Predictions\n",
    "\n",
    "This section retrieves a currently active model being used on a Vertex AI Prediction Endpoint.\n",
    "\n",
    ">If you already know the location of your model files in a GCS Bucket then this section can be bypassed by storing the model location with: `model_uri = 'gs://bucket/path/to/files'."
   ]
  },
  {
   "cell_type": "code",
   "execution_count": 18,
   "id": "e9624e73-a41d-4f22-a338-214c5df28ef2",
   "metadata": {},
   "outputs": [],
   "source": [
    "# Series 04 creates scikit-learn based models\n",
    "PREVIOUS_SERIES = '03'"
   ]
  },
  {
   "cell_type": "markdown",
   "id": "cac4c1f6-bfa2-4e98-9a91-acb75bc608bf",
   "metadata": {},
   "source": [
    "### Get Endpoint\n",
    "\n",
    "Reference: [aiplatform.Endpoint](https://cloud.google.com/python/docs/reference/aiplatform/latest/google.cloud.aiplatform.Endpoint)"
   ]
  },
  {
   "cell_type": "code",
   "execution_count": 19,
   "id": "051c8fad-ce1c-49af-86e2-bc9ca497f41c",
   "metadata": {},
   "outputs": [],
   "source": [
    "endpoints = aiplatform.Endpoint.list(filter = f\"labels.series={PREVIOUS_SERIES}\")\n",
    "endpoint = endpoints[0]"
   ]
  },
  {
   "cell_type": "code",
   "execution_count": 20,
   "id": "4f556037-289c-41af-a4e1-e28d7abce88f",
   "metadata": {},
   "outputs": [
    {
     "name": "stdout",
     "output_type": "stream",
     "text": [
      "Review the Endpoint in the Console:\n",
      "https://console.cloud.google.com/vertex-ai/locations/us-central1/endpoints/4867252103141130240?project=statmike-mlops-349915\n"
     ]
    }
   ],
   "source": [
    "print(f'Review the Endpoint in the Console:\\nhttps://console.cloud.google.com/vertex-ai/locations/{REGION}/endpoints/{endpoint.name}?project={PROJECT_ID}')"
   ]
  },
  {
   "cell_type": "code",
   "execution_count": 21,
   "id": "83a97899-f5f2-4948-ad72-6e1d428b9e60",
   "metadata": {},
   "outputs": [
    {
     "data": {
      "text/plain": [
       "[[35337,\n",
       "  1.0928441854981998,\n",
       "  -0.0132303486713432,\n",
       "  1.35982868199426,\n",
       "  2.7315370965921004,\n",
       "  -0.707357349219652,\n",
       "  0.8738370029866129,\n",
       "  -0.7961301510622031,\n",
       "  0.437706509544851,\n",
       "  0.39676985012996396,\n",
       "  0.587438102569443,\n",
       "  -0.14979756231827498,\n",
       "  0.29514781622888103,\n",
       "  -1.30382621882143,\n",
       "  -0.31782283120234495,\n",
       "  -2.03673231037199,\n",
       "  0.376090905274179,\n",
       "  -0.30040350116459497,\n",
       "  0.433799615590844,\n",
       "  -0.145082264348681,\n",
       "  -0.240427548108996,\n",
       "  0.0376030733329398,\n",
       "  0.38002620963091405,\n",
       "  -0.16764742731151097,\n",
       "  0.0275573495476881,\n",
       "  0.59211469704354,\n",
       "  0.219695164116351,\n",
       "  0.0369695108704894,\n",
       "  0.010984441006191,\n",
       "  0.0]]"
      ]
     },
     "execution_count": 21,
     "metadata": {},
     "output_type": "execute_result"
    }
   ],
   "source": [
    "[list(newobs[0].values())]"
   ]
  },
  {
   "cell_type": "code",
   "execution_count": 23,
   "id": "b49ae70a-966f-441a-8983-665c858f5a2f",
   "metadata": {},
   "outputs": [
    {
     "data": {
      "text/plain": [
       "[{'latent_col_5': 0.291676432,\n",
       "  'mean_squared_log_error': 0.00712372037,\n",
       "  'mean_absolute_error': 0.164848313,\n",
       "  'latent_col_4': -0.232606351,\n",
       "  'mean_squared_error': 0.0966151,\n",
       "  'latent_col_7': 0.716156483,\n",
       "  'latent_col_1': -0.505942464,\n",
       "  'latent_col_2': -0.287162453,\n",
       "  'latent_col_3': -0.78166455,\n",
       "  'latent_col_8': 0.572722137,\n",
       "  'latent_col_6': -0.392200977}]"
      ]
     },
     "execution_count": 23,
     "metadata": {},
     "output_type": "execute_result"
    }
   ],
   "source": [
    "endpoint.predict(instances = newobs[0:1]).predictions"
   ]
  },
  {
   "cell_type": "markdown",
   "id": "2a92c537-037d-44cd-ab9a-1579105f81bc",
   "metadata": {},
   "source": [
    "### Review The Model Information\n",
    "\n",
    "Reference: [aiplatform.Model](https://cloud.google.com/python/docs/reference/aiplatform/latest/google.cloud.aiplatform.Model)"
   ]
  },
  {
   "cell_type": "code",
   "execution_count": 24,
   "id": "f32cc550-d81a-4640-a586-095eec9efd06",
   "metadata": {},
   "outputs": [],
   "source": [
    "vertex_model = aiplatform.Model(\n",
    "    model_name = endpoint.list_models()[0].model + f'@{endpoint.list_models()[0].model_version_id}'\n",
    ")"
   ]
  },
  {
   "cell_type": "code",
   "execution_count": 25,
   "id": "a8c76670-abf8-4e17-929b-68c9b4e07e64",
   "metadata": {},
   "outputs": [
    {
     "data": {
      "text/plain": [
       "'03_autoencoder'"
      ]
     },
     "execution_count": 25,
     "metadata": {},
     "output_type": "execute_result"
    }
   ],
   "source": [
    "vertex_model.display_name"
   ]
  },
  {
   "cell_type": "code",
   "execution_count": 26,
   "id": "3e3a21de-98b7-4526-9f9a-602b6a0b4bfb",
   "metadata": {},
   "outputs": [
    {
     "data": {
      "text/plain": [
       "'2'"
      ]
     },
     "execution_count": 26,
     "metadata": {},
     "output_type": "execute_result"
    }
   ],
   "source": [
    "vertex_model.version_id"
   ]
  },
  {
   "cell_type": "code",
   "execution_count": 27,
   "id": "2520c5bb-00f6-48e2-9afc-761cb1a08c87",
   "metadata": {},
   "outputs": [
    {
     "data": {
      "text/plain": [
       "'model_03_autoencoder'"
      ]
     },
     "execution_count": 27,
     "metadata": {},
     "output_type": "execute_result"
    }
   ],
   "source": [
    "vertex_model.name"
   ]
  },
  {
   "cell_type": "code",
   "execution_count": 28,
   "id": "f28a0d3a-964c-4803-839d-8213b89c4d54",
   "metadata": {},
   "outputs": [
    {
     "data": {
      "text/plain": [
       "'gs://statmike-mlops-349915/03/autoencoder/models/20230321130321/model'"
      ]
     },
     "execution_count": 28,
     "metadata": {},
     "output_type": "execute_result"
    }
   ],
   "source": [
    "vertex_model.uri"
   ]
  },
  {
   "cell_type": "code",
   "execution_count": 29,
   "id": "f967c720-1a51-42e3-9e8b-d85c5a2c21ea",
   "metadata": {},
   "outputs": [
    {
     "name": "stdout",
     "output_type": "stream",
     "text": [
      "gs://statmike-mlops-349915/03/autoencoder/models/20230321130321/model/checkpoint\n",
      "gs://statmike-mlops-349915/03/autoencoder/models/20230321130321/model/graph.pbtxt\n",
      "gs://statmike-mlops-349915/03/autoencoder/models/20230321130321/model/model.ckpt-91300.data-00000-of-00001\n",
      "gs://statmike-mlops-349915/03/autoencoder/models/20230321130321/model/model.ckpt-91300.index\n",
      "gs://statmike-mlops-349915/03/autoencoder/models/20230321130321/model/model.ckpt-91300.meta\n",
      "gs://statmike-mlops-349915/03/autoencoder/models/20230321130321/model/saved_model.pb\n",
      "gs://statmike-mlops-349915/03/autoencoder/models/20230321130321/model/variables/\n"
     ]
    }
   ],
   "source": [
    "!gsutil ls {vertex_model.uri}"
   ]
  },
  {
   "cell_type": "code",
   "execution_count": 31,
   "id": "04b091ec-11e7-4be0-a194-aad139891cd4",
   "metadata": {},
   "outputs": [
    {
     "name": "stdout",
     "output_type": "stream",
     "text": [
      "Review the model in the Vertex AI Model Registry:\n",
      "https://console.cloud.google.com/vertex-ai/locations/us-central1/models/model_03_autoencoder/versions/2/properties?project=statmike-mlops-349915\n"
     ]
    }
   ],
   "source": [
    "print(f'Review the model in the Vertex AI Model Registry:\\nhttps://console.cloud.google.com/vertex-ai/locations/{REGION}/models/{vertex_model.name}/versions/{vertex_model.version_id}/properties?project={PROJECT_ID}')"
   ]
  },
  {
   "cell_type": "markdown",
   "id": "b9ffe125-05ef-4844-80f8-7f914ab5ff0f",
   "metadata": {
    "tags": []
   },
   "source": [
    "---\n",
    "## BQML Remote Model\n",
    "\n",
    "Creating a BigQuery ML Remote Model has two components: a [BigQuery Cloud Resource Connection](https://cloud.google.com/bigquery/docs/create-cloud-resource-connection) and a BigQuery Remote Model that uses the connection."
   ]
  },
  {
   "cell_type": "markdown",
   "id": "e064b3d2-defb-468a-b71d-bddb946724b5",
   "metadata": {},
   "source": [
    "### Create A BigQuery Cloud Resource Connection"
   ]
  },
  {
   "cell_type": "code",
   "execution_count": 32,
   "id": "84ea89e0-3b70-4e80-b444-71d5cc551307",
   "metadata": {},
   "outputs": [
    {
     "name": "stdout",
     "output_type": "stream",
     "text": [
      "This is BigQuery CLI 2.0.86\n"
     ]
    }
   ],
   "source": [
    "!bq version"
   ]
  },
  {
   "cell_type": "code",
   "execution_count": 38,
   "id": "4430f4ed-871d-4a6a-8000-485705f97c70",
   "metadata": {},
   "outputs": [
    {
     "name": "stdout",
     "output_type": "stream",
     "text": [
      "No connections found.\n"
     ]
    }
   ],
   "source": [
    "!bq ls --connection --location={REGION} --project_id={PROJECT_ID}"
   ]
  },
  {
   "cell_type": "code",
   "execution_count": 39,
   "id": "a104bc78-3a66-466a-9815-6777c554ac24",
   "metadata": {},
   "outputs": [
    {
     "name": "stdout",
     "output_type": "stream",
     "text": [
      "Connection 1026793852137.us-central1.bqml_remote-model successfully created\n"
     ]
    }
   ],
   "source": [
    "# create BigQuery Cloud Resource Connection\n",
    "!bq mk --connection --location={REGION} --project_id={PROJECT_ID} --connection_type=CLOUD_RESOURCE {SERIES}_{EXPERIMENT}"
   ]
  },
  {
   "cell_type": "code",
   "execution_count": 41,
   "id": "d42e6c5e-6eca-403f-afd6-6f70564ddaf1",
   "metadata": {},
   "outputs": [
    {
     "data": {
      "text/plain": [
       "'bqcx-1026793852137-zfly@gcp-sa-bigquery-condel.iam.gserviceaccount.com'"
      ]
     },
     "execution_count": 41,
     "metadata": {},
     "output_type": "execute_result"
    }
   ],
   "source": [
    "bqml_connection = !bq show --format prettyjson --connection {PROJECT_ID}.{REGION}.{SERIES}_{EXPERIMENT}\n",
    "bqml_connection = json.loads(''.join(bqml_connection))\n",
    "service_account = bqml_connection['cloudResource']['serviceAccountId']\n",
    "service_account"
   ]
  },
  {
   "cell_type": "markdown",
   "id": "54cf9c5d-3675-42ea-9ab4-f4c9569c9229",
   "metadata": {},
   "source": [
    "Assign the service account [Vertex AI user role](https://cloud.google.com/vertex-ai/docs/general/access-control#aiplatform.user):\n",
    "\n",
    "Alternatively, Do This in the Console:\n",
    "- Console > IAM > + Grand Access:\n",
    "    - New Principal = <enter value of serviceAccountId above>\n",
    "    - Role = Vertex AI User\n",
    "    - Click Save"
   ]
  },
  {
   "cell_type": "code",
   "execution_count": 42,
   "id": "093f4da4-ea48-472a-ac7d-29e785b10aa4",
   "metadata": {
    "scrolled": true,
    "tags": []
   },
   "outputs": [
    {
     "name": "stdout",
     "output_type": "stream",
     "text": [
      "Updated IAM policy for project [statmike-mlops-349915].\n",
      "bindings:\n",
      "- members:\n",
      "  - serviceAccount:service-1026793852137@gcp-sa-aiplatform-cc.iam.gserviceaccount.com\n",
      "  role: roles/aiplatform.customCodeServiceAgent\n",
      "- members:\n",
      "  - serviceAccount:service-1026793852137@gcp-sa-aiplatform.iam.gserviceaccount.com\n",
      "  role: roles/aiplatform.serviceAgent\n",
      "- members:\n",
      "  - serviceAccount:bqcx-1026793852137-zfly@gcp-sa-bigquery-condel.iam.gserviceaccount.com\n",
      "  role: roles/aiplatform.user\n",
      "- members:\n",
      "  - serviceAccount:service-1026793852137@gcp-sa-artifactregistry.iam.gserviceaccount.com\n",
      "  role: roles/artifactregistry.serviceAgent\n",
      "- members:\n",
      "  - serviceAccount:1026793852137-compute@developer.gserviceaccount.com\n",
      "  role: roles/bigquery.admin\n",
      "- members:\n",
      "  - serviceAccount:1026793852137@cloudservices.gserviceaccount.com\n",
      "  role: roles/bigquery.dataOwner\n",
      "- members:\n",
      "  - serviceAccount:1026793852137@cloudbuild.gserviceaccount.com\n",
      "  role: roles/cloudbuild.builds.builder\n",
      "- members:\n",
      "  - serviceAccount:service-1026793852137@gcp-sa-cloudbuild.iam.gserviceaccount.com\n",
      "  role: roles/cloudbuild.serviceAgent\n",
      "- members:\n",
      "  - serviceAccount:service-1026793852137@gcf-admin-robot.iam.gserviceaccount.com\n",
      "  role: roles/cloudfunctions.serviceAgent\n",
      "- members:\n",
      "  - serviceAccount:service-1026793852137@gcp-sa-cloudscheduler.iam.gserviceaccount.com\n",
      "  role: roles/cloudscheduler.serviceAgent\n",
      "- members:\n",
      "  - serviceAccount:service-1026793852137@compute-system.iam.gserviceaccount.com\n",
      "  role: roles/compute.serviceAgent\n",
      "- members:\n",
      "  - serviceAccount:service-1026793852137@containerregistry.iam.gserviceaccount.com\n",
      "  role: roles/containerregistry.ServiceAgent\n",
      "- members:\n",
      "  - serviceAccount:service-1026793852137@dataflow-service-producer-prod.iam.gserviceaccount.com\n",
      "  role: roles/dataflow.serviceAgent\n",
      "- members:\n",
      "  - serviceAccount:service-1026793852137@dlp-api.iam.gserviceaccount.com\n",
      "  role: roles/dlp.serviceAgent\n",
      "- members:\n",
      "  - serviceAccount:service-1026793852137@gcp-sa-prod-dai-core.iam.gserviceaccount.com\n",
      "  role: roles/documentaicore.serviceAgent\n",
      "- members:\n",
      "  - serviceAccount:1026793852137@cloudservices.gserviceaccount.com\n",
      "  role: roles/editor\n",
      "- members:\n",
      "  - serviceAccount:service-1026793852137@gcp-sa-networkmanagement.iam.gserviceaccount.com\n",
      "  role: roles/networkmanagement.serviceAgent\n",
      "- members:\n",
      "  - serviceAccount:service-1026793852137@gcp-sa-notebooks.iam.gserviceaccount.com\n",
      "  role: roles/notebooks.serviceAgent\n",
      "- members:\n",
      "  - serviceAccount:1026793852137-compute@developer.gserviceaccount.com\n",
      "  - serviceAccount:1026793852137@cloudservices.gserviceaccount.com\n",
      "  - user:admin@statmike.altostrat.com\n",
      "  role: roles/owner\n",
      "- members:\n",
      "  - serviceAccount:service-1026793852137@gcp-sa-pubsub.iam.gserviceaccount.com\n",
      "  role: roles/pubsub.serviceAgent\n",
      "- members:\n",
      "  - serviceAccount:1026793852137-compute@developer.gserviceaccount.com\n",
      "  role: roles/run.admin\n",
      "- members:\n",
      "  - serviceAccount:service-1026793852137@serverless-robot-prod.iam.gserviceaccount.com\n",
      "  role: roles/run.serviceAgent\n",
      "- members:\n",
      "  - serviceAccount:1026793852137-compute@developer.gserviceaccount.com\n",
      "  role: roles/storage.objectAdmin\n",
      "- members:\n",
      "  - serviceAccount:service-1026793852137@gcp-sa-workstations.iam.gserviceaccount.com\n",
      "  role: roles/workstations.serviceAgent\n",
      "etag: BwX68YMnwPk=\n",
      "version: 1\n"
     ]
    }
   ],
   "source": [
    "# assign vertex ai user role to the service account of the BigQuery Cloud Resource Connection\n",
    "!gcloud projects add-iam-policy-binding {PROJECT_ID} --member=serviceAccount:{service_account} --role=roles/aiplatform.user"
   ]
  },
  {
   "cell_type": "markdown",
   "id": "248c4d1f-5c2f-4c7e-b954-2a2d8316894c",
   "metadata": {},
   "source": [
    "### Get The Model Inputs and Outputs\n",
    "\n",
    "To see the input and output specification for the TensorFlow model use the [SavedModel CLI](https://www.tensorflow.org/guide/saved_model#details_of_the_savedmodel_command_line_interface):\n",
    "\n",
    "```\n",
    "MetaGraphDef with tag-set: 'serve' contains the following SignatureDefs:\n",
    "signature_def['serving_default']:\n",
    "  The given SavedModel SignatureDef contains the following input(s):\n",
    "    inputs['image_bytes'] tensor_info:\n",
    "        dtype: DT_STRING\n",
    "        shape: (-1)\n",
    "        name: encoded_image_string_tensor:0\n",
    "    inputs['key'] tensor_info:\n",
    "        dtype: DT_STRING\n",
    "        shape: (-1)\n",
    "        name: key:0\n",
    "```"
   ]
  },
  {
   "cell_type": "code",
   "execution_count": 80,
   "id": "621ac33d-c709-418a-84b8-ac77a842b8e6",
   "metadata": {},
   "outputs": [],
   "source": [
    "model_graph = !saved_model_cli show --dir {vertex_model.uri} --all"
   ]
  },
  {
   "cell_type": "code",
   "execution_count": 82,
   "id": "b98b5795-4168-468a-9cd6-edae05ed789e",
   "metadata": {},
   "outputs": [],
   "source": [
    "model_graph = [x.strip() for x in model_graph if x.strip()[0:5] in ['input', 'outpu', 'dtype', 'shape', 'name:']]"
   ]
  },
  {
   "cell_type": "code",
   "execution_count": 122,
   "id": "6372a430-fe78-4270-8ba6-69f26573ba56",
   "metadata": {},
   "outputs": [],
   "source": [
    "# parse this into a dictionary:\n",
    "inputs = ''\n",
    "outputs = ''\n",
    "format_mapper = dict(DT_DOUBLE = 'FLOAT64', DT_FLOAT = 'FLOAT64', DT_INT = 'INT64', DT_STRING = 'STRING')\n",
    "for x in range(int(len(model_graph)/4)):\n",
    "    variable = model_graph[x*4:x*4+4]\n",
    "    #variable[0] = 'feature:' + variable[0].split('[')[1].split(']')[0]\n",
    "    if variable[0].split('[')[0] == 'inputs':\n",
    "        inputs += variable[0].split(\"['\")[1].split(\"']\")[0]\n",
    "        inputs += ' '\n",
    "        shape = tuple(int(x) for x in variable[2].split('(')[1].split(')')[0].split(','))\n",
    "        if len(shape) > 1:\n",
    "            inputs += f\"ARRAY<{format_mapper[variable[1].split(' ')[-1]]}>\" + ', '\n",
    "        else:\n",
    "            inputs += f\"{format_mapper[variable[1].split(' ')[-1]]}\" + ', '\n",
    "    else:\n",
    "        outputs += variable[0].split(\"['\")[1].split(\"']\")[0]\n",
    "        outputs += ' '\n",
    "        shape = tuple(int(x) for x in variable[2].split('(')[1].split(')')[0].split(','))\n",
    "        if len(shape) > 1:\n",
    "            outputs += f\"ARRAY<{format_mapper[variable[1].split(' ')[-1]]}>\" + ', '\n",
    "        else:\n",
    "            outputs += f\"{format_mapper[variable[1].split(' ')[-1]]}\" + ', '\n",
    "    #print(variable)\n",
    "\n",
    "#print(inputs)\n",
    "#print(outputs)\n",
    "    \n"
   ]
  },
  {
   "cell_type": "code",
   "execution_count": 123,
   "id": "c28aaf88-22d7-4ed2-9f14-19748da6e46b",
   "metadata": {},
   "outputs": [
    {
     "name": "stdout",
     "output_type": "stream",
     "text": [
      "Amount FLOAT64, Time FLOAT64, V1 FLOAT64, V10 FLOAT64, V11 FLOAT64, V12 FLOAT64, V13 FLOAT64, V14 FLOAT64, V15 FLOAT64, V16 FLOAT64, V17 FLOAT64, V18 FLOAT64, V19 FLOAT64, V2 FLOAT64, V20 FLOAT64, V21 FLOAT64, V22 FLOAT64, V23 FLOAT64, V24 FLOAT64, V25 FLOAT64, V26 FLOAT64, V27 FLOAT64, V28 FLOAT64, V3 FLOAT64, V4 FLOAT64, V5 FLOAT64, V6 FLOAT64, V7 FLOAT64, V8 FLOAT64, V9 FLOAT64, \n"
     ]
    }
   ],
   "source": [
    "print(inputs)"
   ]
  },
  {
   "cell_type": "code",
   "execution_count": 124,
   "id": "4f62a932-560e-46b4-8bc2-cd8ff5994abe",
   "metadata": {},
   "outputs": [
    {
     "name": "stdout",
     "output_type": "stream",
     "text": [
      "latent_col_1 FLOAT64, latent_col_2 FLOAT64, latent_col_3 FLOAT64, latent_col_4 FLOAT64, latent_col_5 FLOAT64, latent_col_6 FLOAT64, latent_col_7 FLOAT64, latent_col_8 FLOAT64, mean_absolute_error FLOAT64, mean_squared_error FLOAT64, mean_squared_log_error FLOAT64, \n"
     ]
    }
   ],
   "source": [
    "print(outputs)"
   ]
  },
  {
   "cell_type": "markdown",
   "id": "30f8314c-b2a3-452e-b12e-296e2c741d4c",
   "metadata": {},
   "source": [
    "### Create Remote Model"
   ]
  },
  {
   "cell_type": "code",
   "execution_count": 125,
   "id": "f4a7b1eb-1f0b-41f8-b0cf-6a36651be753",
   "metadata": {},
   "outputs": [
    {
     "data": {
      "text/plain": [
       "'DONE'"
      ]
     },
     "execution_count": 125,
     "metadata": {},
     "output_type": "execute_result"
    }
   ],
   "source": [
    "query = f\"\"\"\n",
    "CREATE OR REPLACE MODEL `{BQ_PROJECT}.{BQ_DATASET}.{SERIES}_{EXPERIMENT}`\n",
    "    INPUT ({inputs})\n",
    "    OUTPUT ({outputs})\n",
    "    REMOTE WITH CONNECTION `{PROJECT_ID}.{REGION}.{SERIES}_{EXPERIMENT}`\n",
    "    OPTIONS(\n",
    "        endpoint = 'https://{REGION}-aiplatform.googleapis.com/v1/{endpoint.resource_name}'\n",
    "    )\n",
    "\"\"\"\n",
    "job = bq.query(query = query)\n",
    "job.result()\n",
    "job.state"
   ]
  },
  {
   "cell_type": "markdown",
   "id": "2548c6d9-0569-4d02-a667-31d0718fb780",
   "metadata": {},
   "source": [
    "### Predict with ML.PREDICT\n",
    "\n",
    "Get predictions from the remote model within BigQuery using the `ML.PREDICT` function.  This sends records from the query statment to the remote model for serving prediction back to BigQuery as a single function call."
   ]
  },
  {
   "cell_type": "code",
   "execution_count": 128,
   "id": "fc499298-12f5-4794-aaab-fb2702f287e0",
   "metadata": {},
   "outputs": [],
   "source": [
    "query = f\"\"\"\n",
    "SELECT *\n",
    "FROM ML.PREDICT (MODEL `{BQ_PROJECT}.{BQ_DATASET}.{SERIES}_{EXPERIMENT}`,(\n",
    "    SELECT * \n",
    "    FROM `{BQ_PROJECT}.{BQ_DATASET}.{BQ_TABLE}`\n",
    "    WHERE splits = 'TEST'\n",
    "    LIMIT 1\n",
    "    )\n",
    "  )\n",
    "\"\"\"\n",
    "pred = bq.query(query = query).to_dataframe()"
   ]
  },
  {
   "cell_type": "code",
   "execution_count": 129,
   "id": "bc644aaf-5932-4d8b-9fc6-7a3f646b8b7d",
   "metadata": {},
   "outputs": [
    {
     "data": {
      "text/html": [
       "<div>\n",
       "<style scoped>\n",
       "    .dataframe tbody tr th:only-of-type {\n",
       "        vertical-align: middle;\n",
       "    }\n",
       "\n",
       "    .dataframe tbody tr th {\n",
       "        vertical-align: top;\n",
       "    }\n",
       "\n",
       "    .dataframe thead th {\n",
       "        text-align: right;\n",
       "    }\n",
       "</style>\n",
       "<table border=\"1\" class=\"dataframe\">\n",
       "  <thead>\n",
       "    <tr style=\"text-align: right;\">\n",
       "      <th></th>\n",
       "      <th>latent_col_1</th>\n",
       "      <th>latent_col_2</th>\n",
       "      <th>latent_col_3</th>\n",
       "      <th>latent_col_4</th>\n",
       "      <th>latent_col_5</th>\n",
       "      <th>latent_col_6</th>\n",
       "      <th>latent_col_7</th>\n",
       "      <th>latent_col_8</th>\n",
       "      <th>mean_absolute_error</th>\n",
       "      <th>mean_squared_error</th>\n",
       "      <th>...</th>\n",
       "      <th>V23</th>\n",
       "      <th>V24</th>\n",
       "      <th>V25</th>\n",
       "      <th>V26</th>\n",
       "      <th>V27</th>\n",
       "      <th>V28</th>\n",
       "      <th>Amount</th>\n",
       "      <th>Class</th>\n",
       "      <th>transaction_id</th>\n",
       "      <th>splits</th>\n",
       "    </tr>\n",
       "  </thead>\n",
       "  <tbody>\n",
       "    <tr>\n",
       "      <th>0</th>\n",
       "      <td>-0.505942</td>\n",
       "      <td>-0.287162</td>\n",
       "      <td>-0.781665</td>\n",
       "      <td>-0.232606</td>\n",
       "      <td>0.291676</td>\n",
       "      <td>-0.392201</td>\n",
       "      <td>0.716156</td>\n",
       "      <td>0.572722</td>\n",
       "      <td>0.164848</td>\n",
       "      <td>0.096615</td>\n",
       "      <td>...</td>\n",
       "      <td>-0.167647</td>\n",
       "      <td>0.027557</td>\n",
       "      <td>0.592115</td>\n",
       "      <td>0.219695</td>\n",
       "      <td>0.03697</td>\n",
       "      <td>0.010984</td>\n",
       "      <td>0.0</td>\n",
       "      <td>0</td>\n",
       "      <td>a1b10547-d270-48c0-b902-7a0f735dadc7</td>\n",
       "      <td>TEST</td>\n",
       "    </tr>\n",
       "  </tbody>\n",
       "</table>\n",
       "<p>1 rows × 45 columns</p>\n",
       "</div>"
      ],
      "text/plain": [
       "   latent_col_1  latent_col_2  latent_col_3  latent_col_4  latent_col_5  \\\n",
       "0     -0.505942     -0.287162     -0.781665     -0.232606      0.291676   \n",
       "\n",
       "   latent_col_6  latent_col_7  latent_col_8  mean_absolute_error  \\\n",
       "0     -0.392201      0.716156      0.572722             0.164848   \n",
       "\n",
       "   mean_squared_error  ...       V23       V24       V25       V26      V27  \\\n",
       "0            0.096615  ... -0.167647  0.027557  0.592115  0.219695  0.03697   \n",
       "\n",
       "        V28  Amount  Class                        transaction_id  splits  \n",
       "0  0.010984     0.0      0  a1b10547-d270-48c0-b902-7a0f735dadc7    TEST  \n",
       "\n",
       "[1 rows x 45 columns]"
      ]
     },
     "execution_count": 129,
     "metadata": {},
     "output_type": "execute_result"
    }
   ],
   "source": [
    "pred"
   ]
  },
  {
   "cell_type": "code",
   "execution_count": 130,
   "id": "9a346e75-7a9a-4192-aa88-a25ad40752f3",
   "metadata": {},
   "outputs": [
    {
     "data": {
      "text/plain": [
       "[{'latent_col_7': 0.716156483,\n",
       "  'mean_absolute_error': 0.164848313,\n",
       "  'mean_squared_error': 0.0966151,\n",
       "  'mean_squared_log_error': 0.00712372037,\n",
       "  'latent_col_2': -0.287162453,\n",
       "  'latent_col_8': 0.572722137,\n",
       "  'latent_col_6': -0.392200977,\n",
       "  'latent_col_4': -0.232606351,\n",
       "  'latent_col_1': -0.505942464,\n",
       "  'latent_col_3': -0.78166455,\n",
       "  'latent_col_5': 0.291676432}]"
      ]
     },
     "execution_count": 130,
     "metadata": {},
     "output_type": "execute_result"
    }
   ],
   "source": [
    "endpoint.predict(instances = newobs[0:1]).predictions"
   ]
  },
  {
   "cell_type": "markdown",
   "id": "030e11e3-67b9-4b7d-bc36-f715428326f0",
   "metadata": {},
   "source": [
    "---\n",
    "## Clean Up"
   ]
  },
  {
   "cell_type": "code",
   "execution_count": 37,
   "id": "0a58cb1c-ec10-4d78-a9b0-5604e7978840",
   "metadata": {},
   "outputs": [],
   "source": [
    "# remove BigQuery Cloud Resource Connection\n",
    "#!bq rm --connection {PROJECT_ID}.{REGION}.{SERIES}_{EXPERIMENT}"
   ]
  }
 ],
 "metadata": {
  "environment": {
   "kernel": "conda-root-py",
   "name": "workbench-notebooks.m113",
   "type": "gcloud",
   "uri": "gcr.io/deeplearning-platform-release/workbench-notebooks:m113"
  },
  "kernelspec": {
   "display_name": "Python 3 (ipykernel) (Local)",
   "language": "python",
   "name": "conda-root-py"
  },
  "language_info": {
   "codemirror_mode": {
    "name": "ipython",
    "version": 3
   },
   "file_extension": ".py",
   "mimetype": "text/x-python",
   "name": "python",
   "nbconvert_exporter": "python",
   "pygments_lexer": "ipython3",
   "version": "3.10.13"
  }
 },
 "nbformat": 4,
 "nbformat_minor": 5
}
