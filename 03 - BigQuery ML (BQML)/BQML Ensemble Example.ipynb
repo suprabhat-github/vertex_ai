{
 "cells": [
  {
   "cell_type": "markdown",
   "id": "2faa9f8f",
   "metadata": {},
   "source": [
    "![ga4](https://www.google-analytics.com/collect?v=2&tid=G-6VDTYWLKX6&cid=1&en=page_view&sid=1&dl=statmike%2Fvertex-ai-mlops%2F03+-+BigQuery+ML+%28BQML%29&dt=BQML+Ensemble+Example.ipynb)\n",
    "<!--- header table --->\n",
    "<table align=\"left\">\n",
    "  <td style=\"text-align: center\">\n",
    "    <a href=\"https://colab.research.google.com/github/statmike/vertex-ai-mlops/blob/main/03%20-%20BigQuery%20ML%20%28BQML%29/BQML%20Ensemble%20Example.ipynb\">\n",
    "      <img src=\"https://cloud.google.com/ml-engine/images/colab-logo-32px.png\" alt=\"Google Colaboratory logo\">\n",
    "      <br>Run in<br>Colab\n",
    "    </a>\n",
    "  </td>\n",
    "  <td style=\"text-align: center\">\n",
    "    <a href=\"https://console.cloud.google.com/vertex-ai/colab/import/https%3A//raw.githubusercontent.com/statmike/vertex-ai-mlops/main/03%20-%20BigQuery%20ML%20%28BQML%29/BQML%20Ensemble%20Example.ipynb\">\n",
    "      <img width=\"32px\" src=\"https://lh3.googleusercontent.com/JmcxdQi-qOpctIvWKgPtrzZdJJK-J3sWE1RsfjZNwshCFgE_9fULcNpuXYTilIR2hjwN\" alt=\"Google Cloud Colab Enterprise logo\">\n",
    "      <br>Run in<br>Colab Enterprise\n",
    "    </a>\n",
    "  </td>      \n",
    "  <td style=\"text-align: center\">\n",
    "    <a href=\"https://github.com/statmike/vertex-ai-mlops/blob/main/03%20-%20BigQuery%20ML%20%28BQML%29/BQML%20Ensemble%20Example.ipynb\">\n",
    "      <img src=\"https://cloud.google.com/ml-engine/images/github-logo-32px.png\" alt=\"GitHub logo\">\n",
    "      <br>View on<br>GitHub\n",
    "    </a>\n",
    "  </td>\n",
    "  <td style=\"text-align: center\">\n",
    "    <a href=\"https://console.cloud.google.com/vertex-ai/workbench/deploy-notebook?download_url=https%3A//raw.githubusercontent.com/statmike/vertex-ai-mlops/main/03%20-%20BigQuery%20ML%20%28BQML%29/BQML%20Ensemble%20Example.ipynb\">\n",
    "      <img src=\"https://lh3.googleusercontent.com/UiNooY4LUgW_oTvpsNhPpQzsstV5W8F7rYgxgGBD85cWJoLmrOzhVs_ksK_vgx40SHs7jCqkTkCk=e14-rj-sc0xffffff-h130-w32\" alt=\"Vertex AI logo\">\n",
    "      <br>Open in<br>Vertex AI Workbench\n",
    "    </a>\n",
    "  </td>\n",
    "</table>"
   ]
  },
  {
   "cell_type": "markdown",
   "id": "555f6c72-f12d-426c-a53b-98b8474e2f14",
   "metadata": {},
   "source": [
    "# BQML Ensemble Examples\n",
    "\n",
    "This notebook will examine using BQML to create an ensemble model. Specifially, a **stacked** ensemble model that combines the models created in notebooks `03a` through `03f`.\n",
    "\n",
    "An ensemble is an approach to combining several machine learning models in order to make a better model.  Better how?  Low bias, and (or) variance.\n",
    "\n",
    "**Bagging**\n",
    "\n",
    "Baggins is taking multiple subsamples of the training data by randomly selecting rows, and maybe even columns.  Each subsample is missing some training rows and possible has duplicates of others (sampling with replacement).  One such method that is built around the concept of bagging is random forest.  Named this because it fits separate decision trees to each subsample and then combines, ensembles, to create a prediction.  Consider BigQuery ML with `model_type` = `'RANDOM_FOREST_CLASSIFIER'` or `'RANDOM_FOREST_REGRESSOR'`.  \n",
    "- The number of subsamples (trees) is driven by the `NUM_PARALLEL_TREE` option which defaults to 50\n",
    "- The number of rows in each subsample is driven by the `SUBSAMPLE` option which defaults to 0.8 (80%)\n",
    "- The number of columns chosen for each subsample is driven by the parameter `COLSAMPLE_BYTREE` option which defaults to 1 (all columns)\n",
    "\n",
    "The averaging of models from subsamples is effective at reducing the model variance.\n",
    "\n",
    "**Boosting**\n",
    "\n",
    "Boosting is iteratively building a model by fitting a new model for the residuals of a prior iteration and then adding its prediction to the overall ensemble model. Each iteration attempts to fix the mistakes left behind by the prior iterations.  One such method that is built around the concept of boosting is boosted trees.  Called this because it fits short trees iteratively.  Consider BigQuery ML with `model_type` = `'BOOSTED_TREE_CLASSIFIER'` or `'BOOSTED_TREE_REGRESSOR'`.\n",
    "- The number of iterations for boosting is set by the `MAX_ITERATIONS` option which defaults to 20\n",
    "- If the progress of each iteration slows down then it can be stopped if the `EARLY_STOP` option is set to `TRUE` (the default)\n",
    "    - The progress of training continues until the loss improvement falls below the `MIN_REL_PROGRESS` option which defaults to 0.01\n",
    "\n",
    "The iterations of boosting are effective at reducing the model bias.\n",
    "\n",
    "**Stacking**\n",
    "\n",
    "Combine the predictions from multiple models to make an overall prediction.  This is a meta-model, or model of models.  It can be comprised of different types of models.  The meta-model is trained using the individual models predictions as features.  This notebook will show how to create a stacked model in BigQuery ML.\n",
    "\n",
    "This can be very effective at controlling bias from individual models while reducing the overall variance.\n",
    "\n",
    "---\n",
    "\n",
    "**Prerequisites:**\n",
    "- [01 - BigQuery - Table Data Source](../01%20-%20Data%20Sources/01%20-%20BigQuery%20-%20Table%20Data%20Source.ipynb)\n",
    "- Multiple Notebooks From: `03a`, `03b`, `03c`, `03d`, `03e`, `03f`\n",
    "\n",
    "**Resources:**\n",
    "- [BigQuery ML (BQML) Overview](https://cloud.google.com/bigquery-ml/docs/introduction)\n",
    "- [Overview of BQML methods and workflows](https://cloud.google.com/bigquery-ml/docs/reference/standard-sql/bigqueryml-syntax-e2e-journey)\n",
    "- [BigQuery](https://cloud.google.com/bigquery)\n",
    "    - [Documentation:](https://cloud.google.com/bigquery/docs/query-overview)\n",
    "    - [API:](https://cloud.google.com/bigquery/docs/reference/libraries-overview)\n",
    "        - [Clients](https://cloud.google.com/bigquery/docs/reference/libraries)\n",
    "            - [Python SDK:](https://github.com/googleapis/python-bigquery)\n",
    "            - [Python Library Reference:](https://cloud.google.com/python/docs/reference/bigquery/latest)\n",
    "- [Vertex AI](https://cloud.google.com/vertex-ai)\n",
    "    - [Documentation:](https://cloud.google.com/vertex-ai/docs/start/introduction-unified-platform)\n",
    "    - [API:](https://cloud.google.com/vertex-ai/docs/reference)\n",
    "        - [Clients:](https://cloud.google.com/vertex-ai/docs/start/client-libraries)\n",
    "            - [Python SDK:](https://github.com/googleapis/python-aiplatform)\n",
    "            - [Python Library Reference:](https://cloud.google.com/python/docs/reference/aiplatform/latest)"
   ]
  },
  {
   "cell_type": "markdown",
   "id": "de52a9b3-4e13-4183-94b3-90cb926c8880",
   "metadata": {},
   "source": [
    "---\n",
    "## Colab Setup\n",
    "\n",
    "To run this notebook in Colab click [![Open In Colab](https://colab.research.google.com/assets/colab-badge.svg)](https://colab.research.google.com/github/statmike/vertex-ai-mlops/blob/main/03%20-%20BigQuery%20ML%20(BQML)/BQML%20Ensemble%20Example.ipynb) and run the cells in this section.  Otherwise, skip this section.\n",
    "\n",
    "This cell will authenticate to GCP (follow prompts in the popup). "
   ]
  },
  {
   "cell_type": "code",
   "execution_count": 475,
   "id": "29e2b2a2-2014-4393-bdf1-37d12ba3adde",
   "metadata": {},
   "outputs": [
    {
     "name": "stdout",
     "output_type": "stream",
     "text": [
      "Updated property [core/project].\n"
     ]
    }
   ],
   "source": [
    "PROJECT_ID = 'statmike-mlops-349915' # replace with project ID"
   ]
  },
  {
   "cell_type": "code",
   "execution_count": 473,
   "id": "ddfcdb87-d6af-4df0-aa62-2f23b0405915",
   "metadata": {},
   "outputs": [],
   "source": [
    "try:\n",
    "    import google.colab\n",
    "    from google.colab import auth\n",
    "    auth.authenticate_user()\n",
    "    !gcloud config set project {PROJECT_ID}\n",
    "except Exception:\n",
    "    pass"
   ]
  },
  {
   "cell_type": "markdown",
   "id": "39373eae-d9be-4f65-a167-47e078bc2643",
   "metadata": {},
   "source": [
    "---\n",
    "## Setup"
   ]
  },
  {
   "cell_type": "markdown",
   "id": "204bac5c-5d8f-446f-a1ce-2a6ce4f4f986",
   "metadata": {},
   "source": [
    "inputs:"
   ]
  },
  {
   "cell_type": "code",
   "execution_count": 2,
   "id": "0954b7dd-c251-4e09-ab47-5820b5873f6b",
   "metadata": {},
   "outputs": [
    {
     "data": {
      "text/plain": [
       "'statmike-mlops-349915'"
      ]
     },
     "execution_count": 2,
     "metadata": {},
     "output_type": "execute_result"
    }
   ],
   "source": [
    "project = !gcloud config get-value project\n",
    "PROJECT_ID = project[0]\n",
    "PROJECT_ID"
   ]
  },
  {
   "cell_type": "code",
   "execution_count": 3,
   "id": "9c9132e0-2aab-4923-bf6d-9f3a7f61bc15",
   "metadata": {},
   "outputs": [],
   "source": [
    "REGION = 'us-central1'\n",
    "EXPERIMENT = 'ensemble'\n",
    "SERIES = '03'\n",
    "\n",
    "# source data\n",
    "BQ_PROJECT = PROJECT_ID\n",
    "BQ_DATASET = 'fraud'\n",
    "BQ_TABLE = 'fraud_prepped'\n",
    "\n",
    "# Model Training\n",
    "VAR_TARGET = 'Class'\n",
    "VAR_OMIT = 'transaction_id' # add more variables to the string with space delimiters"
   ]
  },
  {
   "cell_type": "markdown",
   "id": "ab69e80f-0f79-4396-b413-beddffb5cf57",
   "metadata": {},
   "source": [
    "packages:"
   ]
  },
  {
   "cell_type": "code",
   "execution_count": 4,
   "id": "fe747672-6c23-436c-a437-d0d1ebd11cf2",
   "metadata": {},
   "outputs": [],
   "source": [
    "from google.cloud import bigquery\n",
    "from datetime import datetime\n",
    "import matplotlib.pyplot as plt\n",
    "from sklearn import metrics"
   ]
  },
  {
   "cell_type": "markdown",
   "id": "d244f12b-3d2a-4366-aa07-8cf4df6253bd",
   "metadata": {},
   "source": [
    "clients:"
   ]
  },
  {
   "cell_type": "code",
   "execution_count": 5,
   "id": "c8474728-6ac0-4f90-be4e-827b6297e04c",
   "metadata": {},
   "outputs": [],
   "source": [
    "bq = bigquery.Client(project = PROJECT_ID)"
   ]
  },
  {
   "cell_type": "markdown",
   "id": "91615f3c-badd-41d5-b23f-28bc04624e92",
   "metadata": {},
   "source": [
    "parameters:"
   ]
  },
  {
   "cell_type": "code",
   "execution_count": 6,
   "id": "242783f8-c90d-4b2d-b916-21348fb231af",
   "metadata": {},
   "outputs": [],
   "source": [
    "TIMESTAMP = datetime.now().strftime(\"%Y%m%d%H%M%S\")\n",
    "RUN_NAME = f'run-{TIMESTAMP}'\n",
    "\n",
    "BQ_MODEL = f'{SERIES}_{EXPERIMENT}_{TIMESTAMP}'"
   ]
  },
  {
   "cell_type": "markdown",
   "id": "875ca21e-10d8-4b20-8ce9-1edb7ac16b41",
   "metadata": {},
   "source": [
    "---\n",
    "## Review Data\n",
    "\n",
    "The data source here was prepared in [01 - BigQuery - Table Data Source](../01%20-%20Data%20Sources/01%20-%20BigQuery%20-%20Table%20Data%20Source.ipynb).  In this notebook we will use prepared BigQuery table to build a model with BigQuery ML (BQML).\n",
    "\n",
    "This is a table of 284,807 credit card transactions classified as fradulant or normal in the column `Class`.  In order protect confidentiality, the original features have been transformed using [principle component analysis (PCA)](https://en.wikipedia.org/wiki/Principal_component_analysis) into 28 features named `V1, V2, ... V28` (float).  Two descriptive features are provided without transformation by PCA:\n",
    "- `Time` (integer) is the seconds elapsed between the transaction and the earliest transaction in the table\n",
    "- `Amount` (float) is the value of the transaction\n",
    "\n",
    "The data preparation included added splits for machine learning with a column named `splits` with 80% for training (`TRAIN`), 10% for validation (`VALIDATE`) and 10% for testing (`TEST`).  Additionally, a unique identifier was added to each transaction, `transaction_id`.  "
   ]
  },
  {
   "cell_type": "markdown",
   "id": "abdcdcec-0b67-4cd3-a3ce-3652cd18df8a",
   "metadata": {},
   "source": [
    "Review the number of records for each level of Class (VAR_TARGET) for each of the data splits:"
   ]
  },
  {
   "cell_type": "code",
   "execution_count": 7,
   "id": "ff09e056-b0f5-414e-8e82-d4d3c12159c7",
   "metadata": {},
   "outputs": [
    {
     "data": {
      "text/html": [
       "<div>\n",
       "<style scoped>\n",
       "    .dataframe tbody tr th:only-of-type {\n",
       "        vertical-align: middle;\n",
       "    }\n",
       "\n",
       "    .dataframe tbody tr th {\n",
       "        vertical-align: top;\n",
       "    }\n",
       "\n",
       "    .dataframe thead th {\n",
       "        text-align: right;\n",
       "    }\n",
       "</style>\n",
       "<table border=\"1\" class=\"dataframe\">\n",
       "  <thead>\n",
       "    <tr style=\"text-align: right;\">\n",
       "      <th></th>\n",
       "      <th>splits</th>\n",
       "      <th>Class</th>\n",
       "      <th>n</th>\n",
       "    </tr>\n",
       "  </thead>\n",
       "  <tbody>\n",
       "    <tr>\n",
       "      <th>0</th>\n",
       "      <td>TEST</td>\n",
       "      <td>0</td>\n",
       "      <td>28455</td>\n",
       "    </tr>\n",
       "    <tr>\n",
       "      <th>1</th>\n",
       "      <td>TEST</td>\n",
       "      <td>1</td>\n",
       "      <td>47</td>\n",
       "    </tr>\n",
       "    <tr>\n",
       "      <th>2</th>\n",
       "      <td>TRAIN</td>\n",
       "      <td>0</td>\n",
       "      <td>227664</td>\n",
       "    </tr>\n",
       "    <tr>\n",
       "      <th>3</th>\n",
       "      <td>TRAIN</td>\n",
       "      <td>1</td>\n",
       "      <td>397</td>\n",
       "    </tr>\n",
       "    <tr>\n",
       "      <th>4</th>\n",
       "      <td>VALIDATE</td>\n",
       "      <td>0</td>\n",
       "      <td>28196</td>\n",
       "    </tr>\n",
       "    <tr>\n",
       "      <th>5</th>\n",
       "      <td>VALIDATE</td>\n",
       "      <td>1</td>\n",
       "      <td>48</td>\n",
       "    </tr>\n",
       "  </tbody>\n",
       "</table>\n",
       "</div>"
      ],
      "text/plain": [
       "     splits  Class       n\n",
       "0      TEST      0   28455\n",
       "1      TEST      1      47\n",
       "2     TRAIN      0  227664\n",
       "3     TRAIN      1     397\n",
       "4  VALIDATE      0   28196\n",
       "5  VALIDATE      1      48"
      ]
     },
     "execution_count": 7,
     "metadata": {},
     "output_type": "execute_result"
    }
   ],
   "source": [
    "query = f\"\"\"\n",
    "SELECT splits, {VAR_TARGET}, count(*) as n\n",
    "FROM `{BQ_PROJECT}.{BQ_DATASET}.{BQ_TABLE}`\n",
    "GROUP BY splits, {VAR_TARGET}\n",
    "\"\"\"\n",
    "bq.query(query = query).to_dataframe()"
   ]
  },
  {
   "cell_type": "markdown",
   "id": "782d8af6-207b-4650-b2b8-fa353480a7f4",
   "metadata": {},
   "source": [
    "Further review the balance of the target variable (VAR_TARGET) for each split as a percentage of the split:"
   ]
  },
  {
   "cell_type": "code",
   "execution_count": 8,
   "id": "09b42087-032c-4775-97da-5e074bb4baa7",
   "metadata": {},
   "outputs": [
    {
     "data": {
      "text/html": [
       "<div>\n",
       "<style scoped>\n",
       "    .dataframe tbody tr th:only-of-type {\n",
       "        vertical-align: middle;\n",
       "    }\n",
       "\n",
       "    .dataframe tbody tr th {\n",
       "        vertical-align: top;\n",
       "    }\n",
       "\n",
       "    .dataframe thead th {\n",
       "        text-align: right;\n",
       "    }\n",
       "</style>\n",
       "<table border=\"1\" class=\"dataframe\">\n",
       "  <thead>\n",
       "    <tr style=\"text-align: right;\">\n",
       "      <th></th>\n",
       "      <th>splits</th>\n",
       "      <th>Class</th>\n",
       "      <th>n</th>\n",
       "      <th>total</th>\n",
       "      <th>n_pct_class</th>\n",
       "      <th>n_pct_split</th>\n",
       "      <th>class_pct_total</th>\n",
       "    </tr>\n",
       "  </thead>\n",
       "  <tbody>\n",
       "    <tr>\n",
       "      <th>0</th>\n",
       "      <td>TRAIN</td>\n",
       "      <td>1</td>\n",
       "      <td>397</td>\n",
       "      <td>284807</td>\n",
       "      <td>0.806911</td>\n",
       "      <td>0.001741</td>\n",
       "      <td>0.001727</td>\n",
       "    </tr>\n",
       "    <tr>\n",
       "      <th>1</th>\n",
       "      <td>TRAIN</td>\n",
       "      <td>0</td>\n",
       "      <td>227664</td>\n",
       "      <td>284807</td>\n",
       "      <td>0.800746</td>\n",
       "      <td>0.998259</td>\n",
       "      <td>0.998273</td>\n",
       "    </tr>\n",
       "    <tr>\n",
       "      <th>2</th>\n",
       "      <td>TEST</td>\n",
       "      <td>1</td>\n",
       "      <td>47</td>\n",
       "      <td>284807</td>\n",
       "      <td>0.095528</td>\n",
       "      <td>0.001649</td>\n",
       "      <td>0.001727</td>\n",
       "    </tr>\n",
       "    <tr>\n",
       "      <th>3</th>\n",
       "      <td>TEST</td>\n",
       "      <td>0</td>\n",
       "      <td>28455</td>\n",
       "      <td>284807</td>\n",
       "      <td>0.100083</td>\n",
       "      <td>0.998351</td>\n",
       "      <td>0.998273</td>\n",
       "    </tr>\n",
       "    <tr>\n",
       "      <th>4</th>\n",
       "      <td>VALIDATE</td>\n",
       "      <td>1</td>\n",
       "      <td>48</td>\n",
       "      <td>284807</td>\n",
       "      <td>0.097561</td>\n",
       "      <td>0.001699</td>\n",
       "      <td>0.001727</td>\n",
       "    </tr>\n",
       "    <tr>\n",
       "      <th>5</th>\n",
       "      <td>VALIDATE</td>\n",
       "      <td>0</td>\n",
       "      <td>28196</td>\n",
       "      <td>284807</td>\n",
       "      <td>0.099172</td>\n",
       "      <td>0.998301</td>\n",
       "      <td>0.998273</td>\n",
       "    </tr>\n",
       "  </tbody>\n",
       "</table>\n",
       "</div>"
      ],
      "text/plain": [
       "     splits  Class       n   total  n_pct_class  n_pct_split  class_pct_total\n",
       "0     TRAIN      1     397  284807     0.806911     0.001741         0.001727\n",
       "1     TRAIN      0  227664  284807     0.800746     0.998259         0.998273\n",
       "2      TEST      1      47  284807     0.095528     0.001649         0.001727\n",
       "3      TEST      0   28455  284807     0.100083     0.998351         0.998273\n",
       "4  VALIDATE      1      48  284807     0.097561     0.001699         0.001727\n",
       "5  VALIDATE      0   28196  284807     0.099172     0.998301         0.998273"
      ]
     },
     "execution_count": 8,
     "metadata": {},
     "output_type": "execute_result"
    }
   ],
   "source": [
    "query = f\"\"\"\n",
    "WITH\n",
    "    COUNTS as (SELECT splits, {VAR_TARGET}, count(*) as n FROM `{BQ_PROJECT}.{BQ_DATASET}.{BQ_TABLE}` GROUP BY splits, {VAR_TARGET})\n",
    "    \n",
    "SELECT *,\n",
    "    SUM(n) OVER() as total,\n",
    "    SAFE_DIVIDE(n, SUM(n) OVER(PARTITION BY {VAR_TARGET})) as n_pct_class,\n",
    "    SAFE_DIVIDE(n, SUM(n) OVER(PARTITION BY splits)) as n_pct_split,\n",
    "    SAFE_DIVIDE(SUM(n) OVER(PARTITION BY {VAR_TARGET}), SUM(n) OVER()) as class_pct_total\n",
    "FROM COUNTS\n",
    "\"\"\"\n",
    "review = bq.query(query = query).to_dataframe()\n",
    "review"
   ]
  },
  {
   "cell_type": "markdown",
   "id": "6e6fa12f-790c-46c7-81b5-c41eab0677a8",
   "metadata": {},
   "source": [
    "---\n",
    "## List Individual Models\n",
    "\n",
    "Get a list of models for this series of notebooks.  Filter to models that are part of the experiments `03a` through `03f` and if there is more than one model for an experiment take the most recent model."
   ]
  },
  {
   "cell_type": "code",
   "execution_count": 41,
   "id": "30c537bc-48d0-4729-a82b-a28c4cb06488",
   "metadata": {},
   "outputs": [
    {
     "name": "stdout",
     "output_type": "stream",
     "text": [
      "{'experiment': '03a', 'series': '03'} statmike-mlops-349915 fraud 03_03a_20221110162611\n",
      "{'experiment': '03b', 'series': '03'} statmike-mlops-349915 fraud 03_03b_20221003123639\n",
      "{'experiment': '03c', 'series': '03'} statmike-mlops-349915 fraud 03_03c_20221003125950\n",
      "{'experiment': '03d', 'series': '03'} statmike-mlops-349915 fraud 03_03d_20221003125956\n",
      "{'experiment': '03e', 'series': '03'} statmike-mlops-349915 fraud 03_03e_20221003130007\n",
      "{'experiment': '03f', 'series': '03'} statmike-mlops-349915 fraud 03_03f_20221003130014\n"
     ]
    }
   ],
   "source": [
    "models = []\n",
    "for m in bq.list_models(f'{BQ_PROJECT}.{BQ_DATASET}'):\n",
    "    if m.labels.get('series'):\n",
    "        if m.labels['series'] == SERIES and m.labels['experiment'].startswith(SERIES):\n",
    "            # store the first match\n",
    "            if len(models) == 0:\n",
    "                #print(m.model_id)\n",
    "                models += [m]\n",
    "            # if not the first match, check experiment and if duplicate replace the saved model in models\n",
    "            elif m.labels['experiment'] == models[-1].labels['experiment']:\n",
    "                #print(m.model_id)\n",
    "                models[-1] = m\n",
    "            # if not the first and not a duplicate then add to models\n",
    "            else:\n",
    "                #print(m.model_id)\n",
    "                models += [m]\n",
    "                \n",
    "for m in models: print(m.labels, m.project, m.dataset_id, m.model_id)"
   ]
  },
  {
   "cell_type": "markdown",
   "id": "7f14072c-aba9-4b74-8cf5-e4e99a3a337a",
   "metadata": {},
   "source": [
    "## Retrieve Predictions From A Model"
   ]
  },
  {
   "cell_type": "code",
   "execution_count": 65,
   "id": "676a05ab-ea8b-45be-b69f-8259cb621089",
   "metadata": {},
   "outputs": [
    {
     "name": "stdout",
     "output_type": "stream",
     "text": [
      "\n",
      "    SELECT Class, predicted_Class AS pred_03_03a_20221110162611, splits\n",
      "    FROM ML.PREDICT(\n",
      "        MODEL `statmike-mlops-349915.fraud.03_03a_20221110162611`,\n",
      "        (SELECT * FROM `statmike-mlops-349915.fraud.fraud_prepped`)\n",
      "    )\n",
      "\n"
     ]
    },
    {
     "data": {
      "text/html": [
       "<div>\n",
       "<style scoped>\n",
       "    .dataframe tbody tr th:only-of-type {\n",
       "        vertical-align: middle;\n",
       "    }\n",
       "\n",
       "    .dataframe tbody tr th {\n",
       "        vertical-align: top;\n",
       "    }\n",
       "\n",
       "    .dataframe thead th {\n",
       "        text-align: right;\n",
       "    }\n",
       "</style>\n",
       "<table border=\"1\" class=\"dataframe\">\n",
       "  <thead>\n",
       "    <tr style=\"text-align: right;\">\n",
       "      <th></th>\n",
       "      <th>Class</th>\n",
       "      <th>pred_03_03a_20221110162611</th>\n",
       "      <th>splits</th>\n",
       "    </tr>\n",
       "  </thead>\n",
       "  <tbody>\n",
       "    <tr>\n",
       "      <th>0</th>\n",
       "      <td>0</td>\n",
       "      <td>0</td>\n",
       "      <td>TEST</td>\n",
       "    </tr>\n",
       "    <tr>\n",
       "      <th>1</th>\n",
       "      <td>0</td>\n",
       "      <td>0</td>\n",
       "      <td>TEST</td>\n",
       "    </tr>\n",
       "    <tr>\n",
       "      <th>2</th>\n",
       "      <td>0</td>\n",
       "      <td>0</td>\n",
       "      <td>TEST</td>\n",
       "    </tr>\n",
       "    <tr>\n",
       "      <th>3</th>\n",
       "      <td>0</td>\n",
       "      <td>0</td>\n",
       "      <td>TEST</td>\n",
       "    </tr>\n",
       "    <tr>\n",
       "      <th>4</th>\n",
       "      <td>0</td>\n",
       "      <td>0</td>\n",
       "      <td>TEST</td>\n",
       "    </tr>\n",
       "  </tbody>\n",
       "</table>\n",
       "</div>"
      ],
      "text/plain": [
       "   Class  pred_03_03a_20221110162611 splits\n",
       "0      0                           0   TEST\n",
       "1      0                           0   TEST\n",
       "2      0                           0   TEST\n",
       "3      0                           0   TEST\n",
       "4      0                           0   TEST"
      ]
     },
     "execution_count": 65,
     "metadata": {},
     "output_type": "execute_result"
    }
   ],
   "source": [
    "m = models[0]\n",
    "\n",
    "pred_query = f\"\"\"\n",
    "    SELECT {VAR_TARGET}, predicted_{VAR_TARGET} AS pred_{m.model_id}, splits\n",
    "    FROM ML.PREDICT(\n",
    "        MODEL `{m.project}.{m.dataset_id}.{m.model_id}`,\n",
    "        (SELECT * FROM `{BQ_PROJECT}.{BQ_DATASET}.{BQ_TABLE}`)\n",
    "    )\n",
    "\"\"\"\n",
    "\n",
    "print(pred_query)\n",
    "\n",
    "bq.query(query = pred_query + 'LIMIT 5').to_dataframe()"
   ]
  },
  {
   "cell_type": "markdown",
   "id": "a5b9101d-bea9-49f5-9d79-b5c0a0d1a260",
   "metadata": {},
   "source": [
    "## Retrieve Predictions From All Models\n",
    "\n",
    "Construct a query that joins predictions from all of the models:"
   ]
  },
  {
   "cell_type": "code",
   "execution_count": 66,
   "id": "27d331a6-1ea3-4e07-ab44-6838ee497987",
   "metadata": {},
   "outputs": [
    {
     "name": "stdout",
     "output_type": "stream",
     "text": [
      "\n",
      "            SELECT *\n",
      "            FROM (\n",
      "                SELECT Class, predicted_Class AS pred_03_03a_20221110162611, transaction_id, splits\n",
      "                FROM ML.PREDICT(\n",
      "                    MODEL `statmike-mlops-349915.fraud.03_03a_20221110162611`,\n",
      "                    (SELECT * FROM `statmike-mlops-349915.fraud.fraud_prepped`)\n",
      "                )\n",
      "            )\n",
      "        \n",
      "            JOIN (\n",
      "                SELECT predicted_Class AS pred_03_03b_20221003123639, transaction_id, splits\n",
      "                FROM ML.PREDICT(\n",
      "                    MODEL `statmike-mlops-349915.fraud.03_03b_20221003123639`,\n",
      "                    (SELECT * FROM `statmike-mlops-349915.fraud.fraud_prepped`)\n",
      "                )            \n",
      "            ) USING(transaction_id, splits)\n",
      "        \n",
      "            JOIN (\n",
      "                SELECT predicted_Class AS pred_03_03c_20221003125950, transaction_id, splits\n",
      "                FROM ML.PREDICT(\n",
      "                    MODEL `statmike-mlops-349915.fraud.03_03c_20221003125950`,\n",
      "                    (SELECT * FROM `statmike-mlops-349915.fraud.fraud_prepped`)\n",
      "                )            \n",
      "            ) USING(transaction_id, splits)\n",
      "        \n",
      "            JOIN (\n",
      "                SELECT predicted_Class AS pred_03_03d_20221003125956, transaction_id, splits\n",
      "                FROM ML.PREDICT(\n",
      "                    MODEL `statmike-mlops-349915.fraud.03_03d_20221003125956`,\n",
      "                    (SELECT * FROM `statmike-mlops-349915.fraud.fraud_prepped`)\n",
      "                )            \n",
      "            ) USING(transaction_id, splits)\n",
      "        \n",
      "            JOIN (\n",
      "                SELECT predicted_Class AS pred_03_03e_20221003130007, transaction_id, splits\n",
      "                FROM ML.PREDICT(\n",
      "                    MODEL `statmike-mlops-349915.fraud.03_03e_20221003130007`,\n",
      "                    (SELECT * FROM `statmike-mlops-349915.fraud.fraud_prepped`)\n",
      "                )            \n",
      "            ) USING(transaction_id, splits)\n",
      "        \n",
      "            JOIN (\n",
      "                SELECT predicted_Class AS pred_03_03f_20221003130014, transaction_id, splits\n",
      "                FROM ML.PREDICT(\n",
      "                    MODEL `statmike-mlops-349915.fraud.03_03f_20221003130014`,\n",
      "                    (SELECT * FROM `statmike-mlops-349915.fraud.fraud_prepped`)\n",
      "                )            \n",
      "            ) USING(transaction_id, splits)\n",
      "        \n"
     ]
    }
   ],
   "source": [
    "# build the query that joins predictions from each model:\n",
    "for i, m in enumerate(models):\n",
    "    if i == 0:\n",
    "        pred_query = f\"\"\"\n",
    "            SELECT *\n",
    "            FROM (\n",
    "                SELECT {VAR_TARGET}, predicted_{VAR_TARGET} AS pred_{m.model_id}, transaction_id, splits\n",
    "                FROM ML.PREDICT(\n",
    "                    MODEL `{m.project}.{m.dataset_id}.{m.model_id}`,\n",
    "                    (SELECT * FROM `{BQ_PROJECT}.{BQ_DATASET}.{BQ_TABLE}`)\n",
    "                )\n",
    "            )\n",
    "        \"\"\"\n",
    "    else:\n",
    "        pred_query += f\"\"\"\n",
    "            JOIN (\n",
    "                SELECT predicted_{VAR_TARGET} AS pred_{m.model_id}, transaction_id, splits\n",
    "                FROM ML.PREDICT(\n",
    "                    MODEL `{m.project}.{m.dataset_id}.{m.model_id}`,\n",
    "                    (SELECT * FROM `{BQ_PROJECT}.{BQ_DATASET}.{BQ_TABLE}`)\n",
    "                )            \n",
    "            ) USING(transaction_id, splits)\n",
    "        \"\"\"\n",
    "\n",
    "print(pred_query)"
   ]
  },
  {
   "cell_type": "code",
   "execution_count": 67,
   "id": "c72da8c8-2912-4f9b-96ce-fbb77a016b0b",
   "metadata": {},
   "outputs": [
    {
     "data": {
      "text/html": [
       "<div>\n",
       "<style scoped>\n",
       "    .dataframe tbody tr th:only-of-type {\n",
       "        vertical-align: middle;\n",
       "    }\n",
       "\n",
       "    .dataframe tbody tr th {\n",
       "        vertical-align: top;\n",
       "    }\n",
       "\n",
       "    .dataframe thead th {\n",
       "        text-align: right;\n",
       "    }\n",
       "</style>\n",
       "<table border=\"1\" class=\"dataframe\">\n",
       "  <thead>\n",
       "    <tr style=\"text-align: right;\">\n",
       "      <th></th>\n",
       "      <th>transaction_id</th>\n",
       "      <th>splits</th>\n",
       "      <th>Class</th>\n",
       "      <th>pred_03_03a_20221110162611</th>\n",
       "      <th>pred_03_03b_20221003123639</th>\n",
       "      <th>pred_03_03c_20221003125950</th>\n",
       "      <th>pred_03_03d_20221003125956</th>\n",
       "      <th>pred_03_03e_20221003130007</th>\n",
       "      <th>pred_03_03f_20221003130014</th>\n",
       "    </tr>\n",
       "  </thead>\n",
       "  <tbody>\n",
       "    <tr>\n",
       "      <th>0</th>\n",
       "      <td>a1b10547-d270-48c0-b902-7a0f735dadc7</td>\n",
       "      <td>TEST</td>\n",
       "      <td>0</td>\n",
       "      <td>0</td>\n",
       "      <td>0</td>\n",
       "      <td>0</td>\n",
       "      <td>0</td>\n",
       "      <td>0</td>\n",
       "      <td>0</td>\n",
       "    </tr>\n",
       "    <tr>\n",
       "      <th>1</th>\n",
       "      <td>814c62c8-ade4-47d5-bf83-313b0aafdee5</td>\n",
       "      <td>TEST</td>\n",
       "      <td>0</td>\n",
       "      <td>0</td>\n",
       "      <td>0</td>\n",
       "      <td>0</td>\n",
       "      <td>0</td>\n",
       "      <td>0</td>\n",
       "      <td>0</td>\n",
       "    </tr>\n",
       "    <tr>\n",
       "      <th>2</th>\n",
       "      <td>d08a1bfa-85c5-4f1b-9537-1c5a93e6afd0</td>\n",
       "      <td>TEST</td>\n",
       "      <td>0</td>\n",
       "      <td>0</td>\n",
       "      <td>0</td>\n",
       "      <td>0</td>\n",
       "      <td>0</td>\n",
       "      <td>0</td>\n",
       "      <td>0</td>\n",
       "    </tr>\n",
       "    <tr>\n",
       "      <th>3</th>\n",
       "      <td>802f3307-8e5a-4475-b795-5d5d8d7d0120</td>\n",
       "      <td>TEST</td>\n",
       "      <td>0</td>\n",
       "      <td>0</td>\n",
       "      <td>0</td>\n",
       "      <td>0</td>\n",
       "      <td>0</td>\n",
       "      <td>0</td>\n",
       "      <td>0</td>\n",
       "    </tr>\n",
       "    <tr>\n",
       "      <th>4</th>\n",
       "      <td>c8a5b93a-1598-4689-80be-4f9f5df0b8ce</td>\n",
       "      <td>TEST</td>\n",
       "      <td>0</td>\n",
       "      <td>0</td>\n",
       "      <td>0</td>\n",
       "      <td>0</td>\n",
       "      <td>0</td>\n",
       "      <td>0</td>\n",
       "      <td>0</td>\n",
       "    </tr>\n",
       "  </tbody>\n",
       "</table>\n",
       "</div>"
      ],
      "text/plain": [
       "                         transaction_id splits  Class  \\\n",
       "0  a1b10547-d270-48c0-b902-7a0f735dadc7   TEST      0   \n",
       "1  814c62c8-ade4-47d5-bf83-313b0aafdee5   TEST      0   \n",
       "2  d08a1bfa-85c5-4f1b-9537-1c5a93e6afd0   TEST      0   \n",
       "3  802f3307-8e5a-4475-b795-5d5d8d7d0120   TEST      0   \n",
       "4  c8a5b93a-1598-4689-80be-4f9f5df0b8ce   TEST      0   \n",
       "\n",
       "   pred_03_03a_20221110162611  pred_03_03b_20221003123639  \\\n",
       "0                           0                           0   \n",
       "1                           0                           0   \n",
       "2                           0                           0   \n",
       "3                           0                           0   \n",
       "4                           0                           0   \n",
       "\n",
       "   pred_03_03c_20221003125950  pred_03_03d_20221003125956  \\\n",
       "0                           0                           0   \n",
       "1                           0                           0   \n",
       "2                           0                           0   \n",
       "3                           0                           0   \n",
       "4                           0                           0   \n",
       "\n",
       "   pred_03_03e_20221003130007  pred_03_03f_20221003130014  \n",
       "0                           0                           0  \n",
       "1                           0                           0  \n",
       "2                           0                           0  \n",
       "3                           0                           0  \n",
       "4                           0                           0  "
      ]
     },
     "execution_count": 67,
     "metadata": {},
     "output_type": "execute_result"
    }
   ],
   "source": [
    "bq.query(query = pred_query + 'LIMIT 5').to_dataframe()"
   ]
  },
  {
   "cell_type": "markdown",
   "id": "3b619d25-c605-4847-b05b-1cd5e057e380",
   "metadata": {},
   "source": [
    "---\n",
    "## Train Ensemble Model (Meta-Model)\n",
    "\n",
    "Create a stacked ensemble model can be done with any supervised approach.  In this example, logistic regression is used.\n",
    "\n",
    "Use BigQuery ML to train the stack ensemble model using multiclass logistic regression model:\n",
    "- [Logistic Regression](https://cloud.google.com/bigquery-ml/docs/reference/standard-sql/bigqueryml-syntax-create-glm) with BigQuery ML (BQML)\n",
    "- This uses the `splits` column that notebook `01` created\n",
    "- `data_split_method = CUSTOM` uses the column in `data_split_col` to assign training data for `FALSE` values and evaluation data for `TRUE` values.\n",
    "    - in this example the `WHERE splits != 'TEST'` statement filters out the test data and\n",
    "    - the `CASE` statement maps training data to FALSE and validation data to TRUE"
   ]
  },
  {
   "cell_type": "code",
   "execution_count": 68,
   "id": "0d791198-f50a-4b6d-af20-08c653fe5689",
   "metadata": {},
   "outputs": [
    {
     "name": "stdout",
     "output_type": "stream",
     "text": [
      "\n",
      "CREATE MODEL `statmike-mlops-349915.fraud.03_ensemble_20230215125354`\n",
      "OPTIONS (\n",
      "        model_type = 'LOGISTIC_REG',\n",
      "        auto_class_weights = TRUE,\n",
      "        input_label_cols = ['Class'],\n",
      "        enable_global_explain = TRUE,\n",
      "        data_split_col = 'custom_splits',\n",
      "        data_split_method = 'CUSTOM'\n",
      "    ) AS\n",
      "SELECT * EXCEPT(transaction_id, splits),\n",
      "    CASE\n",
      "        WHEN splits = 'TRAIN' THEN FALSE\n",
      "        ELSE TRUE\n",
      "    END AS custom_splits\n",
      "FROM (\n",
      "\n",
      "            SELECT *\n",
      "            FROM (\n",
      "                SELECT Class, predicted_Class AS pred_03_03a_20221110162611, transaction_id, splits\n",
      "                FROM ML.PREDICT(\n",
      "                    MODEL `statmike-mlops-349915.fraud.03_03a_20221110162611`,\n",
      "                    (SELECT * FROM `statmike-mlops-349915.fraud.fraud_prepped`)\n",
      "                )\n",
      "            )\n",
      "        \n",
      "            JOIN (\n",
      "                SELECT predicted_Class AS pred_03_03b_20221003123639, transaction_id, splits\n",
      "                FROM ML.PREDICT(\n",
      "                    MODEL `statmike-mlops-349915.fraud.03_03b_20221003123639`,\n",
      "                    (SELECT * FROM `statmike-mlops-349915.fraud.fraud_prepped`)\n",
      "                )            \n",
      "            ) USING(transaction_id, splits)\n",
      "        \n",
      "            JOIN (\n",
      "                SELECT predicted_Class AS pred_03_03c_20221003125950, transaction_id, splits\n",
      "                FROM ML.PREDICT(\n",
      "                    MODEL `statmike-mlops-349915.fraud.03_03c_20221003125950`,\n",
      "                    (SELECT * FROM `statmike-mlops-349915.fraud.fraud_prepped`)\n",
      "                )            \n",
      "            ) USING(transaction_id, splits)\n",
      "        \n",
      "            JOIN (\n",
      "                SELECT predicted_Class AS pred_03_03d_20221003125956, transaction_id, splits\n",
      "                FROM ML.PREDICT(\n",
      "                    MODEL `statmike-mlops-349915.fraud.03_03d_20221003125956`,\n",
      "                    (SELECT * FROM `statmike-mlops-349915.fraud.fraud_prepped`)\n",
      "                )            \n",
      "            ) USING(transaction_id, splits)\n",
      "        \n",
      "            JOIN (\n",
      "                SELECT predicted_Class AS pred_03_03e_20221003130007, transaction_id, splits\n",
      "                FROM ML.PREDICT(\n",
      "                    MODEL `statmike-mlops-349915.fraud.03_03e_20221003130007`,\n",
      "                    (SELECT * FROM `statmike-mlops-349915.fraud.fraud_prepped`)\n",
      "                )            \n",
      "            ) USING(transaction_id, splits)\n",
      "        \n",
      "            JOIN (\n",
      "                SELECT predicted_Class AS pred_03_03f_20221003130014, transaction_id, splits\n",
      "                FROM ML.PREDICT(\n",
      "                    MODEL `statmike-mlops-349915.fraud.03_03f_20221003130014`,\n",
      "                    (SELECT * FROM `statmike-mlops-349915.fraud.fraud_prepped`)\n",
      "                )            \n",
      "            ) USING(transaction_id, splits)\n",
      "        \n",
      ")\n",
      "WHERE splits != 'TEST'\n",
      "\n"
     ]
    }
   ],
   "source": [
    "model_query = f\"\"\"\n",
    "CREATE MODEL `{BQ_PROJECT}.{BQ_DATASET}.{BQ_MODEL}`\n",
    "OPTIONS (\n",
    "        model_type = 'LOGISTIC_REG',\n",
    "        auto_class_weights = TRUE,\n",
    "        input_label_cols = ['{VAR_TARGET}'],\n",
    "        enable_global_explain = TRUE,\n",
    "        data_split_col = 'custom_splits',\n",
    "        data_split_method = 'CUSTOM'\n",
    "    ) AS\n",
    "SELECT * EXCEPT(transaction_id, splits),\n",
    "    CASE\n",
    "        WHEN splits = 'TRAIN' THEN FALSE\n",
    "        ELSE TRUE\n",
    "    END AS custom_splits\n",
    "FROM (\n",
    "{pred_query}\n",
    ")\n",
    "WHERE splits != 'TEST'\n",
    "\"\"\"\n",
    "print(model_query)"
   ]
  },
  {
   "cell_type": "code",
   "execution_count": 69,
   "id": "c2266766-ad1f-4411-8b58-91c3b0fce4f7",
   "metadata": {},
   "outputs": [
    {
     "data": {
      "text/plain": [
       "<google.cloud.bigquery.table._EmptyRowIterator at 0x7f5de37aced0>"
      ]
     },
     "execution_count": 69,
     "metadata": {},
     "output_type": "execute_result"
    }
   ],
   "source": [
    "job = bq.query(query = model_query)\n",
    "job.result()"
   ]
  },
  {
   "cell_type": "code",
   "execution_count": 70,
   "id": "1b8e055d-7321-47da-a61e-8457325bd30a",
   "metadata": {},
   "outputs": [
    {
     "data": {
      "text/plain": [
       "238.873"
      ]
     },
     "execution_count": 70,
     "metadata": {},
     "output_type": "execute_result"
    }
   ],
   "source": [
    "(job.ended-job.started).total_seconds()"
   ]
  },
  {
   "cell_type": "markdown",
   "id": "18718d5b-b43a-40c0-84b3-33a603aa28f9",
   "metadata": {},
   "source": [
    "Add labels to the model in BigQuery:"
   ]
  },
  {
   "cell_type": "code",
   "execution_count": 71,
   "id": "36ae10ac-54bf-4596-ad1d-a2ddcddded81",
   "metadata": {},
   "outputs": [],
   "source": [
    "model = bq.get_model(f'{BQ_PROJECT}.{BQ_DATASET}.{BQ_MODEL}')\n",
    "model.labels = {'series' : f'{SERIES}', 'experiment' : f'{EXPERIMENT}'}\n",
    "model = bq.update_model(model, ['labels'])"
   ]
  },
  {
   "cell_type": "markdown",
   "id": "1d37451d-367b-4599-9cdd-f6af0ab65e3e",
   "metadata": {},
   "source": [
    "Review the Model Inputs, the feature information, with [ML.FEATURE_INFO](https://cloud.google.com/bigquery-ml/docs/reference/standard-sql/bigqueryml-syntax-feature):"
   ]
  },
  {
   "cell_type": "code",
   "execution_count": 72,
   "id": "2a8e79c4-77e3-4d40-a484-f8bbcfcf30a4",
   "metadata": {},
   "outputs": [
    {
     "data": {
      "text/html": [
       "<div>\n",
       "<style scoped>\n",
       "    .dataframe tbody tr th:only-of-type {\n",
       "        vertical-align: middle;\n",
       "    }\n",
       "\n",
       "    .dataframe tbody tr th {\n",
       "        vertical-align: top;\n",
       "    }\n",
       "\n",
       "    .dataframe thead th {\n",
       "        text-align: right;\n",
       "    }\n",
       "</style>\n",
       "<table border=\"1\" class=\"dataframe\">\n",
       "  <thead>\n",
       "    <tr style=\"text-align: right;\">\n",
       "      <th></th>\n",
       "      <th>input</th>\n",
       "      <th>min</th>\n",
       "      <th>max</th>\n",
       "      <th>mean</th>\n",
       "      <th>median</th>\n",
       "      <th>stddev</th>\n",
       "      <th>category_count</th>\n",
       "      <th>null_count</th>\n",
       "      <th>dimension</th>\n",
       "    </tr>\n",
       "  </thead>\n",
       "  <tbody>\n",
       "    <tr>\n",
       "      <th>0</th>\n",
       "      <td>pred_03_03a_20221110162611</td>\n",
       "      <td>0.0</td>\n",
       "      <td>1.0</td>\n",
       "      <td>0.019236</td>\n",
       "      <td>0.0</td>\n",
       "      <td>0.137354</td>\n",
       "      <td>NaN</td>\n",
       "      <td>0</td>\n",
       "      <td>NaN</td>\n",
       "    </tr>\n",
       "    <tr>\n",
       "      <th>1</th>\n",
       "      <td>pred_03_03b_20221003123639</td>\n",
       "      <td>0.0</td>\n",
       "      <td>1.0</td>\n",
       "      <td>0.004262</td>\n",
       "      <td>0.0</td>\n",
       "      <td>0.065145</td>\n",
       "      <td>NaN</td>\n",
       "      <td>0</td>\n",
       "      <td>NaN</td>\n",
       "    </tr>\n",
       "    <tr>\n",
       "      <th>2</th>\n",
       "      <td>pred_03_03c_20221003125950</td>\n",
       "      <td>0.0</td>\n",
       "      <td>1.0</td>\n",
       "      <td>0.002192</td>\n",
       "      <td>0.0</td>\n",
       "      <td>0.046772</td>\n",
       "      <td>NaN</td>\n",
       "      <td>0</td>\n",
       "      <td>NaN</td>\n",
       "    </tr>\n",
       "    <tr>\n",
       "      <th>3</th>\n",
       "      <td>pred_03_03d_20221003125956</td>\n",
       "      <td>0.0</td>\n",
       "      <td>1.0</td>\n",
       "      <td>0.001359</td>\n",
       "      <td>0.0</td>\n",
       "      <td>0.036844</td>\n",
       "      <td>NaN</td>\n",
       "      <td>0</td>\n",
       "      <td>NaN</td>\n",
       "    </tr>\n",
       "    <tr>\n",
       "      <th>4</th>\n",
       "      <td>pred_03_03e_20221003130007</td>\n",
       "      <td>0.0</td>\n",
       "      <td>1.0</td>\n",
       "      <td>0.001535</td>\n",
       "      <td>0.0</td>\n",
       "      <td>0.039145</td>\n",
       "      <td>NaN</td>\n",
       "      <td>0</td>\n",
       "      <td>NaN</td>\n",
       "    </tr>\n",
       "    <tr>\n",
       "      <th>5</th>\n",
       "      <td>pred_03_03f_20221003130014</td>\n",
       "      <td>0.0</td>\n",
       "      <td>1.0</td>\n",
       "      <td>0.019311</td>\n",
       "      <td>0.0</td>\n",
       "      <td>0.137615</td>\n",
       "      <td>NaN</td>\n",
       "      <td>0</td>\n",
       "      <td>NaN</td>\n",
       "    </tr>\n",
       "  </tbody>\n",
       "</table>\n",
       "</div>"
      ],
      "text/plain": [
       "                        input  min  max      mean  median    stddev  \\\n",
       "0  pred_03_03a_20221110162611  0.0  1.0  0.019236     0.0  0.137354   \n",
       "1  pred_03_03b_20221003123639  0.0  1.0  0.004262     0.0  0.065145   \n",
       "2  pred_03_03c_20221003125950  0.0  1.0  0.002192     0.0  0.046772   \n",
       "3  pred_03_03d_20221003125956  0.0  1.0  0.001359     0.0  0.036844   \n",
       "4  pred_03_03e_20221003130007  0.0  1.0  0.001535     0.0  0.039145   \n",
       "5  pred_03_03f_20221003130014  0.0  1.0  0.019311     0.0  0.137615   \n",
       "\n",
       "   category_count  null_count  dimension  \n",
       "0             NaN           0        NaN  \n",
       "1             NaN           0        NaN  \n",
       "2             NaN           0        NaN  \n",
       "3             NaN           0        NaN  \n",
       "4             NaN           0        NaN  \n",
       "5             NaN           0        NaN  "
      ]
     },
     "execution_count": 72,
     "metadata": {},
     "output_type": "execute_result"
    }
   ],
   "source": [
    "feature_info = bq.query(\n",
    "    query = f\"\"\"\n",
    "        SELECT *\n",
    "        FROM ML.FEATURE_INFO(MODEL `{BQ_PROJECT}.{BQ_DATASET}.{BQ_MODEL}`)\n",
    "        \"\"\"\n",
    ").to_dataframe()\n",
    "feature_info"
   ]
  },
  {
   "cell_type": "markdown",
   "id": "ffd757e2-cd68-477e-8b72-d85273f2aa70",
   "metadata": {},
   "source": [
    "Review the iterations from training with [ML.TRAINING_INFO](https://cloud.google.com/bigquery-ml/docs/reference/standard-sql/bigqueryml-syntax-train):"
   ]
  },
  {
   "cell_type": "code",
   "execution_count": 73,
   "id": "3c2578cc-c5ca-487b-a1fa-4b4c89a3374c",
   "metadata": {},
   "outputs": [
    {
     "data": {
      "text/html": [
       "<div>\n",
       "<style scoped>\n",
       "    .dataframe tbody tr th:only-of-type {\n",
       "        vertical-align: middle;\n",
       "    }\n",
       "\n",
       "    .dataframe tbody tr th {\n",
       "        vertical-align: top;\n",
       "    }\n",
       "\n",
       "    .dataframe thead th {\n",
       "        text-align: right;\n",
       "    }\n",
       "</style>\n",
       "<table border=\"1\" class=\"dataframe\">\n",
       "  <thead>\n",
       "    <tr style=\"text-align: right;\">\n",
       "      <th></th>\n",
       "      <th>training_run</th>\n",
       "      <th>iteration</th>\n",
       "      <th>loss</th>\n",
       "      <th>eval_loss</th>\n",
       "      <th>learning_rate</th>\n",
       "      <th>duration_ms</th>\n",
       "    </tr>\n",
       "  </thead>\n",
       "  <tbody>\n",
       "    <tr>\n",
       "      <th>0</th>\n",
       "      <td>0</td>\n",
       "      <td>0</td>\n",
       "      <td>0.681734</td>\n",
       "      <td>0.685453</td>\n",
       "      <td>0.1</td>\n",
       "      <td>7947</td>\n",
       "    </tr>\n",
       "    <tr>\n",
       "      <th>1</th>\n",
       "      <td>0</td>\n",
       "      <td>1</td>\n",
       "      <td>0.658896</td>\n",
       "      <td>0.662533</td>\n",
       "      <td>0.2</td>\n",
       "      <td>9849</td>\n",
       "    </tr>\n",
       "    <tr>\n",
       "      <th>2</th>\n",
       "      <td>0</td>\n",
       "      <td>2</td>\n",
       "      <td>0.615863</td>\n",
       "      <td>0.619338</td>\n",
       "      <td>0.4</td>\n",
       "      <td>10862</td>\n",
       "    </tr>\n",
       "    <tr>\n",
       "      <th>3</th>\n",
       "      <td>0</td>\n",
       "      <td>3</td>\n",
       "      <td>0.539543</td>\n",
       "      <td>0.542714</td>\n",
       "      <td>0.8</td>\n",
       "      <td>9736</td>\n",
       "    </tr>\n",
       "    <tr>\n",
       "      <th>4</th>\n",
       "      <td>0</td>\n",
       "      <td>4</td>\n",
       "      <td>0.419847</td>\n",
       "      <td>0.422520</td>\n",
       "      <td>1.6</td>\n",
       "      <td>10916</td>\n",
       "    </tr>\n",
       "    <tr>\n",
       "      <th>5</th>\n",
       "      <td>0</td>\n",
       "      <td>5</td>\n",
       "      <td>0.272321</td>\n",
       "      <td>0.274472</td>\n",
       "      <td>3.2</td>\n",
       "      <td>8976</td>\n",
       "    </tr>\n",
       "    <tr>\n",
       "      <th>6</th>\n",
       "      <td>0</td>\n",
       "      <td>6</td>\n",
       "      <td>0.146589</td>\n",
       "      <td>0.148507</td>\n",
       "      <td>6.4</td>\n",
       "      <td>11388</td>\n",
       "    </tr>\n",
       "    <tr>\n",
       "      <th>7</th>\n",
       "      <td>0</td>\n",
       "      <td>7</td>\n",
       "      <td>0.071642</td>\n",
       "      <td>0.073431</td>\n",
       "      <td>12.8</td>\n",
       "      <td>11920</td>\n",
       "    </tr>\n",
       "    <tr>\n",
       "      <th>8</th>\n",
       "      <td>0</td>\n",
       "      <td>8</td>\n",
       "      <td>0.036499</td>\n",
       "      <td>0.038194</td>\n",
       "      <td>25.6</td>\n",
       "      <td>8415</td>\n",
       "    </tr>\n",
       "    <tr>\n",
       "      <th>9</th>\n",
       "      <td>0</td>\n",
       "      <td>9</td>\n",
       "      <td>0.023028</td>\n",
       "      <td>0.025236</td>\n",
       "      <td>51.2</td>\n",
       "      <td>10193</td>\n",
       "    </tr>\n",
       "    <tr>\n",
       "      <th>10</th>\n",
       "      <td>0</td>\n",
       "      <td>10</td>\n",
       "      <td>0.013296</td>\n",
       "      <td>0.015009</td>\n",
       "      <td>51.2</td>\n",
       "      <td>9980</td>\n",
       "    </tr>\n",
       "  </tbody>\n",
       "</table>\n",
       "</div>"
      ],
      "text/plain": [
       "    training_run  iteration      loss  eval_loss  learning_rate  duration_ms\n",
       "0              0          0  0.681734   0.685453            0.1         7947\n",
       "1              0          1  0.658896   0.662533            0.2         9849\n",
       "2              0          2  0.615863   0.619338            0.4        10862\n",
       "3              0          3  0.539543   0.542714            0.8         9736\n",
       "4              0          4  0.419847   0.422520            1.6        10916\n",
       "5              0          5  0.272321   0.274472            3.2         8976\n",
       "6              0          6  0.146589   0.148507            6.4        11388\n",
       "7              0          7  0.071642   0.073431           12.8        11920\n",
       "8              0          8  0.036499   0.038194           25.6         8415\n",
       "9              0          9  0.023028   0.025236           51.2        10193\n",
       "10             0         10  0.013296   0.015009           51.2         9980"
      ]
     },
     "execution_count": 73,
     "metadata": {},
     "output_type": "execute_result"
    }
   ],
   "source": [
    "history = bq.query(\n",
    "    query = f\"\"\"\n",
    "        SELECT *\n",
    "        FROM ML.TRAINING_INFO(MODEL `{BQ_PROJECT}.{BQ_DATASET}.{BQ_MODEL}`)\n",
    "        ORDER BY iteration\"\"\"\n",
    ").to_dataframe()\n",
    "history"
   ]
  },
  {
   "cell_type": "markdown",
   "id": "6b95a126-dd4c-4487-8f84-ee1df578527b",
   "metadata": {},
   "source": [
    "Plot the loss history:"
   ]
  },
  {
   "cell_type": "code",
   "execution_count": 74,
   "id": "5b26f621-2543-4ec0-8dfa-ae38c0cf47a0",
   "metadata": {},
   "outputs": [
    {
     "data": {
      "text/plain": [
       "<AxesSubplot:xlabel='iteration'>"
      ]
     },
     "execution_count": 74,
     "metadata": {},
     "output_type": "execute_result"
    },
    {
     "data": {
      "image/png": "[encoded data removed]",
      "text/plain": [
       "<Figure size 720x360 with 1 Axes>"
      ]
     },
     "metadata": {
      "needs_background": "light"
     },
     "output_type": "display_data"
    }
   ],
   "source": [
    "history.plot(x = 'iteration', y = ['loss','eval_loss'], figsize = (10, 5), grid = True)"
   ]
  },
  {
   "cell_type": "markdown",
   "id": "cf8d1a77-7d04-4580-ac0e-06d56544a186",
   "metadata": {},
   "source": [
    "### Check out this model in BigQuery Console:\n",
    "- Make sure project selected is the one from this notebook\n",
    "- Under Explore, expand this project and dataset\n",
    "- Expand Models and select the model create here"
   ]
  },
  {
   "cell_type": "code",
   "execution_count": 75,
   "id": "de2401f0-6691-4de2-95b7-71ac1e5137ad",
   "metadata": {},
   "outputs": [
    {
     "name": "stdout",
     "output_type": "stream",
     "text": [
      "BigQuery Console for Project:\n",
      "https://console.cloud.google.com/bigquery?project=statmike-mlops-349915\n"
     ]
    }
   ],
   "source": [
    "print(f'BigQuery Console for Project:\\nhttps://console.cloud.google.com/bigquery?project={PROJECT_ID}')"
   ]
  },
  {
   "cell_type": "code",
   "execution_count": 76,
   "id": "18ea508c-eb93-4d6e-b6e7-51208199c922",
   "metadata": {},
   "outputs": [
    {
     "name": "stdout",
     "output_type": "stream",
     "text": [
      "Direct link to the model in BigQuery:\n",
      "https://console.cloud.google.com/bigquery?project=statmike-mlops-349915&ws=!1m5!1m4!5m3!1sstatmike-mlops-349915!2sfraud!3s03_ensemble_20230215125354\n"
     ]
    }
   ],
   "source": [
    "print(f'Direct link to the model in BigQuery:\\nhttps://console.cloud.google.com/bigquery?project={PROJECT_ID}&ws=!1m5!1m4!5m3!1s{PROJECT_ID}!2s{BQ_DATASET}!3s{BQ_MODEL}')"
   ]
  },
  {
   "cell_type": "markdown",
   "id": "31b4390b-f277-45d4-9f06-6925ab239a02",
   "metadata": {},
   "source": [
    "---\n",
    "## Evaluate Ensemble Model"
   ]
  },
  {
   "cell_type": "markdown",
   "id": "9c02bf58-5bc3-457a-a136-2f80f6f657a8",
   "metadata": {},
   "source": [
    "### Metrics"
   ]
  },
  {
   "cell_type": "markdown",
   "id": "e41d919c-3e8e-473a-9b93-9f9edad689c1",
   "metadata": {},
   "source": [
    "Review the model evaluation statistics on the splits with [ML.EVALUATE](https://cloud.google.com/bigquery-ml/docs/reference/standard-sql/bigqueryml-syntax-evaluate):"
   ]
  },
  {
   "cell_type": "code",
   "execution_count": 77,
   "id": "c49ac801-70d9-4eab-8265-9bd8a111b15a",
   "metadata": {},
   "outputs": [
    {
     "data": {
      "text/html": [
       "<div>\n",
       "<style scoped>\n",
       "    .dataframe tbody tr th:only-of-type {\n",
       "        vertical-align: middle;\n",
       "    }\n",
       "\n",
       "    .dataframe tbody tr th {\n",
       "        vertical-align: top;\n",
       "    }\n",
       "\n",
       "    .dataframe thead th {\n",
       "        text-align: right;\n",
       "    }\n",
       "</style>\n",
       "<table border=\"1\" class=\"dataframe\">\n",
       "  <thead>\n",
       "    <tr style=\"text-align: right;\">\n",
       "      <th></th>\n",
       "      <th>SPLIT</th>\n",
       "      <th>precision</th>\n",
       "      <th>recall</th>\n",
       "      <th>accuracy</th>\n",
       "      <th>f1_score</th>\n",
       "      <th>log_loss</th>\n",
       "      <th>roc_auc</th>\n",
       "    </tr>\n",
       "  </thead>\n",
       "  <tbody>\n",
       "    <tr>\n",
       "      <th>0</th>\n",
       "      <td>VALIDATE</td>\n",
       "      <td>0.727273</td>\n",
       "      <td>0.833333</td>\n",
       "      <td>0.999186</td>\n",
       "      <td>0.776699</td>\n",
       "      <td>0.015009</td>\n",
       "      <td>0.835745</td>\n",
       "    </tr>\n",
       "    <tr>\n",
       "      <th>1</th>\n",
       "      <td>TEST</td>\n",
       "      <td>0.780000</td>\n",
       "      <td>0.829787</td>\n",
       "      <td>0.999333</td>\n",
       "      <td>0.804124</td>\n",
       "      <td>0.014694</td>\n",
       "      <td>0.853373</td>\n",
       "    </tr>\n",
       "    <tr>\n",
       "      <th>2</th>\n",
       "      <td>TRAIN</td>\n",
       "      <td>0.789264</td>\n",
       "      <td>1.000000</td>\n",
       "      <td>0.999535</td>\n",
       "      <td>0.882222</td>\n",
       "      <td>0.013296</td>\n",
       "      <td>1.000000</td>\n",
       "    </tr>\n",
       "  </tbody>\n",
       "</table>\n",
       "</div>"
      ],
      "text/plain": [
       "      SPLIT  precision    recall  accuracy  f1_score  log_loss   roc_auc\n",
       "0  VALIDATE   0.727273  0.833333  0.999186  0.776699  0.015009  0.835745\n",
       "1      TEST   0.780000  0.829787  0.999333  0.804124  0.014694  0.853373\n",
       "2     TRAIN   0.789264  1.000000  0.999535  0.882222  0.013296  1.000000"
      ]
     },
     "execution_count": 77,
     "metadata": {},
     "output_type": "execute_result"
    }
   ],
   "source": [
    "query = f\"\"\"\n",
    "SELECT 'TEST' as SPLIT, * FROM ML.EVALUATE (MODEL `{BQ_PROJECT}.{BQ_DATASET}.{BQ_MODEL}`,\n",
    "    (SELECT * FROM ({pred_query}) WHERE SPLITS='TEST'))\n",
    "UNION ALL\n",
    "SELECT 'VALIDATE' as SPLIT, * FROM ML.EVALUATE (MODEL `{BQ_PROJECT}.{BQ_DATASET}.{BQ_MODEL}`,\n",
    "    (SELECT * FROM ({pred_query}) WHERE SPLITS='VALIDATE'))\n",
    "UNION ALL\n",
    "SELECT 'TRAIN' as SPLIT, * FROM ML.EVALUATE (MODEL `{BQ_PROJECT}.{BQ_DATASET}.{BQ_MODEL}`,\n",
    "    (SELECT * FROM ({pred_query}) WHERE SPLITS='TRAIN'))\n",
    "\"\"\"\n",
    "bq.query(query = query).to_dataframe()"
   ]
  },
  {
   "cell_type": "markdown",
   "id": "b01ab0eb-5d1b-4b6c-88d9-afd29496ed13",
   "metadata": {},
   "source": [
    "### Compare Metrics From Individual Models to Ensemble Model"
   ]
  },
  {
   "cell_type": "code",
   "execution_count": 109,
   "id": "de48bcaa-8fb4-44f3-ad9c-26dde6353d4d",
   "metadata": {},
   "outputs": [],
   "source": [
    "metric_query = f\"\"\"\n",
    "WITH\n",
    "    PREDS AS (\n",
    "{pred_query}\n",
    "    )\n",
    "SELECT '{BQ_MODEL}' as MODEL, * FROM ML.EVALUATE (MODEL `{BQ_PROJECT}.{BQ_DATASET}.{BQ_MODEL}`,\n",
    "    (SELECT * FROM PREDS WHERE SPLITS='TEST'))\n",
    "\"\"\"\n",
    "\n",
    "for m in models:\n",
    "    metric_query += f\"\"\"\n",
    "UNION ALL\n",
    "SELECT '{m.model_id}' as MODEL, precision, recall, accuracy, f1_score, log_loss, roc_auc FROM ML.EVALUATE (MODEL `{BQ_PROJECT}.{BQ_DATASET}.{m.model_id}`,\n",
    "    (SELECT * FROM `{BQ_PROJECT}.{BQ_DATASET}.{BQ_TABLE}` WHERE SPLITS='TEST'))    \n",
    "\"\"\"\n",
    "#print(metric_query)"
   ]
  },
  {
   "cell_type": "code",
   "execution_count": 108,
   "id": "f1dadbb3-6eef-4fc0-aa6f-489074f51aae",
   "metadata": {},
   "outputs": [
    {
     "data": {
      "text/html": [
       "<div>\n",
       "<style scoped>\n",
       "    .dataframe tbody tr th:only-of-type {\n",
       "        vertical-align: middle;\n",
       "    }\n",
       "\n",
       "    .dataframe tbody tr th {\n",
       "        vertical-align: top;\n",
       "    }\n",
       "\n",
       "    .dataframe thead th {\n",
       "        text-align: right;\n",
       "    }\n",
       "</style>\n",
       "<table border=\"1\" class=\"dataframe\">\n",
       "  <thead>\n",
       "    <tr style=\"text-align: right;\">\n",
       "      <th></th>\n",
       "      <th>MODEL</th>\n",
       "      <th>precision</th>\n",
       "      <th>recall</th>\n",
       "      <th>accuracy</th>\n",
       "      <th>f1_score</th>\n",
       "      <th>log_loss</th>\n",
       "      <th>roc_auc</th>\n",
       "    </tr>\n",
       "  </thead>\n",
       "  <tbody>\n",
       "    <tr>\n",
       "      <th>0</th>\n",
       "      <td>03_03a_20221110162611</td>\n",
       "      <td>0.079545</td>\n",
       "      <td>0.893617</td>\n",
       "      <td>0.982773</td>\n",
       "      <td>0.146087</td>\n",
       "      <td>0.115187</td>\n",
       "      <td>0.982009</td>\n",
       "    </tr>\n",
       "    <tr>\n",
       "      <th>1</th>\n",
       "      <td>03_03e_20221003130007</td>\n",
       "      <td>0.860465</td>\n",
       "      <td>0.787234</td>\n",
       "      <td>0.999439</td>\n",
       "      <td>0.822222</td>\n",
       "      <td>0.003116</td>\n",
       "      <td>0.964461</td>\n",
       "    </tr>\n",
       "    <tr>\n",
       "      <th>2</th>\n",
       "      <td>03_03b_20221003123639</td>\n",
       "      <td>0.352941</td>\n",
       "      <td>0.893617</td>\n",
       "      <td>0.997123</td>\n",
       "      <td>0.506024</td>\n",
       "      <td>0.059136</td>\n",
       "      <td>0.965114</td>\n",
       "    </tr>\n",
       "    <tr>\n",
       "      <th>3</th>\n",
       "      <td>03_03f_20221003130014</td>\n",
       "      <td>0.079545</td>\n",
       "      <td>0.893617</td>\n",
       "      <td>0.982773</td>\n",
       "      <td>0.146087</td>\n",
       "      <td>0.118337</td>\n",
       "      <td>0.979953</td>\n",
       "    </tr>\n",
       "    <tr>\n",
       "      <th>4</th>\n",
       "      <td>03_03d_20221003125956</td>\n",
       "      <td>0.861111</td>\n",
       "      <td>0.659574</td>\n",
       "      <td>0.999263</td>\n",
       "      <td>0.746988</td>\n",
       "      <td>0.003343</td>\n",
       "      <td>0.966299</td>\n",
       "    </tr>\n",
       "    <tr>\n",
       "      <th>5</th>\n",
       "      <td>03_03c_20221003125950</td>\n",
       "      <td>0.780000</td>\n",
       "      <td>0.829787</td>\n",
       "      <td>0.999333</td>\n",
       "      <td>0.804124</td>\n",
       "      <td>0.129526</td>\n",
       "      <td>0.973328</td>\n",
       "    </tr>\n",
       "    <tr>\n",
       "      <th>6</th>\n",
       "      <td>03_ensemble_20230215125354</td>\n",
       "      <td>0.780000</td>\n",
       "      <td>0.829787</td>\n",
       "      <td>0.999333</td>\n",
       "      <td>0.804124</td>\n",
       "      <td>0.014694</td>\n",
       "      <td>0.853373</td>\n",
       "    </tr>\n",
       "  </tbody>\n",
       "</table>\n",
       "</div>"
      ],
      "text/plain": [
       "                        MODEL  precision    recall  accuracy  f1_score  \\\n",
       "0       03_03a_20221110162611   0.079545  0.893617  0.982773  0.146087   \n",
       "1       03_03e_20221003130007   0.860465  0.787234  0.999439  0.822222   \n",
       "2       03_03b_20221003123639   0.352941  0.893617  0.997123  0.506024   \n",
       "3       03_03f_20221003130014   0.079545  0.893617  0.982773  0.146087   \n",
       "4       03_03d_20221003125956   0.861111  0.659574  0.999263  0.746988   \n",
       "5       03_03c_20221003125950   0.780000  0.829787  0.999333  0.804124   \n",
       "6  03_ensemble_20230215125354   0.780000  0.829787  0.999333  0.804124   \n",
       "\n",
       "   log_loss   roc_auc  \n",
       "0  0.115187  0.982009  \n",
       "1  0.003116  0.964461  \n",
       "2  0.059136  0.965114  \n",
       "3  0.118337  0.979953  \n",
       "4  0.003343  0.966299  \n",
       "5  0.129526  0.973328  \n",
       "6  0.014694  0.853373  "
      ]
     },
     "execution_count": 108,
     "metadata": {},
     "output_type": "execute_result"
    }
   ],
   "source": [
    "bq.query(query = metric_query).to_dataframe()"
   ]
  },
  {
   "cell_type": "markdown",
   "id": "9c6af30e-9c3d-4c5d-bfc8-a41f5aa8b306",
   "metadata": {},
   "source": [
    "### Confusion Matrix"
   ]
  },
  {
   "cell_type": "markdown",
   "id": "b9fc6c8e-7f07-4277-a8ee-f520c339ab06",
   "metadata": {},
   "source": [
    "Review the confusion matrix for each split with [ML.CONFUSION_MATRIX](https://cloud.google.com/bigquery-ml/docs/reference/standard-sql/bigqueryml-syntax-confusion):"
   ]
  },
  {
   "cell_type": "code",
   "execution_count": 78,
   "id": "6ac22b4b-0e7e-4ea3-804d-5ce9b50ca109",
   "metadata": {},
   "outputs": [
    {
     "data": {
      "text/html": [
       "<div>\n",
       "<style scoped>\n",
       "    .dataframe tbody tr th:only-of-type {\n",
       "        vertical-align: middle;\n",
       "    }\n",
       "\n",
       "    .dataframe tbody tr th {\n",
       "        vertical-align: top;\n",
       "    }\n",
       "\n",
       "    .dataframe thead th {\n",
       "        text-align: right;\n",
       "    }\n",
       "</style>\n",
       "<table border=\"1\" class=\"dataframe\">\n",
       "  <thead>\n",
       "    <tr style=\"text-align: right;\">\n",
       "      <th></th>\n",
       "      <th>expected_label</th>\n",
       "      <th>_0</th>\n",
       "      <th>_1</th>\n",
       "    </tr>\n",
       "  </thead>\n",
       "  <tbody>\n",
       "    <tr>\n",
       "      <th>0</th>\n",
       "      <td>0</td>\n",
       "      <td>227558</td>\n",
       "      <td>106</td>\n",
       "    </tr>\n",
       "    <tr>\n",
       "      <th>1</th>\n",
       "      <td>1</td>\n",
       "      <td>0</td>\n",
       "      <td>397</td>\n",
       "    </tr>\n",
       "  </tbody>\n",
       "</table>\n",
       "</div>"
      ],
      "text/plain": [
       "   expected_label      _0   _1\n",
       "0               0  227558  106\n",
       "1               1       0  397"
      ]
     },
     "execution_count": 78,
     "metadata": {},
     "output_type": "execute_result"
    }
   ],
   "source": [
    "query = f\"\"\"\n",
    "SELECT *\n",
    "FROM ML.CONFUSION_MATRIX (MODEL `{BQ_PROJECT}.{BQ_DATASET}.{BQ_MODEL}`,(\n",
    "    SELECT *\n",
    "    FROM ({pred_query})\n",
    "    WHERE splits = 'TRAIN')\n",
    "  )\n",
    "\"\"\"\n",
    "bq.query(query = query).to_dataframe()"
   ]
  },
  {
   "cell_type": "code",
   "execution_count": 79,
   "id": "396d04e2-6be8-4fa1-92ba-3112be881360",
   "metadata": {},
   "outputs": [
    {
     "data": {
      "text/html": [
       "<div>\n",
       "<style scoped>\n",
       "    .dataframe tbody tr th:only-of-type {\n",
       "        vertical-align: middle;\n",
       "    }\n",
       "\n",
       "    .dataframe tbody tr th {\n",
       "        vertical-align: top;\n",
       "    }\n",
       "\n",
       "    .dataframe thead th {\n",
       "        text-align: right;\n",
       "    }\n",
       "</style>\n",
       "<table border=\"1\" class=\"dataframe\">\n",
       "  <thead>\n",
       "    <tr style=\"text-align: right;\">\n",
       "      <th></th>\n",
       "      <th>expected_label</th>\n",
       "      <th>_0</th>\n",
       "      <th>_1</th>\n",
       "    </tr>\n",
       "  </thead>\n",
       "  <tbody>\n",
       "    <tr>\n",
       "      <th>0</th>\n",
       "      <td>0</td>\n",
       "      <td>28181</td>\n",
       "      <td>15</td>\n",
       "    </tr>\n",
       "    <tr>\n",
       "      <th>1</th>\n",
       "      <td>1</td>\n",
       "      <td>8</td>\n",
       "      <td>40</td>\n",
       "    </tr>\n",
       "  </tbody>\n",
       "</table>\n",
       "</div>"
      ],
      "text/plain": [
       "   expected_label     _0  _1\n",
       "0               0  28181  15\n",
       "1               1      8  40"
      ]
     },
     "execution_count": 79,
     "metadata": {},
     "output_type": "execute_result"
    }
   ],
   "source": [
    "query = f\"\"\"\n",
    "SELECT *\n",
    "FROM ML.CONFUSION_MATRIX (MODEL `{BQ_PROJECT}.{BQ_DATASET}.{BQ_MODEL}`,(\n",
    "    SELECT *\n",
    "    FROM ({pred_query})\n",
    "    WHERE splits = 'VALIDATE')\n",
    "  )\n",
    "\"\"\"\n",
    "bq.query(query = query).to_dataframe()"
   ]
  },
  {
   "cell_type": "code",
   "execution_count": 80,
   "id": "e479b7d4-bf5a-44ce-aba0-7bcc66bc1775",
   "metadata": {},
   "outputs": [
    {
     "data": {
      "text/html": [
       "<div>\n",
       "<style scoped>\n",
       "    .dataframe tbody tr th:only-of-type {\n",
       "        vertical-align: middle;\n",
       "    }\n",
       "\n",
       "    .dataframe tbody tr th {\n",
       "        vertical-align: top;\n",
       "    }\n",
       "\n",
       "    .dataframe thead th {\n",
       "        text-align: right;\n",
       "    }\n",
       "</style>\n",
       "<table border=\"1\" class=\"dataframe\">\n",
       "  <thead>\n",
       "    <tr style=\"text-align: right;\">\n",
       "      <th></th>\n",
       "      <th>expected_label</th>\n",
       "      <th>_0</th>\n",
       "      <th>_1</th>\n",
       "    </tr>\n",
       "  </thead>\n",
       "  <tbody>\n",
       "    <tr>\n",
       "      <th>0</th>\n",
       "      <td>0</td>\n",
       "      <td>28444</td>\n",
       "      <td>11</td>\n",
       "    </tr>\n",
       "    <tr>\n",
       "      <th>1</th>\n",
       "      <td>1</td>\n",
       "      <td>8</td>\n",
       "      <td>39</td>\n",
       "    </tr>\n",
       "  </tbody>\n",
       "</table>\n",
       "</div>"
      ],
      "text/plain": [
       "   expected_label     _0  _1\n",
       "0               0  28444  11\n",
       "1               1      8  39"
      ]
     },
     "execution_count": 80,
     "metadata": {},
     "output_type": "execute_result"
    }
   ],
   "source": [
    "query = f\"\"\"\n",
    "SELECT *\n",
    "FROM ML.CONFUSION_MATRIX (MODEL `{BQ_PROJECT}.{BQ_DATASET}.{BQ_MODEL}`,(\n",
    "    SELECT *\n",
    "    FROM ({pred_query})\n",
    "    WHERE splits = 'TEST')\n",
    "  )\n",
    "\"\"\"\n",
    "bq.query(query = query).to_dataframe()"
   ]
  },
  {
   "cell_type": "markdown",
   "id": "a2f0f798-3a4a-46c4-9e3b-0effc7d1fb9b",
   "metadata": {},
   "source": [
    "### ROC Curve\n",
    "\n",
    "Retrieve the ROC Curve for each split using [ML.ROC_CURVE](https://cloud.google.com/bigquery-ml/docs/reference/standard-sql/bigqueryml-syntax-roc):"
   ]
  },
  {
   "cell_type": "code",
   "execution_count": 81,
   "id": "986e6fc4-e3c6-4acb-886d-4c1b0f083d26",
   "metadata": {},
   "outputs": [
    {
     "data": {
      "text/html": [
       "<div>\n",
       "<style scoped>\n",
       "    .dataframe tbody tr th:only-of-type {\n",
       "        vertical-align: middle;\n",
       "    }\n",
       "\n",
       "    .dataframe tbody tr th {\n",
       "        vertical-align: top;\n",
       "    }\n",
       "\n",
       "    .dataframe thead th {\n",
       "        text-align: right;\n",
       "    }\n",
       "</style>\n",
       "<table border=\"1\" class=\"dataframe\">\n",
       "  <thead>\n",
       "    <tr style=\"text-align: right;\">\n",
       "      <th></th>\n",
       "      <th>threshold</th>\n",
       "      <th>recall</th>\n",
       "      <th>false_positive_rate</th>\n",
       "      <th>true_positives</th>\n",
       "      <th>false_positives</th>\n",
       "      <th>true_negatives</th>\n",
       "      <th>false_negatives</th>\n",
       "    </tr>\n",
       "  </thead>\n",
       "  <tbody>\n",
       "    <tr>\n",
       "      <th>0</th>\n",
       "      <td>1.000000</td>\n",
       "      <td>0.654912</td>\n",
       "      <td>0.000163</td>\n",
       "      <td>260</td>\n",
       "      <td>37</td>\n",
       "      <td>227627</td>\n",
       "      <td>137</td>\n",
       "    </tr>\n",
       "    <tr>\n",
       "      <th>1</th>\n",
       "      <td>0.010195</td>\n",
       "      <td>1.000000</td>\n",
       "      <td>0.979430</td>\n",
       "      <td>397</td>\n",
       "      <td>222981</td>\n",
       "      <td>4683</td>\n",
       "      <td>0</td>\n",
       "    </tr>\n",
       "    <tr>\n",
       "      <th>2</th>\n",
       "      <td>0.005762</td>\n",
       "      <td>1.000000</td>\n",
       "      <td>0.981855</td>\n",
       "      <td>397</td>\n",
       "      <td>223533</td>\n",
       "      <td>4131</td>\n",
       "      <td>0</td>\n",
       "    </tr>\n",
       "    <tr>\n",
       "      <th>3</th>\n",
       "      <td>0.003205</td>\n",
       "      <td>1.000000</td>\n",
       "      <td>0.997931</td>\n",
       "      <td>397</td>\n",
       "      <td>227193</td>\n",
       "      <td>471</td>\n",
       "      <td>0</td>\n",
       "    </tr>\n",
       "    <tr>\n",
       "      <th>4</th>\n",
       "      <td>0.000539</td>\n",
       "      <td>1.000000</td>\n",
       "      <td>1.000000</td>\n",
       "      <td>397</td>\n",
       "      <td>227664</td>\n",
       "      <td>0</td>\n",
       "      <td>0</td>\n",
       "    </tr>\n",
       "  </tbody>\n",
       "</table>\n",
       "</div>"
      ],
      "text/plain": [
       "   threshold    recall  false_positive_rate  true_positives  false_positives  \\\n",
       "0   1.000000  0.654912             0.000163             260               37   \n",
       "1   0.010195  1.000000             0.979430             397           222981   \n",
       "2   0.005762  1.000000             0.981855             397           223533   \n",
       "3   0.003205  1.000000             0.997931             397           227193   \n",
       "4   0.000539  1.000000             1.000000             397           227664   \n",
       "\n",
       "   true_negatives  false_negatives  \n",
       "0          227627              137  \n",
       "1            4683                0  \n",
       "2            4131                0  \n",
       "3             471                0  \n",
       "4               0                0  "
      ]
     },
     "execution_count": 81,
     "metadata": {},
     "output_type": "execute_result"
    }
   ],
   "source": [
    "query = f\"\"\"\n",
    "SELECT *\n",
    "FROM ML.ROC_CURVE (MODEL `{BQ_PROJECT}.{BQ_DATASET}.{BQ_MODEL}`,(\n",
    "    SELECT *\n",
    "    FROM ({pred_query})\n",
    "    WHERE splits = 'TRAIN')\n",
    "  )\n",
    "ORDER BY false_positive_rate\n",
    "\"\"\"\n",
    "train_roc = bq.query(query = query).to_dataframe()\n",
    "train_roc.head()"
   ]
  },
  {
   "cell_type": "code",
   "execution_count": 82,
   "id": "33caa93c-81da-46d6-8a57-a943952321dd",
   "metadata": {},
   "outputs": [
    {
     "data": {
      "text/html": [
       "<div>\n",
       "<style scoped>\n",
       "    .dataframe tbody tr th:only-of-type {\n",
       "        vertical-align: middle;\n",
       "    }\n",
       "\n",
       "    .dataframe tbody tr th {\n",
       "        vertical-align: top;\n",
       "    }\n",
       "\n",
       "    .dataframe thead th {\n",
       "        text-align: right;\n",
       "    }\n",
       "</style>\n",
       "<table border=\"1\" class=\"dataframe\">\n",
       "  <thead>\n",
       "    <tr style=\"text-align: right;\">\n",
       "      <th></th>\n",
       "      <th>threshold</th>\n",
       "      <th>recall</th>\n",
       "      <th>false_positive_rate</th>\n",
       "      <th>true_positives</th>\n",
       "      <th>false_positives</th>\n",
       "      <th>true_negatives</th>\n",
       "      <th>false_negatives</th>\n",
       "    </tr>\n",
       "  </thead>\n",
       "  <tbody>\n",
       "    <tr>\n",
       "      <th>0</th>\n",
       "      <td>1.000000</td>\n",
       "      <td>0.5625</td>\n",
       "      <td>0.000177</td>\n",
       "      <td>27</td>\n",
       "      <td>5</td>\n",
       "      <td>28191</td>\n",
       "      <td>21</td>\n",
       "    </tr>\n",
       "    <tr>\n",
       "      <th>1</th>\n",
       "      <td>0.010195</td>\n",
       "      <td>0.9375</td>\n",
       "      <td>0.977905</td>\n",
       "      <td>45</td>\n",
       "      <td>27573</td>\n",
       "      <td>623</td>\n",
       "      <td>3</td>\n",
       "    </tr>\n",
       "    <tr>\n",
       "      <th>2</th>\n",
       "      <td>0.005762</td>\n",
       "      <td>0.9375</td>\n",
       "      <td>0.981274</td>\n",
       "      <td>45</td>\n",
       "      <td>27668</td>\n",
       "      <td>528</td>\n",
       "      <td>3</td>\n",
       "    </tr>\n",
       "    <tr>\n",
       "      <th>3</th>\n",
       "      <td>0.003205</td>\n",
       "      <td>1.0000</td>\n",
       "      <td>0.997872</td>\n",
       "      <td>48</td>\n",
       "      <td>28136</td>\n",
       "      <td>60</td>\n",
       "      <td>0</td>\n",
       "    </tr>\n",
       "    <tr>\n",
       "      <th>4</th>\n",
       "      <td>0.000539</td>\n",
       "      <td>1.0000</td>\n",
       "      <td>1.000000</td>\n",
       "      <td>48</td>\n",
       "      <td>28196</td>\n",
       "      <td>0</td>\n",
       "      <td>0</td>\n",
       "    </tr>\n",
       "  </tbody>\n",
       "</table>\n",
       "</div>"
      ],
      "text/plain": [
       "   threshold  recall  false_positive_rate  true_positives  false_positives  \\\n",
       "0   1.000000  0.5625             0.000177              27                5   \n",
       "1   0.010195  0.9375             0.977905              45            27573   \n",
       "2   0.005762  0.9375             0.981274              45            27668   \n",
       "3   0.003205  1.0000             0.997872              48            28136   \n",
       "4   0.000539  1.0000             1.000000              48            28196   \n",
       "\n",
       "   true_negatives  false_negatives  \n",
       "0           28191               21  \n",
       "1             623                3  \n",
       "2             528                3  \n",
       "3              60                0  \n",
       "4               0                0  "
      ]
     },
     "execution_count": 82,
     "metadata": {},
     "output_type": "execute_result"
    }
   ],
   "source": [
    "query = f\"\"\"\n",
    "SELECT *\n",
    "FROM ML.ROC_CURVE (MODEL `{BQ_PROJECT}.{BQ_DATASET}.{BQ_MODEL}`,(\n",
    "    SELECT *\n",
    "    FROM ({pred_query})\n",
    "    WHERE splits = 'VALIDATE')\n",
    "  )\n",
    "ORDER BY false_positive_rate\n",
    "\"\"\"\n",
    "val_roc = bq.query(query = query).to_dataframe()\n",
    "val_roc.head()"
   ]
  },
  {
   "cell_type": "code",
   "execution_count": 83,
   "id": "b8eccd31-8d72-4f63-afb9-ba7baef4c4f1",
   "metadata": {},
   "outputs": [
    {
     "data": {
      "text/html": [
       "<div>\n",
       "<style scoped>\n",
       "    .dataframe tbody tr th:only-of-type {\n",
       "        vertical-align: middle;\n",
       "    }\n",
       "\n",
       "    .dataframe tbody tr th {\n",
       "        vertical-align: top;\n",
       "    }\n",
       "\n",
       "    .dataframe thead th {\n",
       "        text-align: right;\n",
       "    }\n",
       "</style>\n",
       "<table border=\"1\" class=\"dataframe\">\n",
       "  <thead>\n",
       "    <tr style=\"text-align: right;\">\n",
       "      <th></th>\n",
       "      <th>threshold</th>\n",
       "      <th>recall</th>\n",
       "      <th>false_positive_rate</th>\n",
       "      <th>true_positives</th>\n",
       "      <th>false_positives</th>\n",
       "      <th>true_negatives</th>\n",
       "      <th>false_negatives</th>\n",
       "    </tr>\n",
       "  </thead>\n",
       "  <tbody>\n",
       "    <tr>\n",
       "      <th>0</th>\n",
       "      <td>1.000000</td>\n",
       "      <td>0.659574</td>\n",
       "      <td>0.000176</td>\n",
       "      <td>31</td>\n",
       "      <td>5</td>\n",
       "      <td>28450</td>\n",
       "      <td>16</td>\n",
       "    </tr>\n",
       "    <tr>\n",
       "      <th>1</th>\n",
       "      <td>0.010195</td>\n",
       "      <td>0.957447</td>\n",
       "      <td>0.979722</td>\n",
       "      <td>45</td>\n",
       "      <td>27878</td>\n",
       "      <td>577</td>\n",
       "      <td>2</td>\n",
       "    </tr>\n",
       "    <tr>\n",
       "      <th>2</th>\n",
       "      <td>0.005762</td>\n",
       "      <td>0.957447</td>\n",
       "      <td>0.982147</td>\n",
       "      <td>45</td>\n",
       "      <td>27947</td>\n",
       "      <td>508</td>\n",
       "      <td>2</td>\n",
       "    </tr>\n",
       "    <tr>\n",
       "      <th>3</th>\n",
       "      <td>0.003205</td>\n",
       "      <td>0.957447</td>\n",
       "      <td>0.997681</td>\n",
       "      <td>45</td>\n",
       "      <td>28389</td>\n",
       "      <td>66</td>\n",
       "      <td>2</td>\n",
       "    </tr>\n",
       "    <tr>\n",
       "      <th>4</th>\n",
       "      <td>0.000539</td>\n",
       "      <td>1.000000</td>\n",
       "      <td>1.000000</td>\n",
       "      <td>47</td>\n",
       "      <td>28455</td>\n",
       "      <td>0</td>\n",
       "      <td>0</td>\n",
       "    </tr>\n",
       "  </tbody>\n",
       "</table>\n",
       "</div>"
      ],
      "text/plain": [
       "   threshold    recall  false_positive_rate  true_positives  false_positives  \\\n",
       "0   1.000000  0.659574             0.000176              31                5   \n",
       "1   0.010195  0.957447             0.979722              45            27878   \n",
       "2   0.005762  0.957447             0.982147              45            27947   \n",
       "3   0.003205  0.957447             0.997681              45            28389   \n",
       "4   0.000539  1.000000             1.000000              47            28455   \n",
       "\n",
       "   true_negatives  false_negatives  \n",
       "0           28450               16  \n",
       "1             577                2  \n",
       "2             508                2  \n",
       "3              66                2  \n",
       "4               0                0  "
      ]
     },
     "execution_count": 83,
     "metadata": {},
     "output_type": "execute_result"
    }
   ],
   "source": [
    "query = f\"\"\"\n",
    "SELECT *\n",
    "FROM ML.ROC_CURVE (MODEL `{BQ_PROJECT}.{BQ_DATASET}.{BQ_MODEL}`,(\n",
    "    SELECT *\n",
    "    FROM ({pred_query})\n",
    "    WHERE splits = 'TEST')\n",
    "  )\n",
    "ORDER BY false_positive_rate\n",
    "\"\"\"\n",
    "test_roc = bq.query(query = query).to_dataframe()\n",
    "test_roc.head()"
   ]
  },
  {
   "cell_type": "code",
   "execution_count": 84,
   "id": "a7494a5f-2aa3-4b52-ba03-5a4c4e0134a5",
   "metadata": {},
   "outputs": [
    {
     "data": {
      "image/png": "[encoded data removed]",
      "text/plain": [
       "<Figure size 1080x360 with 1 Axes>"
      ]
     },
     "metadata": {
      "needs_background": "light"
     },
     "output_type": "display_data"
    }
   ],
   "source": [
    "plt.figure(figsize=(15,5))\n",
    "plt.plot(train_roc['false_positive_rate'], train_roc['recall'], label='TRAIN')\n",
    "plt.plot(val_roc['false_positive_rate'], val_roc['recall'], label='VALIDATE')\n",
    "plt.plot(test_roc['false_positive_rate'], test_roc['recall'], label='TEST')\n",
    "plt.xlabel('False Positive Rate')\n",
    "plt.ylabel('True Positive Rate\\nRecall')\n",
    "plt.title('ROC Curves')\n",
    "plt.legend()\n",
    "plt.show()"
   ]
  },
  {
   "cell_type": "markdown",
   "id": "c09c7539-547c-46c4-9f72-6bb7d3045979",
   "metadata": {},
   "source": [
    "---\n",
    "## Predictions With BigQuery ML (BQML)"
   ]
  },
  {
   "cell_type": "markdown",
   "id": "912af45e-1ed0-4019-b75d-d30dc2bb5def",
   "metadata": {},
   "source": [
    "Create a pandas dataframe with retrieved predictions for the test data in the table using [ML.PREDICT](https://cloud.google.com/bigquery-ml/docs/reference/standard-sql/bigqueryml-syntax-predict):"
   ]
  },
  {
   "cell_type": "code",
   "execution_count": 110,
   "id": "11007445",
   "metadata": {},
   "outputs": [],
   "source": [
    "query = f\"\"\"\n",
    "SELECT *\n",
    "FROM ML.PREDICT (MODEL `{BQ_PROJECT}.{BQ_DATASET}.{BQ_MODEL}`,(\n",
    "    SELECT *\n",
    "    FROM ({pred_query})\n",
    "    WHERE splits = 'TEST')\n",
    "  )\n",
    "\"\"\"\n",
    "pred = bq.query(query = query).to_dataframe()"
   ]
  },
  {
   "cell_type": "markdown",
   "id": "d2ff1393-a5e5-4a8d-a987-8913f2fcd062",
   "metadata": {},
   "source": [
    "Review columns from the predictions - note that the query added columns with prefix `predicted_`"
   ]
  },
  {
   "cell_type": "code",
   "execution_count": 111,
   "id": "78c44b1f",
   "metadata": {},
   "outputs": [
    {
     "data": {
      "text/plain": [
       "Index(['predicted_Class', 'predicted_Class_probs', 'transaction_id', 'splits',\n",
       "       'Class', 'pred_03_03a_20221110162611', 'pred_03_03b_20221003123639',\n",
       "       'pred_03_03c_20221003125950', 'pred_03_03d_20221003125956',\n",
       "       'pred_03_03e_20221003130007', 'pred_03_03f_20221003130014'],\n",
       "      dtype='object')"
      ]
     },
     "execution_count": 111,
     "metadata": {},
     "output_type": "execute_result"
    }
   ],
   "source": [
    "pred.columns"
   ]
  },
  {
   "cell_type": "markdown",
   "id": "3c255d66-3d0e-4729-9310-b5bd792d9dad",
   "metadata": {},
   "source": [
    "Print the first few rows for the columns related to the actual and predicted values:"
   ]
  },
  {
   "cell_type": "code",
   "execution_count": 112,
   "id": "c66df846",
   "metadata": {},
   "outputs": [
    {
     "data": {
      "text/html": [
       "<div>\n",
       "<style scoped>\n",
       "    .dataframe tbody tr th:only-of-type {\n",
       "        vertical-align: middle;\n",
       "    }\n",
       "\n",
       "    .dataframe tbody tr th {\n",
       "        vertical-align: top;\n",
       "    }\n",
       "\n",
       "    .dataframe thead th {\n",
       "        text-align: right;\n",
       "    }\n",
       "</style>\n",
       "<table border=\"1\" class=\"dataframe\">\n",
       "  <thead>\n",
       "    <tr style=\"text-align: right;\">\n",
       "      <th></th>\n",
       "      <th>Class</th>\n",
       "      <th>predicted_Class</th>\n",
       "      <th>predicted_Class_probs</th>\n",
       "      <th>splits</th>\n",
       "    </tr>\n",
       "  </thead>\n",
       "  <tbody>\n",
       "    <tr>\n",
       "      <th>0</th>\n",
       "      <td>0</td>\n",
       "      <td>0</td>\n",
       "      <td>[{'label': 1, 'prob': 0.010195430896355544}, {...</td>\n",
       "      <td>TEST</td>\n",
       "    </tr>\n",
       "    <tr>\n",
       "      <th>1</th>\n",
       "      <td>0</td>\n",
       "      <td>0</td>\n",
       "      <td>[{'label': 1, 'prob': 0.010195430896355544}, {...</td>\n",
       "      <td>TEST</td>\n",
       "    </tr>\n",
       "    <tr>\n",
       "      <th>2</th>\n",
       "      <td>0</td>\n",
       "      <td>0</td>\n",
       "      <td>[{'label': 1, 'prob': 0.010195430896355544}, {...</td>\n",
       "      <td>TEST</td>\n",
       "    </tr>\n",
       "    <tr>\n",
       "      <th>3</th>\n",
       "      <td>0</td>\n",
       "      <td>0</td>\n",
       "      <td>[{'label': 1, 'prob': 0.010195430896355544}, {...</td>\n",
       "      <td>TEST</td>\n",
       "    </tr>\n",
       "    <tr>\n",
       "      <th>4</th>\n",
       "      <td>0</td>\n",
       "      <td>0</td>\n",
       "      <td>[{'label': 1, 'prob': 0.010195430896355544}, {...</td>\n",
       "      <td>TEST</td>\n",
       "    </tr>\n",
       "  </tbody>\n",
       "</table>\n",
       "</div>"
      ],
      "text/plain": [
       "   Class  predicted_Class                              predicted_Class_probs  \\\n",
       "0      0                0  [{'label': 1, 'prob': 0.010195430896355544}, {...   \n",
       "1      0                0  [{'label': 1, 'prob': 0.010195430896355544}, {...   \n",
       "2      0                0  [{'label': 1, 'prob': 0.010195430896355544}, {...   \n",
       "3      0                0  [{'label': 1, 'prob': 0.010195430896355544}, {...   \n",
       "4      0                0  [{'label': 1, 'prob': 0.010195430896355544}, {...   \n",
       "\n",
       "  splits  \n",
       "0   TEST  \n",
       "1   TEST  \n",
       "2   TEST  \n",
       "3   TEST  \n",
       "4   TEST  "
      ]
     },
     "execution_count": 112,
     "metadata": {},
     "output_type": "execute_result"
    }
   ],
   "source": [
    "pred[[VAR_TARGET, f'predicted_{VAR_TARGET}', f'predicted_{VAR_TARGET}_probs', 'splits']].head()"
   ]
  },
  {
   "cell_type": "markdown",
   "id": "a1773ffd-9c67-46dc-97d0-94b6dff35f1b",
   "metadata": {},
   "source": [
    "Notice the nested dictionary for predicted probabilities.  In BigQuery this is a Record type structure with nested fields for `label` and `prop`.  This is returned to the pandas dataframe as a nested dictionary.\n",
    "\n",
    "The following code sorts the dictionary for the first record by `prob`:"
   ]
  },
  {
   "cell_type": "code",
   "execution_count": 113,
   "id": "b213c1f7",
   "metadata": {},
   "outputs": [
    {
     "data": {
      "text/plain": [
       "[[{'label': 0, 'prob': 0.9898045691036444},\n",
       "  {'label': 1, 'prob': 0.010195430896355544}]]"
      ]
     },
     "execution_count": 113,
     "metadata": {},
     "output_type": "execute_result"
    }
   ],
   "source": [
    "exec('temp = pred.predicted_'+VAR_TARGET+'_probs[0]')\n",
    "[sorted(x, key = lambda x: x['label']) for x in [temp]]"
   ]
  },
  {
   "cell_type": "markdown",
   "id": "a3367d4c-a6bc-44bc-afb3-b9d057c5c1f1",
   "metadata": {},
   "source": [
    "---\n",
    "## Custom Eval Metrics\n",
    "Retrieve the predictions to a local dataframe and use [scikit-learn](https://scikit-learn.org/stable/index.html) metrics [fuctions](https://scikit-learn.org/stable/modules/model_evaluation.html) to do model evaluation."
   ]
  },
  {
   "cell_type": "code",
   "execution_count": 114,
   "id": "f5597c51-0624-4655-a1d8-84e39c163a15",
   "metadata": {},
   "outputs": [
    {
     "data": {
      "text/plain": [
       "array([[28444,    11],\n",
       "       [    8,    39]])"
      ]
     },
     "execution_count": 114,
     "metadata": {},
     "output_type": "execute_result"
    }
   ],
   "source": [
    "metrics.confusion_matrix(list(pred[f'{VAR_TARGET}']), list(pred[f'predicted_{VAR_TARGET}']))"
   ]
  },
  {
   "cell_type": "code",
   "execution_count": 115,
   "id": "fc2de447-e779-4b86-8a20-d7a724767255",
   "metadata": {},
   "outputs": [
    {
     "data": {
      "text/plain": [
       "<sklearn.metrics._plot.confusion_matrix.ConfusionMatrixDisplay at 0x7f5de35f6190>"
      ]
     },
     "execution_count": 115,
     "metadata": {},
     "output_type": "execute_result"
    },
    {
     "data": {
      "image/png": "[encoded data removed]",
      "text/plain": [
       "<Figure size 432x288 with 2 Axes>"
      ]
     },
     "metadata": {
      "needs_background": "light"
     },
     "output_type": "display_data"
    }
   ],
   "source": [
    "disp = metrics.ConfusionMatrixDisplay(\n",
    "    confusion_matrix = metrics.confusion_matrix(list(pred[f'{VAR_TARGET}']), list(pred[f'predicted_{VAR_TARGET}']))\n",
    ")\n",
    "disp.plot()"
   ]
  },
  {
   "cell_type": "code",
   "execution_count": 116,
   "id": "f12fc9e8-621e-4aa8-a0c2-fdcafce4a78c",
   "metadata": {},
   "outputs": [
    {
     "data": {
      "text/plain": [
       "0.9993333801136762"
      ]
     },
     "execution_count": 116,
     "metadata": {},
     "output_type": "execute_result"
    }
   ],
   "source": [
    "metrics.accuracy_score(list(pred[f'{VAR_TARGET}']), list(pred[f'predicted_{VAR_TARGET}']))"
   ]
  },
  {
   "cell_type": "code",
   "execution_count": 117,
   "id": "01edc1f5-bb23-4dab-833c-c1489d4ad355",
   "metadata": {},
   "outputs": [
    {
     "name": "stdout",
     "output_type": "stream",
     "text": [
      "              precision    recall  f1-score   support\n",
      "\n",
      "           0       1.00      1.00      1.00     28455\n",
      "           1       0.78      0.83      0.80        47\n",
      "\n",
      "    accuracy                           1.00     28502\n",
      "   macro avg       0.89      0.91      0.90     28502\n",
      "weighted avg       1.00      1.00      1.00     28502\n",
      "\n"
     ]
    }
   ],
   "source": [
    "print(metrics.classification_report(list(pred[f'{VAR_TARGET}']), list(pred[f'predicted_{VAR_TARGET}'])))"
   ]
  },
  {
   "cell_type": "markdown",
   "id": "b2548bd9-956f-405a-b4a8-d7861a1c95e1",
   "metadata": {},
   "source": [
    "---\n",
    "## Explanations\n",
    "[Built-in](https://cloud.google.com/bigquery-ml/docs/reference/standard-sql/bigqueryml-syntax-xai-overview) capabilities to understand how features contributed to predictions both individually (local) and overall (global)."
   ]
  },
  {
   "cell_type": "markdown",
   "id": "b5e89f9b-f618-44a5-9e21-01adce470d56",
   "metadata": {},
   "source": [
    "### Local Explainability\n",
    "Retrieve feature attribution values to interpret each features contribution to a prediction relative to the baseline prediction using [ML.EXPLAIN_PREDICT](https://cloud.google.com/bigquery-ml/docs/reference/standard-sql/bigqueryml-syntax-explain-predict)."
   ]
  },
  {
   "cell_type": "code",
   "execution_count": 118,
   "id": "219fd574-6971-4e8a-8805-fdd2d3514a69",
   "metadata": {},
   "outputs": [],
   "source": [
    "query = f\"\"\"\n",
    "SELECT *\n",
    "FROM ML.EXPLAIN_PREDICT (MODEL `{BQ_PROJECT}.{BQ_DATASET}.{BQ_MODEL}`,(\n",
    "    SELECT *\n",
    "    FROM ({pred_query})\n",
    "    WHERE splits = 'TEST'), STRUCT(10 as top_k_features)\n",
    "  )\n",
    "\"\"\"\n",
    "explain = bq.query(query = query).to_dataframe()"
   ]
  },
  {
   "cell_type": "code",
   "execution_count": 119,
   "id": "6b9e6324-b1c5-477d-95c8-c3338738fec0",
   "metadata": {},
   "outputs": [
    {
     "data": {
      "text/html": [
       "<div>\n",
       "<style scoped>\n",
       "    .dataframe tbody tr th:only-of-type {\n",
       "        vertical-align: middle;\n",
       "    }\n",
       "\n",
       "    .dataframe tbody tr th {\n",
       "        vertical-align: top;\n",
       "    }\n",
       "\n",
       "    .dataframe thead th {\n",
       "        text-align: right;\n",
       "    }\n",
       "</style>\n",
       "<table border=\"1\" class=\"dataframe\">\n",
       "  <thead>\n",
       "    <tr style=\"text-align: right;\">\n",
       "      <th></th>\n",
       "      <th>predicted_Class</th>\n",
       "      <th>probability</th>\n",
       "      <th>top_feature_attributions</th>\n",
       "      <th>baseline_prediction_value</th>\n",
       "      <th>prediction_value</th>\n",
       "      <th>approximation_error</th>\n",
       "      <th>transaction_id</th>\n",
       "      <th>splits</th>\n",
       "      <th>Class</th>\n",
       "      <th>pred_03_03a_20221110162611</th>\n",
       "      <th>pred_03_03b_20221003123639</th>\n",
       "      <th>pred_03_03c_20221003125950</th>\n",
       "      <th>pred_03_03d_20221003125956</th>\n",
       "      <th>pred_03_03e_20221003130007</th>\n",
       "      <th>pred_03_03f_20221003130014</th>\n",
       "    </tr>\n",
       "  </thead>\n",
       "  <tbody>\n",
       "    <tr>\n",
       "      <th>0</th>\n",
       "      <td>0</td>\n",
       "      <td>0.989805</td>\n",
       "      <td>[{'feature': 'pred_03_03c_20221003125950', 'at...</td>\n",
       "      <td>-4.566967</td>\n",
       "      <td>-4.575568</td>\n",
       "      <td>0.0</td>\n",
       "      <td>a1b10547-d270-48c0-b902-7a0f735dadc7</td>\n",
       "      <td>TEST</td>\n",
       "      <td>0</td>\n",
       "      <td>0</td>\n",
       "      <td>0</td>\n",
       "      <td>0</td>\n",
       "      <td>0</td>\n",
       "      <td>0</td>\n",
       "      <td>0</td>\n",
       "    </tr>\n",
       "    <tr>\n",
       "      <th>1</th>\n",
       "      <td>0</td>\n",
       "      <td>0.989805</td>\n",
       "      <td>[{'feature': 'pred_03_03c_20221003125950', 'at...</td>\n",
       "      <td>-4.566967</td>\n",
       "      <td>-4.575568</td>\n",
       "      <td>0.0</td>\n",
       "      <td>814c62c8-ade4-47d5-bf83-313b0aafdee5</td>\n",
       "      <td>TEST</td>\n",
       "      <td>0</td>\n",
       "      <td>0</td>\n",
       "      <td>0</td>\n",
       "      <td>0</td>\n",
       "      <td>0</td>\n",
       "      <td>0</td>\n",
       "      <td>0</td>\n",
       "    </tr>\n",
       "    <tr>\n",
       "      <th>2</th>\n",
       "      <td>0</td>\n",
       "      <td>0.989805</td>\n",
       "      <td>[{'feature': 'pred_03_03c_20221003125950', 'at...</td>\n",
       "      <td>-4.566967</td>\n",
       "      <td>-4.575568</td>\n",
       "      <td>0.0</td>\n",
       "      <td>d08a1bfa-85c5-4f1b-9537-1c5a93e6afd0</td>\n",
       "      <td>TEST</td>\n",
       "      <td>0</td>\n",
       "      <td>0</td>\n",
       "      <td>0</td>\n",
       "      <td>0</td>\n",
       "      <td>0</td>\n",
       "      <td>0</td>\n",
       "      <td>0</td>\n",
       "    </tr>\n",
       "    <tr>\n",
       "      <th>3</th>\n",
       "      <td>0</td>\n",
       "      <td>0.989805</td>\n",
       "      <td>[{'feature': 'pred_03_03c_20221003125950', 'at...</td>\n",
       "      <td>-4.566967</td>\n",
       "      <td>-4.575568</td>\n",
       "      <td>0.0</td>\n",
       "      <td>802f3307-8e5a-4475-b795-5d5d8d7d0120</td>\n",
       "      <td>TEST</td>\n",
       "      <td>0</td>\n",
       "      <td>0</td>\n",
       "      <td>0</td>\n",
       "      <td>0</td>\n",
       "      <td>0</td>\n",
       "      <td>0</td>\n",
       "      <td>0</td>\n",
       "    </tr>\n",
       "    <tr>\n",
       "      <th>4</th>\n",
       "      <td>0</td>\n",
       "      <td>0.989805</td>\n",
       "      <td>[{'feature': 'pred_03_03c_20221003125950', 'at...</td>\n",
       "      <td>-4.566967</td>\n",
       "      <td>-4.575568</td>\n",
       "      <td>0.0</td>\n",
       "      <td>c8a5b93a-1598-4689-80be-4f9f5df0b8ce</td>\n",
       "      <td>TEST</td>\n",
       "      <td>0</td>\n",
       "      <td>0</td>\n",
       "      <td>0</td>\n",
       "      <td>0</td>\n",
       "      <td>0</td>\n",
       "      <td>0</td>\n",
       "      <td>0</td>\n",
       "    </tr>\n",
       "  </tbody>\n",
       "</table>\n",
       "</div>"
      ],
      "text/plain": [
       "   predicted_Class  probability  \\\n",
       "0                0     0.989805   \n",
       "1                0     0.989805   \n",
       "2                0     0.989805   \n",
       "3                0     0.989805   \n",
       "4                0     0.989805   \n",
       "\n",
       "                            top_feature_attributions  \\\n",
       "0  [{'feature': 'pred_03_03c_20221003125950', 'at...   \n",
       "1  [{'feature': 'pred_03_03c_20221003125950', 'at...   \n",
       "2  [{'feature': 'pred_03_03c_20221003125950', 'at...   \n",
       "3  [{'feature': 'pred_03_03c_20221003125950', 'at...   \n",
       "4  [{'feature': 'pred_03_03c_20221003125950', 'at...   \n",
       "\n",
       "   baseline_prediction_value  prediction_value  approximation_error  \\\n",
       "0                  -4.566967         -4.575568                  0.0   \n",
       "1                  -4.566967         -4.575568                  0.0   \n",
       "2                  -4.566967         -4.575568                  0.0   \n",
       "3                  -4.566967         -4.575568                  0.0   \n",
       "4                  -4.566967         -4.575568                  0.0   \n",
       "\n",
       "                         transaction_id splits  Class  \\\n",
       "0  a1b10547-d270-48c0-b902-7a0f735dadc7   TEST      0   \n",
       "1  814c62c8-ade4-47d5-bf83-313b0aafdee5   TEST      0   \n",
       "2  d08a1bfa-85c5-4f1b-9537-1c5a93e6afd0   TEST      0   \n",
       "3  802f3307-8e5a-4475-b795-5d5d8d7d0120   TEST      0   \n",
       "4  c8a5b93a-1598-4689-80be-4f9f5df0b8ce   TEST      0   \n",
       "\n",
       "   pred_03_03a_20221110162611  pred_03_03b_20221003123639  \\\n",
       "0                           0                           0   \n",
       "1                           0                           0   \n",
       "2                           0                           0   \n",
       "3                           0                           0   \n",
       "4                           0                           0   \n",
       "\n",
       "   pred_03_03c_20221003125950  pred_03_03d_20221003125956  \\\n",
       "0                           0                           0   \n",
       "1                           0                           0   \n",
       "2                           0                           0   \n",
       "3                           0                           0   \n",
       "4                           0                           0   \n",
       "\n",
       "   pred_03_03e_20221003130007  pred_03_03f_20221003130014  \n",
       "0                           0                           0  \n",
       "1                           0                           0  \n",
       "2                           0                           0  \n",
       "3                           0                           0  \n",
       "4                           0                           0  "
      ]
     },
     "execution_count": 119,
     "metadata": {},
     "output_type": "execute_result"
    }
   ],
   "source": [
    "explain.head()"
   ]
  },
  {
   "cell_type": "markdown",
   "id": "0ddf3bcf-25f3-4ede-a772-61c47941fc62",
   "metadata": {},
   "source": [
    "Create a plot of feature attributions for a single prediction:"
   ]
  },
  {
   "cell_type": "code",
   "execution_count": 120,
   "id": "d9d6f625-5d5b-4017-b7b0-ccb59148ee62",
   "metadata": {},
   "outputs": [],
   "source": [
    "explanation = explain.iloc[0]['top_feature_attributions']"
   ]
  },
  {
   "cell_type": "code",
   "execution_count": 121,
   "id": "3645d9e5-b411-40f2-953a-c45a2c160664",
   "metadata": {},
   "outputs": [
    {
     "data": {
      "image/png": "[encoded data removed]",
      "text/plain": [
       "<Figure size 1080x360 with 1 Axes>"
      ]
     },
     "metadata": {
      "needs_background": "light"
     },
     "output_type": "display_data"
    }
   ],
   "source": [
    "features = []\n",
    "scores = []\n",
    "for k in explanation:\n",
    "    features.append(k['feature'])\n",
    "    scores.append(k['attribution'])\n",
    "features = [x for _, x in sorted(zip(scores, features))]\n",
    "scores = sorted(scores)\n",
    "\n",
    "plt.figure(figsize=(15,5))\n",
    "plt.barh(features, scores)\n",
    "plt.title('Feature Attribution for Prediction')\n",
    "plt.show()"
   ]
  },
  {
   "cell_type": "markdown",
   "id": "e118987c-b395-432c-b872-818ff28a0733",
   "metadata": {},
   "source": [
    "### Global Explainability\n",
    "Retrieve the influence of each feature on the model with [ML.GLOBAL_EXPLAIN](https://cloud.google.com/bigquery-ml/docs/reference/standard-sql/bigqueryml-syntax-global-explain).  "
   ]
  },
  {
   "cell_type": "code",
   "execution_count": 122,
   "id": "c8175a73-b86a-403e-8692-66aad5131512",
   "metadata": {},
   "outputs": [],
   "source": [
    "query = f\"\"\"\n",
    "SELECT *\n",
    "FROM ML.GLOBAL_EXPLAIN (MODEL `{BQ_PROJECT}.{BQ_DATASET}.{BQ_MODEL}`)\n",
    "\"\"\"\n",
    "gexplain = bq.query(query = query).to_dataframe()"
   ]
  },
  {
   "cell_type": "code",
   "execution_count": 123,
   "id": "f9cba8b6-2117-4c16-b8e2-c0bd3a3249b1",
   "metadata": {},
   "outputs": [
    {
     "data": {
      "text/html": [
       "<div>\n",
       "<style scoped>\n",
       "    .dataframe tbody tr th:only-of-type {\n",
       "        vertical-align: middle;\n",
       "    }\n",
       "\n",
       "    .dataframe tbody tr th {\n",
       "        vertical-align: top;\n",
       "    }\n",
       "\n",
       "    .dataframe thead th {\n",
       "        text-align: right;\n",
       "    }\n",
       "</style>\n",
       "<table border=\"1\" class=\"dataframe\">\n",
       "  <thead>\n",
       "    <tr style=\"text-align: right;\">\n",
       "      <th></th>\n",
       "      <th>feature</th>\n",
       "      <th>attribution</th>\n",
       "    </tr>\n",
       "  </thead>\n",
       "  <tbody>\n",
       "    <tr>\n",
       "      <th>0</th>\n",
       "      <td>pred_03_03c_20221003125950</td>\n",
       "      <td>0.034823</td>\n",
       "    </tr>\n",
       "    <tr>\n",
       "      <th>1</th>\n",
       "      <td>pred_03_03a_20221110162611</td>\n",
       "      <td>0.022588</td>\n",
       "    </tr>\n",
       "    <tr>\n",
       "      <th>2</th>\n",
       "      <td>pred_03_03f_20221003130014</td>\n",
       "      <td>0.022579</td>\n",
       "    </tr>\n",
       "    <tr>\n",
       "      <th>3</th>\n",
       "      <td>pred_03_03e_20221003130007</td>\n",
       "      <td>0.021249</td>\n",
       "    </tr>\n",
       "    <tr>\n",
       "      <th>4</th>\n",
       "      <td>pred_03_03d_20221003125956</td>\n",
       "      <td>0.016608</td>\n",
       "    </tr>\n",
       "  </tbody>\n",
       "</table>\n",
       "</div>"
      ],
      "text/plain": [
       "                      feature  attribution\n",
       "0  pred_03_03c_20221003125950     0.034823\n",
       "1  pred_03_03a_20221110162611     0.022588\n",
       "2  pred_03_03f_20221003130014     0.022579\n",
       "3  pred_03_03e_20221003130007     0.021249\n",
       "4  pred_03_03d_20221003125956     0.016608"
      ]
     },
     "execution_count": 123,
     "metadata": {},
     "output_type": "execute_result"
    }
   ],
   "source": [
    "gexplain.head()"
   ]
  },
  {
   "cell_type": "code",
   "execution_count": 124,
   "id": "e1529486-9a8d-4587-9ec0-4f5e2d39b3d4",
   "metadata": {},
   "outputs": [
    {
     "data": {
      "image/png": "[encoded data removed]",
      "text/plain": [
       "<Figure size 1080x576 with 1 Axes>"
      ]
     },
     "metadata": {
      "needs_background": "light"
     },
     "output_type": "display_data"
    }
   ],
   "source": [
    "plt.figure(figsize=(15,8))\n",
    "plt.barh(gexplain['feature'], gexplain['attribution'])\n",
    "plt.title('Global Influence')\n",
    "plt.xlabel('Attribution')\n",
    "#plt.ylabel('Feature')\n",
    "plt.show()"
   ]
  },
  {
   "cell_type": "code",
   "execution_count": null,
   "id": "c246acca-76e7-4599-a4e5-d1565fb06c78",
   "metadata": {},
   "outputs": [],
   "source": []
  }
 ],
 "metadata": {
  "environment": {
   "kernel": "python3",
   "name": "tf2-gpu.2-3.m94",
   "type": "gcloud",
   "uri": "gcr.io/deeplearning-platform-release/tf2-gpu.2-3:m94"
  },
  "kernelspec": {
   "display_name": "Python 3",
   "language": "python",
   "name": "python3"
  },
  "language_info": {
   "codemirror_mode": {
    "name": "ipython",
    "version": 3
   },
   "file_extension": ".py",
   "mimetype": "text/x-python",
   "name": "python",
   "nbconvert_exporter": "python",
   "pygments_lexer": "ipython3",
   "version": "3.7.12"
  }
 },
 "nbformat": 4,
 "nbformat_minor": 5
}
