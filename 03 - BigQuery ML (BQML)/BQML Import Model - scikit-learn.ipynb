{
 "cells": [
  {
   "cell_type": "markdown",
   "id": "53f86b78",
   "metadata": {},
   "source": [
    "![ga4](https://www.google-analytics.com/collect?v=2&tid=G-6VDTYWLKX6&cid=1&en=page_view&sid=1&dl=statmike%2Fvertex-ai-mlops%2F03+-+BigQuery+ML+%28BQML%29&dt=BQML+Import+Model+-+scikit-learn.ipynb)\n",
    "<!--- header table --->\n",
    "<table align=\"left\">\n",
    "  <td style=\"text-align: center\">\n",
    "    <a href=\"https://colab.research.google.com/github/statmike/vertex-ai-mlops/blob/main/03%20-%20BigQuery%20ML%20%28BQML%29/BQML%20Import%20Model%20-%20scikit-learn.ipynb\">\n",
    "      <img src=\"https://cloud.google.com/ml-engine/images/colab-logo-32px.png\" alt=\"Google Colaboratory logo\">\n",
    "      <br>Run in<br>Colab\n",
    "    </a>\n",
    "  </td>\n",
    "  <td style=\"text-align: center\">\n",
    "    <a href=\"https://console.cloud.google.com/vertex-ai/colab/import/https%3A//raw.githubusercontent.com/statmike/vertex-ai-mlops/main/03%20-%20BigQuery%20ML%20%28BQML%29/BQML%20Import%20Model%20-%20scikit-learn.ipynb\">\n",
    "      <img width=\"32px\" src=\"https://lh3.googleusercontent.com/JmcxdQi-qOpctIvWKgPtrzZdJJK-J3sWE1RsfjZNwshCFgE_9fULcNpuXYTilIR2hjwN\" alt=\"Google Cloud Colab Enterprise logo\">\n",
    "      <br>Run in<br>Colab Enterprise\n",
    "    </a>\n",
    "  </td>      \n",
    "  <td style=\"text-align: center\">\n",
    "    <a href=\"https://github.com/statmike/vertex-ai-mlops/blob/main/03%20-%20BigQuery%20ML%20%28BQML%29/BQML%20Import%20Model%20-%20scikit-learn.ipynb\">\n",
    "      <img src=\"https://cloud.google.com/ml-engine/images/github-logo-32px.png\" alt=\"GitHub logo\">\n",
    "      <br>View on<br>GitHub\n",
    "    </a>\n",
    "  </td>\n",
    "  <td style=\"text-align: center\">\n",
    "    <a href=\"https://console.cloud.google.com/vertex-ai/workbench/deploy-notebook?download_url=https%3A//raw.githubusercontent.com/statmike/vertex-ai-mlops/main/03%20-%20BigQuery%20ML%20%28BQML%29/BQML%20Import%20Model%20-%20scikit-learn.ipynb\">\n",
    "      <img src=\"https://lh3.googleusercontent.com/UiNooY4LUgW_oTvpsNhPpQzsstV5W8F7rYgxgGBD85cWJoLmrOzhVs_ksK_vgx40SHs7jCqkTkCk=e14-rj-sc0xffffff-h130-w32\" alt=\"Vertex AI logo\">\n",
    "      <br>Open in<br>Vertex AI Workbench\n",
    "    </a>\n",
    "  </td>\n",
    "</table>"
   ]
  },
  {
   "cell_type": "markdown",
   "id": "6e7003cd-978f-4562-a816-902c88404642",
   "metadata": {},
   "source": [
    "# BQML Import A Scikit-Learn Model Using ONNX\n",
    "\n",
    "This notebooks shows how to import a [scikit-learn](https://scikit-learn.org/stable/) model/pipeline into BigQuery ML for prediction directly inside BigQuery with [ML.PREDICT()](https://cloud.google.com/bigquery/docs/reference/standard-sql/bigqueryml-syntax-predict) function.  This is accomplished by converting the `scikit-learn` model/pipeline to the  [ONNX](https://onnx.ai/) format - an open standard for machine learning interoperability - and then importing it directly into BigQuery ML.\n",
    "\n",
    "$$\\textrm{scikit-learn} \\Longrightarrow \\textrm{ONNX} \\Longrightarrow \\textrm{BigQuery ML}$$\n",
    "\n",
    "**BigQuery ML Inference Engine**\n",
    "\n",
    "With BigQuery ML you can [import models trained outside of BigQuery](https://cloud.google.com/bigquery/docs/reference/standard-sql/inference-overview#inference_using_imported_models) in formats like [TensorFlow](https://cloud.google.com/bigquery/docs/reference/standard-sql/bigqueryml-syntax-create-tensorflow), [TensorFlow Lite](https://cloud.google.com/bigquery/docs/reference/standard-sql/bigqueryml-syntax-create-tflite), [XGBoost](https://cloud.google.com/bigquery/docs/reference/standard-sql/bigqueryml-syntax-create-xgboost), and [ONNX](https://cloud.google.com/bigquery/docs/reference/standard-sql/bigqueryml-syntax-create-onnx). This is part of what is called the BigQuery ML [Inference Engine](https://cloud.google.com/bigquery/docs/reference/standard-sql/inference-overview#inference_using_imported_models) which has methods for working with models trained/hosted outside of BigQuery ML while using the same SQL API for convenience.  Read the blog post annoucing the inference engine from March 2023 [here](https://cloud.google.com/blog/products/data-analytics/introducing-bigquery-ml-inference-engine) for a great overview.\n",
    "\n",
    "**ONNX - Open Neural Network Exchange**\n",
    "\n",
    "The [ONNX](https://onnx.ai/) format is an open standard for machine learning interoperability.  This makes models usable across many frameworks, tools, and runtimes.  \n",
    "- [supported frameworks](https://onnx.ai/supported-tools.html#buildModel)\n",
    "- and more with [onnxmltools](https://github.com/onnx/onnxmltools)\n",
    "\n",
    "**Converting scikit-learn to ONNX**\n",
    "\n",
    "While [onnxmltools](https://github.com/onnx/onnxmltools) has a wrapper for [skl2onnx](https://github.com/onnx/sklearn-onnx/), this notebook shows using the `skl2onnx` package directly.\n",
    "\n",
    "\n",
    "**Inference for ONNX format with ONNXRuntime**\n",
    "\n",
    "The [onnxruntim](https://onnxruntime.ai/) package can be used for prediction/inference of a model in the ONNX format.  It is demonstrated in this notebook but not necessary for BigQuery ML which gives fully managed execution with the model so users don't need to configure this part.\n",
    "\n",
    "**Prerequisites**\n",
    "\n",
    "This notebook uses a scikit-learn model built previsously and stored in GCS as a pickle file (.pkl).  It retrieves this model by looking for the results of any of the notebooks in the [04 - scikit-learn](../04%20-%20scikit-learn) series.  Each of the notebooks in that series (04a - 04i) results in a Vertex AI Prediction Endpoint which this notebook finds and uses to identify a current model file.  It is also possible to edit the code and bypass this by pointing directly to any model save file on GCS.\n",
    "\n",
    "**Resources**\n",
    "- Tutorial [Make predictions with scikit-learn models in ONNX format](https://cloud.google.com/bigquery/docs/making-predictions-with-sklearn-models-in-onnx-format)\n"
   ]
  },
  {
   "cell_type": "markdown",
   "id": "20e7ab60-81fb-41d0-bb88-73b17f0baa82",
   "metadata": {},
   "source": [
    "---\n",
    "## Colab Setup\n",
    "\n",
    "To run this notebook in Colab click [![Open In Colab](https://colab.research.google.com/assets/colab-badge.svg)](https://colab.research.google.com/github/statmike/vertex-ai-mlops/blob/main/03%20-%20BigQuery%20ML%20(BQML)/BQML%20Import%20Model%20-%20scikit-learn.ipynb) and run the cells in this section.  Otherwise, skip this section.\n",
    "\n",
    "This cell will authenticate to GCP (follow prompts in the popup)."
   ]
  },
  {
   "cell_type": "code",
   "execution_count": 1,
   "id": "d0291c13-6fab-4f8e-887f-34deb70b046b",
   "metadata": {},
   "outputs": [],
   "source": [
    "PROJECT_ID = 'statmike-mlops-349915' # replace with project ID"
   ]
  },
  {
   "cell_type": "code",
   "execution_count": 473,
   "id": "900944d9-fac1-4199-b5c8-0de3c18feae6",
   "metadata": {},
   "outputs": [],
   "source": [
    "try:\n",
    "    import google.colab\n",
    "    from google.colab import auth\n",
    "    auth.authenticate_user()\n",
    "    !gcloud config set project {PROJECT_ID}\n",
    "except Exception:\n",
    "    pass"
   ]
  },
  {
   "cell_type": "markdown",
   "id": "410372bc-446f-463e-8027-81711001c203",
   "metadata": {},
   "source": [
    "---\n",
    "## Setup"
   ]
  },
  {
   "cell_type": "markdown",
   "id": "1a00a87f-859e-4de6-af23-1160b1482f12",
   "metadata": {},
   "source": [
    "installations:"
   ]
  },
  {
   "cell_type": "code",
   "execution_count": 42,
   "id": "6a31ff15-e115-4e98-9fb7-bca00fb343bf",
   "metadata": {},
   "outputs": [],
   "source": [
    "try:\n",
    "    import skl2onnx\n",
    "except ImportError:\n",
    "    !pip install --user skl2onnx onnxruntime  -U -q"
   ]
  },
  {
   "cell_type": "markdown",
   "id": "a7dbec4f-be52-4bdd-bb1e-77fe6a76fe44",
   "metadata": {},
   "source": [
    "inputs:"
   ]
  },
  {
   "cell_type": "code",
   "execution_count": 3,
   "id": "e2606bea-1ce7-478f-956e-f1dd570f230b",
   "metadata": {},
   "outputs": [
    {
     "data": {
      "text/plain": [
       "'statmike-mlops-349915'"
      ]
     },
     "execution_count": 3,
     "metadata": {},
     "output_type": "execute_result"
    }
   ],
   "source": [
    "project = !gcloud config get-value project\n",
    "PROJECT_ID = project[0]\n",
    "PROJECT_ID"
   ]
  },
  {
   "cell_type": "code",
   "execution_count": 89,
   "id": "5947db80-d508-44cb-8202-068f05fae062",
   "metadata": {},
   "outputs": [],
   "source": [
    "REGION = 'us-central1'\n",
    "EXPERIMENT = 'import-onnx-sklearn'\n",
    "SERIES = 'bqml'\n",
    "\n",
    "# source data\n",
    "BQ_PROJECT = PROJECT_ID\n",
    "BQ_DATASET = 'fraud'\n",
    "BQ_TABLE = 'fraud_prepped'\n",
    "\n",
    "# Model Training\n",
    "VAR_TARGET = 'Class'\n",
    "VAR_OMIT = 'transaction_id' # add more variables to the string with space delimiters"
   ]
  },
  {
   "cell_type": "markdown",
   "id": "0d2184e2-f8db-4829-8f41-85b528767d1f",
   "metadata": {},
   "source": [
    "packages:"
   ]
  },
  {
   "cell_type": "code",
   "execution_count": 44,
   "id": "36e134f5-59e3-4b87-bf4f-f53e6e97bfc0",
   "metadata": {},
   "outputs": [],
   "source": [
    "from datetime import datetime\n",
    "\n",
    "from google.cloud import aiplatform\n",
    "from google.cloud import bigquery\n",
    "from google.cloud import storage\n",
    "\n",
    "import numpy as np\n",
    "import sklearn\n",
    "import pickle\n",
    "\n",
    "import skl2onnx\n",
    "import onnxruntime"
   ]
  },
  {
   "cell_type": "markdown",
   "id": "3ff06a65-f166-4cbd-a6a1-52eb89faa163",
   "metadata": {},
   "source": [
    "clients:"
   ]
  },
  {
   "cell_type": "code",
   "execution_count": 6,
   "id": "28143af5-4874-42e0-9d39-187a58590979",
   "metadata": {},
   "outputs": [],
   "source": [
    "aiplatform.init(project = PROJECT_ID, location = REGION)\n",
    "bq = bigquery.Client(project = PROJECT_ID)\n",
    "gcs = storage.Client()"
   ]
  },
  {
   "cell_type": "markdown",
   "id": "55800b2f-dbf6-4d08-beb6-61c42c6d8d60",
   "metadata": {},
   "source": [
    "---\n",
    "## Get Data For Predictions"
   ]
  },
  {
   "cell_type": "markdown",
   "id": "3fa20e5e-94fb-4811-b767-333add498ef4",
   "metadata": {},
   "source": [
    "### Retrieve Records For Prediction"
   ]
  },
  {
   "cell_type": "code",
   "execution_count": 58,
   "id": "c30fc1dc-e0d9-498a-adb4-33de987a47ac",
   "metadata": {},
   "outputs": [],
   "source": [
    "n = 10\n",
    "pred = bq.query(\n",
    "    query = f\"\"\"\n",
    "        SELECT * EXCEPT({VAR_TARGET}, {VAR_OMIT}, splits)\n",
    "        FROM {BQ_PROJECT}.{BQ_DATASET}.{BQ_TABLE}\n",
    "        WHERE splits='TEST'\n",
    "        LIMIT {n}\n",
    "        \"\"\"\n",
    ").to_dataframe()"
   ]
  },
  {
   "cell_type": "code",
   "execution_count": 60,
   "id": "fa845eb3-7f5d-40fd-999c-ea87bce527b7",
   "metadata": {},
   "outputs": [
    {
     "data": {
      "text/html": [
       "<div>\n",
       "<style scoped>\n",
       "    .dataframe tbody tr th:only-of-type {\n",
       "        vertical-align: middle;\n",
       "    }\n",
       "\n",
       "    .dataframe tbody tr th {\n",
       "        vertical-align: top;\n",
       "    }\n",
       "\n",
       "    .dataframe thead th {\n",
       "        text-align: right;\n",
       "    }\n",
       "</style>\n",
       "<table border=\"1\" class=\"dataframe\">\n",
       "  <thead>\n",
       "    <tr style=\"text-align: right;\">\n",
       "      <th></th>\n",
       "      <th>Time</th>\n",
       "      <th>V1</th>\n",
       "      <th>V2</th>\n",
       "      <th>V3</th>\n",
       "      <th>V4</th>\n",
       "      <th>V5</th>\n",
       "      <th>V6</th>\n",
       "      <th>V7</th>\n",
       "      <th>V8</th>\n",
       "      <th>V9</th>\n",
       "      <th>...</th>\n",
       "      <th>V20</th>\n",
       "      <th>V21</th>\n",
       "      <th>V22</th>\n",
       "      <th>V23</th>\n",
       "      <th>V24</th>\n",
       "      <th>V25</th>\n",
       "      <th>V26</th>\n",
       "      <th>V27</th>\n",
       "      <th>V28</th>\n",
       "      <th>Amount</th>\n",
       "    </tr>\n",
       "  </thead>\n",
       "  <tbody>\n",
       "    <tr>\n",
       "      <th>0</th>\n",
       "      <td>35337</td>\n",
       "      <td>1.092844</td>\n",
       "      <td>-0.013230</td>\n",
       "      <td>1.359829</td>\n",
       "      <td>2.731537</td>\n",
       "      <td>-0.707357</td>\n",
       "      <td>0.873837</td>\n",
       "      <td>-0.796130</td>\n",
       "      <td>0.437707</td>\n",
       "      <td>0.396770</td>\n",
       "      <td>...</td>\n",
       "      <td>-0.240428</td>\n",
       "      <td>0.037603</td>\n",
       "      <td>0.380026</td>\n",
       "      <td>-0.167647</td>\n",
       "      <td>0.027557</td>\n",
       "      <td>0.592115</td>\n",
       "      <td>0.219695</td>\n",
       "      <td>0.036970</td>\n",
       "      <td>0.010984</td>\n",
       "      <td>0.0</td>\n",
       "    </tr>\n",
       "    <tr>\n",
       "      <th>1</th>\n",
       "      <td>60481</td>\n",
       "      <td>1.238973</td>\n",
       "      <td>0.035226</td>\n",
       "      <td>0.063003</td>\n",
       "      <td>0.641406</td>\n",
       "      <td>-0.260893</td>\n",
       "      <td>-0.580097</td>\n",
       "      <td>0.049938</td>\n",
       "      <td>-0.034733</td>\n",
       "      <td>0.405932</td>\n",
       "      <td>...</td>\n",
       "      <td>-0.265080</td>\n",
       "      <td>-0.060003</td>\n",
       "      <td>-0.053585</td>\n",
       "      <td>-0.057718</td>\n",
       "      <td>0.104983</td>\n",
       "      <td>0.537987</td>\n",
       "      <td>0.589563</td>\n",
       "      <td>-0.046207</td>\n",
       "      <td>-0.006212</td>\n",
       "      <td>0.0</td>\n",
       "    </tr>\n",
       "    <tr>\n",
       "      <th>2</th>\n",
       "      <td>139587</td>\n",
       "      <td>1.870539</td>\n",
       "      <td>0.211079</td>\n",
       "      <td>0.224457</td>\n",
       "      <td>3.889486</td>\n",
       "      <td>-0.380177</td>\n",
       "      <td>0.249799</td>\n",
       "      <td>-0.577133</td>\n",
       "      <td>0.179189</td>\n",
       "      <td>-0.120462</td>\n",
       "      <td>...</td>\n",
       "      <td>-0.374356</td>\n",
       "      <td>0.196006</td>\n",
       "      <td>0.656552</td>\n",
       "      <td>0.180776</td>\n",
       "      <td>-0.060226</td>\n",
       "      <td>-0.228979</td>\n",
       "      <td>0.080827</td>\n",
       "      <td>0.009868</td>\n",
       "      <td>-0.036997</td>\n",
       "      <td>0.0</td>\n",
       "    </tr>\n",
       "    <tr>\n",
       "      <th>3</th>\n",
       "      <td>162908</td>\n",
       "      <td>-3.368339</td>\n",
       "      <td>-1.980442</td>\n",
       "      <td>0.153645</td>\n",
       "      <td>-0.159795</td>\n",
       "      <td>3.847169</td>\n",
       "      <td>-3.516873</td>\n",
       "      <td>-1.209398</td>\n",
       "      <td>-0.292122</td>\n",
       "      <td>0.760543</td>\n",
       "      <td>...</td>\n",
       "      <td>-0.923275</td>\n",
       "      <td>-0.545992</td>\n",
       "      <td>-0.252324</td>\n",
       "      <td>-1.171627</td>\n",
       "      <td>0.214333</td>\n",
       "      <td>-0.159652</td>\n",
       "      <td>-0.060883</td>\n",
       "      <td>1.294977</td>\n",
       "      <td>0.120503</td>\n",
       "      <td>0.0</td>\n",
       "    </tr>\n",
       "    <tr>\n",
       "      <th>4</th>\n",
       "      <td>165236</td>\n",
       "      <td>2.180149</td>\n",
       "      <td>0.218732</td>\n",
       "      <td>-2.637726</td>\n",
       "      <td>0.348776</td>\n",
       "      <td>1.063546</td>\n",
       "      <td>-1.249197</td>\n",
       "      <td>0.942021</td>\n",
       "      <td>-0.547652</td>\n",
       "      <td>-0.087823</td>\n",
       "      <td>...</td>\n",
       "      <td>-0.250653</td>\n",
       "      <td>0.234502</td>\n",
       "      <td>0.825237</td>\n",
       "      <td>-0.176957</td>\n",
       "      <td>0.563779</td>\n",
       "      <td>0.730183</td>\n",
       "      <td>0.707494</td>\n",
       "      <td>-0.131066</td>\n",
       "      <td>-0.090428</td>\n",
       "      <td>0.0</td>\n",
       "    </tr>\n",
       "  </tbody>\n",
       "</table>\n",
       "<p>5 rows × 30 columns</p>\n",
       "</div>"
      ],
      "text/plain": [
       "     Time        V1        V2        V3        V4        V5        V6  \\\n",
       "0   35337  1.092844 -0.013230  1.359829  2.731537 -0.707357  0.873837   \n",
       "1   60481  1.238973  0.035226  0.063003  0.641406 -0.260893 -0.580097   \n",
       "2  139587  1.870539  0.211079  0.224457  3.889486 -0.380177  0.249799   \n",
       "3  162908 -3.368339 -1.980442  0.153645 -0.159795  3.847169 -3.516873   \n",
       "4  165236  2.180149  0.218732 -2.637726  0.348776  1.063546 -1.249197   \n",
       "\n",
       "         V7        V8        V9  ...       V20       V21       V22       V23  \\\n",
       "0 -0.796130  0.437707  0.396770  ... -0.240428  0.037603  0.380026 -0.167647   \n",
       "1  0.049938 -0.034733  0.405932  ... -0.265080 -0.060003 -0.053585 -0.057718   \n",
       "2 -0.577133  0.179189 -0.120462  ... -0.374356  0.196006  0.656552  0.180776   \n",
       "3 -1.209398 -0.292122  0.760543  ... -0.923275 -0.545992 -0.252324 -1.171627   \n",
       "4  0.942021 -0.547652 -0.087823  ... -0.250653  0.234502  0.825237 -0.176957   \n",
       "\n",
       "        V24       V25       V26       V27       V28  Amount  \n",
       "0  0.027557  0.592115  0.219695  0.036970  0.010984     0.0  \n",
       "1  0.104983  0.537987  0.589563 -0.046207 -0.006212     0.0  \n",
       "2 -0.060226 -0.228979  0.080827  0.009868 -0.036997     0.0  \n",
       "3  0.214333 -0.159652 -0.060883  1.294977  0.120503     0.0  \n",
       "4  0.563779  0.730183  0.707494 -0.131066 -0.090428     0.0  \n",
       "\n",
       "[5 rows x 30 columns]"
      ]
     },
     "execution_count": 60,
     "metadata": {},
     "output_type": "execute_result"
    }
   ],
   "source": [
    "pred.head()"
   ]
  },
  {
   "cell_type": "markdown",
   "id": "d359bbc8-7c8d-4cac-922c-1bc9bd5aa98b",
   "metadata": {},
   "source": [
    "Shape as instances: dictionaries of key:value pairs for only features used in model"
   ]
  },
  {
   "cell_type": "code",
   "execution_count": 61,
   "id": "3e3cb0eb-48d4-4417-9c1f-803c301749a7",
   "metadata": {},
   "outputs": [],
   "source": [
    "newobs = pred.to_dict(orient='records')\n",
    "#newobs[0]"
   ]
  },
  {
   "cell_type": "code",
   "execution_count": 62,
   "id": "dd16916a-ae80-4ff4-8571-ba2bec4998bc",
   "metadata": {},
   "outputs": [
    {
     "data": {
      "text/plain": [
       "10"
      ]
     },
     "execution_count": 62,
     "metadata": {},
     "output_type": "execute_result"
    }
   ],
   "source": [
    "len(newobs)"
   ]
  },
  {
   "cell_type": "code",
   "execution_count": 63,
   "id": "0bc825b1-f42c-46da-b72a-df1a8f5d2f05",
   "metadata": {},
   "outputs": [
    {
     "data": {
      "text/plain": [
       "{'Time': 35337,\n",
       " 'V1': 1.0928441854981998,\n",
       " 'V2': -0.0132303486713432,\n",
       " 'V3': 1.35982868199426,\n",
       " 'V4': 2.7315370965921004,\n",
       " 'V5': -0.707357349219652,\n",
       " 'V6': 0.8738370029866129,\n",
       " 'V7': -0.7961301510622031,\n",
       " 'V8': 0.437706509544851,\n",
       " 'V9': 0.39676985012996396,\n",
       " 'V10': 0.587438102569443,\n",
       " 'V11': -0.14979756231827498,\n",
       " 'V12': 0.29514781622888103,\n",
       " 'V13': -1.30382621882143,\n",
       " 'V14': -0.31782283120234495,\n",
       " 'V15': -2.03673231037199,\n",
       " 'V16': 0.376090905274179,\n",
       " 'V17': -0.30040350116459497,\n",
       " 'V18': 0.433799615590844,\n",
       " 'V19': -0.145082264348681,\n",
       " 'V20': -0.240427548108996,\n",
       " 'V21': 0.0376030733329398,\n",
       " 'V22': 0.38002620963091405,\n",
       " 'V23': -0.16764742731151097,\n",
       " 'V24': 0.0275573495476881,\n",
       " 'V25': 0.59211469704354,\n",
       " 'V26': 0.219695164116351,\n",
       " 'V27': 0.0369695108704894,\n",
       " 'V28': 0.010984441006191,\n",
       " 'Amount': 0.0}"
      ]
     },
     "execution_count": 63,
     "metadata": {},
     "output_type": "execute_result"
    }
   ],
   "source": [
    "newobs[0]"
   ]
  },
  {
   "cell_type": "markdown",
   "id": "c72af4b3-ded6-4782-8998-966da30f8067",
   "metadata": {},
   "source": [
    "---\n",
    "\n",
    "## Get A Model For Predictions\n",
    "\n",
    "This section retrieves a currently active model being used on a Vertex AI Prediction Endpoint.\n",
    "\n",
    ">If you already know the location of your model files in a GCS Bucket then this section can be bypassed by storing the model location with: `model_uri = 'gs://bucket/path/to/files'."
   ]
  },
  {
   "cell_type": "code",
   "execution_count": 66,
   "id": "c95316fe-72ac-4a8b-9d33-522fea636b74",
   "metadata": {},
   "outputs": [],
   "source": [
    "# Series 04 creates scikit-learn based models\n",
    "PREVIOUS_SERIES = '04'"
   ]
  },
  {
   "cell_type": "markdown",
   "id": "116df036-db05-413c-8377-2e6173df5b8b",
   "metadata": {},
   "source": [
    "### Get Endpoint\n",
    "\n",
    "Reference: [aiplatform.Endpoint](https://cloud.google.com/python/docs/reference/aiplatform/latest/google.cloud.aiplatform.Endpoint)"
   ]
  },
  {
   "cell_type": "code",
   "execution_count": 67,
   "id": "3a981d55-53c8-4e57-afbd-126c780cfe7e",
   "metadata": {},
   "outputs": [],
   "source": [
    "endpoints = aiplatform.Endpoint.list(filter = f\"labels.series={PREVIOUS_SERIES}\")\n",
    "endpoint = endpoints[0]"
   ]
  },
  {
   "cell_type": "code",
   "execution_count": 68,
   "id": "f644940a-8f90-455d-8eba-093119e3c2ef",
   "metadata": {},
   "outputs": [
    {
     "name": "stdout",
     "output_type": "stream",
     "text": [
      "Review the Endpoint in the Console:\n",
      "https://console.cloud.google.com/vertex-ai/locations/us-central1/endpoints/5984848498170789888?project=statmike-mlops-349915\n"
     ]
    }
   ],
   "source": [
    "print(f'Review the Endpoint in the Console:\\nhttps://console.cloud.google.com/vertex-ai/locations/{REGION}/endpoints/{endpoint.name}?project={PROJECT_ID}')"
   ]
  },
  {
   "cell_type": "code",
   "execution_count": 69,
   "id": "bb13ab27-afdf-4f08-8e40-742c52bc2282",
   "metadata": {},
   "outputs": [
    {
     "data": {
      "text/plain": [
       "[[35337,\n",
       "  1.0928441854981998,\n",
       "  -0.0132303486713432,\n",
       "  1.35982868199426,\n",
       "  2.7315370965921004,\n",
       "  -0.707357349219652,\n",
       "  0.8738370029866129,\n",
       "  -0.7961301510622031,\n",
       "  0.437706509544851,\n",
       "  0.39676985012996396,\n",
       "  0.587438102569443,\n",
       "  -0.14979756231827498,\n",
       "  0.29514781622888103,\n",
       "  -1.30382621882143,\n",
       "  -0.31782283120234495,\n",
       "  -2.03673231037199,\n",
       "  0.376090905274179,\n",
       "  -0.30040350116459497,\n",
       "  0.433799615590844,\n",
       "  -0.145082264348681,\n",
       "  -0.240427548108996,\n",
       "  0.0376030733329398,\n",
       "  0.38002620963091405,\n",
       "  -0.16764742731151097,\n",
       "  0.0275573495476881,\n",
       "  0.59211469704354,\n",
       "  0.219695164116351,\n",
       "  0.0369695108704894,\n",
       "  0.010984441006191,\n",
       "  0.0]]"
      ]
     },
     "execution_count": 69,
     "metadata": {},
     "output_type": "execute_result"
    }
   ],
   "source": [
    "[list(newobs[0].values())]"
   ]
  },
  {
   "cell_type": "code",
   "execution_count": 70,
   "id": "eda256f6-db2b-46f1-8226-af338c58aa90",
   "metadata": {},
   "outputs": [
    {
     "data": {
      "text/plain": [
       "[0.0]"
      ]
     },
     "execution_count": 70,
     "metadata": {},
     "output_type": "execute_result"
    }
   ],
   "source": [
    "endpoint.predict(instances = [list(newobs[0].values())]).predictions"
   ]
  },
  {
   "cell_type": "markdown",
   "id": "c60023c9-a639-4ae8-b9f6-9b5f1e1ae5c3",
   "metadata": {},
   "source": [
    "### Review The Model Information\n",
    "\n",
    "Reference: [aiplatform.Model](https://cloud.google.com/python/docs/reference/aiplatform/latest/google.cloud.aiplatform.Model)"
   ]
  },
  {
   "cell_type": "code",
   "execution_count": 71,
   "id": "ef4715d3-52d2-4c95-8978-4730bcce4a2e",
   "metadata": {},
   "outputs": [],
   "source": [
    "vertex_model = aiplatform.Model(\n",
    "    model_name = endpoint.list_models()[0].model + f'@{endpoint.list_models()[0].model_version_id}'\n",
    ")"
   ]
  },
  {
   "cell_type": "code",
   "execution_count": 72,
   "id": "e74c295b-2745-4003-bdad-9b579619512e",
   "metadata": {},
   "outputs": [
    {
     "data": {
      "text/plain": [
       "'04_04a'"
      ]
     },
     "execution_count": 72,
     "metadata": {},
     "output_type": "execute_result"
    }
   ],
   "source": [
    "vertex_model.display_name"
   ]
  },
  {
   "cell_type": "code",
   "execution_count": 73,
   "id": "16e6fa29-9faf-43c7-844d-a00023310600",
   "metadata": {},
   "outputs": [
    {
     "data": {
      "text/plain": [
       "'2'"
      ]
     },
     "execution_count": 73,
     "metadata": {},
     "output_type": "execute_result"
    }
   ],
   "source": [
    "vertex_model.version_id"
   ]
  },
  {
   "cell_type": "code",
   "execution_count": 74,
   "id": "5368edd2-35b7-4307-a70f-3b14824d0063",
   "metadata": {},
   "outputs": [
    {
     "data": {
      "text/plain": [
       "'model_04_04a'"
      ]
     },
     "execution_count": 74,
     "metadata": {},
     "output_type": "execute_result"
    }
   ],
   "source": [
    "vertex_model.name"
   ]
  },
  {
   "cell_type": "code",
   "execution_count": 75,
   "id": "b33027c3-e531-4e15-b153-2434e0121df3",
   "metadata": {},
   "outputs": [
    {
     "data": {
      "text/plain": [
       "'gs://statmike-mlops-349915/04/04a/models/20230430233126/model'"
      ]
     },
     "execution_count": 75,
     "metadata": {},
     "output_type": "execute_result"
    }
   ],
   "source": [
    "vertex_model.uri"
   ]
  },
  {
   "cell_type": "code",
   "execution_count": 76,
   "id": "a32b33e3-cb28-466c-9fec-3346cac633da",
   "metadata": {},
   "outputs": [
    {
     "name": "stdout",
     "output_type": "stream",
     "text": [
      "gs://statmike-mlops-349915/04/04a/models/20230430233126/model/\n",
      "gs://statmike-mlops-349915/04/04a/models/20230430233126/model/model.pkl\n"
     ]
    }
   ],
   "source": [
    "!gsutil ls {vertex_model.uri}"
   ]
  },
  {
   "cell_type": "code",
   "execution_count": 77,
   "id": "09ddf6c1-0821-442d-8806-cc9244547d3d",
   "metadata": {},
   "outputs": [
    {
     "name": "stdout",
     "output_type": "stream",
     "text": [
      "04/04a/models/20230430233126/model/\n",
      "04/04a/models/20230430233126/model/model.pkl\n"
     ]
    }
   ],
   "source": [
    "bucket = gcs.bucket(PROJECT_ID)\n",
    "for blob in bucket.list_blobs(prefix = vertex_model.uri.split(f'gs://{PROJECT_ID}/')[1]):\n",
    "    print(blob.name)\n",
    "    if blob.name.split('.pkl')[-1] == '.pkl': break;"
   ]
  },
  {
   "cell_type": "code",
   "execution_count": 97,
   "id": "eeeaf4e9-b2b0-4e3e-916d-db26b392ffdd",
   "metadata": {},
   "outputs": [
    {
     "name": "stdout",
     "output_type": "stream",
     "text": [
      "Review the model in the Vertex AI Model Registry:\n",
      "https://console.cloud.google.com/vertex-ai/locations/us-central1/models/model_04_04a/versions/2/properties?project=statmike-mlops-349915\n"
     ]
    }
   ],
   "source": [
    "print(f'Review the model in the Vertex AI Model Registry:\\nhttps://console.cloud.google.com/vertex-ai/locations/{REGION}/models/{vertex_model.name}/versions/{vertex_model.version_id}/properties?project={PROJECT_ID}')"
   ]
  },
  {
   "cell_type": "markdown",
   "id": "1349f441-194b-41a0-b107-a778e5e497c7",
   "metadata": {},
   "source": [
    "---\n",
    "## Local Model: scikit-learn\n",
    "\n",
    "Load the model to the notebook."
   ]
  },
  {
   "cell_type": "code",
   "execution_count": 78,
   "id": "629fa906-b9f1-499e-85f3-a2959175f6c8",
   "metadata": {},
   "outputs": [
    {
     "name": "stderr",
     "output_type": "stream",
     "text": [
      "/opt/conda/lib/python3.7/site-packages/sklearn/base.py:338: UserWarning: Trying to unpickle estimator StandardScaler from version 0.23.1 when using version 1.0.2. This might lead to breaking code or invalid results. Use at your own risk. For more info please refer to:\n",
      "https://scikit-learn.org/stable/modules/model_persistence.html#security-maintainability-limitations\n",
      "  UserWarning,\n",
      "/opt/conda/lib/python3.7/site-packages/sklearn/base.py:338: UserWarning: Trying to unpickle estimator LogisticRegression from version 0.23.1 when using version 1.0.2. This might lead to breaking code or invalid results. Use at your own risk. For more info please refer to:\n",
      "https://scikit-learn.org/stable/modules/model_persistence.html#security-maintainability-limitations\n",
      "  UserWarning,\n",
      "/opt/conda/lib/python3.7/site-packages/sklearn/base.py:338: UserWarning: Trying to unpickle estimator Pipeline from version 0.23.1 when using version 1.0.2. This might lead to breaking code or invalid results. Use at your own risk. For more info please refer to:\n",
      "https://scikit-learn.org/stable/modules/model_persistence.html#security-maintainability-limitations\n",
      "  UserWarning,\n"
     ]
    }
   ],
   "source": [
    "pickle_in = blob.download_as_string()\n",
    "local_model = pickle.loads(pickle_in)"
   ]
  },
  {
   "cell_type": "markdown",
   "id": "0a812d69-4226-4d6a-8deb-450cfd4d36b0",
   "metadata": {},
   "source": [
    "Get local predictions using the model:"
   ]
  },
  {
   "cell_type": "code",
   "execution_count": 79,
   "id": "32613c45-3724-4309-852f-f7f9a9653302",
   "metadata": {},
   "outputs": [
    {
     "data": {
      "text/plain": [
       "[[35337,\n",
       "  1.0928441854981998,\n",
       "  -0.0132303486713432,\n",
       "  1.35982868199426,\n",
       "  2.7315370965921004,\n",
       "  -0.707357349219652,\n",
       "  0.8738370029866129,\n",
       "  -0.7961301510622031,\n",
       "  0.437706509544851,\n",
       "  0.39676985012996396,\n",
       "  0.587438102569443,\n",
       "  -0.14979756231827498,\n",
       "  0.29514781622888103,\n",
       "  -1.30382621882143,\n",
       "  -0.31782283120234495,\n",
       "  -2.03673231037199,\n",
       "  0.376090905274179,\n",
       "  -0.30040350116459497,\n",
       "  0.433799615590844,\n",
       "  -0.145082264348681,\n",
       "  -0.240427548108996,\n",
       "  0.0376030733329398,\n",
       "  0.38002620963091405,\n",
       "  -0.16764742731151097,\n",
       "  0.0275573495476881,\n",
       "  0.59211469704354,\n",
       "  0.219695164116351,\n",
       "  0.0369695108704894,\n",
       "  0.010984441006191,\n",
       "  0.0]]"
      ]
     },
     "execution_count": 79,
     "metadata": {},
     "output_type": "execute_result"
    }
   ],
   "source": [
    "[list(newobs[0].values())]"
   ]
  },
  {
   "cell_type": "code",
   "execution_count": 80,
   "id": "377a99ae-658c-4f9e-ac04-780fad59464a",
   "metadata": {},
   "outputs": [
    {
     "data": {
      "text/plain": [
       "array([0])"
      ]
     },
     "execution_count": 80,
     "metadata": {},
     "output_type": "execute_result"
    }
   ],
   "source": [
    "local_model.predict([list(newobs[0].values())])"
   ]
  },
  {
   "cell_type": "code",
   "execution_count": 81,
   "id": "4325e742-867c-4d67-aea4-7ee60a45aa44",
   "metadata": {},
   "outputs": [
    {
     "data": {
      "text/plain": [
       "array([[0.99819833, 0.00180167]])"
      ]
     },
     "execution_count": 81,
     "metadata": {},
     "output_type": "execute_result"
    }
   ],
   "source": [
    "local_model.predict_proba([list(newobs[0].values())])"
   ]
  },
  {
   "cell_type": "markdown",
   "id": "1c195bf3-72fc-44e9-b0a9-3a947ec0c1f5",
   "metadata": {},
   "source": [
    "---\n",
    "## Convert Model: to ONNX\n",
    "\n",
    "- Using [sklearn-onnx](https://onnx.ai/sklearn-onnx/)\n",
    "    - All the available data types in [the source](https://github.com/onnx/sklearn-onnx/blob/main/skl2onnx/common/data_types.py)\n",
    "    - more on zipmap option [here](https://onnx.ai/sklearn-onnx/auto_tutorial/plot_dbegin_options_zipmap.html)"
   ]
  },
  {
   "cell_type": "code",
   "execution_count": 82,
   "id": "c8938c9c-5532-485b-9034-94efbca0b94e",
   "metadata": {},
   "outputs": [],
   "source": [
    "initial_types = []\n",
    "for feature in preds.dtypes.apply(lambda x: x.name).to_dict().items():\n",
    "    if feature[1] == 'Int64': tensor_type = skl2onnx.common.data_types.Int64TensorType([None, 1])\n",
    "    elif feature[1] == 'float64': tensor_type = skl2onnx.common.data_types.FloatTensorType([None, 1])\n",
    "    # more data types here as needed\n",
    "    initial_types.append((feature[0], tensor_type))"
   ]
  },
  {
   "cell_type": "code",
   "execution_count": 83,
   "id": "a8c3d449-2b2d-4d31-9f7d-75e2aa181254",
   "metadata": {},
   "outputs": [],
   "source": [
    "onnx_model = skl2onnx.convert_sklearn(local_model, initial_types = initial_types, options = {id(local_model): {'zipmap': False}})"
   ]
  },
  {
   "cell_type": "markdown",
   "id": "9a8ee887-8aef-4106-a370-7491be1f4f4f",
   "metadata": {},
   "source": [
    "## Local Test of ONNX Model Predictions\n",
    "\n",
    "- With [onnxruntime](https://onnxruntime.ai/)"
   ]
  },
  {
   "cell_type": "code",
   "execution_count": 84,
   "id": "f09569c1-659b-4ffd-9c15-ebd8182f5b4c",
   "metadata": {},
   "outputs": [],
   "source": [
    "local_onnx = onnxruntime.InferenceSession(onnx_model.SerializeToString())"
   ]
  },
  {
   "cell_type": "code",
   "execution_count": 85,
   "id": "50ab1abc-8f75-4aaf-bd2a-a3d27aa7e904",
   "metadata": {},
   "outputs": [
    {
     "data": {
      "text/plain": [
       "{'Time': array([[35337]]),\n",
       " 'V1': array([[1.0928441]], dtype=float32),\n",
       " 'V2': array([[-0.01323035]], dtype=float32),\n",
       " 'V3': array([[1.3598287]], dtype=float32),\n",
       " 'V4': array([[2.731537]], dtype=float32),\n",
       " 'V5': array([[-0.70735735]], dtype=float32),\n",
       " 'V6': array([[0.873837]], dtype=float32),\n",
       " 'V7': array([[-0.7961302]], dtype=float32),\n",
       " 'V8': array([[0.4377065]], dtype=float32),\n",
       " 'V9': array([[0.39676985]], dtype=float32),\n",
       " 'V10': array([[0.5874381]], dtype=float32),\n",
       " 'V11': array([[-0.14979756]], dtype=float32),\n",
       " 'V12': array([[0.2951478]], dtype=float32),\n",
       " 'V13': array([[-1.3038262]], dtype=float32),\n",
       " 'V14': array([[-0.31782284]], dtype=float32),\n",
       " 'V15': array([[-2.0367322]], dtype=float32),\n",
       " 'V16': array([[0.3760909]], dtype=float32),\n",
       " 'V17': array([[-0.3004035]], dtype=float32),\n",
       " 'V18': array([[0.43379962]], dtype=float32),\n",
       " 'V19': array([[-0.14508227]], dtype=float32),\n",
       " 'V20': array([[-0.24042755]], dtype=float32),\n",
       " 'V21': array([[0.03760307]], dtype=float32),\n",
       " 'V22': array([[0.38002622]], dtype=float32),\n",
       " 'V23': array([[-0.16764742]], dtype=float32),\n",
       " 'V24': array([[0.02755735]], dtype=float32),\n",
       " 'V25': array([[0.5921147]], dtype=float32),\n",
       " 'V26': array([[0.21969517]], dtype=float32),\n",
       " 'V27': array([[0.03696951]], dtype=float32),\n",
       " 'V28': array([[0.01098444]], dtype=float32),\n",
       " 'Amount': array([[0.]], dtype=float32)}"
      ]
     },
     "execution_count": 85,
     "metadata": {},
     "output_type": "execute_result"
    }
   ],
   "source": [
    "test_ob = newobs[0].copy()\n",
    "for v in test_ob:\n",
    "    if type(test_ob[v]) == int:\n",
    "        test_ob[v] = np.array([[test_ob[v]]], dtype = np.int64)\n",
    "    elif type(test_ob[v]) == float:\n",
    "        test_ob[v] = np.array([[test_ob[v]]], dtype = np.float32)\n",
    "test_ob"
   ]
  },
  {
   "cell_type": "code",
   "execution_count": 86,
   "id": "c6f27ce1-1f9b-4e33-b68b-c5f9a76b4d15",
   "metadata": {},
   "outputs": [
    {
     "data": {
      "text/plain": [
       "[array([0], dtype=int64), array([[0.9986229 , 0.00137711]], dtype=float32)]"
      ]
     },
     "execution_count": 86,
     "metadata": {},
     "output_type": "execute_result"
    }
   ],
   "source": [
    "local_onnx.run(None, test_ob)"
   ]
  },
  {
   "cell_type": "code",
   "execution_count": 87,
   "id": "19f554b2-59c8-4902-86c9-6a3d69a27eff",
   "metadata": {},
   "outputs": [
    {
     "data": {
      "text/plain": [
       "array([0], dtype=int64)"
      ]
     },
     "execution_count": 87,
     "metadata": {},
     "output_type": "execute_result"
    }
   ],
   "source": [
    "local_onnx.run(None, test_ob)[0]"
   ]
  },
  {
   "cell_type": "markdown",
   "id": "c1cd14a0-3fdf-45a8-8c1d-4c13ceb96e18",
   "metadata": {},
   "source": [
    "---\n",
    "## BigQuery ML Model Import\n",
    "\n",
    "Reference: [The CREATE MODEL statement for importing ONNX models](https://cloud.google.com/bigquery/docs/reference/standard-sql/bigqueryml-syntax-create-onnx)"
   ]
  },
  {
   "cell_type": "markdown",
   "id": "0391b00c-3c1c-4caf-a531-c748df839ee5",
   "metadata": {},
   "source": [
    "Save the ONNX model in GCS:"
   ]
  },
  {
   "cell_type": "code",
   "execution_count": 91,
   "id": "6af97e8d-a91d-43fc-b4c8-afe4f7b37c44",
   "metadata": {},
   "outputs": [],
   "source": [
    "blob = bucket.blob(f'{SERIES}/{EXPERIMENT}/model.onnx')\n",
    "blob.upload_from_string(onnx_model.SerializeToString())"
   ]
  },
  {
   "cell_type": "markdown",
   "id": "2834ea61-4873-4d9e-989e-b043d650a306",
   "metadata": {},
   "source": [
    "Create BigQuery ML Model:"
   ]
  },
  {
   "cell_type": "code",
   "execution_count": 92,
   "id": "e7ebddfe-780a-4bac-9f8e-ae8a49f7e674",
   "metadata": {},
   "outputs": [
    {
     "name": "stdout",
     "output_type": "stream",
     "text": [
      "\n",
      "CREATE OR REPLACE MODEL `statmike-mlops-349915.fraud.bqml-import-onnx-sklearn`\n",
      "    OPTIONS(\n",
      "        MODEL_TYPE = 'ONNX',\n",
      "        MODEL_PATH = 'gs://statmike-mlops-349915/bqml/import-onnx-sklearn/*'\n",
      "    )\n",
      "\n"
     ]
    }
   ],
   "source": [
    "query = f\"\"\"\n",
    "CREATE OR REPLACE MODEL `{BQ_PROJECT}.{BQ_DATASET}.{SERIES}-{EXPERIMENT}`\n",
    "    OPTIONS(\n",
    "        MODEL_TYPE = 'ONNX',\n",
    "        MODEL_PATH = 'gs://{PROJECT_ID}/{SERIES}/{EXPERIMENT}/*'\n",
    "    )\n",
    "\"\"\"\n",
    "print(query)"
   ]
  },
  {
   "cell_type": "code",
   "execution_count": 93,
   "id": "8b17dfc4-ef4e-4829-8d35-0a2ba84ac56b",
   "metadata": {},
   "outputs": [
    {
     "data": {
      "text/plain": [
       "6.016"
      ]
     },
     "execution_count": 93,
     "metadata": {},
     "output_type": "execute_result"
    }
   ],
   "source": [
    "job = bq.query(query = query)\n",
    "job.result()\n",
    "(job.ended-job.started).total_seconds()"
   ]
  },
  {
   "cell_type": "markdown",
   "id": "5ce9037c-cfaf-4df3-8570-0b6b166bb85d",
   "metadata": {},
   "source": [
    "## Predictions with BigQuery ML: ML.PREDICT"
   ]
  },
  {
   "cell_type": "code",
   "execution_count": 94,
   "id": "6614e900-5d7d-47ba-b3be-55df074bbfa8",
   "metadata": {},
   "outputs": [],
   "source": [
    "query = f\"\"\"\n",
    "SELECT *\n",
    "FROM ML.PREDICT (MODEL `{BQ_PROJECT}.{BQ_DATASET}.{SERIES}-{EXPERIMENT}`,(\n",
    "    SELECT * \n",
    "    FROM `{BQ_PROJECT}.{BQ_DATASET}.{BQ_TABLE}`\n",
    "    WHERE splits = 'TEST'\n",
    "    LIMIT 1)\n",
    "  )\n",
    "\"\"\"\n",
    "pred = bq.query(query = query).to_dataframe()"
   ]
  },
  {
   "cell_type": "code",
   "execution_count": 95,
   "id": "68fb8f88-8493-45d4-9b37-f63c1b9a53c5",
   "metadata": {},
   "outputs": [
    {
     "data": {
      "text/html": [
       "<div>\n",
       "<style scoped>\n",
       "    .dataframe tbody tr th:only-of-type {\n",
       "        vertical-align: middle;\n",
       "    }\n",
       "\n",
       "    .dataframe tbody tr th {\n",
       "        vertical-align: top;\n",
       "    }\n",
       "\n",
       "    .dataframe thead th {\n",
       "        text-align: right;\n",
       "    }\n",
       "</style>\n",
       "<table border=\"1\" class=\"dataframe\">\n",
       "  <thead>\n",
       "    <tr style=\"text-align: right;\">\n",
       "      <th></th>\n",
       "      <th>label</th>\n",
       "      <th>probabilities</th>\n",
       "      <th>Time</th>\n",
       "      <th>V1</th>\n",
       "      <th>V2</th>\n",
       "      <th>V3</th>\n",
       "      <th>V4</th>\n",
       "      <th>V5</th>\n",
       "      <th>V6</th>\n",
       "      <th>V7</th>\n",
       "      <th>...</th>\n",
       "      <th>V23</th>\n",
       "      <th>V24</th>\n",
       "      <th>V25</th>\n",
       "      <th>V26</th>\n",
       "      <th>V27</th>\n",
       "      <th>V28</th>\n",
       "      <th>Amount</th>\n",
       "      <th>Class</th>\n",
       "      <th>transaction_id</th>\n",
       "      <th>splits</th>\n",
       "    </tr>\n",
       "  </thead>\n",
       "  <tbody>\n",
       "    <tr>\n",
       "      <th>0</th>\n",
       "      <td>0</td>\n",
       "      <td>[0.9986228942871094, 0.001377105712890625]</td>\n",
       "      <td>35337</td>\n",
       "      <td>1.092844</td>\n",
       "      <td>-0.01323</td>\n",
       "      <td>1.359829</td>\n",
       "      <td>2.731537</td>\n",
       "      <td>-0.707357</td>\n",
       "      <td>0.873837</td>\n",
       "      <td>-0.79613</td>\n",
       "      <td>...</td>\n",
       "      <td>-0.167647</td>\n",
       "      <td>0.027557</td>\n",
       "      <td>0.592115</td>\n",
       "      <td>0.219695</td>\n",
       "      <td>0.03697</td>\n",
       "      <td>0.010984</td>\n",
       "      <td>0.0</td>\n",
       "      <td>0</td>\n",
       "      <td>a1b10547-d270-48c0-b902-7a0f735dadc7</td>\n",
       "      <td>TEST</td>\n",
       "    </tr>\n",
       "  </tbody>\n",
       "</table>\n",
       "<p>1 rows × 35 columns</p>\n",
       "</div>"
      ],
      "text/plain": [
       "   label                               probabilities   Time        V1  \\\n",
       "0      0  [0.9986228942871094, 0.001377105712890625]  35337  1.092844   \n",
       "\n",
       "        V2        V3        V4        V5        V6       V7  ...       V23  \\\n",
       "0 -0.01323  1.359829  2.731537 -0.707357  0.873837 -0.79613  ... -0.167647   \n",
       "\n",
       "        V24       V25       V26      V27       V28  Amount  Class  \\\n",
       "0  0.027557  0.592115  0.219695  0.03697  0.010984     0.0      0   \n",
       "\n",
       "                         transaction_id  splits  \n",
       "0  a1b10547-d270-48c0-b902-7a0f735dadc7    TEST  \n",
       "\n",
       "[1 rows x 35 columns]"
      ]
     },
     "execution_count": 95,
     "metadata": {},
     "output_type": "execute_result"
    }
   ],
   "source": [
    "pred"
   ]
  },
  {
   "cell_type": "code",
   "execution_count": 96,
   "id": "6e48fde2-d027-413d-8a67-aff5e673a923",
   "metadata": {},
   "outputs": [
    {
     "name": "stdout",
     "output_type": "stream",
     "text": [
      "\n",
      "SELECT *\n",
      "FROM ML.PREDICT (MODEL `statmike-mlops-349915.fraud.bqml-import-onnx-sklearn`,(\n",
      "    SELECT * \n",
      "    FROM `statmike-mlops-349915.fraud.fraud_prepped`\n",
      "    WHERE splits = 'TEST'\n",
      "    LIMIT 1)\n",
      "  )\n",
      "\n"
     ]
    }
   ],
   "source": [
    "print(query)"
   ]
  },
  {
   "cell_type": "code",
   "execution_count": null,
   "id": "f95fef41-730f-4881-89c1-fd8e43d867b1",
   "metadata": {},
   "outputs": [],
   "source": []
  }
 ],
 "metadata": {
  "environment": {
   "kernel": "conda-root-py",
   "name": "workbench-notebooks.m113",
   "type": "gcloud",
   "uri": "gcr.io/deeplearning-platform-release/workbench-notebooks:m113"
  },
  "kernelspec": {
   "display_name": "Python 3 (ipykernel) (Local)",
   "language": "python",
   "name": "conda-root-py"
  },
  "language_info": {
   "codemirror_mode": {
    "name": "ipython",
    "version": 3
   },
   "file_extension": ".py",
   "mimetype": "text/x-python",
   "name": "python",
   "nbconvert_exporter": "python",
   "pygments_lexer": "ipython3",
   "version": "3.10.13"
  }
 },
 "nbformat": 4,
 "nbformat_minor": 5
}
