{
 "cells": [
  {
   "cell_type": "markdown",
   "id": "e0ded81e",
   "metadata": {},
   "source": [
    "![ga4](https://www.google-analytics.com/collect?v=2&tid=G-6VDTYWLKX6&cid=1&en=page_view&sid=1&dl=statmike%2Fvertex-ai-mlops%2F03+-+BigQuery+ML+%28BQML%29&dt=BQML+Cross-validation+Example.ipynb)\n",
    "<!--- header table --->\n",
    "<table align=\"left\">\n",
    "  <td style=\"text-align: center\">\n",
    "    <a href=\"https://colab.research.google.com/github/statmike/vertex-ai-mlops/blob/main/03%20-%20BigQuery%20ML%20%28BQML%29/BQML%20Cross-validation%20Example.ipynb\">\n",
    "      <img src=\"https://cloud.google.com/ml-engine/images/colab-logo-32px.png\" alt=\"Google Colaboratory logo\">\n",
    "      <br>Run in<br>Colab\n",
    "    </a>\n",
    "  </td>\n",
    "  <td style=\"text-align: center\">\n",
    "    <a href=\"https://console.cloud.google.com/vertex-ai/colab/import/https%3A//raw.githubusercontent.com/statmike/vertex-ai-mlops/main/03%20-%20BigQuery%20ML%20%28BQML%29/BQML%20Cross-validation%20Example.ipynb\">\n",
    "      <img width=\"32px\" src=\"https://lh3.googleusercontent.com/JmcxdQi-qOpctIvWKgPtrzZdJJK-J3sWE1RsfjZNwshCFgE_9fULcNpuXYTilIR2hjwN\" alt=\"Google Cloud Colab Enterprise logo\">\n",
    "      <br>Run in<br>Colab Enterprise\n",
    "    </a>\n",
    "  </td>      \n",
    "  <td style=\"text-align: center\">\n",
    "    <a href=\"https://github.com/statmike/vertex-ai-mlops/blob/main/03%20-%20BigQuery%20ML%20%28BQML%29/BQML%20Cross-validation%20Example.ipynb\">\n",
    "      <img src=\"https://cloud.google.com/ml-engine/images/github-logo-32px.png\" alt=\"GitHub logo\">\n",
    "      <br>View on<br>GitHub\n",
    "    </a>\n",
    "  </td>\n",
    "  <td style=\"text-align: center\">\n",
    "    <a href=\"https://console.cloud.google.com/vertex-ai/workbench/deploy-notebook?download_url=https%3A//raw.githubusercontent.com/statmike/vertex-ai-mlops/main/03%20-%20BigQuery%20ML%20%28BQML%29/BQML%20Cross-validation%20Example.ipynb\">\n",
    "      <img src=\"https://lh3.googleusercontent.com/UiNooY4LUgW_oTvpsNhPpQzsstV5W8F7rYgxgGBD85cWJoLmrOzhVs_ksK_vgx40SHs7jCqkTkCk=e14-rj-sc0xffffff-h130-w32\" alt=\"Vertex AI logo\">\n",
    "      <br>Open in<br>Vertex AI Workbench\n",
    "    </a>\n",
    "  </td>\n",
    "</table>"
   ]
  },
  {
   "cell_type": "markdown",
   "id": "555f6c72-f12d-426c-a53b-98b8474e2f14",
   "metadata": {},
   "source": [
    "# BQML Cross-validation Examples\n",
    "\n",
    "This notebook will examine using BQML to do k-fold cross-validation for model validation.  \n",
    "\n",
    "This will build on the example in [03a - BQML Logistic Regression](./03a%20-%20BQML%20Logistic%20Regression.ipynb). In that example a hold out sample was used for testing based on the `split` column created in the data setup in notebook [01 - BigQuery - Table Data Source](../01%20-%20Data%20Sources/01%20-%20BigQuery%20-%20Table%20Data%20Source.ipynb).\n",
    "\n",
    "**Prerequisites:**\n",
    "- [01 - BigQuery - Table Data Source](../01%20-%20Data%20Sources/01%20-%20BigQuery%20-%20Table%20Data%20Source.ipynb)\n",
    "\n",
    "**Resources:**\n",
    "- [BigQuery ML (BQML) Overview](https://cloud.google.com/bigquery-ml/docs/introduction)\n",
    "- [Overview of BQML methods and workflows](https://cloud.google.com/bigquery-ml/docs/reference/standard-sql/bigqueryml-syntax-e2e-journey)\n",
    "- [BigQuery](https://cloud.google.com/bigquery)\n",
    "    - [Documentation:](https://cloud.google.com/bigquery/docs/query-overview)\n",
    "    - [API:](https://cloud.google.com/bigquery/docs/reference/libraries-overview)\n",
    "        - [Clients](https://cloud.google.com/bigquery/docs/reference/libraries)\n",
    "            - [Python SDK:](https://github.com/googleapis/python-bigquery)\n",
    "            - [Python Library Reference:](https://cloud.google.com/python/docs/reference/bigquery/latest)\n",
    "- [Vertex AI](https://cloud.google.com/vertex-ai)\n",
    "    - [Documentation:](https://cloud.google.com/vertex-ai/docs/start/introduction-unified-platform)\n",
    "    - [API:](https://cloud.google.com/vertex-ai/docs/reference)\n",
    "        - [Clients:](https://cloud.google.com/vertex-ai/docs/start/client-libraries)\n",
    "            - [Python SDK:](https://github.com/googleapis/python-aiplatform)\n",
    "            - [Python Library Reference:](https://cloud.google.com/python/docs/reference/aiplatform/latest)"
   ]
  },
  {
   "cell_type": "markdown",
   "id": "de52a9b3-4e13-4183-94b3-90cb926c8880",
   "metadata": {},
   "source": [
    "---\n",
    "## Colab Setup\n",
    "\n",
    "To run this notebook in Colab click [![Open In Colab](https://colab.research.google.com/assets/colab-badge.svg)](https://colab.research.google.com/github/statmike/vertex-ai-mlops/blob/main/03%20-%20BigQuery%20ML%20(BQML)/BQML%20Cross-validation%20Example.ipynb) and run the cells in this section.  Otherwise, skip this section.\n",
    "\n",
    "This cell will authenticate to GCP (follow prompts in the popup)."
   ]
  },
  {
   "cell_type": "code",
   "execution_count": 1,
   "id": "29e2b2a2-2014-4393-bdf1-37d12ba3adde",
   "metadata": {},
   "outputs": [],
   "source": [
    "PROJECT_ID = 'statmike-mlops-349915' # replace with project ID"
   ]
  },
  {
   "cell_type": "code",
   "execution_count": 473,
   "id": "ddfcdb87-d6af-4df0-aa62-2f23b0405915",
   "metadata": {},
   "outputs": [],
   "source": [
    "try:\n",
    "    import google.colab\n",
    "    from google.colab import auth\n",
    "    auth.authenticate_user()\n",
    "    !gcloud config set project {PROJECT_ID}\n",
    "except Exception:\n",
    "    pass"
   ]
  },
  {
   "cell_type": "markdown",
   "id": "39373eae-d9be-4f65-a167-47e078bc2643",
   "metadata": {},
   "source": [
    "---\n",
    "## Setup"
   ]
  },
  {
   "cell_type": "markdown",
   "id": "204bac5c-5d8f-446f-a1ce-2a6ce4f4f986",
   "metadata": {},
   "source": [
    "inputs:"
   ]
  },
  {
   "cell_type": "code",
   "execution_count": 65,
   "id": "0954b7dd-c251-4e09-ab47-5820b5873f6b",
   "metadata": {},
   "outputs": [
    {
     "data": {
      "text/plain": [
       "'statmike-mlops-349915'"
      ]
     },
     "execution_count": 65,
     "metadata": {},
     "output_type": "execute_result"
    }
   ],
   "source": [
    "project = !gcloud config get-value project\n",
    "PROJECT_ID = project[0]\n",
    "PROJECT_ID"
   ]
  },
  {
   "cell_type": "code",
   "execution_count": 66,
   "id": "9c9132e0-2aab-4923-bf6d-9f3a7f61bc15",
   "metadata": {},
   "outputs": [],
   "source": [
    "REGION = 'us-central1'\n",
    "EXPERIMENT = 'crossval'\n",
    "SERIES = '03'\n",
    "\n",
    "# source data\n",
    "BQ_PROJECT = PROJECT_ID\n",
    "BQ_DATASET = 'fraud'\n",
    "BQ_TABLE = 'fraud_prepped'\n",
    "\n",
    "# Model Training\n",
    "VAR_TARGET = 'Class'\n",
    "VAR_OMIT = 'transaction_id' # add more variables to the string with space delimiters"
   ]
  },
  {
   "cell_type": "markdown",
   "id": "ab69e80f-0f79-4396-b413-beddffb5cf57",
   "metadata": {},
   "source": [
    "packages:"
   ]
  },
  {
   "cell_type": "code",
   "execution_count": 67,
   "id": "fe747672-6c23-436c-a437-d0d1ebd11cf2",
   "metadata": {},
   "outputs": [],
   "source": [
    "from google.cloud import bigquery\n",
    "from datetime import datetime\n",
    "import matplotlib.pyplot as plt\n",
    "from sklearn import metrics"
   ]
  },
  {
   "cell_type": "markdown",
   "id": "d244f12b-3d2a-4366-aa07-8cf4df6253bd",
   "metadata": {},
   "source": [
    "clients:"
   ]
  },
  {
   "cell_type": "code",
   "execution_count": 68,
   "id": "c8474728-6ac0-4f90-be4e-827b6297e04c",
   "metadata": {},
   "outputs": [],
   "source": [
    "bq = bigquery.Client(project = PROJECT_ID)"
   ]
  },
  {
   "cell_type": "markdown",
   "id": "91615f3c-badd-41d5-b23f-28bc04624e92",
   "metadata": {},
   "source": [
    "parameters:"
   ]
  },
  {
   "cell_type": "code",
   "execution_count": 69,
   "id": "242783f8-c90d-4b2d-b916-21348fb231af",
   "metadata": {},
   "outputs": [],
   "source": [
    "TIMESTAMP = datetime.now().strftime(\"%Y%m%d%H%M%S\")\n",
    "RUN_NAME = f'run-{TIMESTAMP}'\n",
    "\n",
    "BQ_MODEL = f'{SERIES}_{EXPERIMENT}_{TIMESTAMP}'"
   ]
  },
  {
   "cell_type": "markdown",
   "id": "875ca21e-10d8-4b20-8ce9-1edb7ac16b41",
   "metadata": {},
   "source": [
    "---\n",
    "## Review Data\n",
    "\n",
    "The data source here was prepared in [01 - BigQuery - Table Data Source](../01%20-%20Data%20Sources/01%20-%20BigQuery%20-%20Table%20Data%20Source.ipynb).  In this notebook we will use prepared BigQuery table to build a model with BigQuery ML (BQML).\n",
    "\n",
    "This is a table of 284,807 credit card transactions classified as fradulant or normal in the column `Class`.  In order protect confidentiality, the original features have been transformed using [principle component analysis (PCA)](https://en.wikipedia.org/wiki/Principal_component_analysis) into 28 features named `V1, V2, ... V28` (float).  Two descriptive features are provided without transformation by PCA:\n",
    "- `Time` (integer) is the seconds elapsed between the transaction and the earliest transaction in the table\n",
    "- `Amount` (float) is the value of the transaction\n",
    "\n",
    "The data preparation included added splits for machine learning with a column named `splits` with 80% for training (`TRAIN`), 10% for validation (`VALIDATE`) and 10% for testing (`TEST`).  Additionally, a unique identifier was added to each transaction, `transaction_id`.  "
   ]
  },
  {
   "cell_type": "markdown",
   "id": "abdcdcec-0b67-4cd3-a3ce-3652cd18df8a",
   "metadata": {},
   "source": [
    "Review the number of records for each level of Class (VAR_TARGET) for each of the data splits:"
   ]
  },
  {
   "cell_type": "code",
   "execution_count": 70,
   "id": "ff09e056-b0f5-414e-8e82-d4d3c12159c7",
   "metadata": {},
   "outputs": [
    {
     "data": {
      "text/html": [
       "<div>\n",
       "<style scoped>\n",
       "    .dataframe tbody tr th:only-of-type {\n",
       "        vertical-align: middle;\n",
       "    }\n",
       "\n",
       "    .dataframe tbody tr th {\n",
       "        vertical-align: top;\n",
       "    }\n",
       "\n",
       "    .dataframe thead th {\n",
       "        text-align: right;\n",
       "    }\n",
       "</style>\n",
       "<table border=\"1\" class=\"dataframe\">\n",
       "  <thead>\n",
       "    <tr style=\"text-align: right;\">\n",
       "      <th></th>\n",
       "      <th>splits</th>\n",
       "      <th>Class</th>\n",
       "      <th>n</th>\n",
       "    </tr>\n",
       "  </thead>\n",
       "  <tbody>\n",
       "    <tr>\n",
       "      <th>0</th>\n",
       "      <td>TEST</td>\n",
       "      <td>0</td>\n",
       "      <td>28455</td>\n",
       "    </tr>\n",
       "    <tr>\n",
       "      <th>1</th>\n",
       "      <td>TEST</td>\n",
       "      <td>1</td>\n",
       "      <td>47</td>\n",
       "    </tr>\n",
       "    <tr>\n",
       "      <th>2</th>\n",
       "      <td>TRAIN</td>\n",
       "      <td>0</td>\n",
       "      <td>227664</td>\n",
       "    </tr>\n",
       "    <tr>\n",
       "      <th>3</th>\n",
       "      <td>TRAIN</td>\n",
       "      <td>1</td>\n",
       "      <td>397</td>\n",
       "    </tr>\n",
       "    <tr>\n",
       "      <th>4</th>\n",
       "      <td>VALIDATE</td>\n",
       "      <td>0</td>\n",
       "      <td>28196</td>\n",
       "    </tr>\n",
       "    <tr>\n",
       "      <th>5</th>\n",
       "      <td>VALIDATE</td>\n",
       "      <td>1</td>\n",
       "      <td>48</td>\n",
       "    </tr>\n",
       "  </tbody>\n",
       "</table>\n",
       "</div>"
      ],
      "text/plain": [
       "     splits  Class       n\n",
       "0      TEST      0   28455\n",
       "1      TEST      1      47\n",
       "2     TRAIN      0  227664\n",
       "3     TRAIN      1     397\n",
       "4  VALIDATE      0   28196\n",
       "5  VALIDATE      1      48"
      ]
     },
     "execution_count": 70,
     "metadata": {},
     "output_type": "execute_result"
    }
   ],
   "source": [
    "query = f\"\"\"\n",
    "SELECT splits, {VAR_TARGET}, count(*) as n\n",
    "FROM `{BQ_PROJECT}.{BQ_DATASET}.{BQ_TABLE}`\n",
    "GROUP BY splits, {VAR_TARGET}\n",
    "\"\"\"\n",
    "bq.query(query = query).to_dataframe()"
   ]
  },
  {
   "cell_type": "markdown",
   "id": "782d8af6-207b-4650-b2b8-fa353480a7f4",
   "metadata": {},
   "source": [
    "Further review the balance of the target variable (VAR_TARGET) for each split as a percentage of the split:"
   ]
  },
  {
   "cell_type": "code",
   "execution_count": 71,
   "id": "09b42087-032c-4775-97da-5e074bb4baa7",
   "metadata": {},
   "outputs": [
    {
     "data": {
      "text/html": [
       "<div>\n",
       "<style scoped>\n",
       "    .dataframe tbody tr th:only-of-type {\n",
       "        vertical-align: middle;\n",
       "    }\n",
       "\n",
       "    .dataframe tbody tr th {\n",
       "        vertical-align: top;\n",
       "    }\n",
       "\n",
       "    .dataframe thead th {\n",
       "        text-align: right;\n",
       "    }\n",
       "</style>\n",
       "<table border=\"1\" class=\"dataframe\">\n",
       "  <thead>\n",
       "    <tr style=\"text-align: right;\">\n",
       "      <th></th>\n",
       "      <th>splits</th>\n",
       "      <th>Class</th>\n",
       "      <th>n</th>\n",
       "      <th>total</th>\n",
       "      <th>n_pct_class</th>\n",
       "      <th>n_pct_split</th>\n",
       "      <th>class_pct_total</th>\n",
       "    </tr>\n",
       "  </thead>\n",
       "  <tbody>\n",
       "    <tr>\n",
       "      <th>0</th>\n",
       "      <td>TEST</td>\n",
       "      <td>0</td>\n",
       "      <td>28455</td>\n",
       "      <td>284807</td>\n",
       "      <td>0.100083</td>\n",
       "      <td>0.998351</td>\n",
       "      <td>0.998273</td>\n",
       "    </tr>\n",
       "    <tr>\n",
       "      <th>1</th>\n",
       "      <td>TEST</td>\n",
       "      <td>1</td>\n",
       "      <td>47</td>\n",
       "      <td>284807</td>\n",
       "      <td>0.095528</td>\n",
       "      <td>0.001649</td>\n",
       "      <td>0.001727</td>\n",
       "    </tr>\n",
       "    <tr>\n",
       "      <th>2</th>\n",
       "      <td>VALIDATE</td>\n",
       "      <td>0</td>\n",
       "      <td>28196</td>\n",
       "      <td>284807</td>\n",
       "      <td>0.099172</td>\n",
       "      <td>0.998301</td>\n",
       "      <td>0.998273</td>\n",
       "    </tr>\n",
       "    <tr>\n",
       "      <th>3</th>\n",
       "      <td>VALIDATE</td>\n",
       "      <td>1</td>\n",
       "      <td>48</td>\n",
       "      <td>284807</td>\n",
       "      <td>0.097561</td>\n",
       "      <td>0.001699</td>\n",
       "      <td>0.001727</td>\n",
       "    </tr>\n",
       "    <tr>\n",
       "      <th>4</th>\n",
       "      <td>TRAIN</td>\n",
       "      <td>0</td>\n",
       "      <td>227664</td>\n",
       "      <td>284807</td>\n",
       "      <td>0.800746</td>\n",
       "      <td>0.998259</td>\n",
       "      <td>0.998273</td>\n",
       "    </tr>\n",
       "    <tr>\n",
       "      <th>5</th>\n",
       "      <td>TRAIN</td>\n",
       "      <td>1</td>\n",
       "      <td>397</td>\n",
       "      <td>284807</td>\n",
       "      <td>0.806911</td>\n",
       "      <td>0.001741</td>\n",
       "      <td>0.001727</td>\n",
       "    </tr>\n",
       "  </tbody>\n",
       "</table>\n",
       "</div>"
      ],
      "text/plain": [
       "     splits  Class       n   total  n_pct_class  n_pct_split  class_pct_total\n",
       "0      TEST      0   28455  284807     0.100083     0.998351         0.998273\n",
       "1      TEST      1      47  284807     0.095528     0.001649         0.001727\n",
       "2  VALIDATE      0   28196  284807     0.099172     0.998301         0.998273\n",
       "3  VALIDATE      1      48  284807     0.097561     0.001699         0.001727\n",
       "4     TRAIN      0  227664  284807     0.800746     0.998259         0.998273\n",
       "5     TRAIN      1     397  284807     0.806911     0.001741         0.001727"
      ]
     },
     "execution_count": 71,
     "metadata": {},
     "output_type": "execute_result"
    }
   ],
   "source": [
    "query = f\"\"\"\n",
    "WITH\n",
    "    COUNTS as (SELECT splits, {VAR_TARGET}, count(*) as n FROM `{BQ_PROJECT}.{BQ_DATASET}.{BQ_TABLE}` GROUP BY splits, {VAR_TARGET})\n",
    "    \n",
    "SELECT *,\n",
    "    SUM(n) OVER() as total,\n",
    "    SAFE_DIVIDE(n, SUM(n) OVER(PARTITION BY {VAR_TARGET})) as n_pct_class,\n",
    "    SAFE_DIVIDE(n, SUM(n) OVER(PARTITION BY splits)) as n_pct_split,\n",
    "    SAFE_DIVIDE(SUM(n) OVER(PARTITION BY {VAR_TARGET}), SUM(n) OVER()) as class_pct_total\n",
    "FROM COUNTS\n",
    "\"\"\"\n",
    "review = bq.query(query = query).to_dataframe()\n",
    "review"
   ]
  },
  {
   "cell_type": "markdown",
   "id": "c90f3f65-ee0b-44b5-a948-61a94a9dfb90",
   "metadata": {},
   "source": [
    "---\n",
    "## Prepare Data For Cross-validation\n",
    "\n"
   ]
  },
  {
   "cell_type": "markdown",
   "id": "ebf9cdd2-754d-4330-b588-844726446ba4",
   "metadata": {},
   "source": [
    "### Create BigQuery Dataset"
   ]
  },
  {
   "cell_type": "markdown",
   "id": "bb7df06f-6c1e-46ce-a67d-0a5485b3a1ae",
   "metadata": {},
   "source": [
    "List BigQuery datasets in the project:"
   ]
  },
  {
   "cell_type": "code",
   "execution_count": 72,
   "id": "094470fd-2e5f-4932-bb27-49106290000a",
   "metadata": {},
   "outputs": [
    {
     "name": "stdout",
     "output_type": "stream",
     "text": [
      "applied_forecasting\n",
      "explained_columns\n",
      "forecasting_8_tournament\n",
      "fraud\n",
      "github_api\n",
      "model_deployment_monitoring_1961322035766362112\n"
     ]
    }
   ],
   "source": [
    "datasets = list(bq.list_datasets())\n",
    "for d in datasets:\n",
    "    print(d.dataset_id)"
   ]
  },
  {
   "cell_type": "markdown",
   "id": "e4024e40-146b-4da6-abcd-aaa8fa67e789",
   "metadata": {},
   "source": [
    "Create the dataset if missing:"
   ]
  },
  {
   "cell_type": "code",
   "execution_count": 73,
   "id": "ad0ccf09-a126-4b2b-bcf4-37ca11023a4a",
   "metadata": {},
   "outputs": [],
   "source": [
    "ds = bigquery.Dataset(f\"{BQ_PROJECT}.crossvalidation\")\n",
    "ds.location = REGION\n",
    "ds.labels = {'experiment': f'{EXPERIMENT}'}\n",
    "ds = bq.create_dataset(dataset = ds, exists_ok = True)"
   ]
  },
  {
   "cell_type": "markdown",
   "id": "52f50318-e084-4b9e-a85b-07b4e941f575",
   "metadata": {},
   "source": [
    "List BigQuery datasets in the project:"
   ]
  },
  {
   "cell_type": "code",
   "execution_count": 74,
   "id": "ab705801-aaeb-40d5-9060-e397ca0d9fd3",
   "metadata": {},
   "outputs": [
    {
     "name": "stdout",
     "output_type": "stream",
     "text": [
      "applied_forecasting\n",
      "crossvalidation\n",
      "explained_columns\n",
      "forecasting_8_tournament\n",
      "fraud\n",
      "github_api\n",
      "model_deployment_monitoring_1961322035766362112\n"
     ]
    }
   ],
   "source": [
    "datasets = list(bq.list_datasets())\n",
    "for d in datasets:\n",
    "    print(d.dataset_id)"
   ]
  },
  {
   "cell_type": "markdown",
   "id": "d9171b1b-1d8f-4b84-9edc-b0826baaebbe",
   "metadata": {},
   "source": [
    "### Create BigQuery View With k-folds"
   ]
  },
  {
   "cell_type": "code",
   "execution_count": 75,
   "id": "31d8e4f9-297d-4404-a084-9d5e29e4a589",
   "metadata": {},
   "outputs": [],
   "source": [
    "k = 10"
   ]
  },
  {
   "cell_type": "code",
   "execution_count": 76,
   "id": "439a6910-f6ba-44be-94f0-bb37653e880f",
   "metadata": {},
   "outputs": [
    {
     "name": "stdout",
     "output_type": "stream",
     "text": [
      "\n",
      "    CREATE TABLE IF NOT EXISTS `statmike-mlops-349915.crossvalidation.fraud_prepped_10_fold` AS\n",
      "    SELECT * EXCEPT(splits),\n",
      "        MOD(ABS(FARM_FINGERPRINT(transaction_id)), 10) + 1 AS k\n",
      "    FROM `statmike-mlops-349915.fraud.fraud_prepped`\n",
      "\n"
     ]
    }
   ],
   "source": [
    "query = f\"\"\"\n",
    "    CREATE VIEW IF NOT EXISTS `{BQ_PROJECT}.crossvalidation.{BQ_TABLE}_{k}_fold` AS\n",
    "    SELECT * EXCEPT(splits),\n",
    "        MOD(ABS(FARM_FINGERPRINT(transaction_id)), {k}) + 1 AS k\n",
    "    FROM `{BQ_PROJECT}.{BQ_DATASET}.{BQ_TABLE}`\n",
    "\"\"\"\n",
    "print(query)"
   ]
  },
  {
   "cell_type": "code",
   "execution_count": 77,
   "id": "550697c0-0eaa-49ca-a5ae-49dcba61ca6e",
   "metadata": {},
   "outputs": [
    {
     "data": {
      "text/plain": [
       "<google.cloud.bigquery.table._EmptyRowIterator at 0x7f5b9b7e8d10>"
      ]
     },
     "execution_count": 77,
     "metadata": {},
     "output_type": "execute_result"
    }
   ],
   "source": [
    "job = bq.query(query = query)\n",
    "job.result()"
   ]
  },
  {
   "cell_type": "code",
   "execution_count": 78,
   "id": "3d1bfb37-871b-4c5c-a8b8-3251abd94275",
   "metadata": {},
   "outputs": [
    {
     "data": {
      "text/html": [
       "<div>\n",
       "<style scoped>\n",
       "    .dataframe tbody tr th:only-of-type {\n",
       "        vertical-align: middle;\n",
       "    }\n",
       "\n",
       "    .dataframe tbody tr th {\n",
       "        vertical-align: top;\n",
       "    }\n",
       "\n",
       "    .dataframe thead th {\n",
       "        text-align: right;\n",
       "    }\n",
       "</style>\n",
       "<table border=\"1\" class=\"dataframe\">\n",
       "  <thead>\n",
       "    <tr style=\"text-align: right;\">\n",
       "      <th></th>\n",
       "      <th>k</th>\n",
       "      <th>Class</th>\n",
       "      <th>n</th>\n",
       "      <th>total</th>\n",
       "      <th>n_pct_class</th>\n",
       "      <th>n_pct_k</th>\n",
       "      <th>class_pct_total</th>\n",
       "    </tr>\n",
       "  </thead>\n",
       "  <tbody>\n",
       "    <tr>\n",
       "      <th>0</th>\n",
       "      <td>1</td>\n",
       "      <td>0</td>\n",
       "      <td>28604</td>\n",
       "      <td>284807</td>\n",
       "      <td>0.100607</td>\n",
       "      <td>0.998151</td>\n",
       "      <td>0.998273</td>\n",
       "    </tr>\n",
       "    <tr>\n",
       "      <th>1</th>\n",
       "      <td>2</td>\n",
       "      <td>0</td>\n",
       "      <td>28258</td>\n",
       "      <td>284807</td>\n",
       "      <td>0.099390</td>\n",
       "      <td>0.998163</td>\n",
       "      <td>0.998273</td>\n",
       "    </tr>\n",
       "    <tr>\n",
       "      <th>2</th>\n",
       "      <td>3</td>\n",
       "      <td>0</td>\n",
       "      <td>28798</td>\n",
       "      <td>284807</td>\n",
       "      <td>0.101289</td>\n",
       "      <td>0.998405</td>\n",
       "      <td>0.998273</td>\n",
       "    </tr>\n",
       "    <tr>\n",
       "      <th>3</th>\n",
       "      <td>4</td>\n",
       "      <td>0</td>\n",
       "      <td>28379</td>\n",
       "      <td>284807</td>\n",
       "      <td>0.099815</td>\n",
       "      <td>0.998452</td>\n",
       "      <td>0.998273</td>\n",
       "    </tr>\n",
       "    <tr>\n",
       "      <th>4</th>\n",
       "      <td>5</td>\n",
       "      <td>0</td>\n",
       "      <td>28132</td>\n",
       "      <td>284807</td>\n",
       "      <td>0.098947</td>\n",
       "      <td>0.997836</td>\n",
       "      <td>0.998273</td>\n",
       "    </tr>\n",
       "    <tr>\n",
       "      <th>5</th>\n",
       "      <td>6</td>\n",
       "      <td>0</td>\n",
       "      <td>28663</td>\n",
       "      <td>284807</td>\n",
       "      <td>0.100814</td>\n",
       "      <td>0.998050</td>\n",
       "      <td>0.998273</td>\n",
       "    </tr>\n",
       "    <tr>\n",
       "      <th>6</th>\n",
       "      <td>7</td>\n",
       "      <td>0</td>\n",
       "      <td>28447</td>\n",
       "      <td>284807</td>\n",
       "      <td>0.100055</td>\n",
       "      <td>0.998456</td>\n",
       "      <td>0.998273</td>\n",
       "    </tr>\n",
       "    <tr>\n",
       "      <th>7</th>\n",
       "      <td>8</td>\n",
       "      <td>0</td>\n",
       "      <td>28383</td>\n",
       "      <td>284807</td>\n",
       "      <td>0.099829</td>\n",
       "      <td>0.998558</td>\n",
       "      <td>0.998273</td>\n",
       "    </tr>\n",
       "    <tr>\n",
       "      <th>8</th>\n",
       "      <td>9</td>\n",
       "      <td>0</td>\n",
       "      <td>28196</td>\n",
       "      <td>284807</td>\n",
       "      <td>0.099172</td>\n",
       "      <td>0.998301</td>\n",
       "      <td>0.998273</td>\n",
       "    </tr>\n",
       "    <tr>\n",
       "      <th>9</th>\n",
       "      <td>10</td>\n",
       "      <td>0</td>\n",
       "      <td>28455</td>\n",
       "      <td>284807</td>\n",
       "      <td>0.100083</td>\n",
       "      <td>0.998351</td>\n",
       "      <td>0.998273</td>\n",
       "    </tr>\n",
       "    <tr>\n",
       "      <th>10</th>\n",
       "      <td>1</td>\n",
       "      <td>1</td>\n",
       "      <td>53</td>\n",
       "      <td>284807</td>\n",
       "      <td>0.107724</td>\n",
       "      <td>0.001849</td>\n",
       "      <td>0.001727</td>\n",
       "    </tr>\n",
       "    <tr>\n",
       "      <th>11</th>\n",
       "      <td>2</td>\n",
       "      <td>1</td>\n",
       "      <td>52</td>\n",
       "      <td>284807</td>\n",
       "      <td>0.105691</td>\n",
       "      <td>0.001837</td>\n",
       "      <td>0.001727</td>\n",
       "    </tr>\n",
       "    <tr>\n",
       "      <th>12</th>\n",
       "      <td>3</td>\n",
       "      <td>1</td>\n",
       "      <td>46</td>\n",
       "      <td>284807</td>\n",
       "      <td>0.093496</td>\n",
       "      <td>0.001595</td>\n",
       "      <td>0.001727</td>\n",
       "    </tr>\n",
       "    <tr>\n",
       "      <th>13</th>\n",
       "      <td>4</td>\n",
       "      <td>1</td>\n",
       "      <td>44</td>\n",
       "      <td>284807</td>\n",
       "      <td>0.089431</td>\n",
       "      <td>0.001548</td>\n",
       "      <td>0.001727</td>\n",
       "    </tr>\n",
       "    <tr>\n",
       "      <th>14</th>\n",
       "      <td>5</td>\n",
       "      <td>1</td>\n",
       "      <td>61</td>\n",
       "      <td>284807</td>\n",
       "      <td>0.123984</td>\n",
       "      <td>0.002164</td>\n",
       "      <td>0.001727</td>\n",
       "    </tr>\n",
       "    <tr>\n",
       "      <th>15</th>\n",
       "      <td>6</td>\n",
       "      <td>1</td>\n",
       "      <td>56</td>\n",
       "      <td>284807</td>\n",
       "      <td>0.113821</td>\n",
       "      <td>0.001950</td>\n",
       "      <td>0.001727</td>\n",
       "    </tr>\n",
       "    <tr>\n",
       "      <th>16</th>\n",
       "      <td>7</td>\n",
       "      <td>1</td>\n",
       "      <td>44</td>\n",
       "      <td>284807</td>\n",
       "      <td>0.089431</td>\n",
       "      <td>0.001544</td>\n",
       "      <td>0.001727</td>\n",
       "    </tr>\n",
       "    <tr>\n",
       "      <th>17</th>\n",
       "      <td>8</td>\n",
       "      <td>1</td>\n",
       "      <td>41</td>\n",
       "      <td>284807</td>\n",
       "      <td>0.083333</td>\n",
       "      <td>0.001442</td>\n",
       "      <td>0.001727</td>\n",
       "    </tr>\n",
       "    <tr>\n",
       "      <th>18</th>\n",
       "      <td>9</td>\n",
       "      <td>1</td>\n",
       "      <td>48</td>\n",
       "      <td>284807</td>\n",
       "      <td>0.097561</td>\n",
       "      <td>0.001699</td>\n",
       "      <td>0.001727</td>\n",
       "    </tr>\n",
       "    <tr>\n",
       "      <th>19</th>\n",
       "      <td>10</td>\n",
       "      <td>1</td>\n",
       "      <td>47</td>\n",
       "      <td>284807</td>\n",
       "      <td>0.095528</td>\n",
       "      <td>0.001649</td>\n",
       "      <td>0.001727</td>\n",
       "    </tr>\n",
       "  </tbody>\n",
       "</table>\n",
       "</div>"
      ],
      "text/plain": [
       "     k  Class      n   total  n_pct_class   n_pct_k  class_pct_total\n",
       "0    1      0  28604  284807     0.100607  0.998151         0.998273\n",
       "1    2      0  28258  284807     0.099390  0.998163         0.998273\n",
       "2    3      0  28798  284807     0.101289  0.998405         0.998273\n",
       "3    4      0  28379  284807     0.099815  0.998452         0.998273\n",
       "4    5      0  28132  284807     0.098947  0.997836         0.998273\n",
       "5    6      0  28663  284807     0.100814  0.998050         0.998273\n",
       "6    7      0  28447  284807     0.100055  0.998456         0.998273\n",
       "7    8      0  28383  284807     0.099829  0.998558         0.998273\n",
       "8    9      0  28196  284807     0.099172  0.998301         0.998273\n",
       "9   10      0  28455  284807     0.100083  0.998351         0.998273\n",
       "10   1      1     53  284807     0.107724  0.001849         0.001727\n",
       "11   2      1     52  284807     0.105691  0.001837         0.001727\n",
       "12   3      1     46  284807     0.093496  0.001595         0.001727\n",
       "13   4      1     44  284807     0.089431  0.001548         0.001727\n",
       "14   5      1     61  284807     0.123984  0.002164         0.001727\n",
       "15   6      1     56  284807     0.113821  0.001950         0.001727\n",
       "16   7      1     44  284807     0.089431  0.001544         0.001727\n",
       "17   8      1     41  284807     0.083333  0.001442         0.001727\n",
       "18   9      1     48  284807     0.097561  0.001699         0.001727\n",
       "19  10      1     47  284807     0.095528  0.001649         0.001727"
      ]
     },
     "execution_count": 78,
     "metadata": {},
     "output_type": "execute_result"
    }
   ],
   "source": [
    "query = f\"\"\"\n",
    "WITH\n",
    "    COUNTS as (SELECT k, {VAR_TARGET}, count(*) as n FROM `{BQ_PROJECT}.crossvalidation.{BQ_TABLE}_{k}_fold` GROUP BY k, {VAR_TARGET})\n",
    "    \n",
    "SELECT *,\n",
    "    SUM(n) OVER() as total,\n",
    "    SAFE_DIVIDE(n, SUM(n) OVER(PARTITION BY {VAR_TARGET})) as n_pct_class,\n",
    "    SAFE_DIVIDE(n, SUM(n) OVER(PARTITION BY k)) as n_pct_k,\n",
    "    SAFE_DIVIDE(SUM(n) OVER(PARTITION BY {VAR_TARGET}), SUM(n) OVER()) as class_pct_total\n",
    "FROM COUNTS\n",
    "ORDER BY Class, k\n",
    "\"\"\"\n",
    "review = bq.query(query = query).to_dataframe()\n",
    "review"
   ]
  },
  {
   "cell_type": "markdown",
   "id": "c46f04e4-5fbe-41f3-a288-7663e65b6e1c",
   "metadata": {},
   "source": [
    "---\n",
    "## Cross-Validation Models\n",
    "\n",
    "This submits separate model creation queries for each of the k-folds.  Note that BigQuery has a [default limits](https://cloud.google.com/bigquery/quotas#query_jobs) for concurrent queries (100) and queued queries (1000) within a project that might affect how this works if there are many folds or many other queries being executed in this project.  There are multiple ways to work around this ranging from running sequentially, running in groups, to managing the size of the [query queue](https://cloud.google.com/bigquery/docs/query-queues).  "
   ]
  },
  {
   "cell_type": "code",
   "execution_count": 79,
   "id": "c6805131-3cc0-4e66-9c6d-829510625e46",
   "metadata": {},
   "outputs": [],
   "source": [
    "jobs = []\n",
    "for i in range(k):\n",
    "    query = f\"\"\"\n",
    "        CREATE OR REPLACE MODEL `{BQ_PROJECT}.crossvalidation.{BQ_MODEL}_fold_{i+1}`\n",
    "        OPTIONS (\n",
    "                model_type = 'LOGISTIC_REG',\n",
    "                auto_class_weights = TRUE,\n",
    "                input_label_cols = ['{VAR_TARGET}'],\n",
    "                data_split_method = 'NO_SPLIT'\n",
    "            ) AS\n",
    "        SELECT * EXCEPT({','.join(VAR_OMIT.split())}, k)\n",
    "        FROM `{BQ_PROJECT}.crossvalidation.{BQ_TABLE}_{k}_fold`\n",
    "        WHERE k != {i+1}   \n",
    "    \"\"\"\n",
    "    job = bq.query(query = query)\n",
    "    jobs.append(job)"
   ]
  },
  {
   "cell_type": "markdown",
   "id": "3bcd55b1-4893-4ed2-a65d-5d04781484e6",
   "metadata": {},
   "source": [
    "Wait for all the jobs to complete:"
   ]
  },
  {
   "cell_type": "code",
   "execution_count": 80,
   "id": "93b01ddd-c731-4f43-8d2a-3f7c45148b19",
   "metadata": {},
   "outputs": [
    {
     "name": "stdout",
     "output_type": "stream",
     "text": [
      "waiting for jobs to finish ... sleeping for 10s\n",
      "waiting for jobs to finish ... sleeping for 10s\n",
      "waiting for jobs to finish ... sleeping for 10s\n",
      "waiting for jobs to finish ... sleeping for 10s\n",
      "waiting for jobs to finish ... sleeping for 10s\n",
      "waiting for jobs to finish ... sleeping for 10s\n",
      "waiting for jobs to finish ... sleeping for 10s\n",
      "waiting for jobs to finish ... sleeping for 10s\n",
      "waiting for jobs to finish ... sleeping for 10s\n",
      "waiting for jobs to finish ... sleeping for 10s\n",
      "waiting for jobs to finish ... sleeping for 10s\n",
      "waiting for jobs to finish ... sleeping for 10s\n",
      "waiting for jobs to finish ... sleeping for 10s\n",
      "waiting for jobs to finish ... sleeping for 10s\n",
      "All jobs are complete!\n"
     ]
    }
   ],
   "source": [
    "from time import sleep\n",
    "while not all([job.done() for job in jobs]):\n",
    "  print('waiting for jobs to finish ... sleeping for 10s')\n",
    "  sleep(10)\n",
    "print('All jobs are complete!')"
   ]
  },
  {
   "cell_type": "markdown",
   "id": "4e7d4909-3513-4899-8dff-34392e4d7415",
   "metadata": {},
   "source": [
    "### Review The Cross-Validation"
   ]
  },
  {
   "cell_type": "code",
   "execution_count": 81,
   "id": "dec3b600-47dd-4e3f-8a81-0684a46b7880",
   "metadata": {},
   "outputs": [
    {
     "name": "stdout",
     "output_type": "stream",
     "text": [
      "\n",
      "        SELECT 1 as k, * FROM ML.EVALUATE (MODEL `statmike-mlops-349915.crossvalidation.03_crossval_20230206210458_fold_1`,\n",
      "            (SELECT * FROM `statmike-mlops-349915.crossvalidation.fraud_prepped_10_fold` WHERE k = 1))\n",
      "    UNION ALL\n",
      "        SELECT 2 as k, * FROM ML.EVALUATE (MODEL `statmike-mlops-349915.crossvalidation.03_crossval_20230206210458_fold_2`,\n",
      "            (SELECT * FROM `statmike-mlops-349915.crossvalidation.fraud_prepped_10_fold` WHERE k = 2))\n",
      "    UNION ALL\n",
      "        SELECT 3 as k, * FROM ML.EVALUATE (MODEL `statmike-mlops-349915.crossvalidation.03_crossval_20230206210458_fold_3`,\n",
      "            (SELECT * FROM `statmike-mlops-349915.crossvalidation.fraud_prepped_10_fold` WHERE k = 3))\n",
      "    UNION ALL\n",
      "        SELECT 4 as k, * FROM ML.EVALUATE (MODEL `statmike-mlops-349915.crossvalidation.03_crossval_20230206210458_fold_4`,\n",
      "            (SELECT * FROM `statmike-mlops-349915.crossvalidation.fraud_prepped_10_fold` WHERE k = 4))\n",
      "    UNION ALL\n",
      "        SELECT 5 as k, * FROM ML.EVALUATE (MODEL `statmike-mlops-349915.crossvalidation.03_crossval_20230206210458_fold_5`,\n",
      "            (SELECT * FROM `statmike-mlops-349915.crossvalidation.fraud_prepped_10_fold` WHERE k = 5))\n",
      "    UNION ALL\n",
      "        SELECT 6 as k, * FROM ML.EVALUATE (MODEL `statmike-mlops-349915.crossvalidation.03_crossval_20230206210458_fold_6`,\n",
      "            (SELECT * FROM `statmike-mlops-349915.crossvalidation.fraud_prepped_10_fold` WHERE k = 6))\n",
      "    UNION ALL\n",
      "        SELECT 7 as k, * FROM ML.EVALUATE (MODEL `statmike-mlops-349915.crossvalidation.03_crossval_20230206210458_fold_7`,\n",
      "            (SELECT * FROM `statmike-mlops-349915.crossvalidation.fraud_prepped_10_fold` WHERE k = 7))\n",
      "    UNION ALL\n",
      "        SELECT 8 as k, * FROM ML.EVALUATE (MODEL `statmike-mlops-349915.crossvalidation.03_crossval_20230206210458_fold_8`,\n",
      "            (SELECT * FROM `statmike-mlops-349915.crossvalidation.fraud_prepped_10_fold` WHERE k = 8))\n",
      "    UNION ALL\n",
      "        SELECT 9 as k, * FROM ML.EVALUATE (MODEL `statmike-mlops-349915.crossvalidation.03_crossval_20230206210458_fold_9`,\n",
      "            (SELECT * FROM `statmike-mlops-349915.crossvalidation.fraud_prepped_10_fold` WHERE k = 9))\n",
      "    UNION ALL\n",
      "        SELECT 10 as k, * FROM ML.EVALUATE (MODEL `statmike-mlops-349915.crossvalidation.03_crossval_20230206210458_fold_10`,\n",
      "            (SELECT * FROM `statmike-mlops-349915.crossvalidation.fraud_prepped_10_fold` WHERE k = 10))\n",
      "    ORDER BY k\n"
     ]
    }
   ],
   "source": [
    "query = ''\n",
    "for i in range(k):\n",
    "    query += f\"\"\"\n",
    "        SELECT {i+1} as k, * FROM ML.EVALUATE (MODEL `{BQ_PROJECT}.crossvalidation.{BQ_MODEL}_fold_{i+1}`,\n",
    "            (SELECT * FROM `{BQ_PROJECT}.crossvalidation.{BQ_TABLE}_{k}_fold` WHERE k = {i+1}))\n",
    "    \"\"\"\n",
    "    if i < k-1: query += \"UNION ALL\"\n",
    "    else: query += 'ORDER BY k'\n",
    "print(query)"
   ]
  },
  {
   "cell_type": "code",
   "execution_count": 82,
   "id": "6e36d300-f517-484d-8198-b4a69f2a6dea",
   "metadata": {},
   "outputs": [
    {
     "data": {
      "text/html": [
       "<div>\n",
       "<style scoped>\n",
       "    .dataframe tbody tr th:only-of-type {\n",
       "        vertical-align: middle;\n",
       "    }\n",
       "\n",
       "    .dataframe tbody tr th {\n",
       "        vertical-align: top;\n",
       "    }\n",
       "\n",
       "    .dataframe thead th {\n",
       "        text-align: right;\n",
       "    }\n",
       "</style>\n",
       "<table border=\"1\" class=\"dataframe\">\n",
       "  <thead>\n",
       "    <tr style=\"text-align: right;\">\n",
       "      <th></th>\n",
       "      <th>k</th>\n",
       "      <th>precision</th>\n",
       "      <th>recall</th>\n",
       "      <th>accuracy</th>\n",
       "      <th>f1_score</th>\n",
       "      <th>log_loss</th>\n",
       "      <th>roc_auc</th>\n",
       "    </tr>\n",
       "  </thead>\n",
       "  <tbody>\n",
       "    <tr>\n",
       "      <th>0</th>\n",
       "      <td>1</td>\n",
       "      <td>0.087687</td>\n",
       "      <td>0.886792</td>\n",
       "      <td>0.982727</td>\n",
       "      <td>0.159593</td>\n",
       "      <td>0.111964</td>\n",
       "      <td>0.977325</td>\n",
       "    </tr>\n",
       "    <tr>\n",
       "      <th>1</th>\n",
       "      <td>2</td>\n",
       "      <td>0.082353</td>\n",
       "      <td>0.942308</td>\n",
       "      <td>0.980608</td>\n",
       "      <td>0.151468</td>\n",
       "      <td>0.126503</td>\n",
       "      <td>0.982966</td>\n",
       "    </tr>\n",
       "    <tr>\n",
       "      <th>2</th>\n",
       "      <td>3</td>\n",
       "      <td>0.076655</td>\n",
       "      <td>0.956522</td>\n",
       "      <td>0.981556</td>\n",
       "      <td>0.141935</td>\n",
       "      <td>0.120929</td>\n",
       "      <td>0.994974</td>\n",
       "    </tr>\n",
       "    <tr>\n",
       "      <th>3</th>\n",
       "      <td>4</td>\n",
       "      <td>0.081028</td>\n",
       "      <td>0.931818</td>\n",
       "      <td>0.983534</td>\n",
       "      <td>0.149091</td>\n",
       "      <td>0.116855</td>\n",
       "      <td>0.996614</td>\n",
       "    </tr>\n",
       "    <tr>\n",
       "      <th>4</th>\n",
       "      <td>5</td>\n",
       "      <td>0.093103</td>\n",
       "      <td>0.885246</td>\n",
       "      <td>0.981095</td>\n",
       "      <td>0.168487</td>\n",
       "      <td>0.117733</td>\n",
       "      <td>0.985989</td>\n",
       "    </tr>\n",
       "    <tr>\n",
       "      <th>5</th>\n",
       "      <td>6</td>\n",
       "      <td>0.092527</td>\n",
       "      <td>0.928571</td>\n",
       "      <td>0.982102</td>\n",
       "      <td>0.168285</td>\n",
       "      <td>0.119718</td>\n",
       "      <td>0.989390</td>\n",
       "    </tr>\n",
       "    <tr>\n",
       "      <th>6</th>\n",
       "      <td>7</td>\n",
       "      <td>0.079909</td>\n",
       "      <td>0.795455</td>\n",
       "      <td>0.985539</td>\n",
       "      <td>0.145228</td>\n",
       "      <td>0.107578</td>\n",
       "      <td>0.958209</td>\n",
       "    </tr>\n",
       "    <tr>\n",
       "      <th>7</th>\n",
       "      <td>8</td>\n",
       "      <td>0.072144</td>\n",
       "      <td>0.878049</td>\n",
       "      <td>0.983535</td>\n",
       "      <td>0.133333</td>\n",
       "      <td>0.112189</td>\n",
       "      <td>0.979634</td>\n",
       "    </tr>\n",
       "    <tr>\n",
       "      <th>8</th>\n",
       "      <td>9</td>\n",
       "      <td>0.078324</td>\n",
       "      <td>0.895833</td>\n",
       "      <td>0.981908</td>\n",
       "      <td>0.144054</td>\n",
       "      <td>0.118807</td>\n",
       "      <td>0.948145</td>\n",
       "    </tr>\n",
       "    <tr>\n",
       "      <th>9</th>\n",
       "      <td>10</td>\n",
       "      <td>0.074468</td>\n",
       "      <td>0.893617</td>\n",
       "      <td>0.981510</td>\n",
       "      <td>0.137480</td>\n",
       "      <td>0.114005</td>\n",
       "      <td>0.977249</td>\n",
       "    </tr>\n",
       "  </tbody>\n",
       "</table>\n",
       "</div>"
      ],
      "text/plain": [
       "    k  precision    recall  accuracy  f1_score  log_loss   roc_auc\n",
       "0   1   0.087687  0.886792  0.982727  0.159593  0.111964  0.977325\n",
       "1   2   0.082353  0.942308  0.980608  0.151468  0.126503  0.982966\n",
       "2   3   0.076655  0.956522  0.981556  0.141935  0.120929  0.994974\n",
       "3   4   0.081028  0.931818  0.983534  0.149091  0.116855  0.996614\n",
       "4   5   0.093103  0.885246  0.981095  0.168487  0.117733  0.985989\n",
       "5   6   0.092527  0.928571  0.982102  0.168285  0.119718  0.989390\n",
       "6   7   0.079909  0.795455  0.985539  0.145228  0.107578  0.958209\n",
       "7   8   0.072144  0.878049  0.983535  0.133333  0.112189  0.979634\n",
       "8   9   0.078324  0.895833  0.981908  0.144054  0.118807  0.948145\n",
       "9  10   0.074468  0.893617  0.981510  0.137480  0.114005  0.977249"
      ]
     },
     "execution_count": 82,
     "metadata": {},
     "output_type": "execute_result"
    }
   ],
   "source": [
    "bq.query(query = query).to_dataframe()"
   ]
  },
  {
   "cell_type": "markdown",
   "id": "ca6b7336-1102-45a1-83b4-5793e0e13da2",
   "metadata": {},
   "source": [
    "## Compare to Model on Full Table"
   ]
  },
  {
   "cell_type": "code",
   "execution_count": 83,
   "id": "0d4b7bf4-f800-496a-b712-fe9e4d047b72",
   "metadata": {},
   "outputs": [
    {
     "name": "stdout",
     "output_type": "stream",
     "text": [
      "\n",
      "        CREATE OR REPLACE MODEL `statmike-mlops-349915.crossvalidation.03_crossval_20230206210458`\n",
      "        OPTIONS (\n",
      "                model_type = 'LOGISTIC_REG',\n",
      "                auto_class_weights = TRUE,\n",
      "                input_label_cols = ['Class'],\n",
      "                data_split_method = 'NO_SPLIT'\n",
      "            ) AS\n",
      "        SELECT * EXCEPT(transaction_id, k)\n",
      "        FROM `statmike-mlops-349915.crossvalidation.fraud_prepped_10_fold`\n",
      "\n"
     ]
    }
   ],
   "source": [
    "query = f\"\"\"\n",
    "        CREATE OR REPLACE MODEL `{BQ_PROJECT}.crossvalidation.{BQ_MODEL}`\n",
    "        OPTIONS (\n",
    "                model_type = 'LOGISTIC_REG',\n",
    "                auto_class_weights = TRUE,\n",
    "                input_label_cols = ['{VAR_TARGET}'],\n",
    "                data_split_method = 'NO_SPLIT'\n",
    "            ) AS\n",
    "        SELECT * EXCEPT({','.join(VAR_OMIT.split())}, k)\n",
    "        FROM `{BQ_PROJECT}.crossvalidation.{BQ_TABLE}_{k}_fold`\n",
    "\"\"\"\n",
    "print(query)"
   ]
  },
  {
   "cell_type": "code",
   "execution_count": 84,
   "id": "b1f2e6cf-e242-4143-a052-498ca6214ce2",
   "metadata": {},
   "outputs": [
    {
     "data": {
      "text/plain": [
       "<google.cloud.bigquery.table._EmptyRowIterator at 0x7f5b9b65e690>"
      ]
     },
     "execution_count": 84,
     "metadata": {},
     "output_type": "execute_result"
    }
   ],
   "source": [
    "job = bq.query(query = query)\n",
    "job.result()"
   ]
  },
  {
   "cell_type": "code",
   "execution_count": 85,
   "id": "b22e001e-88b5-4b8e-b2c9-0391d5be3c63",
   "metadata": {},
   "outputs": [
    {
     "data": {
      "text/html": [
       "<div>\n",
       "<style scoped>\n",
       "    .dataframe tbody tr th:only-of-type {\n",
       "        vertical-align: middle;\n",
       "    }\n",
       "\n",
       "    .dataframe tbody tr th {\n",
       "        vertical-align: top;\n",
       "    }\n",
       "\n",
       "    .dataframe thead th {\n",
       "        text-align: right;\n",
       "    }\n",
       "</style>\n",
       "<table border=\"1\" class=\"dataframe\">\n",
       "  <thead>\n",
       "    <tr style=\"text-align: right;\">\n",
       "      <th></th>\n",
       "      <th>precision</th>\n",
       "      <th>recall</th>\n",
       "      <th>accuracy</th>\n",
       "      <th>f1_score</th>\n",
       "      <th>log_loss</th>\n",
       "      <th>roc_auc</th>\n",
       "    </tr>\n",
       "  </thead>\n",
       "  <tbody>\n",
       "    <tr>\n",
       "      <th>0</th>\n",
       "      <td>0.083707</td>\n",
       "      <td>0.910569</td>\n",
       "      <td>0.982627</td>\n",
       "      <td>0.15332</td>\n",
       "      <td>0.11659</td>\n",
       "      <td>0.985649</td>\n",
       "    </tr>\n",
       "  </tbody>\n",
       "</table>\n",
       "</div>"
      ],
      "text/plain": [
       "   precision    recall  accuracy  f1_score  log_loss   roc_auc\n",
       "0   0.083707  0.910569  0.982627   0.15332   0.11659  0.985649"
      ]
     },
     "execution_count": 85,
     "metadata": {},
     "output_type": "execute_result"
    }
   ],
   "source": [
    "query = f\"\"\"\n",
    "SELECT * FROM ML.EVALUATE (MODEL `{BQ_PROJECT}.crossvalidation.{BQ_MODEL}`,\n",
    "    (SELECT * FROM `{BQ_PROJECT}.crossvalidation.{BQ_TABLE}_{k}_fold`))\n",
    "\"\"\"\n",
    "review = bq.query(query = query).to_dataframe()\n",
    "review"
   ]
  },
  {
   "cell_type": "code",
   "execution_count": null,
   "id": "c246acca-76e7-4599-a4e5-d1565fb06c78",
   "metadata": {},
   "outputs": [],
   "source": []
  }
 ],
 "metadata": {
  "environment": {
   "kernel": "python3",
   "name": "tf2-gpu.2-11.m104",
   "type": "gcloud",
   "uri": "gcr.io/deeplearning-platform-release/tf2-gpu.2-11:m104"
  },
  "kernelspec": {
   "display_name": "Python 3 (ipykernel)",
   "language": "python",
   "name": "python3"
  },
  "language_info": {
   "codemirror_mode": {
    "name": "ipython",
    "version": 3
   },
   "file_extension": ".py",
   "mimetype": "text/x-python",
   "name": "python",
   "nbconvert_exporter": "python",
   "pygments_lexer": "ipython3",
   "version": "3.7.12"
  }
 },
 "nbformat": 4,
 "nbformat_minor": 5
}
