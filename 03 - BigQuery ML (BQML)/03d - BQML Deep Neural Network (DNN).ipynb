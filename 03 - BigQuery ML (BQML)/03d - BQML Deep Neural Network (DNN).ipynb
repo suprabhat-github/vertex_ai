{
 "cells": [
  {
   "cell_type": "markdown",
   "id": "104a1390",
   "metadata": {},
   "source": [
    "![ga4](https://www.google-analytics.com/collect?v=2&tid=G-6VDTYWLKX6&cid=1&en=page_view&sid=1&dl=statmike%2Fvertex-ai-mlops%2F03+-+BigQuery+ML+%28BQML%29&dt=03d+-+BQML+Deep+Neural+Network+%28DNN%29.ipynb)\n",
    "<!--- header table --->\n",
    "<table align=\"left\">\n",
    "  <td style=\"text-align: center\">\n",
    "    <a href=\"https://colab.research.google.com/github/statmike/vertex-ai-mlops/blob/main/03%20-%20BigQuery%20ML%20%28BQML%29/03d%20-%20BQML%20Deep%20Neural%20Network%20%28DNN%29.ipynb\">\n",
    "      <img src=\"https://cloud.google.com/ml-engine/images/colab-logo-32px.png\" alt=\"Google Colaboratory logo\">\n",
    "      <br>Run in<br>Colab\n",
    "    </a>\n",
    "  </td>\n",
    "  <td style=\"text-align: center\">\n",
    "    <a href=\"https://console.cloud.google.com/vertex-ai/colab/import/https%3A//raw.githubusercontent.com/statmike/vertex-ai-mlops/main/03%20-%20BigQuery%20ML%20%28BQML%29/03d%20-%20BQML%20Deep%20Neural%20Network%20%28DNN%29.ipynb\">\n",
    "      <img width=\"32px\" src=\"https://lh3.googleusercontent.com/JmcxdQi-qOpctIvWKgPtrzZdJJK-J3sWE1RsfjZNwshCFgE_9fULcNpuXYTilIR2hjwN\" alt=\"Google Cloud Colab Enterprise logo\">\n",
    "      <br>Run in<br>Colab Enterprise\n",
    "    </a>\n",
    "  </td>      \n",
    "  <td style=\"text-align: center\">\n",
    "    <a href=\"https://github.com/statmike/vertex-ai-mlops/blob/main/03%20-%20BigQuery%20ML%20%28BQML%29/03d%20-%20BQML%20Deep%20Neural%20Network%20%28DNN%29.ipynb\">\n",
    "      <img src=\"https://cloud.google.com/ml-engine/images/github-logo-32px.png\" alt=\"GitHub logo\">\n",
    "      <br>View on<br>GitHub\n",
    "    </a>\n",
    "  </td>\n",
    "  <td style=\"text-align: center\">\n",
    "    <a href=\"https://console.cloud.google.com/vertex-ai/workbench/deploy-notebook?download_url=https%3A//raw.githubusercontent.com/statmike/vertex-ai-mlops/main/03%20-%20BigQuery%20ML%20%28BQML%29/03d%20-%20BQML%20Deep%20Neural%20Network%20%28DNN%29.ipynb\">\n",
    "      <img src=\"https://lh3.googleusercontent.com/UiNooY4LUgW_oTvpsNhPpQzsstV5W8F7rYgxgGBD85cWJoLmrOzhVs_ksK_vgx40SHs7jCqkTkCk=e14-rj-sc0xffffff-h130-w32\" alt=\"Vertex AI logo\">\n",
    "      <br>Open in<br>Vertex AI Workbench\n",
    "    </a>\n",
    "  </td>\n",
    "</table>"
   ]
  },
  {
   "cell_type": "markdown",
   "id": "151df547-75dd-4dcf-96c6-8e54f0585ff8",
   "metadata": {},
   "source": [
    "# 03d - BigQuery ML (BQML) - DNN For Classification\n",
    "\n",
    "In this notebook, BigQuery ML (BQML) is used to create a deep neural network (DNN) using TensorFlow.\n",
    "\n",
    "**DNN**\n",
    "Deep learning, or deep structured learning, includes deep nearl networks (DNN) which are comprised of multiple hidden layers between the feature inputs and prediction outputs.  In this case a supervised learning DNN focused on classification based on a non-linear relationship between features and the target variable.  \n",
    "\n",
    "Reference:\n",
    "- [Deep learning](https://en.wikipedia.org/wiki/Deep_learning)\n",
    "- [Supervised Learning](https://en.wikipedia.org/wiki/Supervised_learning)\n",
    "\n",
    "**BigQuery ML (BQML)**\n",
    "\n",
    "BigQuery has a number of machine learning algorithms callable directly from SQL.  This gives the convenience of using the common language of `SQL` with statments like `CREATE MODEL …`.  The library of available models is constantly growing and covers supervised, unsupervised, and time series methods as well as functions for evaluation - even anomaly detection from results, explainability and hyperparameter tuning.  A great starting point for seeing the scope of available methods is the [user journey for models](https://cloud.google.com/bigquery-ml/docs/reference/standard-sql/bigqueryml-syntax-e2e-journey).\n",
    "\n",
    "**Prerequisites:**\n",
    "- [01 - BigQuery - Table Data Source](../01%20-%20Data%20Sources/01%20-%20BigQuery%20-%20Table%20Data%20Source.ipynb)\n",
    "\n",
    "**Resources:**\n",
    "-  [BigQuery ML (BQML) Overview](https://cloud.google.com/bigquery-ml/docs/introduction)\n",
    "-  [Overview of BQML methods and workflows](https://cloud.google.com/bigquery-ml/docs/reference/standard-sql/bigqueryml-syntax-e2e-journey)\n",
    "- [BigQuery](https://cloud.google.com/bigquery)\n",
    "    - [Documentation:](https://cloud.google.com/bigquery/docs/query-overview)\n",
    "    - [API:](https://cloud.google.com/bigquery/docs/reference/libraries-overview)\n",
    "        - [Clients](https://cloud.google.com/bigquery/docs/reference/libraries)\n",
    "            - [Python SDK:](https://github.com/googleapis/python-bigquery)\n",
    "            - [Python Library Reference:](https://cloud.google.com/python/docs/reference/bigquery/latest)\n",
    "- [Vertex AI](https://cloud.google.com/vertex-ai)\n",
    "    - [Documentation:](https://cloud.google.com/vertex-ai/docs/start/introduction-unified-platform)\n",
    "    - [API:](https://cloud.google.com/vertex-ai/docs/reference)\n",
    "        - [Clients:](https://cloud.google.com/vertex-ai/docs/start/client-libraries)\n",
    "            - [Python SDK:](https://github.com/googleapis/python-aiplatform)\n",
    "            - [Python Library Reference:](https://cloud.google.com/python/docs/reference/aiplatform/latest)\n",
    "\n",
    "**Conceptual Flow & Workflow**\n",
    "<p align=\"center\">\n",
    "  <img alt=\"Conceptual Flow\" src=\"../architectures/slides/03d_arch.png\" width=\"45%\">\n",
    "&nbsp; &nbsp; &nbsp; &nbsp;\n",
    "  <img alt=\"Workflow\" src=\"../architectures/slides/03d_console.png\" width=\"45%\">\n",
    "</p>"
   ]
  },
  {
   "cell_type": "markdown",
   "id": "191a7518-caeb-4d85-bc6a-b3d6f157d7cb",
   "metadata": {
    "id": "od_UkDpvRmgD"
   },
   "source": [
    "---\n",
    "## Colab Setup\n",
    "\n",
    "To run this notebook in Colab click [![Open In Colab](https://colab.research.google.com/assets/colab-badge.svg)](https://colab.research.google.com/github/statmike/vertex-ai-mlops/blob/main/03%20-%20BigQuery%20ML%20(BQML)/03d%20-%20BQML%20Deep%20Neural%20Network%20(DNN).ipynb) and run the cells in this section.  Otherwise, skip this section.\n",
    "\n",
    "This cell will authenticate to GCP (follow prompts in the popup)."
   ]
  },
  {
   "cell_type": "code",
   "execution_count": 1,
   "id": "498d72e9-6af2-4ad8-bc42-198d6b41f7f2",
   "metadata": {
    "executionInfo": {
     "elapsed": 195,
     "status": "ok",
     "timestamp": 1683726184843,
     "user": {
      "displayName": "Mike Henderson",
      "userId": "07691629187611687318"
     },
     "user_tz": 240
    },
    "id": "8UO9FnqyKBlF"
   },
   "outputs": [],
   "source": [
    "PROJECT_ID = 'statmike-mlops-349915' # replace with project ID"
   ]
  },
  {
   "cell_type": "code",
   "execution_count": 2,
   "id": "b31a7137-bbaa-499e-a31b-77291da2d654",
   "metadata": {
    "colab": {
     "base_uri": "https://localhost:8080/"
    },
    "executionInfo": {
     "elapsed": 68869,
     "status": "ok",
     "timestamp": 1683726253709,
     "user": {
      "displayName": "Mike Henderson",
      "userId": "07691629187611687318"
     },
     "user_tz": 240
    },
    "id": "N98-KK7LRkjm",
    "outputId": "09ec5008-0def-4e1a-c349-c598ee752f78"
   },
   "outputs": [],
   "source": [
    "try:\n",
    "    import google.colab\n",
    "    from google.colab import auth\n",
    "    auth.authenticate_user()\n",
    "    !gcloud config set project {PROJECT_ID}\n",
    "    \n",
    "    #installs\n",
    "    # Vertex AI GenAI Studio SDK - Update the aiplatform SDK\n",
    "    !pip install google.cloud.aiplatform -U -q --user\n",
    "    !pip install --upgrade gcsfs -U -q --user\n",
    "    !pip install --upgrade google-cloud-bigquery -U -q --user\n",
    "    !pip install --upgrade google-cloud-bigquery-storage -U -q --user\n",
    "    \n",
    "    # Enable Vertex AI For This Project\n",
    "    !gcloud services enable aiplatform.googleapis.com\n",
    "\n",
    "    # restart runtime\n",
    "    import IPython\n",
    "    app = IPython.Application.instance()\n",
    "    app.kernel.do_shutdown(True)    \n",
    "except Exception:\n",
    "    pass"
   ]
  },
  {
   "cell_type": "markdown",
   "id": "0d447e74-91d4-403a-8623-fbf76df3959a",
   "metadata": {},
   "source": [
    "---\n",
    "## Setup"
   ]
  },
  {
   "cell_type": "markdown",
   "id": "c05043f3-e03a-4442-b537-30624c890152",
   "metadata": {},
   "source": [
    "inputs:"
   ]
  },
  {
   "cell_type": "code",
   "execution_count": 1,
   "id": "d7d93ab9-33dd-446f-8144-de0c38505052",
   "metadata": {},
   "outputs": [
    {
     "data": {
      "text/plain": [
       "'statmike-mlops-349915'"
      ]
     },
     "execution_count": 1,
     "metadata": {},
     "output_type": "execute_result"
    }
   ],
   "source": [
    "project = !gcloud config get-value project\n",
    "PROJECT_ID = project[0]\n",
    "PROJECT_ID"
   ]
  },
  {
   "cell_type": "code",
   "execution_count": 2,
   "id": "422cf27c-9582-4457-a68c-2c6e9490a78e",
   "metadata": {},
   "outputs": [],
   "source": [
    "REGION = 'us-central1'\n",
    "EXPERIMENT = 'dnn'\n",
    "SERIES = 'bqml'\n",
    "\n",
    "# source data\n",
    "BQ_PROJECT = PROJECT_ID\n",
    "BQ_DATASET = 'fraud'\n",
    "BQ_TABLE = 'fraud_prepped'\n",
    "\n",
    "# Resources for serving BigQuery Model Exports\n",
    "TF_DEPLOY_IMAGE = 'us-docker.pkg.dev/vertex-ai/prediction/tf2-cpu.2-3:latest'\n",
    "XGB_DEPLOY_IMAGE = 'us-docker.pkg.dev/vertex-ai/prediction/xgboost-cpu.0-82:latest'\n",
    "\n",
    "# Resources for serving BigQuery Model Exports\n",
    "DEPLOY_COMPUTE = 'n1-standard-4'\n",
    "\n",
    "# Model Training\n",
    "VAR_TARGET = 'Class'\n",
    "VAR_OMIT = 'transaction_id' # add more variables to the string with space delimiters"
   ]
  },
  {
   "cell_type": "markdown",
   "id": "0d4ee22d-64c4-431e-b452-f1d8efbf9155",
   "metadata": {},
   "source": [
    "packages:"
   ]
  },
  {
   "cell_type": "code",
   "execution_count": 3,
   "id": "6934875f-e21b-4534-b42c-55f44fc99f65",
   "metadata": {},
   "outputs": [],
   "source": [
    "from google.cloud import bigquery\n",
    "from google.cloud import aiplatform\n",
    "from datetime import datetime\n",
    "import matplotlib.pyplot as plt\n",
    "from sklearn import metrics\n",
    "import numpy as np\n",
    "\n",
    "from google.api import httpbody_pb2\n",
    "import json"
   ]
  },
  {
   "cell_type": "markdown",
   "id": "e3060183-d87c-406e-8589-c8025651d280",
   "metadata": {},
   "source": [
    "clients:"
   ]
  },
  {
   "cell_type": "code",
   "execution_count": 4,
   "id": "4f55c687-0d18-42a1-8311-42c3f61f8ce8",
   "metadata": {},
   "outputs": [],
   "source": [
    "bq = bigquery.Client(project = PROJECT_ID)\n",
    "aiplatform.init(project = PROJECT_ID, location = REGION)"
   ]
  },
  {
   "cell_type": "markdown",
   "id": "bf7647d4-baf7-4133-9e2c-30b920d6c672",
   "metadata": {},
   "source": [
    "parameters:"
   ]
  },
  {
   "cell_type": "code",
   "execution_count": 5,
   "id": "b6d252bd-8027-488b-b755-523b54282b41",
   "metadata": {},
   "outputs": [],
   "source": [
    "TIMESTAMP = datetime.now().strftime(\"%Y%m%d%H%M%S\")\n",
    "BUCKET = PROJECT_ID\n",
    "URI = f\"gs://{BUCKET}/{SERIES}/{EXPERIMENT}\"\n",
    "RUN_NAME = f'run-{TIMESTAMP}'\n",
    "\n",
    "BQ_MODEL = f'{SERIES}_{EXPERIMENT}_{TIMESTAMP}'"
   ]
  },
  {
   "cell_type": "markdown",
   "id": "9ece490a-27a1-40bf-b0fe-77d75e8478e8",
   "metadata": {},
   "source": [
    "environment:"
   ]
  },
  {
   "cell_type": "code",
   "execution_count": 6,
   "id": "c5a0a38b-ca7a-43c6-88b2-0257b414e11e",
   "metadata": {},
   "outputs": [],
   "source": [
    "DIR = f\"temp/{EXPERIMENT}\"\n",
    "\n",
    "!rm -rf {DIR}\n",
    "!mkdir -p {DIR}"
   ]
  },
  {
   "cell_type": "markdown",
   "id": "c1f59cfe-e48d-4f15-b44b-f747cb69ccd9",
   "metadata": {},
   "source": [
    "---\n",
    "## Review Data\n",
    "\n",
    "The data source here was prepared in [01 - BigQuery - Table Data Source](../01%20-%20Data%20Sources/01%20-%20BigQuery%20-%20Table%20Data%20Source.ipynb).  In this notebook we will use prepared BigQuery table to build a model with BigQuery ML (BQML).\n",
    "\n",
    "This is a table of 284,807 credit card transactions classified as fradulant or normal in the column `Class`.  In order protect confidentiality, the original features have been transformed using [principle component analysis (PCA)](https://en.wikipedia.org/wiki/Principal_component_analysis) into 28 features named `V1, V2, ... V28` (float).  Two descriptive features are provided without transformation by PCA:\n",
    "- `Time` (integer) is the seconds elapsed between the transaction and the earliest transaction in the table\n",
    "- `Amount` (float) is the value of the transaction\n",
    "\n",
    "The data preparation included added splits for machine learning with a column named `splits` with 80% for training (`TRAIN`), 10% for validation (`VALIDATE`) and 10% for testing (`TEST`).  Additionally, a unique identifier was added to each transaction, `transaction_id`.  "
   ]
  },
  {
   "cell_type": "markdown",
   "id": "49234c6f-d3f4-46ad-9dc0-2c4583dd7a14",
   "metadata": {},
   "source": [
    "Review the number of records for each level of Class (VAR_TARGET) for each of the data splits:"
   ]
  },
  {
   "cell_type": "code",
   "execution_count": 7,
   "id": "4a24b34e-d47c-4c8a-bd39-f61f41df271e",
   "metadata": {},
   "outputs": [
    {
     "data": {
      "text/html": [
       "<div>\n",
       "<style scoped>\n",
       "    .dataframe tbody tr th:only-of-type {\n",
       "        vertical-align: middle;\n",
       "    }\n",
       "\n",
       "    .dataframe tbody tr th {\n",
       "        vertical-align: top;\n",
       "    }\n",
       "\n",
       "    .dataframe thead th {\n",
       "        text-align: right;\n",
       "    }\n",
       "</style>\n",
       "<table border=\"1\" class=\"dataframe\">\n",
       "  <thead>\n",
       "    <tr style=\"text-align: right;\">\n",
       "      <th></th>\n",
       "      <th>splits</th>\n",
       "      <th>Class</th>\n",
       "      <th>n</th>\n",
       "    </tr>\n",
       "  </thead>\n",
       "  <tbody>\n",
       "    <tr>\n",
       "      <th>0</th>\n",
       "      <td>TEST</td>\n",
       "      <td>0</td>\n",
       "      <td>28455</td>\n",
       "    </tr>\n",
       "    <tr>\n",
       "      <th>1</th>\n",
       "      <td>TEST</td>\n",
       "      <td>1</td>\n",
       "      <td>47</td>\n",
       "    </tr>\n",
       "    <tr>\n",
       "      <th>2</th>\n",
       "      <td>TRAIN</td>\n",
       "      <td>0</td>\n",
       "      <td>227664</td>\n",
       "    </tr>\n",
       "    <tr>\n",
       "      <th>3</th>\n",
       "      <td>TRAIN</td>\n",
       "      <td>1</td>\n",
       "      <td>397</td>\n",
       "    </tr>\n",
       "    <tr>\n",
       "      <th>4</th>\n",
       "      <td>VALIDATE</td>\n",
       "      <td>0</td>\n",
       "      <td>28196</td>\n",
       "    </tr>\n",
       "    <tr>\n",
       "      <th>5</th>\n",
       "      <td>VALIDATE</td>\n",
       "      <td>1</td>\n",
       "      <td>48</td>\n",
       "    </tr>\n",
       "  </tbody>\n",
       "</table>\n",
       "</div>"
      ],
      "text/plain": [
       "     splits  Class       n\n",
       "0      TEST      0   28455\n",
       "1      TEST      1      47\n",
       "2     TRAIN      0  227664\n",
       "3     TRAIN      1     397\n",
       "4  VALIDATE      0   28196\n",
       "5  VALIDATE      1      48"
      ]
     },
     "execution_count": 7,
     "metadata": {},
     "output_type": "execute_result"
    }
   ],
   "source": [
    "query = f\"\"\"\n",
    "SELECT splits, {VAR_TARGET}, count(*) as n\n",
    "FROM `{BQ_PROJECT}.{BQ_DATASET}.{BQ_TABLE}`\n",
    "GROUP BY splits, {VAR_TARGET}\n",
    "\"\"\"\n",
    "bq.query(query = query).to_dataframe()"
   ]
  },
  {
   "cell_type": "markdown",
   "id": "82831a6c-593e-4038-a5fb-f5d43394ae14",
   "metadata": {},
   "source": [
    "Further review the balance of the target variable (VAR_TARGET) for each split as a percentage of the split:"
   ]
  },
  {
   "cell_type": "code",
   "execution_count": 8,
   "id": "03514d43-7aad-47d9-9ccd-8c67623abb5f",
   "metadata": {},
   "outputs": [
    {
     "data": {
      "text/html": [
       "<div>\n",
       "<style scoped>\n",
       "    .dataframe tbody tr th:only-of-type {\n",
       "        vertical-align: middle;\n",
       "    }\n",
       "\n",
       "    .dataframe tbody tr th {\n",
       "        vertical-align: top;\n",
       "    }\n",
       "\n",
       "    .dataframe thead th {\n",
       "        text-align: right;\n",
       "    }\n",
       "</style>\n",
       "<table border=\"1\" class=\"dataframe\">\n",
       "  <thead>\n",
       "    <tr style=\"text-align: right;\">\n",
       "      <th></th>\n",
       "      <th>splits</th>\n",
       "      <th>Class</th>\n",
       "      <th>n</th>\n",
       "      <th>total</th>\n",
       "      <th>n_pct_class</th>\n",
       "      <th>n_pct_split</th>\n",
       "      <th>class_pct_total</th>\n",
       "    </tr>\n",
       "  </thead>\n",
       "  <tbody>\n",
       "    <tr>\n",
       "      <th>0</th>\n",
       "      <td>VALIDATE</td>\n",
       "      <td>0</td>\n",
       "      <td>28196</td>\n",
       "      <td>284807</td>\n",
       "      <td>0.099172</td>\n",
       "      <td>0.998301</td>\n",
       "      <td>0.998273</td>\n",
       "    </tr>\n",
       "    <tr>\n",
       "      <th>1</th>\n",
       "      <td>VALIDATE</td>\n",
       "      <td>1</td>\n",
       "      <td>48</td>\n",
       "      <td>284807</td>\n",
       "      <td>0.097561</td>\n",
       "      <td>0.001699</td>\n",
       "      <td>0.001727</td>\n",
       "    </tr>\n",
       "    <tr>\n",
       "      <th>2</th>\n",
       "      <td>TEST</td>\n",
       "      <td>0</td>\n",
       "      <td>28455</td>\n",
       "      <td>284807</td>\n",
       "      <td>0.100083</td>\n",
       "      <td>0.998351</td>\n",
       "      <td>0.998273</td>\n",
       "    </tr>\n",
       "    <tr>\n",
       "      <th>3</th>\n",
       "      <td>TEST</td>\n",
       "      <td>1</td>\n",
       "      <td>47</td>\n",
       "      <td>284807</td>\n",
       "      <td>0.095528</td>\n",
       "      <td>0.001649</td>\n",
       "      <td>0.001727</td>\n",
       "    </tr>\n",
       "    <tr>\n",
       "      <th>4</th>\n",
       "      <td>TRAIN</td>\n",
       "      <td>0</td>\n",
       "      <td>227664</td>\n",
       "      <td>284807</td>\n",
       "      <td>0.800746</td>\n",
       "      <td>0.998259</td>\n",
       "      <td>0.998273</td>\n",
       "    </tr>\n",
       "    <tr>\n",
       "      <th>5</th>\n",
       "      <td>TRAIN</td>\n",
       "      <td>1</td>\n",
       "      <td>397</td>\n",
       "      <td>284807</td>\n",
       "      <td>0.806911</td>\n",
       "      <td>0.001741</td>\n",
       "      <td>0.001727</td>\n",
       "    </tr>\n",
       "  </tbody>\n",
       "</table>\n",
       "</div>"
      ],
      "text/plain": [
       "     splits  Class       n   total  n_pct_class  n_pct_split  class_pct_total\n",
       "0  VALIDATE      0   28196  284807     0.099172     0.998301         0.998273\n",
       "1  VALIDATE      1      48  284807     0.097561     0.001699         0.001727\n",
       "2      TEST      0   28455  284807     0.100083     0.998351         0.998273\n",
       "3      TEST      1      47  284807     0.095528     0.001649         0.001727\n",
       "4     TRAIN      0  227664  284807     0.800746     0.998259         0.998273\n",
       "5     TRAIN      1     397  284807     0.806911     0.001741         0.001727"
      ]
     },
     "execution_count": 8,
     "metadata": {},
     "output_type": "execute_result"
    }
   ],
   "source": [
    "query = f\"\"\"\n",
    "WITH\n",
    "    COUNTS as (SELECT splits, {VAR_TARGET}, count(*) as n FROM `{BQ_PROJECT}.{BQ_DATASET}.{BQ_TABLE}` GROUP BY splits, {VAR_TARGET})\n",
    "    \n",
    "SELECT *,\n",
    "    SUM(n) OVER() as total,\n",
    "    SAFE_DIVIDE(n, SUM(n) OVER(PARTITION BY {VAR_TARGET})) as n_pct_class,\n",
    "    SAFE_DIVIDE(n, SUM(n) OVER(PARTITION BY splits)) as n_pct_split,\n",
    "    SAFE_DIVIDE(SUM(n) OVER(PARTITION BY {VAR_TARGET}), SUM(n) OVER()) as class_pct_total\n",
    "FROM COUNTS\n",
    "\"\"\"\n",
    "review = bq.query(query = query).to_dataframe()\n",
    "review"
   ]
  },
  {
   "cell_type": "markdown",
   "id": "093769b2-7d74-4106-b1d5-ff70bcc037ed",
   "metadata": {},
   "source": [
    "---\n",
    "## This Run"
   ]
  },
  {
   "cell_type": "code",
   "execution_count": 9,
   "id": "a64e7850-84da-46c9-9091-03714de89edf",
   "metadata": {},
   "outputs": [
    {
     "name": "stdout",
     "output_type": "stream",
     "text": [
      "This run will create BQML model: statmike-mlops-349915.fraud.bqml_dnn_20230627122933\n",
      "This run will create Vertex AI model: statmike-mlops-349915.fraud.bqml_bqml_dnn\n",
      "The runs timestamp Is: 20230627122933\n"
     ]
    }
   ],
   "source": [
    "print(f'This run will create BQML model: {BQ_PROJECT}.{BQ_DATASET}.{BQ_MODEL}')\n",
    "print(f'This run will create Vertex AI model: {BQ_PROJECT}.{BQ_DATASET}.bqml_{SERIES}_{EXPERIMENT}')\n",
    "print(f'The runs timestamp Is: {TIMESTAMP}')"
   ]
  },
  {
   "cell_type": "markdown",
   "id": "6b5659bf-35f3-4ae3-84b1-cc4ff9fee5ac",
   "metadata": {},
   "source": [
    "---\n",
    "## Train Model\n",
    "\n",
    "Use BigQuery ML to train multiclass DNN using TensorFlow:\n",
    "- [Deep Neural Network (DNN)](https://cloud.google.com/bigquery-ml/docs/reference/standard-sql/bigqueryml-syntax-create-dnn-models) with BigQuery ML (BQML)\n",
    "- This uses the `splits` column that notebook `01` created\n",
    "- `data_split_method = CUSTOM` uses the column in `data_split_col` to assign training data for `FALSE` values and evaluation data for `TRUE` values.\n",
    "    - in this example the `WHERE splits != 'TEST'` statement filters out the test data and\n",
    "    - the `CASE` statement maps training data to FALSE and validation data to TRUE\n",
    "    \n",
    "This example includes the [training options](https://cloud.google.com/bigquery-ml/docs/create_vertex) to register the resulting model in the [Vertex AI Model Registry](https://cloud.google.com/vertex-ai/docs/model-registry/introduction)."
   ]
  },
  {
   "cell_type": "code",
   "execution_count": 10,
   "id": "db69bf4e-7b9f-46d2-b822-abf58b41b67c",
   "metadata": {},
   "outputs": [
    {
     "name": "stdout",
     "output_type": "stream",
     "text": [
      "\n",
      "CREATE OR REPLACE MODEL `statmike-mlops-349915.fraud.bqml_dnn_20230627122933`\n",
      "OPTIONS\n",
      "    (model_type = 'DNN_CLASSIFIER',\n",
      "        auto_class_weights = FALSE,\n",
      "        input_label_cols = ['Class'],\n",
      "        enable_global_explain = TRUE,\n",
      "        integrated_gradients_num_steps = 30,\n",
      "        data_split_col = 'custom_splits',\n",
      "        data_split_method = 'CUSTOM',\n",
      "        activation_fn = 'SIGMOID',\n",
      "        batch_size = 100,\n",
      "        dropout = 0.15,\n",
      "        early_stop = FALSE,\n",
      "        hidden_units = [64, 32],\n",
      "        max_iterations = 10, #epochs\n",
      "        optimizer = 'SGD',\n",
      "        MODEL_REGISTRY = 'VERTEX_AI',\n",
      "        VERTEX_AI_MODEL_ID = 'bqml_bqml_dnn',\n",
      "        VERTEX_AI_MODEL_VERSION_ALIASES = ['run-20230627122933']\n",
      "    ) AS\n",
      "SELECT * EXCEPT(transaction_id, splits),\n",
      "    CASE\n",
      "        WHEN splits = 'TRAIN' THEN FALSE\n",
      "        ELSE TRUE\n",
      "    END AS custom_splits\n",
      "FROM `statmike-mlops-349915.fraud.fraud_prepped`\n",
      "WHERE splits != 'TEST'\n",
      "\n"
     ]
    }
   ],
   "source": [
    "query = f\"\"\"\n",
    "CREATE OR REPLACE MODEL `{BQ_PROJECT}.{BQ_DATASET}.{BQ_MODEL}`\n",
    "OPTIONS\n",
    "    (model_type = 'DNN_CLASSIFIER',\n",
    "        auto_class_weights = FALSE,\n",
    "        input_label_cols = ['{VAR_TARGET}'],\n",
    "        enable_global_explain = TRUE,\n",
    "        integrated_gradients_num_steps = 30,\n",
    "        data_split_col = 'custom_splits',\n",
    "        data_split_method = 'CUSTOM',\n",
    "        activation_fn = 'SIGMOID',\n",
    "        batch_size = 100,\n",
    "        dropout = 0.15,\n",
    "        early_stop = FALSE,\n",
    "        hidden_units = [64, 32],\n",
    "        max_iterations = 10, #epochs\n",
    "        optimizer = 'SGD',\n",
    "        MODEL_REGISTRY = 'VERTEX_AI',\n",
    "        VERTEX_AI_MODEL_ID = 'bqml_{SERIES}_{EXPERIMENT}',\n",
    "        VERTEX_AI_MODEL_VERSION_ALIASES = ['{RUN_NAME}']\n",
    "    ) AS\n",
    "SELECT * EXCEPT({','.join(VAR_OMIT.split())}, splits),\n",
    "    CASE\n",
    "        WHEN splits = 'TRAIN' THEN FALSE\n",
    "        ELSE TRUE\n",
    "    END AS custom_splits\n",
    "FROM `{BQ_PROJECT}.{BQ_DATASET}.{BQ_TABLE}`\n",
    "WHERE splits != 'TEST'\n",
    "\"\"\"\n",
    "print(query)"
   ]
  },
  {
   "cell_type": "code",
   "execution_count": 11,
   "id": "118cf076-90f1-403c-9d8e-1ae6b1907426",
   "metadata": {},
   "outputs": [
    {
     "data": {
      "text/plain": [
       "<google.cloud.bigquery.table._EmptyRowIterator at 0x7f700a2e9ed0>"
      ]
     },
     "execution_count": 11,
     "metadata": {},
     "output_type": "execute_result"
    }
   ],
   "source": [
    "job = bq.query(query = query)\n",
    "job.result()"
   ]
  },
  {
   "cell_type": "code",
   "execution_count": 12,
   "id": "e3a6b5f1",
   "metadata": {},
   "outputs": [
    {
     "data": {
      "text/plain": [
       "872.67"
      ]
     },
     "execution_count": 12,
     "metadata": {},
     "output_type": "execute_result"
    }
   ],
   "source": [
    "(job.ended-job.started).total_seconds()"
   ]
  },
  {
   "cell_type": "code",
   "execution_count": 13,
   "id": "de17d955-6c31-46e6-8fb5-f9fc44be2257",
   "metadata": {},
   "outputs": [
    {
     "data": {
      "text/plain": [
       "20459626241"
      ]
     },
     "execution_count": 13,
     "metadata": {},
     "output_type": "execute_result"
    }
   ],
   "source": [
    "job.total_bytes_processed"
   ]
  },
  {
   "cell_type": "markdown",
   "id": "c84c55da-9c5b-4bc1-8972-6cf85bd3572e",
   "metadata": {},
   "source": [
    "Add labels to the model in BigQuery:"
   ]
  },
  {
   "cell_type": "code",
   "execution_count": 14,
   "id": "13d696f2-a277-422c-9cb0-f2ea8b5b242f",
   "metadata": {},
   "outputs": [],
   "source": [
    "model = bq.get_model(f'{BQ_PROJECT}.{BQ_DATASET}.{BQ_MODEL}')\n",
    "model.labels = {'series' : f'{SERIES}', 'experiment' : f'{EXPERIMENT}'}\n",
    "model = bq.update_model(model, ['labels'])"
   ]
  },
  {
   "cell_type": "markdown",
   "id": "c06849e5-a278-4046-aa1b-2b55a7896a74",
   "metadata": {},
   "source": [
    "### Check out this model in BigQuery Console:\n",
    "- Make sure project selected is the one from this notebook\n",
    "- Under Explore, expand this project and dataset\n",
    "- Expand Models and select the model create here"
   ]
  },
  {
   "cell_type": "code",
   "execution_count": 15,
   "id": "2e612ea8-ff94-4100-8293-5e2d691cfc69",
   "metadata": {},
   "outputs": [
    {
     "name": "stdout",
     "output_type": "stream",
     "text": [
      "BigQuery Console for Project:\n",
      "https://console.cloud.google.com/bigquery?project=statmike-mlops-349915\n"
     ]
    }
   ],
   "source": [
    "print(f'BigQuery Console for Project:\\nhttps://console.cloud.google.com/bigquery?project={PROJECT_ID}')"
   ]
  },
  {
   "cell_type": "code",
   "execution_count": 16,
   "id": "a70136c5-da05-4083-b45e-1c19d4a32c3c",
   "metadata": {},
   "outputs": [
    {
     "name": "stdout",
     "output_type": "stream",
     "text": [
      "Direct link to the model in BigQuery:\n",
      "https://console.cloud.google.com/bigquery?project=statmike-mlops-349915&ws=!1m5!1m4!5m3!1sstatmike-mlops-349915!2sfraud!3sbqml_dnn_20230627122933\n"
     ]
    }
   ],
   "source": [
    "print(f'Direct link to the model in BigQuery:\\nhttps://console.cloud.google.com/bigquery?project={PROJECT_ID}&ws=!1m5!1m4!5m3!1s{PROJECT_ID}!2s{BQ_DATASET}!3s{BQ_MODEL}')"
   ]
  },
  {
   "cell_type": "markdown",
   "id": "a5c4ecf9-8a8b-46ae-9f88-e178bd79a312",
   "metadata": {},
   "source": [
    "### Check out this model in the Vertex AI Model Registry"
   ]
  },
  {
   "cell_type": "code",
   "execution_count": 18,
   "id": "c3a7c3c4-b473-4dcb-8e00-b399982a0673",
   "metadata": {},
   "outputs": [
    {
     "name": "stdout",
     "output_type": "stream",
     "text": [
      "Review the model in the Vertex AI Model Registry:\n",
      "https://console.cloud.google.com/vertex-ai/locations/us-central1/models/bqml_bqml_dnn_20230627122933?project=statmike-mlops-349915\n"
     ]
    }
   ],
   "source": [
    "print(f'Review the model in the Vertex AI Model Registry:\\nhttps://console.cloud.google.com/vertex-ai/locations/{REGION}/models/bqml_{BQ_MODEL}?project={PROJECT_ID}')"
   ]
  },
  {
   "cell_type": "markdown",
   "id": "86053516-ee56-4d2d-b978-6382f3ea6541",
   "metadata": {},
   "source": [
    "### Feature and Training Review"
   ]
  },
  {
   "cell_type": "markdown",
   "id": "25b0dbb3-694a-4eeb-9729-b476ff49d8d5",
   "metadata": {},
   "source": [
    "Review the Model Inputs, the feature information, with [ML.FEATURE_INFO](https://cloud.google.com/bigquery-ml/docs/reference/standard-sql/bigqueryml-syntax-feature):"
   ]
  },
  {
   "cell_type": "code",
   "execution_count": 19,
   "id": "8e1b8fbe-44d8-45a4-8b9b-df39a819f4b1",
   "metadata": {},
   "outputs": [
    {
     "data": {
      "text/html": [
       "<div>\n",
       "<style scoped>\n",
       "    .dataframe tbody tr th:only-of-type {\n",
       "        vertical-align: middle;\n",
       "    }\n",
       "\n",
       "    .dataframe tbody tr th {\n",
       "        vertical-align: top;\n",
       "    }\n",
       "\n",
       "    .dataframe thead th {\n",
       "        text-align: right;\n",
       "    }\n",
       "</style>\n",
       "<table border=\"1\" class=\"dataframe\">\n",
       "  <thead>\n",
       "    <tr style=\"text-align: right;\">\n",
       "      <th></th>\n",
       "      <th>input</th>\n",
       "      <th>min</th>\n",
       "      <th>max</th>\n",
       "      <th>mean</th>\n",
       "      <th>median</th>\n",
       "      <th>stddev</th>\n",
       "      <th>category_count</th>\n",
       "      <th>null_count</th>\n",
       "      <th>dimension</th>\n",
       "    </tr>\n",
       "  </thead>\n",
       "  <tbody>\n",
       "    <tr>\n",
       "      <th>0</th>\n",
       "      <td>Amount</td>\n",
       "      <td>0.000000</td>\n",
       "      <td>25691.160000</td>\n",
       "      <td>88.535335</td>\n",
       "      <td>21.670000</td>\n",
       "      <td>251.361162</td>\n",
       "      <td>&lt;NA&gt;</td>\n",
       "      <td>0</td>\n",
       "      <td>&lt;NA&gt;</td>\n",
       "    </tr>\n",
       "    <tr>\n",
       "      <th>1</th>\n",
       "      <td>Time</td>\n",
       "      <td>0.000000</td>\n",
       "      <td>172792.000000</td>\n",
       "      <td>94811.116749</td>\n",
       "      <td>85573.000000</td>\n",
       "      <td>47493.531641</td>\n",
       "      <td>&lt;NA&gt;</td>\n",
       "      <td>0</td>\n",
       "      <td>&lt;NA&gt;</td>\n",
       "    </tr>\n",
       "    <tr>\n",
       "      <th>2</th>\n",
       "      <td>V1</td>\n",
       "      <td>-56.407510</td>\n",
       "      <td>2.454930</td>\n",
       "      <td>-0.000215</td>\n",
       "      <td>0.029068</td>\n",
       "      <td>1.958173</td>\n",
       "      <td>&lt;NA&gt;</td>\n",
       "      <td>0</td>\n",
       "      <td>&lt;NA&gt;</td>\n",
       "    </tr>\n",
       "    <tr>\n",
       "      <th>3</th>\n",
       "      <td>V10</td>\n",
       "      <td>-24.588262</td>\n",
       "      <td>23.745136</td>\n",
       "      <td>-0.000072</td>\n",
       "      <td>-0.094192</td>\n",
       "      <td>1.093471</td>\n",
       "      <td>&lt;NA&gt;</td>\n",
       "      <td>0</td>\n",
       "      <td>&lt;NA&gt;</td>\n",
       "    </tr>\n",
       "    <tr>\n",
       "      <th>4</th>\n",
       "      <td>V11</td>\n",
       "      <td>-4.797473</td>\n",
       "      <td>12.018913</td>\n",
       "      <td>-0.000641</td>\n",
       "      <td>-0.029226</td>\n",
       "      <td>1.021083</td>\n",
       "      <td>&lt;NA&gt;</td>\n",
       "      <td>0</td>\n",
       "      <td>&lt;NA&gt;</td>\n",
       "    </tr>\n",
       "    <tr>\n",
       "      <th>5</th>\n",
       "      <td>V12</td>\n",
       "      <td>-18.683715</td>\n",
       "      <td>7.848392</td>\n",
       "      <td>-0.001596</td>\n",
       "      <td>0.145962</td>\n",
       "      <td>1.002343</td>\n",
       "      <td>&lt;NA&gt;</td>\n",
       "      <td>0</td>\n",
       "      <td>&lt;NA&gt;</td>\n",
       "    </tr>\n",
       "    <tr>\n",
       "      <th>6</th>\n",
       "      <td>V13</td>\n",
       "      <td>-5.791881</td>\n",
       "      <td>7.126883</td>\n",
       "      <td>0.001823</td>\n",
       "      <td>-0.009026</td>\n",
       "      <td>0.996051</td>\n",
       "      <td>&lt;NA&gt;</td>\n",
       "      <td>0</td>\n",
       "      <td>&lt;NA&gt;</td>\n",
       "    </tr>\n",
       "    <tr>\n",
       "      <th>7</th>\n",
       "      <td>V14</td>\n",
       "      <td>-19.214325</td>\n",
       "      <td>10.526766</td>\n",
       "      <td>-0.000667</td>\n",
       "      <td>0.042744</td>\n",
       "      <td>0.961650</td>\n",
       "      <td>&lt;NA&gt;</td>\n",
       "      <td>0</td>\n",
       "      <td>&lt;NA&gt;</td>\n",
       "    </tr>\n",
       "    <tr>\n",
       "      <th>8</th>\n",
       "      <td>V15</td>\n",
       "      <td>-4.498945</td>\n",
       "      <td>8.877742</td>\n",
       "      <td>0.000422</td>\n",
       "      <td>0.034967</td>\n",
       "      <td>0.916010</td>\n",
       "      <td>&lt;NA&gt;</td>\n",
       "      <td>0</td>\n",
       "      <td>&lt;NA&gt;</td>\n",
       "    </tr>\n",
       "    <tr>\n",
       "      <th>9</th>\n",
       "      <td>V16</td>\n",
       "      <td>-13.563273</td>\n",
       "      <td>17.315112</td>\n",
       "      <td>-0.000231</td>\n",
       "      <td>0.072654</td>\n",
       "      <td>0.876491</td>\n",
       "      <td>&lt;NA&gt;</td>\n",
       "      <td>0</td>\n",
       "      <td>&lt;NA&gt;</td>\n",
       "    </tr>\n",
       "    <tr>\n",
       "      <th>10</th>\n",
       "      <td>V17</td>\n",
       "      <td>-25.162799</td>\n",
       "      <td>9.253526</td>\n",
       "      <td>0.000599</td>\n",
       "      <td>-0.071815</td>\n",
       "      <td>0.851699</td>\n",
       "      <td>&lt;NA&gt;</td>\n",
       "      <td>0</td>\n",
       "      <td>&lt;NA&gt;</td>\n",
       "    </tr>\n",
       "    <tr>\n",
       "      <th>11</th>\n",
       "      <td>V18</td>\n",
       "      <td>-9.498746</td>\n",
       "      <td>5.041069</td>\n",
       "      <td>-0.000701</td>\n",
       "      <td>-0.010676</td>\n",
       "      <td>0.839235</td>\n",
       "      <td>&lt;NA&gt;</td>\n",
       "      <td>0</td>\n",
       "      <td>&lt;NA&gt;</td>\n",
       "    </tr>\n",
       "    <tr>\n",
       "      <th>12</th>\n",
       "      <td>V19</td>\n",
       "      <td>-7.213527</td>\n",
       "      <td>5.591971</td>\n",
       "      <td>-0.001121</td>\n",
       "      <td>0.000250</td>\n",
       "      <td>0.814700</td>\n",
       "      <td>&lt;NA&gt;</td>\n",
       "      <td>0</td>\n",
       "      <td>&lt;NA&gt;</td>\n",
       "    </tr>\n",
       "    <tr>\n",
       "      <th>13</th>\n",
       "      <td>V2</td>\n",
       "      <td>-72.715728</td>\n",
       "      <td>22.057729</td>\n",
       "      <td>0.000316</td>\n",
       "      <td>0.067255</td>\n",
       "      <td>1.649662</td>\n",
       "      <td>&lt;NA&gt;</td>\n",
       "      <td>0</td>\n",
       "      <td>&lt;NA&gt;</td>\n",
       "    </tr>\n",
       "    <tr>\n",
       "      <th>14</th>\n",
       "      <td>V20</td>\n",
       "      <td>-54.497720</td>\n",
       "      <td>39.420904</td>\n",
       "      <td>0.000744</td>\n",
       "      <td>-0.062397</td>\n",
       "      <td>0.773090</td>\n",
       "      <td>&lt;NA&gt;</td>\n",
       "      <td>0</td>\n",
       "      <td>&lt;NA&gt;</td>\n",
       "    </tr>\n",
       "    <tr>\n",
       "      <th>15</th>\n",
       "      <td>V21</td>\n",
       "      <td>-34.830382</td>\n",
       "      <td>27.202839</td>\n",
       "      <td>-0.000542</td>\n",
       "      <td>-0.028930</td>\n",
       "      <td>0.739335</td>\n",
       "      <td>&lt;NA&gt;</td>\n",
       "      <td>0</td>\n",
       "      <td>&lt;NA&gt;</td>\n",
       "    </tr>\n",
       "    <tr>\n",
       "      <th>16</th>\n",
       "      <td>V22</td>\n",
       "      <td>-10.933144</td>\n",
       "      <td>10.503090</td>\n",
       "      <td>0.000768</td>\n",
       "      <td>0.007664</td>\n",
       "      <td>0.725885</td>\n",
       "      <td>&lt;NA&gt;</td>\n",
       "      <td>0</td>\n",
       "      <td>&lt;NA&gt;</td>\n",
       "    </tr>\n",
       "    <tr>\n",
       "      <th>17</th>\n",
       "      <td>V23</td>\n",
       "      <td>-36.666000</td>\n",
       "      <td>22.083545</td>\n",
       "      <td>0.000326</td>\n",
       "      <td>-0.012736</td>\n",
       "      <td>0.614379</td>\n",
       "      <td>&lt;NA&gt;</td>\n",
       "      <td>0</td>\n",
       "      <td>&lt;NA&gt;</td>\n",
       "    </tr>\n",
       "    <tr>\n",
       "      <th>18</th>\n",
       "      <td>V24</td>\n",
       "      <td>-2.836627</td>\n",
       "      <td>4.584549</td>\n",
       "      <td>0.000351</td>\n",
       "      <td>0.041019</td>\n",
       "      <td>0.606016</td>\n",
       "      <td>&lt;NA&gt;</td>\n",
       "      <td>0</td>\n",
       "      <td>&lt;NA&gt;</td>\n",
       "    </tr>\n",
       "    <tr>\n",
       "      <th>19</th>\n",
       "      <td>V25</td>\n",
       "      <td>-8.696627</td>\n",
       "      <td>6.070850</td>\n",
       "      <td>-0.000594</td>\n",
       "      <td>0.010946</td>\n",
       "      <td>0.521749</td>\n",
       "      <td>&lt;NA&gt;</td>\n",
       "      <td>0</td>\n",
       "      <td>&lt;NA&gt;</td>\n",
       "    </tr>\n",
       "    <tr>\n",
       "      <th>20</th>\n",
       "      <td>V26</td>\n",
       "      <td>-2.604551</td>\n",
       "      <td>3.517346</td>\n",
       "      <td>0.000466</td>\n",
       "      <td>-0.051238</td>\n",
       "      <td>0.481984</td>\n",
       "      <td>&lt;NA&gt;</td>\n",
       "      <td>0</td>\n",
       "      <td>&lt;NA&gt;</td>\n",
       "    </tr>\n",
       "    <tr>\n",
       "      <th>21</th>\n",
       "      <td>V27</td>\n",
       "      <td>-22.565679</td>\n",
       "      <td>31.612198</td>\n",
       "      <td>-0.000629</td>\n",
       "      <td>0.000106</td>\n",
       "      <td>0.405146</td>\n",
       "      <td>&lt;NA&gt;</td>\n",
       "      <td>0</td>\n",
       "      <td>&lt;NA&gt;</td>\n",
       "    </tr>\n",
       "    <tr>\n",
       "      <th>22</th>\n",
       "      <td>V28</td>\n",
       "      <td>-15.430084</td>\n",
       "      <td>33.847808</td>\n",
       "      <td>-0.000083</td>\n",
       "      <td>0.010697</td>\n",
       "      <td>0.329876</td>\n",
       "      <td>&lt;NA&gt;</td>\n",
       "      <td>0</td>\n",
       "      <td>&lt;NA&gt;</td>\n",
       "    </tr>\n",
       "    <tr>\n",
       "      <th>23</th>\n",
       "      <td>V3</td>\n",
       "      <td>-48.325589</td>\n",
       "      <td>9.382558</td>\n",
       "      <td>-0.000525</td>\n",
       "      <td>0.184064</td>\n",
       "      <td>1.520173</td>\n",
       "      <td>&lt;NA&gt;</td>\n",
       "      <td>0</td>\n",
       "      <td>&lt;NA&gt;</td>\n",
       "    </tr>\n",
       "    <tr>\n",
       "      <th>24</th>\n",
       "      <td>V4</td>\n",
       "      <td>-5.600607</td>\n",
       "      <td>16.875344</td>\n",
       "      <td>0.000695</td>\n",
       "      <td>-0.035812</td>\n",
       "      <td>1.415309</td>\n",
       "      <td>&lt;NA&gt;</td>\n",
       "      <td>0</td>\n",
       "      <td>&lt;NA&gt;</td>\n",
       "    </tr>\n",
       "    <tr>\n",
       "      <th>25</th>\n",
       "      <td>V5</td>\n",
       "      <td>-113.743307</td>\n",
       "      <td>34.801666</td>\n",
       "      <td>-0.001264</td>\n",
       "      <td>-0.056770</td>\n",
       "      <td>1.381807</td>\n",
       "      <td>&lt;NA&gt;</td>\n",
       "      <td>0</td>\n",
       "      <td>&lt;NA&gt;</td>\n",
       "    </tr>\n",
       "    <tr>\n",
       "      <th>26</th>\n",
       "      <td>V6</td>\n",
       "      <td>-26.160506</td>\n",
       "      <td>73.301626</td>\n",
       "      <td>0.002089</td>\n",
       "      <td>-0.267910</td>\n",
       "      <td>1.334135</td>\n",
       "      <td>&lt;NA&gt;</td>\n",
       "      <td>0</td>\n",
       "      <td>&lt;NA&gt;</td>\n",
       "    </tr>\n",
       "    <tr>\n",
       "      <th>27</th>\n",
       "      <td>V7</td>\n",
       "      <td>-43.557242</td>\n",
       "      <td>120.589494</td>\n",
       "      <td>-0.000721</td>\n",
       "      <td>0.036389</td>\n",
       "      <td>1.245465</td>\n",
       "      <td>&lt;NA&gt;</td>\n",
       "      <td>0</td>\n",
       "      <td>&lt;NA&gt;</td>\n",
       "    </tr>\n",
       "    <tr>\n",
       "      <th>28</th>\n",
       "      <td>V8</td>\n",
       "      <td>-73.216718</td>\n",
       "      <td>19.168327</td>\n",
       "      <td>-0.001064</td>\n",
       "      <td>0.027344</td>\n",
       "      <td>1.205023</td>\n",
       "      <td>&lt;NA&gt;</td>\n",
       "      <td>0</td>\n",
       "      <td>&lt;NA&gt;</td>\n",
       "    </tr>\n",
       "    <tr>\n",
       "      <th>29</th>\n",
       "      <td>V9</td>\n",
       "      <td>-13.434066</td>\n",
       "      <td>15.594995</td>\n",
       "      <td>0.001406</td>\n",
       "      <td>-0.057073</td>\n",
       "      <td>1.100121</td>\n",
       "      <td>&lt;NA&gt;</td>\n",
       "      <td>0</td>\n",
       "      <td>&lt;NA&gt;</td>\n",
       "    </tr>\n",
       "  </tbody>\n",
       "</table>\n",
       "</div>"
      ],
      "text/plain": [
       "     input         min            max          mean        median  \\\n",
       "0   Amount    0.000000   25691.160000     88.535335     21.670000   \n",
       "1     Time    0.000000  172792.000000  94811.116749  85573.000000   \n",
       "2       V1  -56.407510       2.454930     -0.000215      0.029068   \n",
       "3      V10  -24.588262      23.745136     -0.000072     -0.094192   \n",
       "4      V11   -4.797473      12.018913     -0.000641     -0.029226   \n",
       "5      V12  -18.683715       7.848392     -0.001596      0.145962   \n",
       "6      V13   -5.791881       7.126883      0.001823     -0.009026   \n",
       "7      V14  -19.214325      10.526766     -0.000667      0.042744   \n",
       "8      V15   -4.498945       8.877742      0.000422      0.034967   \n",
       "9      V16  -13.563273      17.315112     -0.000231      0.072654   \n",
       "10     V17  -25.162799       9.253526      0.000599     -0.071815   \n",
       "11     V18   -9.498746       5.041069     -0.000701     -0.010676   \n",
       "12     V19   -7.213527       5.591971     -0.001121      0.000250   \n",
       "13      V2  -72.715728      22.057729      0.000316      0.067255   \n",
       "14     V20  -54.497720      39.420904      0.000744     -0.062397   \n",
       "15     V21  -34.830382      27.202839     -0.000542     -0.028930   \n",
       "16     V22  -10.933144      10.503090      0.000768      0.007664   \n",
       "17     V23  -36.666000      22.083545      0.000326     -0.012736   \n",
       "18     V24   -2.836627       4.584549      0.000351      0.041019   \n",
       "19     V25   -8.696627       6.070850     -0.000594      0.010946   \n",
       "20     V26   -2.604551       3.517346      0.000466     -0.051238   \n",
       "21     V27  -22.565679      31.612198     -0.000629      0.000106   \n",
       "22     V28  -15.430084      33.847808     -0.000083      0.010697   \n",
       "23      V3  -48.325589       9.382558     -0.000525      0.184064   \n",
       "24      V4   -5.600607      16.875344      0.000695     -0.035812   \n",
       "25      V5 -113.743307      34.801666     -0.001264     -0.056770   \n",
       "26      V6  -26.160506      73.301626      0.002089     -0.267910   \n",
       "27      V7  -43.557242     120.589494     -0.000721      0.036389   \n",
       "28      V8  -73.216718      19.168327     -0.001064      0.027344   \n",
       "29      V9  -13.434066      15.594995      0.001406     -0.057073   \n",
       "\n",
       "          stddev  category_count  null_count  dimension  \n",
       "0     251.361162            <NA>           0       <NA>  \n",
       "1   47493.531641            <NA>           0       <NA>  \n",
       "2       1.958173            <NA>           0       <NA>  \n",
       "3       1.093471            <NA>           0       <NA>  \n",
       "4       1.021083            <NA>           0       <NA>  \n",
       "5       1.002343            <NA>           0       <NA>  \n",
       "6       0.996051            <NA>           0       <NA>  \n",
       "7       0.961650            <NA>           0       <NA>  \n",
       "8       0.916010            <NA>           0       <NA>  \n",
       "9       0.876491            <NA>           0       <NA>  \n",
       "10      0.851699            <NA>           0       <NA>  \n",
       "11      0.839235            <NA>           0       <NA>  \n",
       "12      0.814700            <NA>           0       <NA>  \n",
       "13      1.649662            <NA>           0       <NA>  \n",
       "14      0.773090            <NA>           0       <NA>  \n",
       "15      0.739335            <NA>           0       <NA>  \n",
       "16      0.725885            <NA>           0       <NA>  \n",
       "17      0.614379            <NA>           0       <NA>  \n",
       "18      0.606016            <NA>           0       <NA>  \n",
       "19      0.521749            <NA>           0       <NA>  \n",
       "20      0.481984            <NA>           0       <NA>  \n",
       "21      0.405146            <NA>           0       <NA>  \n",
       "22      0.329876            <NA>           0       <NA>  \n",
       "23      1.520173            <NA>           0       <NA>  \n",
       "24      1.415309            <NA>           0       <NA>  \n",
       "25      1.381807            <NA>           0       <NA>  \n",
       "26      1.334135            <NA>           0       <NA>  \n",
       "27      1.245465            <NA>           0       <NA>  \n",
       "28      1.205023            <NA>           0       <NA>  \n",
       "29      1.100121            <NA>           0       <NA>  "
      ]
     },
     "execution_count": 19,
     "metadata": {},
     "output_type": "execute_result"
    }
   ],
   "source": [
    "feature_info = bq.query(\n",
    "    query = f\"\"\"\n",
    "        SELECT *\n",
    "        FROM ML.FEATURE_INFO(MODEL `{BQ_PROJECT}.{BQ_DATASET}.{BQ_MODEL}`)\n",
    "        \"\"\"\n",
    ").to_dataframe()\n",
    "feature_info"
   ]
  },
  {
   "cell_type": "markdown",
   "id": "7c79052d-e401-4f37-9276-1557a82c8025",
   "metadata": {},
   "source": [
    "Review the iterations from training with [ML.TRAINING_INFO](https://cloud.google.com/bigquery-ml/docs/reference/standard-sql/bigqueryml-syntax-train):"
   ]
  },
  {
   "cell_type": "code",
   "execution_count": 20,
   "id": "f9b1fb18-76f4-4034-831c-33bc64f073d5",
   "metadata": {},
   "outputs": [
    {
     "data": {
      "text/html": [
       "<div>\n",
       "<style scoped>\n",
       "    .dataframe tbody tr th:only-of-type {\n",
       "        vertical-align: middle;\n",
       "    }\n",
       "\n",
       "    .dataframe tbody tr th {\n",
       "        vertical-align: top;\n",
       "    }\n",
       "\n",
       "    .dataframe thead th {\n",
       "        text-align: right;\n",
       "    }\n",
       "</style>\n",
       "<table border=\"1\" class=\"dataframe\">\n",
       "  <thead>\n",
       "    <tr style=\"text-align: right;\">\n",
       "      <th></th>\n",
       "      <th>training_run</th>\n",
       "      <th>iteration</th>\n",
       "      <th>loss</th>\n",
       "      <th>eval_loss</th>\n",
       "      <th>learning_rate</th>\n",
       "      <th>duration_ms</th>\n",
       "    </tr>\n",
       "  </thead>\n",
       "  <tbody>\n",
       "    <tr>\n",
       "      <th>0</th>\n",
       "      <td>0</td>\n",
       "      <td>0</td>\n",
       "      <td>0.379362</td>\n",
       "      <td>0.360233</td>\n",
       "      <td>0.01</td>\n",
       "      <td>44766</td>\n",
       "    </tr>\n",
       "    <tr>\n",
       "      <th>1</th>\n",
       "      <td>0</td>\n",
       "      <td>1</td>\n",
       "      <td>0.223993</td>\n",
       "      <td>0.156321</td>\n",
       "      <td>0.01</td>\n",
       "      <td>47737</td>\n",
       "    </tr>\n",
       "    <tr>\n",
       "      <th>2</th>\n",
       "      <td>0</td>\n",
       "      <td>2</td>\n",
       "      <td>0.177689</td>\n",
       "      <td>0.034133</td>\n",
       "      <td>0.01</td>\n",
       "      <td>47159</td>\n",
       "    </tr>\n",
       "    <tr>\n",
       "      <th>3</th>\n",
       "      <td>0</td>\n",
       "      <td>3</td>\n",
       "      <td>0.411355</td>\n",
       "      <td>0.013981</td>\n",
       "      <td>0.01</td>\n",
       "      <td>45402</td>\n",
       "    </tr>\n",
       "    <tr>\n",
       "      <th>4</th>\n",
       "      <td>0</td>\n",
       "      <td>4</td>\n",
       "      <td>0.739136</td>\n",
       "      <td>0.011436</td>\n",
       "      <td>0.01</td>\n",
       "      <td>45717</td>\n",
       "    </tr>\n",
       "    <tr>\n",
       "      <th>5</th>\n",
       "      <td>0</td>\n",
       "      <td>5</td>\n",
       "      <td>0.150534</td>\n",
       "      <td>0.009719</td>\n",
       "      <td>0.01</td>\n",
       "      <td>43225</td>\n",
       "    </tr>\n",
       "    <tr>\n",
       "      <th>6</th>\n",
       "      <td>0</td>\n",
       "      <td>6</td>\n",
       "      <td>0.948609</td>\n",
       "      <td>0.007331</td>\n",
       "      <td>0.01</td>\n",
       "      <td>42781</td>\n",
       "    </tr>\n",
       "    <tr>\n",
       "      <th>7</th>\n",
       "      <td>0</td>\n",
       "      <td>7</td>\n",
       "      <td>1.277957</td>\n",
       "      <td>0.004505</td>\n",
       "      <td>0.01</td>\n",
       "      <td>39623</td>\n",
       "    </tr>\n",
       "    <tr>\n",
       "      <th>8</th>\n",
       "      <td>0</td>\n",
       "      <td>8</td>\n",
       "      <td>0.727048</td>\n",
       "      <td>0.003986</td>\n",
       "      <td>0.01</td>\n",
       "      <td>35734</td>\n",
       "    </tr>\n",
       "    <tr>\n",
       "      <th>9</th>\n",
       "      <td>0</td>\n",
       "      <td>9</td>\n",
       "      <td>0.299526</td>\n",
       "      <td>0.003915</td>\n",
       "      <td>0.01</td>\n",
       "      <td>27660</td>\n",
       "    </tr>\n",
       "  </tbody>\n",
       "</table>\n",
       "</div>"
      ],
      "text/plain": [
       "   training_run  iteration      loss  eval_loss  learning_rate  duration_ms\n",
       "0             0          0  0.379362   0.360233           0.01        44766\n",
       "1             0          1  0.223993   0.156321           0.01        47737\n",
       "2             0          2  0.177689   0.034133           0.01        47159\n",
       "3             0          3  0.411355   0.013981           0.01        45402\n",
       "4             0          4  0.739136   0.011436           0.01        45717\n",
       "5             0          5  0.150534   0.009719           0.01        43225\n",
       "6             0          6  0.948609   0.007331           0.01        42781\n",
       "7             0          7  1.277957   0.004505           0.01        39623\n",
       "8             0          8  0.727048   0.003986           0.01        35734\n",
       "9             0          9  0.299526   0.003915           0.01        27660"
      ]
     },
     "execution_count": 20,
     "metadata": {},
     "output_type": "execute_result"
    }
   ],
   "source": [
    "history = bq.query(\n",
    "    query = f\"\"\"\n",
    "        SELECT *\n",
    "        FROM ML.TRAINING_INFO(MODEL `{BQ_PROJECT}.{BQ_DATASET}.{BQ_MODEL}`)\n",
    "        ORDER BY iteration\"\"\"\n",
    ").to_dataframe()\n",
    "history"
   ]
  },
  {
   "cell_type": "markdown",
   "id": "89b4d666-8408-48f4-bcca-eabd9e8934fd",
   "metadata": {},
   "source": [
    "Plot the loss history:"
   ]
  },
  {
   "cell_type": "code",
   "execution_count": 21,
   "id": "c1d0afff-b911-422f-b0f0-b2ec4ef350e0",
   "metadata": {},
   "outputs": [
    {
     "data": {
      "text/plain": [
       "<AxesSubplot:xlabel='iteration'>"
      ]
     },
     "execution_count": 21,
     "metadata": {},
     "output_type": "execute_result"
    },
    {
     "data": {
      "image/png": "[encoded data removed]",
      "text/plain": [
       "<Figure size 1000x500 with 1 Axes>"
      ]
     },
     "metadata": {},
     "output_type": "display_data"
    }
   ],
   "source": [
    "history.plot(x = 'iteration', y = ['loss','eval_loss'], figsize = (10, 5), grid = True)"
   ]
  },
  {
   "cell_type": "markdown",
   "id": "976f9adb-a658-4dc1-8d05-f081b77008d5",
   "metadata": {},
   "source": [
    "---\n",
    "## Evaluate Model"
   ]
  },
  {
   "cell_type": "markdown",
   "id": "316a4d53-1d73-410c-9148-a244a31e0e86",
   "metadata": {},
   "source": [
    "### Metrics"
   ]
  },
  {
   "cell_type": "markdown",
   "id": "3ee6e920-54b2-4e20-b185-60632f41c7ed",
   "metadata": {},
   "source": [
    "Review the model evaluation statistics on the splits with [ML.EVALUATE](https://cloud.google.com/bigquery-ml/docs/reference/standard-sql/bigqueryml-syntax-evaluate):"
   ]
  },
  {
   "cell_type": "code",
   "execution_count": 22,
   "id": "57d1e1c4-66af-490a-9790-4a0614be775c",
   "metadata": {},
   "outputs": [
    {
     "data": {
      "text/html": [
       "<div>\n",
       "<style scoped>\n",
       "    .dataframe tbody tr th:only-of-type {\n",
       "        vertical-align: middle;\n",
       "    }\n",
       "\n",
       "    .dataframe tbody tr th {\n",
       "        vertical-align: top;\n",
       "    }\n",
       "\n",
       "    .dataframe thead th {\n",
       "        text-align: right;\n",
       "    }\n",
       "</style>\n",
       "<table border=\"1\" class=\"dataframe\">\n",
       "  <thead>\n",
       "    <tr style=\"text-align: right;\">\n",
       "      <th></th>\n",
       "      <th>SPLIT</th>\n",
       "      <th>precision</th>\n",
       "      <th>recall</th>\n",
       "      <th>accuracy</th>\n",
       "      <th>f1_score</th>\n",
       "      <th>log_loss</th>\n",
       "      <th>roc_auc</th>\n",
       "    </tr>\n",
       "  </thead>\n",
       "  <tbody>\n",
       "    <tr>\n",
       "      <th>0</th>\n",
       "      <td>TEST</td>\n",
       "      <td>0.857143</td>\n",
       "      <td>0.765957</td>\n",
       "      <td>0.999404</td>\n",
       "      <td>0.808989</td>\n",
       "      <td>0.003181</td>\n",
       "      <td>0.953451</td>\n",
       "    </tr>\n",
       "    <tr>\n",
       "      <th>1</th>\n",
       "      <td>VALIDATE</td>\n",
       "      <td>0.775000</td>\n",
       "      <td>0.645833</td>\n",
       "      <td>0.999079</td>\n",
       "      <td>0.704545</td>\n",
       "      <td>0.003915</td>\n",
       "      <td>0.935137</td>\n",
       "    </tr>\n",
       "    <tr>\n",
       "      <th>2</th>\n",
       "      <td>TRAIN</td>\n",
       "      <td>0.861111</td>\n",
       "      <td>0.780856</td>\n",
       "      <td>0.999399</td>\n",
       "      <td>0.819022</td>\n",
       "      <td>0.003066</td>\n",
       "      <td>0.972901</td>\n",
       "    </tr>\n",
       "  </tbody>\n",
       "</table>\n",
       "</div>"
      ],
      "text/plain": [
       "      SPLIT  precision    recall  accuracy  f1_score  log_loss   roc_auc\n",
       "0      TEST   0.857143  0.765957  0.999404  0.808989  0.003181  0.953451\n",
       "1  VALIDATE   0.775000  0.645833  0.999079  0.704545  0.003915  0.935137\n",
       "2     TRAIN   0.861111  0.780856  0.999399  0.819022  0.003066  0.972901"
      ]
     },
     "execution_count": 22,
     "metadata": {},
     "output_type": "execute_result"
    }
   ],
   "source": [
    "query = f\"\"\"\n",
    "SELECT 'TEST' as SPLIT, * FROM ML.EVALUATE (MODEL `{BQ_PROJECT}.{BQ_DATASET}.{BQ_MODEL}`,\n",
    "    (SELECT * FROM `{BQ_PROJECT}.{BQ_DATASET}.{BQ_TABLE}` WHERE SPLITS='TEST'))\n",
    "UNION ALL\n",
    "SELECT 'VALIDATE' as SPLIT, * FROM ML.EVALUATE (MODEL `{BQ_PROJECT}.{BQ_DATASET}.{BQ_MODEL}`,\n",
    "    (SELECT * FROM `{BQ_PROJECT}.{BQ_DATASET}.{BQ_TABLE}` WHERE SPLITS='VALIDATE'))\n",
    "UNION ALL\n",
    "SELECT 'TRAIN' as SPLIT, * FROM ML.EVALUATE (MODEL `{BQ_PROJECT}.{BQ_DATASET}.{BQ_MODEL}`,\n",
    "    (SELECT * FROM `{BQ_PROJECT}.{BQ_DATASET}.{BQ_TABLE}` WHERE SPLITS='TRAIN'))\n",
    "\"\"\"\n",
    "bq.query(query = query).to_dataframe()"
   ]
  },
  {
   "cell_type": "markdown",
   "id": "f0d2a361-ffab-4e1f-9090-bae5547de081",
   "metadata": {},
   "source": [
    "### Confusion Matrix"
   ]
  },
  {
   "cell_type": "markdown",
   "id": "f693d856-0fb4-4ccf-89cb-aa7c6c3e3b6f",
   "metadata": {},
   "source": [
    "Review the confusion matrix for each split with [ML.CONFUSION_MATRIX](https://cloud.google.com/bigquery-ml/docs/reference/standard-sql/bigqueryml-syntax-confusion):"
   ]
  },
  {
   "cell_type": "code",
   "execution_count": 23,
   "id": "ab306680-5d3c-48c2-ba76-bb02ebd56a8c",
   "metadata": {},
   "outputs": [
    {
     "data": {
      "text/html": [
       "<div>\n",
       "<style scoped>\n",
       "    .dataframe tbody tr th:only-of-type {\n",
       "        vertical-align: middle;\n",
       "    }\n",
       "\n",
       "    .dataframe tbody tr th {\n",
       "        vertical-align: top;\n",
       "    }\n",
       "\n",
       "    .dataframe thead th {\n",
       "        text-align: right;\n",
       "    }\n",
       "</style>\n",
       "<table border=\"1\" class=\"dataframe\">\n",
       "  <thead>\n",
       "    <tr style=\"text-align: right;\">\n",
       "      <th></th>\n",
       "      <th>expected_label</th>\n",
       "      <th>_0</th>\n",
       "      <th>_1</th>\n",
       "    </tr>\n",
       "  </thead>\n",
       "  <tbody>\n",
       "    <tr>\n",
       "      <th>0</th>\n",
       "      <td>0</td>\n",
       "      <td>227614</td>\n",
       "      <td>50</td>\n",
       "    </tr>\n",
       "    <tr>\n",
       "      <th>1</th>\n",
       "      <td>1</td>\n",
       "      <td>87</td>\n",
       "      <td>310</td>\n",
       "    </tr>\n",
       "  </tbody>\n",
       "</table>\n",
       "</div>"
      ],
      "text/plain": [
       "   expected_label      _0   _1\n",
       "0               0  227614   50\n",
       "1               1      87  310"
      ]
     },
     "execution_count": 23,
     "metadata": {},
     "output_type": "execute_result"
    }
   ],
   "source": [
    "query = f\"\"\"\n",
    "SELECT *\n",
    "FROM ML.CONFUSION_MATRIX (MODEL `{BQ_PROJECT}.{BQ_DATASET}.{BQ_MODEL}`,(\n",
    "    SELECT *\n",
    "    FROM `{BQ_PROJECT}.{BQ_DATASET}.{BQ_TABLE}`\n",
    "    WHERE splits = 'TRAIN')\n",
    "  )\n",
    "\"\"\"\n",
    "bq.query(query = query).to_dataframe()"
   ]
  },
  {
   "cell_type": "code",
   "execution_count": 24,
   "id": "e3680af3-6139-4dc8-9c97-b5156540a6c8",
   "metadata": {},
   "outputs": [
    {
     "data": {
      "text/html": [
       "<div>\n",
       "<style scoped>\n",
       "    .dataframe tbody tr th:only-of-type {\n",
       "        vertical-align: middle;\n",
       "    }\n",
       "\n",
       "    .dataframe tbody tr th {\n",
       "        vertical-align: top;\n",
       "    }\n",
       "\n",
       "    .dataframe thead th {\n",
       "        text-align: right;\n",
       "    }\n",
       "</style>\n",
       "<table border=\"1\" class=\"dataframe\">\n",
       "  <thead>\n",
       "    <tr style=\"text-align: right;\">\n",
       "      <th></th>\n",
       "      <th>expected_label</th>\n",
       "      <th>_0</th>\n",
       "      <th>_1</th>\n",
       "    </tr>\n",
       "  </thead>\n",
       "  <tbody>\n",
       "    <tr>\n",
       "      <th>0</th>\n",
       "      <td>0</td>\n",
       "      <td>28187</td>\n",
       "      <td>9</td>\n",
       "    </tr>\n",
       "    <tr>\n",
       "      <th>1</th>\n",
       "      <td>1</td>\n",
       "      <td>17</td>\n",
       "      <td>31</td>\n",
       "    </tr>\n",
       "  </tbody>\n",
       "</table>\n",
       "</div>"
      ],
      "text/plain": [
       "   expected_label     _0  _1\n",
       "0               0  28187   9\n",
       "1               1     17  31"
      ]
     },
     "execution_count": 24,
     "metadata": {},
     "output_type": "execute_result"
    }
   ],
   "source": [
    "query = f\"\"\"\n",
    "SELECT *\n",
    "FROM ML.CONFUSION_MATRIX (MODEL `{BQ_PROJECT}.{BQ_DATASET}.{BQ_MODEL}`,(\n",
    "    SELECT *\n",
    "    FROM `{BQ_PROJECT}.{BQ_DATASET}.{BQ_TABLE}`\n",
    "    WHERE splits = 'VALIDATE')\n",
    "  )\n",
    "\"\"\"\n",
    "bq.query(query = query).to_dataframe()"
   ]
  },
  {
   "cell_type": "code",
   "execution_count": 25,
   "id": "b021c790-6094-42da-84a4-3c07fbbbc171",
   "metadata": {},
   "outputs": [
    {
     "data": {
      "text/html": [
       "<div>\n",
       "<style scoped>\n",
       "    .dataframe tbody tr th:only-of-type {\n",
       "        vertical-align: middle;\n",
       "    }\n",
       "\n",
       "    .dataframe tbody tr th {\n",
       "        vertical-align: top;\n",
       "    }\n",
       "\n",
       "    .dataframe thead th {\n",
       "        text-align: right;\n",
       "    }\n",
       "</style>\n",
       "<table border=\"1\" class=\"dataframe\">\n",
       "  <thead>\n",
       "    <tr style=\"text-align: right;\">\n",
       "      <th></th>\n",
       "      <th>expected_label</th>\n",
       "      <th>_0</th>\n",
       "      <th>_1</th>\n",
       "    </tr>\n",
       "  </thead>\n",
       "  <tbody>\n",
       "    <tr>\n",
       "      <th>0</th>\n",
       "      <td>0</td>\n",
       "      <td>28449</td>\n",
       "      <td>6</td>\n",
       "    </tr>\n",
       "    <tr>\n",
       "      <th>1</th>\n",
       "      <td>1</td>\n",
       "      <td>11</td>\n",
       "      <td>36</td>\n",
       "    </tr>\n",
       "  </tbody>\n",
       "</table>\n",
       "</div>"
      ],
      "text/plain": [
       "   expected_label     _0  _1\n",
       "0               0  28449   6\n",
       "1               1     11  36"
      ]
     },
     "execution_count": 25,
     "metadata": {},
     "output_type": "execute_result"
    }
   ],
   "source": [
    "query = f\"\"\"\n",
    "SELECT *\n",
    "FROM ML.CONFUSION_MATRIX (MODEL `{BQ_PROJECT}.{BQ_DATASET}.{BQ_MODEL}`,(\n",
    "    SELECT *\n",
    "    FROM `{BQ_PROJECT}.{BQ_DATASET}.{BQ_TABLE}`\n",
    "    WHERE splits = 'TEST')\n",
    "  )\n",
    "\"\"\"\n",
    "bq.query(query = query).to_dataframe()"
   ]
  },
  {
   "cell_type": "markdown",
   "id": "eeaae328-df04-4e7b-b912-1b1de3a6a159",
   "metadata": {},
   "source": [
    "### ROC Curve\n",
    "\n",
    "Retrieve the ROC Curve for each split using [ML.ROC_CURVE](https://cloud.google.com/bigquery-ml/docs/reference/standard-sql/bigqueryml-syntax-roc):"
   ]
  },
  {
   "cell_type": "code",
   "execution_count": 26,
   "id": "aebf067d-c424-4203-93e7-b863eadd9570",
   "metadata": {},
   "outputs": [
    {
     "data": {
      "text/html": [
       "<div>\n",
       "<style scoped>\n",
       "    .dataframe tbody tr th:only-of-type {\n",
       "        vertical-align: middle;\n",
       "    }\n",
       "\n",
       "    .dataframe tbody tr th {\n",
       "        vertical-align: top;\n",
       "    }\n",
       "\n",
       "    .dataframe thead th {\n",
       "        text-align: right;\n",
       "    }\n",
       "</style>\n",
       "<table border=\"1\" class=\"dataframe\">\n",
       "  <thead>\n",
       "    <tr style=\"text-align: right;\">\n",
       "      <th></th>\n",
       "      <th>threshold</th>\n",
       "      <th>recall</th>\n",
       "      <th>false_positive_rate</th>\n",
       "      <th>true_positives</th>\n",
       "      <th>false_positives</th>\n",
       "      <th>true_negatives</th>\n",
       "      <th>false_negatives</th>\n",
       "    </tr>\n",
       "  </thead>\n",
       "  <tbody>\n",
       "    <tr>\n",
       "      <th>0</th>\n",
       "      <td>0.999997</td>\n",
       "      <td>0.007557</td>\n",
       "      <td>0.000000</td>\n",
       "      <td>3</td>\n",
       "      <td>0</td>\n",
       "      <td>227664</td>\n",
       "      <td>394</td>\n",
       "    </tr>\n",
       "    <tr>\n",
       "      <th>1</th>\n",
       "      <td>0.002145</td>\n",
       "      <td>0.901763</td>\n",
       "      <td>0.008640</td>\n",
       "      <td>358</td>\n",
       "      <td>1967</td>\n",
       "      <td>225697</td>\n",
       "      <td>39</td>\n",
       "    </tr>\n",
       "    <tr>\n",
       "      <th>2</th>\n",
       "      <td>0.001366</td>\n",
       "      <td>0.916877</td>\n",
       "      <td>0.018690</td>\n",
       "      <td>364</td>\n",
       "      <td>4255</td>\n",
       "      <td>223409</td>\n",
       "      <td>33</td>\n",
       "    </tr>\n",
       "    <tr>\n",
       "      <th>3</th>\n",
       "      <td>0.000877</td>\n",
       "      <td>0.926952</td>\n",
       "      <td>0.028428</td>\n",
       "      <td>368</td>\n",
       "      <td>6472</td>\n",
       "      <td>221192</td>\n",
       "      <td>29</td>\n",
       "    </tr>\n",
       "    <tr>\n",
       "      <th>4</th>\n",
       "      <td>0.000698</td>\n",
       "      <td>0.934509</td>\n",
       "      <td>0.038434</td>\n",
       "      <td>371</td>\n",
       "      <td>8750</td>\n",
       "      <td>218914</td>\n",
       "      <td>26</td>\n",
       "    </tr>\n",
       "  </tbody>\n",
       "</table>\n",
       "</div>"
      ],
      "text/plain": [
       "   threshold    recall  false_positive_rate  true_positives  false_positives  \\\n",
       "0   0.999997  0.007557             0.000000               3                0   \n",
       "1   0.002145  0.901763             0.008640             358             1967   \n",
       "2   0.001366  0.916877             0.018690             364             4255   \n",
       "3   0.000877  0.926952             0.028428             368             6472   \n",
       "4   0.000698  0.934509             0.038434             371             8750   \n",
       "\n",
       "   true_negatives  false_negatives  \n",
       "0          227664              394  \n",
       "1          225697               39  \n",
       "2          223409               33  \n",
       "3          221192               29  \n",
       "4          218914               26  "
      ]
     },
     "execution_count": 26,
     "metadata": {},
     "output_type": "execute_result"
    }
   ],
   "source": [
    "query = f\"\"\"\n",
    "SELECT *\n",
    "FROM ML.ROC_CURVE (MODEL `{BQ_PROJECT}.{BQ_DATASET}.{BQ_MODEL}`,(\n",
    "    SELECT *\n",
    "    FROM `{BQ_PROJECT}.{BQ_DATASET}.{BQ_TABLE}`\n",
    "    WHERE splits = 'TRAIN')\n",
    "  )\n",
    "ORDER BY false_positive_rate\n",
    "\"\"\"\n",
    "train_roc = bq.query(query = query).to_dataframe()\n",
    "train_roc.head()"
   ]
  },
  {
   "cell_type": "code",
   "execution_count": 27,
   "id": "f418991b-e9a6-411e-af1e-d823f1898f0e",
   "metadata": {},
   "outputs": [
    {
     "data": {
      "text/html": [
       "<div>\n",
       "<style scoped>\n",
       "    .dataframe tbody tr th:only-of-type {\n",
       "        vertical-align: middle;\n",
       "    }\n",
       "\n",
       "    .dataframe tbody tr th {\n",
       "        vertical-align: top;\n",
       "    }\n",
       "\n",
       "    .dataframe thead th {\n",
       "        text-align: right;\n",
       "    }\n",
       "</style>\n",
       "<table border=\"1\" class=\"dataframe\">\n",
       "  <thead>\n",
       "    <tr style=\"text-align: right;\">\n",
       "      <th></th>\n",
       "      <th>threshold</th>\n",
       "      <th>recall</th>\n",
       "      <th>false_positive_rate</th>\n",
       "      <th>true_positives</th>\n",
       "      <th>false_positives</th>\n",
       "      <th>true_negatives</th>\n",
       "      <th>false_negatives</th>\n",
       "    </tr>\n",
       "  </thead>\n",
       "  <tbody>\n",
       "    <tr>\n",
       "      <th>0</th>\n",
       "      <td>0.999997</td>\n",
       "      <td>0.020833</td>\n",
       "      <td>0.000000</td>\n",
       "      <td>1</td>\n",
       "      <td>0</td>\n",
       "      <td>28196</td>\n",
       "      <td>47</td>\n",
       "    </tr>\n",
       "    <tr>\n",
       "      <th>1</th>\n",
       "      <td>0.002086</td>\n",
       "      <td>0.895833</td>\n",
       "      <td>0.008654</td>\n",
       "      <td>43</td>\n",
       "      <td>244</td>\n",
       "      <td>27952</td>\n",
       "      <td>5</td>\n",
       "    </tr>\n",
       "    <tr>\n",
       "      <th>2</th>\n",
       "      <td>0.001366</td>\n",
       "      <td>0.916667</td>\n",
       "      <td>0.018549</td>\n",
       "      <td>44</td>\n",
       "      <td>523</td>\n",
       "      <td>27673</td>\n",
       "      <td>4</td>\n",
       "    </tr>\n",
       "    <tr>\n",
       "      <th>3</th>\n",
       "      <td>0.000865</td>\n",
       "      <td>0.916667</td>\n",
       "      <td>0.028515</td>\n",
       "      <td>44</td>\n",
       "      <td>804</td>\n",
       "      <td>27392</td>\n",
       "      <td>4</td>\n",
       "    </tr>\n",
       "    <tr>\n",
       "      <th>4</th>\n",
       "      <td>0.000711</td>\n",
       "      <td>0.916667</td>\n",
       "      <td>0.038552</td>\n",
       "      <td>44</td>\n",
       "      <td>1087</td>\n",
       "      <td>27109</td>\n",
       "      <td>4</td>\n",
       "    </tr>\n",
       "  </tbody>\n",
       "</table>\n",
       "</div>"
      ],
      "text/plain": [
       "   threshold    recall  false_positive_rate  true_positives  false_positives  \\\n",
       "0   0.999997  0.020833             0.000000               1                0   \n",
       "1   0.002086  0.895833             0.008654              43              244   \n",
       "2   0.001366  0.916667             0.018549              44              523   \n",
       "3   0.000865  0.916667             0.028515              44              804   \n",
       "4   0.000711  0.916667             0.038552              44             1087   \n",
       "\n",
       "   true_negatives  false_negatives  \n",
       "0           28196               47  \n",
       "1           27952                5  \n",
       "2           27673                4  \n",
       "3           27392                4  \n",
       "4           27109                4  "
      ]
     },
     "execution_count": 27,
     "metadata": {},
     "output_type": "execute_result"
    }
   ],
   "source": [
    "query = f\"\"\"\n",
    "SELECT *\n",
    "FROM ML.ROC_CURVE (MODEL `{BQ_PROJECT}.{BQ_DATASET}.{BQ_MODEL}`,(\n",
    "    SELECT *\n",
    "    FROM `{BQ_PROJECT}.{BQ_DATASET}.{BQ_TABLE}`\n",
    "    WHERE splits = 'VALIDATE')\n",
    "  )\n",
    "ORDER BY false_positive_rate\n",
    "\"\"\"\n",
    "val_roc = bq.query(query = query).to_dataframe()\n",
    "val_roc.head()"
   ]
  },
  {
   "cell_type": "code",
   "execution_count": 28,
   "id": "7ce7b8d0-e1bd-48b0-9862-089410aeedb6",
   "metadata": {},
   "outputs": [
    {
     "data": {
      "text/html": [
       "<div>\n",
       "<style scoped>\n",
       "    .dataframe tbody tr th:only-of-type {\n",
       "        vertical-align: middle;\n",
       "    }\n",
       "\n",
       "    .dataframe tbody tr th {\n",
       "        vertical-align: top;\n",
       "    }\n",
       "\n",
       "    .dataframe thead th {\n",
       "        text-align: right;\n",
       "    }\n",
       "</style>\n",
       "<table border=\"1\" class=\"dataframe\">\n",
       "  <thead>\n",
       "    <tr style=\"text-align: right;\">\n",
       "      <th></th>\n",
       "      <th>threshold</th>\n",
       "      <th>recall</th>\n",
       "      <th>false_positive_rate</th>\n",
       "      <th>true_positives</th>\n",
       "      <th>false_positives</th>\n",
       "      <th>true_negatives</th>\n",
       "      <th>false_negatives</th>\n",
       "    </tr>\n",
       "  </thead>\n",
       "  <tbody>\n",
       "    <tr>\n",
       "      <th>0</th>\n",
       "      <td>0.999997</td>\n",
       "      <td>0.021277</td>\n",
       "      <td>0.000000</td>\n",
       "      <td>1</td>\n",
       "      <td>0</td>\n",
       "      <td>28455</td>\n",
       "      <td>46</td>\n",
       "    </tr>\n",
       "    <tr>\n",
       "      <th>1</th>\n",
       "      <td>0.002014</td>\n",
       "      <td>0.914894</td>\n",
       "      <td>0.008645</td>\n",
       "      <td>43</td>\n",
       "      <td>246</td>\n",
       "      <td>28209</td>\n",
       "      <td>4</td>\n",
       "    </tr>\n",
       "    <tr>\n",
       "      <th>2</th>\n",
       "      <td>0.001346</td>\n",
       "      <td>0.914894</td>\n",
       "      <td>0.018556</td>\n",
       "      <td>43</td>\n",
       "      <td>528</td>\n",
       "      <td>27927</td>\n",
       "      <td>4</td>\n",
       "    </tr>\n",
       "    <tr>\n",
       "      <th>3</th>\n",
       "      <td>0.000802</td>\n",
       "      <td>0.914894</td>\n",
       "      <td>0.028712</td>\n",
       "      <td>43</td>\n",
       "      <td>817</td>\n",
       "      <td>27638</td>\n",
       "      <td>4</td>\n",
       "    </tr>\n",
       "    <tr>\n",
       "      <th>4</th>\n",
       "      <td>0.000665</td>\n",
       "      <td>0.914894</td>\n",
       "      <td>0.038658</td>\n",
       "      <td>43</td>\n",
       "      <td>1100</td>\n",
       "      <td>27355</td>\n",
       "      <td>4</td>\n",
       "    </tr>\n",
       "  </tbody>\n",
       "</table>\n",
       "</div>"
      ],
      "text/plain": [
       "   threshold    recall  false_positive_rate  true_positives  false_positives  \\\n",
       "0   0.999997  0.021277             0.000000               1                0   \n",
       "1   0.002014  0.914894             0.008645              43              246   \n",
       "2   0.001346  0.914894             0.018556              43              528   \n",
       "3   0.000802  0.914894             0.028712              43              817   \n",
       "4   0.000665  0.914894             0.038658              43             1100   \n",
       "\n",
       "   true_negatives  false_negatives  \n",
       "0           28455               46  \n",
       "1           28209                4  \n",
       "2           27927                4  \n",
       "3           27638                4  \n",
       "4           27355                4  "
      ]
     },
     "execution_count": 28,
     "metadata": {},
     "output_type": "execute_result"
    }
   ],
   "source": [
    "query = f\"\"\"\n",
    "SELECT *\n",
    "FROM ML.ROC_CURVE (MODEL `{BQ_PROJECT}.{BQ_DATASET}.{BQ_MODEL}`,(\n",
    "    SELECT *\n",
    "    FROM `{BQ_PROJECT}.{BQ_DATASET}.{BQ_TABLE}`\n",
    "    WHERE splits = 'TEST')\n",
    "  )\n",
    "ORDER BY false_positive_rate\n",
    "\"\"\"\n",
    "test_roc = bq.query(query = query).to_dataframe()\n",
    "test_roc.head()"
   ]
  },
  {
   "cell_type": "code",
   "execution_count": 29,
   "id": "b6621cb1-64f5-41e2-911c-b9c98f9821c5",
   "metadata": {},
   "outputs": [
    {
     "data": {
      "image/png": "[encoded data removed]",
      "text/plain": [
       "<Figure size 1500x500 with 1 Axes>"
      ]
     },
     "metadata": {},
     "output_type": "display_data"
    }
   ],
   "source": [
    "plt.figure(figsize=(15,5))\n",
    "plt.plot(train_roc['false_positive_rate'], train_roc['recall'], label='TRAIN')\n",
    "plt.plot(val_roc['false_positive_rate'], val_roc['recall'], label='VALIDATE')\n",
    "plt.plot(test_roc['false_positive_rate'], test_roc['recall'], label='TEST')\n",
    "plt.xlabel('False Positive Rate')\n",
    "plt.ylabel('True Positive Rate\\nRecall')\n",
    "plt.title('ROC Curves')\n",
    "plt.legend()\n",
    "plt.show()"
   ]
  },
  {
   "cell_type": "markdown",
   "id": "ba8b617c-63f7-498f-8d71-c25a8f9bc2b8",
   "metadata": {},
   "source": [
    "---\n",
    "## Predictions With BigQuery ML (BQML)"
   ]
  },
  {
   "cell_type": "markdown",
   "id": "b348e395-9f09-45bb-b122-47491589f2fd",
   "metadata": {},
   "source": [
    "Create a pandas dataframe with retrieved predictions for the test data in the table using [ML.PREDICT](https://cloud.google.com/bigquery-ml/docs/reference/standard-sql/bigqueryml-syntax-predict):"
   ]
  },
  {
   "cell_type": "code",
   "execution_count": 30,
   "id": "140636da-4b9b-4bf3-80d9-291ee935d56c",
   "metadata": {},
   "outputs": [],
   "source": [
    "query = f\"\"\"\n",
    "SELECT *\n",
    "FROM ML.PREDICT (MODEL `{BQ_PROJECT}.{BQ_DATASET}.{BQ_MODEL}`,(\n",
    "    SELECT *\n",
    "    FROM `{BQ_PROJECT}.{BQ_DATASET}.{BQ_TABLE}`\n",
    "    WHERE splits = 'TEST')\n",
    "  )\n",
    "\"\"\"\n",
    "pred = bq.query(query = query).to_dataframe()"
   ]
  },
  {
   "cell_type": "markdown",
   "id": "3f3d89f6-e437-4383-b695-d77c31446a4b",
   "metadata": {},
   "source": [
    "Review columns from the predictions - note that the query added columns with prefix `predicted_`"
   ]
  },
  {
   "cell_type": "code",
   "execution_count": 31,
   "id": "ff01e2c0-b8a3-4549-8fdf-842238547923",
   "metadata": {},
   "outputs": [
    {
     "data": {
      "text/plain": [
       "Index(['predicted_Class', 'predicted_Class_probs', 'Time', 'V1', 'V2', 'V3',\n",
       "       'V4', 'V5', 'V6', 'V7', 'V8', 'V9', 'V10', 'V11', 'V12', 'V13', 'V14',\n",
       "       'V15', 'V16', 'V17', 'V18', 'V19', 'V20', 'V21', 'V22', 'V23', 'V24',\n",
       "       'V25', 'V26', 'V27', 'V28', 'Amount', 'Class', 'transaction_id',\n",
       "       'splits'],\n",
       "      dtype='object')"
      ]
     },
     "execution_count": 31,
     "metadata": {},
     "output_type": "execute_result"
    }
   ],
   "source": [
    "pred.columns"
   ]
  },
  {
   "cell_type": "markdown",
   "id": "3522ca5d-976e-4e86-a472-6ce05ec9c9cf",
   "metadata": {},
   "source": [
    "Print the first few rows for the columns related to the actual and predicted values:"
   ]
  },
  {
   "cell_type": "code",
   "execution_count": 32,
   "id": "bbc62a80-a54c-4463-993e-4370dfdc424c",
   "metadata": {},
   "outputs": [
    {
     "data": {
      "text/html": [
       "<div>\n",
       "<style scoped>\n",
       "    .dataframe tbody tr th:only-of-type {\n",
       "        vertical-align: middle;\n",
       "    }\n",
       "\n",
       "    .dataframe tbody tr th {\n",
       "        vertical-align: top;\n",
       "    }\n",
       "\n",
       "    .dataframe thead th {\n",
       "        text-align: right;\n",
       "    }\n",
       "</style>\n",
       "<table border=\"1\" class=\"dataframe\">\n",
       "  <thead>\n",
       "    <tr style=\"text-align: right;\">\n",
       "      <th></th>\n",
       "      <th>Class</th>\n",
       "      <th>predicted_Class</th>\n",
       "      <th>predicted_Class_probs</th>\n",
       "      <th>splits</th>\n",
       "    </tr>\n",
       "  </thead>\n",
       "  <tbody>\n",
       "    <tr>\n",
       "      <th>0</th>\n",
       "      <td>0</td>\n",
       "      <td>0</td>\n",
       "      <td>[{'label': 1, 'prob': 0.00019278476247563958},...</td>\n",
       "      <td>TEST</td>\n",
       "    </tr>\n",
       "    <tr>\n",
       "      <th>1</th>\n",
       "      <td>0</td>\n",
       "      <td>0</td>\n",
       "      <td>[{'label': 1, 'prob': 0.00019278476247563958},...</td>\n",
       "      <td>TEST</td>\n",
       "    </tr>\n",
       "    <tr>\n",
       "      <th>2</th>\n",
       "      <td>0</td>\n",
       "      <td>0</td>\n",
       "      <td>[{'label': 1, 'prob': 0.00019278476247563958},...</td>\n",
       "      <td>TEST</td>\n",
       "    </tr>\n",
       "    <tr>\n",
       "      <th>3</th>\n",
       "      <td>0</td>\n",
       "      <td>0</td>\n",
       "      <td>[{'label': 1, 'prob': 0.00019278476247563958},...</td>\n",
       "      <td>TEST</td>\n",
       "    </tr>\n",
       "    <tr>\n",
       "      <th>4</th>\n",
       "      <td>0</td>\n",
       "      <td>0</td>\n",
       "      <td>[{'label': 1, 'prob': 0.00019278476247563958},...</td>\n",
       "      <td>TEST</td>\n",
       "    </tr>\n",
       "  </tbody>\n",
       "</table>\n",
       "</div>"
      ],
      "text/plain": [
       "   Class  predicted_Class                              predicted_Class_probs  \\\n",
       "0      0                0  [{'label': 1, 'prob': 0.00019278476247563958},...   \n",
       "1      0                0  [{'label': 1, 'prob': 0.00019278476247563958},...   \n",
       "2      0                0  [{'label': 1, 'prob': 0.00019278476247563958},...   \n",
       "3      0                0  [{'label': 1, 'prob': 0.00019278476247563958},...   \n",
       "4      0                0  [{'label': 1, 'prob': 0.00019278476247563958},...   \n",
       "\n",
       "  splits  \n",
       "0   TEST  \n",
       "1   TEST  \n",
       "2   TEST  \n",
       "3   TEST  \n",
       "4   TEST  "
      ]
     },
     "execution_count": 32,
     "metadata": {},
     "output_type": "execute_result"
    }
   ],
   "source": [
    "pred[[VAR_TARGET, f'predicted_{VAR_TARGET}', f'predicted_{VAR_TARGET}_probs', 'splits']].head()"
   ]
  },
  {
   "cell_type": "markdown",
   "id": "ca32a137-f5b0-4b49-bfc8-65d60dac0576",
   "metadata": {},
   "source": [
    "Notice the nested dictionary for predicted probabilities.  In BigQuery this is a Record type structure with nested fields for `label` and `prob`.  This is returned to the pandas dataframe as a nested dictionary.\n",
    "\n",
    "The following code sorts the dictionary for the first record by `prob`:"
   ]
  },
  {
   "cell_type": "code",
   "execution_count": 33,
   "id": "f99d0cc5-25a8-4858-9aef-4b1d7aca77bc",
   "metadata": {},
   "outputs": [
    {
     "data": {
      "text/plain": [
       "[[{'label': 0, 'prob': 0.9998071193695068},\n",
       "  {'label': 1, 'prob': 0.00019278476247563958}]]"
      ]
     },
     "execution_count": 33,
     "metadata": {},
     "output_type": "execute_result"
    }
   ],
   "source": [
    "exec('temp = pred.predicted_'+VAR_TARGET+'_probs[0]')\n",
    "[sorted(x, key = lambda x: x['label']) for x in [temp]]"
   ]
  },
  {
   "cell_type": "markdown",
   "id": "0f7fc1b7-808a-4394-afcb-26b1ebbc69a2",
   "metadata": {},
   "source": [
    "---\n",
    "## Custom Eval Metrics\n",
    "Retrieve the predictions to a local dataframe and use [scikit-learn](https://scikit-learn.org/stable/index.html) metrics [fuctions](https://scikit-learn.org/stable/modules/model_evaluation.html) to do model evaluation."
   ]
  },
  {
   "cell_type": "code",
   "execution_count": 34,
   "id": "a280883c-ec9e-40af-b3c3-a2b77341ea33",
   "metadata": {},
   "outputs": [
    {
     "data": {
      "text/plain": [
       "array([[28449,     6],\n",
       "       [   11,    36]])"
      ]
     },
     "execution_count": 34,
     "metadata": {},
     "output_type": "execute_result"
    }
   ],
   "source": [
    "metrics.confusion_matrix(list(pred[f'{VAR_TARGET}']), list(pred[f'predicted_{VAR_TARGET}']))"
   ]
  },
  {
   "cell_type": "code",
   "execution_count": 35,
   "id": "c0354326-2f6b-4331-8c97-5755cdf224ed",
   "metadata": {},
   "outputs": [
    {
     "data": {
      "text/plain": [
       "<sklearn.metrics._plot.confusion_matrix.ConfusionMatrixDisplay at 0x7f702ca7f990>"
      ]
     },
     "execution_count": 35,
     "metadata": {},
     "output_type": "execute_result"
    },
    {
     "data": {
      "image/png": "[encoded data removed]",
      "text/plain": [
       "<Figure size 640x480 with 2 Axes>"
      ]
     },
     "metadata": {},
     "output_type": "display_data"
    }
   ],
   "source": [
    "disp = metrics.ConfusionMatrixDisplay(\n",
    "    confusion_matrix = metrics.confusion_matrix(list(pred[f'{VAR_TARGET}']), list(pred[f'predicted_{VAR_TARGET}']))\n",
    ")\n",
    "disp.plot()"
   ]
  },
  {
   "cell_type": "code",
   "execution_count": 36,
   "id": "582e4131-c545-438f-8341-931aceebcbd3",
   "metadata": {},
   "outputs": [
    {
     "data": {
      "text/plain": [
       "0.9994035506280261"
      ]
     },
     "execution_count": 36,
     "metadata": {},
     "output_type": "execute_result"
    }
   ],
   "source": [
    "metrics.accuracy_score(list(pred[f'{VAR_TARGET}']), list(pred[f'predicted_{VAR_TARGET}']))"
   ]
  },
  {
   "cell_type": "code",
   "execution_count": 37,
   "id": "13079e10-210c-4c4a-9a48-990c840a4152",
   "metadata": {},
   "outputs": [
    {
     "name": "stdout",
     "output_type": "stream",
     "text": [
      "              precision    recall  f1-score   support\n",
      "\n",
      "           0       1.00      1.00      1.00     28455\n",
      "           1       0.86      0.77      0.81        47\n",
      "\n",
      "    accuracy                           1.00     28502\n",
      "   macro avg       0.93      0.88      0.90     28502\n",
      "weighted avg       1.00      1.00      1.00     28502\n",
      "\n"
     ]
    }
   ],
   "source": [
    "print(metrics.classification_report(list(pred[f'{VAR_TARGET}']), list(pred[f'predicted_{VAR_TARGET}'])))"
   ]
  },
  {
   "cell_type": "markdown",
   "id": "88afbaf0-31cd-43b0-ac47-b3a6c826d428",
   "metadata": {},
   "source": [
    "---\n",
    "## Explanations\n",
    "[Built-in](https://cloud.google.com/bigquery-ml/docs/reference/standard-sql/bigqueryml-syntax-xai-overview) capabilities to understand how features contributed to predictions both individually (local) and overall (global)."
   ]
  },
  {
   "cell_type": "markdown",
   "id": "bc272176-a282-415f-9541-e7c797bb3335",
   "metadata": {},
   "source": [
    "### Local Explainability\n",
    "Retrieve feature attribution values to interpret each features contribution to a prediction relative to the baseline prediction using [ML.EXPLAIN_PREDICT](https://cloud.google.com/bigquery-ml/docs/reference/standard-sql/bigqueryml-syntax-explain-predict)."
   ]
  },
  {
   "cell_type": "code",
   "execution_count": 38,
   "id": "acee8072-24fc-4576-9639-c2b0b94b0d12",
   "metadata": {},
   "outputs": [],
   "source": [
    "query = f\"\"\"\n",
    "SELECT *\n",
    "FROM ML.EXPLAIN_PREDICT (MODEL `{BQ_PROJECT}.{BQ_DATASET}.{BQ_MODEL}`,(\n",
    "    SELECT *\n",
    "    FROM `{BQ_PROJECT}.{BQ_DATASET}.{BQ_TABLE}`\n",
    "    WHERE splits = 'TEST'), STRUCT(10 as top_k_features)\n",
    "  )\n",
    "\"\"\"\n",
    "explain = bq.query(query = query).to_dataframe()"
   ]
  },
  {
   "cell_type": "code",
   "execution_count": 39,
   "id": "d4cae7ff-8450-4e82-9c83-16810a91ff96",
   "metadata": {},
   "outputs": [
    {
     "data": {
      "text/html": [
       "<div>\n",
       "<style scoped>\n",
       "    .dataframe tbody tr th:only-of-type {\n",
       "        vertical-align: middle;\n",
       "    }\n",
       "\n",
       "    .dataframe tbody tr th {\n",
       "        vertical-align: top;\n",
       "    }\n",
       "\n",
       "    .dataframe thead th {\n",
       "        text-align: right;\n",
       "    }\n",
       "</style>\n",
       "<table border=\"1\" class=\"dataframe\">\n",
       "  <thead>\n",
       "    <tr style=\"text-align: right;\">\n",
       "      <th></th>\n",
       "      <th>predicted_Class</th>\n",
       "      <th>probability</th>\n",
       "      <th>top_feature_attributions</th>\n",
       "      <th>baseline_prediction_value</th>\n",
       "      <th>prediction_value</th>\n",
       "      <th>approximation_error</th>\n",
       "      <th>Time</th>\n",
       "      <th>V1</th>\n",
       "      <th>V2</th>\n",
       "      <th>V3</th>\n",
       "      <th>...</th>\n",
       "      <th>V23</th>\n",
       "      <th>V24</th>\n",
       "      <th>V25</th>\n",
       "      <th>V26</th>\n",
       "      <th>V27</th>\n",
       "      <th>V28</th>\n",
       "      <th>Amount</th>\n",
       "      <th>Class</th>\n",
       "      <th>transaction_id</th>\n",
       "      <th>splits</th>\n",
       "    </tr>\n",
       "  </thead>\n",
       "  <tbody>\n",
       "    <tr>\n",
       "      <th>0</th>\n",
       "      <td>0</td>\n",
       "      <td>0.999807</td>\n",
       "      <td>[{'feature': 'V4', 'attribution': -4.002228171...</td>\n",
       "      <td>8.553743</td>\n",
       "      <td>8.553743</td>\n",
       "      <td>2.887678</td>\n",
       "      <td>35337</td>\n",
       "      <td>1.092844</td>\n",
       "      <td>-0.013230</td>\n",
       "      <td>1.359829</td>\n",
       "      <td>...</td>\n",
       "      <td>-0.167647</td>\n",
       "      <td>0.027557</td>\n",
       "      <td>0.592115</td>\n",
       "      <td>0.219695</td>\n",
       "      <td>0.036970</td>\n",
       "      <td>0.010984</td>\n",
       "      <td>0.0</td>\n",
       "      <td>0</td>\n",
       "      <td>a1b10547-d270-48c0-b902-7a0f735dadc7</td>\n",
       "      <td>TEST</td>\n",
       "    </tr>\n",
       "    <tr>\n",
       "      <th>1</th>\n",
       "      <td>0</td>\n",
       "      <td>0.999807</td>\n",
       "      <td>[{'feature': 'V14', 'attribution': 9.117270295...</td>\n",
       "      <td>8.553743</td>\n",
       "      <td>8.553743</td>\n",
       "      <td>0.001328</td>\n",
       "      <td>60481</td>\n",
       "      <td>1.238973</td>\n",
       "      <td>0.035226</td>\n",
       "      <td>0.063003</td>\n",
       "      <td>...</td>\n",
       "      <td>-0.057718</td>\n",
       "      <td>0.104983</td>\n",
       "      <td>0.537987</td>\n",
       "      <td>0.589563</td>\n",
       "      <td>-0.046207</td>\n",
       "      <td>-0.006212</td>\n",
       "      <td>0.0</td>\n",
       "      <td>0</td>\n",
       "      <td>814c62c8-ade4-47d5-bf83-313b0aafdee5</td>\n",
       "      <td>TEST</td>\n",
       "    </tr>\n",
       "    <tr>\n",
       "      <th>2</th>\n",
       "      <td>0</td>\n",
       "      <td>0.999807</td>\n",
       "      <td>[{'feature': 'V4', 'attribution': -2.251648514...</td>\n",
       "      <td>8.553743</td>\n",
       "      <td>8.553743</td>\n",
       "      <td>0.471351</td>\n",
       "      <td>139587</td>\n",
       "      <td>1.870539</td>\n",
       "      <td>0.211079</td>\n",
       "      <td>0.224457</td>\n",
       "      <td>...</td>\n",
       "      <td>0.180776</td>\n",
       "      <td>-0.060226</td>\n",
       "      <td>-0.228979</td>\n",
       "      <td>0.080827</td>\n",
       "      <td>0.009868</td>\n",
       "      <td>-0.036997</td>\n",
       "      <td>0.0</td>\n",
       "      <td>0</td>\n",
       "      <td>d08a1bfa-85c5-4f1b-9537-1c5a93e6afd0</td>\n",
       "      <td>TEST</td>\n",
       "    </tr>\n",
       "    <tr>\n",
       "      <th>3</th>\n",
       "      <td>0</td>\n",
       "      <td>0.999807</td>\n",
       "      <td>[{'feature': 'V6', 'attribution': -1.418300354...</td>\n",
       "      <td>8.553743</td>\n",
       "      <td>8.553743</td>\n",
       "      <td>0.003538</td>\n",
       "      <td>162908</td>\n",
       "      <td>-3.368339</td>\n",
       "      <td>-1.980442</td>\n",
       "      <td>0.153645</td>\n",
       "      <td>...</td>\n",
       "      <td>-1.171627</td>\n",
       "      <td>0.214333</td>\n",
       "      <td>-0.159652</td>\n",
       "      <td>-0.060883</td>\n",
       "      <td>1.294977</td>\n",
       "      <td>0.120503</td>\n",
       "      <td>0.0</td>\n",
       "      <td>0</td>\n",
       "      <td>802f3307-8e5a-4475-b795-5d5d8d7d0120</td>\n",
       "      <td>TEST</td>\n",
       "    </tr>\n",
       "    <tr>\n",
       "      <th>4</th>\n",
       "      <td>0</td>\n",
       "      <td>0.999807</td>\n",
       "      <td>[{'feature': 'V3', 'attribution': -7.792626154...</td>\n",
       "      <td>8.553743</td>\n",
       "      <td>8.553743</td>\n",
       "      <td>0.018274</td>\n",
       "      <td>165236</td>\n",
       "      <td>2.180149</td>\n",
       "      <td>0.218732</td>\n",
       "      <td>-2.637726</td>\n",
       "      <td>...</td>\n",
       "      <td>-0.176957</td>\n",
       "      <td>0.563779</td>\n",
       "      <td>0.730183</td>\n",
       "      <td>0.707494</td>\n",
       "      <td>-0.131066</td>\n",
       "      <td>-0.090428</td>\n",
       "      <td>0.0</td>\n",
       "      <td>0</td>\n",
       "      <td>c8a5b93a-1598-4689-80be-4f9f5df0b8ce</td>\n",
       "      <td>TEST</td>\n",
       "    </tr>\n",
       "  </tbody>\n",
       "</table>\n",
       "<p>5 rows × 39 columns</p>\n",
       "</div>"
      ],
      "text/plain": [
       "   predicted_Class  probability  \\\n",
       "0                0     0.999807   \n",
       "1                0     0.999807   \n",
       "2                0     0.999807   \n",
       "3                0     0.999807   \n",
       "4                0     0.999807   \n",
       "\n",
       "                            top_feature_attributions  \\\n",
       "0  [{'feature': 'V4', 'attribution': -4.002228171...   \n",
       "1  [{'feature': 'V14', 'attribution': 9.117270295...   \n",
       "2  [{'feature': 'V4', 'attribution': -2.251648514...   \n",
       "3  [{'feature': 'V6', 'attribution': -1.418300354...   \n",
       "4  [{'feature': 'V3', 'attribution': -7.792626154...   \n",
       "\n",
       "   baseline_prediction_value  prediction_value  approximation_error    Time  \\\n",
       "0                   8.553743          8.553743             2.887678   35337   \n",
       "1                   8.553743          8.553743             0.001328   60481   \n",
       "2                   8.553743          8.553743             0.471351  139587   \n",
       "3                   8.553743          8.553743             0.003538  162908   \n",
       "4                   8.553743          8.553743             0.018274  165236   \n",
       "\n",
       "         V1        V2        V3  ...       V23       V24       V25       V26  \\\n",
       "0  1.092844 -0.013230  1.359829  ... -0.167647  0.027557  0.592115  0.219695   \n",
       "1  1.238973  0.035226  0.063003  ... -0.057718  0.104983  0.537987  0.589563   \n",
       "2  1.870539  0.211079  0.224457  ...  0.180776 -0.060226 -0.228979  0.080827   \n",
       "3 -3.368339 -1.980442  0.153645  ... -1.171627  0.214333 -0.159652 -0.060883   \n",
       "4  2.180149  0.218732 -2.637726  ... -0.176957  0.563779  0.730183  0.707494   \n",
       "\n",
       "        V27       V28  Amount  Class                        transaction_id  \\\n",
       "0  0.036970  0.010984     0.0      0  a1b10547-d270-48c0-b902-7a0f735dadc7   \n",
       "1 -0.046207 -0.006212     0.0      0  814c62c8-ade4-47d5-bf83-313b0aafdee5   \n",
       "2  0.009868 -0.036997     0.0      0  d08a1bfa-85c5-4f1b-9537-1c5a93e6afd0   \n",
       "3  1.294977  0.120503     0.0      0  802f3307-8e5a-4475-b795-5d5d8d7d0120   \n",
       "4 -0.131066 -0.090428     0.0      0  c8a5b93a-1598-4689-80be-4f9f5df0b8ce   \n",
       "\n",
       "   splits  \n",
       "0    TEST  \n",
       "1    TEST  \n",
       "2    TEST  \n",
       "3    TEST  \n",
       "4    TEST  \n",
       "\n",
       "[5 rows x 39 columns]"
      ]
     },
     "execution_count": 39,
     "metadata": {},
     "output_type": "execute_result"
    }
   ],
   "source": [
    "explain.head()"
   ]
  },
  {
   "cell_type": "markdown",
   "id": "0108b6a4-b90a-44ac-887d-5f46d01c25fe",
   "metadata": {},
   "source": [
    "Create a plot of feature attributions for a single prediction:"
   ]
  },
  {
   "cell_type": "code",
   "execution_count": 40,
   "id": "294304e5-8f3b-4128-9c33-b4cfeb51d77d",
   "metadata": {},
   "outputs": [],
   "source": [
    "explanation = explain.iloc[0]['top_feature_attributions']"
   ]
  },
  {
   "cell_type": "code",
   "execution_count": 41,
   "id": "713a9a12-5bde-4d9e-8341-dfc6a72ab7a1",
   "metadata": {},
   "outputs": [
    {
     "data": {
      "image/png": "[encoded data removed]",
      "text/plain": [
       "<Figure size 1500x500 with 1 Axes>"
      ]
     },
     "metadata": {},
     "output_type": "display_data"
    }
   ],
   "source": [
    "features = []\n",
    "scores = []\n",
    "for k in explanation:\n",
    "    features.append(k['feature'])\n",
    "    scores.append(k['attribution'])\n",
    "features = [x for _, x in sorted(zip(scores, features))]\n",
    "scores = sorted(scores)\n",
    "\n",
    "plt.figure(figsize=(15,5))\n",
    "plt.barh(features, scores)\n",
    "plt.title('Feature Attribution for Prediction')\n",
    "plt.show()"
   ]
  },
  {
   "cell_type": "markdown",
   "id": "f66ed76f-97e3-4a72-932c-e83ae793ab20",
   "metadata": {},
   "source": [
    "### Global Explainability\n",
    "Retrieve the influence of each feature on the model with [ML.GLOBAL_EXPLAIN](https://cloud.google.com/bigquery-ml/docs/reference/standard-sql/bigqueryml-syntax-global-explain).  "
   ]
  },
  {
   "cell_type": "code",
   "execution_count": 42,
   "id": "dbcf76f8-333d-450d-999d-19af3e248f64",
   "metadata": {},
   "outputs": [],
   "source": [
    "query = f\"\"\"\n",
    "SELECT *\n",
    "FROM ML.GLOBAL_EXPLAIN (MODEL `{BQ_PROJECT}.{BQ_DATASET}.{BQ_MODEL}`)\n",
    "\"\"\"\n",
    "gexplain = bq.query(query = query).to_dataframe()"
   ]
  },
  {
   "cell_type": "code",
   "execution_count": 43,
   "id": "e2cf2805-3619-4a58-88d5-dd00815b0566",
   "metadata": {},
   "outputs": [
    {
     "data": {
      "text/html": [
       "<div>\n",
       "<style scoped>\n",
       "    .dataframe tbody tr th:only-of-type {\n",
       "        vertical-align: middle;\n",
       "    }\n",
       "\n",
       "    .dataframe tbody tr th {\n",
       "        vertical-align: top;\n",
       "    }\n",
       "\n",
       "    .dataframe thead th {\n",
       "        text-align: right;\n",
       "    }\n",
       "</style>\n",
       "<table border=\"1\" class=\"dataframe\">\n",
       "  <thead>\n",
       "    <tr style=\"text-align: right;\">\n",
       "      <th></th>\n",
       "      <th>feature</th>\n",
       "      <th>attribution</th>\n",
       "    </tr>\n",
       "  </thead>\n",
       "  <tbody>\n",
       "    <tr>\n",
       "      <th>0</th>\n",
       "      <td>V14</td>\n",
       "      <td>0.073539</td>\n",
       "    </tr>\n",
       "    <tr>\n",
       "      <th>1</th>\n",
       "      <td>V8</td>\n",
       "      <td>0.060296</td>\n",
       "    </tr>\n",
       "    <tr>\n",
       "      <th>2</th>\n",
       "      <td>V17</td>\n",
       "      <td>0.037275</td>\n",
       "    </tr>\n",
       "    <tr>\n",
       "      <th>3</th>\n",
       "      <td>V4</td>\n",
       "      <td>0.034702</td>\n",
       "    </tr>\n",
       "    <tr>\n",
       "      <th>4</th>\n",
       "      <td>Amount</td>\n",
       "      <td>0.033783</td>\n",
       "    </tr>\n",
       "  </tbody>\n",
       "</table>\n",
       "</div>"
      ],
      "text/plain": [
       "  feature  attribution\n",
       "0     V14     0.073539\n",
       "1      V8     0.060296\n",
       "2     V17     0.037275\n",
       "3      V4     0.034702\n",
       "4  Amount     0.033783"
      ]
     },
     "execution_count": 43,
     "metadata": {},
     "output_type": "execute_result"
    }
   ],
   "source": [
    "gexplain.head()"
   ]
  },
  {
   "cell_type": "code",
   "execution_count": 44,
   "id": "0b266af9-5261-4f92-a1d5-669ad09efcf2",
   "metadata": {},
   "outputs": [
    {
     "data": {
      "image/png": "[encoded data removed]",
      "text/plain": [
       "<Figure size 1500x800 with 1 Axes>"
      ]
     },
     "metadata": {},
     "output_type": "display_data"
    }
   ],
   "source": [
    "plt.figure(figsize=(15,8))\n",
    "plt.barh(gexplain['feature'], gexplain['attribution'])\n",
    "plt.title('Global Influence')\n",
    "plt.xlabel('Attribution')\n",
    "#plt.ylabel('Feature')\n",
    "plt.show()"
   ]
  },
  {
   "cell_type": "markdown",
   "id": "1e10c294-7acb-458c-bd55-6d17fa3c59dc",
   "metadata": {},
   "source": [
    "---\n",
    "## Serving With Vertex AI\n",
    "\n",
    "The training options for creating the model include registering the model the Vertex AI Automatically.  This makes deploying the model to a [Vertex AI Endpoint for online serving](https://cloud.google.com/vertex-ai/docs/general/deployment) very easy."
   ]
  },
  {
   "cell_type": "markdown",
   "id": "dcf6aa64-2a41-4f7f-90a3-c16b85655cf3",
   "metadata": {},
   "source": [
    "### Vertex AI Model Registry - Get Model\n",
    "\n",
    "When these modes were trained in BigQuery ML they included options for registration in Vertex AI Model Registry.  This section shows how to retrieve the information from the model using the [Vertex AI Python Client](../Tips/aiplatform_notes.md).\n",
    "\n",
    "References:\n",
    "- [aiplatform.Model()](https://cloud.google.com/python/docs/reference/aiplatform/latest/google.cloud.aiplatform.Model)"
   ]
  },
  {
   "cell_type": "code",
   "execution_count": 46,
   "id": "5e581168-1da1-4c5c-b7cf-1d13e643016a",
   "metadata": {},
   "outputs": [
    {
     "data": {
      "text/plain": [
       "'projects/1026793852137/locations/us-central1/models/bqml_bqml_dnn'"
      ]
     },
     "execution_count": 46,
     "metadata": {},
     "output_type": "execute_result"
    }
   ],
   "source": [
    "vertex_model = aiplatform.Model(model_name = f'bqml_{SERIES}_{EXPERIMENT}')\n",
    "vertex_model.resource_name"
   ]
  },
  {
   "cell_type": "code",
   "execution_count": 47,
   "id": "b6ee050f-005d-4cc7-9121-0dda807637aa",
   "metadata": {},
   "outputs": [
    {
     "data": {
      "text/plain": [
       "{'rows': [[43.0, 5.0], [242.0, 27954.0]],\n",
       " 'annotationSpecs': [{'displayName': '1', 'id': '0'},\n",
       "  {'displayName': '0', 'id': '1'}]}"
      ]
     },
     "execution_count": 47,
     "metadata": {},
     "output_type": "execute_result"
    }
   ],
   "source": [
    "aiplatform.ModelEvaluation(\n",
    "    evaluation_name = vertex_model.get_model_evaluation().resource_name\n",
    ").to_dict()['metrics']['confusionMatrix']"
   ]
  },
  {
   "cell_type": "code",
   "execution_count": 48,
   "id": "04b23f0d-56c0-459d-91c5-79c3143a54b7",
   "metadata": {},
   "outputs": [],
   "source": [
    "# note: this is blank since the model is managed by BQML and container is pre-specified\n",
    "vertex_model.uri "
   ]
  },
  {
   "cell_type": "markdown",
   "id": "e2803637-708c-4810-8b5d-1f48845effd2",
   "metadata": {},
   "source": [
    "### Vertex AI Endpoint - Create or Retrieve\n",
    "\n",
    "References:\n",
    "- [aiplatform.Endpoint()](https://cloud.google.com/python/docs/reference/aiplatform/latest/google.cloud.aiplatform.Endpoint)"
   ]
  },
  {
   "cell_type": "code",
   "execution_count": 49,
   "id": "0f510203-8e10-4b5c-8e10-220776834f42",
   "metadata": {},
   "outputs": [
    {
     "name": "stdout",
     "output_type": "stream",
     "text": [
      "Endpoint Found: bqml\n"
     ]
    }
   ],
   "source": [
    "if not aiplatform.Endpoint.list(filter = f\"display_name={SERIES}\"):\n",
    "    endpoint = aiplatform.Endpoint.create(\n",
    "        display_name = f\"{SERIES}\",\n",
    "        labels = {'series' : f\"{SERIES}\"}\n",
    "    )\n",
    "    print(f\"Endpoint Created: {endpoint.display_name}\")\n",
    "else:\n",
    "    endpoint = aiplatform.Endpoint.list(filter = f\"display_name={SERIES}\")[0]\n",
    "    print(f\"Endpoint Found: {endpoint.display_name}\")"
   ]
  },
  {
   "cell_type": "code",
   "execution_count": 50,
   "id": "49c22093-5fbc-425c-b07d-e32911e37aa6",
   "metadata": {},
   "outputs": [
    {
     "data": {
      "text/plain": [
       "'bqml'"
      ]
     },
     "execution_count": 50,
     "metadata": {},
     "output_type": "execute_result"
    }
   ],
   "source": [
    "endpoint.display_name"
   ]
  },
  {
   "cell_type": "code",
   "execution_count": 51,
   "id": "6ea8aa44-8284-4be1-95cc-8ddd42dd0b49",
   "metadata": {},
   "outputs": [
    {
     "data": {
      "text/plain": [
       "{'2276800509077618688': 100}"
      ]
     },
     "execution_count": 51,
     "metadata": {},
     "output_type": "execute_result"
    }
   ],
   "source": [
    "endpoint.traffic_split"
   ]
  },
  {
   "cell_type": "code",
   "execution_count": 52,
   "id": "eca0d999-ada0-4888-bc22-d795cedeae68",
   "metadata": {},
   "outputs": [
    {
     "data": {
      "text/plain": [
       "[id: \"2276800509077618688\"\n",
       " model: \"projects/1026793852137/locations/us-central1/models/bqml_bqml_random-forest\"\n",
       " display_name: \"bqml_bqml_random-forest\"\n",
       " create_time {\n",
       "   seconds: 1687884140\n",
       "   nanos: 79493000\n",
       " }\n",
       " dedicated_resources {\n",
       "   machine_spec {\n",
       "     machine_type: \"n1-standard-2\"\n",
       "   }\n",
       "   min_replica_count: 1\n",
       "   max_replica_count: 1\n",
       " }\n",
       " explanation_spec {\n",
       "   parameters {\n",
       "     sampled_shapley_attribution {\n",
       "       path_count: 5\n",
       "     }\n",
       "   }\n",
       "   metadata {\n",
       "     inputs {\n",
       "       key: \"Amount\"\n",
       "       value {\n",
       "       }\n",
       "     }\n",
       "     inputs {\n",
       "       key: \"Time\"\n",
       "       value {\n",
       "       }\n",
       "     }\n",
       "     inputs {\n",
       "       key: \"V1\"\n",
       "       value {\n",
       "       }\n",
       "     }\n",
       "     inputs {\n",
       "       key: \"V10\"\n",
       "       value {\n",
       "       }\n",
       "     }\n",
       "     inputs {\n",
       "       key: \"V11\"\n",
       "       value {\n",
       "       }\n",
       "     }\n",
       "     inputs {\n",
       "       key: \"V12\"\n",
       "       value {\n",
       "       }\n",
       "     }\n",
       "     inputs {\n",
       "       key: \"V13\"\n",
       "       value {\n",
       "       }\n",
       "     }\n",
       "     inputs {\n",
       "       key: \"V14\"\n",
       "       value {\n",
       "       }\n",
       "     }\n",
       "     inputs {\n",
       "       key: \"V15\"\n",
       "       value {\n",
       "       }\n",
       "     }\n",
       "     inputs {\n",
       "       key: \"V16\"\n",
       "       value {\n",
       "       }\n",
       "     }\n",
       "     inputs {\n",
       "       key: \"V17\"\n",
       "       value {\n",
       "       }\n",
       "     }\n",
       "     inputs {\n",
       "       key: \"V18\"\n",
       "       value {\n",
       "       }\n",
       "     }\n",
       "     inputs {\n",
       "       key: \"V19\"\n",
       "       value {\n",
       "       }\n",
       "     }\n",
       "     inputs {\n",
       "       key: \"V2\"\n",
       "       value {\n",
       "       }\n",
       "     }\n",
       "     inputs {\n",
       "       key: \"V20\"\n",
       "       value {\n",
       "       }\n",
       "     }\n",
       "     inputs {\n",
       "       key: \"V21\"\n",
       "       value {\n",
       "       }\n",
       "     }\n",
       "     inputs {\n",
       "       key: \"V22\"\n",
       "       value {\n",
       "       }\n",
       "     }\n",
       "     inputs {\n",
       "       key: \"V23\"\n",
       "       value {\n",
       "       }\n",
       "     }\n",
       "     inputs {\n",
       "       key: \"V24\"\n",
       "       value {\n",
       "       }\n",
       "     }\n",
       "     inputs {\n",
       "       key: \"V25\"\n",
       "       value {\n",
       "       }\n",
       "     }\n",
       "     inputs {\n",
       "       key: \"V26\"\n",
       "       value {\n",
       "       }\n",
       "     }\n",
       "     inputs {\n",
       "       key: \"V27\"\n",
       "       value {\n",
       "       }\n",
       "     }\n",
       "     inputs {\n",
       "       key: \"V28\"\n",
       "       value {\n",
       "       }\n",
       "     }\n",
       "     inputs {\n",
       "       key: \"V3\"\n",
       "       value {\n",
       "       }\n",
       "     }\n",
       "     inputs {\n",
       "       key: \"V4\"\n",
       "       value {\n",
       "       }\n",
       "     }\n",
       "     inputs {\n",
       "       key: \"V5\"\n",
       "       value {\n",
       "       }\n",
       "     }\n",
       "     inputs {\n",
       "       key: \"V6\"\n",
       "       value {\n",
       "       }\n",
       "     }\n",
       "     inputs {\n",
       "       key: \"V7\"\n",
       "       value {\n",
       "       }\n",
       "     }\n",
       "     inputs {\n",
       "       key: \"V8\"\n",
       "       value {\n",
       "       }\n",
       "     }\n",
       "     inputs {\n",
       "       key: \"V9\"\n",
       "       value {\n",
       "       }\n",
       "     }\n",
       "     outputs {\n",
       "       key: \"label_probs\"\n",
       "       value {\n",
       "       }\n",
       "     }\n",
       "   }\n",
       " }\n",
       " disable_container_logging: true\n",
       " model_version_id: \"1\"]"
      ]
     },
     "execution_count": 52,
     "metadata": {},
     "output_type": "execute_result"
    }
   ],
   "source": [
    "deployed_models = endpoint.list_models()\n",
    "deployed_models"
   ]
  },
  {
   "cell_type": "markdown",
   "id": "9a49f300-8e38-42cd-a771-a3bc23903f39",
   "metadata": {},
   "source": [
    "### Deploy Model To Vertex AI Endpoint\n",
    "\n",
    "**NOTE: This can take 15+ minutes to complete.**\n",
    "\n",
    "Reference:\n",
    "- [aiplatform.Endpoint.deploy()](https://cloud.google.com/python/docs/reference/aiplatform/latest/google.cloud.aiplatform.Endpoint#google_cloud_aiplatform_Endpoint_deploy)"
   ]
  },
  {
   "cell_type": "code",
   "execution_count": 53,
   "id": "58d63939-5b54-4fb5-a910-9db5605ecef5",
   "metadata": {},
   "outputs": [
    {
     "name": "stdout",
     "output_type": "stream",
     "text": [
      "Deploying Model projects/1026793852137/locations/us-central1/models/bqml_bqml_dnn to Endpoint : projects/1026793852137/locations/us-central1/endpoints/5386265571916513280\n",
      "Deploy Endpoint model backing LRO: projects/1026793852137/locations/us-central1/endpoints/5386265571916513280/operations/587989337879085056\n",
      "Endpoint model deployed. Resource name: projects/1026793852137/locations/us-central1/endpoints/5386265571916513280\n"
     ]
    }
   ],
   "source": [
    "endpoint.deploy(\n",
    "    model = vertex_model,\n",
    "    deployed_model_display_name = vertex_model.display_name,\n",
    "    traffic_percentage = 100,\n",
    "    machine_type = 'n1-standard-2',\n",
    "    min_replica_count = 1,\n",
    "    max_replica_count = 1\n",
    ")"
   ]
  },
  {
   "cell_type": "code",
   "execution_count": 54,
   "id": "a17b6263-7c21-405c-99bb-fba94c8b0036",
   "metadata": {},
   "outputs": [
    {
     "data": {
      "text/plain": [
       "[id: \"2276800509077618688\"\n",
       " model: \"projects/1026793852137/locations/us-central1/models/bqml_bqml_random-forest\"\n",
       " display_name: \"bqml_bqml_random-forest\"\n",
       " create_time {\n",
       "   seconds: 1687884140\n",
       "   nanos: 79493000\n",
       " }\n",
       " dedicated_resources {\n",
       "   machine_spec {\n",
       "     machine_type: \"n1-standard-2\"\n",
       "   }\n",
       "   min_replica_count: 1\n",
       "   max_replica_count: 1\n",
       " }\n",
       " explanation_spec {\n",
       "   parameters {\n",
       "     sampled_shapley_attribution {\n",
       "       path_count: 5\n",
       "     }\n",
       "   }\n",
       "   metadata {\n",
       "     inputs {\n",
       "       key: \"Amount\"\n",
       "       value {\n",
       "       }\n",
       "     }\n",
       "     inputs {\n",
       "       key: \"Time\"\n",
       "       value {\n",
       "       }\n",
       "     }\n",
       "     inputs {\n",
       "       key: \"V1\"\n",
       "       value {\n",
       "       }\n",
       "     }\n",
       "     inputs {\n",
       "       key: \"V10\"\n",
       "       value {\n",
       "       }\n",
       "     }\n",
       "     inputs {\n",
       "       key: \"V11\"\n",
       "       value {\n",
       "       }\n",
       "     }\n",
       "     inputs {\n",
       "       key: \"V12\"\n",
       "       value {\n",
       "       }\n",
       "     }\n",
       "     inputs {\n",
       "       key: \"V13\"\n",
       "       value {\n",
       "       }\n",
       "     }\n",
       "     inputs {\n",
       "       key: \"V14\"\n",
       "       value {\n",
       "       }\n",
       "     }\n",
       "     inputs {\n",
       "       key: \"V15\"\n",
       "       value {\n",
       "       }\n",
       "     }\n",
       "     inputs {\n",
       "       key: \"V16\"\n",
       "       value {\n",
       "       }\n",
       "     }\n",
       "     inputs {\n",
       "       key: \"V17\"\n",
       "       value {\n",
       "       }\n",
       "     }\n",
       "     inputs {\n",
       "       key: \"V18\"\n",
       "       value {\n",
       "       }\n",
       "     }\n",
       "     inputs {\n",
       "       key: \"V19\"\n",
       "       value {\n",
       "       }\n",
       "     }\n",
       "     inputs {\n",
       "       key: \"V2\"\n",
       "       value {\n",
       "       }\n",
       "     }\n",
       "     inputs {\n",
       "       key: \"V20\"\n",
       "       value {\n",
       "       }\n",
       "     }\n",
       "     inputs {\n",
       "       key: \"V21\"\n",
       "       value {\n",
       "       }\n",
       "     }\n",
       "     inputs {\n",
       "       key: \"V22\"\n",
       "       value {\n",
       "       }\n",
       "     }\n",
       "     inputs {\n",
       "       key: \"V23\"\n",
       "       value {\n",
       "       }\n",
       "     }\n",
       "     inputs {\n",
       "       key: \"V24\"\n",
       "       value {\n",
       "       }\n",
       "     }\n",
       "     inputs {\n",
       "       key: \"V25\"\n",
       "       value {\n",
       "       }\n",
       "     }\n",
       "     inputs {\n",
       "       key: \"V26\"\n",
       "       value {\n",
       "       }\n",
       "     }\n",
       "     inputs {\n",
       "       key: \"V27\"\n",
       "       value {\n",
       "       }\n",
       "     }\n",
       "     inputs {\n",
       "       key: \"V28\"\n",
       "       value {\n",
       "       }\n",
       "     }\n",
       "     inputs {\n",
       "       key: \"V3\"\n",
       "       value {\n",
       "       }\n",
       "     }\n",
       "     inputs {\n",
       "       key: \"V4\"\n",
       "       value {\n",
       "       }\n",
       "     }\n",
       "     inputs {\n",
       "       key: \"V5\"\n",
       "       value {\n",
       "       }\n",
       "     }\n",
       "     inputs {\n",
       "       key: \"V6\"\n",
       "       value {\n",
       "       }\n",
       "     }\n",
       "     inputs {\n",
       "       key: \"V7\"\n",
       "       value {\n",
       "       }\n",
       "     }\n",
       "     inputs {\n",
       "       key: \"V8\"\n",
       "       value {\n",
       "       }\n",
       "     }\n",
       "     inputs {\n",
       "       key: \"V9\"\n",
       "       value {\n",
       "       }\n",
       "     }\n",
       "     outputs {\n",
       "       key: \"label_probs\"\n",
       "       value {\n",
       "       }\n",
       "     }\n",
       "   }\n",
       " }\n",
       " disable_container_logging: true\n",
       " model_version_id: \"1\",\n",
       " id: \"3118973639395901440\"\n",
       " model: \"projects/1026793852137/locations/us-central1/models/bqml_bqml_dnn\"\n",
       " display_name: \"bqml_bqml_dnn\"\n",
       " create_time {\n",
       "   seconds: 1687887105\n",
       "   nanos: 885536000\n",
       " }\n",
       " dedicated_resources {\n",
       "   machine_spec {\n",
       "     machine_type: \"n1-standard-2\"\n",
       "   }\n",
       "   min_replica_count: 1\n",
       "   max_replica_count: 1\n",
       " }\n",
       " explanation_spec {\n",
       "   parameters {\n",
       "     integrated_gradients_attribution {\n",
       "       step_count: 10\n",
       "     }\n",
       "   }\n",
       "   metadata {\n",
       "     inputs {\n",
       "       key: \"Amount\"\n",
       "       value {\n",
       "         input_tensor_name: \"dnn/input_from_feature_columns/input_layer/Amount/Cast:0\"\n",
       "         encoding: IDENTITY\n",
       "         modality: \"numeric\"\n",
       "       }\n",
       "     }\n",
       "     inputs {\n",
       "       key: \"Time\"\n",
       "       value {\n",
       "         input_tensor_name: \"dnn/input_from_feature_columns/input_layer/Time/Cast:0\"\n",
       "         encoding: IDENTITY\n",
       "         modality: \"numeric\"\n",
       "       }\n",
       "     }\n",
       "     inputs {\n",
       "       key: \"V1\"\n",
       "       value {\n",
       "         input_tensor_name: \"dnn/input_from_feature_columns/input_layer/V1/Cast:0\"\n",
       "         encoding: IDENTITY\n",
       "         modality: \"numeric\"\n",
       "       }\n",
       "     }\n",
       "     inputs {\n",
       "       key: \"V10\"\n",
       "       value {\n",
       "         input_tensor_name: \"dnn/input_from_feature_columns/input_layer/V10/Cast:0\"\n",
       "         encoding: IDENTITY\n",
       "         modality: \"numeric\"\n",
       "       }\n",
       "     }\n",
       "     inputs {\n",
       "       key: \"V11\"\n",
       "       value {\n",
       "         input_tensor_name: \"dnn/input_from_feature_columns/input_layer/V11/Cast:0\"\n",
       "         encoding: IDENTITY\n",
       "         modality: \"numeric\"\n",
       "       }\n",
       "     }\n",
       "     inputs {\n",
       "       key: \"V12\"\n",
       "       value {\n",
       "         input_tensor_name: \"dnn/input_from_feature_columns/input_layer/V12/Cast:0\"\n",
       "         encoding: IDENTITY\n",
       "         modality: \"numeric\"\n",
       "       }\n",
       "     }\n",
       "     inputs {\n",
       "       key: \"V13\"\n",
       "       value {\n",
       "         input_tensor_name: \"dnn/input_from_feature_columns/input_layer/V13/Cast:0\"\n",
       "         encoding: IDENTITY\n",
       "         modality: \"numeric\"\n",
       "       }\n",
       "     }\n",
       "     inputs {\n",
       "       key: \"V14\"\n",
       "       value {\n",
       "         input_tensor_name: \"dnn/input_from_feature_columns/input_layer/V14/Cast:0\"\n",
       "         encoding: IDENTITY\n",
       "         modality: \"numeric\"\n",
       "       }\n",
       "     }\n",
       "     inputs {\n",
       "       key: \"V15\"\n",
       "       value {\n",
       "         input_tensor_name: \"dnn/input_from_feature_columns/input_layer/V15/Cast:0\"\n",
       "         encoding: IDENTITY\n",
       "         modality: \"numeric\"\n",
       "       }\n",
       "     }\n",
       "     inputs {\n",
       "       key: \"V16\"\n",
       "       value {\n",
       "         input_tensor_name: \"dnn/input_from_feature_columns/input_layer/V16/Cast:0\"\n",
       "         encoding: IDENTITY\n",
       "         modality: \"numeric\"\n",
       "       }\n",
       "     }\n",
       "     inputs {\n",
       "       key: \"V17\"\n",
       "       value {\n",
       "         input_tensor_name: \"dnn/input_from_feature_columns/input_layer/V17/Cast:0\"\n",
       "         encoding: IDENTITY\n",
       "         modality: \"numeric\"\n",
       "       }\n",
       "     }\n",
       "     inputs {\n",
       "       key: \"V18\"\n",
       "       value {\n",
       "         input_tensor_name: \"dnn/input_from_feature_columns/input_layer/V18/Cast:0\"\n",
       "         encoding: IDENTITY\n",
       "         modality: \"numeric\"\n",
       "       }\n",
       "     }\n",
       "     inputs {\n",
       "       key: \"V19\"\n",
       "       value {\n",
       "         input_tensor_name: \"dnn/input_from_feature_columns/input_layer/V19/Cast:0\"\n",
       "         encoding: IDENTITY\n",
       "         modality: \"numeric\"\n",
       "       }\n",
       "     }\n",
       "     inputs {\n",
       "       key: \"V2\"\n",
       "       value {\n",
       "         input_tensor_name: \"dnn/input_from_feature_columns/input_layer/V2/Cast:0\"\n",
       "         encoding: IDENTITY\n",
       "         modality: \"numeric\"\n",
       "       }\n",
       "     }\n",
       "     inputs {\n",
       "       key: \"V20\"\n",
       "       value {\n",
       "         input_tensor_name: \"dnn/input_from_feature_columns/input_layer/V20/Cast:0\"\n",
       "         encoding: IDENTITY\n",
       "         modality: \"numeric\"\n",
       "       }\n",
       "     }\n",
       "     inputs {\n",
       "       key: \"V21\"\n",
       "       value {\n",
       "         input_tensor_name: \"dnn/input_from_feature_columns/input_layer/V21/Cast:0\"\n",
       "         encoding: IDENTITY\n",
       "         modality: \"numeric\"\n",
       "       }\n",
       "     }\n",
       "     inputs {\n",
       "       key: \"V22\"\n",
       "       value {\n",
       "         input_tensor_name: \"dnn/input_from_feature_columns/input_layer/V22/Cast:0\"\n",
       "         encoding: IDENTITY\n",
       "         modality: \"numeric\"\n",
       "       }\n",
       "     }\n",
       "     inputs {\n",
       "       key: \"V23\"\n",
       "       value {\n",
       "         input_tensor_name: \"dnn/input_from_feature_columns/input_layer/V23/Cast:0\"\n",
       "         encoding: IDENTITY\n",
       "         modality: \"numeric\"\n",
       "       }\n",
       "     }\n",
       "     inputs {\n",
       "       key: \"V24\"\n",
       "       value {\n",
       "         input_tensor_name: \"dnn/input_from_feature_columns/input_layer/V24/Cast:0\"\n",
       "         encoding: IDENTITY\n",
       "         modality: \"numeric\"\n",
       "       }\n",
       "     }\n",
       "     inputs {\n",
       "       key: \"V25\"\n",
       "       value {\n",
       "         input_tensor_name: \"dnn/input_from_feature_columns/input_layer/V25/Cast:0\"\n",
       "         encoding: IDENTITY\n",
       "         modality: \"numeric\"\n",
       "       }\n",
       "     }\n",
       "     inputs {\n",
       "       key: \"V26\"\n",
       "       value {\n",
       "         input_tensor_name: \"dnn/input_from_feature_columns/input_layer/V26/Cast:0\"\n",
       "         encoding: IDENTITY\n",
       "         modality: \"numeric\"\n",
       "       }\n",
       "     }\n",
       "     inputs {\n",
       "       key: \"V27\"\n",
       "       value {\n",
       "         input_tensor_name: \"dnn/input_from_feature_columns/input_layer/V27/Cast:0\"\n",
       "         encoding: IDENTITY\n",
       "         modality: \"numeric\"\n",
       "       }\n",
       "     }\n",
       "     inputs {\n",
       "       key: \"V28\"\n",
       "       value {\n",
       "         input_tensor_name: \"dnn/input_from_feature_columns/input_layer/V28/Cast:0\"\n",
       "         encoding: IDENTITY\n",
       "         modality: \"numeric\"\n",
       "       }\n",
       "     }\n",
       "     inputs {\n",
       "       key: \"V3\"\n",
       "       value {\n",
       "         input_tensor_name: \"dnn/input_from_feature_columns/input_layer/V3/Cast:0\"\n",
       "         encoding: IDENTITY\n",
       "         modality: \"numeric\"\n",
       "       }\n",
       "     }\n",
       "     inputs {\n",
       "       key: \"V4\"\n",
       "       value {\n",
       "         input_tensor_name: \"dnn/input_from_feature_columns/input_layer/V4/Cast:0\"\n",
       "         encoding: IDENTITY\n",
       "         modality: \"numeric\"\n",
       "       }\n",
       "     }\n",
       "     inputs {\n",
       "       key: \"V5\"\n",
       "       value {\n",
       "         input_tensor_name: \"dnn/input_from_feature_columns/input_layer/V5/Cast:0\"\n",
       "         encoding: IDENTITY\n",
       "         modality: \"numeric\"\n",
       "       }\n",
       "     }\n",
       "     inputs {\n",
       "       key: \"V6\"\n",
       "       value {\n",
       "         input_tensor_name: \"dnn/input_from_feature_columns/input_layer/V6/Cast:0\"\n",
       "         encoding: IDENTITY\n",
       "         modality: \"numeric\"\n",
       "       }\n",
       "     }\n",
       "     inputs {\n",
       "       key: \"V7\"\n",
       "       value {\n",
       "         input_tensor_name: \"dnn/input_from_feature_columns/input_layer/V7/Cast:0\"\n",
       "         encoding: IDENTITY\n",
       "         modality: \"numeric\"\n",
       "       }\n",
       "     }\n",
       "     inputs {\n",
       "       key: \"V8\"\n",
       "       value {\n",
       "         input_tensor_name: \"dnn/input_from_feature_columns/input_layer/V8/Cast:0\"\n",
       "         encoding: IDENTITY\n",
       "         modality: \"numeric\"\n",
       "       }\n",
       "     }\n",
       "     inputs {\n",
       "       key: \"V9\"\n",
       "       value {\n",
       "         input_tensor_name: \"dnn/input_from_feature_columns/input_layer/V9/Cast:0\"\n",
       "         encoding: IDENTITY\n",
       "         modality: \"numeric\"\n",
       "       }\n",
       "     }\n",
       "     outputs {\n",
       "       key: \"logits\"\n",
       "       value {\n",
       "         output_tensor_name: \"dnn/logits/BiasAdd:0\"\n",
       "       }\n",
       "     }\n",
       "   }\n",
       " }\n",
       " disable_container_logging: true\n",
       " model_version_id: \"1\"]"
      ]
     },
     "execution_count": 54,
     "metadata": {},
     "output_type": "execute_result"
    }
   ],
   "source": [
    "endpoint.list_models()"
   ]
  },
  {
   "cell_type": "markdown",
   "id": "06763030-d46e-4c35-9e5a-b6012b7e8909",
   "metadata": {},
   "source": [
    "### Remove Deployed Models without Traffic"
   ]
  },
  {
   "cell_type": "code",
   "execution_count": 55,
   "id": "1a30e9f6-f211-4a36-9d65-035c912df9b4",
   "metadata": {},
   "outputs": [
    {
     "name": "stdout",
     "output_type": "stream",
     "text": [
      "Undeploying Endpoint model: projects/1026793852137/locations/us-central1/endpoints/5386265571916513280\n",
      "Undeploy Endpoint model backing LRO: projects/1026793852137/locations/us-central1/endpoints/5386265571916513280/operations/1928936126928650240\n",
      "Endpoint model undeployed. Resource name: projects/1026793852137/locations/us-central1/endpoints/5386265571916513280\n",
      "Undeploying bqml_bqml_random-forest with version 1 because it has no traffic.\n",
      "Model bqml_bqml_dnn with version 1 has traffic = 100\n"
     ]
    }
   ],
   "source": [
    "for deployed_model in endpoint.list_models():\n",
    "    if deployed_model.id in endpoint.traffic_split:\n",
    "        print(f\"Model {deployed_model.display_name} with version {deployed_model.model_version_id} has traffic = {endpoint.traffic_split[deployed_model.id]}\")\n",
    "    else:\n",
    "        endpoint.undeploy(deployed_model_id = deployed_model.id)\n",
    "        print(f\"Undeploying {deployed_model.display_name} with version {deployed_model.model_version_id} because it has no traffic.\")"
   ]
  },
  {
   "cell_type": "code",
   "execution_count": 56,
   "id": "7a583216-6b25-49f0-bd6f-33ad9d3ad1c1",
   "metadata": {},
   "outputs": [
    {
     "data": {
      "text/plain": [
       "{'3118973639395901440': 100}"
      ]
     },
     "execution_count": 56,
     "metadata": {},
     "output_type": "execute_result"
    }
   ],
   "source": [
    "endpoint.traffic_split"
   ]
  },
  {
   "cell_type": "code",
   "execution_count": 57,
   "id": "0dda048e-4997-4c42-8f44-7d9aa1371290",
   "metadata": {},
   "outputs": [],
   "source": [
    "#endpoint.list_models()"
   ]
  },
  {
   "cell_type": "markdown",
   "id": "52aeb078-0802-4118-9eac-5e1a729cf550",
   "metadata": {},
   "source": [
    "---\n",
    "## Predictions With Vertex AI Endpoint"
   ]
  },
  {
   "cell_type": "markdown",
   "id": "ab230041-f236-4ec7-96a7-df579b30b34c",
   "metadata": {},
   "source": [
    "### Retrieve Records For Prediction"
   ]
  },
  {
   "cell_type": "code",
   "execution_count": 58,
   "id": "517c95fe-2748-4eb9-b708-f328d75a4d85",
   "metadata": {},
   "outputs": [],
   "source": [
    "n = 10\n",
    "pred = bq.query(\n",
    "    query = f\"\"\"\n",
    "        SELECT * EXCEPT({VAR_TARGET}, {VAR_OMIT}, splits)\n",
    "        FROM {BQ_PROJECT}.{BQ_DATASET}.{BQ_TABLE}\n",
    "        WHERE splits='TEST'\n",
    "        LIMIT {n}\n",
    "        \"\"\"\n",
    ").to_dataframe()"
   ]
  },
  {
   "cell_type": "markdown",
   "id": "28e0a58c-6210-4aae-951f-90b317fdcb58",
   "metadata": {},
   "source": [
    "Shape as instances: dictionaries of key:value pairs for only features used in model"
   ]
  },
  {
   "cell_type": "code",
   "execution_count": 59,
   "id": "752365f1-4511-4ab3-b8fa-0b9ca7d46768",
   "metadata": {},
   "outputs": [],
   "source": [
    "newobs = pred.to_dict(orient = 'records')"
   ]
  },
  {
   "cell_type": "code",
   "execution_count": 60,
   "id": "9b7b1a3c-f999-4234-ab60-a979a53179d6",
   "metadata": {},
   "outputs": [
    {
     "data": {
      "text/plain": [
       "{'Time': 35337,\n",
       " 'V1': 1.0928441854981998,\n",
       " 'V2': -0.0132303486713432,\n",
       " 'V3': 1.35982868199426,\n",
       " 'V4': 2.7315370965921004,\n",
       " 'V5': -0.707357349219652,\n",
       " 'V6': 0.8738370029866129,\n",
       " 'V7': -0.7961301510622031,\n",
       " 'V8': 0.437706509544851,\n",
       " 'V9': 0.39676985012996396,\n",
       " 'V10': 0.587438102569443,\n",
       " 'V11': -0.14979756231827498,\n",
       " 'V12': 0.29514781622888103,\n",
       " 'V13': -1.30382621882143,\n",
       " 'V14': -0.31782283120234495,\n",
       " 'V15': -2.03673231037199,\n",
       " 'V16': 0.376090905274179,\n",
       " 'V17': -0.30040350116459497,\n",
       " 'V18': 0.433799615590844,\n",
       " 'V19': -0.145082264348681,\n",
       " 'V20': -0.240427548108996,\n",
       " 'V21': 0.0376030733329398,\n",
       " 'V22': 0.38002620963091405,\n",
       " 'V23': -0.16764742731151097,\n",
       " 'V24': 0.0275573495476881,\n",
       " 'V25': 0.59211469704354,\n",
       " 'V26': 0.219695164116351,\n",
       " 'V27': 0.0369695108704894,\n",
       " 'V28': 0.010984441006191,\n",
       " 'Amount': 0.0}"
      ]
     },
     "execution_count": 60,
     "metadata": {},
     "output_type": "execute_result"
    }
   ],
   "source": [
    "newobs[0]"
   ]
  },
  {
   "cell_type": "markdown",
   "id": "66e0ccbc-9749-4420-9a3a-632b528a1e94",
   "metadata": {},
   "source": [
    "### Get Predictions: Python Client"
   ]
  },
  {
   "cell_type": "code",
   "execution_count": 61,
   "id": "5d9862b2-259b-44b0-9d6f-3912852751a0",
   "metadata": {},
   "outputs": [
    {
     "data": {
      "text/plain": [
       "Prediction(predictions=[{'class_ids': [1.0], 'classes': ['0'], 'all_class_ids': [0.0, 1.0], 'logistic': [0.999807179], 'all_classes': ['1', '0'], 'probabilities': [0.000192784762, 0.999807179], 'logits': [8.55374336]}], deployed_model_id='3118973639395901440', model_version_id='1', model_resource_name='projects/1026793852137/locations/us-central1/models/bqml_bqml_dnn', explanations=None)"
      ]
     },
     "execution_count": 61,
     "metadata": {},
     "output_type": "execute_result"
    }
   ],
   "source": [
    "prediction = endpoint.predict(instances = newobs[0:1])\n",
    "prediction"
   ]
  },
  {
   "cell_type": "code",
   "execution_count": 62,
   "id": "025149b3-4cc8-4191-9a53-f66c50c6dc97",
   "metadata": {},
   "outputs": [
    {
     "data": {
      "text/plain": [
       "{'class_ids': [1.0],\n",
       " 'classes': ['0'],\n",
       " 'all_class_ids': [0.0, 1.0],\n",
       " 'logistic': [0.999807179],\n",
       " 'all_classes': ['1', '0'],\n",
       " 'probabilities': [0.000192784762, 0.999807179],\n",
       " 'logits': [8.55374336]}"
      ]
     },
     "execution_count": 62,
     "metadata": {},
     "output_type": "execute_result"
    }
   ],
   "source": [
    "prediction.predictions[0]"
   ]
  },
  {
   "cell_type": "code",
   "execution_count": 63,
   "id": "69937672-8e6e-452c-a77f-dbbbe758cc97",
   "metadata": {},
   "outputs": [
    {
     "data": {
      "text/plain": [
       "0"
      ]
     },
     "execution_count": 63,
     "metadata": {},
     "output_type": "execute_result"
    }
   ],
   "source": [
    "np.argmax(prediction.predictions[0])"
   ]
  },
  {
   "cell_type": "markdown",
   "id": "46de0ca5-d111-400c-b570-6b7a8a3814f3",
   "metadata": {},
   "source": [
    "### Get Predictions: REST\n",
    "Reference:\n",
    "- [POST https://{REGION}-aiplatform.googleapis.com/v1/{endpoint}:predict](https://cloud.google.com/python/docs/reference/aiplatform/latest/google.cloud.aiplatform_v1.services.prediction_service.PredictionServiceClient#google_cloud_aiplatform_v1_services_prediction_service_PredictionServiceClient_predict)"
   ]
  },
  {
   "cell_type": "markdown",
   "id": "ae5a83f5-9d9b-46f9-b0ef-93ae0de82128",
   "metadata": {},
   "source": [
    "Prepare request:"
   ]
  },
  {
   "cell_type": "code",
   "execution_count": 64,
   "id": "d5e04f97-987e-45e9-993f-3f00f33753cd",
   "metadata": {},
   "outputs": [],
   "source": [
    "with open(f'{DIR}/request.json','w') as file:\n",
    "    file.write(json.dumps({\"instances\": newobs[0:1]}))"
   ]
  },
  {
   "cell_type": "markdown",
   "id": "10921f19-36b2-4c24-be49-6431d8fa88a5",
   "metadata": {},
   "source": [
    "Prediction:"
   ]
  },
  {
   "cell_type": "code",
   "execution_count": 65,
   "id": "3f69020a-0b2e-4410-a429-f7d8d4581ab1",
   "metadata": {},
   "outputs": [
    {
     "data": {
      "text/plain": [
       "['  % Total    % Received % Xferd  Average Speed   Time    Time     Time  Current',\n",
       " '                                 Dload  Upload   Total   Spent    Left  Speed',\n",
       " '',\n",
       " '  0     0    0     0    0     0      0      0 --:--:-- --:--:-- --:--:--     0',\n",
       " '100  1386    0   591  100   795  12061  16224 --:--:-- --:--:-- --:--:-- 28285',\n",
       " '{',\n",
       " '  \"predictions\": [',\n",
       " '    {',\n",
       " '      \"all_classes\": [',\n",
       " '        \"1\",',\n",
       " '        \"0\"',\n",
       " '      ],',\n",
       " '      \"class_ids\": [',\n",
       " '        1',\n",
       " '      ],',\n",
       " '      \"logistic\": [',\n",
       " '        0.999807179',\n",
       " '      ],',\n",
       " '      \"all_class_ids\": [',\n",
       " '        0,',\n",
       " '        1',\n",
       " '      ],',\n",
       " '      \"classes\": [',\n",
       " '        \"0\"',\n",
       " '      ],',\n",
       " '      \"logits\": [',\n",
       " '        8.55374336',\n",
       " '      ],',\n",
       " '      \"probabilities\": [',\n",
       " '        0.000192784762,',\n",
       " '        0.999807179',\n",
       " '      ]',\n",
       " '    }',\n",
       " '  ],',\n",
       " '  \"deployedModelId\": \"3118973639395901440\",',\n",
       " '  \"model\": \"projects/1026793852137/locations/us-central1/models/bqml_bqml_dnn\",',\n",
       " '  \"modelDisplayName\": \"bqml_bqml_dnn\",',\n",
       " '  \"modelVersionId\": \"1\"',\n",
       " '}']"
      ]
     },
     "execution_count": 65,
     "metadata": {},
     "output_type": "execute_result"
    }
   ],
   "source": [
    "prediction = !curl -X POST \\\n",
    "-H \"Authorization: Bearer \"$(gcloud auth application-default print-access-token) \\\n",
    "-H \"Content-Type: application/json; charset=utf-8\" \\\n",
    "-d @{DIR}/request.json \\\n",
    "https://{REGION}-aiplatform.googleapis.com/v1/{endpoint.resource_name}:predict\n",
    "\n",
    "prediction"
   ]
  },
  {
   "cell_type": "markdown",
   "id": "99812356-b6ce-40bb-a75b-9e7d051b4b0b",
   "metadata": {},
   "source": [
    "Format raw prediction response using JSON:"
   ]
  },
  {
   "cell_type": "markdown",
   "id": "b45cc4aa-804b-4f5c-a7c4-2b907ddef6af",
   "metadata": {},
   "source": [
    "### Get Predictions: gcloud (CLI)\n",
    "Reference:\n",
    "- [gcloud ai endpoints predict](https://cloud.google.com/sdk/gcloud/reference/ai/endpoints/predict)"
   ]
  },
  {
   "cell_type": "markdown",
   "id": "7c472084-b53a-4026-8575-1eb92fa9c0da",
   "metadata": {},
   "source": [
    "Prepare request:"
   ]
  },
  {
   "cell_type": "code",
   "execution_count": 66,
   "id": "7a9c5eb8-ec18-45d8-8fd9-6a5fc667dd95",
   "metadata": {},
   "outputs": [],
   "source": [
    "with open(f'{DIR}/request.json','w') as file:\n",
    "    file.write(json.dumps({\"instances\": newobs[0:1]}))"
   ]
  },
  {
   "cell_type": "markdown",
   "id": "9ed787e1-f272-473f-8896-efc394394716",
   "metadata": {},
   "source": [
    "Prediction:"
   ]
  },
  {
   "cell_type": "code",
   "execution_count": 67,
   "id": "a19b2c1a-1d9b-41ea-80b9-a1b46d176708",
   "metadata": {},
   "outputs": [
    {
     "data": {
      "text/plain": [
       "['Using endpoint [https://us-central1-prediction-aiplatform.googleapis.com/]',\n",
       " \"[{'all_class_ids': [0, 1], 'all_classes': ['1', '0'], 'class_ids': [1], 'classes': ['0'], 'logistic': [0.999807179], 'logits': [8.55374336], 'probabilities': [0.000192784762, 0.999807179]}]\"]"
      ]
     },
     "execution_count": 67,
     "metadata": {},
     "output_type": "execute_result"
    }
   ],
   "source": [
    "prediction = !gcloud beta ai endpoints predict {endpoint.name.rsplit('/',1)[-1]} --region={REGION} --json-request={DIR}/request.json\n",
    "prediction"
   ]
  },
  {
   "cell_type": "markdown",
   "id": "33622a22-3c15-4271-9859-c1c3ef9a2969",
   "metadata": {},
   "source": [
    "---\n",
    "## Export Model\n",
    "\n",
    "The model created in BigQuery ML can be exported to their native model types save files.  This process saves the model artifacts in GCS where they can be use anywhere they are needed.  For instance, they could be imported into the Vertex AI Model Registry for use in online and batch serving - however, this process is automated with the training options use above."
   ]
  },
  {
   "cell_type": "markdown",
   "id": "b68299bd-488e-4625-b151-a03575e6a229",
   "metadata": {},
   "source": [
    "### Export the BigQuery Model\n",
    "\n",
    "\n",
    "The models trained in BQML can be exported from BigQuery to GCS:\n",
    "\n",
    "Reference:\n",
    "- [Exporting Models](https://cloud.google.com/bigquery-ml/docs/exporting-models)"
   ]
  },
  {
   "cell_type": "code",
   "execution_count": 68,
   "id": "ea25471b-837d-4c89-8b0e-1843de4450dd",
   "metadata": {},
   "outputs": [
    {
     "data": {
      "text/plain": [
       "<google.cloud.bigquery.table._EmptyRowIterator at 0x7f702cac6b10>"
      ]
     },
     "execution_count": 68,
     "metadata": {},
     "output_type": "execute_result"
    }
   ],
   "source": [
    "query = f\"\"\"\n",
    "EXPORT MODEL `{BQ_PROJECT}.{BQ_DATASET}.{BQ_MODEL}`\n",
    "    OPTIONS (URI = 'gs://{BUCKET}/{SERIES}/{EXPERIMENT}/models/{TIMESTAMP}/model')\n",
    "\"\"\"\n",
    "export = bq.query(query = query)\n",
    "export.result()"
   ]
  },
  {
   "cell_type": "code",
   "execution_count": 69,
   "id": "3a4f3420-789d-497d-a172-53216a22571a",
   "metadata": {},
   "outputs": [
    {
     "data": {
      "text/plain": [
       "3.436"
      ]
     },
     "execution_count": 69,
     "metadata": {},
     "output_type": "execute_result"
    }
   ],
   "source": [
    "(export.ended - export.started).total_seconds()"
   ]
  },
  {
   "cell_type": "code",
   "execution_count": 70,
   "id": "cdc6de1f-489c-4276-9171-0c32b0cd6e05",
   "metadata": {},
   "outputs": [
    {
     "data": {
      "text/plain": [
       "['gs://statmike-mlops-349915/bqml/dnn/models/20230627122933/model/checkpoint',\n",
       " 'gs://statmike-mlops-349915/bqml/dnn/models/20230627122933/model/explanation_metadata.json',\n",
       " 'gs://statmike-mlops-349915/bqml/dnn/models/20230627122933/model/graph.pbtxt',\n",
       " 'gs://statmike-mlops-349915/bqml/dnn/models/20230627122933/model/model.ckpt-22800.data-00000-of-00002',\n",
       " 'gs://statmike-mlops-349915/bqml/dnn/models/20230627122933/model/model.ckpt-22800.data-00001-of-00002',\n",
       " 'gs://statmike-mlops-349915/bqml/dnn/models/20230627122933/model/model.ckpt-22800.index',\n",
       " 'gs://statmike-mlops-349915/bqml/dnn/models/20230627122933/model/model.ckpt-22800.meta',\n",
       " 'gs://statmike-mlops-349915/bqml/dnn/models/20230627122933/model/saved_model.pb',\n",
       " 'gs://statmike-mlops-349915/bqml/dnn/models/20230627122933/model/variables/']"
      ]
     },
     "execution_count": 70,
     "metadata": {},
     "output_type": "execute_result"
    }
   ],
   "source": [
    "listing = !gsutil ls gs://{BUCKET}/{SERIES}/{EXPERIMENT}/models/{TIMESTAMP}/model\n",
    "listing"
   ]
  },
  {
   "cell_type": "code",
   "execution_count": 71,
   "id": "d7e5c2ff-606a-419d-929e-339a745daf25",
   "metadata": {},
   "outputs": [
    {
     "name": "stdout",
     "output_type": "stream",
     "text": [
      "View the export in the console:\n",
      "https://console.cloud.google.com/storage/browser/statmike-mlops-349915/bqml/dnn/models/20230627122933/model?project=statmike-mlops-349915\n"
     ]
    }
   ],
   "source": [
    "print(f\"View the export in the console:\\nhttps://console.cloud.google.com/storage/browser/{BUCKET}/{SERIES}/{EXPERIMENT}/models/{TIMESTAMP}/model?project={PROJECT_ID}\")"
   ]
  },
  {
   "cell_type": "markdown",
   "id": "1e0a8ced-5852-4d65-8a6e-15196493a2fe",
   "metadata": {},
   "source": [
    "### Detect The Model Types Framework"
   ]
  },
  {
   "cell_type": "code",
   "execution_count": 72,
   "id": "e2acfe77-50fe-42f8-a9db-fac95d96bfcd",
   "metadata": {},
   "outputs": [
    {
     "name": "stdout",
     "output_type": "stream",
     "text": [
      "framework = TensorFlow\n"
     ]
    }
   ],
   "source": [
    "filetype = {'pb': 'TensorFlow', 'bst': 'XGBoost'}\n",
    "\n",
    "filetypes = [filetype[f.split('.')[-1]] for f in listing if f.split('.')[-1] in ['pb','bst']]\n",
    "if len(list(set(filetypes))) == 1:\n",
    "    framework = filetypes[0]\n",
    "    print(f'framework = {framework}')\n",
    "else:\n",
    "    raise TypeError(f\"Model Type Undeteremined!! Review the contents of of 'listing = {listing}'.\")"
   ]
  },
  {
   "cell_type": "code",
   "execution_count": 73,
   "id": "e7233820-9cdf-4050-a6c0-787cbf004bae",
   "metadata": {},
   "outputs": [
    {
     "data": {
      "text/plain": [
       "['TensorFlow']"
      ]
     },
     "execution_count": 73,
     "metadata": {},
     "output_type": "execute_result"
    }
   ],
   "source": [
    "list(set(filetypes))"
   ]
  },
  {
   "cell_type": "markdown",
   "id": "af5e888e-9c87-4bd0-bc64-015822cf99b4",
   "metadata": {},
   "source": [
    "---\n",
    "## Remove Resources\n",
    "\n",
    "The following cells have commented out statements that can be used to remove resources created by this notebook.  Other notebooks in the repository will reusue the same endpoint so it may be desired to not remove the endpoint if you plan to run additional notebooks.  Otherwise, please removed the endpoint to prevent ongoing cost from hosting the models on Vertex AI Endpoints.\n",
    "\n",
    "Similarly, if you want to remove the model from BQML to prevent the minimal storage cost it will automatically be removed from Vertex AI Model Registry as well."
   ]
  },
  {
   "cell_type": "code",
   "execution_count": 100,
   "id": "e20c55f0-d14c-4d95-8856-91a1c8809ae7",
   "metadata": {},
   "outputs": [],
   "source": [
    "# delete endpoint, use `force` incase models are deployed or undeploy them first\n",
    "#endpoint.delete(force = True)"
   ]
  },
  {
   "cell_type": "code",
   "execution_count": 99,
   "id": "3f4d199e-5386-48ab-9e86-fd5b0459fadc",
   "metadata": {},
   "outputs": [],
   "source": [
    "# delete models created in BQ with BQML - this also removes them from Vertex AI Model Registry\n",
    "#bq.delete_model(model)"
   ]
  }
 ],
 "metadata": {
  "environment": {
   "kernel": "python3",
   "name": "tf2-gpu.2-11.m104",
   "type": "gcloud",
   "uri": "gcr.io/deeplearning-platform-release/tf2-gpu.2-11:m104"
  },
  "kernelspec": {
   "display_name": "Python 3 (ipykernel)",
   "language": "python",
   "name": "python3"
  },
  "language_info": {
   "codemirror_mode": {
    "name": "ipython",
    "version": 3
   },
   "file_extension": ".py",
   "mimetype": "text/x-python",
   "name": "python",
   "nbconvert_exporter": "python",
   "pygments_lexer": "ipython3",
   "version": "3.7.12"
  }
 },
 "nbformat": 4,
 "nbformat_minor": 5
}
