{
 "cells": [
  {
   "cell_type": "markdown",
   "id": "1273b0bb",
   "metadata": {},
   "source": [
    "![ga4](https://www.google-analytics.com/collect?v=2&tid=G-6VDTYWLKX6&cid=1&en=page_view&sid=1&dl=statmike%2Fvertex-ai-mlops%2F03+-+BigQuery+ML+%28BQML%29&dt=03b+-+BQML+Boosted+Trees.ipynb)\n",
    "<!--- header table --->\n",
    "<table align=\"left\">\n",
    "  <td style=\"text-align: center\">\n",
    "    <a href=\"https://colab.research.google.com/github/statmike/vertex-ai-mlops/blob/main/03%20-%20BigQuery%20ML%20%28BQML%29/03b%20-%20BQML%20Boosted%20Trees.ipynb\">\n",
    "      <img src=\"https://cloud.google.com/ml-engine/images/colab-logo-32px.png\" alt=\"Google Colaboratory logo\">\n",
    "      <br>Run in<br>Colab\n",
    "    </a>\n",
    "  </td>\n",
    "  <td style=\"text-align: center\">\n",
    "    <a href=\"https://console.cloud.google.com/vertex-ai/colab/import/https%3A//raw.githubusercontent.com/statmike/vertex-ai-mlops/main/03%20-%20BigQuery%20ML%20%28BQML%29/03b%20-%20BQML%20Boosted%20Trees.ipynb\">\n",
    "      <img width=\"32px\" src=\"https://lh3.googleusercontent.com/JmcxdQi-qOpctIvWKgPtrzZdJJK-J3sWE1RsfjZNwshCFgE_9fULcNpuXYTilIR2hjwN\" alt=\"Google Cloud Colab Enterprise logo\">\n",
    "      <br>Run in<br>Colab Enterprise\n",
    "    </a>\n",
    "  </td>      \n",
    "  <td style=\"text-align: center\">\n",
    "    <a href=\"https://github.com/statmike/vertex-ai-mlops/blob/main/03%20-%20BigQuery%20ML%20%28BQML%29/03b%20-%20BQML%20Boosted%20Trees.ipynb\">\n",
    "      <img src=\"https://cloud.google.com/ml-engine/images/github-logo-32px.png\" alt=\"GitHub logo\">\n",
    "      <br>View on<br>GitHub\n",
    "    </a>\n",
    "  </td>\n",
    "  <td style=\"text-align: center\">\n",
    "    <a href=\"https://console.cloud.google.com/vertex-ai/workbench/deploy-notebook?download_url=https%3A//raw.githubusercontent.com/statmike/vertex-ai-mlops/main/03%20-%20BigQuery%20ML%20%28BQML%29/03b%20-%20BQML%20Boosted%20Trees.ipynb\">\n",
    "      <img src=\"https://lh3.googleusercontent.com/UiNooY4LUgW_oTvpsNhPpQzsstV5W8F7rYgxgGBD85cWJoLmrOzhVs_ksK_vgx40SHs7jCqkTkCk=e14-rj-sc0xffffff-h130-w32\" alt=\"Vertex AI logo\">\n",
    "      <br>Open in<br>Vertex AI Workbench\n",
    "    </a>\n",
    "  </td>\n",
    "</table>"
   ]
  },
  {
   "cell_type": "markdown",
   "id": "154fe7ff-fdbe-4152-9e8a-f1a86cc0aede",
   "metadata": {},
   "source": [
    "# 03b - BigQuery ML (BQML) - Boosted Trees For Classification\n",
    "\n",
    "In this notebook, BigQuery ML (BQML) is used to create a boosted tree model (using XGBoost).\n",
    "\n",
    "**Boosted Trees**\n",
    "\n",
    "A boosted tree model is an ensemble of decision trees using boosting:\n",
    "- Decision Tree: A supervised learning approach which finds splits in features that represent decisions on predicted level of the target variable.\n",
    "- Ensemble of Trees: Combining trees to form the sum of predictions from multiple trees \n",
    "- Boosting: Adative training where a sequence of trees tries to learn the residual (error) remaining after the previous tree.\n",
    "\n",
    "Reference:\n",
    "- [Decision Trees](https://en.wikipedia.org/wiki/Decision_tree_learning)\n",
    "- [Gradient Boosting](https://en.wikipedia.org/wiki/Gradient_boosting)\n",
    "- [Boosted Trees](https://xgboost.readthedocs.io/en/stable/tutorials/model.html)\n",
    "- [Supervised Learning](https://en.wikipedia.org/wiki/Supervised_learning)\n",
    "\n",
    "**BigQuery ML (BQML)**\n",
    "\n",
    "BigQuery has a number of machine learning algorithms callable directly from SQL.  This gives the convenience of using the common language of `SQL` with statments like `CREATE MODEL …`.  The library of available models is constantly growing and covers supervised, unsupervised, and time series methods as well as functions for evaluation - even anomaly detection from results, explainability and hyperparameter tuning.  A great starting point for seeing the scope of available methods is the [user journey for models](https://cloud.google.com/bigquery-ml/docs/reference/standard-sql/bigqueryml-syntax-e2e-journey).\n",
    "\n",
    "**Prerequisites:**\n",
    "- [01 - BigQuery - Table Data Source](../01%20-%20Data%20Sources/01%20-%20BigQuery%20-%20Table%20Data%20Source.ipynb)\n",
    "\n",
    "**Resources:**\n",
    "-  [BigQuery ML (BQML) Overview](https://cloud.google.com/bigquery-ml/docs/introduction)\n",
    "-  [Overview of BQML methods and workflows](https://cloud.google.com/bigquery-ml/docs/reference/standard-sql/bigqueryml-syntax-e2e-journey)\n",
    "- [BigQuery](https://cloud.google.com/bigquery)\n",
    "    - [Documentation:](https://cloud.google.com/bigquery/docs/query-overview)\n",
    "    - [API:](https://cloud.google.com/bigquery/docs/reference/libraries-overview)\n",
    "        - [Clients](https://cloud.google.com/bigquery/docs/reference/libraries)\n",
    "            - [Python SDK:](https://github.com/googleapis/python-bigquery)\n",
    "            - [Python Library Reference:](https://cloud.google.com/python/docs/reference/bigquery/latest)\n",
    "- [Vertex AI](https://cloud.google.com/vertex-ai)\n",
    "    - [Documentation:](https://cloud.google.com/vertex-ai/docs/start/introduction-unified-platform)\n",
    "    - [API:](https://cloud.google.com/vertex-ai/docs/reference)\n",
    "        - [Clients:](https://cloud.google.com/vertex-ai/docs/start/client-libraries)\n",
    "            - [Python SDK:](https://github.com/googleapis/python-aiplatform)\n",
    "            - [Python Library Reference:](https://cloud.google.com/python/docs/reference/aiplatform/latest)\n",
    "\n",
    "**Conceptual Flow & Workflow**\n",
    "<p align=\"center\">\n",
    "  <img alt=\"Conceptual Flow\" src=\"../architectures/slides/03b_arch.png\" width=\"45%\">\n",
    "&nbsp; &nbsp; &nbsp; &nbsp;\n",
    "  <img alt=\"Workflow\" src=\"../architectures/slides/03b_console.png\" width=\"45%\">\n",
    "</p>"
   ]
  },
  {
   "cell_type": "markdown",
   "id": "ddb75071-67f8-4db5-b1be-7ea86ffa0241",
   "metadata": {
    "id": "od_UkDpvRmgD"
   },
   "source": [
    "---\n",
    "## Colab Setup\n",
    "\n",
    "To run this notebook in Colab click [![Open In Colab](https://colab.research.google.com/assets/colab-badge.svg)](https://colab.research.google.com/github/statmike/vertex-ai-mlops/blob/main/03%20-%20BigQuery%20ML%20(BQML)/03b%20-%20BQML%20Boosted%20Trees.ipynb) and run the cells in this section.  Otherwise, skip this section.\n",
    "\n",
    "This cell will authenticate to GCP (follow prompts in the popup)."
   ]
  },
  {
   "cell_type": "code",
   "execution_count": 1,
   "id": "92240253-e5ab-46d6-a324-2336cb6307c5",
   "metadata": {
    "executionInfo": {
     "elapsed": 195,
     "status": "ok",
     "timestamp": 1683726184843,
     "user": {
      "displayName": "Mike Henderson",
      "userId": "07691629187611687318"
     },
     "user_tz": 240
    },
    "id": "8UO9FnqyKBlF"
   },
   "outputs": [],
   "source": [
    "PROJECT_ID = 'statmike-mlops-349915' # replace with project ID"
   ]
  },
  {
   "cell_type": "code",
   "execution_count": 2,
   "id": "952bb7d0-9b49-451e-8603-1305f07ac82e",
   "metadata": {
    "colab": {
     "base_uri": "https://localhost:8080/"
    },
    "executionInfo": {
     "elapsed": 68869,
     "status": "ok",
     "timestamp": 1683726253709,
     "user": {
      "displayName": "Mike Henderson",
      "userId": "07691629187611687318"
     },
     "user_tz": 240
    },
    "id": "N98-KK7LRkjm",
    "outputId": "09ec5008-0def-4e1a-c349-c598ee752f78"
   },
   "outputs": [],
   "source": [
    "try:\n",
    "    import google.colab\n",
    "    from google.colab import auth\n",
    "    auth.authenticate_user()\n",
    "    !gcloud config set project {PROJECT_ID}\n",
    "    \n",
    "    #installs\n",
    "    # Vertex AI GenAI Studio SDK - Update the aiplatform SDK\n",
    "    !pip install google.cloud.aiplatform -U -q --user\n",
    "    !pip install --upgrade gcsfs -U -q --user\n",
    "    !pip install --upgrade google-cloud-bigquery -U -q --user\n",
    "    !pip install --upgrade google-cloud-bigquery-storage -U -q --user\n",
    "    \n",
    "    # Enable Vertex AI For This Project\n",
    "    !gcloud services enable aiplatform.googleapis.com\n",
    "\n",
    "    # restart runtime\n",
    "    import IPython\n",
    "    app = IPython.Application.instance()\n",
    "    app.kernel.do_shutdown(True)    \n",
    "except Exception:\n",
    "    pass"
   ]
  },
  {
   "cell_type": "markdown",
   "id": "3c217dda-058f-4920-8390-6b4592ba84a6",
   "metadata": {},
   "source": [
    "---\n",
    "## Setup"
   ]
  },
  {
   "cell_type": "markdown",
   "id": "51bd94bb-38a5-4c6b-ac0b-1abd60220907",
   "metadata": {},
   "source": [
    "inputs:"
   ]
  },
  {
   "cell_type": "code",
   "execution_count": 1,
   "id": "fe02e1c2-b00f-4ba9-b963-b3fc9754c783",
   "metadata": {},
   "outputs": [
    {
     "data": {
      "text/plain": [
       "'statmike-mlops-349915'"
      ]
     },
     "execution_count": 1,
     "metadata": {},
     "output_type": "execute_result"
    }
   ],
   "source": [
    "project = !gcloud config get-value project\n",
    "PROJECT_ID = project[0]\n",
    "PROJECT_ID"
   ]
  },
  {
   "cell_type": "code",
   "execution_count": 2,
   "id": "d26ae38e-d3b2-4952-996e-67c119538a19",
   "metadata": {},
   "outputs": [],
   "source": [
    "REGION = 'us-central1'\n",
    "EXPERIMENT = 'boosted-tree'\n",
    "SERIES = 'bqml'\n",
    "\n",
    "# source data\n",
    "BQ_PROJECT = PROJECT_ID\n",
    "BQ_DATASET = 'fraud'\n",
    "BQ_TABLE = 'fraud_prepped'\n",
    "\n",
    "# Resources for serving BigQuery Model Exports\n",
    "TF_DEPLOY_IMAGE = 'us-docker.pkg.dev/vertex-ai/prediction/tf2-cpu.2-3:latest'\n",
    "XGB_DEPLOY_IMAGE = 'us-docker.pkg.dev/vertex-ai/prediction/xgboost-cpu.0-82:latest'\n",
    "\n",
    "# Resources for serving BigQuery Model Exports\n",
    "DEPLOY_COMPUTE = 'n1-standard-4'\n",
    "\n",
    "# Model Training\n",
    "VAR_TARGET = 'Class'\n",
    "VAR_OMIT = 'transaction_id' # add more variables to the string with space delimiters"
   ]
  },
  {
   "cell_type": "markdown",
   "id": "435f311e-87b4-484d-a51b-996d22a80bf9",
   "metadata": {},
   "source": [
    "packages:"
   ]
  },
  {
   "cell_type": "code",
   "execution_count": 3,
   "id": "f49b4d56-aa59-48d9-83dd-cc7edb54c8ce",
   "metadata": {},
   "outputs": [],
   "source": [
    "from google.cloud import bigquery\n",
    "from google.cloud import aiplatform\n",
    "from datetime import datetime\n",
    "import matplotlib.pyplot as plt\n",
    "from sklearn import metrics\n",
    "import numpy as np\n",
    "\n",
    "from google.api import httpbody_pb2\n",
    "import json"
   ]
  },
  {
   "cell_type": "markdown",
   "id": "494ce655-21c7-4b9c-b314-bbed26263ac3",
   "metadata": {},
   "source": [
    "clients:"
   ]
  },
  {
   "cell_type": "code",
   "execution_count": 4,
   "id": "50c5337e-8efc-4778-88ab-35cb8b610cf7",
   "metadata": {},
   "outputs": [],
   "source": [
    "bq = bigquery.Client(project = PROJECT_ID)\n",
    "aiplatform.init(project = PROJECT_ID, location = REGION)"
   ]
  },
  {
   "cell_type": "markdown",
   "id": "7578411a-9806-426c-a56c-434479975191",
   "metadata": {},
   "source": [
    "parameters:"
   ]
  },
  {
   "cell_type": "code",
   "execution_count": 5,
   "id": "727f479d-b980-42dc-9930-a878d5ee2148",
   "metadata": {},
   "outputs": [],
   "source": [
    "TIMESTAMP = datetime.now().strftime(\"%Y%m%d%H%M%S\")\n",
    "BUCKET = PROJECT_ID\n",
    "URI = f\"gs://{BUCKET}/{SERIES}/{EXPERIMENT}\"\n",
    "RUN_NAME = f'run-{TIMESTAMP}'\n",
    "\n",
    "BQ_MODEL = f'{SERIES}_{EXPERIMENT}_{TIMESTAMP}'"
   ]
  },
  {
   "cell_type": "markdown",
   "id": "f1669a3f-5864-409a-8ef3-96742181fcc0",
   "metadata": {},
   "source": [
    "environment:"
   ]
  },
  {
   "cell_type": "code",
   "execution_count": 6,
   "id": "cc2f1b43",
   "metadata": {},
   "outputs": [],
   "source": [
    "DIR = f\"temp/{EXPERIMENT}\"\n",
    "\n",
    "!rm -rf {DIR}\n",
    "!mkdir -p {DIR}"
   ]
  },
  {
   "cell_type": "markdown",
   "id": "ebd357fd-6d58-4f7f-a1d1-f61b527992d1",
   "metadata": {},
   "source": [
    "---\n",
    "## Review Data\n",
    "\n",
    "The data source here was prepared in [01 - BigQuery - Table Data Source](../01%20-%20Data%20Sources/01%20-%20BigQuery%20-%20Table%20Data%20Source.ipynb).  In this notebook we will use prepared BigQuery table to build a model with BigQuery ML (BQML).\n",
    "\n",
    "This is a table of 284,807 credit card transactions classified as fradulant or normal in the column `Class`.  In order protect confidentiality, the original features have been transformed using [principle component analysis (PCA)](https://en.wikipedia.org/wiki/Principal_component_analysis) into 28 features named `V1, V2, ... V28` (float).  Two descriptive features are provided without transformation by PCA:\n",
    "- `Time` (integer) is the seconds elapsed between the transaction and the earliest transaction in the table\n",
    "- `Amount` (float) is the value of the transaction\n",
    "\n",
    "The data preparation included added splits for machine learning with a column named `splits` with 80% for training (`TRAIN`), 10% for validation (`VALIDATE`) and 10% for testing (`TEST`).  Additionally, a unique identifier was added to each transaction, `transaction_id`.  "
   ]
  },
  {
   "cell_type": "markdown",
   "id": "f17f79b9-a74f-4cdd-8d03-36732538f9b3",
   "metadata": {},
   "source": [
    "Review the number of records for each level of Class (VAR_TARGET) for each of the data splits:"
   ]
  },
  {
   "cell_type": "code",
   "execution_count": 7,
   "id": "777df078-92a0-4557-8430-673b46f89bee",
   "metadata": {},
   "outputs": [
    {
     "data": {
      "text/html": [
       "<div>\n",
       "<style scoped>\n",
       "    .dataframe tbody tr th:only-of-type {\n",
       "        vertical-align: middle;\n",
       "    }\n",
       "\n",
       "    .dataframe tbody tr th {\n",
       "        vertical-align: top;\n",
       "    }\n",
       "\n",
       "    .dataframe thead th {\n",
       "        text-align: right;\n",
       "    }\n",
       "</style>\n",
       "<table border=\"1\" class=\"dataframe\">\n",
       "  <thead>\n",
       "    <tr style=\"text-align: right;\">\n",
       "      <th></th>\n",
       "      <th>splits</th>\n",
       "      <th>Class</th>\n",
       "      <th>n</th>\n",
       "    </tr>\n",
       "  </thead>\n",
       "  <tbody>\n",
       "    <tr>\n",
       "      <th>0</th>\n",
       "      <td>TEST</td>\n",
       "      <td>0</td>\n",
       "      <td>28455</td>\n",
       "    </tr>\n",
       "    <tr>\n",
       "      <th>1</th>\n",
       "      <td>TEST</td>\n",
       "      <td>1</td>\n",
       "      <td>47</td>\n",
       "    </tr>\n",
       "    <tr>\n",
       "      <th>2</th>\n",
       "      <td>TRAIN</td>\n",
       "      <td>0</td>\n",
       "      <td>227664</td>\n",
       "    </tr>\n",
       "    <tr>\n",
       "      <th>3</th>\n",
       "      <td>TRAIN</td>\n",
       "      <td>1</td>\n",
       "      <td>397</td>\n",
       "    </tr>\n",
       "    <tr>\n",
       "      <th>4</th>\n",
       "      <td>VALIDATE</td>\n",
       "      <td>0</td>\n",
       "      <td>28196</td>\n",
       "    </tr>\n",
       "    <tr>\n",
       "      <th>5</th>\n",
       "      <td>VALIDATE</td>\n",
       "      <td>1</td>\n",
       "      <td>48</td>\n",
       "    </tr>\n",
       "  </tbody>\n",
       "</table>\n",
       "</div>"
      ],
      "text/plain": [
       "     splits  Class       n\n",
       "0      TEST      0   28455\n",
       "1      TEST      1      47\n",
       "2     TRAIN      0  227664\n",
       "3     TRAIN      1     397\n",
       "4  VALIDATE      0   28196\n",
       "5  VALIDATE      1      48"
      ]
     },
     "execution_count": 7,
     "metadata": {},
     "output_type": "execute_result"
    }
   ],
   "source": [
    "query = f\"\"\"\n",
    "SELECT splits, {VAR_TARGET}, count(*) as n\n",
    "FROM `{BQ_PROJECT}.{BQ_DATASET}.{BQ_TABLE}`\n",
    "GROUP BY splits, {VAR_TARGET}\n",
    "\"\"\"\n",
    "bq.query(query = query).to_dataframe()"
   ]
  },
  {
   "cell_type": "markdown",
   "id": "3528d829-8fbe-4cad-afa0-b287b593ec42",
   "metadata": {},
   "source": [
    "Further review the balance of the target variable (VAR_TARGET) for each split as a percentage of the split:"
   ]
  },
  {
   "cell_type": "code",
   "execution_count": 8,
   "id": "a080b92f-cd1a-4cff-82c4-ccf58347e1dc",
   "metadata": {},
   "outputs": [
    {
     "data": {
      "text/html": [
       "<div>\n",
       "<style scoped>\n",
       "    .dataframe tbody tr th:only-of-type {\n",
       "        vertical-align: middle;\n",
       "    }\n",
       "\n",
       "    .dataframe tbody tr th {\n",
       "        vertical-align: top;\n",
       "    }\n",
       "\n",
       "    .dataframe thead th {\n",
       "        text-align: right;\n",
       "    }\n",
       "</style>\n",
       "<table border=\"1\" class=\"dataframe\">\n",
       "  <thead>\n",
       "    <tr style=\"text-align: right;\">\n",
       "      <th></th>\n",
       "      <th>splits</th>\n",
       "      <th>Class</th>\n",
       "      <th>n</th>\n",
       "      <th>total</th>\n",
       "      <th>n_pct_class</th>\n",
       "      <th>n_pct_split</th>\n",
       "      <th>class_pct_total</th>\n",
       "    </tr>\n",
       "  </thead>\n",
       "  <tbody>\n",
       "    <tr>\n",
       "      <th>0</th>\n",
       "      <td>VALIDATE</td>\n",
       "      <td>0</td>\n",
       "      <td>28196</td>\n",
       "      <td>284807</td>\n",
       "      <td>0.099172</td>\n",
       "      <td>0.998301</td>\n",
       "      <td>0.998273</td>\n",
       "    </tr>\n",
       "    <tr>\n",
       "      <th>1</th>\n",
       "      <td>VALIDATE</td>\n",
       "      <td>1</td>\n",
       "      <td>48</td>\n",
       "      <td>284807</td>\n",
       "      <td>0.097561</td>\n",
       "      <td>0.001699</td>\n",
       "      <td>0.001727</td>\n",
       "    </tr>\n",
       "    <tr>\n",
       "      <th>2</th>\n",
       "      <td>TEST</td>\n",
       "      <td>0</td>\n",
       "      <td>28455</td>\n",
       "      <td>284807</td>\n",
       "      <td>0.100083</td>\n",
       "      <td>0.998351</td>\n",
       "      <td>0.998273</td>\n",
       "    </tr>\n",
       "    <tr>\n",
       "      <th>3</th>\n",
       "      <td>TEST</td>\n",
       "      <td>1</td>\n",
       "      <td>47</td>\n",
       "      <td>284807</td>\n",
       "      <td>0.095528</td>\n",
       "      <td>0.001649</td>\n",
       "      <td>0.001727</td>\n",
       "    </tr>\n",
       "    <tr>\n",
       "      <th>4</th>\n",
       "      <td>TRAIN</td>\n",
       "      <td>0</td>\n",
       "      <td>227664</td>\n",
       "      <td>284807</td>\n",
       "      <td>0.800746</td>\n",
       "      <td>0.998259</td>\n",
       "      <td>0.998273</td>\n",
       "    </tr>\n",
       "    <tr>\n",
       "      <th>5</th>\n",
       "      <td>TRAIN</td>\n",
       "      <td>1</td>\n",
       "      <td>397</td>\n",
       "      <td>284807</td>\n",
       "      <td>0.806911</td>\n",
       "      <td>0.001741</td>\n",
       "      <td>0.001727</td>\n",
       "    </tr>\n",
       "  </tbody>\n",
       "</table>\n",
       "</div>"
      ],
      "text/plain": [
       "     splits  Class       n   total  n_pct_class  n_pct_split  class_pct_total\n",
       "0  VALIDATE      0   28196  284807     0.099172     0.998301         0.998273\n",
       "1  VALIDATE      1      48  284807     0.097561     0.001699         0.001727\n",
       "2      TEST      0   28455  284807     0.100083     0.998351         0.998273\n",
       "3      TEST      1      47  284807     0.095528     0.001649         0.001727\n",
       "4     TRAIN      0  227664  284807     0.800746     0.998259         0.998273\n",
       "5     TRAIN      1     397  284807     0.806911     0.001741         0.001727"
      ]
     },
     "execution_count": 8,
     "metadata": {},
     "output_type": "execute_result"
    }
   ],
   "source": [
    "query = f\"\"\"\n",
    "WITH\n",
    "    COUNTS as (SELECT splits, {VAR_TARGET}, count(*) as n FROM `{BQ_PROJECT}.{BQ_DATASET}.{BQ_TABLE}` GROUP BY splits, {VAR_TARGET})\n",
    "    \n",
    "SELECT *,\n",
    "    SUM(n) OVER() as total,\n",
    "    SAFE_DIVIDE(n, SUM(n) OVER(PARTITION BY {VAR_TARGET})) as n_pct_class,\n",
    "    SAFE_DIVIDE(n, SUM(n) OVER(PARTITION BY splits)) as n_pct_split,\n",
    "    SAFE_DIVIDE(SUM(n) OVER(PARTITION BY {VAR_TARGET}), SUM(n) OVER()) as class_pct_total\n",
    "FROM COUNTS\n",
    "\"\"\"\n",
    "review = bq.query(query = query).to_dataframe()\n",
    "review"
   ]
  },
  {
   "cell_type": "markdown",
   "id": "2e4eab20-c1d1-4c3d-8ecc-54c4cc190658",
   "metadata": {},
   "source": [
    "---\n",
    "## This Run"
   ]
  },
  {
   "cell_type": "code",
   "execution_count": 9,
   "id": "681ef463-436d-4c3d-a20c-0b62f6bd3b49",
   "metadata": {},
   "outputs": [
    {
     "name": "stdout",
     "output_type": "stream",
     "text": [
      "This run will create BQML model: statmike-mlops-349915.fraud.bqml_boosted-tree_20230627122841\n",
      "This run will create Vertex AI model: statmike-mlops-349915.fraud.bqml_bqml_boosted-tree\n",
      "The runs timestamp Is: 20230627122841\n"
     ]
    }
   ],
   "source": [
    "print(f'This run will create BQML model: {BQ_PROJECT}.{BQ_DATASET}.{BQ_MODEL}')\n",
    "print(f'This run will create Vertex AI model: {BQ_PROJECT}.{BQ_DATASET}.bqml_{SERIES}_{EXPERIMENT}')\n",
    "print(f'The runs timestamp Is: {TIMESTAMP}')"
   ]
  },
  {
   "cell_type": "markdown",
   "id": "dcf97a81-326e-4a25-a6fe-cac6b0618f57",
   "metadata": {},
   "source": [
    "---\n",
    "## Train Model\n",
    "\n",
    "Use BigQuery ML to train multiclass boosted tree model using XGBoost:\n",
    "- [Boosted Tree](https://cloud.google.com/bigquery-ml/docs/reference/standard-sql/bigqueryml-syntax-create-boosted-tree) with BigQuery ML (BQML)\n",
    "- This uses the `splits` column that notebook `01` created\n",
    "- `data_split_method = CUSTOM` uses the column in `data_split_col` to assign training data for `FALSE` values and evaluation data for `TRUE` values.\n",
    "    - in this example the `WHERE splits != 'TEST'` statement filters out the test data and\n",
    "    - the `CASE` statement maps training data to FALSE and validation data to TRUE    \n",
    "    \n",
    "This example includes the [training options](https://cloud.google.com/bigquery-ml/docs/create_vertex) to register the resulting model in the [Vertex AI Model Registry](https://cloud.google.com/vertex-ai/docs/model-registry/introduction)."
   ]
  },
  {
   "cell_type": "code",
   "execution_count": 10,
   "id": "2c538095-594f-480d-b43f-2a1222e7a01a",
   "metadata": {},
   "outputs": [
    {
     "name": "stdout",
     "output_type": "stream",
     "text": [
      "\n",
      "CREATE OR REPLACE MODEL `statmike-mlops-349915.fraud.bqml_boosted-tree_20230627122841`\n",
      "OPTIONS\n",
      "    (model_type = 'BOOSTED_TREE_CLASSIFIER',\n",
      "        auto_class_weights = TRUE,\n",
      "        input_label_cols = ['Class'],\n",
      "        enable_global_explain = TRUE,\n",
      "        data_split_col = 'custom_splits',\n",
      "        data_split_method = 'CUSTOM',\n",
      "        booster_type = 'GBTREE',\n",
      "        num_parallel_tree = 1,\n",
      "        max_iterations = 30,\n",
      "        early_stop = TRUE,\n",
      "        min_rel_progress = 0.01,\n",
      "        tree_method = 'HIST',\n",
      "        subsample = 0.85,\n",
      "        MODEL_REGISTRY = 'VERTEX_AI',\n",
      "        VERTEX_AI_MODEL_ID = 'bqml_bqml_boosted-tree',\n",
      "        VERTEX_AI_MODEL_VERSION_ALIASES = ['run-20230627122841']\n",
      "    ) AS\n",
      "SELECT * EXCEPT(transaction_id, splits),\n",
      "    CASE\n",
      "        WHEN splits = 'TRAIN' THEN FALSE\n",
      "        ELSE TRUE\n",
      "    END AS custom_splits\n",
      "FROM `statmike-mlops-349915.fraud.fraud_prepped`\n",
      "WHERE splits != 'TEST'\n",
      "\n"
     ]
    }
   ],
   "source": [
    "query = f\"\"\"\n",
    "CREATE OR REPLACE MODEL `{BQ_PROJECT}.{BQ_DATASET}.{BQ_MODEL}`\n",
    "OPTIONS\n",
    "    (model_type = 'BOOSTED_TREE_CLASSIFIER',\n",
    "        auto_class_weights = TRUE,\n",
    "        input_label_cols = ['{VAR_TARGET}'],\n",
    "        enable_global_explain = TRUE,\n",
    "        data_split_col = 'custom_splits',\n",
    "        data_split_method = 'CUSTOM',\n",
    "        booster_type = 'GBTREE',\n",
    "        num_parallel_tree = 1,\n",
    "        max_iterations = 30,\n",
    "        early_stop = TRUE,\n",
    "        min_rel_progress = 0.01,\n",
    "        tree_method = 'HIST',\n",
    "        subsample = 0.85,\n",
    "        MODEL_REGISTRY = 'VERTEX_AI',\n",
    "        VERTEX_AI_MODEL_ID = 'bqml_{SERIES}_{EXPERIMENT}',\n",
    "        VERTEX_AI_MODEL_VERSION_ALIASES = ['{RUN_NAME}']\n",
    "    ) AS\n",
    "SELECT * EXCEPT({','.join(VAR_OMIT.split())}, splits),\n",
    "    CASE\n",
    "        WHEN splits = 'TRAIN' THEN FALSE\n",
    "        ELSE TRUE\n",
    "    END AS custom_splits\n",
    "FROM `{BQ_PROJECT}.{BQ_DATASET}.{BQ_TABLE}`\n",
    "WHERE splits != 'TEST'\n",
    "\"\"\"\n",
    "print(query)"
   ]
  },
  {
   "cell_type": "code",
   "execution_count": 11,
   "id": "118cf076-90f1-403c-9d8e-1ae6b1907426",
   "metadata": {},
   "outputs": [
    {
     "data": {
      "text/plain": [
       "<google.cloud.bigquery.table._EmptyRowIterator at 0x7fef57d24d50>"
      ]
     },
     "execution_count": 11,
     "metadata": {},
     "output_type": "execute_result"
    }
   ],
   "source": [
    "job = bq.query(query = query)\n",
    "job.result()"
   ]
  },
  {
   "cell_type": "code",
   "execution_count": 12,
   "id": "e3a6b5f1",
   "metadata": {},
   "outputs": [
    {
     "data": {
      "text/plain": [
       "335.226"
      ]
     },
     "execution_count": 12,
     "metadata": {},
     "output_type": "execute_result"
    }
   ],
   "source": [
    "(job.ended-job.started).total_seconds()"
   ]
  },
  {
   "cell_type": "code",
   "execution_count": 13,
   "id": "de17d955-6c31-46e6-8fb5-f9fc44be2257",
   "metadata": {},
   "outputs": [
    {
     "data": {
      "text/plain": [
       "16849113315"
      ]
     },
     "execution_count": 13,
     "metadata": {},
     "output_type": "execute_result"
    }
   ],
   "source": [
    "job.total_bytes_processed"
   ]
  },
  {
   "cell_type": "markdown",
   "id": "976923bf-c123-4617-b6a6-73eb80baa8fb",
   "metadata": {},
   "source": [
    "Add labels to the model in BigQuery:"
   ]
  },
  {
   "cell_type": "code",
   "execution_count": 14,
   "id": "13d696f2-a277-422c-9cb0-f2ea8b5b242f",
   "metadata": {},
   "outputs": [],
   "source": [
    "model = bq.get_model(f'{BQ_PROJECT}.{BQ_DATASET}.{BQ_MODEL}')\n",
    "model.labels = {'series' : f'{SERIES}', 'experiment' : f'{EXPERIMENT}'}\n",
    "model = bq.update_model(model, ['labels'])"
   ]
  },
  {
   "cell_type": "markdown",
   "id": "7f319c1b-5c99-4a23-aa0b-2fc0b162f271",
   "metadata": {},
   "source": [
    "### Check out this model in BigQuery Console:\n",
    "- Make sure project selected is the one from this notebook\n",
    "- Under Explore, expand this project and dataset\n",
    "- Expand Models and select the model create here"
   ]
  },
  {
   "cell_type": "code",
   "execution_count": 15,
   "id": "2e612ea8-ff94-4100-8293-5e2d691cfc69",
   "metadata": {},
   "outputs": [
    {
     "name": "stdout",
     "output_type": "stream",
     "text": [
      "BigQuery Console for Project:\n",
      "https://console.cloud.google.com/bigquery?project=statmike-mlops-349915\n"
     ]
    }
   ],
   "source": [
    "print(f'BigQuery Console for Project:\\nhttps://console.cloud.google.com/bigquery?project={PROJECT_ID}')"
   ]
  },
  {
   "cell_type": "code",
   "execution_count": 16,
   "id": "a70136c5-da05-4083-b45e-1c19d4a32c3c",
   "metadata": {},
   "outputs": [
    {
     "name": "stdout",
     "output_type": "stream",
     "text": [
      "Direct link to the model in BigQuery:\n",
      "https://console.cloud.google.com/bigquery?project=statmike-mlops-349915&ws=!1m5!1m4!5m3!1sstatmike-mlops-349915!2sfraud!3sbqml_boosted-tree_20230627122841\n"
     ]
    }
   ],
   "source": [
    "print(f'Direct link to the model in BigQuery:\\nhttps://console.cloud.google.com/bigquery?project={PROJECT_ID}&ws=!1m5!1m4!5m3!1s{PROJECT_ID}!2s{BQ_DATASET}!3s{BQ_MODEL}')"
   ]
  },
  {
   "cell_type": "markdown",
   "id": "71d1dd70-d66f-411d-a8fd-bd00773ccea0",
   "metadata": {},
   "source": [
    "### Check out this model in the Vertex AI Model Registry"
   ]
  },
  {
   "cell_type": "code",
   "execution_count": 17,
   "id": "c3a7c3c4-b473-4dcb-8e00-b399982a0673",
   "metadata": {},
   "outputs": [
    {
     "name": "stdout",
     "output_type": "stream",
     "text": [
      "Review the model in the Vertex AI Model Registry:\n",
      "https://console.cloud.google.com/vertex-ai/locations/us-central1/models/bqml_bqml_boosted-tree_20230627122841?project=statmike-mlops-349915\n"
     ]
    }
   ],
   "source": [
    "print(f'Review the model in the Vertex AI Model Registry:\\nhttps://console.cloud.google.com/vertex-ai/locations/{REGION}/models/bqml_{BQ_MODEL}?project={PROJECT_ID}')"
   ]
  },
  {
   "cell_type": "markdown",
   "id": "0d1c1c9c-dd6e-4b71-bbae-1ce7df6a64f9",
   "metadata": {},
   "source": [
    "### Feature and Training Review"
   ]
  },
  {
   "cell_type": "markdown",
   "id": "13884065-074c-47cc-889f-c8c17d092a27",
   "metadata": {},
   "source": [
    "Review the Model Inputs, the feature information, with [ML.FEATURE_INFO](https://cloud.google.com/bigquery-ml/docs/reference/standard-sql/bigqueryml-syntax-feature):"
   ]
  },
  {
   "cell_type": "code",
   "execution_count": 18,
   "id": "565dec85-5aa3-440c-b829-e4e5fc8e5a72",
   "metadata": {},
   "outputs": [
    {
     "data": {
      "text/html": [
       "<div>\n",
       "<style scoped>\n",
       "    .dataframe tbody tr th:only-of-type {\n",
       "        vertical-align: middle;\n",
       "    }\n",
       "\n",
       "    .dataframe tbody tr th {\n",
       "        vertical-align: top;\n",
       "    }\n",
       "\n",
       "    .dataframe thead th {\n",
       "        text-align: right;\n",
       "    }\n",
       "</style>\n",
       "<table border=\"1\" class=\"dataframe\">\n",
       "  <thead>\n",
       "    <tr style=\"text-align: right;\">\n",
       "      <th></th>\n",
       "      <th>input</th>\n",
       "      <th>min</th>\n",
       "      <th>max</th>\n",
       "      <th>mean</th>\n",
       "      <th>median</th>\n",
       "      <th>stddev</th>\n",
       "      <th>category_count</th>\n",
       "      <th>null_count</th>\n",
       "      <th>dimension</th>\n",
       "    </tr>\n",
       "  </thead>\n",
       "  <tbody>\n",
       "    <tr>\n",
       "      <th>0</th>\n",
       "      <td>Time</td>\n",
       "      <td>0.000000</td>\n",
       "      <td>172792.000000</td>\n",
       "      <td>94811.116749</td>\n",
       "      <td>85247.000000</td>\n",
       "      <td>47493.531641</td>\n",
       "      <td>&lt;NA&gt;</td>\n",
       "      <td>0</td>\n",
       "      <td>&lt;NA&gt;</td>\n",
       "    </tr>\n",
       "    <tr>\n",
       "      <th>1</th>\n",
       "      <td>V1</td>\n",
       "      <td>-56.407510</td>\n",
       "      <td>2.454930</td>\n",
       "      <td>-0.000215</td>\n",
       "      <td>0.028758</td>\n",
       "      <td>1.958173</td>\n",
       "      <td>&lt;NA&gt;</td>\n",
       "      <td>0</td>\n",
       "      <td>&lt;NA&gt;</td>\n",
       "    </tr>\n",
       "    <tr>\n",
       "      <th>2</th>\n",
       "      <td>V2</td>\n",
       "      <td>-72.715728</td>\n",
       "      <td>22.057729</td>\n",
       "      <td>0.000316</td>\n",
       "      <td>0.059467</td>\n",
       "      <td>1.649662</td>\n",
       "      <td>&lt;NA&gt;</td>\n",
       "      <td>0</td>\n",
       "      <td>&lt;NA&gt;</td>\n",
       "    </tr>\n",
       "    <tr>\n",
       "      <th>3</th>\n",
       "      <td>V3</td>\n",
       "      <td>-48.325589</td>\n",
       "      <td>9.382558</td>\n",
       "      <td>-0.000525</td>\n",
       "      <td>0.187563</td>\n",
       "      <td>1.520173</td>\n",
       "      <td>&lt;NA&gt;</td>\n",
       "      <td>0</td>\n",
       "      <td>&lt;NA&gt;</td>\n",
       "    </tr>\n",
       "    <tr>\n",
       "      <th>4</th>\n",
       "      <td>V4</td>\n",
       "      <td>-5.600607</td>\n",
       "      <td>16.875344</td>\n",
       "      <td>0.000695</td>\n",
       "      <td>-0.034477</td>\n",
       "      <td>1.415309</td>\n",
       "      <td>&lt;NA&gt;</td>\n",
       "      <td>0</td>\n",
       "      <td>&lt;NA&gt;</td>\n",
       "    </tr>\n",
       "    <tr>\n",
       "      <th>5</th>\n",
       "      <td>V5</td>\n",
       "      <td>-113.743307</td>\n",
       "      <td>34.801666</td>\n",
       "      <td>-0.001264</td>\n",
       "      <td>-0.055914</td>\n",
       "      <td>1.381807</td>\n",
       "      <td>&lt;NA&gt;</td>\n",
       "      <td>0</td>\n",
       "      <td>&lt;NA&gt;</td>\n",
       "    </tr>\n",
       "    <tr>\n",
       "      <th>6</th>\n",
       "      <td>V6</td>\n",
       "      <td>-26.160506</td>\n",
       "      <td>73.301626</td>\n",
       "      <td>0.002089</td>\n",
       "      <td>-0.271245</td>\n",
       "      <td>1.334135</td>\n",
       "      <td>&lt;NA&gt;</td>\n",
       "      <td>0</td>\n",
       "      <td>&lt;NA&gt;</td>\n",
       "    </tr>\n",
       "    <tr>\n",
       "      <th>7</th>\n",
       "      <td>V7</td>\n",
       "      <td>-43.557242</td>\n",
       "      <td>120.589494</td>\n",
       "      <td>-0.000721</td>\n",
       "      <td>0.035002</td>\n",
       "      <td>1.245465</td>\n",
       "      <td>&lt;NA&gt;</td>\n",
       "      <td>0</td>\n",
       "      <td>&lt;NA&gt;</td>\n",
       "    </tr>\n",
       "    <tr>\n",
       "      <th>8</th>\n",
       "      <td>V8</td>\n",
       "      <td>-73.216718</td>\n",
       "      <td>19.168327</td>\n",
       "      <td>-0.001064</td>\n",
       "      <td>0.025251</td>\n",
       "      <td>1.205023</td>\n",
       "      <td>&lt;NA&gt;</td>\n",
       "      <td>0</td>\n",
       "      <td>&lt;NA&gt;</td>\n",
       "    </tr>\n",
       "    <tr>\n",
       "      <th>9</th>\n",
       "      <td>V9</td>\n",
       "      <td>-13.434066</td>\n",
       "      <td>15.594995</td>\n",
       "      <td>0.001406</td>\n",
       "      <td>-0.060000</td>\n",
       "      <td>1.100121</td>\n",
       "      <td>&lt;NA&gt;</td>\n",
       "      <td>0</td>\n",
       "      <td>&lt;NA&gt;</td>\n",
       "    </tr>\n",
       "    <tr>\n",
       "      <th>10</th>\n",
       "      <td>V10</td>\n",
       "      <td>-24.588262</td>\n",
       "      <td>23.745136</td>\n",
       "      <td>-0.000072</td>\n",
       "      <td>-0.090422</td>\n",
       "      <td>1.093471</td>\n",
       "      <td>&lt;NA&gt;</td>\n",
       "      <td>0</td>\n",
       "      <td>&lt;NA&gt;</td>\n",
       "    </tr>\n",
       "    <tr>\n",
       "      <th>11</th>\n",
       "      <td>V11</td>\n",
       "      <td>-4.797473</td>\n",
       "      <td>12.018913</td>\n",
       "      <td>-0.000641</td>\n",
       "      <td>-0.039554</td>\n",
       "      <td>1.021083</td>\n",
       "      <td>&lt;NA&gt;</td>\n",
       "      <td>0</td>\n",
       "      <td>&lt;NA&gt;</td>\n",
       "    </tr>\n",
       "    <tr>\n",
       "      <th>12</th>\n",
       "      <td>V12</td>\n",
       "      <td>-18.683715</td>\n",
       "      <td>7.848392</td>\n",
       "      <td>-0.001596</td>\n",
       "      <td>0.139610</td>\n",
       "      <td>1.002343</td>\n",
       "      <td>&lt;NA&gt;</td>\n",
       "      <td>0</td>\n",
       "      <td>&lt;NA&gt;</td>\n",
       "    </tr>\n",
       "    <tr>\n",
       "      <th>13</th>\n",
       "      <td>V13</td>\n",
       "      <td>-5.791881</td>\n",
       "      <td>7.126883</td>\n",
       "      <td>0.001823</td>\n",
       "      <td>-0.017902</td>\n",
       "      <td>0.996051</td>\n",
       "      <td>&lt;NA&gt;</td>\n",
       "      <td>0</td>\n",
       "      <td>&lt;NA&gt;</td>\n",
       "    </tr>\n",
       "    <tr>\n",
       "      <th>14</th>\n",
       "      <td>V14</td>\n",
       "      <td>-19.214325</td>\n",
       "      <td>10.526766</td>\n",
       "      <td>-0.000667</td>\n",
       "      <td>0.041028</td>\n",
       "      <td>0.961650</td>\n",
       "      <td>&lt;NA&gt;</td>\n",
       "      <td>0</td>\n",
       "      <td>&lt;NA&gt;</td>\n",
       "    </tr>\n",
       "    <tr>\n",
       "      <th>15</th>\n",
       "      <td>V15</td>\n",
       "      <td>-4.498945</td>\n",
       "      <td>8.877742</td>\n",
       "      <td>0.000422</td>\n",
       "      <td>0.027621</td>\n",
       "      <td>0.916010</td>\n",
       "      <td>&lt;NA&gt;</td>\n",
       "      <td>0</td>\n",
       "      <td>&lt;NA&gt;</td>\n",
       "    </tr>\n",
       "    <tr>\n",
       "      <th>16</th>\n",
       "      <td>V16</td>\n",
       "      <td>-13.563273</td>\n",
       "      <td>17.315112</td>\n",
       "      <td>-0.000231</td>\n",
       "      <td>0.071453</td>\n",
       "      <td>0.876491</td>\n",
       "      <td>&lt;NA&gt;</td>\n",
       "      <td>0</td>\n",
       "      <td>&lt;NA&gt;</td>\n",
       "    </tr>\n",
       "    <tr>\n",
       "      <th>17</th>\n",
       "      <td>V17</td>\n",
       "      <td>-25.162799</td>\n",
       "      <td>9.253526</td>\n",
       "      <td>0.000599</td>\n",
       "      <td>-0.066476</td>\n",
       "      <td>0.851699</td>\n",
       "      <td>&lt;NA&gt;</td>\n",
       "      <td>0</td>\n",
       "      <td>&lt;NA&gt;</td>\n",
       "    </tr>\n",
       "    <tr>\n",
       "      <th>18</th>\n",
       "      <td>V18</td>\n",
       "      <td>-9.498746</td>\n",
       "      <td>5.041069</td>\n",
       "      <td>-0.000701</td>\n",
       "      <td>-0.017173</td>\n",
       "      <td>0.839235</td>\n",
       "      <td>&lt;NA&gt;</td>\n",
       "      <td>0</td>\n",
       "      <td>&lt;NA&gt;</td>\n",
       "    </tr>\n",
       "    <tr>\n",
       "      <th>19</th>\n",
       "      <td>V19</td>\n",
       "      <td>-7.213527</td>\n",
       "      <td>5.591971</td>\n",
       "      <td>-0.001121</td>\n",
       "      <td>-0.009719</td>\n",
       "      <td>0.814700</td>\n",
       "      <td>&lt;NA&gt;</td>\n",
       "      <td>0</td>\n",
       "      <td>&lt;NA&gt;</td>\n",
       "    </tr>\n",
       "    <tr>\n",
       "      <th>20</th>\n",
       "      <td>V20</td>\n",
       "      <td>-54.497720</td>\n",
       "      <td>39.420904</td>\n",
       "      <td>0.000744</td>\n",
       "      <td>-0.060829</td>\n",
       "      <td>0.773090</td>\n",
       "      <td>&lt;NA&gt;</td>\n",
       "      <td>0</td>\n",
       "      <td>&lt;NA&gt;</td>\n",
       "    </tr>\n",
       "    <tr>\n",
       "      <th>21</th>\n",
       "      <td>V21</td>\n",
       "      <td>-34.830382</td>\n",
       "      <td>27.202839</td>\n",
       "      <td>-0.000542</td>\n",
       "      <td>-0.028930</td>\n",
       "      <td>0.739335</td>\n",
       "      <td>&lt;NA&gt;</td>\n",
       "      <td>0</td>\n",
       "      <td>&lt;NA&gt;</td>\n",
       "    </tr>\n",
       "    <tr>\n",
       "      <th>22</th>\n",
       "      <td>V22</td>\n",
       "      <td>-10.933144</td>\n",
       "      <td>10.503090</td>\n",
       "      <td>0.000768</td>\n",
       "      <td>0.002034</td>\n",
       "      <td>0.725885</td>\n",
       "      <td>&lt;NA&gt;</td>\n",
       "      <td>0</td>\n",
       "      <td>&lt;NA&gt;</td>\n",
       "    </tr>\n",
       "    <tr>\n",
       "      <th>23</th>\n",
       "      <td>V23</td>\n",
       "      <td>-36.666000</td>\n",
       "      <td>22.083545</td>\n",
       "      <td>0.000326</td>\n",
       "      <td>-0.011731</td>\n",
       "      <td>0.614379</td>\n",
       "      <td>&lt;NA&gt;</td>\n",
       "      <td>0</td>\n",
       "      <td>&lt;NA&gt;</td>\n",
       "    </tr>\n",
       "    <tr>\n",
       "      <th>24</th>\n",
       "      <td>V24</td>\n",
       "      <td>-2.836627</td>\n",
       "      <td>4.584549</td>\n",
       "      <td>0.000351</td>\n",
       "      <td>0.040954</td>\n",
       "      <td>0.606016</td>\n",
       "      <td>&lt;NA&gt;</td>\n",
       "      <td>0</td>\n",
       "      <td>&lt;NA&gt;</td>\n",
       "    </tr>\n",
       "    <tr>\n",
       "      <th>25</th>\n",
       "      <td>V25</td>\n",
       "      <td>-8.696627</td>\n",
       "      <td>6.070850</td>\n",
       "      <td>-0.000594</td>\n",
       "      <td>0.013458</td>\n",
       "      <td>0.521749</td>\n",
       "      <td>&lt;NA&gt;</td>\n",
       "      <td>0</td>\n",
       "      <td>&lt;NA&gt;</td>\n",
       "    </tr>\n",
       "    <tr>\n",
       "      <th>26</th>\n",
       "      <td>V26</td>\n",
       "      <td>-2.604551</td>\n",
       "      <td>3.517346</td>\n",
       "      <td>0.000466</td>\n",
       "      <td>-0.053596</td>\n",
       "      <td>0.481984</td>\n",
       "      <td>&lt;NA&gt;</td>\n",
       "      <td>0</td>\n",
       "      <td>&lt;NA&gt;</td>\n",
       "    </tr>\n",
       "    <tr>\n",
       "      <th>27</th>\n",
       "      <td>V27</td>\n",
       "      <td>-22.565679</td>\n",
       "      <td>31.612198</td>\n",
       "      <td>-0.000629</td>\n",
       "      <td>0.000400</td>\n",
       "      <td>0.405146</td>\n",
       "      <td>&lt;NA&gt;</td>\n",
       "      <td>0</td>\n",
       "      <td>&lt;NA&gt;</td>\n",
       "    </tr>\n",
       "    <tr>\n",
       "      <th>28</th>\n",
       "      <td>V28</td>\n",
       "      <td>-15.430084</td>\n",
       "      <td>33.847808</td>\n",
       "      <td>-0.000083</td>\n",
       "      <td>0.010820</td>\n",
       "      <td>0.329876</td>\n",
       "      <td>&lt;NA&gt;</td>\n",
       "      <td>0</td>\n",
       "      <td>&lt;NA&gt;</td>\n",
       "    </tr>\n",
       "    <tr>\n",
       "      <th>29</th>\n",
       "      <td>Amount</td>\n",
       "      <td>0.000000</td>\n",
       "      <td>25691.160000</td>\n",
       "      <td>88.535335</td>\n",
       "      <td>21.670000</td>\n",
       "      <td>251.361162</td>\n",
       "      <td>&lt;NA&gt;</td>\n",
       "      <td>0</td>\n",
       "      <td>&lt;NA&gt;</td>\n",
       "    </tr>\n",
       "  </tbody>\n",
       "</table>\n",
       "</div>"
      ],
      "text/plain": [
       "     input         min            max          mean        median  \\\n",
       "0     Time    0.000000  172792.000000  94811.116749  85247.000000   \n",
       "1       V1  -56.407510       2.454930     -0.000215      0.028758   \n",
       "2       V2  -72.715728      22.057729      0.000316      0.059467   \n",
       "3       V3  -48.325589       9.382558     -0.000525      0.187563   \n",
       "4       V4   -5.600607      16.875344      0.000695     -0.034477   \n",
       "5       V5 -113.743307      34.801666     -0.001264     -0.055914   \n",
       "6       V6  -26.160506      73.301626      0.002089     -0.271245   \n",
       "7       V7  -43.557242     120.589494     -0.000721      0.035002   \n",
       "8       V8  -73.216718      19.168327     -0.001064      0.025251   \n",
       "9       V9  -13.434066      15.594995      0.001406     -0.060000   \n",
       "10     V10  -24.588262      23.745136     -0.000072     -0.090422   \n",
       "11     V11   -4.797473      12.018913     -0.000641     -0.039554   \n",
       "12     V12  -18.683715       7.848392     -0.001596      0.139610   \n",
       "13     V13   -5.791881       7.126883      0.001823     -0.017902   \n",
       "14     V14  -19.214325      10.526766     -0.000667      0.041028   \n",
       "15     V15   -4.498945       8.877742      0.000422      0.027621   \n",
       "16     V16  -13.563273      17.315112     -0.000231      0.071453   \n",
       "17     V17  -25.162799       9.253526      0.000599     -0.066476   \n",
       "18     V18   -9.498746       5.041069     -0.000701     -0.017173   \n",
       "19     V19   -7.213527       5.591971     -0.001121     -0.009719   \n",
       "20     V20  -54.497720      39.420904      0.000744     -0.060829   \n",
       "21     V21  -34.830382      27.202839     -0.000542     -0.028930   \n",
       "22     V22  -10.933144      10.503090      0.000768      0.002034   \n",
       "23     V23  -36.666000      22.083545      0.000326     -0.011731   \n",
       "24     V24   -2.836627       4.584549      0.000351      0.040954   \n",
       "25     V25   -8.696627       6.070850     -0.000594      0.013458   \n",
       "26     V26   -2.604551       3.517346      0.000466     -0.053596   \n",
       "27     V27  -22.565679      31.612198     -0.000629      0.000400   \n",
       "28     V28  -15.430084      33.847808     -0.000083      0.010820   \n",
       "29  Amount    0.000000   25691.160000     88.535335     21.670000   \n",
       "\n",
       "          stddev  category_count  null_count  dimension  \n",
       "0   47493.531641            <NA>           0       <NA>  \n",
       "1       1.958173            <NA>           0       <NA>  \n",
       "2       1.649662            <NA>           0       <NA>  \n",
       "3       1.520173            <NA>           0       <NA>  \n",
       "4       1.415309            <NA>           0       <NA>  \n",
       "5       1.381807            <NA>           0       <NA>  \n",
       "6       1.334135            <NA>           0       <NA>  \n",
       "7       1.245465            <NA>           0       <NA>  \n",
       "8       1.205023            <NA>           0       <NA>  \n",
       "9       1.100121            <NA>           0       <NA>  \n",
       "10      1.093471            <NA>           0       <NA>  \n",
       "11      1.021083            <NA>           0       <NA>  \n",
       "12      1.002343            <NA>           0       <NA>  \n",
       "13      0.996051            <NA>           0       <NA>  \n",
       "14      0.961650            <NA>           0       <NA>  \n",
       "15      0.916010            <NA>           0       <NA>  \n",
       "16      0.876491            <NA>           0       <NA>  \n",
       "17      0.851699            <NA>           0       <NA>  \n",
       "18      0.839235            <NA>           0       <NA>  \n",
       "19      0.814700            <NA>           0       <NA>  \n",
       "20      0.773090            <NA>           0       <NA>  \n",
       "21      0.739335            <NA>           0       <NA>  \n",
       "22      0.725885            <NA>           0       <NA>  \n",
       "23      0.614379            <NA>           0       <NA>  \n",
       "24      0.606016            <NA>           0       <NA>  \n",
       "25      0.521749            <NA>           0       <NA>  \n",
       "26      0.481984            <NA>           0       <NA>  \n",
       "27      0.405146            <NA>           0       <NA>  \n",
       "28      0.329876            <NA>           0       <NA>  \n",
       "29    251.361162            <NA>           0       <NA>  "
      ]
     },
     "execution_count": 18,
     "metadata": {},
     "output_type": "execute_result"
    }
   ],
   "source": [
    "feature_info = bq.query(\n",
    "    query = f\"\"\"\n",
    "        SELECT *\n",
    "        FROM ML.FEATURE_INFO(MODEL `{BQ_PROJECT}.{BQ_DATASET}.{BQ_MODEL}`)\n",
    "        \"\"\"\n",
    ").to_dataframe()\n",
    "feature_info"
   ]
  },
  {
   "cell_type": "markdown",
   "id": "5bd4faa9-a5dd-49fb-a72f-e991b4e5063f",
   "metadata": {},
   "source": [
    "Review the iterations from training with [ML.TRAINING_INFO](https://cloud.google.com/bigquery-ml/docs/reference/standard-sql/bigqueryml-syntax-train):"
   ]
  },
  {
   "cell_type": "code",
   "execution_count": 19,
   "id": "6ec867ef-6044-4812-814b-2a7e274ad646",
   "metadata": {},
   "outputs": [
    {
     "data": {
      "text/html": [
       "<div>\n",
       "<style scoped>\n",
       "    .dataframe tbody tr th:only-of-type {\n",
       "        vertical-align: middle;\n",
       "    }\n",
       "\n",
       "    .dataframe tbody tr th {\n",
       "        vertical-align: top;\n",
       "    }\n",
       "\n",
       "    .dataframe thead th {\n",
       "        text-align: right;\n",
       "    }\n",
       "</style>\n",
       "<table border=\"1\" class=\"dataframe\">\n",
       "  <thead>\n",
       "    <tr style=\"text-align: right;\">\n",
       "      <th></th>\n",
       "      <th>training_run</th>\n",
       "      <th>iteration</th>\n",
       "      <th>loss</th>\n",
       "      <th>eval_loss</th>\n",
       "      <th>learning_rate</th>\n",
       "      <th>duration_ms</th>\n",
       "    </tr>\n",
       "  </thead>\n",
       "  <tbody>\n",
       "    <tr>\n",
       "      <th>0</th>\n",
       "      <td>0</td>\n",
       "      <td>1</td>\n",
       "      <td>0.459565</td>\n",
       "      <td>0.497041</td>\n",
       "      <td>0.3</td>\n",
       "      <td>103173</td>\n",
       "    </tr>\n",
       "    <tr>\n",
       "      <th>1</th>\n",
       "      <td>0</td>\n",
       "      <td>2</td>\n",
       "      <td>0.325146</td>\n",
       "      <td>0.392576</td>\n",
       "      <td>0.3</td>\n",
       "      <td>73</td>\n",
       "    </tr>\n",
       "    <tr>\n",
       "      <th>2</th>\n",
       "      <td>0</td>\n",
       "      <td>3</td>\n",
       "      <td>0.237166</td>\n",
       "      <td>0.328742</td>\n",
       "      <td>0.3</td>\n",
       "      <td>74</td>\n",
       "    </tr>\n",
       "    <tr>\n",
       "      <th>3</th>\n",
       "      <td>0</td>\n",
       "      <td>4</td>\n",
       "      <td>0.177375</td>\n",
       "      <td>0.290411</td>\n",
       "      <td>0.3</td>\n",
       "      <td>75</td>\n",
       "    </tr>\n",
       "    <tr>\n",
       "      <th>4</th>\n",
       "      <td>0</td>\n",
       "      <td>5</td>\n",
       "      <td>0.134217</td>\n",
       "      <td>0.259893</td>\n",
       "      <td>0.3</td>\n",
       "      <td>58</td>\n",
       "    </tr>\n",
       "    <tr>\n",
       "      <th>5</th>\n",
       "      <td>0</td>\n",
       "      <td>6</td>\n",
       "      <td>0.103708</td>\n",
       "      <td>0.246845</td>\n",
       "      <td>0.3</td>\n",
       "      <td>79</td>\n",
       "    </tr>\n",
       "    <tr>\n",
       "      <th>6</th>\n",
       "      <td>0</td>\n",
       "      <td>7</td>\n",
       "      <td>0.080530</td>\n",
       "      <td>0.237803</td>\n",
       "      <td>0.3</td>\n",
       "      <td>13839</td>\n",
       "    </tr>\n",
       "    <tr>\n",
       "      <th>7</th>\n",
       "      <td>0</td>\n",
       "      <td>8</td>\n",
       "      <td>0.063407</td>\n",
       "      <td>0.243160</td>\n",
       "      <td>0.3</td>\n",
       "      <td>65</td>\n",
       "    </tr>\n",
       "  </tbody>\n",
       "</table>\n",
       "</div>"
      ],
      "text/plain": [
       "   training_run  iteration      loss  eval_loss  learning_rate  duration_ms\n",
       "0             0          1  0.459565   0.497041            0.3       103173\n",
       "1             0          2  0.325146   0.392576            0.3           73\n",
       "2             0          3  0.237166   0.328742            0.3           74\n",
       "3             0          4  0.177375   0.290411            0.3           75\n",
       "4             0          5  0.134217   0.259893            0.3           58\n",
       "5             0          6  0.103708   0.246845            0.3           79\n",
       "6             0          7  0.080530   0.237803            0.3        13839\n",
       "7             0          8  0.063407   0.243160            0.3           65"
      ]
     },
     "execution_count": 19,
     "metadata": {},
     "output_type": "execute_result"
    }
   ],
   "source": [
    "history = bq.query(\n",
    "    query = f\"\"\"\n",
    "        SELECT *\n",
    "        FROM ML.TRAINING_INFO(MODEL `{BQ_PROJECT}.{BQ_DATASET}.{BQ_MODEL}`)\n",
    "        ORDER BY iteration\"\"\"\n",
    ").to_dataframe()\n",
    "history"
   ]
  },
  {
   "cell_type": "markdown",
   "id": "aa04b6e6-8222-4d31-bd21-ddd16d4f8813",
   "metadata": {},
   "source": [
    "Plot the loss history:"
   ]
  },
  {
   "cell_type": "code",
   "execution_count": 20,
   "id": "4fbb285a-a2ef-4d76-8823-5f433fef60c2",
   "metadata": {},
   "outputs": [
    {
     "data": {
      "text/plain": [
       "<AxesSubplot:xlabel='iteration'>"
      ]
     },
     "execution_count": 20,
     "metadata": {},
     "output_type": "execute_result"
    },
    {
     "data": {
      "image/png": "[encoded data removed]",
      "text/plain": [
       "<Figure size 1000x500 with 1 Axes>"
      ]
     },
     "metadata": {},
     "output_type": "display_data"
    }
   ],
   "source": [
    "history.plot(x = 'iteration', y = ['loss','eval_loss'], figsize = (10, 5), grid = True)"
   ]
  },
  {
   "cell_type": "markdown",
   "id": "66e667a0-a66e-43de-97cc-37e682d91568",
   "metadata": {},
   "source": [
    "---\n",
    "## Evaluate Model"
   ]
  },
  {
   "cell_type": "markdown",
   "id": "bd27dae2-6f4c-4783-9d57-db9e9c8c283a",
   "metadata": {},
   "source": [
    "### Metrics"
   ]
  },
  {
   "cell_type": "markdown",
   "id": "20b78725-f19a-4665-aaca-43afedc2b2bd",
   "metadata": {},
   "source": [
    "Review the model evaluation statistics on the splits with [ML.EVALUATE](https://cloud.google.com/bigquery-ml/docs/reference/standard-sql/bigqueryml-syntax-evaluate):"
   ]
  },
  {
   "cell_type": "code",
   "execution_count": 23,
   "id": "df19d1ac-48f6-4c92-842e-05a073983334",
   "metadata": {},
   "outputs": [
    {
     "data": {
      "text/html": [
       "<div>\n",
       "<style scoped>\n",
       "    .dataframe tbody tr th:only-of-type {\n",
       "        vertical-align: middle;\n",
       "    }\n",
       "\n",
       "    .dataframe tbody tr th {\n",
       "        vertical-align: top;\n",
       "    }\n",
       "\n",
       "    .dataframe thead th {\n",
       "        text-align: right;\n",
       "    }\n",
       "</style>\n",
       "<table border=\"1\" class=\"dataframe\">\n",
       "  <thead>\n",
       "    <tr style=\"text-align: right;\">\n",
       "      <th></th>\n",
       "      <th>SPLIT</th>\n",
       "      <th>precision</th>\n",
       "      <th>recall</th>\n",
       "      <th>accuracy</th>\n",
       "      <th>f1_score</th>\n",
       "      <th>log_loss</th>\n",
       "      <th>roc_auc</th>\n",
       "    </tr>\n",
       "  </thead>\n",
       "  <tbody>\n",
       "    <tr>\n",
       "      <th>0</th>\n",
       "      <td>VALIDATE</td>\n",
       "      <td>0.406250</td>\n",
       "      <td>0.812500</td>\n",
       "      <td>0.997663</td>\n",
       "      <td>0.541667</td>\n",
       "      <td>0.059356</td>\n",
       "      <td>0.980077</td>\n",
       "    </tr>\n",
       "    <tr>\n",
       "      <th>1</th>\n",
       "      <td>TEST</td>\n",
       "      <td>0.370370</td>\n",
       "      <td>0.851064</td>\n",
       "      <td>0.997369</td>\n",
       "      <td>0.516129</td>\n",
       "      <td>0.058669</td>\n",
       "      <td>0.966571</td>\n",
       "    </tr>\n",
       "    <tr>\n",
       "      <th>2</th>\n",
       "      <td>TRAIN</td>\n",
       "      <td>0.432933</td>\n",
       "      <td>1.000000</td>\n",
       "      <td>0.997720</td>\n",
       "      <td>0.604262</td>\n",
       "      <td>0.058582</td>\n",
       "      <td>0.999991</td>\n",
       "    </tr>\n",
       "  </tbody>\n",
       "</table>\n",
       "</div>"
      ],
      "text/plain": [
       "      SPLIT  precision    recall  accuracy  f1_score  log_loss   roc_auc\n",
       "0  VALIDATE   0.406250  0.812500  0.997663  0.541667  0.059356  0.980077\n",
       "1      TEST   0.370370  0.851064  0.997369  0.516129  0.058669  0.966571\n",
       "2     TRAIN   0.432933  1.000000  0.997720  0.604262  0.058582  0.999991"
      ]
     },
     "execution_count": 23,
     "metadata": {},
     "output_type": "execute_result"
    }
   ],
   "source": [
    "query = f\"\"\"\n",
    "SELECT 'TEST' as SPLIT, * FROM ML.EVALUATE (MODEL `{BQ_PROJECT}.{BQ_DATASET}.{BQ_MODEL}`,\n",
    "    (SELECT * FROM `{BQ_PROJECT}.{BQ_DATASET}.{BQ_TABLE}` WHERE SPLITS='TEST'))\n",
    "UNION ALL\n",
    "SELECT 'VALIDATE' as SPLIT, * FROM ML.EVALUATE (MODEL `{BQ_PROJECT}.{BQ_DATASET}.{BQ_MODEL}`,\n",
    "    (SELECT * FROM `{BQ_PROJECT}.{BQ_DATASET}.{BQ_TABLE}` WHERE SPLITS='VALIDATE'))\n",
    "UNION ALL\n",
    "SELECT 'TRAIN' as SPLIT, * FROM ML.EVALUATE (MODEL `{BQ_PROJECT}.{BQ_DATASET}.{BQ_MODEL}`,\n",
    "    (SELECT * FROM `{BQ_PROJECT}.{BQ_DATASET}.{BQ_TABLE}` WHERE SPLITS='TRAIN'))\n",
    "\"\"\"\n",
    "bq.query(query = query).to_dataframe()"
   ]
  },
  {
   "cell_type": "markdown",
   "id": "96e6ae16-a400-4447-99d9-88f69c471bd4",
   "metadata": {},
   "source": [
    "### Confusion Matrix"
   ]
  },
  {
   "cell_type": "markdown",
   "id": "7a9acb29-f822-41d6-ac33-2a83537dced1",
   "metadata": {},
   "source": [
    "Review the confusion matrix for each split with [ML.CONFUSION_MATRIX](https://cloud.google.com/bigquery-ml/docs/reference/standard-sql/bigqueryml-syntax-confusion):"
   ]
  },
  {
   "cell_type": "code",
   "execution_count": 24,
   "id": "5dd1ff1b-a241-44c8-adae-58788988411f",
   "metadata": {},
   "outputs": [
    {
     "data": {
      "text/html": [
       "<div>\n",
       "<style scoped>\n",
       "    .dataframe tbody tr th:only-of-type {\n",
       "        vertical-align: middle;\n",
       "    }\n",
       "\n",
       "    .dataframe tbody tr th {\n",
       "        vertical-align: top;\n",
       "    }\n",
       "\n",
       "    .dataframe thead th {\n",
       "        text-align: right;\n",
       "    }\n",
       "</style>\n",
       "<table border=\"1\" class=\"dataframe\">\n",
       "  <thead>\n",
       "    <tr style=\"text-align: right;\">\n",
       "      <th></th>\n",
       "      <th>expected_label</th>\n",
       "      <th>_0</th>\n",
       "      <th>_1</th>\n",
       "    </tr>\n",
       "  </thead>\n",
       "  <tbody>\n",
       "    <tr>\n",
       "      <th>0</th>\n",
       "      <td>0</td>\n",
       "      <td>227144</td>\n",
       "      <td>520</td>\n",
       "    </tr>\n",
       "    <tr>\n",
       "      <th>1</th>\n",
       "      <td>1</td>\n",
       "      <td>0</td>\n",
       "      <td>397</td>\n",
       "    </tr>\n",
       "  </tbody>\n",
       "</table>\n",
       "</div>"
      ],
      "text/plain": [
       "   expected_label      _0   _1\n",
       "0               0  227144  520\n",
       "1               1       0  397"
      ]
     },
     "execution_count": 24,
     "metadata": {},
     "output_type": "execute_result"
    }
   ],
   "source": [
    "query = f\"\"\"\n",
    "SELECT *\n",
    "FROM ML.CONFUSION_MATRIX (MODEL `{BQ_PROJECT}.{BQ_DATASET}.{BQ_MODEL}`,(\n",
    "    SELECT *\n",
    "    FROM `{BQ_PROJECT}.{BQ_DATASET}.{BQ_TABLE}`\n",
    "    WHERE splits = 'TRAIN')\n",
    "  )\n",
    "\"\"\"\n",
    "bq.query(query = query).to_dataframe()"
   ]
  },
  {
   "cell_type": "code",
   "execution_count": 25,
   "id": "743f74bb-ff13-44d0-a297-5ee03868f62a",
   "metadata": {},
   "outputs": [
    {
     "data": {
      "text/html": [
       "<div>\n",
       "<style scoped>\n",
       "    .dataframe tbody tr th:only-of-type {\n",
       "        vertical-align: middle;\n",
       "    }\n",
       "\n",
       "    .dataframe tbody tr th {\n",
       "        vertical-align: top;\n",
       "    }\n",
       "\n",
       "    .dataframe thead th {\n",
       "        text-align: right;\n",
       "    }\n",
       "</style>\n",
       "<table border=\"1\" class=\"dataframe\">\n",
       "  <thead>\n",
       "    <tr style=\"text-align: right;\">\n",
       "      <th></th>\n",
       "      <th>expected_label</th>\n",
       "      <th>_0</th>\n",
       "      <th>_1</th>\n",
       "    </tr>\n",
       "  </thead>\n",
       "  <tbody>\n",
       "    <tr>\n",
       "      <th>0</th>\n",
       "      <td>0</td>\n",
       "      <td>28139</td>\n",
       "      <td>57</td>\n",
       "    </tr>\n",
       "    <tr>\n",
       "      <th>1</th>\n",
       "      <td>1</td>\n",
       "      <td>9</td>\n",
       "      <td>39</td>\n",
       "    </tr>\n",
       "  </tbody>\n",
       "</table>\n",
       "</div>"
      ],
      "text/plain": [
       "   expected_label     _0  _1\n",
       "0               0  28139  57\n",
       "1               1      9  39"
      ]
     },
     "execution_count": 25,
     "metadata": {},
     "output_type": "execute_result"
    }
   ],
   "source": [
    "query = f\"\"\"\n",
    "SELECT *\n",
    "FROM ML.CONFUSION_MATRIX (MODEL `{BQ_PROJECT}.{BQ_DATASET}.{BQ_MODEL}`,(\n",
    "    SELECT *\n",
    "    FROM `{BQ_PROJECT}.{BQ_DATASET}.{BQ_TABLE}`\n",
    "    WHERE splits = 'VALIDATE')\n",
    "  )\n",
    "\"\"\"\n",
    "bq.query(query = query).to_dataframe()"
   ]
  },
  {
   "cell_type": "code",
   "execution_count": 26,
   "id": "5a73f0a0-682d-41d6-8644-52181ea48ad2",
   "metadata": {},
   "outputs": [
    {
     "data": {
      "text/html": [
       "<div>\n",
       "<style scoped>\n",
       "    .dataframe tbody tr th:only-of-type {\n",
       "        vertical-align: middle;\n",
       "    }\n",
       "\n",
       "    .dataframe tbody tr th {\n",
       "        vertical-align: top;\n",
       "    }\n",
       "\n",
       "    .dataframe thead th {\n",
       "        text-align: right;\n",
       "    }\n",
       "</style>\n",
       "<table border=\"1\" class=\"dataframe\">\n",
       "  <thead>\n",
       "    <tr style=\"text-align: right;\">\n",
       "      <th></th>\n",
       "      <th>expected_label</th>\n",
       "      <th>_0</th>\n",
       "      <th>_1</th>\n",
       "    </tr>\n",
       "  </thead>\n",
       "  <tbody>\n",
       "    <tr>\n",
       "      <th>0</th>\n",
       "      <td>0</td>\n",
       "      <td>28387</td>\n",
       "      <td>68</td>\n",
       "    </tr>\n",
       "    <tr>\n",
       "      <th>1</th>\n",
       "      <td>1</td>\n",
       "      <td>7</td>\n",
       "      <td>40</td>\n",
       "    </tr>\n",
       "  </tbody>\n",
       "</table>\n",
       "</div>"
      ],
      "text/plain": [
       "   expected_label     _0  _1\n",
       "0               0  28387  68\n",
       "1               1      7  40"
      ]
     },
     "execution_count": 26,
     "metadata": {},
     "output_type": "execute_result"
    }
   ],
   "source": [
    "query = f\"\"\"\n",
    "SELECT *\n",
    "FROM ML.CONFUSION_MATRIX (MODEL `{BQ_PROJECT}.{BQ_DATASET}.{BQ_MODEL}`,(\n",
    "    SELECT *\n",
    "    FROM `{BQ_PROJECT}.{BQ_DATASET}.{BQ_TABLE}`\n",
    "    WHERE splits = 'TEST')\n",
    "  )\n",
    "\"\"\"\n",
    "bq.query(query = query).to_dataframe()"
   ]
  },
  {
   "cell_type": "markdown",
   "id": "98779dee-3f7b-4a0f-876d-cbeec932d593",
   "metadata": {},
   "source": [
    "### ROC Curve\n",
    "\n",
    "Retrieve the ROC Curve for each split using [ML.ROC_CURVE](https://cloud.google.com/bigquery-ml/docs/reference/standard-sql/bigqueryml-syntax-roc):"
   ]
  },
  {
   "cell_type": "code",
   "execution_count": 27,
   "id": "91665b66-a8e5-445f-820a-98db9ad28957",
   "metadata": {},
   "outputs": [
    {
     "data": {
      "text/html": [
       "<div>\n",
       "<style scoped>\n",
       "    .dataframe tbody tr th:only-of-type {\n",
       "        vertical-align: middle;\n",
       "    }\n",
       "\n",
       "    .dataframe tbody tr th {\n",
       "        vertical-align: top;\n",
       "    }\n",
       "\n",
       "    .dataframe thead th {\n",
       "        text-align: right;\n",
       "    }\n",
       "</style>\n",
       "<table border=\"1\" class=\"dataframe\">\n",
       "  <thead>\n",
       "    <tr style=\"text-align: right;\">\n",
       "      <th></th>\n",
       "      <th>threshold</th>\n",
       "      <th>recall</th>\n",
       "      <th>false_positive_rate</th>\n",
       "      <th>true_positives</th>\n",
       "      <th>false_positives</th>\n",
       "      <th>true_negatives</th>\n",
       "      <th>false_negatives</th>\n",
       "    </tr>\n",
       "  </thead>\n",
       "  <tbody>\n",
       "    <tr>\n",
       "      <th>0</th>\n",
       "      <td>0.959585</td>\n",
       "      <td>0.007557</td>\n",
       "      <td>0.000000</td>\n",
       "      <td>3</td>\n",
       "      <td>0</td>\n",
       "      <td>227664</td>\n",
       "      <td>394</td>\n",
       "    </tr>\n",
       "    <tr>\n",
       "      <th>1</th>\n",
       "      <td>0.285842</td>\n",
       "      <td>1.000000</td>\n",
       "      <td>0.008275</td>\n",
       "      <td>397</td>\n",
       "      <td>1884</td>\n",
       "      <td>225780</td>\n",
       "      <td>0</td>\n",
       "    </tr>\n",
       "    <tr>\n",
       "      <th>2</th>\n",
       "      <td>0.184270</td>\n",
       "      <td>1.000000</td>\n",
       "      <td>0.018268</td>\n",
       "      <td>397</td>\n",
       "      <td>4159</td>\n",
       "      <td>223505</td>\n",
       "      <td>0</td>\n",
       "    </tr>\n",
       "    <tr>\n",
       "      <th>3</th>\n",
       "      <td>0.145292</td>\n",
       "      <td>1.000000</td>\n",
       "      <td>0.028366</td>\n",
       "      <td>397</td>\n",
       "      <td>6458</td>\n",
       "      <td>221206</td>\n",
       "      <td>0</td>\n",
       "    </tr>\n",
       "    <tr>\n",
       "      <th>4</th>\n",
       "      <td>0.125257</td>\n",
       "      <td>1.000000</td>\n",
       "      <td>0.038451</td>\n",
       "      <td>397</td>\n",
       "      <td>8754</td>\n",
       "      <td>218910</td>\n",
       "      <td>0</td>\n",
       "    </tr>\n",
       "  </tbody>\n",
       "</table>\n",
       "</div>"
      ],
      "text/plain": [
       "   threshold    recall  false_positive_rate  true_positives  false_positives  \\\n",
       "0   0.959585  0.007557             0.000000               3                0   \n",
       "1   0.285842  1.000000             0.008275             397             1884   \n",
       "2   0.184270  1.000000             0.018268             397             4159   \n",
       "3   0.145292  1.000000             0.028366             397             6458   \n",
       "4   0.125257  1.000000             0.038451             397             8754   \n",
       "\n",
       "   true_negatives  false_negatives  \n",
       "0          227664              394  \n",
       "1          225780                0  \n",
       "2          223505                0  \n",
       "3          221206                0  \n",
       "4          218910                0  "
      ]
     },
     "execution_count": 27,
     "metadata": {},
     "output_type": "execute_result"
    }
   ],
   "source": [
    "query = f\"\"\"\n",
    "SELECT *\n",
    "FROM ML.ROC_CURVE (MODEL `{BQ_PROJECT}.{BQ_DATASET}.{BQ_MODEL}`,(\n",
    "    SELECT *\n",
    "    FROM `{BQ_PROJECT}.{BQ_DATASET}.{BQ_TABLE}`\n",
    "    WHERE splits = 'TRAIN')\n",
    "  )\n",
    "ORDER BY false_positive_rate\n",
    "\"\"\"\n",
    "train_roc = bq.query(query = query).to_dataframe()\n",
    "train_roc.head()"
   ]
  },
  {
   "cell_type": "code",
   "execution_count": 28,
   "id": "d5098e14-9fb9-4cbe-af12-6877c0f4c104",
   "metadata": {},
   "outputs": [
    {
     "data": {
      "text/html": [
       "<div>\n",
       "<style scoped>\n",
       "    .dataframe tbody tr th:only-of-type {\n",
       "        vertical-align: middle;\n",
       "    }\n",
       "\n",
       "    .dataframe tbody tr th {\n",
       "        vertical-align: top;\n",
       "    }\n",
       "\n",
       "    .dataframe thead th {\n",
       "        text-align: right;\n",
       "    }\n",
       "</style>\n",
       "<table border=\"1\" class=\"dataframe\">\n",
       "  <thead>\n",
       "    <tr style=\"text-align: right;\">\n",
       "      <th></th>\n",
       "      <th>threshold</th>\n",
       "      <th>recall</th>\n",
       "      <th>false_positive_rate</th>\n",
       "      <th>true_positives</th>\n",
       "      <th>false_positives</th>\n",
       "      <th>true_negatives</th>\n",
       "      <th>false_negatives</th>\n",
       "    </tr>\n",
       "  </thead>\n",
       "  <tbody>\n",
       "    <tr>\n",
       "      <th>0</th>\n",
       "      <td>0.959173</td>\n",
       "      <td>0.708333</td>\n",
       "      <td>0.000177</td>\n",
       "      <td>34</td>\n",
       "      <td>5</td>\n",
       "      <td>28191</td>\n",
       "      <td>14</td>\n",
       "    </tr>\n",
       "    <tr>\n",
       "      <th>1</th>\n",
       "      <td>0.277089</td>\n",
       "      <td>0.875000</td>\n",
       "      <td>0.008583</td>\n",
       "      <td>42</td>\n",
       "      <td>242</td>\n",
       "      <td>27954</td>\n",
       "      <td>6</td>\n",
       "    </tr>\n",
       "    <tr>\n",
       "      <th>2</th>\n",
       "      <td>0.186852</td>\n",
       "      <td>0.875000</td>\n",
       "      <td>0.018584</td>\n",
       "      <td>42</td>\n",
       "      <td>524</td>\n",
       "      <td>27672</td>\n",
       "      <td>6</td>\n",
       "    </tr>\n",
       "    <tr>\n",
       "      <th>3</th>\n",
       "      <td>0.147498</td>\n",
       "      <td>0.895833</td>\n",
       "      <td>0.028657</td>\n",
       "      <td>43</td>\n",
       "      <td>808</td>\n",
       "      <td>27388</td>\n",
       "      <td>5</td>\n",
       "    </tr>\n",
       "    <tr>\n",
       "      <th>4</th>\n",
       "      <td>0.126012</td>\n",
       "      <td>0.895833</td>\n",
       "      <td>0.038693</td>\n",
       "      <td>43</td>\n",
       "      <td>1091</td>\n",
       "      <td>27105</td>\n",
       "      <td>5</td>\n",
       "    </tr>\n",
       "  </tbody>\n",
       "</table>\n",
       "</div>"
      ],
      "text/plain": [
       "   threshold    recall  false_positive_rate  true_positives  false_positives  \\\n",
       "0   0.959173  0.708333             0.000177              34                5   \n",
       "1   0.277089  0.875000             0.008583              42              242   \n",
       "2   0.186852  0.875000             0.018584              42              524   \n",
       "3   0.147498  0.895833             0.028657              43              808   \n",
       "4   0.126012  0.895833             0.038693              43             1091   \n",
       "\n",
       "   true_negatives  false_negatives  \n",
       "0           28191               14  \n",
       "1           27954                6  \n",
       "2           27672                6  \n",
       "3           27388                5  \n",
       "4           27105                5  "
      ]
     },
     "execution_count": 28,
     "metadata": {},
     "output_type": "execute_result"
    }
   ],
   "source": [
    "query = f\"\"\"\n",
    "SELECT *\n",
    "FROM ML.ROC_CURVE (MODEL `{BQ_PROJECT}.{BQ_DATASET}.{BQ_MODEL}`,(\n",
    "    SELECT *\n",
    "    FROM `{BQ_PROJECT}.{BQ_DATASET}.{BQ_TABLE}`\n",
    "    WHERE splits = 'VALIDATE')\n",
    "  )\n",
    "ORDER BY false_positive_rate\n",
    "\"\"\"\n",
    "val_roc = bq.query(query = query).to_dataframe()\n",
    "val_roc.head()"
   ]
  },
  {
   "cell_type": "code",
   "execution_count": 29,
   "id": "1f24a434-2c05-47d5-abc5-e8d8207be7bd",
   "metadata": {},
   "outputs": [
    {
     "data": {
      "text/html": [
       "<div>\n",
       "<style scoped>\n",
       "    .dataframe tbody tr th:only-of-type {\n",
       "        vertical-align: middle;\n",
       "    }\n",
       "\n",
       "    .dataframe tbody tr th {\n",
       "        vertical-align: top;\n",
       "    }\n",
       "\n",
       "    .dataframe thead th {\n",
       "        text-align: right;\n",
       "    }\n",
       "</style>\n",
       "<table border=\"1\" class=\"dataframe\">\n",
       "  <thead>\n",
       "    <tr style=\"text-align: right;\">\n",
       "      <th></th>\n",
       "      <th>threshold</th>\n",
       "      <th>recall</th>\n",
       "      <th>false_positive_rate</th>\n",
       "      <th>true_positives</th>\n",
       "      <th>false_positives</th>\n",
       "      <th>true_negatives</th>\n",
       "      <th>false_negatives</th>\n",
       "    </tr>\n",
       "  </thead>\n",
       "  <tbody>\n",
       "    <tr>\n",
       "      <th>0</th>\n",
       "      <td>0.959173</td>\n",
       "      <td>0.702128</td>\n",
       "      <td>0.000141</td>\n",
       "      <td>33</td>\n",
       "      <td>4</td>\n",
       "      <td>28451</td>\n",
       "      <td>14</td>\n",
       "    </tr>\n",
       "    <tr>\n",
       "      <th>1</th>\n",
       "      <td>0.256644</td>\n",
       "      <td>0.893617</td>\n",
       "      <td>0.008821</td>\n",
       "      <td>42</td>\n",
       "      <td>251</td>\n",
       "      <td>28204</td>\n",
       "      <td>5</td>\n",
       "    </tr>\n",
       "    <tr>\n",
       "      <th>2</th>\n",
       "      <td>0.176151</td>\n",
       "      <td>0.893617</td>\n",
       "      <td>0.018661</td>\n",
       "      <td>42</td>\n",
       "      <td>531</td>\n",
       "      <td>27924</td>\n",
       "      <td>5</td>\n",
       "    </tr>\n",
       "    <tr>\n",
       "      <th>3</th>\n",
       "      <td>0.142445</td>\n",
       "      <td>0.914894</td>\n",
       "      <td>0.028571</td>\n",
       "      <td>43</td>\n",
       "      <td>813</td>\n",
       "      <td>27642</td>\n",
       "      <td>4</td>\n",
       "    </tr>\n",
       "    <tr>\n",
       "      <th>4</th>\n",
       "      <td>0.124656</td>\n",
       "      <td>0.936170</td>\n",
       "      <td>0.038552</td>\n",
       "      <td>44</td>\n",
       "      <td>1097</td>\n",
       "      <td>27358</td>\n",
       "      <td>3</td>\n",
       "    </tr>\n",
       "  </tbody>\n",
       "</table>\n",
       "</div>"
      ],
      "text/plain": [
       "   threshold    recall  false_positive_rate  true_positives  false_positives  \\\n",
       "0   0.959173  0.702128             0.000141              33                4   \n",
       "1   0.256644  0.893617             0.008821              42              251   \n",
       "2   0.176151  0.893617             0.018661              42              531   \n",
       "3   0.142445  0.914894             0.028571              43              813   \n",
       "4   0.124656  0.936170             0.038552              44             1097   \n",
       "\n",
       "   true_negatives  false_negatives  \n",
       "0           28451               14  \n",
       "1           28204                5  \n",
       "2           27924                5  \n",
       "3           27642                4  \n",
       "4           27358                3  "
      ]
     },
     "execution_count": 29,
     "metadata": {},
     "output_type": "execute_result"
    }
   ],
   "source": [
    "query = f\"\"\"\n",
    "SELECT *\n",
    "FROM ML.ROC_CURVE (MODEL `{BQ_PROJECT}.{BQ_DATASET}.{BQ_MODEL}`,(\n",
    "    SELECT *\n",
    "    FROM `{BQ_PROJECT}.{BQ_DATASET}.{BQ_TABLE}`\n",
    "    WHERE splits = 'TEST')\n",
    "  )\n",
    "ORDER BY false_positive_rate\n",
    "\"\"\"\n",
    "test_roc = bq.query(query = query).to_dataframe()\n",
    "test_roc.head()"
   ]
  },
  {
   "cell_type": "code",
   "execution_count": 30,
   "id": "75a3a5a5-3376-4612-a879-f52e94e27f2e",
   "metadata": {},
   "outputs": [
    {
     "data": {
      "image/png": "[encoded data removed]",
      "text/plain": [
       "<Figure size 1500x500 with 1 Axes>"
      ]
     },
     "metadata": {},
     "output_type": "display_data"
    }
   ],
   "source": [
    "plt.figure(figsize=(15,5))\n",
    "plt.plot(train_roc['false_positive_rate'], train_roc['recall'], label='TRAIN')\n",
    "plt.plot(val_roc['false_positive_rate'], val_roc['recall'], label='VALIDATE')\n",
    "plt.plot(test_roc['false_positive_rate'], test_roc['recall'], label='TEST')\n",
    "plt.xlabel('False Positive Rate')\n",
    "plt.ylabel('True Positive Rate\\nRecall')\n",
    "plt.title('ROC Curves')\n",
    "plt.legend()\n",
    "plt.show()"
   ]
  },
  {
   "cell_type": "markdown",
   "id": "b4fb1259-0ca1-4baa-be5d-b41c147ccc20",
   "metadata": {},
   "source": [
    "---\n",
    "## Predictions With BigQuery ML (BQML)"
   ]
  },
  {
   "cell_type": "markdown",
   "id": "fdb927fb-9984-48f8-bf87-ba4f5d1039d8",
   "metadata": {},
   "source": [
    "Create a pandas dataframe with retrieved predictions for the test data in the table using [ML.PREDICT](https://cloud.google.com/bigquery-ml/docs/reference/standard-sql/bigqueryml-syntax-predict):"
   ]
  },
  {
   "cell_type": "code",
   "execution_count": 31,
   "id": "bc90cd6f-f087-4628-a3a8-dc4c861efb45",
   "metadata": {},
   "outputs": [],
   "source": [
    "query = f\"\"\"\n",
    "SELECT *\n",
    "FROM ML.PREDICT (MODEL `{BQ_PROJECT}.{BQ_DATASET}.{BQ_MODEL}`,(\n",
    "    SELECT *\n",
    "    FROM `{BQ_PROJECT}.{BQ_DATASET}.{BQ_TABLE}`\n",
    "    WHERE splits = 'TEST')\n",
    "  )\n",
    "\"\"\"\n",
    "pred = bq.query(query = query).to_dataframe()"
   ]
  },
  {
   "cell_type": "markdown",
   "id": "88467a94-1172-44f4-93a0-ef80a90d2304",
   "metadata": {},
   "source": [
    "Review columns from the predictions - note that the query added columns with prefix `predicted_`"
   ]
  },
  {
   "cell_type": "code",
   "execution_count": 32,
   "id": "5c4c7dde-dfbb-4911-92c0-979afb1a2ee9",
   "metadata": {},
   "outputs": [
    {
     "data": {
      "text/plain": [
       "Index(['predicted_Class', 'predicted_Class_probs', 'Time', 'V1', 'V2', 'V3',\n",
       "       'V4', 'V5', 'V6', 'V7', 'V8', 'V9', 'V10', 'V11', 'V12', 'V13', 'V14',\n",
       "       'V15', 'V16', 'V17', 'V18', 'V19', 'V20', 'V21', 'V22', 'V23', 'V24',\n",
       "       'V25', 'V26', 'V27', 'V28', 'Amount', 'Class', 'transaction_id',\n",
       "       'splits'],\n",
       "      dtype='object')"
      ]
     },
     "execution_count": 32,
     "metadata": {},
     "output_type": "execute_result"
    }
   ],
   "source": [
    "pred.columns"
   ]
  },
  {
   "cell_type": "markdown",
   "id": "ff0dbd97-4cd6-4946-918e-0362cacdd5b0",
   "metadata": {},
   "source": [
    "Print the first few rows for the columns related to the actual and predicted values:"
   ]
  },
  {
   "cell_type": "code",
   "execution_count": 33,
   "id": "9e6913b3-4a03-4d42-a56b-6fc783411c65",
   "metadata": {},
   "outputs": [
    {
     "data": {
      "text/html": [
       "<div>\n",
       "<style scoped>\n",
       "    .dataframe tbody tr th:only-of-type {\n",
       "        vertical-align: middle;\n",
       "    }\n",
       "\n",
       "    .dataframe tbody tr th {\n",
       "        vertical-align: top;\n",
       "    }\n",
       "\n",
       "    .dataframe thead th {\n",
       "        text-align: right;\n",
       "    }\n",
       "</style>\n",
       "<table border=\"1\" class=\"dataframe\">\n",
       "  <thead>\n",
       "    <tr style=\"text-align: right;\">\n",
       "      <th></th>\n",
       "      <th>Class</th>\n",
       "      <th>predicted_Class</th>\n",
       "      <th>predicted_Class_probs</th>\n",
       "      <th>splits</th>\n",
       "    </tr>\n",
       "  </thead>\n",
       "  <tbody>\n",
       "    <tr>\n",
       "      <th>0</th>\n",
       "      <td>0</td>\n",
       "      <td>0</td>\n",
       "      <td>[{'label': 1, 'prob': 0.0770014226436615}, {'l...</td>\n",
       "      <td>TEST</td>\n",
       "    </tr>\n",
       "    <tr>\n",
       "      <th>1</th>\n",
       "      <td>0</td>\n",
       "      <td>0</td>\n",
       "      <td>[{'label': 1, 'prob': 0.04032539576292038}, {'...</td>\n",
       "      <td>TEST</td>\n",
       "    </tr>\n",
       "    <tr>\n",
       "      <th>2</th>\n",
       "      <td>0</td>\n",
       "      <td>0</td>\n",
       "      <td>[{'label': 1, 'prob': 0.11046602576971054}, {'...</td>\n",
       "      <td>TEST</td>\n",
       "    </tr>\n",
       "    <tr>\n",
       "      <th>3</th>\n",
       "      <td>0</td>\n",
       "      <td>0</td>\n",
       "      <td>[{'label': 1, 'prob': 0.040204375982284546}, {...</td>\n",
       "      <td>TEST</td>\n",
       "    </tr>\n",
       "    <tr>\n",
       "      <th>4</th>\n",
       "      <td>0</td>\n",
       "      <td>0</td>\n",
       "      <td>[{'label': 1, 'prob': 0.06496544182300568}, {'...</td>\n",
       "      <td>TEST</td>\n",
       "    </tr>\n",
       "  </tbody>\n",
       "</table>\n",
       "</div>"
      ],
      "text/plain": [
       "   Class  predicted_Class                              predicted_Class_probs  \\\n",
       "0      0                0  [{'label': 1, 'prob': 0.0770014226436615}, {'l...   \n",
       "1      0                0  [{'label': 1, 'prob': 0.04032539576292038}, {'...   \n",
       "2      0                0  [{'label': 1, 'prob': 0.11046602576971054}, {'...   \n",
       "3      0                0  [{'label': 1, 'prob': 0.040204375982284546}, {...   \n",
       "4      0                0  [{'label': 1, 'prob': 0.06496544182300568}, {'...   \n",
       "\n",
       "  splits  \n",
       "0   TEST  \n",
       "1   TEST  \n",
       "2   TEST  \n",
       "3   TEST  \n",
       "4   TEST  "
      ]
     },
     "execution_count": 33,
     "metadata": {},
     "output_type": "execute_result"
    }
   ],
   "source": [
    "pred[[VAR_TARGET, f'predicted_{VAR_TARGET}', f'predicted_{VAR_TARGET}_probs', 'splits']].head()"
   ]
  },
  {
   "cell_type": "markdown",
   "id": "d3cdb3c4-3fd0-49b6-980b-85d2acf35292",
   "metadata": {},
   "source": [
    "Notice the nested dictionary for predicted probabilities.  In BigQuery this is a Record type structure with nested fields for `label` and `prob`.  This is returned to the pandas dataframe as a nested dictionary.\n",
    "\n",
    "The following code sorts the dictionary for the first record by `prob`:"
   ]
  },
  {
   "cell_type": "code",
   "execution_count": 34,
   "id": "54cc03cd-29b5-4f5c-ad6c-ce8c3c41f6bb",
   "metadata": {},
   "outputs": [
    {
     "data": {
      "text/plain": [
       "[[{'label': 0, 'prob': 0.9229986071586609},\n",
       "  {'label': 1, 'prob': 0.0770014226436615}]]"
      ]
     },
     "execution_count": 34,
     "metadata": {},
     "output_type": "execute_result"
    }
   ],
   "source": [
    "exec('temp = pred.predicted_'+VAR_TARGET+'_probs[0]')\n",
    "[sorted(x, key = lambda x: x['label']) for x in [temp]]"
   ]
  },
  {
   "cell_type": "markdown",
   "id": "2d58cdd0-8aad-4f4f-8e9f-5cd7c74b79ee",
   "metadata": {},
   "source": [
    "---\n",
    "## Custom Eval Metrics\n",
    "Retrieve the predictions to a local dataframe and use [scikit-learn](https://scikit-learn.org/stable/index.html) metrics [fuctions](https://scikit-learn.org/stable/modules/model_evaluation.html) to do model evaluation."
   ]
  },
  {
   "cell_type": "code",
   "execution_count": 35,
   "id": "b3cc4c7c-f555-419a-aa7e-4d49e7e76d2a",
   "metadata": {},
   "outputs": [
    {
     "data": {
      "text/plain": [
       "array([[28387,    68],\n",
       "       [    7,    40]])"
      ]
     },
     "execution_count": 35,
     "metadata": {},
     "output_type": "execute_result"
    }
   ],
   "source": [
    "metrics.confusion_matrix(list(pred[f'{VAR_TARGET}']), list(pred[f'predicted_{VAR_TARGET}']))"
   ]
  },
  {
   "cell_type": "code",
   "execution_count": 36,
   "id": "44a6df1b-23ae-4667-8ca3-1db9cd1b4a6c",
   "metadata": {},
   "outputs": [
    {
     "data": {
      "text/plain": [
       "<sklearn.metrics._plot.confusion_matrix.ConfusionMatrixDisplay at 0x7fef38d304d0>"
      ]
     },
     "execution_count": 36,
     "metadata": {},
     "output_type": "execute_result"
    },
    {
     "data": {
      "image/png": "[encoded data removed]",
      "text/plain": [
       "<Figure size 640x480 with 2 Axes>"
      ]
     },
     "metadata": {},
     "output_type": "display_data"
    }
   ],
   "source": [
    "disp = metrics.ConfusionMatrixDisplay(\n",
    "    confusion_matrix = metrics.confusion_matrix(list(pred[f'{VAR_TARGET}']), list(pred[f'predicted_{VAR_TARGET}']))\n",
    ")\n",
    "disp.plot()"
   ]
  },
  {
   "cell_type": "code",
   "execution_count": 37,
   "id": "e21eff57-c712-421c-b0a7-ccdd3c8b4e46",
   "metadata": {},
   "outputs": [
    {
     "data": {
      "text/plain": [
       "0.9973686057118799"
      ]
     },
     "execution_count": 37,
     "metadata": {},
     "output_type": "execute_result"
    }
   ],
   "source": [
    "metrics.accuracy_score(list(pred[f'{VAR_TARGET}']), list(pred[f'predicted_{VAR_TARGET}']))"
   ]
  },
  {
   "cell_type": "code",
   "execution_count": 38,
   "id": "0a78a680-213f-4336-b5f5-9e8b9b649266",
   "metadata": {},
   "outputs": [
    {
     "name": "stdout",
     "output_type": "stream",
     "text": [
      "              precision    recall  f1-score   support\n",
      "\n",
      "           0       1.00      1.00      1.00     28455\n",
      "           1       0.37      0.85      0.52        47\n",
      "\n",
      "    accuracy                           1.00     28502\n",
      "   macro avg       0.69      0.92      0.76     28502\n",
      "weighted avg       1.00      1.00      1.00     28502\n",
      "\n"
     ]
    }
   ],
   "source": [
    "print(metrics.classification_report(list(pred[f'{VAR_TARGET}']), list(pred[f'predicted_{VAR_TARGET}'])))"
   ]
  },
  {
   "cell_type": "markdown",
   "id": "1de7942b-8d28-4017-bee4-f4e6a0e743ee",
   "metadata": {},
   "source": [
    "---\n",
    "## Explanations\n",
    "[Built-in](https://cloud.google.com/bigquery-ml/docs/reference/standard-sql/bigqueryml-syntax-xai-overview) capabilities to understand how features contributed to predictions both individually (local) and overall (global)."
   ]
  },
  {
   "cell_type": "markdown",
   "id": "5fc90ffe-cd0c-4f2b-9ed9-e2eb681366e2",
   "metadata": {},
   "source": [
    "### Local Explainability\n",
    "Retrieve feature attribution values to interpret each features contribution to a prediction relative to the baseline prediction using [ML.EXPLAIN_PREDICT](https://cloud.google.com/bigquery-ml/docs/reference/standard-sql/bigqueryml-syntax-explain-predict)."
   ]
  },
  {
   "cell_type": "code",
   "execution_count": 39,
   "id": "b466157a-e257-44dd-8847-200f3e64d8f0",
   "metadata": {},
   "outputs": [],
   "source": [
    "query = f\"\"\"\n",
    "SELECT *\n",
    "FROM ML.EXPLAIN_PREDICT (MODEL `{BQ_PROJECT}.{BQ_DATASET}.{BQ_MODEL}`,(\n",
    "    SELECT *\n",
    "    FROM `{BQ_PROJECT}.{BQ_DATASET}.{BQ_TABLE}`\n",
    "    WHERE splits = 'TEST'), STRUCT(10 as top_k_features)\n",
    "  )\n",
    "\"\"\"\n",
    "explain = bq.query(query = query).to_dataframe()"
   ]
  },
  {
   "cell_type": "code",
   "execution_count": 40,
   "id": "61fdab2a-e4e5-4e30-b71f-672f3fe088a8",
   "metadata": {},
   "outputs": [
    {
     "data": {
      "text/html": [
       "<div>\n",
       "<style scoped>\n",
       "    .dataframe tbody tr th:only-of-type {\n",
       "        vertical-align: middle;\n",
       "    }\n",
       "\n",
       "    .dataframe tbody tr th {\n",
       "        vertical-align: top;\n",
       "    }\n",
       "\n",
       "    .dataframe thead th {\n",
       "        text-align: right;\n",
       "    }\n",
       "</style>\n",
       "<table border=\"1\" class=\"dataframe\">\n",
       "  <thead>\n",
       "    <tr style=\"text-align: right;\">\n",
       "      <th></th>\n",
       "      <th>predicted_Class</th>\n",
       "      <th>probability</th>\n",
       "      <th>top_feature_attributions</th>\n",
       "      <th>baseline_prediction_value</th>\n",
       "      <th>prediction_value</th>\n",
       "      <th>approximation_error</th>\n",
       "      <th>Time</th>\n",
       "      <th>V1</th>\n",
       "      <th>V2</th>\n",
       "      <th>V3</th>\n",
       "      <th>...</th>\n",
       "      <th>V23</th>\n",
       "      <th>V24</th>\n",
       "      <th>V25</th>\n",
       "      <th>V26</th>\n",
       "      <th>V27</th>\n",
       "      <th>V28</th>\n",
       "      <th>Amount</th>\n",
       "      <th>Class</th>\n",
       "      <th>transaction_id</th>\n",
       "      <th>splits</th>\n",
       "    </tr>\n",
       "  </thead>\n",
       "  <tbody>\n",
       "    <tr>\n",
       "      <th>0</th>\n",
       "      <td>0</td>\n",
       "      <td>0.922999</td>\n",
       "      <td>[{'feature': 'V14', 'attribution': 0.465784728...</td>\n",
       "      <td>0.462234</td>\n",
       "      <td>1.816688</td>\n",
       "      <td>0.0</td>\n",
       "      <td>35337</td>\n",
       "      <td>1.092844</td>\n",
       "      <td>-0.013230</td>\n",
       "      <td>1.359829</td>\n",
       "      <td>...</td>\n",
       "      <td>-0.167647</td>\n",
       "      <td>0.027557</td>\n",
       "      <td>0.592115</td>\n",
       "      <td>0.219695</td>\n",
       "      <td>0.036970</td>\n",
       "      <td>0.010984</td>\n",
       "      <td>0.0</td>\n",
       "      <td>0</td>\n",
       "      <td>a1b10547-d270-48c0-b902-7a0f735dadc7</td>\n",
       "      <td>TEST</td>\n",
       "    </tr>\n",
       "    <tr>\n",
       "      <th>1</th>\n",
       "      <td>0</td>\n",
       "      <td>0.959675</td>\n",
       "      <td>[{'feature': 'V14', 'attribution': 0.715279638...</td>\n",
       "      <td>0.462234</td>\n",
       "      <td>2.085161</td>\n",
       "      <td>0.0</td>\n",
       "      <td>60481</td>\n",
       "      <td>1.238973</td>\n",
       "      <td>0.035226</td>\n",
       "      <td>0.063003</td>\n",
       "      <td>...</td>\n",
       "      <td>-0.057718</td>\n",
       "      <td>0.104983</td>\n",
       "      <td>0.537987</td>\n",
       "      <td>0.589563</td>\n",
       "      <td>-0.046207</td>\n",
       "      <td>-0.006212</td>\n",
       "      <td>0.0</td>\n",
       "      <td>0</td>\n",
       "      <td>814c62c8-ade4-47d5-bf83-313b0aafdee5</td>\n",
       "      <td>TEST</td>\n",
       "    </tr>\n",
       "    <tr>\n",
       "      <th>2</th>\n",
       "      <td>0</td>\n",
       "      <td>0.889534</td>\n",
       "      <td>[{'feature': 'V4', 'attribution': -0.746977210...</td>\n",
       "      <td>0.462234</td>\n",
       "      <td>0.881366</td>\n",
       "      <td>0.0</td>\n",
       "      <td>139587</td>\n",
       "      <td>1.870539</td>\n",
       "      <td>0.211079</td>\n",
       "      <td>0.224457</td>\n",
       "      <td>...</td>\n",
       "      <td>0.180776</td>\n",
       "      <td>-0.060226</td>\n",
       "      <td>-0.228979</td>\n",
       "      <td>0.080827</td>\n",
       "      <td>0.009868</td>\n",
       "      <td>-0.036997</td>\n",
       "      <td>0.0</td>\n",
       "      <td>0</td>\n",
       "      <td>d08a1bfa-85c5-4f1b-9537-1c5a93e6afd0</td>\n",
       "      <td>TEST</td>\n",
       "    </tr>\n",
       "    <tr>\n",
       "      <th>3</th>\n",
       "      <td>0</td>\n",
       "      <td>0.959796</td>\n",
       "      <td>[{'feature': 'V14', 'attribution': 0.519447863...</td>\n",
       "      <td>0.462234</td>\n",
       "      <td>2.085161</td>\n",
       "      <td>0.0</td>\n",
       "      <td>162908</td>\n",
       "      <td>-3.368339</td>\n",
       "      <td>-1.980442</td>\n",
       "      <td>0.153645</td>\n",
       "      <td>...</td>\n",
       "      <td>-1.171627</td>\n",
       "      <td>0.214333</td>\n",
       "      <td>-0.159652</td>\n",
       "      <td>-0.060883</td>\n",
       "      <td>1.294977</td>\n",
       "      <td>0.120503</td>\n",
       "      <td>0.0</td>\n",
       "      <td>0</td>\n",
       "      <td>802f3307-8e5a-4475-b795-5d5d8d7d0120</td>\n",
       "      <td>TEST</td>\n",
       "    </tr>\n",
       "    <tr>\n",
       "      <th>4</th>\n",
       "      <td>0</td>\n",
       "      <td>0.935035</td>\n",
       "      <td>[{'feature': 'V14', 'attribution': 0.371208459...</td>\n",
       "      <td>0.462234</td>\n",
       "      <td>1.582276</td>\n",
       "      <td>0.0</td>\n",
       "      <td>165236</td>\n",
       "      <td>2.180149</td>\n",
       "      <td>0.218732</td>\n",
       "      <td>-2.637726</td>\n",
       "      <td>...</td>\n",
       "      <td>-0.176957</td>\n",
       "      <td>0.563779</td>\n",
       "      <td>0.730183</td>\n",
       "      <td>0.707494</td>\n",
       "      <td>-0.131066</td>\n",
       "      <td>-0.090428</td>\n",
       "      <td>0.0</td>\n",
       "      <td>0</td>\n",
       "      <td>c8a5b93a-1598-4689-80be-4f9f5df0b8ce</td>\n",
       "      <td>TEST</td>\n",
       "    </tr>\n",
       "  </tbody>\n",
       "</table>\n",
       "<p>5 rows × 39 columns</p>\n",
       "</div>"
      ],
      "text/plain": [
       "   predicted_Class  probability  \\\n",
       "0                0     0.922999   \n",
       "1                0     0.959675   \n",
       "2                0     0.889534   \n",
       "3                0     0.959796   \n",
       "4                0     0.935035   \n",
       "\n",
       "                            top_feature_attributions  \\\n",
       "0  [{'feature': 'V14', 'attribution': 0.465784728...   \n",
       "1  [{'feature': 'V14', 'attribution': 0.715279638...   \n",
       "2  [{'feature': 'V4', 'attribution': -0.746977210...   \n",
       "3  [{'feature': 'V14', 'attribution': 0.519447863...   \n",
       "4  [{'feature': 'V14', 'attribution': 0.371208459...   \n",
       "\n",
       "   baseline_prediction_value  prediction_value  approximation_error    Time  \\\n",
       "0                   0.462234          1.816688                  0.0   35337   \n",
       "1                   0.462234          2.085161                  0.0   60481   \n",
       "2                   0.462234          0.881366                  0.0  139587   \n",
       "3                   0.462234          2.085161                  0.0  162908   \n",
       "4                   0.462234          1.582276                  0.0  165236   \n",
       "\n",
       "         V1        V2        V3  ...       V23       V24       V25       V26  \\\n",
       "0  1.092844 -0.013230  1.359829  ... -0.167647  0.027557  0.592115  0.219695   \n",
       "1  1.238973  0.035226  0.063003  ... -0.057718  0.104983  0.537987  0.589563   \n",
       "2  1.870539  0.211079  0.224457  ...  0.180776 -0.060226 -0.228979  0.080827   \n",
       "3 -3.368339 -1.980442  0.153645  ... -1.171627  0.214333 -0.159652 -0.060883   \n",
       "4  2.180149  0.218732 -2.637726  ... -0.176957  0.563779  0.730183  0.707494   \n",
       "\n",
       "        V27       V28  Amount  Class                        transaction_id  \\\n",
       "0  0.036970  0.010984     0.0      0  a1b10547-d270-48c0-b902-7a0f735dadc7   \n",
       "1 -0.046207 -0.006212     0.0      0  814c62c8-ade4-47d5-bf83-313b0aafdee5   \n",
       "2  0.009868 -0.036997     0.0      0  d08a1bfa-85c5-4f1b-9537-1c5a93e6afd0   \n",
       "3  1.294977  0.120503     0.0      0  802f3307-8e5a-4475-b795-5d5d8d7d0120   \n",
       "4 -0.131066 -0.090428     0.0      0  c8a5b93a-1598-4689-80be-4f9f5df0b8ce   \n",
       "\n",
       "   splits  \n",
       "0    TEST  \n",
       "1    TEST  \n",
       "2    TEST  \n",
       "3    TEST  \n",
       "4    TEST  \n",
       "\n",
       "[5 rows x 39 columns]"
      ]
     },
     "execution_count": 40,
     "metadata": {},
     "output_type": "execute_result"
    }
   ],
   "source": [
    "explain.head()"
   ]
  },
  {
   "cell_type": "markdown",
   "id": "80382209-9d03-49c2-ad9c-cc95c2d3aaf1",
   "metadata": {},
   "source": [
    "Create a plot of feature attributions for a single prediction:"
   ]
  },
  {
   "cell_type": "code",
   "execution_count": 41,
   "id": "949fd6c9-3a56-479c-a4ba-a3ea327a0cf4",
   "metadata": {},
   "outputs": [],
   "source": [
    "explanation = explain.iloc[0]['top_feature_attributions']"
   ]
  },
  {
   "cell_type": "code",
   "execution_count": 42,
   "id": "bd75ff2b-91c8-46cf-b098-7bbe007cf130",
   "metadata": {},
   "outputs": [
    {
     "data": {
      "image/png": "[encoded data removed]",
      "text/plain": [
       "<Figure size 1500x500 with 1 Axes>"
      ]
     },
     "metadata": {},
     "output_type": "display_data"
    }
   ],
   "source": [
    "features = []\n",
    "scores = []\n",
    "for k in explanation:\n",
    "    features.append(k['feature'])\n",
    "    scores.append(k['attribution'])\n",
    "features = [x for _, x in sorted(zip(scores, features))]\n",
    "scores = sorted(scores)\n",
    "\n",
    "plt.figure(figsize=(15,5))\n",
    "plt.barh(features, scores)\n",
    "plt.title('Feature Attribution for Prediction')\n",
    "plt.show()"
   ]
  },
  {
   "cell_type": "markdown",
   "id": "fdc1c666-d77e-437b-9035-b6170973eeeb",
   "metadata": {},
   "source": [
    "### Global Explainability\n",
    "Retrieve the influence of each feature on the model with [ML.GLOBAL_EXPLAIN](https://cloud.google.com/bigquery-ml/docs/reference/standard-sql/bigqueryml-syntax-global-explain).  "
   ]
  },
  {
   "cell_type": "code",
   "execution_count": 43,
   "id": "96d2c906-4617-49d4-aa04-f3ecc3fbe1ab",
   "metadata": {},
   "outputs": [],
   "source": [
    "query = f\"\"\"\n",
    "SELECT *\n",
    "FROM ML.GLOBAL_EXPLAIN (MODEL `{BQ_PROJECT}.{BQ_DATASET}.{BQ_MODEL}`)\n",
    "\"\"\"\n",
    "gexplain = bq.query(query = query).to_dataframe()"
   ]
  },
  {
   "cell_type": "code",
   "execution_count": 44,
   "id": "3ae92c70-cec2-4d9e-ba77-c0b13866bf92",
   "metadata": {},
   "outputs": [
    {
     "data": {
      "text/html": [
       "<div>\n",
       "<style scoped>\n",
       "    .dataframe tbody tr th:only-of-type {\n",
       "        vertical-align: middle;\n",
       "    }\n",
       "\n",
       "    .dataframe tbody tr th {\n",
       "        vertical-align: top;\n",
       "    }\n",
       "\n",
       "    .dataframe thead th {\n",
       "        text-align: right;\n",
       "    }\n",
       "</style>\n",
       "<table border=\"1\" class=\"dataframe\">\n",
       "  <thead>\n",
       "    <tr style=\"text-align: right;\">\n",
       "      <th></th>\n",
       "      <th>feature</th>\n",
       "      <th>attribution</th>\n",
       "    </tr>\n",
       "  </thead>\n",
       "  <tbody>\n",
       "    <tr>\n",
       "      <th>0</th>\n",
       "      <td>V14</td>\n",
       "      <td>0.528719</td>\n",
       "    </tr>\n",
       "    <tr>\n",
       "      <th>1</th>\n",
       "      <td>V12</td>\n",
       "      <td>0.230154</td>\n",
       "    </tr>\n",
       "    <tr>\n",
       "      <th>2</th>\n",
       "      <td>V4</td>\n",
       "      <td>0.227085</td>\n",
       "    </tr>\n",
       "    <tr>\n",
       "      <th>3</th>\n",
       "      <td>V11</td>\n",
       "      <td>0.190838</td>\n",
       "    </tr>\n",
       "    <tr>\n",
       "      <th>4</th>\n",
       "      <td>V3</td>\n",
       "      <td>0.165016</td>\n",
       "    </tr>\n",
       "  </tbody>\n",
       "</table>\n",
       "</div>"
      ],
      "text/plain": [
       "  feature  attribution\n",
       "0     V14     0.528719\n",
       "1     V12     0.230154\n",
       "2      V4     0.227085\n",
       "3     V11     0.190838\n",
       "4      V3     0.165016"
      ]
     },
     "execution_count": 44,
     "metadata": {},
     "output_type": "execute_result"
    }
   ],
   "source": [
    "gexplain.head()"
   ]
  },
  {
   "cell_type": "code",
   "execution_count": 45,
   "id": "bc37fe57-0a3d-47c2-aa9a-6dbf7e85b32e",
   "metadata": {},
   "outputs": [
    {
     "data": {
      "image/png": "[encoded data removed]",
      "text/plain": [
       "<Figure size 1500x800 with 1 Axes>"
      ]
     },
     "metadata": {},
     "output_type": "display_data"
    }
   ],
   "source": [
    "plt.figure(figsize=(15,8))\n",
    "plt.barh(gexplain['feature'], gexplain['attribution'])\n",
    "plt.title('Global Influence')\n",
    "plt.xlabel('Attribution')\n",
    "#plt.ylabel('Feature')\n",
    "plt.show()"
   ]
  },
  {
   "cell_type": "markdown",
   "id": "5200d162-661b-4c66-b681-74f5d5c9ec33",
   "metadata": {},
   "source": [
    "### Feature Importance\n",
    "\n",
    "Retrieve the [XGBoost feature importances](https://xgboost.readthedocs.io/en/latest/python/python_api.html#xgboost.XGBRegressor.feature_importances_) for the model using [ML.FEATURE_IMPORTANCE](https://cloud.google.com/bigquery-ml/docs/reference/standard-sql/bigqueryml-syntax-importance).\n",
    "- importance_weight: the number of splits the feature was used in across all trees\n",
    "- importance_gain: the improvement in accuracy due to splits using the feature\n",
    "- importance_cover: the number of rows of data covered by splits using the feature"
   ]
  },
  {
   "cell_type": "code",
   "execution_count": 74,
   "id": "6ee976b5-6bc1-4c82-818c-9e34d62790d5",
   "metadata": {},
   "outputs": [],
   "source": [
    "query = f\"\"\"\n",
    "SELECT *\n",
    "FROM ML.FEATURE_IMPORTANCE (MODEL `{BQ_PROJECT}.{BQ_DATASET}.{BQ_MODEL}`)\n",
    "\"\"\"\n",
    "feature_importance = bq.query(query = query).to_dataframe()"
   ]
  },
  {
   "cell_type": "code",
   "execution_count": 75,
   "id": "153489af-58dc-48b7-a7f9-9fce646df468",
   "metadata": {},
   "outputs": [
    {
     "data": {
      "text/html": [
       "<div>\n",
       "<style scoped>\n",
       "    .dataframe tbody tr th:only-of-type {\n",
       "        vertical-align: middle;\n",
       "    }\n",
       "\n",
       "    .dataframe tbody tr th {\n",
       "        vertical-align: top;\n",
       "    }\n",
       "\n",
       "    .dataframe thead th {\n",
       "        text-align: right;\n",
       "    }\n",
       "</style>\n",
       "<table border=\"1\" class=\"dataframe\">\n",
       "  <thead>\n",
       "    <tr style=\"text-align: right;\">\n",
       "      <th></th>\n",
       "      <th>feature</th>\n",
       "      <th>importance_weight</th>\n",
       "      <th>importance_gain</th>\n",
       "      <th>importance_cover</th>\n",
       "    </tr>\n",
       "  </thead>\n",
       "  <tbody>\n",
       "    <tr>\n",
       "      <th>0</th>\n",
       "      <td>Time</td>\n",
       "      <td>17</td>\n",
       "      <td>167.366563</td>\n",
       "      <td>3352.813213</td>\n",
       "    </tr>\n",
       "    <tr>\n",
       "      <th>1</th>\n",
       "      <td>V1</td>\n",
       "      <td>20</td>\n",
       "      <td>73.224295</td>\n",
       "      <td>9515.250234</td>\n",
       "    </tr>\n",
       "    <tr>\n",
       "      <th>2</th>\n",
       "      <td>V2</td>\n",
       "      <td>12</td>\n",
       "      <td>162.900021</td>\n",
       "      <td>1082.428968</td>\n",
       "    </tr>\n",
       "    <tr>\n",
       "      <th>3</th>\n",
       "      <td>V3</td>\n",
       "      <td>24</td>\n",
       "      <td>162.321960</td>\n",
       "      <td>7924.240374</td>\n",
       "    </tr>\n",
       "    <tr>\n",
       "      <th>4</th>\n",
       "      <td>V4</td>\n",
       "      <td>60</td>\n",
       "      <td>559.016486</td>\n",
       "      <td>13676.293051</td>\n",
       "    </tr>\n",
       "    <tr>\n",
       "      <th>5</th>\n",
       "      <td>V5</td>\n",
       "      <td>5</td>\n",
       "      <td>131.053436</td>\n",
       "      <td>1348.825396</td>\n",
       "    </tr>\n",
       "    <tr>\n",
       "      <th>6</th>\n",
       "      <td>V6</td>\n",
       "      <td>7</td>\n",
       "      <td>262.243648</td>\n",
       "      <td>4280.019997</td>\n",
       "    </tr>\n",
       "    <tr>\n",
       "      <th>7</th>\n",
       "      <td>V7</td>\n",
       "      <td>18</td>\n",
       "      <td>176.532501</td>\n",
       "      <td>10269.629881</td>\n",
       "    </tr>\n",
       "    <tr>\n",
       "      <th>8</th>\n",
       "      <td>V8</td>\n",
       "      <td>22</td>\n",
       "      <td>314.784108</td>\n",
       "      <td>3401.310635</td>\n",
       "    </tr>\n",
       "    <tr>\n",
       "      <th>9</th>\n",
       "      <td>V9</td>\n",
       "      <td>14</td>\n",
       "      <td>126.774299</td>\n",
       "      <td>4884.854385</td>\n",
       "    </tr>\n",
       "    <tr>\n",
       "      <th>10</th>\n",
       "      <td>V10</td>\n",
       "      <td>31</td>\n",
       "      <td>162.922758</td>\n",
       "      <td>14450.546706</td>\n",
       "    </tr>\n",
       "    <tr>\n",
       "      <th>11</th>\n",
       "      <td>V11</td>\n",
       "      <td>35</td>\n",
       "      <td>136.615076</td>\n",
       "      <td>10458.808671</td>\n",
       "    </tr>\n",
       "    <tr>\n",
       "      <th>12</th>\n",
       "      <td>V12</td>\n",
       "      <td>53</td>\n",
       "      <td>331.455965</td>\n",
       "      <td>9205.820610</td>\n",
       "    </tr>\n",
       "    <tr>\n",
       "      <th>13</th>\n",
       "      <td>V13</td>\n",
       "      <td>20</td>\n",
       "      <td>365.230532</td>\n",
       "      <td>2831.589463</td>\n",
       "    </tr>\n",
       "    <tr>\n",
       "      <th>14</th>\n",
       "      <td>V14</td>\n",
       "      <td>56</td>\n",
       "      <td>6216.461952</td>\n",
       "      <td>25722.722018</td>\n",
       "    </tr>\n",
       "    <tr>\n",
       "      <th>15</th>\n",
       "      <td>V15</td>\n",
       "      <td>15</td>\n",
       "      <td>234.060926</td>\n",
       "      <td>3625.498545</td>\n",
       "    </tr>\n",
       "    <tr>\n",
       "      <th>16</th>\n",
       "      <td>V16</td>\n",
       "      <td>10</td>\n",
       "      <td>121.542607</td>\n",
       "      <td>2380.791173</td>\n",
       "    </tr>\n",
       "    <tr>\n",
       "      <th>17</th>\n",
       "      <td>V17</td>\n",
       "      <td>7</td>\n",
       "      <td>204.646886</td>\n",
       "      <td>11505.671585</td>\n",
       "    </tr>\n",
       "    <tr>\n",
       "      <th>18</th>\n",
       "      <td>V18</td>\n",
       "      <td>16</td>\n",
       "      <td>186.885044</td>\n",
       "      <td>1700.019285</td>\n",
       "    </tr>\n",
       "    <tr>\n",
       "      <th>19</th>\n",
       "      <td>V19</td>\n",
       "      <td>22</td>\n",
       "      <td>210.030347</td>\n",
       "      <td>2733.417686</td>\n",
       "    </tr>\n",
       "    <tr>\n",
       "      <th>20</th>\n",
       "      <td>V20</td>\n",
       "      <td>25</td>\n",
       "      <td>312.326108</td>\n",
       "      <td>10008.024095</td>\n",
       "    </tr>\n",
       "    <tr>\n",
       "      <th>21</th>\n",
       "      <td>V21</td>\n",
       "      <td>9</td>\n",
       "      <td>308.473234</td>\n",
       "      <td>15678.112821</td>\n",
       "    </tr>\n",
       "    <tr>\n",
       "      <th>22</th>\n",
       "      <td>V22</td>\n",
       "      <td>20</td>\n",
       "      <td>91.908964</td>\n",
       "      <td>7659.546446</td>\n",
       "    </tr>\n",
       "    <tr>\n",
       "      <th>23</th>\n",
       "      <td>V23</td>\n",
       "      <td>17</td>\n",
       "      <td>218.194049</td>\n",
       "      <td>1621.487456</td>\n",
       "    </tr>\n",
       "    <tr>\n",
       "      <th>24</th>\n",
       "      <td>V24</td>\n",
       "      <td>7</td>\n",
       "      <td>60.923633</td>\n",
       "      <td>801.444785</td>\n",
       "    </tr>\n",
       "    <tr>\n",
       "      <th>25</th>\n",
       "      <td>V25</td>\n",
       "      <td>14</td>\n",
       "      <td>135.430940</td>\n",
       "      <td>6289.873178</td>\n",
       "    </tr>\n",
       "    <tr>\n",
       "      <th>26</th>\n",
       "      <td>V26</td>\n",
       "      <td>30</td>\n",
       "      <td>183.933658</td>\n",
       "      <td>1147.890006</td>\n",
       "    </tr>\n",
       "    <tr>\n",
       "      <th>27</th>\n",
       "      <td>V27</td>\n",
       "      <td>9</td>\n",
       "      <td>268.589527</td>\n",
       "      <td>1929.046303</td>\n",
       "    </tr>\n",
       "    <tr>\n",
       "      <th>28</th>\n",
       "      <td>V28</td>\n",
       "      <td>15</td>\n",
       "      <td>158.273843</td>\n",
       "      <td>2029.788848</td>\n",
       "    </tr>\n",
       "    <tr>\n",
       "      <th>29</th>\n",
       "      <td>Amount</td>\n",
       "      <td>21</td>\n",
       "      <td>216.065074</td>\n",
       "      <td>5521.098372</td>\n",
       "    </tr>\n",
       "  </tbody>\n",
       "</table>\n",
       "</div>"
      ],
      "text/plain": [
       "   feature  importance_weight  importance_gain  importance_cover\n",
       "0     Time                 17       167.366563       3352.813213\n",
       "1       V1                 20        73.224295       9515.250234\n",
       "2       V2                 12       162.900021       1082.428968\n",
       "3       V3                 24       162.321960       7924.240374\n",
       "4       V4                 60       559.016486      13676.293051\n",
       "5       V5                  5       131.053436       1348.825396\n",
       "6       V6                  7       262.243648       4280.019997\n",
       "7       V7                 18       176.532501      10269.629881\n",
       "8       V8                 22       314.784108       3401.310635\n",
       "9       V9                 14       126.774299       4884.854385\n",
       "10     V10                 31       162.922758      14450.546706\n",
       "11     V11                 35       136.615076      10458.808671\n",
       "12     V12                 53       331.455965       9205.820610\n",
       "13     V13                 20       365.230532       2831.589463\n",
       "14     V14                 56      6216.461952      25722.722018\n",
       "15     V15                 15       234.060926       3625.498545\n",
       "16     V16                 10       121.542607       2380.791173\n",
       "17     V17                  7       204.646886      11505.671585\n",
       "18     V18                 16       186.885044       1700.019285\n",
       "19     V19                 22       210.030347       2733.417686\n",
       "20     V20                 25       312.326108      10008.024095\n",
       "21     V21                  9       308.473234      15678.112821\n",
       "22     V22                 20        91.908964       7659.546446\n",
       "23     V23                 17       218.194049       1621.487456\n",
       "24     V24                  7        60.923633        801.444785\n",
       "25     V25                 14       135.430940       6289.873178\n",
       "26     V26                 30       183.933658       1147.890006\n",
       "27     V27                  9       268.589527       1929.046303\n",
       "28     V28                 15       158.273843       2029.788848\n",
       "29  Amount                 21       216.065074       5521.098372"
      ]
     },
     "execution_count": 75,
     "metadata": {},
     "output_type": "execute_result"
    }
   ],
   "source": [
    "feature_importance"
   ]
  },
  {
   "cell_type": "markdown",
   "id": "6e01a9f2-b487-4eaf-86f4-64dc0c7b02d8",
   "metadata": {},
   "source": [
    "---\n",
    "## Serving With Vertex AI\n",
    "\n",
    "The training options for creating the model include registering the model the Vertex AI Automatically.  This makes deploying the model to a [Vertex AI Endpoint for online serving](https://cloud.google.com/vertex-ai/docs/general/deployment) very easy."
   ]
  },
  {
   "cell_type": "markdown",
   "id": "18e20567-d5b0-41d3-90bb-cf4aae1c551a",
   "metadata": {},
   "source": [
    "### Vertex AI Model Registry - Get Model\n",
    "\n",
    "When these modes were trained in BigQuery ML they included options for registration in Vertex AI Model Registry.  This section shows how to retrieve the information from the model using the [Vertex AI Python Client](../Tips/aiplatform_notes.md).\n",
    "\n",
    "References:\n",
    "- [aiplatform.Model()](https://cloud.google.com/python/docs/reference/aiplatform/latest/google.cloud.aiplatform.Model)"
   ]
  },
  {
   "cell_type": "code",
   "execution_count": 46,
   "id": "5e975ccd-fd1a-4c15-a136-8a823a68af53",
   "metadata": {},
   "outputs": [
    {
     "data": {
      "text/plain": [
       "'projects/1026793852137/locations/us-central1/models/bqml_bqml_boosted-tree'"
      ]
     },
     "execution_count": 46,
     "metadata": {},
     "output_type": "execute_result"
    }
   ],
   "source": [
    "vertex_model = aiplatform.Model(model_name = f'bqml_{SERIES}_{EXPERIMENT}')\n",
    "vertex_model.resource_name"
   ]
  },
  {
   "cell_type": "code",
   "execution_count": 47,
   "id": "e8851f59-6ff7-4edf-83dc-c81be31098ac",
   "metadata": {},
   "outputs": [
    {
     "data": {
      "text/plain": [
       "{'annotationSpecs': [{'displayName': '1', 'id': '0'},\n",
       "  {'displayName': '0', 'id': '1'}],\n",
       " 'rows': [[42.0, 6.0], [238.0, 27958.0]]}"
      ]
     },
     "execution_count": 47,
     "metadata": {},
     "output_type": "execute_result"
    }
   ],
   "source": [
    "aiplatform.ModelEvaluation(\n",
    "    evaluation_name = vertex_model.get_model_evaluation().resource_name\n",
    ").to_dict()['metrics']['confusionMatrix']"
   ]
  },
  {
   "cell_type": "code",
   "execution_count": 48,
   "id": "2354f8f0-0988-40f8-b686-5d3e256f15a0",
   "metadata": {},
   "outputs": [],
   "source": [
    "# note: this is blank since the model is managed by BQML and container is pre-specified\n",
    "vertex_model.uri "
   ]
  },
  {
   "cell_type": "markdown",
   "id": "1281280c-be08-4003-86fb-624d2115d076",
   "metadata": {},
   "source": [
    "### Vertex AI Endpoint - Create or Retrieve\n",
    "\n",
    "References:\n",
    "- [aiplatform.Endpoint()](https://cloud.google.com/python/docs/reference/aiplatform/latest/google.cloud.aiplatform.Endpoint)"
   ]
  },
  {
   "cell_type": "code",
   "execution_count": 49,
   "id": "df14e61f-d9ec-437d-ad9f-d8c8a5c02b7d",
   "metadata": {},
   "outputs": [
    {
     "name": "stdout",
     "output_type": "stream",
     "text": [
      "Endpoint Found: bqml\n"
     ]
    }
   ],
   "source": [
    "if not aiplatform.Endpoint.list(filter = f\"display_name={SERIES}\"):\n",
    "    endpoint = aiplatform.Endpoint.create(\n",
    "        display_name = f\"{SERIES}\",\n",
    "        labels = {'series' : f\"{SERIES}\"}\n",
    "    )\n",
    "    print(f\"Endpoint Created: {endpoint.display_name}\")\n",
    "else:\n",
    "    endpoint = aiplatform.Endpoint.list(filter = f\"display_name={SERIES}\")[0]\n",
    "    print(f\"Endpoint Found: {endpoint.display_name}\")"
   ]
  },
  {
   "cell_type": "code",
   "execution_count": 50,
   "id": "103af54f-f899-49b5-8a3a-0452346bebe0",
   "metadata": {},
   "outputs": [
    {
     "data": {
      "text/plain": [
       "'bqml'"
      ]
     },
     "execution_count": 50,
     "metadata": {},
     "output_type": "execute_result"
    }
   ],
   "source": [
    "endpoint.display_name"
   ]
  },
  {
   "cell_type": "code",
   "execution_count": 51,
   "id": "f07ddaa4-8cef-4186-abe7-f2b3259cb302",
   "metadata": {},
   "outputs": [
    {
     "data": {
      "text/plain": [
       "{'9113264743426031616': 100}"
      ]
     },
     "execution_count": 51,
     "metadata": {},
     "output_type": "execute_result"
    }
   ],
   "source": [
    "endpoint.traffic_split"
   ]
  },
  {
   "cell_type": "code",
   "execution_count": 52,
   "id": "398404fe-5c1c-4e5f-8d4a-e043bea57e13",
   "metadata": {},
   "outputs": [
    {
     "data": {
      "text/plain": [
       "[id: \"9113264743426031616\"\n",
       " model: \"projects/1026793852137/locations/us-central1/models/bqml_bqml_logistic-regression\"\n",
       " display_name: \"bqml_bqml_logistic-regression\"\n",
       " create_time {\n",
       "   seconds: 1687865273\n",
       "   nanos: 322401000\n",
       " }\n",
       " dedicated_resources {\n",
       "   machine_spec {\n",
       "     machine_type: \"n1-standard-2\"\n",
       "   }\n",
       "   min_replica_count: 1\n",
       "   max_replica_count: 1\n",
       " }\n",
       " explanation_spec {\n",
       "   parameters {\n",
       "     sampled_shapley_attribution {\n",
       "       path_count: 5\n",
       "     }\n",
       "   }\n",
       "   metadata {\n",
       "     inputs {\n",
       "       key: \"Amount\"\n",
       "       value {\n",
       "         input_tensor_name: \"Amount:0\"\n",
       "         encoding: IDENTITY\n",
       "         modality: \"numeric\"\n",
       "       }\n",
       "     }\n",
       "     inputs {\n",
       "       key: \"Time\"\n",
       "       value {\n",
       "         input_tensor_name: \"Time:0\"\n",
       "         encoding: IDENTITY\n",
       "         modality: \"numeric\"\n",
       "       }\n",
       "     }\n",
       "     inputs {\n",
       "       key: \"V1\"\n",
       "       value {\n",
       "         input_tensor_name: \"V1:0\"\n",
       "         encoding: IDENTITY\n",
       "         modality: \"numeric\"\n",
       "       }\n",
       "     }\n",
       "     inputs {\n",
       "       key: \"V10\"\n",
       "       value {\n",
       "         input_tensor_name: \"V10:0\"\n",
       "         encoding: IDENTITY\n",
       "         modality: \"numeric\"\n",
       "       }\n",
       "     }\n",
       "     inputs {\n",
       "       key: \"V11\"\n",
       "       value {\n",
       "         input_tensor_name: \"V11:0\"\n",
       "         encoding: IDENTITY\n",
       "         modality: \"numeric\"\n",
       "       }\n",
       "     }\n",
       "     inputs {\n",
       "       key: \"V12\"\n",
       "       value {\n",
       "         input_tensor_name: \"V12:0\"\n",
       "         encoding: IDENTITY\n",
       "         modality: \"numeric\"\n",
       "       }\n",
       "     }\n",
       "     inputs {\n",
       "       key: \"V13\"\n",
       "       value {\n",
       "         input_tensor_name: \"V13:0\"\n",
       "         encoding: IDENTITY\n",
       "         modality: \"numeric\"\n",
       "       }\n",
       "     }\n",
       "     inputs {\n",
       "       key: \"V14\"\n",
       "       value {\n",
       "         input_tensor_name: \"V14:0\"\n",
       "         encoding: IDENTITY\n",
       "         modality: \"numeric\"\n",
       "       }\n",
       "     }\n",
       "     inputs {\n",
       "       key: \"V15\"\n",
       "       value {\n",
       "         input_tensor_name: \"V15:0\"\n",
       "         encoding: IDENTITY\n",
       "         modality: \"numeric\"\n",
       "       }\n",
       "     }\n",
       "     inputs {\n",
       "       key: \"V16\"\n",
       "       value {\n",
       "         input_tensor_name: \"V16:0\"\n",
       "         encoding: IDENTITY\n",
       "         modality: \"numeric\"\n",
       "       }\n",
       "     }\n",
       "     inputs {\n",
       "       key: \"V17\"\n",
       "       value {\n",
       "         input_tensor_name: \"V17:0\"\n",
       "         encoding: IDENTITY\n",
       "         modality: \"numeric\"\n",
       "       }\n",
       "     }\n",
       "     inputs {\n",
       "       key: \"V18\"\n",
       "       value {\n",
       "         input_tensor_name: \"V18:0\"\n",
       "         encoding: IDENTITY\n",
       "         modality: \"numeric\"\n",
       "       }\n",
       "     }\n",
       "     inputs {\n",
       "       key: \"V19\"\n",
       "       value {\n",
       "         input_tensor_name: \"V19:0\"\n",
       "         encoding: IDENTITY\n",
       "         modality: \"numeric\"\n",
       "       }\n",
       "     }\n",
       "     inputs {\n",
       "       key: \"V2\"\n",
       "       value {\n",
       "         input_tensor_name: \"V2:0\"\n",
       "         encoding: IDENTITY\n",
       "         modality: \"numeric\"\n",
       "       }\n",
       "     }\n",
       "     inputs {\n",
       "       key: \"V20\"\n",
       "       value {\n",
       "         input_tensor_name: \"V20:0\"\n",
       "         encoding: IDENTITY\n",
       "         modality: \"numeric\"\n",
       "       }\n",
       "     }\n",
       "     inputs {\n",
       "       key: \"V21\"\n",
       "       value {\n",
       "         input_tensor_name: \"V21:0\"\n",
       "         encoding: IDENTITY\n",
       "         modality: \"numeric\"\n",
       "       }\n",
       "     }\n",
       "     inputs {\n",
       "       key: \"V22\"\n",
       "       value {\n",
       "         input_tensor_name: \"V22:0\"\n",
       "         encoding: IDENTITY\n",
       "         modality: \"numeric\"\n",
       "       }\n",
       "     }\n",
       "     inputs {\n",
       "       key: \"V23\"\n",
       "       value {\n",
       "         input_tensor_name: \"V23:0\"\n",
       "         encoding: IDENTITY\n",
       "         modality: \"numeric\"\n",
       "       }\n",
       "     }\n",
       "     inputs {\n",
       "       key: \"V24\"\n",
       "       value {\n",
       "         input_tensor_name: \"V24:0\"\n",
       "         encoding: IDENTITY\n",
       "         modality: \"numeric\"\n",
       "       }\n",
       "     }\n",
       "     inputs {\n",
       "       key: \"V25\"\n",
       "       value {\n",
       "         input_tensor_name: \"V25:0\"\n",
       "         encoding: IDENTITY\n",
       "         modality: \"numeric\"\n",
       "       }\n",
       "     }\n",
       "     inputs {\n",
       "       key: \"V26\"\n",
       "       value {\n",
       "         input_tensor_name: \"V26:0\"\n",
       "         encoding: IDENTITY\n",
       "         modality: \"numeric\"\n",
       "       }\n",
       "     }\n",
       "     inputs {\n",
       "       key: \"V27\"\n",
       "       value {\n",
       "         input_tensor_name: \"V27:0\"\n",
       "         encoding: IDENTITY\n",
       "         modality: \"numeric\"\n",
       "       }\n",
       "     }\n",
       "     inputs {\n",
       "       key: \"V28\"\n",
       "       value {\n",
       "         input_tensor_name: \"V28:0\"\n",
       "         encoding: IDENTITY\n",
       "         modality: \"numeric\"\n",
       "       }\n",
       "     }\n",
       "     inputs {\n",
       "       key: \"V3\"\n",
       "       value {\n",
       "         input_tensor_name: \"V3:0\"\n",
       "         encoding: IDENTITY\n",
       "         modality: \"numeric\"\n",
       "       }\n",
       "     }\n",
       "     inputs {\n",
       "       key: \"V4\"\n",
       "       value {\n",
       "         input_tensor_name: \"V4:0\"\n",
       "         encoding: IDENTITY\n",
       "         modality: \"numeric\"\n",
       "       }\n",
       "     }\n",
       "     inputs {\n",
       "       key: \"V5\"\n",
       "       value {\n",
       "         input_tensor_name: \"V5:0\"\n",
       "         encoding: IDENTITY\n",
       "         modality: \"numeric\"\n",
       "       }\n",
       "     }\n",
       "     inputs {\n",
       "       key: \"V6\"\n",
       "       value {\n",
       "         input_tensor_name: \"V6:0\"\n",
       "         encoding: IDENTITY\n",
       "         modality: \"numeric\"\n",
       "       }\n",
       "     }\n",
       "     inputs {\n",
       "       key: \"V7\"\n",
       "       value {\n",
       "         input_tensor_name: \"V7:0\"\n",
       "         encoding: IDENTITY\n",
       "         modality: \"numeric\"\n",
       "       }\n",
       "     }\n",
       "     inputs {\n",
       "       key: \"V8\"\n",
       "       value {\n",
       "         input_tensor_name: \"V8:0\"\n",
       "         encoding: IDENTITY\n",
       "         modality: \"numeric\"\n",
       "       }\n",
       "     }\n",
       "     inputs {\n",
       "       key: \"V9\"\n",
       "       value {\n",
       "         input_tensor_name: \"V9:0\"\n",
       "         encoding: IDENTITY\n",
       "         modality: \"numeric\"\n",
       "       }\n",
       "     }\n",
       "     outputs {\n",
       "       key: \"Class_logits\"\n",
       "       value {\n",
       "         output_tensor_name: \"Add:0\"\n",
       "       }\n",
       "     }\n",
       "   }\n",
       " }\n",
       " disable_container_logging: true\n",
       " model_version_id: \"1\"]"
      ]
     },
     "execution_count": 52,
     "metadata": {},
     "output_type": "execute_result"
    }
   ],
   "source": [
    "deployed_models = endpoint.list_models()\n",
    "deployed_models"
   ]
  },
  {
   "cell_type": "markdown",
   "id": "b7cfec95-bb9c-4490-af6e-44a966966e75",
   "metadata": {},
   "source": [
    "### Deploy Model To Vertex AI Endpoint\n",
    "\n",
    "**NOTE: This can take 15+ minutes to complete.**\n",
    "\n",
    "Reference:\n",
    "- [aiplatform.Endpoint.deploy()](https://cloud.google.com/python/docs/reference/aiplatform/latest/google.cloud.aiplatform.Endpoint#google_cloud_aiplatform_Endpoint_deploy)"
   ]
  },
  {
   "cell_type": "code",
   "execution_count": 53,
   "id": "09e02a80-de95-4ea5-b8b2-1c72b200ae1b",
   "metadata": {},
   "outputs": [
    {
     "name": "stdout",
     "output_type": "stream",
     "text": [
      "Deploying Model projects/1026793852137/locations/us-central1/models/bqml_bqml_boosted-tree to Endpoint : projects/1026793852137/locations/us-central1/endpoints/5386265571916513280\n"
     ]
    },
    {
     "name": "stderr",
     "output_type": "stream",
     "text": [
      "INFO:google.cloud.aiplatform.models:Deploying Model projects/1026793852137/locations/us-central1/models/bqml_bqml_boosted-tree to Endpoint : projects/1026793852137/locations/us-central1/endpoints/5386265571916513280\n"
     ]
    },
    {
     "name": "stdout",
     "output_type": "stream",
     "text": [
      "Deploy Endpoint model backing LRO: projects/1026793852137/locations/us-central1/endpoints/5386265571916513280/operations/9112881220026368000\n"
     ]
    },
    {
     "name": "stderr",
     "output_type": "stream",
     "text": [
      "INFO:google.cloud.aiplatform.models:Deploy Endpoint model backing LRO: projects/1026793852137/locations/us-central1/endpoints/5386265571916513280/operations/9112881220026368000\n"
     ]
    },
    {
     "name": "stdout",
     "output_type": "stream",
     "text": [
      "Endpoint model deployed. Resource name: projects/1026793852137/locations/us-central1/endpoints/5386265571916513280\n"
     ]
    },
    {
     "name": "stderr",
     "output_type": "stream",
     "text": [
      "INFO:google.cloud.aiplatform.models:Endpoint model deployed. Resource name: projects/1026793852137/locations/us-central1/endpoints/5386265571916513280\n"
     ]
    }
   ],
   "source": [
    "endpoint.deploy(\n",
    "    model = vertex_model,\n",
    "    deployed_model_display_name = vertex_model.display_name,\n",
    "    traffic_percentage = 100,\n",
    "    machine_type = 'n1-standard-2',\n",
    "    min_replica_count = 1,\n",
    "    max_replica_count = 1\n",
    ")"
   ]
  },
  {
   "cell_type": "code",
   "execution_count": 54,
   "id": "a159d976-22ae-4e77-aa6e-a26561942aff",
   "metadata": {},
   "outputs": [
    {
     "data": {
      "text/plain": [
       "[id: \"175871282909282304\"\n",
       " model: \"projects/1026793852137/locations/us-central1/models/bqml_bqml_boosted-tree\"\n",
       " display_name: \"bqml_bqml_boosted-tree\"\n",
       " create_time {\n",
       "   seconds: 1687881570\n",
       "   nanos: 906486000\n",
       " }\n",
       " dedicated_resources {\n",
       "   machine_spec {\n",
       "     machine_type: \"n1-standard-2\"\n",
       "   }\n",
       "   min_replica_count: 1\n",
       "   max_replica_count: 1\n",
       " }\n",
       " explanation_spec {\n",
       "   parameters {\n",
       "     sampled_shapley_attribution {\n",
       "       path_count: 5\n",
       "     }\n",
       "   }\n",
       "   metadata {\n",
       "     inputs {\n",
       "       key: \"Amount\"\n",
       "       value {\n",
       "       }\n",
       "     }\n",
       "     inputs {\n",
       "       key: \"Time\"\n",
       "       value {\n",
       "       }\n",
       "     }\n",
       "     inputs {\n",
       "       key: \"V1\"\n",
       "       value {\n",
       "       }\n",
       "     }\n",
       "     inputs {\n",
       "       key: \"V10\"\n",
       "       value {\n",
       "       }\n",
       "     }\n",
       "     inputs {\n",
       "       key: \"V11\"\n",
       "       value {\n",
       "       }\n",
       "     }\n",
       "     inputs {\n",
       "       key: \"V12\"\n",
       "       value {\n",
       "       }\n",
       "     }\n",
       "     inputs {\n",
       "       key: \"V13\"\n",
       "       value {\n",
       "       }\n",
       "     }\n",
       "     inputs {\n",
       "       key: \"V14\"\n",
       "       value {\n",
       "       }\n",
       "     }\n",
       "     inputs {\n",
       "       key: \"V15\"\n",
       "       value {\n",
       "       }\n",
       "     }\n",
       "     inputs {\n",
       "       key: \"V16\"\n",
       "       value {\n",
       "       }\n",
       "     }\n",
       "     inputs {\n",
       "       key: \"V17\"\n",
       "       value {\n",
       "       }\n",
       "     }\n",
       "     inputs {\n",
       "       key: \"V18\"\n",
       "       value {\n",
       "       }\n",
       "     }\n",
       "     inputs {\n",
       "       key: \"V19\"\n",
       "       value {\n",
       "       }\n",
       "     }\n",
       "     inputs {\n",
       "       key: \"V2\"\n",
       "       value {\n",
       "       }\n",
       "     }\n",
       "     inputs {\n",
       "       key: \"V20\"\n",
       "       value {\n",
       "       }\n",
       "     }\n",
       "     inputs {\n",
       "       key: \"V21\"\n",
       "       value {\n",
       "       }\n",
       "     }\n",
       "     inputs {\n",
       "       key: \"V22\"\n",
       "       value {\n",
       "       }\n",
       "     }\n",
       "     inputs {\n",
       "       key: \"V23\"\n",
       "       value {\n",
       "       }\n",
       "     }\n",
       "     inputs {\n",
       "       key: \"V24\"\n",
       "       value {\n",
       "       }\n",
       "     }\n",
       "     inputs {\n",
       "       key: \"V25\"\n",
       "       value {\n",
       "       }\n",
       "     }\n",
       "     inputs {\n",
       "       key: \"V26\"\n",
       "       value {\n",
       "       }\n",
       "     }\n",
       "     inputs {\n",
       "       key: \"V27\"\n",
       "       value {\n",
       "       }\n",
       "     }\n",
       "     inputs {\n",
       "       key: \"V28\"\n",
       "       value {\n",
       "       }\n",
       "     }\n",
       "     inputs {\n",
       "       key: \"V3\"\n",
       "       value {\n",
       "       }\n",
       "     }\n",
       "     inputs {\n",
       "       key: \"V4\"\n",
       "       value {\n",
       "       }\n",
       "     }\n",
       "     inputs {\n",
       "       key: \"V5\"\n",
       "       value {\n",
       "       }\n",
       "     }\n",
       "     inputs {\n",
       "       key: \"V6\"\n",
       "       value {\n",
       "       }\n",
       "     }\n",
       "     inputs {\n",
       "       key: \"V7\"\n",
       "       value {\n",
       "       }\n",
       "     }\n",
       "     inputs {\n",
       "       key: \"V8\"\n",
       "       value {\n",
       "       }\n",
       "     }\n",
       "     inputs {\n",
       "       key: \"V9\"\n",
       "       value {\n",
       "       }\n",
       "     }\n",
       "     outputs {\n",
       "       key: \"label_probs\"\n",
       "       value {\n",
       "       }\n",
       "     }\n",
       "   }\n",
       " }\n",
       " disable_container_logging: true\n",
       " model_version_id: \"1\",\n",
       " id: \"9113264743426031616\"\n",
       " model: \"projects/1026793852137/locations/us-central1/models/bqml_bqml_logistic-regression\"\n",
       " display_name: \"bqml_bqml_logistic-regression\"\n",
       " create_time {\n",
       "   seconds: 1687865273\n",
       "   nanos: 322401000\n",
       " }\n",
       " dedicated_resources {\n",
       "   machine_spec {\n",
       "     machine_type: \"n1-standard-2\"\n",
       "   }\n",
       "   min_replica_count: 1\n",
       "   max_replica_count: 1\n",
       " }\n",
       " explanation_spec {\n",
       "   parameters {\n",
       "     sampled_shapley_attribution {\n",
       "       path_count: 5\n",
       "     }\n",
       "   }\n",
       "   metadata {\n",
       "     inputs {\n",
       "       key: \"Amount\"\n",
       "       value {\n",
       "         input_tensor_name: \"Amount:0\"\n",
       "         encoding: IDENTITY\n",
       "         modality: \"numeric\"\n",
       "       }\n",
       "     }\n",
       "     inputs {\n",
       "       key: \"Time\"\n",
       "       value {\n",
       "         input_tensor_name: \"Time:0\"\n",
       "         encoding: IDENTITY\n",
       "         modality: \"numeric\"\n",
       "       }\n",
       "     }\n",
       "     inputs {\n",
       "       key: \"V1\"\n",
       "       value {\n",
       "         input_tensor_name: \"V1:0\"\n",
       "         encoding: IDENTITY\n",
       "         modality: \"numeric\"\n",
       "       }\n",
       "     }\n",
       "     inputs {\n",
       "       key: \"V10\"\n",
       "       value {\n",
       "         input_tensor_name: \"V10:0\"\n",
       "         encoding: IDENTITY\n",
       "         modality: \"numeric\"\n",
       "       }\n",
       "     }\n",
       "     inputs {\n",
       "       key: \"V11\"\n",
       "       value {\n",
       "         input_tensor_name: \"V11:0\"\n",
       "         encoding: IDENTITY\n",
       "         modality: \"numeric\"\n",
       "       }\n",
       "     }\n",
       "     inputs {\n",
       "       key: \"V12\"\n",
       "       value {\n",
       "         input_tensor_name: \"V12:0\"\n",
       "         encoding: IDENTITY\n",
       "         modality: \"numeric\"\n",
       "       }\n",
       "     }\n",
       "     inputs {\n",
       "       key: \"V13\"\n",
       "       value {\n",
       "         input_tensor_name: \"V13:0\"\n",
       "         encoding: IDENTITY\n",
       "         modality: \"numeric\"\n",
       "       }\n",
       "     }\n",
       "     inputs {\n",
       "       key: \"V14\"\n",
       "       value {\n",
       "         input_tensor_name: \"V14:0\"\n",
       "         encoding: IDENTITY\n",
       "         modality: \"numeric\"\n",
       "       }\n",
       "     }\n",
       "     inputs {\n",
       "       key: \"V15\"\n",
       "       value {\n",
       "         input_tensor_name: \"V15:0\"\n",
       "         encoding: IDENTITY\n",
       "         modality: \"numeric\"\n",
       "       }\n",
       "     }\n",
       "     inputs {\n",
       "       key: \"V16\"\n",
       "       value {\n",
       "         input_tensor_name: \"V16:0\"\n",
       "         encoding: IDENTITY\n",
       "         modality: \"numeric\"\n",
       "       }\n",
       "     }\n",
       "     inputs {\n",
       "       key: \"V17\"\n",
       "       value {\n",
       "         input_tensor_name: \"V17:0\"\n",
       "         encoding: IDENTITY\n",
       "         modality: \"numeric\"\n",
       "       }\n",
       "     }\n",
       "     inputs {\n",
       "       key: \"V18\"\n",
       "       value {\n",
       "         input_tensor_name: \"V18:0\"\n",
       "         encoding: IDENTITY\n",
       "         modality: \"numeric\"\n",
       "       }\n",
       "     }\n",
       "     inputs {\n",
       "       key: \"V19\"\n",
       "       value {\n",
       "         input_tensor_name: \"V19:0\"\n",
       "         encoding: IDENTITY\n",
       "         modality: \"numeric\"\n",
       "       }\n",
       "     }\n",
       "     inputs {\n",
       "       key: \"V2\"\n",
       "       value {\n",
       "         input_tensor_name: \"V2:0\"\n",
       "         encoding: IDENTITY\n",
       "         modality: \"numeric\"\n",
       "       }\n",
       "     }\n",
       "     inputs {\n",
       "       key: \"V20\"\n",
       "       value {\n",
       "         input_tensor_name: \"V20:0\"\n",
       "         encoding: IDENTITY\n",
       "         modality: \"numeric\"\n",
       "       }\n",
       "     }\n",
       "     inputs {\n",
       "       key: \"V21\"\n",
       "       value {\n",
       "         input_tensor_name: \"V21:0\"\n",
       "         encoding: IDENTITY\n",
       "         modality: \"numeric\"\n",
       "       }\n",
       "     }\n",
       "     inputs {\n",
       "       key: \"V22\"\n",
       "       value {\n",
       "         input_tensor_name: \"V22:0\"\n",
       "         encoding: IDENTITY\n",
       "         modality: \"numeric\"\n",
       "       }\n",
       "     }\n",
       "     inputs {\n",
       "       key: \"V23\"\n",
       "       value {\n",
       "         input_tensor_name: \"V23:0\"\n",
       "         encoding: IDENTITY\n",
       "         modality: \"numeric\"\n",
       "       }\n",
       "     }\n",
       "     inputs {\n",
       "       key: \"V24\"\n",
       "       value {\n",
       "         input_tensor_name: \"V24:0\"\n",
       "         encoding: IDENTITY\n",
       "         modality: \"numeric\"\n",
       "       }\n",
       "     }\n",
       "     inputs {\n",
       "       key: \"V25\"\n",
       "       value {\n",
       "         input_tensor_name: \"V25:0\"\n",
       "         encoding: IDENTITY\n",
       "         modality: \"numeric\"\n",
       "       }\n",
       "     }\n",
       "     inputs {\n",
       "       key: \"V26\"\n",
       "       value {\n",
       "         input_tensor_name: \"V26:0\"\n",
       "         encoding: IDENTITY\n",
       "         modality: \"numeric\"\n",
       "       }\n",
       "     }\n",
       "     inputs {\n",
       "       key: \"V27\"\n",
       "       value {\n",
       "         input_tensor_name: \"V27:0\"\n",
       "         encoding: IDENTITY\n",
       "         modality: \"numeric\"\n",
       "       }\n",
       "     }\n",
       "     inputs {\n",
       "       key: \"V28\"\n",
       "       value {\n",
       "         input_tensor_name: \"V28:0\"\n",
       "         encoding: IDENTITY\n",
       "         modality: \"numeric\"\n",
       "       }\n",
       "     }\n",
       "     inputs {\n",
       "       key: \"V3\"\n",
       "       value {\n",
       "         input_tensor_name: \"V3:0\"\n",
       "         encoding: IDENTITY\n",
       "         modality: \"numeric\"\n",
       "       }\n",
       "     }\n",
       "     inputs {\n",
       "       key: \"V4\"\n",
       "       value {\n",
       "         input_tensor_name: \"V4:0\"\n",
       "         encoding: IDENTITY\n",
       "         modality: \"numeric\"\n",
       "       }\n",
       "     }\n",
       "     inputs {\n",
       "       key: \"V5\"\n",
       "       value {\n",
       "         input_tensor_name: \"V5:0\"\n",
       "         encoding: IDENTITY\n",
       "         modality: \"numeric\"\n",
       "       }\n",
       "     }\n",
       "     inputs {\n",
       "       key: \"V6\"\n",
       "       value {\n",
       "         input_tensor_name: \"V6:0\"\n",
       "         encoding: IDENTITY\n",
       "         modality: \"numeric\"\n",
       "       }\n",
       "     }\n",
       "     inputs {\n",
       "       key: \"V7\"\n",
       "       value {\n",
       "         input_tensor_name: \"V7:0\"\n",
       "         encoding: IDENTITY\n",
       "         modality: \"numeric\"\n",
       "       }\n",
       "     }\n",
       "     inputs {\n",
       "       key: \"V8\"\n",
       "       value {\n",
       "         input_tensor_name: \"V8:0\"\n",
       "         encoding: IDENTITY\n",
       "         modality: \"numeric\"\n",
       "       }\n",
       "     }\n",
       "     inputs {\n",
       "       key: \"V9\"\n",
       "       value {\n",
       "         input_tensor_name: \"V9:0\"\n",
       "         encoding: IDENTITY\n",
       "         modality: \"numeric\"\n",
       "       }\n",
       "     }\n",
       "     outputs {\n",
       "       key: \"Class_logits\"\n",
       "       value {\n",
       "         output_tensor_name: \"Add:0\"\n",
       "       }\n",
       "     }\n",
       "   }\n",
       " }\n",
       " disable_container_logging: true\n",
       " model_version_id: \"1\"]"
      ]
     },
     "execution_count": 54,
     "metadata": {},
     "output_type": "execute_result"
    }
   ],
   "source": [
    "endpoint.list_models()"
   ]
  },
  {
   "cell_type": "markdown",
   "id": "c562a5d4-bac0-4ebf-816a-e9bb70593caf",
   "metadata": {},
   "source": [
    "### Remove Deployed Models without Traffic"
   ]
  },
  {
   "cell_type": "code",
   "execution_count": 55,
   "id": "fe58b0cb-c738-41bd-a292-522c99706b60",
   "metadata": {},
   "outputs": [
    {
     "name": "stdout",
     "output_type": "stream",
     "text": [
      "Model bqml_bqml_boosted-tree with version 1 has traffic = 100\n",
      "Undeploying Endpoint model: projects/1026793852137/locations/us-central1/endpoints/5386265571916513280\n"
     ]
    },
    {
     "name": "stderr",
     "output_type": "stream",
     "text": [
      "INFO:google.cloud.aiplatform.models:Undeploying Endpoint model: projects/1026793852137/locations/us-central1/endpoints/5386265571916513280\n"
     ]
    },
    {
     "name": "stdout",
     "output_type": "stream",
     "text": [
      "Undeploy Endpoint model backing LRO: projects/1026793852137/locations/us-central1/endpoints/5386265571916513280/operations/8732749263978627072\n"
     ]
    },
    {
     "name": "stderr",
     "output_type": "stream",
     "text": [
      "INFO:google.cloud.aiplatform.models:Undeploy Endpoint model backing LRO: projects/1026793852137/locations/us-central1/endpoints/5386265571916513280/operations/8732749263978627072\n"
     ]
    },
    {
     "name": "stdout",
     "output_type": "stream",
     "text": [
      "Endpoint model undeployed. Resource name: projects/1026793852137/locations/us-central1/endpoints/5386265571916513280\n"
     ]
    },
    {
     "name": "stderr",
     "output_type": "stream",
     "text": [
      "INFO:google.cloud.aiplatform.models:Endpoint model undeployed. Resource name: projects/1026793852137/locations/us-central1/endpoints/5386265571916513280\n"
     ]
    },
    {
     "name": "stdout",
     "output_type": "stream",
     "text": [
      "Undeploying bqml_bqml_logistic-regression with version 1 because it has no traffic.\n"
     ]
    }
   ],
   "source": [
    "for deployed_model in endpoint.list_models():\n",
    "    if deployed_model.id in endpoint.traffic_split:\n",
    "        print(f\"Model {deployed_model.display_name} with version {deployed_model.model_version_id} has traffic = {endpoint.traffic_split[deployed_model.id]}\")\n",
    "    else:\n",
    "        endpoint.undeploy(deployed_model_id = deployed_model.id)\n",
    "        print(f\"Undeploying {deployed_model.display_name} with version {deployed_model.model_version_id} because it has no traffic.\")"
   ]
  },
  {
   "cell_type": "code",
   "execution_count": 56,
   "id": "f2d29b17-140f-4acb-aa10-249f68bc64de",
   "metadata": {},
   "outputs": [
    {
     "data": {
      "text/plain": [
       "{'175871282909282304': 100}"
      ]
     },
     "execution_count": 56,
     "metadata": {},
     "output_type": "execute_result"
    }
   ],
   "source": [
    "endpoint.traffic_split"
   ]
  },
  {
   "cell_type": "code",
   "execution_count": 57,
   "id": "86721169-d2c1-4765-8d65-91bed57c43e0",
   "metadata": {},
   "outputs": [],
   "source": [
    "#endpoint.list_models()"
   ]
  },
  {
   "cell_type": "markdown",
   "id": "ed0dba75-2c9d-4414-abae-bd74f2632e27",
   "metadata": {},
   "source": [
    "---\n",
    "## Predictions With Vertex AI Endpoint"
   ]
  },
  {
   "cell_type": "markdown",
   "id": "c75e8385-30a2-43f7-8224-791cd8f27dd6",
   "metadata": {},
   "source": [
    "### Retrieve Records For Prediction"
   ]
  },
  {
   "cell_type": "code",
   "execution_count": 58,
   "id": "164dd112-dc41-49f2-96a6-59787024ee47",
   "metadata": {},
   "outputs": [],
   "source": [
    "n = 10\n",
    "pred = bq.query(\n",
    "    query = f\"\"\"\n",
    "        SELECT * EXCEPT({VAR_TARGET}, {VAR_OMIT}, splits)\n",
    "        FROM {BQ_PROJECT}.{BQ_DATASET}.{BQ_TABLE}\n",
    "        WHERE splits='TEST'\n",
    "        LIMIT {n}\n",
    "        \"\"\"\n",
    ").to_dataframe()"
   ]
  },
  {
   "cell_type": "markdown",
   "id": "91ab48c1-0baa-41b5-801c-b8355331ac6e",
   "metadata": {},
   "source": [
    "Shape as instances: dictionaries of key:value pairs for only features used in model"
   ]
  },
  {
   "cell_type": "code",
   "execution_count": 59,
   "id": "63378a3d-cb6e-4343-a220-6aff86df3b2b",
   "metadata": {},
   "outputs": [],
   "source": [
    "newobs = pred.to_dict(orient = 'records')"
   ]
  },
  {
   "cell_type": "code",
   "execution_count": 60,
   "id": "6dfdac6d-190b-447b-8f0e-58efa2d9ba6b",
   "metadata": {},
   "outputs": [
    {
     "data": {
      "text/plain": [
       "{'Time': 35337,\n",
       " 'V1': 1.0928441854981998,\n",
       " 'V2': -0.0132303486713432,\n",
       " 'V3': 1.35982868199426,\n",
       " 'V4': 2.7315370965921004,\n",
       " 'V5': -0.707357349219652,\n",
       " 'V6': 0.8738370029866129,\n",
       " 'V7': -0.7961301510622031,\n",
       " 'V8': 0.437706509544851,\n",
       " 'V9': 0.39676985012996396,\n",
       " 'V10': 0.587438102569443,\n",
       " 'V11': -0.14979756231827498,\n",
       " 'V12': 0.29514781622888103,\n",
       " 'V13': -1.30382621882143,\n",
       " 'V14': -0.31782283120234495,\n",
       " 'V15': -2.03673231037199,\n",
       " 'V16': 0.376090905274179,\n",
       " 'V17': -0.30040350116459497,\n",
       " 'V18': 0.433799615590844,\n",
       " 'V19': -0.145082264348681,\n",
       " 'V20': -0.240427548108996,\n",
       " 'V21': 0.0376030733329398,\n",
       " 'V22': 0.38002620963091405,\n",
       " 'V23': -0.16764742731151097,\n",
       " 'V24': 0.0275573495476881,\n",
       " 'V25': 0.59211469704354,\n",
       " 'V26': 0.219695164116351,\n",
       " 'V27': 0.0369695108704894,\n",
       " 'V28': 0.010984441006191,\n",
       " 'Amount': 0.0}"
      ]
     },
     "execution_count": 60,
     "metadata": {},
     "output_type": "execute_result"
    }
   ],
   "source": [
    "newobs[0]"
   ]
  },
  {
   "cell_type": "markdown",
   "id": "90154c52-5fff-47de-86fc-7ee209ab6d5d",
   "metadata": {},
   "source": [
    "### Get Predictions: Python Client"
   ]
  },
  {
   "cell_type": "code",
   "execution_count": 61,
   "id": "ce1e89df-12c4-4cb9-9c85-f048364f7914",
   "metadata": {},
   "outputs": [
    {
     "data": {
      "text/plain": [
       "Prediction(predictions=[{'Class_probs': [0.0770014226436615, 0.9229986071586609], 'Class_values': ['1', '0'], 'predicted_Class': '0'}], deployed_model_id='175871282909282304', model_version_id='1', model_resource_name='projects/1026793852137/locations/us-central1/models/bqml_bqml_boosted-tree', explanations=None)"
      ]
     },
     "execution_count": 61,
     "metadata": {},
     "output_type": "execute_result"
    }
   ],
   "source": [
    "prediction = endpoint.predict(instances = newobs[0:1])\n",
    "prediction"
   ]
  },
  {
   "cell_type": "code",
   "execution_count": 62,
   "id": "3c0427fe-d2cc-4560-bff0-8e6d1d51ab58",
   "metadata": {},
   "outputs": [
    {
     "data": {
      "text/plain": [
       "{'Class_probs': [0.0770014226436615, 0.9229986071586609],\n",
       " 'Class_values': ['1', '0'],\n",
       " 'predicted_Class': '0'}"
      ]
     },
     "execution_count": 62,
     "metadata": {},
     "output_type": "execute_result"
    }
   ],
   "source": [
    "prediction.predictions[0]"
   ]
  },
  {
   "cell_type": "code",
   "execution_count": 63,
   "id": "3dd0d8e2-7866-49c0-bd14-9770eb9518ef",
   "metadata": {},
   "outputs": [
    {
     "data": {
      "text/plain": [
       "0"
      ]
     },
     "execution_count": 63,
     "metadata": {},
     "output_type": "execute_result"
    }
   ],
   "source": [
    "np.argmax(prediction.predictions[0])"
   ]
  },
  {
   "cell_type": "markdown",
   "id": "d5fccd1c-bbc2-4199-8249-dd0126258e79",
   "metadata": {},
   "source": [
    "### Get Predictions: REST\n",
    "Reference:\n",
    "- [POST https://{REGION}-aiplatform.googleapis.com/v1/{endpoint}:predict](https://cloud.google.com/python/docs/reference/aiplatform/latest/google.cloud.aiplatform_v1.services.prediction_service.PredictionServiceClient#google_cloud_aiplatform_v1_services_prediction_service_PredictionServiceClient_predict)"
   ]
  },
  {
   "cell_type": "markdown",
   "id": "8d596de6-90d1-4a0f-8a11-90e9fda2f862",
   "metadata": {},
   "source": [
    "Prepare request:"
   ]
  },
  {
   "cell_type": "code",
   "execution_count": 64,
   "id": "c8c84567-2c5f-47a1-889a-6eb2d364129e",
   "metadata": {},
   "outputs": [],
   "source": [
    "with open(f'{DIR}/request.json','w') as file:\n",
    "    file.write(json.dumps({\"instances\": newobs[0:1]}))"
   ]
  },
  {
   "cell_type": "markdown",
   "id": "092595da-b68b-437a-93e9-8e108ee1b33c",
   "metadata": {},
   "source": [
    "Prediction:"
   ]
  },
  {
   "cell_type": "code",
   "execution_count": 65,
   "id": "ddc883c7-cf67-4ad7-b2bf-21f526844b37",
   "metadata": {},
   "outputs": [
    {
     "data": {
      "text/plain": [
       "['  % Total    % Received % Xferd  Average Speed   Time    Time     Time  Current',\n",
       " '                                 Dload  Upload   Total   Spent    Left  Speed',\n",
       " '',\n",
       " '  0     0    0     0    0     0      0      0 --:--:-- --:--:-- --:--:--     0',\n",
       " '100  1214    0   419  100   795   8380  15900 --:--:-- --:--:-- --:--:-- 24280',\n",
       " '{',\n",
       " '  \"predictions\": [',\n",
       " '    {',\n",
       " '      \"Class_values\": [',\n",
       " '        \"1\",',\n",
       " '        \"0\"',\n",
       " '      ],',\n",
       " '      \"Class_probs\": [',\n",
       " '        0.0770014226436615,',\n",
       " '        0.92299860715866089',\n",
       " '      ],',\n",
       " '      \"predicted_Class\": \"0\"',\n",
       " '    }',\n",
       " '  ],',\n",
       " '  \"deployedModelId\": \"175871282909282304\",',\n",
       " '  \"model\": \"projects/1026793852137/locations/us-central1/models/bqml_bqml_boosted-tree\",',\n",
       " '  \"modelDisplayName\": \"bqml_bqml_boosted-tree\",',\n",
       " '  \"modelVersionId\": \"1\"',\n",
       " '}']"
      ]
     },
     "execution_count": 65,
     "metadata": {},
     "output_type": "execute_result"
    }
   ],
   "source": [
    "prediction = !curl -X POST \\\n",
    "-H \"Authorization: Bearer \"$(gcloud auth application-default print-access-token) \\\n",
    "-H \"Content-Type: application/json; charset=utf-8\" \\\n",
    "-d @{DIR}/request.json \\\n",
    "https://{REGION}-aiplatform.googleapis.com/v1/{endpoint.resource_name}:predict\n",
    "\n",
    "prediction"
   ]
  },
  {
   "cell_type": "markdown",
   "id": "e24b5bac-ef80-461a-a1a9-6ace4d358043",
   "metadata": {},
   "source": [
    "Format raw prediction response using JSON:"
   ]
  },
  {
   "cell_type": "markdown",
   "id": "af3be5c7-6676-4215-a7b4-0b0cfa542b87",
   "metadata": {},
   "source": [
    "### Get Predictions: gcloud (CLI)\n",
    "Reference:\n",
    "- [gcloud ai endpoints predict](https://cloud.google.com/sdk/gcloud/reference/ai/endpoints/predict)"
   ]
  },
  {
   "cell_type": "markdown",
   "id": "6dcd8732-cafb-4a95-90e3-0e916ec33ad3",
   "metadata": {},
   "source": [
    "Prepare request:"
   ]
  },
  {
   "cell_type": "code",
   "execution_count": 66,
   "id": "8a20f17b-9e48-4b9c-8668-b705602b414e",
   "metadata": {},
   "outputs": [],
   "source": [
    "with open(f'{DIR}/request.json','w') as file:\n",
    "    file.write(json.dumps({\"instances\": newobs[0:1]}))"
   ]
  },
  {
   "cell_type": "markdown",
   "id": "4b52d0eb-cd66-46db-a314-3a7a0421d82e",
   "metadata": {},
   "source": [
    "Prediction:"
   ]
  },
  {
   "cell_type": "code",
   "execution_count": 67,
   "id": "321e5f95-a587-4254-ab2d-566b6f261e6f",
   "metadata": {},
   "outputs": [
    {
     "data": {
      "text/plain": [
       "['Using endpoint [https://us-central1-prediction-aiplatform.googleapis.com/]',\n",
       " \"[{'Class_probs': [0.0770014226436615, 0.9229986071586609], 'Class_values': ['1', '0'], 'predicted_Class': '0'}]\"]"
      ]
     },
     "execution_count": 67,
     "metadata": {},
     "output_type": "execute_result"
    }
   ],
   "source": [
    "prediction = !gcloud beta ai endpoints predict {endpoint.name.rsplit('/',1)[-1]} --region={REGION} --json-request={DIR}/request.json\n",
    "prediction"
   ]
  },
  {
   "cell_type": "markdown",
   "id": "b9c68129-b73d-4ec2-b9a7-bfbe55724432",
   "metadata": {},
   "source": [
    "---\n",
    "## Export Model\n",
    "\n",
    "The model created in BigQuery ML can be exported to their native model types save files.  This process saves the model artifacts in GCS where they can be use anywhere they are needed.  For instance, they could be imported into the Vertex AI Model Registry for use in online and batch serving - however, this process is automated with the training options use above."
   ]
  },
  {
   "cell_type": "markdown",
   "id": "e28d53c4-1c66-44ab-9373-153e268925ca",
   "metadata": {},
   "source": [
    "### Export the BigQuery Model\n",
    "\n",
    "\n",
    "The models trained in BQML can be exported from BigQuery to GCS:\n",
    "\n",
    "Reference:\n",
    "- [Exporting Models](https://cloud.google.com/bigquery-ml/docs/exporting-models)"
   ]
  },
  {
   "cell_type": "code",
   "execution_count": 68,
   "id": "16adea4c-460a-4b93-92d6-4f912c5496ad",
   "metadata": {},
   "outputs": [
    {
     "data": {
      "text/plain": [
       "<google.cloud.bigquery.table._EmptyRowIterator at 0x7feefa76c9d0>"
      ]
     },
     "execution_count": 68,
     "metadata": {},
     "output_type": "execute_result"
    }
   ],
   "source": [
    "query = f\"\"\"\n",
    "EXPORT MODEL `{BQ_PROJECT}.{BQ_DATASET}.{BQ_MODEL}`\n",
    "    OPTIONS (URI = 'gs://{BUCKET}/{SERIES}/{EXPERIMENT}/models/{TIMESTAMP}/model')\n",
    "\"\"\"\n",
    "export = bq.query(query = query)\n",
    "export.result()"
   ]
  },
  {
   "cell_type": "code",
   "execution_count": 69,
   "id": "4ad38564-1561-4d28-8feb-c28243e98b94",
   "metadata": {},
   "outputs": [
    {
     "data": {
      "text/plain": [
       "1.973"
      ]
     },
     "execution_count": 69,
     "metadata": {},
     "output_type": "execute_result"
    }
   ],
   "source": [
    "(export.ended - export.started).total_seconds()"
   ]
  },
  {
   "cell_type": "code",
   "execution_count": 70,
   "id": "c40b920e-9520-4135-b611-9de8943fd4a9",
   "metadata": {},
   "outputs": [
    {
     "data": {
      "text/plain": [
       "['gs://statmike-mlops-349915/bqml/boosted-tree/models/20230627122841/model/explanation_metadata.json',\n",
       " 'gs://statmike-mlops-349915/bqml/boosted-tree/models/20230627122841/model/main.py',\n",
       " 'gs://statmike-mlops-349915/bqml/boosted-tree/models/20230627122841/model/model.bst',\n",
       " 'gs://statmike-mlops-349915/bqml/boosted-tree/models/20230627122841/model/xgboost_predictor-0.1.tar.gz',\n",
       " 'gs://statmike-mlops-349915/bqml/boosted-tree/models/20230627122841/model/assets/']"
      ]
     },
     "execution_count": 70,
     "metadata": {},
     "output_type": "execute_result"
    }
   ],
   "source": [
    "listing = !gsutil ls gs://{BUCKET}/{SERIES}/{EXPERIMENT}/models/{TIMESTAMP}/model\n",
    "listing"
   ]
  },
  {
   "cell_type": "code",
   "execution_count": 71,
   "id": "0e166efe-1356-4496-9448-0bec67c8a18e",
   "metadata": {},
   "outputs": [
    {
     "name": "stdout",
     "output_type": "stream",
     "text": [
      "View the export in the console:\n",
      "https://console.cloud.google.com/storage/browser/statmike-mlops-349915/bqml/boosted-tree/models/20230627122841/model?project=statmike-mlops-349915\n"
     ]
    }
   ],
   "source": [
    "print(f\"View the export in the console:\\nhttps://console.cloud.google.com/storage/browser/{BUCKET}/{SERIES}/{EXPERIMENT}/models/{TIMESTAMP}/model?project={PROJECT_ID}\")"
   ]
  },
  {
   "cell_type": "markdown",
   "id": "82484a1e-1b9f-4319-9853-aa87fc62bec4",
   "metadata": {},
   "source": [
    "### Detect The Model Types Framework"
   ]
  },
  {
   "cell_type": "code",
   "execution_count": 72,
   "id": "49d3e533-14f9-4adb-ba67-4c8ce9ffc77c",
   "metadata": {},
   "outputs": [
    {
     "name": "stdout",
     "output_type": "stream",
     "text": [
      "framework = XGBoost\n"
     ]
    }
   ],
   "source": [
    "filetype = {'pb': 'TensorFlow', 'bst': 'XGBoost'}\n",
    "\n",
    "filetypes = [filetype[f.split('.')[-1]] for f in listing if f.split('.')[-1] in ['pb','bst']]\n",
    "if len(list(set(filetypes))) == 1:\n",
    "    framework = filetypes[0]\n",
    "    print(f'framework = {framework}')\n",
    "else:\n",
    "    raise TypeError(f\"Model Type Undeteremined!! Review the contents of of 'listing = {listing}'.\")"
   ]
  },
  {
   "cell_type": "code",
   "execution_count": 73,
   "id": "dd6a3ef4-21ab-4b23-88ce-b784960d9315",
   "metadata": {},
   "outputs": [
    {
     "data": {
      "text/plain": [
       "['XGBoost']"
      ]
     },
     "execution_count": 73,
     "metadata": {},
     "output_type": "execute_result"
    }
   ],
   "source": [
    "list(set(filetypes))"
   ]
  },
  {
   "cell_type": "markdown",
   "id": "5d069bc0-6de0-445f-a4c2-35adf44155ad",
   "metadata": {},
   "source": [
    "---\n",
    "## Remove Resources\n",
    "\n",
    "The following cells have commented out statements that can be used to remove resources created by this notebook.  Other notebooks in the repository will reusue the same endpoint so it may be desired to not remove the endpoint if you plan to run additional notebooks.  Otherwise, please removed the endpoint to prevent ongoing cost from hosting the models on Vertex AI Endpoints.\n",
    "\n",
    "Similarly, if you want to remove the model from BQML to prevent the minimal storage cost it will automatically be removed from Vertex AI Model Registry as well."
   ]
  },
  {
   "cell_type": "code",
   "execution_count": 100,
   "id": "476608a9-6559-4952-81b8-229b53f80598",
   "metadata": {},
   "outputs": [],
   "source": [
    "# delete endpoint, use `force` incase models are deployed or undeploy them first\n",
    "#endpoint.delete(force = True)"
   ]
  },
  {
   "cell_type": "code",
   "execution_count": 99,
   "id": "cd38e082-4376-48f3-a0d2-54f35de71052",
   "metadata": {},
   "outputs": [],
   "source": [
    "# delete models created in BQ with BQML - this also removes them from Vertex AI Model Registry\n",
    "#bq.delete_model(model)"
   ]
  }
 ],
 "metadata": {
  "environment": {
   "kernel": "python3",
   "name": "tf2-gpu.2-11.m104",
   "type": "gcloud",
   "uri": "gcr.io/deeplearning-platform-release/tf2-gpu.2-11:m104"
  },
  "kernelspec": {
   "display_name": "Python 3 (ipykernel)",
   "language": "python",
   "name": "python3"
  },
  "language_info": {
   "codemirror_mode": {
    "name": "ipython",
    "version": 3
   },
   "file_extension": ".py",
   "mimetype": "text/x-python",
   "name": "python",
   "nbconvert_exporter": "python",
   "pygments_lexer": "ipython3",
   "version": "3.7.12"
  }
 },
 "nbformat": 4,
 "nbformat_minor": 5
}
