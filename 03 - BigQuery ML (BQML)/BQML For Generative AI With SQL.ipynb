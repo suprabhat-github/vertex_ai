{
 "cells": [
  {
   "cell_type": "markdown",
   "id": "d8778701",
   "metadata": {},
   "source": [
    "![ga4](https://www.google-analytics.com/collect?v=2&tid=G-6VDTYWLKX6&cid=1&en=page_view&sid=1&dl=statmike%2Fvertex-ai-mlops%2F03+-+BigQuery+ML+%28BQML%29&dt=BQML+For+Generative+AI+With+SQL.ipynb)\n",
    "<!--- header table --->\n",
    "<table align=\"left\">\n",
    "  <td style=\"text-align: center\">\n",
    "    <a href=\"https://colab.research.google.com/github/statmike/vertex-ai-mlops/blob/main/03%20-%20BigQuery%20ML%20%28BQML%29/BQML%20For%20Generative%20AI%20With%20SQL.ipynb\">\n",
    "      <img src=\"https://cloud.google.com/ml-engine/images/colab-logo-32px.png\" alt=\"Google Colaboratory logo\">\n",
    "      <br>Run in<br>Colab\n",
    "    </a>\n",
    "  </td>\n",
    "  <td style=\"text-align: center\">\n",
    "    <a href=\"https://console.cloud.google.com/vertex-ai/colab/import/https%3A//raw.githubusercontent.com/statmike/vertex-ai-mlops/main/03%20-%20BigQuery%20ML%20%28BQML%29/BQML%20For%20Generative%20AI%20With%20SQL.ipynb\">\n",
    "      <img width=\"32px\" src=\"https://lh3.googleusercontent.com/JmcxdQi-qOpctIvWKgPtrzZdJJK-J3sWE1RsfjZNwshCFgE_9fULcNpuXYTilIR2hjwN\" alt=\"Google Cloud Colab Enterprise logo\">\n",
    "      <br>Run in<br>Colab Enterprise\n",
    "    </a>\n",
    "  </td>      \n",
    "  <td style=\"text-align: center\">\n",
    "    <a href=\"https://github.com/statmike/vertex-ai-mlops/blob/main/03%20-%20BigQuery%20ML%20%28BQML%29/BQML%20For%20Generative%20AI%20With%20SQL.ipynb\">\n",
    "      <img src=\"https://cloud.google.com/ml-engine/images/github-logo-32px.png\" alt=\"GitHub logo\">\n",
    "      <br>View on<br>GitHub\n",
    "    </a>\n",
    "  </td>\n",
    "  <td style=\"text-align: center\">\n",
    "    <a href=\"https://console.cloud.google.com/vertex-ai/workbench/deploy-notebook?download_url=https%3A//raw.githubusercontent.com/statmike/vertex-ai-mlops/main/03%20-%20BigQuery%20ML%20%28BQML%29/BQML%20For%20Generative%20AI%20With%20SQL.ipynb\">\n",
    "      <img src=\"https://lh3.googleusercontent.com/UiNooY4LUgW_oTvpsNhPpQzsstV5W8F7rYgxgGBD85cWJoLmrOzhVs_ksK_vgx40SHs7jCqkTkCk=e14-rj-sc0xffffff-h130-w32\" alt=\"Vertex AI logo\">\n",
    "      <br>Open in<br>Vertex AI Workbench\n",
    "    </a>\n",
    "  </td>\n",
    "</table>"
   ]
  },
  {
   "cell_type": "markdown",
   "id": "1e48fc9b-3757-4f2a-b081-f9afe09a5769",
   "metadata": {},
   "source": [
    "# BigQuery ML (BQML) - Generative AI With SQL\n",
    "\n",
    "BigQuery is a the home for data.  It's native language is SQL.  You can also interact with it through a Pandas like API called BigFrames.  One of the best parts about BigQuery is the vast number of functions and capabilities that allow you to do workflows directly in BigQuery without ever exporting the data out.  Like Generative AI!\n",
    "\n",
    "This workflow shows how to reference [Vertex AI hosted foundation models](https://cloud.google.com/vertex-ai/docs/generative-ai/learn/models) through the [ML.GENERATE_TEXT function](https://cloud.google.com/bigquery/docs/generate-text).  It will cover the setup and usage for multiple use cases as examples for getting started in your own environment.  These examples are meant to reflect common scenarios you might face in real-world application like:\n",
    "- in-place generation of text using BigQuery DDL [ALTER TABLE](https://cloud.google.com/bigquery/docs/reference/standard-sql/data-definition-language#alter_table_add_column_statement) and DML [UPDATE](https://cloud.google.com/bigquery/docs/reference/standard-sql/dml-syntax#update_statement) statements\n",
    "- Generating few-shot prompts from samples and applying them to larger tables\n",
    "- Combining text across rows into prompts with `CONCAT`, `STRING_AGG` and `GROUP BY`\n",
    "\n",
    "These examples cover common actual tasks.  Before getting started it may be helpful to review some of the blogs, tutorials, and demonstrations from these links:\n",
    "- [Generate text by using a remote model and the ML.GENERATE_TEXT function](https://cloud.google.com/bigquery/docs/generate-text-tutorial)\n",
    "- [Generate text by using the ML.GENERATE_TEXT function](https://cloud.google.com/bigquery/docs/generate-text)\n",
    "- [Harnessing the power of PaLM in BigQuery](https://cloud.google.com/blog/products/data-analytics/integrating-vertex-ai-foundation-models-in-bigquery)\n",
    "\n",
    "**BigQuery ML (BQML) Overview**\n",
    "\n",
    "[BigQuery ML](https://cloud.google.com/bigquery/docs/bqml-introduction) allows you to use `SQL` to constuct an ML workflow.  This is a great leap in productivity and flexibility when the data source is [BigQuery](https://cloud.google.com/bigquery/docs/introduction) and users are already familiar with `SQL`. Using just `SQL`, [multiple techniques](https://cloud.google.com/bigquery/docs/bqml-introduction#model_selection_guide) can be used for model training and even include [hyperparameter tuning](https://cloud.google.com/bigquery/docs/hp-tuning-overview).  It includes serverless [training, evaluation, and inference](https://cloud.google.com/bigquery/docs/e2e-journey) techniques for supervised, unsupervised, time series methods, even recommendation engines.  [Predictions](https://cloud.google.com/bigquery/docs/inference-overview) can be served directly in BigQuery which also include explainability measures. Predictive models can be [exported to their native framework](https://cloud.google.com/bigquery/docs/reference/standard-sql/bigqueryml-syntax-export-model) for portability, or even directly [registered to Vertex AI model registry](https://cloud.google.com/bigquery/docs/create_vertex) for online predictions on Vertex AI Endpoints.  You can [import models into BigQuery ML](https://cloud.google.com/bigquery/docs/inference-overview#inference_using_imported_models) from many common frameworks, or [connect to remotely hosted models](https://cloud.google.com/bigquery/docs/inference-overview#inference_using_remote_models) on Vertex AI Endpoints. You can even directly use many [pre-trained models](https://cloud.google.com/bigquery/docs/inference-overview#pretrained-models) in Vertex AI Like Cloud Vision API, Cloud Natural Language API, Cloud Translate API, and Generative AI with Vertex AI hosted LLMs.\n",
    "\n",
    "A great starting point for seeing the scope of available methods is the [user journey for models](https://cloud.google.com/bigquery/docs/e2e-journey).  This repository also has a series of notebook based workflows for many BigQuery ML methods that can be reviewed here: [../03 - BigQuery ML (BQML)](../03%20-%20BigQuery%20ML%20(BQML)/readme.md).\n",
    "\n",
    "**BigFrames Overview**\n",
    "\n",
    "A new way to interact with BigQuery and BigQuery ML is [BigQuery DataFrames](https://cloud.google.com/python/docs/reference/bigframes/latest).  A new Pythonic DataFrame with modules for BigQuery (`bigframes.pandas`) that is pandas-compatible and BigQuery ML (`bigframes.ml`) that is scikit-learn like.  This series of notebooks will be expanded to offer workflow examples in the choice of SQL or BigFrames!"
   ]
  },
  {
   "cell_type": "markdown",
   "id": "b6409c02-1fa6-4598-98fa-2e2b56041af6",
   "metadata": {
    "id": "od_UkDpvRmgD",
    "tags": []
   },
   "source": [
    "---\n",
    "## Colab Setup\n",
    "\n",
    "To run this notebook in Colab click [![Open In Colab](https://colab.research.google.com/assets/colab-badge.svg)](https://colab.research.google.com/github/statmike/vertex-ai-mlops/blob/main/03%20-%20BigQuery%20ML%20(BQML)/BQML%20For%20Generative%20AI%20With%20SQL.ipynb) and run the cells in this section.  Otherwise, skip this section.\n",
    "\n",
    "This cell will authenticate to GCP (follow prompts in the popup)."
   ]
  },
  {
   "cell_type": "code",
   "execution_count": 1,
   "id": "51c8ca34-2250-46e4-8c55-f84b5dda520f",
   "metadata": {
    "executionInfo": {
     "elapsed": 195,
     "status": "ok",
     "timestamp": 1683726184843,
     "user": {
      "displayName": "Mike Henderson",
      "userId": "07691629187611687318"
     },
     "user_tz": 240
    },
    "id": "8UO9FnqyKBlF",
    "tags": []
   },
   "outputs": [],
   "source": [
    "PROJECT_ID = 'statmike-mlops-349915' # replace with project ID"
   ]
  },
  {
   "cell_type": "code",
   "execution_count": 2,
   "id": "60ccaa96-11f9-4d60-a81e-a587b4766463",
   "metadata": {
    "colab": {
     "base_uri": "https://localhost:8080/"
    },
    "executionInfo": {
     "elapsed": 68869,
     "status": "ok",
     "timestamp": 1683726253709,
     "user": {
      "displayName": "Mike Henderson",
      "userId": "07691629187611687318"
     },
     "user_tz": 240
    },
    "id": "N98-KK7LRkjm",
    "outputId": "09ec5008-0def-4e1a-c349-c598ee752f78",
    "tags": []
   },
   "outputs": [],
   "source": [
    "try:\n",
    "    import google.colab\n",
    "    from google.colab import auth\n",
    "    auth.authenticate_user()\n",
    "    !gcloud config set project {PROJECT_ID}\n",
    "except Exception:\n",
    "    pass"
   ]
  },
  {
   "cell_type": "markdown",
   "id": "4481268c-0787-4831-8084-08d04e66ba6e",
   "metadata": {},
   "source": [
    "---\n",
    "## Installs and API Enablement\n",
    "\n",
    "The clients packages may need installing in this environment."
   ]
  },
  {
   "cell_type": "markdown",
   "id": "25e2a4b0-2367-45c9-b5d1-d9d3e63762cd",
   "metadata": {},
   "source": [
    "### Installs (If Needed)"
   ]
  },
  {
   "cell_type": "code",
   "execution_count": 3,
   "id": "13b78ea3-98f1-4ab8-b2df-122ac7f54b7a",
   "metadata": {
    "tags": []
   },
   "outputs": [],
   "source": [
    "# tuples of (import name, install name)\n",
    "packages = [\n",
    "    ('google.cloud.bigquery', 'google-cloud-bigquery'),\n",
    "    ('google.cloud.bigquery_connection_v1', 'google-cloud-bigquery-connection')\n",
    "]\n",
    "\n",
    "import importlib\n",
    "install = False\n",
    "for package in packages:\n",
    "    if not importlib.util.find_spec(package[0]):\n",
    "        print(f'installing package {package[1]}')\n",
    "        install = True\n",
    "        !pip install {package[1]} -U -q --user"
   ]
  },
  {
   "cell_type": "markdown",
   "id": "20957c40-b98c-4fcb-900c-5c4a1204a717",
   "metadata": {},
   "source": [
    "### API Enablement"
   ]
  },
  {
   "cell_type": "code",
   "execution_count": 4,
   "id": "a313990a-5063-45c3-bf72-d40bec3d4e2f",
   "metadata": {
    "tags": []
   },
   "outputs": [],
   "source": [
    "!gcloud services enable bigqueryconnection.googleapis.com"
   ]
  },
  {
   "cell_type": "markdown",
   "id": "74aa15d0-9f35-49a7-9a8a-2231f565b436",
   "metadata": {},
   "source": [
    "### Restart Kernel (If Installs Occured)\n",
    "\n",
    "After a kernel restart the code submission can start with the next cell after this one."
   ]
  },
  {
   "cell_type": "code",
   "execution_count": 5,
   "id": "22eb2a14-8841-40e3-9639-586eabe51544",
   "metadata": {
    "tags": []
   },
   "outputs": [],
   "source": [
    "if install:\n",
    "    import IPython\n",
    "    app = IPython.Application.instance()\n",
    "    app.kernel.do_shutdown(True)"
   ]
  },
  {
   "cell_type": "markdown",
   "id": "0759f6e8-e61b-4da9-b557-d226bf7d58a4",
   "metadata": {},
   "source": [
    "---\n",
    "## Setup"
   ]
  },
  {
   "cell_type": "code",
   "execution_count": 6,
   "id": "c9474f8b-6bbd-4a93-b23e-939d8a2c0ced",
   "metadata": {
    "tags": []
   },
   "outputs": [
    {
     "data": {
      "text/plain": [
       "'statmike-mlops-349915'"
      ]
     },
     "execution_count": 6,
     "metadata": {},
     "output_type": "execute_result"
    }
   ],
   "source": [
    "project = !gcloud config get-value project\n",
    "PROJECT_ID = project[0]\n",
    "PROJECT_ID"
   ]
  },
  {
   "cell_type": "code",
   "execution_count": 7,
   "id": "05f7608b-6148-4331-938d-5396c4b0cfa5",
   "metadata": {
    "tags": []
   },
   "outputs": [],
   "source": [
    "REGION = 'us-central1'\n",
    "SERIES = 'bqml'\n",
    "EXPERIMENT = 'genai-sql'"
   ]
  },
  {
   "cell_type": "code",
   "execution_count": 8,
   "id": "da6b3245-fd5d-42f4-8737-7f150bab0a0d",
   "metadata": {
    "tags": []
   },
   "outputs": [],
   "source": [
    "# make this the BQ Project / Dataset / Table prefix to store results\n",
    "BQ_PROJECT = PROJECT_ID\n",
    "BQ_DATASET = SERIES.replace('-', '_')\n",
    "BQ_TABLE = EXPERIMENT\n",
    "BQ_REGION = REGION[0:2] # subset to first two characters for multi-region"
   ]
  },
  {
   "cell_type": "code",
   "execution_count": 9,
   "id": "66cf5bde-9480-4fe5-adc5-9d48d74f0180",
   "metadata": {
    "tags": []
   },
   "outputs": [],
   "source": [
    "from google.cloud import bigquery\n",
    "from google.cloud import bigquery_connection_v1 as bq_connection"
   ]
  },
  {
   "cell_type": "code",
   "execution_count": 10,
   "id": "4f097603-33dc-4078-a308-20101406c002",
   "metadata": {
    "tags": []
   },
   "outputs": [],
   "source": [
    "bq = bigquery.Client(project = PROJECT_ID)"
   ]
  },
  {
   "cell_type": "markdown",
   "id": "4955dfe7-ca14-4b8e-8d2f-e04faf2496fa",
   "metadata": {},
   "source": [
    "---\n",
    "## Create A BigQuery Dataset\n",
    "\n",
    "This workflow will make a copy of a BigQuery public dataset and works with the copy.  It will use the dataset defined by the `BQ_PROJECT` and `BQ_DATASET` parameters defined above.  The following code checks for the existance of the dataset, and if needed creates it:"
   ]
  },
  {
   "cell_type": "code",
   "execution_count": 11,
   "id": "e6c480a2-3aa2-45b1-8427-67382ff6d557",
   "metadata": {
    "tags": []
   },
   "outputs": [
    {
     "name": "stdout",
     "output_type": "stream",
     "text": [
      "Found the BigQuery Dataset:  statmike-mlops-349915:bqml\n"
     ]
    }
   ],
   "source": [
    "try:\n",
    "    ds = bq.get_dataset(f'{BQ_PROJECT}.{BQ_DATASET}')\n",
    "    print('Found the BigQuery Dataset: ', ds.full_dataset_id)\n",
    "except:\n",
    "    ds = bigquery.DatasetReference(BQ_PROJECT, BQ_DATASET)\n",
    "    ds.location = BQ_REGION\n",
    "    ds.labels = {'series': f'{SERIES}'}\n",
    "    ds = bq.create_dataset(dataset = ds, exists_ok = True)\n",
    "    print('Created the BigQuery Dataset: ', ds.full_dataset_id)"
   ]
  },
  {
   "cell_type": "markdown",
   "id": "d68ea35f-9595-400a-8987-46a8960acbe4",
   "metadata": {},
   "source": [
    "---\n",
    "## BigQuery ML: Connect To Vertex AI LLMs with ML.GENERATE_TEXT\n",
    "\n",
    "BigQuery ML can `Create Model`'s that are actually connections to Remote Models. [Reference](https://cloud.google.com/bigquery/docs/reference/standard-sql/bigqueryml-syntax-create-remote-model)\n",
    "\n",
    "Using the `REMOTE_SERVICE_TYPE = \"CLOUD_AI_LARGE_LANGUAGE_MODEL_V1\"` option will link to LLMs in Vertex AI.\n",
    "- [Documentation](https://cloud.google.com/bigquery/docs/inference-overview#generative_ai)\n",
    "- Specifically, it connects to [Vertex AI Foundation Models](https://cloud.google.com/vertex-ai/docs/generative-ai/learn/models#foundation_models):\n",
    "    - [ML.GENERATE_TEXT()](https://cloud.google.com/bigquery/docs/reference/standard-sql/bigqueryml-syntax-generate-text) uses the model to connect to Vertex AI `text-bision`\n",
    "    - and [ML.GENERATE_TEXT_EMBEDDING()](https://cloud.google.com/bigquery/docs/reference/standard-sql/bigqueryml-syntax-generate-text-embedding) uses the model to connect to Vertex AI `textembedding-gecko`\n"
   ]
  },
  {
   "cell_type": "markdown",
   "id": "63a74077-4896-4b36-bb1b-c6ef6e62aabd",
   "metadata": {},
   "source": [
    "### Connection Requirement\n",
    "\n",
    "To make a remote connection using BigQuery ML, BigQuery uses a CLOUD_RESOURCE connection. [Reference](https://cloud.google.com/bigquery/docs/reference/standard-sql/bigqueryml-syntax-create-remote-model#connection)"
   ]
  },
  {
   "cell_type": "markdown",
   "id": "3fef88ad-8854-49b3-a56b-57b8932a6150",
   "metadata": {},
   "source": [
    "Create a new connection with type `CLOUD_RESOURCE`: First, check for existing connection."
   ]
  },
  {
   "cell_type": "code",
   "execution_count": 12,
   "id": "64b58017-f01d-4e67-aac9-bcbd85c50aa8",
   "metadata": {
    "tags": []
   },
   "outputs": [
    {
     "name": "stdout",
     "output_type": "stream",
     "text": [
      "Found existing connection with service account: bqcx-1026793852137-bmph@gcp-sa-bigquery-condel.iam.gserviceaccount.com\n"
     ]
    }
   ],
   "source": [
    "try:\n",
    "    response = bq_connection.ConnectionServiceClient().get_connection(\n",
    "            request = bq_connection.GetConnectionRequest(\n",
    "                name = f\"projects/{BQ_PROJECT}/locations/{BQ_REGION}/connections/{SERIES}_{EXPERIMENT}\"\n",
    "            )\n",
    "    )\n",
    "    print(f'Found existing connection with service account: {response.cloud_resource.service_account_id}')\n",
    "    service_account = response.cloud_resource.service_account_id\n",
    "except Exception:\n",
    "    request = bq_connection.CreateConnectionRequest(\n",
    "        {\n",
    "            \"parent\": f\"projects/{BQ_PROJECT}/locations/{BQ_REGION}\",\n",
    "            \"connection_id\": f\"{SERIES}_{EXPERIMENT}\",\n",
    "            \"connection\": bq_connection.types.Connection(\n",
    "                {\n",
    "                    \"friendly_name\": f\"{SERIES}_{EXPERIMENT}\",\n",
    "                    \"cloud_resource\": bq_connection.CloudResourceProperties({})\n",
    "                }\n",
    "            )\n",
    "        }\n",
    "    )\n",
    "    response = bq_connection.ConnectionServiceClient().create_connection(request)\n",
    "    print(f'Created new connection with service account: {response.cloud_resource.service_account_id}')\n",
    "    service_account = response.cloud_resource.service_account_id"
   ]
  },
  {
   "cell_type": "markdown",
   "id": "681b7c55-f2bc-4766-86fd-ccc718f95879",
   "metadata": {},
   "source": [
    "Assign the service account the Vertex AI User role:"
   ]
  },
  {
   "cell_type": "code",
   "execution_count": 13,
   "id": "05e71e23-94c8-4d5f-b0f0-a8d702733c8b",
   "metadata": {
    "scrolled": true,
    "tags": []
   },
   "outputs": [
    {
     "name": "stdout",
     "output_type": "stream",
     "text": [
      "Updated IAM policy for project [statmike-mlops-349915].\n",
      "bindings:\n",
      "- members:\n",
      "  - serviceAccount:service-1026793852137@gcp-sa-aiplatform-cc.iam.gserviceaccount.com\n",
      "  role: roles/aiplatform.customCodeServiceAgent\n",
      "- members:\n",
      "  - serviceAccount:service-1026793852137@gcp-sa-aiplatform-vm.iam.gserviceaccount.com\n",
      "  role: roles/aiplatform.notebookServiceAgent\n",
      "- members:\n",
      "  - serviceAccount:service-1026793852137@gcp-sa-aiplatform.iam.gserviceaccount.com\n",
      "  role: roles/aiplatform.serviceAgent\n",
      "- members:\n",
      "  - serviceAccount:bqcx-1026793852137-bmph@gcp-sa-bigquery-condel.iam.gserviceaccount.com\n",
      "  - serviceAccount:bqcx-1026793852137-dyw1@gcp-sa-bigquery-condel.iam.gserviceaccount.com\n",
      "  - serviceAccount:bqcx-1026793852137-pdxa@gcp-sa-bigquery-condel.iam.gserviceaccount.com\n",
      "  - serviceAccount:bqcx-1026793852137-te86@gcp-sa-bigquery-condel.iam.gserviceaccount.com\n",
      "  - serviceAccount:bqcx-1026793852137-tqpc@gcp-sa-bigquery-condel.iam.gserviceaccount.com\n",
      "  - serviceAccount:bqcx-1026793852137-zfly@gcp-sa-bigquery-condel.iam.gserviceaccount.com\n",
      "  role: roles/aiplatform.user\n",
      "- members:\n",
      "  - serviceAccount:service-1026793852137@gcp-sa-artifactregistry.iam.gserviceaccount.com\n",
      "  role: roles/artifactregistry.serviceAgent\n",
      "- members:\n",
      "  - serviceAccount:1026793852137-compute@developer.gserviceaccount.com\n",
      "  role: roles/bigquery.admin\n",
      "- members:\n",
      "  - serviceAccount:1026793852137@cloudservices.gserviceaccount.com\n",
      "  role: roles/bigquery.dataOwner\n",
      "- members:\n",
      "  - serviceAccount:1026793852137@cloudbuild.gserviceaccount.com\n",
      "  role: roles/cloudbuild.builds.builder\n",
      "- members:\n",
      "  - serviceAccount:service-1026793852137@gcp-sa-cloudbuild.iam.gserviceaccount.com\n",
      "  role: roles/cloudbuild.serviceAgent\n",
      "- members:\n",
      "  - serviceAccount:service-1026793852137@gcf-admin-robot.iam.gserviceaccount.com\n",
      "  role: roles/cloudfunctions.serviceAgent\n",
      "- members:\n",
      "  - serviceAccount:service-1026793852137@gcp-sa-cloudscheduler.iam.gserviceaccount.com\n",
      "  role: roles/cloudscheduler.serviceAgent\n",
      "- members:\n",
      "  - serviceAccount:service-1026793852137@compute-system.iam.gserviceaccount.com\n",
      "  role: roles/compute.serviceAgent\n",
      "- members:\n",
      "  - serviceAccount:service-1026793852137@containerregistry.iam.gserviceaccount.com\n",
      "  role: roles/containerregistry.ServiceAgent\n",
      "- members:\n",
      "  - serviceAccount:service-1026793852137@dataflow-service-producer-prod.iam.gserviceaccount.com\n",
      "  role: roles/dataflow.serviceAgent\n",
      "- members:\n",
      "  - serviceAccount:service-1026793852137@gcp-sa-dataform.iam.gserviceaccount.com\n",
      "  role: roles/dataform.serviceAgent\n",
      "- members:\n",
      "  - serviceAccount:service-1026793852137@gcp-sa-discoveryengine.iam.gserviceaccount.com\n",
      "  role: roles/discoveryengine.serviceAgent\n",
      "- members:\n",
      "  - serviceAccount:service-1026793852137@dlp-api.iam.gserviceaccount.com\n",
      "  role: roles/dlp.serviceAgent\n",
      "- members:\n",
      "  - serviceAccount:bqcx-1026793852137-te86@gcp-sa-bigquery-condel.iam.gserviceaccount.com\n",
      "  role: roles/documentai.apiUser\n",
      "- members:\n",
      "  - serviceAccount:bqcx-1026793852137-te86@gcp-sa-bigquery-condel.iam.gserviceaccount.com\n",
      "  role: roles/documentai.viewer\n",
      "- members:\n",
      "  - serviceAccount:service-1026793852137@gcp-sa-prod-dai-core.iam.gserviceaccount.com\n",
      "  role: roles/documentaicore.serviceAgent\n",
      "- members:\n",
      "  - serviceAccount:1026793852137@cloudservices.gserviceaccount.com\n",
      "  role: roles/editor\n",
      "- members:\n",
      "  - serviceAccount:service-1026793852137@gcp-sa-networkmanagement.iam.gserviceaccount.com\n",
      "  role: roles/networkmanagement.serviceAgent\n",
      "- members:\n",
      "  - serviceAccount:service-1026793852137@gcp-sa-notebooks.iam.gserviceaccount.com\n",
      "  role: roles/notebooks.serviceAgent\n",
      "- members:\n",
      "  - serviceAccount:1026793852137-compute@developer.gserviceaccount.com\n",
      "  - serviceAccount:1026793852137@cloudservices.gserviceaccount.com\n",
      "  - user:admin@statmike.altostrat.com\n",
      "  role: roles/owner\n",
      "- members:\n",
      "  - serviceAccount:service-1026793852137@gcp-sa-pubsub.iam.gserviceaccount.com\n",
      "  role: roles/pubsub.serviceAgent\n",
      "- members:\n",
      "  - serviceAccount:1026793852137-compute@developer.gserviceaccount.com\n",
      "  role: roles/run.admin\n",
      "- members:\n",
      "  - serviceAccount:service-1026793852137@serverless-robot-prod.iam.gserviceaccount.com\n",
      "  role: roles/run.serviceAgent\n",
      "- members:\n",
      "  - serviceAccount:service-1026793852137@service-networking.iam.gserviceaccount.com\n",
      "  role: roles/servicenetworking.serviceAgent\n",
      "- members:\n",
      "  - serviceAccount:service-1026793852137@gcp-sa-speech.iam.gserviceaccount.com\n",
      "  role: roles/speech.serviceAgent\n",
      "- members:\n",
      "  - serviceAccount:1026793852137-compute@developer.gserviceaccount.com\n",
      "  role: roles/storage.objectAdmin\n",
      "- members:\n",
      "  - serviceAccount:bqcx-1026793852137-te86@gcp-sa-bigquery-condel.iam.gserviceaccount.com\n",
      "  role: roles/storage.objectViewer\n",
      "- members:\n",
      "  - user:showvik@statmike.altostrat.com\n",
      "  role: roles/viewer\n",
      "- members:\n",
      "  - serviceAccount:service-1026793852137@gcp-sa-workstations.iam.gserviceaccount.com\n",
      "  role: roles/workstations.serviceAgent\n",
      "etag: BwYLZW5xjOs=\n",
      "version: 1\n"
     ]
    }
   ],
   "source": [
    "!gcloud projects add-iam-policy-binding {BQ_PROJECT} --member=serviceAccount:{service_account} --role=roles/aiplatform.user"
   ]
  },
  {
   "cell_type": "markdown",
   "id": "40fbaf8a-5581-4851-bfae-4ca0c0563c24",
   "metadata": {},
   "source": [
    "### Create The Remote Model In BigQuery"
   ]
  },
  {
   "cell_type": "code",
   "execution_count": 14,
   "id": "3696ef39-69f6-4f36-9a50-898f61951091",
   "metadata": {
    "tags": []
   },
   "outputs": [
    {
     "data": {
      "text/plain": [
       "'DONE'"
      ]
     },
     "execution_count": 14,
     "metadata": {},
     "output_type": "execute_result"
    }
   ],
   "source": [
    "# Create Remote Model In BigQuery\n",
    "query = f\"\"\"\n",
    "CREATE OR REPLACE MODEL `{BQ_PROJECT}.{BQ_DATASET}.{BQ_TABLE}_MODEL`\n",
    "    REMOTE WITH CONNECTION `{BQ_PROJECT}.{BQ_REGION}.{SERIES}_{EXPERIMENT}`\n",
    "    OPTIONS(ENDPOINT = 'text-bison@001')\n",
    "\"\"\"\n",
    "job = bq.query(query = query)\n",
    "job.result()\n",
    "job.state"
   ]
  },
  {
   "cell_type": "markdown",
   "id": "f4233752-a546-47d2-9e1c-7ae673ff86d7",
   "metadata": {},
   "source": [
    "---\n",
    "## Generative AI With BQML: Simple Query\n",
    "\n",
    "How?  Just use the [ML.GENERATE_TEXT](https://cloud.google.com/bigquery/docs/reference/standard-sql/bigqueryml-syntax-generate-text) function!"
   ]
  },
  {
   "cell_type": "code",
   "execution_count": 15,
   "id": "69149d02-df9d-49a1-8933-3299d9fff695",
   "metadata": {
    "tags": []
   },
   "outputs": [
    {
     "data": {
      "text/html": [
       "<div>\n",
       "<style scoped>\n",
       "    .dataframe tbody tr th:only-of-type {\n",
       "        vertical-align: middle;\n",
       "    }\n",
       "\n",
       "    .dataframe tbody tr th {\n",
       "        vertical-align: top;\n",
       "    }\n",
       "\n",
       "    .dataframe thead th {\n",
       "        text-align: right;\n",
       "    }\n",
       "</style>\n",
       "<table border=\"1\" class=\"dataframe\">\n",
       "  <thead>\n",
       "    <tr style=\"text-align: right;\">\n",
       "      <th></th>\n",
       "      <th>ml_generate_text_llm_result</th>\n",
       "      <th>ml_generate_text_rai_result</th>\n",
       "      <th>ml_generate_text_status</th>\n",
       "      <th>prompt</th>\n",
       "    </tr>\n",
       "  </thead>\n",
       "  <tbody>\n",
       "    <tr>\n",
       "      <th>0</th>\n",
       "      <td>BigQuery ML is a machine learning service that...</td>\n",
       "      <td>{\"blocked\":false,\"categories\":[\"Finance\",\"Insu...</td>\n",
       "      <td></td>\n",
       "      <td>What is BigQuery ML?</td>\n",
       "    </tr>\n",
       "  </tbody>\n",
       "</table>\n",
       "</div>"
      ],
      "text/plain": [
       "                         ml_generate_text_llm_result  \\\n",
       "0  BigQuery ML is a machine learning service that...   \n",
       "\n",
       "                         ml_generate_text_rai_result ml_generate_text_status  \\\n",
       "0  {\"blocked\":false,\"categories\":[\"Finance\",\"Insu...                           \n",
       "\n",
       "                 prompt  \n",
       "0  What is BigQuery ML?  "
      ]
     },
     "execution_count": 15,
     "metadata": {},
     "output_type": "execute_result"
    }
   ],
   "source": [
    "query = f'''\n",
    "SELECT *\n",
    "FROM ML.GENERATE_TEXT(\n",
    "    MODEL `{BQ_PROJECT}.{BQ_DATASET}.{BQ_TABLE}_MODEL`,\n",
    "    (\n",
    "        SELECT \"What is BigQuery ML?\" AS prompt\n",
    "    ),\n",
    "    STRUCT(500 AS max_output_tokens, TRUE AS flatten_json_output)\n",
    ")\n",
    "\n",
    "'''\n",
    "results = bq.query(query = query).to_dataframe()\n",
    "results"
   ]
  },
  {
   "cell_type": "code",
   "execution_count": 16,
   "id": "060f139e-908f-4b8f-b6cc-f6348006f48a",
   "metadata": {
    "tags": []
   },
   "outputs": [
    {
     "name": "stdout",
     "output_type": "stream",
     "text": [
      "What is BigQuery ML?\n"
     ]
    }
   ],
   "source": [
    "print(results['prompt'].iloc[0])"
   ]
  },
  {
   "cell_type": "code",
   "execution_count": 17,
   "id": "9d1b4729-8788-4896-9120-f52e503f102c",
   "metadata": {
    "tags": []
   },
   "outputs": [
    {
     "name": "stdout",
     "output_type": "stream",
     "text": [
      "BigQuery ML is a machine learning service that allows you to build and deploy machine learning models on BigQuery data. It provides a variety of machine learning algorithms, including linear regression, logistic regression, decision trees, and random forests. You can use BigQuery ML to build models for a variety of tasks, such as predicting customer churn, classifying customer emails, and detecting fraud.\n",
      "\n",
      "To get started with BigQuery ML, you first need to create a BigQuery dataset. Then, you can use the BigQuery ML API to load your data into the dataset. Once your data is loaded, you can use the BigQuery ML UI to build and deploy your models.\n",
      "\n",
      "The BigQuery ML UI provides a variety of tools to help you build your models. You can use the UI to explore your data, select the right machine learning algorithm, and tune the hyperparameters of your model. Once you have built your model, you can deploy it to BigQuery to make predictions on new data.\n",
      "\n",
      "BigQuery ML is a powerful tool that can help you to gain insights from your BigQuery data. It is a relatively easy-to-use service that can be used to build and deploy machine learning models for a variety of tasks.\n"
     ]
    }
   ],
   "source": [
    "print(results['ml_generate_text_llm_result'].iloc[0])"
   ]
  },
  {
   "cell_type": "markdown",
   "id": "3bfacd80-aef8-453c-8e47-05b9d304dedd",
   "metadata": {},
   "source": [
    "---\n",
    "## Generative AI With BQML:  Generate Text For Every Row\n",
    "\n",
    "Since ML.GENERATE_TEXT is a SQL function in BigQuery it can be applied to every value and return results for each row.\n",
    "\n",
    "The BigQuery Public Dataset Table:  `bigquery-public-data.bbc_news.fulltext`\n",
    "- has full text of articles from BBC news\n",
    "\n",
    "This Workflow:\n",
    "- reviews the data\n",
    "- pulls sample articles from each `category`\n",
    "- Generates a new title for each article in the sample"
   ]
  },
  {
   "cell_type": "markdown",
   "id": "95b54cbd-5fd8-42e7-bdaa-adc8ffc73893",
   "metadata": {},
   "source": [
    "### Review The Data"
   ]
  },
  {
   "cell_type": "code",
   "execution_count": 18,
   "id": "689fef22-4b9e-4423-9bb9-8aedab341427",
   "metadata": {
    "tags": []
   },
   "outputs": [
    {
     "data": {
      "text/html": [
       "<div>\n",
       "<style scoped>\n",
       "    .dataframe tbody tr th:only-of-type {\n",
       "        vertical-align: middle;\n",
       "    }\n",
       "\n",
       "    .dataframe tbody tr th {\n",
       "        vertical-align: top;\n",
       "    }\n",
       "\n",
       "    .dataframe thead th {\n",
       "        text-align: right;\n",
       "    }\n",
       "</style>\n",
       "<table border=\"1\" class=\"dataframe\">\n",
       "  <thead>\n",
       "    <tr style=\"text-align: right;\">\n",
       "      <th></th>\n",
       "      <th>body</th>\n",
       "      <th>title</th>\n",
       "      <th>filename</th>\n",
       "      <th>category</th>\n",
       "    </tr>\n",
       "  </thead>\n",
       "  <tbody>\n",
       "    <tr>\n",
       "      <th>0</th>\n",
       "      <td>The global web blog community is being called ...</td>\n",
       "      <td>Global blogger action day called</td>\n",
       "      <td>bbc/tech/016.txt</td>\n",
       "      <td>tech</td>\n",
       "    </tr>\n",
       "  </tbody>\n",
       "</table>\n",
       "</div>"
      ],
      "text/plain": [
       "                                                body  \\\n",
       "0  The global web blog community is being called ...   \n",
       "\n",
       "                              title          filename category  \n",
       "0  Global blogger action day called  bbc/tech/016.txt     tech  "
      ]
     },
     "execution_count": 18,
     "metadata": {},
     "output_type": "execute_result"
    }
   ],
   "source": [
    "query = f'''\n",
    "SELECT *\n",
    "FROM `bigquery-public-data.bbc_news.fulltext`\n",
    "LIMIT 1\n",
    "'''\n",
    "results = bq.query(query = query).to_dataframe()\n",
    "results"
   ]
  },
  {
   "cell_type": "code",
   "execution_count": 19,
   "id": "171b345b-ad33-4971-b567-7025c1cf9c49",
   "metadata": {
    "tags": []
   },
   "outputs": [
    {
     "name": "stdout",
     "output_type": "stream",
     "text": [
      "body:\n",
      " The global web blog community is being called into action to lend support to two imprisoned Iranian bloggers.\n",
      "\n",
      "The month-old Committee to Protect Bloggers' is asking those with blogs to dedicate their sites on 22 February to the \"Free Mojtaba and Arash Day\". Arash Sigarchi and Mojtaba Saminejad are both in prison in Iran. Blogs are free sites through which people publish thoughts and opinions. Iranian authorities have been clamping down on prominent sites for some time. \"I hope this day will focus people,\" Curt Hopkins, director of the Committee, told the BBC News website.\n",
      "\n",
      "The group has a list of actions which it says bloggers can take, including writing to local Iranian embassies. The Committee has deemed Tuesday \"Free Mojtaba and Arash Day\" as part of its first campaign. It is calling on the blogsphere - the name for the worldwide community of bloggers - to do what it can to help raise awareness of the plight of Mojtaba and Arash as well as other \"cyber-dissidents\". \"If you have a blog, the least you could do is put nothing on that blog except 'Free Mojtaba and Arash Day',\" said Mr Hopkins. \"That would mean you could see that phrase 7.1 million times. That alone will shine some light on the situation. \"If you don't have one, find one dedicated to that - it takes about 30 seconds.\" Technorati, a blog search engine, tracks about six million blogs and says that more than 12,000 are added daily. A blog is created every 5.8 seconds, according to a US research think-tank.\n",
      "\n",
      "The Committee to Protect Bloggers was started by US blogger Curt Hopkins and counts fired flight attendant blogger Ellen Simonetti as a deputy director. She has since started the International Bloggers' Bill of Rights, a global petition to protect bloggers at work. Although not the only website committed to human rights issues by any means, it aims to be the hub or organisation, information and support for bloggers in particular and their rights to freedom of speech.\n",
      "\n",
      "The Committee, although only a month old, aims to be the focal point for blogger action on similar issues in the future, and will operate as a non-for-profit organisation. \"Blogging is in this weird no man's land. People think of it as being one thing or another depending on their point of view,\" said Mr Hopkins. \"Some think of themselves as pundits, kind of like journalists, and some like me have a private blog which is just a publishing platform. \"But they do not have a constituency and are out there in the cold.\"\n",
      "\n",
      "It is not just human rights issues in countries which have a track record of restricting what is published in the media that is of concern to bloggers. The question of bloggers and what rights they have to say what they want on their sites is a thorny one and has received much press attention recently. High profile cases in which employees have been sacked for what they have said on their personal, and often anonymous blogs, have highlighted the muddy situation that the blogsphere is currently in.\n",
      "\n",
      "\"This is a big messy argument,\" explained Mr Hopkins. He added: \"It is just such a new way of doing business, there will be clamp downs.\" But the way these issues get tested is through the courts which, said Mr Hopkins, \"is part of the whole messy conversation.\" \"If you haven't already got bloggers in your company, you will have them tomorrow - and if you don't have a blogger policy now you had better start looking at having one. Mr Hopkins said that the blogsphere - which is doubling every five months - was powerful because it takes so little time and expertise to create a blog. \"Everyone does this - mums, radicals, conservatives,\" he said. Many companies offer easy-to-use services to create a blog and publish it in minutes to a global community. \"That is the essential difference. What I call 'templating software' gives every single person on Earth the chance to have one. \"You don't even have to have your own computer.\"\n",
      "\n",
      "title:\n",
      " Global blogger action day called\n",
      "filename:\n",
      " bbc/tech/016.txt\n",
      "category:\n",
      " tech\n"
     ]
    }
   ],
   "source": [
    "for col in results.columns:\n",
    "    print(f'{col}:\\n', results[col].iloc[0])"
   ]
  },
  {
   "cell_type": "markdown",
   "id": "1bbb27b1-2f87-4bb6-8038-605e03b58f8f",
   "metadata": {},
   "source": [
    "### Retrieve A Sample Including All Categories\n",
    "\n",
    "Get up to 5 examples from each `category`."
   ]
  },
  {
   "cell_type": "code",
   "execution_count": 20,
   "id": "74a09b69-6a15-4844-a86e-c284763b9d21",
   "metadata": {
    "tags": []
   },
   "outputs": [],
   "source": [
    "query = f'''\n",
    "CREATE OR REPLACE TABLE `{BQ_PROJECT}.{BQ_DATASET}.{BQ_TABLE}_sample` AS\n",
    "WITH\n",
    "    sample AS (\n",
    "        SELECT *,\n",
    "            ROW_NUMBER() OVER (PARTITION BY category ORDER BY filename) AS sequence\n",
    "        FROM `bigquery-public-data.bbc_news.fulltext`\n",
    "    )\n",
    "SELECT * EXCEPT(sequence)\n",
    "FROM sample\n",
    "WHERE sequence <= 5\n",
    "ORDER BY category;\n",
    "\n",
    "SELECT *\n",
    "FROM `{BQ_PROJECT}.{BQ_DATASET}.{BQ_TABLE}_sample`;\n",
    "'''\n",
    "sample = bq.query(query = query).to_dataframe()"
   ]
  },
  {
   "cell_type": "code",
   "execution_count": 21,
   "id": "15b7fa9d-0566-4983-bb2d-379db566274d",
   "metadata": {
    "tags": []
   },
   "outputs": [
    {
     "data": {
      "text/plain": [
       "category\n",
       "business         5\n",
       "entertainment    5\n",
       "politics         5\n",
       "sport            5\n",
       "tech             5\n",
       "Name: category, dtype: int64"
      ]
     },
     "execution_count": 21,
     "metadata": {},
     "output_type": "execute_result"
    }
   ],
   "source": [
    "sample.groupby(['category'])['category'].count()"
   ]
  },
  {
   "cell_type": "markdown",
   "id": "dd3178f6-a5b1-4b2d-a4c2-ce432f70e78e",
   "metadata": {},
   "source": [
    "### Generate A New Title For Each Article - In Place\n",
    "\n",
    "Add the column `new_title` to the table and then generate a new title that is used to update `new_title`.  \n",
    "\n",
    "For this, combine the ML.GENERATE_TEXT function with BigQuery DDL [ALTER TABLE](https://cloud.google.com/bigquery/docs/reference/standard-sql/data-definition-language#alter_table_add_column_statement) and DML [UPDATE](https://cloud.google.com/bigquery/docs/reference/standard-sql/dml-syntax#update_statement) statements."
   ]
  },
  {
   "cell_type": "code",
   "execution_count": 22,
   "id": "b8fceead-c612-491e-b249-72d9a98fb328",
   "metadata": {
    "tags": []
   },
   "outputs": [],
   "source": [
    "query = f'''\n",
    "ALTER TABLE `{BQ_PROJECT}.{BQ_DATASET}.{BQ_TABLE}_sample`\n",
    "ADD COLUMN IF NOT EXISTS new_title STRING;\n",
    "\n",
    "UPDATE `{BQ_PROJECT}.{BQ_DATASET}.{BQ_TABLE}_sample` as target\n",
    "SET new_title = (\n",
    "    SELECT\n",
    "        IF(\n",
    "            ml_generate_text_llm_result != \"\",\n",
    "            ml_generate_text_llm_result,\n",
    "            CONCAT(\"blocked:\", JSON_VALUE(ml_generate_text_rai_result, '$.blocked'))\n",
    "        ) as new_title\n",
    "    FROM ML.GENERATE_TEXT(\n",
    "        MODEL`{BQ_PROJECT}.{BQ_DATASET}.{BQ_TABLE}_MODEL`,\n",
    "        (\n",
    "            SELECT CONCAT(\n",
    "                    \"\"\"The current title of an article is: \"\"\", source.title,\n",
    "                    \"\"\"\\n\\nThe body of the article is: \"\"\", source.body,\n",
    "                    \"\"\"\\n\\nThe category of the article has name: \"\"\", source.category,\n",
    "                    \"\"\"\\n\\nWhat is a better title for this article? The answer should be in english only.\"\"\"\n",
    "                ) as prompt\n",
    "            FROM `{BQ_PROJECT}.{BQ_DATASET}.{BQ_TABLE}_sample` AS source\n",
    "            WHERE target.filename = source.filename\n",
    "        ),\n",
    "        STRUCT(200 AS max_output_tokens, TRUE AS flatten_json_output)\n",
    "    )\n",
    ")\n",
    "WHERE true;\n",
    "\n",
    "SELECT *\n",
    "FROM `{BQ_PROJECT}.{BQ_DATASET}.{BQ_TABLE}_sample`;\n",
    "'''\n",
    "sample = bq.query(query = query).to_dataframe()"
   ]
  },
  {
   "cell_type": "code",
   "execution_count": 23,
   "id": "88551e72-9511-4272-b456-ac9a24cdd990",
   "metadata": {
    "tags": []
   },
   "outputs": [
    {
     "name": "stdout",
     "output_type": "stream",
     "text": [
      "['Microsoft seeking spyware trojan', 'Microsoft investigating spyware trojan']\n",
      "['Technology gets the creative bug', 'The article is about how technology and art are coming together. The title \"Technology and art: a marriage of convenience?\" is a good title because it captures the essence of the article. It is also a question, which is likely to make people want to read the article to find out the answer.']\n",
      "['Digital guru floats sub-$100 PC', 'The article is about a laptop PC that will go on sale for less than $100. The title should be something like \"A $100 laptop PC\".']\n",
      "['Ink helps drive democracy in Asia', 'The article is about the use of invisible ink in elections in the Kyrgyz Republic. The title \"Ink helps drive democracy in Asia\" is too broad and does not accurately reflect the content of the article. A better title would be \"Invisible ink used in Kyrgyz elections to prevent multiple voting\".']\n",
      "['China net cafe culture crackdown', 'China closes 12,575 net cafes']\n",
      "['Dibaba breaks 5,000m world record', 'Dibaba breaks 5,000m world record in Boston']\n",
      "['Claxton hunting first major medal', 'Claxton eyes first major medal']\n",
      "['Greene sets sights on world title', \"Maurice Greene: I'm going to win the worlds\"]\n",
      "[\"O'Sullivan could run in Worlds\", \"O'Sullivan to run in Worlds\"]\n",
      "['IAAF launches fight against drugs', 'IAAF launches fight against drugs in sport']\n",
      "[\"High fuel prices hit BA's profits\", 'British Airways profits fall 40%']\n",
      "['Dollar gains on Greenspan speech', 'Dollar hits 3-month high against euro']\n",
      "['Pernod takeover talk lifts Domecq', 'Pernod Ricard in talks to buy Allied Domecq']\n",
      "['Ad sales boost Time Warner profit', 'Time Warner posts 76% rise in quarterly profit']\n",
      "['Yukos unit buyer faces loan claim', 'Yukos to sue Rosneft over $900m loan']\n",
      "[\"Hewitt decries 'career sexism'\", 'The article is about the Trade and Industry Secretary\\'s plans to extend paid maternity leave beyond six months and her new drive to help women who want to work in male dominated sectors. The article also discusses the gender pay gap and the Equal Opportunities Commission\\'s research on the subject. A better title for the article would be \"Patricia Hewitt: Women need to be paid more\".']\n",
      "['Brown ally rejects Budget spree', 'The article is about the UK\\'s Chancellor of the Exchequer, Gordon Brown, and his plans for the upcoming budget. The title \"Brown ally rejects Budget spree\" is not a good title because it is too vague and does not give the reader any information about what the article is about. A better title would be \"Brown to stick to fiscal rules in Budget\". This title is more specific and gives the reader a better idea of what the article is about.']\n",
      "['Labour chooses Manchester', 'Labour Party to hold 2006 autumn conference in Manchester']\n",
      "['Labour plans maternity pay rise', 'The article is about the Labour Party\\'s plans to increase maternity pay. The title \"Labour plans maternity pay rise\" is a good title for the article because it accurately reflects the content of the article.']\n",
      "['Watchdog probes e-mail deletions', 'The article is about the government\\'s new rules on e-mail retention. The title \"Watchdog probes e-mail deletions\" is not a good title because it does not accurately reflect the content of the article. A better title would be \"Government orders staff to delete e-mails\".']\n",
      "['Poppins musical gets flying start', 'Mary Poppins musical gets flying start']\n",
      "['Gallery unveils interactive tree', 'Tate Britain unveils interactive Christmas tree']\n",
      "['Musical treatment for Capra film', \"It's a Wonderful Life musical in the works\"]\n",
      "['Jarre joins fairytale celebration', 'Hans Christian Andersen bicentennial celebrations begin']\n",
      "['Richard and Judy choose top books', 'Richard and Judy book award 2005']\n"
     ]
    }
   ],
   "source": [
    "for s in sample[['title', 'new_title']].values.tolist():\n",
    "    print(s)"
   ]
  },
  {
   "cell_type": "markdown",
   "id": "002b7176-6b52-47a6-bfbc-6bb01f3b78a1",
   "metadata": {},
   "source": [
    "---\n",
    "## Generative AI With BQML: Categorize Articles Using Few-Shot Prompting\n",
    "\n",
    "In prompt design it is possible to include example of the task you want the LLM to perform.  This is called few-shot prompting.\n",
    "\n",
    "For this tasks, we will use the samples above to create few-shot prompts for categorizing articles.  Then, we will apply the prompt to a larger sample and see how accurate it is at picking the same category as is already defined from the articles.\n",
    "\n",
    "The workflow for this example:\n",
    "- Attempts to categorize articles into known categories using few-shot prompting with titles\n",
    "- Evaluates the accuracy of the categorization\n",
    "\n",
    "There are many approaches to classification with LLM's that could be tried here:\n",
    "- full text of articles in single or few-shot prompt\n",
    "- partial text, maybe first paragraph, of article in single or few-shot prompt\n",
    "- Tune an LLM with Vertex AI [supervised tuning](https://cloud.google.com/vertex-ai/docs/generative-ai/models/tune-models#supervised-tuning)"
   ]
  },
  {
   "cell_type": "markdown",
   "id": "969e143b-207a-4b9c-8486-6c74c037fc8b",
   "metadata": {},
   "source": [
    "### Construct Few-Shot Prompt From Sample\n",
    "\n",
    "Use [CONCAT](https://cloud.google.com/bigquery/docs/reference/standard-sql/string_functions#concat), [STRING_AGG](https://cloud.google.com/bigquery/docs/reference/standard-sql/aggregate_functions#string_agg) and [DISTINCT](https://cloud.google.com/bigquery/docs/reference/standard-sql/query-syntax) to construct a few-shot prompt for classification by using the sample table."
   ]
  },
  {
   "cell_type": "code",
   "execution_count": 26,
   "id": "469032e2-eb2c-485d-8294-79905f70261e",
   "metadata": {
    "tags": []
   },
   "outputs": [
    {
     "name": "stdout",
     "output_type": "stream",
     "text": [
      "Define a category for each text from the list of options.\n",
      "Options:\n",
      "- tech\n",
      "- sport\n",
      "- business\n",
      "- politics\n",
      "- entertainment\n",
      "\n",
      "Text: Digital guru floats sub-$100 PC\n",
      "Category: tech\n",
      "\n",
      "Text: Ink helps drive democracy in Asia\n",
      "Category: tech\n",
      "\n",
      "Text: China net cafe culture crackdown\n",
      "Category: tech\n",
      "\n",
      "Text: Microsoft seeking spyware trojan\n",
      "Category: tech\n",
      "\n",
      "Text: Technology gets the creative bug\n",
      "Category: tech\n",
      "\n",
      "Text: O'Sullivan could run in Worlds\n",
      "Category: sport\n",
      "\n",
      "Text: Claxton hunting first major medal\n",
      "Category: sport\n",
      "\n",
      "Text: IAAF launches fight against drugs\n",
      "Category: sport\n",
      "\n",
      "Text: Dibaba breaks 5,000m world record\n",
      "Category: sport\n",
      "\n",
      "Text: Greene sets sights on world title\n",
      "Category: sport\n",
      "\n",
      "Text: Dollar gains on Greenspan speech\n",
      "Category: business\n",
      "\n",
      "Text: Pernod takeover talk lifts Domecq\n",
      "Category: business\n",
      "\n",
      "Text: Yukos unit buyer faces loan claim\n",
      "Category: business\n",
      "\n",
      "Text: Ad sales boost Time Warner profit\n",
      "Category: business\n",
      "\n",
      "Text: High fuel prices hit BA's profits\n",
      "Category: business\n",
      "\n",
      "Text: Hewitt decries 'career sexism'\n",
      "Category: politics\n",
      "\n",
      "Text: Watchdog probes e-mail deletions\n",
      "Category: politics\n",
      "\n",
      "Text: Labour plans maternity pay rise\n",
      "Category: politics\n",
      "\n",
      "Text: Brown ally rejects Budget spree\n",
      "Category: politics\n",
      "\n",
      "Text: Labour chooses Manchester\n",
      "Category: politics\n",
      "\n",
      "Text: Poppins musical gets flying start\n",
      "Category: entertainment\n",
      "\n",
      "Text: Gallery unveils interactive tree\n",
      "Category: entertainment\n",
      "\n",
      "Text: Richard and Judy choose top books\n",
      "Category: entertainment\n",
      "\n",
      "Text: Musical treatment for Capra film\n",
      "Category: entertainment\n",
      "\n",
      "Text: Jarre joins fairytale celebration\n",
      "Category: entertainment\n"
     ]
    }
   ],
   "source": [
    "prompt_query = f'''\n",
    "SELECT\n",
    "    CONCAT(\n",
    "        \"Define a category for each text from the list of options.\",\n",
    "        \"\"\"\\nOptions:\\n- \"\"\",\n",
    "        STRING_AGG(DISTINCT category, \"\"\"\\n- \"\"\"),\n",
    "        \"\"\"\\n\\n\"\"\",\n",
    "        STRING_AGG(CONCAT(\"Text: \", title, \"\"\"\\nCategory: \"\"\", category), \"\"\"\\n\\n\"\"\")\n",
    "    ) as prompt,\n",
    "FROM `{BQ_PROJECT}.{BQ_DATASET}.{BQ_TABLE}_sample`\n",
    "'''\n",
    "prompt = bq.query(query = prompt_query).to_dataframe()\n",
    "print(prompt['prompt'].iloc[0])"
   ]
  },
  {
   "cell_type": "markdown",
   "id": "2fcbeff2-7b0e-4f3e-a908-fb8aca084073",
   "metadata": {},
   "source": [
    "### Use The Few-Shot Prompt and Generate Classifications For All Rows\n",
    "\n",
    "Use the prompt created above to generate a classification for a sample of rows from the full table.  Use the `category_limiter` parameter to limit the number of rows per `category`.  Larger values will result in longer runtimes as the service works with the [query per minute limits of the foundation models](https://cloud.google.com/vertex-ai/docs/quotas#request_quotas)."
   ]
  },
  {
   "cell_type": "code",
   "execution_count": 27,
   "id": "8d49cba7-edf2-41fc-89ff-e3401ac6ae06",
   "metadata": {
    "tags": []
   },
   "outputs": [],
   "source": [
    "# how many rows to classify per category\n",
    "category_limiter = 20 \n",
    "\n",
    "query = f'''\n",
    "CREATE OR REPLACE TABLE `{BQ_PROJECT}.{BQ_DATASET}.{BQ_TABLE}_classification` AS\n",
    "WITH\n",
    "    prompt AS ({prompt_query}),\n",
    "    sample AS (\n",
    "        SELECT * EXCEPT(sequence)\n",
    "        FROM (\n",
    "            SELECT *, ROW_NUMBER() OVER (PARTITION BY category ORDER BY filename) AS sequence\n",
    "            FROM `bigquery-public-data.bbc_news.fulltext`\n",
    "        )\n",
    "        WHERE sequence <= {category_limiter}\n",
    "        ORDER BY category\n",
    "    ),\n",
    "    prepped AS (\n",
    "        SELECT title, filename, category,\n",
    "            CONCAT(prompt.prompt, \"\"\"\\n\\nText: \"\"\", title, \"\"\"\\nCategory: \"\"\") as prompt\n",
    "        FROM sample\n",
    "        CROSS JOIN prompt\n",
    "    ),\n",
    "    generate AS (\n",
    "        SELECT * EXCEPT(ml_generate_text_rai_result, ml_generate_text_llm_result), #ml_generate_text_status\n",
    "            ml_generate_text_llm_result as new_category\n",
    "        FROM ML.GENERATE_TEXT(\n",
    "            MODEL `{BQ_PROJECT}.{BQ_DATASET}.{BQ_TABLE}_MODEL`,\n",
    "            (\n",
    "                SELECT *\n",
    "                FROM prepped\n",
    "            ),\n",
    "            STRUCT(50 AS max_output_tokens, TRUE AS flatten_json_output)\n",
    "        )\n",
    "    )\n",
    "SELECT * \n",
    "FROM generate;\n",
    "\n",
    "SELECT *\n",
    "FROM `{BQ_PROJECT}.{BQ_DATASET}.{BQ_TABLE}_classification`\n",
    "ORDER BY category;\n",
    "'''\n",
    "results = bq.query(query = query).to_dataframe()"
   ]
  },
  {
   "cell_type": "code",
   "execution_count": 28,
   "id": "25a52f7e-2845-457d-a31d-5f440082e974",
   "metadata": {
    "tags": []
   },
   "outputs": [
    {
     "data": {
      "text/html": [
       "<div>\n",
       "<style scoped>\n",
       "    .dataframe tbody tr th:only-of-type {\n",
       "        vertical-align: middle;\n",
       "    }\n",
       "\n",
       "    .dataframe tbody tr th {\n",
       "        vertical-align: top;\n",
       "    }\n",
       "\n",
       "    .dataframe thead th {\n",
       "        text-align: right;\n",
       "    }\n",
       "</style>\n",
       "<table border=\"1\" class=\"dataframe\">\n",
       "  <thead>\n",
       "    <tr style=\"text-align: right;\">\n",
       "      <th></th>\n",
       "      <th>ml_generate_text_status</th>\n",
       "      <th>title</th>\n",
       "      <th>filename</th>\n",
       "      <th>category</th>\n",
       "      <th>prompt</th>\n",
       "      <th>new_category</th>\n",
       "    </tr>\n",
       "  </thead>\n",
       "  <tbody>\n",
       "    <tr>\n",
       "      <th>0</th>\n",
       "      <td>RESOURCE_EXHAUSTED error occurred.</td>\n",
       "      <td>Call centre users 'lose patience'</td>\n",
       "      <td>bbc/business/020.txt</td>\n",
       "      <td>business</td>\n",
       "      <td>Define a category for each text from the list ...</td>\n",
       "      <td>None</td>\n",
       "    </tr>\n",
       "    <tr>\n",
       "      <th>1</th>\n",
       "      <td>RESOURCE_EXHAUSTED error occurred.</td>\n",
       "      <td>India's rupee hits five-year high</td>\n",
       "      <td>bbc/business/018.txt</td>\n",
       "      <td>business</td>\n",
       "      <td>Define a category for each text from the list ...</td>\n",
       "      <td>None</td>\n",
       "    </tr>\n",
       "    <tr>\n",
       "      <th>2</th>\n",
       "      <td></td>\n",
       "      <td>India widens access to telecoms</td>\n",
       "      <td>bbc/business/019.txt</td>\n",
       "      <td>business</td>\n",
       "      <td>Define a category for each text from the list ...</td>\n",
       "      <td>tech</td>\n",
       "    </tr>\n",
       "    <tr>\n",
       "      <th>3</th>\n",
       "      <td></td>\n",
       "      <td>Ask Jeeves tips online ad revival</td>\n",
       "      <td>bbc/business/011.txt</td>\n",
       "      <td>business</td>\n",
       "      <td>Define a category for each text from the list ...</td>\n",
       "      <td>tech</td>\n",
       "    </tr>\n",
       "    <tr>\n",
       "      <th>4</th>\n",
       "      <td></td>\n",
       "      <td>India calls for fair trade rules</td>\n",
       "      <td>bbc/business/008.txt</td>\n",
       "      <td>business</td>\n",
       "      <td>Define a category for each text from the list ...</td>\n",
       "      <td>business</td>\n",
       "    </tr>\n",
       "    <tr>\n",
       "      <th>...</th>\n",
       "      <td>...</td>\n",
       "      <td>...</td>\n",
       "      <td>...</td>\n",
       "      <td>...</td>\n",
       "      <td>...</td>\n",
       "      <td>...</td>\n",
       "    </tr>\n",
       "    <tr>\n",
       "      <th>95</th>\n",
       "      <td></td>\n",
       "      <td>Intel unveils laser breakthrough</td>\n",
       "      <td>bbc/tech/019.txt</td>\n",
       "      <td>tech</td>\n",
       "      <td>Define a category for each text from the list ...</td>\n",
       "      <td>tech</td>\n",
       "    </tr>\n",
       "    <tr>\n",
       "      <th>96</th>\n",
       "      <td></td>\n",
       "      <td>Wi-fi web reaches farmers in Peru</td>\n",
       "      <td>bbc/tech/006.txt</td>\n",
       "      <td>tech</td>\n",
       "      <td>Define a category for each text from the list ...</td>\n",
       "      <td>tech</td>\n",
       "    </tr>\n",
       "    <tr>\n",
       "      <th>97</th>\n",
       "      <td></td>\n",
       "      <td>Digital guru floats sub-$100 PC</td>\n",
       "      <td>bbc/tech/004.txt</td>\n",
       "      <td>tech</td>\n",
       "      <td>Define a category for each text from the list ...</td>\n",
       "      <td>tech</td>\n",
       "    </tr>\n",
       "    <tr>\n",
       "      <th>98</th>\n",
       "      <td></td>\n",
       "      <td>UK pioneers digital film network</td>\n",
       "      <td>bbc/tech/013.txt</td>\n",
       "      <td>tech</td>\n",
       "      <td>Define a category for each text from the list ...</td>\n",
       "      <td>tech</td>\n",
       "    </tr>\n",
       "    <tr>\n",
       "      <th>99</th>\n",
       "      <td></td>\n",
       "      <td>Security scares spark browser fix</td>\n",
       "      <td>bbc/tech/020.txt</td>\n",
       "      <td>tech</td>\n",
       "      <td>Define a category for each text from the list ...</td>\n",
       "      <td>tech</td>\n",
       "    </tr>\n",
       "  </tbody>\n",
       "</table>\n",
       "<p>100 rows × 6 columns</p>\n",
       "</div>"
      ],
      "text/plain": [
       "               ml_generate_text_status                              title  \\\n",
       "0   RESOURCE_EXHAUSTED error occurred.  Call centre users 'lose patience'   \n",
       "1   RESOURCE_EXHAUSTED error occurred.  India's rupee hits five-year high   \n",
       "2                                         India widens access to telecoms   \n",
       "3                                       Ask Jeeves tips online ad revival   \n",
       "4                                        India calls for fair trade rules   \n",
       "..                                 ...                                ...   \n",
       "95                                       Intel unveils laser breakthrough   \n",
       "96                                      Wi-fi web reaches farmers in Peru   \n",
       "97                                        Digital guru floats sub-$100 PC   \n",
       "98                                       UK pioneers digital film network   \n",
       "99                                      Security scares spark browser fix   \n",
       "\n",
       "                filename  category  \\\n",
       "0   bbc/business/020.txt  business   \n",
       "1   bbc/business/018.txt  business   \n",
       "2   bbc/business/019.txt  business   \n",
       "3   bbc/business/011.txt  business   \n",
       "4   bbc/business/008.txt  business   \n",
       "..                   ...       ...   \n",
       "95      bbc/tech/019.txt      tech   \n",
       "96      bbc/tech/006.txt      tech   \n",
       "97      bbc/tech/004.txt      tech   \n",
       "98      bbc/tech/013.txt      tech   \n",
       "99      bbc/tech/020.txt      tech   \n",
       "\n",
       "                                               prompt new_category  \n",
       "0   Define a category for each text from the list ...         None  \n",
       "1   Define a category for each text from the list ...         None  \n",
       "2   Define a category for each text from the list ...         tech  \n",
       "3   Define a category for each text from the list ...         tech  \n",
       "4   Define a category for each text from the list ...     business  \n",
       "..                                                ...          ...  \n",
       "95  Define a category for each text from the list ...         tech  \n",
       "96  Define a category for each text from the list ...         tech  \n",
       "97  Define a category for each text from the list ...         tech  \n",
       "98  Define a category for each text from the list ...         tech  \n",
       "99  Define a category for each text from the list ...         tech  \n",
       "\n",
       "[100 rows x 6 columns]"
      ]
     },
     "execution_count": 28,
     "metadata": {},
     "output_type": "execute_result"
    }
   ],
   "source": [
    "results"
   ]
  },
  {
   "cell_type": "markdown",
   "id": "b43a7662-0809-4d6f-b88e-27784706cc08",
   "metadata": {},
   "source": [
    "### Evaluate The Accuracy Of The Classification\n",
    "\n",
    "For this use [scikit-learn](https://scikit-learn.org/stable/index.html) metrics [fuctions](https://scikit-learn.org/stable/modules/model_evaluation.html) to do model evaluation."
   ]
  },
  {
   "cell_type": "code",
   "execution_count": 29,
   "id": "f73680b1-8a0f-46e1-a9ed-0c85628a87ab",
   "metadata": {
    "tags": []
   },
   "outputs": [],
   "source": [
    "from sklearn import metrics"
   ]
  },
  {
   "cell_type": "markdown",
   "id": "39d87347-f741-4556-9a56-bffbc98da932",
   "metadata": {},
   "source": [
    "Cleaning The `results`:\n",
    "- Remove records that did not generate responses due to \"RESOURCE_EXHAUSTED error occurred.\"\n",
    "- remove leading and trailing blanks from thegenerated responses in `new_category`"
   ]
  },
  {
   "cell_type": "code",
   "execution_count": 30,
   "id": "932a4bd6-1501-4906-b03d-8897ad944194",
   "metadata": {
    "tags": []
   },
   "outputs": [
    {
     "data": {
      "text/html": [
       "<div>\n",
       "<style scoped>\n",
       "    .dataframe tbody tr th:only-of-type {\n",
       "        vertical-align: middle;\n",
       "    }\n",
       "\n",
       "    .dataframe tbody tr th {\n",
       "        vertical-align: top;\n",
       "    }\n",
       "\n",
       "    .dataframe thead th {\n",
       "        text-align: right;\n",
       "    }\n",
       "</style>\n",
       "<table border=\"1\" class=\"dataframe\">\n",
       "  <thead>\n",
       "    <tr style=\"text-align: right;\">\n",
       "      <th></th>\n",
       "      <th>ml_generate_text_status</th>\n",
       "      <th>title</th>\n",
       "      <th>filename</th>\n",
       "      <th>category</th>\n",
       "      <th>prompt</th>\n",
       "      <th>new_category</th>\n",
       "    </tr>\n",
       "  </thead>\n",
       "  <tbody>\n",
       "    <tr>\n",
       "      <th>0</th>\n",
       "      <td>RESOURCE_EXHAUSTED error occurred.</td>\n",
       "      <td>Call centre users 'lose patience'</td>\n",
       "      <td>bbc/business/020.txt</td>\n",
       "      <td>business</td>\n",
       "      <td>Define a category for each text from the list ...</td>\n",
       "      <td>None</td>\n",
       "    </tr>\n",
       "    <tr>\n",
       "      <th>1</th>\n",
       "      <td>RESOURCE_EXHAUSTED error occurred.</td>\n",
       "      <td>India's rupee hits five-year high</td>\n",
       "      <td>bbc/business/018.txt</td>\n",
       "      <td>business</td>\n",
       "      <td>Define a category for each text from the list ...</td>\n",
       "      <td>None</td>\n",
       "    </tr>\n",
       "    <tr>\n",
       "      <th>20</th>\n",
       "      <td>RESOURCE_EXHAUSTED error occurred.</td>\n",
       "      <td>Slater to star in Broadway play</td>\n",
       "      <td>bbc/entertainment/019.txt</td>\n",
       "      <td>entertainment</td>\n",
       "      <td>Define a category for each text from the list ...</td>\n",
       "      <td>None</td>\n",
       "    </tr>\n",
       "    <tr>\n",
       "      <th>40</th>\n",
       "      <td>RESOURCE_EXHAUSTED error occurred.</td>\n",
       "      <td>Tsunami debt deal to be announced</td>\n",
       "      <td>bbc/politics/017.txt</td>\n",
       "      <td>politics</td>\n",
       "      <td>Define a category for each text from the list ...</td>\n",
       "      <td>None</td>\n",
       "    </tr>\n",
       "    <tr>\n",
       "      <th>60</th>\n",
       "      <td>RESOURCE_EXHAUSTED error occurred.</td>\n",
       "      <td>Merritt close to indoor 400m mark</td>\n",
       "      <td>bbc/sport/018.txt</td>\n",
       "      <td>sport</td>\n",
       "      <td>Define a category for each text from the list ...</td>\n",
       "      <td>None</td>\n",
       "    </tr>\n",
       "    <tr>\n",
       "      <th>61</th>\n",
       "      <td>RESOURCE_EXHAUSTED error occurred.</td>\n",
       "      <td>Edwards tips Idowu for Euro gold</td>\n",
       "      <td>bbc/sport/020.txt</td>\n",
       "      <td>sport</td>\n",
       "      <td>Define a category for each text from the list ...</td>\n",
       "      <td>None</td>\n",
       "    </tr>\n",
       "    <tr>\n",
       "      <th>80</th>\n",
       "      <td>RESOURCE_EXHAUSTED error occurred.</td>\n",
       "      <td>Global blogger action day called</td>\n",
       "      <td>bbc/tech/016.txt</td>\n",
       "      <td>tech</td>\n",
       "      <td>Define a category for each text from the list ...</td>\n",
       "      <td>None</td>\n",
       "    </tr>\n",
       "  </tbody>\n",
       "</table>\n",
       "</div>"
      ],
      "text/plain": [
       "               ml_generate_text_status                              title  \\\n",
       "0   RESOURCE_EXHAUSTED error occurred.  Call centre users 'lose patience'   \n",
       "1   RESOURCE_EXHAUSTED error occurred.  India's rupee hits five-year high   \n",
       "20  RESOURCE_EXHAUSTED error occurred.    Slater to star in Broadway play   \n",
       "40  RESOURCE_EXHAUSTED error occurred.  Tsunami debt deal to be announced   \n",
       "60  RESOURCE_EXHAUSTED error occurred.  Merritt close to indoor 400m mark   \n",
       "61  RESOURCE_EXHAUSTED error occurred.   Edwards tips Idowu for Euro gold   \n",
       "80  RESOURCE_EXHAUSTED error occurred.   Global blogger action day called   \n",
       "\n",
       "                     filename       category  \\\n",
       "0        bbc/business/020.txt       business   \n",
       "1        bbc/business/018.txt       business   \n",
       "20  bbc/entertainment/019.txt  entertainment   \n",
       "40       bbc/politics/017.txt       politics   \n",
       "60          bbc/sport/018.txt          sport   \n",
       "61          bbc/sport/020.txt          sport   \n",
       "80           bbc/tech/016.txt           tech   \n",
       "\n",
       "                                               prompt new_category  \n",
       "0   Define a category for each text from the list ...         None  \n",
       "1   Define a category for each text from the list ...         None  \n",
       "20  Define a category for each text from the list ...         None  \n",
       "40  Define a category for each text from the list ...         None  \n",
       "60  Define a category for each text from the list ...         None  \n",
       "61  Define a category for each text from the list ...         None  \n",
       "80  Define a category for each text from the list ...         None  "
      ]
     },
     "execution_count": 30,
     "metadata": {},
     "output_type": "execute_result"
    }
   ],
   "source": [
    "results[results['ml_generate_text_status'] == 'RESOURCE_EXHAUSTED error occurred.']#.shape"
   ]
  },
  {
   "cell_type": "code",
   "execution_count": 31,
   "id": "4c9a2922-0807-4992-b589-2edd3e32e407",
   "metadata": {
    "tags": []
   },
   "outputs": [],
   "source": [
    "results = results[results['ml_generate_text_status'] != 'RESOURCE_EXHAUSTED error occurred.']\n",
    "known = [result.strip() for result in results['category'].values.tolist()]\n",
    "predicted = [result.strip() for result in results['new_category'].values.tolist()]\n",
    "labels = list(set(known))"
   ]
  },
  {
   "cell_type": "code",
   "execution_count": 32,
   "id": "ceef508d-40e6-4be7-bd18-f1c15819e71f",
   "metadata": {
    "tags": []
   },
   "outputs": [
    {
     "data": {
      "text/plain": [
       "['sport', 'entertainment', 'politics', 'business', 'tech']"
      ]
     },
     "execution_count": 32,
     "metadata": {},
     "output_type": "execute_result"
    }
   ],
   "source": [
    "labels"
   ]
  },
  {
   "cell_type": "code",
   "execution_count": 33,
   "id": "2b91e671-4fe0-4036-8c46-c05e4e3bfe99",
   "metadata": {
    "tags": []
   },
   "outputs": [
    {
     "data": {
      "text/plain": [
       "array([[18,  0,  0,  0,  0],\n",
       "       [ 0, 18,  0,  1,  0],\n",
       "       [ 0,  0, 16,  2,  0],\n",
       "       [ 0,  0,  0, 16,  2],\n",
       "       [ 0,  0,  0,  0, 19]])"
      ]
     },
     "execution_count": 33,
     "metadata": {},
     "output_type": "execute_result"
    }
   ],
   "source": [
    "metrics.confusion_matrix(known, predicted, labels = labels)"
   ]
  },
  {
   "cell_type": "code",
   "execution_count": 34,
   "id": "b5952c47-5723-472c-81b1-999c6e34413e",
   "metadata": {
    "tags": []
   },
   "outputs": [
    {
     "data": {
      "text/plain": [
       "<sklearn.metrics._plot.confusion_matrix.ConfusionMatrixDisplay at 0x7fb6d5c5cfa0>"
      ]
     },
     "execution_count": 34,
     "metadata": {},
     "output_type": "execute_result"
    },
    {
     "data": {
      "image/png": "[encoded data removed]",
      "text/plain": [
       "<Figure size 640x480 with 2 Axes>"
      ]
     },
     "metadata": {},
     "output_type": "display_data"
    }
   ],
   "source": [
    "disp = metrics.ConfusionMatrixDisplay(\n",
    "    confusion_matrix = metrics.confusion_matrix(known, predicted, labels = labels),\n",
    "    display_labels = labels\n",
    ")\n",
    "disp.plot()"
   ]
  },
  {
   "cell_type": "code",
   "execution_count": 35,
   "id": "096cf04c-a63d-4c09-9593-797b9cbf3ca7",
   "metadata": {
    "tags": []
   },
   "outputs": [
    {
     "data": {
      "text/plain": [
       "0.9354838709677419"
      ]
     },
     "execution_count": 35,
     "metadata": {},
     "output_type": "execute_result"
    }
   ],
   "source": [
    "metrics.accuracy_score(known, predicted)"
   ]
  },
  {
   "cell_type": "code",
   "execution_count": 36,
   "id": "c0f30c48-c7b1-4fa2-bb4e-da2104845cff",
   "metadata": {
    "tags": []
   },
   "outputs": [
    {
     "name": "stdout",
     "output_type": "stream",
     "text": [
      "               precision    recall  f1-score   support\n",
      "\n",
      "        sport       1.00      1.00      1.00        18\n",
      "entertainment       1.00      0.95      0.97        19\n",
      "     politics       1.00      0.84      0.91        19\n",
      "     business       0.84      0.89      0.86        18\n",
      "         tech       0.90      1.00      0.95        19\n",
      "\n",
      "    micro avg       0.95      0.94      0.94        93\n",
      "    macro avg       0.95      0.94      0.94        93\n",
      " weighted avg       0.95      0.94      0.94        93\n",
      "\n"
     ]
    }
   ],
   "source": [
    "print(metrics.classification_report(known, predicted, labels = labels))"
   ]
  },
  {
   "cell_type": "markdown",
   "id": "d4403af1-0c4c-45f7-807b-f7e059e265fa",
   "metadata": {},
   "source": [
    "What do mistakes looks like?"
   ]
  },
  {
   "cell_type": "code",
   "execution_count": 37,
   "id": "6434f54b-385f-4dd6-9d82-c21b221c43c7",
   "metadata": {
    "tags": []
   },
   "outputs": [
    {
     "data": {
      "text/plain": [
       "[0, 1, 18, 37, 38, 55]"
      ]
     },
     "execution_count": 37,
     "metadata": {},
     "output_type": "execute_result"
    }
   ],
   "source": [
    "misses = [i for i, v in enumerate(known) if v != predicted[i]]\n",
    "misses"
   ]
  },
  {
   "cell_type": "code",
   "execution_count": 38,
   "id": "c691c6fe-6b2a-489a-a8b9-68e5c823f179",
   "metadata": {
    "tags": []
   },
   "outputs": [
    {
     "data": {
      "text/html": [
       "<div>\n",
       "<style scoped>\n",
       "    .dataframe tbody tr th:only-of-type {\n",
       "        vertical-align: middle;\n",
       "    }\n",
       "\n",
       "    .dataframe tbody tr th {\n",
       "        vertical-align: top;\n",
       "    }\n",
       "\n",
       "    .dataframe thead th {\n",
       "        text-align: right;\n",
       "    }\n",
       "</style>\n",
       "<table border=\"1\" class=\"dataframe\">\n",
       "  <thead>\n",
       "    <tr style=\"text-align: right;\">\n",
       "      <th></th>\n",
       "      <th>title</th>\n",
       "      <th>category</th>\n",
       "      <th>new_category</th>\n",
       "    </tr>\n",
       "  </thead>\n",
       "  <tbody>\n",
       "    <tr>\n",
       "      <th>2</th>\n",
       "      <td>India widens access to telecoms</td>\n",
       "      <td>business</td>\n",
       "      <td>tech</td>\n",
       "    </tr>\n",
       "    <tr>\n",
       "      <th>3</th>\n",
       "      <td>Ask Jeeves tips online ad revival</td>\n",
       "      <td>business</td>\n",
       "      <td>tech</td>\n",
       "    </tr>\n",
       "    <tr>\n",
       "      <th>21</th>\n",
       "      <td>Versace art portfolio up for sale</td>\n",
       "      <td>entertainment</td>\n",
       "      <td>business</td>\n",
       "    </tr>\n",
       "    <tr>\n",
       "      <th>41</th>\n",
       "      <td>'Errors' doomed first Dome sale</td>\n",
       "      <td>politics</td>\n",
       "      <td>business</td>\n",
       "    </tr>\n",
       "    <tr>\n",
       "      <th>42</th>\n",
       "      <td>Crisis 'ahead in social sciences'</td>\n",
       "      <td>politics</td>\n",
       "      <td>business</td>\n",
       "    </tr>\n",
       "    <tr>\n",
       "      <th>59</th>\n",
       "      <td>Concerns at school diploma plan</td>\n",
       "      <td>politics</td>\n",
       "      <td>education</td>\n",
       "    </tr>\n",
       "  </tbody>\n",
       "</table>\n",
       "</div>"
      ],
      "text/plain": [
       "                                title       category new_category\n",
       "2     India widens access to telecoms       business         tech\n",
       "3   Ask Jeeves tips online ad revival       business         tech\n",
       "21  Versace art portfolio up for sale  entertainment     business\n",
       "41    'Errors' doomed first Dome sale       politics     business\n",
       "42  Crisis 'ahead in social sciences'       politics     business\n",
       "59    Concerns at school diploma plan       politics    education"
      ]
     },
     "execution_count": 38,
     "metadata": {},
     "output_type": "execute_result"
    }
   ],
   "source": [
    "results[['title', 'category', 'new_category']].iloc[misses]"
   ]
  },
  {
   "cell_type": "markdown",
   "id": "9be029b4-32e2-4225-a364-1d23d5f039f4",
   "metadata": {},
   "source": [
    "---\n",
    "## Generative AI With BQML: Prompts That Use Groups Of Rows\n",
    "\n",
    "In the \"Construct Few-Shot Prompt From Sample\" section above, multiple rows were combined into a single prompt.  This section examines using SQL statements to prepare prompts for `ML.GENERATE_TEXT` by grouping and combining rows\n",
    "\n",
    "For each `category` in the sample use `ML.GENERATE_TEXT` to generate a summary of topic covered across the list of article titles (`title`).  This means `GROUP BY category` and combine all the `title` values in the groups using `STRING_AGG`.  The `CONCAT` function will be use to format the text of the prompt.\n",
    "\n",
    "Key Parts Of The Query:\n",
    "- [CONCAT](https://cloud.google.com/bigquery/docs/reference/standard-sql/string_functions#concat)\n",
    "- [STRING_AGG](https://cloud.google.com/bigquery/docs/reference/standard-sql/aggregate_functions#string_agg)\n",
    "- [GROUP BY](https://cloud.google.com/bigquery/docs/reference/standard-sql/query-syntax#group_by_clause)"
   ]
  },
  {
   "cell_type": "markdown",
   "id": "d86d660c-d5ef-49c5-824a-1b63c27d7066",
   "metadata": {},
   "source": [
    "### Load The BigQuery cell magic"
   ]
  },
  {
   "cell_type": "markdown",
   "id": "570d2742-6ba8-42a9-9e38-1b9e61a280b7",
   "metadata": {},
   "source": [
    "Load the [IPython Magics for BigQuery](https://cloud.google.com/python/docs/reference/bigquery/latest/magics).  This allows direct SQL writing within a cell that starts with the `%%bigquery` magic.  "
   ]
  },
  {
   "cell_type": "code",
   "execution_count": 39,
   "id": "c53aca1a-5997-4363-85e2-f1f8a02e0d13",
   "metadata": {
    "tags": []
   },
   "outputs": [
    {
     "name": "stdout",
     "output_type": "stream",
     "text": [
      "The google.cloud.bigquery extension is already loaded. To reload it, use:\n",
      "  %reload_ext google.cloud.bigquery\n"
     ]
    }
   ],
   "source": [
    "%load_ext google.cloud.bigquery"
   ]
  },
  {
   "cell_type": "markdown",
   "id": "57393414-b014-42f0-a5bb-26432d86455a",
   "metadata": {},
   "source": [
    "**NOTE**\n",
    "\n",
    "Magics do now allow for direct parameterization, one of the benefits of the string methods used above where Python was used to construct lengthy queries.  \n",
    "\n",
    "The next cell print out the value of parameters used throughout this notebook for easy copy/pasted into the SQL written below."
   ]
  },
  {
   "cell_type": "code",
   "execution_count": 40,
   "id": "f483dd7b-94c3-4141-afbf-0d6b37995e66",
   "metadata": {
    "tags": []
   },
   "outputs": [
    {
     "data": {
      "text/plain": [
       "('statmike-mlops-349915', 'bqml', 'genai-sql_classification')"
      ]
     },
     "execution_count": 40,
     "metadata": {},
     "output_type": "execute_result"
    }
   ],
   "source": [
    "BQ_PROJECT, BQ_DATASET, BQ_TABLE+'_classification'"
   ]
  },
  {
   "cell_type": "markdown",
   "id": "d1e3493c-51ee-4a00-b267-692aa6c4511e",
   "metadata": {},
   "source": [
    "### SQL To Create Prompts Across Rows: `CONCAT`, `STRING_AGG` and `GROUP BY`"
   ]
  },
  {
   "cell_type": "markdown",
   "id": "75d30826-751d-47ba-a999-3d5c0d40ad7e",
   "metadata": {},
   "source": [
    "Write the query to summarize `title` values within `category`:"
   ]
  },
  {
   "cell_type": "code",
   "execution_count": 41,
   "id": "e7629aa4-08fb-4264-a639-f0629cbdd4ae",
   "metadata": {
    "tags": []
   },
   "outputs": [
    {
     "data": {
      "application/vnd.jupyter.widget-view+json": {
       "model_id": "8689f24a123f4e4bbeb146ab9f4a2856",
       "version_major": 2,
       "version_minor": 0
      },
      "text/plain": [
       "Query is running:   0%|          |"
      ]
     },
     "metadata": {},
     "output_type": "display_data"
    },
    {
     "data": {
      "application/vnd.jupyter.widget-view+json": {
       "model_id": "3e5bb81bb2544a338255f83afa2062ea",
       "version_major": 2,
       "version_minor": 0
      },
      "text/plain": [
       "Downloading:   0%|          |"
      ]
     },
     "metadata": {},
     "output_type": "display_data"
    }
   ],
   "source": [
    "%%bigquery prompts\n",
    "SELECT\n",
    "    category,\n",
    "    CONCAT(\n",
    "        'Write a summary paragraph for the list of article titles below that have been categorized as ', category, '\\n',\n",
    "        STRING_AGG(title, '\\n')\n",
    "    ) as prompt\n",
    "FROM `statmike-mlops-349915.bqml.genai-sql_classification`\n",
    "GROUP BY category"
   ]
  },
  {
   "cell_type": "markdown",
   "id": "05f24985-558f-4a08-b2a8-af6a30218dfd",
   "metadata": {},
   "source": [
    "print out the first prompt for review:"
   ]
  },
  {
   "cell_type": "code",
   "execution_count": 42,
   "id": "b43aa55e-e491-40e8-9462-45f48de0ed91",
   "metadata": {
    "tags": []
   },
   "outputs": [
    {
     "name": "stdout",
     "output_type": "stream",
     "text": [
      "Write a summary paragraph for the list of article titles below that have been categorized as business\n",
      "Call centre users 'lose patience'\n",
      "India's rupee hits five-year high\n",
      "India widens access to telecoms\n",
      "Ask Jeeves tips online ad revival\n",
      "India calls for fair trade rules\n",
      "Indonesians face fuel price rise\n",
      "Telegraph newspapers axe 90 jobs\n",
      "Yukos unit buyer faces loan claim\n",
      "Jobs growth still slow in the US\n",
      "China keeps tight rein on credit\n",
      "Peugeot deal boosts Mitsubishi\n",
      "Air passengers win new EU rights\n",
      "Japan narrowly escapes recession\n",
      "Parmalat boasts doubled profits\n",
      "Dollar gains on Greenspan speech\n",
      "Court rejects $280bn tobacco case\n",
      "Ad sales boost Time Warner profit\n",
      "Ethiopia's crop production up 24%\n",
      "High fuel prices hit BA's profits\n",
      "Pernod takeover talk lifts Domecq\n"
     ]
    }
   ],
   "source": [
    "print(prompts['prompt'].iloc[0])"
   ]
  },
  {
   "cell_type": "markdown",
   "id": "5190314e-1710-419f-9154-0f82494dc165",
   "metadata": {},
   "source": [
    "### Generate Summaries From The Prompts"
   ]
  },
  {
   "cell_type": "code",
   "execution_count": 43,
   "id": "22f04e94-82bf-455e-bd20-d49f05060ab4",
   "metadata": {
    "tags": []
   },
   "outputs": [
    {
     "data": {
      "application/vnd.jupyter.widget-view+json": {
       "model_id": "fcab6b39ce4b4dbcb714b293dd2a3e32",
       "version_major": 2,
       "version_minor": 0
      },
      "text/plain": [
       "Query is running:   0%|          |"
      ]
     },
     "metadata": {},
     "output_type": "display_data"
    },
    {
     "data": {
      "application/vnd.jupyter.widget-view+json": {
       "model_id": "af67cd5950c74f0d8916fca2ae8cc380",
       "version_major": 2,
       "version_minor": 0
      },
      "text/plain": [
       "Downloading:   0%|          |"
      ]
     },
     "metadata": {},
     "output_type": "display_data"
    }
   ],
   "source": [
    "%%bigquery summary\n",
    "SELECT\n",
    "    category,\n",
    "    ml_generate_text_llm_result as summary\n",
    "FROM ML.GENERATE_TEXT(\n",
    "    MODEL `statmike-mlops-349915.bqml.genai-sql_MODEL`,\n",
    "    (\n",
    "        SELECT\n",
    "            category,\n",
    "            CONCAT(\n",
    "                'Write a summary paragraph for the list of article titles below that have been categorized as ', category, '\\n',\n",
    "                STRING_AGG(title, '\\n')\n",
    "            ) as prompt\n",
    "        FROM `statmike-mlops-349915.bqml.genai-sql_classification`\n",
    "        GROUP BY category\n",
    "    ),\n",
    "    STRUCT(500 AS max_output_tokens, TRUE AS flatten_json_output)\n",
    ")"
   ]
  },
  {
   "cell_type": "code",
   "execution_count": 44,
   "id": "932e4e33-4091-40c2-ba21-ebcb1965b56d",
   "metadata": {
    "tags": []
   },
   "outputs": [
    {
     "data": {
      "text/html": [
       "<div>\n",
       "<style scoped>\n",
       "    .dataframe tbody tr th:only-of-type {\n",
       "        vertical-align: middle;\n",
       "    }\n",
       "\n",
       "    .dataframe tbody tr th {\n",
       "        vertical-align: top;\n",
       "    }\n",
       "\n",
       "    .dataframe thead th {\n",
       "        text-align: right;\n",
       "    }\n",
       "</style>\n",
       "<table border=\"1\" class=\"dataframe\">\n",
       "  <thead>\n",
       "    <tr style=\"text-align: right;\">\n",
       "      <th></th>\n",
       "      <th>category</th>\n",
       "      <th>summary</th>\n",
       "    </tr>\n",
       "  </thead>\n",
       "  <tbody>\n",
       "    <tr>\n",
       "      <th>0</th>\n",
       "      <td>business</td>\n",
       "      <td>The business articles are about India's rupee,...</td>\n",
       "    </tr>\n",
       "    <tr>\n",
       "      <th>1</th>\n",
       "      <td>sport</td>\n",
       "      <td>The list of articles is about sports. The arti...</td>\n",
       "    </tr>\n",
       "    <tr>\n",
       "      <th>2</th>\n",
       "      <td>entertainment</td>\n",
       "      <td>The list of articles is about entertainment. I...</td>\n",
       "    </tr>\n",
       "    <tr>\n",
       "      <th>3</th>\n",
       "      <td>tech</td>\n",
       "      <td>The list of articles is about technology. The ...</td>\n",
       "    </tr>\n",
       "    <tr>\n",
       "      <th>4</th>\n",
       "      <td>politics</td>\n",
       "      <td>The list of article titles below that have bee...</td>\n",
       "    </tr>\n",
       "  </tbody>\n",
       "</table>\n",
       "</div>"
      ],
      "text/plain": [
       "        category                                            summary\n",
       "0       business  The business articles are about India's rupee,...\n",
       "1          sport  The list of articles is about sports. The arti...\n",
       "2  entertainment  The list of articles is about entertainment. I...\n",
       "3           tech  The list of articles is about technology. The ...\n",
       "4       politics  The list of article titles below that have bee..."
      ]
     },
     "execution_count": 44,
     "metadata": {},
     "output_type": "execute_result"
    }
   ],
   "source": [
    "summary"
   ]
  },
  {
   "cell_type": "code",
   "execution_count": 45,
   "id": "eb278ead-0d7f-45f6-b1cc-0e8cbe55efba",
   "metadata": {
    "tags": []
   },
   "outputs": [
    {
     "name": "stdout",
     "output_type": "stream",
     "text": [
      "business \n",
      " The business articles are about India's rupee, India's telecoms, online ad, India's trade rules, Indonesia's fuel price, Telegraph newspapers, Yukos, US jobs growth, China's credit, Peugeot deal, EU air passengers, Japan's recession, Parmalat's profits, dollar, tobacco case, Time Warner's profit, Ethiopia's crop production, BA's profits and Pernod's takeover. \n",
      "\n",
      "\n",
      "sport \n",
      " The list of articles is about sports. The articles are about Merritt close to indoor 400m mark, Edwards tips Idowu for Euro gold, Off-colour Gardener storms to win, Call for Kenteris to be cleared, Edwards tips Idowu for Euro gold, Kenya lift Chepkemei's suspension, Hansen 'delays return until 2006', Dibaba breaks 5,000m world record, London hope over Chepkemei, Claxton hunting first major medal, McIlroy aiming for Madrid title, UK Athletics agrees new kit deal, O'Sullivan commits to Dublin race, Radcliffe yet to answer GB call, Greene sets sights on world title, IAAF launches fight against drugs, Collins to compete in Birmingham, Verdict delay for Greek sprinters, Isinbayeva claims new world best, and O'Sullivan could run in Worlds. \n",
      "\n",
      "\n",
      "entertainment \n",
      " The list of articles is about entertainment. It includes articles about books, plays, musicals, and art. For example, the article \"Spark heads world Booker list\" is about the book \"The Life of Pi\" by Yann Martel, which won the 2002 Man Booker Prize for Fiction. The article \"Poppins musical gets flying start\" is about the musical \"Mary Poppins\", which is based on the book \"Mary Poppins\" by P. L. Travers. The article \"Neeson in bid to revive theatre\" is about the actor Liam Neeson's efforts to revive the theatre in Northern Ireland. \n",
      "\n",
      "\n",
      "tech \n",
      " The list of articles is about technology. The articles cover a wide range of topics, including:\n",
      "- Global blogger action day called\n",
      "- Finding new homes for old phones\n",
      "- Google's toolbar sparks concern\n",
      "- UK net users leading TV downloads\n",
      "- Virus poses as Christmas e-mail\n",
      "- Xbox power cable 'fire fear'\n",
      "- Apple laptop is 'greatest gadget'\n",
      "- EU software patent law faces axe\n",
      "- China net cafe culture crackdown\n",
      "- IBM puts cash behind Linux push\n",
      "- PlayStation 3 chip to be unveiled\n",
      "- Microsoft releases bumper patches\n",
      "- Ink helps drive democracy in Asia\n",
      "- Microsoft seeking spyware trojan\n",
      "- Technology gets the creative bug\n",
      "- Intel unveils laser breakthrough\n",
      "- Wi-fi web reaches farmers in Peru\n",
      "- Digital guru floats sub-$100 PC\n",
      "- UK pioneers digital film network\n",
      "- Security scares spark browser fix \n",
      "\n",
      "\n",
      "politics \n",
      " The list of article titles below that have been categorized as politics are about the following topics:\n",
      "- Tsunami debt deal to be announced\n",
      "- 'Errors' doomed first Dome sale\n",
      "- Crisis 'ahead in social sciences'\n",
      "- Straw to attend Auschwitz service\n",
      "- Labour plans maternity pay rise\n",
      "- Blair rejects Tory terror offer\n",
      "- Fox attacks Blair's Tory 'lies'\n",
      "- Watchdog probes e-mail deletions\n",
      "- Brown ally rejects Budget spree\n",
      "- Women MPs reveal sexist taunts\n",
      "- Labour chooses Manchester\n",
      "- PM apology over jailings\n",
      "- Howard rebuts asylum criticisms\n",
      "- Crucial decision on super-casinos\n",
      "- Drink remark 'acts as diversion'\n",
      "- Hewitt decries 'career sexism'\n",
      "- Campbell: E-mail row 'silly fuss'\n",
      "- Mrs Howard gets key election role\n",
      "- Talks held on Gibraltar's future\n",
      "- Concerns at school diploma plan \n",
      "\n",
      "\n"
     ]
    }
   ],
   "source": [
    "for s in summary[['category', 'summary']].values.tolist():\n",
    "    print(s[0], '\\n', s[1], '\\n\\n') "
   ]
  },
  {
   "cell_type": "code",
   "execution_count": null,
   "id": "f80e38a5-1fd5-4b88-9635-7643f5445515",
   "metadata": {},
   "outputs": [],
   "source": []
  }
 ],
 "metadata": {
  "environment": {
   "kernel": "conda-root-py",
   "name": "workbench-notebooks.m113",
   "type": "gcloud",
   "uri": "gcr.io/deeplearning-platform-release/workbench-notebooks:m113"
  },
  "kernelspec": {
   "display_name": "Python 3 (ipykernel) (Local)",
   "language": "python",
   "name": "conda-root-py"
  },
  "language_info": {
   "codemirror_mode": {
    "name": "ipython",
    "version": 3
   },
   "file_extension": ".py",
   "mimetype": "text/x-python",
   "name": "python",
   "nbconvert_exporter": "python",
   "pygments_lexer": "ipython3",
   "version": "3.10.13"
  }
 },
 "nbformat": 4,
 "nbformat_minor": 5
}
