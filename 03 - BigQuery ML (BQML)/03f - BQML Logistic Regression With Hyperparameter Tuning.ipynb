{
 "cells": [
  {
   "cell_type": "markdown",
   "id": "d05130f2",
   "metadata": {},
   "source": [
    "![ga4](https://www.google-analytics.com/collect?v=2&tid=G-6VDTYWLKX6&cid=1&en=page_view&sid=1&dl=statmike%2Fvertex-ai-mlops%2F03+-+BigQuery+ML+%28BQML%29&dt=03f+-+BQML+Logistic+Regression+With+Hyperparameter+Tuning.ipynb)\n",
    "<!--- header table --->\n",
    "<table align=\"left\">\n",
    "  <td style=\"text-align: center\">\n",
    "    <a href=\"https://colab.research.google.com/github/statmike/vertex-ai-mlops/blob/main/03%20-%20BigQuery%20ML%20%28BQML%29/03f%20-%20BQML%20Logistic%20Regression%20With%20Hyperparameter%20Tuning.ipynb\">\n",
    "      <img src=\"https://cloud.google.com/ml-engine/images/colab-logo-32px.png\" alt=\"Google Colaboratory logo\">\n",
    "      <br>Run in<br>Colab\n",
    "    </a>\n",
    "  </td>\n",
    "  <td style=\"text-align: center\">\n",
    "    <a href=\"https://console.cloud.google.com/vertex-ai/colab/import/https%3A//raw.githubusercontent.com/statmike/vertex-ai-mlops/main/03%20-%20BigQuery%20ML%20%28BQML%29/03f%20-%20BQML%20Logistic%20Regression%20With%20Hyperparameter%20Tuning.ipynb\">\n",
    "      <img width=\"32px\" src=\"https://lh3.googleusercontent.com/JmcxdQi-qOpctIvWKgPtrzZdJJK-J3sWE1RsfjZNwshCFgE_9fULcNpuXYTilIR2hjwN\" alt=\"Google Cloud Colab Enterprise logo\">\n",
    "      <br>Run in<br>Colab Enterprise\n",
    "    </a>\n",
    "  </td>      \n",
    "  <td style=\"text-align: center\">\n",
    "    <a href=\"https://github.com/statmike/vertex-ai-mlops/blob/main/03%20-%20BigQuery%20ML%20%28BQML%29/03f%20-%20BQML%20Logistic%20Regression%20With%20Hyperparameter%20Tuning.ipynb\">\n",
    "      <img src=\"https://cloud.google.com/ml-engine/images/github-logo-32px.png\" alt=\"GitHub logo\">\n",
    "      <br>View on<br>GitHub\n",
    "    </a>\n",
    "  </td>\n",
    "  <td style=\"text-align: center\">\n",
    "    <a href=\"https://console.cloud.google.com/vertex-ai/workbench/deploy-notebook?download_url=https%3A//raw.githubusercontent.com/statmike/vertex-ai-mlops/main/03%20-%20BigQuery%20ML%20%28BQML%29/03f%20-%20BQML%20Logistic%20Regression%20With%20Hyperparameter%20Tuning.ipynb\">\n",
    "      <img src=\"https://lh3.googleusercontent.com/UiNooY4LUgW_oTvpsNhPpQzsstV5W8F7rYgxgGBD85cWJoLmrOzhVs_ksK_vgx40SHs7jCqkTkCk=e14-rj-sc0xffffff-h130-w32\" alt=\"Vertex AI logo\">\n",
    "      <br>Open in<br>Vertex AI Workbench\n",
    "    </a>\n",
    "  </td>\n",
    "</table>"
   ]
  },
  {
   "cell_type": "markdown",
   "id": "321668f5-f06b-4310-bdf5-9447243512fe",
   "metadata": {},
   "source": [
    "# 03f - Logistic Regression With Hyperparameter Tuning\n",
    "\n",
    "In this notebook, BigQuery ML (BQML) is used to create a logistic regression model while using hyperparameter tuning for `L1` and `L2` regularization.\n",
    "\n",
    "**Logistic Regression**\n",
    "\n",
    "Logistic Regression is a statistical model for the probability, `p`, of a class.  This is accomplished by fitting a linear combination of the features to the log-odds of the class.  The log-odds is called the logit and is the logarithm ($ln$) of the odds ($\\frac{p}{1-p}$).  This is a supervised learning approach where the labels, classes, are learned as function of the features.  While the model is estimating the probability of a class `p` which might be considered regression, the probabilities are used to assign a class which is classification.\n",
    "\n",
    "Reference:\n",
    "- [Logistic Regression](https://en.wikipedia.org/wiki/Logistic_regression)\n",
    "- [Supervised Learning](https://en.wikipedia.org/wiki/Supervised_learning)\n",
    "\n",
    "**BigQuery ML (BQML)**\n",
    "\n",
    "BigQuery has a number of machine learning algorithms callable directly from SQL.  This gives the convenience of using the common language of `SQL` with statments like `CREATE MODEL …`.  The library of available models is constantly growing and covers supervised, unsupervised, and time series methods as well as functions for evaluation - even anomaly detection from results, explainability and hyperparameter tuning.  A great starting point for seeing the scope of available methods is the [user journey for models](https://cloud.google.com/bigquery-ml/docs/reference/standard-sql/bigqueryml-syntax-e2e-journey).\n",
    "\n",
    "**Hyperparameter Tuning**\n",
    "\n",
    "When training a machine learning model it is helpful to find the optimal values for hyperparameters, parameters set before training begins.  These are not learned parameters like the coefficents of a model.  Rather than manually iterating these parameters we want to sequently test and focus in on optimal values.  The focusing part of the iterations is done in BQML by utilizing the [Vertex AI Vizier](https://cloud.google.com/vertex-ai/docs/vizier/overview) service by default.\n",
    "\n",
    "Each `MODEL_TYPE` in BQML has parameters than can be tuned as [listed here](https://cloud.google.com/bigquery-ml/docs/reference/standard-sql/bigqueryml-hyperparameter-tuning#hyperparameters_and_objectives).  \n",
    "\n",
    "**Prerequisites:**\n",
    "- [01 - BigQuery - Table Data Source](../01%20-%20Data%20Sources/01%20-%20BigQuery%20-%20Table%20Data%20Source.ipynb)\n",
    "\n",
    "**Resources:**\n",
    "-  [BigQuery ML (BQML) Overview](https://cloud.google.com/bigquery-ml/docs/introduction)\n",
    "-  [Overview of BQML methods and workflows](https://cloud.google.com/bigquery-ml/docs/reference/standard-sql/bigqueryml-syntax-e2e-journey)\n",
    "- [BigQuery](https://cloud.google.com/bigquery)\n",
    "    - [Documentation:](https://cloud.google.com/bigquery/docs/query-overview)\n",
    "    - [API:](https://cloud.google.com/bigquery/docs/reference/libraries-overview)\n",
    "        - [Clients](https://cloud.google.com/bigquery/docs/reference/libraries)\n",
    "            - [Python SDK:](https://github.com/googleapis/python-bigquery)\n",
    "            - [Python Library Reference:](https://cloud.google.com/python/docs/reference/bigquery/latest)\n",
    "- [Vertex AI](https://cloud.google.com/vertex-ai)\n",
    "    - [Documentation:](https://cloud.google.com/vertex-ai/docs/start/introduction-unified-platform)\n",
    "    - [API:](https://cloud.google.com/vertex-ai/docs/reference)\n",
    "        - [Clients:](https://cloud.google.com/vertex-ai/docs/start/client-libraries)\n",
    "            - [Python SDK:](https://github.com/googleapis/python-aiplatform)\n",
    "            - [Python Library Reference:](https://cloud.google.com/python/docs/reference/aiplatform/latest)\n",
    "\n",
    "**Conceptual Flow & Workflow**\n",
    "<p align=\"center\">\n",
    "  <img alt=\"Conceptual Flow\" src=\"../architectures/slides/03f_arch.png\" width=\"45%\">\n",
    "&nbsp; &nbsp; &nbsp; &nbsp;\n",
    "  <img alt=\"Workflow\" src=\"../architectures/slides/03f_console.png\" width=\"45%\">\n",
    "</p>"
   ]
  },
  {
   "cell_type": "markdown",
   "id": "4af1fad9-7803-4ec5-b8ef-1839782eb042",
   "metadata": {
    "id": "od_UkDpvRmgD"
   },
   "source": [
    "---\n",
    "## Colab Setup\n",
    "\n",
    "To run this notebook in Colab click [![Open In Colab](https://colab.research.google.com/assets/colab-badge.svg)](https://colab.research.google.com/github/statmike/vertex-ai-mlops/blob/main/03%20-%20BigQuery%20ML%20(BQML)/03f%20-%20BQML%20Logistic%20Regression%20With%20Hyperparameter%20Tuning.ipynb) and run the cells in this section.  Otherwise, skip this section.\n",
    "\n",
    "This cell will authenticate to GCP (follow prompts in the popup)."
   ]
  },
  {
   "cell_type": "code",
   "execution_count": 1,
   "id": "ab69decb-1b06-4028-a912-cc35f7179a32",
   "metadata": {
    "executionInfo": {
     "elapsed": 195,
     "status": "ok",
     "timestamp": 1683726184843,
     "user": {
      "displayName": "Mike Henderson",
      "userId": "07691629187611687318"
     },
     "user_tz": 240
    },
    "id": "8UO9FnqyKBlF"
   },
   "outputs": [],
   "source": [
    "PROJECT_ID = 'statmike-mlops-349915' # replace with project ID"
   ]
  },
  {
   "cell_type": "code",
   "execution_count": 2,
   "id": "91b9d66c-29a3-4f64-94e4-d93086455edb",
   "metadata": {
    "colab": {
     "base_uri": "https://localhost:8080/"
    },
    "executionInfo": {
     "elapsed": 68869,
     "status": "ok",
     "timestamp": 1683726253709,
     "user": {
      "displayName": "Mike Henderson",
      "userId": "07691629187611687318"
     },
     "user_tz": 240
    },
    "id": "N98-KK7LRkjm",
    "outputId": "09ec5008-0def-4e1a-c349-c598ee752f78"
   },
   "outputs": [],
   "source": [
    "try:\n",
    "    import google.colab\n",
    "    from google.colab import auth\n",
    "    auth.authenticate_user()\n",
    "    !gcloud config set project {PROJECT_ID}\n",
    "    \n",
    "    #installs\n",
    "    # Vertex AI GenAI Studio SDK - Update the aiplatform SDK\n",
    "    !pip install google.cloud.aiplatform -U -q --user\n",
    "    !pip install --upgrade gcsfs -U -q --user\n",
    "    !pip install --upgrade google-cloud-bigquery -U -q --user\n",
    "    !pip install --upgrade google-cloud-bigquery-storage -U -q --user\n",
    "    \n",
    "    # Enable Vertex AI For This Project\n",
    "    !gcloud services enable aiplatform.googleapis.com\n",
    "\n",
    "    # restart runtime\n",
    "    import IPython\n",
    "    app = IPython.Application.instance()\n",
    "    app.kernel.do_shutdown(True)    \n",
    "except Exception:\n",
    "    pass"
   ]
  },
  {
   "cell_type": "markdown",
   "id": "61821754-14fb-43bb-8e92-5b1208092793",
   "metadata": {},
   "source": [
    "---\n",
    "## Setup"
   ]
  },
  {
   "cell_type": "markdown",
   "id": "200e8e26-24fb-4abf-8ad3-fbd64cf15bca",
   "metadata": {},
   "source": [
    "inputs:"
   ]
  },
  {
   "cell_type": "code",
   "execution_count": 12,
   "id": "01299520-2cfb-4914-9d40-37b3ef5b1583",
   "metadata": {},
   "outputs": [
    {
     "data": {
      "text/plain": [
       "'statmike-mlops-349915'"
      ]
     },
     "execution_count": 12,
     "metadata": {},
     "output_type": "execute_result"
    }
   ],
   "source": [
    "project = !gcloud config get-value project\n",
    "PROJECT_ID = project[0]\n",
    "PROJECT_ID"
   ]
  },
  {
   "cell_type": "code",
   "execution_count": 13,
   "id": "d3a70664-bf97-4d09-a0be-72a99e81a6ca",
   "metadata": {},
   "outputs": [],
   "source": [
    "REGION = 'us-central1'\n",
    "EXPERIMENT = 'logistic-regression-hpt'\n",
    "SERIES = 'bqml'\n",
    "\n",
    "# source data\n",
    "BQ_PROJECT = PROJECT_ID\n",
    "BQ_DATASET = 'fraud'\n",
    "BQ_TABLE = 'fraud_prepped'\n",
    "\n",
    "# Resources for serving BigQuery Model Exports\n",
    "TF_DEPLOY_IMAGE = 'us-docker.pkg.dev/vertex-ai/prediction/tf2-cpu.2-3:latest'\n",
    "XGB_DEPLOY_IMAGE = 'us-docker.pkg.dev/vertex-ai/prediction/xgboost-cpu.0-82:latest'\n",
    "\n",
    "# Resources for serving BigQuery Model Exports\n",
    "DEPLOY_COMPUTE = 'n1-standard-4'\n",
    "\n",
    "# Model Training\n",
    "VAR_TARGET = 'Class'\n",
    "VAR_OMIT = 'transaction_id' # add more variables to the string with space delimiters"
   ]
  },
  {
   "cell_type": "markdown",
   "id": "04587458-8f6f-4825-bc1f-8dc801106f82",
   "metadata": {},
   "source": [
    "packages:"
   ]
  },
  {
   "cell_type": "code",
   "execution_count": 14,
   "id": "cba82382-8338-4df9-8e5f-538cdca16f17",
   "metadata": {},
   "outputs": [],
   "source": [
    "from google.cloud import bigquery\n",
    "from google.cloud import aiplatform\n",
    "from datetime import datetime\n",
    "import matplotlib.pyplot as plt\n",
    "from sklearn import metrics\n",
    "import numpy as np\n",
    "\n",
    "from google.api import httpbody_pb2\n",
    "import json"
   ]
  },
  {
   "cell_type": "markdown",
   "id": "84c9a0f0-8d23-4ba5-848a-d0f403626c34",
   "metadata": {},
   "source": [
    "clients:"
   ]
  },
  {
   "cell_type": "code",
   "execution_count": 15,
   "id": "bc18cd29-8f17-4335-88d1-491cb4c3dbd3",
   "metadata": {},
   "outputs": [],
   "source": [
    "bq = bigquery.Client(project = PROJECT_ID)\n",
    "aiplatform.init(project = PROJECT_ID, location = REGION)"
   ]
  },
  {
   "cell_type": "markdown",
   "id": "15bb57d0-53c3-455a-8e5f-dd787104f83c",
   "metadata": {},
   "source": [
    "parameters:"
   ]
  },
  {
   "cell_type": "code",
   "execution_count": 16,
   "id": "b32cc822-7823-4879-a623-f8e4bd0b2c82",
   "metadata": {},
   "outputs": [],
   "source": [
    "TIMESTAMP = datetime.now().strftime(\"%Y%m%d%H%M%S\")\n",
    "BUCKET = PROJECT_ID\n",
    "URI = f\"gs://{BUCKET}/{SERIES}/{EXPERIMENT}\"\n",
    "RUN_NAME = f'run-{TIMESTAMP}'\n",
    "\n",
    "BQ_MODEL = f'{SERIES}_{EXPERIMENT}_{TIMESTAMP}'"
   ]
  },
  {
   "cell_type": "markdown",
   "id": "01521a3f-d6e8-4136-8581-43345b2184e6",
   "metadata": {},
   "source": [
    "environment:"
   ]
  },
  {
   "cell_type": "code",
   "execution_count": 17,
   "id": "34f25162-354e-48cd-b621-274c26614e74",
   "metadata": {},
   "outputs": [],
   "source": [
    "DIR = f\"temp/{EXPERIMENT}\"\n",
    "\n",
    "!rm -rf {DIR}\n",
    "!mkdir -p {DIR}"
   ]
  },
  {
   "cell_type": "markdown",
   "id": "f0df2561-fa8b-492a-b768-c6adccfdc4e2",
   "metadata": {},
   "source": [
    "---\n",
    "## Review Data\n",
    "\n",
    "The data source here was prepared in [01 - BigQuery - Table Data Source](../01%20-%20Data%20Sources/01%20-%20BigQuery%20-%20Table%20Data%20Source.ipynb).  In this notebook we will use prepared BigQuery table to build a model with BigQuery ML (BQML).\n",
    "\n",
    "This is a table of 284,807 credit card transactions classified as fradulant or normal in the column `Class`.  In order protect confidentiality, the original features have been transformed using [principle component analysis (PCA)](https://en.wikipedia.org/wiki/Principal_component_analysis) into 28 features named `V1, V2, ... V28` (float).  Two descriptive features are provided without transformation by PCA:\n",
    "- `Time` (integer) is the seconds elapsed between the transaction and the earliest transaction in the table\n",
    "- `Amount` (float) is the value of the transaction\n",
    "\n",
    "The data preparation included added splits for machine learning with a column named `splits` with 80% for training (`TRAIN`), 10% for validation (`VALIDATE`) and 10% for testing (`TEST`).  Additionally, a unique identifier was added to each transaction, `transaction_id`.  "
   ]
  },
  {
   "cell_type": "markdown",
   "id": "4c1213c0-ff86-4452-ac93-43c8a5c30912",
   "metadata": {},
   "source": [
    "Review the number of records for each level of Class (VAR_TARGET) for each of the data splits:"
   ]
  },
  {
   "cell_type": "code",
   "execution_count": 18,
   "id": "0d37f4a4-1603-493a-8549-7f1327ace90d",
   "metadata": {},
   "outputs": [
    {
     "data": {
      "text/html": [
       "<div>\n",
       "<style scoped>\n",
       "    .dataframe tbody tr th:only-of-type {\n",
       "        vertical-align: middle;\n",
       "    }\n",
       "\n",
       "    .dataframe tbody tr th {\n",
       "        vertical-align: top;\n",
       "    }\n",
       "\n",
       "    .dataframe thead th {\n",
       "        text-align: right;\n",
       "    }\n",
       "</style>\n",
       "<table border=\"1\" class=\"dataframe\">\n",
       "  <thead>\n",
       "    <tr style=\"text-align: right;\">\n",
       "      <th></th>\n",
       "      <th>splits</th>\n",
       "      <th>Class</th>\n",
       "      <th>n</th>\n",
       "    </tr>\n",
       "  </thead>\n",
       "  <tbody>\n",
       "    <tr>\n",
       "      <th>0</th>\n",
       "      <td>TEST</td>\n",
       "      <td>0</td>\n",
       "      <td>28455</td>\n",
       "    </tr>\n",
       "    <tr>\n",
       "      <th>1</th>\n",
       "      <td>TEST</td>\n",
       "      <td>1</td>\n",
       "      <td>47</td>\n",
       "    </tr>\n",
       "    <tr>\n",
       "      <th>2</th>\n",
       "      <td>TRAIN</td>\n",
       "      <td>0</td>\n",
       "      <td>227664</td>\n",
       "    </tr>\n",
       "    <tr>\n",
       "      <th>3</th>\n",
       "      <td>TRAIN</td>\n",
       "      <td>1</td>\n",
       "      <td>397</td>\n",
       "    </tr>\n",
       "    <tr>\n",
       "      <th>4</th>\n",
       "      <td>VALIDATE</td>\n",
       "      <td>0</td>\n",
       "      <td>28196</td>\n",
       "    </tr>\n",
       "    <tr>\n",
       "      <th>5</th>\n",
       "      <td>VALIDATE</td>\n",
       "      <td>1</td>\n",
       "      <td>48</td>\n",
       "    </tr>\n",
       "  </tbody>\n",
       "</table>\n",
       "</div>"
      ],
      "text/plain": [
       "     splits  Class       n\n",
       "0      TEST      0   28455\n",
       "1      TEST      1      47\n",
       "2     TRAIN      0  227664\n",
       "3     TRAIN      1     397\n",
       "4  VALIDATE      0   28196\n",
       "5  VALIDATE      1      48"
      ]
     },
     "execution_count": 18,
     "metadata": {},
     "output_type": "execute_result"
    }
   ],
   "source": [
    "query = f\"\"\"\n",
    "SELECT splits, {VAR_TARGET}, count(*) as n\n",
    "FROM `{BQ_PROJECT}.{BQ_DATASET}.{BQ_TABLE}`\n",
    "GROUP BY splits, {VAR_TARGET}\n",
    "\"\"\"\n",
    "bq.query(query = query).to_dataframe()"
   ]
  },
  {
   "cell_type": "markdown",
   "id": "d63cd5e9-bfaa-4b69-a30d-ff4bd42b540b",
   "metadata": {},
   "source": [
    "Further review the balance of the target variable (VAR_TARGET) for each split as a percentage of the split:"
   ]
  },
  {
   "cell_type": "code",
   "execution_count": 19,
   "id": "02e27e14-927a-409e-bc35-abfe45863362",
   "metadata": {},
   "outputs": [
    {
     "data": {
      "text/html": [
       "<div>\n",
       "<style scoped>\n",
       "    .dataframe tbody tr th:only-of-type {\n",
       "        vertical-align: middle;\n",
       "    }\n",
       "\n",
       "    .dataframe tbody tr th {\n",
       "        vertical-align: top;\n",
       "    }\n",
       "\n",
       "    .dataframe thead th {\n",
       "        text-align: right;\n",
       "    }\n",
       "</style>\n",
       "<table border=\"1\" class=\"dataframe\">\n",
       "  <thead>\n",
       "    <tr style=\"text-align: right;\">\n",
       "      <th></th>\n",
       "      <th>splits</th>\n",
       "      <th>Class</th>\n",
       "      <th>n</th>\n",
       "      <th>total</th>\n",
       "      <th>n_pct_class</th>\n",
       "      <th>n_pct_split</th>\n",
       "      <th>class_pct_total</th>\n",
       "    </tr>\n",
       "  </thead>\n",
       "  <tbody>\n",
       "    <tr>\n",
       "      <th>0</th>\n",
       "      <td>VALIDATE</td>\n",
       "      <td>0</td>\n",
       "      <td>28196</td>\n",
       "      <td>284807</td>\n",
       "      <td>0.099172</td>\n",
       "      <td>0.998301</td>\n",
       "      <td>0.998273</td>\n",
       "    </tr>\n",
       "    <tr>\n",
       "      <th>1</th>\n",
       "      <td>VALIDATE</td>\n",
       "      <td>1</td>\n",
       "      <td>48</td>\n",
       "      <td>284807</td>\n",
       "      <td>0.097561</td>\n",
       "      <td>0.001699</td>\n",
       "      <td>0.001727</td>\n",
       "    </tr>\n",
       "    <tr>\n",
       "      <th>2</th>\n",
       "      <td>TEST</td>\n",
       "      <td>0</td>\n",
       "      <td>28455</td>\n",
       "      <td>284807</td>\n",
       "      <td>0.100083</td>\n",
       "      <td>0.998351</td>\n",
       "      <td>0.998273</td>\n",
       "    </tr>\n",
       "    <tr>\n",
       "      <th>3</th>\n",
       "      <td>TEST</td>\n",
       "      <td>1</td>\n",
       "      <td>47</td>\n",
       "      <td>284807</td>\n",
       "      <td>0.095528</td>\n",
       "      <td>0.001649</td>\n",
       "      <td>0.001727</td>\n",
       "    </tr>\n",
       "    <tr>\n",
       "      <th>4</th>\n",
       "      <td>TRAIN</td>\n",
       "      <td>0</td>\n",
       "      <td>227664</td>\n",
       "      <td>284807</td>\n",
       "      <td>0.800746</td>\n",
       "      <td>0.998259</td>\n",
       "      <td>0.998273</td>\n",
       "    </tr>\n",
       "    <tr>\n",
       "      <th>5</th>\n",
       "      <td>TRAIN</td>\n",
       "      <td>1</td>\n",
       "      <td>397</td>\n",
       "      <td>284807</td>\n",
       "      <td>0.806911</td>\n",
       "      <td>0.001741</td>\n",
       "      <td>0.001727</td>\n",
       "    </tr>\n",
       "  </tbody>\n",
       "</table>\n",
       "</div>"
      ],
      "text/plain": [
       "     splits  Class       n   total  n_pct_class  n_pct_split  class_pct_total\n",
       "0  VALIDATE      0   28196  284807     0.099172     0.998301         0.998273\n",
       "1  VALIDATE      1      48  284807     0.097561     0.001699         0.001727\n",
       "2      TEST      0   28455  284807     0.100083     0.998351         0.998273\n",
       "3      TEST      1      47  284807     0.095528     0.001649         0.001727\n",
       "4     TRAIN      0  227664  284807     0.800746     0.998259         0.998273\n",
       "5     TRAIN      1     397  284807     0.806911     0.001741         0.001727"
      ]
     },
     "execution_count": 19,
     "metadata": {},
     "output_type": "execute_result"
    }
   ],
   "source": [
    "query = f\"\"\"\n",
    "WITH\n",
    "    COUNTS as (SELECT splits, {VAR_TARGET}, count(*) as n FROM `{BQ_PROJECT}.{BQ_DATASET}.{BQ_TABLE}` GROUP BY splits, {VAR_TARGET})\n",
    "    \n",
    "SELECT *,\n",
    "    SUM(n) OVER() as total,\n",
    "    SAFE_DIVIDE(n, SUM(n) OVER(PARTITION BY {VAR_TARGET})) as n_pct_class,\n",
    "    SAFE_DIVIDE(n, SUM(n) OVER(PARTITION BY splits)) as n_pct_split,\n",
    "    SAFE_DIVIDE(SUM(n) OVER(PARTITION BY {VAR_TARGET}), SUM(n) OVER()) as class_pct_total\n",
    "FROM COUNTS\n",
    "\"\"\"\n",
    "review = bq.query(query = query).to_dataframe()\n",
    "review"
   ]
  },
  {
   "cell_type": "markdown",
   "id": "f022d181-6238-432c-8f2d-e8d3ccc6c147",
   "metadata": {},
   "source": [
    "---\n",
    "## This Run"
   ]
  },
  {
   "cell_type": "code",
   "execution_count": 20,
   "id": "9e0d4b1e-543e-46a0-961e-b058966c0dbd",
   "metadata": {},
   "outputs": [
    {
     "name": "stdout",
     "output_type": "stream",
     "text": [
      "This run will create BQML model: statmike-mlops-349915.fraud.bqml_logistic-regression-hpt_20230627123029\n",
      "This run will create Vertex AI model: statmike-mlops-349915.fraud.bqml_bqml_logistic-regression-hpt\n",
      "The runs timestamp Is: 20230627123029\n"
     ]
    }
   ],
   "source": [
    "print(f'This run will create BQML model: {BQ_PROJECT}.{BQ_DATASET}.{BQ_MODEL}')\n",
    "print(f'This run will create Vertex AI model: {BQ_PROJECT}.{BQ_DATASET}.bqml_{SERIES}_{EXPERIMENT}')\n",
    "print(f'The runs timestamp Is: {TIMESTAMP}')"
   ]
  },
  {
   "cell_type": "markdown",
   "id": "fc257a93-a489-4af4-b498-9ef7115c767a",
   "metadata": {},
   "source": [
    "---\n",
    "## Train Model\n",
    "\n",
    "Use BigQuery ML to train multiclass logistic regression model:\n",
    "- [Logistic Regression](https://cloud.google.com/bigquery-ml/docs/reference/standard-sql/bigqueryml-syntax-create-glm) with BigQuery ML (BQML)\n",
    "- This uses the `splits` column that notebook `01` created\n",
    "- `data_split_method = CUSTOM` uses the column in `data_split_col` to assign `TRAIN`, `EVAL`, and `TEST` data splits.\n",
    "    - the `CASE` statement maps the validation data to `EVAL` as expected by hyperparameter tuning (rather than `VALIDATE`)\n",
    "    - note that this is different behavior for `data_split_col` with hyperparameter tuning than without hyperparameter tuning\n",
    "    - hyperparameter suggestions are based on the metric calculated with the evaluation data at each intermediate step\n",
    "    \n",
    "This example includes the [training options](https://cloud.google.com/bigquery-ml/docs/create_vertex) to register the resulting model in the [Vertex AI Model Registry](https://cloud.google.com/vertex-ai/docs/model-registry/introduction).\n",
    "\n",
    "**Hyperparameter Tuning**\n",
    "\n",
    "The [following options](https://cloud.google.com/bigquery-ml/docs/reference/standard-sql/bigqueryml-hyperparameter-tuning#create_model_syntax) are added to the model training code for BQML to guide the hyperparameter tuning of `L1` and `L2` regularization:\n",
    "\n",
    "```SQL\n",
    "l1_reg = HPARAM_RANGE(0, 1000),\n",
    "l2_reg = HPARAM_RANGE(0, 1000),\n",
    "hparam_tuning_algorithm = 'VIZIER_DEFAULT',\n",
    "hparam_tuning_objectives = ['ROC_AUC'],\n",
    "num_trials = 20,\n",
    "max_parallel_trials = 2\n",
    "```\n",
    "\n",
    "This instructs BQML to use the Vertex AI Vizier service to find values of `l1_reg` and `l2_reg` that optimize 'roc_auc' by doing 4 trials at a time until 20 trials have been completed.\n"
   ]
  },
  {
   "cell_type": "code",
   "execution_count": 21,
   "id": "1e42c159-4f68-465d-b612-8ea4b822a38a",
   "metadata": {},
   "outputs": [
    {
     "name": "stdout",
     "output_type": "stream",
     "text": [
      "\n",
      "CREATE OR REPLACE MODEL `statmike-mlops-349915.fraud.bqml_logistic-regression-hpt_20230627123029`\n",
      "OPTIONS\n",
      "    (model_type = 'LOGISTIC_REG',\n",
      "        auto_class_weights = TRUE,\n",
      "        input_label_cols = ['Class'],\n",
      "        enable_global_explain = TRUE,\n",
      "        data_split_col = 'custom_splits',\n",
      "        data_split_method = 'CUSTOM',\n",
      "        l1_reg = HPARAM_RANGE(0, 1000),\n",
      "        l2_reg = HPARAM_RANGE(0, 1000),\n",
      "        hparam_tuning_algorithm = 'VIZIER_DEFAULT',\n",
      "        hparam_tuning_objectives = ['ROC_AUC'],\n",
      "        num_trials = 20,\n",
      "        max_parallel_trials = 2,\n",
      "        MODEL_REGISTRY = 'VERTEX_AI',\n",
      "        VERTEX_AI_MODEL_ID = 'bqml_bqml_logistic-regression-hpt',\n",
      "        VERTEX_AI_MODEL_VERSION_ALIASES = ['run-20230627123029']\n",
      "    ) AS\n",
      "SELECT * EXCEPT(transaction_id, splits),\n",
      "    CASE\n",
      "        WHEN splits = 'VALIDATE' THEN 'EVAL'\n",
      "        ELSE splits\n",
      "    END AS custom_splits\n",
      "FROM `statmike-mlops-349915.fraud.fraud_prepped`\n",
      "\n"
     ]
    }
   ],
   "source": [
    "query = f\"\"\"\n",
    "CREATE OR REPLACE MODEL `{BQ_PROJECT}.{BQ_DATASET}.{BQ_MODEL}`\n",
    "OPTIONS\n",
    "    (model_type = 'LOGISTIC_REG',\n",
    "        auto_class_weights = TRUE,\n",
    "        input_label_cols = ['{VAR_TARGET}'],\n",
    "        enable_global_explain = TRUE,\n",
    "        data_split_col = 'custom_splits',\n",
    "        data_split_method = 'CUSTOM',\n",
    "        l1_reg = HPARAM_RANGE(0, 1000),\n",
    "        l2_reg = HPARAM_RANGE(0, 1000),\n",
    "        hparam_tuning_algorithm = 'VIZIER_DEFAULT',\n",
    "        hparam_tuning_objectives = ['ROC_AUC'],\n",
    "        num_trials = 20,\n",
    "        max_parallel_trials = 2,\n",
    "        MODEL_REGISTRY = 'VERTEX_AI',\n",
    "        VERTEX_AI_MODEL_ID = 'bqml_{SERIES}_{EXPERIMENT}',\n",
    "        VERTEX_AI_MODEL_VERSION_ALIASES = ['{RUN_NAME}']\n",
    "    ) AS\n",
    "SELECT * EXCEPT({','.join(VAR_OMIT.split())}, splits),\n",
    "    CASE\n",
    "        WHEN splits = 'VALIDATE' THEN 'EVAL'\n",
    "        ELSE splits\n",
    "    END AS custom_splits\n",
    "FROM `{BQ_PROJECT}.{BQ_DATASET}.{BQ_TABLE}`\n",
    "\"\"\"\n",
    "print(query)"
   ]
  },
  {
   "cell_type": "code",
   "execution_count": 22,
   "id": "118cf076-90f1-403c-9d8e-1ae6b1907426",
   "metadata": {},
   "outputs": [
    {
     "data": {
      "text/plain": [
       "<google.cloud.bigquery.table._EmptyRowIterator at 0x7f855ea58d50>"
      ]
     },
     "execution_count": 22,
     "metadata": {},
     "output_type": "execute_result"
    }
   ],
   "source": [
    "job = bq.query(query = query)\n",
    "job.result()"
   ]
  },
  {
   "cell_type": "code",
   "execution_count": 23,
   "id": "e3a6b5f1",
   "metadata": {},
   "outputs": [
    {
     "data": {
      "text/plain": [
       "883.242"
      ]
     },
     "execution_count": 23,
     "metadata": {},
     "output_type": "execute_result"
    }
   ],
   "source": [
    "(job.ended-job.started).total_seconds()"
   ]
  },
  {
   "cell_type": "code",
   "execution_count": 24,
   "id": "de17d955-6c31-46e6-8fb5-f9fc44be2257",
   "metadata": {},
   "outputs": [
    {
     "data": {
      "text/plain": [
       "1453640300"
      ]
     },
     "execution_count": 24,
     "metadata": {},
     "output_type": "execute_result"
    }
   ],
   "source": [
    "job.total_bytes_processed"
   ]
  },
  {
   "cell_type": "markdown",
   "id": "ea01760d-7a0c-4aa7-98db-19bc87df0087",
   "metadata": {},
   "source": [
    "Add labels to the model in BigQuery:"
   ]
  },
  {
   "cell_type": "code",
   "execution_count": 25,
   "id": "13d696f2-a277-422c-9cb0-f2ea8b5b242f",
   "metadata": {},
   "outputs": [],
   "source": [
    "model = bq.get_model(f'{BQ_PROJECT}.{BQ_DATASET}.{BQ_MODEL}')\n",
    "model.labels = {'series' : f'{SERIES}', 'experiment' : f'{EXPERIMENT}'}\n",
    "model = bq.update_model(model, ['labels'])"
   ]
  },
  {
   "cell_type": "markdown",
   "id": "329a78d1-203a-435d-9e78-eff28b07ca6a",
   "metadata": {},
   "source": [
    "### Check out this model in BigQuery Console:\n",
    "- Make sure project selected is the one from this notebook\n",
    "- Under Explore, expand this project and dataset\n",
    "- Expand Models and select the model create here"
   ]
  },
  {
   "cell_type": "code",
   "execution_count": 26,
   "id": "2e612ea8-ff94-4100-8293-5e2d691cfc69",
   "metadata": {},
   "outputs": [
    {
     "name": "stdout",
     "output_type": "stream",
     "text": [
      "BigQuery Console for Project:\n",
      "https://console.cloud.google.com/bigquery?project=statmike-mlops-349915\n"
     ]
    }
   ],
   "source": [
    "print(f'BigQuery Console for Project:\\nhttps://console.cloud.google.com/bigquery?project={PROJECT_ID}')"
   ]
  },
  {
   "cell_type": "code",
   "execution_count": 27,
   "id": "a70136c5-da05-4083-b45e-1c19d4a32c3c",
   "metadata": {},
   "outputs": [
    {
     "name": "stdout",
     "output_type": "stream",
     "text": [
      "Direct link to the model in BigQuery:\n",
      "https://console.cloud.google.com/bigquery?project=statmike-mlops-349915&ws=!1m5!1m4!5m3!1sstatmike-mlops-349915!2sfraud!3sbqml_logistic-regression-hpt_20230627123029\n"
     ]
    }
   ],
   "source": [
    "print(f'Direct link to the model in BigQuery:\\nhttps://console.cloud.google.com/bigquery?project={PROJECT_ID}&ws=!1m5!1m4!5m3!1s{PROJECT_ID}!2s{BQ_DATASET}!3s{BQ_MODEL}')"
   ]
  },
  {
   "cell_type": "markdown",
   "id": "f02781d8-0722-4c74-8084-c0f1e7250289",
   "metadata": {},
   "source": [
    "### Check out this model in the Vertex AI Model Registry"
   ]
  },
  {
   "cell_type": "code",
   "execution_count": 29,
   "id": "c3a7c3c4-b473-4dcb-8e00-b399982a0673",
   "metadata": {},
   "outputs": [
    {
     "name": "stdout",
     "output_type": "stream",
     "text": [
      "Review the model in the Vertex AI Model Registry:\n",
      "https://console.cloud.google.com/vertex-ai/locations/us-central1/models/bqml_bqml_logistic-regression-hpt_20230627123029?project=statmike-mlops-349915\n"
     ]
    }
   ],
   "source": [
    "print(f'Review the model in the Vertex AI Model Registry:\\nhttps://console.cloud.google.com/vertex-ai/locations/{REGION}/models/bqml_{BQ_MODEL}?project={PROJECT_ID}')"
   ]
  },
  {
   "cell_type": "markdown",
   "id": "8a2bd68c-ce0b-47f7-8770-ef77938030d2",
   "metadata": {},
   "source": [
    "### Feature and Training Review"
   ]
  },
  {
   "cell_type": "markdown",
   "id": "ce7ac227-918e-45e6-8fbf-8a43657ce173",
   "metadata": {},
   "source": [
    "Review the Model Inputs, the feature information, with [ML.FEATURE_INFO](https://cloud.google.com/bigquery-ml/docs/reference/standard-sql/bigqueryml-syntax-feature):"
   ]
  },
  {
   "cell_type": "code",
   "execution_count": 30,
   "id": "6c46cb0a-a82e-4ebe-a85a-181acf8abb7d",
   "metadata": {},
   "outputs": [
    {
     "data": {
      "text/html": [
       "<div>\n",
       "<style scoped>\n",
       "    .dataframe tbody tr th:only-of-type {\n",
       "        vertical-align: middle;\n",
       "    }\n",
       "\n",
       "    .dataframe tbody tr th {\n",
       "        vertical-align: top;\n",
       "    }\n",
       "\n",
       "    .dataframe thead th {\n",
       "        text-align: right;\n",
       "    }\n",
       "</style>\n",
       "<table border=\"1\" class=\"dataframe\">\n",
       "  <thead>\n",
       "    <tr style=\"text-align: right;\">\n",
       "      <th></th>\n",
       "      <th>input</th>\n",
       "      <th>min</th>\n",
       "      <th>max</th>\n",
       "      <th>mean</th>\n",
       "      <th>median</th>\n",
       "      <th>stddev</th>\n",
       "      <th>category_count</th>\n",
       "      <th>null_count</th>\n",
       "      <th>dimension</th>\n",
       "    </tr>\n",
       "  </thead>\n",
       "  <tbody>\n",
       "    <tr>\n",
       "      <th>0</th>\n",
       "      <td>Time</td>\n",
       "      <td>0.000000</td>\n",
       "      <td>172792.000000</td>\n",
       "      <td>94811.116749</td>\n",
       "      <td>85332.000000</td>\n",
       "      <td>47493.531641</td>\n",
       "      <td>&lt;NA&gt;</td>\n",
       "      <td>0</td>\n",
       "      <td>&lt;NA&gt;</td>\n",
       "    </tr>\n",
       "    <tr>\n",
       "      <th>1</th>\n",
       "      <td>V1</td>\n",
       "      <td>-56.407510</td>\n",
       "      <td>2.454930</td>\n",
       "      <td>-0.000215</td>\n",
       "      <td>0.027382</td>\n",
       "      <td>1.958173</td>\n",
       "      <td>&lt;NA&gt;</td>\n",
       "      <td>0</td>\n",
       "      <td>&lt;NA&gt;</td>\n",
       "    </tr>\n",
       "    <tr>\n",
       "      <th>2</th>\n",
       "      <td>V2</td>\n",
       "      <td>-72.715728</td>\n",
       "      <td>22.057729</td>\n",
       "      <td>0.000316</td>\n",
       "      <td>0.058447</td>\n",
       "      <td>1.649662</td>\n",
       "      <td>&lt;NA&gt;</td>\n",
       "      <td>0</td>\n",
       "      <td>&lt;NA&gt;</td>\n",
       "    </tr>\n",
       "    <tr>\n",
       "      <th>3</th>\n",
       "      <td>V3</td>\n",
       "      <td>-48.325589</td>\n",
       "      <td>9.382558</td>\n",
       "      <td>-0.000525</td>\n",
       "      <td>0.183854</td>\n",
       "      <td>1.520173</td>\n",
       "      <td>&lt;NA&gt;</td>\n",
       "      <td>0</td>\n",
       "      <td>&lt;NA&gt;</td>\n",
       "    </tr>\n",
       "    <tr>\n",
       "      <th>4</th>\n",
       "      <td>V4</td>\n",
       "      <td>-5.600607</td>\n",
       "      <td>16.875344</td>\n",
       "      <td>0.000695</td>\n",
       "      <td>-0.035812</td>\n",
       "      <td>1.415309</td>\n",
       "      <td>&lt;NA&gt;</td>\n",
       "      <td>0</td>\n",
       "      <td>&lt;NA&gt;</td>\n",
       "    </tr>\n",
       "    <tr>\n",
       "      <th>5</th>\n",
       "      <td>V5</td>\n",
       "      <td>-113.743307</td>\n",
       "      <td>34.801666</td>\n",
       "      <td>-0.001264</td>\n",
       "      <td>-0.052977</td>\n",
       "      <td>1.381807</td>\n",
       "      <td>&lt;NA&gt;</td>\n",
       "      <td>0</td>\n",
       "      <td>&lt;NA&gt;</td>\n",
       "    </tr>\n",
       "    <tr>\n",
       "      <th>6</th>\n",
       "      <td>V6</td>\n",
       "      <td>-26.160506</td>\n",
       "      <td>73.301626</td>\n",
       "      <td>0.002089</td>\n",
       "      <td>-0.264349</td>\n",
       "      <td>1.334135</td>\n",
       "      <td>&lt;NA&gt;</td>\n",
       "      <td>0</td>\n",
       "      <td>&lt;NA&gt;</td>\n",
       "    </tr>\n",
       "    <tr>\n",
       "      <th>7</th>\n",
       "      <td>V7</td>\n",
       "      <td>-43.557242</td>\n",
       "      <td>120.589494</td>\n",
       "      <td>-0.000721</td>\n",
       "      <td>0.034484</td>\n",
       "      <td>1.245465</td>\n",
       "      <td>&lt;NA&gt;</td>\n",
       "      <td>0</td>\n",
       "      <td>&lt;NA&gt;</td>\n",
       "    </tr>\n",
       "    <tr>\n",
       "      <th>8</th>\n",
       "      <td>V8</td>\n",
       "      <td>-73.216718</td>\n",
       "      <td>19.168327</td>\n",
       "      <td>-0.001064</td>\n",
       "      <td>0.027078</td>\n",
       "      <td>1.205023</td>\n",
       "      <td>&lt;NA&gt;</td>\n",
       "      <td>0</td>\n",
       "      <td>&lt;NA&gt;</td>\n",
       "    </tr>\n",
       "    <tr>\n",
       "      <th>9</th>\n",
       "      <td>V9</td>\n",
       "      <td>-13.434066</td>\n",
       "      <td>15.594995</td>\n",
       "      <td>0.001406</td>\n",
       "      <td>-0.054755</td>\n",
       "      <td>1.100121</td>\n",
       "      <td>&lt;NA&gt;</td>\n",
       "      <td>0</td>\n",
       "      <td>&lt;NA&gt;</td>\n",
       "    </tr>\n",
       "    <tr>\n",
       "      <th>10</th>\n",
       "      <td>V10</td>\n",
       "      <td>-24.588262</td>\n",
       "      <td>23.745136</td>\n",
       "      <td>-0.000072</td>\n",
       "      <td>-0.094192</td>\n",
       "      <td>1.093471</td>\n",
       "      <td>&lt;NA&gt;</td>\n",
       "      <td>0</td>\n",
       "      <td>&lt;NA&gt;</td>\n",
       "    </tr>\n",
       "    <tr>\n",
       "      <th>11</th>\n",
       "      <td>V11</td>\n",
       "      <td>-4.797473</td>\n",
       "      <td>12.018913</td>\n",
       "      <td>-0.000641</td>\n",
       "      <td>-0.035042</td>\n",
       "      <td>1.021083</td>\n",
       "      <td>&lt;NA&gt;</td>\n",
       "      <td>0</td>\n",
       "      <td>&lt;NA&gt;</td>\n",
       "    </tr>\n",
       "    <tr>\n",
       "      <th>12</th>\n",
       "      <td>V12</td>\n",
       "      <td>-18.683715</td>\n",
       "      <td>7.848392</td>\n",
       "      <td>-0.001596</td>\n",
       "      <td>0.144736</td>\n",
       "      <td>1.002343</td>\n",
       "      <td>&lt;NA&gt;</td>\n",
       "      <td>0</td>\n",
       "      <td>&lt;NA&gt;</td>\n",
       "    </tr>\n",
       "    <tr>\n",
       "      <th>13</th>\n",
       "      <td>V13</td>\n",
       "      <td>-5.791881</td>\n",
       "      <td>7.126883</td>\n",
       "      <td>0.001823</td>\n",
       "      <td>-0.009232</td>\n",
       "      <td>0.996051</td>\n",
       "      <td>&lt;NA&gt;</td>\n",
       "      <td>0</td>\n",
       "      <td>&lt;NA&gt;</td>\n",
       "    </tr>\n",
       "    <tr>\n",
       "      <th>14</th>\n",
       "      <td>V14</td>\n",
       "      <td>-19.214325</td>\n",
       "      <td>10.526766</td>\n",
       "      <td>-0.000667</td>\n",
       "      <td>0.035451</td>\n",
       "      <td>0.961650</td>\n",
       "      <td>&lt;NA&gt;</td>\n",
       "      <td>0</td>\n",
       "      <td>&lt;NA&gt;</td>\n",
       "    </tr>\n",
       "    <tr>\n",
       "      <th>15</th>\n",
       "      <td>V15</td>\n",
       "      <td>-4.498945</td>\n",
       "      <td>8.877742</td>\n",
       "      <td>0.000422</td>\n",
       "      <td>0.032115</td>\n",
       "      <td>0.916010</td>\n",
       "      <td>&lt;NA&gt;</td>\n",
       "      <td>0</td>\n",
       "      <td>&lt;NA&gt;</td>\n",
       "    </tr>\n",
       "    <tr>\n",
       "      <th>16</th>\n",
       "      <td>V16</td>\n",
       "      <td>-13.563273</td>\n",
       "      <td>17.315112</td>\n",
       "      <td>-0.000231</td>\n",
       "      <td>0.068006</td>\n",
       "      <td>0.876491</td>\n",
       "      <td>&lt;NA&gt;</td>\n",
       "      <td>0</td>\n",
       "      <td>&lt;NA&gt;</td>\n",
       "    </tr>\n",
       "    <tr>\n",
       "      <th>17</th>\n",
       "      <td>V17</td>\n",
       "      <td>-25.162799</td>\n",
       "      <td>9.253526</td>\n",
       "      <td>0.000599</td>\n",
       "      <td>-0.073439</td>\n",
       "      <td>0.851699</td>\n",
       "      <td>&lt;NA&gt;</td>\n",
       "      <td>0</td>\n",
       "      <td>&lt;NA&gt;</td>\n",
       "    </tr>\n",
       "    <tr>\n",
       "      <th>18</th>\n",
       "      <td>V18</td>\n",
       "      <td>-9.498746</td>\n",
       "      <td>5.041069</td>\n",
       "      <td>-0.000701</td>\n",
       "      <td>-0.015113</td>\n",
       "      <td>0.839235</td>\n",
       "      <td>&lt;NA&gt;</td>\n",
       "      <td>0</td>\n",
       "      <td>&lt;NA&gt;</td>\n",
       "    </tr>\n",
       "    <tr>\n",
       "      <th>19</th>\n",
       "      <td>V19</td>\n",
       "      <td>-7.213527</td>\n",
       "      <td>5.591971</td>\n",
       "      <td>-0.001121</td>\n",
       "      <td>-0.007107</td>\n",
       "      <td>0.814700</td>\n",
       "      <td>&lt;NA&gt;</td>\n",
       "      <td>0</td>\n",
       "      <td>&lt;NA&gt;</td>\n",
       "    </tr>\n",
       "    <tr>\n",
       "      <th>20</th>\n",
       "      <td>V20</td>\n",
       "      <td>-54.497720</td>\n",
       "      <td>39.420904</td>\n",
       "      <td>0.000744</td>\n",
       "      <td>-0.062406</td>\n",
       "      <td>0.773090</td>\n",
       "      <td>&lt;NA&gt;</td>\n",
       "      <td>0</td>\n",
       "      <td>&lt;NA&gt;</td>\n",
       "    </tr>\n",
       "    <tr>\n",
       "      <th>21</th>\n",
       "      <td>V21</td>\n",
       "      <td>-34.830382</td>\n",
       "      <td>27.202839</td>\n",
       "      <td>-0.000542</td>\n",
       "      <td>-0.028685</td>\n",
       "      <td>0.739335</td>\n",
       "      <td>&lt;NA&gt;</td>\n",
       "      <td>0</td>\n",
       "      <td>&lt;NA&gt;</td>\n",
       "    </tr>\n",
       "    <tr>\n",
       "      <th>22</th>\n",
       "      <td>V22</td>\n",
       "      <td>-10.933144</td>\n",
       "      <td>10.503090</td>\n",
       "      <td>0.000768</td>\n",
       "      <td>0.004500</td>\n",
       "      <td>0.725885</td>\n",
       "      <td>&lt;NA&gt;</td>\n",
       "      <td>0</td>\n",
       "      <td>&lt;NA&gt;</td>\n",
       "    </tr>\n",
       "    <tr>\n",
       "      <th>23</th>\n",
       "      <td>V23</td>\n",
       "      <td>-36.666000</td>\n",
       "      <td>22.083545</td>\n",
       "      <td>0.000326</td>\n",
       "      <td>-0.012146</td>\n",
       "      <td>0.614379</td>\n",
       "      <td>&lt;NA&gt;</td>\n",
       "      <td>0</td>\n",
       "      <td>&lt;NA&gt;</td>\n",
       "    </tr>\n",
       "    <tr>\n",
       "      <th>24</th>\n",
       "      <td>V24</td>\n",
       "      <td>-2.836627</td>\n",
       "      <td>4.584549</td>\n",
       "      <td>0.000351</td>\n",
       "      <td>0.039538</td>\n",
       "      <td>0.606016</td>\n",
       "      <td>&lt;NA&gt;</td>\n",
       "      <td>0</td>\n",
       "      <td>&lt;NA&gt;</td>\n",
       "    </tr>\n",
       "    <tr>\n",
       "      <th>25</th>\n",
       "      <td>V25</td>\n",
       "      <td>-8.696627</td>\n",
       "      <td>6.070850</td>\n",
       "      <td>-0.000594</td>\n",
       "      <td>0.006508</td>\n",
       "      <td>0.521749</td>\n",
       "      <td>&lt;NA&gt;</td>\n",
       "      <td>0</td>\n",
       "      <td>&lt;NA&gt;</td>\n",
       "    </tr>\n",
       "    <tr>\n",
       "      <th>26</th>\n",
       "      <td>V26</td>\n",
       "      <td>-2.604551</td>\n",
       "      <td>3.517346</td>\n",
       "      <td>0.000466</td>\n",
       "      <td>-0.052181</td>\n",
       "      <td>0.481984</td>\n",
       "      <td>&lt;NA&gt;</td>\n",
       "      <td>0</td>\n",
       "      <td>&lt;NA&gt;</td>\n",
       "    </tr>\n",
       "    <tr>\n",
       "      <th>27</th>\n",
       "      <td>V27</td>\n",
       "      <td>-22.565679</td>\n",
       "      <td>31.612198</td>\n",
       "      <td>-0.000629</td>\n",
       "      <td>0.000190</td>\n",
       "      <td>0.405146</td>\n",
       "      <td>&lt;NA&gt;</td>\n",
       "      <td>0</td>\n",
       "      <td>&lt;NA&gt;</td>\n",
       "    </tr>\n",
       "    <tr>\n",
       "      <th>28</th>\n",
       "      <td>V28</td>\n",
       "      <td>-15.430084</td>\n",
       "      <td>33.847808</td>\n",
       "      <td>-0.000083</td>\n",
       "      <td>0.010364</td>\n",
       "      <td>0.329876</td>\n",
       "      <td>&lt;NA&gt;</td>\n",
       "      <td>0</td>\n",
       "      <td>&lt;NA&gt;</td>\n",
       "    </tr>\n",
       "    <tr>\n",
       "      <th>29</th>\n",
       "      <td>Amount</td>\n",
       "      <td>0.000000</td>\n",
       "      <td>25691.160000</td>\n",
       "      <td>88.535335</td>\n",
       "      <td>21.670000</td>\n",
       "      <td>251.361162</td>\n",
       "      <td>&lt;NA&gt;</td>\n",
       "      <td>0</td>\n",
       "      <td>&lt;NA&gt;</td>\n",
       "    </tr>\n",
       "  </tbody>\n",
       "</table>\n",
       "</div>"
      ],
      "text/plain": [
       "     input         min            max          mean        median  \\\n",
       "0     Time    0.000000  172792.000000  94811.116749  85332.000000   \n",
       "1       V1  -56.407510       2.454930     -0.000215      0.027382   \n",
       "2       V2  -72.715728      22.057729      0.000316      0.058447   \n",
       "3       V3  -48.325589       9.382558     -0.000525      0.183854   \n",
       "4       V4   -5.600607      16.875344      0.000695     -0.035812   \n",
       "5       V5 -113.743307      34.801666     -0.001264     -0.052977   \n",
       "6       V6  -26.160506      73.301626      0.002089     -0.264349   \n",
       "7       V7  -43.557242     120.589494     -0.000721      0.034484   \n",
       "8       V8  -73.216718      19.168327     -0.001064      0.027078   \n",
       "9       V9  -13.434066      15.594995      0.001406     -0.054755   \n",
       "10     V10  -24.588262      23.745136     -0.000072     -0.094192   \n",
       "11     V11   -4.797473      12.018913     -0.000641     -0.035042   \n",
       "12     V12  -18.683715       7.848392     -0.001596      0.144736   \n",
       "13     V13   -5.791881       7.126883      0.001823     -0.009232   \n",
       "14     V14  -19.214325      10.526766     -0.000667      0.035451   \n",
       "15     V15   -4.498945       8.877742      0.000422      0.032115   \n",
       "16     V16  -13.563273      17.315112     -0.000231      0.068006   \n",
       "17     V17  -25.162799       9.253526      0.000599     -0.073439   \n",
       "18     V18   -9.498746       5.041069     -0.000701     -0.015113   \n",
       "19     V19   -7.213527       5.591971     -0.001121     -0.007107   \n",
       "20     V20  -54.497720      39.420904      0.000744     -0.062406   \n",
       "21     V21  -34.830382      27.202839     -0.000542     -0.028685   \n",
       "22     V22  -10.933144      10.503090      0.000768      0.004500   \n",
       "23     V23  -36.666000      22.083545      0.000326     -0.012146   \n",
       "24     V24   -2.836627       4.584549      0.000351      0.039538   \n",
       "25     V25   -8.696627       6.070850     -0.000594      0.006508   \n",
       "26     V26   -2.604551       3.517346      0.000466     -0.052181   \n",
       "27     V27  -22.565679      31.612198     -0.000629      0.000190   \n",
       "28     V28  -15.430084      33.847808     -0.000083      0.010364   \n",
       "29  Amount    0.000000   25691.160000     88.535335     21.670000   \n",
       "\n",
       "          stddev  category_count  null_count  dimension  \n",
       "0   47493.531641            <NA>           0       <NA>  \n",
       "1       1.958173            <NA>           0       <NA>  \n",
       "2       1.649662            <NA>           0       <NA>  \n",
       "3       1.520173            <NA>           0       <NA>  \n",
       "4       1.415309            <NA>           0       <NA>  \n",
       "5       1.381807            <NA>           0       <NA>  \n",
       "6       1.334135            <NA>           0       <NA>  \n",
       "7       1.245465            <NA>           0       <NA>  \n",
       "8       1.205023            <NA>           0       <NA>  \n",
       "9       1.100121            <NA>           0       <NA>  \n",
       "10      1.093471            <NA>           0       <NA>  \n",
       "11      1.021083            <NA>           0       <NA>  \n",
       "12      1.002343            <NA>           0       <NA>  \n",
       "13      0.996051            <NA>           0       <NA>  \n",
       "14      0.961650            <NA>           0       <NA>  \n",
       "15      0.916010            <NA>           0       <NA>  \n",
       "16      0.876491            <NA>           0       <NA>  \n",
       "17      0.851699            <NA>           0       <NA>  \n",
       "18      0.839235            <NA>           0       <NA>  \n",
       "19      0.814700            <NA>           0       <NA>  \n",
       "20      0.773090            <NA>           0       <NA>  \n",
       "21      0.739335            <NA>           0       <NA>  \n",
       "22      0.725885            <NA>           0       <NA>  \n",
       "23      0.614379            <NA>           0       <NA>  \n",
       "24      0.606016            <NA>           0       <NA>  \n",
       "25      0.521749            <NA>           0       <NA>  \n",
       "26      0.481984            <NA>           0       <NA>  \n",
       "27      0.405146            <NA>           0       <NA>  \n",
       "28      0.329876            <NA>           0       <NA>  \n",
       "29    251.361162            <NA>           0       <NA>  "
      ]
     },
     "execution_count": 30,
     "metadata": {},
     "output_type": "execute_result"
    }
   ],
   "source": [
    "feature_info = bq.query(\n",
    "    query = f\"\"\"\n",
    "        SELECT *\n",
    "        FROM ML.FEATURE_INFO(MODEL `{BQ_PROJECT}.{BQ_DATASET}.{BQ_MODEL}`)\n",
    "        \"\"\"\n",
    ").to_dataframe()\n",
    "feature_info"
   ]
  },
  {
   "cell_type": "markdown",
   "id": "c0a437de-9c45-4bb6-b806-c98d8875c3d8",
   "metadata": {},
   "source": [
    "Retrieve the trial info for the hyperparameter tuning trials with [ML.TRIAL_INFO](https://cloud.google.com/bigquery-ml/docs/reference/standard-sql/bigqueryml-syntax-trial-info):"
   ]
  },
  {
   "cell_type": "code",
   "execution_count": 33,
   "id": "d82adbab-41bc-4a65-8698-484a1a30bc9c",
   "metadata": {},
   "outputs": [
    {
     "data": {
      "text/html": [
       "<div>\n",
       "<style scoped>\n",
       "    .dataframe tbody tr th:only-of-type {\n",
       "        vertical-align: middle;\n",
       "    }\n",
       "\n",
       "    .dataframe tbody tr th {\n",
       "        vertical-align: top;\n",
       "    }\n",
       "\n",
       "    .dataframe thead th {\n",
       "        text-align: right;\n",
       "    }\n",
       "</style>\n",
       "<table border=\"1\" class=\"dataframe\">\n",
       "  <thead>\n",
       "    <tr style=\"text-align: right;\">\n",
       "      <th></th>\n",
       "      <th>trial_id</th>\n",
       "      <th>hyperparameters</th>\n",
       "      <th>hparam_tuning_evaluation_metrics</th>\n",
       "      <th>training_loss</th>\n",
       "      <th>eval_loss</th>\n",
       "      <th>status</th>\n",
       "      <th>error_message</th>\n",
       "      <th>is_optimal</th>\n",
       "    </tr>\n",
       "  </thead>\n",
       "  <tbody>\n",
       "    <tr>\n",
       "      <th>0</th>\n",
       "      <td>1</td>\n",
       "      <td>{'l1_reg': 1e-14, 'l2_reg': 1e-14}</td>\n",
       "      <td>{'roc_auc': 0.9537232767232767}</td>\n",
       "      <td>0.117352</td>\n",
       "      <td>0.117913</td>\n",
       "      <td>SUCCEEDED</td>\n",
       "      <td>None</td>\n",
       "      <td>False</td>\n",
       "    </tr>\n",
       "    <tr>\n",
       "      <th>1</th>\n",
       "      <td>2</td>\n",
       "      <td>{'l1_reg': 5.4904207538718e-11, 'l2_reg': 5.47...</td>\n",
       "      <td>{'roc_auc': 0.9537232767232767}</td>\n",
       "      <td>0.117352</td>\n",
       "      <td>0.117913</td>\n",
       "      <td>SUCCEEDED</td>\n",
       "      <td>None</td>\n",
       "      <td>False</td>\n",
       "    </tr>\n",
       "    <tr>\n",
       "      <th>2</th>\n",
       "      <td>3</td>\n",
       "      <td>{'l1_reg': 6.599407074203018e-07, 'l2_reg': 1e...</td>\n",
       "      <td>{'roc_auc': 0.9537232767232767}</td>\n",
       "      <td>0.117352</td>\n",
       "      <td>0.117913</td>\n",
       "      <td>SUCCEEDED</td>\n",
       "      <td>None</td>\n",
       "      <td>False</td>\n",
       "    </tr>\n",
       "    <tr>\n",
       "      <th>3</th>\n",
       "      <td>4</td>\n",
       "      <td>{'l1_reg': 1.4404391944595593e-06, 'l2_reg': 1...</td>\n",
       "      <td>{'roc_auc': 0.9537232767232767}</td>\n",
       "      <td>0.117352</td>\n",
       "      <td>0.117913</td>\n",
       "      <td>SUCCEEDED</td>\n",
       "      <td>None</td>\n",
       "      <td>False</td>\n",
       "    </tr>\n",
       "    <tr>\n",
       "      <th>4</th>\n",
       "      <td>5</td>\n",
       "      <td>{'l1_reg': 2.911290879124974e-11, 'l2_reg': 0....</td>\n",
       "      <td>{'roc_auc': 0.9537442557442557}</td>\n",
       "      <td>0.117281</td>\n",
       "      <td>0.117840</td>\n",
       "      <td>SUCCEEDED</td>\n",
       "      <td>None</td>\n",
       "      <td>False</td>\n",
       "    </tr>\n",
       "    <tr>\n",
       "      <th>5</th>\n",
       "      <td>6</td>\n",
       "      <td>{'l1_reg': 0.18076296569918437, 'l2_reg': 0.18...</td>\n",
       "      <td>{'roc_auc': 0.9537652347652348}</td>\n",
       "      <td>0.117185</td>\n",
       "      <td>0.117742</td>\n",
       "      <td>SUCCEEDED</td>\n",
       "      <td>None</td>\n",
       "      <td>False</td>\n",
       "    </tr>\n",
       "    <tr>\n",
       "      <th>6</th>\n",
       "      <td>7</td>\n",
       "      <td>{'l1_reg': 1000.0, 'l2_reg': 758.4744813307261}</td>\n",
       "      <td>{'roc_auc': 0.9634755244755244}</td>\n",
       "      <td>0.669955</td>\n",
       "      <td>0.667117</td>\n",
       "      <td>SUCCEEDED</td>\n",
       "      <td>None</td>\n",
       "      <td>False</td>\n",
       "    </tr>\n",
       "    <tr>\n",
       "      <th>7</th>\n",
       "      <td>8</td>\n",
       "      <td>{'l1_reg': 2.311859291956475e-06, 'l2_reg': 10...</td>\n",
       "      <td>{'roc_auc': 0.9659300699300699}</td>\n",
       "      <td>0.667190</td>\n",
       "      <td>0.663684</td>\n",
       "      <td>SUCCEEDED</td>\n",
       "      <td>None</td>\n",
       "      <td>True</td>\n",
       "    </tr>\n",
       "    <tr>\n",
       "      <th>8</th>\n",
       "      <td>9</td>\n",
       "      <td>{'l1_reg': 1e-14, 'l2_reg': 1000.0}</td>\n",
       "      <td>{'roc_auc': 0.9659300699300699}</td>\n",
       "      <td>0.667190</td>\n",
       "      <td>0.663684</td>\n",
       "      <td>SUCCEEDED</td>\n",
       "      <td>None</td>\n",
       "      <td>True</td>\n",
       "    </tr>\n",
       "    <tr>\n",
       "      <th>9</th>\n",
       "      <td>10</td>\n",
       "      <td>{'l1_reg': 6.044595977681315e-10, 'l2_reg': 10...</td>\n",
       "      <td>{'roc_auc': 0.9659300699300699}</td>\n",
       "      <td>0.667190</td>\n",
       "      <td>0.663684</td>\n",
       "      <td>SUCCEEDED</td>\n",
       "      <td>None</td>\n",
       "      <td>True</td>\n",
       "    </tr>\n",
       "    <tr>\n",
       "      <th>10</th>\n",
       "      <td>11</td>\n",
       "      <td>{'l1_reg': 8.182531469952158e-13, 'l2_reg': 10...</td>\n",
       "      <td>{'roc_auc': 0.9659300699300699}</td>\n",
       "      <td>0.667190</td>\n",
       "      <td>0.663684</td>\n",
       "      <td>SUCCEEDED</td>\n",
       "      <td>None</td>\n",
       "      <td>True</td>\n",
       "    </tr>\n",
       "    <tr>\n",
       "      <th>11</th>\n",
       "      <td>12</td>\n",
       "      <td>{'l1_reg': 6.764643732456506e-08, 'l2_reg': 93...</td>\n",
       "      <td>{'roc_auc': 0.9657412587412587}</td>\n",
       "      <td>0.667749</td>\n",
       "      <td>0.664453</td>\n",
       "      <td>SUCCEEDED</td>\n",
       "      <td>None</td>\n",
       "      <td>False</td>\n",
       "    </tr>\n",
       "    <tr>\n",
       "      <th>12</th>\n",
       "      <td>13</td>\n",
       "      <td>{'l1_reg': 0.005078962950609297, 'l2_reg': 100...</td>\n",
       "      <td>{'roc_auc': 0.9659300699300699}</td>\n",
       "      <td>0.667190</td>\n",
       "      <td>0.663684</td>\n",
       "      <td>SUCCEEDED</td>\n",
       "      <td>None</td>\n",
       "      <td>True</td>\n",
       "    </tr>\n",
       "    <tr>\n",
       "      <th>13</th>\n",
       "      <td>14</td>\n",
       "      <td>{'l1_reg': 0.00029064756880083553, 'l2_reg': 7...</td>\n",
       "      <td>{'roc_auc': 0.9653006993006993}</td>\n",
       "      <td>0.669563</td>\n",
       "      <td>0.666867</td>\n",
       "      <td>SUCCEEDED</td>\n",
       "      <td>None</td>\n",
       "      <td>False</td>\n",
       "    </tr>\n",
       "    <tr>\n",
       "      <th>14</th>\n",
       "      <td>15</td>\n",
       "      <td>{'l1_reg': 1000.0, 'l2_reg': 0.000850451829052...</td>\n",
       "      <td>{'roc_auc': 0.9653026973026974}</td>\n",
       "      <td>0.120632</td>\n",
       "      <td>0.120955</td>\n",
       "      <td>SUCCEEDED</td>\n",
       "      <td>None</td>\n",
       "      <td>False</td>\n",
       "    </tr>\n",
       "    <tr>\n",
       "      <th>15</th>\n",
       "      <td>16</td>\n",
       "      <td>{'l1_reg': 1000.0, 'l2_reg': 6.282968049874348...</td>\n",
       "      <td>{'roc_auc': 0.9653026973026974}</td>\n",
       "      <td>0.120632</td>\n",
       "      <td>0.120955</td>\n",
       "      <td>SUCCEEDED</td>\n",
       "      <td>None</td>\n",
       "      <td>False</td>\n",
       "    </tr>\n",
       "    <tr>\n",
       "      <th>16</th>\n",
       "      <td>17</td>\n",
       "      <td>{'l1_reg': 1e-14, 'l2_reg': 0.14192255251973332}</td>\n",
       "      <td>{'roc_auc': 0.9537442557442557}</td>\n",
       "      <td>0.117220</td>\n",
       "      <td>0.117778</td>\n",
       "      <td>SUCCEEDED</td>\n",
       "      <td>None</td>\n",
       "      <td>False</td>\n",
       "    </tr>\n",
       "    <tr>\n",
       "      <th>17</th>\n",
       "      <td>18</td>\n",
       "      <td>{'l1_reg': 8.783977585394807e-14, 'l2_reg': 10...</td>\n",
       "      <td>{'roc_auc': 0.9659300699300699}</td>\n",
       "      <td>0.667190</td>\n",
       "      <td>0.663684</td>\n",
       "      <td>SUCCEEDED</td>\n",
       "      <td>None</td>\n",
       "      <td>True</td>\n",
       "    </tr>\n",
       "    <tr>\n",
       "      <th>18</th>\n",
       "      <td>19</td>\n",
       "      <td>{'l1_reg': 0.16896269944813297, 'l2_reg': 1000.0}</td>\n",
       "      <td>{'roc_auc': 0.9659300699300699}</td>\n",
       "      <td>0.667190</td>\n",
       "      <td>0.663684</td>\n",
       "      <td>SUCCEEDED</td>\n",
       "      <td>None</td>\n",
       "      <td>True</td>\n",
       "    </tr>\n",
       "    <tr>\n",
       "      <th>19</th>\n",
       "      <td>20</td>\n",
       "      <td>{'l1_reg': 2.6670945865729665e-11, 'l2_reg': 1...</td>\n",
       "      <td>{'roc_auc': 0.9659300699300699}</td>\n",
       "      <td>0.667190</td>\n",
       "      <td>0.663684</td>\n",
       "      <td>SUCCEEDED</td>\n",
       "      <td>None</td>\n",
       "      <td>True</td>\n",
       "    </tr>\n",
       "  </tbody>\n",
       "</table>\n",
       "</div>"
      ],
      "text/plain": [
       "    trial_id                                    hyperparameters  \\\n",
       "0          1                 {'l1_reg': 1e-14, 'l2_reg': 1e-14}   \n",
       "1          2  {'l1_reg': 5.4904207538718e-11, 'l2_reg': 5.47...   \n",
       "2          3  {'l1_reg': 6.599407074203018e-07, 'l2_reg': 1e...   \n",
       "3          4  {'l1_reg': 1.4404391944595593e-06, 'l2_reg': 1...   \n",
       "4          5  {'l1_reg': 2.911290879124974e-11, 'l2_reg': 0....   \n",
       "5          6  {'l1_reg': 0.18076296569918437, 'l2_reg': 0.18...   \n",
       "6          7    {'l1_reg': 1000.0, 'l2_reg': 758.4744813307261}   \n",
       "7          8  {'l1_reg': 2.311859291956475e-06, 'l2_reg': 10...   \n",
       "8          9                {'l1_reg': 1e-14, 'l2_reg': 1000.0}   \n",
       "9         10  {'l1_reg': 6.044595977681315e-10, 'l2_reg': 10...   \n",
       "10        11  {'l1_reg': 8.182531469952158e-13, 'l2_reg': 10...   \n",
       "11        12  {'l1_reg': 6.764643732456506e-08, 'l2_reg': 93...   \n",
       "12        13  {'l1_reg': 0.005078962950609297, 'l2_reg': 100...   \n",
       "13        14  {'l1_reg': 0.00029064756880083553, 'l2_reg': 7...   \n",
       "14        15  {'l1_reg': 1000.0, 'l2_reg': 0.000850451829052...   \n",
       "15        16  {'l1_reg': 1000.0, 'l2_reg': 6.282968049874348...   \n",
       "16        17   {'l1_reg': 1e-14, 'l2_reg': 0.14192255251973332}   \n",
       "17        18  {'l1_reg': 8.783977585394807e-14, 'l2_reg': 10...   \n",
       "18        19  {'l1_reg': 0.16896269944813297, 'l2_reg': 1000.0}   \n",
       "19        20  {'l1_reg': 2.6670945865729665e-11, 'l2_reg': 1...   \n",
       "\n",
       "   hparam_tuning_evaluation_metrics  training_loss  eval_loss     status  \\\n",
       "0   {'roc_auc': 0.9537232767232767}       0.117352   0.117913  SUCCEEDED   \n",
       "1   {'roc_auc': 0.9537232767232767}       0.117352   0.117913  SUCCEEDED   \n",
       "2   {'roc_auc': 0.9537232767232767}       0.117352   0.117913  SUCCEEDED   \n",
       "3   {'roc_auc': 0.9537232767232767}       0.117352   0.117913  SUCCEEDED   \n",
       "4   {'roc_auc': 0.9537442557442557}       0.117281   0.117840  SUCCEEDED   \n",
       "5   {'roc_auc': 0.9537652347652348}       0.117185   0.117742  SUCCEEDED   \n",
       "6   {'roc_auc': 0.9634755244755244}       0.669955   0.667117  SUCCEEDED   \n",
       "7   {'roc_auc': 0.9659300699300699}       0.667190   0.663684  SUCCEEDED   \n",
       "8   {'roc_auc': 0.9659300699300699}       0.667190   0.663684  SUCCEEDED   \n",
       "9   {'roc_auc': 0.9659300699300699}       0.667190   0.663684  SUCCEEDED   \n",
       "10  {'roc_auc': 0.9659300699300699}       0.667190   0.663684  SUCCEEDED   \n",
       "11  {'roc_auc': 0.9657412587412587}       0.667749   0.664453  SUCCEEDED   \n",
       "12  {'roc_auc': 0.9659300699300699}       0.667190   0.663684  SUCCEEDED   \n",
       "13  {'roc_auc': 0.9653006993006993}       0.669563   0.666867  SUCCEEDED   \n",
       "14  {'roc_auc': 0.9653026973026974}       0.120632   0.120955  SUCCEEDED   \n",
       "15  {'roc_auc': 0.9653026973026974}       0.120632   0.120955  SUCCEEDED   \n",
       "16  {'roc_auc': 0.9537442557442557}       0.117220   0.117778  SUCCEEDED   \n",
       "17  {'roc_auc': 0.9659300699300699}       0.667190   0.663684  SUCCEEDED   \n",
       "18  {'roc_auc': 0.9659300699300699}       0.667190   0.663684  SUCCEEDED   \n",
       "19  {'roc_auc': 0.9659300699300699}       0.667190   0.663684  SUCCEEDED   \n",
       "\n",
       "   error_message  is_optimal  \n",
       "0           None       False  \n",
       "1           None       False  \n",
       "2           None       False  \n",
       "3           None       False  \n",
       "4           None       False  \n",
       "5           None       False  \n",
       "6           None       False  \n",
       "7           None        True  \n",
       "8           None        True  \n",
       "9           None        True  \n",
       "10          None        True  \n",
       "11          None       False  \n",
       "12          None        True  \n",
       "13          None       False  \n",
       "14          None       False  \n",
       "15          None       False  \n",
       "16          None       False  \n",
       "17          None        True  \n",
       "18          None        True  \n",
       "19          None        True  "
      ]
     },
     "execution_count": 33,
     "metadata": {},
     "output_type": "execute_result"
    }
   ],
   "source": [
    "trials = bq.query(\n",
    "    query = f\"\"\"\n",
    "        SELECT *\n",
    "        FROM ML.TRIAL_INFO(MODEL `{BQ_PROJECT}.{BQ_DATASET}.{BQ_MODEL}`)\n",
    "        \"\"\"\n",
    ").to_dataframe()\n",
    "trials"
   ]
  },
  {
   "cell_type": "markdown",
   "id": "5b5a9791-ae05-4c9e-a306-c164b6748000",
   "metadata": {},
   "source": [
    "---\n",
    "## Evaluate Model"
   ]
  },
  {
   "cell_type": "markdown",
   "id": "507287ca-f7a4-4d34-9b42-97d2e3b4dc35",
   "metadata": {},
   "source": [
    "### Metrics"
   ]
  },
  {
   "cell_type": "markdown",
   "id": "0f3711ea-c0aa-4cef-8389-1245e5424908",
   "metadata": {},
   "source": [
    "Review the model evaluation statistics on the splits with [ML.EVALUATE](https://cloud.google.com/bigquery-ml/docs/reference/standard-sql/bigqueryml-syntax-evaluate):"
   ]
  },
  {
   "cell_type": "code",
   "execution_count": 34,
   "id": "b61bc190-035e-4e7d-b0b6-ee1796ce3b0f",
   "metadata": {},
   "outputs": [
    {
     "data": {
      "text/html": [
       "<div>\n",
       "<style scoped>\n",
       "    .dataframe tbody tr th:only-of-type {\n",
       "        vertical-align: middle;\n",
       "    }\n",
       "\n",
       "    .dataframe tbody tr th {\n",
       "        vertical-align: top;\n",
       "    }\n",
       "\n",
       "    .dataframe thead th {\n",
       "        text-align: right;\n",
       "    }\n",
       "</style>\n",
       "<table border=\"1\" class=\"dataframe\">\n",
       "  <thead>\n",
       "    <tr style=\"text-align: right;\">\n",
       "      <th></th>\n",
       "      <th>SPLIT</th>\n",
       "      <th>trial_id</th>\n",
       "      <th>precision</th>\n",
       "      <th>recall</th>\n",
       "      <th>accuracy</th>\n",
       "      <th>f1_score</th>\n",
       "      <th>log_loss</th>\n",
       "      <th>roc_auc</th>\n",
       "    </tr>\n",
       "  </thead>\n",
       "  <tbody>\n",
       "    <tr>\n",
       "      <th>0</th>\n",
       "      <td>VALIDATE</td>\n",
       "      <td>8</td>\n",
       "      <td>0.006135</td>\n",
       "      <td>0.958333</td>\n",
       "      <td>0.736086</td>\n",
       "      <td>0.012192</td>\n",
       "      <td>0.788194</td>\n",
       "      <td>0.965930</td>\n",
       "    </tr>\n",
       "    <tr>\n",
       "      <th>1</th>\n",
       "      <td>TEST</td>\n",
       "      <td>8</td>\n",
       "      <td>0.006008</td>\n",
       "      <td>0.978723</td>\n",
       "      <td>0.732931</td>\n",
       "      <td>0.011942</td>\n",
       "      <td>0.733832</td>\n",
       "      <td>0.977393</td>\n",
       "    </tr>\n",
       "    <tr>\n",
       "      <th>2</th>\n",
       "      <td>TRAIN</td>\n",
       "      <td>8</td>\n",
       "      <td>0.006415</td>\n",
       "      <td>0.989924</td>\n",
       "      <td>0.733098</td>\n",
       "      <td>0.012748</td>\n",
       "      <td>0.747044</td>\n",
       "      <td>0.986035</td>\n",
       "    </tr>\n",
       "  </tbody>\n",
       "</table>\n",
       "</div>"
      ],
      "text/plain": [
       "      SPLIT  trial_id  precision    recall  accuracy  f1_score  log_loss  \\\n",
       "0  VALIDATE         8   0.006135  0.958333  0.736086  0.012192  0.788194   \n",
       "1      TEST         8   0.006008  0.978723  0.732931  0.011942  0.733832   \n",
       "2     TRAIN         8   0.006415  0.989924  0.733098  0.012748  0.747044   \n",
       "\n",
       "    roc_auc  \n",
       "0  0.965930  \n",
       "1  0.977393  \n",
       "2  0.986035  "
      ]
     },
     "execution_count": 34,
     "metadata": {},
     "output_type": "execute_result"
    }
   ],
   "source": [
    "query = f\"\"\"\n",
    "SELECT 'TEST' as SPLIT, * FROM ML.EVALUATE (MODEL `{BQ_PROJECT}.{BQ_DATASET}.{BQ_MODEL}`,\n",
    "    (SELECT * FROM `{BQ_PROJECT}.{BQ_DATASET}.{BQ_TABLE}` WHERE SPLITS='TEST'))\n",
    "UNION ALL\n",
    "SELECT 'VALIDATE' as SPLIT, * FROM ML.EVALUATE (MODEL `{BQ_PROJECT}.{BQ_DATASET}.{BQ_MODEL}`,\n",
    "    (SELECT * FROM `{BQ_PROJECT}.{BQ_DATASET}.{BQ_TABLE}` WHERE SPLITS='VALIDATE'))\n",
    "UNION ALL\n",
    "SELECT 'TRAIN' as SPLIT, * FROM ML.EVALUATE (MODEL `{BQ_PROJECT}.{BQ_DATASET}.{BQ_MODEL}`,\n",
    "    (SELECT * FROM `{BQ_PROJECT}.{BQ_DATASET}.{BQ_TABLE}` WHERE SPLITS='TRAIN'))\n",
    "\"\"\"\n",
    "bq.query(query = query).to_dataframe()"
   ]
  },
  {
   "cell_type": "markdown",
   "id": "5dbc24cf-1454-4d24-a706-42b79527a14e",
   "metadata": {},
   "source": [
    "### Confusion Matrix"
   ]
  },
  {
   "cell_type": "markdown",
   "id": "3e1b7ece-c760-48ca-a371-dc7604a6ee0e",
   "metadata": {},
   "source": [
    "Review the confusion matrix for each split with [ML.CONFUSION_MATRIX](https://cloud.google.com/bigquery-ml/docs/reference/standard-sql/bigqueryml-syntax-confusion):"
   ]
  },
  {
   "cell_type": "code",
   "execution_count": 35,
   "id": "f9d0a620-fb65-4d66-ae61-47ff7aebce90",
   "metadata": {},
   "outputs": [
    {
     "data": {
      "text/html": [
       "<div>\n",
       "<style scoped>\n",
       "    .dataframe tbody tr th:only-of-type {\n",
       "        vertical-align: middle;\n",
       "    }\n",
       "\n",
       "    .dataframe tbody tr th {\n",
       "        vertical-align: top;\n",
       "    }\n",
       "\n",
       "    .dataframe thead th {\n",
       "        text-align: right;\n",
       "    }\n",
       "</style>\n",
       "<table border=\"1\" class=\"dataframe\">\n",
       "  <thead>\n",
       "    <tr style=\"text-align: right;\">\n",
       "      <th></th>\n",
       "      <th>trial_id</th>\n",
       "      <th>expected_label</th>\n",
       "      <th>_0</th>\n",
       "      <th>_1</th>\n",
       "    </tr>\n",
       "  </thead>\n",
       "  <tbody>\n",
       "    <tr>\n",
       "      <th>0</th>\n",
       "      <td>8</td>\n",
       "      <td>0</td>\n",
       "      <td>166798</td>\n",
       "      <td>60866</td>\n",
       "    </tr>\n",
       "    <tr>\n",
       "      <th>1</th>\n",
       "      <td>8</td>\n",
       "      <td>1</td>\n",
       "      <td>4</td>\n",
       "      <td>393</td>\n",
       "    </tr>\n",
       "  </tbody>\n",
       "</table>\n",
       "</div>"
      ],
      "text/plain": [
       "   trial_id  expected_label      _0     _1\n",
       "0         8               0  166798  60866\n",
       "1         8               1       4    393"
      ]
     },
     "execution_count": 35,
     "metadata": {},
     "output_type": "execute_result"
    }
   ],
   "source": [
    "query = f\"\"\"\n",
    "SELECT *\n",
    "FROM ML.CONFUSION_MATRIX (MODEL `{BQ_PROJECT}.{BQ_DATASET}.{BQ_MODEL}`,(\n",
    "    SELECT *\n",
    "    FROM `{BQ_PROJECT}.{BQ_DATASET}.{BQ_TABLE}`\n",
    "    WHERE splits = 'TRAIN')\n",
    "  )\n",
    "\"\"\"\n",
    "bq.query(query = query).to_dataframe()"
   ]
  },
  {
   "cell_type": "code",
   "execution_count": 36,
   "id": "61ec830a-c946-4fe2-b04e-581367a41598",
   "metadata": {},
   "outputs": [
    {
     "data": {
      "text/html": [
       "<div>\n",
       "<style scoped>\n",
       "    .dataframe tbody tr th:only-of-type {\n",
       "        vertical-align: middle;\n",
       "    }\n",
       "\n",
       "    .dataframe tbody tr th {\n",
       "        vertical-align: top;\n",
       "    }\n",
       "\n",
       "    .dataframe thead th {\n",
       "        text-align: right;\n",
       "    }\n",
       "</style>\n",
       "<table border=\"1\" class=\"dataframe\">\n",
       "  <thead>\n",
       "    <tr style=\"text-align: right;\">\n",
       "      <th></th>\n",
       "      <th>trial_id</th>\n",
       "      <th>expected_label</th>\n",
       "      <th>_0</th>\n",
       "      <th>_1</th>\n",
       "    </tr>\n",
       "  </thead>\n",
       "  <tbody>\n",
       "    <tr>\n",
       "      <th>0</th>\n",
       "      <td>8</td>\n",
       "      <td>0</td>\n",
       "      <td>20744</td>\n",
       "      <td>7452</td>\n",
       "    </tr>\n",
       "    <tr>\n",
       "      <th>1</th>\n",
       "      <td>8</td>\n",
       "      <td>1</td>\n",
       "      <td>2</td>\n",
       "      <td>46</td>\n",
       "    </tr>\n",
       "  </tbody>\n",
       "</table>\n",
       "</div>"
      ],
      "text/plain": [
       "   trial_id  expected_label     _0    _1\n",
       "0         8               0  20744  7452\n",
       "1         8               1      2    46"
      ]
     },
     "execution_count": 36,
     "metadata": {},
     "output_type": "execute_result"
    }
   ],
   "source": [
    "query = f\"\"\"\n",
    "SELECT *\n",
    "FROM ML.CONFUSION_MATRIX (MODEL `{BQ_PROJECT}.{BQ_DATASET}.{BQ_MODEL}`,(\n",
    "    SELECT *\n",
    "    FROM `{BQ_PROJECT}.{BQ_DATASET}.{BQ_TABLE}`\n",
    "    WHERE splits = 'VALIDATE')\n",
    "  )\n",
    "\"\"\"\n",
    "bq.query(query = query).to_dataframe()"
   ]
  },
  {
   "cell_type": "code",
   "execution_count": 37,
   "id": "7dc51f95-bb80-4656-9a1c-7fa03119cef2",
   "metadata": {},
   "outputs": [
    {
     "data": {
      "text/html": [
       "<div>\n",
       "<style scoped>\n",
       "    .dataframe tbody tr th:only-of-type {\n",
       "        vertical-align: middle;\n",
       "    }\n",
       "\n",
       "    .dataframe tbody tr th {\n",
       "        vertical-align: top;\n",
       "    }\n",
       "\n",
       "    .dataframe thead th {\n",
       "        text-align: right;\n",
       "    }\n",
       "</style>\n",
       "<table border=\"1\" class=\"dataframe\">\n",
       "  <thead>\n",
       "    <tr style=\"text-align: right;\">\n",
       "      <th></th>\n",
       "      <th>trial_id</th>\n",
       "      <th>expected_label</th>\n",
       "      <th>_0</th>\n",
       "      <th>_1</th>\n",
       "    </tr>\n",
       "  </thead>\n",
       "  <tbody>\n",
       "    <tr>\n",
       "      <th>0</th>\n",
       "      <td>8</td>\n",
       "      <td>0</td>\n",
       "      <td>20844</td>\n",
       "      <td>7611</td>\n",
       "    </tr>\n",
       "    <tr>\n",
       "      <th>1</th>\n",
       "      <td>8</td>\n",
       "      <td>1</td>\n",
       "      <td>1</td>\n",
       "      <td>46</td>\n",
       "    </tr>\n",
       "  </tbody>\n",
       "</table>\n",
       "</div>"
      ],
      "text/plain": [
       "   trial_id  expected_label     _0    _1\n",
       "0         8               0  20844  7611\n",
       "1         8               1      1    46"
      ]
     },
     "execution_count": 37,
     "metadata": {},
     "output_type": "execute_result"
    }
   ],
   "source": [
    "query = f\"\"\"\n",
    "SELECT *\n",
    "FROM ML.CONFUSION_MATRIX (MODEL `{BQ_PROJECT}.{BQ_DATASET}.{BQ_MODEL}`,(\n",
    "    SELECT *\n",
    "    FROM `{BQ_PROJECT}.{BQ_DATASET}.{BQ_TABLE}`\n",
    "    WHERE splits = 'TEST')\n",
    "  )\n",
    "\"\"\"\n",
    "bq.query(query = query).to_dataframe()"
   ]
  },
  {
   "cell_type": "markdown",
   "id": "8b2e9050-d8ad-4c8b-b1f8-e662da20f33d",
   "metadata": {},
   "source": [
    "### ROC Curve\n",
    "\n",
    "Retrieve the ROC Curve for each split using [ML.ROC_CURVE](https://cloud.google.com/bigquery-ml/docs/reference/standard-sql/bigqueryml-syntax-roc):"
   ]
  },
  {
   "cell_type": "code",
   "execution_count": 38,
   "id": "4c2525b4-852d-4656-98b9-570e4054a1a7",
   "metadata": {},
   "outputs": [
    {
     "data": {
      "text/html": [
       "<div>\n",
       "<style scoped>\n",
       "    .dataframe tbody tr th:only-of-type {\n",
       "        vertical-align: middle;\n",
       "    }\n",
       "\n",
       "    .dataframe tbody tr th {\n",
       "        vertical-align: top;\n",
       "    }\n",
       "\n",
       "    .dataframe thead th {\n",
       "        text-align: right;\n",
       "    }\n",
       "</style>\n",
       "<table border=\"1\" class=\"dataframe\">\n",
       "  <thead>\n",
       "    <tr style=\"text-align: right;\">\n",
       "      <th></th>\n",
       "      <th>trial_id</th>\n",
       "      <th>threshold</th>\n",
       "      <th>recall</th>\n",
       "      <th>false_positive_rate</th>\n",
       "      <th>true_positives</th>\n",
       "      <th>false_positives</th>\n",
       "      <th>true_negatives</th>\n",
       "      <th>false_negatives</th>\n",
       "    </tr>\n",
       "  </thead>\n",
       "  <tbody>\n",
       "    <tr>\n",
       "      <th>0</th>\n",
       "      <td>8</td>\n",
       "      <td>1.000000</td>\n",
       "      <td>0.702771</td>\n",
       "      <td>0.000198</td>\n",
       "      <td>279</td>\n",
       "      <td>45</td>\n",
       "      <td>227619</td>\n",
       "      <td>118</td>\n",
       "    </tr>\n",
       "    <tr>\n",
       "      <th>1</th>\n",
       "      <td>8</td>\n",
       "      <td>0.827149</td>\n",
       "      <td>0.866499</td>\n",
       "      <td>0.008657</td>\n",
       "      <td>344</td>\n",
       "      <td>1971</td>\n",
       "      <td>225693</td>\n",
       "      <td>53</td>\n",
       "    </tr>\n",
       "    <tr>\n",
       "      <th>2</th>\n",
       "      <td>8</td>\n",
       "      <td>0.749170</td>\n",
       "      <td>0.894207</td>\n",
       "      <td>0.018488</td>\n",
       "      <td>355</td>\n",
       "      <td>4209</td>\n",
       "      <td>223455</td>\n",
       "      <td>42</td>\n",
       "    </tr>\n",
       "    <tr>\n",
       "      <th>3</th>\n",
       "      <td>8</td>\n",
       "      <td>0.682884</td>\n",
       "      <td>0.916877</td>\n",
       "      <td>0.028564</td>\n",
       "      <td>364</td>\n",
       "      <td>6503</td>\n",
       "      <td>221161</td>\n",
       "      <td>33</td>\n",
       "    </tr>\n",
       "    <tr>\n",
       "      <th>4</th>\n",
       "      <td>8</td>\n",
       "      <td>0.657446</td>\n",
       "      <td>0.929471</td>\n",
       "      <td>0.038306</td>\n",
       "      <td>369</td>\n",
       "      <td>8721</td>\n",
       "      <td>218943</td>\n",
       "      <td>28</td>\n",
       "    </tr>\n",
       "  </tbody>\n",
       "</table>\n",
       "</div>"
      ],
      "text/plain": [
       "   trial_id  threshold    recall  false_positive_rate  true_positives  \\\n",
       "0         8   1.000000  0.702771             0.000198             279   \n",
       "1         8   0.827149  0.866499             0.008657             344   \n",
       "2         8   0.749170  0.894207             0.018488             355   \n",
       "3         8   0.682884  0.916877             0.028564             364   \n",
       "4         8   0.657446  0.929471             0.038306             369   \n",
       "\n",
       "   false_positives  true_negatives  false_negatives  \n",
       "0               45          227619              118  \n",
       "1             1971          225693               53  \n",
       "2             4209          223455               42  \n",
       "3             6503          221161               33  \n",
       "4             8721          218943               28  "
      ]
     },
     "execution_count": 38,
     "metadata": {},
     "output_type": "execute_result"
    }
   ],
   "source": [
    "query = f\"\"\"\n",
    "SELECT *\n",
    "FROM ML.ROC_CURVE (MODEL `{BQ_PROJECT}.{BQ_DATASET}.{BQ_MODEL}`,(\n",
    "    SELECT *\n",
    "    FROM `{BQ_PROJECT}.{BQ_DATASET}.{BQ_TABLE}`\n",
    "    WHERE splits = 'TRAIN')\n",
    "  )\n",
    "ORDER BY false_positive_rate\n",
    "\"\"\"\n",
    "train_roc = bq.query(query = query).to_dataframe()\n",
    "train_roc.head()"
   ]
  },
  {
   "cell_type": "code",
   "execution_count": 39,
   "id": "c7d5055a-8d4c-4caf-9e06-1c73d4bd3e77",
   "metadata": {},
   "outputs": [
    {
     "data": {
      "text/html": [
       "<div>\n",
       "<style scoped>\n",
       "    .dataframe tbody tr th:only-of-type {\n",
       "        vertical-align: middle;\n",
       "    }\n",
       "\n",
       "    .dataframe tbody tr th {\n",
       "        vertical-align: top;\n",
       "    }\n",
       "\n",
       "    .dataframe thead th {\n",
       "        text-align: right;\n",
       "    }\n",
       "</style>\n",
       "<table border=\"1\" class=\"dataframe\">\n",
       "  <thead>\n",
       "    <tr style=\"text-align: right;\">\n",
       "      <th></th>\n",
       "      <th>trial_id</th>\n",
       "      <th>threshold</th>\n",
       "      <th>recall</th>\n",
       "      <th>false_positive_rate</th>\n",
       "      <th>true_positives</th>\n",
       "      <th>false_positives</th>\n",
       "      <th>true_negatives</th>\n",
       "      <th>false_negatives</th>\n",
       "    </tr>\n",
       "  </thead>\n",
       "  <tbody>\n",
       "    <tr>\n",
       "      <th>0</th>\n",
       "      <td>8</td>\n",
       "      <td>1.000000</td>\n",
       "      <td>0.708333</td>\n",
       "      <td>0.000284</td>\n",
       "      <td>34</td>\n",
       "      <td>8</td>\n",
       "      <td>28188</td>\n",
       "      <td>14</td>\n",
       "    </tr>\n",
       "    <tr>\n",
       "      <th>1</th>\n",
       "      <td>8</td>\n",
       "      <td>0.822554</td>\n",
       "      <td>0.875000</td>\n",
       "      <td>0.008654</td>\n",
       "      <td>42</td>\n",
       "      <td>244</td>\n",
       "      <td>27952</td>\n",
       "      <td>6</td>\n",
       "    </tr>\n",
       "    <tr>\n",
       "      <th>2</th>\n",
       "      <td>8</td>\n",
       "      <td>0.754818</td>\n",
       "      <td>0.875000</td>\n",
       "      <td>0.018584</td>\n",
       "      <td>42</td>\n",
       "      <td>524</td>\n",
       "      <td>27672</td>\n",
       "      <td>6</td>\n",
       "    </tr>\n",
       "    <tr>\n",
       "      <th>3</th>\n",
       "      <td>8</td>\n",
       "      <td>0.687979</td>\n",
       "      <td>0.916667</td>\n",
       "      <td>0.028515</td>\n",
       "      <td>44</td>\n",
       "      <td>804</td>\n",
       "      <td>27392</td>\n",
       "      <td>4</td>\n",
       "    </tr>\n",
       "    <tr>\n",
       "      <th>4</th>\n",
       "      <td>8</td>\n",
       "      <td>0.658329</td>\n",
       "      <td>0.916667</td>\n",
       "      <td>0.038481</td>\n",
       "      <td>44</td>\n",
       "      <td>1085</td>\n",
       "      <td>27111</td>\n",
       "      <td>4</td>\n",
       "    </tr>\n",
       "  </tbody>\n",
       "</table>\n",
       "</div>"
      ],
      "text/plain": [
       "   trial_id  threshold    recall  false_positive_rate  true_positives  \\\n",
       "0         8   1.000000  0.708333             0.000284              34   \n",
       "1         8   0.822554  0.875000             0.008654              42   \n",
       "2         8   0.754818  0.875000             0.018584              42   \n",
       "3         8   0.687979  0.916667             0.028515              44   \n",
       "4         8   0.658329  0.916667             0.038481              44   \n",
       "\n",
       "   false_positives  true_negatives  false_negatives  \n",
       "0                8           28188               14  \n",
       "1              244           27952                6  \n",
       "2              524           27672                6  \n",
       "3              804           27392                4  \n",
       "4             1085           27111                4  "
      ]
     },
     "execution_count": 39,
     "metadata": {},
     "output_type": "execute_result"
    }
   ],
   "source": [
    "query = f\"\"\"\n",
    "SELECT *\n",
    "FROM ML.ROC_CURVE (MODEL `{BQ_PROJECT}.{BQ_DATASET}.{BQ_MODEL}`,(\n",
    "    SELECT *\n",
    "    FROM `{BQ_PROJECT}.{BQ_DATASET}.{BQ_TABLE}`\n",
    "    WHERE splits = 'VALIDATE')\n",
    "  )\n",
    "ORDER BY false_positive_rate\n",
    "\"\"\"\n",
    "val_roc = bq.query(query = query).to_dataframe()\n",
    "val_roc.head()"
   ]
  },
  {
   "cell_type": "code",
   "execution_count": 40,
   "id": "91dd7c5e-8693-4e1c-a89d-cf6a76a23842",
   "metadata": {},
   "outputs": [
    {
     "data": {
      "text/html": [
       "<div>\n",
       "<style scoped>\n",
       "    .dataframe tbody tr th:only-of-type {\n",
       "        vertical-align: middle;\n",
       "    }\n",
       "\n",
       "    .dataframe tbody tr th {\n",
       "        vertical-align: top;\n",
       "    }\n",
       "\n",
       "    .dataframe thead th {\n",
       "        text-align: right;\n",
       "    }\n",
       "</style>\n",
       "<table border=\"1\" class=\"dataframe\">\n",
       "  <thead>\n",
       "    <tr style=\"text-align: right;\">\n",
       "      <th></th>\n",
       "      <th>trial_id</th>\n",
       "      <th>threshold</th>\n",
       "      <th>recall</th>\n",
       "      <th>false_positive_rate</th>\n",
       "      <th>true_positives</th>\n",
       "      <th>false_positives</th>\n",
       "      <th>true_negatives</th>\n",
       "      <th>false_negatives</th>\n",
       "    </tr>\n",
       "  </thead>\n",
       "  <tbody>\n",
       "    <tr>\n",
       "      <th>0</th>\n",
       "      <td>8</td>\n",
       "      <td>1.000000</td>\n",
       "      <td>0.702128</td>\n",
       "      <td>0.000176</td>\n",
       "      <td>33</td>\n",
       "      <td>5</td>\n",
       "      <td>28450</td>\n",
       "      <td>14</td>\n",
       "    </tr>\n",
       "    <tr>\n",
       "      <th>1</th>\n",
       "      <td>8</td>\n",
       "      <td>0.824563</td>\n",
       "      <td>0.872340</td>\n",
       "      <td>0.008575</td>\n",
       "      <td>41</td>\n",
       "      <td>244</td>\n",
       "      <td>28211</td>\n",
       "      <td>6</td>\n",
       "    </tr>\n",
       "    <tr>\n",
       "      <th>2</th>\n",
       "      <td>8</td>\n",
       "      <td>0.745803</td>\n",
       "      <td>0.872340</td>\n",
       "      <td>0.018626</td>\n",
       "      <td>41</td>\n",
       "      <td>530</td>\n",
       "      <td>27925</td>\n",
       "      <td>6</td>\n",
       "    </tr>\n",
       "    <tr>\n",
       "      <th>3</th>\n",
       "      <td>8</td>\n",
       "      <td>0.684179</td>\n",
       "      <td>0.893617</td>\n",
       "      <td>0.028607</td>\n",
       "      <td>42</td>\n",
       "      <td>814</td>\n",
       "      <td>27641</td>\n",
       "      <td>5</td>\n",
       "    </tr>\n",
       "    <tr>\n",
       "      <th>4</th>\n",
       "      <td>8</td>\n",
       "      <td>0.657189</td>\n",
       "      <td>0.914894</td>\n",
       "      <td>0.038658</td>\n",
       "      <td>43</td>\n",
       "      <td>1100</td>\n",
       "      <td>27355</td>\n",
       "      <td>4</td>\n",
       "    </tr>\n",
       "  </tbody>\n",
       "</table>\n",
       "</div>"
      ],
      "text/plain": [
       "   trial_id  threshold    recall  false_positive_rate  true_positives  \\\n",
       "0         8   1.000000  0.702128             0.000176              33   \n",
       "1         8   0.824563  0.872340             0.008575              41   \n",
       "2         8   0.745803  0.872340             0.018626              41   \n",
       "3         8   0.684179  0.893617             0.028607              42   \n",
       "4         8   0.657189  0.914894             0.038658              43   \n",
       "\n",
       "   false_positives  true_negatives  false_negatives  \n",
       "0                5           28450               14  \n",
       "1              244           28211                6  \n",
       "2              530           27925                6  \n",
       "3              814           27641                5  \n",
       "4             1100           27355                4  "
      ]
     },
     "execution_count": 40,
     "metadata": {},
     "output_type": "execute_result"
    }
   ],
   "source": [
    "query = f\"\"\"\n",
    "SELECT *\n",
    "FROM ML.ROC_CURVE (MODEL `{BQ_PROJECT}.{BQ_DATASET}.{BQ_MODEL}`,(\n",
    "    SELECT *\n",
    "    FROM `{BQ_PROJECT}.{BQ_DATASET}.{BQ_TABLE}`\n",
    "    WHERE splits = 'TEST')\n",
    "  )\n",
    "ORDER BY false_positive_rate\n",
    "\"\"\"\n",
    "test_roc = bq.query(query = query).to_dataframe()\n",
    "test_roc.head()"
   ]
  },
  {
   "cell_type": "code",
   "execution_count": 41,
   "id": "d7daf52a-846f-47b5-9af7-8daed256511d",
   "metadata": {},
   "outputs": [
    {
     "data": {
      "image/png": "[encoded data removed]",
      "text/plain": [
       "<Figure size 1500x500 with 1 Axes>"
      ]
     },
     "metadata": {},
     "output_type": "display_data"
    }
   ],
   "source": [
    "plt.figure(figsize=(15,5))\n",
    "plt.plot(train_roc['false_positive_rate'], train_roc['recall'], label='TRAIN')\n",
    "plt.plot(val_roc['false_positive_rate'], val_roc['recall'], label='VALIDATE')\n",
    "plt.plot(test_roc['false_positive_rate'], test_roc['recall'], label='TEST')\n",
    "plt.xlabel('False Positive Rate')\n",
    "plt.ylabel('True Positive Rate\\nRecall')\n",
    "plt.title('ROC Curves')\n",
    "plt.legend()\n",
    "plt.show()"
   ]
  },
  {
   "cell_type": "markdown",
   "id": "f5a54efe-ac0b-4924-8094-6be5e1e790d7",
   "metadata": {},
   "source": [
    "---\n",
    "## Predictions With BigQuery ML (BQML)"
   ]
  },
  {
   "cell_type": "markdown",
   "id": "23a8c11e-9ce4-4f01-b260-2611409169bd",
   "metadata": {},
   "source": [
    "Create a pandas dataframe with retrieved predictions for the test data in the table using [ML.PREDICT](https://cloud.google.com/bigquery-ml/docs/reference/standard-sql/bigqueryml-syntax-predict):"
   ]
  },
  {
   "cell_type": "code",
   "execution_count": 42,
   "id": "ad1c02dd-99e3-4998-98a6-51af48b7da60",
   "metadata": {},
   "outputs": [],
   "source": [
    "query = f\"\"\"\n",
    "SELECT *\n",
    "FROM ML.PREDICT (MODEL `{BQ_PROJECT}.{BQ_DATASET}.{BQ_MODEL}`,(\n",
    "    SELECT *\n",
    "    FROM `{BQ_PROJECT}.{BQ_DATASET}.{BQ_TABLE}`\n",
    "    WHERE splits = 'TEST')\n",
    "  )\n",
    "\"\"\"\n",
    "pred = bq.query(query = query).to_dataframe()"
   ]
  },
  {
   "cell_type": "markdown",
   "id": "5ecec1d0-a712-4b5e-8909-7e83c62dec3a",
   "metadata": {},
   "source": [
    "Review columns from the predictions - note that the query added columns with prefix `predicted_`"
   ]
  },
  {
   "cell_type": "code",
   "execution_count": 43,
   "id": "c186d43f-7337-449e-81e3-7dccd26f442a",
   "metadata": {},
   "outputs": [
    {
     "data": {
      "text/plain": [
       "Index(['trial_id', 'predicted_Class', 'predicted_Class_probs', 'Time', 'V1',\n",
       "       'V2', 'V3', 'V4', 'V5', 'V6', 'V7', 'V8', 'V9', 'V10', 'V11', 'V12',\n",
       "       'V13', 'V14', 'V15', 'V16', 'V17', 'V18', 'V19', 'V20', 'V21', 'V22',\n",
       "       'V23', 'V24', 'V25', 'V26', 'V27', 'V28', 'Amount', 'Class',\n",
       "       'transaction_id', 'splits'],\n",
       "      dtype='object')"
      ]
     },
     "execution_count": 43,
     "metadata": {},
     "output_type": "execute_result"
    }
   ],
   "source": [
    "pred.columns"
   ]
  },
  {
   "cell_type": "markdown",
   "id": "879c6b56-dad2-4674-ac8e-4fe109b949e6",
   "metadata": {},
   "source": [
    "Print the first few rows for the columns related to the actual and predicted values:"
   ]
  },
  {
   "cell_type": "code",
   "execution_count": 44,
   "id": "4160648c-576b-4592-b3e5-f23555741856",
   "metadata": {},
   "outputs": [
    {
     "data": {
      "text/html": [
       "<div>\n",
       "<style scoped>\n",
       "    .dataframe tbody tr th:only-of-type {\n",
       "        vertical-align: middle;\n",
       "    }\n",
       "\n",
       "    .dataframe tbody tr th {\n",
       "        vertical-align: top;\n",
       "    }\n",
       "\n",
       "    .dataframe thead th {\n",
       "        text-align: right;\n",
       "    }\n",
       "</style>\n",
       "<table border=\"1\" class=\"dataframe\">\n",
       "  <thead>\n",
       "    <tr style=\"text-align: right;\">\n",
       "      <th></th>\n",
       "      <th>Class</th>\n",
       "      <th>predicted_Class</th>\n",
       "      <th>predicted_Class_probs</th>\n",
       "      <th>splits</th>\n",
       "    </tr>\n",
       "  </thead>\n",
       "  <tbody>\n",
       "    <tr>\n",
       "      <th>0</th>\n",
       "      <td>0</td>\n",
       "      <td>1</td>\n",
       "      <td>[{'label': 1, 'prob': 0.5323487401693949}, {'l...</td>\n",
       "      <td>TEST</td>\n",
       "    </tr>\n",
       "    <tr>\n",
       "      <th>1</th>\n",
       "      <td>0</td>\n",
       "      <td>0</td>\n",
       "      <td>[{'label': 1, 'prob': 0.450688224229312}, {'la...</td>\n",
       "      <td>TEST</td>\n",
       "    </tr>\n",
       "    <tr>\n",
       "      <th>2</th>\n",
       "      <td>0</td>\n",
       "      <td>1</td>\n",
       "      <td>[{'label': 1, 'prob': 0.5422210152055954}, {'l...</td>\n",
       "      <td>TEST</td>\n",
       "    </tr>\n",
       "    <tr>\n",
       "      <th>3</th>\n",
       "      <td>0</td>\n",
       "      <td>0</td>\n",
       "      <td>[{'label': 1, 'prob': 0.4221969289239093}, {'l...</td>\n",
       "      <td>TEST</td>\n",
       "    </tr>\n",
       "    <tr>\n",
       "      <th>4</th>\n",
       "      <td>0</td>\n",
       "      <td>0</td>\n",
       "      <td>[{'label': 1, 'prob': 0.4227873748860122}, {'l...</td>\n",
       "      <td>TEST</td>\n",
       "    </tr>\n",
       "  </tbody>\n",
       "</table>\n",
       "</div>"
      ],
      "text/plain": [
       "   Class  predicted_Class                              predicted_Class_probs  \\\n",
       "0      0                1  [{'label': 1, 'prob': 0.5323487401693949}, {'l...   \n",
       "1      0                0  [{'label': 1, 'prob': 0.450688224229312}, {'la...   \n",
       "2      0                1  [{'label': 1, 'prob': 0.5422210152055954}, {'l...   \n",
       "3      0                0  [{'label': 1, 'prob': 0.4221969289239093}, {'l...   \n",
       "4      0                0  [{'label': 1, 'prob': 0.4227873748860122}, {'l...   \n",
       "\n",
       "  splits  \n",
       "0   TEST  \n",
       "1   TEST  \n",
       "2   TEST  \n",
       "3   TEST  \n",
       "4   TEST  "
      ]
     },
     "execution_count": 44,
     "metadata": {},
     "output_type": "execute_result"
    }
   ],
   "source": [
    "pred[[VAR_TARGET, f'predicted_{VAR_TARGET}', f'predicted_{VAR_TARGET}_probs', 'splits']].head()"
   ]
  },
  {
   "cell_type": "markdown",
   "id": "5f028e3c-8afb-42ff-84dc-84a38ad6cdf6",
   "metadata": {},
   "source": [
    "Notice the nested dictionary for predicted probabilities.  In BigQuery this is a Record type structure with nested fields for `label` and `prob`.  This is returned to the pandas dataframe as a nested dictionary.\n",
    "\n",
    "The following code sorts the dictionary for the first record by `prob`:"
   ]
  },
  {
   "cell_type": "code",
   "execution_count": 45,
   "id": "f2bf6866-af12-401b-8b7f-e5f73d8d3b8b",
   "metadata": {},
   "outputs": [
    {
     "data": {
      "text/plain": [
       "[[{'label': 0, 'prob': 0.46765125983060507},\n",
       "  {'label': 1, 'prob': 0.5323487401693949}]]"
      ]
     },
     "execution_count": 45,
     "metadata": {},
     "output_type": "execute_result"
    }
   ],
   "source": [
    "exec('temp = pred.predicted_'+VAR_TARGET+'_probs[0]')\n",
    "[sorted(x, key = lambda x: x['label']) for x in [temp]]"
   ]
  },
  {
   "cell_type": "markdown",
   "id": "18b3c6a6-b7a2-47ae-bb34-946515530ed7",
   "metadata": {},
   "source": [
    "---\n",
    "## Custom Eval Metrics\n",
    "Retrieve the predictions to a local dataframe and use [scikit-learn](https://scikit-learn.org/stable/index.html) metrics [fuctions](https://scikit-learn.org/stable/modules/model_evaluation.html) to do model evaluation."
   ]
  },
  {
   "cell_type": "code",
   "execution_count": 46,
   "id": "a74e7ce3-099f-48de-b058-555d1d2a67d8",
   "metadata": {},
   "outputs": [
    {
     "data": {
      "text/plain": [
       "array([[20844,  7611],\n",
       "       [    1,    46]])"
      ]
     },
     "execution_count": 46,
     "metadata": {},
     "output_type": "execute_result"
    }
   ],
   "source": [
    "metrics.confusion_matrix(list(pred[f'{VAR_TARGET}']), list(pred[f'predicted_{VAR_TARGET}']))"
   ]
  },
  {
   "cell_type": "code",
   "execution_count": 47,
   "id": "39763e22-b486-4640-a050-397eeec0ea7e",
   "metadata": {},
   "outputs": [
    {
     "data": {
      "text/plain": [
       "<sklearn.metrics._plot.confusion_matrix.ConfusionMatrixDisplay at 0x7f858dceef90>"
      ]
     },
     "execution_count": 47,
     "metadata": {},
     "output_type": "execute_result"
    },
    {
     "data": {
      "image/png": "[encoded data removed]",
      "text/plain": [
       "<Figure size 640x480 with 2 Axes>"
      ]
     },
     "metadata": {},
     "output_type": "display_data"
    }
   ],
   "source": [
    "disp = metrics.ConfusionMatrixDisplay(\n",
    "    confusion_matrix = metrics.confusion_matrix(list(pred[f'{VAR_TARGET}']), list(pred[f'predicted_{VAR_TARGET}']))\n",
    ")\n",
    "disp.plot()"
   ]
  },
  {
   "cell_type": "code",
   "execution_count": 48,
   "id": "a0220cfa-6e54-4341-bb89-1454456aa7da",
   "metadata": {},
   "outputs": [
    {
     "data": {
      "text/plain": [
       "0.7329310223843941"
      ]
     },
     "execution_count": 48,
     "metadata": {},
     "output_type": "execute_result"
    }
   ],
   "source": [
    "metrics.accuracy_score(list(pred[f'{VAR_TARGET}']), list(pred[f'predicted_{VAR_TARGET}']))"
   ]
  },
  {
   "cell_type": "code",
   "execution_count": 49,
   "id": "9688f8a7-d654-4a95-af5b-5d0390a58740",
   "metadata": {},
   "outputs": [
    {
     "name": "stdout",
     "output_type": "stream",
     "text": [
      "              precision    recall  f1-score   support\n",
      "\n",
      "           0       1.00      0.73      0.85     28455\n",
      "           1       0.01      0.98      0.01        47\n",
      "\n",
      "    accuracy                           0.73     28502\n",
      "   macro avg       0.50      0.86      0.43     28502\n",
      "weighted avg       1.00      0.73      0.84     28502\n",
      "\n"
     ]
    }
   ],
   "source": [
    "print(metrics.classification_report(list(pred[f'{VAR_TARGET}']), list(pred[f'predicted_{VAR_TARGET}'])))"
   ]
  },
  {
   "cell_type": "markdown",
   "id": "6ce4cf25-20a0-4377-bde3-fc16ad5a1803",
   "metadata": {},
   "source": [
    "---\n",
    "## Explanations\n",
    "[Built-in](https://cloud.google.com/bigquery-ml/docs/reference/standard-sql/bigqueryml-syntax-xai-overview) capabilities to understand how features contributed to predictions both individually (local) and overall (global)."
   ]
  },
  {
   "cell_type": "markdown",
   "id": "1ca65283-b3b4-410b-8a08-e887e8ae2f09",
   "metadata": {},
   "source": [
    "### Local Explainability\n",
    "Retrieve feature attribution values to interpret each features contribution to a prediction relative to the baseline prediction using [ML.EXPLAIN_PREDICT](https://cloud.google.com/bigquery-ml/docs/reference/standard-sql/bigqueryml-syntax-explain-predict)."
   ]
  },
  {
   "cell_type": "code",
   "execution_count": 50,
   "id": "2271195b-7b31-4ea2-bf11-7068434bfcc2",
   "metadata": {},
   "outputs": [],
   "source": [
    "query = f\"\"\"\n",
    "SELECT *\n",
    "FROM ML.EXPLAIN_PREDICT (MODEL `{BQ_PROJECT}.{BQ_DATASET}.{BQ_MODEL}`,(\n",
    "    SELECT *\n",
    "    FROM `{BQ_PROJECT}.{BQ_DATASET}.{BQ_TABLE}`\n",
    "    WHERE splits = 'TEST'), STRUCT(10 as top_k_features)\n",
    "  )\n",
    "\"\"\"\n",
    "explain = bq.query(query = query).to_dataframe()"
   ]
  },
  {
   "cell_type": "code",
   "execution_count": 51,
   "id": "cf27cdc0-dbfa-4e51-8c95-e8432f356ead",
   "metadata": {},
   "outputs": [
    {
     "data": {
      "text/html": [
       "<div>\n",
       "<style scoped>\n",
       "    .dataframe tbody tr th:only-of-type {\n",
       "        vertical-align: middle;\n",
       "    }\n",
       "\n",
       "    .dataframe tbody tr th {\n",
       "        vertical-align: top;\n",
       "    }\n",
       "\n",
       "    .dataframe thead th {\n",
       "        text-align: right;\n",
       "    }\n",
       "</style>\n",
       "<table border=\"1\" class=\"dataframe\">\n",
       "  <thead>\n",
       "    <tr style=\"text-align: right;\">\n",
       "      <th></th>\n",
       "      <th>trial_id</th>\n",
       "      <th>predicted_Class</th>\n",
       "      <th>probability</th>\n",
       "      <th>top_feature_attributions</th>\n",
       "      <th>baseline_prediction_value</th>\n",
       "      <th>prediction_value</th>\n",
       "      <th>approximation_error</th>\n",
       "      <th>Time</th>\n",
       "      <th>V1</th>\n",
       "      <th>V2</th>\n",
       "      <th>...</th>\n",
       "      <th>V23</th>\n",
       "      <th>V24</th>\n",
       "      <th>V25</th>\n",
       "      <th>V26</th>\n",
       "      <th>V27</th>\n",
       "      <th>V28</th>\n",
       "      <th>Amount</th>\n",
       "      <th>Class</th>\n",
       "      <th>transaction_id</th>\n",
       "      <th>splits</th>\n",
       "    </tr>\n",
       "  </thead>\n",
       "  <tbody>\n",
       "    <tr>\n",
       "      <th>0</th>\n",
       "      <td>8</td>\n",
       "      <td>1</td>\n",
       "      <td>0.532349</td>\n",
       "      <td>[{'feature': 'V4', 'attribution': 1.3776598876...</td>\n",
       "      <td>-0.010373</td>\n",
       "      <td>0.129576</td>\n",
       "      <td>0.0</td>\n",
       "      <td>35337</td>\n",
       "      <td>1.092844</td>\n",
       "      <td>-0.013230</td>\n",
       "      <td>...</td>\n",
       "      <td>-0.167647</td>\n",
       "      <td>0.027557</td>\n",
       "      <td>0.592115</td>\n",
       "      <td>0.219695</td>\n",
       "      <td>0.036970</td>\n",
       "      <td>0.010984</td>\n",
       "      <td>0.0</td>\n",
       "      <td>0</td>\n",
       "      <td>a1b10547-d270-48c0-b902-7a0f735dadc7</td>\n",
       "      <td>TEST</td>\n",
       "    </tr>\n",
       "    <tr>\n",
       "      <th>1</th>\n",
       "      <td>8</td>\n",
       "      <td>0</td>\n",
       "      <td>0.549312</td>\n",
       "      <td>[{'feature': 'V14', 'attribution': -0.85520383...</td>\n",
       "      <td>-0.010373</td>\n",
       "      <td>-0.197890</td>\n",
       "      <td>0.0</td>\n",
       "      <td>60481</td>\n",
       "      <td>1.238973</td>\n",
       "      <td>0.035226</td>\n",
       "      <td>...</td>\n",
       "      <td>-0.057718</td>\n",
       "      <td>0.104983</td>\n",
       "      <td>0.537987</td>\n",
       "      <td>0.589563</td>\n",
       "      <td>-0.046207</td>\n",
       "      <td>-0.006212</td>\n",
       "      <td>0.0</td>\n",
       "      <td>0</td>\n",
       "      <td>814c62c8-ade4-47d5-bf83-313b0aafdee5</td>\n",
       "      <td>TEST</td>\n",
       "    </tr>\n",
       "    <tr>\n",
       "      <th>2</th>\n",
       "      <td>8</td>\n",
       "      <td>1</td>\n",
       "      <td>0.542221</td>\n",
       "      <td>[{'feature': 'V4', 'attribution': 1.9618240383...</td>\n",
       "      <td>-0.010373</td>\n",
       "      <td>0.169287</td>\n",
       "      <td>0.0</td>\n",
       "      <td>139587</td>\n",
       "      <td>1.870539</td>\n",
       "      <td>0.211079</td>\n",
       "      <td>...</td>\n",
       "      <td>0.180776</td>\n",
       "      <td>-0.060226</td>\n",
       "      <td>-0.228979</td>\n",
       "      <td>0.080827</td>\n",
       "      <td>0.009868</td>\n",
       "      <td>-0.036997</td>\n",
       "      <td>0.0</td>\n",
       "      <td>0</td>\n",
       "      <td>d08a1bfa-85c5-4f1b-9537-1c5a93e6afd0</td>\n",
       "      <td>TEST</td>\n",
       "    </tr>\n",
       "    <tr>\n",
       "      <th>3</th>\n",
       "      <td>8</td>\n",
       "      <td>0</td>\n",
       "      <td>0.577803</td>\n",
       "      <td>[{'feature': 'V5', 'attribution': -1.357191102...</td>\n",
       "      <td>-0.010373</td>\n",
       "      <td>-0.313761</td>\n",
       "      <td>0.0</td>\n",
       "      <td>162908</td>\n",
       "      <td>-3.368339</td>\n",
       "      <td>-1.980442</td>\n",
       "      <td>...</td>\n",
       "      <td>-1.171627</td>\n",
       "      <td>0.214333</td>\n",
       "      <td>-0.159652</td>\n",
       "      <td>-0.060883</td>\n",
       "      <td>1.294977</td>\n",
       "      <td>0.120503</td>\n",
       "      <td>0.0</td>\n",
       "      <td>0</td>\n",
       "      <td>802f3307-8e5a-4475-b795-5d5d8d7d0120</td>\n",
       "      <td>TEST</td>\n",
       "    </tr>\n",
       "    <tr>\n",
       "      <th>4</th>\n",
       "      <td>8</td>\n",
       "      <td>0</td>\n",
       "      <td>0.577213</td>\n",
       "      <td>[{'feature': 'V3', 'attribution': 1.7326584738...</td>\n",
       "      <td>-0.010373</td>\n",
       "      <td>-0.311341</td>\n",
       "      <td>0.0</td>\n",
       "      <td>165236</td>\n",
       "      <td>2.180149</td>\n",
       "      <td>0.218732</td>\n",
       "      <td>...</td>\n",
       "      <td>-0.176957</td>\n",
       "      <td>0.563779</td>\n",
       "      <td>0.730183</td>\n",
       "      <td>0.707494</td>\n",
       "      <td>-0.131066</td>\n",
       "      <td>-0.090428</td>\n",
       "      <td>0.0</td>\n",
       "      <td>0</td>\n",
       "      <td>c8a5b93a-1598-4689-80be-4f9f5df0b8ce</td>\n",
       "      <td>TEST</td>\n",
       "    </tr>\n",
       "  </tbody>\n",
       "</table>\n",
       "<p>5 rows × 40 columns</p>\n",
       "</div>"
      ],
      "text/plain": [
       "   trial_id  predicted_Class  probability  \\\n",
       "0         8                1     0.532349   \n",
       "1         8                0     0.549312   \n",
       "2         8                1     0.542221   \n",
       "3         8                0     0.577803   \n",
       "4         8                0     0.577213   \n",
       "\n",
       "                            top_feature_attributions  \\\n",
       "0  [{'feature': 'V4', 'attribution': 1.3776598876...   \n",
       "1  [{'feature': 'V14', 'attribution': -0.85520383...   \n",
       "2  [{'feature': 'V4', 'attribution': 1.9618240383...   \n",
       "3  [{'feature': 'V5', 'attribution': -1.357191102...   \n",
       "4  [{'feature': 'V3', 'attribution': 1.7326584738...   \n",
       "\n",
       "   baseline_prediction_value  prediction_value  approximation_error    Time  \\\n",
       "0                  -0.010373          0.129576                  0.0   35337   \n",
       "1                  -0.010373         -0.197890                  0.0   60481   \n",
       "2                  -0.010373          0.169287                  0.0  139587   \n",
       "3                  -0.010373         -0.313761                  0.0  162908   \n",
       "4                  -0.010373         -0.311341                  0.0  165236   \n",
       "\n",
       "         V1        V2  ...       V23       V24       V25       V26       V27  \\\n",
       "0  1.092844 -0.013230  ... -0.167647  0.027557  0.592115  0.219695  0.036970   \n",
       "1  1.238973  0.035226  ... -0.057718  0.104983  0.537987  0.589563 -0.046207   \n",
       "2  1.870539  0.211079  ...  0.180776 -0.060226 -0.228979  0.080827  0.009868   \n",
       "3 -3.368339 -1.980442  ... -1.171627  0.214333 -0.159652 -0.060883  1.294977   \n",
       "4  2.180149  0.218732  ... -0.176957  0.563779  0.730183  0.707494 -0.131066   \n",
       "\n",
       "        V28  Amount  Class                        transaction_id  splits  \n",
       "0  0.010984     0.0      0  a1b10547-d270-48c0-b902-7a0f735dadc7    TEST  \n",
       "1 -0.006212     0.0      0  814c62c8-ade4-47d5-bf83-313b0aafdee5    TEST  \n",
       "2 -0.036997     0.0      0  d08a1bfa-85c5-4f1b-9537-1c5a93e6afd0    TEST  \n",
       "3  0.120503     0.0      0  802f3307-8e5a-4475-b795-5d5d8d7d0120    TEST  \n",
       "4 -0.090428     0.0      0  c8a5b93a-1598-4689-80be-4f9f5df0b8ce    TEST  \n",
       "\n",
       "[5 rows x 40 columns]"
      ]
     },
     "execution_count": 51,
     "metadata": {},
     "output_type": "execute_result"
    }
   ],
   "source": [
    "explain.head()"
   ]
  },
  {
   "cell_type": "markdown",
   "id": "d7bc5aa2-6f43-4e34-9e3e-274178ef9dce",
   "metadata": {},
   "source": [
    "Create a plot of feature attributions for a single prediction:"
   ]
  },
  {
   "cell_type": "code",
   "execution_count": 52,
   "id": "f4d16e38-0c74-4b35-a0ee-e29eaef74486",
   "metadata": {},
   "outputs": [],
   "source": [
    "explanation = explain.iloc[0]['top_feature_attributions']"
   ]
  },
  {
   "cell_type": "code",
   "execution_count": 53,
   "id": "7dec5b27-73e5-4434-b63e-afec799f4bc2",
   "metadata": {},
   "outputs": [
    {
     "data": {
      "image/png": "[encoded data removed]",
      "text/plain": [
       "<Figure size 1500x500 with 1 Axes>"
      ]
     },
     "metadata": {},
     "output_type": "display_data"
    }
   ],
   "source": [
    "features = []\n",
    "scores = []\n",
    "for k in explanation:\n",
    "    features.append(k['feature'])\n",
    "    scores.append(k['attribution'])\n",
    "features = [x for _, x in sorted(zip(scores, features))]\n",
    "scores = sorted(scores)\n",
    "\n",
    "plt.figure(figsize=(15,5))\n",
    "plt.barh(features, scores)\n",
    "plt.title('Feature Attribution for Prediction')\n",
    "plt.show()"
   ]
  },
  {
   "cell_type": "markdown",
   "id": "fda629b1-e4e7-4abc-b2d1-c4e920fbc888",
   "metadata": {},
   "source": [
    "### Global Explainability\n",
    "Retrieve the influence of each feature on the model with [ML.GLOBAL_EXPLAIN](https://cloud.google.com/bigquery-ml/docs/reference/standard-sql/bigqueryml-syntax-global-explain).  "
   ]
  },
  {
   "cell_type": "code",
   "execution_count": 54,
   "id": "419aa43b-8e34-4088-b1f9-131d5ea0ce12",
   "metadata": {},
   "outputs": [],
   "source": [
    "query = f\"\"\"\n",
    "SELECT *\n",
    "FROM ML.GLOBAL_EXPLAIN (MODEL `{BQ_PROJECT}.{BQ_DATASET}.{BQ_MODEL}`)\n",
    "\"\"\"\n",
    "gexplain = bq.query(query = query).to_dataframe()"
   ]
  },
  {
   "cell_type": "code",
   "execution_count": 55,
   "id": "c11c73c8-f141-4dce-abea-fbe91c132ca5",
   "metadata": {},
   "outputs": [
    {
     "data": {
      "text/html": [
       "<div>\n",
       "<style scoped>\n",
       "    .dataframe tbody tr th:only-of-type {\n",
       "        vertical-align: middle;\n",
       "    }\n",
       "\n",
       "    .dataframe tbody tr th {\n",
       "        vertical-align: top;\n",
       "    }\n",
       "\n",
       "    .dataframe thead th {\n",
       "        text-align: right;\n",
       "    }\n",
       "</style>\n",
       "<table border=\"1\" class=\"dataframe\">\n",
       "  <thead>\n",
       "    <tr style=\"text-align: right;\">\n",
       "      <th></th>\n",
       "      <th>trial_id</th>\n",
       "      <th>feature</th>\n",
       "      <th>attribution</th>\n",
       "    </tr>\n",
       "  </thead>\n",
       "  <tbody>\n",
       "    <tr>\n",
       "      <th>0</th>\n",
       "      <td>8</td>\n",
       "      <td>V17</td>\n",
       "      <td>1.147853</td>\n",
       "    </tr>\n",
       "    <tr>\n",
       "      <th>1</th>\n",
       "      <td>8</td>\n",
       "      <td>V14</td>\n",
       "      <td>1.031917</td>\n",
       "    </tr>\n",
       "    <tr>\n",
       "      <th>2</th>\n",
       "      <td>8</td>\n",
       "      <td>V12</td>\n",
       "      <td>0.970989</td>\n",
       "    </tr>\n",
       "    <tr>\n",
       "      <th>3</th>\n",
       "      <td>8</td>\n",
       "      <td>V16</td>\n",
       "      <td>0.768079</td>\n",
       "    </tr>\n",
       "    <tr>\n",
       "      <th>4</th>\n",
       "      <td>8</td>\n",
       "      <td>V3</td>\n",
       "      <td>0.753790</td>\n",
       "    </tr>\n",
       "  </tbody>\n",
       "</table>\n",
       "</div>"
      ],
      "text/plain": [
       "   trial_id feature  attribution\n",
       "0         8     V17     1.147853\n",
       "1         8     V14     1.031917\n",
       "2         8     V12     0.970989\n",
       "3         8     V16     0.768079\n",
       "4         8      V3     0.753790"
      ]
     },
     "execution_count": 55,
     "metadata": {},
     "output_type": "execute_result"
    }
   ],
   "source": [
    "gexplain.head()"
   ]
  },
  {
   "cell_type": "code",
   "execution_count": 56,
   "id": "3a05329a-818f-4d77-94d3-41cff494f84f",
   "metadata": {},
   "outputs": [
    {
     "data": {
      "image/png": "[encoded data removed]",
      "text/plain": [
       "<Figure size 1500x800 with 1 Axes>"
      ]
     },
     "metadata": {},
     "output_type": "display_data"
    }
   ],
   "source": [
    "plt.figure(figsize=(15,8))\n",
    "plt.barh(gexplain['feature'], gexplain['attribution'])\n",
    "plt.title('Global Influence')\n",
    "plt.xlabel('Attribution')\n",
    "#plt.ylabel('Feature')\n",
    "plt.show()"
   ]
  },
  {
   "cell_type": "markdown",
   "id": "711d67b9-7dc0-4742-8c66-df3d7d423633",
   "metadata": {},
   "source": [
    "---\n",
    "## Serving With Vertex AI\n",
    "\n",
    "The training options for creating the model include registering the model the Vertex AI Automatically.  This makes deploying the model to a [Vertex AI Endpoint for online serving](https://cloud.google.com/vertex-ai/docs/general/deployment) very easy."
   ]
  },
  {
   "cell_type": "markdown",
   "id": "b13700f9-c1ae-4169-97f7-64568b042460",
   "metadata": {},
   "source": [
    "### Vertex AI Model Registry - Get Model\n",
    "\n",
    "When these modes were trained in BigQuery ML they included options for registration in Vertex AI Model Registry.  This section shows how to retrieve the information from the model using the [Vertex AI Python Client](../Tips/aiplatform_notes.md).\n",
    "\n",
    "References:\n",
    "- [aiplatform.Model()](https://cloud.google.com/python/docs/reference/aiplatform/latest/google.cloud.aiplatform.Model)"
   ]
  },
  {
   "cell_type": "code",
   "execution_count": 87,
   "id": "34938652-32af-49f3-9645-5011c3c8fdf5",
   "metadata": {},
   "outputs": [
    {
     "data": {
      "text/plain": [
       "'projects/1026793852137/locations/us-central1/models/bqml_bqml_logistic-regression-hpt'"
      ]
     },
     "execution_count": 87,
     "metadata": {},
     "output_type": "execute_result"
    }
   ],
   "source": [
    "vertex_model = aiplatform.Model(model_name = f'bqml_{SERIES}_{EXPERIMENT}')\n",
    "vertex_model.resource_name"
   ]
  },
  {
   "cell_type": "code",
   "execution_count": 88,
   "id": "9870b4f0-954a-4b51-a91f-6de83954df67",
   "metadata": {},
   "outputs": [],
   "source": [
    "# note: this is blank since the model is managed by BQML and container is pre-specified\n",
    "vertex_model.uri "
   ]
  },
  {
   "cell_type": "code",
   "execution_count": 89,
   "id": "a2d60717-34f6-4932-a08c-3d594951762b",
   "metadata": {},
   "outputs": [
    {
     "data": {
      "text/plain": [
       "name: \"projects/1026793852137/locations/us-central1/models/bqml_bqml_logistic-regression-hpt\"\n",
       "display_name: \"bqml_bqml_logistic-regression-hpt\"\n",
       "supported_deployment_resources_types: DEDICATED_RESOURCES\n",
       "supported_input_storage_formats: \"jsonl\"\n",
       "supported_input_storage_formats: \"bigquery\"\n",
       "supported_input_storage_formats: \"csv\"\n",
       "supported_input_storage_formats: \"tf-record\"\n",
       "supported_input_storage_formats: \"tf-record-gzip\"\n",
       "supported_input_storage_formats: \"file-list\"\n",
       "supported_output_storage_formats: \"jsonl\"\n",
       "supported_output_storage_formats: \"bigquery\"\n",
       "create_time {\n",
       "  seconds: 1687869086\n",
       "  nanos: 307532000\n",
       "}\n",
       "update_time {\n",
       "  seconds: 1687869199\n",
       "  nanos: 560869000\n",
       "}\n",
       "etag: \"AMEw9yNg5FC6Qb0h4aoPOToUfWGnv6vHOjFWzPtYk6q5n1iMCIHPzDD9FCn5AM77ifY1\"\n",
       "explanation_spec {\n",
       "  parameters {\n",
       "    sampled_shapley_attribution {\n",
       "      path_count: 5\n",
       "    }\n",
       "  }\n",
       "  metadata {\n",
       "    inputs {\n",
       "      key: \"Amount\"\n",
       "      value {\n",
       "        input_tensor_name: \"Amount:0\"\n",
       "        encoding: IDENTITY\n",
       "        modality: \"numeric\"\n",
       "      }\n",
       "    }\n",
       "    inputs {\n",
       "      key: \"Time\"\n",
       "      value {\n",
       "        input_tensor_name: \"Time:0\"\n",
       "        encoding: IDENTITY\n",
       "        modality: \"numeric\"\n",
       "      }\n",
       "    }\n",
       "    inputs {\n",
       "      key: \"V1\"\n",
       "      value {\n",
       "        input_tensor_name: \"V1:0\"\n",
       "        encoding: IDENTITY\n",
       "        modality: \"numeric\"\n",
       "      }\n",
       "    }\n",
       "    inputs {\n",
       "      key: \"V10\"\n",
       "      value {\n",
       "        input_tensor_name: \"V10:0\"\n",
       "        encoding: IDENTITY\n",
       "        modality: \"numeric\"\n",
       "      }\n",
       "    }\n",
       "    inputs {\n",
       "      key: \"V11\"\n",
       "      value {\n",
       "        input_tensor_name: \"V11:0\"\n",
       "        encoding: IDENTITY\n",
       "        modality: \"numeric\"\n",
       "      }\n",
       "    }\n",
       "    inputs {\n",
       "      key: \"V12\"\n",
       "      value {\n",
       "        input_tensor_name: \"V12:0\"\n",
       "        encoding: IDENTITY\n",
       "        modality: \"numeric\"\n",
       "      }\n",
       "    }\n",
       "    inputs {\n",
       "      key: \"V13\"\n",
       "      value {\n",
       "        input_tensor_name: \"V13:0\"\n",
       "        encoding: IDENTITY\n",
       "        modality: \"numeric\"\n",
       "      }\n",
       "    }\n",
       "    inputs {\n",
       "      key: \"V14\"\n",
       "      value {\n",
       "        input_tensor_name: \"V14:0\"\n",
       "        encoding: IDENTITY\n",
       "        modality: \"numeric\"\n",
       "      }\n",
       "    }\n",
       "    inputs {\n",
       "      key: \"V15\"\n",
       "      value {\n",
       "        input_tensor_name: \"V15:0\"\n",
       "        encoding: IDENTITY\n",
       "        modality: \"numeric\"\n",
       "      }\n",
       "    }\n",
       "    inputs {\n",
       "      key: \"V16\"\n",
       "      value {\n",
       "        input_tensor_name: \"V16:0\"\n",
       "        encoding: IDENTITY\n",
       "        modality: \"numeric\"\n",
       "      }\n",
       "    }\n",
       "    inputs {\n",
       "      key: \"V17\"\n",
       "      value {\n",
       "        input_tensor_name: \"V17:0\"\n",
       "        encoding: IDENTITY\n",
       "        modality: \"numeric\"\n",
       "      }\n",
       "    }\n",
       "    inputs {\n",
       "      key: \"V18\"\n",
       "      value {\n",
       "        input_tensor_name: \"V18:0\"\n",
       "        encoding: IDENTITY\n",
       "        modality: \"numeric\"\n",
       "      }\n",
       "    }\n",
       "    inputs {\n",
       "      key: \"V19\"\n",
       "      value {\n",
       "        input_tensor_name: \"V19:0\"\n",
       "        encoding: IDENTITY\n",
       "        modality: \"numeric\"\n",
       "      }\n",
       "    }\n",
       "    inputs {\n",
       "      key: \"V2\"\n",
       "      value {\n",
       "        input_tensor_name: \"V2:0\"\n",
       "        encoding: IDENTITY\n",
       "        modality: \"numeric\"\n",
       "      }\n",
       "    }\n",
       "    inputs {\n",
       "      key: \"V20\"\n",
       "      value {\n",
       "        input_tensor_name: \"V20:0\"\n",
       "        encoding: IDENTITY\n",
       "        modality: \"numeric\"\n",
       "      }\n",
       "    }\n",
       "    inputs {\n",
       "      key: \"V21\"\n",
       "      value {\n",
       "        input_tensor_name: \"V21:0\"\n",
       "        encoding: IDENTITY\n",
       "        modality: \"numeric\"\n",
       "      }\n",
       "    }\n",
       "    inputs {\n",
       "      key: \"V22\"\n",
       "      value {\n",
       "        input_tensor_name: \"V22:0\"\n",
       "        encoding: IDENTITY\n",
       "        modality: \"numeric\"\n",
       "      }\n",
       "    }\n",
       "    inputs {\n",
       "      key: \"V23\"\n",
       "      value {\n",
       "        input_tensor_name: \"V23:0\"\n",
       "        encoding: IDENTITY\n",
       "        modality: \"numeric\"\n",
       "      }\n",
       "    }\n",
       "    inputs {\n",
       "      key: \"V24\"\n",
       "      value {\n",
       "        input_tensor_name: \"V24:0\"\n",
       "        encoding: IDENTITY\n",
       "        modality: \"numeric\"\n",
       "      }\n",
       "    }\n",
       "    inputs {\n",
       "      key: \"V25\"\n",
       "      value {\n",
       "        input_tensor_name: \"V25:0\"\n",
       "        encoding: IDENTITY\n",
       "        modality: \"numeric\"\n",
       "      }\n",
       "    }\n",
       "    inputs {\n",
       "      key: \"V26\"\n",
       "      value {\n",
       "        input_tensor_name: \"V26:0\"\n",
       "        encoding: IDENTITY\n",
       "        modality: \"numeric\"\n",
       "      }\n",
       "    }\n",
       "    inputs {\n",
       "      key: \"V27\"\n",
       "      value {\n",
       "        input_tensor_name: \"V27:0\"\n",
       "        encoding: IDENTITY\n",
       "        modality: \"numeric\"\n",
       "      }\n",
       "    }\n",
       "    inputs {\n",
       "      key: \"V28\"\n",
       "      value {\n",
       "        input_tensor_name: \"V28:0\"\n",
       "        encoding: IDENTITY\n",
       "        modality: \"numeric\"\n",
       "      }\n",
       "    }\n",
       "    inputs {\n",
       "      key: \"V3\"\n",
       "      value {\n",
       "        input_tensor_name: \"V3:0\"\n",
       "        encoding: IDENTITY\n",
       "        modality: \"numeric\"\n",
       "      }\n",
       "    }\n",
       "    inputs {\n",
       "      key: \"V4\"\n",
       "      value {\n",
       "        input_tensor_name: \"V4:0\"\n",
       "        encoding: IDENTITY\n",
       "        modality: \"numeric\"\n",
       "      }\n",
       "    }\n",
       "    inputs {\n",
       "      key: \"V5\"\n",
       "      value {\n",
       "        input_tensor_name: \"V5:0\"\n",
       "        encoding: IDENTITY\n",
       "        modality: \"numeric\"\n",
       "      }\n",
       "    }\n",
       "    inputs {\n",
       "      key: \"V6\"\n",
       "      value {\n",
       "        input_tensor_name: \"V6:0\"\n",
       "        encoding: IDENTITY\n",
       "        modality: \"numeric\"\n",
       "      }\n",
       "    }\n",
       "    inputs {\n",
       "      key: \"V7\"\n",
       "      value {\n",
       "        input_tensor_name: \"V7:0\"\n",
       "        encoding: IDENTITY\n",
       "        modality: \"numeric\"\n",
       "      }\n",
       "    }\n",
       "    inputs {\n",
       "      key: \"V8\"\n",
       "      value {\n",
       "        input_tensor_name: \"V8:0\"\n",
       "        encoding: IDENTITY\n",
       "        modality: \"numeric\"\n",
       "      }\n",
       "    }\n",
       "    inputs {\n",
       "      key: \"V9\"\n",
       "      value {\n",
       "        input_tensor_name: \"V9:0\"\n",
       "        encoding: IDENTITY\n",
       "        modality: \"numeric\"\n",
       "      }\n",
       "    }\n",
       "    outputs {\n",
       "      key: \"Class_logits\"\n",
       "      value {\n",
       "        output_tensor_name: \"Add:0\"\n",
       "      }\n",
       "    }\n",
       "  }\n",
       "}\n",
       "version_id: \"1\"\n",
       "version_aliases: \"run-20230627123029\"\n",
       "version_aliases: \"default\"\n",
       "version_create_time {\n",
       "  seconds: 1687869086\n",
       "  nanos: 307532000\n",
       "}\n",
       "version_update_time {\n",
       "  seconds: 1687893246\n",
       "  nanos: 475240000\n",
       "}\n",
       "model_source_info {\n",
       "  source_type: BQML\n",
       "}"
      ]
     },
     "execution_count": 89,
     "metadata": {},
     "output_type": "execute_result"
    }
   ],
   "source": [
    "vertex_model.gca_resource"
   ]
  },
  {
   "cell_type": "markdown",
   "id": "0d893ce9-2607-41cc-9971-cbacff89c018",
   "metadata": {},
   "source": [
    "### Vertex AI Endpoint - Create or Retrieve\n",
    "\n",
    "References:\n",
    "- [aiplatform.Endpoint()](https://cloud.google.com/python/docs/reference/aiplatform/latest/google.cloud.aiplatform.Endpoint)"
   ]
  },
  {
   "cell_type": "code",
   "execution_count": 90,
   "id": "b188d2dd-fe74-4a41-8564-5770d6655dc3",
   "metadata": {},
   "outputs": [
    {
     "name": "stdout",
     "output_type": "stream",
     "text": [
      "Endpoint Found: bqml\n"
     ]
    }
   ],
   "source": [
    "if not aiplatform.Endpoint.list(filter = f\"display_name={SERIES}\"):\n",
    "    endpoint = aiplatform.Endpoint.create(\n",
    "        display_name = f\"{SERIES}\",\n",
    "        labels = {'series' : f\"{SERIES}\"}\n",
    "    )\n",
    "    print(f\"Endpoint Created: {endpoint.display_name}\")\n",
    "else:\n",
    "    endpoint = aiplatform.Endpoint.list(filter = f\"display_name={SERIES}\")[0]\n",
    "    print(f\"Endpoint Found: {endpoint.display_name}\")"
   ]
  },
  {
   "cell_type": "code",
   "execution_count": 91,
   "id": "d6d16a80-c957-4285-9204-51421ccadc96",
   "metadata": {},
   "outputs": [
    {
     "data": {
      "text/plain": [
       "'bqml'"
      ]
     },
     "execution_count": 91,
     "metadata": {},
     "output_type": "execute_result"
    }
   ],
   "source": [
    "endpoint.display_name"
   ]
  },
  {
   "cell_type": "code",
   "execution_count": 92,
   "id": "d2f4a6da-3997-4da7-8369-789de38e75b8",
   "metadata": {},
   "outputs": [
    {
     "data": {
      "text/plain": [
       "{'5482237543858569216': 100}"
      ]
     },
     "execution_count": 92,
     "metadata": {},
     "output_type": "execute_result"
    }
   ],
   "source": [
    "endpoint.traffic_split"
   ]
  },
  {
   "cell_type": "code",
   "execution_count": 93,
   "id": "4c5db429-5e4d-43ae-9d6f-4f333738ccf9",
   "metadata": {},
   "outputs": [
    {
     "name": "stdout",
     "output_type": "stream",
     "text": [
      "bqml_bqml_kmeans\n"
     ]
    }
   ],
   "source": [
    "deployed_models = endpoint.list_models()\n",
    "for d in deployed_models: print(d.display_name)"
   ]
  },
  {
   "cell_type": "markdown",
   "id": "dedcb700-802d-42fd-91b6-10fd1f1fbbe4",
   "metadata": {},
   "source": [
    "### Deploy Model To Vertex AI Endpoint\n",
    "\n",
    "**NOTE: This can take 15+ minutes to complete.**\n",
    "\n",
    "Reference:\n",
    "- [aiplatform.Endpoint.deploy()](https://cloud.google.com/python/docs/reference/aiplatform/latest/google.cloud.aiplatform.Endpoint#google_cloud_aiplatform_Endpoint_deploy)"
   ]
  },
  {
   "cell_type": "code",
   "execution_count": 94,
   "id": "3a5e1d72-874f-4582-9233-f6827096a784",
   "metadata": {},
   "outputs": [
    {
     "name": "stdout",
     "output_type": "stream",
     "text": [
      "Deploying Model projects/1026793852137/locations/us-central1/models/bqml_bqml_logistic-regression-hpt to Endpoint : projects/1026793852137/locations/us-central1/endpoints/5386265571916513280\n"
     ]
    },
    {
     "name": "stderr",
     "output_type": "stream",
     "text": [
      "INFO:google.cloud.aiplatform.models:Deploying Model projects/1026793852137/locations/us-central1/models/bqml_bqml_logistic-regression-hpt to Endpoint : projects/1026793852137/locations/us-central1/endpoints/5386265571916513280\n"
     ]
    },
    {
     "name": "stdout",
     "output_type": "stream",
     "text": [
      "Deploy Endpoint model backing LRO: projects/1026793852137/locations/us-central1/endpoints/5386265571916513280/operations/115674326958604288\n"
     ]
    },
    {
     "name": "stderr",
     "output_type": "stream",
     "text": [
      "INFO:google.cloud.aiplatform.models:Deploy Endpoint model backing LRO: projects/1026793852137/locations/us-central1/endpoints/5386265571916513280/operations/115674326958604288\n"
     ]
    },
    {
     "ename": "InvalidArgument",
     "evalue": "400 Error occurred in Explanation preprocessing. <class 'TypeError'> 'NoneType' object is not iterable\n",
     "output_type": "error",
     "traceback": [
      "\u001b[0;31m---------------------------------------------------------------------------\u001b[0m",
      "\u001b[0;31mInvalidArgument\u001b[0m                           Traceback (most recent call last)",
      "\u001b[0;32m/var/tmp/ipykernel_15626/1877860472.py\u001b[0m in \u001b[0;36m<module>\u001b[0;34m\u001b[0m\n\u001b[1;32m      7\u001b[0m     \u001b[0mmax_replica_count\u001b[0m \u001b[0;34m=\u001b[0m \u001b[0;36m1\u001b[0m\u001b[0;34m,\u001b[0m\u001b[0;34m\u001b[0m\u001b[0;34m\u001b[0m\u001b[0m\n\u001b[1;32m      8\u001b[0m     \u001b[0mexplanation_parameters\u001b[0m \u001b[0;34m=\u001b[0m \u001b[0maiplatform\u001b[0m\u001b[0;34m.\u001b[0m\u001b[0mexplain\u001b[0m\u001b[0;34m.\u001b[0m\u001b[0mExplanationParameters\u001b[0m\u001b[0;34m(\u001b[0m\u001b[0;34m)\u001b[0m\u001b[0;34m,\u001b[0m \u001b[0;31m# supress the explanation specs from BQML during deployment\u001b[0m\u001b[0;34m\u001b[0m\u001b[0;34m\u001b[0m\u001b[0m\n\u001b[0;32m----> 9\u001b[0;31m     \u001b[0mexplanation_metadata\u001b[0m \u001b[0;34m=\u001b[0m \u001b[0maiplatform\u001b[0m\u001b[0;34m.\u001b[0m\u001b[0mexplain\u001b[0m\u001b[0;34m.\u001b[0m\u001b[0mExplanationMetadata\u001b[0m\u001b[0;34m(\u001b[0m\u001b[0;34m)\u001b[0m\u001b[0;34m\u001b[0m\u001b[0;34m\u001b[0m\u001b[0m\n\u001b[0m\u001b[1;32m     10\u001b[0m )\n",
      "\u001b[0;32m~/.local/lib/python3.7/site-packages/google/cloud/aiplatform/models.py\u001b[0m in \u001b[0;36mdeploy\u001b[0;34m(self, model, deployed_model_display_name, traffic_percentage, traffic_split, machine_type, min_replica_count, max_replica_count, accelerator_type, accelerator_count, service_account, explanation_metadata, explanation_parameters, metadata, sync, deploy_request_timeout, autoscaling_target_cpu_utilization, autoscaling_target_accelerator_duty_cycle, enable_access_logging)\u001b[0m\n\u001b[1;32m    872\u001b[0m             \u001b[0mautoscaling_target_cpu_utilization\u001b[0m\u001b[0;34m=\u001b[0m\u001b[0mautoscaling_target_cpu_utilization\u001b[0m\u001b[0;34m,\u001b[0m\u001b[0;34m\u001b[0m\u001b[0;34m\u001b[0m\u001b[0m\n\u001b[1;32m    873\u001b[0m             \u001b[0mautoscaling_target_accelerator_duty_cycle\u001b[0m\u001b[0;34m=\u001b[0m\u001b[0mautoscaling_target_accelerator_duty_cycle\u001b[0m\u001b[0;34m,\u001b[0m\u001b[0;34m\u001b[0m\u001b[0;34m\u001b[0m\u001b[0m\n\u001b[0;32m--> 874\u001b[0;31m             \u001b[0menable_access_logging\u001b[0m\u001b[0;34m=\u001b[0m\u001b[0menable_access_logging\u001b[0m\u001b[0;34m,\u001b[0m\u001b[0;34m\u001b[0m\u001b[0;34m\u001b[0m\u001b[0m\n\u001b[0m\u001b[1;32m    875\u001b[0m         )\n\u001b[1;32m    876\u001b[0m \u001b[0;34m\u001b[0m\u001b[0m\n",
      "\u001b[0;32m~/.local/lib/python3.7/site-packages/google/cloud/aiplatform/base.py\u001b[0m in \u001b[0;36mwrapper\u001b[0;34m(*args, **kwargs)\u001b[0m\n\u001b[1;32m    812\u001b[0m                 \u001b[0;32mif\u001b[0m \u001b[0mself\u001b[0m\u001b[0;34m:\u001b[0m\u001b[0;34m\u001b[0m\u001b[0;34m\u001b[0m\u001b[0m\n\u001b[1;32m    813\u001b[0m                     \u001b[0mVertexAiResourceNounWithFutureManager\u001b[0m\u001b[0;34m.\u001b[0m\u001b[0mwait\u001b[0m\u001b[0;34m(\u001b[0m\u001b[0mself\u001b[0m\u001b[0;34m)\u001b[0m\u001b[0;34m\u001b[0m\u001b[0;34m\u001b[0m\u001b[0m\n\u001b[0;32m--> 814\u001b[0;31m                 \u001b[0;32mreturn\u001b[0m \u001b[0mmethod\u001b[0m\u001b[0;34m(\u001b[0m\u001b[0;34m*\u001b[0m\u001b[0margs\u001b[0m\u001b[0;34m,\u001b[0m \u001b[0;34m**\u001b[0m\u001b[0mkwargs\u001b[0m\u001b[0;34m)\u001b[0m\u001b[0;34m\u001b[0m\u001b[0;34m\u001b[0m\u001b[0m\n\u001b[0m\u001b[1;32m    815\u001b[0m \u001b[0;34m\u001b[0m\u001b[0m\n\u001b[1;32m    816\u001b[0m             \u001b[0;31m# callbacks to call within the Future (in same Thread)\u001b[0m\u001b[0;34m\u001b[0m\u001b[0;34m\u001b[0m\u001b[0;34m\u001b[0m\u001b[0m\n",
      "\u001b[0;32m~/.local/lib/python3.7/site-packages/google/cloud/aiplatform/models.py\u001b[0m in \u001b[0;36m_deploy\u001b[0;34m(self, model, deployed_model_display_name, traffic_percentage, traffic_split, machine_type, min_replica_count, max_replica_count, accelerator_type, accelerator_count, service_account, explanation_spec, metadata, sync, deploy_request_timeout, autoscaling_target_cpu_utilization, autoscaling_target_accelerator_duty_cycle, enable_access_logging)\u001b[0m\n\u001b[1;32m    996\u001b[0m             \u001b[0mautoscaling_target_cpu_utilization\u001b[0m\u001b[0;34m=\u001b[0m\u001b[0mautoscaling_target_cpu_utilization\u001b[0m\u001b[0;34m,\u001b[0m\u001b[0;34m\u001b[0m\u001b[0;34m\u001b[0m\u001b[0m\n\u001b[1;32m    997\u001b[0m             \u001b[0mautoscaling_target_accelerator_duty_cycle\u001b[0m\u001b[0;34m=\u001b[0m\u001b[0mautoscaling_target_accelerator_duty_cycle\u001b[0m\u001b[0;34m,\u001b[0m\u001b[0;34m\u001b[0m\u001b[0;34m\u001b[0m\u001b[0m\n\u001b[0;32m--> 998\u001b[0;31m             \u001b[0menable_access_logging\u001b[0m\u001b[0;34m=\u001b[0m\u001b[0menable_access_logging\u001b[0m\u001b[0;34m,\u001b[0m\u001b[0;34m\u001b[0m\u001b[0;34m\u001b[0m\u001b[0m\n\u001b[0m\u001b[1;32m    999\u001b[0m         )\n\u001b[1;32m   1000\u001b[0m \u001b[0;34m\u001b[0m\u001b[0m\n",
      "\u001b[0;32m~/.local/lib/python3.7/site-packages/google/cloud/aiplatform/models.py\u001b[0m in \u001b[0;36m_deploy_call\u001b[0;34m(cls, api_client, endpoint_resource_name, model, endpoint_resource_traffic_split, network, deployed_model_display_name, traffic_percentage, traffic_split, machine_type, min_replica_count, max_replica_count, accelerator_type, accelerator_count, service_account, explanation_spec, metadata, deploy_request_timeout, autoscaling_target_cpu_utilization, autoscaling_target_accelerator_duty_cycle, enable_access_logging)\u001b[0m\n\u001b[1;32m   1255\u001b[0m         )\n\u001b[1;32m   1256\u001b[0m \u001b[0;34m\u001b[0m\u001b[0m\n\u001b[0;32m-> 1257\u001b[0;31m         \u001b[0moperation_future\u001b[0m\u001b[0;34m.\u001b[0m\u001b[0mresult\u001b[0m\u001b[0;34m(\u001b[0m\u001b[0mtimeout\u001b[0m\u001b[0;34m=\u001b[0m\u001b[0;32mNone\u001b[0m\u001b[0;34m)\u001b[0m\u001b[0;34m\u001b[0m\u001b[0;34m\u001b[0m\u001b[0m\n\u001b[0m\u001b[1;32m   1258\u001b[0m \u001b[0;34m\u001b[0m\u001b[0m\n\u001b[1;32m   1259\u001b[0m     def undeploy(\n",
      "\u001b[0;32m/opt/conda/lib/python3.7/site-packages/google/api_core/future/polling.py\u001b[0m in \u001b[0;36mresult\u001b[0;34m(self, timeout, retry, polling)\u001b[0m\n\u001b[1;32m    259\u001b[0m             \u001b[0;31m# pylint: disable=raising-bad-type\u001b[0m\u001b[0;34m\u001b[0m\u001b[0;34m\u001b[0m\u001b[0;34m\u001b[0m\u001b[0m\n\u001b[1;32m    260\u001b[0m             \u001b[0;31m# Pylint doesn't recognize that this is valid in this case.\u001b[0m\u001b[0;34m\u001b[0m\u001b[0;34m\u001b[0m\u001b[0;34m\u001b[0m\u001b[0m\n\u001b[0;32m--> 261\u001b[0;31m             \u001b[0;32mraise\u001b[0m \u001b[0mself\u001b[0m\u001b[0;34m.\u001b[0m\u001b[0m_exception\u001b[0m\u001b[0;34m\u001b[0m\u001b[0;34m\u001b[0m\u001b[0m\n\u001b[0m\u001b[1;32m    262\u001b[0m \u001b[0;34m\u001b[0m\u001b[0m\n\u001b[1;32m    263\u001b[0m         \u001b[0;32mreturn\u001b[0m \u001b[0mself\u001b[0m\u001b[0;34m.\u001b[0m\u001b[0m_result\u001b[0m\u001b[0;34m\u001b[0m\u001b[0;34m\u001b[0m\u001b[0m\n",
      "\u001b[0;31mInvalidArgument\u001b[0m: 400 Error occurred in Explanation preprocessing. <class 'TypeError'> 'NoneType' object is not iterable\n"
     ]
    }
   ],
   "source": [
    "endpoint.deploy(\n",
    "    model = vertex_model,\n",
    "    deployed_model_display_name = vertex_model.display_name,\n",
    "    traffic_percentage = 100,\n",
    "    machine_type = 'n1-standard-2',\n",
    "    min_replica_count = 1,\n",
    "    max_replica_count = 1,\n",
    "    explanation_parameters = aiplatform.explain.ExplanationParameters(), # supress the explanation specs from BQML during deployment\n",
    "    explanation_metadata = aiplatform.explain.ExplanationMetadata()\n",
    ")"
   ]
  },
  {
   "cell_type": "markdown",
   "id": "30a5a63e-9c60-45ed-9a0a-fad39899fe28",
   "metadata": {},
   "source": [
    "---\n",
    "# DEBUGGING\n",
    "\n",
    "ERROR related to explanationspec from BQML registering model in Vertex AI Model Registry.  View the spec with `vertex_model.gca_resource`\n",
    "\n",
    "---"
   ]
  },
  {
   "cell_type": "code",
   "execution_count": null,
   "id": "cef02f97-c080-442d-9cd9-dac14bacab88",
   "metadata": {},
   "outputs": [],
   "source": [
    "endpoint.list_models()"
   ]
  },
  {
   "cell_type": "markdown",
   "id": "f23b38bf-7af0-41c5-975e-fbf8e234cf95",
   "metadata": {},
   "source": [
    "### Remove Deployed Models without Traffic"
   ]
  },
  {
   "cell_type": "code",
   "execution_count": null,
   "id": "29fe58f6-0138-4743-b57d-401fc94a406c",
   "metadata": {},
   "outputs": [],
   "source": [
    "for deployed_model in endpoint.list_models():\n",
    "    if deployed_model.id in endpoint.traffic_split:\n",
    "        print(f\"Model {deployed_model.display_name} with version {deployed_model.model_version_id} has traffic = {endpoint.traffic_split[deployed_model.id]}\")\n",
    "    else:\n",
    "        endpoint.undeploy(deployed_model_id = deployed_model.id)\n",
    "        print(f\"Undeploying {deployed_model.display_name} with version {deployed_model.model_version_id} because it has no traffic.\")"
   ]
  },
  {
   "cell_type": "code",
   "execution_count": null,
   "id": "02e12f12-64e8-4f0d-9a05-91c45d969c6e",
   "metadata": {},
   "outputs": [],
   "source": [
    "endpoint.traffic_split"
   ]
  },
  {
   "cell_type": "code",
   "execution_count": null,
   "id": "a7adc28c-2888-44b6-91cf-6753887ad852",
   "metadata": {},
   "outputs": [],
   "source": [
    "#endpoint.list_models()"
   ]
  },
  {
   "cell_type": "markdown",
   "id": "bd733854-41a6-447e-ac7f-8c4aae6b23f6",
   "metadata": {},
   "source": [
    "---\n",
    "## Predictions With Vertex AI Endpoint"
   ]
  },
  {
   "cell_type": "markdown",
   "id": "095e29aa-f28c-45d2-bc8a-518c27cce7a7",
   "metadata": {},
   "source": [
    "### Retrieve Records For Prediction"
   ]
  },
  {
   "cell_type": "code",
   "execution_count": null,
   "id": "25447641-0ae8-4ace-9c8a-2a4b94389a8d",
   "metadata": {},
   "outputs": [],
   "source": [
    "n = 10\n",
    "pred = bq.query(\n",
    "    query = f\"\"\"\n",
    "        SELECT * EXCEPT({VAR_TARGET}, {VAR_OMIT}, splits)\n",
    "        FROM {BQ_PROJECT}.{BQ_DATASET}.{BQ_TABLE}\n",
    "        WHERE splits='TEST'\n",
    "        LIMIT {n}\n",
    "        \"\"\"\n",
    ").to_dataframe()"
   ]
  },
  {
   "cell_type": "markdown",
   "id": "7e2dd913-5f1d-44b8-93f1-c4ffe2a3ae68",
   "metadata": {},
   "source": [
    "Shape as instances: dictionaries of key:value pairs for only features used in model"
   ]
  },
  {
   "cell_type": "code",
   "execution_count": null,
   "id": "c89fe9f0-33ce-45e3-b0e8-0a53a72d0c30",
   "metadata": {},
   "outputs": [],
   "source": [
    "newobs = pred.to_dict(orient = 'records')"
   ]
  },
  {
   "cell_type": "code",
   "execution_count": null,
   "id": "ddced692-ab83-41df-bbc2-08d8a5b9e61b",
   "metadata": {},
   "outputs": [],
   "source": [
    "newobs[0]"
   ]
  },
  {
   "cell_type": "markdown",
   "id": "95d42c98-e887-421c-a148-ff6c00333984",
   "metadata": {},
   "source": [
    "### Get Predictions: Python Client"
   ]
  },
  {
   "cell_type": "code",
   "execution_count": null,
   "id": "b5316751-0480-4da5-8a8a-37d5950356c1",
   "metadata": {},
   "outputs": [],
   "source": [
    "prediction = endpoint.predict(instances = newobs[0:1])\n",
    "prediction"
   ]
  },
  {
   "cell_type": "code",
   "execution_count": null,
   "id": "5eb70f25-83ec-4893-88e5-700a296189db",
   "metadata": {},
   "outputs": [],
   "source": [
    "prediction.predictions[0]"
   ]
  },
  {
   "cell_type": "code",
   "execution_count": null,
   "id": "93bd9d6d-7179-4668-8d8d-efbe45ab2a1f",
   "metadata": {},
   "outputs": [],
   "source": [
    "np.argmax(prediction.predictions[0])"
   ]
  },
  {
   "cell_type": "markdown",
   "id": "b7f44037-38bc-41e0-83a5-645adc45ccd3",
   "metadata": {},
   "source": [
    "### Get Predictions: REST\n",
    "Reference:\n",
    "- [POST https://{REGION}-aiplatform.googleapis.com/v1/{endpoint}:predict](https://cloud.google.com/python/docs/reference/aiplatform/latest/google.cloud.aiplatform_v1.services.prediction_service.PredictionServiceClient#google_cloud_aiplatform_v1_services_prediction_service_PredictionServiceClient_predict)"
   ]
  },
  {
   "cell_type": "markdown",
   "id": "a9fb8c81-abde-48e8-a70e-d7d0dbeee29a",
   "metadata": {},
   "source": [
    "Prepare request:"
   ]
  },
  {
   "cell_type": "code",
   "execution_count": null,
   "id": "cd578d06-c345-44c9-88a6-43245e2bdd63",
   "metadata": {},
   "outputs": [],
   "source": [
    "with open(f'{DIR}/request.json','w') as file:\n",
    "    file.write(json.dumps({\"instances\": newobs[0:1]}))"
   ]
  },
  {
   "cell_type": "markdown",
   "id": "dfcf5dd5-f242-471e-8522-658ab8b02eb6",
   "metadata": {},
   "source": [
    "Prediction:"
   ]
  },
  {
   "cell_type": "code",
   "execution_count": null,
   "id": "43333ec1-d510-42e3-a9a2-58f3b1516470",
   "metadata": {},
   "outputs": [],
   "source": [
    "prediction = !curl -X POST \\\n",
    "-H \"Authorization: Bearer \"$(gcloud auth application-default print-access-token) \\\n",
    "-H \"Content-Type: application/json; charset=utf-8\" \\\n",
    "-d @{DIR}/request.json \\\n",
    "https://{REGION}-aiplatform.googleapis.com/v1/{endpoint.resource_name}:predict\n",
    "\n",
    "prediction"
   ]
  },
  {
   "cell_type": "markdown",
   "id": "b86ac691-4796-4f73-b571-b41cd6f80cc5",
   "metadata": {},
   "source": [
    "Format raw prediction response using JSON:"
   ]
  },
  {
   "cell_type": "markdown",
   "id": "f6e03ab4-e075-43c0-82b9-52d2a7671367",
   "metadata": {},
   "source": [
    "### Get Predictions: gcloud (CLI)\n",
    "Reference:\n",
    "- [gcloud ai endpoints predict](https://cloud.google.com/sdk/gcloud/reference/ai/endpoints/predict)"
   ]
  },
  {
   "cell_type": "markdown",
   "id": "487c20e5-0606-4ebe-bc00-ff7404268e31",
   "metadata": {},
   "source": [
    "Prepare request:"
   ]
  },
  {
   "cell_type": "code",
   "execution_count": null,
   "id": "76be73ab-ec52-4271-bed6-6ef4bcc0ed36",
   "metadata": {},
   "outputs": [],
   "source": [
    "with open(f'{DIR}/request.json','w') as file:\n",
    "    file.write(json.dumps({\"instances\": newobs[0:1]}))"
   ]
  },
  {
   "cell_type": "markdown",
   "id": "c453a227-b8d2-47f3-afb7-359392227d47",
   "metadata": {},
   "source": [
    "Prediction:"
   ]
  },
  {
   "cell_type": "code",
   "execution_count": null,
   "id": "bdafbae2-0c63-4345-a8a0-b17190281e78",
   "metadata": {},
   "outputs": [],
   "source": [
    "prediction = !gcloud beta ai endpoints predict {endpoint.name.rsplit('/',1)[-1]} --region={REGION} --json-request={DIR}/request.json\n",
    "prediction"
   ]
  },
  {
   "cell_type": "markdown",
   "id": "0aa8ae35-4908-4779-98ff-abd90263755e",
   "metadata": {},
   "source": [
    "---\n",
    "## Export Model\n",
    "\n",
    "The model created in BigQuery ML can be exported to their native model types save files.  This process saves the model artifacts in GCS where they can be use anywhere they are needed.  For instance, they could be imported into the Vertex AI Model Registry for use in online and batch serving - however, this process is automated with the training options use above."
   ]
  },
  {
   "cell_type": "markdown",
   "id": "9f0061b2-4402-4d37-8793-dd3f05b20bf6",
   "metadata": {},
   "source": [
    "### Export the BigQuery Model\n",
    "\n",
    "\n",
    "The models trained in BQML can be exported from BigQuery to GCS:\n",
    "\n",
    "Reference:\n",
    "- [Exporting Models](https://cloud.google.com/bigquery-ml/docs/exporting-models)"
   ]
  },
  {
   "cell_type": "code",
   "execution_count": null,
   "id": "8b1d3c42-5126-4588-adfa-c4177dd69b7b",
   "metadata": {},
   "outputs": [],
   "source": [
    "query = f\"\"\"\n",
    "EXPORT MODEL `{BQ_PROJECT}.{BQ_DATASET}.{BQ_MODEL}`\n",
    "    OPTIONS (URI = 'gs://{BUCKET}/{SERIES}/{EXPERIMENT}/models/{TIMESTAMP}/model')\n",
    "\"\"\"\n",
    "export = bq.query(query = query)\n",
    "export.result()"
   ]
  },
  {
   "cell_type": "code",
   "execution_count": null,
   "id": "1cd3d6a0-8d20-458c-8c02-06c4fe41cdb3",
   "metadata": {},
   "outputs": [],
   "source": [
    "(export.ended - export.started).total_seconds()"
   ]
  },
  {
   "cell_type": "code",
   "execution_count": null,
   "id": "fb8d8449-fc2d-409f-bc16-bc7dacb6db68",
   "metadata": {},
   "outputs": [],
   "source": [
    "listing = !gsutil ls gs://{BUCKET}/{SERIES}/{EXPERIMENT}/models/{TIMESTAMP}/model\n",
    "listing"
   ]
  },
  {
   "cell_type": "code",
   "execution_count": null,
   "id": "e141620a-14df-4f0b-9bc0-496df4c80e24",
   "metadata": {},
   "outputs": [],
   "source": [
    "print(f\"View the export in the console:\\nhttps://console.cloud.google.com/storage/browser/{BUCKET}/{SERIES}/{EXPERIMENT}/models/{TIMESTAMP}/model?project={PROJECT_ID}\")"
   ]
  },
  {
   "cell_type": "markdown",
   "id": "8c5258f6-32f7-4870-be03-2a3a32223192",
   "metadata": {},
   "source": [
    "### Detect The Model Types Framework"
   ]
  },
  {
   "cell_type": "code",
   "execution_count": null,
   "id": "58695098-2026-4ded-918e-86341473c6db",
   "metadata": {},
   "outputs": [],
   "source": [
    "filetype = {'pb': 'TensorFlow', 'bst': 'XGBoost'}\n",
    "\n",
    "filetypes = [filetype[f.split('.')[-1]] for f in listing if f.split('.')[-1] in ['pb','bst']]\n",
    "if len(list(set(filetypes))) == 1:\n",
    "    framework = filetypes[0]\n",
    "    print(f'framework = {framework}')\n",
    "else:\n",
    "    raise TypeError(f\"Model Type Undeteremined!! Review the contents of of 'listing = {listing}'.\")"
   ]
  },
  {
   "cell_type": "code",
   "execution_count": null,
   "id": "b7fb767f-cf18-44f6-a195-2633fa446ff8",
   "metadata": {},
   "outputs": [],
   "source": [
    "list(set(filetypes))"
   ]
  },
  {
   "cell_type": "markdown",
   "id": "36ee12cf-4ebc-4d6a-a4cc-54bd438dd620",
   "metadata": {},
   "source": [
    "---\n",
    "## Remove Resources\n",
    "\n",
    "The following cells have commented out statements that can be used to remove resources created by this notebook.  Other notebooks in the repository will reusue the same endpoint so it may be desired to not remove the endpoint if you plan to run additional notebooks.  Otherwise, please removed the endpoint to prevent ongoing cost from hosting the models on Vertex AI Endpoints.\n",
    "\n",
    "Similarly, if you want to remove the model from BQML to prevent the minimal storage cost it will automatically be removed from Vertex AI Model Registry as well."
   ]
  },
  {
   "cell_type": "code",
   "execution_count": 100,
   "id": "aabcdeb6-f9b0-4fcb-b592-12a5f2445156",
   "metadata": {},
   "outputs": [],
   "source": [
    "# delete endpoint, use `force` incase models are deployed or undeploy them first\n",
    "#endpoint.delete(force = True)"
   ]
  },
  {
   "cell_type": "code",
   "execution_count": 99,
   "id": "5edc9ed2-b050-4e40-8c18-5c8845cac408",
   "metadata": {},
   "outputs": [],
   "source": [
    "# delete models created in BQ with BQML - this also removes them from Vertex AI Model Registry\n",
    "#bq.delete_model(model)"
   ]
  }
 ],
 "metadata": {
  "environment": {
   "kernel": "python3",
   "name": "tf2-gpu.2-11.m104",
   "type": "gcloud",
   "uri": "gcr.io/deeplearning-platform-release/tf2-gpu.2-11:m104"
  },
  "kernelspec": {
   "display_name": "Python 3 (ipykernel)",
   "language": "python",
   "name": "python3"
  },
  "language_info": {
   "codemirror_mode": {
    "name": "ipython",
    "version": 3
   },
   "file_extension": ".py",
   "mimetype": "text/x-python",
   "name": "python",
   "nbconvert_exporter": "python",
   "pygments_lexer": "ipython3",
   "version": "3.7.12"
  }
 },
 "nbformat": 4,
 "nbformat_minor": 5
}
