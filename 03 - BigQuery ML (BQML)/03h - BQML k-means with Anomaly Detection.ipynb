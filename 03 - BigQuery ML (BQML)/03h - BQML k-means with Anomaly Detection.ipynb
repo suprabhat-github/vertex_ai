{
 "cells": [
  {
   "cell_type": "markdown",
   "id": "914b9f41",
   "metadata": {},
   "source": [
    "![ga4](https://www.google-analytics.com/collect?v=2&tid=G-6VDTYWLKX6&cid=1&en=page_view&sid=1&dl=statmike%2Fvertex-ai-mlops%2F03+-+BigQuery+ML+%28BQML%29&dt=03h+-+BQML+k-means+with+Anomaly+Detection.ipynb)\n",
    "<!--- header table --->\n",
    "<table align=\"left\">\n",
    "  <td style=\"text-align: center\">\n",
    "    <a href=\"https://colab.research.google.com/github/statmike/vertex-ai-mlops/blob/main/03%20-%20BigQuery%20ML%20%28BQML%29/03h%20-%20BQML%20k-means%20with%20Anomaly%20Detection.ipynb\">\n",
    "      <img src=\"https://cloud.google.com/ml-engine/images/colab-logo-32px.png\" alt=\"Google Colaboratory logo\">\n",
    "      <br>Run in<br>Colab\n",
    "    </a>\n",
    "  </td>\n",
    "  <td style=\"text-align: center\">\n",
    "    <a href=\"https://console.cloud.google.com/vertex-ai/colab/import/https%3A//raw.githubusercontent.com/statmike/vertex-ai-mlops/main/03%20-%20BigQuery%20ML%20%28BQML%29/03h%20-%20BQML%20k-means%20with%20Anomaly%20Detection.ipynb\">\n",
    "      <img width=\"32px\" src=\"https://lh3.googleusercontent.com/JmcxdQi-qOpctIvWKgPtrzZdJJK-J3sWE1RsfjZNwshCFgE_9fULcNpuXYTilIR2hjwN\" alt=\"Google Cloud Colab Enterprise logo\">\n",
    "      <br>Run in<br>Colab Enterprise\n",
    "    </a>\n",
    "  </td>      \n",
    "  <td style=\"text-align: center\">\n",
    "    <a href=\"https://github.com/statmike/vertex-ai-mlops/blob/main/03%20-%20BigQuery%20ML%20%28BQML%29/03h%20-%20BQML%20k-means%20with%20Anomaly%20Detection.ipynb\">\n",
    "      <img src=\"https://cloud.google.com/ml-engine/images/github-logo-32px.png\" alt=\"GitHub logo\">\n",
    "      <br>View on<br>GitHub\n",
    "    </a>\n",
    "  </td>\n",
    "  <td style=\"text-align: center\">\n",
    "    <a href=\"https://console.cloud.google.com/vertex-ai/workbench/deploy-notebook?download_url=https%3A//raw.githubusercontent.com/statmike/vertex-ai-mlops/main/03%20-%20BigQuery%20ML%20%28BQML%29/03h%20-%20BQML%20k-means%20with%20Anomaly%20Detection.ipynb\">\n",
    "      <img src=\"https://lh3.googleusercontent.com/UiNooY4LUgW_oTvpsNhPpQzsstV5W8F7rYgxgGBD85cWJoLmrOzhVs_ksK_vgx40SHs7jCqkTkCk=e14-rj-sc0xffffff-h130-w32\" alt=\"Vertex AI logo\">\n",
    "      <br>Open in<br>Vertex AI Workbench\n",
    "    </a>\n",
    "  </td>\n",
    "</table>"
   ]
  },
  {
   "cell_type": "markdown",
   "id": "556e80c5-acdd-4834-a3ec-b8dbf79bd6ef",
   "metadata": {},
   "source": [
    "# 03g - BigQuery ML (BQML) - k-means with Anomaly Detection\n",
    "\n",
    "In this notebook, BigQuery ML (BQML) is used to do K-means clustering while using hyperparameter tuning to find an optimal value for the number of clusters.\n",
    "\n",
    "**K-Means Clustering**\n",
    "\n",
    "K-means clustering is a statistical technique to partition `n` observations into `k` clusters.  Each obsevation will be assigned to a cluster that has the nearest mean.\n",
    "\n",
    "Reference:\n",
    "- [k-means clustering](https://en.wikipedia.org/wiki/K-means_clustering)\n",
    "- [Unsupervised Learning](https://en.wikipedia.org/wiki/Unsupervised_learning)\n",
    "\n",
    "**BigQuery ML (BQML)**\n",
    "\n",
    "BigQuery has a number of machine learning algorithms callable directly from SQL.  This gives the convenience of using the common language of `SQL` with statments like `CREATE MODEL …`.  The library of available models is constantly growing and covers supervised, unsupervised, and time series methods as well as functions for evaluation - even anomaly detection from results, explainability and hyperparameter tuning.  A great starting point for seeing the scope of available methods is the [user journey for models](https://cloud.google.com/bigquery-ml/docs/reference/standard-sql/bigqueryml-syntax-e2e-journey).\n",
    "\n",
    "**Hyperparameter Tuning**\n",
    "\n",
    "When training a machine learning model it is helpful to find the optimal values for hyperparameters, parameters set before training begins.  These are not learned parameters like the coefficents of a model.  Rather than manually iterating these parameters we want to sequently test and focus in on optimal values.  The focusing part of the iterations is done in BQML by utilizing the [Vertex AI Vizier](https://cloud.google.com/vertex-ai/docs/vizier/overview) service by default.\n",
    "\n",
    "Each `MODEL_TYPE` in BQML has parameters than can be tuned as [listed here](https://cloud.google.com/bigquery-ml/docs/reference/standard-sql/bigqueryml-hyperparameter-tuning#hyperparameters_and_objectives). \n",
    "\n",
    "**Prerequisites:**\n",
    "- [01 - BigQuery - Table Data Source](../01%20-%20Data%20Sources/01%20-%20BigQuery%20-%20Table%20Data%20Source.ipynb)\n",
    "\n",
    "**Resources:**\n",
    "-  [BigQuery ML (BQML) Overview](https://cloud.google.com/bigquery-ml/docs/introduction)\n",
    "-  [Overview of BQML methods and workflows](https://cloud.google.com/bigquery-ml/docs/reference/standard-sql/bigqueryml-syntax-e2e-journey)\n",
    "- [BigQuery](https://cloud.google.com/bigquery)\n",
    "    - [Documentation:](https://cloud.google.com/bigquery/docs/query-overview)\n",
    "    - [API:](https://cloud.google.com/bigquery/docs/reference/libraries-overview)\n",
    "        - [Clients](https://cloud.google.com/bigquery/docs/reference/libraries)\n",
    "            - [Python SDK:](https://github.com/googleapis/python-bigquery)\n",
    "            - [Python Library Reference:](https://cloud.google.com/python/docs/reference/bigquery/latest)\n",
    "- [Vertex AI](https://cloud.google.com/vertex-ai)\n",
    "    - [Documentation:](https://cloud.google.com/vertex-ai/docs/start/introduction-unified-platform)\n",
    "    - [API:](https://cloud.google.com/vertex-ai/docs/reference)\n",
    "        - [Clients:](https://cloud.google.com/vertex-ai/docs/start/client-libraries)\n",
    "            - [Python SDK:](https://github.com/googleapis/python-aiplatform)\n",
    "            - [Python Library Reference:](https://cloud.google.com/python/docs/reference/aiplatform/latest)\n",
    "\n",
    "**Conceptual Flow & Workflow**\n"
   ]
  },
  {
   "cell_type": "markdown",
   "id": "a404ef9b-45bc-4429-97f0-3ecf41c410ab",
   "metadata": {
    "id": "od_UkDpvRmgD"
   },
   "source": [
    "---\n",
    "## Colab Setup\n",
    "\n",
    "To run this notebook in Colab click [![Open In Colab](https://colab.research.google.com/assets/colab-badge.svg)](https://colab.research.google.com/github/statmike/vertex-ai-mlops/blob/main/03%20-%20BigQuery%20ML%20(BQML)/03h%20-%20BQML%20k-means%20with%20Anomaly%20Detection.ipynb) and run the cells in this section.  Otherwise, skip this section.\n",
    "\n",
    "This cell will authenticate to GCP (follow prompts in the popup)."
   ]
  },
  {
   "cell_type": "code",
   "execution_count": 1,
   "id": "89bdc9c6-60a6-4902-a476-a7d8bf6b249a",
   "metadata": {
    "executionInfo": {
     "elapsed": 195,
     "status": "ok",
     "timestamp": 1683726184843,
     "user": {
      "displayName": "Mike Henderson",
      "userId": "07691629187611687318"
     },
     "user_tz": 240
    },
    "id": "8UO9FnqyKBlF"
   },
   "outputs": [],
   "source": [
    "PROJECT_ID = 'statmike-mlops-349915' # replace with project ID"
   ]
  },
  {
   "cell_type": "code",
   "execution_count": 2,
   "id": "29e25024-e325-40b9-9556-5f9196ef1591",
   "metadata": {
    "colab": {
     "base_uri": "https://localhost:8080/"
    },
    "executionInfo": {
     "elapsed": 68869,
     "status": "ok",
     "timestamp": 1683726253709,
     "user": {
      "displayName": "Mike Henderson",
      "userId": "07691629187611687318"
     },
     "user_tz": 240
    },
    "id": "N98-KK7LRkjm",
    "outputId": "09ec5008-0def-4e1a-c349-c598ee752f78"
   },
   "outputs": [],
   "source": [
    "try:\n",
    "    import google.colab\n",
    "    from google.colab import auth\n",
    "    auth.authenticate_user()\n",
    "    !gcloud config set project {PROJECT_ID}\n",
    "    \n",
    "    #installs\n",
    "    # Vertex AI GenAI Studio SDK - Update the aiplatform SDK\n",
    "    !pip install google.cloud.aiplatform -U -q --user\n",
    "    !pip install --upgrade gcsfs -U -q --user\n",
    "    !pip install --upgrade google-cloud-bigquery -U -q --user\n",
    "    !pip install --upgrade google-cloud-bigquery-storage -U -q --user\n",
    "    \n",
    "    # Enable Vertex AI For This Project\n",
    "    !gcloud services enable aiplatform.googleapis.com\n",
    "\n",
    "    # restart runtime\n",
    "    import IPython\n",
    "    app = IPython.Application.instance()\n",
    "    app.kernel.do_shutdown(True)    \n",
    "except Exception:\n",
    "    pass"
   ]
  },
  {
   "cell_type": "markdown",
   "id": "c13767f2-ed00-48e7-9d92-0f7fe0ad7bde",
   "metadata": {},
   "source": [
    "---\n",
    "## Setup"
   ]
  },
  {
   "cell_type": "markdown",
   "id": "a7c3fc4b-40be-4430-97da-119f948d6a16",
   "metadata": {},
   "source": [
    "inputs:"
   ]
  },
  {
   "cell_type": "code",
   "execution_count": 1,
   "id": "80d62176-d739-4750-8581-2f5dfdb8ee66",
   "metadata": {},
   "outputs": [
    {
     "data": {
      "text/plain": [
       "'statmike-mlops-349915'"
      ]
     },
     "execution_count": 1,
     "metadata": {},
     "output_type": "execute_result"
    }
   ],
   "source": [
    "project = !gcloud config get-value project\n",
    "PROJECT_ID = project[0]\n",
    "PROJECT_ID"
   ]
  },
  {
   "cell_type": "code",
   "execution_count": 2,
   "id": "29698a53-91b3-4ab6-8123-69191c7f9a13",
   "metadata": {},
   "outputs": [],
   "source": [
    "REGION = 'us-central1'\n",
    "EXPERIMENT = 'kmeans'\n",
    "SERIES = 'bqml'\n",
    "\n",
    "# source data\n",
    "BQ_PROJECT = PROJECT_ID\n",
    "BQ_DATASET = 'fraud'\n",
    "BQ_TABLE = 'fraud_prepped'\n",
    "\n",
    "# Resources for serving BigQuery Model Exports\n",
    "TF_DEPLOY_IMAGE = 'us-docker.pkg.dev/vertex-ai/prediction/tf2-cpu.2-3:latest'\n",
    "XGB_DEPLOY_IMAGE = 'us-docker.pkg.dev/vertex-ai/prediction/xgboost-cpu.0-82:latest'\n",
    "\n",
    "# Resources for serving BigQuery Model Exports\n",
    "DEPLOY_COMPUTE = 'n1-standard-4'\n",
    "\n",
    "# Model Training\n",
    "VAR_TARGET = 'Class'\n",
    "VAR_OMIT = 'transaction_id' # add more variables to the string with space delimiters"
   ]
  },
  {
   "cell_type": "markdown",
   "id": "b11470a1-9e71-4f93-affd-e253ec453d48",
   "metadata": {},
   "source": [
    "packages:"
   ]
  },
  {
   "cell_type": "code",
   "execution_count": 3,
   "id": "32ae4cdc-8100-4242-9adc-89c0649f5f47",
   "metadata": {},
   "outputs": [],
   "source": [
    "from google.cloud import bigquery\n",
    "from google.cloud import aiplatform\n",
    "from datetime import datetime\n",
    "import matplotlib.pyplot as plt\n",
    "from sklearn import metrics\n",
    "import numpy as np\n",
    "\n",
    "from google.api import httpbody_pb2\n",
    "import json"
   ]
  },
  {
   "cell_type": "markdown",
   "id": "aa23d36b-0abb-4864-835e-cbe8f099ef12",
   "metadata": {},
   "source": [
    "clients:"
   ]
  },
  {
   "cell_type": "code",
   "execution_count": 4,
   "id": "cc94b10c-a433-43c5-ba7d-0750f05d2239",
   "metadata": {},
   "outputs": [],
   "source": [
    "bq = bigquery.Client(project = PROJECT_ID)\n",
    "aiplatform.init(project = PROJECT_ID, location = REGION)"
   ]
  },
  {
   "cell_type": "markdown",
   "id": "8047ffcb-f335-4613-8627-ff3ff06b5cc5",
   "metadata": {},
   "source": [
    "parameters:"
   ]
  },
  {
   "cell_type": "code",
   "execution_count": 5,
   "id": "2a9d5c98-9254-458b-80c5-f53e58c54ab4",
   "metadata": {},
   "outputs": [],
   "source": [
    "TIMESTAMP = datetime.now().strftime(\"%Y%m%d%H%M%S\")\n",
    "BUCKET = PROJECT_ID\n",
    "URI = f\"gs://{BUCKET}/{SERIES}/{EXPERIMENT}\"\n",
    "RUN_NAME = f'run-{TIMESTAMP}'\n",
    "\n",
    "BQ_MODEL = f'{SERIES}_{EXPERIMENT}_{TIMESTAMP}'"
   ]
  },
  {
   "cell_type": "markdown",
   "id": "4dd712cf-0dc1-4d3c-adb9-75c0571a1178",
   "metadata": {},
   "source": [
    "environment:"
   ]
  },
  {
   "cell_type": "code",
   "execution_count": 6,
   "id": "e64896ac-b1fd-4f03-bc7f-2825f309e512",
   "metadata": {},
   "outputs": [],
   "source": [
    "DIR = f\"temp/{EXPERIMENT}\"\n",
    "\n",
    "!rm -rf {DIR}\n",
    "!mkdir -p {DIR}"
   ]
  },
  {
   "cell_type": "markdown",
   "id": "d84d58e6-ffc1-4f1e-a8c7-3e43f7c5e7b6",
   "metadata": {},
   "source": [
    "---\n",
    "## Review Data\n",
    "\n",
    "The data source here was prepared in [01 - BigQuery - Table Data Source](../01%20-%20Data%20Sources/01%20-%20BigQuery%20-%20Table%20Data%20Source.ipynb).  In this notebook we will use prepared BigQuery table to build a model with BigQuery ML (BQML).\n",
    "\n",
    "This is a table of 284,807 credit card transactions classified as fradulant or normal in the column `Class`.  In order protect confidentiality, the original features have been transformed using [principle component analysis (PCA)](https://en.wikipedia.org/wiki/Principal_component_analysis) into 28 features named `V1, V2, ... V28` (float).  Two descriptive features are provided without transformation by PCA:\n",
    "- `Time` (integer) is the seconds elapsed between the transaction and the earliest transaction in the table\n",
    "- `Amount` (float) is the value of the transaction\n",
    "\n",
    "The data preparation included added splits for machine learning with a column named `splits` with 80% for training (`TRAIN`), 10% for validation (`VALIDATE`) and 10% for testing (`TEST`).  Additionally, a unique identifier was added to each transaction, `transaction_id`.  "
   ]
  },
  {
   "cell_type": "markdown",
   "id": "04db367a-b901-4539-8ef3-e4b0de5e0c4f",
   "metadata": {},
   "source": [
    "Review the number of records for each level of Class (VAR_TARGET) for each of the data splits:"
   ]
  },
  {
   "cell_type": "code",
   "execution_count": 7,
   "id": "c4725d9d-b287-4fa2-a4e5-e71bdd80ada6",
   "metadata": {},
   "outputs": [
    {
     "data": {
      "text/html": [
       "<div>\n",
       "<style scoped>\n",
       "    .dataframe tbody tr th:only-of-type {\n",
       "        vertical-align: middle;\n",
       "    }\n",
       "\n",
       "    .dataframe tbody tr th {\n",
       "        vertical-align: top;\n",
       "    }\n",
       "\n",
       "    .dataframe thead th {\n",
       "        text-align: right;\n",
       "    }\n",
       "</style>\n",
       "<table border=\"1\" class=\"dataframe\">\n",
       "  <thead>\n",
       "    <tr style=\"text-align: right;\">\n",
       "      <th></th>\n",
       "      <th>splits</th>\n",
       "      <th>Class</th>\n",
       "      <th>n</th>\n",
       "    </tr>\n",
       "  </thead>\n",
       "  <tbody>\n",
       "    <tr>\n",
       "      <th>0</th>\n",
       "      <td>TEST</td>\n",
       "      <td>0</td>\n",
       "      <td>28455</td>\n",
       "    </tr>\n",
       "    <tr>\n",
       "      <th>1</th>\n",
       "      <td>TEST</td>\n",
       "      <td>1</td>\n",
       "      <td>47</td>\n",
       "    </tr>\n",
       "    <tr>\n",
       "      <th>2</th>\n",
       "      <td>TRAIN</td>\n",
       "      <td>0</td>\n",
       "      <td>227664</td>\n",
       "    </tr>\n",
       "    <tr>\n",
       "      <th>3</th>\n",
       "      <td>TRAIN</td>\n",
       "      <td>1</td>\n",
       "      <td>397</td>\n",
       "    </tr>\n",
       "    <tr>\n",
       "      <th>4</th>\n",
       "      <td>VALIDATE</td>\n",
       "      <td>0</td>\n",
       "      <td>28196</td>\n",
       "    </tr>\n",
       "    <tr>\n",
       "      <th>5</th>\n",
       "      <td>VALIDATE</td>\n",
       "      <td>1</td>\n",
       "      <td>48</td>\n",
       "    </tr>\n",
       "  </tbody>\n",
       "</table>\n",
       "</div>"
      ],
      "text/plain": [
       "     splits  Class       n\n",
       "0      TEST      0   28455\n",
       "1      TEST      1      47\n",
       "2     TRAIN      0  227664\n",
       "3     TRAIN      1     397\n",
       "4  VALIDATE      0   28196\n",
       "5  VALIDATE      1      48"
      ]
     },
     "execution_count": 7,
     "metadata": {},
     "output_type": "execute_result"
    }
   ],
   "source": [
    "query = f\"\"\"\n",
    "SELECT splits, {VAR_TARGET}, count(*) as n\n",
    "FROM `{BQ_PROJECT}.{BQ_DATASET}.{BQ_TABLE}`\n",
    "GROUP BY splits, {VAR_TARGET}\n",
    "\"\"\"\n",
    "bq.query(query = query).to_dataframe()"
   ]
  },
  {
   "cell_type": "markdown",
   "id": "8d5bcea2-eb5b-4533-924c-064ae6110b85",
   "metadata": {},
   "source": [
    "Further review the balance of the target variable (VAR_TARGET) for each split as a percentage of the split:"
   ]
  },
  {
   "cell_type": "code",
   "execution_count": 8,
   "id": "a991b197-1c67-459c-a8e1-dc094d00565c",
   "metadata": {},
   "outputs": [
    {
     "data": {
      "text/html": [
       "<div>\n",
       "<style scoped>\n",
       "    .dataframe tbody tr th:only-of-type {\n",
       "        vertical-align: middle;\n",
       "    }\n",
       "\n",
       "    .dataframe tbody tr th {\n",
       "        vertical-align: top;\n",
       "    }\n",
       "\n",
       "    .dataframe thead th {\n",
       "        text-align: right;\n",
       "    }\n",
       "</style>\n",
       "<table border=\"1\" class=\"dataframe\">\n",
       "  <thead>\n",
       "    <tr style=\"text-align: right;\">\n",
       "      <th></th>\n",
       "      <th>splits</th>\n",
       "      <th>Class</th>\n",
       "      <th>n</th>\n",
       "      <th>total</th>\n",
       "      <th>n_pct_class</th>\n",
       "      <th>n_pct_split</th>\n",
       "      <th>class_pct_total</th>\n",
       "    </tr>\n",
       "  </thead>\n",
       "  <tbody>\n",
       "    <tr>\n",
       "      <th>0</th>\n",
       "      <td>VALIDATE</td>\n",
       "      <td>0</td>\n",
       "      <td>28196</td>\n",
       "      <td>284807</td>\n",
       "      <td>0.099172</td>\n",
       "      <td>0.998301</td>\n",
       "      <td>0.998273</td>\n",
       "    </tr>\n",
       "    <tr>\n",
       "      <th>1</th>\n",
       "      <td>VALIDATE</td>\n",
       "      <td>1</td>\n",
       "      <td>48</td>\n",
       "      <td>284807</td>\n",
       "      <td>0.097561</td>\n",
       "      <td>0.001699</td>\n",
       "      <td>0.001727</td>\n",
       "    </tr>\n",
       "    <tr>\n",
       "      <th>2</th>\n",
       "      <td>TEST</td>\n",
       "      <td>0</td>\n",
       "      <td>28455</td>\n",
       "      <td>284807</td>\n",
       "      <td>0.100083</td>\n",
       "      <td>0.998351</td>\n",
       "      <td>0.998273</td>\n",
       "    </tr>\n",
       "    <tr>\n",
       "      <th>3</th>\n",
       "      <td>TEST</td>\n",
       "      <td>1</td>\n",
       "      <td>47</td>\n",
       "      <td>284807</td>\n",
       "      <td>0.095528</td>\n",
       "      <td>0.001649</td>\n",
       "      <td>0.001727</td>\n",
       "    </tr>\n",
       "    <tr>\n",
       "      <th>4</th>\n",
       "      <td>TRAIN</td>\n",
       "      <td>0</td>\n",
       "      <td>227664</td>\n",
       "      <td>284807</td>\n",
       "      <td>0.800746</td>\n",
       "      <td>0.998259</td>\n",
       "      <td>0.998273</td>\n",
       "    </tr>\n",
       "    <tr>\n",
       "      <th>5</th>\n",
       "      <td>TRAIN</td>\n",
       "      <td>1</td>\n",
       "      <td>397</td>\n",
       "      <td>284807</td>\n",
       "      <td>0.806911</td>\n",
       "      <td>0.001741</td>\n",
       "      <td>0.001727</td>\n",
       "    </tr>\n",
       "  </tbody>\n",
       "</table>\n",
       "</div>"
      ],
      "text/plain": [
       "     splits  Class       n   total  n_pct_class  n_pct_split  class_pct_total\n",
       "0  VALIDATE      0   28196  284807     0.099172     0.998301         0.998273\n",
       "1  VALIDATE      1      48  284807     0.097561     0.001699         0.001727\n",
       "2      TEST      0   28455  284807     0.100083     0.998351         0.998273\n",
       "3      TEST      1      47  284807     0.095528     0.001649         0.001727\n",
       "4     TRAIN      0  227664  284807     0.800746     0.998259         0.998273\n",
       "5     TRAIN      1     397  284807     0.806911     0.001741         0.001727"
      ]
     },
     "execution_count": 8,
     "metadata": {},
     "output_type": "execute_result"
    }
   ],
   "source": [
    "query = f\"\"\"\n",
    "WITH\n",
    "    COUNTS as (SELECT splits, {VAR_TARGET}, count(*) as n FROM `{BQ_PROJECT}.{BQ_DATASET}.{BQ_TABLE}` GROUP BY splits, {VAR_TARGET})\n",
    "    \n",
    "SELECT *,\n",
    "    SUM(n) OVER() as total,\n",
    "    SAFE_DIVIDE(n, SUM(n) OVER(PARTITION BY {VAR_TARGET})) as n_pct_class,\n",
    "    SAFE_DIVIDE(n, SUM(n) OVER(PARTITION BY splits)) as n_pct_split,\n",
    "    SAFE_DIVIDE(SUM(n) OVER(PARTITION BY {VAR_TARGET}), SUM(n) OVER()) as class_pct_total\n",
    "FROM COUNTS\n",
    "\"\"\"\n",
    "review = bq.query(query = query).to_dataframe()\n",
    "review"
   ]
  },
  {
   "cell_type": "markdown",
   "id": "3a4be107-afac-4e38-859a-025f3298a0f6",
   "metadata": {},
   "source": [
    "Retrive the rate of fraud, `Class = 1`, for the training data split.  This will be used later as the expected contamination rate for the records in the test split when doing anomaly detection."
   ]
  },
  {
   "cell_type": "code",
   "execution_count": 9,
   "id": "576e1728-23e7-48ca-982c-8c40a43652cc",
   "metadata": {},
   "outputs": [
    {
     "data": {
      "text/plain": [
       "0.0017407623399002899"
      ]
     },
     "execution_count": 9,
     "metadata": {},
     "output_type": "execute_result"
    }
   ],
   "source": [
    "TRAIN_FRAUD_PCT = review.loc[(review[f'{VAR_TARGET}'] == 1) & (review['splits'] == 'TRAIN'), 'n_pct_split'].values[0]\n",
    "TRAIN_FRAUD_PCT"
   ]
  },
  {
   "cell_type": "markdown",
   "id": "565c54bd-dfb3-40f7-ac64-22b252c098a4",
   "metadata": {},
   "source": [
    "---\n",
    "## This Run"
   ]
  },
  {
   "cell_type": "code",
   "execution_count": 10,
   "id": "6258d0fd-c65b-4b59-a63d-77d3c92da907",
   "metadata": {},
   "outputs": [
    {
     "name": "stdout",
     "output_type": "stream",
     "text": [
      "This run will create BQML model: statmike-mlops-349915.fraud.bqml_kmeans_20230627152843\n",
      "This run will create Vertex AI model: statmike-mlops-349915.fraud.bqml_bqml_kmeans\n",
      "The runs timestamp Is: 20230627152843\n"
     ]
    }
   ],
   "source": [
    "print(f'This run will create BQML model: {BQ_PROJECT}.{BQ_DATASET}.{BQ_MODEL}')\n",
    "print(f'This run will create Vertex AI model: {BQ_PROJECT}.{BQ_DATASET}.bqml_{SERIES}_{EXPERIMENT}')\n",
    "print(f'The runs timestamp Is: {TIMESTAMP}')"
   ]
  },
  {
   "cell_type": "markdown",
   "id": "674fe9f0-dbba-4878-b87c-1b9eff6e5544",
   "metadata": {},
   "source": [
    "---\n",
    "## Train Model\n",
    "\n",
    "Use BigQuery ML to train unsupervised K-mean classification model:\n",
    "- [K-Means](https://cloud.google.com/bigquery-ml/docs/reference/standard-sql/bigqueryml-syntax-create-kmeans) with BigQuery ML (BQML)\n",
    "- This uses the `splits` column that notebook `01` created to subset the input data to the training data\n",
    "    - not directly used by the `KMEANS` training but used to subset to the `splits = 'TRAIN'` data for training\n",
    "    \n",
    "This example includes the [training options](https://cloud.google.com/bigquery-ml/docs/create_vertex) to register the resulting model in the [Vertex AI Model Registry](https://cloud.google.com/vertex-ai/docs/model-registry/introduction)."
   ]
  },
  {
   "cell_type": "code",
   "execution_count": 11,
   "id": "5d964acc-457e-42c4-97fb-f6f166ba3628",
   "metadata": {},
   "outputs": [
    {
     "name": "stdout",
     "output_type": "stream",
     "text": [
      "\n",
      "CREATE OR REPLACE MODEL `statmike-mlops-349915.fraud.bqml_kmeans_20230627152843`\n",
      "OPTIONS (\n",
      "        model_type = 'KMEANS',\n",
      "        num_clusters = HPARAM_RANGE(2, 100),\n",
      "        kmeans_init_method = 'KMEANS++',\n",
      "        distance_type = 'EUCLIDEAN', \n",
      "        standardize_features = TRUE,\n",
      "        early_stop = FALSE,\n",
      "        hparam_tuning_algorithm = 'VIZIER_DEFAULT',\n",
      "        hparam_tuning_objectives = ['davies_bouldin_index'],\n",
      "        num_trials = 20,\n",
      "        max_parallel_trials = 2,\n",
      "        MODEL_REGISTRY = 'VERTEX_AI',\n",
      "        VERTEX_AI_MODEL_ID = 'bqml_bqml_kmeans',\n",
      "        VERTEX_AI_MODEL_VERSION_ALIASES = ['run-20230627152843']\n",
      "    ) AS\n",
      "SELECT * EXCEPT(transaction_id, splits, Class)\n",
      "FROM `statmike-mlops-349915.fraud.fraud_prepped`\n",
      "WHERE splits = 'TRAIN'\n",
      "\n"
     ]
    }
   ],
   "source": [
    "query = f\"\"\"\n",
    "CREATE OR REPLACE MODEL `{BQ_PROJECT}.{BQ_DATASET}.{BQ_MODEL}`\n",
    "OPTIONS (\n",
    "        model_type = 'KMEANS',\n",
    "        num_clusters = HPARAM_RANGE(2, 100),\n",
    "        kmeans_init_method = 'KMEANS++',\n",
    "        distance_type = 'EUCLIDEAN', \n",
    "        standardize_features = TRUE,\n",
    "        early_stop = FALSE,\n",
    "        hparam_tuning_algorithm = 'VIZIER_DEFAULT',\n",
    "        hparam_tuning_objectives = ['davies_bouldin_index'],\n",
    "        num_trials = 20,\n",
    "        max_parallel_trials = 2,\n",
    "        MODEL_REGISTRY = 'VERTEX_AI',\n",
    "        VERTEX_AI_MODEL_ID = 'bqml_{SERIES}_{EXPERIMENT}',\n",
    "        VERTEX_AI_MODEL_VERSION_ALIASES = ['{RUN_NAME}']\n",
    "    ) AS\n",
    "SELECT * EXCEPT({','.join(VAR_OMIT.split())}, splits, {VAR_TARGET})\n",
    "FROM `{BQ_PROJECT}.{BQ_DATASET}.{BQ_TABLE}`\n",
    "WHERE splits = 'TRAIN'\n",
    "\"\"\"\n",
    "print(query)"
   ]
  },
  {
   "cell_type": "code",
   "execution_count": 12,
   "id": "8ec479f9-7ac0-457a-b262-cb66eff6a646",
   "metadata": {},
   "outputs": [
    {
     "data": {
      "text/plain": [
       "<google.cloud.bigquery.table._EmptyRowIterator at 0x7f08d856b550>"
      ]
     },
     "execution_count": 12,
     "metadata": {},
     "output_type": "execute_result"
    }
   ],
   "source": [
    "job = bq.query(query = query)\n",
    "job.result()"
   ]
  },
  {
   "cell_type": "code",
   "execution_count": 13,
   "id": "966372d5-0a02-4bae-956b-c972d76bfe43",
   "metadata": {},
   "outputs": [
    {
     "data": {
      "text/plain": [
       "2792.055"
      ]
     },
     "execution_count": 13,
     "metadata": {},
     "output_type": "execute_result"
    }
   ],
   "source": [
    "(job.ended-job.started).total_seconds()"
   ]
  },
  {
   "cell_type": "code",
   "execution_count": 14,
   "id": "6a0b117b-0e1c-452e-9ed2-4d9dce70d3d7",
   "metadata": {},
   "outputs": [
    {
     "data": {
      "text/plain": [
       "1408071180"
      ]
     },
     "execution_count": 14,
     "metadata": {},
     "output_type": "execute_result"
    }
   ],
   "source": [
    "job.total_bytes_processed"
   ]
  },
  {
   "cell_type": "markdown",
   "id": "24eb8b4f-5419-488f-bfab-01f4291d25fb",
   "metadata": {},
   "source": [
    "Add labels to the model in BigQuery:"
   ]
  },
  {
   "cell_type": "code",
   "execution_count": 15,
   "id": "85371408-1490-49e8-bce1-5416994b7ce3",
   "metadata": {},
   "outputs": [],
   "source": [
    "model = bq.get_model(f'{BQ_PROJECT}.{BQ_DATASET}.{BQ_MODEL}')\n",
    "model.labels = {'series' : f'{SERIES}', 'experiment' : f'{EXPERIMENT}'}\n",
    "model = bq.update_model(model, ['labels'])"
   ]
  },
  {
   "cell_type": "markdown",
   "id": "6945c493-eda9-4732-8780-da80827e4497",
   "metadata": {},
   "source": [
    "### Check out this model in BigQuery Console:\n",
    "- Make sure project selected is the one from this notebook\n",
    "- Under Explore, expand this project and dataset\n",
    "- Expand Models and select the model create here"
   ]
  },
  {
   "cell_type": "code",
   "execution_count": 16,
   "id": "2e612ea8-ff94-4100-8293-5e2d691cfc69",
   "metadata": {},
   "outputs": [
    {
     "name": "stdout",
     "output_type": "stream",
     "text": [
      "BigQuery Console for Project:\n",
      "https://console.cloud.google.com/bigquery?project=statmike-mlops-349915\n"
     ]
    }
   ],
   "source": [
    "print(f'BigQuery Console for Project:\\nhttps://console.cloud.google.com/bigquery?project={PROJECT_ID}')"
   ]
  },
  {
   "cell_type": "code",
   "execution_count": 17,
   "id": "a70136c5-da05-4083-b45e-1c19d4a32c3c",
   "metadata": {},
   "outputs": [
    {
     "name": "stdout",
     "output_type": "stream",
     "text": [
      "Direct link to the model in BigQuery:\n",
      "https://console.cloud.google.com/bigquery?project=statmike-mlops-349915&ws=!1m5!1m4!5m3!1sstatmike-mlops-349915!2sfraud!3sbqml_kmeans_20230627152843\n"
     ]
    }
   ],
   "source": [
    "print(f'Direct link to the model in BigQuery:\\nhttps://console.cloud.google.com/bigquery?project={PROJECT_ID}&ws=!1m5!1m4!5m3!1s{PROJECT_ID}!2s{BQ_DATASET}!3s{BQ_MODEL}')"
   ]
  },
  {
   "cell_type": "markdown",
   "id": "1004e208-d74e-4ba7-a008-65e3a1771a44",
   "metadata": {},
   "source": [
    "### Check out this model in the Vertex AI Model Registry"
   ]
  },
  {
   "cell_type": "code",
   "execution_count": 18,
   "id": "c3a7c3c4-b473-4dcb-8e00-b399982a0673",
   "metadata": {},
   "outputs": [
    {
     "name": "stdout",
     "output_type": "stream",
     "text": [
      "Review the model in the Vertex AI Model Registry:\n",
      "https://console.cloud.google.com/vertex-ai/locations/us-central1/models/bqml_bqml_kmeans_20230627152843?project=statmike-mlops-349915\n"
     ]
    }
   ],
   "source": [
    "print(f'Review the model in the Vertex AI Model Registry:\\nhttps://console.cloud.google.com/vertex-ai/locations/{REGION}/models/bqml_{BQ_MODEL}?project={PROJECT_ID}')"
   ]
  },
  {
   "cell_type": "markdown",
   "id": "ca18fa07-92b6-480f-8ca9-1c5573885a9a",
   "metadata": {},
   "source": [
    "### Feature and Training Review"
   ]
  },
  {
   "cell_type": "markdown",
   "id": "08f5b8e3-d9fe-48ac-abbc-2a18226f4147",
   "metadata": {},
   "source": [
    "Review the Model Inputs, the feature information, with [ML.FEATURE_INFO](https://cloud.google.com/bigquery-ml/docs/reference/standard-sql/bigqueryml-syntax-feature):"
   ]
  },
  {
   "cell_type": "code",
   "execution_count": 19,
   "id": "49c8b25b-0387-46fe-9166-d4b1b3f8f97b",
   "metadata": {},
   "outputs": [
    {
     "data": {
      "text/html": [
       "<div>\n",
       "<style scoped>\n",
       "    .dataframe tbody tr th:only-of-type {\n",
       "        vertical-align: middle;\n",
       "    }\n",
       "\n",
       "    .dataframe tbody tr th {\n",
       "        vertical-align: top;\n",
       "    }\n",
       "\n",
       "    .dataframe thead th {\n",
       "        text-align: right;\n",
       "    }\n",
       "</style>\n",
       "<table border=\"1\" class=\"dataframe\">\n",
       "  <thead>\n",
       "    <tr style=\"text-align: right;\">\n",
       "      <th></th>\n",
       "      <th>input</th>\n",
       "      <th>min</th>\n",
       "      <th>max</th>\n",
       "      <th>mean</th>\n",
       "      <th>median</th>\n",
       "      <th>stddev</th>\n",
       "      <th>category_count</th>\n",
       "      <th>null_count</th>\n",
       "      <th>dimension</th>\n",
       "    </tr>\n",
       "  </thead>\n",
       "  <tbody>\n",
       "    <tr>\n",
       "      <th>0</th>\n",
       "      <td>Time</td>\n",
       "      <td>0.000000</td>\n",
       "      <td>172792.000000</td>\n",
       "      <td>94811.116749</td>\n",
       "      <td>85670.000000</td>\n",
       "      <td>47493.531641</td>\n",
       "      <td>&lt;NA&gt;</td>\n",
       "      <td>0</td>\n",
       "      <td>&lt;NA&gt;</td>\n",
       "    </tr>\n",
       "    <tr>\n",
       "      <th>1</th>\n",
       "      <td>V1</td>\n",
       "      <td>-56.407510</td>\n",
       "      <td>2.454930</td>\n",
       "      <td>-0.000215</td>\n",
       "      <td>0.033700</td>\n",
       "      <td>1.958173</td>\n",
       "      <td>&lt;NA&gt;</td>\n",
       "      <td>0</td>\n",
       "      <td>&lt;NA&gt;</td>\n",
       "    </tr>\n",
       "    <tr>\n",
       "      <th>2</th>\n",
       "      <td>V2</td>\n",
       "      <td>-72.715728</td>\n",
       "      <td>22.057729</td>\n",
       "      <td>0.000316</td>\n",
       "      <td>0.061916</td>\n",
       "      <td>1.649662</td>\n",
       "      <td>&lt;NA&gt;</td>\n",
       "      <td>0</td>\n",
       "      <td>&lt;NA&gt;</td>\n",
       "    </tr>\n",
       "    <tr>\n",
       "      <th>3</th>\n",
       "      <td>V3</td>\n",
       "      <td>-48.325589</td>\n",
       "      <td>9.382558</td>\n",
       "      <td>-0.000525</td>\n",
       "      <td>0.180809</td>\n",
       "      <td>1.520173</td>\n",
       "      <td>&lt;NA&gt;</td>\n",
       "      <td>0</td>\n",
       "      <td>&lt;NA&gt;</td>\n",
       "    </tr>\n",
       "    <tr>\n",
       "      <th>4</th>\n",
       "      <td>V4</td>\n",
       "      <td>-5.600607</td>\n",
       "      <td>16.875344</td>\n",
       "      <td>0.000695</td>\n",
       "      <td>-0.032053</td>\n",
       "      <td>1.415309</td>\n",
       "      <td>&lt;NA&gt;</td>\n",
       "      <td>0</td>\n",
       "      <td>&lt;NA&gt;</td>\n",
       "    </tr>\n",
       "    <tr>\n",
       "      <th>5</th>\n",
       "      <td>V5</td>\n",
       "      <td>-113.743307</td>\n",
       "      <td>34.801666</td>\n",
       "      <td>-0.001264</td>\n",
       "      <td>-0.059681</td>\n",
       "      <td>1.381807</td>\n",
       "      <td>&lt;NA&gt;</td>\n",
       "      <td>0</td>\n",
       "      <td>&lt;NA&gt;</td>\n",
       "    </tr>\n",
       "    <tr>\n",
       "      <th>6</th>\n",
       "      <td>V6</td>\n",
       "      <td>-26.160506</td>\n",
       "      <td>73.301626</td>\n",
       "      <td>0.002089</td>\n",
       "      <td>-0.272562</td>\n",
       "      <td>1.334135</td>\n",
       "      <td>&lt;NA&gt;</td>\n",
       "      <td>0</td>\n",
       "      <td>&lt;NA&gt;</td>\n",
       "    </tr>\n",
       "    <tr>\n",
       "      <th>7</th>\n",
       "      <td>V7</td>\n",
       "      <td>-43.557242</td>\n",
       "      <td>120.589494</td>\n",
       "      <td>-0.000721</td>\n",
       "      <td>0.034423</td>\n",
       "      <td>1.245465</td>\n",
       "      <td>&lt;NA&gt;</td>\n",
       "      <td>0</td>\n",
       "      <td>&lt;NA&gt;</td>\n",
       "    </tr>\n",
       "    <tr>\n",
       "      <th>8</th>\n",
       "      <td>V8</td>\n",
       "      <td>-73.216718</td>\n",
       "      <td>19.168327</td>\n",
       "      <td>-0.001064</td>\n",
       "      <td>0.024914</td>\n",
       "      <td>1.205023</td>\n",
       "      <td>&lt;NA&gt;</td>\n",
       "      <td>0</td>\n",
       "      <td>&lt;NA&gt;</td>\n",
       "    </tr>\n",
       "    <tr>\n",
       "      <th>9</th>\n",
       "      <td>V9</td>\n",
       "      <td>-13.434066</td>\n",
       "      <td>15.594995</td>\n",
       "      <td>0.001406</td>\n",
       "      <td>-0.049869</td>\n",
       "      <td>1.100121</td>\n",
       "      <td>&lt;NA&gt;</td>\n",
       "      <td>0</td>\n",
       "      <td>&lt;NA&gt;</td>\n",
       "    </tr>\n",
       "    <tr>\n",
       "      <th>10</th>\n",
       "      <td>V10</td>\n",
       "      <td>-24.588262</td>\n",
       "      <td>23.745136</td>\n",
       "      <td>-0.000072</td>\n",
       "      <td>-0.097810</td>\n",
       "      <td>1.093471</td>\n",
       "      <td>&lt;NA&gt;</td>\n",
       "      <td>0</td>\n",
       "      <td>&lt;NA&gt;</td>\n",
       "    </tr>\n",
       "    <tr>\n",
       "      <th>11</th>\n",
       "      <td>V11</td>\n",
       "      <td>-4.797473</td>\n",
       "      <td>12.018913</td>\n",
       "      <td>-0.000641</td>\n",
       "      <td>-0.040975</td>\n",
       "      <td>1.021083</td>\n",
       "      <td>&lt;NA&gt;</td>\n",
       "      <td>0</td>\n",
       "      <td>&lt;NA&gt;</td>\n",
       "    </tr>\n",
       "    <tr>\n",
       "      <th>12</th>\n",
       "      <td>V12</td>\n",
       "      <td>-18.683715</td>\n",
       "      <td>7.848392</td>\n",
       "      <td>-0.001596</td>\n",
       "      <td>0.136547</td>\n",
       "      <td>1.002343</td>\n",
       "      <td>&lt;NA&gt;</td>\n",
       "      <td>0</td>\n",
       "      <td>&lt;NA&gt;</td>\n",
       "    </tr>\n",
       "    <tr>\n",
       "      <th>13</th>\n",
       "      <td>V13</td>\n",
       "      <td>-5.791881</td>\n",
       "      <td>7.126883</td>\n",
       "      <td>0.001823</td>\n",
       "      <td>-0.019394</td>\n",
       "      <td>0.996051</td>\n",
       "      <td>&lt;NA&gt;</td>\n",
       "      <td>0</td>\n",
       "      <td>&lt;NA&gt;</td>\n",
       "    </tr>\n",
       "    <tr>\n",
       "      <th>14</th>\n",
       "      <td>V14</td>\n",
       "      <td>-19.214325</td>\n",
       "      <td>10.526766</td>\n",
       "      <td>-0.000667</td>\n",
       "      <td>0.040196</td>\n",
       "      <td>0.961650</td>\n",
       "      <td>&lt;NA&gt;</td>\n",
       "      <td>0</td>\n",
       "      <td>&lt;NA&gt;</td>\n",
       "    </tr>\n",
       "    <tr>\n",
       "      <th>15</th>\n",
       "      <td>V15</td>\n",
       "      <td>-4.498945</td>\n",
       "      <td>8.877742</td>\n",
       "      <td>0.000422</td>\n",
       "      <td>0.036016</td>\n",
       "      <td>0.916010</td>\n",
       "      <td>&lt;NA&gt;</td>\n",
       "      <td>0</td>\n",
       "      <td>&lt;NA&gt;</td>\n",
       "    </tr>\n",
       "    <tr>\n",
       "      <th>16</th>\n",
       "      <td>V16</td>\n",
       "      <td>-13.563273</td>\n",
       "      <td>17.315112</td>\n",
       "      <td>-0.000231</td>\n",
       "      <td>0.067145</td>\n",
       "      <td>0.876491</td>\n",
       "      <td>&lt;NA&gt;</td>\n",
       "      <td>0</td>\n",
       "      <td>&lt;NA&gt;</td>\n",
       "    </tr>\n",
       "    <tr>\n",
       "      <th>17</th>\n",
       "      <td>V17</td>\n",
       "      <td>-25.162799</td>\n",
       "      <td>9.253526</td>\n",
       "      <td>0.000599</td>\n",
       "      <td>-0.073672</td>\n",
       "      <td>0.851699</td>\n",
       "      <td>&lt;NA&gt;</td>\n",
       "      <td>0</td>\n",
       "      <td>&lt;NA&gt;</td>\n",
       "    </tr>\n",
       "    <tr>\n",
       "      <th>18</th>\n",
       "      <td>V18</td>\n",
       "      <td>-9.498746</td>\n",
       "      <td>5.041069</td>\n",
       "      <td>-0.000701</td>\n",
       "      <td>-0.009902</td>\n",
       "      <td>0.839235</td>\n",
       "      <td>&lt;NA&gt;</td>\n",
       "      <td>0</td>\n",
       "      <td>&lt;NA&gt;</td>\n",
       "    </tr>\n",
       "    <tr>\n",
       "      <th>19</th>\n",
       "      <td>V19</td>\n",
       "      <td>-7.213527</td>\n",
       "      <td>5.591971</td>\n",
       "      <td>-0.001121</td>\n",
       "      <td>0.004407</td>\n",
       "      <td>0.814700</td>\n",
       "      <td>&lt;NA&gt;</td>\n",
       "      <td>0</td>\n",
       "      <td>&lt;NA&gt;</td>\n",
       "    </tr>\n",
       "    <tr>\n",
       "      <th>20</th>\n",
       "      <td>V20</td>\n",
       "      <td>-54.497720</td>\n",
       "      <td>39.420904</td>\n",
       "      <td>0.000744</td>\n",
       "      <td>-0.061514</td>\n",
       "      <td>0.773090</td>\n",
       "      <td>&lt;NA&gt;</td>\n",
       "      <td>0</td>\n",
       "      <td>&lt;NA&gt;</td>\n",
       "    </tr>\n",
       "    <tr>\n",
       "      <th>21</th>\n",
       "      <td>V21</td>\n",
       "      <td>-34.830382</td>\n",
       "      <td>27.202839</td>\n",
       "      <td>-0.000542</td>\n",
       "      <td>-0.026538</td>\n",
       "      <td>0.739335</td>\n",
       "      <td>&lt;NA&gt;</td>\n",
       "      <td>0</td>\n",
       "      <td>&lt;NA&gt;</td>\n",
       "    </tr>\n",
       "    <tr>\n",
       "      <th>22</th>\n",
       "      <td>V22</td>\n",
       "      <td>-10.933144</td>\n",
       "      <td>10.503090</td>\n",
       "      <td>0.000768</td>\n",
       "      <td>-0.000235</td>\n",
       "      <td>0.725885</td>\n",
       "      <td>&lt;NA&gt;</td>\n",
       "      <td>0</td>\n",
       "      <td>&lt;NA&gt;</td>\n",
       "    </tr>\n",
       "    <tr>\n",
       "      <th>23</th>\n",
       "      <td>V23</td>\n",
       "      <td>-36.666000</td>\n",
       "      <td>22.083545</td>\n",
       "      <td>0.000326</td>\n",
       "      <td>-0.009867</td>\n",
       "      <td>0.614379</td>\n",
       "      <td>&lt;NA&gt;</td>\n",
       "      <td>0</td>\n",
       "      <td>&lt;NA&gt;</td>\n",
       "    </tr>\n",
       "    <tr>\n",
       "      <th>24</th>\n",
       "      <td>V24</td>\n",
       "      <td>-2.836627</td>\n",
       "      <td>4.584549</td>\n",
       "      <td>0.000351</td>\n",
       "      <td>0.039458</td>\n",
       "      <td>0.606016</td>\n",
       "      <td>&lt;NA&gt;</td>\n",
       "      <td>0</td>\n",
       "      <td>&lt;NA&gt;</td>\n",
       "    </tr>\n",
       "    <tr>\n",
       "      <th>25</th>\n",
       "      <td>V25</td>\n",
       "      <td>-8.696627</td>\n",
       "      <td>6.070850</td>\n",
       "      <td>-0.000594</td>\n",
       "      <td>0.015625</td>\n",
       "      <td>0.521749</td>\n",
       "      <td>&lt;NA&gt;</td>\n",
       "      <td>0</td>\n",
       "      <td>&lt;NA&gt;</td>\n",
       "    </tr>\n",
       "    <tr>\n",
       "      <th>26</th>\n",
       "      <td>V26</td>\n",
       "      <td>-2.604551</td>\n",
       "      <td>3.517346</td>\n",
       "      <td>0.000466</td>\n",
       "      <td>-0.054637</td>\n",
       "      <td>0.481984</td>\n",
       "      <td>&lt;NA&gt;</td>\n",
       "      <td>0</td>\n",
       "      <td>&lt;NA&gt;</td>\n",
       "    </tr>\n",
       "    <tr>\n",
       "      <th>27</th>\n",
       "      <td>V27</td>\n",
       "      <td>-22.565679</td>\n",
       "      <td>31.612198</td>\n",
       "      <td>-0.000629</td>\n",
       "      <td>0.000368</td>\n",
       "      <td>0.405146</td>\n",
       "      <td>&lt;NA&gt;</td>\n",
       "      <td>0</td>\n",
       "      <td>&lt;NA&gt;</td>\n",
       "    </tr>\n",
       "    <tr>\n",
       "      <th>28</th>\n",
       "      <td>V28</td>\n",
       "      <td>-15.430084</td>\n",
       "      <td>33.847808</td>\n",
       "      <td>-0.000083</td>\n",
       "      <td>0.010589</td>\n",
       "      <td>0.329876</td>\n",
       "      <td>&lt;NA&gt;</td>\n",
       "      <td>0</td>\n",
       "      <td>&lt;NA&gt;</td>\n",
       "    </tr>\n",
       "    <tr>\n",
       "      <th>29</th>\n",
       "      <td>Amount</td>\n",
       "      <td>0.000000</td>\n",
       "      <td>25691.160000</td>\n",
       "      <td>88.535335</td>\n",
       "      <td>23.000000</td>\n",
       "      <td>251.361162</td>\n",
       "      <td>&lt;NA&gt;</td>\n",
       "      <td>0</td>\n",
       "      <td>&lt;NA&gt;</td>\n",
       "    </tr>\n",
       "  </tbody>\n",
       "</table>\n",
       "</div>"
      ],
      "text/plain": [
       "     input         min            max          mean        median  \\\n",
       "0     Time    0.000000  172792.000000  94811.116749  85670.000000   \n",
       "1       V1  -56.407510       2.454930     -0.000215      0.033700   \n",
       "2       V2  -72.715728      22.057729      0.000316      0.061916   \n",
       "3       V3  -48.325589       9.382558     -0.000525      0.180809   \n",
       "4       V4   -5.600607      16.875344      0.000695     -0.032053   \n",
       "5       V5 -113.743307      34.801666     -0.001264     -0.059681   \n",
       "6       V6  -26.160506      73.301626      0.002089     -0.272562   \n",
       "7       V7  -43.557242     120.589494     -0.000721      0.034423   \n",
       "8       V8  -73.216718      19.168327     -0.001064      0.024914   \n",
       "9       V9  -13.434066      15.594995      0.001406     -0.049869   \n",
       "10     V10  -24.588262      23.745136     -0.000072     -0.097810   \n",
       "11     V11   -4.797473      12.018913     -0.000641     -0.040975   \n",
       "12     V12  -18.683715       7.848392     -0.001596      0.136547   \n",
       "13     V13   -5.791881       7.126883      0.001823     -0.019394   \n",
       "14     V14  -19.214325      10.526766     -0.000667      0.040196   \n",
       "15     V15   -4.498945       8.877742      0.000422      0.036016   \n",
       "16     V16  -13.563273      17.315112     -0.000231      0.067145   \n",
       "17     V17  -25.162799       9.253526      0.000599     -0.073672   \n",
       "18     V18   -9.498746       5.041069     -0.000701     -0.009902   \n",
       "19     V19   -7.213527       5.591971     -0.001121      0.004407   \n",
       "20     V20  -54.497720      39.420904      0.000744     -0.061514   \n",
       "21     V21  -34.830382      27.202839     -0.000542     -0.026538   \n",
       "22     V22  -10.933144      10.503090      0.000768     -0.000235   \n",
       "23     V23  -36.666000      22.083545      0.000326     -0.009867   \n",
       "24     V24   -2.836627       4.584549      0.000351      0.039458   \n",
       "25     V25   -8.696627       6.070850     -0.000594      0.015625   \n",
       "26     V26   -2.604551       3.517346      0.000466     -0.054637   \n",
       "27     V27  -22.565679      31.612198     -0.000629      0.000368   \n",
       "28     V28  -15.430084      33.847808     -0.000083      0.010589   \n",
       "29  Amount    0.000000   25691.160000     88.535335     23.000000   \n",
       "\n",
       "          stddev  category_count  null_count  dimension  \n",
       "0   47493.531641            <NA>           0       <NA>  \n",
       "1       1.958173            <NA>           0       <NA>  \n",
       "2       1.649662            <NA>           0       <NA>  \n",
       "3       1.520173            <NA>           0       <NA>  \n",
       "4       1.415309            <NA>           0       <NA>  \n",
       "5       1.381807            <NA>           0       <NA>  \n",
       "6       1.334135            <NA>           0       <NA>  \n",
       "7       1.245465            <NA>           0       <NA>  \n",
       "8       1.205023            <NA>           0       <NA>  \n",
       "9       1.100121            <NA>           0       <NA>  \n",
       "10      1.093471            <NA>           0       <NA>  \n",
       "11      1.021083            <NA>           0       <NA>  \n",
       "12      1.002343            <NA>           0       <NA>  \n",
       "13      0.996051            <NA>           0       <NA>  \n",
       "14      0.961650            <NA>           0       <NA>  \n",
       "15      0.916010            <NA>           0       <NA>  \n",
       "16      0.876491            <NA>           0       <NA>  \n",
       "17      0.851699            <NA>           0       <NA>  \n",
       "18      0.839235            <NA>           0       <NA>  \n",
       "19      0.814700            <NA>           0       <NA>  \n",
       "20      0.773090            <NA>           0       <NA>  \n",
       "21      0.739335            <NA>           0       <NA>  \n",
       "22      0.725885            <NA>           0       <NA>  \n",
       "23      0.614379            <NA>           0       <NA>  \n",
       "24      0.606016            <NA>           0       <NA>  \n",
       "25      0.521749            <NA>           0       <NA>  \n",
       "26      0.481984            <NA>           0       <NA>  \n",
       "27      0.405146            <NA>           0       <NA>  \n",
       "28      0.329876            <NA>           0       <NA>  \n",
       "29    251.361162            <NA>           0       <NA>  "
      ]
     },
     "execution_count": 19,
     "metadata": {},
     "output_type": "execute_result"
    }
   ],
   "source": [
    "feature_info = bq.query(\n",
    "    query = f\"\"\"\n",
    "        SELECT *\n",
    "        FROM ML.FEATURE_INFO(MODEL `{BQ_PROJECT}.{BQ_DATASET}.{BQ_MODEL}`)\n",
    "        \"\"\"\n",
    ").to_dataframe()\n",
    "feature_info"
   ]
  },
  {
   "cell_type": "markdown",
   "id": "2681dc08-5c07-4359-a02e-255092f190cd",
   "metadata": {},
   "source": [
    "Retrieve the trial info for the hyperparameter tuning trials with [ML.TRIAL_INFO](https://cloud.google.com/bigquery-ml/docs/reference/standard-sql/bigqueryml-syntax-trial-info):"
   ]
  },
  {
   "cell_type": "code",
   "execution_count": 21,
   "id": "d7c4f707-d806-4ea0-a4cc-6b06b6f3cf64",
   "metadata": {},
   "outputs": [
    {
     "data": {
      "text/html": [
       "<div>\n",
       "<style scoped>\n",
       "    .dataframe tbody tr th:only-of-type {\n",
       "        vertical-align: middle;\n",
       "    }\n",
       "\n",
       "    .dataframe tbody tr th {\n",
       "        vertical-align: top;\n",
       "    }\n",
       "\n",
       "    .dataframe thead th {\n",
       "        text-align: right;\n",
       "    }\n",
       "</style>\n",
       "<table border=\"1\" class=\"dataframe\">\n",
       "  <thead>\n",
       "    <tr style=\"text-align: right;\">\n",
       "      <th></th>\n",
       "      <th>trial_id</th>\n",
       "      <th>hyperparameters</th>\n",
       "      <th>hparam_tuning_evaluation_metrics</th>\n",
       "      <th>training_loss</th>\n",
       "      <th>eval_loss</th>\n",
       "      <th>status</th>\n",
       "      <th>error_message</th>\n",
       "      <th>is_optimal</th>\n",
       "    </tr>\n",
       "  </thead>\n",
       "  <tbody>\n",
       "    <tr>\n",
       "      <th>0</th>\n",
       "      <td>1</td>\n",
       "      <td>{'num_clusters': 51}</td>\n",
       "      <td>{'davies_bouldin_index': 1.9721191782468102}</td>\n",
       "      <td>14.923794</td>\n",
       "      <td>NaN</td>\n",
       "      <td>SUCCEEDED</td>\n",
       "      <td>None</td>\n",
       "      <td>False</td>\n",
       "    </tr>\n",
       "    <tr>\n",
       "      <th>1</th>\n",
       "      <td>2</td>\n",
       "      <td>{'num_clusters': 29}</td>\n",
       "      <td>{'davies_bouldin_index': 1.914672864399071}</td>\n",
       "      <td>17.552875</td>\n",
       "      <td>NaN</td>\n",
       "      <td>SUCCEEDED</td>\n",
       "      <td>None</td>\n",
       "      <td>False</td>\n",
       "    </tr>\n",
       "    <tr>\n",
       "      <th>2</th>\n",
       "      <td>3</td>\n",
       "      <td>{'num_clusters': 5}</td>\n",
       "      <td>{'davies_bouldin_index': 2.4794853243428046}</td>\n",
       "      <td>27.003417</td>\n",
       "      <td>NaN</td>\n",
       "      <td>SUCCEEDED</td>\n",
       "      <td>None</td>\n",
       "      <td>False</td>\n",
       "    </tr>\n",
       "    <tr>\n",
       "      <th>3</th>\n",
       "      <td>4</td>\n",
       "      <td>{'num_clusters': 17}</td>\n",
       "      <td>{'davies_bouldin_index': 2.462200064953552}</td>\n",
       "      <td>21.142722</td>\n",
       "      <td>NaN</td>\n",
       "      <td>SUCCEEDED</td>\n",
       "      <td>None</td>\n",
       "      <td>False</td>\n",
       "    </tr>\n",
       "    <tr>\n",
       "      <th>4</th>\n",
       "      <td>5</td>\n",
       "      <td>{'num_clusters': 39}</td>\n",
       "      <td>{'davies_bouldin_index': 1.8330527062043047}</td>\n",
       "      <td>16.462983</td>\n",
       "      <td>NaN</td>\n",
       "      <td>SUCCEEDED</td>\n",
       "      <td>None</td>\n",
       "      <td>False</td>\n",
       "    </tr>\n",
       "    <tr>\n",
       "      <th>5</th>\n",
       "      <td>6</td>\n",
       "      <td>{'num_clusters': 85}</td>\n",
       "      <td>{'davies_bouldin_index': 1.8276787019139271}</td>\n",
       "      <td>12.972271</td>\n",
       "      <td>NaN</td>\n",
       "      <td>SUCCEEDED</td>\n",
       "      <td>None</td>\n",
       "      <td>False</td>\n",
       "    </tr>\n",
       "    <tr>\n",
       "      <th>6</th>\n",
       "      <td>7</td>\n",
       "      <td>{'num_clusters': 100}</td>\n",
       "      <td>{'davies_bouldin_index': 1.8750235360932528}</td>\n",
       "      <td>12.615449</td>\n",
       "      <td>NaN</td>\n",
       "      <td>SUCCEEDED</td>\n",
       "      <td>None</td>\n",
       "      <td>False</td>\n",
       "    </tr>\n",
       "    <tr>\n",
       "      <th>7</th>\n",
       "      <td>8</td>\n",
       "      <td>{'num_clusters': 72}</td>\n",
       "      <td>{'davies_bouldin_index': 1.7924863807234985}</td>\n",
       "      <td>13.966993</td>\n",
       "      <td>NaN</td>\n",
       "      <td>SUCCEEDED</td>\n",
       "      <td>None</td>\n",
       "      <td>False</td>\n",
       "    </tr>\n",
       "    <tr>\n",
       "      <th>8</th>\n",
       "      <td>9</td>\n",
       "      <td>{'num_clusters': 76}</td>\n",
       "      <td>{'davies_bouldin_index': 1.8057717969332712}</td>\n",
       "      <td>13.546513</td>\n",
       "      <td>NaN</td>\n",
       "      <td>SUCCEEDED</td>\n",
       "      <td>None</td>\n",
       "      <td>False</td>\n",
       "    </tr>\n",
       "    <tr>\n",
       "      <th>9</th>\n",
       "      <td>10</td>\n",
       "      <td>{'num_clusters': 74}</td>\n",
       "      <td>{'davies_bouldin_index': 1.764663626627848}</td>\n",
       "      <td>13.388410</td>\n",
       "      <td>NaN</td>\n",
       "      <td>SUCCEEDED</td>\n",
       "      <td>None</td>\n",
       "      <td>True</td>\n",
       "    </tr>\n",
       "    <tr>\n",
       "      <th>10</th>\n",
       "      <td>11</td>\n",
       "      <td>{'num_clusters': 92}</td>\n",
       "      <td>{'davies_bouldin_index': 1.924481774235714}</td>\n",
       "      <td>12.663013</td>\n",
       "      <td>NaN</td>\n",
       "      <td>SUCCEEDED</td>\n",
       "      <td>None</td>\n",
       "      <td>False</td>\n",
       "    </tr>\n",
       "    <tr>\n",
       "      <th>11</th>\n",
       "      <td>12</td>\n",
       "      <td>{'num_clusters': 44}</td>\n",
       "      <td>{'davies_bouldin_index': 1.891611639486938}</td>\n",
       "      <td>15.801657</td>\n",
       "      <td>NaN</td>\n",
       "      <td>SUCCEEDED</td>\n",
       "      <td>None</td>\n",
       "      <td>False</td>\n",
       "    </tr>\n",
       "    <tr>\n",
       "      <th>12</th>\n",
       "      <td>13</td>\n",
       "      <td>{'num_clusters': 73}</td>\n",
       "      <td>{'davies_bouldin_index': 1.831820308892954}</td>\n",
       "      <td>13.854752</td>\n",
       "      <td>NaN</td>\n",
       "      <td>SUCCEEDED</td>\n",
       "      <td>None</td>\n",
       "      <td>False</td>\n",
       "    </tr>\n",
       "    <tr>\n",
       "      <th>13</th>\n",
       "      <td>14</td>\n",
       "      <td>{'num_clusters': 61}</td>\n",
       "      <td>{'davies_bouldin_index': 1.8613816005763988}</td>\n",
       "      <td>14.073244</td>\n",
       "      <td>NaN</td>\n",
       "      <td>SUCCEEDED</td>\n",
       "      <td>None</td>\n",
       "      <td>False</td>\n",
       "    </tr>\n",
       "    <tr>\n",
       "      <th>14</th>\n",
       "      <td>15</td>\n",
       "      <td>{'num_clusters': 68}</td>\n",
       "      <td>{'davies_bouldin_index': 1.7911405502254383}</td>\n",
       "      <td>13.657455</td>\n",
       "      <td>NaN</td>\n",
       "      <td>SUCCEEDED</td>\n",
       "      <td>None</td>\n",
       "      <td>False</td>\n",
       "    </tr>\n",
       "    <tr>\n",
       "      <th>15</th>\n",
       "      <td>16</td>\n",
       "      <td>{'num_clusters': 64}</td>\n",
       "      <td>{'davies_bouldin_index': 1.9421819754577112}</td>\n",
       "      <td>14.105925</td>\n",
       "      <td>NaN</td>\n",
       "      <td>SUCCEEDED</td>\n",
       "      <td>None</td>\n",
       "      <td>False</td>\n",
       "    </tr>\n",
       "    <tr>\n",
       "      <th>16</th>\n",
       "      <td>17</td>\n",
       "      <td>{'num_clusters': 79}</td>\n",
       "      <td>{'davies_bouldin_index': 1.8791171659279229}</td>\n",
       "      <td>13.494858</td>\n",
       "      <td>NaN</td>\n",
       "      <td>SUCCEEDED</td>\n",
       "      <td>None</td>\n",
       "      <td>False</td>\n",
       "    </tr>\n",
       "    <tr>\n",
       "      <th>17</th>\n",
       "      <td>18</td>\n",
       "      <td>{'num_clusters': 23}</td>\n",
       "      <td>{'davies_bouldin_index': 1.8753800478568348}</td>\n",
       "      <td>18.500391</td>\n",
       "      <td>NaN</td>\n",
       "      <td>SUCCEEDED</td>\n",
       "      <td>None</td>\n",
       "      <td>False</td>\n",
       "    </tr>\n",
       "    <tr>\n",
       "      <th>18</th>\n",
       "      <td>19</td>\n",
       "      <td>{'num_clusters': 10}</td>\n",
       "      <td>{'davies_bouldin_index': 2.6029179373689484}</td>\n",
       "      <td>23.670594</td>\n",
       "      <td>NaN</td>\n",
       "      <td>SUCCEEDED</td>\n",
       "      <td>None</td>\n",
       "      <td>False</td>\n",
       "    </tr>\n",
       "    <tr>\n",
       "      <th>19</th>\n",
       "      <td>20</td>\n",
       "      <td>{'num_clusters': 35}</td>\n",
       "      <td>{'davies_bouldin_index': 1.9309913378775805}</td>\n",
       "      <td>16.651530</td>\n",
       "      <td>NaN</td>\n",
       "      <td>SUCCEEDED</td>\n",
       "      <td>None</td>\n",
       "      <td>False</td>\n",
       "    </tr>\n",
       "  </tbody>\n",
       "</table>\n",
       "</div>"
      ],
      "text/plain": [
       "    trial_id        hyperparameters  \\\n",
       "0          1   {'num_clusters': 51}   \n",
       "1          2   {'num_clusters': 29}   \n",
       "2          3    {'num_clusters': 5}   \n",
       "3          4   {'num_clusters': 17}   \n",
       "4          5   {'num_clusters': 39}   \n",
       "5          6   {'num_clusters': 85}   \n",
       "6          7  {'num_clusters': 100}   \n",
       "7          8   {'num_clusters': 72}   \n",
       "8          9   {'num_clusters': 76}   \n",
       "9         10   {'num_clusters': 74}   \n",
       "10        11   {'num_clusters': 92}   \n",
       "11        12   {'num_clusters': 44}   \n",
       "12        13   {'num_clusters': 73}   \n",
       "13        14   {'num_clusters': 61}   \n",
       "14        15   {'num_clusters': 68}   \n",
       "15        16   {'num_clusters': 64}   \n",
       "16        17   {'num_clusters': 79}   \n",
       "17        18   {'num_clusters': 23}   \n",
       "18        19   {'num_clusters': 10}   \n",
       "19        20   {'num_clusters': 35}   \n",
       "\n",
       "                hparam_tuning_evaluation_metrics  training_loss  eval_loss  \\\n",
       "0   {'davies_bouldin_index': 1.9721191782468102}      14.923794        NaN   \n",
       "1    {'davies_bouldin_index': 1.914672864399071}      17.552875        NaN   \n",
       "2   {'davies_bouldin_index': 2.4794853243428046}      27.003417        NaN   \n",
       "3    {'davies_bouldin_index': 2.462200064953552}      21.142722        NaN   \n",
       "4   {'davies_bouldin_index': 1.8330527062043047}      16.462983        NaN   \n",
       "5   {'davies_bouldin_index': 1.8276787019139271}      12.972271        NaN   \n",
       "6   {'davies_bouldin_index': 1.8750235360932528}      12.615449        NaN   \n",
       "7   {'davies_bouldin_index': 1.7924863807234985}      13.966993        NaN   \n",
       "8   {'davies_bouldin_index': 1.8057717969332712}      13.546513        NaN   \n",
       "9    {'davies_bouldin_index': 1.764663626627848}      13.388410        NaN   \n",
       "10   {'davies_bouldin_index': 1.924481774235714}      12.663013        NaN   \n",
       "11   {'davies_bouldin_index': 1.891611639486938}      15.801657        NaN   \n",
       "12   {'davies_bouldin_index': 1.831820308892954}      13.854752        NaN   \n",
       "13  {'davies_bouldin_index': 1.8613816005763988}      14.073244        NaN   \n",
       "14  {'davies_bouldin_index': 1.7911405502254383}      13.657455        NaN   \n",
       "15  {'davies_bouldin_index': 1.9421819754577112}      14.105925        NaN   \n",
       "16  {'davies_bouldin_index': 1.8791171659279229}      13.494858        NaN   \n",
       "17  {'davies_bouldin_index': 1.8753800478568348}      18.500391        NaN   \n",
       "18  {'davies_bouldin_index': 2.6029179373689484}      23.670594        NaN   \n",
       "19  {'davies_bouldin_index': 1.9309913378775805}      16.651530        NaN   \n",
       "\n",
       "       status error_message  is_optimal  \n",
       "0   SUCCEEDED          None       False  \n",
       "1   SUCCEEDED          None       False  \n",
       "2   SUCCEEDED          None       False  \n",
       "3   SUCCEEDED          None       False  \n",
       "4   SUCCEEDED          None       False  \n",
       "5   SUCCEEDED          None       False  \n",
       "6   SUCCEEDED          None       False  \n",
       "7   SUCCEEDED          None       False  \n",
       "8   SUCCEEDED          None       False  \n",
       "9   SUCCEEDED          None        True  \n",
       "10  SUCCEEDED          None       False  \n",
       "11  SUCCEEDED          None       False  \n",
       "12  SUCCEEDED          None       False  \n",
       "13  SUCCEEDED          None       False  \n",
       "14  SUCCEEDED          None       False  \n",
       "15  SUCCEEDED          None       False  \n",
       "16  SUCCEEDED          None       False  \n",
       "17  SUCCEEDED          None       False  \n",
       "18  SUCCEEDED          None       False  \n",
       "19  SUCCEEDED          None       False  "
      ]
     },
     "execution_count": 21,
     "metadata": {},
     "output_type": "execute_result"
    }
   ],
   "source": [
    "trials = bq.query(\n",
    "    query = f\"\"\"\n",
    "        SELECT *\n",
    "        FROM ML.TRIAL_INFO(MODEL `{BQ_PROJECT}.{BQ_DATASET}.{BQ_MODEL}`)\n",
    "        \"\"\"\n",
    ").to_dataframe()\n",
    "trials"
   ]
  },
  {
   "cell_type": "markdown",
   "id": "269e7e47-113f-47c2-9b11-d10c4d7aa240",
   "metadata": {
    "tags": []
   },
   "source": [
    "---\n",
    "## Evaluate Model"
   ]
  },
  {
   "cell_type": "markdown",
   "id": "0109630c-e71c-4ecb-afa8-268766ca8cb3",
   "metadata": {},
   "source": [
    "Review the evaluation statistics on the trials with [ML.EVALUATE](https://cloud.google.com/bigquery-ml/docs/reference/standard-sql/bigqueryml-syntax-evaluate):"
   ]
  },
  {
   "cell_type": "code",
   "execution_count": 22,
   "id": "402f81e7-5ef2-4a6b-902f-b64a713dd6b2",
   "metadata": {},
   "outputs": [
    {
     "data": {
      "text/html": [
       "<div>\n",
       "<style scoped>\n",
       "    .dataframe tbody tr th:only-of-type {\n",
       "        vertical-align: middle;\n",
       "    }\n",
       "\n",
       "    .dataframe tbody tr th {\n",
       "        vertical-align: top;\n",
       "    }\n",
       "\n",
       "    .dataframe thead th {\n",
       "        text-align: right;\n",
       "    }\n",
       "</style>\n",
       "<table border=\"1\" class=\"dataframe\">\n",
       "  <thead>\n",
       "    <tr style=\"text-align: right;\">\n",
       "      <th></th>\n",
       "      <th>trial_id</th>\n",
       "      <th>davies_bouldin_index</th>\n",
       "      <th>mean_squared_distance</th>\n",
       "    </tr>\n",
       "  </thead>\n",
       "  <tbody>\n",
       "    <tr>\n",
       "      <th>0</th>\n",
       "      <td>1</td>\n",
       "      <td>1.972119</td>\n",
       "      <td>14.923794</td>\n",
       "    </tr>\n",
       "    <tr>\n",
       "      <th>1</th>\n",
       "      <td>2</td>\n",
       "      <td>1.914673</td>\n",
       "      <td>17.552875</td>\n",
       "    </tr>\n",
       "    <tr>\n",
       "      <th>2</th>\n",
       "      <td>3</td>\n",
       "      <td>2.479485</td>\n",
       "      <td>27.003417</td>\n",
       "    </tr>\n",
       "    <tr>\n",
       "      <th>3</th>\n",
       "      <td>4</td>\n",
       "      <td>2.462200</td>\n",
       "      <td>21.142722</td>\n",
       "    </tr>\n",
       "    <tr>\n",
       "      <th>4</th>\n",
       "      <td>5</td>\n",
       "      <td>1.833053</td>\n",
       "      <td>16.462983</td>\n",
       "    </tr>\n",
       "    <tr>\n",
       "      <th>5</th>\n",
       "      <td>6</td>\n",
       "      <td>1.827679</td>\n",
       "      <td>12.972271</td>\n",
       "    </tr>\n",
       "    <tr>\n",
       "      <th>6</th>\n",
       "      <td>7</td>\n",
       "      <td>1.875024</td>\n",
       "      <td>12.615449</td>\n",
       "    </tr>\n",
       "    <tr>\n",
       "      <th>7</th>\n",
       "      <td>8</td>\n",
       "      <td>1.792486</td>\n",
       "      <td>13.966993</td>\n",
       "    </tr>\n",
       "    <tr>\n",
       "      <th>8</th>\n",
       "      <td>9</td>\n",
       "      <td>1.805772</td>\n",
       "      <td>13.546513</td>\n",
       "    </tr>\n",
       "    <tr>\n",
       "      <th>9</th>\n",
       "      <td>10</td>\n",
       "      <td>1.764664</td>\n",
       "      <td>13.388410</td>\n",
       "    </tr>\n",
       "    <tr>\n",
       "      <th>10</th>\n",
       "      <td>11</td>\n",
       "      <td>1.924482</td>\n",
       "      <td>12.663013</td>\n",
       "    </tr>\n",
       "    <tr>\n",
       "      <th>11</th>\n",
       "      <td>12</td>\n",
       "      <td>1.891612</td>\n",
       "      <td>15.801657</td>\n",
       "    </tr>\n",
       "    <tr>\n",
       "      <th>12</th>\n",
       "      <td>13</td>\n",
       "      <td>1.831820</td>\n",
       "      <td>13.854752</td>\n",
       "    </tr>\n",
       "    <tr>\n",
       "      <th>13</th>\n",
       "      <td>14</td>\n",
       "      <td>1.861382</td>\n",
       "      <td>14.073244</td>\n",
       "    </tr>\n",
       "    <tr>\n",
       "      <th>14</th>\n",
       "      <td>15</td>\n",
       "      <td>1.791141</td>\n",
       "      <td>13.657455</td>\n",
       "    </tr>\n",
       "    <tr>\n",
       "      <th>15</th>\n",
       "      <td>16</td>\n",
       "      <td>1.942182</td>\n",
       "      <td>14.105925</td>\n",
       "    </tr>\n",
       "    <tr>\n",
       "      <th>16</th>\n",
       "      <td>17</td>\n",
       "      <td>1.879117</td>\n",
       "      <td>13.494858</td>\n",
       "    </tr>\n",
       "    <tr>\n",
       "      <th>17</th>\n",
       "      <td>18</td>\n",
       "      <td>1.875380</td>\n",
       "      <td>18.500391</td>\n",
       "    </tr>\n",
       "    <tr>\n",
       "      <th>18</th>\n",
       "      <td>19</td>\n",
       "      <td>2.602918</td>\n",
       "      <td>23.670594</td>\n",
       "    </tr>\n",
       "    <tr>\n",
       "      <th>19</th>\n",
       "      <td>20</td>\n",
       "      <td>1.930991</td>\n",
       "      <td>16.651530</td>\n",
       "    </tr>\n",
       "  </tbody>\n",
       "</table>\n",
       "</div>"
      ],
      "text/plain": [
       "    trial_id  davies_bouldin_index  mean_squared_distance\n",
       "0          1              1.972119              14.923794\n",
       "1          2              1.914673              17.552875\n",
       "2          3              2.479485              27.003417\n",
       "3          4              2.462200              21.142722\n",
       "4          5              1.833053              16.462983\n",
       "5          6              1.827679              12.972271\n",
       "6          7              1.875024              12.615449\n",
       "7          8              1.792486              13.966993\n",
       "8          9              1.805772              13.546513\n",
       "9         10              1.764664              13.388410\n",
       "10        11              1.924482              12.663013\n",
       "11        12              1.891612              15.801657\n",
       "12        13              1.831820              13.854752\n",
       "13        14              1.861382              14.073244\n",
       "14        15              1.791141              13.657455\n",
       "15        16              1.942182              14.105925\n",
       "16        17              1.879117              13.494858\n",
       "17        18              1.875380              18.500391\n",
       "18        19              2.602918              23.670594\n",
       "19        20              1.930991              16.651530"
      ]
     },
     "execution_count": 22,
     "metadata": {},
     "output_type": "execute_result"
    }
   ],
   "source": [
    "eval = bq.query(\n",
    "    query = f\"\"\"\n",
    "        SELECT *\n",
    "        FROM ML.EVALUATE(MODEL `{BQ_PROJECT}.{BQ_DATASET}.{BQ_MODEL}`)\n",
    "        \"\"\"\n",
    ").to_dataframe()\n",
    "eval"
   ]
  },
  {
   "cell_type": "markdown",
   "id": "9504acd1-c636-48f3-9aa0-bd7b157bdd2e",
   "metadata": {},
   "source": [
    "Review the centroid assignment across trials with [ML.CENTROIDS](https://cloud.google.com/bigquery-ml/docs/reference/standard-sql/bigqueryml-syntax-centroids):"
   ]
  },
  {
   "cell_type": "code",
   "execution_count": 23,
   "id": "928a8e88-d6ab-4bcc-a139-581738473ff2",
   "metadata": {},
   "outputs": [
    {
     "data": {
      "text/html": [
       "<div>\n",
       "<style scoped>\n",
       "    .dataframe tbody tr th:only-of-type {\n",
       "        vertical-align: middle;\n",
       "    }\n",
       "\n",
       "    .dataframe tbody tr th {\n",
       "        vertical-align: top;\n",
       "    }\n",
       "\n",
       "    .dataframe thead th {\n",
       "        text-align: right;\n",
       "    }\n",
       "</style>\n",
       "<table border=\"1\" class=\"dataframe\">\n",
       "  <thead>\n",
       "    <tr style=\"text-align: right;\">\n",
       "      <th></th>\n",
       "      <th>trial_id</th>\n",
       "      <th>centroid_id</th>\n",
       "      <th>feature</th>\n",
       "      <th>numerical_value</th>\n",
       "      <th>categorical_value</th>\n",
       "    </tr>\n",
       "  </thead>\n",
       "  <tbody>\n",
       "    <tr>\n",
       "      <th>0</th>\n",
       "      <td>1</td>\n",
       "      <td>1</td>\n",
       "      <td>Time</td>\n",
       "      <td>61503.928148</td>\n",
       "      <td>[]</td>\n",
       "    </tr>\n",
       "    <tr>\n",
       "      <th>1</th>\n",
       "      <td>1</td>\n",
       "      <td>1</td>\n",
       "      <td>V1</td>\n",
       "      <td>-0.021848</td>\n",
       "      <td>[]</td>\n",
       "    </tr>\n",
       "    <tr>\n",
       "      <th>2</th>\n",
       "      <td>1</td>\n",
       "      <td>1</td>\n",
       "      <td>V2</td>\n",
       "      <td>0.492773</td>\n",
       "      <td>[]</td>\n",
       "    </tr>\n",
       "    <tr>\n",
       "      <th>3</th>\n",
       "      <td>1</td>\n",
       "      <td>1</td>\n",
       "      <td>V3</td>\n",
       "      <td>0.478895</td>\n",
       "      <td>[]</td>\n",
       "    </tr>\n",
       "    <tr>\n",
       "      <th>4</th>\n",
       "      <td>1</td>\n",
       "      <td>1</td>\n",
       "      <td>V4</td>\n",
       "      <td>0.308208</td>\n",
       "      <td>[]</td>\n",
       "    </tr>\n",
       "    <tr>\n",
       "      <th>...</th>\n",
       "      <td>...</td>\n",
       "      <td>...</td>\n",
       "      <td>...</td>\n",
       "      <td>...</td>\n",
       "      <td>...</td>\n",
       "    </tr>\n",
       "    <tr>\n",
       "      <th>32905</th>\n",
       "      <td>20</td>\n",
       "      <td>35</td>\n",
       "      <td>V25</td>\n",
       "      <td>-0.028014</td>\n",
       "      <td>[]</td>\n",
       "    </tr>\n",
       "    <tr>\n",
       "      <th>32906</th>\n",
       "      <td>20</td>\n",
       "      <td>35</td>\n",
       "      <td>V26</td>\n",
       "      <td>0.527477</td>\n",
       "      <td>[]</td>\n",
       "    </tr>\n",
       "    <tr>\n",
       "      <th>32907</th>\n",
       "      <td>20</td>\n",
       "      <td>35</td>\n",
       "      <td>V27</td>\n",
       "      <td>-0.054952</td>\n",
       "      <td>[]</td>\n",
       "    </tr>\n",
       "    <tr>\n",
       "      <th>32908</th>\n",
       "      <td>20</td>\n",
       "      <td>35</td>\n",
       "      <td>V28</td>\n",
       "      <td>-0.035408</td>\n",
       "      <td>[]</td>\n",
       "    </tr>\n",
       "    <tr>\n",
       "      <th>32909</th>\n",
       "      <td>20</td>\n",
       "      <td>35</td>\n",
       "      <td>Amount</td>\n",
       "      <td>67.414868</td>\n",
       "      <td>[]</td>\n",
       "    </tr>\n",
       "  </tbody>\n",
       "</table>\n",
       "<p>32910 rows × 5 columns</p>\n",
       "</div>"
      ],
      "text/plain": [
       "       trial_id  centroid_id feature  numerical_value categorical_value\n",
       "0             1            1    Time     61503.928148                []\n",
       "1             1            1      V1        -0.021848                []\n",
       "2             1            1      V2         0.492773                []\n",
       "3             1            1      V3         0.478895                []\n",
       "4             1            1      V4         0.308208                []\n",
       "...         ...          ...     ...              ...               ...\n",
       "32905        20           35     V25        -0.028014                []\n",
       "32906        20           35     V26         0.527477                []\n",
       "32907        20           35     V27        -0.054952                []\n",
       "32908        20           35     V28        -0.035408                []\n",
       "32909        20           35  Amount        67.414868                []\n",
       "\n",
       "[32910 rows x 5 columns]"
      ]
     },
     "execution_count": 23,
     "metadata": {},
     "output_type": "execute_result"
    }
   ],
   "source": [
    "centroids = bq.query(\n",
    "    query = f\"\"\"\n",
    "        SELECT *\n",
    "        FROM ML.CENTROIDS(MODEL `{BQ_PROJECT}.{BQ_DATASET}.{BQ_MODEL}`)\n",
    "        \"\"\"\n",
    ").to_dataframe()\n",
    "centroids"
   ]
  },
  {
   "cell_type": "markdown",
   "id": "f88cada5-3240-4aee-8db0-2ab77b40e429",
   "metadata": {},
   "source": [
    "---\n",
    "## Predictions With BigQuery ML (BQML)"
   ]
  },
  {
   "cell_type": "markdown",
   "id": "a66aa9e5-0089-40a6-b129-9b5605647e46",
   "metadata": {},
   "source": [
    "Create a pandas dataframe with retrieved predictions for the test data in the table using [ML.PREDICT](https://cloud.google.com/bigquery-ml/docs/reference/standard-sql/bigqueryml-syntax-predict):"
   ]
  },
  {
   "cell_type": "code",
   "execution_count": 24,
   "id": "6663af2d-9323-42ce-a180-d60e6201e1df",
   "metadata": {},
   "outputs": [],
   "source": [
    "query = f\"\"\"\n",
    "SELECT *\n",
    "FROM ML.PREDICT (MODEL `{BQ_PROJECT}.{BQ_DATASET}.{BQ_MODEL}`,(\n",
    "    SELECT *\n",
    "    FROM `{BQ_PROJECT}.{BQ_DATASET}.{BQ_TABLE}`\n",
    "    WHERE splits = 'TEST')\n",
    "  )\n",
    "\"\"\"\n",
    "pred = bq.query(query = query).to_dataframe()"
   ]
  },
  {
   "cell_type": "markdown",
   "id": "3646d414-ea4b-4c32-ae53-3f4d1707ca31",
   "metadata": {},
   "source": [
    "Review the columns from the prediction for the test data.  Note the query added columns indicating the tuning trail the result is from, the nearest centroid, and a list of nearest centroids with distances."
   ]
  },
  {
   "cell_type": "code",
   "execution_count": 25,
   "id": "81a4a6ea-e676-4869-99ef-646631b3b912",
   "metadata": {},
   "outputs": [
    {
     "data": {
      "text/html": [
       "<div>\n",
       "<style scoped>\n",
       "    .dataframe tbody tr th:only-of-type {\n",
       "        vertical-align: middle;\n",
       "    }\n",
       "\n",
       "    .dataframe tbody tr th {\n",
       "        vertical-align: top;\n",
       "    }\n",
       "\n",
       "    .dataframe thead th {\n",
       "        text-align: right;\n",
       "    }\n",
       "</style>\n",
       "<table border=\"1\" class=\"dataframe\">\n",
       "  <thead>\n",
       "    <tr style=\"text-align: right;\">\n",
       "      <th></th>\n",
       "      <th>trial_id</th>\n",
       "      <th>CENTROID_ID</th>\n",
       "      <th>NEAREST_CENTROIDS_DISTANCE</th>\n",
       "      <th>Time</th>\n",
       "      <th>V1</th>\n",
       "      <th>V2</th>\n",
       "      <th>V3</th>\n",
       "      <th>V4</th>\n",
       "      <th>V5</th>\n",
       "      <th>V6</th>\n",
       "      <th>...</th>\n",
       "      <th>V23</th>\n",
       "      <th>V24</th>\n",
       "      <th>V25</th>\n",
       "      <th>V26</th>\n",
       "      <th>V27</th>\n",
       "      <th>V28</th>\n",
       "      <th>Amount</th>\n",
       "      <th>Class</th>\n",
       "      <th>transaction_id</th>\n",
       "      <th>splits</th>\n",
       "    </tr>\n",
       "  </thead>\n",
       "  <tbody>\n",
       "    <tr>\n",
       "      <th>0</th>\n",
       "      <td>10</td>\n",
       "      <td>72</td>\n",
       "      <td>[{'CENTROID_ID': 72, 'DISTANCE': 19.9665543430...</td>\n",
       "      <td>149948</td>\n",
       "      <td>-9.461881</td>\n",
       "      <td>-3.540577</td>\n",
       "      <td>-8.597800</td>\n",
       "      <td>0.442538</td>\n",
       "      <td>-14.977977</td>\n",
       "      <td>7.723585</td>\n",
       "      <td>...</td>\n",
       "      <td>0.684788</td>\n",
       "      <td>1.216030</td>\n",
       "      <td>-1.861108</td>\n",
       "      <td>-0.876181</td>\n",
       "      <td>-1.266618</td>\n",
       "      <td>-0.088363</td>\n",
       "      <td>2690.24</td>\n",
       "      <td>0</td>\n",
       "      <td>7389516e-6ac5-45a3-9a57-98a220ae5ac5</td>\n",
       "      <td>TEST</td>\n",
       "    </tr>\n",
       "    <tr>\n",
       "      <th>1</th>\n",
       "      <td>10</td>\n",
       "      <td>27</td>\n",
       "      <td>[{'CENTROID_ID': 27, 'DISTANCE': 6.52269007374...</td>\n",
       "      <td>140918</td>\n",
       "      <td>-3.403389</td>\n",
       "      <td>-6.113933</td>\n",
       "      <td>-0.406967</td>\n",
       "      <td>-0.544229</td>\n",
       "      <td>5.053036</td>\n",
       "      <td>-3.839346</td>\n",
       "      <td>...</td>\n",
       "      <td>1.191443</td>\n",
       "      <td>-0.426650</td>\n",
       "      <td>-1.179776</td>\n",
       "      <td>-0.310752</td>\n",
       "      <td>0.124007</td>\n",
       "      <td>0.433073</td>\n",
       "      <td>80.00</td>\n",
       "      <td>0</td>\n",
       "      <td>82ab0439-829e-4f32-ac75-4f463684ddfb</td>\n",
       "      <td>TEST</td>\n",
       "    </tr>\n",
       "    <tr>\n",
       "      <th>2</th>\n",
       "      <td>10</td>\n",
       "      <td>25</td>\n",
       "      <td>[{'CENTROID_ID': 25, 'DISTANCE': 9.67105348044...</td>\n",
       "      <td>78232</td>\n",
       "      <td>-3.469445</td>\n",
       "      <td>1.601245</td>\n",
       "      <td>-0.759204</td>\n",
       "      <td>1.584816</td>\n",
       "      <td>1.836472</td>\n",
       "      <td>0.706258</td>\n",
       "      <td>...</td>\n",
       "      <td>0.095562</td>\n",
       "      <td>-0.903242</td>\n",
       "      <td>-0.421391</td>\n",
       "      <td>-0.366094</td>\n",
       "      <td>-2.972830</td>\n",
       "      <td>0.936672</td>\n",
       "      <td>1.00</td>\n",
       "      <td>0</td>\n",
       "      <td>cde10764-3204-4dee-b571-25111887fc80</td>\n",
       "      <td>TEST</td>\n",
       "    </tr>\n",
       "    <tr>\n",
       "      <th>3</th>\n",
       "      <td>10</td>\n",
       "      <td>22</td>\n",
       "      <td>[{'CENTROID_ID': 22, 'DISTANCE': 6.11835003053...</td>\n",
       "      <td>29815</td>\n",
       "      <td>-9.048882</td>\n",
       "      <td>5.724259</td>\n",
       "      <td>-9.757668</td>\n",
       "      <td>2.149239</td>\n",
       "      <td>-5.426703</td>\n",
       "      <td>-2.525952</td>\n",
       "      <td>...</td>\n",
       "      <td>-0.290766</td>\n",
       "      <td>0.077572</td>\n",
       "      <td>0.324595</td>\n",
       "      <td>-0.369201</td>\n",
       "      <td>-0.050633</td>\n",
       "      <td>-0.295805</td>\n",
       "      <td>89.99</td>\n",
       "      <td>0</td>\n",
       "      <td>38eb6653-ed9d-43b5-9180-832225762543</td>\n",
       "      <td>TEST</td>\n",
       "    </tr>\n",
       "    <tr>\n",
       "      <th>4</th>\n",
       "      <td>10</td>\n",
       "      <td>31</td>\n",
       "      <td>[{'CENTROID_ID': 31, 'DISTANCE': 7.38144306066...</td>\n",
       "      <td>121798</td>\n",
       "      <td>-3.586949</td>\n",
       "      <td>-6.460443</td>\n",
       "      <td>-0.461342</td>\n",
       "      <td>-2.179225</td>\n",
       "      <td>6.561333</td>\n",
       "      <td>0.496386</td>\n",
       "      <td>...</td>\n",
       "      <td>-0.780883</td>\n",
       "      <td>0.843970</td>\n",
       "      <td>-0.439713</td>\n",
       "      <td>-0.218083</td>\n",
       "      <td>0.417789</td>\n",
       "      <td>-0.803686</td>\n",
       "      <td>108.52</td>\n",
       "      <td>0</td>\n",
       "      <td>d37bb345-ac54-4923-9b39-6ba0abd73602</td>\n",
       "      <td>TEST</td>\n",
       "    </tr>\n",
       "  </tbody>\n",
       "</table>\n",
       "<p>5 rows × 36 columns</p>\n",
       "</div>"
      ],
      "text/plain": [
       "   trial_id  CENTROID_ID                         NEAREST_CENTROIDS_DISTANCE  \\\n",
       "0        10           72  [{'CENTROID_ID': 72, 'DISTANCE': 19.9665543430...   \n",
       "1        10           27  [{'CENTROID_ID': 27, 'DISTANCE': 6.52269007374...   \n",
       "2        10           25  [{'CENTROID_ID': 25, 'DISTANCE': 9.67105348044...   \n",
       "3        10           22  [{'CENTROID_ID': 22, 'DISTANCE': 6.11835003053...   \n",
       "4        10           31  [{'CENTROID_ID': 31, 'DISTANCE': 7.38144306066...   \n",
       "\n",
       "     Time        V1        V2        V3        V4         V5        V6  ...  \\\n",
       "0  149948 -9.461881 -3.540577 -8.597800  0.442538 -14.977977  7.723585  ...   \n",
       "1  140918 -3.403389 -6.113933 -0.406967 -0.544229   5.053036 -3.839346  ...   \n",
       "2   78232 -3.469445  1.601245 -0.759204  1.584816   1.836472  0.706258  ...   \n",
       "3   29815 -9.048882  5.724259 -9.757668  2.149239  -5.426703 -2.525952  ...   \n",
       "4  121798 -3.586949 -6.460443 -0.461342 -2.179225   6.561333  0.496386  ...   \n",
       "\n",
       "        V23       V24       V25       V26       V27       V28   Amount  Class  \\\n",
       "0  0.684788  1.216030 -1.861108 -0.876181 -1.266618 -0.088363  2690.24      0   \n",
       "1  1.191443 -0.426650 -1.179776 -0.310752  0.124007  0.433073    80.00      0   \n",
       "2  0.095562 -0.903242 -0.421391 -0.366094 -2.972830  0.936672     1.00      0   \n",
       "3 -0.290766  0.077572  0.324595 -0.369201 -0.050633 -0.295805    89.99      0   \n",
       "4 -0.780883  0.843970 -0.439713 -0.218083  0.417789 -0.803686   108.52      0   \n",
       "\n",
       "                         transaction_id  splits  \n",
       "0  7389516e-6ac5-45a3-9a57-98a220ae5ac5    TEST  \n",
       "1  82ab0439-829e-4f32-ac75-4f463684ddfb    TEST  \n",
       "2  cde10764-3204-4dee-b571-25111887fc80    TEST  \n",
       "3  38eb6653-ed9d-43b5-9180-832225762543    TEST  \n",
       "4  d37bb345-ac54-4923-9b39-6ba0abd73602    TEST  \n",
       "\n",
       "[5 rows x 36 columns]"
      ]
     },
     "execution_count": 25,
     "metadata": {},
     "output_type": "execute_result"
    }
   ],
   "source": [
    "pred.head()"
   ]
  },
  {
   "cell_type": "markdown",
   "id": "78ceca92-d925-469c-b6ba-54b0a51bf927",
   "metadata": {},
   "source": [
    "---\n",
    "## Anomalies\n",
    "Use the [ML.DETECT_ANOMALIES](https://cloud.google.com/bigquery-ml/docs/reference/standard-sql/bigqueryml-syntax-detect-anomalies) function to retrieve rows that appear as anomalies with the input [contamination](https://cloud.google.com/bigquery-ml/docs/reference/standard-sql/bigqueryml-syntax-detect-anomalies#contamination) value set to the rate of fraud in the training data (calculated above)."
   ]
  },
  {
   "cell_type": "code",
   "execution_count": 26,
   "id": "eeb534e0-e606-49b3-ab7d-f9d9627e3c2f",
   "metadata": {},
   "outputs": [],
   "source": [
    "query = f\"\"\"\n",
    "WITH ANOMALIES AS (\n",
    "        SELECT *\n",
    "        FROM ML.DETECT_ANOMALIES (\n",
    "            MODEL `{BQ_PROJECT}.{BQ_DATASET}.{BQ_MODEL}`,\n",
    "            STRUCT ({TRAIN_FRAUD_PCT} AS contamination),\n",
    "            (SELECT *\n",
    "            FROM `{BQ_PROJECT}.{BQ_DATASET}.{BQ_TABLE}`\n",
    "            WHERE splits = 'TEST')\n",
    "          )\n",
    ")\n",
    "SELECT *\n",
    "FROM ANOMALIES\n",
    "WHERE is_anomaly = TRUE\n",
    "\"\"\"\n",
    "anomalies = bq.query(query = query).to_dataframe()"
   ]
  },
  {
   "cell_type": "code",
   "execution_count": 27,
   "id": "6eb8f008-0cf7-4b0d-b96d-e45583f42a84",
   "metadata": {},
   "outputs": [
    {
     "data": {
      "text/html": [
       "<div>\n",
       "<style scoped>\n",
       "    .dataframe tbody tr th:only-of-type {\n",
       "        vertical-align: middle;\n",
       "    }\n",
       "\n",
       "    .dataframe tbody tr th {\n",
       "        vertical-align: top;\n",
       "    }\n",
       "\n",
       "    .dataframe thead th {\n",
       "        text-align: right;\n",
       "    }\n",
       "</style>\n",
       "<table border=\"1\" class=\"dataframe\">\n",
       "  <thead>\n",
       "    <tr style=\"text-align: right;\">\n",
       "      <th></th>\n",
       "      <th>trial_id</th>\n",
       "      <th>is_anomaly</th>\n",
       "      <th>normalized_distance</th>\n",
       "      <th>CENTROID_ID</th>\n",
       "      <th>Time</th>\n",
       "      <th>V1</th>\n",
       "      <th>V2</th>\n",
       "      <th>V3</th>\n",
       "      <th>V4</th>\n",
       "      <th>V5</th>\n",
       "      <th>...</th>\n",
       "      <th>V23</th>\n",
       "      <th>V24</th>\n",
       "      <th>V25</th>\n",
       "      <th>V26</th>\n",
       "      <th>V27</th>\n",
       "      <th>V28</th>\n",
       "      <th>Amount</th>\n",
       "      <th>Class</th>\n",
       "      <th>transaction_id</th>\n",
       "      <th>splits</th>\n",
       "    </tr>\n",
       "  </thead>\n",
       "  <tbody>\n",
       "    <tr>\n",
       "      <th>0</th>\n",
       "      <td>10</td>\n",
       "      <td>True</td>\n",
       "      <td>1.580359</td>\n",
       "      <td>1</td>\n",
       "      <td>78525</td>\n",
       "      <td>-13.435216</td>\n",
       "      <td>8.892706</td>\n",
       "      <td>-4.923702</td>\n",
       "      <td>-0.650436</td>\n",
       "      <td>-6.411089</td>\n",
       "      <td>...</td>\n",
       "      <td>0.605831</td>\n",
       "      <td>-0.092476</td>\n",
       "      <td>2.154370</td>\n",
       "      <td>-0.021950</td>\n",
       "      <td>1.947600</td>\n",
       "      <td>1.040744</td>\n",
       "      <td>20.00</td>\n",
       "      <td>0</td>\n",
       "      <td>ee0f80a1-6b27-48b6-8824-f2e44ffa3c1c</td>\n",
       "      <td>TEST</td>\n",
       "    </tr>\n",
       "    <tr>\n",
       "      <th>1</th>\n",
       "      <td>10</td>\n",
       "      <td>True</td>\n",
       "      <td>1.425344</td>\n",
       "      <td>22</td>\n",
       "      <td>124685</td>\n",
       "      <td>-17.119524</td>\n",
       "      <td>3.113432</td>\n",
       "      <td>-10.441045</td>\n",
       "      <td>-1.693097</td>\n",
       "      <td>-12.086349</td>\n",
       "      <td>...</td>\n",
       "      <td>-2.775543</td>\n",
       "      <td>0.100160</td>\n",
       "      <td>1.211911</td>\n",
       "      <td>-0.108473</td>\n",
       "      <td>-0.106722</td>\n",
       "      <td>-0.399233</td>\n",
       "      <td>152.65</td>\n",
       "      <td>0</td>\n",
       "      <td>4640ffd3-4afd-4102-b985-bc4ce7b44244</td>\n",
       "      <td>TEST</td>\n",
       "    </tr>\n",
       "    <tr>\n",
       "      <th>2</th>\n",
       "      <td>10</td>\n",
       "      <td>True</td>\n",
       "      <td>1.460973</td>\n",
       "      <td>45</td>\n",
       "      <td>165565</td>\n",
       "      <td>-1.939208</td>\n",
       "      <td>4.194723</td>\n",
       "      <td>-1.622724</td>\n",
       "      <td>4.212181</td>\n",
       "      <td>0.771860</td>\n",
       "      <td>...</td>\n",
       "      <td>0.243582</td>\n",
       "      <td>-0.425940</td>\n",
       "      <td>-0.068904</td>\n",
       "      <td>0.076587</td>\n",
       "      <td>1.403511</td>\n",
       "      <td>0.596000</td>\n",
       "      <td>0.90</td>\n",
       "      <td>0</td>\n",
       "      <td>78cbb1f2-3575-4877-8da7-445445499b10</td>\n",
       "      <td>TEST</td>\n",
       "    </tr>\n",
       "    <tr>\n",
       "      <th>3</th>\n",
       "      <td>10</td>\n",
       "      <td>True</td>\n",
       "      <td>2.044781</td>\n",
       "      <td>45</td>\n",
       "      <td>22573</td>\n",
       "      <td>-18.020508</td>\n",
       "      <td>-25.936137</td>\n",
       "      <td>2.418339</td>\n",
       "      <td>6.553308</td>\n",
       "      <td>24.363532</td>\n",
       "      <td>...</td>\n",
       "      <td>4.865803</td>\n",
       "      <td>-0.348217</td>\n",
       "      <td>0.349188</td>\n",
       "      <td>1.013655</td>\n",
       "      <td>-1.012990</td>\n",
       "      <td>0.410881</td>\n",
       "      <td>15.00</td>\n",
       "      <td>0</td>\n",
       "      <td>614451da-d3c0-48ff-932d-a1a52743958c</td>\n",
       "      <td>TEST</td>\n",
       "    </tr>\n",
       "    <tr>\n",
       "      <th>4</th>\n",
       "      <td>10</td>\n",
       "      <td>True</td>\n",
       "      <td>1.538048</td>\n",
       "      <td>49</td>\n",
       "      <td>125010</td>\n",
       "      <td>-9.552013</td>\n",
       "      <td>-11.284608</td>\n",
       "      <td>-0.869563</td>\n",
       "      <td>1.684277</td>\n",
       "      <td>-2.479850</td>\n",
       "      <td>...</td>\n",
       "      <td>3.632733</td>\n",
       "      <td>1.144301</td>\n",
       "      <td>1.547338</td>\n",
       "      <td>-0.017478</td>\n",
       "      <td>0.520723</td>\n",
       "      <td>1.986614</td>\n",
       "      <td>1882.38</td>\n",
       "      <td>0</td>\n",
       "      <td>641ab0ac-aa64-406c-adfc-c5d44166a2a4</td>\n",
       "      <td>TEST</td>\n",
       "    </tr>\n",
       "    <tr>\n",
       "      <th>...</th>\n",
       "      <td>...</td>\n",
       "      <td>...</td>\n",
       "      <td>...</td>\n",
       "      <td>...</td>\n",
       "      <td>...</td>\n",
       "      <td>...</td>\n",
       "      <td>...</td>\n",
       "      <td>...</td>\n",
       "      <td>...</td>\n",
       "      <td>...</td>\n",
       "      <td>...</td>\n",
       "      <td>...</td>\n",
       "      <td>...</td>\n",
       "      <td>...</td>\n",
       "      <td>...</td>\n",
       "      <td>...</td>\n",
       "      <td>...</td>\n",
       "      <td>...</td>\n",
       "      <td>...</td>\n",
       "      <td>...</td>\n",
       "      <td>...</td>\n",
       "    </tr>\n",
       "    <tr>\n",
       "      <th>57</th>\n",
       "      <td>10</td>\n",
       "      <td>True</td>\n",
       "      <td>1.387146</td>\n",
       "      <td>34</td>\n",
       "      <td>12393</td>\n",
       "      <td>-4.064005</td>\n",
       "      <td>3.100935</td>\n",
       "      <td>-1.188498</td>\n",
       "      <td>3.264633</td>\n",
       "      <td>-1.903562</td>\n",
       "      <td>...</td>\n",
       "      <td>0.193731</td>\n",
       "      <td>0.479496</td>\n",
       "      <td>-0.506603</td>\n",
       "      <td>-0.409863</td>\n",
       "      <td>-3.036271</td>\n",
       "      <td>-0.630605</td>\n",
       "      <td>179.66</td>\n",
       "      <td>1</td>\n",
       "      <td>55fa3610-a199-4a39-aed8-1f2380e8e6cf</td>\n",
       "      <td>TEST</td>\n",
       "    </tr>\n",
       "    <tr>\n",
       "      <th>58</th>\n",
       "      <td>10</td>\n",
       "      <td>True</td>\n",
       "      <td>1.478003</td>\n",
       "      <td>45</td>\n",
       "      <td>164842</td>\n",
       "      <td>-2.056673</td>\n",
       "      <td>2.204844</td>\n",
       "      <td>-1.979134</td>\n",
       "      <td>0.149720</td>\n",
       "      <td>3.428212</td>\n",
       "      <td>...</td>\n",
       "      <td>-3.893988</td>\n",
       "      <td>-1.667340</td>\n",
       "      <td>-0.021368</td>\n",
       "      <td>0.049621</td>\n",
       "      <td>0.240402</td>\n",
       "      <td>0.506780</td>\n",
       "      <td>1.00</td>\n",
       "      <td>0</td>\n",
       "      <td>5755a2f4-d649-4f48-b589-96c41d290c7c</td>\n",
       "      <td>TEST</td>\n",
       "    </tr>\n",
       "    <tr>\n",
       "      <th>59</th>\n",
       "      <td>10</td>\n",
       "      <td>True</td>\n",
       "      <td>1.467845</td>\n",
       "      <td>6</td>\n",
       "      <td>146616</td>\n",
       "      <td>-2.667527</td>\n",
       "      <td>-5.726734</td>\n",
       "      <td>-3.717603</td>\n",
       "      <td>-3.658344</td>\n",
       "      <td>-2.252668</td>\n",
       "      <td>...</td>\n",
       "      <td>4.594509</td>\n",
       "      <td>0.413515</td>\n",
       "      <td>-1.514360</td>\n",
       "      <td>-1.238008</td>\n",
       "      <td>-0.178061</td>\n",
       "      <td>0.487706</td>\n",
       "      <td>1669.55</td>\n",
       "      <td>0</td>\n",
       "      <td>b182e3e3-c5a3-4071-9345-00f54eef46e5</td>\n",
       "      <td>TEST</td>\n",
       "    </tr>\n",
       "    <tr>\n",
       "      <th>60</th>\n",
       "      <td>10</td>\n",
       "      <td>True</td>\n",
       "      <td>1.487337</td>\n",
       "      <td>4</td>\n",
       "      <td>7551</td>\n",
       "      <td>0.316459</td>\n",
       "      <td>3.809076</td>\n",
       "      <td>-5.615159</td>\n",
       "      <td>6.047445</td>\n",
       "      <td>1.554026</td>\n",
       "      <td>...</td>\n",
       "      <td>-0.583813</td>\n",
       "      <td>-0.219845</td>\n",
       "      <td>1.474753</td>\n",
       "      <td>0.491192</td>\n",
       "      <td>0.518868</td>\n",
       "      <td>0.402528</td>\n",
       "      <td>1.00</td>\n",
       "      <td>1</td>\n",
       "      <td>2e70bcc4-4a04-44c5-82c1-5ee6061196c5</td>\n",
       "      <td>TEST</td>\n",
       "    </tr>\n",
       "    <tr>\n",
       "      <th>61</th>\n",
       "      <td>10</td>\n",
       "      <td>True</td>\n",
       "      <td>1.422771</td>\n",
       "      <td>34</td>\n",
       "      <td>164732</td>\n",
       "      <td>-3.274315</td>\n",
       "      <td>2.202059</td>\n",
       "      <td>-0.218180</td>\n",
       "      <td>-4.188550</td>\n",
       "      <td>3.420836</td>\n",
       "      <td>...</td>\n",
       "      <td>0.876485</td>\n",
       "      <td>0.546019</td>\n",
       "      <td>-1.847159</td>\n",
       "      <td>-1.305736</td>\n",
       "      <td>-4.295790</td>\n",
       "      <td>-3.205225</td>\n",
       "      <td>9.73</td>\n",
       "      <td>0</td>\n",
       "      <td>0e01ce38-f0d7-434c-8456-a83e604dc497</td>\n",
       "      <td>TEST</td>\n",
       "    </tr>\n",
       "  </tbody>\n",
       "</table>\n",
       "<p>62 rows × 37 columns</p>\n",
       "</div>"
      ],
      "text/plain": [
       "    trial_id  is_anomaly  normalized_distance  CENTROID_ID    Time         V1  \\\n",
       "0         10        True             1.580359            1   78525 -13.435216   \n",
       "1         10        True             1.425344           22  124685 -17.119524   \n",
       "2         10        True             1.460973           45  165565  -1.939208   \n",
       "3         10        True             2.044781           45   22573 -18.020508   \n",
       "4         10        True             1.538048           49  125010  -9.552013   \n",
       "..       ...         ...                  ...          ...     ...        ...   \n",
       "57        10        True             1.387146           34   12393  -4.064005   \n",
       "58        10        True             1.478003           45  164842  -2.056673   \n",
       "59        10        True             1.467845            6  146616  -2.667527   \n",
       "60        10        True             1.487337            4    7551   0.316459   \n",
       "61        10        True             1.422771           34  164732  -3.274315   \n",
       "\n",
       "           V2         V3        V4         V5  ...       V23       V24  \\\n",
       "0    8.892706  -4.923702 -0.650436  -6.411089  ...  0.605831 -0.092476   \n",
       "1    3.113432 -10.441045 -1.693097 -12.086349  ... -2.775543  0.100160   \n",
       "2    4.194723  -1.622724  4.212181   0.771860  ...  0.243582 -0.425940   \n",
       "3  -25.936137   2.418339  6.553308  24.363532  ...  4.865803 -0.348217   \n",
       "4  -11.284608  -0.869563  1.684277  -2.479850  ...  3.632733  1.144301   \n",
       "..        ...        ...       ...        ...  ...       ...       ...   \n",
       "57   3.100935  -1.188498  3.264633  -1.903562  ...  0.193731  0.479496   \n",
       "58   2.204844  -1.979134  0.149720   3.428212  ... -3.893988 -1.667340   \n",
       "59  -5.726734  -3.717603 -3.658344  -2.252668  ...  4.594509  0.413515   \n",
       "60   3.809076  -5.615159  6.047445   1.554026  ... -0.583813 -0.219845   \n",
       "61   2.202059  -0.218180 -4.188550   3.420836  ...  0.876485  0.546019   \n",
       "\n",
       "         V25       V26       V27       V28   Amount  Class  \\\n",
       "0   2.154370 -0.021950  1.947600  1.040744    20.00      0   \n",
       "1   1.211911 -0.108473 -0.106722 -0.399233   152.65      0   \n",
       "2  -0.068904  0.076587  1.403511  0.596000     0.90      0   \n",
       "3   0.349188  1.013655 -1.012990  0.410881    15.00      0   \n",
       "4   1.547338 -0.017478  0.520723  1.986614  1882.38      0   \n",
       "..       ...       ...       ...       ...      ...    ...   \n",
       "57 -0.506603 -0.409863 -3.036271 -0.630605   179.66      1   \n",
       "58 -0.021368  0.049621  0.240402  0.506780     1.00      0   \n",
       "59 -1.514360 -1.238008 -0.178061  0.487706  1669.55      0   \n",
       "60  1.474753  0.491192  0.518868  0.402528     1.00      1   \n",
       "61 -1.847159 -1.305736 -4.295790 -3.205225     9.73      0   \n",
       "\n",
       "                          transaction_id  splits  \n",
       "0   ee0f80a1-6b27-48b6-8824-f2e44ffa3c1c    TEST  \n",
       "1   4640ffd3-4afd-4102-b985-bc4ce7b44244    TEST  \n",
       "2   78cbb1f2-3575-4877-8da7-445445499b10    TEST  \n",
       "3   614451da-d3c0-48ff-932d-a1a52743958c    TEST  \n",
       "4   641ab0ac-aa64-406c-adfc-c5d44166a2a4    TEST  \n",
       "..                                   ...     ...  \n",
       "57  55fa3610-a199-4a39-aed8-1f2380e8e6cf    TEST  \n",
       "58  5755a2f4-d649-4f48-b589-96c41d290c7c    TEST  \n",
       "59  b182e3e3-c5a3-4071-9345-00f54eef46e5    TEST  \n",
       "60  2e70bcc4-4a04-44c5-82c1-5ee6061196c5    TEST  \n",
       "61  0e01ce38-f0d7-434c-8456-a83e604dc497    TEST  \n",
       "\n",
       "[62 rows x 37 columns]"
      ]
     },
     "execution_count": 27,
     "metadata": {},
     "output_type": "execute_result"
    }
   ],
   "source": [
    "anomalies"
   ]
  },
  {
   "cell_type": "markdown",
   "id": "99e1d90f-6a5f-40a1-ae84-c3700f8b4a2f",
   "metadata": {},
   "source": [
    "Use anomaly detection information to create confusion matrix with know classification:"
   ]
  },
  {
   "cell_type": "code",
   "execution_count": 28,
   "id": "28efb7c6-448c-4587-a5fc-3accac0492fc",
   "metadata": {},
   "outputs": [
    {
     "data": {
      "text/html": [
       "<div>\n",
       "<style scoped>\n",
       "    .dataframe tbody tr th:only-of-type {\n",
       "        vertical-align: middle;\n",
       "    }\n",
       "\n",
       "    .dataframe tbody tr th {\n",
       "        vertical-align: top;\n",
       "    }\n",
       "\n",
       "    .dataframe thead th {\n",
       "        text-align: right;\n",
       "    }\n",
       "</style>\n",
       "<table border=\"1\" class=\"dataframe\">\n",
       "  <thead>\n",
       "    <tr style=\"text-align: right;\">\n",
       "      <th></th>\n",
       "      <th>predicted_Class</th>\n",
       "      <th>Class</th>\n",
       "      <th>count</th>\n",
       "    </tr>\n",
       "  </thead>\n",
       "  <tbody>\n",
       "    <tr>\n",
       "      <th>0</th>\n",
       "      <td>1</td>\n",
       "      <td>0</td>\n",
       "      <td>55</td>\n",
       "    </tr>\n",
       "    <tr>\n",
       "      <th>1</th>\n",
       "      <td>0</td>\n",
       "      <td>0</td>\n",
       "      <td>28400</td>\n",
       "    </tr>\n",
       "    <tr>\n",
       "      <th>2</th>\n",
       "      <td>0</td>\n",
       "      <td>1</td>\n",
       "      <td>40</td>\n",
       "    </tr>\n",
       "    <tr>\n",
       "      <th>3</th>\n",
       "      <td>1</td>\n",
       "      <td>1</td>\n",
       "      <td>7</td>\n",
       "    </tr>\n",
       "  </tbody>\n",
       "</table>\n",
       "</div>"
      ],
      "text/plain": [
       "   predicted_Class  Class  count\n",
       "0                1      0     55\n",
       "1                0      0  28400\n",
       "2                0      1     40\n",
       "3                1      1      7"
      ]
     },
     "execution_count": 28,
     "metadata": {},
     "output_type": "execute_result"
    }
   ],
   "source": [
    "query = f\"\"\"\n",
    "WITH ANOMALIES AS (\n",
    "        SELECT {VAR_TARGET},\n",
    "            CASE\n",
    "                WHEN is_anomaly = TRUE THEN 1\n",
    "                WHEN is_anomaly = FALSE THEN 0\n",
    "            END as predicted_{VAR_TARGET}\n",
    "        FROM ML.DETECT_ANOMALIES (\n",
    "            MODEL `{BQ_PROJECT}.{BQ_DATASET}.{BQ_MODEL}`,\n",
    "            STRUCT ({TRAIN_FRAUD_PCT} AS contamination),\n",
    "            (SELECT *\n",
    "            FROM `{BQ_PROJECT}.{BQ_DATASET}.{BQ_TABLE}`\n",
    "            WHERE splits = 'TEST')\n",
    "          )\n",
    "      )\n",
    "SELECT predicted_{VAR_TARGET}, {VAR_TARGET}, count(*) as count\n",
    "FROM ANOMALIES\n",
    "GROUP BY predicted_{VAR_TARGET}, {VAR_TARGET}\n",
    "\"\"\"\n",
    "bq.query(query = query).to_dataframe()"
   ]
  },
  {
   "cell_type": "markdown",
   "id": "a9eac7c6-3202-41ef-941f-48e44dfcf574",
   "metadata": {},
   "source": [
    "---\n",
    "## Custom Eval Metrics\n",
    "Retrieve the predictions to a local dataframe and use [scikit-learn](https://scikit-learn.org/stable/index.html) metrics [fuctions](https://scikit-learn.org/stable/modules/model_evaluation.html) to do model evaluation."
   ]
  },
  {
   "cell_type": "code",
   "execution_count": 29,
   "id": "028ff6a0-2970-4a7a-ba68-047d85cc69c0",
   "metadata": {},
   "outputs": [
    {
     "data": {
      "text/html": [
       "<div>\n",
       "<style scoped>\n",
       "    .dataframe tbody tr th:only-of-type {\n",
       "        vertical-align: middle;\n",
       "    }\n",
       "\n",
       "    .dataframe tbody tr th {\n",
       "        vertical-align: top;\n",
       "    }\n",
       "\n",
       "    .dataframe thead th {\n",
       "        text-align: right;\n",
       "    }\n",
       "</style>\n",
       "<table border=\"1\" class=\"dataframe\">\n",
       "  <thead>\n",
       "    <tr style=\"text-align: right;\">\n",
       "      <th></th>\n",
       "      <th>Class</th>\n",
       "      <th>predicted_Class</th>\n",
       "    </tr>\n",
       "  </thead>\n",
       "  <tbody>\n",
       "    <tr>\n",
       "      <th>0</th>\n",
       "      <td>0</td>\n",
       "      <td>0</td>\n",
       "    </tr>\n",
       "    <tr>\n",
       "      <th>1</th>\n",
       "      <td>0</td>\n",
       "      <td>0</td>\n",
       "    </tr>\n",
       "    <tr>\n",
       "      <th>2</th>\n",
       "      <td>0</td>\n",
       "      <td>0</td>\n",
       "    </tr>\n",
       "    <tr>\n",
       "      <th>3</th>\n",
       "      <td>0</td>\n",
       "      <td>0</td>\n",
       "    </tr>\n",
       "    <tr>\n",
       "      <th>4</th>\n",
       "      <td>0</td>\n",
       "      <td>0</td>\n",
       "    </tr>\n",
       "    <tr>\n",
       "      <th>...</th>\n",
       "      <td>...</td>\n",
       "      <td>...</td>\n",
       "    </tr>\n",
       "    <tr>\n",
       "      <th>28497</th>\n",
       "      <td>0</td>\n",
       "      <td>0</td>\n",
       "    </tr>\n",
       "    <tr>\n",
       "      <th>28498</th>\n",
       "      <td>0</td>\n",
       "      <td>0</td>\n",
       "    </tr>\n",
       "    <tr>\n",
       "      <th>28499</th>\n",
       "      <td>0</td>\n",
       "      <td>0</td>\n",
       "    </tr>\n",
       "    <tr>\n",
       "      <th>28500</th>\n",
       "      <td>0</td>\n",
       "      <td>0</td>\n",
       "    </tr>\n",
       "    <tr>\n",
       "      <th>28501</th>\n",
       "      <td>0</td>\n",
       "      <td>0</td>\n",
       "    </tr>\n",
       "  </tbody>\n",
       "</table>\n",
       "<p>28502 rows × 2 columns</p>\n",
       "</div>"
      ],
      "text/plain": [
       "       Class  predicted_Class\n",
       "0          0                0\n",
       "1          0                0\n",
       "2          0                0\n",
       "3          0                0\n",
       "4          0                0\n",
       "...      ...              ...\n",
       "28497      0                0\n",
       "28498      0                0\n",
       "28499      0                0\n",
       "28500      0                0\n",
       "28501      0                0\n",
       "\n",
       "[28502 rows x 2 columns]"
      ]
     },
     "execution_count": 29,
     "metadata": {},
     "output_type": "execute_result"
    }
   ],
   "source": [
    "query = f\"\"\"\n",
    "SELECT {VAR_TARGET},\n",
    "    CASE\n",
    "        WHEN is_anomaly = TRUE THEN 1\n",
    "        WHEN is_anomaly = FALSE THEN 0\n",
    "    END as predicted_{VAR_TARGET}\n",
    "FROM ML.DETECT_ANOMALIES (\n",
    "    MODEL `{BQ_PROJECT}.{BQ_DATASET}.{BQ_MODEL}`,\n",
    "    STRUCT ({TRAIN_FRAUD_PCT} AS contamination),\n",
    "    (SELECT *\n",
    "    FROM `{BQ_PROJECT}.{BQ_DATASET}.{BQ_TABLE}`\n",
    "    WHERE splits = 'TEST')\n",
    "  )\n",
    "\"\"\"\n",
    "results = bq.query(query = query).to_dataframe()\n",
    "results"
   ]
  },
  {
   "cell_type": "code",
   "execution_count": 30,
   "id": "38cdad43-e703-4d58-b946-877817b5f790",
   "metadata": {},
   "outputs": [
    {
     "data": {
      "text/plain": [
       "array([[28400,    55],\n",
       "       [   40,     7]])"
      ]
     },
     "execution_count": 30,
     "metadata": {},
     "output_type": "execute_result"
    }
   ],
   "source": [
    "metrics.confusion_matrix(list(results[f'{VAR_TARGET}']), list(results[f'predicted_{VAR_TARGET}']))"
   ]
  },
  {
   "cell_type": "code",
   "execution_count": 31,
   "id": "2d2fcf0b-d7ee-4461-bf7f-ebe472652aee",
   "metadata": {},
   "outputs": [
    {
     "data": {
      "text/plain": [
       "<sklearn.metrics._plot.confusion_matrix.ConfusionMatrixDisplay at 0x7f08d54ef250>"
      ]
     },
     "execution_count": 31,
     "metadata": {},
     "output_type": "execute_result"
    },
    {
     "data": {
      "image/png": "[encoded data removed]",
      "text/plain": [
       "<Figure size 640x480 with 2 Axes>"
      ]
     },
     "metadata": {},
     "output_type": "display_data"
    }
   ],
   "source": [
    "disp = metrics.ConfusionMatrixDisplay(\n",
    "    confusion_matrix = metrics.confusion_matrix(list(results[f'{VAR_TARGET}']), list(results[f'predicted_{VAR_TARGET}']))\n",
    ")\n",
    "disp.plot()"
   ]
  },
  {
   "cell_type": "code",
   "execution_count": 32,
   "id": "778c6e6b-c309-473b-8ed6-65bd95495f0f",
   "metadata": {},
   "outputs": [
    {
     "data": {
      "text/plain": [
       "0.9966669005683811"
      ]
     },
     "execution_count": 32,
     "metadata": {},
     "output_type": "execute_result"
    }
   ],
   "source": [
    "metrics.accuracy_score(list(results[f'{VAR_TARGET}']), list(results[f'predicted_{VAR_TARGET}']))"
   ]
  },
  {
   "cell_type": "code",
   "execution_count": 34,
   "id": "39aa5532-0129-4393-9ba0-a9cf47509410",
   "metadata": {},
   "outputs": [
    {
     "name": "stdout",
     "output_type": "stream",
     "text": [
      "              precision    recall  f1-score   support\n",
      "\n",
      "           0       1.00      1.00      1.00     28455\n",
      "           1       0.11      0.15      0.13        47\n",
      "\n",
      "    accuracy                           1.00     28502\n",
      "   macro avg       0.56      0.57      0.56     28502\n",
      "weighted avg       1.00      1.00      1.00     28502\n",
      "\n"
     ]
    }
   ],
   "source": [
    "print(metrics.classification_report(list(results[f'{VAR_TARGET}']), list(results[f'predicted_{VAR_TARGET}'])))"
   ]
  },
  {
   "cell_type": "markdown",
   "id": "12a19115-4908-4204-abcd-960cdae57b6a",
   "metadata": {},
   "source": [
    "---\n",
    "## Serving With Vertex AI\n",
    "\n",
    "The training options for creating the model include registering the model the Vertex AI Automatically.  This makes deploying the model to a [Vertex AI Endpoint for online serving](https://cloud.google.com/vertex-ai/docs/general/deployment) very easy."
   ]
  },
  {
   "cell_type": "markdown",
   "id": "2d4d3b29-f329-4f94-be8a-1b871e151ee9",
   "metadata": {},
   "source": [
    "### Vertex AI Model Registry - Get Model\n",
    "\n",
    "When these modes were trained in BigQuery ML they included options for registration in Vertex AI Model Registry.  This section shows how to retrieve the information from the model using the [Vertex AI Python Client](../Tips/aiplatform_notes.md).\n",
    "\n",
    "References:\n",
    "- [aiplatform.Model()](https://cloud.google.com/python/docs/reference/aiplatform/latest/google.cloud.aiplatform.Model)"
   ]
  },
  {
   "cell_type": "code",
   "execution_count": 35,
   "id": "1ea3cfa4-71b4-456a-b489-0137656f2f86",
   "metadata": {},
   "outputs": [
    {
     "data": {
      "text/plain": [
       "'projects/1026793852137/locations/us-central1/models/bqml_bqml_kmeans'"
      ]
     },
     "execution_count": 35,
     "metadata": {},
     "output_type": "execute_result"
    }
   ],
   "source": [
    "vertex_model = aiplatform.Model(model_name = f'bqml_{SERIES}_{EXPERIMENT}')\n",
    "vertex_model.resource_name"
   ]
  },
  {
   "cell_type": "code",
   "execution_count": 36,
   "id": "80739fa5-e9c3-4246-bc1a-91a12798f4c7",
   "metadata": {},
   "outputs": [],
   "source": [
    "# note: this is blank since the model is managed by BQML and container is pre-specified\n",
    "vertex_model.uri "
   ]
  },
  {
   "cell_type": "markdown",
   "id": "be74acb8-c0b8-44b6-a231-70b72bad5361",
   "metadata": {},
   "source": [
    "### Vertex AI Endpoint - Create or Retrieve\n",
    "\n",
    "References:\n",
    "- [aiplatform.Endpoint()](https://cloud.google.com/python/docs/reference/aiplatform/latest/google.cloud.aiplatform.Endpoint)"
   ]
  },
  {
   "cell_type": "code",
   "execution_count": 37,
   "id": "c8508e8b-2724-43a8-8d23-2b6a1c19c016",
   "metadata": {},
   "outputs": [
    {
     "name": "stdout",
     "output_type": "stream",
     "text": [
      "Endpoint Found: bqml\n"
     ]
    }
   ],
   "source": [
    "if not aiplatform.Endpoint.list(filter = f\"display_name={SERIES}\"):\n",
    "    endpoint = aiplatform.Endpoint.create(\n",
    "        display_name = f\"{SERIES}\",\n",
    "        labels = {'series' : f\"{SERIES}\"}\n",
    "    )\n",
    "    print(f\"Endpoint Created: {endpoint.display_name}\")\n",
    "else:\n",
    "    endpoint = aiplatform.Endpoint.list(filter = f\"display_name={SERIES}\")[0]\n",
    "    print(f\"Endpoint Found: {endpoint.display_name}\")"
   ]
  },
  {
   "cell_type": "code",
   "execution_count": 38,
   "id": "a0509598-69eb-445a-ba83-2c24af46a141",
   "metadata": {},
   "outputs": [
    {
     "data": {
      "text/plain": [
       "'bqml'"
      ]
     },
     "execution_count": 38,
     "metadata": {},
     "output_type": "execute_result"
    }
   ],
   "source": [
    "endpoint.display_name"
   ]
  },
  {
   "cell_type": "code",
   "execution_count": 39,
   "id": "310c5fdc-b403-45fc-baa8-6fb8c5e7e220",
   "metadata": {},
   "outputs": [
    {
     "data": {
      "text/plain": [
       "{'5519392240784375808': 100}"
      ]
     },
     "execution_count": 39,
     "metadata": {},
     "output_type": "execute_result"
    }
   ],
   "source": [
    "endpoint.traffic_split"
   ]
  },
  {
   "cell_type": "code",
   "execution_count": 40,
   "id": "3de11572-b5e9-4d1b-9668-8490c01e400f",
   "metadata": {},
   "outputs": [
    {
     "data": {
      "text/plain": [
       "[id: \"5519392240784375808\"\n",
       " model: \"projects/1026793852137/locations/us-central1/models/bqml_bqml_pca\"\n",
       " display_name: \"bqml_bqml_pca\"\n",
       " create_time {\n",
       "   seconds: 1687890551\n",
       "   nanos: 97797000\n",
       " }\n",
       " dedicated_resources {\n",
       "   machine_spec {\n",
       "     machine_type: \"n1-standard-2\"\n",
       "   }\n",
       "   min_replica_count: 1\n",
       "   max_replica_count: 1\n",
       " }\n",
       " disable_container_logging: true\n",
       " model_version_id: \"1\"]"
      ]
     },
     "execution_count": 40,
     "metadata": {},
     "output_type": "execute_result"
    }
   ],
   "source": [
    "deployed_models = endpoint.list_models()\n",
    "deployed_models"
   ]
  },
  {
   "cell_type": "markdown",
   "id": "34f57cb2-dd02-4bb9-97f6-2d5b0098ca1c",
   "metadata": {},
   "source": [
    "### Deploy Model To Vertex AI Endpoint\n",
    "\n",
    "**NOTE: This can take 15+ minutes to complete.**\n",
    "\n",
    "Reference:\n",
    "- [aiplatform.Endpoint.deploy()](https://cloud.google.com/python/docs/reference/aiplatform/latest/google.cloud.aiplatform.Endpoint#google_cloud_aiplatform_Endpoint_deploy)"
   ]
  },
  {
   "cell_type": "code",
   "execution_count": 41,
   "id": "d749ec48-d977-4bc0-9ca8-eb707dd8df14",
   "metadata": {},
   "outputs": [
    {
     "name": "stdout",
     "output_type": "stream",
     "text": [
      "Deploying Model projects/1026793852137/locations/us-central1/models/bqml_bqml_kmeans to Endpoint : projects/1026793852137/locations/us-central1/endpoints/5386265571916513280\n"
     ]
    },
    {
     "name": "stderr",
     "output_type": "stream",
     "text": [
      "INFO:google.cloud.aiplatform.models:Deploying Model projects/1026793852137/locations/us-central1/models/bqml_bqml_kmeans to Endpoint : projects/1026793852137/locations/us-central1/endpoints/5386265571916513280\n"
     ]
    },
    {
     "name": "stdout",
     "output_type": "stream",
     "text": [
      "Deploy Endpoint model backing LRO: projects/1026793852137/locations/us-central1/endpoints/5386265571916513280/operations/5574600025285066752\n"
     ]
    },
    {
     "name": "stderr",
     "output_type": "stream",
     "text": [
      "INFO:google.cloud.aiplatform.models:Deploy Endpoint model backing LRO: projects/1026793852137/locations/us-central1/endpoints/5386265571916513280/operations/5574600025285066752\n"
     ]
    },
    {
     "name": "stdout",
     "output_type": "stream",
     "text": [
      "Endpoint model deployed. Resource name: projects/1026793852137/locations/us-central1/endpoints/5386265571916513280\n"
     ]
    },
    {
     "name": "stderr",
     "output_type": "stream",
     "text": [
      "INFO:google.cloud.aiplatform.models:Endpoint model deployed. Resource name: projects/1026793852137/locations/us-central1/endpoints/5386265571916513280\n"
     ]
    }
   ],
   "source": [
    "endpoint.deploy(\n",
    "    model = vertex_model,\n",
    "    deployed_model_display_name = vertex_model.display_name,\n",
    "    traffic_percentage = 100,\n",
    "    machine_type = 'n1-standard-2',\n",
    "    min_replica_count = 1,\n",
    "    max_replica_count = 1\n",
    ")"
   ]
  },
  {
   "cell_type": "code",
   "execution_count": 42,
   "id": "ba7019a3-1c98-4819-9a6b-f845e7290cac",
   "metadata": {},
   "outputs": [
    {
     "data": {
      "text/plain": [
       "[id: \"5482237543858569216\"\n",
       " model: \"projects/1026793852137/locations/us-central1/models/bqml_bqml_kmeans\"\n",
       " display_name: \"bqml_bqml_kmeans\"\n",
       " create_time {\n",
       "   seconds: 1687892185\n",
       "   nanos: 687155000\n",
       " }\n",
       " dedicated_resources {\n",
       "   machine_spec {\n",
       "     machine_type: \"n1-standard-2\"\n",
       "   }\n",
       "   min_replica_count: 1\n",
       "   max_replica_count: 1\n",
       " }\n",
       " disable_container_logging: true\n",
       " model_version_id: \"1\",\n",
       " id: \"5519392240784375808\"\n",
       " model: \"projects/1026793852137/locations/us-central1/models/bqml_bqml_pca\"\n",
       " display_name: \"bqml_bqml_pca\"\n",
       " create_time {\n",
       "   seconds: 1687890551\n",
       "   nanos: 97797000\n",
       " }\n",
       " dedicated_resources {\n",
       "   machine_spec {\n",
       "     machine_type: \"n1-standard-2\"\n",
       "   }\n",
       "   min_replica_count: 1\n",
       "   max_replica_count: 1\n",
       " }\n",
       " disable_container_logging: true\n",
       " model_version_id: \"1\"]"
      ]
     },
     "execution_count": 42,
     "metadata": {},
     "output_type": "execute_result"
    }
   ],
   "source": [
    "endpoint.list_models()"
   ]
  },
  {
   "cell_type": "markdown",
   "id": "898b24db-276b-4566-9ea4-79f7592e359a",
   "metadata": {},
   "source": [
    "### Remove Deployed Models without Traffic"
   ]
  },
  {
   "cell_type": "code",
   "execution_count": 43,
   "id": "f347f281-1ce2-4e74-bde2-b8e74c709144",
   "metadata": {},
   "outputs": [
    {
     "name": "stdout",
     "output_type": "stream",
     "text": [
      "Model bqml_bqml_kmeans with version 1 has traffic = 100\n",
      "Undeploying Endpoint model: projects/1026793852137/locations/us-central1/endpoints/5386265571916513280\n"
     ]
    },
    {
     "name": "stderr",
     "output_type": "stream",
     "text": [
      "INFO:google.cloud.aiplatform.models:Undeploying Endpoint model: projects/1026793852137/locations/us-central1/endpoints/5386265571916513280\n"
     ]
    },
    {
     "name": "stdout",
     "output_type": "stream",
     "text": [
      "Undeploy Endpoint model backing LRO: projects/1026793852137/locations/us-central1/endpoints/5386265571916513280/operations/4725108545572306944\n"
     ]
    },
    {
     "name": "stderr",
     "output_type": "stream",
     "text": [
      "INFO:google.cloud.aiplatform.models:Undeploy Endpoint model backing LRO: projects/1026793852137/locations/us-central1/endpoints/5386265571916513280/operations/4725108545572306944\n"
     ]
    },
    {
     "name": "stdout",
     "output_type": "stream",
     "text": [
      "Endpoint model undeployed. Resource name: projects/1026793852137/locations/us-central1/endpoints/5386265571916513280\n"
     ]
    },
    {
     "name": "stderr",
     "output_type": "stream",
     "text": [
      "INFO:google.cloud.aiplatform.models:Endpoint model undeployed. Resource name: projects/1026793852137/locations/us-central1/endpoints/5386265571916513280\n"
     ]
    },
    {
     "name": "stdout",
     "output_type": "stream",
     "text": [
      "Undeploying bqml_bqml_pca with version 1 because it has no traffic.\n"
     ]
    }
   ],
   "source": [
    "for deployed_model in endpoint.list_models():\n",
    "    if deployed_model.id in endpoint.traffic_split:\n",
    "        print(f\"Model {deployed_model.display_name} with version {deployed_model.model_version_id} has traffic = {endpoint.traffic_split[deployed_model.id]}\")\n",
    "    else:\n",
    "        endpoint.undeploy(deployed_model_id = deployed_model.id)\n",
    "        print(f\"Undeploying {deployed_model.display_name} with version {deployed_model.model_version_id} because it has no traffic.\")"
   ]
  },
  {
   "cell_type": "code",
   "execution_count": 44,
   "id": "fd47dd42-fc0c-4a13-ab42-ebe63fcd658e",
   "metadata": {},
   "outputs": [
    {
     "data": {
      "text/plain": [
       "{'5482237543858569216': 100}"
      ]
     },
     "execution_count": 44,
     "metadata": {},
     "output_type": "execute_result"
    }
   ],
   "source": [
    "endpoint.traffic_split"
   ]
  },
  {
   "cell_type": "code",
   "execution_count": 45,
   "id": "c4dd99d8-2ecf-41a5-855b-2d5ca0deb5af",
   "metadata": {},
   "outputs": [],
   "source": [
    "#endpoint.list_models()"
   ]
  },
  {
   "cell_type": "markdown",
   "id": "ba4bbd7a-5f2f-45f7-9976-cb6bab7b5153",
   "metadata": {},
   "source": [
    "---\n",
    "## Predictions With Vertex AI Endpoint"
   ]
  },
  {
   "cell_type": "markdown",
   "id": "743bad04-bd7d-4947-bd43-b6e53286aeeb",
   "metadata": {},
   "source": [
    "### Retrieve Records For Prediction"
   ]
  },
  {
   "cell_type": "code",
   "execution_count": 46,
   "id": "8f14e7e9-60bf-425a-97a6-e38636a3ac5d",
   "metadata": {},
   "outputs": [],
   "source": [
    "n = 10\n",
    "pred = bq.query(\n",
    "    query = f\"\"\"\n",
    "        SELECT * EXCEPT({VAR_TARGET}, {VAR_OMIT}, splits)\n",
    "        FROM {BQ_PROJECT}.{BQ_DATASET}.{BQ_TABLE}\n",
    "        WHERE splits='TEST'\n",
    "        LIMIT {n}\n",
    "        \"\"\"\n",
    ").to_dataframe()"
   ]
  },
  {
   "cell_type": "markdown",
   "id": "d3aa5889-c3e9-40f1-ab06-ebbc61505087",
   "metadata": {},
   "source": [
    "Shape as instances: dictionaries of key:value pairs for only features used in model"
   ]
  },
  {
   "cell_type": "code",
   "execution_count": 47,
   "id": "c30fc1dc-e0d9-498a-adb4-33de987a47ac",
   "metadata": {},
   "outputs": [],
   "source": [
    "newobs = pred.to_dict(orient = 'records')"
   ]
  },
  {
   "cell_type": "code",
   "execution_count": 48,
   "id": "fa845eb3-7f5d-40fd-999c-ea87bce527b7",
   "metadata": {},
   "outputs": [
    {
     "data": {
      "text/plain": [
       "{'Time': 35337,\n",
       " 'V1': 1.0928441854981998,\n",
       " 'V2': -0.0132303486713432,\n",
       " 'V3': 1.35982868199426,\n",
       " 'V4': 2.7315370965921004,\n",
       " 'V5': -0.707357349219652,\n",
       " 'V6': 0.8738370029866129,\n",
       " 'V7': -0.7961301510622031,\n",
       " 'V8': 0.437706509544851,\n",
       " 'V9': 0.39676985012996396,\n",
       " 'V10': 0.587438102569443,\n",
       " 'V11': -0.14979756231827498,\n",
       " 'V12': 0.29514781622888103,\n",
       " 'V13': -1.30382621882143,\n",
       " 'V14': -0.31782283120234495,\n",
       " 'V15': -2.03673231037199,\n",
       " 'V16': 0.376090905274179,\n",
       " 'V17': -0.30040350116459497,\n",
       " 'V18': 0.433799615590844,\n",
       " 'V19': -0.145082264348681,\n",
       " 'V20': -0.240427548108996,\n",
       " 'V21': 0.0376030733329398,\n",
       " 'V22': 0.38002620963091405,\n",
       " 'V23': -0.16764742731151097,\n",
       " 'V24': 0.0275573495476881,\n",
       " 'V25': 0.59211469704354,\n",
       " 'V26': 0.219695164116351,\n",
       " 'V27': 0.0369695108704894,\n",
       " 'V28': 0.010984441006191,\n",
       " 'Amount': 0.0}"
      ]
     },
     "execution_count": 48,
     "metadata": {},
     "output_type": "execute_result"
    }
   ],
   "source": [
    "newobs[0]"
   ]
  },
  {
   "cell_type": "markdown",
   "id": "ae75ece2-5157-48ed-9c42-8ebbbb9f7d9f",
   "metadata": {},
   "source": [
    "### Get Predictions: Python Client"
   ]
  },
  {
   "cell_type": "code",
   "execution_count": 49,
   "id": "020d6feb-567e-413d-b39e-38d1c39333f7",
   "metadata": {},
   "outputs": [
    {
     "data": {
      "text/plain": [
       "Prediction(predictions=[{'centroid_ids': [1.0, 2.0, 3.0, 4.0, 5.0, 6.0, 7.0, 8.0, 9.0, 10.0, 11.0, 12.0, 13.0, 14.0, 15.0, 16.0, 17.0, 18.0, 19.0, 20.0, 21.0, 22.0, 23.0, 24.0, 25.0, 26.0, 27.0, 28.0, 29.0, 30.0, 31.0, 32.0, 33.0, 34.0, 35.0, 36.0, 37.0, 38.0, 39.0, 40.0, 41.0, 42.0, 43.0, 44.0, 45.0, 46.0, 47.0, 48.0, 49.0, 50.0, 51.0, 52.0, 53.0, 54.0, 55.0, 56.0, 57.0, 58.0, 59.0, 60.0, 61.0, 62.0, 63.0, 64.0, 65.0, 66.0, 67.0, 68.0, 69.0, 70.0, 71.0, 72.0, 73.0, 74.0], 'nearest_centroid_id': [39.0], 'centroid_distances': [13.23789826721476, 217.4800074974677, 92.22232600410675, 12.26636668116406, 57.30162074938485, 34.28669919755373, 34.2790764338267, 25.53312146211497, 21.90814544875137, 5.083083480636784, 56.39760953614334, 56.14530628172869, 36.80068922517899, 63.59219364169314, 59.80710268068614, 26.01503403118913, 9.334920797592687, 32.29388336308778, 31.49011098590317, 5.131959018543061, 40.65485813007872, 12.35058265635499, 4.981816277649874, 6.143780147500697, 7.874824223324153, 3.917201312436615, 10.82771531260943, 4.943739987193777, 3.591697796320165, 5.736996165473569, 9.780988890945412, 5.266197949400524, 39.65914154728213, 18.25945911040717, 16.16072262763721, 5.22842192963458, 5.005797689019346, 7.633796483815368, 3.159656661594831, 22.35701883626596, 6.203029218094426, 4.514265986102698, 9.005017026031267, 41.65789929473392, 25.62181443414133, 6.920453635397421, 5.640987316499046, 5.554920275755099, 16.83531018734191, 5.586333063280024, 5.778289615085799, 4.921147047736927, 5.096285514279495, 4.29915012143784, 11.12822763586328, 4.631058425699085, 5.242095675768606, 4.038141223653235, 6.146096851589508, 4.558873835843797, 5.57160386867951, 6.638425281162152, 5.14037642839696, 6.36955422827297, 5.48946162240445, 19.71483785810158, 6.526698344175985, 6.386672370552036, 9.381493226747326, 5.166631667567699, 4.938681299556666, 9.666296766532682, 10.70051983890008, 9.96976147833689]}], deployed_model_id='5482237543858569216', model_version_id='1', model_resource_name='projects/1026793852137/locations/us-central1/models/bqml_bqml_kmeans', explanations=None)"
      ]
     },
     "execution_count": 49,
     "metadata": {},
     "output_type": "execute_result"
    }
   ],
   "source": [
    "prediction = endpoint.predict(instances = newobs[0:1])\n",
    "prediction"
   ]
  },
  {
   "cell_type": "code",
   "execution_count": 50,
   "id": "0d3966e5-f45c-4bd6-88a5-108318075c4b",
   "metadata": {},
   "outputs": [
    {
     "data": {
      "text/plain": [
       "{'centroid_ids': [1.0,\n",
       "  2.0,\n",
       "  3.0,\n",
       "  4.0,\n",
       "  5.0,\n",
       "  6.0,\n",
       "  7.0,\n",
       "  8.0,\n",
       "  9.0,\n",
       "  10.0,\n",
       "  11.0,\n",
       "  12.0,\n",
       "  13.0,\n",
       "  14.0,\n",
       "  15.0,\n",
       "  16.0,\n",
       "  17.0,\n",
       "  18.0,\n",
       "  19.0,\n",
       "  20.0,\n",
       "  21.0,\n",
       "  22.0,\n",
       "  23.0,\n",
       "  24.0,\n",
       "  25.0,\n",
       "  26.0,\n",
       "  27.0,\n",
       "  28.0,\n",
       "  29.0,\n",
       "  30.0,\n",
       "  31.0,\n",
       "  32.0,\n",
       "  33.0,\n",
       "  34.0,\n",
       "  35.0,\n",
       "  36.0,\n",
       "  37.0,\n",
       "  38.0,\n",
       "  39.0,\n",
       "  40.0,\n",
       "  41.0,\n",
       "  42.0,\n",
       "  43.0,\n",
       "  44.0,\n",
       "  45.0,\n",
       "  46.0,\n",
       "  47.0,\n",
       "  48.0,\n",
       "  49.0,\n",
       "  50.0,\n",
       "  51.0,\n",
       "  52.0,\n",
       "  53.0,\n",
       "  54.0,\n",
       "  55.0,\n",
       "  56.0,\n",
       "  57.0,\n",
       "  58.0,\n",
       "  59.0,\n",
       "  60.0,\n",
       "  61.0,\n",
       "  62.0,\n",
       "  63.0,\n",
       "  64.0,\n",
       "  65.0,\n",
       "  66.0,\n",
       "  67.0,\n",
       "  68.0,\n",
       "  69.0,\n",
       "  70.0,\n",
       "  71.0,\n",
       "  72.0,\n",
       "  73.0,\n",
       "  74.0],\n",
       " 'nearest_centroid_id': [39.0],\n",
       " 'centroid_distances': [13.23789826721476,\n",
       "  217.4800074974677,\n",
       "  92.22232600410675,\n",
       "  12.26636668116406,\n",
       "  57.30162074938485,\n",
       "  34.28669919755373,\n",
       "  34.2790764338267,\n",
       "  25.53312146211497,\n",
       "  21.90814544875137,\n",
       "  5.083083480636784,\n",
       "  56.39760953614334,\n",
       "  56.14530628172869,\n",
       "  36.80068922517899,\n",
       "  63.59219364169314,\n",
       "  59.80710268068614,\n",
       "  26.01503403118913,\n",
       "  9.334920797592687,\n",
       "  32.29388336308778,\n",
       "  31.49011098590317,\n",
       "  5.131959018543061,\n",
       "  40.65485813007872,\n",
       "  12.35058265635499,\n",
       "  4.981816277649874,\n",
       "  6.143780147500697,\n",
       "  7.874824223324153,\n",
       "  3.917201312436615,\n",
       "  10.82771531260943,\n",
       "  4.943739987193777,\n",
       "  3.591697796320165,\n",
       "  5.736996165473569,\n",
       "  9.780988890945412,\n",
       "  5.266197949400524,\n",
       "  39.65914154728213,\n",
       "  18.25945911040717,\n",
       "  16.16072262763721,\n",
       "  5.22842192963458,\n",
       "  5.005797689019346,\n",
       "  7.633796483815368,\n",
       "  3.159656661594831,\n",
       "  22.35701883626596,\n",
       "  6.203029218094426,\n",
       "  4.514265986102698,\n",
       "  9.005017026031267,\n",
       "  41.65789929473392,\n",
       "  25.62181443414133,\n",
       "  6.920453635397421,\n",
       "  5.640987316499046,\n",
       "  5.554920275755099,\n",
       "  16.83531018734191,\n",
       "  5.586333063280024,\n",
       "  5.778289615085799,\n",
       "  4.921147047736927,\n",
       "  5.096285514279495,\n",
       "  4.29915012143784,\n",
       "  11.12822763586328,\n",
       "  4.631058425699085,\n",
       "  5.242095675768606,\n",
       "  4.038141223653235,\n",
       "  6.146096851589508,\n",
       "  4.558873835843797,\n",
       "  5.57160386867951,\n",
       "  6.638425281162152,\n",
       "  5.14037642839696,\n",
       "  6.36955422827297,\n",
       "  5.48946162240445,\n",
       "  19.71483785810158,\n",
       "  6.526698344175985,\n",
       "  6.386672370552036,\n",
       "  9.381493226747326,\n",
       "  5.166631667567699,\n",
       "  4.938681299556666,\n",
       "  9.666296766532682,\n",
       "  10.70051983890008,\n",
       "  9.96976147833689]}"
      ]
     },
     "execution_count": 50,
     "metadata": {},
     "output_type": "execute_result"
    }
   ],
   "source": [
    "prediction.predictions[0]"
   ]
  },
  {
   "cell_type": "code",
   "execution_count": 51,
   "id": "fc8e8b4e-36b2-47b0-8010-37f704cff7b1",
   "metadata": {},
   "outputs": [
    {
     "data": {
      "text/plain": [
       "0"
      ]
     },
     "execution_count": 51,
     "metadata": {},
     "output_type": "execute_result"
    }
   ],
   "source": [
    "np.argmax(prediction.predictions[0])"
   ]
  },
  {
   "cell_type": "markdown",
   "id": "66d3692f-6479-4902-88e6-2421dd238dd7",
   "metadata": {},
   "source": [
    "### Get Predictions: REST\n",
    "Reference:\n",
    "- [POST https://{REGION}-aiplatform.googleapis.com/v1/{endpoint}:predict](https://cloud.google.com/python/docs/reference/aiplatform/latest/google.cloud.aiplatform_v1.services.prediction_service.PredictionServiceClient#google_cloud_aiplatform_v1_services_prediction_service_PredictionServiceClient_predict)"
   ]
  },
  {
   "cell_type": "markdown",
   "id": "d9695b8f-499f-4cc1-82fe-cb7407e040e6",
   "metadata": {},
   "source": [
    "Prepare request:"
   ]
  },
  {
   "cell_type": "code",
   "execution_count": 52,
   "id": "6a66d90a-9a02-422a-b182-9006fc3e51bc",
   "metadata": {},
   "outputs": [],
   "source": [
    "with open(f'{DIR}/request.json','w') as file:\n",
    "    file.write(json.dumps({\"instances\": newobs[0:1]}))"
   ]
  },
  {
   "cell_type": "markdown",
   "id": "5f87b826-69f0-42f0-a765-cee3d826832a",
   "metadata": {},
   "source": [
    "Prediction:"
   ]
  },
  {
   "cell_type": "code",
   "execution_count": 53,
   "id": "b05edb4c-a97c-4d7a-b668-5f9598fb6b30",
   "metadata": {},
   "outputs": [
    {
     "data": {
      "text/plain": [
       "['  % Total    % Received % Xferd  Average Speed   Time    Time     Time  Current',\n",
       " '                                 Dload  Upload   Total   Spent    Left  Speed',\n",
       " '',\n",
       " '  0     0    0     0    0     0      0      0 --:--:-- --:--:-- --:--:--     0',\n",
       " '100  4070    0  3275  100   795  71195  17282 --:--:-- --:--:-- --:--:-- 88478',\n",
       " '{',\n",
       " '  \"predictions\": [',\n",
       " '    {',\n",
       " '      \"centroid_ids\": [',\n",
       " '        1,',\n",
       " '        2,',\n",
       " '        3,',\n",
       " '        4,',\n",
       " '        5,',\n",
       " '        6,',\n",
       " '        7,',\n",
       " '        8,',\n",
       " '        9,',\n",
       " '        10,',\n",
       " '        11,',\n",
       " '        12,',\n",
       " '        13,',\n",
       " '        14,',\n",
       " '        15,',\n",
       " '        16,',\n",
       " '        17,',\n",
       " '        18,',\n",
       " '        19,',\n",
       " '        20,',\n",
       " '        21,',\n",
       " '        22,',\n",
       " '        23,',\n",
       " '        24,',\n",
       " '        25,',\n",
       " '        26,',\n",
       " '        27,',\n",
       " '        28,',\n",
       " '        29,',\n",
       " '        30,',\n",
       " '        31,',\n",
       " '        32,',\n",
       " '        33,',\n",
       " '        34,',\n",
       " '        35,',\n",
       " '        36,',\n",
       " '        37,',\n",
       " '        38,',\n",
       " '        39,',\n",
       " '        40,',\n",
       " '        41,',\n",
       " '        42,',\n",
       " '        43,',\n",
       " '        44,',\n",
       " '        45,',\n",
       " '        46,',\n",
       " '        47,',\n",
       " '        48,',\n",
       " '        49,',\n",
       " '        50,',\n",
       " '        51,',\n",
       " '        52,',\n",
       " '        53,',\n",
       " '        54,',\n",
       " '        55,',\n",
       " '        56,',\n",
       " '        57,',\n",
       " '        58,',\n",
       " '        59,',\n",
       " '        60,',\n",
       " '        61,',\n",
       " '        62,',\n",
       " '        63,',\n",
       " '        64,',\n",
       " '        65,',\n",
       " '        66,',\n",
       " '        67,',\n",
       " '        68,',\n",
       " '        69,',\n",
       " '        70,',\n",
       " '        71,',\n",
       " '        72,',\n",
       " '        73,',\n",
       " '        74',\n",
       " '      ],',\n",
       " '      \"centroid_distances\": [',\n",
       " '        13.23789826721476,',\n",
       " '        217.48000749746771,',\n",
       " '        92.222326004106748,',\n",
       " '        12.26636668116406,',\n",
       " '        57.301620749384853,',\n",
       " '        34.28669919755373,',\n",
       " '        34.2790764338267,',\n",
       " '        25.53312146211497,',\n",
       " '        21.90814544875137,',\n",
       " '        5.0830834806367839,',\n",
       " '        56.397609536143342,',\n",
       " '        56.145306281728693,',\n",
       " '        36.800689225178992,',\n",
       " '        63.592193641693143,',\n",
       " '        59.807102680686143,',\n",
       " '        26.015034031189131,',\n",
       " '        9.3349207975926873,',\n",
       " '        32.29388336308778,',\n",
       " '        31.490110985903168,',\n",
       " '        5.1319590185430606,',\n",
       " '        40.654858130078722,',\n",
       " '        12.350582656354989,',\n",
       " '        4.981816277649874,',\n",
       " '        6.1437801475006966,',\n",
       " '        7.8748242233241532,',\n",
       " '        3.9172013124366152,',\n",
       " '        10.827715312609429,',\n",
       " '        4.9437399871937773,',\n",
       " '        3.5916977963201648,',\n",
       " '        5.7369961654735686,',\n",
       " '        9.7809888909454124,',\n",
       " '        5.2661979494005244,',\n",
       " '        39.659141547282132,',\n",
       " '        18.259459110407171,',\n",
       " '        16.16072262763721,',\n",
       " '        5.22842192963458,',\n",
       " '        5.0057976890193459,',\n",
       " '        7.6337964838153676,',\n",
       " '        3.1596566615948309,',\n",
       " '        22.357018836265961,',\n",
       " '        6.203029218094426,',\n",
       " '        4.5142659861026981,',\n",
       " '        9.0050170260312665,',\n",
       " '        41.657899294733923,',\n",
       " '        25.621814434141331,',\n",
       " '        6.9204536353974211,',\n",
       " '        5.6409873164990456,',\n",
       " '        5.5549202757550988,',\n",
       " '        16.835310187341911,',\n",
       " '        5.5863330632800237,',\n",
       " '        5.7782896150857992,',\n",
       " '        4.9211470477369268,',\n",
       " '        5.0962855142794954,',\n",
       " '        4.29915012143784,',\n",
       " '        11.128227635863279,',\n",
       " '        4.6310584256990852,',\n",
       " '        5.2420956757686064,',\n",
       " '        4.038141223653235,',\n",
       " '        6.1460968515895082,',\n",
       " '        4.558873835843797,',\n",
       " '        5.57160386867951,',\n",
       " '        6.638425281162152,',\n",
       " '        5.14037642839696,',\n",
       " '        6.36955422827297,',\n",
       " '        5.48946162240445,',\n",
       " '        19.714837858101578,',\n",
       " '        6.5266983441759852,',\n",
       " '        6.3866723705520361,',\n",
       " '        9.3814932267473257,',\n",
       " '        5.1666316675676986,',\n",
       " '        4.9386812995566656,',\n",
       " '        9.6662967665326818,',\n",
       " '        10.70051983890008,',\n",
       " '        9.96976147833689',\n",
       " '      ],',\n",
       " '      \"nearest_centroid_id\": [',\n",
       " '        39',\n",
       " '      ]',\n",
       " '    }',\n",
       " '  ],',\n",
       " '  \"deployedModelId\": \"5482237543858569216\",',\n",
       " '  \"model\": \"projects/1026793852137/locations/us-central1/models/bqml_bqml_kmeans\",',\n",
       " '  \"modelDisplayName\": \"bqml_bqml_kmeans\",',\n",
       " '  \"modelVersionId\": \"1\"',\n",
       " '}']"
      ]
     },
     "execution_count": 53,
     "metadata": {},
     "output_type": "execute_result"
    }
   ],
   "source": [
    "prediction = !curl -X POST \\\n",
    "-H \"Authorization: Bearer \"$(gcloud auth application-default print-access-token) \\\n",
    "-H \"Content-Type: application/json; charset=utf-8\" \\\n",
    "-d @{DIR}/request.json \\\n",
    "https://{REGION}-aiplatform.googleapis.com/v1/{endpoint.resource_name}:predict\n",
    "\n",
    "prediction"
   ]
  },
  {
   "cell_type": "markdown",
   "id": "41c8d01a-544e-4de6-859e-ee5c35ca6bfb",
   "metadata": {},
   "source": [
    "Format raw prediction response using JSON:"
   ]
  },
  {
   "cell_type": "markdown",
   "id": "22b7d0e8-5328-4378-94c3-61ebcf97ec08",
   "metadata": {},
   "source": [
    "### Get Predictions: gcloud (CLI)\n",
    "Reference:\n",
    "- [gcloud ai endpoints predict](https://cloud.google.com/sdk/gcloud/reference/ai/endpoints/predict)"
   ]
  },
  {
   "cell_type": "markdown",
   "id": "92d9616b-680d-41c5-b8cb-7e08240ee689",
   "metadata": {},
   "source": [
    "Prepare request:"
   ]
  },
  {
   "cell_type": "code",
   "execution_count": 54,
   "id": "1b72c8d2-ca52-45eb-b89b-723e21a4fb64",
   "metadata": {},
   "outputs": [],
   "source": [
    "with open(f'{DIR}/request.json','w') as file:\n",
    "    file.write(json.dumps({\"instances\": newobs[0:1]}))"
   ]
  },
  {
   "cell_type": "markdown",
   "id": "a938734d-d095-4ee6-865b-22ed4f3fa058",
   "metadata": {},
   "source": [
    "Prediction:"
   ]
  },
  {
   "cell_type": "code",
   "execution_count": 55,
   "id": "9d83a53d-a94a-47b0-b93c-2f53b21c0ff1",
   "metadata": {},
   "outputs": [
    {
     "data": {
      "text/plain": [
       "['Using endpoint [https://us-central1-prediction-aiplatform.googleapis.com/]',\n",
       " \"[{'centroid_distances': [13.23789826721476, 217.4800074974677, 92.22232600410675, 12.26636668116406, 57.30162074938485, 34.28669919755373, 34.2790764338267, 25.53312146211497, 21.90814544875137, 5.083083480636784, 56.39760953614334, 56.14530628172869, 36.80068922517899, 63.59219364169314, 59.80710268068614, 26.01503403118913, 9.334920797592687, 32.29388336308778, 31.49011098590317, 5.131959018543061, 40.65485813007872, 12.35058265635499, 4.981816277649874, 6.143780147500697, 7.874824223324153, 3.917201312436615, 10.82771531260943, 4.943739987193777, 3.591697796320165, 5.736996165473569, 9.780988890945412, 5.266197949400524, 39.65914154728213, 18.25945911040717, 16.16072262763721, 5.22842192963458, 5.005797689019346, 7.633796483815368, 3.159656661594831, 22.35701883626596, 6.203029218094426, 4.514265986102698, 9.005017026031267, 41.65789929473392, 25.62181443414133, 6.920453635397421, 5.640987316499046, 5.554920275755099, 16.83531018734191, 5.586333063280024, 5.778289615085799, 4.921147047736927, 5.096285514279495, 4.29915012143784, 11.12822763586328, 4.631058425699085, 5.242095675768606, 4.038141223653235, 6.146096851589508, 4.558873835843797, 5.57160386867951, 6.638425281162152, 5.14037642839696, 6.36955422827297, 5.48946162240445, 19.71483785810158, 6.526698344175985, 6.386672370552036, 9.381493226747326, 5.166631667567699, 4.938681299556666, 9.666296766532682, 10.70051983890008, 9.96976147833689], 'centroid_ids': [1, 2, 3, 4, 5, 6, 7, 8, 9, 10, 11, 12, 13, 14, 15, 16, 17, 18, 19, 20, 21, 22, 23, 24, 25, 26, 27, 28, 29, 30, 31, 32, 33, 34, 35, 36, 37, 38, 39, 40, 41, 42, 43, 44, 45, 46, 47, 48, 49, 50, 51, 52, 53, 54, 55, 56, 57, 58, 59, 60, 61, 62, 63, 64, 65, 66, 67, 68, 69, 70, 71, 72, 73, 74], 'nearest_centroid_id': [39]}]\"]"
      ]
     },
     "execution_count": 55,
     "metadata": {},
     "output_type": "execute_result"
    }
   ],
   "source": [
    "prediction = !gcloud beta ai endpoints predict {endpoint.name.rsplit('/',1)[-1]} --region={REGION} --json-request={DIR}/request.json\n",
    "prediction"
   ]
  },
  {
   "cell_type": "markdown",
   "id": "c64e4b86-b0b8-44df-b0d3-acc5606b1a78",
   "metadata": {},
   "source": [
    "---\n",
    "## Export Model\n",
    "\n",
    "The model created in BigQuery ML can be exported to their native model types save files.  This process saves the model artifacts in GCS where they can be use anywhere they are needed.  For instance, they could be imported into the Vertex AI Model Registry for use in online and batch serving - however, this process is automated with the training options use above."
   ]
  },
  {
   "cell_type": "markdown",
   "id": "5582be84-1622-41a6-ac56-0d84def7a096",
   "metadata": {},
   "source": [
    "### Export the BigQuery Model\n",
    "\n",
    "\n",
    "The models trained in BQML can be exported from BigQuery to GCS:\n",
    "\n",
    "Reference:\n",
    "- [Exporting Models](https://cloud.google.com/bigquery-ml/docs/exporting-models)"
   ]
  },
  {
   "cell_type": "code",
   "execution_count": 56,
   "id": "b1101869-7067-496c-a913-6da79e536c62",
   "metadata": {},
   "outputs": [
    {
     "data": {
      "text/plain": [
       "<google.cloud.bigquery.table._EmptyRowIterator at 0x7f08d502b0d0>"
      ]
     },
     "execution_count": 56,
     "metadata": {},
     "output_type": "execute_result"
    }
   ],
   "source": [
    "query = f\"\"\"\n",
    "EXPORT MODEL `{BQ_PROJECT}.{BQ_DATASET}.{BQ_MODEL}`\n",
    "    OPTIONS (URI = 'gs://{BUCKET}/{SERIES}/{EXPERIMENT}/models/{TIMESTAMP}/model')\n",
    "\"\"\"\n",
    "export = bq.query(query = query)\n",
    "export.result()"
   ]
  },
  {
   "cell_type": "code",
   "execution_count": 57,
   "id": "8f763ae4-565a-452f-921f-d0795c229315",
   "metadata": {},
   "outputs": [
    {
     "data": {
      "text/plain": [
       "43.561"
      ]
     },
     "execution_count": 57,
     "metadata": {},
     "output_type": "execute_result"
    }
   ],
   "source": [
    "(export.ended - export.started).total_seconds()"
   ]
  },
  {
   "cell_type": "code",
   "execution_count": 58,
   "id": "4a6f4d6d-c07a-4083-ae9c-6c1b79227ce9",
   "metadata": {},
   "outputs": [
    {
     "data": {
      "text/plain": [
       "['gs://statmike-mlops-349915/bqml/kmeans/models/20230627152843/model/',\n",
       " 'gs://statmike-mlops-349915/bqml/kmeans/models/20230627152843/model/fingerprint.pb',\n",
       " 'gs://statmike-mlops-349915/bqml/kmeans/models/20230627152843/model/saved_model.pb',\n",
       " 'gs://statmike-mlops-349915/bqml/kmeans/models/20230627152843/model/variables/']"
      ]
     },
     "execution_count": 58,
     "metadata": {},
     "output_type": "execute_result"
    }
   ],
   "source": [
    "listing = !gsutil ls gs://{BUCKET}/{SERIES}/{EXPERIMENT}/models/{TIMESTAMP}/model\n",
    "listing"
   ]
  },
  {
   "cell_type": "code",
   "execution_count": 59,
   "id": "8c523ecb-b0da-4590-9a60-4da94da1051e",
   "metadata": {},
   "outputs": [
    {
     "name": "stdout",
     "output_type": "stream",
     "text": [
      "View the export in the console:\n",
      "https://console.cloud.google.com/storage/browser/statmike-mlops-349915/bqml/kmeans/models/20230627152843/model?project=statmike-mlops-349915\n"
     ]
    }
   ],
   "source": [
    "print(f\"View the export in the console:\\nhttps://console.cloud.google.com/storage/browser/{BUCKET}/{SERIES}/{EXPERIMENT}/models/{TIMESTAMP}/model?project={PROJECT_ID}\")"
   ]
  },
  {
   "cell_type": "markdown",
   "id": "e7bbad29-247c-42dc-9545-fe1160d24721",
   "metadata": {},
   "source": [
    "### Detect The Model Types Framework"
   ]
  },
  {
   "cell_type": "code",
   "execution_count": 60,
   "id": "8db83a4c-2ea0-486d-aee3-ba39331bbad1",
   "metadata": {},
   "outputs": [
    {
     "name": "stdout",
     "output_type": "stream",
     "text": [
      "framework = TensorFlow\n"
     ]
    }
   ],
   "source": [
    "filetype = {'pb': 'TensorFlow', 'bst': 'XGBoost'}\n",
    "\n",
    "filetypes = [filetype[f.split('.')[-1]] for f in listing if f.split('.')[-1] in ['pb','bst']]\n",
    "if len(list(set(filetypes))) == 1:\n",
    "    framework = filetypes[0]\n",
    "    print(f'framework = {framework}')\n",
    "else:\n",
    "    raise TypeError(f\"Model Type Undeteremined!! Review the contents of of 'listing = {listing}'.\")"
   ]
  },
  {
   "cell_type": "code",
   "execution_count": 61,
   "id": "cf917760-84c4-4d36-a01f-8c9767653ec0",
   "metadata": {},
   "outputs": [
    {
     "data": {
      "text/plain": [
       "['TensorFlow']"
      ]
     },
     "execution_count": 61,
     "metadata": {},
     "output_type": "execute_result"
    }
   ],
   "source": [
    "list(set(filetypes))"
   ]
  },
  {
   "cell_type": "markdown",
   "id": "2d1726f9-1308-40f3-a41f-1e6b7c786b8c",
   "metadata": {},
   "source": [
    "---\n",
    "## Remove Resources\n",
    "\n",
    "The following cells have commented out statements that can be used to remove resources created by this notebook.  Other notebooks in the repository will reusue the same endpoint so it may be desired to not remove the endpoint if you plan to run additional notebooks.  Otherwise, please removed the endpoint to prevent ongoing cost from hosting the models on Vertex AI Endpoints.\n",
    "\n",
    "Similarly, if you want to remove the model from BQML to prevent the minimal storage cost it will automatically be removed from Vertex AI Model Registry as well."
   ]
  },
  {
   "cell_type": "code",
   "execution_count": 100,
   "id": "c384a8ed-f513-46b3-9ff4-f4773a61d33e",
   "metadata": {},
   "outputs": [],
   "source": [
    "# delete endpoint, use `force` incase models are deployed or undeploy them first\n",
    "#endpoint.delete(force = True)"
   ]
  },
  {
   "cell_type": "code",
   "execution_count": 99,
   "id": "4574595b-3b47-42b8-8edb-73639205e0e2",
   "metadata": {},
   "outputs": [],
   "source": [
    "# delete models created in BQ with BQML - this also removes them from Vertex AI Model Registry\n",
    "#bq.delete_model(model)"
   ]
  }
 ],
 "metadata": {
  "environment": {
   "kernel": "python3",
   "name": "tf2-gpu.2-11.m104",
   "type": "gcloud",
   "uri": "gcr.io/deeplearning-platform-release/tf2-gpu.2-11:m104"
  },
  "kernelspec": {
   "display_name": "Python 3 (ipykernel)",
   "language": "python",
   "name": "python3"
  },
  "language_info": {
   "codemirror_mode": {
    "name": "ipython",
    "version": 3
   },
   "file_extension": ".py",
   "mimetype": "text/x-python",
   "name": "python",
   "nbconvert_exporter": "python",
   "pygments_lexer": "ipython3",
   "version": "3.7.12"
  }
 },
 "nbformat": 4,
 "nbformat_minor": 5
}
