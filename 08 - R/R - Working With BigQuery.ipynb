{
 "cells": [
  {
   "cell_type": "markdown",
   "id": "ee3c8e34",
   "metadata": {},
   "source": [
    "![ga4](https://www.google-analytics.com/collect?v=2&tid=G-6VDTYWLKX6&cid=1&en=page_view&sid=1&dl=statmike%2Fvertex-ai-mlops%2F08+-+R&dt=R+-+Working+With+BigQuery.ipynb)\n",
    "<!--- header table --->\n",
    "<table align=\"left\">\n",
    "  <td style=\"text-align: center\">\n",
    "    <a href=\"https://colab.research.google.com/github/statmike/vertex-ai-mlops/blob/main/08%20-%20R/R%20-%20Working%20With%20BigQuery.ipynb\">\n",
    "      <img src=\"https://cloud.google.com/ml-engine/images/colab-logo-32px.png\" alt=\"Google Colaboratory logo\">\n",
    "      <br>Run in<br>Colab\n",
    "    </a>\n",
    "  </td>\n",
    "  <td style=\"text-align: center\">\n",
    "    <a href=\"https://console.cloud.google.com/vertex-ai/colab/import/https%3A//raw.githubusercontent.com/statmike/vertex-ai-mlops/main/08%20-%20R/R%20-%20Working%20With%20BigQuery.ipynb\">\n",
    "      <img width=\"32px\" src=\"https://lh3.googleusercontent.com/JmcxdQi-qOpctIvWKgPtrzZdJJK-J3sWE1RsfjZNwshCFgE_9fULcNpuXYTilIR2hjwN\" alt=\"Google Cloud Colab Enterprise logo\">\n",
    "      <br>Run in<br>Colab Enterprise\n",
    "    </a>\n",
    "  </td>      \n",
    "  <td style=\"text-align: center\">\n",
    "    <a href=\"https://github.com/statmike/vertex-ai-mlops/blob/main/08%20-%20R/R%20-%20Working%20With%20BigQuery.ipynb\">\n",
    "      <img src=\"https://cloud.google.com/ml-engine/images/github-logo-32px.png\" alt=\"GitHub logo\">\n",
    "      <br>View on<br>GitHub\n",
    "    </a>\n",
    "  </td>\n",
    "  <td style=\"text-align: center\">\n",
    "    <a href=\"https://console.cloud.google.com/vertex-ai/workbench/deploy-notebook?download_url=https%3A//raw.githubusercontent.com/statmike/vertex-ai-mlops/main/08%20-%20R/R%20-%20Working%20With%20BigQuery.ipynb\">\n",
    "      <img src=\"https://lh3.googleusercontent.com/UiNooY4LUgW_oTvpsNhPpQzsstV5W8F7rYgxgGBD85cWJoLmrOzhVs_ksK_vgx40SHs7jCqkTkCk=e14-rj-sc0xffffff-h130-w32\" alt=\"Vertex AI logo\">\n",
    "      <br>Open in<br>Vertex AI Workbench\n",
    "    </a>\n",
    "  </td>\n",
    "</table>"
   ]
  },
  {
   "cell_type": "markdown",
   "id": "4b8a7fdd-8f82-497e-8d45-9ca22e053d05",
   "metadata": {},
   "source": [
    "# R - Working With BigQuery\n",
    "\n",
    "Working with BigQuery and getting data from BigQuery into R.  This workflow covers multiple ways - all from R.\n",
    "\n",
    "---\n",
    "Part of the series of [**R**](https://github.com/statmike/vertex-ai-mlops/blob/main/08%20-%20R/readme.md) workflows:\n",
    "\n",
    "A series of workflows focused on using **R** in Vertex AI as well as other Google Cloud services to run R code, train models with R, and serve predictionns with R.\n",
    "\n",
    "---\n",
    "\n",
    "**The Data**\n",
    "\n",
    "The source data is first exported to Google Cloud Storage in CSV format below.  The BigQuery source table is `bigquery-public-data.ml_datasets.ulb_fraud_detection`.  This is a table of credit card transactions that are classified as fradulant, `Class = 1`, or normal `Class = 0`.    \n",
    "- The data can be researched further at this [Kaggle link](https://www.kaggle.com/mlg-ulb/creditcardfraud).\n",
    "- Read mode about BigQuery public datasets [here](https://cloud.google.com/bigquery/public-data)\n",
    "\n",
    "**Description of the Data**\n",
    "\n",
    "This is a table of 284,807 credit card transactions classified as fradulant or normal in the column `Class`.  In order protect confidentiality, the original features have been transformed using [principle component analysis (PCA)](https://en.wikipedia.org/wiki/Principal_component_analysis) into 28 features named `V1, V2, ... V28` (float).  Two descriptive features are provided without transformation by PCA:\n",
    "- `Time` (integer) is the seconds elapsed between the transaction and the earliest transaction in the table\n",
    "- `Amount` (float) is the value of the transaction\n",
    ">**Quick Note on PCA**<p>PCA is an unsupervised learning technique: there is not a target variable.  PCA is commonly used as a variable/feature reduction technique.  If you have 100 features then you could reduce it to a number p (say 10) projected features.  The choice of this number is a balance of how well it can explain the variance of the full feature space and reducing the number of features.  Each projected feature is orthogonal to each other feature, meaning there is no correlation between these new projected features.</p>\n",
    "\n",
    "---\n",
    "\n",
    "**Prerequisites:**\n",
    "\n",
    "- This notebook running in Vertex AI Workbench Instance as described in the series [readme](./readme.md)"
   ]
  },
  {
   "cell_type": "markdown",
   "id": "6ff914c4-b374-4c9d-a418-436ba2131730",
   "metadata": {},
   "source": [
    "---\n",
    "## Setup"
   ]
  },
  {
   "cell_type": "markdown",
   "id": "c274d145-3778-4184-ba51-e76df9567836",
   "metadata": {},
   "source": [
    "inputs:"
   ]
  },
  {
   "cell_type": "code",
   "execution_count": 1,
   "id": "a343030b-16cb-4ce2-92e2-db62c4348697",
   "metadata": {
    "tags": []
   },
   "outputs": [
    {
     "data": {
      "text/html": [
       "'statmike-mlops-349915'"
      ],
      "text/latex": [
       "'statmike-mlops-349915'"
      ],
      "text/markdown": [
       "'statmike-mlops-349915'"
      ],
      "text/plain": [
       "[1] \"statmike-mlops-349915\""
      ]
     },
     "metadata": {},
     "output_type": "display_data"
    }
   ],
   "source": [
    "project_id <- system('gcloud config get-value project', intern = TRUE)\n",
    "project_id"
   ]
  },
  {
   "cell_type": "code",
   "execution_count": 2,
   "id": "ac842a28-0026-468a-a865-65465e68006b",
   "metadata": {
    "tags": []
   },
   "outputs": [],
   "source": [
    "region <- 'us-central1'\n",
    "experiment <- 'bigquery-data'\n",
    "series <- 'r'\n",
    "\n",
    "# BigQuery Parameters\n",
    "bq_project <- project_id\n",
    "bq_dataset <- series\n",
    "bq_table <- experiment\n",
    "bq_region <- substr(region, 1, 2)\n",
    "bq_source <- 'bigquery-public-data.ml_datasets.ulb_fraud_detection'\n",
    "\n",
    "# GCS Parameters: Give bucket name\n",
    "gcs_bucket <- project_id\n",
    "\n",
    "# key columns in the data:\n",
    "var_target <- 'Class'\n",
    "var_omit <- list('transaction_id', 'splits')"
   ]
  },
  {
   "cell_type": "markdown",
   "id": "504ea83a-0232-4901-aeaf-432640a7f0a5",
   "metadata": {},
   "source": [
    "packages:"
   ]
  },
  {
   "cell_type": "code",
   "execution_count": 4,
   "id": "0c50e5ac-cba2-4bab-9606-f3fddb989c45",
   "metadata": {
    "tags": []
   },
   "outputs": [],
   "source": [
    "library(bigrquery)\n",
    "library(DBI)\n",
    "library(dplyr)"
   ]
  },
  {
   "cell_type": "markdown",
   "id": "9b9ec192-847e-4057-82c7-8610a2db1bfc",
   "metadata": {
    "tags": []
   },
   "source": [
    "---\n",
    "\n",
    "## Reading From BigQuery\n",
    "\n",
    "In using the `bigrquery` package there are three ways to retrieve data from BigQuery.  These are covered below and are good for smaller data sizes (<100MB).  An alternative is also covered that works for any data size.\n",
    "\n",
    "- Reference for [`bigrquery`](https://bigrquery.r-dbi.org/)"
   ]
  },
  {
   "cell_type": "markdown",
   "id": "5a50d63f-07ae-4fff-8d3d-ebfa2b1e97c5",
   "metadata": {},
   "source": [
    "### Retrive with `bigrquery`\n",
    "\n",
    "A wrapper for the BigQuery REST API.  Provides a set of [functions](https://sites.google.com/corp/google.com/gemini-ultra-customer-access/home) that all start with 'bq_'."
   ]
  },
  {
   "cell_type": "markdown",
   "id": "64fe131d-ec66-41d7-8ae1-4c60784acddb",
   "metadata": {},
   "source": [
    "Define the query that reads the table:"
   ]
  },
  {
   "cell_type": "code",
   "execution_count": 5,
   "id": "9bf9afc5-d2a7-4c12-aebc-01d8041c8354",
   "metadata": {
    "tags": []
   },
   "outputs": [
    {
     "name": "stdout",
     "output_type": "stream",
     "text": [
      "\n",
      "    SELECT *\n",
      "    FROM `bigquery-public-data.ml_datasets.ulb_fraud_detection`\n",
      "    LIMIT 5\n"
     ]
    }
   ],
   "source": [
    "query <- sprintf('\n",
    "    SELECT *\n",
    "    FROM `%s`\n",
    "    LIMIT 5\n",
    "', bq_source)\n",
    "cat(query)"
   ]
  },
  {
   "cell_type": "markdown",
   "id": "52124c3e-cae4-4eee-90cf-9247c99cffb3",
   "metadata": {},
   "source": [
    "Connect to the table defined by the query:"
   ]
  },
  {
   "cell_type": "code",
   "execution_count": 6,
   "id": "28bb0ebf-ceba-4109-af00-996eb4fa5434",
   "metadata": {
    "tags": []
   },
   "outputs": [],
   "source": [
    "table <- bq_project_query(bq_project, query)"
   ]
  },
  {
   "cell_type": "markdown",
   "id": "3eba8b45-b5fb-4682-9b35-c582efcda7cd",
   "metadata": {},
   "source": [
    "Load records from the table:"
   ]
  },
  {
   "cell_type": "code",
   "execution_count": 7,
   "id": "9b4e09a3-e557-4258-9d4f-d4821be20eb0",
   "metadata": {
    "tags": []
   },
   "outputs": [],
   "source": [
    "ds1 <- bq_table_download(table, n_max = 2)"
   ]
  },
  {
   "cell_type": "markdown",
   "id": "45d447a7-d341-4a76-a131-fcb26386cf5a",
   "metadata": {},
   "source": [
    "Review the size and preview the records:"
   ]
  },
  {
   "cell_type": "code",
   "execution_count": 8,
   "id": "4f8dbc52-8fe8-41d8-b2ee-b1350e783ca4",
   "metadata": {
    "tags": []
   },
   "outputs": [
    {
     "data": {
      "text/html": [
       "<style>\n",
       ".list-inline {list-style: none; margin:0; padding: 0}\n",
       ".list-inline>li {display: inline-block}\n",
       ".list-inline>li:not(:last-child)::after {content: \"\\00b7\"; padding: 0 .5ex}\n",
       "</style>\n",
       "<ol class=list-inline><li>2</li><li>31</li></ol>\n"
      ],
      "text/latex": [
       "\\begin{enumerate*}\n",
       "\\item 2\n",
       "\\item 31\n",
       "\\end{enumerate*}\n"
      ],
      "text/markdown": [
       "1. 2\n",
       "2. 31\n",
       "\n",
       "\n"
      ],
      "text/plain": [
       "[1]  2 31"
      ]
     },
     "metadata": {},
     "output_type": "display_data"
    }
   ],
   "source": [
    "dim(ds1)"
   ]
  },
  {
   "cell_type": "code",
   "execution_count": 9,
   "id": "c9cacd20-486d-4612-b93b-71e1a22f1763",
   "metadata": {
    "tags": []
   },
   "outputs": [
    {
     "data": {
      "text/html": [
       "<table class=\"dataframe\">\n",
       "<caption>A tibble: 2 × 31</caption>\n",
       "<thead>\n",
       "\t<tr><th scope=col>Time</th><th scope=col>V1</th><th scope=col>V2</th><th scope=col>V3</th><th scope=col>V4</th><th scope=col>V5</th><th scope=col>V6</th><th scope=col>V7</th><th scope=col>V8</th><th scope=col>V9</th><th scope=col>⋯</th><th scope=col>V21</th><th scope=col>V22</th><th scope=col>V23</th><th scope=col>V24</th><th scope=col>V25</th><th scope=col>V26</th><th scope=col>V27</th><th scope=col>V28</th><th scope=col>Amount</th><th scope=col>Class</th></tr>\n",
       "\t<tr><th scope=col>&lt;dbl&gt;</th><th scope=col>&lt;dbl&gt;</th><th scope=col>&lt;dbl&gt;</th><th scope=col>&lt;dbl&gt;</th><th scope=col>&lt;dbl&gt;</th><th scope=col>&lt;dbl&gt;</th><th scope=col>&lt;dbl&gt;</th><th scope=col>&lt;dbl&gt;</th><th scope=col>&lt;dbl&gt;</th><th scope=col>&lt;dbl&gt;</th><th scope=col>⋯</th><th scope=col>&lt;dbl&gt;</th><th scope=col>&lt;dbl&gt;</th><th scope=col>&lt;dbl&gt;</th><th scope=col>&lt;dbl&gt;</th><th scope=col>&lt;dbl&gt;</th><th scope=col>&lt;dbl&gt;</th><th scope=col>&lt;dbl&gt;</th><th scope=col>&lt;dbl&gt;</th><th scope=col>&lt;dbl&gt;</th><th scope=col>&lt;int&gt;</th></tr>\n",
       "</thead>\n",
       "<tbody>\n",
       "\t<tr><td> 8748</td><td>-1.070416</td><td>0.3045173</td><td>2.7770644</td><td>2.154061</td><td> 0.2544503</td><td>-0.4485295</td><td>-0.39869079</td><td> 0.14467154</td><td> 1.070900</td><td>⋯</td><td>-0.12203215</td><td>-0.18235147</td><td> 0.01957590</td><td>0.6260233</td><td>-0.01851757</td><td>-0.26329053</td><td>-0.19860014</td><td>0.09843517</td><td>0</td><td>0</td></tr>\n",
       "\t<tr><td>27074</td><td> 1.165628</td><td>0.4236713</td><td>0.8876348</td><td>2.740163</td><td>-0.3385779</td><td>-0.1428458</td><td>-0.05562784</td><td>-0.01532457</td><td>-0.213621</td><td>⋯</td><td>-0.08118352</td><td>-0.02569424</td><td>-0.07660875</td><td>0.4146867</td><td> 0.63103248</td><td> 0.07732208</td><td> 0.01018155</td><td>0.01991206</td><td>0</td><td>0</td></tr>\n",
       "</tbody>\n",
       "</table>\n"
      ],
      "text/latex": [
       "A tibble: 2 × 31\n",
       "\\begin{tabular}{lllllllllllllllllllll}\n",
       " Time & V1 & V2 & V3 & V4 & V5 & V6 & V7 & V8 & V9 & ⋯ & V21 & V22 & V23 & V24 & V25 & V26 & V27 & V28 & Amount & Class\\\\\n",
       " <dbl> & <dbl> & <dbl> & <dbl> & <dbl> & <dbl> & <dbl> & <dbl> & <dbl> & <dbl> & ⋯ & <dbl> & <dbl> & <dbl> & <dbl> & <dbl> & <dbl> & <dbl> & <dbl> & <dbl> & <int>\\\\\n",
       "\\hline\n",
       "\t  8748 & -1.070416 & 0.3045173 & 2.7770644 & 2.154061 &  0.2544503 & -0.4485295 & -0.39869079 &  0.14467154 &  1.070900 & ⋯ & -0.12203215 & -0.18235147 &  0.01957590 & 0.6260233 & -0.01851757 & -0.26329053 & -0.19860014 & 0.09843517 & 0 & 0\\\\\n",
       "\t 27074 &  1.165628 & 0.4236713 & 0.8876348 & 2.740163 & -0.3385779 & -0.1428458 & -0.05562784 & -0.01532457 & -0.213621 & ⋯ & -0.08118352 & -0.02569424 & -0.07660875 & 0.4146867 &  0.63103248 &  0.07732208 &  0.01018155 & 0.01991206 & 0 & 0\\\\\n",
       "\\end{tabular}\n"
      ],
      "text/markdown": [
       "\n",
       "A tibble: 2 × 31\n",
       "\n",
       "| Time &lt;dbl&gt; | V1 &lt;dbl&gt; | V2 &lt;dbl&gt; | V3 &lt;dbl&gt; | V4 &lt;dbl&gt; | V5 &lt;dbl&gt; | V6 &lt;dbl&gt; | V7 &lt;dbl&gt; | V8 &lt;dbl&gt; | V9 &lt;dbl&gt; | ⋯ ⋯ | V21 &lt;dbl&gt; | V22 &lt;dbl&gt; | V23 &lt;dbl&gt; | V24 &lt;dbl&gt; | V25 &lt;dbl&gt; | V26 &lt;dbl&gt; | V27 &lt;dbl&gt; | V28 &lt;dbl&gt; | Amount &lt;dbl&gt; | Class &lt;int&gt; |\n",
       "|---|---|---|---|---|---|---|---|---|---|---|---|---|---|---|---|---|---|---|---|---|\n",
       "|  8748 | -1.070416 | 0.3045173 | 2.7770644 | 2.154061 |  0.2544503 | -0.4485295 | -0.39869079 |  0.14467154 |  1.070900 | ⋯ | -0.12203215 | -0.18235147 |  0.01957590 | 0.6260233 | -0.01851757 | -0.26329053 | -0.19860014 | 0.09843517 | 0 | 0 |\n",
       "| 27074 |  1.165628 | 0.4236713 | 0.8876348 | 2.740163 | -0.3385779 | -0.1428458 | -0.05562784 | -0.01532457 | -0.213621 | ⋯ | -0.08118352 | -0.02569424 | -0.07660875 | 0.4146867 |  0.63103248 |  0.07732208 |  0.01018155 | 0.01991206 | 0 | 0 |\n",
       "\n"
      ],
      "text/plain": [
       "  Time  V1        V2        V3        V4       V5         V6        \n",
       "1  8748 -1.070416 0.3045173 2.7770644 2.154061  0.2544503 -0.4485295\n",
       "2 27074  1.165628 0.4236713 0.8876348 2.740163 -0.3385779 -0.1428458\n",
       "  V7          V8          V9        ⋯ V21         V22         V23        \n",
       "1 -0.39869079  0.14467154  1.070900 ⋯ -0.12203215 -0.18235147  0.01957590\n",
       "2 -0.05562784 -0.01532457 -0.213621 ⋯ -0.08118352 -0.02569424 -0.07660875\n",
       "  V24       V25         V26         V27         V28        Amount Class\n",
       "1 0.6260233 -0.01851757 -0.26329053 -0.19860014 0.09843517 0      0    \n",
       "2 0.4146867  0.63103248  0.07732208  0.01018155 0.01991206 0      0    "
      ]
     },
     "metadata": {},
     "output_type": "display_data"
    }
   ],
   "source": [
    "ds1"
   ]
  },
  {
   "cell_type": "markdown",
   "id": "5bbc2416-2713-407f-98fd-d9e3a4ca81fd",
   "metadata": {},
   "source": [
    "### Retrieve with `DBI`\n",
    "\n",
    "An easier interface to BigQuery that reads the results of a query directly."
   ]
  },
  {
   "cell_type": "markdown",
   "id": "c65e197c-59f6-42b2-b63a-101406df0943",
   "metadata": {},
   "source": [
    "Create a connection:"
   ]
  },
  {
   "cell_type": "code",
   "execution_count": 10,
   "id": "16975956-ac31-4a1f-9c73-5ccc897a905e",
   "metadata": {
    "tags": []
   },
   "outputs": [],
   "source": [
    "connection <- dbConnect(\n",
    "    bigrquery::bigquery(),\n",
    "    project = bq_project,\n",
    "    billing = bq_project\n",
    ")"
   ]
  },
  {
   "cell_type": "markdown",
   "id": "c1f2540d-c8d2-4241-8c7e-13e86be4f12b",
   "metadata": {},
   "source": [
    "Load records from table using the connection:"
   ]
  },
  {
   "cell_type": "code",
   "execution_count": 11,
   "id": "a80ffea7-5a7d-4d83-87c5-80668b94401e",
   "metadata": {
    "tags": []
   },
   "outputs": [],
   "source": [
    "ds2 <- dbGetQuery(connection, query, n = 2)"
   ]
  },
  {
   "cell_type": "markdown",
   "id": "04166db6-d29b-4e12-8e32-e64336b0d918",
   "metadata": {},
   "source": [
    "Review the size and preview the records:"
   ]
  },
  {
   "cell_type": "code",
   "execution_count": 12,
   "id": "6bdec194-24e4-4be2-96f3-f36adb8e16ad",
   "metadata": {
    "tags": []
   },
   "outputs": [
    {
     "data": {
      "text/html": [
       "<style>\n",
       ".list-inline {list-style: none; margin:0; padding: 0}\n",
       ".list-inline>li {display: inline-block}\n",
       ".list-inline>li:not(:last-child)::after {content: \"\\00b7\"; padding: 0 .5ex}\n",
       "</style>\n",
       "<ol class=list-inline><li>2</li><li>31</li></ol>\n"
      ],
      "text/latex": [
       "\\begin{enumerate*}\n",
       "\\item 2\n",
       "\\item 31\n",
       "\\end{enumerate*}\n"
      ],
      "text/markdown": [
       "1. 2\n",
       "2. 31\n",
       "\n",
       "\n"
      ],
      "text/plain": [
       "[1]  2 31"
      ]
     },
     "metadata": {},
     "output_type": "display_data"
    }
   ],
   "source": [
    "dim(ds2)"
   ]
  },
  {
   "cell_type": "code",
   "execution_count": 13,
   "id": "20cd1080-dfaa-4679-b542-24b5c7190c9c",
   "metadata": {
    "tags": []
   },
   "outputs": [
    {
     "data": {
      "text/html": [
       "<table class=\"dataframe\">\n",
       "<caption>A tibble: 2 × 31</caption>\n",
       "<thead>\n",
       "\t<tr><th scope=col>Time</th><th scope=col>V1</th><th scope=col>V2</th><th scope=col>V3</th><th scope=col>V4</th><th scope=col>V5</th><th scope=col>V6</th><th scope=col>V7</th><th scope=col>V8</th><th scope=col>V9</th><th scope=col>⋯</th><th scope=col>V21</th><th scope=col>V22</th><th scope=col>V23</th><th scope=col>V24</th><th scope=col>V25</th><th scope=col>V26</th><th scope=col>V27</th><th scope=col>V28</th><th scope=col>Amount</th><th scope=col>Class</th></tr>\n",
       "\t<tr><th scope=col>&lt;dbl&gt;</th><th scope=col>&lt;dbl&gt;</th><th scope=col>&lt;dbl&gt;</th><th scope=col>&lt;dbl&gt;</th><th scope=col>&lt;dbl&gt;</th><th scope=col>&lt;dbl&gt;</th><th scope=col>&lt;dbl&gt;</th><th scope=col>&lt;dbl&gt;</th><th scope=col>&lt;dbl&gt;</th><th scope=col>&lt;dbl&gt;</th><th scope=col>⋯</th><th scope=col>&lt;dbl&gt;</th><th scope=col>&lt;dbl&gt;</th><th scope=col>&lt;dbl&gt;</th><th scope=col>&lt;dbl&gt;</th><th scope=col>&lt;dbl&gt;</th><th scope=col>&lt;dbl&gt;</th><th scope=col>&lt;dbl&gt;</th><th scope=col>&lt;dbl&gt;</th><th scope=col>&lt;dbl&gt;</th><th scope=col>&lt;int&gt;</th></tr>\n",
       "</thead>\n",
       "<tbody>\n",
       "\t<tr><td> 8748</td><td>-1.070416</td><td>0.3045173</td><td>2.7770644</td><td>2.154061</td><td> 0.2544503</td><td>-0.4485295</td><td>-0.39869079</td><td> 0.14467154</td><td> 1.070900</td><td>⋯</td><td>-0.12203215</td><td>-0.18235147</td><td> 0.01957590</td><td>0.6260233</td><td>-0.01851757</td><td>-0.26329053</td><td>-0.19860014</td><td>0.09843517</td><td>0</td><td>0</td></tr>\n",
       "\t<tr><td>27074</td><td> 1.165628</td><td>0.4236713</td><td>0.8876348</td><td>2.740163</td><td>-0.3385779</td><td>-0.1428458</td><td>-0.05562784</td><td>-0.01532457</td><td>-0.213621</td><td>⋯</td><td>-0.08118352</td><td>-0.02569424</td><td>-0.07660875</td><td>0.4146867</td><td> 0.63103248</td><td> 0.07732208</td><td> 0.01018155</td><td>0.01991206</td><td>0</td><td>0</td></tr>\n",
       "</tbody>\n",
       "</table>\n"
      ],
      "text/latex": [
       "A tibble: 2 × 31\n",
       "\\begin{tabular}{lllllllllllllllllllll}\n",
       " Time & V1 & V2 & V3 & V4 & V5 & V6 & V7 & V8 & V9 & ⋯ & V21 & V22 & V23 & V24 & V25 & V26 & V27 & V28 & Amount & Class\\\\\n",
       " <dbl> & <dbl> & <dbl> & <dbl> & <dbl> & <dbl> & <dbl> & <dbl> & <dbl> & <dbl> & ⋯ & <dbl> & <dbl> & <dbl> & <dbl> & <dbl> & <dbl> & <dbl> & <dbl> & <dbl> & <int>\\\\\n",
       "\\hline\n",
       "\t  8748 & -1.070416 & 0.3045173 & 2.7770644 & 2.154061 &  0.2544503 & -0.4485295 & -0.39869079 &  0.14467154 &  1.070900 & ⋯ & -0.12203215 & -0.18235147 &  0.01957590 & 0.6260233 & -0.01851757 & -0.26329053 & -0.19860014 & 0.09843517 & 0 & 0\\\\\n",
       "\t 27074 &  1.165628 & 0.4236713 & 0.8876348 & 2.740163 & -0.3385779 & -0.1428458 & -0.05562784 & -0.01532457 & -0.213621 & ⋯ & -0.08118352 & -0.02569424 & -0.07660875 & 0.4146867 &  0.63103248 &  0.07732208 &  0.01018155 & 0.01991206 & 0 & 0\\\\\n",
       "\\end{tabular}\n"
      ],
      "text/markdown": [
       "\n",
       "A tibble: 2 × 31\n",
       "\n",
       "| Time &lt;dbl&gt; | V1 &lt;dbl&gt; | V2 &lt;dbl&gt; | V3 &lt;dbl&gt; | V4 &lt;dbl&gt; | V5 &lt;dbl&gt; | V6 &lt;dbl&gt; | V7 &lt;dbl&gt; | V8 &lt;dbl&gt; | V9 &lt;dbl&gt; | ⋯ ⋯ | V21 &lt;dbl&gt; | V22 &lt;dbl&gt; | V23 &lt;dbl&gt; | V24 &lt;dbl&gt; | V25 &lt;dbl&gt; | V26 &lt;dbl&gt; | V27 &lt;dbl&gt; | V28 &lt;dbl&gt; | Amount &lt;dbl&gt; | Class &lt;int&gt; |\n",
       "|---|---|---|---|---|---|---|---|---|---|---|---|---|---|---|---|---|---|---|---|---|\n",
       "|  8748 | -1.070416 | 0.3045173 | 2.7770644 | 2.154061 |  0.2544503 | -0.4485295 | -0.39869079 |  0.14467154 |  1.070900 | ⋯ | -0.12203215 | -0.18235147 |  0.01957590 | 0.6260233 | -0.01851757 | -0.26329053 | -0.19860014 | 0.09843517 | 0 | 0 |\n",
       "| 27074 |  1.165628 | 0.4236713 | 0.8876348 | 2.740163 | -0.3385779 | -0.1428458 | -0.05562784 | -0.01532457 | -0.213621 | ⋯ | -0.08118352 | -0.02569424 | -0.07660875 | 0.4146867 |  0.63103248 |  0.07732208 |  0.01018155 | 0.01991206 | 0 | 0 |\n",
       "\n"
      ],
      "text/plain": [
       "  Time  V1        V2        V3        V4       V5         V6        \n",
       "1  8748 -1.070416 0.3045173 2.7770644 2.154061  0.2544503 -0.4485295\n",
       "2 27074  1.165628 0.4236713 0.8876348 2.740163 -0.3385779 -0.1428458\n",
       "  V7          V8          V9        ⋯ V21         V22         V23        \n",
       "1 -0.39869079  0.14467154  1.070900 ⋯ -0.12203215 -0.18235147  0.01957590\n",
       "2 -0.05562784 -0.01532457 -0.213621 ⋯ -0.08118352 -0.02569424 -0.07660875\n",
       "  V24       V25         V26         V27         V28        Amount Class\n",
       "1 0.6260233 -0.01851757 -0.26329053 -0.19860014 0.09843517 0      0    \n",
       "2 0.4146867  0.63103248  0.07732208  0.01018155 0.01991206 0      0    "
      ]
     },
     "metadata": {},
     "output_type": "display_data"
    }
   ],
   "source": [
    "ds2"
   ]
  },
  {
   "cell_type": "markdown",
   "id": "c2659231-4b13-4cf0-9fcc-52de26c9a716",
   "metadata": {},
   "source": [
    "### Retrieve with `dplyr`\n",
    "\n",
    "A non-SQL interface to BigQuery that treats BigQuery tables like they are already in-memory and local.  Behind the scenes it writes SQL for you."
   ]
  },
  {
   "cell_type": "markdown",
   "id": "288c1dd7-9c2f-4939-b763-f07928c28437",
   "metadata": {},
   "source": [
    "Create a connection to BigQuery:"
   ]
  },
  {
   "cell_type": "code",
   "execution_count": 18,
   "id": "466019a8-cda5-4c9f-9a82-d6369f0ca674",
   "metadata": {
    "tags": []
   },
   "outputs": [],
   "source": [
    "connection <- dbConnect(\n",
    "    bigrquery::bigquery(),\n",
    "    project = strsplit(bq_source, '[.]')[[1]][1],\n",
    "    dataset = strsplit(bq_source, '[.]')[[1]][2],\n",
    "    billing = bq_project\n",
    ")"
   ]
  },
  {
   "cell_type": "code",
   "execution_count": 19,
   "id": "e95b0f4f-04eb-4a50-ab47-ebcb6a43cc97",
   "metadata": {
    "tags": []
   },
   "outputs": [],
   "source": [
    "extract <- tbl(connection, strsplit(bq_source, '[.]')[[1]][3])"
   ]
  },
  {
   "cell_type": "code",
   "execution_count": 20,
   "id": "4d2af690-293d-496e-87f8-64098ad1f145",
   "metadata": {
    "tags": []
   },
   "outputs": [
    {
     "name": "stdout",
     "output_type": "stream",
     "text": [
      "Rows: ??\n",
      "Columns: 31\n",
      "Database: BigQueryConnection\n",
      "$ Time   \u001b[3m\u001b[90m<dbl>\u001b[39m\u001b[23m 8748, 27074, 28292, 28488, 31392, 31887, 34482, 34974, 35765, 4…\n",
      "$ V1     \u001b[3m\u001b[90m<dbl>\u001b[39m\u001b[23m -1.0704164, 1.1656278, 1.0508789, 1.0703157, -3.6809531, -0.861…\n",
      "$ V2     \u001b[3m\u001b[90m<dbl>\u001b[39m\u001b[23m 0.30451734, 0.42367133, 0.05340835, 0.07949856, -4.18358129, 0.…\n",
      "$ V3     \u001b[3m\u001b[90m<dbl>\u001b[39m\u001b[23m 2.7770644, 0.8876348, 1.3645902, 1.4718556, 2.6427427, 2.410561…\n",
      "$ V4     \u001b[3m\u001b[90m<dbl>\u001b[39m\u001b[23m 2.1540615, 2.7401630, 2.6661578, 2.8637862, 4.2638021, 3.317876…\n",
      "$ V5     \u001b[3m\u001b[90m<dbl>\u001b[39m\u001b[23m 0.254450301, -0.338577868, -0.378635805, -0.637886843, 4.643285…\n",
      "$ V6     \u001b[3m\u001b[90m<dbl>\u001b[39m\u001b[23m -0.4485295, -0.1428458, 1.3820315, 0.8581592, -0.2250528, 0.772…\n",
      "$ V7     \u001b[3m\u001b[90m<dbl>\u001b[39m\u001b[23m -0.39869079, -0.05562784, -0.76620210, -0.68747791, -3.73363726…\n",
      "$ V8     \u001b[3m\u001b[90m<dbl>\u001b[39m\u001b[23m 0.14467154, -0.01532457, 0.48612560, 0.34414609, 1.27303676, 0.…\n",
      "$ V9     \u001b[3m\u001b[90m<dbl>\u001b[39m\u001b[23m 1.07090041, -0.21362101, 0.15261147, 0.45956062, 0.01566150, -0…\n",
      "$ V10    \u001b[3m\u001b[90m<dbl>\u001b[39m\u001b[23m -0.31050073, 0.51726104, 0.49667421, 0.34086927, 0.63552321, 0.…\n",
      "$ V11    \u001b[3m\u001b[90m<dbl>\u001b[39m\u001b[23m 0.09397115, -0.99559462, 0.34198230, -1.14145224, -0.44290293, …\n",
      "$ V12    \u001b[3m\u001b[90m<dbl>\u001b[39m\u001b[23m -2.3937614, 0.2353353, 1.2248312, 0.3995012, 0.7823331, 0.31704…\n",
      "$ V13    \u001b[3m\u001b[90m<dbl>\u001b[39m\u001b[23m 1.5976466749, 0.0003149639, 0.2645042858, -0.1691936026, 0.2188…\n",
      "$ V14    \u001b[3m\u001b[90m<dbl>\u001b[39m\u001b[23m 0.82894549, -0.21233819, -0.60555558, -0.69072710, -0.41242782,…\n",
      "$ V15    \u001b[3m\u001b[90m<dbl>\u001b[39m\u001b[23m -1.66541352, -0.91059433, -1.95902219, -1.23202674, 0.43786598,…\n",
      "$ V16    \u001b[3m\u001b[90m<dbl>\u001b[39m\u001b[23m 0.6930804153, 0.0889732153, 0.0092339151, -0.2613754725, -2.103…\n",
      "$ V17    \u001b[3m\u001b[90m<dbl>\u001b[39m\u001b[23m 0.1608998, -0.1548697, -0.1128960, 0.2836126, 1.8976106, 0.6569…\n",
      "$ V18    \u001b[3m\u001b[90m<dbl>\u001b[39m\u001b[23m 0.01931830, -0.53688058, -0.20986476, -0.75588249, -1.76242689,…\n",
      "$ V19    \u001b[3m\u001b[90m<dbl>\u001b[39m\u001b[23m -1.78306585, -0.61584876, -0.51406509, -0.92429028, -0.29850178…\n",
      "$ V20    \u001b[3m\u001b[90m<dbl>\u001b[39m\u001b[23m -0.195555877, -0.177675194, -0.170424551, -0.221676678, 1.17757…\n",
      "$ V21    \u001b[3m\u001b[90m<dbl>\u001b[39m\u001b[23m -0.12203215, -0.08118352, 0.08346730, 0.04806741, 0.64905082, 0…\n",
      "$ V22    \u001b[3m\u001b[90m<dbl>\u001b[39m\u001b[23m -0.182351467, -0.025694242, 0.624424131, 0.534713068, 1.0541242…\n",
      "$ V23    \u001b[3m\u001b[90m<dbl>\u001b[39m\u001b[23m 0.01957590, -0.07660875, -0.15722779, -0.09864464, 0.79552799, …\n",
      "$ V24    \u001b[3m\u001b[90m<dbl>\u001b[39m\u001b[23m 0.626023275, 0.414686713, -0.240411066, 0.129271569, -0.9013142…\n",
      "$ V25    \u001b[3m\u001b[90m<dbl>\u001b[39m\u001b[23m -0.01851757, 0.63103248, 0.57306089, 0.54373694, -0.42552427, -…\n",
      "$ V26    \u001b[3m\u001b[90m<dbl>\u001b[39m\u001b[23m -0.26329053, 0.07732208, 0.24408998, 0.24272419, 0.51167489, 0.…\n",
      "$ V27    \u001b[3m\u001b[90m<dbl>\u001b[39m\u001b[23m -0.198600137, 0.010181550, 0.063834136, 0.065070289, 0.12541936…\n",
      "$ V28    \u001b[3m\u001b[90m<dbl>\u001b[39m\u001b[23m 0.098435175, 0.019912060, 0.010980718, 0.023500216, 0.243671009…\n",
      "$ Amount \u001b[3m\u001b[90m<dbl>\u001b[39m\u001b[23m 0, 0, 0, 0, 0, 0, 0, 0, 0, 0, 0, 0, 0, 0, 0, 0, 0, 0, 0, 0, 0, …\n",
      "$ Class  \u001b[3m\u001b[90m<int>\u001b[39m\u001b[23m 0, 0, 0, 0, 0, 0, 0, 0, 0, 0, 0, 0, 0, 0, 0, 0, 0, 0, 0, 0, 0, …\n"
     ]
    }
   ],
   "source": [
    "glimpse(extract)"
   ]
  },
  {
   "cell_type": "code",
   "execution_count": 21,
   "id": "ad19931e-8ec6-4566-aab6-168ec411d60a",
   "metadata": {
    "tags": []
   },
   "outputs": [],
   "source": [
    "ds3 <- extract %>%\n",
    "    select(everything()) %>%\n",
    "    head(2) %>%\n",
    "    collect()"
   ]
  },
  {
   "cell_type": "markdown",
   "id": "1bd5b90a-15a8-4b8a-9b9e-ed8f01e641df",
   "metadata": {},
   "source": [
    "Review the size and preview the records:"
   ]
  },
  {
   "cell_type": "code",
   "execution_count": 22,
   "id": "e39bcdb1-c8b9-42a0-8ab7-7163d60769a6",
   "metadata": {
    "tags": []
   },
   "outputs": [
    {
     "data": {
      "text/html": [
       "<style>\n",
       ".list-inline {list-style: none; margin:0; padding: 0}\n",
       ".list-inline>li {display: inline-block}\n",
       ".list-inline>li:not(:last-child)::after {content: \"\\00b7\"; padding: 0 .5ex}\n",
       "</style>\n",
       "<ol class=list-inline><li>2</li><li>31</li></ol>\n"
      ],
      "text/latex": [
       "\\begin{enumerate*}\n",
       "\\item 2\n",
       "\\item 31\n",
       "\\end{enumerate*}\n"
      ],
      "text/markdown": [
       "1. 2\n",
       "2. 31\n",
       "\n",
       "\n"
      ],
      "text/plain": [
       "[1]  2 31"
      ]
     },
     "metadata": {},
     "output_type": "display_data"
    }
   ],
   "source": [
    "dim(ds3)"
   ]
  },
  {
   "cell_type": "code",
   "execution_count": 23,
   "id": "8c38dd35-e6b9-4648-8dde-d013b7dc5159",
   "metadata": {
    "tags": []
   },
   "outputs": [
    {
     "data": {
      "text/html": [
       "<table class=\"dataframe\">\n",
       "<caption>A tibble: 2 × 31</caption>\n",
       "<thead>\n",
       "\t<tr><th scope=col>Time</th><th scope=col>V1</th><th scope=col>V2</th><th scope=col>V3</th><th scope=col>V4</th><th scope=col>V5</th><th scope=col>V6</th><th scope=col>V7</th><th scope=col>V8</th><th scope=col>V9</th><th scope=col>⋯</th><th scope=col>V21</th><th scope=col>V22</th><th scope=col>V23</th><th scope=col>V24</th><th scope=col>V25</th><th scope=col>V26</th><th scope=col>V27</th><th scope=col>V28</th><th scope=col>Amount</th><th scope=col>Class</th></tr>\n",
       "\t<tr><th scope=col>&lt;dbl&gt;</th><th scope=col>&lt;dbl&gt;</th><th scope=col>&lt;dbl&gt;</th><th scope=col>&lt;dbl&gt;</th><th scope=col>&lt;dbl&gt;</th><th scope=col>&lt;dbl&gt;</th><th scope=col>&lt;dbl&gt;</th><th scope=col>&lt;dbl&gt;</th><th scope=col>&lt;dbl&gt;</th><th scope=col>&lt;dbl&gt;</th><th scope=col>⋯</th><th scope=col>&lt;dbl&gt;</th><th scope=col>&lt;dbl&gt;</th><th scope=col>&lt;dbl&gt;</th><th scope=col>&lt;dbl&gt;</th><th scope=col>&lt;dbl&gt;</th><th scope=col>&lt;dbl&gt;</th><th scope=col>&lt;dbl&gt;</th><th scope=col>&lt;dbl&gt;</th><th scope=col>&lt;dbl&gt;</th><th scope=col>&lt;int&gt;</th></tr>\n",
       "</thead>\n",
       "<tbody>\n",
       "\t<tr><td> 8748</td><td>-1.070416</td><td>0.3045173</td><td>2.7770644</td><td>2.154061</td><td> 0.2544503</td><td>-0.4485295</td><td>-0.39869079</td><td> 0.14467154</td><td> 1.070900</td><td>⋯</td><td>-0.12203215</td><td>-0.18235147</td><td> 0.01957590</td><td>0.6260233</td><td>-0.01851757</td><td>-0.26329053</td><td>-0.19860014</td><td>0.09843517</td><td>0</td><td>0</td></tr>\n",
       "\t<tr><td>27074</td><td> 1.165628</td><td>0.4236713</td><td>0.8876348</td><td>2.740163</td><td>-0.3385779</td><td>-0.1428458</td><td>-0.05562784</td><td>-0.01532457</td><td>-0.213621</td><td>⋯</td><td>-0.08118352</td><td>-0.02569424</td><td>-0.07660875</td><td>0.4146867</td><td> 0.63103248</td><td> 0.07732208</td><td> 0.01018155</td><td>0.01991206</td><td>0</td><td>0</td></tr>\n",
       "</tbody>\n",
       "</table>\n"
      ],
      "text/latex": [
       "A tibble: 2 × 31\n",
       "\\begin{tabular}{lllllllllllllllllllll}\n",
       " Time & V1 & V2 & V3 & V4 & V5 & V6 & V7 & V8 & V9 & ⋯ & V21 & V22 & V23 & V24 & V25 & V26 & V27 & V28 & Amount & Class\\\\\n",
       " <dbl> & <dbl> & <dbl> & <dbl> & <dbl> & <dbl> & <dbl> & <dbl> & <dbl> & <dbl> & ⋯ & <dbl> & <dbl> & <dbl> & <dbl> & <dbl> & <dbl> & <dbl> & <dbl> & <dbl> & <int>\\\\\n",
       "\\hline\n",
       "\t  8748 & -1.070416 & 0.3045173 & 2.7770644 & 2.154061 &  0.2544503 & -0.4485295 & -0.39869079 &  0.14467154 &  1.070900 & ⋯ & -0.12203215 & -0.18235147 &  0.01957590 & 0.6260233 & -0.01851757 & -0.26329053 & -0.19860014 & 0.09843517 & 0 & 0\\\\\n",
       "\t 27074 &  1.165628 & 0.4236713 & 0.8876348 & 2.740163 & -0.3385779 & -0.1428458 & -0.05562784 & -0.01532457 & -0.213621 & ⋯ & -0.08118352 & -0.02569424 & -0.07660875 & 0.4146867 &  0.63103248 &  0.07732208 &  0.01018155 & 0.01991206 & 0 & 0\\\\\n",
       "\\end{tabular}\n"
      ],
      "text/markdown": [
       "\n",
       "A tibble: 2 × 31\n",
       "\n",
       "| Time &lt;dbl&gt; | V1 &lt;dbl&gt; | V2 &lt;dbl&gt; | V3 &lt;dbl&gt; | V4 &lt;dbl&gt; | V5 &lt;dbl&gt; | V6 &lt;dbl&gt; | V7 &lt;dbl&gt; | V8 &lt;dbl&gt; | V9 &lt;dbl&gt; | ⋯ ⋯ | V21 &lt;dbl&gt; | V22 &lt;dbl&gt; | V23 &lt;dbl&gt; | V24 &lt;dbl&gt; | V25 &lt;dbl&gt; | V26 &lt;dbl&gt; | V27 &lt;dbl&gt; | V28 &lt;dbl&gt; | Amount &lt;dbl&gt; | Class &lt;int&gt; |\n",
       "|---|---|---|---|---|---|---|---|---|---|---|---|---|---|---|---|---|---|---|---|---|\n",
       "|  8748 | -1.070416 | 0.3045173 | 2.7770644 | 2.154061 |  0.2544503 | -0.4485295 | -0.39869079 |  0.14467154 |  1.070900 | ⋯ | -0.12203215 | -0.18235147 |  0.01957590 | 0.6260233 | -0.01851757 | -0.26329053 | -0.19860014 | 0.09843517 | 0 | 0 |\n",
       "| 27074 |  1.165628 | 0.4236713 | 0.8876348 | 2.740163 | -0.3385779 | -0.1428458 | -0.05562784 | -0.01532457 | -0.213621 | ⋯ | -0.08118352 | -0.02569424 | -0.07660875 | 0.4146867 |  0.63103248 |  0.07732208 |  0.01018155 | 0.01991206 | 0 | 0 |\n",
       "\n"
      ],
      "text/plain": [
       "  Time  V1        V2        V3        V4       V5         V6        \n",
       "1  8748 -1.070416 0.3045173 2.7770644 2.154061  0.2544503 -0.4485295\n",
       "2 27074  1.165628 0.4236713 0.8876348 2.740163 -0.3385779 -0.1428458\n",
       "  V7          V8          V9        ⋯ V21         V22         V23        \n",
       "1 -0.39869079  0.14467154  1.070900 ⋯ -0.12203215 -0.18235147  0.01957590\n",
       "2 -0.05562784 -0.01532457 -0.213621 ⋯ -0.08118352 -0.02569424 -0.07660875\n",
       "  V24       V25         V26         V27         V28        Amount Class\n",
       "1 0.6260233 -0.01851757 -0.26329053 -0.19860014 0.09843517 0      0    \n",
       "2 0.4146867  0.63103248  0.07732208  0.01018155 0.01991206 0      0    "
      ]
     },
     "metadata": {},
     "output_type": "display_data"
    }
   ],
   "source": [
    "ds3"
   ]
  },
  {
   "cell_type": "markdown",
   "id": "aa92dc04-a022-4b52-8cb3-9f7c0b4e133f",
   "metadata": {},
   "source": [
    "## Retrieve Large Tables\n",
    "\n",
    "Downloading large table to **R** with `bigrquery` is better as a two step process: download to GCS, then read into R.  \n",
    "\n",
    ">This is also mentioned in the [`bigrquery` documentation](https://bigrquery.r-dbi.org/reference/bq_table_download.html), however, this mention a middle step of copying the file from GCS to local which is skipped here thanks to the Fuse mount.  \n",
    "\n",
    "This section show how to orchestrate this all from **R**."
   ]
  },
  {
   "cell_type": "markdown",
   "id": "e275922b-7019-45d4-af12-c141cca86ef7",
   "metadata": {},
   "source": [
    "### Preparation: Create Fuse Mount For Workbench Instance\n",
    "\n",
    "When using a Vertex AI Workbench the instance already has GCS Fuse installed.  Use the following steps at a terminal (File > New > Terminal) to mount a local folder for use:\n",
    "\n",
    "```\n",
    "cd ~/\n",
    "mkdir -p gcs\n",
    "gcsfuse --implicit-dirs --rename-dir-limit=100 --max-conns-per-host=100 \"/home/jupyter/gcs\"\n",
    "```\n",
    "\n",
    "> When running a Vertex AI Training job this mount is already done for you at the `/gcs/` location."
   ]
  },
  {
   "cell_type": "markdown",
   "id": "15d75877-da38-48cf-9c0d-5353b0815574",
   "metadata": {},
   "source": [
    "### Export Data From BigQuery To GCS\n",
    "\n",
    "Use a SQL Query to initiate and export from BigQuery to GCS at a specified location.  This example show exporting to `.csv` files with a wildcard.  The example data is small enough that is outputs to just two files but this code would work with much larger datasets that export to multiple `.csv` files as well.\n",
    "\n",
    "**Resources:**\n",
    "\n",
    "- [BigQuery data exports](https://cloud.google.com/bigquery/docs/exporting-data#sql)"
   ]
  },
  {
   "cell_type": "markdown",
   "id": "15696a57-61d2-4ee6-a250-7ab45de8b8a1",
   "metadata": {},
   "source": [
    "Define the query that reads the table:"
   ]
  },
  {
   "cell_type": "code",
   "execution_count": 47,
   "id": "3e473cda-30a8-4c8e-ac6f-e110e0428c0e",
   "metadata": {
    "tags": []
   },
   "outputs": [
    {
     "name": "stdout",
     "output_type": "stream",
     "text": [
      "\n",
      "EXPORT DATA\n",
      "    OPTIONS (\n",
      "        uri = 'gs://statmike-mlops-349915/r/bigquery-data/data/*.csv',\n",
      "        format = 'CSV',\n",
      "        overwrite = true,\n",
      "        header = true,\n",
      "        field_delimiter = ','\n",
      "    )\n",
      "AS (\n",
      "    SELECT *\n",
      "    FROM `bigquery-public-data.ml_datasets.ulb_fraud_detection`\n",
      ")\n"
     ]
    }
   ],
   "source": [
    "query <- sprintf(\"\n",
    "EXPORT DATA\n",
    "    OPTIONS (\n",
    "        uri = 'gs://%s/%s/%s/data/*.csv',\n",
    "        format = 'CSV',\n",
    "        overwrite = true,\n",
    "        header = true,\n",
    "        field_delimiter = ','\n",
    "    )\n",
    "AS (\n",
    "    SELECT *\n",
    "    FROM `%s`\n",
    ")\n",
    "\", gcs_bucket, series, experiment, bq_source)\n",
    "cat(query)"
   ]
  },
  {
   "cell_type": "markdown",
   "id": "6b8e9648-2a14-4a7d-b28d-b06b02705dfc",
   "metadata": {},
   "source": [
    "Run the query using `bigrquery`:"
   ]
  },
  {
   "cell_type": "code",
   "execution_count": 48,
   "id": "462abc80-74dc-4472-83ba-c455b1b6fa87",
   "metadata": {
    "tags": []
   },
   "outputs": [],
   "source": [
    "export <- bq_perform_query(query, billing = bq_project)"
   ]
  },
  {
   "cell_type": "markdown",
   "id": "72fdbe74-9848-4230-b535-11058ceeeb18",
   "metadata": {},
   "source": [
    "Wait on the export job to complete:"
   ]
  },
  {
   "cell_type": "code",
   "execution_count": 49,
   "id": "cca1378f-3f90-4322-a860-13bde4eb2ac1",
   "metadata": {
    "tags": []
   },
   "outputs": [],
   "source": [
    "bq_job_wait(export)"
   ]
  },
  {
   "cell_type": "markdown",
   "id": "d99e4fde-bc7d-4c74-887d-dea4fc77675f",
   "metadata": {},
   "source": [
    "### List The Exported Files:"
   ]
  },
  {
   "cell_type": "code",
   "execution_count": 50,
   "id": "ebe8197a-83ed-43cd-b5ee-0bdb7224688a",
   "metadata": {
    "tags": []
   },
   "outputs": [
    {
     "data": {
      "text/html": [
       "<style>\n",
       ".list-inline {list-style: none; margin:0; padding: 0}\n",
       ".list-inline>li {display: inline-block}\n",
       ".list-inline>li:not(:last-child)::after {content: \"\\00b7\"; padding: 0 .5ex}\n",
       "</style>\n",
       "<ol class=list-inline><li>'/home/jupyter/gcs/statmike-mlops-349915/r/bigquery-data/data/000000000000.csv'</li><li>'/home/jupyter/gcs/statmike-mlops-349915/r/bigquery-data/data/000000000001.csv'</li></ol>\n"
      ],
      "text/latex": [
       "\\begin{enumerate*}\n",
       "\\item '/home/jupyter/gcs/statmike-mlops-349915/r/bigquery-data/data/000000000000.csv'\n",
       "\\item '/home/jupyter/gcs/statmike-mlops-349915/r/bigquery-data/data/000000000001.csv'\n",
       "\\end{enumerate*}\n"
      ],
      "text/markdown": [
       "1. '/home/jupyter/gcs/statmike-mlops-349915/r/bigquery-data/data/000000000000.csv'\n",
       "2. '/home/jupyter/gcs/statmike-mlops-349915/r/bigquery-data/data/000000000001.csv'\n",
       "\n",
       "\n"
      ],
      "text/plain": [
       "[1] \"/home/jupyter/gcs/statmike-mlops-349915/r/bigquery-data/data/000000000000.csv\"\n",
       "[2] \"/home/jupyter/gcs/statmike-mlops-349915/r/bigquery-data/data/000000000001.csv\""
      ]
     },
     "metadata": {},
     "output_type": "display_data"
    }
   ],
   "source": [
    "files <- list.files(\n",
    "    path = sprintf('~/gcs/%s/%s/%s/data', gcs_bucket, series, experiment),\n",
    "    pattern = '*.csv',\n",
    "    full.names = TRUE\n",
    ")\n",
    "files"
   ]
  },
  {
   "cell_type": "markdown",
   "id": "6b450eec-4944-4cc2-bbad-5b543ebc050b",
   "metadata": {},
   "source": [
    "### Read the Data Into An R Dataframe\n",
    "\n",
    "The code here will read all `.csv` files at the bucket folder path into a single R dataframe.  Here all the files are read into a single dataframe using the `map_df()` function which also executes the reads in parallel (asynchronously)."
   ]
  },
  {
   "cell_type": "markdown",
   "id": "96514bf5-af10-4aad-8b7c-43237d483ca3",
   "metadata": {},
   "source": [
    "Load the [`purrr`](https://purrr.tidyverse.org/) library:"
   ]
  },
  {
   "cell_type": "code",
   "execution_count": 56,
   "id": "1454aa41-969c-4bba-87f1-b2adb81cdf1e",
   "metadata": {
    "tags": []
   },
   "outputs": [],
   "source": [
    "library(purrr)"
   ]
  },
  {
   "cell_type": "code",
   "execution_count": 55,
   "id": "b10b69c1-746d-4238-b8a9-07763c6f145c",
   "metadata": {
    "tags": []
   },
   "outputs": [],
   "source": [
    "df <- \n",
    "    files %>%\n",
    "    map_df(~fread(.))"
   ]
  },
  {
   "cell_type": "markdown",
   "id": "c3412462-fbe9-4125-9520-42343bf8124f",
   "metadata": {},
   "source": [
    "Review the size and preview the records:"
   ]
  },
  {
   "cell_type": "code",
   "execution_count": 57,
   "id": "6b8dd61c-979f-4dec-9744-13ed8a2f40a3",
   "metadata": {
    "tags": []
   },
   "outputs": [
    {
     "data": {
      "text/html": [
       "<style>\n",
       ".list-inline {list-style: none; margin:0; padding: 0}\n",
       ".list-inline>li {display: inline-block}\n",
       ".list-inline>li:not(:last-child)::after {content: \"\\00b7\"; padding: 0 .5ex}\n",
       "</style>\n",
       "<ol class=list-inline><li>284807</li><li>31</li></ol>\n"
      ],
      "text/latex": [
       "\\begin{enumerate*}\n",
       "\\item 284807\n",
       "\\item 31\n",
       "\\end{enumerate*}\n"
      ],
      "text/markdown": [
       "1. 284807\n",
       "2. 31\n",
       "\n",
       "\n"
      ],
      "text/plain": [
       "[1] 284807     31"
      ]
     },
     "metadata": {},
     "output_type": "display_data"
    }
   ],
   "source": [
    "dim(df)"
   ]
  },
  {
   "cell_type": "code",
   "execution_count": 58,
   "id": "364b8893-7ddb-4f73-9dd6-f2e8cc42bb7f",
   "metadata": {
    "tags": []
   },
   "outputs": [
    {
     "data": {
      "text/html": [
       "<table class=\"dataframe\">\n",
       "<caption>A data.table: 2 × 31</caption>\n",
       "<thead>\n",
       "\t<tr><th scope=col>Time</th><th scope=col>V1</th><th scope=col>V2</th><th scope=col>V3</th><th scope=col>V4</th><th scope=col>V5</th><th scope=col>V6</th><th scope=col>V7</th><th scope=col>V8</th><th scope=col>V9</th><th scope=col>⋯</th><th scope=col>V21</th><th scope=col>V22</th><th scope=col>V23</th><th scope=col>V24</th><th scope=col>V25</th><th scope=col>V26</th><th scope=col>V27</th><th scope=col>V28</th><th scope=col>Amount</th><th scope=col>Class</th></tr>\n",
       "\t<tr><th scope=col>&lt;int&gt;</th><th scope=col>&lt;dbl&gt;</th><th scope=col>&lt;dbl&gt;</th><th scope=col>&lt;dbl&gt;</th><th scope=col>&lt;dbl&gt;</th><th scope=col>&lt;dbl&gt;</th><th scope=col>&lt;dbl&gt;</th><th scope=col>&lt;dbl&gt;</th><th scope=col>&lt;dbl&gt;</th><th scope=col>&lt;dbl&gt;</th><th scope=col>⋯</th><th scope=col>&lt;dbl&gt;</th><th scope=col>&lt;dbl&gt;</th><th scope=col>&lt;dbl&gt;</th><th scope=col>&lt;dbl&gt;</th><th scope=col>&lt;dbl&gt;</th><th scope=col>&lt;dbl&gt;</th><th scope=col>&lt;dbl&gt;</th><th scope=col>&lt;dbl&gt;</th><th scope=col>&lt;dbl&gt;</th><th scope=col>&lt;int&gt;</th></tr>\n",
       "</thead>\n",
       "<tbody>\n",
       "\t<tr><td> 8748</td><td>-1.070416</td><td>0.3045173</td><td>2.7770644</td><td>2.154061</td><td> 0.2544503</td><td>-0.4485295</td><td>-0.39869079</td><td> 0.14467154</td><td> 1.070900</td><td>⋯</td><td>-0.12203215</td><td>-0.18235147</td><td> 0.01957590</td><td>0.6260233</td><td>-0.01851757</td><td>-0.26329053</td><td>-0.19860014</td><td>0.09843517</td><td>0</td><td>0</td></tr>\n",
       "\t<tr><td>27074</td><td> 1.165628</td><td>0.4236713</td><td>0.8876348</td><td>2.740163</td><td>-0.3385779</td><td>-0.1428458</td><td>-0.05562784</td><td>-0.01532457</td><td>-0.213621</td><td>⋯</td><td>-0.08118352</td><td>-0.02569424</td><td>-0.07660875</td><td>0.4146867</td><td> 0.63103248</td><td> 0.07732208</td><td> 0.01018155</td><td>0.01991206</td><td>0</td><td>0</td></tr>\n",
       "</tbody>\n",
       "</table>\n"
      ],
      "text/latex": [
       "A data.table: 2 × 31\n",
       "\\begin{tabular}{lllllllllllllllllllll}\n",
       " Time & V1 & V2 & V3 & V4 & V5 & V6 & V7 & V8 & V9 & ⋯ & V21 & V22 & V23 & V24 & V25 & V26 & V27 & V28 & Amount & Class\\\\\n",
       " <int> & <dbl> & <dbl> & <dbl> & <dbl> & <dbl> & <dbl> & <dbl> & <dbl> & <dbl> & ⋯ & <dbl> & <dbl> & <dbl> & <dbl> & <dbl> & <dbl> & <dbl> & <dbl> & <dbl> & <int>\\\\\n",
       "\\hline\n",
       "\t  8748 & -1.070416 & 0.3045173 & 2.7770644 & 2.154061 &  0.2544503 & -0.4485295 & -0.39869079 &  0.14467154 &  1.070900 & ⋯ & -0.12203215 & -0.18235147 &  0.01957590 & 0.6260233 & -0.01851757 & -0.26329053 & -0.19860014 & 0.09843517 & 0 & 0\\\\\n",
       "\t 27074 &  1.165628 & 0.4236713 & 0.8876348 & 2.740163 & -0.3385779 & -0.1428458 & -0.05562784 & -0.01532457 & -0.213621 & ⋯ & -0.08118352 & -0.02569424 & -0.07660875 & 0.4146867 &  0.63103248 &  0.07732208 &  0.01018155 & 0.01991206 & 0 & 0\\\\\n",
       "\\end{tabular}\n"
      ],
      "text/markdown": [
       "\n",
       "A data.table: 2 × 31\n",
       "\n",
       "| Time &lt;int&gt; | V1 &lt;dbl&gt; | V2 &lt;dbl&gt; | V3 &lt;dbl&gt; | V4 &lt;dbl&gt; | V5 &lt;dbl&gt; | V6 &lt;dbl&gt; | V7 &lt;dbl&gt; | V8 &lt;dbl&gt; | V9 &lt;dbl&gt; | ⋯ ⋯ | V21 &lt;dbl&gt; | V22 &lt;dbl&gt; | V23 &lt;dbl&gt; | V24 &lt;dbl&gt; | V25 &lt;dbl&gt; | V26 &lt;dbl&gt; | V27 &lt;dbl&gt; | V28 &lt;dbl&gt; | Amount &lt;dbl&gt; | Class &lt;int&gt; |\n",
       "|---|---|---|---|---|---|---|---|---|---|---|---|---|---|---|---|---|---|---|---|---|\n",
       "|  8748 | -1.070416 | 0.3045173 | 2.7770644 | 2.154061 |  0.2544503 | -0.4485295 | -0.39869079 |  0.14467154 |  1.070900 | ⋯ | -0.12203215 | -0.18235147 |  0.01957590 | 0.6260233 | -0.01851757 | -0.26329053 | -0.19860014 | 0.09843517 | 0 | 0 |\n",
       "| 27074 |  1.165628 | 0.4236713 | 0.8876348 | 2.740163 | -0.3385779 | -0.1428458 | -0.05562784 | -0.01532457 | -0.213621 | ⋯ | -0.08118352 | -0.02569424 | -0.07660875 | 0.4146867 |  0.63103248 |  0.07732208 |  0.01018155 | 0.01991206 | 0 | 0 |\n",
       "\n"
      ],
      "text/plain": [
       "  Time  V1        V2        V3        V4       V5         V6        \n",
       "1  8748 -1.070416 0.3045173 2.7770644 2.154061  0.2544503 -0.4485295\n",
       "2 27074  1.165628 0.4236713 0.8876348 2.740163 -0.3385779 -0.1428458\n",
       "  V7          V8          V9        ⋯ V21         V22         V23        \n",
       "1 -0.39869079  0.14467154  1.070900 ⋯ -0.12203215 -0.18235147  0.01957590\n",
       "2 -0.05562784 -0.01532457 -0.213621 ⋯ -0.08118352 -0.02569424 -0.07660875\n",
       "  V24       V25         V26         V27         V28        Amount Class\n",
       "1 0.6260233 -0.01851757 -0.26329053 -0.19860014 0.09843517 0      0    \n",
       "2 0.4146867  0.63103248  0.07732208  0.01018155 0.01991206 0      0    "
      ]
     },
     "metadata": {},
     "output_type": "display_data"
    }
   ],
   "source": [
    "head(df, 2)"
   ]
  },
  {
   "cell_type": "markdown",
   "id": "839a6ece-961b-48a3-9099-5d9775f11753",
   "metadata": {},
   "source": [
    "### Remove Exported Data From GCS\n",
    "\n",
    "Optionally, delete the data exported from BigQuery to GCS.  Depending on your workflow you may want to adopt the practice of cleaning up the exported data with each run of this code when it is finished."
   ]
  },
  {
   "cell_type": "code",
   "execution_count": 59,
   "id": "16e59258-7b36-4243-bfc1-3440cb748d07",
   "metadata": {
    "tags": []
   },
   "outputs": [],
   "source": [
    "#sapply(files, unlink)"
   ]
  },
  {
   "cell_type": "markdown",
   "id": "32b1d11c-105f-486a-9d7c-f3d4834e9e5b",
   "metadata": {},
   "source": [
    "---\n",
    "## Prepare Data For Models\n",
    "\n",
    "While **R** is an excellent tool for preparing data for machine learning it can make serving the resulting models challenging if the same processing needs to occur on future data.  This section shows how to use **R** to orchestrate some preliminary data preparation steps in BigQuery and then load the results into **R** using the methods presented above."
   ]
  },
  {
   "cell_type": "markdown",
   "id": "4a9561fa-aad3-4092-a6ab-6affac0aabed",
   "metadata": {},
   "source": [
    "### BigQuery Dataset\n",
    "\n",
    "In BigQuery, tables are arranged in groups called datasets that are resources within Google Cloud projects.  This three level organization make it easy to refer to data table (or views).  \n",
    "\n",
    "Create a dataset within the current project to hold a prepared version of the data.  Start by checking to see if it already exists.\n",
    "\n",
    "- Reference: [BigQuery datasets with R/bq-datasets.R](https://bigrquery.r-dbi.org/reference/api-dataset.html)"
   ]
  },
  {
   "cell_type": "markdown",
   "id": "fcb0f2be-c65a-47aa-9737-431929fe3a95",
   "metadata": {
    "tags": []
   },
   "source": [
    "Create BigQuery dataset object:"
   ]
  },
  {
   "cell_type": "code",
   "execution_count": 61,
   "id": "98f83052-5ddb-41a3-9d76-6f383e57ce9d",
   "metadata": {
    "tags": []
   },
   "outputs": [],
   "source": [
    "bq_ds <- bq_dataset(bq_project, bq_dataset)"
   ]
  },
  {
   "cell_type": "markdown",
   "id": "22703a75-8b5a-42a4-88bd-2d08bb046510",
   "metadata": {},
   "source": [
    "Check for existance of the dataset, create if needed:"
   ]
  },
  {
   "cell_type": "code",
   "execution_count": 68,
   "id": "63919ff8-0bb1-47ef-8f55-e638ed2d661f",
   "metadata": {
    "tags": []
   },
   "outputs": [
    {
     "name": "stdout",
     "output_type": "stream",
     "text": [
      "[1] \"Creating dataset\"\n"
     ]
    },
    {
     "data": {
      "text/plain": [
       "<bq_dataset> statmike-mlops-349915.r"
      ]
     },
     "metadata": {},
     "output_type": "display_data"
    }
   ],
   "source": [
    "if (bq_dataset_exists(bq_ds)) {\n",
    "    print('Dataset already exists')\n",
    "} else {\n",
    "    print('Creating dataset')\n",
    "    bq_dataset_create(bq_ds, location = bq_region)\n",
    "}"
   ]
  },
  {
   "cell_type": "markdown",
   "id": "f2aa91bc-fd6a-46bb-8580-3ae7b74e0edc",
   "metadata": {},
   "source": [
    "### Create Table\n",
    "\n",
    "Create a copy of the source table in the new dataset and add row leve id's (`transacation_id`) and assign splits for Train/Test (`splits`)."
   ]
  },
  {
   "cell_type": "markdown",
   "id": "e34be6ab-2b35-4cb2-8aed-47898aeb068f",
   "metadata": {},
   "source": [
    "Define the query that creates the table:"
   ]
  },
  {
   "cell_type": "code",
   "execution_count": 73,
   "id": "1a0d0ffd-9fe5-49e2-bdf3-17a2205d32d6",
   "metadata": {
    "tags": []
   },
   "outputs": [
    {
     "name": "stdout",
     "output_type": "stream",
     "text": [
      "\n",
      "CREATE TABLE IF NOT EXISTS `statmike-mlops-349915.r.bigquery-data` AS\n",
      "WITH add_id AS(SELECT *, GENERATE_UUID() transaction_id FROM `bigquery-public-data.ml_datasets.ulb_fraud_detection`)\n",
      "SELECT *,\n",
      "    CASE \n",
      "        WHEN MOD(ABS(FARM_FINGERPRINT(transaction_id)),10) < 8 THEN \"TRAIN\" \n",
      "        WHEN MOD(ABS(FARM_FINGERPRINT(transaction_id)),10) < 9 THEN \"VALIDATE\"\n",
      "        ELSE \"TEST\"\n",
      "    END AS splits\n",
      "FROM add_id\n"
     ]
    }
   ],
   "source": [
    "query <- sprintf('\n",
    "CREATE TABLE IF NOT EXISTS `%s.%s.%s` AS\n",
    "WITH add_id AS(SELECT *, GENERATE_UUID() transaction_id FROM `%s`)\n",
    "SELECT *,\n",
    "    CASE \n",
    "        WHEN MOD(ABS(FARM_FINGERPRINT(transaction_id)),10) < 8 THEN \"TRAIN\" \n",
    "        WHEN MOD(ABS(FARM_FINGERPRINT(transaction_id)),10) < 9 THEN \"VALIDATE\"\n",
    "        ELSE \"TEST\"\n",
    "    END AS splits\n",
    "FROM add_id\n",
    "', bq_project, bq_dataset, bq_table, bq_source)\n",
    "cat(query)"
   ]
  },
  {
   "cell_type": "markdown",
   "id": "dab0c960-d7d2-4404-be2e-050fdbf8c691",
   "metadata": {},
   "source": [
    "Run the query using `bigrquery`:"
   ]
  },
  {
   "cell_type": "code",
   "execution_count": 74,
   "id": "bd681677-8cf4-4781-9c4d-e24322332f73",
   "metadata": {
    "tags": []
   },
   "outputs": [],
   "source": [
    "create <- bq_perform_query(query, billing = bq_project)"
   ]
  },
  {
   "cell_type": "markdown",
   "id": "a7b75fc7-c38c-42bc-9b05-0aada1679a7e",
   "metadata": {},
   "source": [
    "Wait on the create job to complete:"
   ]
  },
  {
   "cell_type": "code",
   "execution_count": 75,
   "id": "2a828735-f6c4-4191-8f78-397f05a1e6b7",
   "metadata": {
    "tags": []
   },
   "outputs": [],
   "source": [
    "bq_job_wait(create)"
   ]
  },
  {
   "cell_type": "markdown",
   "id": "51ed1eca-5d9f-46b3-bf43-7afe173c7af6",
   "metadata": {},
   "source": [
    "### Retrieve Table\n",
    "\n",
    "Using the `bigrquery` method from above, retrieve the full table to a dataframe."
   ]
  },
  {
   "cell_type": "markdown",
   "id": "44c5462d-92fd-4abe-85ef-194f25f998fb",
   "metadata": {},
   "source": [
    "Define the query that reads the table.  Take advantage of BigQuery columnar data by excluding columns that are not needed while also using a `WHERE` statment to filter to rows allocated for model training.  In the inputs above a list of these was created named `var_omit`."
   ]
  },
  {
   "cell_type": "code",
   "execution_count": 87,
   "id": "7bcc43f2-8fbd-43de-a119-afd8bd3fe4e4",
   "metadata": {
    "tags": []
   },
   "outputs": [
    {
     "name": "stdout",
     "output_type": "stream",
     "text": [
      "\n",
      "    SELECT * EXCEPT(transaction_id,splits)\n",
      "    FROM `statmike-mlops-349915.r.bigquery-data`\n",
      "    WHERE splits = \"TRAIN\"\n"
     ]
    }
   ],
   "source": [
    "query <- sprintf('\n",
    "    SELECT * EXCEPT(%s)\n",
    "    FROM `%s.%s.%s`\n",
    "    WHERE splits = \"TRAIN\"\n",
    "', paste(unlist(var_omit), collapse = ','),\n",
    "bq_project, bq_dataset, bq_table)\n",
    "cat(query)"
   ]
  },
  {
   "cell_type": "markdown",
   "id": "dcfee397-175d-40d1-9c91-db3c30c68c7a",
   "metadata": {},
   "source": [
    "Connect to the table defined by the query:"
   ]
  },
  {
   "cell_type": "code",
   "execution_count": 88,
   "id": "dfd4b5fc-4d01-4455-af41-1279f740f03c",
   "metadata": {
    "tags": []
   },
   "outputs": [],
   "source": [
    "table <- bq_project_query(bq_project, query)"
   ]
  },
  {
   "cell_type": "markdown",
   "id": "5e7487da-01fd-4a2d-a9a2-950222b079d8",
   "metadata": {},
   "source": [
    "Load records from the table:"
   ]
  },
  {
   "cell_type": "code",
   "execution_count": 89,
   "id": "95da1db3-3f7b-4fbe-9642-55718d8d0c7f",
   "metadata": {
    "tags": []
   },
   "outputs": [],
   "source": [
    "ds <- bq_table_download(table, n_max = Inf)"
   ]
  },
  {
   "cell_type": "markdown",
   "id": "5cc392fc-992b-476f-bee8-46c4395de9e4",
   "metadata": {},
   "source": [
    "Review the size and preview the records:"
   ]
  },
  {
   "cell_type": "code",
   "execution_count": 90,
   "id": "5ee0ed57-d4f7-4f9a-a8e3-2865dcdabe94",
   "metadata": {
    "tags": []
   },
   "outputs": [
    {
     "data": {
      "text/html": [
       "<style>\n",
       ".list-inline {list-style: none; margin:0; padding: 0}\n",
       ".list-inline>li {display: inline-block}\n",
       ".list-inline>li:not(:last-child)::after {content: \"\\00b7\"; padding: 0 .5ex}\n",
       "</style>\n",
       "<ol class=list-inline><li>227879</li><li>31</li></ol>\n"
      ],
      "text/latex": [
       "\\begin{enumerate*}\n",
       "\\item 227879\n",
       "\\item 31\n",
       "\\end{enumerate*}\n"
      ],
      "text/markdown": [
       "1. 227879\n",
       "2. 31\n",
       "\n",
       "\n"
      ],
      "text/plain": [
       "[1] 227879     31"
      ]
     },
     "metadata": {},
     "output_type": "display_data"
    }
   ],
   "source": [
    "dim(ds)"
   ]
  },
  {
   "cell_type": "code",
   "execution_count": 91,
   "id": "0d9a6464-6c85-4f29-bbdc-f9446b76c2a7",
   "metadata": {
    "tags": []
   },
   "outputs": [
    {
     "data": {
      "text/html": [
       "<table class=\"dataframe\">\n",
       "<caption>A tibble: 2 × 31</caption>\n",
       "<thead>\n",
       "\t<tr><th scope=col>Time</th><th scope=col>V1</th><th scope=col>V2</th><th scope=col>V3</th><th scope=col>V4</th><th scope=col>V5</th><th scope=col>V6</th><th scope=col>V7</th><th scope=col>V8</th><th scope=col>V9</th><th scope=col>⋯</th><th scope=col>V21</th><th scope=col>V22</th><th scope=col>V23</th><th scope=col>V24</th><th scope=col>V25</th><th scope=col>V26</th><th scope=col>V27</th><th scope=col>V28</th><th scope=col>Amount</th><th scope=col>Class</th></tr>\n",
       "\t<tr><th scope=col>&lt;dbl&gt;</th><th scope=col>&lt;dbl&gt;</th><th scope=col>&lt;dbl&gt;</th><th scope=col>&lt;dbl&gt;</th><th scope=col>&lt;dbl&gt;</th><th scope=col>&lt;dbl&gt;</th><th scope=col>&lt;dbl&gt;</th><th scope=col>&lt;dbl&gt;</th><th scope=col>&lt;dbl&gt;</th><th scope=col>&lt;dbl&gt;</th><th scope=col>⋯</th><th scope=col>&lt;dbl&gt;</th><th scope=col>&lt;dbl&gt;</th><th scope=col>&lt;dbl&gt;</th><th scope=col>&lt;dbl&gt;</th><th scope=col>&lt;dbl&gt;</th><th scope=col>&lt;dbl&gt;</th><th scope=col>&lt;dbl&gt;</th><th scope=col>&lt;dbl&gt;</th><th scope=col>&lt;dbl&gt;</th><th scope=col>&lt;int&gt;</th></tr>\n",
       "</thead>\n",
       "<tbody>\n",
       "\t<tr><td> 5043</td><td>-0.6103529</td><td> 0.8762678</td><td>3.134572</td><td> 2.26016851</td><td> 0.001184993</td><td>0.2684391</td><td> 0.1270940</td><td>-0.008680134</td><td>0.9528023</td><td>⋯</td><td>-0.2022804</td><td>-0.1228932</td><td>-0.1831320</td><td> 0.2959793</td><td>-0.15998880</td><td>-0.1301962</td><td>-0.076139183</td><td>-0.109075941</td><td>0</td><td>0</td></tr>\n",
       "\t<tr><td>43968</td><td> 1.1032424</td><td>-0.4789847</td><td>1.136295</td><td>-0.05461861</td><td>-0.823168828</td><td>0.7920736</td><td>-0.9883738</td><td> 0.492957197</td><td>0.8836801</td><td>⋯</td><td>-0.0200895</td><td> 0.1700578</td><td> 0.1209046</td><td>-0.2092878</td><td>-0.07528029</td><td> 1.0339329</td><td>-0.005642291</td><td>-0.002844234</td><td>0</td><td>0</td></tr>\n",
       "</tbody>\n",
       "</table>\n"
      ],
      "text/latex": [
       "A tibble: 2 × 31\n",
       "\\begin{tabular}{lllllllllllllllllllll}\n",
       " Time & V1 & V2 & V3 & V4 & V5 & V6 & V7 & V8 & V9 & ⋯ & V21 & V22 & V23 & V24 & V25 & V26 & V27 & V28 & Amount & Class\\\\\n",
       " <dbl> & <dbl> & <dbl> & <dbl> & <dbl> & <dbl> & <dbl> & <dbl> & <dbl> & <dbl> & ⋯ & <dbl> & <dbl> & <dbl> & <dbl> & <dbl> & <dbl> & <dbl> & <dbl> & <dbl> & <int>\\\\\n",
       "\\hline\n",
       "\t  5043 & -0.6103529 &  0.8762678 & 3.134572 &  2.26016851 &  0.001184993 & 0.2684391 &  0.1270940 & -0.008680134 & 0.9528023 & ⋯ & -0.2022804 & -0.1228932 & -0.1831320 &  0.2959793 & -0.15998880 & -0.1301962 & -0.076139183 & -0.109075941 & 0 & 0\\\\\n",
       "\t 43968 &  1.1032424 & -0.4789847 & 1.136295 & -0.05461861 & -0.823168828 & 0.7920736 & -0.9883738 &  0.492957197 & 0.8836801 & ⋯ & -0.0200895 &  0.1700578 &  0.1209046 & -0.2092878 & -0.07528029 &  1.0339329 & -0.005642291 & -0.002844234 & 0 & 0\\\\\n",
       "\\end{tabular}\n"
      ],
      "text/markdown": [
       "\n",
       "A tibble: 2 × 31\n",
       "\n",
       "| Time &lt;dbl&gt; | V1 &lt;dbl&gt; | V2 &lt;dbl&gt; | V3 &lt;dbl&gt; | V4 &lt;dbl&gt; | V5 &lt;dbl&gt; | V6 &lt;dbl&gt; | V7 &lt;dbl&gt; | V8 &lt;dbl&gt; | V9 &lt;dbl&gt; | ⋯ ⋯ | V21 &lt;dbl&gt; | V22 &lt;dbl&gt; | V23 &lt;dbl&gt; | V24 &lt;dbl&gt; | V25 &lt;dbl&gt; | V26 &lt;dbl&gt; | V27 &lt;dbl&gt; | V28 &lt;dbl&gt; | Amount &lt;dbl&gt; | Class &lt;int&gt; |\n",
       "|---|---|---|---|---|---|---|---|---|---|---|---|---|---|---|---|---|---|---|---|---|\n",
       "|  5043 | -0.6103529 |  0.8762678 | 3.134572 |  2.26016851 |  0.001184993 | 0.2684391 |  0.1270940 | -0.008680134 | 0.9528023 | ⋯ | -0.2022804 | -0.1228932 | -0.1831320 |  0.2959793 | -0.15998880 | -0.1301962 | -0.076139183 | -0.109075941 | 0 | 0 |\n",
       "| 43968 |  1.1032424 | -0.4789847 | 1.136295 | -0.05461861 | -0.823168828 | 0.7920736 | -0.9883738 |  0.492957197 | 0.8836801 | ⋯ | -0.0200895 |  0.1700578 |  0.1209046 | -0.2092878 | -0.07528029 |  1.0339329 | -0.005642291 | -0.002844234 | 0 | 0 |\n",
       "\n"
      ],
      "text/plain": [
       "  Time  V1         V2         V3       V4          V5           V6       \n",
       "1  5043 -0.6103529  0.8762678 3.134572  2.26016851  0.001184993 0.2684391\n",
       "2 43968  1.1032424 -0.4789847 1.136295 -0.05461861 -0.823168828 0.7920736\n",
       "  V7         V8           V9        ⋯ V21        V22        V23       \n",
       "1  0.1270940 -0.008680134 0.9528023 ⋯ -0.2022804 -0.1228932 -0.1831320\n",
       "2 -0.9883738  0.492957197 0.8836801 ⋯ -0.0200895  0.1700578  0.1209046\n",
       "  V24        V25         V26        V27          V28          Amount Class\n",
       "1  0.2959793 -0.15998880 -0.1301962 -0.076139183 -0.109075941 0      0    \n",
       "2 -0.2092878 -0.07528029  1.0339329 -0.005642291 -0.002844234 0      0    "
      ]
     },
     "metadata": {},
     "output_type": "display_data"
    }
   ],
   "source": [
    "head(ds, 2)"
   ]
  },
  {
   "cell_type": "code",
   "execution_count": null,
   "id": "e9ab4888-8331-4033-aed8-22d9108468d3",
   "metadata": {},
   "outputs": [],
   "source": []
  }
 ],
 "metadata": {
  "environment": {
   "kernel": "conda-env-r-r",
   "name": "workbench-notebooks.m113",
   "type": "gcloud",
   "uri": "gcr.io/deeplearning-platform-release/workbench-notebooks:m113"
  },
  "kernelspec": {
   "display_name": "R (Local)",
   "language": "R",
   "name": "conda-env-r-r"
  },
  "language_info": {
   "codemirror_mode": "r",
   "file_extension": ".r",
   "mimetype": "text/x-r-source",
   "name": "R",
   "pygments_lexer": "r",
   "version": "4.3.1"
  }
 },
 "nbformat": 4,
 "nbformat_minor": 5
}
