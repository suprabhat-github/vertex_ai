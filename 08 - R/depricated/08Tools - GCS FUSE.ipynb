{
 "cells": [
  {
   "cell_type": "markdown",
   "id": "bece8ce3",
   "metadata": {},
   "source": [
    "![ga4](https://www.google-analytics.com/collect?v=2&tid=G-6VDTYWLKX6&cid=1&en=page_view&sid=1&dl=statmike%2Fvertex-ai-mlops%2F08+-+R%2Fdepricated&dt=08Tools+-+GCS+FUSE.ipynb)\n",
    "<!--- header table --->\n",
    "<table align=\"left\">\n",
    "  <td style=\"text-align: center\">\n",
    "    <a href=\"https://colab.research.google.com/github/statmike/vertex-ai-mlops/blob/main/08%20-%20R/depricated/08Tools%20-%20GCS%20FUSE.ipynb\">\n",
    "      <img src=\"https://cloud.google.com/ml-engine/images/colab-logo-32px.png\" alt=\"Google Colaboratory logo\">\n",
    "      <br>Run in<br>Colab\n",
    "    </a>\n",
    "  </td>\n",
    "  <td style=\"text-align: center\">\n",
    "    <a href=\"https://console.cloud.google.com/vertex-ai/colab/import/https%3A//raw.githubusercontent.com/statmike/vertex-ai-mlops/main/08%20-%20R/depricated/08Tools%20-%20GCS%20FUSE.ipynb\">\n",
    "      <img width=\"32px\" src=\"https://lh3.googleusercontent.com/JmcxdQi-qOpctIvWKgPtrzZdJJK-J3sWE1RsfjZNwshCFgE_9fULcNpuXYTilIR2hjwN\" alt=\"Google Cloud Colab Enterprise logo\">\n",
    "      <br>Run in<br>Colab Enterprise\n",
    "    </a>\n",
    "  </td>      \n",
    "  <td style=\"text-align: center\">\n",
    "    <a href=\"https://github.com/statmike/vertex-ai-mlops/blob/main/08%20-%20R/depricated/08Tools%20-%20GCS%20FUSE.ipynb\">\n",
    "      <img src=\"https://cloud.google.com/ml-engine/images/github-logo-32px.png\" alt=\"GitHub logo\">\n",
    "      <br>View on<br>GitHub\n",
    "    </a>\n",
    "  </td>\n",
    "  <td style=\"text-align: center\">\n",
    "    <a href=\"https://console.cloud.google.com/vertex-ai/workbench/deploy-notebook?download_url=https%3A//raw.githubusercontent.com/statmike/vertex-ai-mlops/main/08%20-%20R/depricated/08Tools%20-%20GCS%20FUSE.ipynb\">\n",
    "      <img src=\"https://lh3.googleusercontent.com/UiNooY4LUgW_oTvpsNhPpQzsstV5W8F7rYgxgGBD85cWJoLmrOzhVs_ksK_vgx40SHs7jCqkTkCk=e14-rj-sc0xffffff-h130-w32\" alt=\"Vertex AI logo\">\n",
    "      <br>Open in<br>Vertex AI Workbench\n",
    "    </a>\n",
    "  </td>\n",
    "</table>"
   ]
  },
  {
   "cell_type": "markdown",
   "id": "d382bdd9-e534-4f38-a4b3-5eac0fc4a016",
   "metadata": {},
   "source": [
    "# 08Tools - GCS FUSE\n",
    "\n",
    "**IN ACTIVE DEVELOPMENT - NOT COMPLETE**\n",
    "\n",
    "Dev Notes:\n",
    "- R Kernel:\n",
    "    - use notebook instance with R kernel\n",
    "    - or, install R here with needed libraries\n",
    "- Demonstrate BQ > GCS > R with GCS FUSE Mount\n",
    "\n",
    "Workflow:\n",
    "- Initiate export of data from BigQuery to GCS Bucket\n",
    "- Read data from GCS into R dataframe from GCS FUSE mount location\n",
    "- Delete data from GCS Bucket\n",
    "    \n",
    "**Resources:**\n",
    "- Vertex AI Training Jobs, read and write Cloud Storage file with Cloud Storage FUSE [link](https://cloud.google.com/vertex-ai/docs/training/code-requirements#fuse)\n",
    "- Blog on Mounting Cloud Storage Bucket in Vertex AI Workbench [link](https://cloud.google.com/blog/topics/developers-practitioners/cloud-storage-file-system-vertex-ai-workbench-notebooks)\n",
    "- [Cloud Storage FUSE](https://cloud.google.com/storage/docs/gcs-fuse)\n",
    "    \n",
    "**Prerequisites:**\n",
    "- [01 - BigQuery - Table Data Source](../01%20-%20Data%20Sources/01%20-%20BigQuery%20-%20Table%20Data%20Source.ipynb)"
   ]
  },
  {
   "cell_type": "markdown",
   "id": "9ec30876-504e-4825-ba16-75d5e2f1defb",
   "metadata": {},
   "source": [
    "---\n",
    "## Preparation\n",
    "\n",
    "When using a Vertex AI Workbench the instance already has GCS Fuse installed.  Use the following steps at a terminal to mount a local folder for use:\n",
    "\n",
    "```\n",
    "cd ~/\n",
    "mkdir -p gcs\n",
    "gcsfuse --implicit-dirs --rename-dir-limit=100 --disable-http2 --max-conns-per-host=100 \"/home/jupyter/gcs\"\n",
    "```\n",
    "\n",
    "When running a Vertex AI Training job this mount is already done for you at the `/gcs/` location."
   ]
  },
  {
   "cell_type": "markdown",
   "id": "f59cd956-3003-437b-939a-751c8c79e4dc",
   "metadata": {},
   "source": [
    "---\n",
    "## Setup"
   ]
  },
  {
   "cell_type": "markdown",
   "id": "b1e7cd96-5d36-4730-952a-4c1ec18fa867",
   "metadata": {},
   "source": [
    "inputs:"
   ]
  },
  {
   "cell_type": "code",
   "execution_count": 1,
   "id": "13d824f8-d614-4dab-b6c7-5e37f749a692",
   "metadata": {},
   "outputs": [
    {
     "data": {
      "text/html": [
       "'statmike-mlops-349915'"
      ],
      "text/latex": [
       "'statmike-mlops-349915'"
      ],
      "text/markdown": [
       "'statmike-mlops-349915'"
      ],
      "text/plain": [
       "[1] \"statmike-mlops-349915\""
      ]
     },
     "metadata": {},
     "output_type": "display_data"
    }
   ],
   "source": [
    "project_id <- system('gcloud config get-value project', intern = TRUE)\n",
    "project_id"
   ]
  },
  {
   "cell_type": "code",
   "execution_count": 17,
   "id": "1d4fdd3d-8783-4a89-83a1-5217e50bee32",
   "metadata": {},
   "outputs": [],
   "source": [
    "series = '08'\n",
    "experiment = 'gcs_fuse'\n",
    "\n",
    "bq_project <- project_id\n",
    "bq_dataset <- 'fraud'\n",
    "bq_table <- 'fraud_prepped'\n",
    "\n",
    "var_target <- 'Class'\n",
    "var_omit <- 'transaction_id'"
   ]
  },
  {
   "cell_type": "markdown",
   "id": "9d3a4874-7916-4991-93f6-ec88dbbee7a7",
   "metadata": {},
   "source": [
    "packages:"
   ]
  },
  {
   "cell_type": "code",
   "execution_count": 75,
   "id": "5b88f31a-ae15-485f-b249-7cafe0ba7b84",
   "metadata": {},
   "outputs": [
    {
     "name": "stderr",
     "output_type": "stream",
     "text": [
      "\n",
      "Attaching package: ‘data.table’\n",
      "\n",
      "\n",
      "The following objects are masked from ‘package:dplyr’:\n",
      "\n",
      "    between, first, last\n",
      "\n",
      "\n",
      "The following object is masked from ‘package:purrr’:\n",
      "\n",
      "    transpose\n",
      "\n",
      "\n"
     ]
    }
   ],
   "source": [
    "library(bigrquery)\n",
    "library(data.table)"
   ]
  },
  {
   "cell_type": "markdown",
   "id": "666a4d07-785e-4378-afa8-35e43a3ca854",
   "metadata": {},
   "source": [
    "---\n",
    "## Export Data From BigQuery to GCS\n",
    "\n",
    "Use a SQL Query to initiate and export from BigQuery to GCS at a specified location.  This example show exporting to `.csv` files with a wildcard.  The example data is small enough that is outputs to a single file but this code would work with much larger datasets that export to multiple `.csv` files as well.\n",
    "\n",
    "**Resources:**\n",
    "\n",
    "- [BigQuery data exports](https://cloud.google.com/bigquery/docs/exporting-data#sql)\n"
   ]
  },
  {
   "cell_type": "markdown",
   "id": "a606cdcc-2739-4034-89c5-cb750fdd2ce3",
   "metadata": {},
   "source": [
    "### Construct the query string:"
   ]
  },
  {
   "cell_type": "code",
   "execution_count": 24,
   "id": "58b0a4a2-0e70-470a-9796-5058c0ecd124",
   "metadata": {},
   "outputs": [],
   "source": [
    "query <- \"\n",
    "EXPORT DATA\n",
    "    OPTIONS (\n",
    "        uri = 'gs://%s/%s/%s/data/*.csv',\n",
    "        format = 'CSV',\n",
    "        overwrite = true,\n",
    "        header = true,\n",
    "        field_delimiter = ','\n",
    "    )\n",
    "AS (\n",
    "    SELECT * EXCEPT(%s, splits)\n",
    "    FROM `%s.%s.%s`\n",
    "    WHERE splits = 'TRAIN'\n",
    ")\""
   ]
  },
  {
   "cell_type": "code",
   "execution_count": 25,
   "id": "6595b580-51bc-4456-b2c7-dfce2f50c404",
   "metadata": {},
   "outputs": [
    {
     "name": "stdout",
     "output_type": "stream",
     "text": [
      "\n",
      "EXPORT DATA\n",
      "    OPTIONS (\n",
      "        uri = 'gs://%s/%s/%s/data/*.csv',\n",
      "        format = 'CSV',\n",
      "        overwrite = true,\n",
      "        header = true,\n",
      "        field_delimiter = ','\n",
      "    )\n",
      "AS (\n",
      "    SELECT * EXCEPT(%s, splits)\n",
      "    FROM `%s.%s.%s`\n",
      "    WHERE splits = 'TRAIN'\n",
      ")"
     ]
    }
   ],
   "source": [
    "cat(query)"
   ]
  },
  {
   "cell_type": "code",
   "execution_count": 26,
   "id": "0bc39175-0a1d-4ebb-97b1-cdbb4b7486b5",
   "metadata": {},
   "outputs": [],
   "source": [
    "query <- sprintf(query, project_id, series, experiment, var_omit, bq_project, bq_dataset, bq_table)"
   ]
  },
  {
   "cell_type": "code",
   "execution_count": 27,
   "id": "23016ae6-130a-470c-bc7b-181c51a1d8e4",
   "metadata": {},
   "outputs": [
    {
     "name": "stdout",
     "output_type": "stream",
     "text": [
      "\n",
      "EXPORT DATA\n",
      "    OPTIONS (\n",
      "        uri = 'gs://statmike-mlops-349915/08/gcs_fuse/data/*.csv',\n",
      "        format = 'CSV',\n",
      "        overwrite = true,\n",
      "        header = true,\n",
      "        field_delimiter = ','\n",
      "    )\n",
      "AS (\n",
      "    SELECT * EXCEPT(transaction_id, splits)\n",
      "    FROM `statmike-mlops-349915.fraud.fraud_prepped`\n",
      "    WHERE splits = 'TRAIN'\n",
      ")"
     ]
    }
   ],
   "source": [
    "cat(query)"
   ]
  },
  {
   "cell_type": "markdown",
   "id": "ffe67f8a-b2ed-4263-a53f-250edfca4fb9",
   "metadata": {},
   "source": [
    "### Run the Query (using library bigrquery)"
   ]
  },
  {
   "cell_type": "code",
   "execution_count": 32,
   "id": "f3b97cc5-e055-431c-9835-254532a596da",
   "metadata": {},
   "outputs": [],
   "source": [
    "export <- bq_perform_query(query, billing = bq_project)"
   ]
  },
  {
   "cell_type": "code",
   "execution_count": 33,
   "id": "d53dd28a-5af0-4b3a-8d1b-42c5511b97ab",
   "metadata": {},
   "outputs": [],
   "source": [
    "bq_job_wait(export)"
   ]
  },
  {
   "cell_type": "markdown",
   "id": "39fbe9a0-f1ff-4ee6-ad21-6fb6fde06cb1",
   "metadata": {},
   "source": [
    "### List the Exported Files:"
   ]
  },
  {
   "cell_type": "code",
   "execution_count": 77,
   "id": "621538ab-b4e0-4eb9-ae16-88e1bc785a9d",
   "metadata": {},
   "outputs": [
    {
     "data": {
      "text/html": [
       "'/home/jupyter/gcs/statmike-mlops-349915/08/gcs_fuse/data/000000000000.csv'"
      ],
      "text/latex": [
       "'/home/jupyter/gcs/statmike-mlops-349915/08/gcs\\_fuse/data/000000000000.csv'"
      ],
      "text/markdown": [
       "'/home/jupyter/gcs/statmike-mlops-349915/08/gcs_fuse/data/000000000000.csv'"
      ],
      "text/plain": [
       "[1] \"/home/jupyter/gcs/statmike-mlops-349915/08/gcs_fuse/data/000000000000.csv\""
      ]
     },
     "metadata": {},
     "output_type": "display_data"
    }
   ],
   "source": [
    "files <- list.files(\n",
    "    path = sprintf('~/gcs/%s/%s/%s/data', project_id, series, experiment),\n",
    "    pattern = '*.csv',\n",
    "    full.names = TRUE\n",
    ")\n",
    "files"
   ]
  },
  {
   "cell_type": "markdown",
   "id": "8b393d40-4b89-43d6-ace8-4f7eb9db3d97",
   "metadata": {},
   "source": [
    "---\n",
    "## Read the Data Into An R Dataframe\n",
    "\n",
    "The code here will read all `.csv` files at the bucket location into a single R dataframe."
   ]
  },
  {
   "cell_type": "code",
   "execution_count": 78,
   "id": "932bb531-0fd3-4c16-bfbc-fe97302e2a59",
   "metadata": {},
   "outputs": [],
   "source": [
    "path <- sprintf('~/gcs/%s/%s/%s/data', project_id, series, experiment)\n",
    "df <- \n",
    "    files %>%\n",
    "    map_df(~fread(.))"
   ]
  },
  {
   "cell_type": "markdown",
   "id": "f35fa480-7866-478e-a545-302145b2a136",
   "metadata": {},
   "source": [
    "---\n",
    "## Use The Data To Create A Model"
   ]
  },
  {
   "cell_type": "code",
   "execution_count": 80,
   "id": "a0fc7af3-212f-4578-a688-b856d2f11c9b",
   "metadata": {},
   "outputs": [
    {
     "name": "stderr",
     "output_type": "stream",
     "text": [
      "Warning message:\n",
      "“glm.fit: fitted probabilities numerically 0 or 1 occurred”\n"
     ]
    }
   ],
   "source": [
    "model <- glm(\n",
    "    Class ~ .,\n",
    "    data = df,\n",
    "    family = binomial)"
   ]
  },
  {
   "cell_type": "code",
   "execution_count": 81,
   "id": "3d944f9d-27ce-4796-910d-cd6d4ef6216a",
   "metadata": {},
   "outputs": [
    {
     "data": {
      "text/plain": [
       "\n",
       "Call:\n",
       "glm(formula = Class ~ ., family = binomial, data = df)\n",
       "\n",
       "Deviance Residuals: \n",
       "    Min       1Q   Median       3Q      Max  \n",
       "-4.9067  -0.0297  -0.0196  -0.0126   4.6681  \n",
       "\n",
       "Coefficients:\n",
       "              Estimate Std. Error z value Pr(>|z|)    \n",
       "(Intercept) -8.364e+00  2.708e-01 -30.893  < 2e-16 ***\n",
       "Time        -3.794e-06  2.479e-06  -1.530 0.125941    \n",
       "V1           1.244e-01  4.665e-02   2.666 0.007667 ** \n",
       "V2          -4.491e-02  6.020e-02  -0.746 0.455685    \n",
       "V3          -1.534e-02  5.767e-02  -0.266 0.790218    \n",
       "V4           6.668e-01  7.603e-02   8.770  < 2e-16 ***\n",
       "V5           1.355e-01  6.869e-02   1.973 0.048496 *  \n",
       "V6          -8.460e-02  7.614e-02  -1.111 0.266556    \n",
       "V7          -1.222e-01  6.931e-02  -1.763 0.077897 .  \n",
       "V8          -1.758e-01  3.225e-02  -5.452 4.98e-08 ***\n",
       "V9          -4.114e-01  1.162e-01  -3.541 0.000398 ***\n",
       "V10         -8.457e-01  9.909e-02  -8.535  < 2e-16 ***\n",
       "V11         -1.359e-01  9.153e-02  -1.485 0.137524    \n",
       "V12          8.785e-02  9.681e-02   0.907 0.364182    \n",
       "V13         -3.235e-01  9.174e-02  -3.527 0.000421 ***\n",
       "V14         -5.801e-01  6.876e-02  -8.436  < 2e-16 ***\n",
       "V15         -7.855e-02  9.506e-02  -0.826 0.408642    \n",
       "V16         -1.618e-01  1.303e-01  -1.241 0.214466    \n",
       "V17         -6.767e-02  7.608e-02  -0.889 0.373765    \n",
       "V18          3.997e-02  1.368e-01   0.292 0.770183    \n",
       "V19          1.264e-01  1.050e-01   1.204 0.228533    \n",
       "V20         -5.079e-01  8.566e-02  -5.930 3.04e-09 ***\n",
       "V21          4.294e-01  6.439e-02   6.669 2.58e-11 ***\n",
       "V22          6.881e-01  1.469e-01   4.685 2.80e-06 ***\n",
       "V23         -7.442e-02  6.824e-02  -1.091 0.275446    \n",
       "V24          1.891e-01  1.608e-01   1.176 0.239446    \n",
       "V25         -1.014e-01  1.438e-01  -0.705 0.480647    \n",
       "V26         -9.199e-02  2.105e-01  -0.437 0.662149    \n",
       "V27         -8.877e-01  1.287e-01  -6.895 5.37e-12 ***\n",
       "V28         -2.863e-01  9.032e-02  -3.170 0.001523 ** \n",
       "Amount       8.820e-04  3.858e-04   2.287 0.022224 *  \n",
       "---\n",
       "Signif. codes:  0 ‘***’ 0.001 ‘**’ 0.01 ‘*’ 0.05 ‘.’ 0.1 ‘ ’ 1\n",
       "\n",
       "(Dispersion parameter for binomial family taken to be 1)\n",
       "\n",
       "    Null deviance: 5837.9  on 228060  degrees of freedom\n",
       "Residual deviance: 1808.4  on 228030  degrees of freedom\n",
       "AIC: 1870.4\n",
       "\n",
       "Number of Fisher Scoring iterations: 11\n"
      ]
     },
     "metadata": {},
     "output_type": "display_data"
    }
   ],
   "source": [
    "summary(model)"
   ]
  },
  {
   "cell_type": "markdown",
   "id": "2e4e3490-2274-49b8-b77a-679e37776fcd",
   "metadata": {},
   "source": [
    "---\n",
    "## Delete The Exported Data\n",
    "\n",
    "Optionally, delete the data exported from BigQuery to GCS.  Depending on your workflow you may want to adopt the practice of cleaning up the exported data with each run of this code when it is finished."
   ]
  },
  {
   "cell_type": "code",
   "execution_count": 82,
   "id": "94347c36-71a8-4cda-a775-f727df312a34",
   "metadata": {},
   "outputs": [
    {
     "data": {
      "text/html": [
       "<strong>/home/jupyter/gcs/statmike-mlops-349915/08/gcs_fuse/data/000000000000.csv:</strong> 0"
      ],
      "text/latex": [
       "\\textbf{/home/jupyter/gcs/statmike-mlops-349915/08/gcs\\textbackslash{}\\_fuse/data/000000000000.csv:} 0"
      ],
      "text/markdown": [
       "**/home/jupyter/gcs/statmike-mlops-349915/08/gcs_fuse/data/000000000000.csv:** 0"
      ],
      "text/plain": [
       "/home/jupyter/gcs/statmike-mlops-349915/08/gcs_fuse/data/000000000000.csv \n",
       "                                                                        0 "
      ]
     },
     "metadata": {},
     "output_type": "display_data"
    }
   ],
   "source": [
    "sapply(files, unlink)"
   ]
  }
 ],
 "metadata": {
  "environment": {
   "kernel": "conda-env-r-r",
   "name": "workbench-notebooks.m113",
   "type": "gcloud",
   "uri": "gcr.io/deeplearning-platform-release/workbench-notebooks:m113"
  },
  "kernelspec": {
   "display_name": "R (Local)",
   "language": "R",
   "name": "conda-env-r-r"
  },
  "language_info": {
   "codemirror_mode": "r",
   "file_extension": ".r",
   "mimetype": "text/x-r-source",
   "name": "R",
   "pygments_lexer": "r",
   "version": "4.3.1"
  }
 },
 "nbformat": 4,
 "nbformat_minor": 5
}
