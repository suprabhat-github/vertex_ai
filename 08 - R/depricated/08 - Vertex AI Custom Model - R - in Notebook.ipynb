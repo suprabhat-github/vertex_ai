{
 "cells": [
  {
   "cell_type": "markdown",
   "id": "33244095",
   "metadata": {},
   "source": [
    "![ga4](https://www.google-analytics.com/collect?v=2&tid=G-6VDTYWLKX6&cid=1&en=page_view&sid=1&dl=statmike%2Fvertex-ai-mlops%2F08+-+R%2Fdepricated&dt=08+-+Vertex+AI+Custom+Model+-+R+-+in+Notebook.ipynb)\n",
    "<!--- header table --->\n",
    "<table align=\"left\">\n",
    "  <td style=\"text-align: center\">\n",
    "    <a href=\"https://colab.research.google.com/github/statmike/vertex-ai-mlops/blob/main/08%20-%20R/depricated/08%20-%20Vertex%20AI%20Custom%20Model%20-%20R%20-%20in%20Notebook.ipynb\">\n",
    "      <img src=\"https://cloud.google.com/ml-engine/images/colab-logo-32px.png\" alt=\"Google Colaboratory logo\">\n",
    "      <br>Run in<br>Colab\n",
    "    </a>\n",
    "  </td>\n",
    "  <td style=\"text-align: center\">\n",
    "    <a href=\"https://console.cloud.google.com/vertex-ai/colab/import/https%3A//raw.githubusercontent.com/statmike/vertex-ai-mlops/main/08%20-%20R/depricated/08%20-%20Vertex%20AI%20Custom%20Model%20-%20R%20-%20in%20Notebook.ipynb\">\n",
    "      <img width=\"32px\" src=\"https://lh3.googleusercontent.com/JmcxdQi-qOpctIvWKgPtrzZdJJK-J3sWE1RsfjZNwshCFgE_9fULcNpuXYTilIR2hjwN\" alt=\"Google Cloud Colab Enterprise logo\">\n",
    "      <br>Run in<br>Colab Enterprise\n",
    "    </a>\n",
    "  </td>      \n",
    "  <td style=\"text-align: center\">\n",
    "    <a href=\"https://github.com/statmike/vertex-ai-mlops/blob/main/08%20-%20R/depricated/08%20-%20Vertex%20AI%20Custom%20Model%20-%20R%20-%20in%20Notebook.ipynb\">\n",
    "      <img src=\"https://cloud.google.com/ml-engine/images/github-logo-32px.png\" alt=\"GitHub logo\">\n",
    "      <br>View on<br>GitHub\n",
    "    </a>\n",
    "  </td>\n",
    "  <td style=\"text-align: center\">\n",
    "    <a href=\"https://console.cloud.google.com/vertex-ai/workbench/deploy-notebook?download_url=https%3A//raw.githubusercontent.com/statmike/vertex-ai-mlops/main/08%20-%20R/depricated/08%20-%20Vertex%20AI%20Custom%20Model%20-%20R%20-%20in%20Notebook.ipynb\">\n",
    "      <img src=\"https://lh3.googleusercontent.com/UiNooY4LUgW_oTvpsNhPpQzsstV5W8F7rYgxgGBD85cWJoLmrOzhVs_ksK_vgx40SHs7jCqkTkCk=e14-rj-sc0xffffff-h130-w32\" alt=\"Vertex AI logo\">\n",
    "      <br>Open in<br>Vertex AI Workbench\n",
    "    </a>\n",
    "  </td>\n",
    "</table>"
   ]
  },
  {
   "cell_type": "markdown",
   "id": "663d72b5-d723-4384-be06-928f394d7667",
   "metadata": {},
   "source": [
    "# 08 - Vertex AI > Notebooks > Models Built in Notebooks with R\n",
    "\n",
    "**IN ACTIVE DEVELOPMENT - NOT COMPLETE**\n",
    "\n",
    "Dev Notes:\n",
    "- R Kernel:\n",
    "    - use notebook instance with R kernel\n",
    "    - or, install R here with needed libraries\n",
    "- Build R model in notebook environment\n",
    "\n",
    "Workflow:\n",
    "- install libraries\n",
    "- load libraries\n",
    "- define parameters\n",
    "- load data: bigrquery or DBI\n",
    "- Train Model: glm for concept\n",
    "- Evaluate Model: predictions and confusion matrix for short\n",
    "\n",
    "\n",
    "Next Steps:\n",
    "- add:\n",
    "    - steps to save model local model\n",
    "    - Vertex AI Model Registry: move to GCS, register in Vertex AI with version\n",
    "    - serving setup on Vertex\n",
    "    - add experiment tracking\n",
    "- package code as script to use in Vertex AI Training Custom Job\n",
    "- use [reticulate](https://rstudio.github.io/reticulate/) for an R centric workflow\n",
    "\n",
    "\n",
    "**Prerequisites:**\n",
    "- [01 - BigQuery - Table Data Source](../01%20-%20Data%20Sources/01%20-%20BigQuery%20-%20Table%20Data%20Source.ipynb)\n"
   ]
  },
  {
   "cell_type": "markdown",
   "id": "4bcece6c-4a8e-4640-a817-400ac40add4c",
   "metadata": {},
   "source": [
    "---\n",
    "## Setup"
   ]
  },
  {
   "cell_type": "markdown",
   "id": "181eaf6c-8d29-48e7-9257-c616922c07d0",
   "metadata": {},
   "source": [
    "inputs:"
   ]
  },
  {
   "cell_type": "code",
   "execution_count": 10,
   "id": "c545277e-2a6c-4abe-af1c-9b217f7205aa",
   "metadata": {},
   "outputs": [
    {
     "data": {
      "text/html": [
       "'statmike-mlops-349915'"
      ],
      "text/latex": [
       "'statmike-mlops-349915'"
      ],
      "text/markdown": [
       "'statmike-mlops-349915'"
      ],
      "text/plain": [
       "[1] \"statmike-mlops-349915\""
      ]
     },
     "metadata": {},
     "output_type": "display_data"
    }
   ],
   "source": [
    "project_id <- system('gcloud config get-value project', intern = TRUE)\n",
    "project_id"
   ]
  },
  {
   "cell_type": "code",
   "execution_count": 11,
   "id": "f755b7cb-9524-44ed-b10c-d4efa360bc86",
   "metadata": {},
   "outputs": [],
   "source": [
    "region <- 'us-central1'\n",
    "experiment <- '08'\n",
    "series <- '08'\n",
    "\n",
    "bq_project <- project_id\n",
    "bq_dataset <- 'fraud'\n",
    "bq_table <- 'fraud_prepped'\n",
    "\n",
    "var_target <- 'Class'\n",
    "var_omit <- 'transaction_id'"
   ]
  },
  {
   "cell_type": "markdown",
   "id": "1e595bcc-5941-445c-9d54-9b694907f990",
   "metadata": {},
   "source": [
    "packages:"
   ]
  },
  {
   "cell_type": "code",
   "execution_count": 39,
   "id": "4ca2909c-8888-4c69-b56e-33e8b7ffc12d",
   "metadata": {},
   "outputs": [],
   "source": [
    "library(bigrquery)\n",
    "library(DBI)\n",
    "library(dplyr)"
   ]
  },
  {
   "cell_type": "markdown",
   "id": "688899a2-76eb-417e-8f52-662ec6faa507",
   "metadata": {},
   "source": [
    "---"
   ]
  },
  {
   "cell_type": "markdown",
   "id": "f952de70-8a85-4c7e-9d06-6a901fb5c70e",
   "metadata": {},
   "source": [
    "## Data Source"
   ]
  },
  {
   "cell_type": "code",
   "execution_count": 75,
   "id": "59907f89-00c5-4e48-adc8-97cc01c31381",
   "metadata": {},
   "outputs": [
    {
     "data": {
      "text/html": [
       "'SELECT * EXCEPT(transaction_id, splits) FROM `statmike-mlops-349915.fraud.fraud_prepped` WHERE splits = \"TRAIN\"'"
      ],
      "text/latex": [
       "'SELECT * EXCEPT(transaction\\_id, splits) FROM `statmike-mlops-349915.fraud.fraud\\_prepped` WHERE splits = \"TRAIN\"'"
      ],
      "text/markdown": [
       "'SELECT * EXCEPT(transaction_id, splits) FROM `statmike-mlops-349915.fraud.fraud_prepped` WHERE splits = \"TRAIN\"'"
      ],
      "text/plain": [
       "[1] \"SELECT * EXCEPT(transaction_id, splits) FROM `statmike-mlops-349915.fraud.fraud_prepped` WHERE splits = \\\"TRAIN\\\"\""
      ]
     },
     "metadata": {},
     "output_type": "display_data"
    }
   ],
   "source": [
    "query = sprintf('SELECT * EXCEPT(%s, splits) FROM `%s.%s.%s` WHERE splits = \"TRAIN\"', var_omit, bq_project, bq_dataset, bq_table)\n",
    "query"
   ]
  },
  {
   "cell_type": "markdown",
   "id": "78c9c6db-7d26-4a57-97d0-b5d63b75b023",
   "metadata": {},
   "source": [
    "### Retrieve with `bigrquery`"
   ]
  },
  {
   "cell_type": "code",
   "execution_count": 76,
   "id": "6ce33640-15f7-4566-9356-f7120896d761",
   "metadata": {},
   "outputs": [],
   "source": [
    "table <- bq_project_query(bq_project, query)\n",
    "ds1 <- bq_table_download(table, n_max = 2)"
   ]
  },
  {
   "cell_type": "code",
   "execution_count": 77,
   "id": "68a3a015-5626-4de8-833a-e22a583d485e",
   "metadata": {},
   "outputs": [
    {
     "data": {
      "text/html": [
       "<style>\n",
       ".list-inline {list-style: none; margin:0; padding: 0}\n",
       ".list-inline>li {display: inline-block}\n",
       ".list-inline>li:not(:last-child)::after {content: \"\\00b7\"; padding: 0 .5ex}\n",
       "</style>\n",
       "<ol class=list-inline><li>2</li><li>31</li></ol>\n"
      ],
      "text/latex": [
       "\\begin{enumerate*}\n",
       "\\item 2\n",
       "\\item 31\n",
       "\\end{enumerate*}\n"
      ],
      "text/markdown": [
       "1. 2\n",
       "2. 31\n",
       "\n",
       "\n"
      ],
      "text/plain": [
       "[1]  2 31"
      ]
     },
     "metadata": {},
     "output_type": "display_data"
    }
   ],
   "source": [
    "dim(ds1)"
   ]
  },
  {
   "cell_type": "code",
   "execution_count": 82,
   "id": "53f12ff4-358a-49e4-88af-ea4fff33e298",
   "metadata": {},
   "outputs": [
    {
     "data": {
      "text/html": [
       "<table class=\"dataframe\">\n",
       "<caption>A tibble: 2 × 31</caption>\n",
       "<thead>\n",
       "\t<tr><th scope=col>Time</th><th scope=col>V1</th><th scope=col>V2</th><th scope=col>V3</th><th scope=col>V4</th><th scope=col>V5</th><th scope=col>V6</th><th scope=col>V7</th><th scope=col>V8</th><th scope=col>V9</th><th scope=col>⋯</th><th scope=col>V21</th><th scope=col>V22</th><th scope=col>V23</th><th scope=col>V24</th><th scope=col>V25</th><th scope=col>V26</th><th scope=col>V27</th><th scope=col>V28</th><th scope=col>Amount</th><th scope=col>Class</th></tr>\n",
       "\t<tr><th scope=col>&lt;int&gt;</th><th scope=col>&lt;dbl&gt;</th><th scope=col>&lt;dbl&gt;</th><th scope=col>&lt;dbl&gt;</th><th scope=col>&lt;dbl&gt;</th><th scope=col>&lt;dbl&gt;</th><th scope=col>&lt;dbl&gt;</th><th scope=col>&lt;dbl&gt;</th><th scope=col>&lt;dbl&gt;</th><th scope=col>&lt;dbl&gt;</th><th scope=col>⋯</th><th scope=col>&lt;dbl&gt;</th><th scope=col>&lt;dbl&gt;</th><th scope=col>&lt;dbl&gt;</th><th scope=col>&lt;dbl&gt;</th><th scope=col>&lt;dbl&gt;</th><th scope=col>&lt;dbl&gt;</th><th scope=col>&lt;dbl&gt;</th><th scope=col>&lt;dbl&gt;</th><th scope=col>&lt;dbl&gt;</th><th scope=col>&lt;int&gt;</th></tr>\n",
       "</thead>\n",
       "<tbody>\n",
       "\t<tr><td>2812</td><td>-0.633403</td><td> 0.9636160</td><td>2.4949456</td><td> 2.0990510</td><td>-0.4043307</td><td> 0.2358616</td><td>-0.007931905</td><td> 0.2114415</td><td>-0.2098168</td><td>⋯</td><td> 0.01467553</td><td>0.01627818</td><td>-0.06146247</td><td> 0.35519634</td><td>-0.1790855</td><td>-0.1069474</td><td>-0.21503926</td><td>0.05069780</td><td>0</td><td>0</td></tr>\n",
       "\t<tr><td>3150</td><td> 1.313281</td><td>-0.2579228</td><td>0.1184628</td><td>-0.7355566</td><td>-0.5693077</td><td>-0.7335772</td><td>-0.138659177</td><td>-0.1416413</td><td> 1.7080192</td><td>⋯</td><td>-0.08246737</td><td>0.12606591</td><td>-0.22315725</td><td>-0.07497714</td><td> 0.9219396</td><td>-0.5282835</td><td> 0.06447566</td><td>0.01313189</td><td>0</td><td>0</td></tr>\n",
       "</tbody>\n",
       "</table>\n"
      ],
      "text/latex": [
       "A tibble: 2 × 31\n",
       "\\begin{tabular}{lllllllllllllllllllll}\n",
       " Time & V1 & V2 & V3 & V4 & V5 & V6 & V7 & V8 & V9 & ⋯ & V21 & V22 & V23 & V24 & V25 & V26 & V27 & V28 & Amount & Class\\\\\n",
       " <int> & <dbl> & <dbl> & <dbl> & <dbl> & <dbl> & <dbl> & <dbl> & <dbl> & <dbl> & ⋯ & <dbl> & <dbl> & <dbl> & <dbl> & <dbl> & <dbl> & <dbl> & <dbl> & <dbl> & <int>\\\\\n",
       "\\hline\n",
       "\t 2812 & -0.633403 &  0.9636160 & 2.4949456 &  2.0990510 & -0.4043307 &  0.2358616 & -0.007931905 &  0.2114415 & -0.2098168 & ⋯ &  0.01467553 & 0.01627818 & -0.06146247 &  0.35519634 & -0.1790855 & -0.1069474 & -0.21503926 & 0.05069780 & 0 & 0\\\\\n",
       "\t 3150 &  1.313281 & -0.2579228 & 0.1184628 & -0.7355566 & -0.5693077 & -0.7335772 & -0.138659177 & -0.1416413 &  1.7080192 & ⋯ & -0.08246737 & 0.12606591 & -0.22315725 & -0.07497714 &  0.9219396 & -0.5282835 &  0.06447566 & 0.01313189 & 0 & 0\\\\\n",
       "\\end{tabular}\n"
      ],
      "text/markdown": [
       "\n",
       "A tibble: 2 × 31\n",
       "\n",
       "| Time &lt;int&gt; | V1 &lt;dbl&gt; | V2 &lt;dbl&gt; | V3 &lt;dbl&gt; | V4 &lt;dbl&gt; | V5 &lt;dbl&gt; | V6 &lt;dbl&gt; | V7 &lt;dbl&gt; | V8 &lt;dbl&gt; | V9 &lt;dbl&gt; | ⋯ ⋯ | V21 &lt;dbl&gt; | V22 &lt;dbl&gt; | V23 &lt;dbl&gt; | V24 &lt;dbl&gt; | V25 &lt;dbl&gt; | V26 &lt;dbl&gt; | V27 &lt;dbl&gt; | V28 &lt;dbl&gt; | Amount &lt;dbl&gt; | Class &lt;int&gt; |\n",
       "|---|---|---|---|---|---|---|---|---|---|---|---|---|---|---|---|---|---|---|---|---|\n",
       "| 2812 | -0.633403 |  0.9636160 | 2.4949456 |  2.0990510 | -0.4043307 |  0.2358616 | -0.007931905 |  0.2114415 | -0.2098168 | ⋯ |  0.01467553 | 0.01627818 | -0.06146247 |  0.35519634 | -0.1790855 | -0.1069474 | -0.21503926 | 0.05069780 | 0 | 0 |\n",
       "| 3150 |  1.313281 | -0.2579228 | 0.1184628 | -0.7355566 | -0.5693077 | -0.7335772 | -0.138659177 | -0.1416413 |  1.7080192 | ⋯ | -0.08246737 | 0.12606591 | -0.22315725 | -0.07497714 |  0.9219396 | -0.5282835 |  0.06447566 | 0.01313189 | 0 | 0 |\n",
       "\n"
      ],
      "text/plain": [
       "  Time V1        V2         V3        V4         V5         V6        \n",
       "1 2812 -0.633403  0.9636160 2.4949456  2.0990510 -0.4043307  0.2358616\n",
       "2 3150  1.313281 -0.2579228 0.1184628 -0.7355566 -0.5693077 -0.7335772\n",
       "  V7           V8         V9         ⋯ V21         V22        V23        \n",
       "1 -0.007931905  0.2114415 -0.2098168 ⋯  0.01467553 0.01627818 -0.06146247\n",
       "2 -0.138659177 -0.1416413  1.7080192 ⋯ -0.08246737 0.12606591 -0.22315725\n",
       "  V24         V25        V26        V27         V28        Amount Class\n",
       "1  0.35519634 -0.1790855 -0.1069474 -0.21503926 0.05069780 0      0    \n",
       "2 -0.07497714  0.9219396 -0.5282835  0.06447566 0.01313189 0      0    "
      ]
     },
     "metadata": {},
     "output_type": "display_data"
    }
   ],
   "source": [
    "ds1"
   ]
  },
  {
   "cell_type": "markdown",
   "id": "8205aafc-efc3-47bc-8da5-9b92e8b93e1c",
   "metadata": {},
   "source": [
    "### Retrieve with `DBI`"
   ]
  },
  {
   "cell_type": "code",
   "execution_count": 79,
   "id": "9293398e-8974-4265-a8a9-a8c33caa6852",
   "metadata": {},
   "outputs": [],
   "source": [
    "connection <- dbConnect(\n",
    "    bigrquery::bigquery(),\n",
    "    project = bq_project,\n",
    "    dataset = bq_dataset\n",
    ")"
   ]
  },
  {
   "cell_type": "code",
   "execution_count": 80,
   "id": "afdf0af2-3c67-4bdc-a1c1-d09428406b6e",
   "metadata": {},
   "outputs": [],
   "source": [
    "ds2 <- dbGetQuery(connection, query, n = 2)"
   ]
  },
  {
   "cell_type": "code",
   "execution_count": 83,
   "id": "fe69b30d-7d18-488e-a89f-fa83efcb5edc",
   "metadata": {},
   "outputs": [
    {
     "data": {
      "text/html": [
       "<style>\n",
       ".list-inline {list-style: none; margin:0; padding: 0}\n",
       ".list-inline>li {display: inline-block}\n",
       ".list-inline>li:not(:last-child)::after {content: \"\\00b7\"; padding: 0 .5ex}\n",
       "</style>\n",
       "<ol class=list-inline><li>2</li><li>31</li></ol>\n"
      ],
      "text/latex": [
       "\\begin{enumerate*}\n",
       "\\item 2\n",
       "\\item 31\n",
       "\\end{enumerate*}\n"
      ],
      "text/markdown": [
       "1. 2\n",
       "2. 31\n",
       "\n",
       "\n"
      ],
      "text/plain": [
       "[1]  2 31"
      ]
     },
     "metadata": {},
     "output_type": "display_data"
    }
   ],
   "source": [
    "dim(ds2)"
   ]
  },
  {
   "cell_type": "code",
   "execution_count": 84,
   "id": "bb611442-d6f1-4be3-a30c-2ebb8d3c6749",
   "metadata": {},
   "outputs": [
    {
     "data": {
      "text/html": [
       "<table class=\"dataframe\">\n",
       "<caption>A tibble: 2 × 31</caption>\n",
       "<thead>\n",
       "\t<tr><th scope=col>Time</th><th scope=col>V1</th><th scope=col>V2</th><th scope=col>V3</th><th scope=col>V4</th><th scope=col>V5</th><th scope=col>V6</th><th scope=col>V7</th><th scope=col>V8</th><th scope=col>V9</th><th scope=col>⋯</th><th scope=col>V21</th><th scope=col>V22</th><th scope=col>V23</th><th scope=col>V24</th><th scope=col>V25</th><th scope=col>V26</th><th scope=col>V27</th><th scope=col>V28</th><th scope=col>Amount</th><th scope=col>Class</th></tr>\n",
       "\t<tr><th scope=col>&lt;int&gt;</th><th scope=col>&lt;dbl&gt;</th><th scope=col>&lt;dbl&gt;</th><th scope=col>&lt;dbl&gt;</th><th scope=col>&lt;dbl&gt;</th><th scope=col>&lt;dbl&gt;</th><th scope=col>&lt;dbl&gt;</th><th scope=col>&lt;dbl&gt;</th><th scope=col>&lt;dbl&gt;</th><th scope=col>&lt;dbl&gt;</th><th scope=col>⋯</th><th scope=col>&lt;dbl&gt;</th><th scope=col>&lt;dbl&gt;</th><th scope=col>&lt;dbl&gt;</th><th scope=col>&lt;dbl&gt;</th><th scope=col>&lt;dbl&gt;</th><th scope=col>&lt;dbl&gt;</th><th scope=col>&lt;dbl&gt;</th><th scope=col>&lt;dbl&gt;</th><th scope=col>&lt;dbl&gt;</th><th scope=col>&lt;int&gt;</th></tr>\n",
       "</thead>\n",
       "<tbody>\n",
       "\t<tr><td>2812</td><td>-0.633403</td><td> 0.9636160</td><td>2.4949456</td><td> 2.0990510</td><td>-0.4043307</td><td> 0.2358616</td><td>-0.007931905</td><td> 0.2114415</td><td>-0.2098168</td><td>⋯</td><td> 0.01467553</td><td>0.01627818</td><td>-0.06146247</td><td> 0.35519634</td><td>-0.1790855</td><td>-0.1069474</td><td>-0.21503926</td><td>0.05069780</td><td>0</td><td>0</td></tr>\n",
       "\t<tr><td>3150</td><td> 1.313281</td><td>-0.2579228</td><td>0.1184628</td><td>-0.7355566</td><td>-0.5693077</td><td>-0.7335772</td><td>-0.138659177</td><td>-0.1416413</td><td> 1.7080192</td><td>⋯</td><td>-0.08246737</td><td>0.12606591</td><td>-0.22315725</td><td>-0.07497714</td><td> 0.9219396</td><td>-0.5282835</td><td> 0.06447566</td><td>0.01313189</td><td>0</td><td>0</td></tr>\n",
       "</tbody>\n",
       "</table>\n"
      ],
      "text/latex": [
       "A tibble: 2 × 31\n",
       "\\begin{tabular}{lllllllllllllllllllll}\n",
       " Time & V1 & V2 & V3 & V4 & V5 & V6 & V7 & V8 & V9 & ⋯ & V21 & V22 & V23 & V24 & V25 & V26 & V27 & V28 & Amount & Class\\\\\n",
       " <int> & <dbl> & <dbl> & <dbl> & <dbl> & <dbl> & <dbl> & <dbl> & <dbl> & <dbl> & ⋯ & <dbl> & <dbl> & <dbl> & <dbl> & <dbl> & <dbl> & <dbl> & <dbl> & <dbl> & <int>\\\\\n",
       "\\hline\n",
       "\t 2812 & -0.633403 &  0.9636160 & 2.4949456 &  2.0990510 & -0.4043307 &  0.2358616 & -0.007931905 &  0.2114415 & -0.2098168 & ⋯ &  0.01467553 & 0.01627818 & -0.06146247 &  0.35519634 & -0.1790855 & -0.1069474 & -0.21503926 & 0.05069780 & 0 & 0\\\\\n",
       "\t 3150 &  1.313281 & -0.2579228 & 0.1184628 & -0.7355566 & -0.5693077 & -0.7335772 & -0.138659177 & -0.1416413 &  1.7080192 & ⋯ & -0.08246737 & 0.12606591 & -0.22315725 & -0.07497714 &  0.9219396 & -0.5282835 &  0.06447566 & 0.01313189 & 0 & 0\\\\\n",
       "\\end{tabular}\n"
      ],
      "text/markdown": [
       "\n",
       "A tibble: 2 × 31\n",
       "\n",
       "| Time &lt;int&gt; | V1 &lt;dbl&gt; | V2 &lt;dbl&gt; | V3 &lt;dbl&gt; | V4 &lt;dbl&gt; | V5 &lt;dbl&gt; | V6 &lt;dbl&gt; | V7 &lt;dbl&gt; | V8 &lt;dbl&gt; | V9 &lt;dbl&gt; | ⋯ ⋯ | V21 &lt;dbl&gt; | V22 &lt;dbl&gt; | V23 &lt;dbl&gt; | V24 &lt;dbl&gt; | V25 &lt;dbl&gt; | V26 &lt;dbl&gt; | V27 &lt;dbl&gt; | V28 &lt;dbl&gt; | Amount &lt;dbl&gt; | Class &lt;int&gt; |\n",
       "|---|---|---|---|---|---|---|---|---|---|---|---|---|---|---|---|---|---|---|---|---|\n",
       "| 2812 | -0.633403 |  0.9636160 | 2.4949456 |  2.0990510 | -0.4043307 |  0.2358616 | -0.007931905 |  0.2114415 | -0.2098168 | ⋯ |  0.01467553 | 0.01627818 | -0.06146247 |  0.35519634 | -0.1790855 | -0.1069474 | -0.21503926 | 0.05069780 | 0 | 0 |\n",
       "| 3150 |  1.313281 | -0.2579228 | 0.1184628 | -0.7355566 | -0.5693077 | -0.7335772 | -0.138659177 | -0.1416413 |  1.7080192 | ⋯ | -0.08246737 | 0.12606591 | -0.22315725 | -0.07497714 |  0.9219396 | -0.5282835 |  0.06447566 | 0.01313189 | 0 | 0 |\n",
       "\n"
      ],
      "text/plain": [
       "  Time V1        V2         V3        V4         V5         V6        \n",
       "1 2812 -0.633403  0.9636160 2.4949456  2.0990510 -0.4043307  0.2358616\n",
       "2 3150  1.313281 -0.2579228 0.1184628 -0.7355566 -0.5693077 -0.7335772\n",
       "  V7           V8         V9         ⋯ V21         V22        V23        \n",
       "1 -0.007931905  0.2114415 -0.2098168 ⋯  0.01467553 0.01627818 -0.06146247\n",
       "2 -0.138659177 -0.1416413  1.7080192 ⋯ -0.08246737 0.12606591 -0.22315725\n",
       "  V24         V25        V26        V27         V28        Amount Class\n",
       "1  0.35519634 -0.1790855 -0.1069474 -0.21503926 0.05069780 0      0    \n",
       "2 -0.07497714  0.9219396 -0.5282835  0.06447566 0.01313189 0      0    "
      ]
     },
     "metadata": {},
     "output_type": "display_data"
    }
   ],
   "source": [
    "ds2"
   ]
  },
  {
   "cell_type": "markdown",
   "id": "ead1532d-2113-44b7-8673-3baafd831163",
   "metadata": {},
   "source": [
    "## Train Model\n",
    "Using `glm` to fit logistic regression:"
   ]
  },
  {
   "cell_type": "code",
   "execution_count": 85,
   "id": "2420c902-b609-4fbd-8147-8d2f2b989b06",
   "metadata": {},
   "outputs": [],
   "source": [
    "query = sprintf('SELECT * EXCEPT(%s, splits) FROM `%s.%s.%s` WHERE splits = \"TRAIN\"', var_omit, bq_project, bq_dataset, bq_table)\n",
    "table <- bq_project_query(bq_project, query)\n",
    "train <- bq_table_download(table)"
   ]
  },
  {
   "cell_type": "code",
   "execution_count": 86,
   "id": "54d08fd5-ce59-47af-a23d-b2cad685c20a",
   "metadata": {},
   "outputs": [
    {
     "data": {
      "text/html": [
       "<style>\n",
       ".list-inline {list-style: none; margin:0; padding: 0}\n",
       ".list-inline>li {display: inline-block}\n",
       ".list-inline>li:not(:last-child)::after {content: \"\\00b7\"; padding: 0 .5ex}\n",
       "</style>\n",
       "<ol class=list-inline><li>228061</li><li>31</li></ol>\n"
      ],
      "text/latex": [
       "\\begin{enumerate*}\n",
       "\\item 228061\n",
       "\\item 31\n",
       "\\end{enumerate*}\n"
      ],
      "text/markdown": [
       "1. 228061\n",
       "2. 31\n",
       "\n",
       "\n"
      ],
      "text/plain": [
       "[1] 228061     31"
      ]
     },
     "metadata": {},
     "output_type": "display_data"
    }
   ],
   "source": [
    "dim(train)"
   ]
  },
  {
   "cell_type": "code",
   "execution_count": 87,
   "id": "3f60f7cd-33fe-4bce-b352-9ec602e14b33",
   "metadata": {},
   "outputs": [
    {
     "name": "stderr",
     "output_type": "stream",
     "text": [
      "Warning message:\n",
      "“glm.fit: fitted probabilities numerically 0 or 1 occurred”\n"
     ]
    }
   ],
   "source": [
    "model <- glm(\n",
    "    Class ~ .,\n",
    "    data = train,\n",
    "    family = binomial)"
   ]
  },
  {
   "cell_type": "code",
   "execution_count": 88,
   "id": "90f8cd6f-060b-44b9-8336-1b84a82d92eb",
   "metadata": {},
   "outputs": [
    {
     "data": {
      "text/plain": [
       "\n",
       "Call:\n",
       "glm(formula = Class ~ ., family = binomial, data = train)\n",
       "\n",
       "Deviance Residuals: \n",
       "    Min       1Q   Median       3Q      Max  \n",
       "-4.9067  -0.0297  -0.0196  -0.0126   4.6681  \n",
       "\n",
       "Coefficients:\n",
       "              Estimate Std. Error z value Pr(>|z|)    \n",
       "(Intercept) -8.364e+00  2.708e-01 -30.893  < 2e-16 ***\n",
       "Time        -3.794e-06  2.479e-06  -1.530 0.125941    \n",
       "V1           1.244e-01  4.665e-02   2.666 0.007667 ** \n",
       "V2          -4.491e-02  6.020e-02  -0.746 0.455685    \n",
       "V3          -1.534e-02  5.767e-02  -0.266 0.790218    \n",
       "V4           6.668e-01  7.603e-02   8.770  < 2e-16 ***\n",
       "V5           1.355e-01  6.869e-02   1.973 0.048496 *  \n",
       "V6          -8.460e-02  7.614e-02  -1.111 0.266556    \n",
       "V7          -1.222e-01  6.931e-02  -1.763 0.077897 .  \n",
       "V8          -1.758e-01  3.225e-02  -5.452 4.98e-08 ***\n",
       "V9          -4.114e-01  1.162e-01  -3.541 0.000398 ***\n",
       "V10         -8.457e-01  9.909e-02  -8.535  < 2e-16 ***\n",
       "V11         -1.359e-01  9.153e-02  -1.485 0.137524    \n",
       "V12          8.785e-02  9.681e-02   0.907 0.364182    \n",
       "V13         -3.235e-01  9.174e-02  -3.527 0.000421 ***\n",
       "V14         -5.801e-01  6.876e-02  -8.436  < 2e-16 ***\n",
       "V15         -7.855e-02  9.506e-02  -0.826 0.408642    \n",
       "V16         -1.618e-01  1.303e-01  -1.241 0.214466    \n",
       "V17         -6.767e-02  7.608e-02  -0.889 0.373765    \n",
       "V18          3.997e-02  1.368e-01   0.292 0.770183    \n",
       "V19          1.264e-01  1.050e-01   1.204 0.228533    \n",
       "V20         -5.079e-01  8.566e-02  -5.930 3.04e-09 ***\n",
       "V21          4.294e-01  6.439e-02   6.669 2.58e-11 ***\n",
       "V22          6.881e-01  1.469e-01   4.685 2.80e-06 ***\n",
       "V23         -7.442e-02  6.824e-02  -1.091 0.275446    \n",
       "V24          1.891e-01  1.608e-01   1.176 0.239446    \n",
       "V25         -1.014e-01  1.438e-01  -0.705 0.480647    \n",
       "V26         -9.199e-02  2.105e-01  -0.437 0.662149    \n",
       "V27         -8.877e-01  1.287e-01  -6.895 5.37e-12 ***\n",
       "V28         -2.863e-01  9.032e-02  -3.170 0.001523 ** \n",
       "Amount       8.820e-04  3.858e-04   2.287 0.022224 *  \n",
       "---\n",
       "Signif. codes:  0 ‘***’ 0.001 ‘**’ 0.01 ‘*’ 0.05 ‘.’ 0.1 ‘ ’ 1\n",
       "\n",
       "(Dispersion parameter for binomial family taken to be 1)\n",
       "\n",
       "    Null deviance: 5837.9  on 228060  degrees of freedom\n",
       "Residual deviance: 1808.4  on 228030  degrees of freedom\n",
       "AIC: 1870.4\n",
       "\n",
       "Number of Fisher Scoring iterations: 11\n"
      ]
     },
     "metadata": {},
     "output_type": "display_data"
    }
   ],
   "source": [
    "summary(model)"
   ]
  },
  {
   "cell_type": "markdown",
   "id": "a6148a30-8775-4e55-99ca-7b7e39a21372",
   "metadata": {},
   "source": [
    "## Evaluate Model"
   ]
  },
  {
   "cell_type": "markdown",
   "id": "25d5a5fd-29d7-4dfb-b230-d0bcef5cfb79",
   "metadata": {},
   "source": [
    "### Retrieve Test Data"
   ]
  },
  {
   "cell_type": "code",
   "execution_count": 89,
   "id": "0428a25f-a2c2-440b-94c3-e12344b8f83a",
   "metadata": {},
   "outputs": [],
   "source": [
    "query = sprintf('SELECT * EXCEPT(%s, splits) FROM `%s.%s.%s` WHERE splits = \"TEST\"', var_omit, bq_project, bq_dataset, bq_table)\n",
    "table <- bq_project_query(bq_project, query)\n",
    "test <- bq_table_download(table)"
   ]
  },
  {
   "cell_type": "code",
   "execution_count": 128,
   "id": "4c6d760a-252c-4649-9788-a256caaf876e",
   "metadata": {},
   "outputs": [
    {
     "data": {
      "text/html": [
       "<style>\n",
       ".list-inline {list-style: none; margin:0; padding: 0}\n",
       ".list-inline>li {display: inline-block}\n",
       ".list-inline>li:not(:last-child)::after {content: \"\\00b7\"; padding: 0 .5ex}\n",
       "</style>\n",
       "<ol class=list-inline><li>28502</li><li>31</li></ol>\n"
      ],
      "text/latex": [
       "\\begin{enumerate*}\n",
       "\\item 28502\n",
       "\\item 31\n",
       "\\end{enumerate*}\n"
      ],
      "text/markdown": [
       "1. 28502\n",
       "2. 31\n",
       "\n",
       "\n"
      ],
      "text/plain": [
       "[1] 28502    31"
      ]
     },
     "metadata": {},
     "output_type": "display_data"
    }
   ],
   "source": [
    "dim(test)"
   ]
  },
  {
   "cell_type": "markdown",
   "id": "016b082c-905c-43cd-8805-2cc37e452dbd",
   "metadata": {},
   "source": [
    "### Get Predictions"
   ]
  },
  {
   "cell_type": "code",
   "execution_count": 146,
   "id": "8bff1d8c-e30f-4123-a683-b0354098a505",
   "metadata": {},
   "outputs": [],
   "source": [
    "preds <- predict(model, test, type = \"response\")"
   ]
  },
  {
   "cell_type": "code",
   "execution_count": 147,
   "id": "08753d09-1342-4dee-ba22-3de41556a454",
   "metadata": {},
   "outputs": [
    {
     "data": {
      "text/html": [
       "<strong>28502:</strong> 0.000284528353296712"
      ],
      "text/latex": [
       "\\textbf{28502:} 0.000284528353296712"
      ],
      "text/markdown": [
       "**28502:** 0.000284528353296712"
      ],
      "text/plain": [
       "       28502 \n",
       "0.0002845284 "
      ]
     },
     "metadata": {},
     "output_type": "display_data"
    }
   ],
   "source": [
    "preds[28502]"
   ]
  },
  {
   "cell_type": "code",
   "execution_count": 148,
   "id": "db6b74de-5470-4e6c-9c76-eca98c9dae3b",
   "metadata": {},
   "outputs": [
    {
     "data": {
      "text/html": [
       "<table class=\"dataframe\">\n",
       "<caption>A tibble: 1 × 1</caption>\n",
       "<thead>\n",
       "\t<tr><th scope=col>Class</th></tr>\n",
       "\t<tr><th scope=col>&lt;int&gt;</th></tr>\n",
       "</thead>\n",
       "<tbody>\n",
       "\t<tr><td>0</td></tr>\n",
       "</tbody>\n",
       "</table>\n"
      ],
      "text/latex": [
       "A tibble: 1 × 1\n",
       "\\begin{tabular}{l}\n",
       " Class\\\\\n",
       " <int>\\\\\n",
       "\\hline\n",
       "\t 0\\\\\n",
       "\\end{tabular}\n"
      ],
      "text/markdown": [
       "\n",
       "A tibble: 1 × 1\n",
       "\n",
       "| Class &lt;int&gt; |\n",
       "|---|\n",
       "| 0 |\n",
       "\n"
      ],
      "text/plain": [
       "  Class\n",
       "1 0    "
      ]
     },
     "metadata": {},
     "output_type": "display_data"
    }
   ],
   "source": [
    "test[28502,'Class']"
   ]
  },
  {
   "cell_type": "markdown",
   "id": "e150bc3a-0ce8-4202-8bbb-c82ee488aeff",
   "metadata": {},
   "source": [
    "### Compare Predictions to Actual (Confusion Matrix)"
   ]
  },
  {
   "cell_type": "code",
   "execution_count": 149,
   "id": "962a0fa5-1d0c-4ec3-ba6f-a1d756dce136",
   "metadata": {},
   "outputs": [],
   "source": [
    "actual <- test[, 'Class']\n",
    "names(actual) <- 'actual'"
   ]
  },
  {
   "cell_type": "code",
   "execution_count": 150,
   "id": "69be07c1-3555-4e3c-a099-2494b59769fb",
   "metadata": {},
   "outputs": [
    {
     "data": {
      "text/html": [
       "<table class=\"dataframe\">\n",
       "<caption>A tibble: 5 × 1</caption>\n",
       "<thead>\n",
       "\t<tr><th scope=col>actual</th></tr>\n",
       "\t<tr><th scope=col>&lt;int&gt;</th></tr>\n",
       "</thead>\n",
       "<tbody>\n",
       "\t<tr><td>0</td></tr>\n",
       "\t<tr><td>0</td></tr>\n",
       "\t<tr><td>0</td></tr>\n",
       "\t<tr><td>0</td></tr>\n",
       "\t<tr><td>0</td></tr>\n",
       "</tbody>\n",
       "</table>\n"
      ],
      "text/latex": [
       "A tibble: 5 × 1\n",
       "\\begin{tabular}{l}\n",
       " actual\\\\\n",
       " <int>\\\\\n",
       "\\hline\n",
       "\t 0\\\\\n",
       "\t 0\\\\\n",
       "\t 0\\\\\n",
       "\t 0\\\\\n",
       "\t 0\\\\\n",
       "\\end{tabular}\n"
      ],
      "text/markdown": [
       "\n",
       "A tibble: 5 × 1\n",
       "\n",
       "| actual &lt;int&gt; |\n",
       "|---|\n",
       "| 0 |\n",
       "| 0 |\n",
       "| 0 |\n",
       "| 0 |\n",
       "| 0 |\n",
       "\n"
      ],
      "text/plain": [
       "  actual\n",
       "1 0     \n",
       "2 0     \n",
       "3 0     \n",
       "4 0     \n",
       "5 0     "
      ]
     },
     "metadata": {},
     "output_type": "display_data"
    }
   ],
   "source": [
    "actual[1:5,]"
   ]
  },
  {
   "cell_type": "code",
   "execution_count": 151,
   "id": "53148d44-f6c6-4579-8caa-3ff287aacd52",
   "metadata": {},
   "outputs": [],
   "source": [
    "results <- cbind(actual, tibble(round(preds)))"
   ]
  },
  {
   "cell_type": "code",
   "execution_count": 152,
   "id": "700e3fdb-72a4-4c6f-8eb6-565c6c10a3f6",
   "metadata": {},
   "outputs": [
    {
     "data": {
      "text/html": [
       "<table class=\"dataframe\">\n",
       "<caption>A data.frame: 5 × 2</caption>\n",
       "<thead>\n",
       "\t<tr><th></th><th scope=col>actual</th><th scope=col>round(preds)</th></tr>\n",
       "\t<tr><th></th><th scope=col>&lt;int&gt;</th><th scope=col>&lt;dbl&gt;</th></tr>\n",
       "</thead>\n",
       "<tbody>\n",
       "\t<tr><th scope=row>1</th><td>0</td><td>0</td></tr>\n",
       "\t<tr><th scope=row>2</th><td>0</td><td>0</td></tr>\n",
       "\t<tr><th scope=row>3</th><td>0</td><td>0</td></tr>\n",
       "\t<tr><th scope=row>4</th><td>0</td><td>0</td></tr>\n",
       "\t<tr><th scope=row>5</th><td>0</td><td>0</td></tr>\n",
       "</tbody>\n",
       "</table>\n"
      ],
      "text/latex": [
       "A data.frame: 5 × 2\n",
       "\\begin{tabular}{r|ll}\n",
       "  & actual & round(preds)\\\\\n",
       "  & <int> & <dbl>\\\\\n",
       "\\hline\n",
       "\t1 & 0 & 0\\\\\n",
       "\t2 & 0 & 0\\\\\n",
       "\t3 & 0 & 0\\\\\n",
       "\t4 & 0 & 0\\\\\n",
       "\t5 & 0 & 0\\\\\n",
       "\\end{tabular}\n"
      ],
      "text/markdown": [
       "\n",
       "A data.frame: 5 × 2\n",
       "\n",
       "| <!--/--> | actual &lt;int&gt; | round(preds) &lt;dbl&gt; |\n",
       "|---|---|---|\n",
       "| 1 | 0 | 0 |\n",
       "| 2 | 0 | 0 |\n",
       "| 3 | 0 | 0 |\n",
       "| 4 | 0 | 0 |\n",
       "| 5 | 0 | 0 |\n",
       "\n"
      ],
      "text/plain": [
       "  actual round(preds)\n",
       "1 0      0           \n",
       "2 0      0           \n",
       "3 0      0           \n",
       "4 0      0           \n",
       "5 0      0           "
      ]
     },
     "metadata": {},
     "output_type": "display_data"
    }
   ],
   "source": [
    "results[1:5,]"
   ]
  },
  {
   "cell_type": "code",
   "execution_count": 153,
   "id": "a97b4edb-c515-410c-a408-aedae08f0f6f",
   "metadata": {},
   "outputs": [
    {
     "data": {
      "text/plain": [
       "      round(preds)\n",
       "actual     0     1\n",
       "     0 28452     3\n",
       "     1    14    33"
      ]
     },
     "metadata": {},
     "output_type": "display_data"
    }
   ],
   "source": [
    "table(results)"
   ]
  }
 ],
 "metadata": {
  "environment": {
   "kernel": "conda-env-r-r",
   "name": "workbench-notebooks.m113",
   "type": "gcloud",
   "uri": "gcr.io/deeplearning-platform-release/workbench-notebooks:m113"
  },
  "kernelspec": {
   "display_name": "R (Local)",
   "language": "R",
   "name": "conda-env-r-r"
  },
  "language_info": {
   "codemirror_mode": "r",
   "file_extension": ".r",
   "mimetype": "text/x-r-source",
   "name": "R",
   "pygments_lexer": "r",
   "version": "4.3.1"
  }
 },
 "nbformat": 4,
 "nbformat_minor": 5
}
