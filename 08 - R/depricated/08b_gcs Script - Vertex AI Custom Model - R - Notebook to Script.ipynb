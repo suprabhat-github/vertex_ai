{
 "cells": [
  {
   "cell_type": "markdown",
   "id": "29cacd9d",
   "metadata": {},
   "source": [
    "![ga4](https://www.google-analytics.com/collect?v=2&tid=G-6VDTYWLKX6&cid=1&en=page_view&sid=1&dl=statmike%2Fvertex-ai-mlops%2F08+-+R%2Fdepricated&dt=08b_gcs+Script+-+Vertex+AI+Custom+Model+-+R+-+Notebook+to+Script.ipynb)\n",
    "<!--- header table --->\n",
    "<table align=\"left\">\n",
    "  <td style=\"text-align: center\">\n",
    "    <a href=\"https://colab.research.google.com/github/statmike/vertex-ai-mlops/blob/main/08%20-%20R/depricated/08b_gcs%20Script%20-%20Vertex%20AI%20Custom%20Model%20-%20R%20-%20Notebook%20to%20Script.ipynb\">\n",
    "      <img src=\"https://cloud.google.com/ml-engine/images/colab-logo-32px.png\" alt=\"Google Colaboratory logo\">\n",
    "      <br>Run in<br>Colab\n",
    "    </a>\n",
    "  </td>\n",
    "  <td style=\"text-align: center\">\n",
    "    <a href=\"https://console.cloud.google.com/vertex-ai/colab/import/https%3A//raw.githubusercontent.com/statmike/vertex-ai-mlops/main/08%20-%20R/depricated/08b_gcs%20Script%20-%20Vertex%20AI%20Custom%20Model%20-%20R%20-%20Notebook%20to%20Script.ipynb\">\n",
    "      <img width=\"32px\" src=\"https://lh3.googleusercontent.com/JmcxdQi-qOpctIvWKgPtrzZdJJK-J3sWE1RsfjZNwshCFgE_9fULcNpuXYTilIR2hjwN\" alt=\"Google Cloud Colab Enterprise logo\">\n",
    "      <br>Run in<br>Colab Enterprise\n",
    "    </a>\n",
    "  </td>      \n",
    "  <td style=\"text-align: center\">\n",
    "    <a href=\"https://github.com/statmike/vertex-ai-mlops/blob/main/08%20-%20R/depricated/08b_gcs%20Script%20-%20Vertex%20AI%20Custom%20Model%20-%20R%20-%20Notebook%20to%20Script.ipynb\">\n",
    "      <img src=\"https://cloud.google.com/ml-engine/images/github-logo-32px.png\" alt=\"GitHub logo\">\n",
    "      <br>View on<br>GitHub\n",
    "    </a>\n",
    "  </td>\n",
    "  <td style=\"text-align: center\">\n",
    "    <a href=\"https://console.cloud.google.com/vertex-ai/workbench/deploy-notebook?download_url=https%3A//raw.githubusercontent.com/statmike/vertex-ai-mlops/main/08%20-%20R/depricated/08b_gcs%20Script%20-%20Vertex%20AI%20Custom%20Model%20-%20R%20-%20Notebook%20to%20Script.ipynb\">\n",
    "      <img src=\"https://lh3.googleusercontent.com/UiNooY4LUgW_oTvpsNhPpQzsstV5W8F7rYgxgGBD85cWJoLmrOzhVs_ksK_vgx40SHs7jCqkTkCk=e14-rj-sc0xffffff-h130-w32\" alt=\"Vertex AI logo\">\n",
    "      <br>Open in<br>Vertex AI Workbench\n",
    "    </a>\n",
    "  </td>\n",
    "</table>"
   ]
  },
  {
   "cell_type": "markdown",
   "id": "e61edfd5-07e7-4f42-af8f-50646cf6db1d",
   "metadata": {},
   "source": [
    "# 08b_gcs Script - Vertex AI Custom Model - R - From Notebook to Script\n",
    "\n",
    "**IN ACTIVE DEVELOPMENT - NOT COMPLETE**\n",
    "    \n",
    "Dev Notes:\n",
    "- Python Kernel:\n",
    "    - use notebook instance with R kernel\n",
    "    - or, install R here with needed libraries\n",
    "    \n",
    "Workflow:\n",
    "- Construct R script for creating model with annotations - based on code in `08` while leverage read from GCS Fuse (see Resources below)\n",
    "- Test R script at command line\n",
    "\n",
    "**Resources:**\n",
    "- Notebooks:\n",
    "    - [08 - Vertex AI Custom Model - R - in Notebook](./08%20-%20Vertex%20AI%20Custom%20Model%20-%20R%20-%20in%20Notebook.ipynb)\n",
    "    - [08Tools - GCS FUSE](./08Tools%20-%20GCS%20FUSE.ipynb)\n",
    "\n",
    "**Prerequisites:**\n",
    "- [01 - BigQuery - Table Data Source](../01%20-%20Data%20Sources/01%20-%20BigQuery%20-%20Table%20Data%20Source.ipynb)\n"
   ]
  },
  {
   "cell_type": "markdown",
   "id": "bf3c8303-f258-4542-9b33-9f7a7eb4e55f",
   "metadata": {
    "tags": []
   },
   "source": [
    "---\n",
    "## Setup"
   ]
  },
  {
   "cell_type": "markdown",
   "id": "6353ba2e-fcc7-42de-9868-cd9b1710ead0",
   "metadata": {},
   "source": [
    "inputs:"
   ]
  },
  {
   "cell_type": "code",
   "execution_count": 41,
   "id": "d3de1a5a-02ff-46c8-83ee-2f11c94bdc06",
   "metadata": {},
   "outputs": [],
   "source": [
    "SCRIPT_NAME = 'train_gcs.R'"
   ]
  },
  {
   "cell_type": "code",
   "execution_count": 42,
   "id": "81a683a2-806d-41af-b3f0-f00a0718e5a9",
   "metadata": {},
   "outputs": [],
   "source": [
    "SCRIPT_PATH = './code/' + SCRIPT_NAME"
   ]
  },
  {
   "cell_type": "markdown",
   "id": "32da291f-0f77-482c-88fd-f522edd6e41a",
   "metadata": {},
   "source": [
    "packages:"
   ]
  },
  {
   "cell_type": "code",
   "execution_count": 43,
   "id": "3f109cf8-c387-4952-b462-ceb1afc5b907",
   "metadata": {},
   "outputs": [],
   "source": [
    "import os\n",
    "from IPython.display import Markdown as md"
   ]
  },
  {
   "cell_type": "markdown",
   "id": "ac9f6911-1d7d-4df9-aa51-592f2772c1f9",
   "metadata": {},
   "source": [
    "environment:"
   ]
  },
  {
   "cell_type": "code",
   "execution_count": 44,
   "id": "5975036f-30c1-4f03-81ca-66f570c5312f",
   "metadata": {},
   "outputs": [
    {
     "name": "stdout",
     "output_type": "stream",
     "text": [
      "The code directory alredy exists\n"
     ]
    }
   ],
   "source": [
    "if os.path.exists('code'):\n",
    "    print('The code directory alredy exists')\n",
    "else:\n",
    "    print('Creating the code directory')\n",
    "    os.makedirs('code')"
   ]
  },
  {
   "cell_type": "markdown",
   "id": "a04edfdf-1462-4d63-a0ef-414e58eefcf1",
   "metadata": {},
   "source": [
    "---\n",
    "## Build the ML Training Code\n",
    "Use the cell magic `%%writefile` to create a single ML training code file named `train.R`."
   ]
  },
  {
   "cell_type": "markdown",
   "id": "61c79952-f96e-4f6a-97e8-f12f6f8954f2",
   "metadata": {},
   "source": [
    "### Import Libraries"
   ]
  },
  {
   "cell_type": "code",
   "execution_count": 45,
   "id": "f642e410-00e5-4f10-9b34-834d40340911",
   "metadata": {},
   "outputs": [
    {
     "name": "stdout",
     "output_type": "stream",
     "text": [
      "Overwriting ./code/train_gcs.R\n"
     ]
    }
   ],
   "source": [
    "%%writefile {SCRIPT_PATH}\n",
    "\n",
    "# library import\n",
    "library(bigrquery)\n",
    "library(tidyverse)\n",
    "library(data.table)"
   ]
  },
  {
   "cell_type": "markdown",
   "id": "0e8b550f-cd85-4db2-99a0-ab20d63a7069",
   "metadata": {},
   "source": [
    "### Parse Command Line Inputs"
   ]
  },
  {
   "cell_type": "code",
   "execution_count": 46,
   "id": "3de04922-9f78-4288-b526-703f4f74e761",
   "metadata": {},
   "outputs": [
    {
     "name": "stdout",
     "output_type": "stream",
     "text": [
      "Appending to ./code/train_gcs.R\n"
     ]
    }
   ],
   "source": [
    "%%writefile -a {SCRIPT_PATH}\n",
    "\n",
    "# inputs\n",
    "args <- commandArgs(trailingOnly = TRUE)\n",
    "project_id <- args[1]\n",
    "region <- args[2]\n",
    "experiment <- args[3]\n",
    "series <- args[4]\n",
    "bq_project <- args[5]\n",
    "bq_dataset <- args[6]\n",
    "bq_table <- args[7]\n",
    "var_target <- args[8]\n",
    "var_omit <- args[9]"
   ]
  },
  {
   "cell_type": "markdown",
   "id": "c917cd21-8d91-4ec5-9cde-1e339f459d55",
   "metadata": {},
   "source": [
    "### Export Data From BigQuery to GCS"
   ]
  },
  {
   "cell_type": "code",
   "execution_count": 47,
   "id": "00867c66-aefb-4b0d-a67e-4d4d29397953",
   "metadata": {},
   "outputs": [
    {
     "name": "stdout",
     "output_type": "stream",
     "text": [
      "Appending to ./code/train_gcs.R\n"
     ]
    }
   ],
   "source": [
    "%%writefile -a {SCRIPT_PATH}\n",
    "\n",
    "# export from BigQuery to GCS\n",
    "query <- \"\n",
    "EXPORT DATA\n",
    "    OPTIONS (\n",
    "        uri = 'gs://%sdata/%s/*.csv',\n",
    "        format = 'CSV',\n",
    "        overwrite = true,\n",
    "        header = true,\n",
    "        field_delimiter = ','\n",
    "    )\n",
    "AS (\n",
    "    SELECT * EXCEPT(%s, splits)\n",
    "    FROM `%s.%s.%s`\n",
    "    WHERE splits = '%s'\n",
    ")\"\n",
    "#cat(query)\n",
    "\n",
    "get_data <- function(split){\n",
    "    # populate export query\n",
    "    path <- Sys.getenv('AIP_MODEL_DIR')\n",
    "    path <- sub('gs://', '', path)\n",
    "    \n",
    "    split_query <- sprintf(query, path, split, var_omit, bq_project, bq_dataset, bq_table, split)\n",
    "    cat(split_query)\n",
    "    \n",
    "    # run bq export\n",
    "    export <- bq_perform_query(split_query, billing = bq_project)\n",
    "    bq_job_wait(export)\n",
    "    \n",
    "    # make list of exports files\n",
    "    files <- list.files(\n",
    "        path = sprintf('/gcs/%sdata/%s', path, split),\n",
    "        pattern = '*.csv',\n",
    "        full.names = TRUE\n",
    "    )\n",
    "    \n",
    "    # read bq export into dataframe from GCS using FUSE\n",
    "    df <- \n",
    "        files %>%\n",
    "        map_df(~fread(.))\n",
    "    \n",
    "    # delete exported copy in GCS\n",
    "    sapply(files, unlink)\n",
    "    \n",
    "    # return the dataframe\n",
    "    return(df)\n",
    "}\n",
    "train <- get_data('TRAIN')\n",
    "test <- get_data('TEST')"
   ]
  },
  {
   "cell_type": "markdown",
   "id": "798ba4f5-b033-4f99-b47d-21a1d9e0ef6c",
   "metadata": {},
   "source": [
    "### Fit Model"
   ]
  },
  {
   "cell_type": "code",
   "execution_count": 48,
   "id": "fdbb155f-6a5e-47ba-ae0e-6d9481b711ff",
   "metadata": {},
   "outputs": [
    {
     "name": "stdout",
     "output_type": "stream",
     "text": [
      "Appending to ./code/train_gcs.R\n"
     ]
    }
   ],
   "source": [
    "%%writefile -a {SCRIPT_PATH}\n",
    "\n",
    "# logistic regression model\n",
    "model <- glm(\n",
    "    Class ~ .,\n",
    "    data = train,\n",
    "    family = binomial)"
   ]
  },
  {
   "cell_type": "markdown",
   "id": "6d30725d-8d39-4d84-b085-dd99e31c1d26",
   "metadata": {},
   "source": [
    "### Predictions for Test Split"
   ]
  },
  {
   "cell_type": "code",
   "execution_count": 49,
   "id": "ae1911ee-02a1-48d6-a63c-e7dfdad65728",
   "metadata": {},
   "outputs": [
    {
     "name": "stdout",
     "output_type": "stream",
     "text": [
      "Appending to ./code/train_gcs.R\n"
     ]
    }
   ],
   "source": [
    "%%writefile -a {SCRIPT_PATH}\n",
    "\n",
    "# predictions for evaluation\n",
    "preds <- predict(model, test, type = \"response\")"
   ]
  },
  {
   "cell_type": "markdown",
   "id": "6137abd1-7258-4e09-95cd-1f136d0e194b",
   "metadata": {},
   "source": [
    "### Evaluate The Model"
   ]
  },
  {
   "cell_type": "code",
   "execution_count": 50,
   "id": "56942640-c678-402e-ab5b-f1f4398efd78",
   "metadata": {},
   "outputs": [
    {
     "name": "stdout",
     "output_type": "stream",
     "text": [
      "Appending to ./code/train_gcs.R\n"
     ]
    }
   ],
   "source": [
    "%%writefile -a {SCRIPT_PATH}\n",
    "\n",
    "# evaluate\n",
    "actual <- test[, get(var_target)]\n",
    "names(actual) <- 'actual'\n",
    "pred <- tibble(round(preds))\n",
    "names(pred) <- 'pred'\n",
    "results <- cbind(actual, pred)\n",
    "cm <- table(results)"
   ]
  },
  {
   "cell_type": "markdown",
   "id": "ac20cd9a-cc6e-47db-8e0c-6ccc37314c35",
   "metadata": {},
   "source": [
    "### Save The Model"
   ]
  },
  {
   "cell_type": "code",
   "execution_count": 51,
   "id": "fe4322d3-01f1-4340-adbf-906e75a0ba4a",
   "metadata": {},
   "outputs": [
    {
     "name": "stdout",
     "output_type": "stream",
     "text": [
      "Appending to ./code/train_gcs.R\n"
     ]
    }
   ],
   "source": [
    "%%writefile -a {SCRIPT_PATH}\n",
    "\n",
    "# save model to file\n",
    "saveRDS(model, \"model.rds\")"
   ]
  },
  {
   "cell_type": "markdown",
   "id": "d69c8e58-f292-49c4-a63d-77e98adf94e6",
   "metadata": {},
   "source": [
    "### Copy Model To GCS"
   ]
  },
  {
   "cell_type": "code",
   "execution_count": 52,
   "id": "548ae489-8546-445b-ba2c-b9e3bdbb59c7",
   "metadata": {},
   "outputs": [
    {
     "name": "stdout",
     "output_type": "stream",
     "text": [
      "Appending to ./code/train_gcs.R\n"
     ]
    }
   ],
   "source": [
    "%%writefile -a {SCRIPT_PATH}\n",
    "\n",
    "# use Vertex AI Training Pre-Defined Environment Variables to Write to GCS\n",
    "system2('gsutil', c('cp', 'model.rds', Sys.getenv('AIP_MODEL_DIR')))"
   ]
  },
  {
   "cell_type": "markdown",
   "id": "efa552a8-bde3-437c-97e9-76ecbf2b0e07",
   "metadata": {},
   "source": [
    "---\n",
    "## Review The Training Code\n",
    "Read in the completed script and print it out for review below:"
   ]
  },
  {
   "cell_type": "code",
   "execution_count": 53,
   "id": "645fb396-85db-4136-bbf8-f626cc9c3449",
   "metadata": {},
   "outputs": [
    {
     "data": {
      "text/markdown": [
       "```r\n",
       "\n",
       "\n",
       "# library import\n",
       "library(bigrquery)\n",
       "library(tidyverse)\n",
       "library(data.table)\n",
       "\n",
       "# inputs\n",
       "args <- commandArgs(trailingOnly = TRUE)\n",
       "project_id <- args[1]\n",
       "region <- args[2]\n",
       "experiment <- args[3]\n",
       "series <- args[4]\n",
       "bq_project <- args[5]\n",
       "bq_dataset <- args[6]\n",
       "bq_table <- args[7]\n",
       "var_target <- args[8]\n",
       "var_omit <- args[9]\n",
       "\n",
       "# export from BigQuery to GCS\n",
       "query <- \"\n",
       "EXPORT DATA\n",
       "    OPTIONS (\n",
       "        uri = 'gs://%sdata/%s/*.csv',\n",
       "        format = 'CSV',\n",
       "        overwrite = true,\n",
       "        header = true,\n",
       "        field_delimiter = ','\n",
       "    )\n",
       "AS (\n",
       "    SELECT * EXCEPT(%s, splits)\n",
       "    FROM `%s.%s.%s`\n",
       "    WHERE splits = '%s'\n",
       ")\"\n",
       "#cat(query)\n",
       "\n",
       "get_data <- function(split){\n",
       "    # populate export query\n",
       "    path <- Sys.getenv('AIP_MODEL_DIR')\n",
       "    path <- sub('gs://', '', path)\n",
       "    \n",
       "    split_query <- sprintf(query, path, split, var_omit, bq_project, bq_dataset, bq_table, split)\n",
       "    cat(split_query)\n",
       "    \n",
       "    # run bq export\n",
       "    export <- bq_perform_query(split_query, billing = bq_project)\n",
       "    bq_job_wait(export)\n",
       "    \n",
       "    # make list of exports files\n",
       "    files <- list.files(\n",
       "        path = sprintf('/gcs/%sdata/%s', path, split),\n",
       "        pattern = '*.csv',\n",
       "        full.names = TRUE\n",
       "    )\n",
       "    \n",
       "    # read bq export into dataframe from GCS using FUSE\n",
       "    df <- \n",
       "        files %>%\n",
       "        map_df(~fread(.))\n",
       "    \n",
       "    # delete exported copy in GCS\n",
       "    sapply(files, unlink)\n",
       "    \n",
       "    # return the dataframe\n",
       "    return(df)\n",
       "}\n",
       "train <- get_data('TRAIN')\n",
       "test <- get_data('TEST')\n",
       "\n",
       "# logistic regression model\n",
       "model <- glm(\n",
       "    Class ~ .,\n",
       "    data = train,\n",
       "    family = binomial)\n",
       "\n",
       "# predictions for evaluation\n",
       "preds <- predict(model, test, type = \"response\")\n",
       "\n",
       "# evaluate\n",
       "actual <- test[, get(var_target)]\n",
       "names(actual) <- 'actual'\n",
       "pred <- tibble(round(preds))\n",
       "names(pred) <- 'pred'\n",
       "results <- cbind(actual, pred)\n",
       "cm <- table(results)\n",
       "\n",
       "# save model to file\n",
       "saveRDS(model, \"model.rds\")\n",
       "\n",
       "# use Vertex AI Training Pre-Defined Environment Variables to Write to GCS\n",
       "system2('gsutil', c('cp', 'model.rds', Sys.getenv('AIP_MODEL_DIR')))\n",
       "\n",
       "```"
      ],
      "text/plain": [
       "<IPython.core.display.Markdown object>"
      ]
     },
     "execution_count": 53,
     "metadata": {},
     "output_type": "execute_result"
    }
   ],
   "source": [
    "with open(SCRIPT_PATH, 'r') as file:\n",
    "    data = file.read()\n",
    "md(f\"```r\\n\\n{data}\\n```\")"
   ]
  },
  {
   "cell_type": "code",
   "execution_count": null,
   "id": "a5ce64a1-5b1a-43f7-80d8-61be593c4f89",
   "metadata": {},
   "outputs": [],
   "source": []
  }
 ],
 "metadata": {
  "environment": {
   "kernel": "python3",
   "name": "tf2-gpu.2-3.m94",
   "type": "gcloud",
   "uri": "gcr.io/deeplearning-platform-release/tf2-gpu.2-3:m94"
  },
  "kernelspec": {
   "display_name": "Python 3",
   "language": "python",
   "name": "python3"
  },
  "language_info": {
   "codemirror_mode": {
    "name": "ipython",
    "version": 3
   },
   "file_extension": ".py",
   "mimetype": "text/x-python",
   "name": "python",
   "nbconvert_exporter": "python",
   "pygments_lexer": "ipython3",
   "version": "3.7.12"
  }
 },
 "nbformat": 4,
 "nbformat_minor": 5
}
