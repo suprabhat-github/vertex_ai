{
 "cells": [
  {
   "cell_type": "markdown",
   "id": "9bc13ab3",
   "metadata": {},
   "source": [
    "![ga4](https://www.google-analytics.com/collect?v=2&tid=G-6VDTYWLKX6&cid=1&en=page_view&sid=1&dl=statmike%2Fvertex-ai-mlops%2F08+-+R%2Fdepricated&dt=08Tools+-+Prediction+-+Custom.ipynb)\n",
    "<!--- header table --->\n",
    "<table align=\"left\">\n",
    "  <td style=\"text-align: center\">\n",
    "    <a href=\"https://colab.research.google.com/github/statmike/vertex-ai-mlops/blob/main/08%20-%20R/depricated/08Tools%20-%20Prediction%20-%20Custom.ipynb\">\n",
    "      <img src=\"https://cloud.google.com/ml-engine/images/colab-logo-32px.png\" alt=\"Google Colaboratory logo\">\n",
    "      <br>Run in<br>Colab\n",
    "    </a>\n",
    "  </td>\n",
    "  <td style=\"text-align: center\">\n",
    "    <a href=\"https://console.cloud.google.com/vertex-ai/colab/import/https%3A//raw.githubusercontent.com/statmike/vertex-ai-mlops/main/08%20-%20R/depricated/08Tools%20-%20Prediction%20-%20Custom.ipynb\">\n",
    "      <img width=\"32px\" src=\"https://lh3.googleusercontent.com/JmcxdQi-qOpctIvWKgPtrzZdJJK-J3sWE1RsfjZNwshCFgE_9fULcNpuXYTilIR2hjwN\" alt=\"Google Cloud Colab Enterprise logo\">\n",
    "      <br>Run in<br>Colab Enterprise\n",
    "    </a>\n",
    "  </td>      \n",
    "  <td style=\"text-align: center\">\n",
    "    <a href=\"https://github.com/statmike/vertex-ai-mlops/blob/main/08%20-%20R/depricated/08Tools%20-%20Prediction%20-%20Custom.ipynb\">\n",
    "      <img src=\"https://cloud.google.com/ml-engine/images/github-logo-32px.png\" alt=\"GitHub logo\">\n",
    "      <br>View on<br>GitHub\n",
    "    </a>\n",
    "  </td>\n",
    "  <td style=\"text-align: center\">\n",
    "    <a href=\"https://console.cloud.google.com/vertex-ai/workbench/deploy-notebook?download_url=https%3A//raw.githubusercontent.com/statmike/vertex-ai-mlops/main/08%20-%20R/depricated/08Tools%20-%20Prediction%20-%20Custom.ipynb\">\n",
    "      <img src=\"https://lh3.googleusercontent.com/UiNooY4LUgW_oTvpsNhPpQzsstV5W8F7rYgxgGBD85cWJoLmrOzhVs_ksK_vgx40SHs7jCqkTkCk=e14-rj-sc0xffffff-h130-w32\" alt=\"Vertex AI logo\">\n",
    "      <br>Open in<br>Vertex AI Workbench\n",
    "    </a>\n",
    "  </td>\n",
    "</table>"
   ]
  },
  {
   "cell_type": "markdown",
   "id": "9570e37a-8ee4-4373-bcdc-6cccf546c4f4",
   "metadata": {},
   "source": [
    "# 08Tools: Prediction - Custom\n",
    "\n",
    "**IN ACTIVE DEVELOPMENT - NOT COMPLETE**\n",
    "\n",
    "Serve interactive/online predictions with the model created in the `08b Training Job ...` notebook.  This will use the custom container for `08b` and will show serving locally with docker and on an endpoint with Cloud Run.\n",
    "\n",
    "**Prerequisites:**\n",
    "- [08b Training Job - Vertex AI Custom Model - R - Training Pipeline With Custom Container](./08b%20Training%20Job%20-%20Vertex%20AI%20Custom%20Model%20-%20R%20-%20Training%20Pipeline%20With%20Custom%20Container.ipynb)\n"
   ]
  },
  {
   "cell_type": "markdown",
   "id": "444cf39c-389d-4059-80bf-244c7d1c20c5",
   "metadata": {},
   "source": [
    "---\n",
    "## Setup"
   ]
  },
  {
   "cell_type": "markdown",
   "id": "669d54b0-30b5-4d8d-805a-86409ac76351",
   "metadata": {},
   "source": [
    "### Package Installs (if needed)\n",
    "\n",
    "This notebook uses the Python Clients for\n",
    "- Google Service Usage\n",
    "    - to enable APIs (Artifact Registry, Cloud Run, and Cloud Build)\n",
    "\n",
    "The cells below check to see if the required Python libraries are installed.  If any are not it will print a message to do the install with the associated pip command to use.  These installs must be completed before continuing this notebook."
   ]
  },
  {
   "cell_type": "code",
   "execution_count": 267,
   "id": "efde1797-7ad3-4338-8c24-ea537d952011",
   "metadata": {},
   "outputs": [],
   "source": [
    "try:\n",
    "    import google.cloud.service_usage_v1\n",
    "except ImportError:\n",
    "    print('You need to pip install google-cloud-service-usage')\n",
    "    !pip install google-cloud-service-usage -q"
   ]
  },
  {
   "cell_type": "code",
   "execution_count": 268,
   "id": "0b21a3b7-a4ad-47b4-91bc-6b403ca4d9a7",
   "metadata": {},
   "outputs": [],
   "source": [
    "try:\n",
    "    import google.cloud.run_v2\n",
    "except ImportError:\n",
    "    print('You need to pip install google-cloud-run')\n",
    "    !pip install google-cloud-run -q"
   ]
  },
  {
   "cell_type": "markdown",
   "id": "ed1e3282-67ab-42cb-8ca3-0cbdca684a86",
   "metadata": {},
   "source": [
    "### Environment"
   ]
  },
  {
   "cell_type": "markdown",
   "id": "75fe1eed-1e29-485a-b859-ec0f34dd7704",
   "metadata": {},
   "source": [
    "inputs:"
   ]
  },
  {
   "cell_type": "code",
   "execution_count": 269,
   "id": "c19989cf-5e41-4d55-9ecf-424b6ef08d5c",
   "metadata": {},
   "outputs": [
    {
     "data": {
      "text/plain": [
       "'statmike-mlops-349915'"
      ]
     },
     "execution_count": 269,
     "metadata": {},
     "output_type": "execute_result"
    }
   ],
   "source": [
    "project = !gcloud config get-value project\n",
    "PROJECT_ID = project[0]\n",
    "PROJECT_ID"
   ]
  },
  {
   "cell_type": "code",
   "execution_count": 270,
   "id": "ee3e522d-8885-4f14-a761-b151ec8796f2",
   "metadata": {},
   "outputs": [],
   "source": [
    "REGION = 'us-central1'\n",
    "EXPERIMENT = '08_predictions'\n",
    "SERIES = '08'\n",
    "\n",
    "# source data\n",
    "BQ_PROJECT = PROJECT_ID\n",
    "BQ_DATASET = 'fraud'\n",
    "BQ_TABLE = 'fraud_prepped'\n",
    "\n",
    "# Resources\n",
    "DEPLOY_COMPUTE = 'n1-standard-4'\n",
    "\n",
    "# Model Training\n",
    "VAR_TARGET = 'Class'\n",
    "VAR_OMIT = 'transaction_id' # add more variables to the string with space delimiters"
   ]
  },
  {
   "cell_type": "markdown",
   "id": "c7e91b17-2bd7-4871-8922-f6aaa39e58d1",
   "metadata": {},
   "source": [
    "packages:"
   ]
  },
  {
   "cell_type": "code",
   "execution_count": 271,
   "id": "7cca34aa-1819-4be8-9b67-a89a9f59d895",
   "metadata": {},
   "outputs": [],
   "source": [
    "from google.cloud import aiplatform\n",
    "from google.cloud import bigquery\n",
    "from google.cloud import service_usage_v1\n",
    "from google.cloud import run_v2\n",
    "from google.cloud import storage\n",
    "\n",
    "import requests\n",
    "import json\n",
    "import numpy as np\n",
    "\n",
    "import multiprocessing"
   ]
  },
  {
   "cell_type": "markdown",
   "id": "723aa253-fa01-493b-917f-c81c0b7150b9",
   "metadata": {},
   "source": [
    "clients:"
   ]
  },
  {
   "cell_type": "code",
   "execution_count": 272,
   "id": "fa64adab-aed7-44b9-8261-d3841d1e255d",
   "metadata": {},
   "outputs": [],
   "source": [
    "aiplatform.init(project=PROJECT_ID, location=REGION)\n",
    "bq = bigquery.Client()\n",
    "gcs = storage.Client()\n",
    "su_client = service_usage_v1.ServiceUsageClient()\n",
    "run_client = run_v2.ServicesClient()"
   ]
  },
  {
   "cell_type": "markdown",
   "id": "a04a0120-9814-4cb9-a2bd-13124c3502c1",
   "metadata": {},
   "source": [
    "parameters:"
   ]
  },
  {
   "cell_type": "code",
   "execution_count": 273,
   "id": "e6ef67dc-c80c-4109-8b65-449169d0e991",
   "metadata": {},
   "outputs": [],
   "source": [
    "BUCKET = PROJECT_ID\n",
    "DIR = f\"temp/{EXPERIMENT}\""
   ]
  },
  {
   "cell_type": "markdown",
   "id": "583fde19-029c-4250-84b5-d17010b1ccc1",
   "metadata": {},
   "source": [
    "environment:"
   ]
  },
  {
   "cell_type": "code",
   "execution_count": 274,
   "id": "90442c3f-39e6-4fdc-a10d-70020ff8964b",
   "metadata": {},
   "outputs": [],
   "source": [
    "!rm -rf {DIR}\n",
    "!mkdir -p {DIR}"
   ]
  },
  {
   "cell_type": "markdown",
   "id": "71826af8-de5c-4acd-a32f-a8f620d263d0",
   "metadata": {
    "tags": []
   },
   "source": [
    "### Enable APIs\n",
    "\n",
    "Using Cloud Run requires enabling the API for the Google Cloud Project.\n",
    "\n",
    "Options for enabeling.  In this notebook option 2 is used.\n",
    " 1. Use the APIs & Services page in the console: https://console.cloud.google.com/apis\n",
    "     - `+ Enable APIs and Services`\n",
    "     - Search for Cloud Build and Enable\n",
    "     - Search for Artifact Registry and Enable\n",
    " 2. Use [Google Service Usage](https://cloud.google.com/service-usage/docs) API from Python\n",
    "     - [Python Client For Service Usage](https://github.com/googleapis/python-service-usage)\n",
    "     - [Python Client Library Documentation](https://cloud.google.com/python/docs/reference/serviceusage/latest)\n",
    "     \n",
    "The following code cells use the Service Usage Client to:\n",
    "- get the state of the service\n",
    "- if 'DISABLED':\n",
    "    - Try enabling the service and return the state after trying\n",
    "- if 'ENABLED' print the state for confirmation"
   ]
  },
  {
   "cell_type": "markdown",
   "id": "57367818-6530-42ca-8d17-14282740bdc5",
   "metadata": {},
   "source": [
    "#### Cloud Run"
   ]
  },
  {
   "cell_type": "code",
   "execution_count": 275,
   "id": "91e861e7-4cbf-4e82-a304-615ea0d0dcf8",
   "metadata": {},
   "outputs": [
    {
     "name": "stdout",
     "output_type": "stream",
     "text": [
      "Cloud Run already enabled for project: statmike-mlops-349915\n"
     ]
    }
   ],
   "source": [
    "cloudrun = su_client.get_service(\n",
    "    request = service_usage_v1.GetServiceRequest(\n",
    "        name = f'projects/{PROJECT_ID}/services/run.googleapis.com'\n",
    "    )\n",
    ").state.name\n",
    "\n",
    "\n",
    "if cloudrun == 'DISABLED':\n",
    "    print(f'Cloud Run is currently {cloudrun} for project: {PROJECT_ID}')\n",
    "    print(f'Trying to Enable...')\n",
    "    operation = su_client.enable_service(\n",
    "        request = service_usage_v1.EnableServiceRequest(\n",
    "            name = f'projects/{PROJECT_ID}/services/run.googleapis.com'\n",
    "        )\n",
    "    )\n",
    "    response = operation.result()\n",
    "    if response.service.state.name == 'ENABLED':\n",
    "        print(f'Cloud Run is now enabled for project: {PROJECT_ID}')\n",
    "    else:\n",
    "        print(response)\n",
    "else:\n",
    "    print(f'Cloud Run already enabled for project: {PROJECT_ID}')"
   ]
  },
  {
   "cell_type": "markdown",
   "id": "ba00e530-5ab4-431e-a974-d183a4c521d5",
   "metadata": {},
   "source": [
    "---\n",
    "## Get a Model For Predictions\n",
    "This project already has a model serving online predictions at a Vertex AI Endpoint.  This section will use the endpoint to retrieve the deployed model and get its information to use for batch prediction methods in this notebook."
   ]
  },
  {
   "cell_type": "markdown",
   "id": "5dd120eb-50e6-47b7-bf06-bb999ff1a12e",
   "metadata": {},
   "source": [
    "### Get Endpoint\n",
    "\n",
    "[Endpoint Properties and Methods](https://cloud.google.com/python/docs/reference/aiplatform/latest/google.cloud.aiplatform.Endpoint):\n",
    "\n",
    "```python\n",
    "endpoint\n",
    "endpoint.display_name\n",
    "endpoint.resource_name\n",
    "endpoint.traffic_split\n",
    "endpoint.list_models()\n",
    "```"
   ]
  },
  {
   "cell_type": "code",
   "execution_count": 276,
   "id": "b8a0ac2a-3d9b-466c-a8cf-fea67571cce1",
   "metadata": {},
   "outputs": [],
   "source": [
    "endpoints = aiplatform.Endpoint.list(filter = f\"labels.series={SERIES}\")\n",
    "endpoint = endpoints[0]"
   ]
  },
  {
   "cell_type": "code",
   "execution_count": 277,
   "id": "f0b33639-6287-41ad-8fe3-bc548d9c13d7",
   "metadata": {},
   "outputs": [
    {
     "name": "stdout",
     "output_type": "stream",
     "text": [
      "Review the Endpoint in the Console:\n",
      "https://console.cloud.google.com/vertex-ai/locations/us-central1/endpoints/1178329019301494784?project=statmike-mlops-349915\n"
     ]
    }
   ],
   "source": [
    "print(f'Review the Endpoint in the Console:\\nhttps://console.cloud.google.com/vertex-ai/locations/{REGION}/endpoints/{endpoint.name}?project={PROJECT_ID}')"
   ]
  },
  {
   "cell_type": "markdown",
   "id": "71fd0d5e-646e-4766-aa3e-53da010907b9",
   "metadata": {},
   "source": [
    "### Get Model at Endpoint\n",
    "Using the model on the endpoint for the current series:"
   ]
  },
  {
   "cell_type": "code",
   "execution_count": 278,
   "id": "c73e2769-55e0-42a1-9b76-8c84d031d09a",
   "metadata": {},
   "outputs": [
    {
     "data": {
      "text/plain": [
       "<google.cloud.aiplatform.models.Endpoint object at 0x7f78b0db7f10> \n",
       "resource name: projects/1026793852137/locations/us-central1/endpoints/1178329019301494784"
      ]
     },
     "execution_count": 278,
     "metadata": {},
     "output_type": "execute_result"
    }
   ],
   "source": [
    "endpoint"
   ]
  },
  {
   "cell_type": "code",
   "execution_count": 279,
   "id": "01361701-b42e-47f9-be70-0d08adf7d382",
   "metadata": {},
   "outputs": [],
   "source": [
    "#endpoint.list_models()[0]"
   ]
  },
  {
   "cell_type": "code",
   "execution_count": 280,
   "id": "b94b582f-b897-40da-9579-83de1530da76",
   "metadata": {},
   "outputs": [],
   "source": [
    "model = aiplatform.Model(\n",
    "    model_name = endpoint.list_models()[0].model+f'@{endpoint.list_models()[0].model_version_id}'\n",
    ")"
   ]
  },
  {
   "cell_type": "markdown",
   "id": "4bf023f7-6d1e-4fc2-9347-6ad92aecd2ca",
   "metadata": {},
   "source": [
    "### Review Model Information"
   ]
  },
  {
   "cell_type": "code",
   "execution_count": 281,
   "id": "bbe5a3e7-8829-4f50-b3d0-acb9d420dcd3",
   "metadata": {},
   "outputs": [
    {
     "data": {
      "text/plain": [
       "'08_08b'"
      ]
     },
     "execution_count": 281,
     "metadata": {},
     "output_type": "execute_result"
    }
   ],
   "source": [
    "model.display_name"
   ]
  },
  {
   "cell_type": "code",
   "execution_count": 282,
   "id": "fc2afcce-caa8-4380-ac07-a4f70c81063c",
   "metadata": {},
   "outputs": [
    {
     "data": {
      "text/plain": [
       "'projects/1026793852137/locations/us-central1/models/model_08_08b'"
      ]
     },
     "execution_count": 282,
     "metadata": {},
     "output_type": "execute_result"
    }
   ],
   "source": [
    "model.resource_name"
   ]
  },
  {
   "cell_type": "code",
   "execution_count": 283,
   "id": "d105bc36-0a82-478d-a838-9e75643d3207",
   "metadata": {},
   "outputs": [
    {
     "data": {
      "text/plain": [
       "'1'"
      ]
     },
     "execution_count": 283,
     "metadata": {},
     "output_type": "execute_result"
    }
   ],
   "source": [
    "model.version_id"
   ]
  },
  {
   "cell_type": "code",
   "execution_count": 284,
   "id": "490a8ac1-f1b6-4d91-bfe4-18fdabe9d8e4",
   "metadata": {},
   "outputs": [
    {
     "data": {
      "text/plain": [
       "'run-20221103124201'"
      ]
     },
     "execution_count": 284,
     "metadata": {},
     "output_type": "execute_result"
    }
   ],
   "source": [
    "model.version_description"
   ]
  },
  {
   "cell_type": "code",
   "execution_count": 285,
   "id": "ecab2c51-3b14-4e14-9e8d-359634abbd98",
   "metadata": {},
   "outputs": [
    {
     "data": {
      "text/plain": [
       "'projects/1026793852137/locations/us-central1/models/model_08_08b@1'"
      ]
     },
     "execution_count": 285,
     "metadata": {},
     "output_type": "execute_result"
    }
   ],
   "source": [
    "model.versioned_resource_name"
   ]
  },
  {
   "cell_type": "code",
   "execution_count": 286,
   "id": "988fe430-63eb-4aad-9bba-2ad32b17a317",
   "metadata": {},
   "outputs": [
    {
     "data": {
      "text/plain": [
       "['jsonl', 'bigquery', 'csv', 'tf-record', 'tf-record-gzip', 'file-list']"
      ]
     },
     "execution_count": 286,
     "metadata": {},
     "output_type": "execute_result"
    }
   ],
   "source": [
    "model.supported_input_storage_formats"
   ]
  },
  {
   "cell_type": "code",
   "execution_count": 287,
   "id": "b3cf0f1a-4ffe-442d-ab4b-f2f431fc0586",
   "metadata": {},
   "outputs": [
    {
     "data": {
      "text/plain": [
       "'model_08_08b'"
      ]
     },
     "execution_count": 287,
     "metadata": {},
     "output_type": "execute_result"
    }
   ],
   "source": [
    "model.name"
   ]
  },
  {
   "cell_type": "code",
   "execution_count": 288,
   "id": "51505681-df4f-4aff-a8be-23b47a7b58cd",
   "metadata": {},
   "outputs": [
    {
     "data": {
      "text/plain": [
       "'gs://statmike-mlops-349915/08/08b/models/20221103124201/model'"
      ]
     },
     "execution_count": 288,
     "metadata": {},
     "output_type": "execute_result"
    }
   ],
   "source": [
    "model.uri"
   ]
  },
  {
   "cell_type": "code",
   "execution_count": 289,
   "id": "5e881537-7f4f-4cf8-b2c8-c4200841c740",
   "metadata": {},
   "outputs": [
    {
     "data": {
      "text/plain": [
       "image_uri: \"us-central1-docker.pkg.dev/statmike-mlops-349915/statmike-mlops-349915/08b\"\n",
       "command: \"Rscript\"\n",
       "command: \"./code/serve.R\""
      ]
     },
     "execution_count": 289,
     "metadata": {},
     "output_type": "execute_result"
    }
   ],
   "source": [
    "model.container_spec"
   ]
  },
  {
   "cell_type": "code",
   "execution_count": 290,
   "id": "511defe4-06f7-425d-93a0-adacd5a47264",
   "metadata": {},
   "outputs": [
    {
     "name": "stdout",
     "output_type": "stream",
     "text": [
      "Review the model in the Vertex AI Model Registry:\n",
      "https://console.cloud.google.com/vertex-ai/locations/us-central1/models/model_08_08b/versions/1/properties?project=statmike-mlops-349915\n"
     ]
    }
   ],
   "source": [
    "print(f'Review the model in the Vertex AI Model Registry:\\nhttps://console.cloud.google.com/vertex-ai/locations/{REGION}/models/{model.name}/versions/{model.version_id}/properties?project={PROJECT_ID}')"
   ]
  },
  {
   "cell_type": "markdown",
   "id": "3f01dac9-17bc-41d9-a7af-f785e826c87a",
   "metadata": {},
   "source": [
    "#### Review Model Information Using the `aiplatform_v1` Model Client\n",
    "It may also be helpful to try the [ModelServiceClient](https://cloud.google.com/python/docs/reference/aiplatform/latest/google.cloud.aiplatform_v1.services.model_service.ModelServiceClient) in version 1 of the client to review the model attributes.  Here is example code for trying this.\n",
    "\n",
    "Curious about client versions and layers?  Check out this tip document [aiplatform_notes.md](../Tips/aiplatform_notes.md)."
   ]
  },
  {
   "cell_type": "code",
   "execution_count": 291,
   "id": "0789beab-a159-4a49-9c7c-b8a598e24950",
   "metadata": {},
   "outputs": [
    {
     "data": {
      "text/plain": [
       "name: \"projects/1026793852137/locations/us-central1/models/model_08_08b@1\"\n",
       "display_name: \"08_08b\"\n",
       "predict_schemata {\n",
       "}\n",
       "metadata {\n",
       "}\n",
       "training_pipeline: \"projects/1026793852137/locations/us-central1/trainingPipelines/6968697824896614400\"\n",
       "container_spec {\n",
       "  image_uri: \"us-central1-docker.pkg.dev/statmike-mlops-349915/statmike-mlops-349915/08b\"\n",
       "  command: \"Rscript\"\n",
       "  command: \"./code/serve.R\"\n",
       "}\n",
       "supported_deployment_resources_types: DEDICATED_RESOURCES\n",
       "supported_input_storage_formats: \"jsonl\"\n",
       "supported_input_storage_formats: \"bigquery\"\n",
       "supported_input_storage_formats: \"csv\"\n",
       "supported_input_storage_formats: \"tf-record\"\n",
       "supported_input_storage_formats: \"tf-record-gzip\"\n",
       "supported_input_storage_formats: \"file-list\"\n",
       "supported_output_storage_formats: \"jsonl\"\n",
       "supported_output_storage_formats: \"bigquery\"\n",
       "create_time {\n",
       "  seconds: 1667479599\n",
       "  nanos: 253558000\n",
       "}\n",
       "update_time {\n",
       "  seconds: 1667479925\n",
       "  nanos: 631106000\n",
       "}\n",
       "deployed_models {\n",
       "  endpoint: \"projects/1026793852137/locations/us-central1/endpoints/1178329019301494784\"\n",
       "  deployed_model_id: \"1043273807038513152\"\n",
       "}\n",
       "etag: \"AMEw9yNbryHyRBhTIovVu1Rd-EoPnivZdmOeZDSLnGZ0XPaRE43LRqhmRHWaRgjjILka\"\n",
       "labels {\n",
       "  key: \"experiment\"\n",
       "  value: \"08b\"\n",
       "}\n",
       "labels {\n",
       "  key: \"experiment_name\"\n",
       "  value: \"experiment-08-08b-r-classification-logistic_regression\"\n",
       "}\n",
       "labels {\n",
       "  key: \"run_name\"\n",
       "  value: \"run-20221103124201\"\n",
       "}\n",
       "labels {\n",
       "  key: \"series\"\n",
       "  value: \"08\"\n",
       "}\n",
       "supported_export_formats {\n",
       "  id: \"custom-trained\"\n",
       "  exportable_contents: ARTIFACT\n",
       "  exportable_contents: IMAGE\n",
       "}\n",
       "artifact_uri: \"gs://statmike-mlops-349915/08/08b/models/20221103124201/model\"\n",
       "version_id: \"1\"\n",
       "version_aliases: \"run-20221103124201\"\n",
       "version_aliases: \"default\"\n",
       "version_description: \"run-20221103124201\"\n",
       "version_create_time {\n",
       "  seconds: 1667479599\n",
       "  nanos: 253558000\n",
       "}\n",
       "version_update_time {\n",
       "  seconds: 1667479925\n",
       "  nanos: 631106000\n",
       "}\n",
       "model_source_info {\n",
       "  source_type: CUSTOM\n",
       "}"
      ]
     },
     "execution_count": 291,
     "metadata": {},
     "output_type": "execute_result"
    }
   ],
   "source": [
    "from google.cloud import aiplatform_v1\n",
    "\n",
    "client_options = {\"api_endpoint\": f\"{REGION}-aiplatform.googleapis.com\"}\n",
    "ModelClientv1 = aiplatform_v1.ModelServiceClient(client_options = client_options)\n",
    "\n",
    "ModelClientv1.get_model(\n",
    "    name = model.versioned_resource_name\n",
    ")"
   ]
  },
  {
   "cell_type": "markdown",
   "id": "465fd1d3-be9d-468f-9cf3-d358224c6db2",
   "metadata": {},
   "source": [
    "---\n",
    "## Retrieve Records For Prediction"
   ]
  },
  {
   "cell_type": "code",
   "execution_count": 292,
   "id": "a6d83d9d-7172-4284-b645-1df65b1ae00f",
   "metadata": {},
   "outputs": [],
   "source": [
    "n = 1000\n",
    "pred = bq.query(query = f\"SELECT * FROM {BQ_PROJECT}.{BQ_DATASET}.{BQ_TABLE} WHERE splits='TEST' LIMIT {n}\").to_dataframe()"
   ]
  },
  {
   "cell_type": "code",
   "execution_count": 293,
   "id": "0ee0ec2e-9787-4d8f-b851-4c7387ba5f5a",
   "metadata": {},
   "outputs": [
    {
     "data": {
      "text/html": [
       "<div>\n",
       "<style scoped>\n",
       "    .dataframe tbody tr th:only-of-type {\n",
       "        vertical-align: middle;\n",
       "    }\n",
       "\n",
       "    .dataframe tbody tr th {\n",
       "        vertical-align: top;\n",
       "    }\n",
       "\n",
       "    .dataframe thead th {\n",
       "        text-align: right;\n",
       "    }\n",
       "</style>\n",
       "<table border=\"1\" class=\"dataframe\">\n",
       "  <thead>\n",
       "    <tr style=\"text-align: right;\">\n",
       "      <th></th>\n",
       "      <th>Time</th>\n",
       "      <th>V1</th>\n",
       "      <th>V2</th>\n",
       "      <th>V3</th>\n",
       "      <th>V4</th>\n",
       "      <th>V5</th>\n",
       "      <th>V6</th>\n",
       "      <th>V7</th>\n",
       "      <th>V8</th>\n",
       "      <th>V9</th>\n",
       "      <th>...</th>\n",
       "      <th>V23</th>\n",
       "      <th>V24</th>\n",
       "      <th>V25</th>\n",
       "      <th>V26</th>\n",
       "      <th>V27</th>\n",
       "      <th>V28</th>\n",
       "      <th>Amount</th>\n",
       "      <th>Class</th>\n",
       "      <th>transaction_id</th>\n",
       "      <th>splits</th>\n",
       "    </tr>\n",
       "  </thead>\n",
       "  <tbody>\n",
       "    <tr>\n",
       "      <th>0</th>\n",
       "      <td>35337</td>\n",
       "      <td>1.092844</td>\n",
       "      <td>-0.013230</td>\n",
       "      <td>1.359829</td>\n",
       "      <td>2.731537</td>\n",
       "      <td>-0.707357</td>\n",
       "      <td>0.873837</td>\n",
       "      <td>-0.796130</td>\n",
       "      <td>0.437707</td>\n",
       "      <td>0.396770</td>\n",
       "      <td>...</td>\n",
       "      <td>-0.167647</td>\n",
       "      <td>0.027557</td>\n",
       "      <td>0.592115</td>\n",
       "      <td>0.219695</td>\n",
       "      <td>0.036970</td>\n",
       "      <td>0.010984</td>\n",
       "      <td>0.0</td>\n",
       "      <td>0</td>\n",
       "      <td>a1b10547-d270-48c0-b902-7a0f735dadc7</td>\n",
       "      <td>TEST</td>\n",
       "    </tr>\n",
       "    <tr>\n",
       "      <th>1</th>\n",
       "      <td>60481</td>\n",
       "      <td>1.238973</td>\n",
       "      <td>0.035226</td>\n",
       "      <td>0.063003</td>\n",
       "      <td>0.641406</td>\n",
       "      <td>-0.260893</td>\n",
       "      <td>-0.580097</td>\n",
       "      <td>0.049938</td>\n",
       "      <td>-0.034733</td>\n",
       "      <td>0.405932</td>\n",
       "      <td>...</td>\n",
       "      <td>-0.057718</td>\n",
       "      <td>0.104983</td>\n",
       "      <td>0.537987</td>\n",
       "      <td>0.589563</td>\n",
       "      <td>-0.046207</td>\n",
       "      <td>-0.006212</td>\n",
       "      <td>0.0</td>\n",
       "      <td>0</td>\n",
       "      <td>814c62c8-ade4-47d5-bf83-313b0aafdee5</td>\n",
       "      <td>TEST</td>\n",
       "    </tr>\n",
       "    <tr>\n",
       "      <th>2</th>\n",
       "      <td>139587</td>\n",
       "      <td>1.870539</td>\n",
       "      <td>0.211079</td>\n",
       "      <td>0.224457</td>\n",
       "      <td>3.889486</td>\n",
       "      <td>-0.380177</td>\n",
       "      <td>0.249799</td>\n",
       "      <td>-0.577133</td>\n",
       "      <td>0.179189</td>\n",
       "      <td>-0.120462</td>\n",
       "      <td>...</td>\n",
       "      <td>0.180776</td>\n",
       "      <td>-0.060226</td>\n",
       "      <td>-0.228979</td>\n",
       "      <td>0.080827</td>\n",
       "      <td>0.009868</td>\n",
       "      <td>-0.036997</td>\n",
       "      <td>0.0</td>\n",
       "      <td>0</td>\n",
       "      <td>d08a1bfa-85c5-4f1b-9537-1c5a93e6afd0</td>\n",
       "      <td>TEST</td>\n",
       "    </tr>\n",
       "    <tr>\n",
       "      <th>3</th>\n",
       "      <td>162908</td>\n",
       "      <td>-3.368339</td>\n",
       "      <td>-1.980442</td>\n",
       "      <td>0.153645</td>\n",
       "      <td>-0.159795</td>\n",
       "      <td>3.847169</td>\n",
       "      <td>-3.516873</td>\n",
       "      <td>-1.209398</td>\n",
       "      <td>-0.292122</td>\n",
       "      <td>0.760543</td>\n",
       "      <td>...</td>\n",
       "      <td>-1.171627</td>\n",
       "      <td>0.214333</td>\n",
       "      <td>-0.159652</td>\n",
       "      <td>-0.060883</td>\n",
       "      <td>1.294977</td>\n",
       "      <td>0.120503</td>\n",
       "      <td>0.0</td>\n",
       "      <td>0</td>\n",
       "      <td>802f3307-8e5a-4475-b795-5d5d8d7d0120</td>\n",
       "      <td>TEST</td>\n",
       "    </tr>\n",
       "  </tbody>\n",
       "</table>\n",
       "<p>4 rows × 33 columns</p>\n",
       "</div>"
      ],
      "text/plain": [
       "     Time        V1        V2        V3        V4        V5        V6  \\\n",
       "0   35337  1.092844 -0.013230  1.359829  2.731537 -0.707357  0.873837   \n",
       "1   60481  1.238973  0.035226  0.063003  0.641406 -0.260893 -0.580097   \n",
       "2  139587  1.870539  0.211079  0.224457  3.889486 -0.380177  0.249799   \n",
       "3  162908 -3.368339 -1.980442  0.153645 -0.159795  3.847169 -3.516873   \n",
       "\n",
       "         V7        V8        V9  ...       V23       V24       V25       V26  \\\n",
       "0 -0.796130  0.437707  0.396770  ... -0.167647  0.027557  0.592115  0.219695   \n",
       "1  0.049938 -0.034733  0.405932  ... -0.057718  0.104983  0.537987  0.589563   \n",
       "2 -0.577133  0.179189 -0.120462  ...  0.180776 -0.060226 -0.228979  0.080827   \n",
       "3 -1.209398 -0.292122  0.760543  ... -1.171627  0.214333 -0.159652 -0.060883   \n",
       "\n",
       "        V27       V28  Amount  Class                        transaction_id  \\\n",
       "0  0.036970  0.010984     0.0      0  a1b10547-d270-48c0-b902-7a0f735dadc7   \n",
       "1 -0.046207 -0.006212     0.0      0  814c62c8-ade4-47d5-bf83-313b0aafdee5   \n",
       "2  0.009868 -0.036997     0.0      0  d08a1bfa-85c5-4f1b-9537-1c5a93e6afd0   \n",
       "3  1.294977  0.120503     0.0      0  802f3307-8e5a-4475-b795-5d5d8d7d0120   \n",
       "\n",
       "   splits  \n",
       "0    TEST  \n",
       "1    TEST  \n",
       "2    TEST  \n",
       "3    TEST  \n",
       "\n",
       "[4 rows x 33 columns]"
      ]
     },
     "execution_count": 293,
     "metadata": {},
     "output_type": "execute_result"
    }
   ],
   "source": [
    "pred.head(4)"
   ]
  },
  {
   "cell_type": "markdown",
   "id": "c9b515ec-fe2f-4507-883a-9df04f33739f",
   "metadata": {},
   "source": [
    "Remove columns not included as features in the model:"
   ]
  },
  {
   "cell_type": "code",
   "execution_count": 294,
   "id": "ace2fb67-82ca-45a8-b9eb-74fbc8f541f5",
   "metadata": {},
   "outputs": [],
   "source": [
    "newobs = pred[pred.columns[~pred.columns.isin(VAR_OMIT.split()+[VAR_TARGET, 'splits'])]].to_dict(orient='records')\n",
    "#newobs[0]"
   ]
  },
  {
   "cell_type": "code",
   "execution_count": 295,
   "id": "bc734e2b-d832-4efb-b9e3-20014568cb4b",
   "metadata": {},
   "outputs": [
    {
     "data": {
      "text/plain": [
       "1000"
      ]
     },
     "execution_count": 295,
     "metadata": {},
     "output_type": "execute_result"
    }
   ],
   "source": [
    "len(newobs)"
   ]
  },
  {
   "cell_type": "code",
   "execution_count": 296,
   "id": "f215f8a2-9700-4f65-992a-98ed9b289b51",
   "metadata": {},
   "outputs": [
    {
     "data": {
      "text/plain": [
       "{'Time': 35337,\n",
       " 'V1': 1.0928441854981998,\n",
       " 'V2': -0.0132303486713432,\n",
       " 'V3': 1.35982868199426,\n",
       " 'V4': 2.7315370965921004,\n",
       " 'V5': -0.707357349219652,\n",
       " 'V6': 0.8738370029866129,\n",
       " 'V7': -0.7961301510622031,\n",
       " 'V8': 0.437706509544851,\n",
       " 'V9': 0.39676985012996396,\n",
       " 'V10': 0.587438102569443,\n",
       " 'V11': -0.14979756231827498,\n",
       " 'V12': 0.29514781622888103,\n",
       " 'V13': -1.30382621882143,\n",
       " 'V14': -0.31782283120234495,\n",
       " 'V15': -2.03673231037199,\n",
       " 'V16': 0.376090905274179,\n",
       " 'V17': -0.30040350116459497,\n",
       " 'V18': 0.433799615590844,\n",
       " 'V19': -0.145082264348681,\n",
       " 'V20': -0.240427548108996,\n",
       " 'V21': 0.0376030733329398,\n",
       " 'V22': 0.38002620963091405,\n",
       " 'V23': -0.16764742731151097,\n",
       " 'V24': 0.0275573495476881,\n",
       " 'V25': 0.59211469704354,\n",
       " 'V26': 0.219695164116351,\n",
       " 'V27': 0.0369695108704894,\n",
       " 'V28': 0.010984441006191,\n",
       " 'Amount': 0.0}"
      ]
     },
     "execution_count": 296,
     "metadata": {},
     "output_type": "execute_result"
    }
   ],
   "source": [
    "newobs[0]"
   ]
  },
  {
   "cell_type": "markdown",
   "id": "2e6a594f-3117-4367-9103-c7c4ae6b64cd",
   "metadata": {},
   "source": [
    "---\n",
    "## Cloud Run: R Model Server\n",
    "\n",
    "Cloud Run will be used to host our custom container and handle prediction requests."
   ]
  },
  {
   "cell_type": "markdown",
   "id": "f3637587-310e-43cc-87bf-09df137f9811",
   "metadata": {},
   "source": [
    "### Deploy as Cloud Run Service\n",
    "This demonstration creates an open service allowing all traffic.  Review documentation for [Cloud Run](https://cloud.google.com/run/docs/overview/what-is-cloud-run) and the [CLOUD SDK CLI sections](https://cloud.google.com/sdk/gcloud/reference/run) for `gcloud run`.\n",
    "\n",
    "\n",
    "If you have a policy inforced for 'Domain Restricted Sharing' then it may need adjusting for the project to allow this.  This should be done with care and you may wish to only accept authenticated or internal traffic.  Review options for authentication [here](https://cloud.google.com/run/docs/authenticating/overview).\n",
    "\n",
    "Updated Org Policy:\n",
    "- Logged in as Admin\n",
    "- IAM > Organization Policies\n",
    "    - Changed to Project (not org level)\n",
    "    - Filter 'Domain Restricted Sharing'\n",
    "    - Select and Edit\n",
    "        - Applies to = Customize\n",
    "        - Policy enforcement = Replace\n",
    "        - Rules = Allow all\n",
    "    - Save"
   ]
  },
  {
   "cell_type": "markdown",
   "id": "e615ea2d-02fd-4b35-b97b-620d08fe7640",
   "metadata": {},
   "source": [
    "View the Cloud Run Console for this project:"
   ]
  },
  {
   "cell_type": "code",
   "execution_count": 297,
   "id": "d669cd1f-3e84-4182-bf8d-a04c548a2d51",
   "metadata": {},
   "outputs": [
    {
     "name": "stdout",
     "output_type": "stream",
     "text": [
      "https://console.cloud.google.com/run?project=statmike-mlops-349915\n"
     ]
    }
   ],
   "source": [
    "print(f'https://console.cloud.google.com/run?project={PROJECT_ID}')"
   ]
  },
  {
   "cell_type": "markdown",
   "id": "cab22aee-0bea-4980-809a-c8c73bf6ef89",
   "metadata": {},
   "source": [
    "Create the Cloud Run Service:"
   ]
  },
  {
   "cell_type": "code",
   "execution_count": 298,
   "id": "42bc027b-a6c4-406e-ae53-101e3e048726",
   "metadata": {},
   "outputs": [
    {
     "name": "stdout",
     "output_type": "stream",
     "text": [
      "Deploying new service...                                                       \n",
      "  . Creating Revision...                                                       \n",
      "  . Routing traffic...                                                         \n",
      "  . Setting IAM Policy...                                                      \n"
     ]
    }
   ],
   "source": [
    "!gcloud run deploy endpoint-$SERIES \\\n",
    "    --image=$model.container_spec.image_uri \\\n",
    "    --command='Rscript' \\\n",
    "    --command='./code/serve_cloudrun.R' \\\n",
    "    --port=8080 --region=$REGION \\\n",
    "    --platform=managed \\\n",
    "    --allow-unauthenticated \\\n",
    "    --no-user-output-enabled"
   ]
  },
  {
   "cell_type": "code",
   "execution_count": 299,
   "id": "b585f512-c92f-462f-b429-dd56da9ad084",
   "metadata": {},
   "outputs": [
    {
     "name": "stdout",
     "output_type": "stream",
     "text": [
      "   SERVICE      REGION       URL                                          LAST DEPLOYED BY                                     LAST DEPLOYED AT\n",
      "\u001b[32m✔\u001b[39;0m  endpoint-08  us-central1  https://endpoint-08-urlxi72dpa-uc.a.run.app  1026793852137-compute@developer.gserviceaccount.com  2022-11-03T13:24:40.183176Z\n"
     ]
    }
   ],
   "source": [
    "!gcloud run services list"
   ]
  },
  {
   "cell_type": "code",
   "execution_count": 300,
   "id": "e1f6a326-7443-4f5e-b2b4-539b632b68ee",
   "metadata": {},
   "outputs": [
    {
     "data": {
      "text/plain": [
       "'https://endpoint-08-urlxi72dpa-uc.a.run.app'"
      ]
     },
     "execution_count": 300,
     "metadata": {},
     "output_type": "execute_result"
    }
   ],
   "source": [
    "services = !gcloud run services list --format=\"json\" --filter=SERVICE:endpoint-$SERIES\n",
    "services = json.loads(\"\".join(services))[0]\n",
    "services['status']['url']"
   ]
  },
  {
   "cell_type": "markdown",
   "id": "a3799abd-6ebb-4453-bcac-2ad2cc69c2aa",
   "metadata": {},
   "source": [
    "If you had to adjust a `Domain Restricted Sharing` policy after deployment then this command can update the service to allow all traffic:"
   ]
  },
  {
   "cell_type": "code",
   "execution_count": 301,
   "id": "30e425d9-e609-4146-8df8-db01f403db11",
   "metadata": {},
   "outputs": [],
   "source": [
    "#!gcloud run services add-iam-policy-binding --region=us-central1 --member='allUsers' --role=roles/run.invoker endpoint-$SERIES"
   ]
  },
  {
   "cell_type": "markdown",
   "id": "9ef14477-a766-4e27-98f1-4cc50192dfd5",
   "metadata": {},
   "source": [
    "### Get Predictions Using Cloud Run Service"
   ]
  },
  {
   "cell_type": "markdown",
   "id": "9887ff29-8395-4c83-acbb-c061e6bbfa75",
   "metadata": {},
   "source": [
    "Prepare in instance (observation) for prediction request:"
   ]
  },
  {
   "cell_type": "code",
   "execution_count": 302,
   "id": "785797f2-878f-44b3-adb4-e612710d3966",
   "metadata": {},
   "outputs": [],
   "source": [
    "tryob_json = json.dumps({\"instances\": newobs[0:20]})\n",
    "#tryob_json"
   ]
  },
  {
   "cell_type": "markdown",
   "id": "1cd8447e-3bd6-4bf6-b07b-adc9e8c1d4a0",
   "metadata": {},
   "source": [
    "Make prediction request:"
   ]
  },
  {
   "cell_type": "code",
   "execution_count": 303,
   "id": "660c200b-4869-4ead-b8d6-1be11f13285a",
   "metadata": {},
   "outputs": [],
   "source": [
    "json_response = requests.post(f\"{services['status']['url']}/predict\", data=tryob_json, headers={\"content-type\": \"application/json\"})"
   ]
  },
  {
   "cell_type": "code",
   "execution_count": 304,
   "id": "30624f96-a7ef-46e6-8058-842ee96dcd4e",
   "metadata": {},
   "outputs": [
    {
     "data": {
      "text/plain": [
       "<Response [200]>"
      ]
     },
     "execution_count": 304,
     "metadata": {},
     "output_type": "execute_result"
    }
   ],
   "source": [
    "json_response"
   ]
  },
  {
   "cell_type": "code",
   "execution_count": 305,
   "id": "cc897f00-ffc5-4730-8930-557185568f75",
   "metadata": {},
   "outputs": [
    {
     "name": "stdout",
     "output_type": "stream",
     "text": [
      "{\"predictions\":[0.0018,0.0004,0.0017,0,0.0005,0.0002,0.0002,0.0026,0.0016,0.0004,0.0001,0.0002,0.0006,0.0003,0.0028,0.0004,0.0025,0.0016,0.0009,0.0001]}\n"
     ]
    }
   ],
   "source": [
    "print(json_response.text)"
   ]
  },
  {
   "cell_type": "code",
   "execution_count": 306,
   "id": "8ddb4769-4ae9-474d-8aaa-78ce9480a502",
   "metadata": {},
   "outputs": [
    {
     "data": {
      "text/plain": [
       "[0.0018,\n",
       " 0.0004,\n",
       " 0.0017,\n",
       " 0,\n",
       " 0.0005,\n",
       " 0.0002,\n",
       " 0.0002,\n",
       " 0.0026,\n",
       " 0.0016,\n",
       " 0.0004,\n",
       " 0.0001,\n",
       " 0.0002,\n",
       " 0.0006,\n",
       " 0.0003,\n",
       " 0.0028,\n",
       " 0.0004,\n",
       " 0.0025,\n",
       " 0.0016,\n",
       " 0.0009,\n",
       " 0.0001]"
      ]
     },
     "execution_count": 306,
     "metadata": {},
     "output_type": "execute_result"
    }
   ],
   "source": [
    "predictions = json.loads(json_response.text)['predictions']\n",
    "predictions"
   ]
  },
  {
   "cell_type": "code",
   "execution_count": 307,
   "id": "262240e2-582b-48a3-a673-2ce639d6e0ab",
   "metadata": {
    "tags": []
   },
   "outputs": [
    {
     "data": {
      "text/plain": [
       "0"
      ]
     },
     "execution_count": 307,
     "metadata": {},
     "output_type": "execute_result"
    }
   ],
   "source": [
    "np.argmax(predictions[0])"
   ]
  },
  {
   "cell_type": "markdown",
   "id": "3c12395c-be86-4cc7-83ea-8eb109939d1d",
   "metadata": {},
   "source": [
    "### Remove Service\n",
    "This command will remove the service.\n",
    "\n",
    "Alternatively, you could adjust the service to not accept traffic.  Cloud Run will scale down to zero - or only charge when CPU is used (startup, shutdown, and receiving requests) unless `--no-cpu-throttling` is used ([documentation](https://cloud.google.com/run/docs/configuring/cpu-allocation#setting))."
   ]
  },
  {
   "cell_type": "code",
   "execution_count": 308,
   "id": "37283448-b36c-49a5-9b0b-f93d741df84d",
   "metadata": {},
   "outputs": [
    {
     "name": "stdout",
     "output_type": "stream",
     "text": [
      "Deleting [endpoint-08]...done.                                                 \n",
      "Deleted service [endpoint-08].\n"
     ]
    }
   ],
   "source": [
    "!gcloud run services delete --region=us-central1 --quiet endpoint-$SERIES"
   ]
  },
  {
   "cell_type": "markdown",
   "id": "17a5de5b-2f98-495d-9777-d43c43ef14ca",
   "metadata": {},
   "source": [
    "---\n",
    "## Local (to Notebook): R Model Server\n",
    "\n",
    "The local notebook environment may have docker installed. For example, Vertex AI Workbench user-managed instances do have docker installed.  In this case the custom container in Artfact Registry created above can be pulled (`docker pull`) and run (`docker run`) here to serve prediction requests from the local compute instance.  This can be great for testing, troubleshooting, or doing local experiments. It can also potentially be helpful when you need to try various prediction requests scenarios for interpretation/explainability like is done in these notebooks:\n",
    "- [05Tools - Interpretability with LIT.ipynb](./05Tools%20-%20Interpretability%20with%20LIT.ipynb)\n",
    "- [05Tools - Interpretability with WIT.ipynb](./05Tools%20-%20Interpretability%20with%20WIT.ipynb)"
   ]
  },
  {
   "cell_type": "markdown",
   "id": "97fd19da-2335-4545-ab32-c9efa38fb6ae",
   "metadata": {},
   "source": [
    "### Pull the custom serving image locally"
   ]
  },
  {
   "cell_type": "code",
   "execution_count": 309,
   "id": "ca610a5d-4a83-420b-a2c6-9a156ea135c7",
   "metadata": {},
   "outputs": [
    {
     "name": "stdout",
     "output_type": "stream",
     "text": [
      "Using default tag: latest\n",
      "latest: Pulling from statmike-mlops-349915/statmike-mlops-349915/08b\n",
      "\n",
      "\u001b[1B20708c8b: Already exists \n",
      "\u001b[1B99c96e17: Already exists \n",
      "\u001b[1B88561c53: Already exists \n",
      "\u001b[1Bb700ef54: Already exists \n",
      "\u001b[1B2e8fe530: Already exists \n",
      "\u001b[3Bb700ef54: Already exists \n",
      "\u001b[1Bf3784f8e: Already exists \n",
      "\u001b[1Be425dd4a: Already exists \n",
      "\u001b[1Bd87928c6: Already exists \n",
      "\u001b[1B1aa6227e: Already exists \n",
      "\u001b[1B67d1d89a: Already exists \n",
      "\u001b[1Bc4f64bc7: Already exists \n",
      "\u001b[1B9623776c: Already exists \n",
      "\u001b[1Be2bd6d97: Already exists \n",
      "\u001b[1Bdb888e6e: Already exists \n",
      "\u001b[1B53e0732a: Already exists \n",
      "\u001b[1Bccf524f5: Already exists \n",
      "\u001b[1B152c4edc: Already exists \n",
      "\u001b[1B15d705b0: Already exists \n",
      "\u001b[1Bb765933f: Already exists \n",
      "\u001b[1Bcba45088: Already exists \n",
      "\u001b[1B14991333: Already exists \n",
      "\u001b[1B1c951564: Already exists \n",
      "\u001b[1B1fdb112e: Already exists \n",
      "\u001b[1B2a17da6d: Already exists \n",
      "\u001b[1Bf9bf3ba4: Already exists \n",
      "\u001b[1Bd28a2ea2: Already exists \n",
      "\u001b[1B6edbb35e: Already exists \n",
      "\u001b[1B6c418877: Already exists \n",
      "\u001b[1B71005745: Already exists \n",
      "\u001b[1B98900aa8: Already exists \n",
      "\u001b[1B16e31a3f: Already exists \n",
      "\u001b[1B0cbec6df: Already exists \n",
      "\u001b[1Bc7c348b4: Already exists \n",
      "\u001b[1Bb6070393: Already exists \n",
      "\u001b[1B91c6bd4e: Pulling fs layer \n",
      "\u001b[1Bbbec5069: Pulling fs layer \n",
      "\u001b[1B3e052c9d: Pulling fs layer \n",
      "\u001b[1BDigest: sha256:59921e60da0feb950f87f15b55596d64587715a0a25f8673f1ab3e41a0d272dc[3A\u001b[2K\u001b[3A\u001b[2K\u001b[3A\u001b[2K\u001b[2A\u001b[2K\u001b[1A\u001b[2K\u001b[1A\u001b[2K\u001b[1A\u001b[2K\n",
      "Status: Downloaded newer image for us-central1-docker.pkg.dev/statmike-mlops-349915/statmike-mlops-349915/08b:latest\n",
      "us-central1-docker.pkg.dev/statmike-mlops-349915/statmike-mlops-349915/08b:latest\n"
     ]
    }
   ],
   "source": [
    "!docker pull $model.container_spec.image_uri"
   ]
  },
  {
   "cell_type": "markdown",
   "id": "39bd57c3-b3a0-4173-b884-d421042c535a",
   "metadata": {},
   "source": [
    "### Run the serving image locally\n",
    "\n",
    "The container is going to be run with commands in this notebook.  In order to run the serving while not tying up further exectutions in this notebook, a subprocess will be launched using `multiprocessing`. To learn more about multiprocessing and running tasks from Python in parallel visit the tips notebook [Python Multiprocessing](../Tips/Python%20Multiprocessing.ipynb)."
   ]
  },
  {
   "cell_type": "markdown",
   "id": "ddeb9240-3e13-4e94-bac9-3bf745d2505a",
   "metadata": {},
   "source": [
    "First, build the syntax of the `docker run` command."
   ]
  },
  {
   "cell_type": "code",
   "execution_count": 310,
   "id": "60608520-66cd-445f-8fd1-869bac4dbe11",
   "metadata": {},
   "outputs": [
    {
     "name": "stdout",
     "output_type": "stream",
     "text": [
      "docker run -t --rm -p 8501:8080 us-central1-docker.pkg.dev/statmike-mlops-349915/statmike-mlops-349915/08b Rscript ./code/serve_cloudrun.R\n"
     ]
    }
   ],
   "source": [
    "command = f'''docker run -t --rm -p 8501:8080 {model.container_spec.image_uri} Rscript ./code/serve_cloudrun.R'''\n",
    "print(command)"
   ]
  },
  {
   "cell_type": "markdown",
   "id": "170c872e-2e94-4aed-80d2-df8f7f746a0c",
   "metadata": {},
   "source": [
    "Run the command in a subprocess at the local folder of this notebook - use multiprocess.Process():"
   ]
  },
  {
   "cell_type": "code",
   "execution_count": 311,
   "id": "4644a43e-fb05-4444-8365-76f6ea927da5",
   "metadata": {},
   "outputs": [
    {
     "name": "stdout",
     "output_type": "stream",
     "text": [
      "\u001b[?25h_CE_CONDA               \n",
      "_CE_M                   \n",
      "_R_CHECK_COMPILATION_FLAGS_KNOWN_\n",
      "                        -Wformat -Werror=format-security -Wdate-time\n",
      "ANACONDA_PYTHON_VERSION\n",
      "                        3.7\n",
      "CONDA_DEFAULT_ENV       base\n",
      "CONDA_EXE               /opt/conda/bin/conda\n",
      "CONDA_PREFIX            /opt/conda\n",
      "CONDA_PROMPT_MODIFIER   (base)\n",
      "CONDA_PYTHON_EXE        /opt/conda/bin/python\n",
      "CONDA_SHLVL             1\n",
      "CONTAINER_NAME          r-cpu/4-1\n",
      "DL_ANACONDA_HOME        /opt/conda\n",
      "EDITOR                  vi\n",
      "GSETTINGS_SCHEMA_DIR    /opt/conda/share/glib-2.0/schemas\n",
      "GSETTINGS_SCHEMA_DIR_CONDA_BACKUP\n",
      "                        \n",
      "HOME                    /root\n",
      "HOSTNAME                fa577292c8a8\n",
      "LANG                    C.UTF-8\n",
      "LC_ALL                  C.UTF-8\n",
      "LD_LIBRARY_PATH         /usr/lib/R/lib:/usr/lib/x86_64-linux-gnu:/usr/lib/jvm/java-11-openjdk-amd64/lib/server:/usr/local/cuda/lib64:/usr/local/cuda/lib:/usr/local/lib/x86_64-linux-gnu:/usr/local/nvidia/lib:/usr/local/nvidia/lib64:\n",
      "LN_S                    ln -s\n",
      "MAKE                    make\n",
      "PAGER                   /usr/bin/pager\n",
      "PATH                    /opt/conda/bin:/opt/conda/condabin:/opt/conda/bin:/usr/local/sbin:/usr/local/bin:/usr/sbin:/usr/bin:/sbin:/bin\n",
      "PORT                    8080\n",
      "PWD                     /root\n",
      "R_ARCH                  \n",
      "R_BROWSER               xdg-open\n",
      "R_BZIPCMD               /bin/bzip2\n",
      "R_DOC_DIR               /usr/share/R/doc\n",
      "R_GZIPCMD               /bin/gzip -n\n",
      "R_HOME                  /usr/lib/R\n",
      "R_INCLUDE_DIR           /usr/share/R/include\n",
      "R_LIBS_SITE             /usr/local/lib/R/site-library/:/usr/lib/R/site-library:/usr/lib/R/library\n",
      "R_LIBS_USER             /root/R/x86_64-pc-linux-gnu-library/4.2\n",
      "R_PAPERSIZE             letter\n",
      "R_PAPERSIZE_USER        a4\n",
      "R_PDFVIEWER             /usr/bin/xdg-open\n",
      "R_PLATFORM              x86_64-pc-linux-gnu\n",
      "R_PRINTCMD              /usr/bin/lpr\n",
      "R_RD4PDF                times,inconsolata,hyper\n",
      "R_SESSION_TMPDIR        /tmp/RtmpW1Ahog\n",
      "R_SHARE_DIR             /usr/share/R/share\n",
      "R_STRIP_SHARED_LIB      strip --strip-unneeded\n",
      "R_STRIP_STATIC_LIB      strip --strip-debug\n",
      "R_SYSTEM_ABI            linux,gcc,gxx,gfortran,gfortran\n",
      "R_TEXI2DVICMD           /usr/bin/texi2dvi\n",
      "R_UNZIPCMD              /usr/bin/unzip\n",
      "R_ZIPCMD                /usr/bin/zip\n",
      "SED                     /bin/sed\n",
      "SHELL                   /bin/bash\n",
      "SHLVL                   0\n",
      "TAR                     /bin/tar\n",
      "TERM                    xterm\n",
      "\u001b[?25hCopying gs://statmike-mlops-349915/08/08b/models/20221103124201/model/model.rds...\n",
      "/ [1 files][153.2 MiB/153.2 MiB]                                                \n",
      "Operation completed over 1 objects/153.2 MiB.                                    \n",
      "\u001b[?25h4\t./.bashrc\n",
      "4\t./.profile\n",
      "4\t./.config/gcloud/gce\n",
      "4\t./.config/gcloud/active_config\n",
      "0\t./.config/gcloud/configurations/config_default\n",
      "4\t./.config/gcloud/configurations\n",
      "20\t./.config/gcloud\n",
      "4\t./.config/matplotlib\n",
      "4\t./.config/git/attributes\n",
      "8\t./.config/git\n",
      "40\t./.config\n",
      "4\t./.gsutil/credstore2\n",
      "0\t./.gsutil/credstore2.lock\n",
      "0\t./.gsutil/gcecredcache.lock\n",
      "4\t./.gsutil/gcecredcache\n",
      "4\t./.gsutil/tracker-files\n",
      "20\t./.gsutil\n",
      "156840\t./model.rds\n",
      "4\t./code/serve_cloudrun.R\n",
      "4\t./code/train.R\n",
      "4\t./code/serve.R\n",
      "16\t./code\n",
      "4\t./.jupyter/migrated\n",
      "8\t./.jupyter\n",
      "4\t./.wget-hsts\n",
      "4\t./.ipython\n",
      "4\t./.gitconfig\n",
      "4\t./.local/share/jupyter\n",
      "8\t./.local/share\n",
      "12\t./.local\n",
      "44\t./.cache/matplotlib/fontlist-v330.json\n",
      "48\t./.cache/matplotlib\n",
      "52\t./.cache\n",
      "4\t./.conda/environments.txt\n",
      "8\t./.conda\n",
      "0\t./.npm/_update-notifier-last-checked\n",
      "4\t./.npm/_logs/2022-09-28T07_21_07_390Z-debug-0.log\n",
      "4\t./.npm/_logs/2022-09-28T07_20_56_244Z-debug-0.log\n",
      "20\t./.npm/_logs/2022-09-28T07_20_53_640Z-debug-0.log\n",
      "4\t./.npm/_logs/2022-09-28T07_21_02_240Z-debug-0.log\n",
      "4\t./.npm/_logs/2022-09-28T07_20_58_885Z-debug-0.log\n",
      "4\t./.npm/_logs/2022-09-28T07_21_00_019Z-debug-0.log\n",
      "4\t./.npm/_logs/2022-09-28T07_21_04_726Z-debug-0.log\n",
      "4\t./.npm/_logs/2022-09-28T07_23_36_283Z-debug-0.log\n",
      "4\t./.npm/_logs/2022-09-28T07_20_59_516Z-debug-0.log\n",
      "56\t./.npm/_logs\n",
      "60\t./.npm\n",
      "157084\t.\n",
      "\u001b[?25h\u001b[?25h\u001b[?25h[1] \"Start Serving Process...\"\n",
      "\u001b[?25hRunning plumber API at http://0.0.0.0:8080\n",
      "Running swagger Docs at http://127.0.0.1:8080/__docs__/\n",
      "[1] \"Processing Prediction Request...\"\n"
     ]
    }
   ],
   "source": [
    "def docker_runner():\n",
    "    !{command}\n",
    "    #!docker run -t -p 8501:8501 -v \"/$(pwd)/temp/05_predictions/model:/models/05/01\" -e MODEL_NAME=05 tensorflow/serving:2.7.4\n",
    "\n",
    "def main():\n",
    "    p = multiprocessing.Process(target=docker_runner)\n",
    "    p.start()\n",
    "    return p\n",
    "    \n",
    "p = main()"
   ]
  },
  {
   "cell_type": "markdown",
   "id": "cd8184a8-2c8e-4ea1-bffb-e1fa1a4260b4",
   "metadata": {},
   "source": [
    "### Get Predictions on Exposed Port"
   ]
  },
  {
   "cell_type": "markdown",
   "id": "8ec03485-c581-4171-bbb8-f70187bd427b",
   "metadata": {},
   "source": [
    "Prepare in instance (observation) for prediction request:"
   ]
  },
  {
   "cell_type": "code",
   "execution_count": 313,
   "id": "289c6135-3def-4de5-95c5-ea1cba601586",
   "metadata": {},
   "outputs": [
    {
     "data": {
      "text/plain": [
       "'{\"instances\": [{\"Time\": 35337, \"V1\": 1.0928441854981998, \"V2\": -0.0132303486713432, \"V3\": 1.35982868199426, \"V4\": 2.7315370965921004, \"V5\": -0.707357349219652, \"V6\": 0.8738370029866129, \"V7\": -0.7961301510622031, \"V8\": 0.437706509544851, \"V9\": 0.39676985012996396, \"V10\": 0.587438102569443, \"V11\": -0.14979756231827498, \"V12\": 0.29514781622888103, \"V13\": -1.30382621882143, \"V14\": -0.31782283120234495, \"V15\": -2.03673231037199, \"V16\": 0.376090905274179, \"V17\": -0.30040350116459497, \"V18\": 0.433799615590844, \"V19\": -0.145082264348681, \"V20\": -0.240427548108996, \"V21\": 0.0376030733329398, \"V22\": 0.38002620963091405, \"V23\": -0.16764742731151097, \"V24\": 0.0275573495476881, \"V25\": 0.59211469704354, \"V26\": 0.219695164116351, \"V27\": 0.0369695108704894, \"V28\": 0.010984441006191, \"Amount\": 0.0}]}'"
      ]
     },
     "execution_count": 313,
     "metadata": {},
     "output_type": "execute_result"
    }
   ],
   "source": [
    "tryob_json = json.dumps({\"instances\": [newobs[0]]})\n",
    "tryob_json"
   ]
  },
  {
   "cell_type": "markdown",
   "id": "b7266800-f78d-4e81-a63b-1f3891f0ca1d",
   "metadata": {},
   "source": [
    "Make prediction request:"
   ]
  },
  {
   "cell_type": "code",
   "execution_count": 314,
   "id": "4f0cc7b0-84c4-42ed-a189-edf0b640e691",
   "metadata": {},
   "outputs": [],
   "source": [
    "json_response = requests.post(f'http://localhost:8501/predict', data=tryob_json, headers={\"content-type\": \"application/json\"})"
   ]
  },
  {
   "cell_type": "code",
   "execution_count": 315,
   "id": "065d999a-80ca-4b39-a4ae-ea6c261b1fdf",
   "metadata": {},
   "outputs": [
    {
     "data": {
      "text/plain": [
       "<Response [200]>"
      ]
     },
     "execution_count": 315,
     "metadata": {},
     "output_type": "execute_result"
    }
   ],
   "source": [
    "json_response"
   ]
  },
  {
   "cell_type": "code",
   "execution_count": 316,
   "id": "c1ed75b7-7fe6-4aea-9c59-81367a76523c",
   "metadata": {},
   "outputs": [
    {
     "name": "stdout",
     "output_type": "stream",
     "text": [
      "{\"predictions\":[0.0018]}\n"
     ]
    }
   ],
   "source": [
    "print(json_response.text)"
   ]
  },
  {
   "cell_type": "code",
   "execution_count": 317,
   "id": "ff377499-4598-4b40-b462-1bee83be43da",
   "metadata": {},
   "outputs": [
    {
     "data": {
      "text/plain": [
       "[0.0018]"
      ]
     },
     "execution_count": 317,
     "metadata": {},
     "output_type": "execute_result"
    }
   ],
   "source": [
    "predictions = json.loads(json_response.text)['predictions']\n",
    "predictions"
   ]
  },
  {
   "cell_type": "code",
   "execution_count": 318,
   "id": "3281b081-b717-421e-9cfa-beb06f75c452",
   "metadata": {
    "tags": []
   },
   "outputs": [
    {
     "data": {
      "text/plain": [
       "0"
      ]
     },
     "execution_count": 318,
     "metadata": {},
     "output_type": "execute_result"
    }
   ],
   "source": [
    "np.argmax(predictions[0])"
   ]
  },
  {
   "cell_type": "markdown",
   "id": "79bfb8fd-54ea-43a5-896d-2a15b77a8b19",
   "metadata": {},
   "source": [
    "### Shutdown Serving Container\n",
    "There are two entities running: a subprocess called `p` and a docker container that was run by the subprocess.  It is not enough to just stop `p` but it might be enough to stop the container and then the subprocess will terminate due to completion.  The command below stop the subprocess `p` and then stop and remove the container."
   ]
  },
  {
   "cell_type": "code",
   "execution_count": 319,
   "id": "aad03bc4-7285-4110-94bd-3e1baf0e6ff1",
   "metadata": {},
   "outputs": [],
   "source": [
    "p.terminate()"
   ]
  },
  {
   "cell_type": "code",
   "execution_count": 320,
   "id": "329d9b95-fdbd-4a65-920f-4735bc034bbe",
   "metadata": {},
   "outputs": [
    {
     "data": {
      "text/plain": [
       "False"
      ]
     },
     "execution_count": 320,
     "metadata": {},
     "output_type": "execute_result"
    }
   ],
   "source": [
    "p.is_alive()"
   ]
  },
  {
   "cell_type": "code",
   "execution_count": 321,
   "id": "2aeb3c1c-2c98-4399-8f5d-d444bbb21f1c",
   "metadata": {},
   "outputs": [
    {
     "data": {
      "text/plain": [
       "['CONTAINER ID   IMAGE                                                                        COMMAND                  CREATED          STATUS          PORTS                    NAMES',\n",
       " 'fa577292c8a8   us-central1-docker.pkg.dev/statmike-mlops-349915/statmike-mlops-349915/08b   \"/entrypoint.sh Rscr…\"   30 seconds ago   Up 29 seconds   0.0.0.0:8501->8080/tcp   happy_bohr',\n",
       " '6e32d0fb9e8a   gcr.io/inverting-proxy/agent                                                 \"/bin/sh -c \\'/opt/bi…\"   9 days ago       Up 9 days                                proxy-agent']"
      ]
     },
     "execution_count": 321,
     "metadata": {},
     "output_type": "execute_result"
    }
   ],
   "source": [
    "docker = !docker ps -a\n",
    "docker"
   ]
  },
  {
   "cell_type": "code",
   "execution_count": 322,
   "id": "5e74dfb8-2417-4c53-92a7-817a9d7a72a1",
   "metadata": {},
   "outputs": [
    {
     "name": "stdout",
     "output_type": "stream",
     "text": [
      "happy_bohr\n",
      "happy_bohr\n",
      "Error: No such container: fa577292c8a8\n"
     ]
    }
   ],
   "source": [
    "for d in docker:\n",
    "    if model.container_spec.image_uri in d:\n",
    "        print(d.split()[-1])\n",
    "        !docker stop {d.split()[-1]}\n",
    "        !docker rm {d.split()[0]}"
   ]
  },
  {
   "cell_type": "code",
   "execution_count": 323,
   "id": "01c425d6-b4fe-4ea2-96f0-18c93a8bd0b5",
   "metadata": {
    "tags": []
   },
   "outputs": [
    {
     "name": "stdout",
     "output_type": "stream",
     "text": [
      "CONTAINER ID   IMAGE                          COMMAND                  CREATED      STATUS      PORTS     NAMES\n",
      "6e32d0fb9e8a   gcr.io/inverting-proxy/agent   \"/bin/sh -c '/opt/bi…\"   9 days ago   Up 9 days             proxy-agent\n"
     ]
    }
   ],
   "source": [
    "!docker ps -a"
   ]
  },
  {
   "cell_type": "code",
   "execution_count": null,
   "id": "405de9e1-c215-48a6-959a-5bdf61585b5d",
   "metadata": {},
   "outputs": [],
   "source": []
  }
 ],
 "metadata": {
  "environment": {
   "kernel": "python3",
   "name": "tf2-gpu.2-3.m94",
   "type": "gcloud",
   "uri": "gcr.io/deeplearning-platform-release/tf2-gpu.2-3:m94"
  },
  "kernelspec": {
   "display_name": "Python 3",
   "language": "python",
   "name": "python3"
  },
  "language_info": {
   "codemirror_mode": {
    "name": "ipython",
    "version": 3
   },
   "file_extension": ".py",
   "mimetype": "text/x-python",
   "name": "python",
   "nbconvert_exporter": "python",
   "pygments_lexer": "ipython3",
   "version": "3.7.12"
  }
 },
 "nbformat": 4,
 "nbformat_minor": 5
}
