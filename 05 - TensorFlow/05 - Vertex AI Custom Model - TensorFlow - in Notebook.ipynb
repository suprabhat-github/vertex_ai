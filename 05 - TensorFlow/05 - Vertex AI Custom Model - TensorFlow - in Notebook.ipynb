{
 "cells": [
  {
   "cell_type": "markdown",
   "id": "4d83c542",
   "metadata": {},
   "source": [
    "![ga4](https://www.google-analytics.com/collect?v=2&tid=G-6VDTYWLKX6&cid=1&en=page_view&sid=1&dl=statmike%2Fvertex-ai-mlops%2F05+-+TensorFlow&dt=05+-+Vertex+AI+Custom+Model+-+TensorFlow+-+in+Notebook.ipynb)\n",
    "<!--- header table --->\n",
    "<table align=\"left\">\n",
    "  <td style=\"text-align: center\">\n",
    "    <a href=\"https://colab.research.google.com/github/statmike/vertex-ai-mlops/blob/main/05%20-%20TensorFlow/05%20-%20Vertex%20AI%20Custom%20Model%20-%20TensorFlow%20-%20in%20Notebook.ipynb\">\n",
    "      <img src=\"https://cloud.google.com/ml-engine/images/colab-logo-32px.png\" alt=\"Google Colaboratory logo\">\n",
    "      <br>Run in<br>Colab\n",
    "    </a>\n",
    "  </td>\n",
    "  <td style=\"text-align: center\">\n",
    "    <a href=\"https://console.cloud.google.com/vertex-ai/colab/import/https%3A//raw.githubusercontent.com/statmike/vertex-ai-mlops/main/05%20-%20TensorFlow/05%20-%20Vertex%20AI%20Custom%20Model%20-%20TensorFlow%20-%20in%20Notebook.ipynb\">\n",
    "      <img width=\"32px\" src=\"https://lh3.googleusercontent.com/JmcxdQi-qOpctIvWKgPtrzZdJJK-J3sWE1RsfjZNwshCFgE_9fULcNpuXYTilIR2hjwN\" alt=\"Google Cloud Colab Enterprise logo\">\n",
    "      <br>Run in<br>Colab Enterprise\n",
    "    </a>\n",
    "  </td>      \n",
    "  <td style=\"text-align: center\">\n",
    "    <a href=\"https://github.com/statmike/vertex-ai-mlops/blob/main/05%20-%20TensorFlow/05%20-%20Vertex%20AI%20Custom%20Model%20-%20TensorFlow%20-%20in%20Notebook.ipynb\">\n",
    "      <img src=\"https://cloud.google.com/ml-engine/images/github-logo-32px.png\" alt=\"GitHub logo\">\n",
    "      <br>View on<br>GitHub\n",
    "    </a>\n",
    "  </td>\n",
    "  <td style=\"text-align: center\">\n",
    "    <a href=\"https://console.cloud.google.com/vertex-ai/workbench/deploy-notebook?download_url=https%3A//raw.githubusercontent.com/statmike/vertex-ai-mlops/main/05%20-%20TensorFlow/05%20-%20Vertex%20AI%20Custom%20Model%20-%20TensorFlow%20-%20in%20Notebook.ipynb\">\n",
    "      <img src=\"https://lh3.googleusercontent.com/UiNooY4LUgW_oTvpsNhPpQzsstV5W8F7rYgxgGBD85cWJoLmrOzhVs_ksK_vgx40SHs7jCqkTkCk=e14-rj-sc0xffffff-h130-w32\" alt=\"Vertex AI logo\">\n",
    "      <br>Open in<br>Vertex AI Workbench\n",
    "    </a>\n",
    "  </td>\n",
    "</table>"
   ]
  },
  {
   "cell_type": "markdown",
   "id": "46a2f98c",
   "metadata": {
    "tags": []
   },
   "source": [
    "# 05 - Vertex AI > Notebooks - Models Built in Notebooks with Tensorflow\n",
    "\n",
    ">**NOTE:** The notebooks in the `05 - TensorFlow` series demonstrate training, serving and operations for TensorFlow models and take advantage of [Vertex AI TensorBoard](https://cloud.google.com/vertex-ai/docs/experiments/tensorboard-overview) to track training across experiments.  Running these notebooks will create a Vertex AI TensorBoard instance which previously (before August 2023) had a subscription cost but is now priced based on storage of which this notebook will create minimal size (<2MB). - [Vertex AI Pricing](https://cloud.google.com/vertex-ai/pricing#tensorboard).\n",
    "\n",
    "---\n",
    "---\n",
    "**Changes In Progress**\n",
    "\n",
    "Every attempt is being made to ensure the public version of this notebook runs without error while the follow enhancements are being made:\n",
    "- ~~The workflow of the notebook is being adapted to a Kubeflow Pipeline running on Vertex AI Pipelines~~\n",
    "- Including Evaluation data within Vertex AI Model Registry\n",
    "- Update the Vertex AI Experiments integration which has been great simplified within the API over the past few months\n",
    "- add client library reference links to each section\n",
    "\n",
    "Order: notebook 05 and 05a will be updated first.  Then 05b-05i will follow quickly.\n",
    "\n",
    "This note will be removed once these changes are complete.\n",
    "\n",
    "---\n",
    "---\n",
    "\n",
    "Where a model gets trained is where it consumes computing resources.  With Vertex AI, you have choices for configuring the computing resources available at training.  This notebook is an example of an execution environment.  When it was set up there were choices for machine type and accelerators (GPUs).  \n",
    "\n",
    "This notebook shows training a model directly within the runtime of the notebook environment.  Then the model is saved and moved to GCS for deployment to a Vertex AI > Endpoint for online predictions.  The model training is done with [Tensorflow](https://www.tensorflow.org/), specifically [Keras](https://keras.io/), and was designed to show a neural network approach to logistic regression.  The training data batches are read from BigQuery using [Tensorflow I/O](https://www.tensorflow.org/io).\n",
    "\n",
    "The other notebooks in this series (`05a-05i`) show how to move the training into a managed compute environment using Vertex AI > Training.  The first step to being able to use a training job is converting the code in this notebook into a training script.  This processs is covered in:\n",
    "- [05 - Vertex AI Custom Model - TensorFlow - Notebook to Script.ipynb](./05%20-%20Vertex%20AI%20Custom%20Model%20-%20TensorFlow%20-%20Notebook%20to%20Script.ipynb)\n",
    "- [05 - Vertex AI Custom Model - TensorFlow - Notebook to Hyperparameter Tuning Script.ipynb](./05%20-%20Vertex%20AI%20Custom%20Model%20-%20TensorFlow%20-%20Notebook%20to%20Hyperparameter%20Tuning%20Script.ipynb)\n",
    "\n",
    "|Workbench Notebook Job|Workflow With Workbench Notebook|\n",
    "|:---:|:---:|\n",
    "|![](../architectures/architectures/images/custom%20training/nb_job.png)|![](../architectures/architectures/images/custom%20training/nb_workflow.png)|\n",
    "\n",
    "**Video Walkthrough of this notebook:**\n",
    "\n",
    "Includes conversational walkthrough and more explanatory information than the notebook:\n",
    "\n",
    "<p align=\"center\" width=\"100%\"><center><a href=\"https://youtu.be/-5E3hWfsB4I\" target=\"_blank\" rel=\"noopener noreferrer\"><img src=\"../architectures/thumbnails/playbutton/05.png\" width=\"40%\"></a></center></p>\n",
    "\n",
    "**Prerequisites:**\n",
    "- [01 - BigQuery - Table Data Source](../01%20-%20Data%20Sources/01%20-%20BigQuery%20-%20Table%20Data%20Source.ipynb)\n",
    "\n",
    "**Resources:**\n",
    "-  [BigQuery Tensorflow Reader](https://www.tensorflow.org/io/tutorials/bigquery)\n",
    "-  [Keras Sequential](https://www.tensorflow.org/api_docs/python/tf/keras/Sequential)\n",
    "   -  [Keras API](https://www.tensorflow.org/api_docs/python/tf/keras)\n",
    "-  [Python Client For Google BigQuery](https://googleapis.dev/python/bigquery/latest/index.html)\n",
    "-  [Tensorflow Python Client](https://www.tensorflow.org/api_docs/python/tf)\n",
    "-  [Tensorflow I/O Python Client](https://www.tensorflow.org/io/api_docs/python/tfio/bigquery)\n",
    "-  [Python Client for Vertex AI](https://googleapis.dev/python/aiplatform/latest/aiplatform.html)\n",
    "- Pre-built Containers for Vertex AI\n",
    "    - [Training](https://cloud.google.com/vertex-ai/docs/training/pre-built-containers)\n",
    "    - [Prediction & Explaination](https://cloud.google.com/vertex-ai/docs/predictions/pre-built-containers)\n",
    "\n",
    "<!--\n",
    "**Conceptual Flow & Workflow**\n",
    "<p align=\"center\">\n",
    "  <img alt=\"Conceptual Flow\" src=\"../architectures/slides/05_arch.png\" width=\"45%\">\n",
    "&nbsp; &nbsp; &nbsp; &nbsp;\n",
    "  <img alt=\"Workflow\" src=\"../architectures/slides/05_console.png\" width=\"45%\">\n",
    "</p>\n",
    "-->"
   ]
  },
  {
   "cell_type": "markdown",
   "id": "422f3a1c-7fb3-4074-a62f-8e5d7b64eaf4",
   "metadata": {},
   "source": [
    "---\n",
    "## Colab Setup\n",
    "\n",
    "To run this notebook in Colab click [![Open In Colab](https://colab.research.google.com/assets/colab-badge.svg)](https://colab.research.google.com/github/statmike/vertex-ai-mlops/blob/main/05%20-%20TensorFlow/05%20-%20Vertex%20AI%20Custom%20Model%20-%20TensorFlow%20-%20in%20Notebook.ipynb) and run the cells in this section.  Otherwise, skip this section.\n",
    "\n",
    "This cell will authenticate to GCP (follow prompts in the popup)."
   ]
  },
  {
   "cell_type": "code",
   "execution_count": 1,
   "id": "48e5f635-a376-47ae-90e0-6cfd702260c6",
   "metadata": {
    "tags": []
   },
   "outputs": [],
   "source": [
    "PROJECT_ID = 'statmike-mlops-349915' # replace with project ID"
   ]
  },
  {
   "cell_type": "code",
   "execution_count": 2,
   "id": "77f641a0-6361-40e5-8a82-c97065a82b00",
   "metadata": {
    "tags": []
   },
   "outputs": [],
   "source": [
    "try:\n",
    "    import google.colab\n",
    "    from google.colab import auth\n",
    "    auth.authenticate_user()\n",
    "    !gcloud config set project {PROJECT_ID}\n",
    "except Exception:\n",
    "    pass"
   ]
  },
  {
   "cell_type": "markdown",
   "id": "fe92d759-1ff0-483e-8c3b-d9d0dd2927d8",
   "metadata": {},
   "source": [
    "---\n",
    "## Installs\n",
    "\n",
    "The list `packages` contains tuples of package import names and install names.  If the import name is not found then the install name is used to install quitely for the current user."
   ]
  },
  {
   "cell_type": "code",
   "execution_count": 3,
   "id": "b80c6cf8-bec2-4931-9263-5194ec037481",
   "metadata": {
    "tags": []
   },
   "outputs": [],
   "source": [
    "# tuples of (import name, install name)\n",
    "packages = [\n",
    "    ('google.cloud.aiplatform', 'google-cloud-aiplatform'),\n",
    "    ('kfp', 'kfp'),\n",
    "    ('google_cloud_pipeline_components', 'google-cloud-pipeline-components'),\n",
    "    ('tensorflow', 'tensorflow', '2.10'),\n",
    "    ('tensorflow_io', '--no-deps tensorflow-io'),\n",
    "    ('graphviz', 'graphviz'),\n",
    "    ('pydot', 'pydot')\n",
    "]\n",
    "\n",
    "import importlib\n",
    "install = False\n",
    "for package in packages:\n",
    "    if not importlib.util.find_spec(package[0]):\n",
    "        print(f'installing package {package[1]}')\n",
    "        install = True\n",
    "        !pip install {package[1]} -U -q --user\n",
    "    elif len(package) == 3:\n",
    "        if importlib.metadata.version(package[0]) < package[2]:\n",
    "            print(f'updating package {package[1]}')\n",
    "            install = True\n",
    "            !pip install {package[1]} -U -q --user"
   ]
  },
  {
   "cell_type": "code",
   "execution_count": 4,
   "id": "cf2a7aa4-e0e0-4b82-85e5-3b43641dd762",
   "metadata": {
    "tags": []
   },
   "outputs": [],
   "source": [
    "#!sudo apt-get -qq install graphviz"
   ]
  },
  {
   "cell_type": "markdown",
   "id": "43761ceb-2c4c-496b-9dd6-b987438971ab",
   "metadata": {},
   "source": [
    "### Restart Kernel (If Installs Occured)\n",
    "\n",
    "After a kernel restart the code submission can start with the next cell after this one."
   ]
  },
  {
   "cell_type": "code",
   "execution_count": 5,
   "id": "9f838471-22cd-4d35-888e-c3e540044168",
   "metadata": {
    "tags": []
   },
   "outputs": [],
   "source": [
    "if install:\n",
    "    import IPython\n",
    "    app = IPython.Application.instance()\n",
    "    app.kernel.do_shutdown(True)"
   ]
  },
  {
   "cell_type": "markdown",
   "id": "c8bcf1b2",
   "metadata": {},
   "source": [
    "---\n",
    "## Setup"
   ]
  },
  {
   "cell_type": "markdown",
   "id": "10e366e2",
   "metadata": {},
   "source": [
    "inputs:"
   ]
  },
  {
   "cell_type": "code",
   "execution_count": 6,
   "id": "918de403-af6d-44ff-9f05-a963b392ba7f",
   "metadata": {
    "tags": []
   },
   "outputs": [
    {
     "data": {
      "text/plain": [
       "'statmike-mlops-349915'"
      ]
     },
     "execution_count": 6,
     "metadata": {},
     "output_type": "execute_result"
    }
   ],
   "source": [
    "project = !gcloud config get-value project\n",
    "PROJECT_ID = project[0]\n",
    "PROJECT_ID"
   ]
  },
  {
   "cell_type": "code",
   "execution_count": 7,
   "id": "614de332",
   "metadata": {
    "tags": []
   },
   "outputs": [],
   "source": [
    "REGION = 'us-central1'\n",
    "EXPERIMENT = '05'\n",
    "SERIES = '05'\n",
    "\n",
    "# source data\n",
    "BQ_PROJECT = PROJECT_ID\n",
    "BQ_DATASET = 'fraud'\n",
    "BQ_TABLE = 'fraud_prepped'\n",
    "\n",
    "# specify a GCS Bucket\n",
    "GCS_BUCKET = PROJECT_ID\n",
    "\n",
    "# Model Training\n",
    "VAR_TARGET = 'Class'\n",
    "VAR_OMIT = 'transaction_id,splits' # add more variables to the string with comma delimiters\n",
    "EPOCHS = 4\n",
    "BATCH_SIZE = 100"
   ]
  },
  {
   "cell_type": "markdown",
   "id": "a92f2936",
   "metadata": {},
   "source": [
    "packages:"
   ]
  },
  {
   "cell_type": "code",
   "execution_count": 8,
   "id": "986e7804",
   "metadata": {
    "tags": []
   },
   "outputs": [],
   "source": [
    "import os\n",
    "os.environ['TF_CPP_MIN_LOG_LEVEL'] = '3'\n",
    "\n",
    "from google.cloud import bigquery\n",
    "\n",
    "from tensorflow.python.framework import dtypes\n",
    "from tensorflow_io.bigquery import BigQueryClient\n",
    "import tensorflow as tf\n",
    "\n",
    "from google.cloud import aiplatform\n",
    "from datetime import datetime\n",
    "\n",
    "\n",
    "from google.protobuf import json_format\n",
    "from google.protobuf.struct_pb2 import Value\n",
    "import json\n",
    "import numpy as np\n",
    "import pandas as pd\n",
    "from sklearn import metrics as metrics"
   ]
  },
  {
   "cell_type": "code",
   "execution_count": 9,
   "id": "0af8b0ae-49bc-47a4-b0c9-95d4b8d4eb45",
   "metadata": {
    "tags": []
   },
   "outputs": [
    {
     "data": {
      "text/plain": [
       "'1.38.1'"
      ]
     },
     "execution_count": 9,
     "metadata": {},
     "output_type": "execute_result"
    }
   ],
   "source": [
    "aiplatform.__version__"
   ]
  },
  {
   "cell_type": "markdown",
   "id": "139d3707",
   "metadata": {},
   "source": [
    "clients:"
   ]
  },
  {
   "cell_type": "code",
   "execution_count": 10,
   "id": "fdbc3411",
   "metadata": {
    "tags": []
   },
   "outputs": [],
   "source": [
    "aiplatform.init(project = PROJECT_ID, location = REGION)\n",
    "bq = bigquery.Client(project = PROJECT_ID)"
   ]
  },
  {
   "cell_type": "markdown",
   "id": "6f4052df",
   "metadata": {},
   "source": [
    "parameters:"
   ]
  },
  {
   "cell_type": "code",
   "execution_count": 11,
   "id": "ddd94e3a",
   "metadata": {
    "tags": []
   },
   "outputs": [],
   "source": [
    "TIMESTAMP = datetime.now().strftime(\"%Y%m%d%H%M%S\")\n",
    "URI = f\"gs://{GCS_BUCKET}/{SERIES}/{EXPERIMENT}\"\n",
    "DIR = f\"temp/{EXPERIMENT}\""
   ]
  },
  {
   "cell_type": "markdown",
   "id": "de43acbc",
   "metadata": {},
   "source": [
    "environment:"
   ]
  },
  {
   "cell_type": "code",
   "execution_count": 12,
   "id": "a92f3b28",
   "metadata": {
    "tags": []
   },
   "outputs": [],
   "source": [
    "if not os.path.exists(DIR):\n",
    "    os.makedirs(DIR)"
   ]
  },
  {
   "cell_type": "markdown",
   "id": "4ba31b6b-ff8a-4786-b360-cd936dbf615d",
   "metadata": {},
   "source": [
    "Experiment Tracking:"
   ]
  },
  {
   "cell_type": "code",
   "execution_count": 13,
   "id": "e3f1b204-0579-40f4-9a1f-b7b9c94b7d1f",
   "metadata": {
    "tags": []
   },
   "outputs": [],
   "source": [
    "FRAMEWORK = 'tf'\n",
    "TASK = 'classification'\n",
    "MODEL_TYPE = 'dnn'\n",
    "EXPERIMENT_NAME = f'experiment-{SERIES}-{EXPERIMENT}-{FRAMEWORK}-{TASK}-{MODEL_TYPE}'\n",
    "RUN_NAME = f'run-{TIMESTAMP}'"
   ]
  },
  {
   "cell_type": "markdown",
   "id": "b5f08321-ae93-4d77-be62-7d037546a9b6",
   "metadata": {
    "tags": []
   },
   "source": [
    "---\n",
    "## Get Vertex AI Experiments Tensorboard Instance Name\n",
    "[Vertex AI Experiments](https://cloud.google.com/vertex-ai/docs/experiments/tensorboard-overview) has managed [Tensorboard](https://www.tensorflow.org/tensorboard) instances that you can track Tensorboard Experiments (a training run or hyperparameter tuning sweep).  \n",
    "\n",
    "The training job will show up as an experiment for the Tensorboard instance and have the same name as the training job ID.\n",
    "\n",
    "This code checks to see if a Tensorboard Instance has been created in the project, retrieves it if so, creates it otherwise:"
   ]
  },
  {
   "cell_type": "code",
   "execution_count": 14,
   "id": "0c0cfc16",
   "metadata": {
    "tags": []
   },
   "outputs": [],
   "source": [
    "tb = aiplatform.Tensorboard.list(filter=f\"labels.series={SERIES}\")\n",
    "if tb:\n",
    "    tb = tb[0]\n",
    "else: \n",
    "    tb = aiplatform.Tensorboard.create(display_name = SERIES, labels = {'series' : f'{SERIES}'})"
   ]
  },
  {
   "cell_type": "code",
   "execution_count": 15,
   "id": "e7bdbeab-553f-4715-980e-da14bd9c264a",
   "metadata": {
    "tags": []
   },
   "outputs": [
    {
     "data": {
      "text/plain": [
       "'projects/1026793852137/locations/us-central1/tensorboards/7876136041294331904'"
      ]
     },
     "execution_count": 15,
     "metadata": {},
     "output_type": "execute_result"
    }
   ],
   "source": [
    "tb.resource_name"
   ]
  },
  {
   "cell_type": "markdown",
   "id": "508436e8-3869-41d4-8163-6931e74746e5",
   "metadata": {},
   "source": [
    "---\n",
    "## Setup Vertex AI Experiments\n",
    "\n",
    "The code in this section initializes the experiment and starts a run that represents this notebook.  Throughout the notebook sections for model training and evaluation information will be logged to the experiment using:\n",
    "- [.log_params](https://cloud.google.com/python/docs/reference/aiplatform/latest/google.cloud.aiplatform#google_cloud_aiplatform_log_params)\n",
    "- [.log_metrics](https://cloud.google.com/python/docs/reference/aiplatform/latest/google.cloud.aiplatform#google_cloud_aiplatform_log_metrics)\n",
    "- [.log_time_series_metrics](https://cloud.google.com/python/docs/reference/aiplatform/latest/google.cloud.aiplatform#google_cloud_aiplatform_log_time_series_metrics)"
   ]
  },
  {
   "cell_type": "markdown",
   "id": "8af8c686-2f32-449a-8b50-e54d227f5618",
   "metadata": {},
   "source": [
    "Initialize the Experiment:"
   ]
  },
  {
   "cell_type": "code",
   "execution_count": 16,
   "id": "77250775-ba29-45dc-8fbc-bd3bac659bea",
   "metadata": {
    "tags": []
   },
   "outputs": [],
   "source": [
    "aiplatform.init(experiment = EXPERIMENT_NAME, experiment_tensorboard = tb.resource_name)"
   ]
  },
  {
   "cell_type": "markdown",
   "id": "0e933951-dc2f-4dc6-9560-e3ec1f73b5b9",
   "metadata": {},
   "source": [
    "Create an experiment run:"
   ]
  },
  {
   "cell_type": "code",
   "execution_count": 17,
   "id": "c2af6981-3dd1-40c2-aac8-96f65e1962ea",
   "metadata": {
    "tags": []
   },
   "outputs": [
    {
     "name": "stdout",
     "output_type": "stream",
     "text": [
      "Associating projects/1026793852137/locations/us-central1/metadataStores/default/contexts/experiment-05-05-tf-classification-dnn-run-20231221123117 to Experiment: experiment-05-05-tf-classification-dnn\n",
      "Starting a new run.\n"
     ]
    }
   ],
   "source": [
    "if RUN_NAME in [run.name for run in aiplatform.ExperimentRun.list(experiment = EXPERIMENT_NAME)]:\n",
    "    expRun = aiplatform.ExperimentRun(run_name = RUN_NAME, experiment = EXPERIMENT_NAME)\n",
    "    print('This run already exist with, using previous.')\n",
    "else:\n",
    "    expRun = aiplatform.ExperimentRun.create(run_name = RUN_NAME, experiment = EXPERIMENT_NAME)\n",
    "    print('Starting a new run.')"
   ]
  },
  {
   "cell_type": "markdown",
   "id": "1ad1abf6-aa21-4644-928d-6e44efe59719",
   "metadata": {},
   "source": [
    "Log parameters to the experiment run:"
   ]
  },
  {
   "cell_type": "code",
   "execution_count": 18,
   "id": "89c0e7d4-921a-4f7f-8e91-ac703897b9d2",
   "metadata": {
    "tags": []
   },
   "outputs": [],
   "source": [
    "expRun.log_params({'experiment': EXPERIMENT, 'series': SERIES, 'project_id': PROJECT_ID})"
   ]
  },
  {
   "cell_type": "markdown",
   "id": "eaf48dc3-cdbd-4e34-be4d-33c7563dbd33",
   "metadata": {},
   "source": [
    "---\n",
    "## Training Data\n",
    "In this exercise the data source is a table in Google BigQuery.  While it is possible to bring the entire table into the local notebook as a Pandas dataframe, it is not a scalable solution for very large training tables.  In this section the connection to BigQuery is done using Tensorflow I/O to read batches of training data in parallel during model training."
   ]
  },
  {
   "cell_type": "markdown",
   "id": "5f93fde9",
   "metadata": {},
   "source": [
    "### Data Schema\n",
    "Using BigQueries Information_Schema is an easy way to quickly retrieve the column information about our training data.  In this case we need the column names and data types to setup the data reading and the model inputs.  This section retrieves the column information for the training table source."
   ]
  },
  {
   "cell_type": "code",
   "execution_count": 19,
   "id": "6edde19f",
   "metadata": {
    "tags": []
   },
   "outputs": [
    {
     "data": {
      "text/html": [
       "<div>\n",
       "<style scoped>\n",
       "    .dataframe tbody tr th:only-of-type {\n",
       "        vertical-align: middle;\n",
       "    }\n",
       "\n",
       "    .dataframe tbody tr th {\n",
       "        vertical-align: top;\n",
       "    }\n",
       "\n",
       "    .dataframe thead th {\n",
       "        text-align: right;\n",
       "    }\n",
       "</style>\n",
       "<table border=\"1\" class=\"dataframe\">\n",
       "  <thead>\n",
       "    <tr style=\"text-align: right;\">\n",
       "      <th></th>\n",
       "      <th>table_catalog</th>\n",
       "      <th>table_schema</th>\n",
       "      <th>table_name</th>\n",
       "      <th>column_name</th>\n",
       "      <th>ordinal_position</th>\n",
       "      <th>is_nullable</th>\n",
       "      <th>data_type</th>\n",
       "      <th>is_generated</th>\n",
       "      <th>generation_expression</th>\n",
       "      <th>is_stored</th>\n",
       "      <th>is_hidden</th>\n",
       "      <th>is_updatable</th>\n",
       "      <th>is_system_defined</th>\n",
       "      <th>is_partitioning_column</th>\n",
       "      <th>clustering_ordinal_position</th>\n",
       "      <th>collation_name</th>\n",
       "      <th>column_default</th>\n",
       "      <th>rounding_mode</th>\n",
       "    </tr>\n",
       "  </thead>\n",
       "  <tbody>\n",
       "    <tr>\n",
       "      <th>0</th>\n",
       "      <td>statmike-mlops-349915</td>\n",
       "      <td>fraud</td>\n",
       "      <td>fraud_prepped</td>\n",
       "      <td>Time</td>\n",
       "      <td>1</td>\n",
       "      <td>YES</td>\n",
       "      <td>INT64</td>\n",
       "      <td>NEVER</td>\n",
       "      <td>None</td>\n",
       "      <td>None</td>\n",
       "      <td>NO</td>\n",
       "      <td>None</td>\n",
       "      <td>NO</td>\n",
       "      <td>NO</td>\n",
       "      <td>&lt;NA&gt;</td>\n",
       "      <td>NULL</td>\n",
       "      <td>NULL</td>\n",
       "      <td>None</td>\n",
       "    </tr>\n",
       "    <tr>\n",
       "      <th>1</th>\n",
       "      <td>statmike-mlops-349915</td>\n",
       "      <td>fraud</td>\n",
       "      <td>fraud_prepped</td>\n",
       "      <td>V1</td>\n",
       "      <td>2</td>\n",
       "      <td>YES</td>\n",
       "      <td>FLOAT64</td>\n",
       "      <td>NEVER</td>\n",
       "      <td>None</td>\n",
       "      <td>None</td>\n",
       "      <td>NO</td>\n",
       "      <td>None</td>\n",
       "      <td>NO</td>\n",
       "      <td>NO</td>\n",
       "      <td>&lt;NA&gt;</td>\n",
       "      <td>NULL</td>\n",
       "      <td>NULL</td>\n",
       "      <td>None</td>\n",
       "    </tr>\n",
       "    <tr>\n",
       "      <th>2</th>\n",
       "      <td>statmike-mlops-349915</td>\n",
       "      <td>fraud</td>\n",
       "      <td>fraud_prepped</td>\n",
       "      <td>V2</td>\n",
       "      <td>3</td>\n",
       "      <td>YES</td>\n",
       "      <td>FLOAT64</td>\n",
       "      <td>NEVER</td>\n",
       "      <td>None</td>\n",
       "      <td>None</td>\n",
       "      <td>NO</td>\n",
       "      <td>None</td>\n",
       "      <td>NO</td>\n",
       "      <td>NO</td>\n",
       "      <td>&lt;NA&gt;</td>\n",
       "      <td>NULL</td>\n",
       "      <td>NULL</td>\n",
       "      <td>None</td>\n",
       "    </tr>\n",
       "    <tr>\n",
       "      <th>3</th>\n",
       "      <td>statmike-mlops-349915</td>\n",
       "      <td>fraud</td>\n",
       "      <td>fraud_prepped</td>\n",
       "      <td>V3</td>\n",
       "      <td>4</td>\n",
       "      <td>YES</td>\n",
       "      <td>FLOAT64</td>\n",
       "      <td>NEVER</td>\n",
       "      <td>None</td>\n",
       "      <td>None</td>\n",
       "      <td>NO</td>\n",
       "      <td>None</td>\n",
       "      <td>NO</td>\n",
       "      <td>NO</td>\n",
       "      <td>&lt;NA&gt;</td>\n",
       "      <td>NULL</td>\n",
       "      <td>NULL</td>\n",
       "      <td>None</td>\n",
       "    </tr>\n",
       "    <tr>\n",
       "      <th>4</th>\n",
       "      <td>statmike-mlops-349915</td>\n",
       "      <td>fraud</td>\n",
       "      <td>fraud_prepped</td>\n",
       "      <td>V4</td>\n",
       "      <td>5</td>\n",
       "      <td>YES</td>\n",
       "      <td>FLOAT64</td>\n",
       "      <td>NEVER</td>\n",
       "      <td>None</td>\n",
       "      <td>None</td>\n",
       "      <td>NO</td>\n",
       "      <td>None</td>\n",
       "      <td>NO</td>\n",
       "      <td>NO</td>\n",
       "      <td>&lt;NA&gt;</td>\n",
       "      <td>NULL</td>\n",
       "      <td>NULL</td>\n",
       "      <td>None</td>\n",
       "    </tr>\n",
       "    <tr>\n",
       "      <th>5</th>\n",
       "      <td>statmike-mlops-349915</td>\n",
       "      <td>fraud</td>\n",
       "      <td>fraud_prepped</td>\n",
       "      <td>V5</td>\n",
       "      <td>6</td>\n",
       "      <td>YES</td>\n",
       "      <td>FLOAT64</td>\n",
       "      <td>NEVER</td>\n",
       "      <td>None</td>\n",
       "      <td>None</td>\n",
       "      <td>NO</td>\n",
       "      <td>None</td>\n",
       "      <td>NO</td>\n",
       "      <td>NO</td>\n",
       "      <td>&lt;NA&gt;</td>\n",
       "      <td>NULL</td>\n",
       "      <td>NULL</td>\n",
       "      <td>None</td>\n",
       "    </tr>\n",
       "    <tr>\n",
       "      <th>6</th>\n",
       "      <td>statmike-mlops-349915</td>\n",
       "      <td>fraud</td>\n",
       "      <td>fraud_prepped</td>\n",
       "      <td>V6</td>\n",
       "      <td>7</td>\n",
       "      <td>YES</td>\n",
       "      <td>FLOAT64</td>\n",
       "      <td>NEVER</td>\n",
       "      <td>None</td>\n",
       "      <td>None</td>\n",
       "      <td>NO</td>\n",
       "      <td>None</td>\n",
       "      <td>NO</td>\n",
       "      <td>NO</td>\n",
       "      <td>&lt;NA&gt;</td>\n",
       "      <td>NULL</td>\n",
       "      <td>NULL</td>\n",
       "      <td>None</td>\n",
       "    </tr>\n",
       "    <tr>\n",
       "      <th>7</th>\n",
       "      <td>statmike-mlops-349915</td>\n",
       "      <td>fraud</td>\n",
       "      <td>fraud_prepped</td>\n",
       "      <td>V7</td>\n",
       "      <td>8</td>\n",
       "      <td>YES</td>\n",
       "      <td>FLOAT64</td>\n",
       "      <td>NEVER</td>\n",
       "      <td>None</td>\n",
       "      <td>None</td>\n",
       "      <td>NO</td>\n",
       "      <td>None</td>\n",
       "      <td>NO</td>\n",
       "      <td>NO</td>\n",
       "      <td>&lt;NA&gt;</td>\n",
       "      <td>NULL</td>\n",
       "      <td>NULL</td>\n",
       "      <td>None</td>\n",
       "    </tr>\n",
       "    <tr>\n",
       "      <th>8</th>\n",
       "      <td>statmike-mlops-349915</td>\n",
       "      <td>fraud</td>\n",
       "      <td>fraud_prepped</td>\n",
       "      <td>V8</td>\n",
       "      <td>9</td>\n",
       "      <td>YES</td>\n",
       "      <td>FLOAT64</td>\n",
       "      <td>NEVER</td>\n",
       "      <td>None</td>\n",
       "      <td>None</td>\n",
       "      <td>NO</td>\n",
       "      <td>None</td>\n",
       "      <td>NO</td>\n",
       "      <td>NO</td>\n",
       "      <td>&lt;NA&gt;</td>\n",
       "      <td>NULL</td>\n",
       "      <td>NULL</td>\n",
       "      <td>None</td>\n",
       "    </tr>\n",
       "    <tr>\n",
       "      <th>9</th>\n",
       "      <td>statmike-mlops-349915</td>\n",
       "      <td>fraud</td>\n",
       "      <td>fraud_prepped</td>\n",
       "      <td>V9</td>\n",
       "      <td>10</td>\n",
       "      <td>YES</td>\n",
       "      <td>FLOAT64</td>\n",
       "      <td>NEVER</td>\n",
       "      <td>None</td>\n",
       "      <td>None</td>\n",
       "      <td>NO</td>\n",
       "      <td>None</td>\n",
       "      <td>NO</td>\n",
       "      <td>NO</td>\n",
       "      <td>&lt;NA&gt;</td>\n",
       "      <td>NULL</td>\n",
       "      <td>NULL</td>\n",
       "      <td>None</td>\n",
       "    </tr>\n",
       "    <tr>\n",
       "      <th>10</th>\n",
       "      <td>statmike-mlops-349915</td>\n",
       "      <td>fraud</td>\n",
       "      <td>fraud_prepped</td>\n",
       "      <td>V10</td>\n",
       "      <td>11</td>\n",
       "      <td>YES</td>\n",
       "      <td>FLOAT64</td>\n",
       "      <td>NEVER</td>\n",
       "      <td>None</td>\n",
       "      <td>None</td>\n",
       "      <td>NO</td>\n",
       "      <td>None</td>\n",
       "      <td>NO</td>\n",
       "      <td>NO</td>\n",
       "      <td>&lt;NA&gt;</td>\n",
       "      <td>NULL</td>\n",
       "      <td>NULL</td>\n",
       "      <td>None</td>\n",
       "    </tr>\n",
       "    <tr>\n",
       "      <th>11</th>\n",
       "      <td>statmike-mlops-349915</td>\n",
       "      <td>fraud</td>\n",
       "      <td>fraud_prepped</td>\n",
       "      <td>V11</td>\n",
       "      <td>12</td>\n",
       "      <td>YES</td>\n",
       "      <td>FLOAT64</td>\n",
       "      <td>NEVER</td>\n",
       "      <td>None</td>\n",
       "      <td>None</td>\n",
       "      <td>NO</td>\n",
       "      <td>None</td>\n",
       "      <td>NO</td>\n",
       "      <td>NO</td>\n",
       "      <td>&lt;NA&gt;</td>\n",
       "      <td>NULL</td>\n",
       "      <td>NULL</td>\n",
       "      <td>None</td>\n",
       "    </tr>\n",
       "    <tr>\n",
       "      <th>12</th>\n",
       "      <td>statmike-mlops-349915</td>\n",
       "      <td>fraud</td>\n",
       "      <td>fraud_prepped</td>\n",
       "      <td>V12</td>\n",
       "      <td>13</td>\n",
       "      <td>YES</td>\n",
       "      <td>FLOAT64</td>\n",
       "      <td>NEVER</td>\n",
       "      <td>None</td>\n",
       "      <td>None</td>\n",
       "      <td>NO</td>\n",
       "      <td>None</td>\n",
       "      <td>NO</td>\n",
       "      <td>NO</td>\n",
       "      <td>&lt;NA&gt;</td>\n",
       "      <td>NULL</td>\n",
       "      <td>NULL</td>\n",
       "      <td>None</td>\n",
       "    </tr>\n",
       "    <tr>\n",
       "      <th>13</th>\n",
       "      <td>statmike-mlops-349915</td>\n",
       "      <td>fraud</td>\n",
       "      <td>fraud_prepped</td>\n",
       "      <td>V13</td>\n",
       "      <td>14</td>\n",
       "      <td>YES</td>\n",
       "      <td>FLOAT64</td>\n",
       "      <td>NEVER</td>\n",
       "      <td>None</td>\n",
       "      <td>None</td>\n",
       "      <td>NO</td>\n",
       "      <td>None</td>\n",
       "      <td>NO</td>\n",
       "      <td>NO</td>\n",
       "      <td>&lt;NA&gt;</td>\n",
       "      <td>NULL</td>\n",
       "      <td>NULL</td>\n",
       "      <td>None</td>\n",
       "    </tr>\n",
       "    <tr>\n",
       "      <th>14</th>\n",
       "      <td>statmike-mlops-349915</td>\n",
       "      <td>fraud</td>\n",
       "      <td>fraud_prepped</td>\n",
       "      <td>V14</td>\n",
       "      <td>15</td>\n",
       "      <td>YES</td>\n",
       "      <td>FLOAT64</td>\n",
       "      <td>NEVER</td>\n",
       "      <td>None</td>\n",
       "      <td>None</td>\n",
       "      <td>NO</td>\n",
       "      <td>None</td>\n",
       "      <td>NO</td>\n",
       "      <td>NO</td>\n",
       "      <td>&lt;NA&gt;</td>\n",
       "      <td>NULL</td>\n",
       "      <td>NULL</td>\n",
       "      <td>None</td>\n",
       "    </tr>\n",
       "    <tr>\n",
       "      <th>15</th>\n",
       "      <td>statmike-mlops-349915</td>\n",
       "      <td>fraud</td>\n",
       "      <td>fraud_prepped</td>\n",
       "      <td>V15</td>\n",
       "      <td>16</td>\n",
       "      <td>YES</td>\n",
       "      <td>FLOAT64</td>\n",
       "      <td>NEVER</td>\n",
       "      <td>None</td>\n",
       "      <td>None</td>\n",
       "      <td>NO</td>\n",
       "      <td>None</td>\n",
       "      <td>NO</td>\n",
       "      <td>NO</td>\n",
       "      <td>&lt;NA&gt;</td>\n",
       "      <td>NULL</td>\n",
       "      <td>NULL</td>\n",
       "      <td>None</td>\n",
       "    </tr>\n",
       "    <tr>\n",
       "      <th>16</th>\n",
       "      <td>statmike-mlops-349915</td>\n",
       "      <td>fraud</td>\n",
       "      <td>fraud_prepped</td>\n",
       "      <td>V16</td>\n",
       "      <td>17</td>\n",
       "      <td>YES</td>\n",
       "      <td>FLOAT64</td>\n",
       "      <td>NEVER</td>\n",
       "      <td>None</td>\n",
       "      <td>None</td>\n",
       "      <td>NO</td>\n",
       "      <td>None</td>\n",
       "      <td>NO</td>\n",
       "      <td>NO</td>\n",
       "      <td>&lt;NA&gt;</td>\n",
       "      <td>NULL</td>\n",
       "      <td>NULL</td>\n",
       "      <td>None</td>\n",
       "    </tr>\n",
       "    <tr>\n",
       "      <th>17</th>\n",
       "      <td>statmike-mlops-349915</td>\n",
       "      <td>fraud</td>\n",
       "      <td>fraud_prepped</td>\n",
       "      <td>V17</td>\n",
       "      <td>18</td>\n",
       "      <td>YES</td>\n",
       "      <td>FLOAT64</td>\n",
       "      <td>NEVER</td>\n",
       "      <td>None</td>\n",
       "      <td>None</td>\n",
       "      <td>NO</td>\n",
       "      <td>None</td>\n",
       "      <td>NO</td>\n",
       "      <td>NO</td>\n",
       "      <td>&lt;NA&gt;</td>\n",
       "      <td>NULL</td>\n",
       "      <td>NULL</td>\n",
       "      <td>None</td>\n",
       "    </tr>\n",
       "    <tr>\n",
       "      <th>18</th>\n",
       "      <td>statmike-mlops-349915</td>\n",
       "      <td>fraud</td>\n",
       "      <td>fraud_prepped</td>\n",
       "      <td>V18</td>\n",
       "      <td>19</td>\n",
       "      <td>YES</td>\n",
       "      <td>FLOAT64</td>\n",
       "      <td>NEVER</td>\n",
       "      <td>None</td>\n",
       "      <td>None</td>\n",
       "      <td>NO</td>\n",
       "      <td>None</td>\n",
       "      <td>NO</td>\n",
       "      <td>NO</td>\n",
       "      <td>&lt;NA&gt;</td>\n",
       "      <td>NULL</td>\n",
       "      <td>NULL</td>\n",
       "      <td>None</td>\n",
       "    </tr>\n",
       "    <tr>\n",
       "      <th>19</th>\n",
       "      <td>statmike-mlops-349915</td>\n",
       "      <td>fraud</td>\n",
       "      <td>fraud_prepped</td>\n",
       "      <td>V19</td>\n",
       "      <td>20</td>\n",
       "      <td>YES</td>\n",
       "      <td>FLOAT64</td>\n",
       "      <td>NEVER</td>\n",
       "      <td>None</td>\n",
       "      <td>None</td>\n",
       "      <td>NO</td>\n",
       "      <td>None</td>\n",
       "      <td>NO</td>\n",
       "      <td>NO</td>\n",
       "      <td>&lt;NA&gt;</td>\n",
       "      <td>NULL</td>\n",
       "      <td>NULL</td>\n",
       "      <td>None</td>\n",
       "    </tr>\n",
       "    <tr>\n",
       "      <th>20</th>\n",
       "      <td>statmike-mlops-349915</td>\n",
       "      <td>fraud</td>\n",
       "      <td>fraud_prepped</td>\n",
       "      <td>V20</td>\n",
       "      <td>21</td>\n",
       "      <td>YES</td>\n",
       "      <td>FLOAT64</td>\n",
       "      <td>NEVER</td>\n",
       "      <td>None</td>\n",
       "      <td>None</td>\n",
       "      <td>NO</td>\n",
       "      <td>None</td>\n",
       "      <td>NO</td>\n",
       "      <td>NO</td>\n",
       "      <td>&lt;NA&gt;</td>\n",
       "      <td>NULL</td>\n",
       "      <td>NULL</td>\n",
       "      <td>None</td>\n",
       "    </tr>\n",
       "    <tr>\n",
       "      <th>21</th>\n",
       "      <td>statmike-mlops-349915</td>\n",
       "      <td>fraud</td>\n",
       "      <td>fraud_prepped</td>\n",
       "      <td>V21</td>\n",
       "      <td>22</td>\n",
       "      <td>YES</td>\n",
       "      <td>FLOAT64</td>\n",
       "      <td>NEVER</td>\n",
       "      <td>None</td>\n",
       "      <td>None</td>\n",
       "      <td>NO</td>\n",
       "      <td>None</td>\n",
       "      <td>NO</td>\n",
       "      <td>NO</td>\n",
       "      <td>&lt;NA&gt;</td>\n",
       "      <td>NULL</td>\n",
       "      <td>NULL</td>\n",
       "      <td>None</td>\n",
       "    </tr>\n",
       "    <tr>\n",
       "      <th>22</th>\n",
       "      <td>statmike-mlops-349915</td>\n",
       "      <td>fraud</td>\n",
       "      <td>fraud_prepped</td>\n",
       "      <td>V22</td>\n",
       "      <td>23</td>\n",
       "      <td>YES</td>\n",
       "      <td>FLOAT64</td>\n",
       "      <td>NEVER</td>\n",
       "      <td>None</td>\n",
       "      <td>None</td>\n",
       "      <td>NO</td>\n",
       "      <td>None</td>\n",
       "      <td>NO</td>\n",
       "      <td>NO</td>\n",
       "      <td>&lt;NA&gt;</td>\n",
       "      <td>NULL</td>\n",
       "      <td>NULL</td>\n",
       "      <td>None</td>\n",
       "    </tr>\n",
       "    <tr>\n",
       "      <th>23</th>\n",
       "      <td>statmike-mlops-349915</td>\n",
       "      <td>fraud</td>\n",
       "      <td>fraud_prepped</td>\n",
       "      <td>V23</td>\n",
       "      <td>24</td>\n",
       "      <td>YES</td>\n",
       "      <td>FLOAT64</td>\n",
       "      <td>NEVER</td>\n",
       "      <td>None</td>\n",
       "      <td>None</td>\n",
       "      <td>NO</td>\n",
       "      <td>None</td>\n",
       "      <td>NO</td>\n",
       "      <td>NO</td>\n",
       "      <td>&lt;NA&gt;</td>\n",
       "      <td>NULL</td>\n",
       "      <td>NULL</td>\n",
       "      <td>None</td>\n",
       "    </tr>\n",
       "    <tr>\n",
       "      <th>24</th>\n",
       "      <td>statmike-mlops-349915</td>\n",
       "      <td>fraud</td>\n",
       "      <td>fraud_prepped</td>\n",
       "      <td>V24</td>\n",
       "      <td>25</td>\n",
       "      <td>YES</td>\n",
       "      <td>FLOAT64</td>\n",
       "      <td>NEVER</td>\n",
       "      <td>None</td>\n",
       "      <td>None</td>\n",
       "      <td>NO</td>\n",
       "      <td>None</td>\n",
       "      <td>NO</td>\n",
       "      <td>NO</td>\n",
       "      <td>&lt;NA&gt;</td>\n",
       "      <td>NULL</td>\n",
       "      <td>NULL</td>\n",
       "      <td>None</td>\n",
       "    </tr>\n",
       "    <tr>\n",
       "      <th>25</th>\n",
       "      <td>statmike-mlops-349915</td>\n",
       "      <td>fraud</td>\n",
       "      <td>fraud_prepped</td>\n",
       "      <td>V25</td>\n",
       "      <td>26</td>\n",
       "      <td>YES</td>\n",
       "      <td>FLOAT64</td>\n",
       "      <td>NEVER</td>\n",
       "      <td>None</td>\n",
       "      <td>None</td>\n",
       "      <td>NO</td>\n",
       "      <td>None</td>\n",
       "      <td>NO</td>\n",
       "      <td>NO</td>\n",
       "      <td>&lt;NA&gt;</td>\n",
       "      <td>NULL</td>\n",
       "      <td>NULL</td>\n",
       "      <td>None</td>\n",
       "    </tr>\n",
       "    <tr>\n",
       "      <th>26</th>\n",
       "      <td>statmike-mlops-349915</td>\n",
       "      <td>fraud</td>\n",
       "      <td>fraud_prepped</td>\n",
       "      <td>V26</td>\n",
       "      <td>27</td>\n",
       "      <td>YES</td>\n",
       "      <td>FLOAT64</td>\n",
       "      <td>NEVER</td>\n",
       "      <td>None</td>\n",
       "      <td>None</td>\n",
       "      <td>NO</td>\n",
       "      <td>None</td>\n",
       "      <td>NO</td>\n",
       "      <td>NO</td>\n",
       "      <td>&lt;NA&gt;</td>\n",
       "      <td>NULL</td>\n",
       "      <td>NULL</td>\n",
       "      <td>None</td>\n",
       "    </tr>\n",
       "    <tr>\n",
       "      <th>27</th>\n",
       "      <td>statmike-mlops-349915</td>\n",
       "      <td>fraud</td>\n",
       "      <td>fraud_prepped</td>\n",
       "      <td>V27</td>\n",
       "      <td>28</td>\n",
       "      <td>YES</td>\n",
       "      <td>FLOAT64</td>\n",
       "      <td>NEVER</td>\n",
       "      <td>None</td>\n",
       "      <td>None</td>\n",
       "      <td>NO</td>\n",
       "      <td>None</td>\n",
       "      <td>NO</td>\n",
       "      <td>NO</td>\n",
       "      <td>&lt;NA&gt;</td>\n",
       "      <td>NULL</td>\n",
       "      <td>NULL</td>\n",
       "      <td>None</td>\n",
       "    </tr>\n",
       "    <tr>\n",
       "      <th>28</th>\n",
       "      <td>statmike-mlops-349915</td>\n",
       "      <td>fraud</td>\n",
       "      <td>fraud_prepped</td>\n",
       "      <td>V28</td>\n",
       "      <td>29</td>\n",
       "      <td>YES</td>\n",
       "      <td>FLOAT64</td>\n",
       "      <td>NEVER</td>\n",
       "      <td>None</td>\n",
       "      <td>None</td>\n",
       "      <td>NO</td>\n",
       "      <td>None</td>\n",
       "      <td>NO</td>\n",
       "      <td>NO</td>\n",
       "      <td>&lt;NA&gt;</td>\n",
       "      <td>NULL</td>\n",
       "      <td>NULL</td>\n",
       "      <td>None</td>\n",
       "    </tr>\n",
       "    <tr>\n",
       "      <th>29</th>\n",
       "      <td>statmike-mlops-349915</td>\n",
       "      <td>fraud</td>\n",
       "      <td>fraud_prepped</td>\n",
       "      <td>Amount</td>\n",
       "      <td>30</td>\n",
       "      <td>YES</td>\n",
       "      <td>FLOAT64</td>\n",
       "      <td>NEVER</td>\n",
       "      <td>None</td>\n",
       "      <td>None</td>\n",
       "      <td>NO</td>\n",
       "      <td>None</td>\n",
       "      <td>NO</td>\n",
       "      <td>NO</td>\n",
       "      <td>&lt;NA&gt;</td>\n",
       "      <td>NULL</td>\n",
       "      <td>NULL</td>\n",
       "      <td>None</td>\n",
       "    </tr>\n",
       "    <tr>\n",
       "      <th>30</th>\n",
       "      <td>statmike-mlops-349915</td>\n",
       "      <td>fraud</td>\n",
       "      <td>fraud_prepped</td>\n",
       "      <td>Class</td>\n",
       "      <td>31</td>\n",
       "      <td>YES</td>\n",
       "      <td>INT64</td>\n",
       "      <td>NEVER</td>\n",
       "      <td>None</td>\n",
       "      <td>None</td>\n",
       "      <td>NO</td>\n",
       "      <td>None</td>\n",
       "      <td>NO</td>\n",
       "      <td>NO</td>\n",
       "      <td>&lt;NA&gt;</td>\n",
       "      <td>NULL</td>\n",
       "      <td>NULL</td>\n",
       "      <td>None</td>\n",
       "    </tr>\n",
       "    <tr>\n",
       "      <th>31</th>\n",
       "      <td>statmike-mlops-349915</td>\n",
       "      <td>fraud</td>\n",
       "      <td>fraud_prepped</td>\n",
       "      <td>transaction_id</td>\n",
       "      <td>32</td>\n",
       "      <td>YES</td>\n",
       "      <td>STRING</td>\n",
       "      <td>NEVER</td>\n",
       "      <td>None</td>\n",
       "      <td>None</td>\n",
       "      <td>NO</td>\n",
       "      <td>None</td>\n",
       "      <td>NO</td>\n",
       "      <td>NO</td>\n",
       "      <td>&lt;NA&gt;</td>\n",
       "      <td>NULL</td>\n",
       "      <td>NULL</td>\n",
       "      <td>None</td>\n",
       "    </tr>\n",
       "    <tr>\n",
       "      <th>32</th>\n",
       "      <td>statmike-mlops-349915</td>\n",
       "      <td>fraud</td>\n",
       "      <td>fraud_prepped</td>\n",
       "      <td>splits</td>\n",
       "      <td>33</td>\n",
       "      <td>YES</td>\n",
       "      <td>STRING</td>\n",
       "      <td>NEVER</td>\n",
       "      <td>None</td>\n",
       "      <td>None</td>\n",
       "      <td>NO</td>\n",
       "      <td>None</td>\n",
       "      <td>NO</td>\n",
       "      <td>NO</td>\n",
       "      <td>&lt;NA&gt;</td>\n",
       "      <td>NULL</td>\n",
       "      <td>NULL</td>\n",
       "      <td>None</td>\n",
       "    </tr>\n",
       "  </tbody>\n",
       "</table>\n",
       "</div>"
      ],
      "text/plain": [
       "            table_catalog table_schema     table_name     column_name  \\\n",
       "0   statmike-mlops-349915        fraud  fraud_prepped            Time   \n",
       "1   statmike-mlops-349915        fraud  fraud_prepped              V1   \n",
       "2   statmike-mlops-349915        fraud  fraud_prepped              V2   \n",
       "3   statmike-mlops-349915        fraud  fraud_prepped              V3   \n",
       "4   statmike-mlops-349915        fraud  fraud_prepped              V4   \n",
       "5   statmike-mlops-349915        fraud  fraud_prepped              V5   \n",
       "6   statmike-mlops-349915        fraud  fraud_prepped              V6   \n",
       "7   statmike-mlops-349915        fraud  fraud_prepped              V7   \n",
       "8   statmike-mlops-349915        fraud  fraud_prepped              V8   \n",
       "9   statmike-mlops-349915        fraud  fraud_prepped              V9   \n",
       "10  statmike-mlops-349915        fraud  fraud_prepped             V10   \n",
       "11  statmike-mlops-349915        fraud  fraud_prepped             V11   \n",
       "12  statmike-mlops-349915        fraud  fraud_prepped             V12   \n",
       "13  statmike-mlops-349915        fraud  fraud_prepped             V13   \n",
       "14  statmike-mlops-349915        fraud  fraud_prepped             V14   \n",
       "15  statmike-mlops-349915        fraud  fraud_prepped             V15   \n",
       "16  statmike-mlops-349915        fraud  fraud_prepped             V16   \n",
       "17  statmike-mlops-349915        fraud  fraud_prepped             V17   \n",
       "18  statmike-mlops-349915        fraud  fraud_prepped             V18   \n",
       "19  statmike-mlops-349915        fraud  fraud_prepped             V19   \n",
       "20  statmike-mlops-349915        fraud  fraud_prepped             V20   \n",
       "21  statmike-mlops-349915        fraud  fraud_prepped             V21   \n",
       "22  statmike-mlops-349915        fraud  fraud_prepped             V22   \n",
       "23  statmike-mlops-349915        fraud  fraud_prepped             V23   \n",
       "24  statmike-mlops-349915        fraud  fraud_prepped             V24   \n",
       "25  statmike-mlops-349915        fraud  fraud_prepped             V25   \n",
       "26  statmike-mlops-349915        fraud  fraud_prepped             V26   \n",
       "27  statmike-mlops-349915        fraud  fraud_prepped             V27   \n",
       "28  statmike-mlops-349915        fraud  fraud_prepped             V28   \n",
       "29  statmike-mlops-349915        fraud  fraud_prepped          Amount   \n",
       "30  statmike-mlops-349915        fraud  fraud_prepped           Class   \n",
       "31  statmike-mlops-349915        fraud  fraud_prepped  transaction_id   \n",
       "32  statmike-mlops-349915        fraud  fraud_prepped          splits   \n",
       "\n",
       "    ordinal_position is_nullable data_type is_generated generation_expression  \\\n",
       "0                  1         YES     INT64        NEVER                  None   \n",
       "1                  2         YES   FLOAT64        NEVER                  None   \n",
       "2                  3         YES   FLOAT64        NEVER                  None   \n",
       "3                  4         YES   FLOAT64        NEVER                  None   \n",
       "4                  5         YES   FLOAT64        NEVER                  None   \n",
       "5                  6         YES   FLOAT64        NEVER                  None   \n",
       "6                  7         YES   FLOAT64        NEVER                  None   \n",
       "7                  8         YES   FLOAT64        NEVER                  None   \n",
       "8                  9         YES   FLOAT64        NEVER                  None   \n",
       "9                 10         YES   FLOAT64        NEVER                  None   \n",
       "10                11         YES   FLOAT64        NEVER                  None   \n",
       "11                12         YES   FLOAT64        NEVER                  None   \n",
       "12                13         YES   FLOAT64        NEVER                  None   \n",
       "13                14         YES   FLOAT64        NEVER                  None   \n",
       "14                15         YES   FLOAT64        NEVER                  None   \n",
       "15                16         YES   FLOAT64        NEVER                  None   \n",
       "16                17         YES   FLOAT64        NEVER                  None   \n",
       "17                18         YES   FLOAT64        NEVER                  None   \n",
       "18                19         YES   FLOAT64        NEVER                  None   \n",
       "19                20         YES   FLOAT64        NEVER                  None   \n",
       "20                21         YES   FLOAT64        NEVER                  None   \n",
       "21                22         YES   FLOAT64        NEVER                  None   \n",
       "22                23         YES   FLOAT64        NEVER                  None   \n",
       "23                24         YES   FLOAT64        NEVER                  None   \n",
       "24                25         YES   FLOAT64        NEVER                  None   \n",
       "25                26         YES   FLOAT64        NEVER                  None   \n",
       "26                27         YES   FLOAT64        NEVER                  None   \n",
       "27                28         YES   FLOAT64        NEVER                  None   \n",
       "28                29         YES   FLOAT64        NEVER                  None   \n",
       "29                30         YES   FLOAT64        NEVER                  None   \n",
       "30                31         YES     INT64        NEVER                  None   \n",
       "31                32         YES    STRING        NEVER                  None   \n",
       "32                33         YES    STRING        NEVER                  None   \n",
       "\n",
       "   is_stored is_hidden is_updatable is_system_defined is_partitioning_column  \\\n",
       "0       None        NO         None                NO                     NO   \n",
       "1       None        NO         None                NO                     NO   \n",
       "2       None        NO         None                NO                     NO   \n",
       "3       None        NO         None                NO                     NO   \n",
       "4       None        NO         None                NO                     NO   \n",
       "5       None        NO         None                NO                     NO   \n",
       "6       None        NO         None                NO                     NO   \n",
       "7       None        NO         None                NO                     NO   \n",
       "8       None        NO         None                NO                     NO   \n",
       "9       None        NO         None                NO                     NO   \n",
       "10      None        NO         None                NO                     NO   \n",
       "11      None        NO         None                NO                     NO   \n",
       "12      None        NO         None                NO                     NO   \n",
       "13      None        NO         None                NO                     NO   \n",
       "14      None        NO         None                NO                     NO   \n",
       "15      None        NO         None                NO                     NO   \n",
       "16      None        NO         None                NO                     NO   \n",
       "17      None        NO         None                NO                     NO   \n",
       "18      None        NO         None                NO                     NO   \n",
       "19      None        NO         None                NO                     NO   \n",
       "20      None        NO         None                NO                     NO   \n",
       "21      None        NO         None                NO                     NO   \n",
       "22      None        NO         None                NO                     NO   \n",
       "23      None        NO         None                NO                     NO   \n",
       "24      None        NO         None                NO                     NO   \n",
       "25      None        NO         None                NO                     NO   \n",
       "26      None        NO         None                NO                     NO   \n",
       "27      None        NO         None                NO                     NO   \n",
       "28      None        NO         None                NO                     NO   \n",
       "29      None        NO         None                NO                     NO   \n",
       "30      None        NO         None                NO                     NO   \n",
       "31      None        NO         None                NO                     NO   \n",
       "32      None        NO         None                NO                     NO   \n",
       "\n",
       "    clustering_ordinal_position collation_name column_default rounding_mode  \n",
       "0                          <NA>           NULL           NULL          None  \n",
       "1                          <NA>           NULL           NULL          None  \n",
       "2                          <NA>           NULL           NULL          None  \n",
       "3                          <NA>           NULL           NULL          None  \n",
       "4                          <NA>           NULL           NULL          None  \n",
       "5                          <NA>           NULL           NULL          None  \n",
       "6                          <NA>           NULL           NULL          None  \n",
       "7                          <NA>           NULL           NULL          None  \n",
       "8                          <NA>           NULL           NULL          None  \n",
       "9                          <NA>           NULL           NULL          None  \n",
       "10                         <NA>           NULL           NULL          None  \n",
       "11                         <NA>           NULL           NULL          None  \n",
       "12                         <NA>           NULL           NULL          None  \n",
       "13                         <NA>           NULL           NULL          None  \n",
       "14                         <NA>           NULL           NULL          None  \n",
       "15                         <NA>           NULL           NULL          None  \n",
       "16                         <NA>           NULL           NULL          None  \n",
       "17                         <NA>           NULL           NULL          None  \n",
       "18                         <NA>           NULL           NULL          None  \n",
       "19                         <NA>           NULL           NULL          None  \n",
       "20                         <NA>           NULL           NULL          None  \n",
       "21                         <NA>           NULL           NULL          None  \n",
       "22                         <NA>           NULL           NULL          None  \n",
       "23                         <NA>           NULL           NULL          None  \n",
       "24                         <NA>           NULL           NULL          None  \n",
       "25                         <NA>           NULL           NULL          None  \n",
       "26                         <NA>           NULL           NULL          None  \n",
       "27                         <NA>           NULL           NULL          None  \n",
       "28                         <NA>           NULL           NULL          None  \n",
       "29                         <NA>           NULL           NULL          None  \n",
       "30                         <NA>           NULL           NULL          None  \n",
       "31                         <NA>           NULL           NULL          None  \n",
       "32                         <NA>           NULL           NULL          None  "
      ]
     },
     "execution_count": 19,
     "metadata": {},
     "output_type": "execute_result"
    }
   ],
   "source": [
    "query = f\"SELECT * FROM {BQ_PROJECT}.{BQ_DATASET}.INFORMATION_SCHEMA.COLUMNS WHERE TABLE_NAME = '{BQ_TABLE}'\"\n",
    "schema = bq.query(query).to_dataframe()\n",
    "schema"
   ]
  },
  {
   "cell_type": "markdown",
   "id": "a968eba8",
   "metadata": {},
   "source": [
    "### Number of Classes for the Label Column: VAR_TARGET\n",
    "This is a supervised learning example that classifies examples into the classes found in the label column stored in the variable `VAR_TARGET`."
   ]
  },
  {
   "cell_type": "code",
   "execution_count": 20,
   "id": "45fcc860",
   "metadata": {
    "tags": []
   },
   "outputs": [
    {
     "data": {
      "text/html": [
       "<div>\n",
       "<style scoped>\n",
       "    .dataframe tbody tr th:only-of-type {\n",
       "        vertical-align: middle;\n",
       "    }\n",
       "\n",
       "    .dataframe tbody tr th {\n",
       "        vertical-align: top;\n",
       "    }\n",
       "\n",
       "    .dataframe thead th {\n",
       "        text-align: right;\n",
       "    }\n",
       "</style>\n",
       "<table border=\"1\" class=\"dataframe\">\n",
       "  <thead>\n",
       "    <tr style=\"text-align: right;\">\n",
       "      <th></th>\n",
       "      <th>Class</th>\n",
       "    </tr>\n",
       "  </thead>\n",
       "  <tbody>\n",
       "    <tr>\n",
       "      <th>0</th>\n",
       "      <td>0</td>\n",
       "    </tr>\n",
       "    <tr>\n",
       "      <th>1</th>\n",
       "      <td>1</td>\n",
       "    </tr>\n",
       "  </tbody>\n",
       "</table>\n",
       "</div>"
      ],
      "text/plain": [
       "   Class\n",
       "0      0\n",
       "1      1"
      ]
     },
     "execution_count": 20,
     "metadata": {},
     "output_type": "execute_result"
    }
   ],
   "source": [
    "nclasses = bq.query(query = f'SELECT DISTINCT {VAR_TARGET} FROM {BQ_PROJECT}.{BQ_DATASET}.{BQ_TABLE} WHERE {VAR_TARGET} is not null').to_dataframe()\n",
    "nclasses"
   ]
  },
  {
   "cell_type": "code",
   "execution_count": 21,
   "id": "88143160",
   "metadata": {
    "tags": []
   },
   "outputs": [
    {
     "data": {
      "text/plain": [
       "2"
      ]
     },
     "execution_count": 21,
     "metadata": {},
     "output_type": "execute_result"
    }
   ],
   "source": [
    "nclasses = nclasses.shape[0]\n",
    "nclasses"
   ]
  },
  {
   "cell_type": "code",
   "execution_count": 22,
   "id": "e6f1d194-d59f-41b9-90b3-5f1e15af4233",
   "metadata": {
    "tags": []
   },
   "outputs": [],
   "source": [
    "expRun.log_params({'data_source': f'bq://{BQ_PROJECT}.{BQ_DATASET}.{BQ_TABLE}', 'nclasses': nclasses, 'var_split': 'splits', 'var_target': VAR_TARGET})"
   ]
  },
  {
   "cell_type": "markdown",
   "id": "ce90cf60",
   "metadata": {},
   "source": [
    "### Selected Columns and Data Types\n",
    "\n",
    "Use the the table schema to prepare the TensorFlow model inputs:\n",
    "- Omit unused columns\n",
    "- Create list of `selected_fields` from the training source\n",
    "- Define the data types, `output_types`, using the schema data and remapping to desired precision if needed"
   ]
  },
  {
   "cell_type": "code",
   "execution_count": 23,
   "id": "da81bb93",
   "metadata": {
    "tags": []
   },
   "outputs": [],
   "source": [
    "# Make a list of columns to omit\n",
    "OMIT = [x for x in VAR_OMIT.split(',') if x != '']\n",
    "\n",
    "# use schema to prepare a list of columns to read from BigQuery\n",
    "selected_fields = schema[~schema.column_name.isin(OMIT)].column_name.tolist()\n",
    "\n",
    "# all the columns in this data source are either float64 or int64\n",
    "output_types = [dtypes.float64 if x=='FLOAT64' else dtypes.int64 for x in schema[~schema.column_name.isin(OMIT)].data_type.tolist()]"
   ]
  },
  {
   "cell_type": "markdown",
   "id": "8169327f",
   "metadata": {},
   "source": [
    "---\n",
    "## Read From BigQuery Using TensorFlow I/O "
   ]
  },
  {
   "cell_type": "markdown",
   "id": "60ad3922-4ebe-4fc2-b08a-bc05019f3e57",
   "metadata": {},
   "source": [
    "### Divide the inputs into features and target"
   ]
  },
  {
   "cell_type": "markdown",
   "id": "fa7456f0",
   "metadata": {},
   "source": [
    "Define a function that remaps the input data for TensorFlow into:\n",
    "- features\n",
    "- `target` - one_hot encoded for multi-class classification and also works for binary classification"
   ]
  },
  {
   "cell_type": "code",
   "execution_count": 24,
   "id": "95911ae2",
   "metadata": {
    "tags": []
   },
   "outputs": [],
   "source": [
    "def transTable(row_dict):\n",
    "    target = row_dict.pop(VAR_TARGET)\n",
    "    target = tf.one_hot(tf.cast(target,tf.int64), nclasses)\n",
    "    target = tf.cast(target, tf.float32)\n",
    "    return(row_dict, target)"
   ]
  },
  {
   "cell_type": "markdown",
   "id": "73388e33",
   "metadata": {},
   "source": [
    "### Setup Tensorflow I/O to Read Batches from BigQuery\n",
    "\n",
    "Setup TensorFlow_IO client > session > table + table.map\n",
    "- https://www.tensorflow.org/io/api_docs/python/tfio/bigquery/BigQueryClient"
   ]
  },
  {
   "cell_type": "code",
   "execution_count": 25,
   "id": "39dbdf21",
   "metadata": {
    "tags": []
   },
   "outputs": [],
   "source": [
    "def bq_reader(split):\n",
    "    reader = BigQueryClient()\n",
    "\n",
    "    training = reader.read_session(\n",
    "        parent = f\"projects/{PROJECT_ID}\",\n",
    "        project_id = BQ_PROJECT,\n",
    "        table_id = BQ_TABLE,\n",
    "        dataset_id = BQ_DATASET,\n",
    "        selected_fields = selected_fields,\n",
    "        output_types = output_types,\n",
    "        row_restriction = f\"splits='{split}'\",\n",
    "        requested_streams = 3\n",
    "    )\n",
    "    \n",
    "    return training.parallel_read_rows(sloppy = True, num_parallel_calls = tf.data.experimental.AUTOTUNE)"
   ]
  },
  {
   "cell_type": "code",
   "execution_count": 26,
   "id": "dd76b3b8-6fce-4ac7-9a91-d2d2c9864f11",
   "metadata": {
    "tags": []
   },
   "outputs": [],
   "source": [
    "#bq_reader('TRAIN')#[0]"
   ]
  },
  {
   "cell_type": "code",
   "execution_count": 291,
   "id": "02718964",
   "metadata": {
    "tags": []
   },
   "outputs": [],
   "source": [
    "train = bq_reader('TRAIN').prefetch(1).map(transTable).shuffle(BATCH_SIZE*10).batch(BATCH_SIZE)\n",
    "validate = bq_reader('VALIDATE').prefetch(1).map(transTable).batch(BATCH_SIZE)\n",
    "test = bq_reader('TEST').prefetch(1).map(transTable).batch(BATCH_SIZE)"
   ]
  },
  {
   "cell_type": "code",
   "execution_count": 28,
   "id": "1d17a7a5-d83c-4ba3-ae36-0c9d2aacc685",
   "metadata": {
    "tags": []
   },
   "outputs": [],
   "source": [
    "expRun.log_params({'training.batch_size': BATCH_SIZE, 'training.shuffle': 10*BATCH_SIZE, 'training.prefetch': 1})"
   ]
  },
  {
   "cell_type": "markdown",
   "id": "cfc84d95",
   "metadata": {},
   "source": [
    "Review a single batch of the train data:"
   ]
  },
  {
   "cell_type": "code",
   "execution_count": 29,
   "id": "9666af2c",
   "metadata": {
    "tags": []
   },
   "outputs": [
    {
     "name": "stdout",
     "output_type": "stream",
     "text": [
      "features:\n",
      " ['Amount', 'Time', 'V1', 'V10', 'V11', 'V12', 'V13', 'V14', 'V15', 'V16', 'V17', 'V18', 'V19', 'V2', 'V20', 'V21', 'V22', 'V23', 'V24', 'V25', 'V26', 'V27', 'V28', 'V3', 'V4', 'V5', 'V6', 'V7', 'V8', 'V9']\n",
      "\n",
      "target:\n",
      " tf.Tensor(\n",
      "[[1. 0.]\n",
      " [1. 0.]\n",
      " [1. 0.]\n",
      " [1. 0.]\n",
      " [1. 0.]\n",
      " [1. 0.]\n",
      " [1. 0.]\n",
      " [1. 0.]\n",
      " [1. 0.]\n",
      " [1. 0.]], shape=(10, 2), dtype=float32)\n"
     ]
    }
   ],
   "source": [
    "for features, target in train.take(1):\n",
    "    print('features:\\n',list(features.keys()))\n",
    "    print('\\ntarget:\\n',target[0:10])"
   ]
  },
  {
   "cell_type": "markdown",
   "id": "f359ac9a",
   "metadata": {},
   "source": [
    "---\n",
    "## Define the Model: In The Notebook (local runtime)\n",
    "\n",
    "Define the Model:\n",
    "- Building the model using the [Keras functional api](https://www.tensorflow.org/api_docs/python/tf/keras/Model)\n",
    "- This is basically multi-class logistic regression where the feature space is mapped to the number of classes in the target by a [softmax activation](https://www.tensorflow.org/api_docs/python/tf/keras/activations/softmax)\n",
    "- The [keras.Model](https://www.tensorflow.org/api_docs/python/tf/keras/Model) is made up of `inputs` and `outputs`\n",
    "    - the inputs are a list of [keras.Input](https://www.tensorflow.org/api_docs/python/tf/keras/Input) tensors that was constructed above\n",
    "    - the outputs are a group of [keras.layers](https://www.tensorflow.org/api_docs/python/tf/keras/layers)\n",
    "        - connects each input to a [Dense layer](https://www.tensorflow.org/api_docs/python/tf/keras/layers/Dense) with units set to the number of features\n",
    "        - connecting to a [BatchNormalization layer](https://www.tensorflow.org/api_docs/python/tf/keras/layers/BatchNormalization)\n",
    "            - for each batch of inputs it scales each feature to have mean = 0 and standard deviation = 1 for the batch\n",
    "            - Note on Normalization - If you are using TensorFlow 2.6 or higher then you can also try a normalization layer with the [adapt method](https://www.tensorflow.org/api_docs/python/tf/keras/layers/Normalization#adapt) as a preprocessing layer (does not update during training).\n",
    "        - ending with a [Dense layer](https://www.tensorflow.org/api_docs/python/tf/keras/layers/Dense) with units set to the number of class levels in the target\n",
    "\n",
    "Adding metrics to the model:\n",
    "- Specifying 'accuracy' triggers conversion to [tf.keras.metrics.CategoricalAccuracy](https://www.tensorflow.org/api_docs/python/tf/keras/metrics/CategoricalAccuracy) due to the loss function being [tf.keras.losses.CategoricalCrossentropy](https://www.tensorflow.org/api_docs/python/tf/keras/losses/CategoricalCrossentropy)\n",
    "- If the target variable is highly imbalanced then it is good to consider the area under the precision-recall curve.  This is requested with [tf.keras.metrics.AUC(curve='PR')](https://www.tensorflow.org/api_docs/python/tf/keras/metrics/AUC)"
   ]
  },
  {
   "cell_type": "code",
   "execution_count": 280,
   "id": "17c3fdda-b0f8-4d2a-a200-3e4c35894031",
   "metadata": {
    "tags": []
   },
   "outputs": [],
   "source": [
    "# Logistic Regression\n",
    "\n",
    "# feature list\n",
    "numeric_features = [feature for feature in schema[~schema.column_name.isin(OMIT + [VAR_TARGET])]['column_name'].to_list()]\n",
    "\n",
    "# feature inputs\n",
    "features = [tf.keras.Input(shape = (1,), dtype = dtypes.float64, name = feature) for feature in numeric_features]\n",
    "\n",
    "# normalize features - before training\n",
    "#normalized_features = []\n",
    "#for feature in features:\n",
    "#    normalizer = tf.keras.layers.Normalization(axis = None, name = feature.name + '_normalized')\n",
    "#    feature_data = train.map(lambda x, y: x[feature.name])\n",
    "#    normalizer.adapt(feature_data)\n",
    "#    normalized_features.append(normalizer(feature))\n",
    "\n",
    "# concatenate features\n",
    "all_features = tf.keras.layers.Concatenate(name = 'feature_layer')(features)\n",
    "#all_features = tf.keras.layers.Concatenate(name = 'feature_layer')(normalized_features) # (features)\n",
    "\n",
    "# batch normalization of inputs - during training\n",
    "all_features = tf.keras.layers.BatchNormalization(name = 'batch_normalization_layer')(all_features)\n",
    "\n",
    "# logistic - using softmax activation to nclasses\n",
    "logistic = tf.keras.layers.Dense(nclasses, activation = tf.nn.softmax, name = 'logistic')(all_features)\n",
    "\n",
    "# the model\n",
    "model = tf.keras.Model(\n",
    "    inputs = features,\n",
    "    outputs = logistic,\n",
    "    name = EXPERIMENT\n",
    ")\n",
    "\n",
    "# compile the model\n",
    "model.compile(\n",
    "    optimizer = tf.keras.optimizers.SGD(), #SGD or Adam\n",
    "    loss = tf.keras.losses.CategoricalCrossentropy(),\n",
    "    metrics = ['accuracy', tf.keras.metrics.AUC(curve = 'PR', name = 'auprc')]\n",
    ")"
   ]
  },
  {
   "cell_type": "code",
   "execution_count": 281,
   "id": "8e9f7ed3-b9a2-48f3-9056-7c6cbff212a5",
   "metadata": {
    "tags": []
   },
   "outputs": [
    {
     "data": {
      "image/png": "[encoded data removed]",
      "text/plain": [
       "<IPython.core.display.Image object>"
      ]
     },
     "execution_count": 281,
     "metadata": {},
     "output_type": "execute_result"
    }
   ],
   "source": [
    "tf.keras.utils.plot_model(model, rankdir='LR')"
   ]
  },
  {
   "cell_type": "code",
   "execution_count": 282,
   "id": "5071c936",
   "metadata": {
    "tags": []
   },
   "outputs": [
    {
     "name": "stdout",
     "output_type": "stream",
     "text": [
      "Model: \"05\"\n",
      "__________________________________________________________________________________________________\n",
      " Layer (type)                Output Shape                 Param #   Connected to                  \n",
      "==================================================================================================\n",
      " Time (InputLayer)           [(None, 1)]                  0         []                            \n",
      "                                                                                                  \n",
      " V1 (InputLayer)             [(None, 1)]                  0         []                            \n",
      "                                                                                                  \n",
      " V2 (InputLayer)             [(None, 1)]                  0         []                            \n",
      "                                                                                                  \n",
      " V3 (InputLayer)             [(None, 1)]                  0         []                            \n",
      "                                                                                                  \n",
      " V4 (InputLayer)             [(None, 1)]                  0         []                            \n",
      "                                                                                                  \n",
      " V5 (InputLayer)             [(None, 1)]                  0         []                            \n",
      "                                                                                                  \n",
      " V6 (InputLayer)             [(None, 1)]                  0         []                            \n",
      "                                                                                                  \n",
      " V7 (InputLayer)             [(None, 1)]                  0         []                            \n",
      "                                                                                                  \n",
      " V8 (InputLayer)             [(None, 1)]                  0         []                            \n",
      "                                                                                                  \n",
      " V9 (InputLayer)             [(None, 1)]                  0         []                            \n",
      "                                                                                                  \n",
      " V10 (InputLayer)            [(None, 1)]                  0         []                            \n",
      "                                                                                                  \n",
      " V11 (InputLayer)            [(None, 1)]                  0         []                            \n",
      "                                                                                                  \n",
      " V12 (InputLayer)            [(None, 1)]                  0         []                            \n",
      "                                                                                                  \n",
      " V13 (InputLayer)            [(None, 1)]                  0         []                            \n",
      "                                                                                                  \n",
      " V14 (InputLayer)            [(None, 1)]                  0         []                            \n",
      "                                                                                                  \n",
      " V15 (InputLayer)            [(None, 1)]                  0         []                            \n",
      "                                                                                                  \n",
      " V16 (InputLayer)            [(None, 1)]                  0         []                            \n",
      "                                                                                                  \n",
      " V17 (InputLayer)            [(None, 1)]                  0         []                            \n",
      "                                                                                                  \n",
      " V18 (InputLayer)            [(None, 1)]                  0         []                            \n",
      "                                                                                                  \n",
      " V19 (InputLayer)            [(None, 1)]                  0         []                            \n",
      "                                                                                                  \n",
      " V20 (InputLayer)            [(None, 1)]                  0         []                            \n",
      "                                                                                                  \n",
      " V21 (InputLayer)            [(None, 1)]                  0         []                            \n",
      "                                                                                                  \n",
      " V22 (InputLayer)            [(None, 1)]                  0         []                            \n",
      "                                                                                                  \n",
      " V23 (InputLayer)            [(None, 1)]                  0         []                            \n",
      "                                                                                                  \n",
      " V24 (InputLayer)            [(None, 1)]                  0         []                            \n",
      "                                                                                                  \n",
      " V25 (InputLayer)            [(None, 1)]                  0         []                            \n",
      "                                                                                                  \n",
      " V26 (InputLayer)            [(None, 1)]                  0         []                            \n",
      "                                                                                                  \n",
      " V27 (InputLayer)            [(None, 1)]                  0         []                            \n",
      "                                                                                                  \n",
      " V28 (InputLayer)            [(None, 1)]                  0         []                            \n",
      "                                                                                                  \n",
      " Amount (InputLayer)         [(None, 1)]                  0         []                            \n",
      "                                                                                                  \n",
      " feature_layer (Concatenate  (None, 30)                   0         ['Time[0][0]',                \n",
      " )                                                                   'V1[0][0]',                  \n",
      "                                                                     'V2[0][0]',                  \n",
      "                                                                     'V3[0][0]',                  \n",
      "                                                                     'V4[0][0]',                  \n",
      "                                                                     'V5[0][0]',                  \n",
      "                                                                     'V6[0][0]',                  \n",
      "                                                                     'V7[0][0]',                  \n",
      "                                                                     'V8[0][0]',                  \n",
      "                                                                     'V9[0][0]',                  \n",
      "                                                                     'V10[0][0]',                 \n",
      "                                                                     'V11[0][0]',                 \n",
      "                                                                     'V12[0][0]',                 \n",
      "                                                                     'V13[0][0]',                 \n",
      "                                                                     'V14[0][0]',                 \n",
      "                                                                     'V15[0][0]',                 \n",
      "                                                                     'V16[0][0]',                 \n",
      "                                                                     'V17[0][0]',                 \n",
      "                                                                     'V18[0][0]',                 \n",
      "                                                                     'V19[0][0]',                 \n",
      "                                                                     'V20[0][0]',                 \n",
      "                                                                     'V21[0][0]',                 \n",
      "                                                                     'V22[0][0]',                 \n",
      "                                                                     'V23[0][0]',                 \n",
      "                                                                     'V24[0][0]',                 \n",
      "                                                                     'V25[0][0]',                 \n",
      "                                                                     'V26[0][0]',                 \n",
      "                                                                     'V27[0][0]',                 \n",
      "                                                                     'V28[0][0]',                 \n",
      "                                                                     'Amount[0][0]']              \n",
      "                                                                                                  \n",
      " batch_normalization_layer   (None, 30)                   120       ['feature_layer[0][0]']       \n",
      " (BatchNormalization)                                                                             \n",
      "                                                                                                  \n",
      " logistic (Dense)            (None, 2)                    62        ['batch_normalization_layer[0]\n",
      "                                                                    [0]']                         \n",
      "                                                                                                  \n",
      "==================================================================================================\n",
      "Total params: 182 (728.00 Byte)\n",
      "Trainable params: 122 (488.00 Byte)\n",
      "Non-trainable params: 60 (240.00 Byte)\n",
      "__________________________________________________________________________________________________\n"
     ]
    }
   ],
   "source": [
    "model.summary()"
   ]
  },
  {
   "cell_type": "markdown",
   "id": "4063ec71-6bdb-4660-8c36-e9a1ac4c294e",
   "metadata": {},
   "source": [
    "---\n",
    "## Train The Model: In The Notebook (local runtime)"
   ]
  },
  {
   "cell_type": "markdown",
   "id": "5a1e7136",
   "metadata": {},
   "source": [
    "Fit the Model:"
   ]
  },
  {
   "cell_type": "code",
   "execution_count": 283,
   "id": "e68eeeb2",
   "metadata": {
    "tags": []
   },
   "outputs": [
    {
     "name": "stdout",
     "output_type": "stream",
     "text": [
      "Epoch 1/4\n",
      "2281/2281 [==============================] - 18s 7ms/step - loss: 0.0941 - accuracy: 0.9794 - auprc: 0.9914 - val_loss: 0.0369 - val_accuracy: 0.9975 - val_auprc: 0.9964\n",
      "Epoch 2/4\n",
      "2281/2281 [==============================] - 16s 7ms/step - loss: 0.0216 - accuracy: 0.9980 - auprc: 0.9974 - val_loss: 0.0164 - val_accuracy: 0.9979 - val_auprc: 0.9989\n",
      "Epoch 3/4\n",
      "2281/2281 [==============================] - 16s 7ms/step - loss: 0.0109 - accuracy: 0.9984 - auprc: 0.9996 - val_loss: 0.0096 - val_accuracy: 0.9986 - val_auprc: 0.9997\n",
      "Epoch 4/4\n",
      "2281/2281 [==============================] - 16s 7ms/step - loss: 0.0078 - accuracy: 0.9988 - auprc: 0.9996 - val_loss: 0.0076 - val_accuracy: 0.9989 - val_auprc: 0.9997\n"
     ]
    }
   ],
   "source": [
    "# setup tensorboard logs and train\n",
    "tensorboard_callback = tf.keras.callbacks.TensorBoard(log_dir = os.path.join(DIR, \"logs\", f'{TIMESTAMP}'), histogram_freq=1)\n",
    "history = model.fit(train, epochs = EPOCHS, callbacks = [tensorboard_callback], validation_data = validate)"
   ]
  },
  {
   "cell_type": "code",
   "execution_count": 284,
   "id": "2e069d7f",
   "metadata": {
    "tags": []
   },
   "outputs": [
    {
     "data": {
      "text/plain": [
       "0.007805480156093836"
      ]
     },
     "execution_count": 284,
     "metadata": {},
     "output_type": "execute_result"
    }
   ],
   "source": [
    "history.history['loss'][-1]"
   ]
  },
  {
   "cell_type": "code",
   "execution_count": 285,
   "id": "5a33acf8-7d0c-4270-b4a3-55a944c9d680",
   "metadata": {
    "tags": []
   },
   "outputs": [
    {
     "data": {
      "text/plain": [
       "{'verbose': 1, 'epochs': 4, 'steps': None}"
      ]
     },
     "execution_count": 285,
     "metadata": {},
     "output_type": "execute_result"
    }
   ],
   "source": [
    "expRun.log_params({'training.epochs': history.params['epochs']})\n",
    "history.params"
   ]
  },
  {
   "cell_type": "markdown",
   "id": "1f5aa14e-ab43-49dc-b8d3-cbfc162d7b8f",
   "metadata": {},
   "source": [
    "Log the time series metrics to the experiments TensorBoard:"
   ]
  },
  {
   "cell_type": "code",
   "execution_count": 286,
   "id": "6615073e-321a-4d9b-ad6b-a8e91fb48d73",
   "metadata": {
    "tags": []
   },
   "outputs": [],
   "source": [
    "for e in range(0, history.params['epochs']):\n",
    "    expRun.log_time_series_metrics(\n",
    "        {\n",
    "            'train_loss': history.history['loss'][e],\n",
    "            'train_accuracy': history.history['accuracy'][e],\n",
    "            'train_auprc': history.history['auprc'][e],\n",
    "            'val_loss': history.history['val_loss'][e],\n",
    "            'val_accuracy': history.history['val_accuracy'][e],\n",
    "            'val_auprc': history.history['val_auprc'][e]\n",
    "        }, step = e\n",
    "    )"
   ]
  },
  {
   "cell_type": "markdown",
   "id": "291b5ded-680b-4537-b2ea-35712ce992b5",
   "metadata": {},
   "source": [
    "---\n",
    "## Evaluate The Model: In The Notebook (local runtime)"
   ]
  },
  {
   "cell_type": "markdown",
   "id": "42fc016d",
   "metadata": {},
   "source": [
    "Evaluate the model with the test data:"
   ]
  },
  {
   "cell_type": "code",
   "execution_count": 292,
   "id": "84fc5083",
   "metadata": {
    "tags": []
   },
   "outputs": [
    {
     "name": "stdout",
     "output_type": "stream",
     "text": [
      "286/286 [==============================] - 2s 5ms/step - loss: 0.0072 - accuracy: 0.9991 - auprc: 0.9996\n"
     ]
    }
   ],
   "source": [
    "loss, accuracy, auprc = model.evaluate(test)"
   ]
  },
  {
   "cell_type": "code",
   "execution_count": 293,
   "id": "4a655b7e-21e0-4a82-aac4-fa776d584485",
   "metadata": {
    "tags": []
   },
   "outputs": [],
   "source": [
    "expRun.log_metrics({'test_loss': loss, 'test_accuracy': accuracy, 'test_auprc': auprc})"
   ]
  },
  {
   "cell_type": "code",
   "execution_count": 294,
   "id": "61787273",
   "metadata": {
    "tags": []
   },
   "outputs": [
    {
     "name": "stdout",
     "output_type": "stream",
     "text": [
      "283/283 [==============================] - 2s 5ms/step - loss: 0.0076 - accuracy: 0.9989 - auprc: 0.9997\n"
     ]
    }
   ],
   "source": [
    "loss, accuracy, auprc = model.evaluate(validate)"
   ]
  },
  {
   "cell_type": "code",
   "execution_count": 295,
   "id": "154f982b-8b2e-4aa0-af4d-62cc483cf168",
   "metadata": {
    "tags": []
   },
   "outputs": [],
   "source": [
    "expRun.log_metrics({'val_loss': loss, 'val_accuracy': accuracy, 'val_auprc': auprc})"
   ]
  },
  {
   "cell_type": "code",
   "execution_count": 296,
   "id": "190d870d",
   "metadata": {
    "tags": []
   },
   "outputs": [
    {
     "name": "stdout",
     "output_type": "stream",
     "text": [
      "2281/2281 [==============================] - 13s 6ms/step - loss: 0.0081 - accuracy: 0.9988 - auprc: 0.9995\n"
     ]
    }
   ],
   "source": [
    "loss, accuracy, auprc = model.evaluate(train)"
   ]
  },
  {
   "cell_type": "code",
   "execution_count": 297,
   "id": "5bce3736-904b-481c-a9b9-3d1dde474ef2",
   "metadata": {
    "tags": []
   },
   "outputs": [],
   "source": [
    "expRun.log_metrics({'train_loss': loss, 'train_accuracy': accuracy, 'train_auprc': auprc})"
   ]
  },
  {
   "cell_type": "markdown",
   "id": "c5ab0b29-608a-4cf4-bf1f-d9ab801d8834",
   "metadata": {},
   "source": [
    "---\n",
    "## Custom Evaluation\n",
    "\n",
    "Using the test data, calculate a series of metrics using [scikit-learn metrics](https://scikit-learn.org/stable/modules/model_evaluation.html).  Using TFIO to read the batches from BigQuery means the first step is getting the predictions and actual values into numpy arrays:"
   ]
  },
  {
   "cell_type": "code",
   "execution_count": 298,
   "id": "1180dd37-ac7c-4d0f-8095-81793aa53009",
   "metadata": {
    "tags": []
   },
   "outputs": [
    {
     "name": "stdout",
     "output_type": "stream",
     "text": [
      "286/286 [==============================] - 2s 5ms/step\n"
     ]
    }
   ],
   "source": [
    "predictions = model.predict(test)\n",
    "\n",
    "actuals = np.empty(shape = [0, predictions.shape[1]])\n",
    "for features, target in test.take(-1): # -1 indicates all batches\n",
    "    actuals = np.append(actuals, target.numpy(), axis = 0)\n",
    "\n",
    "predictions_proba = np.max(predictions, axis = 1)\n",
    "predictions = np.argmax(predictions, axis = 1)\n",
    "actuals = np.argmax(actuals, axis = 1)"
   ]
  },
  {
   "cell_type": "code",
   "execution_count": 299,
   "id": "68e489b0-b916-4548-80a0-6715969acee8",
   "metadata": {
    "tags": []
   },
   "outputs": [
    {
     "data": {
      "text/plain": [
       "array([0, 0, 0, 0, 0, 0, 0, 0, 0, 0, 0, 0, 0, 0, 0, 0, 1, 0, 0, 0])"
      ]
     },
     "execution_count": 299,
     "metadata": {},
     "output_type": "execute_result"
    }
   ],
   "source": [
    "actuals[-20:]"
   ]
  },
  {
   "cell_type": "code",
   "execution_count": 300,
   "id": "29cbc551-6b4e-4930-bc8c-4b1fa056f990",
   "metadata": {
    "tags": []
   },
   "outputs": [
    {
     "data": {
      "text/plain": [
       "array([0, 0, 0, 0, 0, 0, 0, 0, 0, 0, 0, 0, 0, 0, 0, 0, 0, 0, 0, 0])"
      ]
     },
     "execution_count": 300,
     "metadata": {},
     "output_type": "execute_result"
    }
   ],
   "source": [
    "predictions[-20:]"
   ]
  },
  {
   "cell_type": "markdown",
   "id": "90393bcd-ce91-41fb-be30-4618f469be36",
   "metadata": {},
   "source": [
    "Calculate metrics:"
   ]
  },
  {
   "cell_type": "code",
   "execution_count": 301,
   "id": "9221ab09-d759-4d21-8620-a5d4486f24e8",
   "metadata": {
    "tags": []
   },
   "outputs": [
    {
     "data": {
      "text/plain": [
       "0.03414422291439792"
      ]
     },
     "execution_count": 301,
     "metadata": {},
     "output_type": "execute_result"
    }
   ],
   "source": [
    "metrics.log_loss(actuals, predictions)"
   ]
  },
  {
   "cell_type": "code",
   "execution_count": 302,
   "id": "bea81c35-23b9-4ff1-8bb9-988381f99260",
   "metadata": {
    "tags": []
   },
   "outputs": [
    {
     "data": {
      "text/plain": [
       "0.9990526980562767"
      ]
     },
     "execution_count": 302,
     "metadata": {},
     "output_type": "execute_result"
    }
   ],
   "source": [
    "metrics.accuracy_score(actuals, predictions)"
   ]
  },
  {
   "cell_type": "code",
   "execution_count": 303,
   "id": "4dd05d09-5cc2-4671-b485-c1ea55aa11b1",
   "metadata": {
    "tags": []
   },
   "outputs": [
    {
     "data": {
      "text/plain": [
       "0.46402359388159564"
      ]
     },
     "execution_count": 303,
     "metadata": {},
     "output_type": "execute_result"
    }
   ],
   "source": [
    "metrics.average_precision_score(actuals, predictions)"
   ]
  },
  {
   "cell_type": "markdown",
   "id": "77589af5-adeb-4ad0-a324-7d689936fa3c",
   "metadata": {},
   "source": [
    "---\n",
    "## Evaluate The Training With Tensorboard (On Vertex AI Experiments)\n",
    "\n",
    "Resource: https://cloud.google.com/vertex-ai/docs/experiments/tensorboard-overview"
   ]
  },
  {
   "cell_type": "code",
   "execution_count": 304,
   "id": "7fe61a04-d057-430c-8cab-22ede95e842f",
   "metadata": {
    "tags": []
   },
   "outputs": [],
   "source": [
    "#aiplatform.upload_tb_log(\n",
    "#    tensorboard_id = tb.name,\n",
    "#    tensorboard_experiment_name = EXPERIMENT_NAME,\n",
    "#    logdir = f'{DIR}/logs',\n",
    "#    experiment_display_name = EXPERIMENT_NAME,\n",
    "#    run_name_prefix = RUN_NAME,\n",
    "#    description = EXPERIMENT_NAME\n",
    "#)"
   ]
  },
  {
   "cell_type": "markdown",
   "id": "c8cc6b44-77b5-4acb-813b-ff332a907985",
   "metadata": {},
   "source": [
    "---\n",
    "## Evaluate The Training With Tensorboard (Local to Notebook)\n",
    "\n",
    "Visual ML\n",
    "\n",
    "Resource: https://www.tensorflow.org/tensorboard/tensorboard_in_notebooks"
   ]
  },
  {
   "cell_type": "code",
   "execution_count": 305,
   "id": "87bd476f-ca49-442f-8524-b762a6b21714",
   "metadata": {
    "tags": []
   },
   "outputs": [
    {
     "name": "stdout",
     "output_type": "stream",
     "text": [
      "The tensorboard extension is already loaded. To reload it, use:\n",
      "  %reload_ext tensorboard\n"
     ]
    }
   ],
   "source": [
    "%load_ext tensorboard"
   ]
  },
  {
   "cell_type": "code",
   "execution_count": null,
   "id": "562c6c6a-4b5e-44b4-aec0-64b449e36feb",
   "metadata": {
    "tags": []
   },
   "outputs": [],
   "source": [
    "%tensorboard --logdir $DIR/logs"
   ]
  },
  {
   "cell_type": "markdown",
   "id": "2913711d",
   "metadata": {},
   "source": [
    "---\n",
    "## Save The Model"
   ]
  },
  {
   "cell_type": "markdown",
   "id": "cd961d36-64ba-43f3-a1e4-395a546846c6",
   "metadata": {},
   "source": [
    "Create Prediction from a batch of the test data and review first row:"
   ]
  },
  {
   "cell_type": "code",
   "execution_count": 307,
   "id": "039c4884",
   "metadata": {
    "tags": []
   },
   "outputs": [
    {
     "name": "stdout",
     "output_type": "stream",
     "text": [
      "1/1 [==============================] - 0s 350ms/step\n"
     ]
    },
    {
     "data": {
      "text/plain": [
       "array([9.992515e-01, 7.486039e-04], dtype=float32)"
      ]
     },
     "execution_count": 307,
     "metadata": {},
     "output_type": "execute_result"
    }
   ],
   "source": [
    "model.predict(test.take(1))[0]"
   ]
  },
  {
   "cell_type": "markdown",
   "id": "060db155",
   "metadata": {},
   "source": [
    "Save The Model"
   ]
  },
  {
   "cell_type": "code",
   "execution_count": 308,
   "id": "81f63da1",
   "metadata": {
    "tags": []
   },
   "outputs": [
    {
     "name": "stdout",
     "output_type": "stream",
     "text": [
      "INFO:tensorflow:Assets written to: gs://statmike-mlops-349915/05/05/models/20231221123117/model/assets\n"
     ]
    },
    {
     "name": "stderr",
     "output_type": "stream",
     "text": [
      "INFO:tensorflow:Assets written to: gs://statmike-mlops-349915/05/05/models/20231221123117/model/assets\n"
     ]
    }
   ],
   "source": [
    "model.save(f'{URI}/models/{TIMESTAMP}/model')"
   ]
  },
  {
   "cell_type": "code",
   "execution_count": 309,
   "id": "2c95f61d-8042-4f86-b85f-78fdd926f8c0",
   "metadata": {
    "tags": []
   },
   "outputs": [],
   "source": [
    "expRun.log_params({'model.save': f'{URI}/models/{TIMESTAMP}/model'})"
   ]
  },
  {
   "cell_type": "markdown",
   "id": "9f30c637-a8c4-47bf-ad9a-88ae6577d212",
   "metadata": {},
   "source": [
    "### Review The Saved Model"
   ]
  },
  {
   "cell_type": "markdown",
   "id": "e4dcc6f5-cdcb-4973-accf-181859e54131",
   "metadata": {},
   "source": [
    "#### Keras Model Load"
   ]
  },
  {
   "cell_type": "code",
   "execution_count": 310,
   "id": "7e6e5588-9e0e-4226-a67a-3423d8f43e46",
   "metadata": {
    "tags": []
   },
   "outputs": [],
   "source": [
    "keras_model = tf.keras.models.load_model(f'{URI}/models/{TIMESTAMP}/model')"
   ]
  },
  {
   "cell_type": "code",
   "execution_count": 311,
   "id": "e4575186-76d3-41da-8a65-94e6c0a2b22e",
   "metadata": {
    "tags": []
   },
   "outputs": [
    {
     "data": {
      "text/plain": [
       "'05'"
      ]
     },
     "execution_count": 311,
     "metadata": {},
     "output_type": "execute_result"
    }
   ],
   "source": [
    "keras_model.name"
   ]
  },
  {
   "cell_type": "code",
   "execution_count": 312,
   "id": "7d64c26b-29f6-4512-a042-6b5680f6106c",
   "metadata": {
    "tags": []
   },
   "outputs": [
    {
     "data": {
      "text/plain": [
       "[<KerasTensor: shape=(None, 1) dtype=float64 (created by layer 'Time')>,\n",
       " <KerasTensor: shape=(None, 1) dtype=float64 (created by layer 'V1')>,\n",
       " <KerasTensor: shape=(None, 1) dtype=float64 (created by layer 'V2')>,\n",
       " <KerasTensor: shape=(None, 1) dtype=float64 (created by layer 'V3')>,\n",
       " <KerasTensor: shape=(None, 1) dtype=float64 (created by layer 'V4')>,\n",
       " <KerasTensor: shape=(None, 1) dtype=float64 (created by layer 'V5')>,\n",
       " <KerasTensor: shape=(None, 1) dtype=float64 (created by layer 'V6')>,\n",
       " <KerasTensor: shape=(None, 1) dtype=float64 (created by layer 'V7')>,\n",
       " <KerasTensor: shape=(None, 1) dtype=float64 (created by layer 'V8')>,\n",
       " <KerasTensor: shape=(None, 1) dtype=float64 (created by layer 'V9')>,\n",
       " <KerasTensor: shape=(None, 1) dtype=float64 (created by layer 'V10')>,\n",
       " <KerasTensor: shape=(None, 1) dtype=float64 (created by layer 'V11')>,\n",
       " <KerasTensor: shape=(None, 1) dtype=float64 (created by layer 'V12')>,\n",
       " <KerasTensor: shape=(None, 1) dtype=float64 (created by layer 'V13')>,\n",
       " <KerasTensor: shape=(None, 1) dtype=float64 (created by layer 'V14')>,\n",
       " <KerasTensor: shape=(None, 1) dtype=float64 (created by layer 'V15')>,\n",
       " <KerasTensor: shape=(None, 1) dtype=float64 (created by layer 'V16')>,\n",
       " <KerasTensor: shape=(None, 1) dtype=float64 (created by layer 'V17')>,\n",
       " <KerasTensor: shape=(None, 1) dtype=float64 (created by layer 'V18')>,\n",
       " <KerasTensor: shape=(None, 1) dtype=float64 (created by layer 'V19')>,\n",
       " <KerasTensor: shape=(None, 1) dtype=float64 (created by layer 'V20')>,\n",
       " <KerasTensor: shape=(None, 1) dtype=float64 (created by layer 'V21')>,\n",
       " <KerasTensor: shape=(None, 1) dtype=float64 (created by layer 'V22')>,\n",
       " <KerasTensor: shape=(None, 1) dtype=float64 (created by layer 'V23')>,\n",
       " <KerasTensor: shape=(None, 1) dtype=float64 (created by layer 'V24')>,\n",
       " <KerasTensor: shape=(None, 1) dtype=float64 (created by layer 'V25')>,\n",
       " <KerasTensor: shape=(None, 1) dtype=float64 (created by layer 'V26')>,\n",
       " <KerasTensor: shape=(None, 1) dtype=float64 (created by layer 'V27')>,\n",
       " <KerasTensor: shape=(None, 1) dtype=float64 (created by layer 'V28')>,\n",
       " <KerasTensor: shape=(None, 1) dtype=float64 (created by layer 'Amount')>]"
      ]
     },
     "execution_count": 312,
     "metadata": {},
     "output_type": "execute_result"
    }
   ],
   "source": [
    "keras_model.inputs"
   ]
  },
  {
   "cell_type": "code",
   "execution_count": 313,
   "id": "7a61a23a-67ab-4766-8ed0-3b28f1a00eda",
   "metadata": {
    "tags": []
   },
   "outputs": [
    {
     "data": {
      "text/plain": [
       "'logistic/Softmax:0'"
      ]
     },
     "execution_count": 313,
     "metadata": {},
     "output_type": "execute_result"
    }
   ],
   "source": [
    "keras_model.output.name"
   ]
  },
  {
   "cell_type": "code",
   "execution_count": 314,
   "id": "8781d622-bea9-477e-a684-eeaecb3c08f2",
   "metadata": {
    "tags": []
   },
   "outputs": [
    {
     "name": "stdout",
     "output_type": "stream",
     "text": [
      "Model: \"05\"\n",
      "__________________________________________________________________________________________________\n",
      " Layer (type)                Output Shape                 Param #   Connected to                  \n",
      "==================================================================================================\n",
      " Time (InputLayer)           [(None, 1)]                  0         []                            \n",
      "                                                                                                  \n",
      " V1 (InputLayer)             [(None, 1)]                  0         []                            \n",
      "                                                                                                  \n",
      " V2 (InputLayer)             [(None, 1)]                  0         []                            \n",
      "                                                                                                  \n",
      " V3 (InputLayer)             [(None, 1)]                  0         []                            \n",
      "                                                                                                  \n",
      " V4 (InputLayer)             [(None, 1)]                  0         []                            \n",
      "                                                                                                  \n",
      " V5 (InputLayer)             [(None, 1)]                  0         []                            \n",
      "                                                                                                  \n",
      " V6 (InputLayer)             [(None, 1)]                  0         []                            \n",
      "                                                                                                  \n",
      " V7 (InputLayer)             [(None, 1)]                  0         []                            \n",
      "                                                                                                  \n",
      " V8 (InputLayer)             [(None, 1)]                  0         []                            \n",
      "                                                                                                  \n",
      " V9 (InputLayer)             [(None, 1)]                  0         []                            \n",
      "                                                                                                  \n",
      " V10 (InputLayer)            [(None, 1)]                  0         []                            \n",
      "                                                                                                  \n",
      " V11 (InputLayer)            [(None, 1)]                  0         []                            \n",
      "                                                                                                  \n",
      " V12 (InputLayer)            [(None, 1)]                  0         []                            \n",
      "                                                                                                  \n",
      " V13 (InputLayer)            [(None, 1)]                  0         []                            \n",
      "                                                                                                  \n",
      " V14 (InputLayer)            [(None, 1)]                  0         []                            \n",
      "                                                                                                  \n",
      " V15 (InputLayer)            [(None, 1)]                  0         []                            \n",
      "                                                                                                  \n",
      " V16 (InputLayer)            [(None, 1)]                  0         []                            \n",
      "                                                                                                  \n",
      " V17 (InputLayer)            [(None, 1)]                  0         []                            \n",
      "                                                                                                  \n",
      " V18 (InputLayer)            [(None, 1)]                  0         []                            \n",
      "                                                                                                  \n",
      " V19 (InputLayer)            [(None, 1)]                  0         []                            \n",
      "                                                                                                  \n",
      " V20 (InputLayer)            [(None, 1)]                  0         []                            \n",
      "                                                                                                  \n",
      " V21 (InputLayer)            [(None, 1)]                  0         []                            \n",
      "                                                                                                  \n",
      " V22 (InputLayer)            [(None, 1)]                  0         []                            \n",
      "                                                                                                  \n",
      " V23 (InputLayer)            [(None, 1)]                  0         []                            \n",
      "                                                                                                  \n",
      " V24 (InputLayer)            [(None, 1)]                  0         []                            \n",
      "                                                                                                  \n",
      " V25 (InputLayer)            [(None, 1)]                  0         []                            \n",
      "                                                                                                  \n",
      " V26 (InputLayer)            [(None, 1)]                  0         []                            \n",
      "                                                                                                  \n",
      " V27 (InputLayer)            [(None, 1)]                  0         []                            \n",
      "                                                                                                  \n",
      " V28 (InputLayer)            [(None, 1)]                  0         []                            \n",
      "                                                                                                  \n",
      " Amount (InputLayer)         [(None, 1)]                  0         []                            \n",
      "                                                                                                  \n",
      " feature_layer (Concatenate  (None, 30)                   0         ['Time[0][0]',                \n",
      " )                                                                   'V1[0][0]',                  \n",
      "                                                                     'V2[0][0]',                  \n",
      "                                                                     'V3[0][0]',                  \n",
      "                                                                     'V4[0][0]',                  \n",
      "                                                                     'V5[0][0]',                  \n",
      "                                                                     'V6[0][0]',                  \n",
      "                                                                     'V7[0][0]',                  \n",
      "                                                                     'V8[0][0]',                  \n",
      "                                                                     'V9[0][0]',                  \n",
      "                                                                     'V10[0][0]',                 \n",
      "                                                                     'V11[0][0]',                 \n",
      "                                                                     'V12[0][0]',                 \n",
      "                                                                     'V13[0][0]',                 \n",
      "                                                                     'V14[0][0]',                 \n",
      "                                                                     'V15[0][0]',                 \n",
      "                                                                     'V16[0][0]',                 \n",
      "                                                                     'V17[0][0]',                 \n",
      "                                                                     'V18[0][0]',                 \n",
      "                                                                     'V19[0][0]',                 \n",
      "                                                                     'V20[0][0]',                 \n",
      "                                                                     'V21[0][0]',                 \n",
      "                                                                     'V22[0][0]',                 \n",
      "                                                                     'V23[0][0]',                 \n",
      "                                                                     'V24[0][0]',                 \n",
      "                                                                     'V25[0][0]',                 \n",
      "                                                                     'V26[0][0]',                 \n",
      "                                                                     'V27[0][0]',                 \n",
      "                                                                     'V28[0][0]',                 \n",
      "                                                                     'Amount[0][0]']              \n",
      "                                                                                                  \n",
      " batch_normalization_layer   (None, 30)                   120       ['feature_layer[0][0]']       \n",
      " (BatchNormalization)                                                                             \n",
      "                                                                                                  \n",
      " logistic (Dense)            (None, 2)                    62        ['batch_normalization_layer[0]\n",
      "                                                                    [0]']                         \n",
      "                                                                                                  \n",
      "==================================================================================================\n",
      "Total params: 182 (728.00 Byte)\n",
      "Trainable params: 122 (488.00 Byte)\n",
      "Non-trainable params: 60 (240.00 Byte)\n",
      "__________________________________________________________________________________________________\n"
     ]
    }
   ],
   "source": [
    "keras_model.summary()"
   ]
  },
  {
   "cell_type": "markdown",
   "id": "892fd452-00a2-4b67-aeb7-f114353623c5",
   "metadata": {},
   "source": [
    "#### TensorFlow Model Load"
   ]
  },
  {
   "cell_type": "code",
   "execution_count": 315,
   "id": "dbc41986-51e0-4358-a8d5-9793dd8f1519",
   "metadata": {
    "tags": []
   },
   "outputs": [],
   "source": [
    "tf_model = tf.saved_model.load(f'{URI}/models/{TIMESTAMP}/model')"
   ]
  },
  {
   "cell_type": "code",
   "execution_count": 316,
   "id": "d05bc0e6-5cd6-4dfa-8f7f-c4a6a119c2f2",
   "metadata": {
    "tags": []
   },
   "outputs": [
    {
     "data": {
      "text/plain": [
       "_SignatureMap({'serving_default': <ConcreteFunction (*, Amount: TensorSpec(shape=(None, 1), dtype=tf.float64, name='amount'), Time: TensorSpec(shape=(None, 1), dtype=tf.float64, name='time'), V1: TensorSpec(shape=(None, 1), dtype=tf.float64, name='v1'), V10: TensorSpec(shape=(None, 1), dtype=tf.float64, name='v10'), V11: TensorSpec(shape=(None, 1), dtype=tf.float64, name='v11'), V12: TensorSpec(shape=(None, 1), dtype=tf.float64, name='v12'), V13: TensorSpec(shape=(None, 1), dtype=tf.float64, name='v13'), V14: TensorSpec(shape=(None, 1), dtype=tf.float64, name='v14'), V15: TensorSpec(shape=(None, 1), dtype=tf.float64, name='v15'), V16: TensorSpec(shape=(None, 1), dtype=tf.float64, name='v16'), V17: TensorSpec(shape=(None, 1), dtype=tf.float64, name='v17'), V18: TensorSpec(shape=(None, 1), dtype=tf.float64, name='v18'), V19: TensorSpec(shape=(None, 1), dtype=tf.float64, name='v19'), V2: TensorSpec(shape=(None, 1), dtype=tf.float64, name='v2'), V20: TensorSpec(shape=(None, 1), dtype=tf.float64, name='v20'), V21: TensorSpec(shape=(None, 1), dtype=tf.float64, name='v21'), V22: TensorSpec(shape=(None, 1), dtype=tf.float64, name='v22'), V23: TensorSpec(shape=(None, 1), dtype=tf.float64, name='v23'), V24: TensorSpec(shape=(None, 1), dtype=tf.float64, name='v24'), V25: TensorSpec(shape=(None, 1), dtype=tf.float64, name='v25'), V26: TensorSpec(shape=(None, 1), dtype=tf.float64, name='v26'), V27: TensorSpec(shape=(None, 1), dtype=tf.float64, name='v27'), V28: TensorSpec(shape=(None, 1), dtype=tf.float64, name='v28'), V3: TensorSpec(shape=(None, 1), dtype=tf.float64, name='v3'), V4: TensorSpec(shape=(None, 1), dtype=tf.float64, name='v4'), V5: TensorSpec(shape=(None, 1), dtype=tf.float64, name='v5'), V6: TensorSpec(shape=(None, 1), dtype=tf.float64, name='v6'), V7: TensorSpec(shape=(None, 1), dtype=tf.float64, name='v7'), V8: TensorSpec(shape=(None, 1), dtype=tf.float64, name='v8'), V9: TensorSpec(shape=(None, 1), dtype=tf.float64, name='v9')) -> Dict[['logistic', TensorSpec(shape=(None, 2), dtype=tf.float32, name='logistic')]] at 0x7F7C6C56AAD0>})"
      ]
     },
     "execution_count": 316,
     "metadata": {},
     "output_type": "execute_result"
    }
   ],
   "source": [
    "tf_model.signatures"
   ]
  },
  {
   "cell_type": "code",
   "execution_count": 317,
   "id": "e7561b4b-cff3-422e-91f6-62b74ff42330",
   "metadata": {
    "tags": []
   },
   "outputs": [
    {
     "data": {
      "text/plain": [
       "<ConcreteFunction (*, Amount: TensorSpec(shape=(None, 1), dtype=tf.float64, name='amount'), Time: TensorSpec(shape=(None, 1), dtype=tf.float64, name='time'), V1: TensorSpec(shape=(None, 1), dtype=tf.float64, name='v1'), V10: TensorSpec(shape=(None, 1), dtype=tf.float64, name='v10'), V11: TensorSpec(shape=(None, 1), dtype=tf.float64, name='v11'), V12: TensorSpec(shape=(None, 1), dtype=tf.float64, name='v12'), V13: TensorSpec(shape=(None, 1), dtype=tf.float64, name='v13'), V14: TensorSpec(shape=(None, 1), dtype=tf.float64, name='v14'), V15: TensorSpec(shape=(None, 1), dtype=tf.float64, name='v15'), V16: TensorSpec(shape=(None, 1), dtype=tf.float64, name='v16'), V17: TensorSpec(shape=(None, 1), dtype=tf.float64, name='v17'), V18: TensorSpec(shape=(None, 1), dtype=tf.float64, name='v18'), V19: TensorSpec(shape=(None, 1), dtype=tf.float64, name='v19'), V2: TensorSpec(shape=(None, 1), dtype=tf.float64, name='v2'), V20: TensorSpec(shape=(None, 1), dtype=tf.float64, name='v20'), V21: TensorSpec(shape=(None, 1), dtype=tf.float64, name='v21'), V22: TensorSpec(shape=(None, 1), dtype=tf.float64, name='v22'), V23: TensorSpec(shape=(None, 1), dtype=tf.float64, name='v23'), V24: TensorSpec(shape=(None, 1), dtype=tf.float64, name='v24'), V25: TensorSpec(shape=(None, 1), dtype=tf.float64, name='v25'), V26: TensorSpec(shape=(None, 1), dtype=tf.float64, name='v26'), V27: TensorSpec(shape=(None, 1), dtype=tf.float64, name='v27'), V28: TensorSpec(shape=(None, 1), dtype=tf.float64, name='v28'), V3: TensorSpec(shape=(None, 1), dtype=tf.float64, name='v3'), V4: TensorSpec(shape=(None, 1), dtype=tf.float64, name='v4'), V5: TensorSpec(shape=(None, 1), dtype=tf.float64, name='v5'), V6: TensorSpec(shape=(None, 1), dtype=tf.float64, name='v6'), V7: TensorSpec(shape=(None, 1), dtype=tf.float64, name='v7'), V8: TensorSpec(shape=(None, 1), dtype=tf.float64, name='v8'), V9: TensorSpec(shape=(None, 1), dtype=tf.float64, name='v9')) -> Dict[['logistic', TensorSpec(shape=(None, 2), dtype=tf.float32, name='logistic')]] at 0x7F7C6C56AAD0>"
      ]
     },
     "execution_count": 317,
     "metadata": {},
     "output_type": "execute_result"
    }
   ],
   "source": [
    "tf_model.signatures['serving_default']"
   ]
  },
  {
   "cell_type": "code",
   "execution_count": 318,
   "id": "14cba705-7dd4-469f-b015-5dabb0436116",
   "metadata": {
    "tags": []
   },
   "outputs": [
    {
     "data": {
      "text/plain": [
       "dict_keys(['V23', 'V21', 'Amount', 'V15', 'V24', 'V6', 'V11', 'V8', 'V12', 'V14', 'V28', 'V20', 'V13', 'V9', 'V22', 'V25', 'V10', 'V3', 'V7', 'V19', 'V17', 'V5', 'V2', 'V4', 'V1', 'V16', 'V26', 'Time', 'V27', 'V18'])"
      ]
     },
     "execution_count": 318,
     "metadata": {},
     "output_type": "execute_result"
    }
   ],
   "source": [
    "tf_model.signatures['serving_default'].structured_input_signature[1].keys()"
   ]
  },
  {
   "cell_type": "code",
   "execution_count": 319,
   "id": "990d3424-951a-494d-91cd-5801f29ed0c3",
   "metadata": {
    "tags": []
   },
   "outputs": [
    {
     "data": {
      "text/plain": [
       "{'logistic': TensorSpec(shape=(None, 2), dtype=tf.float32, name='logistic')}"
      ]
     },
     "execution_count": 319,
     "metadata": {},
     "output_type": "execute_result"
    }
   ],
   "source": [
    "tf_model.signatures['serving_default'].structured_outputs"
   ]
  },
  {
   "cell_type": "markdown",
   "id": "d7cd70f0-ae0c-4a14-b5df-3c71742f97cc",
   "metadata": {},
   "source": [
    "#### TensorFlow SavedModel CLI\n",
    "\n",
    "To see the input and output specification for the TensorFlow model use the [SavedModel CLI](https://www.tensorflow.org/guide/saved_model#details_of_the_savedmodel_command_line_interface):"
   ]
  },
  {
   "cell_type": "code",
   "execution_count": 320,
   "id": "a549ef5d-1d4c-4e8c-ba44-5dda57190479",
   "metadata": {
    "tags": []
   },
   "outputs": [
    {
     "name": "stdout",
     "output_type": "stream",
     "text": [
      "\n",
      "MetaGraphDef with tag-set: 'serve' contains the following SignatureDefs:\n",
      "\n",
      "signature_def['__saved_model_init_op']:\n",
      "  The given SavedModel SignatureDef contains the following input(s):\n",
      "  The given SavedModel SignatureDef contains the following output(s):\n",
      "    outputs['__saved_model_init_op'] tensor_info:\n",
      "        dtype: DT_INVALID\n",
      "        shape: unknown_rank\n",
      "        name: NoOp\n",
      "  Method name is: \n",
      "\n",
      "signature_def['serving_default']:\n",
      "  The given SavedModel SignatureDef contains the following input(s):\n",
      "    inputs['Amount'] tensor_info:\n",
      "        dtype: DT_DOUBLE\n",
      "        shape: (-1, 1)\n",
      "        name: serving_default_Amount:0\n",
      "    inputs['Time'] tensor_info:\n",
      "        dtype: DT_DOUBLE\n",
      "        shape: (-1, 1)\n",
      "        name: serving_default_Time:0\n",
      "    inputs['V1'] tensor_info:\n",
      "        dtype: DT_DOUBLE\n",
      "        shape: (-1, 1)\n",
      "        name: serving_default_V1:0\n",
      "    inputs['V10'] tensor_info:\n",
      "        dtype: DT_DOUBLE\n",
      "        shape: (-1, 1)\n",
      "        name: serving_default_V10:0\n",
      "    inputs['V11'] tensor_info:\n",
      "        dtype: DT_DOUBLE\n",
      "        shape: (-1, 1)\n",
      "        name: serving_default_V11:0\n",
      "    inputs['V12'] tensor_info:\n",
      "        dtype: DT_DOUBLE\n",
      "        shape: (-1, 1)\n",
      "        name: serving_default_V12:0\n",
      "    inputs['V13'] tensor_info:\n",
      "        dtype: DT_DOUBLE\n",
      "        shape: (-1, 1)\n",
      "        name: serving_default_V13:0\n",
      "    inputs['V14'] tensor_info:\n",
      "        dtype: DT_DOUBLE\n",
      "        shape: (-1, 1)\n",
      "        name: serving_default_V14:0\n",
      "    inputs['V15'] tensor_info:\n",
      "        dtype: DT_DOUBLE\n",
      "        shape: (-1, 1)\n",
      "        name: serving_default_V15:0\n",
      "    inputs['V16'] tensor_info:\n",
      "        dtype: DT_DOUBLE\n",
      "        shape: (-1, 1)\n",
      "        name: serving_default_V16:0\n",
      "    inputs['V17'] tensor_info:\n",
      "        dtype: DT_DOUBLE\n",
      "        shape: (-1, 1)\n",
      "        name: serving_default_V17:0\n",
      "    inputs['V18'] tensor_info:\n",
      "        dtype: DT_DOUBLE\n",
      "        shape: (-1, 1)\n",
      "        name: serving_default_V18:0\n",
      "    inputs['V19'] tensor_info:\n",
      "        dtype: DT_DOUBLE\n",
      "        shape: (-1, 1)\n",
      "        name: serving_default_V19:0\n",
      "    inputs['V2'] tensor_info:\n",
      "        dtype: DT_DOUBLE\n",
      "        shape: (-1, 1)\n",
      "        name: serving_default_V2:0\n",
      "    inputs['V20'] tensor_info:\n",
      "        dtype: DT_DOUBLE\n",
      "        shape: (-1, 1)\n",
      "        name: serving_default_V20:0\n",
      "    inputs['V21'] tensor_info:\n",
      "        dtype: DT_DOUBLE\n",
      "        shape: (-1, 1)\n",
      "        name: serving_default_V21:0\n",
      "    inputs['V22'] tensor_info:\n",
      "        dtype: DT_DOUBLE\n",
      "        shape: (-1, 1)\n",
      "        name: serving_default_V22:0\n",
      "    inputs['V23'] tensor_info:\n",
      "        dtype: DT_DOUBLE\n",
      "        shape: (-1, 1)\n",
      "        name: serving_default_V23:0\n",
      "    inputs['V24'] tensor_info:\n",
      "        dtype: DT_DOUBLE\n",
      "        shape: (-1, 1)\n",
      "        name: serving_default_V24:0\n",
      "    inputs['V25'] tensor_info:\n",
      "        dtype: DT_DOUBLE\n",
      "        shape: (-1, 1)\n",
      "        name: serving_default_V25:0\n",
      "    inputs['V26'] tensor_info:\n",
      "        dtype: DT_DOUBLE\n",
      "        shape: (-1, 1)\n",
      "        name: serving_default_V26:0\n",
      "    inputs['V27'] tensor_info:\n",
      "        dtype: DT_DOUBLE\n",
      "        shape: (-1, 1)\n",
      "        name: serving_default_V27:0\n",
      "    inputs['V28'] tensor_info:\n",
      "        dtype: DT_DOUBLE\n",
      "        shape: (-1, 1)\n",
      "        name: serving_default_V28:0\n",
      "    inputs['V3'] tensor_info:\n",
      "        dtype: DT_DOUBLE\n",
      "        shape: (-1, 1)\n",
      "        name: serving_default_V3:0\n",
      "    inputs['V4'] tensor_info:\n",
      "        dtype: DT_DOUBLE\n",
      "        shape: (-1, 1)\n",
      "        name: serving_default_V4:0\n",
      "    inputs['V5'] tensor_info:\n",
      "        dtype: DT_DOUBLE\n",
      "        shape: (-1, 1)\n",
      "        name: serving_default_V5:0\n",
      "    inputs['V6'] tensor_info:\n",
      "        dtype: DT_DOUBLE\n",
      "        shape: (-1, 1)\n",
      "        name: serving_default_V6:0\n",
      "    inputs['V7'] tensor_info:\n",
      "        dtype: DT_DOUBLE\n",
      "        shape: (-1, 1)\n",
      "        name: serving_default_V7:0\n",
      "    inputs['V8'] tensor_info:\n",
      "        dtype: DT_DOUBLE\n",
      "        shape: (-1, 1)\n",
      "        name: serving_default_V8:0\n",
      "    inputs['V9'] tensor_info:\n",
      "        dtype: DT_DOUBLE\n",
      "        shape: (-1, 1)\n",
      "        name: serving_default_V9:0\n",
      "  The given SavedModel SignatureDef contains the following output(s):\n",
      "    outputs['logistic'] tensor_info:\n",
      "        dtype: DT_FLOAT\n",
      "        shape: (-1, 2)\n",
      "        name: StatefulPartitionedCall:0\n",
      "  Method name is: tensorflow/serving/predict\n",
      "The MetaGraph with tag set ['serve'] contains the following ops: {'AssignVariableOp', 'Identity', 'ReadVariableOp', 'RestoreV2', 'ConcatV2', 'Pack', 'StringJoin', 'Placeholder', 'Select', 'SaveV2', 'MergeV2Checkpoints', 'StaticRegexFullMatch', 'DisableCopyOnRead', 'Sub', 'VarHandleOp', 'Cast', 'StatefulPartitionedCall', 'Const', 'Mul', 'ShardedFilename', 'AddV2', 'BiasAdd', 'Softmax', 'NoOp', 'Rsqrt', 'MatMul'}\n",
      "\n",
      "Concrete Functions:\n",
      "  Function Name: '__call__'\n",
      "    Option #1\n",
      "      Callable with:\n",
      "        Argument #1\n",
      "          DType: list\n",
      "          Value: [TensorSpec(shape=(None, 1), dtype=tf.float64, name='Time'), TensorSpec(shape=(None, 1), dtype=tf.float64, name='V1'), TensorSpec(shape=(None, 1), dtype=tf.float64, name='V2'), TensorSpec(shape=(None, 1), dtype=tf.float64, name='V3'), TensorSpec(shape=(None, 1), dtype=tf.float64, name='V4'), TensorSpec(shape=(None, 1), dtype=tf.float64, name='V5'), TensorSpec(shape=(None, 1), dtype=tf.float64, name='V6'), TensorSpec(shape=(None, 1), dtype=tf.float64, name='V7'), TensorSpec(shape=(None, 1), dtype=tf.float64, name='V8'), TensorSpec(shape=(None, 1), dtype=tf.float64, name='V9'), TensorSpec(shape=(None, 1), dtype=tf.float64, name='V10'), TensorSpec(shape=(None, 1), dtype=tf.float64, name='V11'), TensorSpec(shape=(None, 1), dtype=tf.float64, name='V12'), TensorSpec(shape=(None, 1), dtype=tf.float64, name='V13'), TensorSpec(shape=(None, 1), dtype=tf.float64, name='V14'), TensorSpec(shape=(None, 1), dtype=tf.float64, name='V15'), TensorSpec(shape=(None, 1), dtype=tf.float64, name='V16'), TensorSpec(shape=(None, 1), dtype=tf.float64, name='V17'), TensorSpec(shape=(None, 1), dtype=tf.float64, name='V18'), TensorSpec(shape=(None, 1), dtype=tf.float64, name='V19'), TensorSpec(shape=(None, 1), dtype=tf.float64, name='V20'), TensorSpec(shape=(None, 1), dtype=tf.float64, name='V21'), TensorSpec(shape=(None, 1), dtype=tf.float64, name='V22'), TensorSpec(shape=(None, 1), dtype=tf.float64, name='V23'), TensorSpec(shape=(None, 1), dtype=tf.float64, name='V24'), TensorSpec(shape=(None, 1), dtype=tf.float64, name='V25'), TensorSpec(shape=(None, 1), dtype=tf.float64, name='V26'), TensorSpec(shape=(None, 1), dtype=tf.float64, name='V27'), TensorSpec(shape=(None, 1), dtype=tf.float64, name='V28'), TensorSpec(shape=(None, 1), dtype=tf.float64, name='Amount')]\n",
      "        Argument #2\n",
      "          DType: bool\n",
      "          Value: True\n",
      "        Argument #3\n",
      "          DType: NoneType\n",
      "          Value: None\n",
      "    Option #2\n",
      "      Callable with:\n",
      "        Argument #1\n",
      "          DType: list\n",
      "          Value: [TensorSpec(shape=(None, 1), dtype=tf.float64, name='Time'), TensorSpec(shape=(None, 1), dtype=tf.float64, name='V1'), TensorSpec(shape=(None, 1), dtype=tf.float64, name='V2'), TensorSpec(shape=(None, 1), dtype=tf.float64, name='V3'), TensorSpec(shape=(None, 1), dtype=tf.float64, name='V4'), TensorSpec(shape=(None, 1), dtype=tf.float64, name='V5'), TensorSpec(shape=(None, 1), dtype=tf.float64, name='V6'), TensorSpec(shape=(None, 1), dtype=tf.float64, name='V7'), TensorSpec(shape=(None, 1), dtype=tf.float64, name='V8'), TensorSpec(shape=(None, 1), dtype=tf.float64, name='V9'), TensorSpec(shape=(None, 1), dtype=tf.float64, name='V10'), TensorSpec(shape=(None, 1), dtype=tf.float64, name='V11'), TensorSpec(shape=(None, 1), dtype=tf.float64, name='V12'), TensorSpec(shape=(None, 1), dtype=tf.float64, name='V13'), TensorSpec(shape=(None, 1), dtype=tf.float64, name='V14'), TensorSpec(shape=(None, 1), dtype=tf.float64, name='V15'), TensorSpec(shape=(None, 1), dtype=tf.float64, name='V16'), TensorSpec(shape=(None, 1), dtype=tf.float64, name='V17'), TensorSpec(shape=(None, 1), dtype=tf.float64, name='V18'), TensorSpec(shape=(None, 1), dtype=tf.float64, name='V19'), TensorSpec(shape=(None, 1), dtype=tf.float64, name='V20'), TensorSpec(shape=(None, 1), dtype=tf.float64, name='V21'), TensorSpec(shape=(None, 1), dtype=tf.float64, name='V22'), TensorSpec(shape=(None, 1), dtype=tf.float64, name='V23'), TensorSpec(shape=(None, 1), dtype=tf.float64, name='V24'), TensorSpec(shape=(None, 1), dtype=tf.float64, name='V25'), TensorSpec(shape=(None, 1), dtype=tf.float64, name='V26'), TensorSpec(shape=(None, 1), dtype=tf.float64, name='V27'), TensorSpec(shape=(None, 1), dtype=tf.float64, name='V28'), TensorSpec(shape=(None, 1), dtype=tf.float64, name='Amount')]\n",
      "        Argument #2\n",
      "          DType: bool\n",
      "          Value: False\n",
      "        Argument #3\n",
      "          DType: NoneType\n",
      "          Value: None\n",
      "\n",
      "  Function Name: '_default_save_signature'\n",
      "    Option #1\n",
      "      Callable with:\n",
      "        Argument #1\n",
      "          DType: list\n",
      "          Value: [TensorSpec(shape=(None, 1), dtype=tf.float64, name='Time'), TensorSpec(shape=(None, 1), dtype=tf.float64, name='V1'), TensorSpec(shape=(None, 1), dtype=tf.float64, name='V2'), TensorSpec(shape=(None, 1), dtype=tf.float64, name='V3'), TensorSpec(shape=(None, 1), dtype=tf.float64, name='V4'), TensorSpec(shape=(None, 1), dtype=tf.float64, name='V5'), TensorSpec(shape=(None, 1), dtype=tf.float64, name='V6'), TensorSpec(shape=(None, 1), dtype=tf.float64, name='V7'), TensorSpec(shape=(None, 1), dtype=tf.float64, name='V8'), TensorSpec(shape=(None, 1), dtype=tf.float64, name='V9'), TensorSpec(shape=(None, 1), dtype=tf.float64, name='V10'), TensorSpec(shape=(None, 1), dtype=tf.float64, name='V11'), TensorSpec(shape=(None, 1), dtype=tf.float64, name='V12'), TensorSpec(shape=(None, 1), dtype=tf.float64, name='V13'), TensorSpec(shape=(None, 1), dtype=tf.float64, name='V14'), TensorSpec(shape=(None, 1), dtype=tf.float64, name='V15'), TensorSpec(shape=(None, 1), dtype=tf.float64, name='V16'), TensorSpec(shape=(None, 1), dtype=tf.float64, name='V17'), TensorSpec(shape=(None, 1), dtype=tf.float64, name='V18'), TensorSpec(shape=(None, 1), dtype=tf.float64, name='V19'), TensorSpec(shape=(None, 1), dtype=tf.float64, name='V20'), TensorSpec(shape=(None, 1), dtype=tf.float64, name='V21'), TensorSpec(shape=(None, 1), dtype=tf.float64, name='V22'), TensorSpec(shape=(None, 1), dtype=tf.float64, name='V23'), TensorSpec(shape=(None, 1), dtype=tf.float64, name='V24'), TensorSpec(shape=(None, 1), dtype=tf.float64, name='V25'), TensorSpec(shape=(None, 1), dtype=tf.float64, name='V26'), TensorSpec(shape=(None, 1), dtype=tf.float64, name='V27'), TensorSpec(shape=(None, 1), dtype=tf.float64, name='V28'), TensorSpec(shape=(None, 1), dtype=tf.float64, name='Amount')]\n",
      "\n",
      "  Function Name: 'call_and_return_all_conditional_losses'\n",
      "    Option #1\n",
      "      Callable with:\n",
      "        Argument #1\n",
      "          DType: list\n",
      "          Value: [TensorSpec(shape=(None, 1), dtype=tf.float64, name='Time'), TensorSpec(shape=(None, 1), dtype=tf.float64, name='V1'), TensorSpec(shape=(None, 1), dtype=tf.float64, name='V2'), TensorSpec(shape=(None, 1), dtype=tf.float64, name='V3'), TensorSpec(shape=(None, 1), dtype=tf.float64, name='V4'), TensorSpec(shape=(None, 1), dtype=tf.float64, name='V5'), TensorSpec(shape=(None, 1), dtype=tf.float64, name='V6'), TensorSpec(shape=(None, 1), dtype=tf.float64, name='V7'), TensorSpec(shape=(None, 1), dtype=tf.float64, name='V8'), TensorSpec(shape=(None, 1), dtype=tf.float64, name='V9'), TensorSpec(shape=(None, 1), dtype=tf.float64, name='V10'), TensorSpec(shape=(None, 1), dtype=tf.float64, name='V11'), TensorSpec(shape=(None, 1), dtype=tf.float64, name='V12'), TensorSpec(shape=(None, 1), dtype=tf.float64, name='V13'), TensorSpec(shape=(None, 1), dtype=tf.float64, name='V14'), TensorSpec(shape=(None, 1), dtype=tf.float64, name='V15'), TensorSpec(shape=(None, 1), dtype=tf.float64, name='V16'), TensorSpec(shape=(None, 1), dtype=tf.float64, name='V17'), TensorSpec(shape=(None, 1), dtype=tf.float64, name='V18'), TensorSpec(shape=(None, 1), dtype=tf.float64, name='V19'), TensorSpec(shape=(None, 1), dtype=tf.float64, name='V20'), TensorSpec(shape=(None, 1), dtype=tf.float64, name='V21'), TensorSpec(shape=(None, 1), dtype=tf.float64, name='V22'), TensorSpec(shape=(None, 1), dtype=tf.float64, name='V23'), TensorSpec(shape=(None, 1), dtype=tf.float64, name='V24'), TensorSpec(shape=(None, 1), dtype=tf.float64, name='V25'), TensorSpec(shape=(None, 1), dtype=tf.float64, name='V26'), TensorSpec(shape=(None, 1), dtype=tf.float64, name='V27'), TensorSpec(shape=(None, 1), dtype=tf.float64, name='V28'), TensorSpec(shape=(None, 1), dtype=tf.float64, name='Amount')]\n",
      "        Argument #2\n",
      "          DType: bool\n",
      "          Value: True\n",
      "        Argument #3\n",
      "          DType: NoneType\n",
      "          Value: None\n",
      "    Option #2\n",
      "      Callable with:\n",
      "        Argument #1\n",
      "          DType: list\n",
      "          Value: [TensorSpec(shape=(None, 1), dtype=tf.float64, name='Time'), TensorSpec(shape=(None, 1), dtype=tf.float64, name='V1'), TensorSpec(shape=(None, 1), dtype=tf.float64, name='V2'), TensorSpec(shape=(None, 1), dtype=tf.float64, name='V3'), TensorSpec(shape=(None, 1), dtype=tf.float64, name='V4'), TensorSpec(shape=(None, 1), dtype=tf.float64, name='V5'), TensorSpec(shape=(None, 1), dtype=tf.float64, name='V6'), TensorSpec(shape=(None, 1), dtype=tf.float64, name='V7'), TensorSpec(shape=(None, 1), dtype=tf.float64, name='V8'), TensorSpec(shape=(None, 1), dtype=tf.float64, name='V9'), TensorSpec(shape=(None, 1), dtype=tf.float64, name='V10'), TensorSpec(shape=(None, 1), dtype=tf.float64, name='V11'), TensorSpec(shape=(None, 1), dtype=tf.float64, name='V12'), TensorSpec(shape=(None, 1), dtype=tf.float64, name='V13'), TensorSpec(shape=(None, 1), dtype=tf.float64, name='V14'), TensorSpec(shape=(None, 1), dtype=tf.float64, name='V15'), TensorSpec(shape=(None, 1), dtype=tf.float64, name='V16'), TensorSpec(shape=(None, 1), dtype=tf.float64, name='V17'), TensorSpec(shape=(None, 1), dtype=tf.float64, name='V18'), TensorSpec(shape=(None, 1), dtype=tf.float64, name='V19'), TensorSpec(shape=(None, 1), dtype=tf.float64, name='V20'), TensorSpec(shape=(None, 1), dtype=tf.float64, name='V21'), TensorSpec(shape=(None, 1), dtype=tf.float64, name='V22'), TensorSpec(shape=(None, 1), dtype=tf.float64, name='V23'), TensorSpec(shape=(None, 1), dtype=tf.float64, name='V24'), TensorSpec(shape=(None, 1), dtype=tf.float64, name='V25'), TensorSpec(shape=(None, 1), dtype=tf.float64, name='V26'), TensorSpec(shape=(None, 1), dtype=tf.float64, name='V27'), TensorSpec(shape=(None, 1), dtype=tf.float64, name='V28'), TensorSpec(shape=(None, 1), dtype=tf.float64, name='Amount')]\n",
      "        Argument #2\n",
      "          DType: bool\n",
      "          Value: False\n",
      "        Argument #3\n",
      "          DType: NoneType\n",
      "          Value: None\n"
     ]
    }
   ],
   "source": [
    "# Inspect model inputs and outpus with SavedModel CLI\n",
    "!saved_model_cli show --dir {URI}/models/{TIMESTAMP}/model --all"
   ]
  },
  {
   "cell_type": "markdown",
   "id": "93461c88-9668-47bf-afec-cc2578b14670",
   "metadata": {},
   "source": [
    "---\n",
    "## Model Explainability - Feature-Based Attributions\n",
    "\n",
    "This will bring the concepts of [05Tools - Explainability - Feature-Based.ipynb](./05Tools%20-%20Explainability%20-%20Feature-Based.ipynb) into the workflow."
   ]
  },
  {
   "cell_type": "code",
   "execution_count": null,
   "id": "86ba930c-3525-4a98-b1dd-7ab3d1715672",
   "metadata": {},
   "outputs": [],
   "source": []
  },
  {
   "cell_type": "code",
   "execution_count": null,
   "id": "9d1d2efd-4f66-4daa-99f3-48cb14d0c0ad",
   "metadata": {},
   "outputs": [],
   "source": []
  },
  {
   "cell_type": "code",
   "execution_count": null,
   "id": "ed0a86bd-97d7-4407-807d-7956887e2755",
   "metadata": {},
   "outputs": [],
   "source": []
  },
  {
   "cell_type": "markdown",
   "id": "4dc74a2d-53a3-4bc5-9042-032b9a3d3076",
   "metadata": {},
   "source": [
    "---\n",
    "## Serving"
   ]
  },
  {
   "cell_type": "markdown",
   "id": "b1e99b17-f6ab-4ac7-8381-c6f67de733b8",
   "metadata": {},
   "source": [
    "### Choose Computing Environment\n",
    "\n",
    "When using [custom training on Vertex AI](https://cloud.google.com/vertex-ai/docs/training/custom-training-methods) the compute environment is specified as parameters.  At a minimum this will include the [compute resources](https://cloud.google.com/vertex-ai/docs/training/configure-compute) and [container](https://cloud.google.com/vertex-ai/docs/training/configure-container-settings) URIs.\n",
    "\n",
    "This example uses minimal compute with a single node and no accelerators (GPU).\n",
    "\n",
    "For a container, a [pre-built custome training container](https://cloud.google.com/vertex-ai/docs/training/pre-built-containers) for TensorFlow is being used and additional packages are being specified in the jobs parameters. This leads to two important considerations:\n",
    "- What is the Python version on the container? \n",
    "    - This will have an impact when additional packages are being installed and the packages may have version requirments.\n",
    "- What is the framework version on the container?\n",
    "    - Make sure the options you need from a framework are included in the version you pick."
   ]
  },
  {
   "cell_type": "code",
   "execution_count": 321,
   "id": "f1f9a774-7ee5-4255-a4c1-140cdfbbb39e",
   "metadata": {},
   "outputs": [],
   "source": [
    "# Resources\n",
    "#TRAIN_COMPUTE = 'n1-standard-4'\n",
    "DEPLOY_COMPUTE = 'n1-standard-4'\n",
    "#TRAIN_IMAGE = 'us-docker.pkg.dev/vertex-ai/training/tf-cpu.2-11.py310:latest'\n",
    "DEPLOY_IMAGE ='us-docker.pkg.dev/vertex-ai/prediction/tf2-cpu.2-11:latest'"
   ]
  },
  {
   "cell_type": "markdown",
   "id": "10036d46",
   "metadata": {},
   "source": [
    "### Vertex AI Model Registry - Add Model/Version\n",
    "\n",
    "Check to see if this model has been added to the Vertex AI Model Registry previously.  Add the current model as a a new model, or new version on an existing model."
   ]
  },
  {
   "cell_type": "code",
   "execution_count": 322,
   "id": "071c1f72",
   "metadata": {
    "tags": []
   },
   "outputs": [
    {
     "name": "stdout",
     "output_type": "stream",
     "text": [
      "Model Already in Registry:\n",
      "This version already loaded, no action taken.\n"
     ]
    }
   ],
   "source": [
    "modelmatch = aiplatform.Model.list(filter = f'display_name={SERIES}_{EXPERIMENT} AND labels.series={SERIES} AND labels.experiment={EXPERIMENT}')\n",
    "\n",
    "upload_model = True\n",
    "if modelmatch:\n",
    "    print(\"Model Already in Registry:\")\n",
    "    if RUN_NAME in modelmatch[0].version_aliases:\n",
    "        print(\"This version already loaded, no action taken.\")\n",
    "        upload_model = False\n",
    "        model = aiplatform.Model(model_name = modelmatch[0].resource_name)\n",
    "    else:\n",
    "        print('Loading model as new default version.')\n",
    "        parent_model = modelmatch[0].resource_name\n",
    "\n",
    "else:\n",
    "    print('This is a new model, creating in model registry')\n",
    "    parent_model = ''\n",
    "\n",
    "if upload_model:\n",
    "    model = aiplatform.Model.upload(\n",
    "        display_name = f'{SERIES}_{EXPERIMENT}',\n",
    "        model_id = f'model_{SERIES}_{EXPERIMENT}',\n",
    "        parent_model =  parent_model,\n",
    "        serving_container_image_uri = DEPLOY_IMAGE,\n",
    "        artifact_uri = f\"{URI}/models/{TIMESTAMP}/model\",\n",
    "        is_default_version = True,\n",
    "        version_aliases = [RUN_NAME],\n",
    "        version_description = RUN_NAME,\n",
    "        labels = {'series' : f'{SERIES}', 'experiment' : f'{EXPERIMENT}', 'experiment_name' : f'{EXPERIMENT_NAME}', 'run_name' : f'{RUN_NAME}'}        \n",
    "    )"
   ]
  },
  {
   "cell_type": "markdown",
   "id": "3818d8eb-b15e-472f-90ff-b68cda9b4a2b",
   "metadata": {},
   "source": [
    ">**Note** on Version Aliases:\n",
    ">Expectation is a name starting with `a-z` that can include `[a-zA-Z0-9-]`\n",
    ">\n",
    ">**Retrieve a Model Resource**\n",
    ">[aiplatform.Model()](https://cloud.google.com/python/docs/reference/aiplatform/latest/google.cloud.aiplatform.Model)\n",
    ">```Python\n",
    "model = aiplatform.Model(model_name = f'model_{SERIES}_{EXPERIMENT}') # retrieves default version\n",
    "model = aiplatform.Model(model_name = f'model_{SERIES}_{EXPERIMENT}@time-{TIMESTAMP}') # retrieves specific version\n",
    "model = aiplatform.Model(model_name = f'model_{SERIES}_{EXPERIMENT}', version = f'time-{TIMESTAMP}') # retrieves specific version\n",
    "```"
   ]
  },
  {
   "cell_type": "code",
   "execution_count": 323,
   "id": "b8b81f87-8a02-4bea-a105-c72366488f1e",
   "metadata": {
    "tags": []
   },
   "outputs": [
    {
     "name": "stdout",
     "output_type": "stream",
     "text": [
      "Review the model in the Vertex AI Model Registry:\n",
      "https://console.cloud.google.com/vertex-ai/locations/us-central1/models/model_05_05?project=statmike-mlops-349915\n"
     ]
    }
   ],
   "source": [
    "print(f'Review the model in the Vertex AI Model Registry:\\nhttps://console.cloud.google.com/vertex-ai/locations/{REGION}/models/{model.name}?project={PROJECT_ID}')"
   ]
  },
  {
   "cell_type": "markdown",
   "id": "9239cefe-df02-4b6d-9433-8ab927ef191d",
   "metadata": {},
   "source": [
    "### Add Custom Model Evaluation to The Model Registry\n",
    "\n",
    "The initial evauation of the model was done right after training.  Some of the metrics were written to Vertex AI Experiments above as part of this run.  This section will write evaluation metrics directly to the Model Registry to accompany this version of the trained model.\n",
    "\n",
    "**Resources:**\n",
    "- Doc: [Model Evaluation in Vertex AI](https://cloud.google.com/vertex-ai/docs/evaluation/introduction#tabular)\n",
    "- API: [aiplatform.gapic.ModelServiceClient.import_model_evaluation](https://cloud.google.com/python/docs/reference/aiplatform/latest/google.cloud.aiplatform_v1.services.model_service.ModelServiceClient#google_cloud_aiplatform_v1_services_model_service_ModelServiceClient_import_model_evaluation)\n",
    "- Example: [Get started with importing a custom model evaluation to the Vertex AI Model Registry](https://github.com/GoogleCloudPlatform/vertex-ai-samples/blob/main/notebooks/official/model_evaluation/get_started_with_custom_model_evaluation_import.ipynb)\n",
    "\n",
    "**Helpful Notes:**\n",
    "- Evaluations are loaded to a versioned model in the Vertex AI Model Registry.\n",
    "- Multiple evaluations can be loaded for the same model and version.\n",
    "- When loading an evaluation you must provide a schema file for the parameter `metrics_schema_uri`.\n",
    "- A complete list of these is provided by the Doc link above and can be directly reviewed at this [public GCS bucket](https://console.cloud.google.com/storage/browser/google-cloud-aiplatform/schema/modelevaluation).\n",
    "    - Make sure to use the `gsutil URI` in the API call."
   ]
  },
  {
   "cell_type": "markdown",
   "id": "05bc4bcd-81da-49e9-853e-e607d3918950",
   "metadata": {},
   "source": [
    "Prepare metrics across a range of confidence thresholds:"
   ]
  },
  {
   "cell_type": "code",
   "execution_count": 324,
   "id": "e84042aa-1389-4b07-8a95-54eb0c58c63d",
   "metadata": {
    "tags": []
   },
   "outputs": [],
   "source": [
    "cm = []\n",
    "#for threshold in np.linspace(-0.005, 1.005, 202):\n",
    "for x in range(0, 203):\n",
    "    threshold = round(-0.005+x*0.005, 3)\n",
    "    preds = (predictions_proba < threshold).astype('float')\n",
    "    conmatrix = metrics.confusion_matrix(actuals, preds).astype(int)\n",
    "    FP = conmatrix.sum(axis = 0) - np.diag(conmatrix)\n",
    "    FP = FP[-1]\n",
    "    FN = conmatrix.sum(axis = 1) - np.diag(conmatrix)\n",
    "    FN = FN[-1]\n",
    "    TP = np.diag(conmatrix)\n",
    "    TP = TP[-1]\n",
    "    TN = conmatrix.sum() - (FP + FN + TP)\n",
    "    confidenceThreshold = threshold\n",
    "    if np.unique(preds).size < np.unique(actuals).size: precision = 0\n",
    "    else: precision = metrics.precision_score(actuals, preds)\n",
    "    recall = metrics.recall_score(actuals, preds)\n",
    "    \n",
    "    if precision > 0 or recall > 0:\n",
    "        if confidenceThreshold > 0 or confidenceThreshold < 0: current_threshold = {\"confidenceThreshold\": threshold}\n",
    "        else: current_threshold = {}\n",
    "        if precision > 0: current_threshold['precision'] = precision\n",
    "        if recall > 0: current_threshold['recall'] = recall\n",
    "        falsePositiveRate = FP / (FP + TN)\n",
    "        if falsePositiveRate > 0: current_threshold['falsePositiveRate'] = falsePositiveRate\n",
    "        f1score = metrics.f1_score(actuals, preds)\n",
    "        if f1score > 0: current_threshold['f1Score'] = f1score\n",
    "        truePositiveCount = TP\n",
    "        if truePositiveCount > 0: current_threshold['truePositiveCount'] = str(truePositiveCount)\n",
    "        falsePositiveCount = FP\n",
    "        if falsePositiveCount > 0: current_threshold['falsePositiveCount'] = str(falsePositiveCount)\n",
    "        trueNegativeCount = TN\n",
    "        if trueNegativeCount > 0: current_threshold['trueNegativeCount'] = str(trueNegativeCount)\n",
    "        falseNegativeCount = FN\n",
    "        if falseNegativeCount > 0: current_threshold['falseNegativeCount'] = str(falseNegativeCount)\n",
    "\n",
    "        current_threshold.update({\n",
    "            \"confusionMatrix\": {\n",
    "                \"annotationSpecs\": [{\"id\": \"0\", \"displayName\": '0'}, {\"id\": \"1\", \"displayName\": '1'}],\n",
    "                \"rows\": [{\"dataItemCounts\": row} for row in conmatrix.tolist()]\n",
    "            }\n",
    "        })\n",
    "        cm.append(current_threshold)"
   ]
  },
  {
   "cell_type": "code",
   "execution_count": 325,
   "id": "37f1c882-e9cd-408d-9c3e-955023e7b143",
   "metadata": {
    "tags": []
   },
   "outputs": [
    {
     "data": {
      "text/plain": [
       "{'confidenceThreshold': 0.535,\n",
       " 'precision': 0.25,\n",
       " 'recall': 0.02127659574468085,\n",
       " 'falsePositiveRate': 0.00010542962572482868,\n",
       " 'f1Score': 0.0392156862745098,\n",
       " 'truePositiveCount': '1',\n",
       " 'falsePositiveCount': '3',\n",
       " 'trueNegativeCount': '28452',\n",
       " 'falseNegativeCount': '46',\n",
       " 'confusionMatrix': {'annotationSpecs': [{'id': '0', 'displayName': '0'},\n",
       "   {'id': '1', 'displayName': '1'}],\n",
       "  'rows': [{'dataItemCounts': [28452, 3]}, {'dataItemCounts': [46, 1]}]}}"
      ]
     },
     "execution_count": 325,
     "metadata": {},
     "output_type": "execute_result"
    }
   ],
   "source": [
    "cm[0]"
   ]
  },
  {
   "cell_type": "markdown",
   "id": "2eb524d5-c9b4-4e35-9ee2-952fdcdc37d8",
   "metadata": {},
   "source": [
    "Combine overall metrics with metrics across thresholds:"
   ]
  },
  {
   "cell_type": "code",
   "execution_count": 326,
   "id": "fb22b5ec-96e8-47f2-aa75-de9c00ceba51",
   "metadata": {
    "tags": []
   },
   "outputs": [],
   "source": [
    "model_metrics = {\n",
    "    \"auPrc\": metrics.average_precision_score(actuals, predictions),\n",
    "    \"auRoc\": metrics.roc_auc_score(actuals, predictions),\n",
    "    \"logLoss\": metrics.log_loss(actuals, predictions),\n",
    "    \"confidenceMetrics\": cm,\n",
    "    \"confusionMatrix\": {\n",
    "        \"annotationSpecs\": [{\"id\": \"0\", \"displayName\": '0'}, {\"id\": \"1\", \"displayName\": '1'}],\n",
    "        \"rows\": [{\"dataItemCounts\": row} for row in metrics.confusion_matrix(actuals, predictions).astype(int).tolist()]\n",
    "    }\n",
    "}"
   ]
  },
  {
   "cell_type": "markdown",
   "id": "eb46914f-d38f-43ef-9349-e8016a695d3d",
   "metadata": {},
   "source": [
    "Setup the `aiplatform.gapic` (v1) aiplatform client:\n",
    "- more on [API versions](../Tips/aiplatform_notes.md)"
   ]
  },
  {
   "cell_type": "code",
   "execution_count": 327,
   "id": "aa0527a9-59e6-4c56-a5ae-fd623ba33cdb",
   "metadata": {
    "tags": []
   },
   "outputs": [],
   "source": [
    "model_client = aiplatform.gapic.ModelServiceClient(\n",
    "    client_options = {'api_endpoint': f\"{REGION}-aiplatform.googleapis.com\"}\n",
    ")"
   ]
  },
  {
   "cell_type": "code",
   "execution_count": 328,
   "id": "25dc7193-bbcf-49a7-b6f7-1241bf486562",
   "metadata": {
    "tags": []
   },
   "outputs": [],
   "source": [
    "eval_upload = model_client.import_model_evaluation(\n",
    "    parent = model.resource_name,\n",
    "    model_evaluation = aiplatform.gapic.ModelEvaluation(\n",
    "        display_name = 'custom_at_training',\n",
    "        metrics_schema_uri = 'gs://google-cloud-aiplatform/schema/modelevaluation/classification_metrics_1.0.0.yaml',\n",
    "        metrics = model_metrics\n",
    "    )\n",
    ")"
   ]
  },
  {
   "cell_type": "code",
   "execution_count": 329,
   "id": "7d10c1b4-8570-4a63-8714-2a09c232d31a",
   "metadata": {
    "tags": []
   },
   "outputs": [
    {
     "name": "stdout",
     "output_type": "stream",
     "text": [
      "Review the evaluation in the Vertex AI Console:\n",
      "https://console.cloud.google.com/vertex-ai/locations/us-central1/models/model_05_05/versions/18/evaluations/5548111393332745291?project=statmike-mlops-349915\n"
     ]
    }
   ],
   "source": [
    "print(f\"Review the evaluation in the Vertex AI Console:\\nhttps://console.cloud.google.com/vertex-ai/locations/{REGION}/models/{model.name}/versions/{model.version_id}/evaluations/{eval_upload.name.split('/')[-1]}?project={PROJECT_ID}\")"
   ]
  },
  {
   "cell_type": "markdown",
   "id": "c71483e3-3e22-4e81-9ac6-b99e85008f6f",
   "metadata": {},
   "source": [
    "<p align=\"center\" width=\"100%\"><center><img src=\"../architectures/notebooks/05/05_eval.png\" width=\"75%\"></center></p>"
   ]
  },
  {
   "cell_type": "markdown",
   "id": "8402f4f5-38e3-4815-b588-86f0d748f9ce",
   "metadata": {},
   "source": [
    "### Vertex AI Experiments - Update and Review"
   ]
  },
  {
   "cell_type": "code",
   "execution_count": 330,
   "id": "5245e40a-ada2-4bfe-bff7-c6b6f4d96a6f",
   "metadata": {
    "tags": []
   },
   "outputs": [],
   "source": [
    "expRun.log_params({\n",
    "    'model.uri': model.uri,\n",
    "    'model.display_name': model.display_name,\n",
    "    'model.name': model.name,\n",
    "    'model.resource_name': model.resource_name,\n",
    "    'model.version_id': model.version_id,\n",
    "    'model.versioned_resource_name': model.versioned_resource_name\n",
    "})"
   ]
  },
  {
   "cell_type": "markdown",
   "id": "d5a78ce9-6860-4566-90fa-146f9df7f23e",
   "metadata": {},
   "source": [
    "Complete the experiment run:"
   ]
  },
  {
   "cell_type": "code",
   "execution_count": 331,
   "id": "f4134d53-cea2-42da-a4d6-b6c71e835b4d",
   "metadata": {
    "tags": []
   },
   "outputs": [],
   "source": [
    "expRun.update_state(state = aiplatform.gapic.Execution.State.COMPLETE)"
   ]
  },
  {
   "cell_type": "markdown",
   "id": "a9674c8d-0784-489c-a82e-353247cec0db",
   "metadata": {},
   "source": [
    "Retrieve the experiment:"
   ]
  },
  {
   "cell_type": "code",
   "execution_count": 332,
   "id": "57b4e1d3-9836-4aac-9286-c0a07d4ccdf1",
   "metadata": {
    "tags": []
   },
   "outputs": [],
   "source": [
    "exp = aiplatform.Experiment(experiment_name = EXPERIMENT_NAME)"
   ]
  },
  {
   "cell_type": "code",
   "execution_count": 333,
   "id": "f7e87042-6247-4177-8150-c2d07275415b",
   "metadata": {
    "tags": []
   },
   "outputs": [
    {
     "data": {
      "text/plain": [
       "'projects/1026793852137/locations/us-central1/tensorboards/7876136041294331904'"
      ]
     },
     "execution_count": 333,
     "metadata": {},
     "output_type": "execute_result"
    }
   ],
   "source": [
    "exp.backing_tensorboard_resource_name"
   ]
  },
  {
   "cell_type": "code",
   "execution_count": 334,
   "id": "65d603e1-b034-4469-a245-de9ab1334d28",
   "metadata": {
    "tags": []
   },
   "outputs": [
    {
     "data": {
      "text/html": [
       "<div>\n",
       "<style scoped>\n",
       "    .dataframe tbody tr th:only-of-type {\n",
       "        vertical-align: middle;\n",
       "    }\n",
       "\n",
       "    .dataframe tbody tr th {\n",
       "        vertical-align: top;\n",
       "    }\n",
       "\n",
       "    .dataframe thead th {\n",
       "        text-align: right;\n",
       "    }\n",
       "</style>\n",
       "<table border=\"1\" class=\"dataframe\">\n",
       "  <thead>\n",
       "    <tr style=\"text-align: right;\">\n",
       "      <th></th>\n",
       "      <th>experiment_name</th>\n",
       "      <th>run_name</th>\n",
       "      <th>run_type</th>\n",
       "      <th>state</th>\n",
       "      <th>param.training.epochs</th>\n",
       "      <th>param.training.batch_size</th>\n",
       "      <th>param.model.version_id</th>\n",
       "      <th>param.project_id</th>\n",
       "      <th>param.nclasses</th>\n",
       "      <th>param.training.prefetch</th>\n",
       "      <th>...</th>\n",
       "      <th>metric.train_loss</th>\n",
       "      <th>metric.test_accuracy</th>\n",
       "      <th>metric.train_auprc</th>\n",
       "      <th>metric.train_accuracy</th>\n",
       "      <th>time_series_metric.train_loss</th>\n",
       "      <th>time_series_metric.train_auprc</th>\n",
       "      <th>time_series_metric.val_auprc</th>\n",
       "      <th>time_series_metric.val_accuracy</th>\n",
       "      <th>time_series_metric.val_loss</th>\n",
       "      <th>time_series_metric.train_accuracy</th>\n",
       "    </tr>\n",
       "  </thead>\n",
       "  <tbody>\n",
       "    <tr>\n",
       "      <th>0</th>\n",
       "      <td>experiment-05-05-tf-classification-dnn</td>\n",
       "      <td>run-20231221123117</td>\n",
       "      <td>system.ExperimentRun</td>\n",
       "      <td>COMPLETE</td>\n",
       "      <td>4.0</td>\n",
       "      <td>100.0</td>\n",
       "      <td>18</td>\n",
       "      <td>statmike-mlops-349915</td>\n",
       "      <td>2.0</td>\n",
       "      <td>1.0</td>\n",
       "      <td>...</td>\n",
       "      <td>0.008092</td>\n",
       "      <td>0.999053</td>\n",
       "      <td>0.999506</td>\n",
       "      <td>0.998799</td>\n",
       "      <td>0.007805</td>\n",
       "      <td>0.999642</td>\n",
       "      <td>0.999651</td>\n",
       "      <td>0.998902</td>\n",
       "      <td>0.007585</td>\n",
       "      <td>0.998807</td>\n",
       "    </tr>\n",
       "    <tr>\n",
       "      <th>1</th>\n",
       "      <td>experiment-05-05-tf-classification-dnn</td>\n",
       "      <td>run-20231221021319</td>\n",
       "      <td>system.ExperimentRun</td>\n",
       "      <td>COMPLETE</td>\n",
       "      <td>4.0</td>\n",
       "      <td>100.0</td>\n",
       "      <td>17</td>\n",
       "      <td>statmike-mlops-349915</td>\n",
       "      <td>2.0</td>\n",
       "      <td>1.0</td>\n",
       "      <td>...</td>\n",
       "      <td>0.006429</td>\n",
       "      <td>0.999228</td>\n",
       "      <td>0.999488</td>\n",
       "      <td>0.999171</td>\n",
       "      <td>0.005551</td>\n",
       "      <td>0.999649</td>\n",
       "      <td>0.999393</td>\n",
       "      <td>0.999044</td>\n",
       "      <td>0.006782</td>\n",
       "      <td>0.999044</td>\n",
       "    </tr>\n",
       "    <tr>\n",
       "      <th>2</th>\n",
       "      <td>experiment-05-05-tf-classification-dnn</td>\n",
       "      <td>run-20231220214331</td>\n",
       "      <td>system.ExperimentRun</td>\n",
       "      <td>COMPLETE</td>\n",
       "      <td>4.0</td>\n",
       "      <td>100.0</td>\n",
       "      <td>16</td>\n",
       "      <td>statmike-mlops-349915</td>\n",
       "      <td>2.0</td>\n",
       "      <td>1.0</td>\n",
       "      <td>...</td>\n",
       "      <td>0.007772</td>\n",
       "      <td>0.999439</td>\n",
       "      <td>0.999351</td>\n",
       "      <td>0.999250</td>\n",
       "      <td>0.006009</td>\n",
       "      <td>0.999399</td>\n",
       "      <td>0.999323</td>\n",
       "      <td>0.999115</td>\n",
       "      <td>0.006892</td>\n",
       "      <td>0.999123</td>\n",
       "    </tr>\n",
       "    <tr>\n",
       "      <th>3</th>\n",
       "      <td>experiment-05-05-tf-classification-dnn</td>\n",
       "      <td>run-20231220203613</td>\n",
       "      <td>system.ExperimentRun</td>\n",
       "      <td>COMPLETE</td>\n",
       "      <td>4.0</td>\n",
       "      <td>100.0</td>\n",
       "      <td>15</td>\n",
       "      <td>statmike-mlops-349915</td>\n",
       "      <td>2.0</td>\n",
       "      <td>1.0</td>\n",
       "      <td>...</td>\n",
       "      <td>0.008315</td>\n",
       "      <td>0.998947</td>\n",
       "      <td>0.999416</td>\n",
       "      <td>0.998983</td>\n",
       "      <td>0.006853</td>\n",
       "      <td>0.999548</td>\n",
       "      <td>0.999505</td>\n",
       "      <td>0.999009</td>\n",
       "      <td>0.006928</td>\n",
       "      <td>0.998978</td>\n",
       "    </tr>\n",
       "    <tr>\n",
       "      <th>4</th>\n",
       "      <td>experiment-05-05-tf-classification-dnn</td>\n",
       "      <td>run-20231220191718</td>\n",
       "      <td>system.ExperimentRun</td>\n",
       "      <td>COMPLETE</td>\n",
       "      <td>4.0</td>\n",
       "      <td>100.0</td>\n",
       "      <td>14</td>\n",
       "      <td>statmike-mlops-349915</td>\n",
       "      <td>2.0</td>\n",
       "      <td>1.0</td>\n",
       "      <td>...</td>\n",
       "      <td>0.010310</td>\n",
       "      <td>0.999158</td>\n",
       "      <td>0.999185</td>\n",
       "      <td>0.998913</td>\n",
       "      <td>0.007615</td>\n",
       "      <td>0.999285</td>\n",
       "      <td>0.999224</td>\n",
       "      <td>0.998938</td>\n",
       "      <td>0.009775</td>\n",
       "      <td>0.999005</td>\n",
       "    </tr>\n",
       "    <tr>\n",
       "      <th>5</th>\n",
       "      <td>experiment-05-05-tf-classification-dnn</td>\n",
       "      <td>run-20231220190610</td>\n",
       "      <td>system.ExperimentRun</td>\n",
       "      <td>RUNNING</td>\n",
       "      <td>NaN</td>\n",
       "      <td>NaN</td>\n",
       "      <td>NaN</td>\n",
       "      <td>statmike-mlops-349915</td>\n",
       "      <td>2.0</td>\n",
       "      <td>NaN</td>\n",
       "      <td>...</td>\n",
       "      <td>NaN</td>\n",
       "      <td>NaN</td>\n",
       "      <td>NaN</td>\n",
       "      <td>NaN</td>\n",
       "      <td>NaN</td>\n",
       "      <td>NaN</td>\n",
       "      <td>NaN</td>\n",
       "      <td>NaN</td>\n",
       "      <td>NaN</td>\n",
       "      <td>NaN</td>\n",
       "    </tr>\n",
       "    <tr>\n",
       "      <th>6</th>\n",
       "      <td>experiment-05-05-tf-classification-dnn</td>\n",
       "      <td>run-20231215213806</td>\n",
       "      <td>system.ExperimentRun</td>\n",
       "      <td>RUNNING</td>\n",
       "      <td>4.0</td>\n",
       "      <td>100.0</td>\n",
       "      <td>NaN</td>\n",
       "      <td>statmike-mlops-349915</td>\n",
       "      <td>2.0</td>\n",
       "      <td>1.0</td>\n",
       "      <td>...</td>\n",
       "      <td>0.007835</td>\n",
       "      <td>0.999298</td>\n",
       "      <td>0.999295</td>\n",
       "      <td>0.999145</td>\n",
       "      <td>0.005842</td>\n",
       "      <td>0.999471</td>\n",
       "      <td>0.999194</td>\n",
       "      <td>0.999044</td>\n",
       "      <td>0.008222</td>\n",
       "      <td>0.999141</td>\n",
       "    </tr>\n",
       "    <tr>\n",
       "      <th>7</th>\n",
       "      <td>experiment-05-05-tf-classification-dnn</td>\n",
       "      <td>run-20231215213145</td>\n",
       "      <td>system.ExperimentRun</td>\n",
       "      <td>RUNNING</td>\n",
       "      <td>NaN</td>\n",
       "      <td>100.0</td>\n",
       "      <td>NaN</td>\n",
       "      <td>statmike-mlops-349915</td>\n",
       "      <td>2.0</td>\n",
       "      <td>1.0</td>\n",
       "      <td>...</td>\n",
       "      <td>NaN</td>\n",
       "      <td>NaN</td>\n",
       "      <td>NaN</td>\n",
       "      <td>NaN</td>\n",
       "      <td>NaN</td>\n",
       "      <td>NaN</td>\n",
       "      <td>NaN</td>\n",
       "      <td>NaN</td>\n",
       "      <td>NaN</td>\n",
       "      <td>NaN</td>\n",
       "    </tr>\n",
       "    <tr>\n",
       "      <th>8</th>\n",
       "      <td>experiment-05-05-tf-classification-dnn</td>\n",
       "      <td>run-20230928232537</td>\n",
       "      <td>system.ExperimentRun</td>\n",
       "      <td>COMPLETE</td>\n",
       "      <td>4.0</td>\n",
       "      <td>100.0</td>\n",
       "      <td>NaN</td>\n",
       "      <td>statmike-mlops-349915</td>\n",
       "      <td>2.0</td>\n",
       "      <td>1.0</td>\n",
       "      <td>...</td>\n",
       "      <td>0.006084</td>\n",
       "      <td>0.999263</td>\n",
       "      <td>0.999425</td>\n",
       "      <td>0.999277</td>\n",
       "      <td>0.005466</td>\n",
       "      <td>0.999526</td>\n",
       "      <td>0.999511</td>\n",
       "      <td>0.999221</td>\n",
       "      <td>0.005834</td>\n",
       "      <td>0.999224</td>\n",
       "    </tr>\n",
       "    <tr>\n",
       "      <th>9</th>\n",
       "      <td>experiment-05-05-tf-classification-dnn</td>\n",
       "      <td>run-20230928232224</td>\n",
       "      <td>system.ExperimentRun</td>\n",
       "      <td>RUNNING</td>\n",
       "      <td>NaN</td>\n",
       "      <td>NaN</td>\n",
       "      <td>NaN</td>\n",
       "      <td>statmike-mlops-349915</td>\n",
       "      <td>2.0</td>\n",
       "      <td>NaN</td>\n",
       "      <td>...</td>\n",
       "      <td>NaN</td>\n",
       "      <td>NaN</td>\n",
       "      <td>NaN</td>\n",
       "      <td>NaN</td>\n",
       "      <td>NaN</td>\n",
       "      <td>NaN</td>\n",
       "      <td>NaN</td>\n",
       "      <td>NaN</td>\n",
       "      <td>NaN</td>\n",
       "      <td>NaN</td>\n",
       "    </tr>\n",
       "    <tr>\n",
       "      <th>10</th>\n",
       "      <td>experiment-05-05-tf-classification-dnn</td>\n",
       "      <td>run-20230928231922</td>\n",
       "      <td>system.ExperimentRun</td>\n",
       "      <td>RUNNING</td>\n",
       "      <td>NaN</td>\n",
       "      <td>100.0</td>\n",
       "      <td>NaN</td>\n",
       "      <td>statmike-mlops-349915</td>\n",
       "      <td>2.0</td>\n",
       "      <td>1.0</td>\n",
       "      <td>...</td>\n",
       "      <td>NaN</td>\n",
       "      <td>NaN</td>\n",
       "      <td>NaN</td>\n",
       "      <td>NaN</td>\n",
       "      <td>NaN</td>\n",
       "      <td>NaN</td>\n",
       "      <td>NaN</td>\n",
       "      <td>NaN</td>\n",
       "      <td>NaN</td>\n",
       "      <td>NaN</td>\n",
       "    </tr>\n",
       "    <tr>\n",
       "      <th>11</th>\n",
       "      <td>experiment-05-05-tf-classification-dnn</td>\n",
       "      <td>run-20230327115749</td>\n",
       "      <td>system.ExperimentRun</td>\n",
       "      <td>RUNNING</td>\n",
       "      <td>4.0</td>\n",
       "      <td>100.0</td>\n",
       "      <td>NaN</td>\n",
       "      <td>statmike-mlops-349915</td>\n",
       "      <td>2.0</td>\n",
       "      <td>1.0</td>\n",
       "      <td>...</td>\n",
       "      <td>0.007516</td>\n",
       "      <td>0.999193</td>\n",
       "      <td>0.999400</td>\n",
       "      <td>0.999193</td>\n",
       "      <td>0.005903</td>\n",
       "      <td>0.999393</td>\n",
       "      <td>0.999323</td>\n",
       "      <td>0.999044</td>\n",
       "      <td>0.007186</td>\n",
       "      <td>0.999180</td>\n",
       "    </tr>\n",
       "    <tr>\n",
       "      <th>12</th>\n",
       "      <td>experiment-05-05-tf-classification-dnn</td>\n",
       "      <td>run-20230327111418</td>\n",
       "      <td>system.ExperimentRun</td>\n",
       "      <td>COMPLETE</td>\n",
       "      <td>4.0</td>\n",
       "      <td>100.0</td>\n",
       "      <td>12</td>\n",
       "      <td>statmike-mlops-349915</td>\n",
       "      <td>2.0</td>\n",
       "      <td>1.0</td>\n",
       "      <td>...</td>\n",
       "      <td>0.007545</td>\n",
       "      <td>0.999368</td>\n",
       "      <td>0.999399</td>\n",
       "      <td>0.999180</td>\n",
       "      <td>0.006084</td>\n",
       "      <td>0.999499</td>\n",
       "      <td>0.999233</td>\n",
       "      <td>0.999079</td>\n",
       "      <td>0.007015</td>\n",
       "      <td>0.999132</td>\n",
       "    </tr>\n",
       "    <tr>\n",
       "      <th>13</th>\n",
       "      <td>experiment-05-05-tf-classification-dnn</td>\n",
       "      <td>run-20230327110946</td>\n",
       "      <td>system.ExperimentRun</td>\n",
       "      <td>RUNNING</td>\n",
       "      <td>NaN</td>\n",
       "      <td>100.0</td>\n",
       "      <td>NaN</td>\n",
       "      <td>statmike-mlops-349915</td>\n",
       "      <td>2.0</td>\n",
       "      <td>1.0</td>\n",
       "      <td>...</td>\n",
       "      <td>NaN</td>\n",
       "      <td>NaN</td>\n",
       "      <td>NaN</td>\n",
       "      <td>NaN</td>\n",
       "      <td>NaN</td>\n",
       "      <td>NaN</td>\n",
       "      <td>NaN</td>\n",
       "      <td>NaN</td>\n",
       "      <td>NaN</td>\n",
       "      <td>NaN</td>\n",
       "    </tr>\n",
       "    <tr>\n",
       "      <th>14</th>\n",
       "      <td>experiment-05-05-tf-classification-dnn</td>\n",
       "      <td>run-20230327105815</td>\n",
       "      <td>system.ExperimentRun</td>\n",
       "      <td>RUNNING</td>\n",
       "      <td>NaN</td>\n",
       "      <td>NaN</td>\n",
       "      <td>NaN</td>\n",
       "      <td>statmike-mlops-349915</td>\n",
       "      <td>NaN</td>\n",
       "      <td>NaN</td>\n",
       "      <td>...</td>\n",
       "      <td>NaN</td>\n",
       "      <td>NaN</td>\n",
       "      <td>NaN</td>\n",
       "      <td>NaN</td>\n",
       "      <td>NaN</td>\n",
       "      <td>NaN</td>\n",
       "      <td>NaN</td>\n",
       "      <td>NaN</td>\n",
       "      <td>NaN</td>\n",
       "      <td>NaN</td>\n",
       "    </tr>\n",
       "    <tr>\n",
       "      <th>15</th>\n",
       "      <td>experiment-05-05-tf-classification-dnn</td>\n",
       "      <td>run-20230327102042</td>\n",
       "      <td>system.ExperimentRun</td>\n",
       "      <td>RUNNING</td>\n",
       "      <td>NaN</td>\n",
       "      <td>NaN</td>\n",
       "      <td>NaN</td>\n",
       "      <td>statmike-mlops-349915</td>\n",
       "      <td>NaN</td>\n",
       "      <td>NaN</td>\n",
       "      <td>...</td>\n",
       "      <td>NaN</td>\n",
       "      <td>NaN</td>\n",
       "      <td>NaN</td>\n",
       "      <td>NaN</td>\n",
       "      <td>NaN</td>\n",
       "      <td>NaN</td>\n",
       "      <td>NaN</td>\n",
       "      <td>NaN</td>\n",
       "      <td>NaN</td>\n",
       "      <td>NaN</td>\n",
       "    </tr>\n",
       "    <tr>\n",
       "      <th>16</th>\n",
       "      <td>experiment-05-05-tf-classification-dnn</td>\n",
       "      <td>run-20230327095945</td>\n",
       "      <td>system.ExperimentRun</td>\n",
       "      <td>RUNNING</td>\n",
       "      <td>NaN</td>\n",
       "      <td>NaN</td>\n",
       "      <td>NaN</td>\n",
       "      <td>statmike-mlops-349915</td>\n",
       "      <td>NaN</td>\n",
       "      <td>NaN</td>\n",
       "      <td>...</td>\n",
       "      <td>NaN</td>\n",
       "      <td>NaN</td>\n",
       "      <td>NaN</td>\n",
       "      <td>NaN</td>\n",
       "      <td>NaN</td>\n",
       "      <td>NaN</td>\n",
       "      <td>NaN</td>\n",
       "      <td>NaN</td>\n",
       "      <td>NaN</td>\n",
       "      <td>NaN</td>\n",
       "    </tr>\n",
       "    <tr>\n",
       "      <th>17</th>\n",
       "      <td>experiment-05-05-tf-classification-dnn</td>\n",
       "      <td>run-20230327095258</td>\n",
       "      <td>system.ExperimentRun</td>\n",
       "      <td>RUNNING</td>\n",
       "      <td>NaN</td>\n",
       "      <td>NaN</td>\n",
       "      <td>NaN</td>\n",
       "      <td>statmike-mlops-349915</td>\n",
       "      <td>NaN</td>\n",
       "      <td>NaN</td>\n",
       "      <td>...</td>\n",
       "      <td>NaN</td>\n",
       "      <td>NaN</td>\n",
       "      <td>NaN</td>\n",
       "      <td>NaN</td>\n",
       "      <td>NaN</td>\n",
       "      <td>NaN</td>\n",
       "      <td>NaN</td>\n",
       "      <td>NaN</td>\n",
       "      <td>NaN</td>\n",
       "      <td>NaN</td>\n",
       "    </tr>\n",
       "    <tr>\n",
       "      <th>18</th>\n",
       "      <td>experiment-05-05-tf-classification-dnn</td>\n",
       "      <td>run-20230327094405</td>\n",
       "      <td>system.ExperimentRun</td>\n",
       "      <td>RUNNING</td>\n",
       "      <td>NaN</td>\n",
       "      <td>NaN</td>\n",
       "      <td>NaN</td>\n",
       "      <td>statmike-mlops-349915</td>\n",
       "      <td>NaN</td>\n",
       "      <td>NaN</td>\n",
       "      <td>...</td>\n",
       "      <td>NaN</td>\n",
       "      <td>NaN</td>\n",
       "      <td>NaN</td>\n",
       "      <td>NaN</td>\n",
       "      <td>NaN</td>\n",
       "      <td>NaN</td>\n",
       "      <td>NaN</td>\n",
       "      <td>NaN</td>\n",
       "      <td>NaN</td>\n",
       "      <td>NaN</td>\n",
       "    </tr>\n",
       "    <tr>\n",
       "      <th>19</th>\n",
       "      <td>experiment-05-05-tf-classification-dnn</td>\n",
       "      <td>run-20230327094201</td>\n",
       "      <td>system.ExperimentRun</td>\n",
       "      <td>RUNNING</td>\n",
       "      <td>NaN</td>\n",
       "      <td>NaN</td>\n",
       "      <td>NaN</td>\n",
       "      <td>statmike-mlops-349915</td>\n",
       "      <td>NaN</td>\n",
       "      <td>NaN</td>\n",
       "      <td>...</td>\n",
       "      <td>NaN</td>\n",
       "      <td>NaN</td>\n",
       "      <td>NaN</td>\n",
       "      <td>NaN</td>\n",
       "      <td>NaN</td>\n",
       "      <td>NaN</td>\n",
       "      <td>NaN</td>\n",
       "      <td>NaN</td>\n",
       "      <td>NaN</td>\n",
       "      <td>NaN</td>\n",
       "    </tr>\n",
       "    <tr>\n",
       "      <th>20</th>\n",
       "      <td>experiment-05-05-tf-classification-dnn</td>\n",
       "      <td>run-20230327094104</td>\n",
       "      <td>system.ExperimentRun</td>\n",
       "      <td>RUNNING</td>\n",
       "      <td>NaN</td>\n",
       "      <td>NaN</td>\n",
       "      <td>NaN</td>\n",
       "      <td>statmike-mlops-349915</td>\n",
       "      <td>NaN</td>\n",
       "      <td>NaN</td>\n",
       "      <td>...</td>\n",
       "      <td>NaN</td>\n",
       "      <td>NaN</td>\n",
       "      <td>NaN</td>\n",
       "      <td>NaN</td>\n",
       "      <td>NaN</td>\n",
       "      <td>NaN</td>\n",
       "      <td>NaN</td>\n",
       "      <td>NaN</td>\n",
       "      <td>NaN</td>\n",
       "      <td>NaN</td>\n",
       "    </tr>\n",
       "    <tr>\n",
       "      <th>21</th>\n",
       "      <td>experiment-05-05-tf-classification-dnn</td>\n",
       "      <td>run-20230327093948</td>\n",
       "      <td>system.ExperimentRun</td>\n",
       "      <td>RUNNING</td>\n",
       "      <td>NaN</td>\n",
       "      <td>NaN</td>\n",
       "      <td>NaN</td>\n",
       "      <td>statmike-mlops-349915</td>\n",
       "      <td>NaN</td>\n",
       "      <td>NaN</td>\n",
       "      <td>...</td>\n",
       "      <td>NaN</td>\n",
       "      <td>NaN</td>\n",
       "      <td>NaN</td>\n",
       "      <td>NaN</td>\n",
       "      <td>NaN</td>\n",
       "      <td>NaN</td>\n",
       "      <td>NaN</td>\n",
       "      <td>NaN</td>\n",
       "      <td>NaN</td>\n",
       "      <td>NaN</td>\n",
       "    </tr>\n",
       "    <tr>\n",
       "      <th>22</th>\n",
       "      <td>experiment-05-05-tf-classification-dnn</td>\n",
       "      <td>run-20230327093803</td>\n",
       "      <td>system.ExperimentRun</td>\n",
       "      <td>RUNNING</td>\n",
       "      <td>NaN</td>\n",
       "      <td>NaN</td>\n",
       "      <td>NaN</td>\n",
       "      <td>statmike-mlops-349915</td>\n",
       "      <td>NaN</td>\n",
       "      <td>NaN</td>\n",
       "      <td>...</td>\n",
       "      <td>NaN</td>\n",
       "      <td>NaN</td>\n",
       "      <td>NaN</td>\n",
       "      <td>NaN</td>\n",
       "      <td>NaN</td>\n",
       "      <td>NaN</td>\n",
       "      <td>NaN</td>\n",
       "      <td>NaN</td>\n",
       "      <td>NaN</td>\n",
       "      <td>NaN</td>\n",
       "    </tr>\n",
       "    <tr>\n",
       "      <th>23</th>\n",
       "      <td>experiment-05-05-tf-classification-dnn</td>\n",
       "      <td>run-20230327093643</td>\n",
       "      <td>system.ExperimentRun</td>\n",
       "      <td>RUNNING</td>\n",
       "      <td>NaN</td>\n",
       "      <td>NaN</td>\n",
       "      <td>NaN</td>\n",
       "      <td>statmike-mlops-349915</td>\n",
       "      <td>NaN</td>\n",
       "      <td>NaN</td>\n",
       "      <td>...</td>\n",
       "      <td>NaN</td>\n",
       "      <td>NaN</td>\n",
       "      <td>NaN</td>\n",
       "      <td>NaN</td>\n",
       "      <td>NaN</td>\n",
       "      <td>NaN</td>\n",
       "      <td>NaN</td>\n",
       "      <td>NaN</td>\n",
       "      <td>NaN</td>\n",
       "      <td>NaN</td>\n",
       "    </tr>\n",
       "    <tr>\n",
       "      <th>24</th>\n",
       "      <td>experiment-05-05-tf-classification-dnn</td>\n",
       "      <td>run-20230325220538</td>\n",
       "      <td>system.ExperimentRun</td>\n",
       "      <td>RUNNING</td>\n",
       "      <td>4.0</td>\n",
       "      <td>100.0</td>\n",
       "      <td>NaN</td>\n",
       "      <td>statmike-mlops-349915</td>\n",
       "      <td>2.0</td>\n",
       "      <td>1.0</td>\n",
       "      <td>...</td>\n",
       "      <td>0.005786</td>\n",
       "      <td>0.999368</td>\n",
       "      <td>0.999538</td>\n",
       "      <td>0.999272</td>\n",
       "      <td>0.005526</td>\n",
       "      <td>0.999628</td>\n",
       "      <td>0.999559</td>\n",
       "      <td>0.999327</td>\n",
       "      <td>0.005339</td>\n",
       "      <td>0.999206</td>\n",
       "    </tr>\n",
       "    <tr>\n",
       "      <th>25</th>\n",
       "      <td>experiment-05-05-tf-classification-dnn</td>\n",
       "      <td>run-20230325135459</td>\n",
       "      <td>system.ExperimentRun</td>\n",
       "      <td>RUNNING</td>\n",
       "      <td>4.0</td>\n",
       "      <td>100.0</td>\n",
       "      <td>NaN</td>\n",
       "      <td>statmike-mlops-349915</td>\n",
       "      <td>2.0</td>\n",
       "      <td>1.0</td>\n",
       "      <td>...</td>\n",
       "      <td>0.009290</td>\n",
       "      <td>0.999088</td>\n",
       "      <td>0.999225</td>\n",
       "      <td>0.999062</td>\n",
       "      <td>0.006562</td>\n",
       "      <td>0.999429</td>\n",
       "      <td>0.999075</td>\n",
       "      <td>0.998938</td>\n",
       "      <td>0.010087</td>\n",
       "      <td>0.999084</td>\n",
       "    </tr>\n",
       "    <tr>\n",
       "      <th>26</th>\n",
       "      <td>experiment-05-05-tf-classification-dnn</td>\n",
       "      <td>run-20230324104933</td>\n",
       "      <td>system.ExperimentRun</td>\n",
       "      <td>RUNNING</td>\n",
       "      <td>4.0</td>\n",
       "      <td>100.0</td>\n",
       "      <td>NaN</td>\n",
       "      <td>statmike-mlops-349915</td>\n",
       "      <td>2.0</td>\n",
       "      <td>1.0</td>\n",
       "      <td>...</td>\n",
       "      <td>0.007478</td>\n",
       "      <td>0.999298</td>\n",
       "      <td>0.999353</td>\n",
       "      <td>0.999224</td>\n",
       "      <td>0.006154</td>\n",
       "      <td>0.999467</td>\n",
       "      <td>0.999459</td>\n",
       "      <td>0.999256</td>\n",
       "      <td>0.007014</td>\n",
       "      <td>0.999132</td>\n",
       "    </tr>\n",
       "    <tr>\n",
       "      <th>27</th>\n",
       "      <td>experiment-05-05-tf-classification-dnn</td>\n",
       "      <td>run-20230324103811</td>\n",
       "      <td>system.ExperimentRun</td>\n",
       "      <td>COMPLETE</td>\n",
       "      <td>4.0</td>\n",
       "      <td>100.0</td>\n",
       "      <td>8</td>\n",
       "      <td>statmike-mlops-349915</td>\n",
       "      <td>2.0</td>\n",
       "      <td>1.0</td>\n",
       "      <td>...</td>\n",
       "      <td>0.009328</td>\n",
       "      <td>0.999263</td>\n",
       "      <td>0.999300</td>\n",
       "      <td>0.999154</td>\n",
       "      <td>0.006722</td>\n",
       "      <td>0.999412</td>\n",
       "      <td>0.999389</td>\n",
       "      <td>0.999221</td>\n",
       "      <td>0.007320</td>\n",
       "      <td>0.999075</td>\n",
       "    </tr>\n",
       "    <tr>\n",
       "      <th>28</th>\n",
       "      <td>experiment-05-05-tf-classification-dnn</td>\n",
       "      <td>run-20230308225745</td>\n",
       "      <td>system.ExperimentRun</td>\n",
       "      <td>COMPLETE</td>\n",
       "      <td>4.0</td>\n",
       "      <td>100.0</td>\n",
       "      <td>7</td>\n",
       "      <td>statmike-mlops-349915</td>\n",
       "      <td>2.0</td>\n",
       "      <td>1.0</td>\n",
       "      <td>...</td>\n",
       "      <td>0.005928</td>\n",
       "      <td>0.999368</td>\n",
       "      <td>0.999562</td>\n",
       "      <td>0.999364</td>\n",
       "      <td>0.004783</td>\n",
       "      <td>0.999641</td>\n",
       "      <td>0.999558</td>\n",
       "      <td>0.999186</td>\n",
       "      <td>0.005796</td>\n",
       "      <td>0.999347</td>\n",
       "    </tr>\n",
       "    <tr>\n",
       "      <th>29</th>\n",
       "      <td>experiment-05-05-tf-classification-dnn</td>\n",
       "      <td>run-20230213133609</td>\n",
       "      <td>system.ExperimentRun</td>\n",
       "      <td>RUNNING</td>\n",
       "      <td>4.0</td>\n",
       "      <td>100.0</td>\n",
       "      <td>NaN</td>\n",
       "      <td>statmike-mlops-349915</td>\n",
       "      <td>2.0</td>\n",
       "      <td>1.0</td>\n",
       "      <td>...</td>\n",
       "      <td>0.008611</td>\n",
       "      <td>0.999158</td>\n",
       "      <td>0.999258</td>\n",
       "      <td>0.999005</td>\n",
       "      <td>0.007255</td>\n",
       "      <td>0.999404</td>\n",
       "      <td>0.999196</td>\n",
       "      <td>0.998796</td>\n",
       "      <td>0.008892</td>\n",
       "      <td>0.998939</td>\n",
       "    </tr>\n",
       "    <tr>\n",
       "      <th>30</th>\n",
       "      <td>experiment-05-05-tf-classification-dnn</td>\n",
       "      <td>run-20230210115433</td>\n",
       "      <td>system.ExperimentRun</td>\n",
       "      <td>COMPLETE</td>\n",
       "      <td>4.0</td>\n",
       "      <td>100.0</td>\n",
       "      <td>6</td>\n",
       "      <td>statmike-mlops-349915</td>\n",
       "      <td>2.0</td>\n",
       "      <td>1.0</td>\n",
       "      <td>...</td>\n",
       "      <td>0.008737</td>\n",
       "      <td>0.999088</td>\n",
       "      <td>0.999213</td>\n",
       "      <td>0.999000</td>\n",
       "      <td>0.006154</td>\n",
       "      <td>0.999425</td>\n",
       "      <td>0.999210</td>\n",
       "      <td>0.998938</td>\n",
       "      <td>0.008968</td>\n",
       "      <td>0.999176</td>\n",
       "    </tr>\n",
       "  </tbody>\n",
       "</table>\n",
       "<p>31 rows × 37 columns</p>\n",
       "</div>"
      ],
      "text/plain": [
       "                           experiment_name            run_name  \\\n",
       "0   experiment-05-05-tf-classification-dnn  run-20231221123117   \n",
       "1   experiment-05-05-tf-classification-dnn  run-20231221021319   \n",
       "2   experiment-05-05-tf-classification-dnn  run-20231220214331   \n",
       "3   experiment-05-05-tf-classification-dnn  run-20231220203613   \n",
       "4   experiment-05-05-tf-classification-dnn  run-20231220191718   \n",
       "5   experiment-05-05-tf-classification-dnn  run-20231220190610   \n",
       "6   experiment-05-05-tf-classification-dnn  run-20231215213806   \n",
       "7   experiment-05-05-tf-classification-dnn  run-20231215213145   \n",
       "8   experiment-05-05-tf-classification-dnn  run-20230928232537   \n",
       "9   experiment-05-05-tf-classification-dnn  run-20230928232224   \n",
       "10  experiment-05-05-tf-classification-dnn  run-20230928231922   \n",
       "11  experiment-05-05-tf-classification-dnn  run-20230327115749   \n",
       "12  experiment-05-05-tf-classification-dnn  run-20230327111418   \n",
       "13  experiment-05-05-tf-classification-dnn  run-20230327110946   \n",
       "14  experiment-05-05-tf-classification-dnn  run-20230327105815   \n",
       "15  experiment-05-05-tf-classification-dnn  run-20230327102042   \n",
       "16  experiment-05-05-tf-classification-dnn  run-20230327095945   \n",
       "17  experiment-05-05-tf-classification-dnn  run-20230327095258   \n",
       "18  experiment-05-05-tf-classification-dnn  run-20230327094405   \n",
       "19  experiment-05-05-tf-classification-dnn  run-20230327094201   \n",
       "20  experiment-05-05-tf-classification-dnn  run-20230327094104   \n",
       "21  experiment-05-05-tf-classification-dnn  run-20230327093948   \n",
       "22  experiment-05-05-tf-classification-dnn  run-20230327093803   \n",
       "23  experiment-05-05-tf-classification-dnn  run-20230327093643   \n",
       "24  experiment-05-05-tf-classification-dnn  run-20230325220538   \n",
       "25  experiment-05-05-tf-classification-dnn  run-20230325135459   \n",
       "26  experiment-05-05-tf-classification-dnn  run-20230324104933   \n",
       "27  experiment-05-05-tf-classification-dnn  run-20230324103811   \n",
       "28  experiment-05-05-tf-classification-dnn  run-20230308225745   \n",
       "29  experiment-05-05-tf-classification-dnn  run-20230213133609   \n",
       "30  experiment-05-05-tf-classification-dnn  run-20230210115433   \n",
       "\n",
       "                run_type     state  param.training.epochs  \\\n",
       "0   system.ExperimentRun  COMPLETE                    4.0   \n",
       "1   system.ExperimentRun  COMPLETE                    4.0   \n",
       "2   system.ExperimentRun  COMPLETE                    4.0   \n",
       "3   system.ExperimentRun  COMPLETE                    4.0   \n",
       "4   system.ExperimentRun  COMPLETE                    4.0   \n",
       "5   system.ExperimentRun   RUNNING                    NaN   \n",
       "6   system.ExperimentRun   RUNNING                    4.0   \n",
       "7   system.ExperimentRun   RUNNING                    NaN   \n",
       "8   system.ExperimentRun  COMPLETE                    4.0   \n",
       "9   system.ExperimentRun   RUNNING                    NaN   \n",
       "10  system.ExperimentRun   RUNNING                    NaN   \n",
       "11  system.ExperimentRun   RUNNING                    4.0   \n",
       "12  system.ExperimentRun  COMPLETE                    4.0   \n",
       "13  system.ExperimentRun   RUNNING                    NaN   \n",
       "14  system.ExperimentRun   RUNNING                    NaN   \n",
       "15  system.ExperimentRun   RUNNING                    NaN   \n",
       "16  system.ExperimentRun   RUNNING                    NaN   \n",
       "17  system.ExperimentRun   RUNNING                    NaN   \n",
       "18  system.ExperimentRun   RUNNING                    NaN   \n",
       "19  system.ExperimentRun   RUNNING                    NaN   \n",
       "20  system.ExperimentRun   RUNNING                    NaN   \n",
       "21  system.ExperimentRun   RUNNING                    NaN   \n",
       "22  system.ExperimentRun   RUNNING                    NaN   \n",
       "23  system.ExperimentRun   RUNNING                    NaN   \n",
       "24  system.ExperimentRun   RUNNING                    4.0   \n",
       "25  system.ExperimentRun   RUNNING                    4.0   \n",
       "26  system.ExperimentRun   RUNNING                    4.0   \n",
       "27  system.ExperimentRun  COMPLETE                    4.0   \n",
       "28  system.ExperimentRun  COMPLETE                    4.0   \n",
       "29  system.ExperimentRun   RUNNING                    4.0   \n",
       "30  system.ExperimentRun  COMPLETE                    4.0   \n",
       "\n",
       "    param.training.batch_size param.model.version_id       param.project_id  \\\n",
       "0                       100.0                     18  statmike-mlops-349915   \n",
       "1                       100.0                     17  statmike-mlops-349915   \n",
       "2                       100.0                     16  statmike-mlops-349915   \n",
       "3                       100.0                     15  statmike-mlops-349915   \n",
       "4                       100.0                     14  statmike-mlops-349915   \n",
       "5                         NaN                    NaN  statmike-mlops-349915   \n",
       "6                       100.0                    NaN  statmike-mlops-349915   \n",
       "7                       100.0                    NaN  statmike-mlops-349915   \n",
       "8                       100.0                    NaN  statmike-mlops-349915   \n",
       "9                         NaN                    NaN  statmike-mlops-349915   \n",
       "10                      100.0                    NaN  statmike-mlops-349915   \n",
       "11                      100.0                    NaN  statmike-mlops-349915   \n",
       "12                      100.0                     12  statmike-mlops-349915   \n",
       "13                      100.0                    NaN  statmike-mlops-349915   \n",
       "14                        NaN                    NaN  statmike-mlops-349915   \n",
       "15                        NaN                    NaN  statmike-mlops-349915   \n",
       "16                        NaN                    NaN  statmike-mlops-349915   \n",
       "17                        NaN                    NaN  statmike-mlops-349915   \n",
       "18                        NaN                    NaN  statmike-mlops-349915   \n",
       "19                        NaN                    NaN  statmike-mlops-349915   \n",
       "20                        NaN                    NaN  statmike-mlops-349915   \n",
       "21                        NaN                    NaN  statmike-mlops-349915   \n",
       "22                        NaN                    NaN  statmike-mlops-349915   \n",
       "23                        NaN                    NaN  statmike-mlops-349915   \n",
       "24                      100.0                    NaN  statmike-mlops-349915   \n",
       "25                      100.0                    NaN  statmike-mlops-349915   \n",
       "26                      100.0                    NaN  statmike-mlops-349915   \n",
       "27                      100.0                      8  statmike-mlops-349915   \n",
       "28                      100.0                      7  statmike-mlops-349915   \n",
       "29                      100.0                    NaN  statmike-mlops-349915   \n",
       "30                      100.0                      6  statmike-mlops-349915   \n",
       "\n",
       "    param.nclasses  param.training.prefetch  ... metric.train_loss  \\\n",
       "0              2.0                      1.0  ...          0.008092   \n",
       "1              2.0                      1.0  ...          0.006429   \n",
       "2              2.0                      1.0  ...          0.007772   \n",
       "3              2.0                      1.0  ...          0.008315   \n",
       "4              2.0                      1.0  ...          0.010310   \n",
       "5              2.0                      NaN  ...               NaN   \n",
       "6              2.0                      1.0  ...          0.007835   \n",
       "7              2.0                      1.0  ...               NaN   \n",
       "8              2.0                      1.0  ...          0.006084   \n",
       "9              2.0                      NaN  ...               NaN   \n",
       "10             2.0                      1.0  ...               NaN   \n",
       "11             2.0                      1.0  ...          0.007516   \n",
       "12             2.0                      1.0  ...          0.007545   \n",
       "13             2.0                      1.0  ...               NaN   \n",
       "14             NaN                      NaN  ...               NaN   \n",
       "15             NaN                      NaN  ...               NaN   \n",
       "16             NaN                      NaN  ...               NaN   \n",
       "17             NaN                      NaN  ...               NaN   \n",
       "18             NaN                      NaN  ...               NaN   \n",
       "19             NaN                      NaN  ...               NaN   \n",
       "20             NaN                      NaN  ...               NaN   \n",
       "21             NaN                      NaN  ...               NaN   \n",
       "22             NaN                      NaN  ...               NaN   \n",
       "23             NaN                      NaN  ...               NaN   \n",
       "24             2.0                      1.0  ...          0.005786   \n",
       "25             2.0                      1.0  ...          0.009290   \n",
       "26             2.0                      1.0  ...          0.007478   \n",
       "27             2.0                      1.0  ...          0.009328   \n",
       "28             2.0                      1.0  ...          0.005928   \n",
       "29             2.0                      1.0  ...          0.008611   \n",
       "30             2.0                      1.0  ...          0.008737   \n",
       "\n",
       "   metric.test_accuracy metric.train_auprc metric.train_accuracy  \\\n",
       "0              0.999053           0.999506              0.998799   \n",
       "1              0.999228           0.999488              0.999171   \n",
       "2              0.999439           0.999351              0.999250   \n",
       "3              0.998947           0.999416              0.998983   \n",
       "4              0.999158           0.999185              0.998913   \n",
       "5                   NaN                NaN                   NaN   \n",
       "6              0.999298           0.999295              0.999145   \n",
       "7                   NaN                NaN                   NaN   \n",
       "8              0.999263           0.999425              0.999277   \n",
       "9                   NaN                NaN                   NaN   \n",
       "10                  NaN                NaN                   NaN   \n",
       "11             0.999193           0.999400              0.999193   \n",
       "12             0.999368           0.999399              0.999180   \n",
       "13                  NaN                NaN                   NaN   \n",
       "14                  NaN                NaN                   NaN   \n",
       "15                  NaN                NaN                   NaN   \n",
       "16                  NaN                NaN                   NaN   \n",
       "17                  NaN                NaN                   NaN   \n",
       "18                  NaN                NaN                   NaN   \n",
       "19                  NaN                NaN                   NaN   \n",
       "20                  NaN                NaN                   NaN   \n",
       "21                  NaN                NaN                   NaN   \n",
       "22                  NaN                NaN                   NaN   \n",
       "23                  NaN                NaN                   NaN   \n",
       "24             0.999368           0.999538              0.999272   \n",
       "25             0.999088           0.999225              0.999062   \n",
       "26             0.999298           0.999353              0.999224   \n",
       "27             0.999263           0.999300              0.999154   \n",
       "28             0.999368           0.999562              0.999364   \n",
       "29             0.999158           0.999258              0.999005   \n",
       "30             0.999088           0.999213              0.999000   \n",
       "\n",
       "   time_series_metric.train_loss time_series_metric.train_auprc  \\\n",
       "0                       0.007805                       0.999642   \n",
       "1                       0.005551                       0.999649   \n",
       "2                       0.006009                       0.999399   \n",
       "3                       0.006853                       0.999548   \n",
       "4                       0.007615                       0.999285   \n",
       "5                            NaN                            NaN   \n",
       "6                       0.005842                       0.999471   \n",
       "7                            NaN                            NaN   \n",
       "8                       0.005466                       0.999526   \n",
       "9                            NaN                            NaN   \n",
       "10                           NaN                            NaN   \n",
       "11                      0.005903                       0.999393   \n",
       "12                      0.006084                       0.999499   \n",
       "13                           NaN                            NaN   \n",
       "14                           NaN                            NaN   \n",
       "15                           NaN                            NaN   \n",
       "16                           NaN                            NaN   \n",
       "17                           NaN                            NaN   \n",
       "18                           NaN                            NaN   \n",
       "19                           NaN                            NaN   \n",
       "20                           NaN                            NaN   \n",
       "21                           NaN                            NaN   \n",
       "22                           NaN                            NaN   \n",
       "23                           NaN                            NaN   \n",
       "24                      0.005526                       0.999628   \n",
       "25                      0.006562                       0.999429   \n",
       "26                      0.006154                       0.999467   \n",
       "27                      0.006722                       0.999412   \n",
       "28                      0.004783                       0.999641   \n",
       "29                      0.007255                       0.999404   \n",
       "30                      0.006154                       0.999425   \n",
       "\n",
       "   time_series_metric.val_auprc time_series_metric.val_accuracy  \\\n",
       "0                      0.999651                        0.998902   \n",
       "1                      0.999393                        0.999044   \n",
       "2                      0.999323                        0.999115   \n",
       "3                      0.999505                        0.999009   \n",
       "4                      0.999224                        0.998938   \n",
       "5                           NaN                             NaN   \n",
       "6                      0.999194                        0.999044   \n",
       "7                           NaN                             NaN   \n",
       "8                      0.999511                        0.999221   \n",
       "9                           NaN                             NaN   \n",
       "10                          NaN                             NaN   \n",
       "11                     0.999323                        0.999044   \n",
       "12                     0.999233                        0.999079   \n",
       "13                          NaN                             NaN   \n",
       "14                          NaN                             NaN   \n",
       "15                          NaN                             NaN   \n",
       "16                          NaN                             NaN   \n",
       "17                          NaN                             NaN   \n",
       "18                          NaN                             NaN   \n",
       "19                          NaN                             NaN   \n",
       "20                          NaN                             NaN   \n",
       "21                          NaN                             NaN   \n",
       "22                          NaN                             NaN   \n",
       "23                          NaN                             NaN   \n",
       "24                     0.999559                        0.999327   \n",
       "25                     0.999075                        0.998938   \n",
       "26                     0.999459                        0.999256   \n",
       "27                     0.999389                        0.999221   \n",
       "28                     0.999558                        0.999186   \n",
       "29                     0.999196                        0.998796   \n",
       "30                     0.999210                        0.998938   \n",
       "\n",
       "   time_series_metric.val_loss time_series_metric.train_accuracy  \n",
       "0                     0.007585                          0.998807  \n",
       "1                     0.006782                          0.999044  \n",
       "2                     0.006892                          0.999123  \n",
       "3                     0.006928                          0.998978  \n",
       "4                     0.009775                          0.999005  \n",
       "5                          NaN                               NaN  \n",
       "6                     0.008222                          0.999141  \n",
       "7                          NaN                               NaN  \n",
       "8                     0.005834                          0.999224  \n",
       "9                          NaN                               NaN  \n",
       "10                         NaN                               NaN  \n",
       "11                    0.007186                          0.999180  \n",
       "12                    0.007015                          0.999132  \n",
       "13                         NaN                               NaN  \n",
       "14                         NaN                               NaN  \n",
       "15                         NaN                               NaN  \n",
       "16                         NaN                               NaN  \n",
       "17                         NaN                               NaN  \n",
       "18                         NaN                               NaN  \n",
       "19                         NaN                               NaN  \n",
       "20                         NaN                               NaN  \n",
       "21                         NaN                               NaN  \n",
       "22                         NaN                               NaN  \n",
       "23                         NaN                               NaN  \n",
       "24                    0.005339                          0.999206  \n",
       "25                    0.010087                          0.999084  \n",
       "26                    0.007014                          0.999132  \n",
       "27                    0.007320                          0.999075  \n",
       "28                    0.005796                          0.999347  \n",
       "29                    0.008892                          0.998939  \n",
       "30                    0.008968                          0.999176  \n",
       "\n",
       "[31 rows x 37 columns]"
      ]
     },
     "execution_count": 334,
     "metadata": {},
     "output_type": "execute_result"
    }
   ],
   "source": [
    "exp.get_data_frame()"
   ]
  },
  {
   "cell_type": "markdown",
   "id": "04072619-d95f-46ca-82e4-59302f1002f5",
   "metadata": {},
   "source": [
    "Review the Experiments TensorBoard to compare runs:"
   ]
  },
  {
   "cell_type": "code",
   "execution_count": 335,
   "id": "3ce18389-8484-4d5d-a30e-c4841eb52e8f",
   "metadata": {
    "tags": []
   },
   "outputs": [
    {
     "name": "stdout",
     "output_type": "stream",
     "text": [
      "The Experiment TensorBoard Link:\n",
      "https://us-central1.tensorboard.googleusercontent.com/experiment/projects+1026793852137+locations+us-central1+tensorboards+7876136041294331904+experiments+experiment-05-05-tf-classification-dnn\n"
     ]
    }
   ],
   "source": [
    "print(f\"The Experiment TensorBoard Link:\\nhttps://{REGION}.tensorboard.googleusercontent.com/experiment/{tb.resource_name.replace('/', '+')}+experiments+{exp.name}\")"
   ]
  },
  {
   "cell_type": "code",
   "execution_count": 336,
   "id": "37b9fded-da22-4c24-8d8c-54fefb07e1db",
   "metadata": {
    "tags": []
   },
   "outputs": [
    {
     "data": {
      "text/html": [
       "<div>\n",
       "<style scoped>\n",
       "    .dataframe tbody tr th:only-of-type {\n",
       "        vertical-align: middle;\n",
       "    }\n",
       "\n",
       "    .dataframe tbody tr th {\n",
       "        vertical-align: top;\n",
       "    }\n",
       "\n",
       "    .dataframe thead th {\n",
       "        text-align: right;\n",
       "    }\n",
       "</style>\n",
       "<table border=\"1\" class=\"dataframe\">\n",
       "  <thead>\n",
       "    <tr style=\"text-align: right;\">\n",
       "      <th></th>\n",
       "      <th>step</th>\n",
       "      <th>wall_time</th>\n",
       "      <th>train_loss</th>\n",
       "      <th>train_auprc</th>\n",
       "      <th>val_auprc</th>\n",
       "      <th>val_accuracy</th>\n",
       "      <th>val_loss</th>\n",
       "      <th>train_accuracy</th>\n",
       "    </tr>\n",
       "  </thead>\n",
       "  <tbody>\n",
       "    <tr>\n",
       "      <th>0</th>\n",
       "      <td>1</td>\n",
       "      <td>2023-12-21 17:49:50.924000+00:00</td>\n",
       "      <td>0.021646</td>\n",
       "      <td>0.997443</td>\n",
       "      <td>0.998856</td>\n",
       "      <td>0.997876</td>\n",
       "      <td>0.016426</td>\n",
       "      <td>0.998001</td>\n",
       "    </tr>\n",
       "    <tr>\n",
       "      <th>1</th>\n",
       "      <td>2</td>\n",
       "      <td>2023-12-21 17:49:51.036000+00:00</td>\n",
       "      <td>0.010922</td>\n",
       "      <td>0.999599</td>\n",
       "      <td>0.999657</td>\n",
       "      <td>0.998619</td>\n",
       "      <td>0.009625</td>\n",
       "      <td>0.998448</td>\n",
       "    </tr>\n",
       "    <tr>\n",
       "      <th>2</th>\n",
       "      <td>3</td>\n",
       "      <td>2023-12-21 17:49:51.187000+00:00</td>\n",
       "      <td>0.007805</td>\n",
       "      <td>0.999642</td>\n",
       "      <td>0.999651</td>\n",
       "      <td>0.998902</td>\n",
       "      <td>0.007585</td>\n",
       "      <td>0.998807</td>\n",
       "    </tr>\n",
       "  </tbody>\n",
       "</table>\n",
       "</div>"
      ],
      "text/plain": [
       "   step                        wall_time  train_loss  train_auprc  val_auprc  \\\n",
       "0     1 2023-12-21 17:49:50.924000+00:00    0.021646     0.997443   0.998856   \n",
       "1     2 2023-12-21 17:49:51.036000+00:00    0.010922     0.999599   0.999657   \n",
       "2     3 2023-12-21 17:49:51.187000+00:00    0.007805     0.999642   0.999651   \n",
       "\n",
       "   val_accuracy  val_loss  train_accuracy  \n",
       "0      0.997876  0.016426        0.998001  \n",
       "1      0.998619  0.009625        0.998448  \n",
       "2      0.998902  0.007585        0.998807  "
      ]
     },
     "execution_count": 336,
     "metadata": {},
     "output_type": "execute_result"
    }
   ],
   "source": [
    "expRun.get_time_series_data_frame()"
   ]
  },
  {
   "cell_type": "markdown",
   "id": "ae09564a-2c89-47af-a1ec-380b74993f95",
   "metadata": {},
   "source": [
    "### Review Experiment and Run in Console"
   ]
  },
  {
   "cell_type": "code",
   "execution_count": 337,
   "id": "05486974-79d0-4cb1-8947-3519868a3bd6",
   "metadata": {
    "tags": []
   },
   "outputs": [
    {
     "name": "stdout",
     "output_type": "stream",
     "text": [
      "Review The Experiment in the Console:\n",
      "https://console.cloud.google.com/vertex-ai/locations/us-central1/experiments/experiment-05-05-tf-classification-dnn?project=statmike-mlops-349915\n"
     ]
    }
   ],
   "source": [
    "print(f'Review The Experiment in the Console:\\nhttps://console.cloud.google.com/vertex-ai/locations/{REGION}/experiments/{EXPERIMENT_NAME}?project={PROJECT_ID}')"
   ]
  },
  {
   "cell_type": "code",
   "execution_count": 338,
   "id": "05ca25b9-94bf-4e63-b13e-7fcd11bee9bb",
   "metadata": {
    "tags": []
   },
   "outputs": [
    {
     "name": "stdout",
     "output_type": "stream",
     "text": [
      "Review The Experiment Run in the Console:\n",
      "https://console.cloud.google.com/vertex-ai/locations/us-central1/experiments/experiment-05-05-tf-classification-dnn/runs/experiment-05-05-tf-classification-dnn-run-20231221123117?project=statmike-mlops-349915\n"
     ]
    }
   ],
   "source": [
    "print(f'Review The Experiment Run in the Console:\\nhttps://console.cloud.google.com/vertex-ai/locations/{REGION}/experiments/{EXPERIMENT_NAME}/runs/{EXPERIMENT_NAME}-{RUN_NAME}?project={PROJECT_ID}')"
   ]
  },
  {
   "cell_type": "markdown",
   "id": "76065eab-725c-43eb-b5b0-8f434cb1e5b9",
   "metadata": {},
   "source": [
    "### Compare This Run Using Experiments"
   ]
  },
  {
   "cell_type": "markdown",
   "id": "ec8f20bd-badf-4744-a6ce-84d6e6d10af7",
   "metadata": {
    "tags": []
   },
   "source": [
    "Get a list of all experiments in this project:"
   ]
  },
  {
   "cell_type": "code",
   "execution_count": 339,
   "id": "eed0de63-2a29-4b65-8ebb-63ee52bd58cd",
   "metadata": {
    "tags": []
   },
   "outputs": [],
   "source": [
    "experiments = aiplatform.Experiment.list()"
   ]
  },
  {
   "cell_type": "markdown",
   "id": "d77e6959-adef-4e68-8da5-b96a7cdb8e34",
   "metadata": {},
   "source": [
    "Remove experiments not in the SERIES:"
   ]
  },
  {
   "cell_type": "code",
   "execution_count": 340,
   "id": "7e03bc04-1327-4cff-8704-c47438c5910f",
   "metadata": {
    "tags": []
   },
   "outputs": [],
   "source": [
    "experiments = [e for e in experiments if e.name.split('-')[0:2] == ['experiment', SERIES]]"
   ]
  },
  {
   "cell_type": "markdown",
   "id": "7d3fdb86-60bb-428c-90c8-dcf3a0839bde",
   "metadata": {},
   "source": [
    "Combine the runs from all experiments in SERIES into a single dataframe:"
   ]
  },
  {
   "cell_type": "code",
   "execution_count": 341,
   "id": "0b8c4d41-b572-4777-9169-2de273323c13",
   "metadata": {
    "tags": []
   },
   "outputs": [
    {
     "name": "stdout",
     "output_type": "stream",
     "text": [
      "experiment-05-05f-tf-classification-dnn\n",
      "experiment-05-05i-tf-classification-dnn\n",
      "experiment-05-05h-tf-classification-dnn\n",
      "experiment-05-05g-tf-classification-dnn\n",
      "experiment-05-05e-tf-classification-dnn\n",
      "experiment-05-05d-tf-classification-dnn\n",
      "experiment-05-05c-tf-classification-dnn\n",
      "experiment-05-05b-tf-classification-dnn\n",
      "experiment-05-05a-tf-classification-dnn\n",
      "experiment-05-05-tf-classification-dnn\n"
     ]
    }
   ],
   "source": [
    "results = []\n",
    "for experiment in experiments:\n",
    "        results.append(experiment.get_data_frame())\n",
    "        print(experiment.name)\n",
    "results = pd.concat(results)"
   ]
  },
  {
   "cell_type": "markdown",
   "id": "ba01c508-7067-4a84-b978-c52fc543aa31",
   "metadata": {},
   "source": [
    "Create ranks for models within experiment and across the entire SERIES:"
   ]
  },
  {
   "cell_type": "code",
   "execution_count": 342,
   "id": "91588c7a-5c9e-42e9-885d-ff1d38f88a7b",
   "metadata": {
    "tags": []
   },
   "outputs": [
    {
     "data": {
      "text/html": [
       "<div>\n",
       "<style scoped>\n",
       "    .dataframe tbody tr th:only-of-type {\n",
       "        vertical-align: middle;\n",
       "    }\n",
       "\n",
       "    .dataframe tbody tr th {\n",
       "        vertical-align: top;\n",
       "    }\n",
       "\n",
       "    .dataframe thead th {\n",
       "        text-align: right;\n",
       "    }\n",
       "</style>\n",
       "<table border=\"1\" class=\"dataframe\">\n",
       "  <thead>\n",
       "    <tr style=\"text-align: right;\">\n",
       "      <th></th>\n",
       "      <th>experiment_name</th>\n",
       "      <th>run_name</th>\n",
       "      <th>param.model.display_name</th>\n",
       "      <th>param.model.version_id</th>\n",
       "      <th>metric.test_auprc</th>\n",
       "      <th>series_rank</th>\n",
       "      <th>experiment_rank</th>\n",
       "    </tr>\n",
       "  </thead>\n",
       "  <tbody>\n",
       "    <tr>\n",
       "      <th>154</th>\n",
       "      <td>experiment-05-05-tf-classification-dnn</td>\n",
       "      <td>run-20230210115433</td>\n",
       "      <td>05_05</td>\n",
       "      <td>6</td>\n",
       "      <td>0.999130</td>\n",
       "      <td>129.0</td>\n",
       "      <td>16.0</td>\n",
       "    </tr>\n",
       "    <tr>\n",
       "      <th>153</th>\n",
       "      <td>experiment-05-05-tf-classification-dnn</td>\n",
       "      <td>run-20230213133609</td>\n",
       "      <td>NaN</td>\n",
       "      <td>NaN</td>\n",
       "      <td>0.999309</td>\n",
       "      <td>112.0</td>\n",
       "      <td>11.0</td>\n",
       "    </tr>\n",
       "    <tr>\n",
       "      <th>152</th>\n",
       "      <td>experiment-05-05-tf-classification-dnn</td>\n",
       "      <td>run-20230308225745</td>\n",
       "      <td>05_05</td>\n",
       "      <td>7</td>\n",
       "      <td>0.999469</td>\n",
       "      <td>76.0</td>\n",
       "      <td>4.0</td>\n",
       "    </tr>\n",
       "    <tr>\n",
       "      <th>151</th>\n",
       "      <td>experiment-05-05-tf-classification-dnn</td>\n",
       "      <td>run-20230324103811</td>\n",
       "      <td>05_05</td>\n",
       "      <td>8</td>\n",
       "      <td>0.999299</td>\n",
       "      <td>114.0</td>\n",
       "      <td>12.0</td>\n",
       "    </tr>\n",
       "    <tr>\n",
       "      <th>150</th>\n",
       "      <td>experiment-05-05-tf-classification-dnn</td>\n",
       "      <td>run-20230324104933</td>\n",
       "      <td>NaN</td>\n",
       "      <td>NaN</td>\n",
       "      <td>0.999469</td>\n",
       "      <td>77.0</td>\n",
       "      <td>5.0</td>\n",
       "    </tr>\n",
       "    <tr>\n",
       "      <th>...</th>\n",
       "      <td>...</td>\n",
       "      <td>...</td>\n",
       "      <td>...</td>\n",
       "      <td>...</td>\n",
       "      <td>...</td>\n",
       "      <td>...</td>\n",
       "      <td>...</td>\n",
       "    </tr>\n",
       "    <tr>\n",
       "      <th>59</th>\n",
       "      <td>experiment-05-05i-tf-classification-dnn</td>\n",
       "      <td>run-20230211221928-5</td>\n",
       "      <td>NaN</td>\n",
       "      <td>NaN</td>\n",
       "      <td>0.999584</td>\n",
       "      <td>13.0</td>\n",
       "      <td>7.0</td>\n",
       "    </tr>\n",
       "    <tr>\n",
       "      <th>58</th>\n",
       "      <td>experiment-05-05i-tf-classification-dnn</td>\n",
       "      <td>run-20230211221928-6</td>\n",
       "      <td>NaN</td>\n",
       "      <td>NaN</td>\n",
       "      <td>0.999538</td>\n",
       "      <td>36.0</td>\n",
       "      <td>13.0</td>\n",
       "    </tr>\n",
       "    <tr>\n",
       "      <th>57</th>\n",
       "      <td>experiment-05-05i-tf-classification-dnn</td>\n",
       "      <td>run-20230211221928-7</td>\n",
       "      <td>NaN</td>\n",
       "      <td>NaN</td>\n",
       "      <td>0.999538</td>\n",
       "      <td>37.0</td>\n",
       "      <td>14.0</td>\n",
       "    </tr>\n",
       "    <tr>\n",
       "      <th>56</th>\n",
       "      <td>experiment-05-05i-tf-classification-dnn</td>\n",
       "      <td>run-20230211221928-8</td>\n",
       "      <td>NaN</td>\n",
       "      <td>NaN</td>\n",
       "      <td>0.999584</td>\n",
       "      <td>8.0</td>\n",
       "      <td>3.0</td>\n",
       "    </tr>\n",
       "    <tr>\n",
       "      <th>55</th>\n",
       "      <td>experiment-05-05i-tf-classification-dnn</td>\n",
       "      <td>run-20230211221928-9</td>\n",
       "      <td>NaN</td>\n",
       "      <td>NaN</td>\n",
       "      <td>0.999583</td>\n",
       "      <td>16.0</td>\n",
       "      <td>9.0</td>\n",
       "    </tr>\n",
       "  </tbody>\n",
       "</table>\n",
       "<p>155 rows × 7 columns</p>\n",
       "</div>"
      ],
      "text/plain": [
       "                             experiment_name              run_name  \\\n",
       "154   experiment-05-05-tf-classification-dnn    run-20230210115433   \n",
       "153   experiment-05-05-tf-classification-dnn    run-20230213133609   \n",
       "152   experiment-05-05-tf-classification-dnn    run-20230308225745   \n",
       "151   experiment-05-05-tf-classification-dnn    run-20230324103811   \n",
       "150   experiment-05-05-tf-classification-dnn    run-20230324104933   \n",
       "..                                       ...                   ...   \n",
       "59   experiment-05-05i-tf-classification-dnn  run-20230211221928-5   \n",
       "58   experiment-05-05i-tf-classification-dnn  run-20230211221928-6   \n",
       "57   experiment-05-05i-tf-classification-dnn  run-20230211221928-7   \n",
       "56   experiment-05-05i-tf-classification-dnn  run-20230211221928-8   \n",
       "55   experiment-05-05i-tf-classification-dnn  run-20230211221928-9   \n",
       "\n",
       "    param.model.display_name param.model.version_id  metric.test_auprc  \\\n",
       "154                    05_05                      6           0.999130   \n",
       "153                      NaN                    NaN           0.999309   \n",
       "152                    05_05                      7           0.999469   \n",
       "151                    05_05                      8           0.999299   \n",
       "150                      NaN                    NaN           0.999469   \n",
       "..                       ...                    ...                ...   \n",
       "59                       NaN                    NaN           0.999584   \n",
       "58                       NaN                    NaN           0.999538   \n",
       "57                       NaN                    NaN           0.999538   \n",
       "56                       NaN                    NaN           0.999584   \n",
       "55                       NaN                    NaN           0.999583   \n",
       "\n",
       "     series_rank  experiment_rank  \n",
       "154        129.0             16.0  \n",
       "153        112.0             11.0  \n",
       "152         76.0              4.0  \n",
       "151        114.0             12.0  \n",
       "150         77.0              5.0  \n",
       "..           ...              ...  \n",
       "59          13.0              7.0  \n",
       "58          36.0             13.0  \n",
       "57          37.0             14.0  \n",
       "56           8.0              3.0  \n",
       "55          16.0              9.0  \n",
       "\n",
       "[155 rows x 7 columns]"
      ]
     },
     "execution_count": 342,
     "metadata": {},
     "output_type": "execute_result"
    }
   ],
   "source": [
    "def ranker(metric = 'metric.test_auprc'):\n",
    "    ranks = results[['experiment_name', 'run_name', 'param.model.display_name', 'param.model.version_id', metric]].copy().reset_index(drop = True)\n",
    "    ranks['series_rank'] = ranks[metric].rank(method = 'dense', ascending = False)\n",
    "    ranks['experiment_rank'] = ranks.groupby('experiment_name')[metric].rank(method = 'dense', ascending = False)\n",
    "    return ranks.sort_values(by = ['experiment_name', 'run_name'])\n",
    "    \n",
    "ranks = ranker('metric.test_auprc')\n",
    "ranks"
   ]
  },
  {
   "cell_type": "code",
   "execution_count": 343,
   "id": "55d49220-2aef-4238-a8c4-18a83282cfe3",
   "metadata": {
    "tags": []
   },
   "outputs": [
    {
     "data": {
      "text/html": [
       "<div>\n",
       "<style scoped>\n",
       "    .dataframe tbody tr th:only-of-type {\n",
       "        vertical-align: middle;\n",
       "    }\n",
       "\n",
       "    .dataframe tbody tr th {\n",
       "        vertical-align: top;\n",
       "    }\n",
       "\n",
       "    .dataframe thead th {\n",
       "        text-align: right;\n",
       "    }\n",
       "</style>\n",
       "<table border=\"1\" class=\"dataframe\">\n",
       "  <thead>\n",
       "    <tr style=\"text-align: right;\">\n",
       "      <th></th>\n",
       "      <th>experiment_name</th>\n",
       "      <th>run_name</th>\n",
       "      <th>param.model.display_name</th>\n",
       "      <th>param.model.version_id</th>\n",
       "      <th>metric.test_auprc</th>\n",
       "      <th>series_rank</th>\n",
       "      <th>experiment_rank</th>\n",
       "    </tr>\n",
       "  </thead>\n",
       "  <tbody>\n",
       "    <tr>\n",
       "      <th>124</th>\n",
       "      <td>experiment-05-05-tf-classification-dnn</td>\n",
       "      <td>run-20231221123117</td>\n",
       "      <td>05_05</td>\n",
       "      <td>18</td>\n",
       "      <td>0.999649</td>\n",
       "      <td>3.0</td>\n",
       "      <td>1.0</td>\n",
       "    </tr>\n",
       "  </tbody>\n",
       "</table>\n",
       "</div>"
      ],
      "text/plain": [
       "                            experiment_name            run_name  \\\n",
       "124  experiment-05-05-tf-classification-dnn  run-20231221123117   \n",
       "\n",
       "    param.model.display_name param.model.version_id  metric.test_auprc  \\\n",
       "124                    05_05                     18           0.999649   \n",
       "\n",
       "     series_rank  experiment_rank  \n",
       "124          3.0              1.0  "
      ]
     },
     "execution_count": 343,
     "metadata": {},
     "output_type": "execute_result"
    }
   ],
   "source": [
    "current_rank = ranks.loc[(ranks['param.model.display_name'] == model.display_name) & (ranks['param.model.version_id'] == model.version_id)]\n",
    "current_rank"
   ]
  },
  {
   "cell_type": "code",
   "execution_count": 344,
   "id": "93f1cd57-54c3-46b6-978a-f8c402c8c0ab",
   "metadata": {
    "tags": []
   },
   "outputs": [
    {
     "name": "stdout",
     "output_type": "stream",
     "text": [
      "The current model is ranked 1.0 within this experiment and 3.0 across this series.\n"
     ]
    }
   ],
   "source": [
    "print(f\"The current model is ranked {current_rank['experiment_rank'].iloc[0]} within this experiment and {current_rank['series_rank'].iloc[0]} across this series.\")"
   ]
  },
  {
   "cell_type": "markdown",
   "id": "dfd12b79",
   "metadata": {},
   "source": [
    "### Vertex AI Prediction - Create/Retrieve The Endpoint For This Series"
   ]
  },
  {
   "cell_type": "code",
   "execution_count": 345,
   "id": "2cc28d98-b525-4385-9b95-489bf574f967",
   "metadata": {
    "tags": []
   },
   "outputs": [
    {
     "name": "stdout",
     "output_type": "stream",
     "text": [
      "Endpoint Exists: projects/1026793852137/locations/us-central1/endpoints/725723853820526592\n",
      "Review the Endpoint in the Console:\n",
      "https://console.cloud.google.com/vertex-ai/locations/us-central1/endpoints/725723853820526592?project=statmike-mlops-349915\n"
     ]
    }
   ],
   "source": [
    "endpoints = aiplatform.Endpoint.list(filter = f\"labels.series={SERIES} AND display_name={SERIES}\")\n",
    "if endpoints:\n",
    "    endpoint = endpoints[0]\n",
    "    print(f\"Endpoint Exists: {endpoints[0].resource_name}\")\n",
    "else:\n",
    "    endpoint = aiplatform.Endpoint.create(\n",
    "        display_name = f\"{SERIES}\",\n",
    "        labels = {'series' : f\"{SERIES}\"}    \n",
    "    )\n",
    "    print(f\"Endpoint Created: {endpoint.resource_name}\")\n",
    "    \n",
    "print(f'Review the Endpoint in the Console:\\nhttps://console.cloud.google.com/vertex-ai/locations/{REGION}/endpoints/{endpoint.name}?project={PROJECT_ID}')"
   ]
  },
  {
   "cell_type": "code",
   "execution_count": 346,
   "id": "0a538bf0",
   "metadata": {
    "tags": []
   },
   "outputs": [
    {
     "data": {
      "text/plain": [
       "'05'"
      ]
     },
     "execution_count": 346,
     "metadata": {},
     "output_type": "execute_result"
    }
   ],
   "source": [
    "endpoint.display_name"
   ]
  },
  {
   "cell_type": "code",
   "execution_count": 347,
   "id": "0a0029bd-9744-4449-91f0-56ef7ca5e535",
   "metadata": {
    "tags": []
   },
   "outputs": [
    {
     "data": {
      "text/plain": [
       "{}"
      ]
     },
     "execution_count": 347,
     "metadata": {},
     "output_type": "execute_result"
    }
   ],
   "source": [
    "endpoint.traffic_split"
   ]
  },
  {
   "cell_type": "code",
   "execution_count": 348,
   "id": "85d06eba-82dc-4d50-8405-800d756e3584",
   "metadata": {
    "tags": []
   },
   "outputs": [],
   "source": [
    "deployed_models = endpoint.list_models()\n",
    "#deployed_models"
   ]
  },
  {
   "cell_type": "markdown",
   "id": "85ed7977-395d-4751-a09c-0c4c09d055e3",
   "metadata": {},
   "source": [
    "#### Should This Model Be Deployed?\n",
    "Is it better than the model already deployed on the endpoint?"
   ]
  },
  {
   "cell_type": "code",
   "execution_count": 349,
   "id": "e5de9408-3148-4acc-b614-50cbcb4690ac",
   "metadata": {
    "tags": []
   },
   "outputs": [
    {
     "name": "stdout",
     "output_type": "stream",
     "text": [
      "No models currently deployed.\n"
     ]
    }
   ],
   "source": [
    "deploy = False\n",
    "if deployed_models:\n",
    "    for deployed_model in endpoint.list_models():\n",
    "        deployed_rank = ranks.loc[(ranks['param.model.display_name'] == deployed_model.display_name) & (ranks['param.model.version_id'] == deployed_model.model_version_id)]['series_rank'].iloc[0]\n",
    "        model_rank = current_rank['series_rank'].iloc[0]\n",
    "        if deployed_model.display_name == model.display_name and deployed_model.model_version_id == model.version_id:\n",
    "            print(f'The current model/version is already deployed.')\n",
    "            break\n",
    "        elif model_rank <= deployed_rank:\n",
    "            deploy = True\n",
    "            print(f'The current model is ranked better ({model_rank}) than a currently deployed model ({deployed_rank}).')\n",
    "            break\n",
    "    if deploy == False: print(f'The current model is ranked worse ({model_rank}) than a currently deployed model ({deployed_rank})')\n",
    "else: \n",
    "    deploy = True\n",
    "    print('No models currently deployed.')"
   ]
  },
  {
   "cell_type": "markdown",
   "id": "25e49dd0",
   "metadata": {},
   "source": [
    "#### Deploy Model To Endpoint"
   ]
  },
  {
   "cell_type": "code",
   "execution_count": 350,
   "id": "e739bc1c",
   "metadata": {
    "tags": []
   },
   "outputs": [
    {
     "name": "stdout",
     "output_type": "stream",
     "text": [
      "Deploying model with 100% of traffic...\n",
      "Deploying Model projects/1026793852137/locations/us-central1/models/model_05_05 to Endpoint : projects/1026793852137/locations/us-central1/endpoints/725723853820526592\n"
     ]
    },
    {
     "name": "stderr",
     "output_type": "stream",
     "text": [
      "INFO:google.cloud.aiplatform.models:Deploying Model projects/1026793852137/locations/us-central1/models/model_05_05 to Endpoint : projects/1026793852137/locations/us-central1/endpoints/725723853820526592\n"
     ]
    },
    {
     "name": "stdout",
     "output_type": "stream",
     "text": [
      "Deploy Endpoint model backing LRO: projects/1026793852137/locations/us-central1/endpoints/725723853820526592/operations/2063511677244014592\n"
     ]
    },
    {
     "name": "stderr",
     "output_type": "stream",
     "text": [
      "INFO:google.cloud.aiplatform.models:Deploy Endpoint model backing LRO: projects/1026793852137/locations/us-central1/endpoints/725723853820526592/operations/2063511677244014592\n"
     ]
    },
    {
     "name": "stdout",
     "output_type": "stream",
     "text": [
      "Endpoint model deployed. Resource name: projects/1026793852137/locations/us-central1/endpoints/725723853820526592\n"
     ]
    },
    {
     "name": "stderr",
     "output_type": "stream",
     "text": [
      "INFO:google.cloud.aiplatform.models:Endpoint model deployed. Resource name: projects/1026793852137/locations/us-central1/endpoints/725723853820526592\n"
     ]
    }
   ],
   "source": [
    "if deploy:\n",
    "    print(f'Deploying model with 100% of traffic...')\n",
    "    endpoint.deploy(\n",
    "        model = model,\n",
    "        deployed_model_display_name = model.display_name,\n",
    "        traffic_percentage = 100,\n",
    "        machine_type = DEPLOY_COMPUTE,\n",
    "        min_replica_count = 1,\n",
    "        max_replica_count = 1\n",
    "    )\n",
    "else: print(f'Not deploying - current model is worse ({model_rank}) than the currently deployed model ({deployed_rank})')"
   ]
  },
  {
   "cell_type": "markdown",
   "id": "e758bde2-e521-4570-a5c7-44a1bda0eac0",
   "metadata": {},
   "source": [
    "#### Remove Deployed Models without Traffic"
   ]
  },
  {
   "cell_type": "code",
   "execution_count": 351,
   "id": "00aa9466-6d9a-41cf-9bfa-7e8997572583",
   "metadata": {
    "tags": []
   },
   "outputs": [
    {
     "name": "stdout",
     "output_type": "stream",
     "text": [
      "Model 05_05 with version 18 has traffic = 100\n"
     ]
    }
   ],
   "source": [
    "for deployed_model in endpoint.list_models():\n",
    "    if deployed_model.id in endpoint.traffic_split:\n",
    "        print(f\"Model {deployed_model.display_name} with version {deployed_model.model_version_id} has traffic = {endpoint.traffic_split[deployed_model.id]}\")\n",
    "    else:\n",
    "        endpoint.undeploy(deployed_model_id = deployed_model.id)\n",
    "        print(f\"Undeploying {deployed_model.display_name} with version {deployed_model.model_version_id} because it has no traffic.\")"
   ]
  },
  {
   "cell_type": "code",
   "execution_count": 352,
   "id": "bacf24f6-c02e-409a-82b4-13c6e4a17dd1",
   "metadata": {
    "tags": []
   },
   "outputs": [
    {
     "data": {
      "text/plain": [
       "{'2423682068408958976': 100}"
      ]
     },
     "execution_count": 352,
     "metadata": {},
     "output_type": "execute_result"
    }
   ],
   "source": [
    "endpoint.traffic_split"
   ]
  },
  {
   "cell_type": "code",
   "execution_count": 353,
   "id": "7e416491-c909-45d3-8c79-a74dcafaa4f9",
   "metadata": {
    "tags": []
   },
   "outputs": [],
   "source": [
    "#endpoint.list_models()"
   ]
  },
  {
   "cell_type": "markdown",
   "id": "a58790ad",
   "metadata": {},
   "source": [
    "---\n",
    "## Online Prediction\n",
    "\n",
    "See many more details on requesting predictions in the [05Tools - Prediction](./05Tools%20-%20Prediction.ipynb) notebook."
   ]
  },
  {
   "cell_type": "markdown",
   "id": "342a01eb",
   "metadata": {},
   "source": [
    "### Prepare a record for prediction: instance and parameters lists"
   ]
  },
  {
   "cell_type": "code",
   "execution_count": 354,
   "id": "68911df0-5bee-44fb-9bb8-5aa363ae1c9d",
   "metadata": {
    "tags": []
   },
   "outputs": [],
   "source": [
    "n = 10\n",
    "pred = bq.query(\n",
    "    query = f\"\"\"\n",
    "        SELECT * EXCEPT({','.join([VAR_TARGET] + OMIT)})\n",
    "        FROM {BQ_PROJECT}.{BQ_DATASET}.{BQ_TABLE}\n",
    "        WHERE splits='TEST'\n",
    "        LIMIT {n}\n",
    "        \"\"\"\n",
    ").to_dataframe()"
   ]
  },
  {
   "cell_type": "code",
   "execution_count": 355,
   "id": "e2bae334-4223-4680-a2d0-d350f6a7ef1d",
   "metadata": {
    "tags": []
   },
   "outputs": [
    {
     "data": {
      "text/html": [
       "<div>\n",
       "<style scoped>\n",
       "    .dataframe tbody tr th:only-of-type {\n",
       "        vertical-align: middle;\n",
       "    }\n",
       "\n",
       "    .dataframe tbody tr th {\n",
       "        vertical-align: top;\n",
       "    }\n",
       "\n",
       "    .dataframe thead th {\n",
       "        text-align: right;\n",
       "    }\n",
       "</style>\n",
       "<table border=\"1\" class=\"dataframe\">\n",
       "  <thead>\n",
       "    <tr style=\"text-align: right;\">\n",
       "      <th></th>\n",
       "      <th>Time</th>\n",
       "      <th>V1</th>\n",
       "      <th>V2</th>\n",
       "      <th>V3</th>\n",
       "      <th>V4</th>\n",
       "      <th>V5</th>\n",
       "      <th>V6</th>\n",
       "      <th>V7</th>\n",
       "      <th>V8</th>\n",
       "      <th>V9</th>\n",
       "      <th>...</th>\n",
       "      <th>V20</th>\n",
       "      <th>V21</th>\n",
       "      <th>V22</th>\n",
       "      <th>V23</th>\n",
       "      <th>V24</th>\n",
       "      <th>V25</th>\n",
       "      <th>V26</th>\n",
       "      <th>V27</th>\n",
       "      <th>V28</th>\n",
       "      <th>Amount</th>\n",
       "    </tr>\n",
       "  </thead>\n",
       "  <tbody>\n",
       "    <tr>\n",
       "      <th>0</th>\n",
       "      <td>35337</td>\n",
       "      <td>1.092844</td>\n",
       "      <td>-0.013230</td>\n",
       "      <td>1.359829</td>\n",
       "      <td>2.731537</td>\n",
       "      <td>-0.707357</td>\n",
       "      <td>0.873837</td>\n",
       "      <td>-0.796130</td>\n",
       "      <td>0.437707</td>\n",
       "      <td>0.396770</td>\n",
       "      <td>...</td>\n",
       "      <td>-0.240428</td>\n",
       "      <td>0.037603</td>\n",
       "      <td>0.380026</td>\n",
       "      <td>-0.167647</td>\n",
       "      <td>0.027557</td>\n",
       "      <td>0.592115</td>\n",
       "      <td>0.219695</td>\n",
       "      <td>0.036970</td>\n",
       "      <td>0.010984</td>\n",
       "      <td>0.0</td>\n",
       "    </tr>\n",
       "    <tr>\n",
       "      <th>1</th>\n",
       "      <td>60481</td>\n",
       "      <td>1.238973</td>\n",
       "      <td>0.035226</td>\n",
       "      <td>0.063003</td>\n",
       "      <td>0.641406</td>\n",
       "      <td>-0.260893</td>\n",
       "      <td>-0.580097</td>\n",
       "      <td>0.049938</td>\n",
       "      <td>-0.034733</td>\n",
       "      <td>0.405932</td>\n",
       "      <td>...</td>\n",
       "      <td>-0.265080</td>\n",
       "      <td>-0.060003</td>\n",
       "      <td>-0.053585</td>\n",
       "      <td>-0.057718</td>\n",
       "      <td>0.104983</td>\n",
       "      <td>0.537987</td>\n",
       "      <td>0.589563</td>\n",
       "      <td>-0.046207</td>\n",
       "      <td>-0.006212</td>\n",
       "      <td>0.0</td>\n",
       "    </tr>\n",
       "    <tr>\n",
       "      <th>2</th>\n",
       "      <td>139587</td>\n",
       "      <td>1.870539</td>\n",
       "      <td>0.211079</td>\n",
       "      <td>0.224457</td>\n",
       "      <td>3.889486</td>\n",
       "      <td>-0.380177</td>\n",
       "      <td>0.249799</td>\n",
       "      <td>-0.577133</td>\n",
       "      <td>0.179189</td>\n",
       "      <td>-0.120462</td>\n",
       "      <td>...</td>\n",
       "      <td>-0.374356</td>\n",
       "      <td>0.196006</td>\n",
       "      <td>0.656552</td>\n",
       "      <td>0.180776</td>\n",
       "      <td>-0.060226</td>\n",
       "      <td>-0.228979</td>\n",
       "      <td>0.080827</td>\n",
       "      <td>0.009868</td>\n",
       "      <td>-0.036997</td>\n",
       "      <td>0.0</td>\n",
       "    </tr>\n",
       "    <tr>\n",
       "      <th>3</th>\n",
       "      <td>162908</td>\n",
       "      <td>-3.368339</td>\n",
       "      <td>-1.980442</td>\n",
       "      <td>0.153645</td>\n",
       "      <td>-0.159795</td>\n",
       "      <td>3.847169</td>\n",
       "      <td>-3.516873</td>\n",
       "      <td>-1.209398</td>\n",
       "      <td>-0.292122</td>\n",
       "      <td>0.760543</td>\n",
       "      <td>...</td>\n",
       "      <td>-0.923275</td>\n",
       "      <td>-0.545992</td>\n",
       "      <td>-0.252324</td>\n",
       "      <td>-1.171627</td>\n",
       "      <td>0.214333</td>\n",
       "      <td>-0.159652</td>\n",
       "      <td>-0.060883</td>\n",
       "      <td>1.294977</td>\n",
       "      <td>0.120503</td>\n",
       "      <td>0.0</td>\n",
       "    </tr>\n",
       "    <tr>\n",
       "      <th>4</th>\n",
       "      <td>165236</td>\n",
       "      <td>2.180149</td>\n",
       "      <td>0.218732</td>\n",
       "      <td>-2.637726</td>\n",
       "      <td>0.348776</td>\n",
       "      <td>1.063546</td>\n",
       "      <td>-1.249197</td>\n",
       "      <td>0.942021</td>\n",
       "      <td>-0.547652</td>\n",
       "      <td>-0.087823</td>\n",
       "      <td>...</td>\n",
       "      <td>-0.250653</td>\n",
       "      <td>0.234502</td>\n",
       "      <td>0.825237</td>\n",
       "      <td>-0.176957</td>\n",
       "      <td>0.563779</td>\n",
       "      <td>0.730183</td>\n",
       "      <td>0.707494</td>\n",
       "      <td>-0.131066</td>\n",
       "      <td>-0.090428</td>\n",
       "      <td>0.0</td>\n",
       "    </tr>\n",
       "    <tr>\n",
       "      <th>5</th>\n",
       "      <td>62606</td>\n",
       "      <td>1.199408</td>\n",
       "      <td>0.352007</td>\n",
       "      <td>0.379645</td>\n",
       "      <td>1.372017</td>\n",
       "      <td>0.291347</td>\n",
       "      <td>0.524919</td>\n",
       "      <td>-0.117555</td>\n",
       "      <td>0.132907</td>\n",
       "      <td>-0.935169</td>\n",
       "      <td>...</td>\n",
       "      <td>-0.042979</td>\n",
       "      <td>-0.050291</td>\n",
       "      <td>-0.126609</td>\n",
       "      <td>-0.022218</td>\n",
       "      <td>-0.599026</td>\n",
       "      <td>0.258188</td>\n",
       "      <td>0.928721</td>\n",
       "      <td>-0.058988</td>\n",
       "      <td>-0.008856</td>\n",
       "      <td>0.0</td>\n",
       "    </tr>\n",
       "    <tr>\n",
       "      <th>6</th>\n",
       "      <td>90719</td>\n",
       "      <td>1.937447</td>\n",
       "      <td>0.337882</td>\n",
       "      <td>-0.000630</td>\n",
       "      <td>3.816486</td>\n",
       "      <td>0.276515</td>\n",
       "      <td>1.079842</td>\n",
       "      <td>-0.730626</td>\n",
       "      <td>0.197353</td>\n",
       "      <td>1.137566</td>\n",
       "      <td>...</td>\n",
       "      <td>-0.315667</td>\n",
       "      <td>-0.038376</td>\n",
       "      <td>0.208914</td>\n",
       "      <td>0.160189</td>\n",
       "      <td>-0.015145</td>\n",
       "      <td>-0.162678</td>\n",
       "      <td>-0.000843</td>\n",
       "      <td>-0.018178</td>\n",
       "      <td>-0.039339</td>\n",
       "      <td>0.0</td>\n",
       "    </tr>\n",
       "    <tr>\n",
       "      <th>7</th>\n",
       "      <td>113350</td>\n",
       "      <td>1.891900</td>\n",
       "      <td>0.401086</td>\n",
       "      <td>-0.119983</td>\n",
       "      <td>4.047500</td>\n",
       "      <td>0.049952</td>\n",
       "      <td>0.192793</td>\n",
       "      <td>-0.108512</td>\n",
       "      <td>-0.040400</td>\n",
       "      <td>-0.390391</td>\n",
       "      <td>...</td>\n",
       "      <td>-0.267639</td>\n",
       "      <td>0.094177</td>\n",
       "      <td>0.613712</td>\n",
       "      <td>0.070986</td>\n",
       "      <td>0.079543</td>\n",
       "      <td>0.135219</td>\n",
       "      <td>0.128961</td>\n",
       "      <td>0.003667</td>\n",
       "      <td>-0.045079</td>\n",
       "      <td>0.0</td>\n",
       "    </tr>\n",
       "    <tr>\n",
       "      <th>8</th>\n",
       "      <td>156499</td>\n",
       "      <td>0.060003</td>\n",
       "      <td>1.461355</td>\n",
       "      <td>0.378915</td>\n",
       "      <td>2.835455</td>\n",
       "      <td>1.626526</td>\n",
       "      <td>-0.164732</td>\n",
       "      <td>1.551858</td>\n",
       "      <td>-0.412927</td>\n",
       "      <td>-1.735264</td>\n",
       "      <td>...</td>\n",
       "      <td>-0.175275</td>\n",
       "      <td>0.042293</td>\n",
       "      <td>0.277536</td>\n",
       "      <td>-0.123379</td>\n",
       "      <td>1.081552</td>\n",
       "      <td>-0.053079</td>\n",
       "      <td>-0.149809</td>\n",
       "      <td>-0.314438</td>\n",
       "      <td>-0.216539</td>\n",
       "      <td>0.0</td>\n",
       "    </tr>\n",
       "    <tr>\n",
       "      <th>9</th>\n",
       "      <td>73902</td>\n",
       "      <td>-1.859260</td>\n",
       "      <td>2.158799</td>\n",
       "      <td>1.085671</td>\n",
       "      <td>2.615483</td>\n",
       "      <td>0.246660</td>\n",
       "      <td>2.133925</td>\n",
       "      <td>-1.569015</td>\n",
       "      <td>-2.612353</td>\n",
       "      <td>-1.312509</td>\n",
       "      <td>...</td>\n",
       "      <td>0.590142</td>\n",
       "      <td>-0.867178</td>\n",
       "      <td>-0.700479</td>\n",
       "      <td>0.231972</td>\n",
       "      <td>-1.374527</td>\n",
       "      <td>0.140285</td>\n",
       "      <td>0.128806</td>\n",
       "      <td>0.153606</td>\n",
       "      <td>0.092042</td>\n",
       "      <td>0.0</td>\n",
       "    </tr>\n",
       "  </tbody>\n",
       "</table>\n",
       "<p>10 rows × 30 columns</p>\n",
       "</div>"
      ],
      "text/plain": [
       "     Time        V1        V2        V3        V4        V5        V6  \\\n",
       "0   35337  1.092844 -0.013230  1.359829  2.731537 -0.707357  0.873837   \n",
       "1   60481  1.238973  0.035226  0.063003  0.641406 -0.260893 -0.580097   \n",
       "2  139587  1.870539  0.211079  0.224457  3.889486 -0.380177  0.249799   \n",
       "3  162908 -3.368339 -1.980442  0.153645 -0.159795  3.847169 -3.516873   \n",
       "4  165236  2.180149  0.218732 -2.637726  0.348776  1.063546 -1.249197   \n",
       "5   62606  1.199408  0.352007  0.379645  1.372017  0.291347  0.524919   \n",
       "6   90719  1.937447  0.337882 -0.000630  3.816486  0.276515  1.079842   \n",
       "7  113350  1.891900  0.401086 -0.119983  4.047500  0.049952  0.192793   \n",
       "8  156499  0.060003  1.461355  0.378915  2.835455  1.626526 -0.164732   \n",
       "9   73902 -1.859260  2.158799  1.085671  2.615483  0.246660  2.133925   \n",
       "\n",
       "         V7        V8        V9  ...       V20       V21       V22       V23  \\\n",
       "0 -0.796130  0.437707  0.396770  ... -0.240428  0.037603  0.380026 -0.167647   \n",
       "1  0.049938 -0.034733  0.405932  ... -0.265080 -0.060003 -0.053585 -0.057718   \n",
       "2 -0.577133  0.179189 -0.120462  ... -0.374356  0.196006  0.656552  0.180776   \n",
       "3 -1.209398 -0.292122  0.760543  ... -0.923275 -0.545992 -0.252324 -1.171627   \n",
       "4  0.942021 -0.547652 -0.087823  ... -0.250653  0.234502  0.825237 -0.176957   \n",
       "5 -0.117555  0.132907 -0.935169  ... -0.042979 -0.050291 -0.126609 -0.022218   \n",
       "6 -0.730626  0.197353  1.137566  ... -0.315667 -0.038376  0.208914  0.160189   \n",
       "7 -0.108512 -0.040400 -0.390391  ... -0.267639  0.094177  0.613712  0.070986   \n",
       "8  1.551858 -0.412927 -1.735264  ... -0.175275  0.042293  0.277536 -0.123379   \n",
       "9 -1.569015 -2.612353 -1.312509  ...  0.590142 -0.867178 -0.700479  0.231972   \n",
       "\n",
       "        V24       V25       V26       V27       V28  Amount  \n",
       "0  0.027557  0.592115  0.219695  0.036970  0.010984     0.0  \n",
       "1  0.104983  0.537987  0.589563 -0.046207 -0.006212     0.0  \n",
       "2 -0.060226 -0.228979  0.080827  0.009868 -0.036997     0.0  \n",
       "3  0.214333 -0.159652 -0.060883  1.294977  0.120503     0.0  \n",
       "4  0.563779  0.730183  0.707494 -0.131066 -0.090428     0.0  \n",
       "5 -0.599026  0.258188  0.928721 -0.058988 -0.008856     0.0  \n",
       "6 -0.015145 -0.162678 -0.000843 -0.018178 -0.039339     0.0  \n",
       "7  0.079543  0.135219  0.128961  0.003667 -0.045079     0.0  \n",
       "8  1.081552 -0.053079 -0.149809 -0.314438 -0.216539     0.0  \n",
       "9 -1.374527  0.140285  0.128806  0.153606  0.092042     0.0  \n",
       "\n",
       "[10 rows x 30 columns]"
      ]
     },
     "execution_count": 355,
     "metadata": {},
     "output_type": "execute_result"
    }
   ],
   "source": [
    "pred"
   ]
  },
  {
   "cell_type": "code",
   "execution_count": 356,
   "id": "5640e67a",
   "metadata": {
    "tags": []
   },
   "outputs": [],
   "source": [
    "newobs = pred.to_dict(orient = 'records')\n",
    "#newobs[0]"
   ]
  },
  {
   "cell_type": "code",
   "execution_count": 357,
   "id": "ce631c5e-b200-43c8-9577-b77f957bb63f",
   "metadata": {
    "tags": []
   },
   "outputs": [
    {
     "data": {
      "text/plain": [
       "[{'Time': 35337,\n",
       "  'V1': 1.0928441854981998,\n",
       "  'V2': -0.0132303486713432,\n",
       "  'V3': 1.35982868199426,\n",
       "  'V4': 2.7315370965921004,\n",
       "  'V5': -0.707357349219652,\n",
       "  'V6': 0.8738370029866129,\n",
       "  'V7': -0.7961301510622031,\n",
       "  'V8': 0.437706509544851,\n",
       "  'V9': 0.39676985012996396,\n",
       "  'V10': 0.587438102569443,\n",
       "  'V11': -0.14979756231827498,\n",
       "  'V12': 0.29514781622888103,\n",
       "  'V13': -1.30382621882143,\n",
       "  'V14': -0.31782283120234495,\n",
       "  'V15': -2.03673231037199,\n",
       "  'V16': 0.376090905274179,\n",
       "  'V17': -0.30040350116459497,\n",
       "  'V18': 0.433799615590844,\n",
       "  'V19': -0.145082264348681,\n",
       "  'V20': -0.240427548108996,\n",
       "  'V21': 0.0376030733329398,\n",
       "  'V22': 0.38002620963091405,\n",
       "  'V23': -0.16764742731151097,\n",
       "  'V24': 0.0275573495476881,\n",
       "  'V25': 0.59211469704354,\n",
       "  'V26': 0.219695164116351,\n",
       "  'V27': 0.0369695108704894,\n",
       "  'V28': 0.010984441006191,\n",
       "  'Amount': 0.0}]"
      ]
     },
     "execution_count": 357,
     "metadata": {},
     "output_type": "execute_result"
    }
   ],
   "source": [
    "newobs[0:1]"
   ]
  },
  {
   "cell_type": "code",
   "execution_count": 358,
   "id": "87cb579c-4b99-4415-ad1f-191a1d9f9993",
   "metadata": {
    "tags": []
   },
   "outputs": [],
   "source": [
    "newobs = [{k:[v] for k,v in newob.items()} for newob in newobs]"
   ]
  },
  {
   "cell_type": "code",
   "execution_count": 189,
   "id": "617e1e9f",
   "metadata": {
    "tags": []
   },
   "outputs": [],
   "source": [
    "#instances = [json_format.ParseDict(newobs[0], Value())]"
   ]
  },
  {
   "cell_type": "markdown",
   "id": "81d5eff9",
   "metadata": {},
   "source": [
    "### Get Predictions: Python Client"
   ]
  },
  {
   "cell_type": "code",
   "execution_count": 359,
   "id": "dec05c59-dc93-4a69-90bf-5f3f96f4d006",
   "metadata": {
    "tags": []
   },
   "outputs": [
    {
     "data": {
      "text/plain": [
       "Prediction(predictions=[[0.999759495, 0.000240550202]], deployed_model_id='2423682068408958976', model_version_id='18', model_resource_name='projects/1026793852137/locations/us-central1/models/model_05_05', explanations=None)"
      ]
     },
     "execution_count": 359,
     "metadata": {},
     "output_type": "execute_result"
    }
   ],
   "source": [
    "prediction = endpoint.predict(instances = newobs[0:1])\n",
    "prediction"
   ]
  },
  {
   "cell_type": "code",
   "execution_count": 360,
   "id": "06cb59fe",
   "metadata": {
    "tags": []
   },
   "outputs": [
    {
     "data": {
      "text/plain": [
       "Prediction(predictions=[[0.999759436, 0.000240550187], [0.999389887, 0.000610154064], [0.999763489, 0.000236547974], [0.999877691, 0.000122421377], [0.999873161, 0.000126962157], [0.999579489, 0.000420496828], [0.999929368, 7.053015e-05], [0.999938548, 6.13750744e-05], [0.999892116, 0.00010785809], [0.999943733, 5.62981877e-05]], deployed_model_id='2423682068408958976', model_version_id='18', model_resource_name='projects/1026793852137/locations/us-central1/models/model_05_05', explanations=None)"
      ]
     },
     "execution_count": 360,
     "metadata": {},
     "output_type": "execute_result"
    }
   ],
   "source": [
    "prediction = endpoint.predict(instances = newobs)\n",
    "prediction"
   ]
  },
  {
   "cell_type": "code",
   "execution_count": 361,
   "id": "3b22b4cb",
   "metadata": {
    "tags": []
   },
   "outputs": [
    {
     "data": {
      "text/plain": [
       "[0.999759436, 0.000240550187]"
      ]
     },
     "execution_count": 361,
     "metadata": {},
     "output_type": "execute_result"
    }
   ],
   "source": [
    "prediction.predictions[0]"
   ]
  },
  {
   "cell_type": "code",
   "execution_count": 362,
   "id": "b64e3283",
   "metadata": {
    "tags": []
   },
   "outputs": [
    {
     "data": {
      "text/plain": [
       "0"
      ]
     },
     "execution_count": 362,
     "metadata": {},
     "output_type": "execute_result"
    }
   ],
   "source": [
    "np.argmax(prediction.predictions[0])"
   ]
  },
  {
   "cell_type": "markdown",
   "id": "8c2a8676",
   "metadata": {},
   "source": [
    "### Get Predictions: REST"
   ]
  },
  {
   "cell_type": "code",
   "execution_count": 363,
   "id": "5f97f30c",
   "metadata": {
    "tags": []
   },
   "outputs": [],
   "source": [
    "with open(f'{DIR}/request.json','w') as file:\n",
    "    file.write(json.dumps({\"instances\": newobs[0:1]}))"
   ]
  },
  {
   "cell_type": "code",
   "execution_count": 364,
   "id": "362dd5c2",
   "metadata": {
    "tags": []
   },
   "outputs": [
    {
     "name": "stdout",
     "output_type": "stream",
     "text": [
      "{\n",
      "  \"predictions\": [\n",
      "    [\n",
      "      0.999759495,\n",
      "      0.000240550202\n",
      "    ]\n",
      "  ],\n",
      "  \"deployedModelId\": \"2423682068408958976\",\n",
      "  \"model\": \"projects/1026793852137/locations/us-central1/models/model_05_05\",\n",
      "  \"modelDisplayName\": \"05_05\",\n",
      "  \"modelVersionId\": \"18\"\n",
      "}\n"
     ]
    }
   ],
   "source": [
    "!curl -X POST \\\n",
    "-H \"Authorization: Bearer \"$(gcloud auth application-default print-access-token) \\\n",
    "-H \"Content-Type: application/json; charset=utf-8\" \\\n",
    "-d @{DIR}/request.json \\\n",
    "https://{REGION}-aiplatform.googleapis.com/v1/{endpoint.resource_name}:predict"
   ]
  },
  {
   "cell_type": "markdown",
   "id": "74bd7c47",
   "metadata": {},
   "source": [
    "### Get Predictions: gcloud (CLI)"
   ]
  },
  {
   "cell_type": "code",
   "execution_count": 366,
   "id": "d1e56e39",
   "metadata": {
    "tags": []
   },
   "outputs": [
    {
     "name": "stdout",
     "output_type": "stream",
     "text": [
      "Using endpoint [https://us-central1-prediction-aiplatform.googleapis.com/]\n",
      "[[0.999759495, 0.000240550202]]\n"
     ]
    }
   ],
   "source": [
    "!gcloud ai endpoints predict {endpoint.name.rsplit('/',1)[-1]} --region={REGION} --json-request={DIR}/request.json"
   ]
  },
  {
   "cell_type": "markdown",
   "id": "ba500bf3-d4fa-46a7-934d-3a667da69a9f",
   "metadata": {},
   "source": [
    "---\n",
    "## Batch Prediction\n",
    "\n",
    "This section will create a batch prediction job in Vertex AI Prediction.  For more details and workflows around batch predictions see the notebook: [05Tools - Prediction - Batch.ipynb](./05Tools%20-%20Prediction%20-%20Batch.ipynb)."
   ]
  },
  {
   "cell_type": "code",
   "execution_count": null,
   "id": "fe4e2abb-74df-4cd6-9a0c-d05dded1ec6a",
   "metadata": {},
   "outputs": [],
   "source": []
  },
  {
   "cell_type": "code",
   "execution_count": null,
   "id": "3a97a977-19fc-48de-a3ab-11033769e723",
   "metadata": {},
   "outputs": [],
   "source": []
  },
  {
   "cell_type": "code",
   "execution_count": null,
   "id": "dc30f471-eb06-42a0-8c19-76e8cb50b429",
   "metadata": {},
   "outputs": [],
   "source": []
  },
  {
   "cell_type": "markdown",
   "id": "391f38ee-d801-4b86-a43d-99f44de722a2",
   "metadata": {},
   "source": [
    "---\n",
    "## Vertex AI Pipelines\n",
    "\n",
    "The notebook above has done many steps of an MLOps workflow:\n",
    "- setup training data\n",
    "- train a model\n",
    "- evaluated a model\n",
    "- integrate with Vertex AI Experiments and managed Tensorboard\n",
    "- Register model to Vertex AI Model Registry with versioning and evaluations\n",
    "- Create Vertex AI Prediction Endpoint and conditionally deploy the current model\n",
    "- Create a Batch Predictions Job\n",
    "\n",
    "What if this all needed to be automated?  This is where Vertex AI Pipelines, a fully managed service for running Kubeflow Pipelines (KFP) puts the workflow into action."
   ]
  },
  {
   "cell_type": "markdown",
   "id": "4a485ae6",
   "metadata": {},
   "source": [
    "---\n",
    "## Remove Resources\n",
    "see notebook \"99 - Cleanup\""
   ]
  },
  {
   "cell_type": "code",
   "execution_count": null,
   "id": "3e647604-c381-4ecd-bba1-ebea7ce39eff",
   "metadata": {},
   "outputs": [],
   "source": [
    "# remove endpoints"
   ]
  },
  {
   "cell_type": "code",
   "execution_count": null,
   "id": "a94cdf95-2547-4f34-9d53-3e51d61954c1",
   "metadata": {},
   "outputs": [],
   "source": [
    "# remove models"
   ]
  },
  {
   "cell_type": "code",
   "execution_count": null,
   "id": "0bc87178-04bd-4f7b-aef7-29fb213107d1",
   "metadata": {},
   "outputs": [],
   "source": [
    "# remove experiments"
   ]
  },
  {
   "cell_type": "code",
   "execution_count": null,
   "id": "77713dcc-d45d-4616-8611-75907ec4753c",
   "metadata": {},
   "outputs": [],
   "source": [
    "# remove training job"
   ]
  },
  {
   "cell_type": "code",
   "execution_count": null,
   "id": "5e64d513-77fa-4676-9eee-d8787ebc9f56",
   "metadata": {},
   "outputs": [],
   "source": [
    "# remove pipeline runs"
   ]
  },
  {
   "cell_type": "code",
   "execution_count": null,
   "id": "9b8f6079-523d-470b-8a99-67c26955aab3",
   "metadata": {},
   "outputs": [],
   "source": [
    "# remove GCS files"
   ]
  },
  {
   "cell_type": "code",
   "execution_count": null,
   "id": "b018d864-838d-4f90-9538-47bfa729ad1e",
   "metadata": {},
   "outputs": [],
   "source": []
  },
  {
   "cell_type": "code",
   "execution_count": null,
   "id": "feaaea05-d41c-4f5f-84fd-060f5fa4d99f",
   "metadata": {},
   "outputs": [],
   "source": []
  },
  {
   "cell_type": "code",
   "execution_count": null,
   "id": "d1ba1f9e-739d-457a-bca8-17256e998c4d",
   "metadata": {},
   "outputs": [],
   "source": []
  },
  {
   "cell_type": "code",
   "execution_count": null,
   "id": "a1d9f00b-6054-41b7-9ccf-5cd0a065d440",
   "metadata": {},
   "outputs": [],
   "source": []
  }
 ],
 "metadata": {
  "environment": {
   "kernel": "conda-root-py",
   "name": "workbench-notebooks.m113",
   "type": "gcloud",
   "uri": "gcr.io/deeplearning-platform-release/workbench-notebooks:m113"
  },
  "kernelspec": {
   "display_name": "Python 3 (ipykernel) (Local)",
   "language": "python",
   "name": "conda-root-py"
  },
  "language_info": {
   "codemirror_mode": {
    "name": "ipython",
    "version": 3
   },
   "file_extension": ".py",
   "mimetype": "text/x-python",
   "name": "python",
   "nbconvert_exporter": "python",
   "pygments_lexer": "ipython3",
   "version": "3.10.13"
  }
 },
 "nbformat": 4,
 "nbformat_minor": 5
}
