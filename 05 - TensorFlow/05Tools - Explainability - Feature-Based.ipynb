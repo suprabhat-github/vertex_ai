{
 "cells": [
  {
   "cell_type": "markdown",
   "id": "09e47d63",
   "metadata": {},
   "source": [
    "![ga4](https://www.google-analytics.com/collect?v=2&tid=G-6VDTYWLKX6&cid=1&en=page_view&sid=1&dl=statmike%2Fvertex-ai-mlops%2F05+-+TensorFlow&dt=05Tools+-+Explainability+-+Feature-Based.ipynb)\n",
    "<!--- header table --->\n",
    "<table align=\"left\">\n",
    "  <td style=\"text-align: center\">\n",
    "    <a href=\"https://colab.research.google.com/github/statmike/vertex-ai-mlops/blob/main/05%20-%20TensorFlow/05Tools%20-%20Explainability%20-%20Feature-Based.ipynb\">\n",
    "      <img src=\"https://cloud.google.com/ml-engine/images/colab-logo-32px.png\" alt=\"Google Colaboratory logo\">\n",
    "      <br>Run in<br>Colab\n",
    "    </a>\n",
    "  </td>\n",
    "  <td style=\"text-align: center\">\n",
    "    <a href=\"https://console.cloud.google.com/vertex-ai/colab/import/https%3A//raw.githubusercontent.com/statmike/vertex-ai-mlops/main/05%20-%20TensorFlow/05Tools%20-%20Explainability%20-%20Feature-Based.ipynb\">\n",
    "      <img width=\"32px\" src=\"https://lh3.googleusercontent.com/JmcxdQi-qOpctIvWKgPtrzZdJJK-J3sWE1RsfjZNwshCFgE_9fULcNpuXYTilIR2hjwN\" alt=\"Google Cloud Colab Enterprise logo\">\n",
    "      <br>Run in<br>Colab Enterprise\n",
    "    </a>\n",
    "  </td>      \n",
    "  <td style=\"text-align: center\">\n",
    "    <a href=\"https://github.com/statmike/vertex-ai-mlops/blob/main/05%20-%20TensorFlow/05Tools%20-%20Explainability%20-%20Feature-Based.ipynb\">\n",
    "      <img src=\"https://cloud.google.com/ml-engine/images/github-logo-32px.png\" alt=\"GitHub logo\">\n",
    "      <br>View on<br>GitHub\n",
    "    </a>\n",
    "  </td>\n",
    "  <td style=\"text-align: center\">\n",
    "    <a href=\"https://console.cloud.google.com/vertex-ai/workbench/deploy-notebook?download_url=https%3A//raw.githubusercontent.com/statmike/vertex-ai-mlops/main/05%20-%20TensorFlow/05Tools%20-%20Explainability%20-%20Feature-Based.ipynb\">\n",
    "      <img src=\"https://lh3.googleusercontent.com/UiNooY4LUgW_oTvpsNhPpQzsstV5W8F7rYgxgGBD85cWJoLmrOzhVs_ksK_vgx40SHs7jCqkTkCk=e14-rj-sc0xffffff-h130-w32\" alt=\"Vertex AI logo\">\n",
    "      <br>Open in<br>Vertex AI Workbench\n",
    "    </a>\n",
    "  </td>\n",
    "</table>"
   ]
  },
  {
   "cell_type": "markdown",
   "id": "d88c3e15-9a15-4d65-b959-d122b5af91cf",
   "metadata": {},
   "source": [
    "# 05Tools: Model Explainability - Feature-Based\n",
    "\n",
    "Model explainability helps understand model outputs = predictions.  There are two approaches here:\n",
    "- Feature-Based Explanations - columns/features attributions\n",
    "    - How much did each feature contribute to a specific prediction\n",
    "    - Uses a baseline for comparison, usually based on a central value for each feature from the training data\n",
    "    - Helpful for recognizing bias and finding areas for improvement\n",
    "    - Read more about [feature attributions and methods](https://cloud.google.com/vertex-ai/docs/explainable-ai/overview#feature_attributions)\n",
    "    - Examples in [github.com/GoogleClouPlatform/vertex-ai-samples](https://github.com/GoogleCloudPlatform/vertex-ai-samples/tree/main/notebooks/official/explainable_ai)\n",
    "- Example-Based Explanations - row/example attributions\n",
    "    - Return similar examples from training data, neighbors, to help understand predictions\n",
    "    - Along with a prediction, get examples from the source data that are most similar to the prediction to further understand \"why?\"\n",
    "    \n",
    "This notebook covers feature-based explanations.  For a review of example-based explanations see the notebook [05Tools - Explainability - Example-Based.ipynb](./05Tools%20-%20Explainability%20-%20Example-Based.ipynb).\n",
    "    \n",
    "Vertex AI can serve explanations during online and batch predictions.  \n",
    "\n",
    "### Prerequisites:\n",
    "-  At least 1 of the notebooks in this series [05, 05a-05i]\n",
    "    - these each create a model, add it to the Vertex AI Model Registry, and update a Vertex AI Endpoint for the series\n",
    "\n",
    "### Conceptual Flow & Workflow\n",
    "<p align=\"center\">\n",
    "  <img alt=\"Conceptual Flow\" src=\"../architectures/slides/05tools_explain_arch.png\" width=\"45%\">\n",
    "&nbsp; &nbsp; &nbsp; &nbsp;\n",
    "  <img alt=\"Workflow\" src=\"../architectures/slides/05tools_explain_console.png\" width=\"45%\">\n",
    "</p>"
   ]
  },
  {
   "cell_type": "markdown",
   "id": "dfbf5aea-7edc-4961-bd66-542bbf201e06",
   "metadata": {},
   "source": [
    "---\n",
    "## Setup"
   ]
  },
  {
   "cell_type": "markdown",
   "id": "a2150c34-bfff-432b-b60a-20af9c153650",
   "metadata": {},
   "source": [
    "inputs:"
   ]
  },
  {
   "cell_type": "code",
   "execution_count": 1,
   "id": "93b4f256-97d1-4bf1-8b38-4b3bca857ac2",
   "metadata": {},
   "outputs": [
    {
     "data": {
      "text/plain": [
       "'statmike-mlops-349915'"
      ]
     },
     "execution_count": 1,
     "metadata": {},
     "output_type": "execute_result"
    }
   ],
   "source": [
    "project = !gcloud config get-value project\n",
    "PROJECT_ID = project[0]\n",
    "PROJECT_ID"
   ]
  },
  {
   "cell_type": "code",
   "execution_count": 2,
   "id": "3baf2329-67a1-40ce-b16c-77cbc733dff6",
   "metadata": {},
   "outputs": [],
   "source": [
    "REGION = 'us-central1'\n",
    "EXPERIMENT = '05_explanability'\n",
    "SERIES = '05'\n",
    "\n",
    "# source data\n",
    "BQ_PROJECT = PROJECT_ID\n",
    "BQ_DATASET = 'fraud'\n",
    "BQ_TABLE = 'fraud_prepped'\n",
    "\n",
    "# Resources\n",
    "DEPLOY_COMPUTE = 'n1-standard-4'\n",
    "DEPLOY_IMAGE='us-docker.pkg.dev/vertex-ai/prediction/tf2-cpu.2-7:latest'\n",
    "\n",
    "# Model Training\n",
    "VAR_TARGET = 'Class'\n",
    "VAR_OMIT = 'transaction_id' # add more variables to the string with space delimiters"
   ]
  },
  {
   "cell_type": "markdown",
   "id": "5c4f4c23-a10a-4027-8ab4-edb59d949fef",
   "metadata": {},
   "source": [
    "packages:"
   ]
  },
  {
   "cell_type": "code",
   "execution_count": 3,
   "id": "f5c03913-cb39-4367-810b-2685e713fd0c",
   "metadata": {},
   "outputs": [],
   "source": [
    "from google.cloud import aiplatform\n",
    "from google.cloud import bigquery\n",
    "\n",
    "import tensorflow as tf\n",
    "\n",
    "from datetime import datetime\n",
    "from google.protobuf import json_format\n",
    "from google.protobuf.struct_pb2 import Value\n",
    "import json\n",
    "import numpy as np"
   ]
  },
  {
   "cell_type": "markdown",
   "id": "3a12ed0a-3c56-48de-8e56-82dd1d860f23",
   "metadata": {},
   "source": [
    "clients:"
   ]
  },
  {
   "cell_type": "code",
   "execution_count": 4,
   "id": "8ea5aef0-1cf6-4f2a-ab03-bd91c04154c5",
   "metadata": {},
   "outputs": [],
   "source": [
    "aiplatform.init(project=PROJECT_ID, location=REGION)\n",
    "bq = bigquery.Client(project=PROJECT_ID)"
   ]
  },
  {
   "cell_type": "markdown",
   "id": "35ee3501-3580-484d-9a21-232676afd882",
   "metadata": {},
   "source": [
    "parameters:"
   ]
  },
  {
   "cell_type": "code",
   "execution_count": 5,
   "id": "4192c9bb-7fd3-426a-8c8b-a302dbdbcf9f",
   "metadata": {},
   "outputs": [],
   "source": [
    "BUCKET = PROJECT_ID\n",
    "DIR = f\"temp/{EXPERIMENT}\""
   ]
  },
  {
   "cell_type": "code",
   "execution_count": 6,
   "id": "5ed3c39a-1004-4aad-b4d4-6885873ad17c",
   "metadata": {},
   "outputs": [
    {
     "data": {
      "text/plain": [
       "'1026793852137-compute@developer.gserviceaccount.com'"
      ]
     },
     "execution_count": 6,
     "metadata": {},
     "output_type": "execute_result"
    }
   ],
   "source": [
    "SERVICE_ACCOUNT = !gcloud config list --format='value(core.account)' \n",
    "SERVICE_ACCOUNT = SERVICE_ACCOUNT[0]\n",
    "SERVICE_ACCOUNT"
   ]
  },
  {
   "cell_type": "markdown",
   "id": "3d466299-34cf-4350-9b9d-4dff5d1499df",
   "metadata": {},
   "source": [
    "List the service accounts current roles:"
   ]
  },
  {
   "cell_type": "code",
   "execution_count": 7,
   "id": "8b131ff2-6b09-47e7-833f-889ad1d02127",
   "metadata": {},
   "outputs": [
    {
     "name": "stdout",
     "output_type": "stream",
     "text": [
      "ROLE\n",
      "roles/bigquery.admin\n",
      "roles/owner\n",
      "roles/run.admin\n",
      "roles/storage.objectAdmin\n"
     ]
    }
   ],
   "source": [
    "!gcloud projects get-iam-policy $PROJECT_ID --filter=\"bindings.members:$SERVICE_ACCOUNT\" --format='table(bindings.role)' --flatten=\"bindings[].members\""
   ]
  },
  {
   "cell_type": "markdown",
   "id": "a26d1a7d-0e10-4f8a-8ff6-bc4c6c05bf3c",
   "metadata": {},
   "source": [
    ">Note: If the resulting list is missing [roles/storage.objectAdmin](https://cloud.google.com/storage/docs/access-control/iam-roles) then [revisit the setup notebook](../00%20-%20Setup/00%20-%20Environment%20Setup.ipynb#permissions) and add this permission to the service account with the provided instructions."
   ]
  },
  {
   "cell_type": "markdown",
   "id": "fa52b2ea-b3d1-4bb6-9c5d-196f5d26fe34",
   "metadata": {},
   "source": [
    "environment:"
   ]
  },
  {
   "cell_type": "code",
   "execution_count": 8,
   "id": "cd20362b-3fd3-4bd4-a73f-0e58a9c4373f",
   "metadata": {},
   "outputs": [],
   "source": [
    "!rm -rf {DIR}\n",
    "!mkdir -p {DIR}"
   ]
  },
  {
   "cell_type": "markdown",
   "id": "59ae4f69-6b08-4ca6-8dc0-a7cf16fea77d",
   "metadata": {},
   "source": [
    "---\n",
    "## Get Vertex AI Endpoint"
   ]
  },
  {
   "cell_type": "code",
   "execution_count": 9,
   "id": "b2d74afb-77ea-4e0b-88d0-1689c4fc219c",
   "metadata": {},
   "outputs": [
    {
     "name": "stdout",
     "output_type": "stream",
     "text": [
      "Endpoint Exists: projects/1026793852137/locations/us-central1/endpoints/8352053052307406848\n"
     ]
    }
   ],
   "source": [
    "endpoints = aiplatform.Endpoint.list(filter = f\"labels.series={SERIES}\")\n",
    "if endpoints:\n",
    "    endpoint = endpoints[0]\n",
    "    print(f\"Endpoint Exists: {endpoints[0].resource_name}\")\n",
    "else:\n",
    "    print(f\"There does not appear to be an endpoint for SERIES = {SERIES}\")"
   ]
  },
  {
   "cell_type": "code",
   "execution_count": 10,
   "id": "676f81ea-c357-4e3f-9451-2bb5579e1372",
   "metadata": {},
   "outputs": [
    {
     "data": {
      "text/plain": [
       "'05'"
      ]
     },
     "execution_count": 10,
     "metadata": {},
     "output_type": "execute_result"
    }
   ],
   "source": [
    "endpoint.display_name"
   ]
  },
  {
   "cell_type": "code",
   "execution_count": 39,
   "id": "db1d1979-bf46-4f74-a189-fe8eb66c98dc",
   "metadata": {},
   "outputs": [
    {
     "name": "stdout",
     "output_type": "stream",
     "text": [
      "Review the Endpoint in the Console:\n",
      "https://console.cloud.google.com/vertex-ai/locations/us-central1/endpoints/8352053052307406848?project=statmike-mlops-349915\n"
     ]
    }
   ],
   "source": [
    "print(f'Review the Endpoint in the Console:\\nhttps://console.cloud.google.com/vertex-ai/locations/{REGION}/endpoints/{endpoint.name}?project={PROJECT_ID}')"
   ]
  },
  {
   "cell_type": "markdown",
   "id": "43aa04b6-51f0-4ab7-b544-f3413a014d98",
   "metadata": {},
   "source": [
    "---\n",
    "## Get The Deployed Model"
   ]
  },
  {
   "cell_type": "code",
   "execution_count": 11,
   "id": "fbdb37dd-2fba-48d8-9527-467b7760cf76",
   "metadata": {},
   "outputs": [],
   "source": [
    "model = aiplatform.Model(\n",
    "    model_name = endpoint.list_models()[0].model+f'@{endpoint.list_models()[0].model_version_id}'\n",
    ")"
   ]
  },
  {
   "cell_type": "code",
   "execution_count": 12,
   "id": "e090e560-9f82-480e-ab4e-9828b53de940",
   "metadata": {},
   "outputs": [
    {
     "data": {
      "text/plain": [
       "'05_05a'"
      ]
     },
     "execution_count": 12,
     "metadata": {},
     "output_type": "execute_result"
    }
   ],
   "source": [
    "model.display_name"
   ]
  },
  {
   "cell_type": "code",
   "execution_count": 13,
   "id": "88e8314c-c86a-4fe8-8fb1-7443eb3b2561",
   "metadata": {},
   "outputs": [
    {
     "data": {
      "text/plain": [
       "'projects/1026793852137/locations/us-central1/models/model_05_05a@6'"
      ]
     },
     "execution_count": 13,
     "metadata": {},
     "output_type": "execute_result"
    }
   ],
   "source": [
    "model.versioned_resource_name"
   ]
  },
  {
   "cell_type": "code",
   "execution_count": 14,
   "id": "52cf670f-e51d-45cf-b405-66ed396f0634",
   "metadata": {},
   "outputs": [
    {
     "data": {
      "text/plain": [
       "'gs://statmike-mlops-349915/05/05a/models/20230210132930/model'"
      ]
     },
     "execution_count": 14,
     "metadata": {},
     "output_type": "execute_result"
    }
   ],
   "source": [
    "model.uri"
   ]
  },
  {
   "cell_type": "code",
   "execution_count": 18,
   "id": "6d694738-db80-4ee7-9827-fb1a80271071",
   "metadata": {},
   "outputs": [
    {
     "data": {
      "text/plain": [
       "'6'"
      ]
     },
     "execution_count": 18,
     "metadata": {},
     "output_type": "execute_result"
    }
   ],
   "source": [
    "model.version_id"
   ]
  },
  {
   "cell_type": "code",
   "execution_count": 19,
   "id": "b661eb8b-b8d4-4a4d-bf4e-fff9191235d5",
   "metadata": {},
   "outputs": [
    {
     "name": "stdout",
     "output_type": "stream",
     "text": [
      "Review the model in the Vertex AI Model Registry:\n",
      "https://console.cloud.google.com/vertex-ai/locations/us-central1/models/model_05_05a/versions/6/properties?project=statmike-mlops-349915\n"
     ]
    }
   ],
   "source": [
    "print(f'Review the model in the Vertex AI Model Registry:\\nhttps://console.cloud.google.com/vertex-ai/locations/{REGION}/models/{model.name}/versions/{model.version_id}/properties?project={PROJECT_ID}')"
   ]
  },
  {
   "cell_type": "markdown",
   "id": "44951097-7ecb-4508-ae3a-83633598919a",
   "metadata": {},
   "source": [
    "---\n",
    "## Retrieve Records For Prediction & Explanation"
   ]
  },
  {
   "cell_type": "code",
   "execution_count": 20,
   "id": "642aee16-fb2b-4898-a190-f6c490210992",
   "metadata": {},
   "outputs": [],
   "source": [
    "n = 10\n",
    "pred = bq.query(\n",
    "    query = f\"\"\"\n",
    "        SELECT * EXCEPT({VAR_TARGET}, {VAR_OMIT}, splits)\n",
    "        FROM {BQ_PROJECT}.{BQ_DATASET}.{BQ_TABLE}\n",
    "        WHERE splits='TEST'\n",
    "        LIMIT {n}\n",
    "        \"\"\"\n",
    ").to_dataframe()"
   ]
  },
  {
   "cell_type": "code",
   "execution_count": 21,
   "id": "b08ce989-7e11-42ee-9a71-995211669620",
   "metadata": {},
   "outputs": [
    {
     "data": {
      "text/html": [
       "<div>\n",
       "<style scoped>\n",
       "    .dataframe tbody tr th:only-of-type {\n",
       "        vertical-align: middle;\n",
       "    }\n",
       "\n",
       "    .dataframe tbody tr th {\n",
       "        vertical-align: top;\n",
       "    }\n",
       "\n",
       "    .dataframe thead th {\n",
       "        text-align: right;\n",
       "    }\n",
       "</style>\n",
       "<table border=\"1\" class=\"dataframe\">\n",
       "  <thead>\n",
       "    <tr style=\"text-align: right;\">\n",
       "      <th></th>\n",
       "      <th>Time</th>\n",
       "      <th>V1</th>\n",
       "      <th>V2</th>\n",
       "      <th>V3</th>\n",
       "      <th>V4</th>\n",
       "      <th>V5</th>\n",
       "      <th>V6</th>\n",
       "      <th>V7</th>\n",
       "      <th>V8</th>\n",
       "      <th>V9</th>\n",
       "      <th>...</th>\n",
       "      <th>V20</th>\n",
       "      <th>V21</th>\n",
       "      <th>V22</th>\n",
       "      <th>V23</th>\n",
       "      <th>V24</th>\n",
       "      <th>V25</th>\n",
       "      <th>V26</th>\n",
       "      <th>V27</th>\n",
       "      <th>V28</th>\n",
       "      <th>Amount</th>\n",
       "    </tr>\n",
       "  </thead>\n",
       "  <tbody>\n",
       "    <tr>\n",
       "      <th>0</th>\n",
       "      <td>35337</td>\n",
       "      <td>1.092844</td>\n",
       "      <td>-0.013230</td>\n",
       "      <td>1.359829</td>\n",
       "      <td>2.731537</td>\n",
       "      <td>-0.707357</td>\n",
       "      <td>0.873837</td>\n",
       "      <td>-0.796130</td>\n",
       "      <td>0.437707</td>\n",
       "      <td>0.396770</td>\n",
       "      <td>...</td>\n",
       "      <td>-0.240428</td>\n",
       "      <td>0.037603</td>\n",
       "      <td>0.380026</td>\n",
       "      <td>-0.167647</td>\n",
       "      <td>0.027557</td>\n",
       "      <td>0.592115</td>\n",
       "      <td>0.219695</td>\n",
       "      <td>0.036970</td>\n",
       "      <td>0.010984</td>\n",
       "      <td>0.0</td>\n",
       "    </tr>\n",
       "    <tr>\n",
       "      <th>1</th>\n",
       "      <td>60481</td>\n",
       "      <td>1.238973</td>\n",
       "      <td>0.035226</td>\n",
       "      <td>0.063003</td>\n",
       "      <td>0.641406</td>\n",
       "      <td>-0.260893</td>\n",
       "      <td>-0.580097</td>\n",
       "      <td>0.049938</td>\n",
       "      <td>-0.034733</td>\n",
       "      <td>0.405932</td>\n",
       "      <td>...</td>\n",
       "      <td>-0.265080</td>\n",
       "      <td>-0.060003</td>\n",
       "      <td>-0.053585</td>\n",
       "      <td>-0.057718</td>\n",
       "      <td>0.104983</td>\n",
       "      <td>0.537987</td>\n",
       "      <td>0.589563</td>\n",
       "      <td>-0.046207</td>\n",
       "      <td>-0.006212</td>\n",
       "      <td>0.0</td>\n",
       "    </tr>\n",
       "    <tr>\n",
       "      <th>2</th>\n",
       "      <td>139587</td>\n",
       "      <td>1.870539</td>\n",
       "      <td>0.211079</td>\n",
       "      <td>0.224457</td>\n",
       "      <td>3.889486</td>\n",
       "      <td>-0.380177</td>\n",
       "      <td>0.249799</td>\n",
       "      <td>-0.577133</td>\n",
       "      <td>0.179189</td>\n",
       "      <td>-0.120462</td>\n",
       "      <td>...</td>\n",
       "      <td>-0.374356</td>\n",
       "      <td>0.196006</td>\n",
       "      <td>0.656552</td>\n",
       "      <td>0.180776</td>\n",
       "      <td>-0.060226</td>\n",
       "      <td>-0.228979</td>\n",
       "      <td>0.080827</td>\n",
       "      <td>0.009868</td>\n",
       "      <td>-0.036997</td>\n",
       "      <td>0.0</td>\n",
       "    </tr>\n",
       "    <tr>\n",
       "      <th>3</th>\n",
       "      <td>162908</td>\n",
       "      <td>-3.368339</td>\n",
       "      <td>-1.980442</td>\n",
       "      <td>0.153645</td>\n",
       "      <td>-0.159795</td>\n",
       "      <td>3.847169</td>\n",
       "      <td>-3.516873</td>\n",
       "      <td>-1.209398</td>\n",
       "      <td>-0.292122</td>\n",
       "      <td>0.760543</td>\n",
       "      <td>...</td>\n",
       "      <td>-0.923275</td>\n",
       "      <td>-0.545992</td>\n",
       "      <td>-0.252324</td>\n",
       "      <td>-1.171627</td>\n",
       "      <td>0.214333</td>\n",
       "      <td>-0.159652</td>\n",
       "      <td>-0.060883</td>\n",
       "      <td>1.294977</td>\n",
       "      <td>0.120503</td>\n",
       "      <td>0.0</td>\n",
       "    </tr>\n",
       "    <tr>\n",
       "      <th>4</th>\n",
       "      <td>165236</td>\n",
       "      <td>2.180149</td>\n",
       "      <td>0.218732</td>\n",
       "      <td>-2.637726</td>\n",
       "      <td>0.348776</td>\n",
       "      <td>1.063546</td>\n",
       "      <td>-1.249197</td>\n",
       "      <td>0.942021</td>\n",
       "      <td>-0.547652</td>\n",
       "      <td>-0.087823</td>\n",
       "      <td>...</td>\n",
       "      <td>-0.250653</td>\n",
       "      <td>0.234502</td>\n",
       "      <td>0.825237</td>\n",
       "      <td>-0.176957</td>\n",
       "      <td>0.563779</td>\n",
       "      <td>0.730183</td>\n",
       "      <td>0.707494</td>\n",
       "      <td>-0.131066</td>\n",
       "      <td>-0.090428</td>\n",
       "      <td>0.0</td>\n",
       "    </tr>\n",
       "    <tr>\n",
       "      <th>5</th>\n",
       "      <td>62606</td>\n",
       "      <td>1.199408</td>\n",
       "      <td>0.352007</td>\n",
       "      <td>0.379645</td>\n",
       "      <td>1.372017</td>\n",
       "      <td>0.291347</td>\n",
       "      <td>0.524919</td>\n",
       "      <td>-0.117555</td>\n",
       "      <td>0.132907</td>\n",
       "      <td>-0.935169</td>\n",
       "      <td>...</td>\n",
       "      <td>-0.042979</td>\n",
       "      <td>-0.050291</td>\n",
       "      <td>-0.126609</td>\n",
       "      <td>-0.022218</td>\n",
       "      <td>-0.599026</td>\n",
       "      <td>0.258188</td>\n",
       "      <td>0.928721</td>\n",
       "      <td>-0.058988</td>\n",
       "      <td>-0.008856</td>\n",
       "      <td>0.0</td>\n",
       "    </tr>\n",
       "    <tr>\n",
       "      <th>6</th>\n",
       "      <td>90719</td>\n",
       "      <td>1.937447</td>\n",
       "      <td>0.337882</td>\n",
       "      <td>-0.000630</td>\n",
       "      <td>3.816486</td>\n",
       "      <td>0.276515</td>\n",
       "      <td>1.079842</td>\n",
       "      <td>-0.730626</td>\n",
       "      <td>0.197353</td>\n",
       "      <td>1.137566</td>\n",
       "      <td>...</td>\n",
       "      <td>-0.315667</td>\n",
       "      <td>-0.038376</td>\n",
       "      <td>0.208914</td>\n",
       "      <td>0.160189</td>\n",
       "      <td>-0.015145</td>\n",
       "      <td>-0.162678</td>\n",
       "      <td>-0.000843</td>\n",
       "      <td>-0.018178</td>\n",
       "      <td>-0.039339</td>\n",
       "      <td>0.0</td>\n",
       "    </tr>\n",
       "    <tr>\n",
       "      <th>7</th>\n",
       "      <td>113350</td>\n",
       "      <td>1.891900</td>\n",
       "      <td>0.401086</td>\n",
       "      <td>-0.119983</td>\n",
       "      <td>4.047500</td>\n",
       "      <td>0.049952</td>\n",
       "      <td>0.192793</td>\n",
       "      <td>-0.108512</td>\n",
       "      <td>-0.040400</td>\n",
       "      <td>-0.390391</td>\n",
       "      <td>...</td>\n",
       "      <td>-0.267639</td>\n",
       "      <td>0.094177</td>\n",
       "      <td>0.613712</td>\n",
       "      <td>0.070986</td>\n",
       "      <td>0.079543</td>\n",
       "      <td>0.135219</td>\n",
       "      <td>0.128961</td>\n",
       "      <td>0.003667</td>\n",
       "      <td>-0.045079</td>\n",
       "      <td>0.0</td>\n",
       "    </tr>\n",
       "    <tr>\n",
       "      <th>8</th>\n",
       "      <td>156499</td>\n",
       "      <td>0.060003</td>\n",
       "      <td>1.461355</td>\n",
       "      <td>0.378915</td>\n",
       "      <td>2.835455</td>\n",
       "      <td>1.626526</td>\n",
       "      <td>-0.164732</td>\n",
       "      <td>1.551858</td>\n",
       "      <td>-0.412927</td>\n",
       "      <td>-1.735264</td>\n",
       "      <td>...</td>\n",
       "      <td>-0.175275</td>\n",
       "      <td>0.042293</td>\n",
       "      <td>0.277536</td>\n",
       "      <td>-0.123379</td>\n",
       "      <td>1.081552</td>\n",
       "      <td>-0.053079</td>\n",
       "      <td>-0.149809</td>\n",
       "      <td>-0.314438</td>\n",
       "      <td>-0.216539</td>\n",
       "      <td>0.0</td>\n",
       "    </tr>\n",
       "    <tr>\n",
       "      <th>9</th>\n",
       "      <td>73902</td>\n",
       "      <td>-1.859260</td>\n",
       "      <td>2.158799</td>\n",
       "      <td>1.085671</td>\n",
       "      <td>2.615483</td>\n",
       "      <td>0.246660</td>\n",
       "      <td>2.133925</td>\n",
       "      <td>-1.569015</td>\n",
       "      <td>-2.612353</td>\n",
       "      <td>-1.312509</td>\n",
       "      <td>...</td>\n",
       "      <td>0.590142</td>\n",
       "      <td>-0.867178</td>\n",
       "      <td>-0.700479</td>\n",
       "      <td>0.231972</td>\n",
       "      <td>-1.374527</td>\n",
       "      <td>0.140285</td>\n",
       "      <td>0.128806</td>\n",
       "      <td>0.153606</td>\n",
       "      <td>0.092042</td>\n",
       "      <td>0.0</td>\n",
       "    </tr>\n",
       "  </tbody>\n",
       "</table>\n",
       "<p>10 rows × 30 columns</p>\n",
       "</div>"
      ],
      "text/plain": [
       "     Time        V1        V2        V3        V4        V5        V6  \\\n",
       "0   35337  1.092844 -0.013230  1.359829  2.731537 -0.707357  0.873837   \n",
       "1   60481  1.238973  0.035226  0.063003  0.641406 -0.260893 -0.580097   \n",
       "2  139587  1.870539  0.211079  0.224457  3.889486 -0.380177  0.249799   \n",
       "3  162908 -3.368339 -1.980442  0.153645 -0.159795  3.847169 -3.516873   \n",
       "4  165236  2.180149  0.218732 -2.637726  0.348776  1.063546 -1.249197   \n",
       "5   62606  1.199408  0.352007  0.379645  1.372017  0.291347  0.524919   \n",
       "6   90719  1.937447  0.337882 -0.000630  3.816486  0.276515  1.079842   \n",
       "7  113350  1.891900  0.401086 -0.119983  4.047500  0.049952  0.192793   \n",
       "8  156499  0.060003  1.461355  0.378915  2.835455  1.626526 -0.164732   \n",
       "9   73902 -1.859260  2.158799  1.085671  2.615483  0.246660  2.133925   \n",
       "\n",
       "         V7        V8        V9  ...       V20       V21       V22       V23  \\\n",
       "0 -0.796130  0.437707  0.396770  ... -0.240428  0.037603  0.380026 -0.167647   \n",
       "1  0.049938 -0.034733  0.405932  ... -0.265080 -0.060003 -0.053585 -0.057718   \n",
       "2 -0.577133  0.179189 -0.120462  ... -0.374356  0.196006  0.656552  0.180776   \n",
       "3 -1.209398 -0.292122  0.760543  ... -0.923275 -0.545992 -0.252324 -1.171627   \n",
       "4  0.942021 -0.547652 -0.087823  ... -0.250653  0.234502  0.825237 -0.176957   \n",
       "5 -0.117555  0.132907 -0.935169  ... -0.042979 -0.050291 -0.126609 -0.022218   \n",
       "6 -0.730626  0.197353  1.137566  ... -0.315667 -0.038376  0.208914  0.160189   \n",
       "7 -0.108512 -0.040400 -0.390391  ... -0.267639  0.094177  0.613712  0.070986   \n",
       "8  1.551858 -0.412927 -1.735264  ... -0.175275  0.042293  0.277536 -0.123379   \n",
       "9 -1.569015 -2.612353 -1.312509  ...  0.590142 -0.867178 -0.700479  0.231972   \n",
       "\n",
       "        V24       V25       V26       V27       V28  Amount  \n",
       "0  0.027557  0.592115  0.219695  0.036970  0.010984     0.0  \n",
       "1  0.104983  0.537987  0.589563 -0.046207 -0.006212     0.0  \n",
       "2 -0.060226 -0.228979  0.080827  0.009868 -0.036997     0.0  \n",
       "3  0.214333 -0.159652 -0.060883  1.294977  0.120503     0.0  \n",
       "4  0.563779  0.730183  0.707494 -0.131066 -0.090428     0.0  \n",
       "5 -0.599026  0.258188  0.928721 -0.058988 -0.008856     0.0  \n",
       "6 -0.015145 -0.162678 -0.000843 -0.018178 -0.039339     0.0  \n",
       "7  0.079543  0.135219  0.128961  0.003667 -0.045079     0.0  \n",
       "8  1.081552 -0.053079 -0.149809 -0.314438 -0.216539     0.0  \n",
       "9 -1.374527  0.140285  0.128806  0.153606  0.092042     0.0  \n",
       "\n",
       "[10 rows x 30 columns]"
      ]
     },
     "execution_count": 21,
     "metadata": {},
     "output_type": "execute_result"
    }
   ],
   "source": [
    "pred"
   ]
  },
  {
   "cell_type": "markdown",
   "id": "80bf03be-d6fe-413e-aeed-9ee41293f895",
   "metadata": {},
   "source": [
    "Remove columns not included as features in the model:"
   ]
  },
  {
   "cell_type": "code",
   "execution_count": 92,
   "id": "687f0128-cc0b-47b7-b423-875f396d8fd8",
   "metadata": {},
   "outputs": [
    {
     "data": {
      "text/plain": [
       "{'Time': 35337,\n",
       " 'V1': 1.0928441854981998,\n",
       " 'V2': -0.0132303486713432,\n",
       " 'V3': 1.35982868199426,\n",
       " 'V4': 2.7315370965921004,\n",
       " 'V5': -0.707357349219652,\n",
       " 'V6': 0.8738370029866129,\n",
       " 'V7': -0.7961301510622031,\n",
       " 'V8': 0.437706509544851,\n",
       " 'V9': 0.39676985012996396,\n",
       " 'V10': 0.587438102569443,\n",
       " 'V11': -0.14979756231827498,\n",
       " 'V12': 0.29514781622888103,\n",
       " 'V13': -1.30382621882143,\n",
       " 'V14': -0.31782283120234495,\n",
       " 'V15': -2.03673231037199,\n",
       " 'V16': 0.376090905274179,\n",
       " 'V17': -0.30040350116459497,\n",
       " 'V18': 0.433799615590844,\n",
       " 'V19': -0.145082264348681,\n",
       " 'V20': -0.240427548108996,\n",
       " 'V21': 0.0376030733329398,\n",
       " 'V22': 0.38002620963091405,\n",
       " 'V23': -0.16764742731151097,\n",
       " 'V24': 0.0275573495476881,\n",
       " 'V25': 0.59211469704354,\n",
       " 'V26': 0.219695164116351,\n",
       " 'V27': 0.0369695108704894,\n",
       " 'V28': 0.010984441006191,\n",
       " 'Amount': 0.0}"
      ]
     },
     "execution_count": 92,
     "metadata": {},
     "output_type": "execute_result"
    }
   ],
   "source": [
    "newobs = pred.to_dict(orient='records')\n",
    "newobs[0]"
   ]
  },
  {
   "cell_type": "code",
   "execution_count": 93,
   "id": "c268a533-f949-4299-9420-d6ae549a97fa",
   "metadata": {},
   "outputs": [
    {
     "data": {
      "text/plain": [
       "10"
      ]
     },
     "execution_count": 93,
     "metadata": {},
     "output_type": "execute_result"
    }
   ],
   "source": [
    "len(newobs)"
   ]
  },
  {
   "cell_type": "code",
   "execution_count": 94,
   "id": "ca2647ad-9957-4751-ae0f-89da4bf2c3ea",
   "metadata": {},
   "outputs": [
    {
     "data": {
      "text/plain": [
       "Prediction(predictions=[[0.999802768, 0.000197230533]], deployed_model_id='5147434054177521664', model_version_id='6', model_resource_name='projects/1026793852137/locations/us-central1/models/model_05_05a', explanations=None)"
      ]
     },
     "execution_count": 94,
     "metadata": {},
     "output_type": "execute_result"
    }
   ],
   "source": [
    "prediction = endpoint.predict(instances = newobs[0:1])\n",
    "prediction"
   ]
  },
  {
   "cell_type": "code",
   "execution_count": 95,
   "id": "a5064be7-5495-4412-b519-f5b5db02fd9f",
   "metadata": {},
   "outputs": [
    {
     "data": {
      "text/plain": [
       "[0.999802768, 0.000197230533]"
      ]
     },
     "execution_count": 95,
     "metadata": {},
     "output_type": "execute_result"
    }
   ],
   "source": [
    "prediction.predictions[0]"
   ]
  },
  {
   "cell_type": "markdown",
   "id": "6ddde2af-ef29-4363-9cf0-ebe166a2c6ce",
   "metadata": {},
   "source": [
    "---\n",
    "## Feature-Based Explanations\n",
    "\n",
    "In Vertex AI you [configure explanations](https://cloud.google.com/vertex-ai/docs/explainable-ai/configuring-explanations-feature-based) by providing an `explanationSpec`. For feature-based explanations this can be done when registering the model in the Model Registry.  You can also set, or override, the `explanationSpec` when deploying models to and endpoints or configuring batch predictions jobs.\n"
   ]
  },
  {
   "cell_type": "markdown",
   "id": "eb2be2b0-e3ae-4fb2-8208-1ff1abc9c837",
   "metadata": {},
   "source": [
    "### ExplanationSpec\n",
    "\n",
    "From the [Python client for Vertex AI](https://cloud.google.com/python/docs/reference/aiplatform/latest/google.cloud.aiplatform), the `explanationSpec` is provided by two input parameters: `explanation_parameters` and `explanation_metadata`.  The parameters must be passed together and can be set (or overwritten):\n",
    "- When registering the model in the Vertex AI Model Registry:\n",
    "    - https://cloud.google.com/python/docs/reference/aiplatform/latest/google.cloud.aiplatform.Model#google_cloud_aiplatform_Model_upload\n",
    "- When deploying a model the a Vertex AI Endpoint for online serving:\n",
    "    - https://cloud.google.com/python/docs/reference/aiplatform/latest/google.cloud.aiplatform.Endpoint#google_cloud_aiplatform_Endpoint_deploy\n",
    "- When creating a Vertex AI Batch Prediciton Job:\n",
    "    - https://cloud.google.com/python/docs/reference/aiplatform/latest/google.cloud.aiplatform.BatchPredictionJob#google_cloud_aiplatform_BatchPredictionJob_create\n"
   ]
  },
  {
   "cell_type": "markdown",
   "id": "d524836b-53ee-4bb5-9cae-0e042a1b0f24",
   "metadata": {},
   "source": [
    "#### Explanation Parameters\n",
    "\n",
    "The [Explanation Parameters](https://cloud.google.com/python/docs/reference/aiplatform/latest/google.cloud.aiplatform_v1.types.ExplanationParameters) included setting the method of attribution along with associated parameters for the method.  A review of methods can be found [here](https://cloud.google.com/vertex-ai/docs/explainable-ai/overview#compare-methods)."
   ]
  },
  {
   "cell_type": "code",
   "execution_count": 26,
   "id": "de5ec1ed-a796-41e5-ad9c-c8aba77032db",
   "metadata": {},
   "outputs": [
    {
     "data": {
      "text/plain": [
       "integrated_gradients_attribution {\n",
       "  step_count: 50\n",
       "}"
      ]
     },
     "execution_count": 26,
     "metadata": {},
     "output_type": "execute_result"
    }
   ],
   "source": [
    "explanation_parameters = aiplatform.explain.ExplanationParameters(\n",
    "    {'integrated_gradients_attribution': {'step_count': 50}}\n",
    ")\n",
    "explanation_parameters"
   ]
  },
  {
   "cell_type": "markdown",
   "id": "c2f42f4a-e0d1-4eca-9d29-82a40b1c750e",
   "metadata": {},
   "source": [
    "#### Explanation Metadata\n",
    "\n",
    "The [Explanation Metadata](https://cloud.google.com/vertex-ai/docs/reference/rest/v1beta1/ExplanationSpec#explanationmetadata) specifys the inputs metadata and outputs metadata.  For a TensorFlow model there is a tool for building the explanation metadata as used below:\n",
    "- This is documented here: https://cloud.google.com/python/docs/reference/aiplatform/latest/index.html#explainable-ai-get-metadata\n"
   ]
  },
  {
   "cell_type": "code",
   "execution_count": 36,
   "id": "4e45f4fe-64bf-436b-885a-3ee0e6a9f93a",
   "metadata": {},
   "outputs": [],
   "source": [
    "from google.cloud.aiplatform.explain.metadata.tf.v2 import saved_model_metadata_builder\n",
    "\n",
    "builder = saved_model_metadata_builder.SavedModelMetadataBuilder(\n",
    "    model_path = model.uri\n",
    ")\n",
    "explanation_metadata = builder.get_metadata_protobuf()"
   ]
  },
  {
   "cell_type": "code",
   "execution_count": 37,
   "id": "b126ba11-55a2-4678-b4af-dc702ae84523",
   "metadata": {
    "scrolled": true,
    "tags": []
   },
   "outputs": [
    {
     "data": {
      "text/plain": [
       "inputs {\n",
       "  key: \"Amount\"\n",
       "  value {\n",
       "    input_tensor_name: \"Amount\"\n",
       "  }\n",
       "}\n",
       "inputs {\n",
       "  key: \"Time\"\n",
       "  value {\n",
       "    input_tensor_name: \"Time\"\n",
       "  }\n",
       "}\n",
       "inputs {\n",
       "  key: \"V1\"\n",
       "  value {\n",
       "    input_tensor_name: \"V1\"\n",
       "  }\n",
       "}\n",
       "inputs {\n",
       "  key: \"V10\"\n",
       "  value {\n",
       "    input_tensor_name: \"V10\"\n",
       "  }\n",
       "}\n",
       "inputs {\n",
       "  key: \"V11\"\n",
       "  value {\n",
       "    input_tensor_name: \"V11\"\n",
       "  }\n",
       "}\n",
       "inputs {\n",
       "  key: \"V12\"\n",
       "  value {\n",
       "    input_tensor_name: \"V12\"\n",
       "  }\n",
       "}\n",
       "inputs {\n",
       "  key: \"V13\"\n",
       "  value {\n",
       "    input_tensor_name: \"V13\"\n",
       "  }\n",
       "}\n",
       "inputs {\n",
       "  key: \"V14\"\n",
       "  value {\n",
       "    input_tensor_name: \"V14\"\n",
       "  }\n",
       "}\n",
       "inputs {\n",
       "  key: \"V15\"\n",
       "  value {\n",
       "    input_tensor_name: \"V15\"\n",
       "  }\n",
       "}\n",
       "inputs {\n",
       "  key: \"V16\"\n",
       "  value {\n",
       "    input_tensor_name: \"V16\"\n",
       "  }\n",
       "}\n",
       "inputs {\n",
       "  key: \"V17\"\n",
       "  value {\n",
       "    input_tensor_name: \"V17\"\n",
       "  }\n",
       "}\n",
       "inputs {\n",
       "  key: \"V18\"\n",
       "  value {\n",
       "    input_tensor_name: \"V18\"\n",
       "  }\n",
       "}\n",
       "inputs {\n",
       "  key: \"V19\"\n",
       "  value {\n",
       "    input_tensor_name: \"V19\"\n",
       "  }\n",
       "}\n",
       "inputs {\n",
       "  key: \"V2\"\n",
       "  value {\n",
       "    input_tensor_name: \"V2\"\n",
       "  }\n",
       "}\n",
       "inputs {\n",
       "  key: \"V20\"\n",
       "  value {\n",
       "    input_tensor_name: \"V20\"\n",
       "  }\n",
       "}\n",
       "inputs {\n",
       "  key: \"V21\"\n",
       "  value {\n",
       "    input_tensor_name: \"V21\"\n",
       "  }\n",
       "}\n",
       "inputs {\n",
       "  key: \"V22\"\n",
       "  value {\n",
       "    input_tensor_name: \"V22\"\n",
       "  }\n",
       "}\n",
       "inputs {\n",
       "  key: \"V23\"\n",
       "  value {\n",
       "    input_tensor_name: \"V23\"\n",
       "  }\n",
       "}\n",
       "inputs {\n",
       "  key: \"V24\"\n",
       "  value {\n",
       "    input_tensor_name: \"V24\"\n",
       "  }\n",
       "}\n",
       "inputs {\n",
       "  key: \"V25\"\n",
       "  value {\n",
       "    input_tensor_name: \"V25\"\n",
       "  }\n",
       "}\n",
       "inputs {\n",
       "  key: \"V26\"\n",
       "  value {\n",
       "    input_tensor_name: \"V26\"\n",
       "  }\n",
       "}\n",
       "inputs {\n",
       "  key: \"V27\"\n",
       "  value {\n",
       "    input_tensor_name: \"V27\"\n",
       "  }\n",
       "}\n",
       "inputs {\n",
       "  key: \"V28\"\n",
       "  value {\n",
       "    input_tensor_name: \"V28\"\n",
       "  }\n",
       "}\n",
       "inputs {\n",
       "  key: \"V3\"\n",
       "  value {\n",
       "    input_tensor_name: \"V3\"\n",
       "  }\n",
       "}\n",
       "inputs {\n",
       "  key: \"V4\"\n",
       "  value {\n",
       "    input_tensor_name: \"V4\"\n",
       "  }\n",
       "}\n",
       "inputs {\n",
       "  key: \"V5\"\n",
       "  value {\n",
       "    input_tensor_name: \"V5\"\n",
       "  }\n",
       "}\n",
       "inputs {\n",
       "  key: \"V6\"\n",
       "  value {\n",
       "    input_tensor_name: \"V6\"\n",
       "  }\n",
       "}\n",
       "inputs {\n",
       "  key: \"V7\"\n",
       "  value {\n",
       "    input_tensor_name: \"V7\"\n",
       "  }\n",
       "}\n",
       "inputs {\n",
       "  key: \"V8\"\n",
       "  value {\n",
       "    input_tensor_name: \"V8\"\n",
       "  }\n",
       "}\n",
       "inputs {\n",
       "  key: \"V9\"\n",
       "  value {\n",
       "    input_tensor_name: \"V9\"\n",
       "  }\n",
       "}\n",
       "outputs {\n",
       "  key: \"logistic\"\n",
       "  value {\n",
       "    output_tensor_name: \"logistic\"\n",
       "  }\n",
       "}"
      ]
     },
     "execution_count": 37,
     "metadata": {},
     "output_type": "execute_result"
    }
   ],
   "source": [
    "explanation_metadata"
   ]
  },
  {
   "cell_type": "markdown",
   "id": "1eb4e3c2-d9e2-4baf-9618-984047f49bc9",
   "metadata": {},
   "source": [
    "### Update The Model in Model Registry (WORK IN PROGRESS)\n",
    "\n",
    "Add the `explanation_parameters` and `exaplanation_metadata` to the model version in the Vertex AI Model Registry."
   ]
  },
  {
   "cell_type": "code",
   "execution_count": 45,
   "id": "00ac2ed6-7b9e-4230-b3ff-ade1d65eb3fd",
   "metadata": {},
   "outputs": [],
   "source": [
    "registry_client = aiplatform.gapic.ModelServiceClient(client_options = {\"api_endpoint\": f\"{REGION}-aiplatform.googleapis.com\"})"
   ]
  },
  {
   "cell_type": "code",
   "execution_count": 46,
   "id": "c2f41500-ab7c-4d45-bc38-879add90874a",
   "metadata": {},
   "outputs": [],
   "source": [
    "temp = registry_client.get_model(name = model.versioned_resource_name)"
   ]
  },
  {
   "cell_type": "code",
   "execution_count": 53,
   "id": "24c6ce2a-5c66-4b26-a070-1864f7b03d80",
   "metadata": {},
   "outputs": [],
   "source": [
    "temp.explanation_spec = aiplatform.gapic.ExplanationSpec(\n",
    "    parameters = aiplatform.gapic.ExplanationParameters(explanation_parameters),\n",
    "    metadata = aiplatform.gapic.ExplanationMetadata(explanation_metadata)\n",
    ")"
   ]
  },
  {
   "cell_type": "code",
   "execution_count": 55,
   "id": "cf73554b-e939-4c86-ac11-7fd30066a011",
   "metadata": {},
   "outputs": [],
   "source": [
    "response = registry_client.update_model(model = temp)"
   ]
  },
  {
   "cell_type": "markdown",
   "id": "21d59fd7-78a8-4add-83c4-1e6a1e3fca70",
   "metadata": {},
   "source": [
    "### Create/Retrieve An Endpoint\n",
    "\n",
    "**Already Retrieved above into `endpoint`**"
   ]
  },
  {
   "cell_type": "code",
   "execution_count": 59,
   "id": "0a538bf0",
   "metadata": {},
   "outputs": [
    {
     "data": {
      "text/plain": [
       "'05'"
      ]
     },
     "execution_count": 59,
     "metadata": {},
     "output_type": "execute_result"
    }
   ],
   "source": [
    "endpoint.display_name"
   ]
  },
  {
   "cell_type": "markdown",
   "id": "fc4f9ece-2a0f-40f6-9845-9eabd2ed9003",
   "metadata": {},
   "source": [
    "### Deploy Model To Endpoint\n",
    "At the top of this notebook a current endpoint was used to retrieve the model currently deployed.  This model was then used to create the explanations metadata.  In the cell below the same model is deployed again with 100% of traffic, this time with explanations metadata.  This demonstrates that the `explanationSpec` can be provided with the model upload to the Model Registry or at the point of model use for Endponts or Batch Prediction Jobs. "
   ]
  },
  {
   "cell_type": "code",
   "execution_count": 60,
   "id": "2ea35f54-76d5-4015-8f82-78e7ec72a5fc",
   "metadata": {},
   "outputs": [
    {
     "name": "stdout",
     "output_type": "stream",
     "text": [
      "Deploying Model projects/1026793852137/locations/us-central1/models/model_05_05a to Endpoint : projects/1026793852137/locations/us-central1/endpoints/8352053052307406848\n",
      "Deploy Endpoint model backing LRO: projects/1026793852137/locations/us-central1/endpoints/8352053052307406848/operations/4019069935618621440\n",
      "Endpoint model deployed. Resource name: projects/1026793852137/locations/us-central1/endpoints/8352053052307406848\n"
     ]
    }
   ],
   "source": [
    "endpoint.deploy(\n",
    "    model = model,\n",
    "    deployed_model_display_name = model.display_name,\n",
    "    traffic_percentage = 100,\n",
    "    machine_type = DEPLOY_COMPUTE,\n",
    "    min_replica_count = 1,\n",
    "    max_replica_count = 1,\n",
    "    explanation_parameters = explanation_parameters,\n",
    "    explanation_metadata = explanation_metadata\n",
    ") "
   ]
  },
  {
   "cell_type": "markdown",
   "id": "8aa76ba9-b66c-4b5b-9476-004b16d4dbaf",
   "metadata": {},
   "source": [
    "### Remove Deployed Models without Traffic"
   ]
  },
  {
   "cell_type": "code",
   "execution_count": 61,
   "id": "00aa9466-6d9a-41cf-9bfa-7e8997572583",
   "metadata": {},
   "outputs": [
    {
     "name": "stdout",
     "output_type": "stream",
     "text": [
      "Undeploying Endpoint model: projects/1026793852137/locations/us-central1/endpoints/8352053052307406848\n",
      "Undeploy Endpoint model backing LRO: projects/1026793852137/locations/us-central1/endpoints/8352053052307406848/operations/6113243762345902080\n",
      "Endpoint model undeployed. Resource name: projects/1026793852137/locations/us-central1/endpoints/8352053052307406848\n",
      "Undeploying 05_05a with version 6 because it has no traffic.\n",
      "Model 05_05a with version 6 has traffic = 100\n"
     ]
    }
   ],
   "source": [
    "for deployed_model in endpoint.list_models():\n",
    "    if deployed_model.id in endpoint.traffic_split:\n",
    "        print(f\"Model {deployed_model.display_name} with version {deployed_model.model_version_id} has traffic = {endpoint.traffic_split[deployed_model.id]}\")\n",
    "    else:\n",
    "        endpoint.undeploy(deployed_model_id = deployed_model.id)\n",
    "        print(f\"Undeploying {deployed_model.display_name} with version {deployed_model.model_version_id} because it has no traffic.\")"
   ]
  },
  {
   "cell_type": "code",
   "execution_count": 62,
   "id": "bacf24f6-c02e-409a-82b4-13c6e4a17dd1",
   "metadata": {},
   "outputs": [
    {
     "data": {
      "text/plain": [
       "{'5147434054177521664': 100}"
      ]
     },
     "execution_count": 62,
     "metadata": {},
     "output_type": "execute_result"
    }
   ],
   "source": [
    "endpoint.traffic_split"
   ]
  },
  {
   "cell_type": "code",
   "execution_count": 63,
   "id": "7e416491-c909-45d3-8c79-a74dcafaa4f9",
   "metadata": {
    "scrolled": true,
    "tags": []
   },
   "outputs": [
    {
     "data": {
      "text/plain": [
       "id: \"5147434054177521664\"\n",
       "model: \"projects/1026793852137/locations/us-central1/models/model_05_05a\"\n",
       "display_name: \"05_05a\"\n",
       "create_time {\n",
       "  seconds: 1676043105\n",
       "  nanos: 583556000\n",
       "}\n",
       "dedicated_resources {\n",
       "  machine_spec {\n",
       "    machine_type: \"n1-standard-4\"\n",
       "  }\n",
       "  min_replica_count: 1\n",
       "  max_replica_count: 1\n",
       "}\n",
       "explanation_spec {\n",
       "  parameters {\n",
       "    integrated_gradients_attribution {\n",
       "      step_count: 50\n",
       "    }\n",
       "  }\n",
       "  metadata {\n",
       "    inputs {\n",
       "      key: \"Amount\"\n",
       "      value {\n",
       "        input_tensor_name: \"Amount\"\n",
       "      }\n",
       "    }\n",
       "    inputs {\n",
       "      key: \"Time\"\n",
       "      value {\n",
       "        input_tensor_name: \"Time\"\n",
       "      }\n",
       "    }\n",
       "    inputs {\n",
       "      key: \"V1\"\n",
       "      value {\n",
       "        input_tensor_name: \"V1\"\n",
       "      }\n",
       "    }\n",
       "    inputs {\n",
       "      key: \"V10\"\n",
       "      value {\n",
       "        input_tensor_name: \"V10\"\n",
       "      }\n",
       "    }\n",
       "    inputs {\n",
       "      key: \"V11\"\n",
       "      value {\n",
       "        input_tensor_name: \"V11\"\n",
       "      }\n",
       "    }\n",
       "    inputs {\n",
       "      key: \"V12\"\n",
       "      value {\n",
       "        input_tensor_name: \"V12\"\n",
       "      }\n",
       "    }\n",
       "    inputs {\n",
       "      key: \"V13\"\n",
       "      value {\n",
       "        input_tensor_name: \"V13\"\n",
       "      }\n",
       "    }\n",
       "    inputs {\n",
       "      key: \"V14\"\n",
       "      value {\n",
       "        input_tensor_name: \"V14\"\n",
       "      }\n",
       "    }\n",
       "    inputs {\n",
       "      key: \"V15\"\n",
       "      value {\n",
       "        input_tensor_name: \"V15\"\n",
       "      }\n",
       "    }\n",
       "    inputs {\n",
       "      key: \"V16\"\n",
       "      value {\n",
       "        input_tensor_name: \"V16\"\n",
       "      }\n",
       "    }\n",
       "    inputs {\n",
       "      key: \"V17\"\n",
       "      value {\n",
       "        input_tensor_name: \"V17\"\n",
       "      }\n",
       "    }\n",
       "    inputs {\n",
       "      key: \"V18\"\n",
       "      value {\n",
       "        input_tensor_name: \"V18\"\n",
       "      }\n",
       "    }\n",
       "    inputs {\n",
       "      key: \"V19\"\n",
       "      value {\n",
       "        input_tensor_name: \"V19\"\n",
       "      }\n",
       "    }\n",
       "    inputs {\n",
       "      key: \"V2\"\n",
       "      value {\n",
       "        input_tensor_name: \"V2\"\n",
       "      }\n",
       "    }\n",
       "    inputs {\n",
       "      key: \"V20\"\n",
       "      value {\n",
       "        input_tensor_name: \"V20\"\n",
       "      }\n",
       "    }\n",
       "    inputs {\n",
       "      key: \"V21\"\n",
       "      value {\n",
       "        input_tensor_name: \"V21\"\n",
       "      }\n",
       "    }\n",
       "    inputs {\n",
       "      key: \"V22\"\n",
       "      value {\n",
       "        input_tensor_name: \"V22\"\n",
       "      }\n",
       "    }\n",
       "    inputs {\n",
       "      key: \"V23\"\n",
       "      value {\n",
       "        input_tensor_name: \"V23\"\n",
       "      }\n",
       "    }\n",
       "    inputs {\n",
       "      key: \"V24\"\n",
       "      value {\n",
       "        input_tensor_name: \"V24\"\n",
       "      }\n",
       "    }\n",
       "    inputs {\n",
       "      key: \"V25\"\n",
       "      value {\n",
       "        input_tensor_name: \"V25\"\n",
       "      }\n",
       "    }\n",
       "    inputs {\n",
       "      key: \"V26\"\n",
       "      value {\n",
       "        input_tensor_name: \"V26\"\n",
       "      }\n",
       "    }\n",
       "    inputs {\n",
       "      key: \"V27\"\n",
       "      value {\n",
       "        input_tensor_name: \"V27\"\n",
       "      }\n",
       "    }\n",
       "    inputs {\n",
       "      key: \"V28\"\n",
       "      value {\n",
       "        input_tensor_name: \"V28\"\n",
       "      }\n",
       "    }\n",
       "    inputs {\n",
       "      key: \"V3\"\n",
       "      value {\n",
       "        input_tensor_name: \"V3\"\n",
       "      }\n",
       "    }\n",
       "    inputs {\n",
       "      key: \"V4\"\n",
       "      value {\n",
       "        input_tensor_name: \"V4\"\n",
       "      }\n",
       "    }\n",
       "    inputs {\n",
       "      key: \"V5\"\n",
       "      value {\n",
       "        input_tensor_name: \"V5\"\n",
       "      }\n",
       "    }\n",
       "    inputs {\n",
       "      key: \"V6\"\n",
       "      value {\n",
       "        input_tensor_name: \"V6\"\n",
       "      }\n",
       "    }\n",
       "    inputs {\n",
       "      key: \"V7\"\n",
       "      value {\n",
       "        input_tensor_name: \"V7\"\n",
       "      }\n",
       "    }\n",
       "    inputs {\n",
       "      key: \"V8\"\n",
       "      value {\n",
       "        input_tensor_name: \"V8\"\n",
       "      }\n",
       "    }\n",
       "    inputs {\n",
       "      key: \"V9\"\n",
       "      value {\n",
       "        input_tensor_name: \"V9\"\n",
       "      }\n",
       "    }\n",
       "    outputs {\n",
       "      key: \"logistic\"\n",
       "      value {\n",
       "        output_tensor_name: \"logistic\"\n",
       "      }\n",
       "    }\n",
       "  }\n",
       "}\n",
       "model_version_id: \"6\""
      ]
     },
     "execution_count": 63,
     "metadata": {},
     "output_type": "execute_result"
    }
   ],
   "source": [
    "endpoint.list_models()[0]"
   ]
  },
  {
   "cell_type": "markdown",
   "id": "cae2dee4-cb0c-415e-ab1a-6b3980691b95",
   "metadata": {},
   "source": [
    "### Get Prediction: Python Client"
   ]
  },
  {
   "cell_type": "code",
   "execution_count": 96,
   "id": "093b3d6c-1974-404d-8e23-b891669a2ff0",
   "metadata": {},
   "outputs": [
    {
     "data": {
      "text/plain": [
       "Prediction(predictions=[[0.999802768, 0.000197230533]], deployed_model_id='5147434054177521664', model_version_id='6', model_resource_name='projects/1026793852137/locations/us-central1/models/model_05_05a', explanations=None)"
      ]
     },
     "execution_count": 96,
     "metadata": {},
     "output_type": "execute_result"
    }
   ],
   "source": [
    "prediction = endpoint.predict(instances = newobs[0:1])\n",
    "prediction"
   ]
  },
  {
   "cell_type": "code",
   "execution_count": 97,
   "id": "cc5d0162-976c-408a-a7dd-e6ab9b459da0",
   "metadata": {},
   "outputs": [
    {
     "data": {
      "text/plain": [
       "[0.999802768, 0.000197230533]"
      ]
     },
     "execution_count": 97,
     "metadata": {},
     "output_type": "execute_result"
    }
   ],
   "source": [
    "prediction.predictions[0]"
   ]
  },
  {
   "cell_type": "code",
   "execution_count": 98,
   "id": "e5629b86-bd25-4a2c-8dbd-2ab306b58592",
   "metadata": {},
   "outputs": [
    {
     "data": {
      "text/plain": [
       "0"
      ]
     },
     "execution_count": 98,
     "metadata": {},
     "output_type": "execute_result"
    }
   ],
   "source": [
    "np.argmax(prediction.predictions[0])"
   ]
  },
  {
   "cell_type": "markdown",
   "id": "a9e77f5a-9925-4708-94c0-ada9be8d26d9",
   "metadata": {},
   "source": [
    "### Get Prediction & Explanation: Python Client"
   ]
  },
  {
   "cell_type": "code",
   "execution_count": 99,
   "id": "58a2c239-409b-45c6-850d-d260558f0f45",
   "metadata": {},
   "outputs": [],
   "source": [
    "explanation = endpoint.explain(instances = newobs[0:1])"
   ]
  },
  {
   "cell_type": "code",
   "execution_count": 100,
   "id": "b14eb821-a733-4808-be89-ee947b64ed2a",
   "metadata": {},
   "outputs": [
    {
     "data": {
      "text/plain": [
       "[[0.999802768, 0.000197230533]]"
      ]
     },
     "execution_count": 100,
     "metadata": {},
     "output_type": "execute_result"
    }
   ],
   "source": [
    "explanation.predictions"
   ]
  },
  {
   "cell_type": "code",
   "execution_count": 101,
   "id": "b415f8bb-7cbf-49a5-b102-45634717dff0",
   "metadata": {},
   "outputs": [
    {
     "data": {
      "text/plain": [
       "[attributions {\n",
       "  baseline_output_value: 0.9997043013572693\n",
       "  instance_output_value: 0.9998027682304382\n",
       "  feature_attributions {\n",
       "    struct_value {\n",
       "      fields {\n",
       "        key: \"Amount\"\n",
       "        value {\n",
       "          number_value: 0.0\n",
       "        }\n",
       "      }\n",
       "      fields {\n",
       "        key: \"Time\"\n",
       "        value {\n",
       "          number_value: -4.019419980192097e-05\n",
       "        }\n",
       "      }\n",
       "      fields {\n",
       "        key: \"V1\"\n",
       "        value {\n",
       "          number_value: -6.658296857614748e-07\n",
       "        }\n",
       "      }\n",
       "      fields {\n",
       "        key: \"V10\"\n",
       "        value {\n",
       "          number_value: 6.809297314488279e-05\n",
       "        }\n",
       "      }\n",
       "      fields {\n",
       "        key: \"V11\"\n",
       "        value {\n",
       "          number_value: -8.042956437090075e-06\n",
       "        }\n",
       "      }\n",
       "      fields {\n",
       "        key: \"V12\"\n",
       "        value {\n",
       "          number_value: 5.08491727274561e-05\n",
       "        }\n",
       "      }\n",
       "      fields {\n",
       "        key: \"V13\"\n",
       "        value {\n",
       "          number_value: 0.000138635630690663\n",
       "        }\n",
       "      }\n",
       "      fields {\n",
       "        key: \"V14\"\n",
       "        value {\n",
       "          number_value: -2.403936854269119e-05\n",
       "        }\n",
       "      }\n",
       "      fields {\n",
       "        key: \"V15\"\n",
       "        value {\n",
       "          number_value: 0.0001190361665926488\n",
       "        }\n",
       "      }\n",
       "      fields {\n",
       "        key: \"V16\"\n",
       "        value {\n",
       "          number_value: -2.974414047686235e-06\n",
       "        }\n",
       "      }\n",
       "      fields {\n",
       "        key: \"V17\"\n",
       "        value {\n",
       "          number_value: -5.970178636156053e-07\n",
       "        }\n",
       "      }\n",
       "      fields {\n",
       "        key: \"V18\"\n",
       "        value {\n",
       "          number_value: 4.623693770839315e-05\n",
       "        }\n",
       "      }\n",
       "      fields {\n",
       "        key: \"V19\"\n",
       "        value {\n",
       "          number_value: -3.70367807400512e-06\n",
       "        }\n",
       "      }\n",
       "      fields {\n",
       "        key: \"V2\"\n",
       "        value {\n",
       "          number_value: -2.693125660194055e-07\n",
       "        }\n",
       "      }\n",
       "      fields {\n",
       "        key: \"V20\"\n",
       "        value {\n",
       "          number_value: -4.205125917685387e-06\n",
       "        }\n",
       "      }\n",
       "      fields {\n",
       "        key: \"V21\"\n",
       "        value {\n",
       "          number_value: -3.125921318594296e-06\n",
       "        }\n",
       "      }\n",
       "      fields {\n",
       "        key: \"V22\"\n",
       "        value {\n",
       "          number_value: 1.498046874492962e-05\n",
       "        }\n",
       "      }\n",
       "      fields {\n",
       "        key: \"V23\"\n",
       "        value {\n",
       "          number_value: 1.737807292993355e-07\n",
       "        }\n",
       "      }\n",
       "      fields {\n",
       "        key: \"V24\"\n",
       "        value {\n",
       "          number_value: -4.032922688155789e-06\n",
       "        }\n",
       "      }\n",
       "      fields {\n",
       "        key: \"V25\"\n",
       "        value {\n",
       "          number_value: 1.370562054254876e-06\n",
       "        }\n",
       "      }\n",
       "      fields {\n",
       "        key: \"V26\"\n",
       "        value {\n",
       "          number_value: -2.740904072619373e-05\n",
       "        }\n",
       "      }\n",
       "      fields {\n",
       "        key: \"V27\"\n",
       "        value {\n",
       "          number_value: -2.185066237434051e-06\n",
       "        }\n",
       "      }\n",
       "      fields {\n",
       "        key: \"V28\"\n",
       "        value {\n",
       "          number_value: -1.161173811030579e-06\n",
       "        }\n",
       "      }\n",
       "      fields {\n",
       "        key: \"V3\"\n",
       "        value {\n",
       "          number_value: 4.779534425068975e-05\n",
       "        }\n",
       "      }\n",
       "      fields {\n",
       "        key: \"V4\"\n",
       "        value {\n",
       "          number_value: -0.0002718123924634514\n",
       "        }\n",
       "      }\n",
       "      fields {\n",
       "        key: \"V5\"\n",
       "        value {\n",
       "          number_value: -1.992755034586622e-06\n",
       "        }\n",
       "      }\n",
       "      fields {\n",
       "        key: \"V6\"\n",
       "        value {\n",
       "          number_value: 4.40234571362518e-06\n",
       "        }\n",
       "      }\n",
       "      fields {\n",
       "        key: \"V7\"\n",
       "        value {\n",
       "          number_value: -7.340134782225733e-06\n",
       "        }\n",
       "      }\n",
       "      fields {\n",
       "        key: \"V8\"\n",
       "        value {\n",
       "          number_value: -2.533794295892201e-05\n",
       "        }\n",
       "      }\n",
       "      fields {\n",
       "        key: \"V9\"\n",
       "        value {\n",
       "          number_value: 3.592654550330132e-05\n",
       "        }\n",
       "      }\n",
       "    }\n",
       "  }\n",
       "  output_index: 0\n",
       "  approximation_error: 0.000570674759084418\n",
       "  output_name: \"logistic\"\n",
       "}\n",
       "]"
      ]
     },
     "execution_count": 101,
     "metadata": {},
     "output_type": "execute_result"
    }
   ],
   "source": [
    "explanation.explanations"
   ]
  },
  {
   "cell_type": "code",
   "execution_count": 102,
   "id": "5b5855e6-cfed-415e-937f-0b608a3a5460",
   "metadata": {},
   "outputs": [
    {
     "name": "stdout",
     "output_type": "stream",
     "text": [
      "attribution:\n",
      "baseline output: 0.9997043013572693\n",
      "instance output: 0.9998027682304382\n",
      "output_index: [0]\n",
      "output_name: logistic\n",
      "approximation error: 0.000570674759084418\n"
     ]
    }
   ],
   "source": [
    "print(\"attribution:\")\n",
    "print(\"baseline output:\",explanation.explanations[0].attributions[0].baseline_output_value)\n",
    "print(\"instance output:\",explanation.explanations[0].attributions[0].instance_output_value)\n",
    "print(\"output_index:\",explanation.explanations[0].attributions[0].output_index)\n",
    "print(\"output_name:\",explanation.explanations[0].attributions[0].output_name)\n",
    "print(\"approximation error:\",explanation.explanations[0].attributions[0].approximation_error)"
   ]
  },
  {
   "cell_type": "code",
   "execution_count": 103,
   "id": "0a0d1674-6d45-4373-90bb-719a274c9166",
   "metadata": {},
   "outputs": [
    {
     "data": {
      "image/png": "[encoded data removed]",
      "text/plain": [
       "<Figure size 648x648 with 1 Axes>"
      ]
     },
     "metadata": {
      "needs_background": "light"
     },
     "output_type": "display_data"
    }
   ],
   "source": [
    "import matplotlib.pyplot as plt\n",
    "features = []\n",
    "scores = []\n",
    "for k in explanation.explanations[0].attributions[0].feature_attributions:\n",
    "    features.append(k)\n",
    "    scores.append(explanation.explanations[0].attributions[0].feature_attributions[k])\n",
    "features = [x for _, x in sorted(zip(scores, features))]\n",
    "scores = sorted(scores)\n",
    "fig, ax = plt.subplots()\n",
    "fig.set_size_inches(9, 9)\n",
    "ax.barh(features, scores)\n",
    "plt.title('Feature Attributions')\n",
    "fig.show()"
   ]
  },
  {
   "cell_type": "markdown",
   "id": "72e1ede1-0773-4ea8-a34a-9ca50a3310a2",
   "metadata": {},
   "source": [
    "In the plot above, each bar represents the attribution for a feature, or how much the feature affected the change in the predicted value relative to the baseline value."
   ]
  },
  {
   "cell_type": "code",
   "execution_count": 72,
   "id": "e014ebfa-4355-473f-8a94-12b98c487c5e",
   "metadata": {},
   "outputs": [
    {
     "name": "stdout",
     "output_type": "stream",
     "text": [
      "baseline output: 0.9997043013572693\n",
      "instance output: 0.9998027682304382\n",
      "Total Attribution: 9.841067490307422e-05\n",
      "instance - baseline: 9.846687316894531e-05\n"
     ]
    }
   ],
   "source": [
    "sum_attributions = 0\n",
    "for k in explanation.explanations[0].attributions[0].feature_attributions:\n",
    "    sum_attributions += explanation.explanations[0].attributions[0].feature_attributions[k]\n",
    "\n",
    "print(\"baseline output:\",explanation.explanations[0].attributions[0].baseline_output_value)\n",
    "print(\"instance output:\",explanation.explanations[0].attributions[0].instance_output_value)\n",
    "print(\"Total Attribution:\", sum_attributions)\n",
    "print(\"instance - baseline:\",explanation.explanations[0].attributions[0].instance_output_value-explanation.explanations[0].attributions[0].baseline_output_value)"
   ]
  },
  {
   "cell_type": "markdown",
   "id": "60aeca01-4d74-4521-a34d-3a5a75b1a0f1",
   "metadata": {},
   "source": [
    "### Explainable AI SDK: Local Explanations\n",
    "When using Vertex AI Workbench based user-managed notebooks you have access to the [Explainable AI SDK](https://github.com/GoogleCloudPlatform/explainable_ai_sdk).  This section demonstrates local explanations using the SDK.\n",
    "\n",
    "This can be helpful for iterating on setting up explanations before deploying the model with `explanationSpec`:\n",
    "- try different baselines\n",
    "- setup vizualization settings for image models\n",
    "- adjust parameters like steps (integrated gradients) or paths (sampled Shapley)"
   ]
  },
  {
   "cell_type": "code",
   "execution_count": 73,
   "id": "6c5282dd-0520-41f6-8c52-891c033357ce",
   "metadata": {},
   "outputs": [],
   "source": [
    "import explainable_ai_sdk\n",
    "from explainable_ai_sdk.metadata.tf.v2 import SavedModelMetadataBuilder"
   ]
  },
  {
   "cell_type": "code",
   "execution_count": 74,
   "id": "1d9df2aa-7caa-4138-ab74-54522ea3e806",
   "metadata": {},
   "outputs": [
    {
     "name": "stdout",
     "output_type": "stream",
     "text": [
      "INFO:tensorflow:Assets written to: temp/05_explanability/model/assets\n"
     ]
    },
    {
     "name": "stderr",
     "output_type": "stream",
     "text": [
      "INFO:tensorflow:Assets written to: temp/05_explanability/model/assets\n"
     ]
    },
    {
     "name": "stdout",
     "output_type": "stream",
     "text": [
      "temp/05_explanability/model:\n",
      "total 472\n",
      "drwxr-xr-x 2 jupyter jupyter   4096 Feb 10 15:44 assets\n",
      "-rw-r--r-- 1 jupyter jupyter   3525 Feb 10 15:44 explanation_metadata.json\n",
      "-rw-r--r-- 1 jupyter jupyter 469848 Feb 10 15:44 saved_model.pb\n",
      "drwxr-xr-x 2 jupyter jupyter   4096 Feb 10 15:44 variables\n",
      "\n",
      "temp/05_explanability/model/assets:\n",
      "total 0\n",
      "\n",
      "temp/05_explanability/model/variables:\n",
      "total 16\n",
      "-rw-r--r-- 1 jupyter jupyter 10137 Feb 10 15:44 variables.data-00000-of-00001\n",
      "-rw-r--r-- 1 jupyter jupyter  1186 Feb 10 15:44 variables.index\n"
     ]
    }
   ],
   "source": [
    "builder = SavedModelMetadataBuilder(model.uri)\n",
    "builder.save_model_with_metadata(f'{DIR}/model')\n",
    "!ls -l -R {DIR}/model"
   ]
  },
  {
   "cell_type": "code",
   "execution_count": 75,
   "id": "1c57a2ec-9dd5-4f9f-8dc2-f12eee0edd72",
   "metadata": {},
   "outputs": [],
   "source": [
    "local_model = explainable_ai_sdk.load_model_from_local_path(\n",
    "    model_path = f'{DIR}/model',\n",
    "    config = explainable_ai_sdk.IntegratedGradientsConfig(step_count = 50)\n",
    ")"
   ]
  },
  {
   "cell_type": "code",
   "execution_count": 76,
   "id": "4cc8544c-8e26-482d-8a6e-6b6d660a4ef5",
   "metadata": {},
   "outputs": [
    {
     "data": {
      "text/plain": [
       "explainable_ai_sdk.model.local_model.LocalModel"
      ]
     },
     "execution_count": 76,
     "metadata": {},
     "output_type": "execute_result"
    }
   ],
   "source": [
    "type(local_model)"
   ]
  },
  {
   "cell_type": "code",
   "execution_count": 77,
   "id": "98168109-769e-420a-89d0-4aff33c3f85f",
   "metadata": {},
   "outputs": [
    {
     "data": {
      "text/plain": [
       "{'Time': 35337,\n",
       " 'V1': 1.0928441854981998,\n",
       " 'V2': -0.0132303486713432,\n",
       " 'V3': 1.35982868199426,\n",
       " 'V4': 2.7315370965921004,\n",
       " 'V5': -0.707357349219652,\n",
       " 'V6': 0.8738370029866129,\n",
       " 'V7': -0.7961301510622031,\n",
       " 'V8': 0.437706509544851,\n",
       " 'V9': 0.39676985012996396,\n",
       " 'V10': 0.587438102569443,\n",
       " 'V11': -0.14979756231827498,\n",
       " 'V12': 0.29514781622888103,\n",
       " 'V13': -1.30382621882143,\n",
       " 'V14': -0.31782283120234495,\n",
       " 'V15': -2.03673231037199,\n",
       " 'V16': 0.376090905274179,\n",
       " 'V17': -0.30040350116459497,\n",
       " 'V18': 0.433799615590844,\n",
       " 'V19': -0.145082264348681,\n",
       " 'V20': -0.240427548108996,\n",
       " 'V21': 0.0376030733329398,\n",
       " 'V22': 0.38002620963091405,\n",
       " 'V23': -0.16764742731151097,\n",
       " 'V24': 0.0275573495476881,\n",
       " 'V25': 0.59211469704354,\n",
       " 'V26': 0.219695164116351,\n",
       " 'V27': 0.0369695108704894,\n",
       " 'V28': 0.010984441006191,\n",
       " 'Amount': 0.0}"
      ]
     },
     "execution_count": 77,
     "metadata": {},
     "output_type": "execute_result"
    }
   ],
   "source": [
    "newobs[0]"
   ]
  },
  {
   "cell_type": "markdown",
   "id": "9a900bbd-b480-4872-bd57-02daf52c2893",
   "metadata": {},
   "source": [
    "Update the dictionary to have values as tensors:"
   ]
  },
  {
   "cell_type": "code",
   "execution_count": 78,
   "id": "9183f902-0ba9-4dc8-a902-25a0829ca52a",
   "metadata": {},
   "outputs": [
    {
     "data": {
      "text/plain": [
       "{'Time': <tf.Tensor: shape=(1,), dtype=float64, numpy=array([35337.])>,\n",
       " 'V1': <tf.Tensor: shape=(1,), dtype=float64, numpy=array([1.09284419])>,\n",
       " 'V2': <tf.Tensor: shape=(1,), dtype=float64, numpy=array([-0.01323035])>,\n",
       " 'V3': <tf.Tensor: shape=(1,), dtype=float64, numpy=array([1.35982868])>,\n",
       " 'V4': <tf.Tensor: shape=(1,), dtype=float64, numpy=array([2.7315371])>,\n",
       " 'V5': <tf.Tensor: shape=(1,), dtype=float64, numpy=array([-0.70735735])>,\n",
       " 'V6': <tf.Tensor: shape=(1,), dtype=float64, numpy=array([0.873837])>,\n",
       " 'V7': <tf.Tensor: shape=(1,), dtype=float64, numpy=array([-0.79613015])>,\n",
       " 'V8': <tf.Tensor: shape=(1,), dtype=float64, numpy=array([0.43770651])>,\n",
       " 'V9': <tf.Tensor: shape=(1,), dtype=float64, numpy=array([0.39676985])>,\n",
       " 'V10': <tf.Tensor: shape=(1,), dtype=float64, numpy=array([0.5874381])>,\n",
       " 'V11': <tf.Tensor: shape=(1,), dtype=float64, numpy=array([-0.14979756])>,\n",
       " 'V12': <tf.Tensor: shape=(1,), dtype=float64, numpy=array([0.29514782])>,\n",
       " 'V13': <tf.Tensor: shape=(1,), dtype=float64, numpy=array([-1.30382622])>,\n",
       " 'V14': <tf.Tensor: shape=(1,), dtype=float64, numpy=array([-0.31782283])>,\n",
       " 'V15': <tf.Tensor: shape=(1,), dtype=float64, numpy=array([-2.03673231])>,\n",
       " 'V16': <tf.Tensor: shape=(1,), dtype=float64, numpy=array([0.37609091])>,\n",
       " 'V17': <tf.Tensor: shape=(1,), dtype=float64, numpy=array([-0.3004035])>,\n",
       " 'V18': <tf.Tensor: shape=(1,), dtype=float64, numpy=array([0.43379962])>,\n",
       " 'V19': <tf.Tensor: shape=(1,), dtype=float64, numpy=array([-0.14508226])>,\n",
       " 'V20': <tf.Tensor: shape=(1,), dtype=float64, numpy=array([-0.24042755])>,\n",
       " 'V21': <tf.Tensor: shape=(1,), dtype=float64, numpy=array([0.03760307])>,\n",
       " 'V22': <tf.Tensor: shape=(1,), dtype=float64, numpy=array([0.38002621])>,\n",
       " 'V23': <tf.Tensor: shape=(1,), dtype=float64, numpy=array([-0.16764743])>,\n",
       " 'V24': <tf.Tensor: shape=(1,), dtype=float64, numpy=array([0.02755735])>,\n",
       " 'V25': <tf.Tensor: shape=(1,), dtype=float64, numpy=array([0.5921147])>,\n",
       " 'V26': <tf.Tensor: shape=(1,), dtype=float64, numpy=array([0.21969516])>,\n",
       " 'V27': <tf.Tensor: shape=(1,), dtype=float64, numpy=array([0.03696951])>,\n",
       " 'V28': <tf.Tensor: shape=(1,), dtype=float64, numpy=array([0.01098444])>,\n",
       " 'Amount': <tf.Tensor: shape=(1,), dtype=float64, numpy=array([0.])>}"
      ]
     },
     "execution_count": 78,
     "metadata": {},
     "output_type": "execute_result"
    }
   ],
   "source": [
    "{key: tf.constant([value], dtype=tf.float64, name = key) for key, value in newobs[0].items()}"
   ]
  },
  {
   "cell_type": "code",
   "execution_count": 79,
   "id": "3b1a4201-828c-429d-9c9f-21e4cd4fd157",
   "metadata": {},
   "outputs": [
    {
     "data": {
      "text/plain": [
       "[{'logistic': [0.9998027682304382, 0.00019723089644685388]}]"
      ]
     },
     "execution_count": 79,
     "metadata": {},
     "output_type": "execute_result"
    }
   ],
   "source": [
    "prediction = local_model.predict(instances = [{key: tf.constant([value], dtype=tf.float64, name = key) for key, value in newobs[0].items()}])\n",
    "prediction"
   ]
  },
  {
   "cell_type": "code",
   "execution_count": 80,
   "id": "18df7690-057c-4464-b713-7ff36fccc1dc",
   "metadata": {},
   "outputs": [
    {
     "data": {
      "text/plain": [
       "[<explainable_ai_sdk.model.explanation.Explanation at 0x7f1398fa3410>]"
      ]
     },
     "execution_count": 80,
     "metadata": {},
     "output_type": "execute_result"
    }
   ],
   "source": [
    "explanation = local_model.explain(instances = [{key: tf.constant([value], dtype=tf.float64, name = key) for key, value in newobs[0].items()}])\n",
    "explanation"
   ]
  },
  {
   "cell_type": "code",
   "execution_count": 81,
   "id": "36d11c91-d8a8-49b0-9292-2770c2d8c0b2",
   "metadata": {},
   "outputs": [
    {
     "data": {
      "text/plain": [
       "{'V25': 1.3709726545130252e-06,\n",
       " 'V13': 0.0001386733929393813,\n",
       " 'V2': -2.693861347324855e-07,\n",
       " 'V24': -4.03402100346284e-06,\n",
       " 'V17': -5.97179791839153e-07,\n",
       " 'V19': -3.7046950183139415e-06,\n",
       " 'V3': 4.7808411181904376e-05,\n",
       " 'V28': -1.161488967227342e-06,\n",
       " 'V4': -0.0002718865289352834,\n",
       " 'V15': 0.00011906865984201431,\n",
       " 'V1': -6.660031317551329e-07,\n",
       " 'V10': 6.811153434682637e-05,\n",
       " 'V14': -2.404592487437185e-05,\n",
       " 'V6': 4.4035614337190054e-06,\n",
       " 'V7': -7.34212017050595e-06,\n",
       " 'V9': 3.593631481635384e-05,\n",
       " 'V11': -8.045149115787353e-06,\n",
       " 'V8': -2.534484701754991e-05,\n",
       " 'Time': -4.0205199184129015e-05,\n",
       " 'V18': 4.624951179721393e-05,\n",
       " 'V21': -3.126775936834747e-06,\n",
       " 'V5': -1.99327450900455e-06,\n",
       " 'V12': 5.086303281132132e-05,\n",
       " 'Amount': 0.0,\n",
       " 'V27': -2.185664698117762e-06,\n",
       " 'V16': -2.9752291084150784e-06,\n",
       " 'V22': 1.498453457315918e-05,\n",
       " 'V26': -2.7416519515099935e-05,\n",
       " 'V20': -4.206258836347843e-06,\n",
       " 'V23': 1.7384023465183418e-07}"
      ]
     },
     "execution_count": 81,
     "metadata": {},
     "output_type": "execute_result"
    }
   ],
   "source": [
    "explanation[0].feature_importance()"
   ]
  },
  {
   "cell_type": "code",
   "execution_count": 82,
   "id": "078410d6-4cc8-4032-9f90-90233a3e0781",
   "metadata": {},
   "outputs": [
    {
     "data": {
      "text/plain": [
       "{'V25': array([1.3709727e-06], dtype=float32),\n",
       " 'V13': array([0.00013867], dtype=float32),\n",
       " 'V2': array([-2.6938613e-07], dtype=float32),\n",
       " 'V24': array([-4.034021e-06], dtype=float32),\n",
       " 'V17': array([-5.971798e-07], dtype=float32),\n",
       " 'V19': array([-3.704695e-06], dtype=float32),\n",
       " 'V3': array([4.780841e-05], dtype=float32),\n",
       " 'V28': array([-1.161489e-06], dtype=float32),\n",
       " 'V4': array([-0.00027189], dtype=float32),\n",
       " 'V15': array([0.00011907], dtype=float32),\n",
       " 'V1': array([-6.6600313e-07], dtype=float32),\n",
       " 'V10': array([6.8111534e-05], dtype=float32),\n",
       " 'V14': array([-2.4045925e-05], dtype=float32),\n",
       " 'V6': array([4.4035614e-06], dtype=float32),\n",
       " 'V7': array([-7.34212e-06], dtype=float32),\n",
       " 'V9': array([3.5936315e-05], dtype=float32),\n",
       " 'V11': array([-8.045149e-06], dtype=float32),\n",
       " 'V8': array([-2.5344847e-05], dtype=float32),\n",
       " 'Time': array([-4.02052e-05], dtype=float32),\n",
       " 'V18': array([4.624951e-05], dtype=float32),\n",
       " 'V21': array([-3.126776e-06], dtype=float32),\n",
       " 'V5': array([-1.9932745e-06], dtype=float32),\n",
       " 'V12': array([5.0863033e-05], dtype=float32),\n",
       " 'Amount': array([0.], dtype=float32),\n",
       " 'V27': array([-2.1856647e-06], dtype=float32),\n",
       " 'V16': array([-2.975229e-06], dtype=float32),\n",
       " 'V22': array([1.4984535e-05], dtype=float32),\n",
       " 'V26': array([-2.741652e-05], dtype=float32),\n",
       " 'V20': array([-4.206259e-06], dtype=float32),\n",
       " 'V23': array([1.7384023e-07], dtype=float32)}"
      ]
     },
     "execution_count": 82,
     "metadata": {},
     "output_type": "execute_result"
    }
   ],
   "source": [
    "explanation[0].as_tensors()"
   ]
  },
  {
   "cell_type": "code",
   "execution_count": 83,
   "id": "103536f2-95fa-4bf8-a7bd-e65194d21579",
   "metadata": {},
   "outputs": [
    {
     "name": "stdout",
     "output_type": "stream",
     "text": [
      "Label Index 0\n",
      "Example Score: 0.9998\n",
      "Baseline Score: 0.9997\n",
      "Approximation Error: 0.0003\n"
     ]
    },
    {
     "data": {
      "image/png": "[encoded data removed]",
      "text/plain": [
       "<Figure size 432x288 with 1 Axes>"
      ]
     },
     "metadata": {
      "needs_background": "light"
     },
     "output_type": "display_data"
    }
   ],
   "source": [
    "explanation[0].visualize_attributions()"
   ]
  },
  {
   "cell_type": "code",
   "execution_count": 84,
   "id": "f4fdd102-3064-490d-a511-8cff8233593f",
   "metadata": {},
   "outputs": [
    {
     "data": {
      "image/png": "[encoded data removed]",
      "text/plain": [
       "<Figure size 432x288 with 1 Axes>"
      ]
     },
     "metadata": {
      "needs_background": "light"
     },
     "output_type": "display_data"
    }
   ],
   "source": [
    "explanation[0].visualize_top_k_features(k = 10) #(k=len(newobs[0]))"
   ]
  },
  {
   "cell_type": "markdown",
   "id": "f1c5df30-1335-48b0-8c82-985596b867fe",
   "metadata": {},
   "source": [
    "### Explainable AI SDK With Vertex AI Endpoints\n",
    "The features of the Explainable AI SDK are also useful for Vertex AI Endpoints.  The example below shows using the SDK with a Vertex AI Endpoint, the one setup in this notebook with `explanationSpec`."
   ]
  },
  {
   "cell_type": "code",
   "execution_count": 85,
   "id": "4c77a370-d2cd-461a-8ac1-813e2f08665a",
   "metadata": {},
   "outputs": [],
   "source": [
    "vertex_explain = explainable_ai_sdk.load_model_from_vertex(\n",
    "    project = PROJECT_ID,\n",
    "    region = REGION,\n",
    "    endpoint_id = endpoint.resource_name.split('/')[-1]\n",
    ")"
   ]
  },
  {
   "cell_type": "code",
   "execution_count": 86,
   "id": "a2dd07a5-0a80-4e82-b2f8-e4ba816990e5",
   "metadata": {},
   "outputs": [
    {
     "data": {
      "text/plain": [
       "{'predictions': [[0.999802768, 0.000197230533]],\n",
       " 'deployedModelId': '5147434054177521664',\n",
       " 'model': 'projects/1026793852137/locations/us-central1/models/model_05_05a',\n",
       " 'modelDisplayName': '05_05a',\n",
       " 'modelVersionId': '6'}"
      ]
     },
     "execution_count": 86,
     "metadata": {},
     "output_type": "execute_result"
    }
   ],
   "source": [
    "prediction = vertex_explain.predict(instances = [newobs[0]])\n",
    "prediction"
   ]
  },
  {
   "cell_type": "code",
   "execution_count": 87,
   "id": "0cdd922e-170c-4d2f-933c-9d90371e7b1c",
   "metadata": {},
   "outputs": [],
   "source": [
    "explanation = vertex_explain.explain(instances = [newobs[0]])"
   ]
  },
  {
   "cell_type": "code",
   "execution_count": 88,
   "id": "da96eb1b-9660-4df7-89d9-32754764eca6",
   "metadata": {},
   "outputs": [
    {
     "data": {
      "text/plain": [
       "{'V14': -2.403936854269119e-05,\n",
       " 'V17': -5.970178636156053e-07,\n",
       " 'V6': 4.40234571362518e-06,\n",
       " 'V1': -6.658296857614748e-07,\n",
       " 'V7': -7.340134782225733e-06,\n",
       " 'V28': -1.161173811030579e-06,\n",
       " 'V5': -1.992755034586622e-06,\n",
       " 'V26': -2.740904072619373e-05,\n",
       " 'V21': -3.125921318594296e-06,\n",
       " 'V9': 3.592654550330132e-05,\n",
       " 'V24': -4.032922688155789e-06,\n",
       " 'V8': -2.533794295892201e-05,\n",
       " 'V4': -0.0002718123924634514,\n",
       " 'V22': 1.498046874492962e-05,\n",
       " 'V25': 1.370562054254876e-06,\n",
       " 'V3': 4.779534425068975e-05,\n",
       " 'V12': 5.08491727274561e-05,\n",
       " 'V27': -2.185066237434051e-06,\n",
       " 'V13': 0.000138635630690663,\n",
       " 'V19': -3.70367807400512e-06,\n",
       " 'V15': 0.0001190361665926488,\n",
       " 'V18': 4.623693770839315e-05,\n",
       " 'V11': -8.042956437090075e-06,\n",
       " 'V20': -4.205125917685387e-06,\n",
       " 'Time': -4.019419980192097e-05,\n",
       " 'V10': 6.809297314488279e-05,\n",
       " 'V2': -2.693125660194055e-07,\n",
       " 'V23': 1.737807292993355e-07,\n",
       " 'V16': -2.974414047686235e-06}"
      ]
     },
     "execution_count": 88,
     "metadata": {},
     "output_type": "execute_result"
    }
   ],
   "source": [
    "explanation[0].feature_importance()"
   ]
  },
  {
   "cell_type": "code",
   "execution_count": 89,
   "id": "eb933ae1-e433-473f-8cdb-b8b385e53de2",
   "metadata": {},
   "outputs": [
    {
     "data": {
      "text/plain": [
       "{'V14': array(-2.40393685e-05),\n",
       " 'V17': array(-5.97017864e-07),\n",
       " 'V6': array(4.40234571e-06),\n",
       " 'V1': array(-6.65829686e-07),\n",
       " 'V7': array(-7.34013478e-06),\n",
       " 'V28': array(-1.16117381e-06),\n",
       " 'V5': array(-1.99275503e-06),\n",
       " 'V26': array(-2.74090407e-05),\n",
       " 'V21': array(-3.12592132e-06),\n",
       " 'V9': array(3.59265455e-05),\n",
       " 'V24': array(-4.03292269e-06),\n",
       " 'V8': array(-2.5337943e-05),\n",
       " 'V4': array(-0.00027181),\n",
       " 'V22': array(1.49804687e-05),\n",
       " 'V25': array(1.37056205e-06),\n",
       " 'V3': array(4.77953443e-05),\n",
       " 'V12': array(5.08491727e-05),\n",
       " 'V27': array(-2.18506624e-06),\n",
       " 'V13': array(0.00013864),\n",
       " 'V19': array(-3.70367807e-06),\n",
       " 'V15': array(0.00011904),\n",
       " 'V18': array(4.62369377e-05),\n",
       " 'V11': array(-8.04295644e-06),\n",
       " 'V20': array(-4.20512592e-06),\n",
       " 'Time': array(-4.01941998e-05),\n",
       " 'V10': array(6.80929731e-05),\n",
       " 'V2': array(-2.69312566e-07),\n",
       " 'V23': array(1.73780729e-07),\n",
       " 'V16': array(-2.97441405e-06)}"
      ]
     },
     "execution_count": 89,
     "metadata": {},
     "output_type": "execute_result"
    }
   ],
   "source": [
    "explanation[0].as_tensors()"
   ]
  },
  {
   "cell_type": "code",
   "execution_count": 90,
   "id": "1b187673-80ad-48fe-8d5c-493bdffb9cde",
   "metadata": {},
   "outputs": [
    {
     "name": "stdout",
     "output_type": "stream",
     "text": [
      "Label Index [0]\n",
      "Example Score: 0.9998\n",
      "Baseline Score: 0.9997\n",
      "Approximation Error: 0.0006\n"
     ]
    }
   ],
   "source": [
    "explanation[0].visualize_attributions()"
   ]
  },
  {
   "cell_type": "code",
   "execution_count": 91,
   "id": "7779b72a-4063-4ee1-93a4-6650e29ec6da",
   "metadata": {},
   "outputs": [
    {
     "data": {
      "image/png": "[encoded data removed]",
      "text/plain": [
       "<Figure size 432x288 with 1 Axes>"
      ]
     },
     "metadata": {
      "needs_background": "light"
     },
     "output_type": "display_data"
    }
   ],
   "source": [
    "explanation[0].visualize_top_k_features(k=len(newobs[0]))"
   ]
  },
  {
   "cell_type": "code",
   "execution_count": null,
   "id": "4410c3d6-34fa-43c8-919d-34dc9b96942f",
   "metadata": {},
   "outputs": [],
   "source": []
  }
 ],
 "metadata": {
  "environment": {
   "kernel": "python3",
   "name": "tf2-gpu.2-3.m94",
   "type": "gcloud",
   "uri": "gcr.io/deeplearning-platform-release/tf2-gpu.2-3:m94"
  },
  "kernelspec": {
   "display_name": "Python 3",
   "language": "python",
   "name": "python3"
  },
  "language_info": {
   "codemirror_mode": {
    "name": "ipython",
    "version": 3
   },
   "file_extension": ".py",
   "mimetype": "text/x-python",
   "name": "python",
   "nbconvert_exporter": "python",
   "pygments_lexer": "ipython3",
   "version": "3.7.12"
  }
 },
 "nbformat": 4,
 "nbformat_minor": 5
}
