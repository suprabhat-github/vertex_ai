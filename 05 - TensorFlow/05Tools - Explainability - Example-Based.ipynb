{
 "cells": [
  {
   "cell_type": "markdown",
   "id": "5ec22930",
   "metadata": {},
   "source": [
    "![ga4](https://www.google-analytics.com/collect?v=2&tid=G-6VDTYWLKX6&cid=1&en=page_view&sid=1&dl=statmike%2Fvertex-ai-mlops%2F05+-+TensorFlow&dt=05Tools+-+Explainability+-+Example-Based.ipynb)\n",
    "<!--- header table --->\n",
    "<table align=\"left\">\n",
    "  <td style=\"text-align: center\">\n",
    "    <a href=\"https://colab.research.google.com/github/statmike/vertex-ai-mlops/blob/main/05%20-%20TensorFlow/05Tools%20-%20Explainability%20-%20Example-Based.ipynb\">\n",
    "      <img src=\"https://cloud.google.com/ml-engine/images/colab-logo-32px.png\" alt=\"Google Colaboratory logo\">\n",
    "      <br>Run in<br>Colab\n",
    "    </a>\n",
    "  </td>\n",
    "  <td style=\"text-align: center\">\n",
    "    <a href=\"https://console.cloud.google.com/vertex-ai/colab/import/https%3A//raw.githubusercontent.com/statmike/vertex-ai-mlops/main/05%20-%20TensorFlow/05Tools%20-%20Explainability%20-%20Example-Based.ipynb\">\n",
    "      <img width=\"32px\" src=\"https://lh3.googleusercontent.com/JmcxdQi-qOpctIvWKgPtrzZdJJK-J3sWE1RsfjZNwshCFgE_9fULcNpuXYTilIR2hjwN\" alt=\"Google Cloud Colab Enterprise logo\">\n",
    "      <br>Run in<br>Colab Enterprise\n",
    "    </a>\n",
    "  </td>      \n",
    "  <td style=\"text-align: center\">\n",
    "    <a href=\"https://github.com/statmike/vertex-ai-mlops/blob/main/05%20-%20TensorFlow/05Tools%20-%20Explainability%20-%20Example-Based.ipynb\">\n",
    "      <img src=\"https://cloud.google.com/ml-engine/images/github-logo-32px.png\" alt=\"GitHub logo\">\n",
    "      <br>View on<br>GitHub\n",
    "    </a>\n",
    "  </td>\n",
    "  <td style=\"text-align: center\">\n",
    "    <a href=\"https://console.cloud.google.com/vertex-ai/workbench/deploy-notebook?download_url=https%3A//raw.githubusercontent.com/statmike/vertex-ai-mlops/main/05%20-%20TensorFlow/05Tools%20-%20Explainability%20-%20Example-Based.ipynb\">\n",
    "      <img src=\"https://lh3.googleusercontent.com/UiNooY4LUgW_oTvpsNhPpQzsstV5W8F7rYgxgGBD85cWJoLmrOzhVs_ksK_vgx40SHs7jCqkTkCk=e14-rj-sc0xffffff-h130-w32\" alt=\"Vertex AI logo\">\n",
    "      <br>Open in<br>Vertex AI Workbench\n",
    "    </a>\n",
    "  </td>\n",
    "</table>"
   ]
  },
  {
   "cell_type": "markdown",
   "id": "d88c3e15-9a15-4d65-b959-d122b5af91cf",
   "metadata": {},
   "source": [
    "# 05Tools: Model Explainability - Example-Based\n",
    "## IN ACTIVE DEVELOPMENT - NOT COMPLETE\n",
    "\n",
    "Model explainability helps understand model outputs = predictions.  There are two approaches here:\n",
    "- Feature-Based Explanations - columns/features attributions\n",
    "    - How much did each feature contribute to a specific prediction\n",
    "    - Uses a baseline for comparison, usually based on a central value for each feature from the training data\n",
    "    - Helpful for recognizing bias and finding areas for improvement\n",
    "    - Read more about [feature attributions and methods](https://cloud.google.com/vertex-ai/docs/explainable-ai/overview#feature_attributions)\n",
    "    - Examples in [github.com/GoogleClouPlatform/vertex-ai-samples](https://github.com/GoogleCloudPlatform/vertex-ai-samples/tree/main/notebooks/official/explainable_ai)\n",
    "- Example-Based Explanations - row/example attributions\n",
    "    - Return similar examples, neighbors, to help understand predictions\n",
    "    - Along with a prediction, get examples from the source data that are most similar to the prediction to further understand \"why?\"\n",
    "\n",
    "This notebook covers example-based explanations.  For a review of feature-based explanations see the notebook [05Tools - Explainability - Feature-Based.ipynb](./05Tools%20-%20Explainability%20-%20Feature-Based.ipynb).\n",
    "\n",
    "Vertex AI can serve explanations during online and batch predictions.  \n",
    "\n",
    "### Prerequisites:\n",
    "-  At least 1 of the notebooks in this series [05, 05a-05i]\n",
    "    - these each reate a model, add it to the Vertex AI Model Registry, and update a Vertex AI Endpoint\n",
    "\n",
    "### Conceptual Flow & Workflow\n",
    "<p align=\"center\">\n",
    "  <img alt=\"Conceptual Flow\" src=\"../architectures/slides/05tools_explain_arch.png\" width=\"45%\">\n",
    "&nbsp; &nbsp; &nbsp; &nbsp;\n",
    "  <img alt=\"Workflow\" src=\"../architectures/slides/05tools_explain_console.png\" width=\"45%\">\n",
    "</p>"
   ]
  },
  {
   "cell_type": "markdown",
   "id": "dfbf5aea-7edc-4961-bd66-542bbf201e06",
   "metadata": {},
   "source": [
    "---\n",
    "## Setup"
   ]
  },
  {
   "cell_type": "markdown",
   "id": "a2150c34-bfff-432b-b60a-20af9c153650",
   "metadata": {},
   "source": [
    "inputs:"
   ]
  },
  {
   "cell_type": "code",
   "execution_count": 9,
   "id": "93b4f256-97d1-4bf1-8b38-4b3bca857ac2",
   "metadata": {},
   "outputs": [
    {
     "data": {
      "text/plain": [
       "'statmike-mlops-349915'"
      ]
     },
     "execution_count": 9,
     "metadata": {},
     "output_type": "execute_result"
    }
   ],
   "source": [
    "project = !gcloud config get-value project\n",
    "PROJECT_ID = project[0]\n",
    "PROJECT_ID"
   ]
  },
  {
   "cell_type": "code",
   "execution_count": 35,
   "id": "3baf2329-67a1-40ce-b16c-77cbc733dff6",
   "metadata": {},
   "outputs": [],
   "source": [
    "REGION = 'us-central1'\n",
    "EXPERIMENT = 'ebe'\n",
    "SERIES = '05ebe'\n",
    "\n",
    "# source data\n",
    "BQ_PROJECT = PROJECT_ID\n",
    "BQ_DATASET = 'fraud'\n",
    "BQ_TABLE = 'fraud_prepped'\n",
    "\n",
    "# Resources\n",
    "TRAIN_IMAGE = 'us-docker.pkg.dev/vertex-ai/training/tf-gpu.2-7:latest'\n",
    "DEPLOY_IMAGE ='us-docker.pkg.dev/vertex-ai/prediction/tf2-cpu.2-7:latest'\n",
    "TRAIN_COMPUTE = 'n1-standard-4'\n",
    "DEPLOY_COMPUTE = 'n1-standard-4'\n",
    "\n",
    "# Model Training\n",
    "VAR_TARGET = 'Class'\n",
    "VAR_OMIT = 'transaction_id' # add more variables to the string with space delimiters\n",
    "EPOCHS = 10\n",
    "BATCH_SIZE = 100"
   ]
  },
  {
   "cell_type": "markdown",
   "id": "5c4f4c23-a10a-4027-8ab4-edb59d949fef",
   "metadata": {},
   "source": [
    "packages:"
   ]
  },
  {
   "cell_type": "code",
   "execution_count": 36,
   "id": "f5c03913-cb39-4367-810b-2685e713fd0c",
   "metadata": {},
   "outputs": [],
   "source": [
    "from google.cloud import aiplatform\n",
    "from google.cloud import bigquery\n",
    "\n",
    "import tensorflow as tf\n",
    "import pkg_resources\n",
    "\n",
    "from datetime import datetime\n",
    "from google.protobuf import json_format\n",
    "from google.protobuf.struct_pb2 import Value\n",
    "\n",
    "import json\n",
    "import numpy as np"
   ]
  },
  {
   "cell_type": "markdown",
   "id": "3a12ed0a-3c56-48de-8e56-82dd1d860f23",
   "metadata": {},
   "source": [
    "clients:"
   ]
  },
  {
   "cell_type": "code",
   "execution_count": 37,
   "id": "8ea5aef0-1cf6-4f2a-ab03-bd91c04154c5",
   "metadata": {},
   "outputs": [],
   "source": [
    "aiplatform.init(project=PROJECT_ID, location=REGION)\n",
    "bq = bigquery.Client()"
   ]
  },
  {
   "cell_type": "markdown",
   "id": "35ee3501-3580-484d-9a21-232676afd882",
   "metadata": {},
   "source": [
    "parameters:"
   ]
  },
  {
   "cell_type": "code",
   "execution_count": 38,
   "id": "4192c9bb-7fd3-426a-8c8b-a302dbdbcf9f",
   "metadata": {},
   "outputs": [],
   "source": [
    "TIMESTAMP = datetime.now().strftime(\"%Y%m%d%H%M%S\")\n",
    "BUCKET = PROJECT_ID\n",
    "URI = f\"gs://{BUCKET}/{SERIES}/{EXPERIMENT}\"\n",
    "DIR = f\"temp/{EXPERIMENT}\""
   ]
  },
  {
   "cell_type": "code",
   "execution_count": 39,
   "id": "7ca41eca-bd3d-415a-9dd2-57204e5fa208",
   "metadata": {},
   "outputs": [
    {
     "data": {
      "text/plain": [
       "'1026793852137-compute@developer.gserviceaccount.com'"
      ]
     },
     "execution_count": 39,
     "metadata": {},
     "output_type": "execute_result"
    }
   ],
   "source": [
    "SERVICE_ACCOUNT = !gcloud config list --format='value(core.account)' \n",
    "SERVICE_ACCOUNT = SERVICE_ACCOUNT[0]\n",
    "SERVICE_ACCOUNT"
   ]
  },
  {
   "cell_type": "markdown",
   "id": "8ee814a9-2baa-44b9-b190-a89f546290ba",
   "metadata": {},
   "source": [
    "List the service accounts current roles:"
   ]
  },
  {
   "cell_type": "code",
   "execution_count": 40,
   "id": "8d315581-ce04-42b3-870e-80f8f906153d",
   "metadata": {},
   "outputs": [
    {
     "name": "stdout",
     "output_type": "stream",
     "text": [
      "ROLE\n",
      "roles/bigquery.admin\n",
      "roles/owner\n",
      "roles/run.admin\n",
      "roles/storage.objectAdmin\n"
     ]
    }
   ],
   "source": [
    "!gcloud projects get-iam-policy $PROJECT_ID --filter=\"bindings.members:$SERVICE_ACCOUNT\" --format='table(bindings.role)' --flatten=\"bindings[].members\""
   ]
  },
  {
   "cell_type": "markdown",
   "id": "e0cdf8d0-3705-4f5c-9428-43f326cc8d55",
   "metadata": {},
   "source": [
    ">Note: If the resulting list is missing [roles/storage.objectAdmin](https://cloud.google.com/storage/docs/access-control/iam-roles) then [revisit the setup notebook](../00%20-%20Setup/00%20-%20Environment%20Setup.ipynb#permissions) and add this permission to the service account with the provided instructions."
   ]
  },
  {
   "cell_type": "markdown",
   "id": "fa52b2ea-b3d1-4bb6-9c5d-196f5d26fe34",
   "metadata": {},
   "source": [
    "environment:"
   ]
  },
  {
   "cell_type": "code",
   "execution_count": 41,
   "id": "cd20362b-3fd3-4bd4-a73f-0e58a9c4373f",
   "metadata": {},
   "outputs": [],
   "source": [
    "!rm -rf {DIR}\n",
    "!mkdir -p {DIR}"
   ]
  },
  {
   "cell_type": "markdown",
   "id": "3ede8291-51c4-405c-b723-7e0164db3b3e",
   "metadata": {},
   "source": [
    "Experiment Tracking:"
   ]
  },
  {
   "cell_type": "code",
   "execution_count": 42,
   "id": "4a9a560a-2535-4fb1-94e3-4de4c7780b2c",
   "metadata": {},
   "outputs": [],
   "source": [
    "FRAMEWORK = 'tf'\n",
    "TASK = 'classification'\n",
    "MODEL_TYPE = 'dnn'\n",
    "EXPERIMENT_NAME = f'experiment-{SERIES}-{EXPERIMENT}-{FRAMEWORK}-{TASK}-{MODEL_TYPE}'\n",
    "RUN_NAME = f'run-{TIMESTAMP}'"
   ]
  },
  {
   "cell_type": "markdown",
   "id": "113e05d3-4742-470a-9d91-fe0af21a8a30",
   "metadata": {
    "tags": []
   },
   "source": [
    "---\n",
    "## Get Vertex AI Experiments Tensorboard Instance Name\n",
    "[Vertex AI Experiments](https://cloud.google.com/vertex-ai/docs/experiments/tensorboard-overview) has managed [Tensorboard](https://www.tensorflow.org/tensorboard) instances that you can track Tensorboard Experiments (a training run or hyperparameter tuning sweep).  \n",
    "\n",
    "The training job will show up as an experiment for the Tensorboard instance and have the same name as the training job ID.\n",
    "\n",
    "This code checks to see if a Tensorboard Instance has been created in the project, retrieves it if so, creates it otherwise:"
   ]
  },
  {
   "cell_type": "code",
   "execution_count": 43,
   "id": "d5b20091-181c-4e72-829f-066b0c5f935c",
   "metadata": {},
   "outputs": [],
   "source": [
    "tb = aiplatform.Tensorboard.list(filter=f\"labels.series={SERIES}\")\n",
    "if tb:\n",
    "    tb = tb[0]\n",
    "else: \n",
    "    tb = aiplatform.Tensorboard.create(display_name = SERIES, labels = {'series' : f'{SERIES}'})"
   ]
  },
  {
   "cell_type": "code",
   "execution_count": 44,
   "id": "842be29a-d4fa-463f-a3a7-5a6013b6b72f",
   "metadata": {
    "tags": []
   },
   "outputs": [
    {
     "data": {
      "text/plain": [
       "'projects/1026793852137/locations/us-central1/tensorboards/2899904743654555648'"
      ]
     },
     "execution_count": 44,
     "metadata": {},
     "output_type": "execute_result"
    }
   ],
   "source": [
    "tb.resource_name"
   ]
  },
  {
   "cell_type": "markdown",
   "id": "603a229f-9192-4d35-b858-c18c723771d9",
   "metadata": {},
   "source": [
    "---\n",
    "## Setup Vertex AI Experiments\n",
    "\n",
    "The code in this section initializes the experiment and starts a run that represents this notebook.  Throughout the notebook sections for model training and evaluation information will be logged to the experiment using:\n",
    "- [.log_params](https://cloud.google.com/python/docs/reference/aiplatform/latest/google.cloud.aiplatform#google_cloud_aiplatform_log_params)\n",
    "- [.log_metrics](https://cloud.google.com/python/docs/reference/aiplatform/latest/google.cloud.aiplatform#google_cloud_aiplatform_log_metrics)\n",
    "- [.log_time_series_metrics](https://cloud.google.com/python/docs/reference/aiplatform/latest/google.cloud.aiplatform#google_cloud_aiplatform_log_time_series_metrics)"
   ]
  },
  {
   "cell_type": "code",
   "execution_count": 45,
   "id": "fbd4f626-ae19-4f2a-8364-3426661f405f",
   "metadata": {},
   "outputs": [],
   "source": [
    "aiplatform.init(experiment = EXPERIMENT_NAME, experiment_tensorboard = tb.resource_name)"
   ]
  },
  {
   "cell_type": "markdown",
   "id": "b6a97501-3425-4e67-aa76-3ec1f15e48ac",
   "metadata": {},
   "source": [
    "---\n",
    "## Training"
   ]
  },
  {
   "cell_type": "markdown",
   "id": "0454e1d7-10ff-45e6-bc71-45c18b338c32",
   "metadata": {},
   "source": [
    "### Python File for Training\n",
    "\n",
    "This notebook trains a TensorFlow model with the same inputs as `05` (and `05a` through `05i` but creates a trained encoder.  It proceses the inputs through a series of smaller and smaller hidden layers to create a learned encoding representation.\n",
    "\n",
    "**Write the script:**"
   ]
  },
  {
   "cell_type": "code",
   "execution_count": 46,
   "id": "c07f6d32-ca56-40c7-a9c4-3e89795d7489",
   "metadata": {},
   "outputs": [],
   "source": [
    "SCRIPT_PATH = f'./{DIR}/train.py'"
   ]
  },
  {
   "cell_type": "code",
   "execution_count": 47,
   "id": "1f574690-398b-4f8e-99c5-47eed32e06ba",
   "metadata": {},
   "outputs": [
    {
     "name": "stdout",
     "output_type": "stream",
     "text": [
      "Writing ./temp/ebe/train.py\n"
     ]
    }
   ],
   "source": [
    "%%writefile {SCRIPT_PATH}\n",
    "\n",
    "# package import\n",
    "from tensorflow.python.framework import dtypes\n",
    "from tensorflow_io.bigquery import BigQueryClient\n",
    "import tensorflow as tf\n",
    "from google.cloud import bigquery\n",
    "from google.cloud import aiplatform\n",
    "import argparse\n",
    "import os\n",
    "import sys\n",
    "\n",
    "# import argument to local variables\n",
    "parser = argparse.ArgumentParser()\n",
    "# the passed param, dest: a name for the param, default: if absent fetch this param from the OS, type: type to convert to, help: description of argument\n",
    "parser.add_argument('--epochs', dest = 'epochs', default = 10, type = int, help = 'Number of Epochs')\n",
    "parser.add_argument('--batch_size', dest = 'batch_size', default = 32, type = int, help = 'Batch Size')\n",
    "parser.add_argument('--var_target', dest = 'var_target', type=str)\n",
    "parser.add_argument('--var_omit', dest = 'var_omit', type=str, nargs='*')\n",
    "parser.add_argument('--project_id', dest = 'project_id', type=str)\n",
    "parser.add_argument('--bq_project', dest = 'bq_project', type=str)\n",
    "parser.add_argument('--bq_dataset', dest = 'bq_dataset', type=str)\n",
    "parser.add_argument('--bq_table', dest = 'bq_table', type=str)\n",
    "parser.add_argument('--region', dest = 'region', type=str)\n",
    "parser.add_argument('--experiment', dest = 'experiment', type=str)\n",
    "parser.add_argument('--series', dest = 'series', type=str)\n",
    "parser.add_argument('--experiment_name', dest = 'experiment_name', type=str)\n",
    "parser.add_argument('--run_name', dest = 'run_name', type=str)\n",
    "args = parser.parse_args()\n",
    "\n",
    "# clients\n",
    "bq = bigquery.Client(project = args.project_id)\n",
    "aiplatform.init(project = args.project_id, location = args.region)\n",
    "\n",
    "# Vertex AI Experiment\n",
    "expRun = aiplatform.ExperimentRun.create(run_name = args.run_name, experiment = args.experiment_name)\n",
    "expRun.log_params({'experiment': args.experiment, 'series': args.series, 'project_id': args.project_id})\n",
    "\n",
    "# get schema from bigquery source\n",
    "query = f\"SELECT * FROM {args.bq_project}.{args.bq_dataset}.INFORMATION_SCHEMA.COLUMNS WHERE TABLE_NAME = '{args.bq_table}'\"\n",
    "schema = bq.query(query).to_dataframe()\n",
    "\n",
    "# get number of classes from bigquery source\n",
    "nclasses = bq.query(query = f'SELECT DISTINCT {args.var_target} FROM {args.bq_project}.{args.bq_dataset}.{args.bq_table} WHERE {args.var_target} is not null').to_dataframe()\n",
    "nclasses = nclasses.shape[0]\n",
    "expRun.log_params({'data_source': f'bq://{args.bq_project}.{args.bq_dataset}.{args.bq_table}', 'nclasses': nclasses, 'var_split': 'splits', 'var_target': args.var_target})\n",
    "\n",
    "# Make a list of columns to omit\n",
    "OMIT = args.var_omit + ['splits']\n",
    "\n",
    "# use schema to prepare a list of columns to read from BigQuery\n",
    "selected_fields = schema[~schema.column_name.isin(OMIT)].column_name.tolist()\n",
    "\n",
    "# all the columns in this data source are either float64 or int64\n",
    "output_types = [dtypes.float64 if x=='FLOAT64' else dtypes.int64 for x in schema[~schema.column_name.isin(OMIT)].data_type.tolist()]\n",
    "\n",
    "# remap input data to Tensorflow inputs of features and target\n",
    "def transTable(row_dict):\n",
    "    target = row_dict.pop(args.var_target)\n",
    "    target = tf.one_hot(tf.cast(target, tf.int64), nclasses)\n",
    "    target = tf.cast(target, tf.float32)\n",
    "    features = [tf.cast(v, tf.float32) for v in row_dict.values()]\n",
    "    features = tf.stack(features)\n",
    "    return(\n",
    "        features, \n",
    "        {\n",
    "            'logistic': target, \n",
    "            'classification': target, \n",
    "            'decoder': features}\n",
    "    )\n",
    "\n",
    "# function to setup a bigquery reader with Tensorflow I/O\n",
    "def bq_reader(split):\n",
    "    reader = BigQueryClient()\n",
    "\n",
    "    training = reader.read_session(\n",
    "        parent = f\"projects/{args.project_id}\",\n",
    "        project_id = args.bq_project,\n",
    "        table_id = args.bq_table,\n",
    "        dataset_id = args.bq_dataset,\n",
    "        selected_fields = selected_fields,\n",
    "        output_types = output_types,\n",
    "        row_restriction = f\"splits='{split}'\",\n",
    "        requested_streams = 3\n",
    "    )\n",
    "    \n",
    "    return training\n",
    "\n",
    "# setup feed for train, validate and test\n",
    "train = bq_reader('TRAIN').parallel_read_rows().prefetch(1).map(transTable).shuffle(args.batch_size*10).batch(args.batch_size)\n",
    "validate = bq_reader('VALIDATE').parallel_read_rows().prefetch(1).map(transTable).batch(args.batch_size)\n",
    "test = bq_reader('TEST').parallel_read_rows().prefetch(1).map(transTable).batch(args.batch_size)\n",
    "expRun.log_params({'training.batch_size': args.batch_size, 'training.shuffle': 10*args.batch_size, 'training.prefetch': 1})\n",
    "\n",
    "# Three targets: logistics, autoencoder, classification from encoder\n",
    "\n",
    "# inputs\n",
    "features = tf.keras.layers.Input(shape = (len(selected_fields)-1,), name = 'features')\n",
    "\n",
    "# normalize here\n",
    "normalized = tf.keras.layers.BatchNormalization(name = 'batch_normalization_layer')(features)\n",
    "\n",
    "# logistic\n",
    "logistic = tf.keras.layers.Dense(nclasses, activation = tf.nn.softmax, name = 'logistic')(normalized)#(normalized)(features)\n",
    "\n",
    "# encoder\n",
    "encode = tf.keras.layers.Dense(25, activation = tf.nn.relu)(normalized)#(normalized)(features)\n",
    "encode = tf.keras.layers.Dense(20, activation = tf.nn.relu)(encode)\n",
    "encode = tf.keras.layers.Dense(15, activation = tf.nn.relu, name = 'encoder')(encode)\n",
    "\n",
    "# classifier\n",
    "classifier = tf.keras.layers.Dense(nclasses, activation = tf.nn.softmax, name = 'classification')(encode)\n",
    "\n",
    "# decoder\n",
    "decode = tf.keras.layers.Dense(20, activation = tf.nn.relu)(encode)\n",
    "decode = tf.keras.layers.Dense(25, activation = tf.nn.relu)(decode)\n",
    "decode = tf.keras.layers.Dense(features.shape[1], activation = tf.nn.sigmoid, name = 'decoder')(decode)\n",
    "\n",
    "# the model\n",
    "model = tf.keras.Model(\n",
    "    inputs = features,\n",
    "    outputs = [logistic, classifier, decode],\n",
    "    name = args.experiment\n",
    ")\n",
    "\n",
    "# compile\n",
    "model.compile(\n",
    "    optimizer = tf.keras.optimizers.Adam(), #SGD or Adam\n",
    "    loss = {\n",
    "        'logistic': tf.keras.losses.CategoricalCrossentropy(),\n",
    "        'classification': tf.keras.losses.CategoricalCrossentropy(),\n",
    "        'decoder': tf.keras.losses.BinaryCrossentropy()\n",
    "    },\n",
    "    metrics = {\n",
    "        'logistic': ['accuracy', tf.keras.metrics.AUC(curve = 'PR', name = 'auprc')],\n",
    "        'classification': ['accuracy', tf.keras.metrics.AUC(curve = 'PR', name = 'auprc')],\n",
    "        'decoder': tf.keras.metrics.RootMeanSquaredError(name = 'rmse')\n",
    "    }\n",
    ")\n",
    "\n",
    "# setup tensorboard logs and train\n",
    "# setup tensorboard logs and train\n",
    "tensorboard_callback = tf.keras.callbacks.TensorBoard(\n",
    "    log_dir=os.environ['AIP_TENSORBOARD_LOG_DIR'],\n",
    "    histogram_freq=1\n",
    ")\n",
    "history = model.fit(\n",
    "    train, \n",
    "    epochs = args.epochs, \n",
    "    callbacks = [tensorboard_callback], \n",
    "    validation_data = validate\n",
    ")\n",
    "expRun.log_params({'training.epochs': history.params['epochs']})\n",
    "for e in range(0, history.params['epochs']):\n",
    "    expRun.log_time_series_metrics(\n",
    "        {\n",
    "            'train_loss': history.history['loss'][e],\n",
    "            'train_logistic_loss': history.history['logistic_loss'][e],\n",
    "            'train_classification_loss': history.history['classification_loss'][e],\n",
    "            'train_decoder_loss': history.history['decoder_loss'][e],\n",
    "            'train_logistic_accuracy': history.history['logistic_accuracy'][e],\n",
    "            'train_classification_accuracy': history.history['classification_accuracy'][e],\n",
    "            'train_logistic_auprc': history.history['logistic_auprc'][e],\n",
    "            'train_classification_auprc': history.history['classification_auprc'][e],\n",
    "            'train_decoder_rmse': history.history['decoder_rmse'][e],\n",
    "            'val_loss': history.history['val_loss'][e],\n",
    "            'val_logistic_loss': history.history['val_logistic_loss'][e],\n",
    "            'val_classification_loss': history.history['val_classification_loss'][e],\n",
    "            'val_decoder_loss': history.history['val_decoder_loss'][e],\n",
    "            'val_logistic_accuracy': history.history['val_logistic_accuracy'][e],\n",
    "            'val_classification_accuracy': history.history['val_classification_accuracy'][e],\n",
    "            'val_logistic_auprc': history.history['val_logistic_auprc'][e],\n",
    "            'val_classification_auprc': history.history['val_classification_auprc'][e],\n",
    "            'val_decoder_rmse': history.history['val_decoder_rmse'][e],\n",
    "        }\n",
    "    )\n",
    "\n",
    "# test evaluations:\n",
    "metrics = model.evaluate(test)\n",
    "expRun.log_metrics(\n",
    "    {\n",
    "        'test_loss': metrics[0],\n",
    "        'test_logistic_loss': metrics[1],\n",
    "        'test_classification_loss': metrics[2],\n",
    "        'test_decoder_loss': metrics[3],\n",
    "        'test_logistic_accuracy': metrics[4],\n",
    "        'test_logistic_auprc': metrics[5],\n",
    "        'test_classification_accuracy': metrics[6],\n",
    "        'test_classification_auprc': metrics[7],\n",
    "        'test_decoder_rmse': metrics[8]\n",
    "    }\n",
    ")\n",
    "\n",
    "# extract encode layer\n",
    "encode_model = tf.keras.Model(\n",
    "    inputs = model.input,\n",
    "    outputs = model.get_layer('encoder').output,\n",
    "    name = args.experiment+'_encoder'\n",
    ")\n",
    "\n",
    "# output the model save files\n",
    "encode_model.save(os.getenv(\"AIP_MODEL_DIR\")+'encoder/')\n",
    "model.save(os.getenv(\"AIP_MODEL_DIR\"))\n",
    "expRun.log_params({'model.save': os.getenv(\"AIP_MODEL_DIR\")})\n",
    "expRun.end_run()"
   ]
  },
  {
   "cell_type": "markdown",
   "id": "3bc242a3-f03f-43ab-a5c2-ea5e37e31f97",
   "metadata": {},
   "source": [
    "### Setup Training Job\n",
    "\n",
    "Run the job with [`aiplatform.CustomJob.from_local_script()`](https://cloud.google.com/python/docs/reference/aiplatform/latest/google.cloud.aiplatform.CustomJob#google_cloud_aiplatform_CustomJob_from_local_script)."
   ]
  },
  {
   "cell_type": "code",
   "execution_count": 48,
   "id": "39b9910c-a27d-480b-ba14-a72704d82354",
   "metadata": {},
   "outputs": [],
   "source": [
    "CMDARGS = [\n",
    "    \"--epochs=\" + str(EPOCHS),\n",
    "    \"--batch_size=\" + str(BATCH_SIZE),\n",
    "    \"--var_target=\" + VAR_TARGET,\n",
    "    \"--var_omit=\" + VAR_OMIT,\n",
    "    \"--project_id=\" + PROJECT_ID,\n",
    "    \"--bq_project=\" + BQ_PROJECT,\n",
    "    \"--bq_dataset=\" + BQ_DATASET,\n",
    "    \"--bq_table=\" + BQ_TABLE,\n",
    "    \"--region=\" + REGION,\n",
    "    \"--experiment=\" + EXPERIMENT,\n",
    "    \"--series=\" + SERIES,\n",
    "    \"--experiment_name=\" + EXPERIMENT_NAME,\n",
    "    \"--run_name=\" + RUN_NAME\n",
    "]"
   ]
  },
  {
   "cell_type": "code",
   "execution_count": 49,
   "id": "aeac65ad-e8aa-4d73-aa2f-b400ed802f91",
   "metadata": {},
   "outputs": [
    {
     "name": "stdout",
     "output_type": "stream",
     "text": [
      "Training script copied to:\n",
      "gs://statmike-mlops-349915/05ebe/ebe/models/20221111130741/aiplatform-2022-11-11-13:07:58.859-aiplatform_custom_trainer_script-0.1.tar.gz.\n"
     ]
    }
   ],
   "source": [
    "customJob = aiplatform.CustomJob.from_local_script(\n",
    "    display_name = f'{SERIES}_{EXPERIMENT}_{TIMESTAMP}',\n",
    "    script_path = SCRIPT_PATH,\n",
    "    container_uri = TRAIN_IMAGE,\n",
    "    args = CMDARGS,\n",
    "    requirements = ['tensorflow_io', f'google-cloud-aiplatform>={aiplatform.__version__}', f\"protobuf=={pkg_resources.get_distribution('protobuf').version}\"],\n",
    "    replica_count = 1,\n",
    "    machine_type = TRAIN_COMPUTE,\n",
    "    accelerator_type = 'NVIDIA_TESLA_K80',\n",
    "    accelerator_count = 1,\n",
    "    base_output_dir = f\"{URI}/models/{TIMESTAMP}\",\n",
    "    staging_bucket = f\"{URI}/models/{TIMESTAMP}\",\n",
    "    labels = {'series' : f'{SERIES}', 'experiment' : f'{EXPERIMENT}', 'experiment_name' : f'{EXPERIMENT_NAME}', 'run_name' : f'{RUN_NAME}'}\n",
    ")"
   ]
  },
  {
   "cell_type": "markdown",
   "id": "3b710af6-6b1d-47a0-bbc4-7f721c8a9fe4",
   "metadata": {},
   "source": [
    "### Run Training Job"
   ]
  },
  {
   "cell_type": "code",
   "execution_count": 50,
   "id": "6e2889e3-d80c-40ab-a17d-7f09fb0693fe",
   "metadata": {
    "scrolled": true,
    "tags": []
   },
   "outputs": [
    {
     "name": "stdout",
     "output_type": "stream",
     "text": [
      "Creating CustomJob\n",
      "CustomJob created. Resource name: projects/1026793852137/locations/us-central1/customJobs/5997525592361140224\n",
      "To use this CustomJob in another session:\n",
      "custom_job = aiplatform.CustomJob.get('projects/1026793852137/locations/us-central1/customJobs/5997525592361140224')\n",
      "View Custom Job:\n",
      "https://console.cloud.google.com/ai/platform/locations/us-central1/training/5997525592361140224?project=1026793852137\n",
      "View Tensorboard:\n",
      "https://us-central1.tensorboard.googleusercontent.com/experiment/projects+1026793852137+locations+us-central1+tensorboards+2899904743654555648+experiments+5997525592361140224\n",
      "CustomJob projects/1026793852137/locations/us-central1/customJobs/5997525592361140224 current state:\n",
      "JobState.JOB_STATE_PENDING\n",
      "CustomJob projects/1026793852137/locations/us-central1/customJobs/5997525592361140224 current state:\n",
      "JobState.JOB_STATE_PENDING\n",
      "CustomJob projects/1026793852137/locations/us-central1/customJobs/5997525592361140224 current state:\n",
      "JobState.JOB_STATE_PENDING\n",
      "CustomJob projects/1026793852137/locations/us-central1/customJobs/5997525592361140224 current state:\n",
      "JobState.JOB_STATE_PENDING\n",
      "CustomJob projects/1026793852137/locations/us-central1/customJobs/5997525592361140224 current state:\n",
      "JobState.JOB_STATE_PENDING\n",
      "CustomJob projects/1026793852137/locations/us-central1/customJobs/5997525592361140224 current state:\n",
      "JobState.JOB_STATE_PENDING\n",
      "CustomJob projects/1026793852137/locations/us-central1/customJobs/5997525592361140224 current state:\n",
      "JobState.JOB_STATE_PENDING\n",
      "CustomJob projects/1026793852137/locations/us-central1/customJobs/5997525592361140224 current state:\n",
      "JobState.JOB_STATE_PENDING\n",
      "CustomJob projects/1026793852137/locations/us-central1/customJobs/5997525592361140224 current state:\n",
      "JobState.JOB_STATE_PENDING\n",
      "CustomJob projects/1026793852137/locations/us-central1/customJobs/5997525592361140224 current state:\n",
      "JobState.JOB_STATE_PENDING\n",
      "CustomJob projects/1026793852137/locations/us-central1/customJobs/5997525592361140224 current state:\n",
      "JobState.JOB_STATE_PENDING\n",
      "CustomJob projects/1026793852137/locations/us-central1/customJobs/5997525592361140224 current state:\n",
      "JobState.JOB_STATE_PENDING\n",
      "CustomJob projects/1026793852137/locations/us-central1/customJobs/5997525592361140224 current state:\n",
      "JobState.JOB_STATE_PENDING\n",
      "CustomJob projects/1026793852137/locations/us-central1/customJobs/5997525592361140224 current state:\n",
      "JobState.JOB_STATE_PENDING\n",
      "CustomJob projects/1026793852137/locations/us-central1/customJobs/5997525592361140224 current state:\n",
      "JobState.JOB_STATE_PENDING\n",
      "CustomJob projects/1026793852137/locations/us-central1/customJobs/5997525592361140224 current state:\n",
      "JobState.JOB_STATE_PENDING\n",
      "CustomJob projects/1026793852137/locations/us-central1/customJobs/5997525592361140224 current state:\n",
      "JobState.JOB_STATE_PENDING\n",
      "CustomJob projects/1026793852137/locations/us-central1/customJobs/5997525592361140224 current state:\n",
      "JobState.JOB_STATE_PENDING\n",
      "CustomJob projects/1026793852137/locations/us-central1/customJobs/5997525592361140224 current state:\n",
      "JobState.JOB_STATE_PENDING\n",
      "CustomJob projects/1026793852137/locations/us-central1/customJobs/5997525592361140224 current state:\n",
      "JobState.JOB_STATE_PENDING\n",
      "CustomJob projects/1026793852137/locations/us-central1/customJobs/5997525592361140224 current state:\n",
      "JobState.JOB_STATE_PENDING\n",
      "CustomJob projects/1026793852137/locations/us-central1/customJobs/5997525592361140224 current state:\n",
      "JobState.JOB_STATE_PENDING\n",
      "CustomJob projects/1026793852137/locations/us-central1/customJobs/5997525592361140224 current state:\n",
      "JobState.JOB_STATE_PENDING\n",
      "CustomJob projects/1026793852137/locations/us-central1/customJobs/5997525592361140224 current state:\n",
      "JobState.JOB_STATE_PENDING\n",
      "CustomJob projects/1026793852137/locations/us-central1/customJobs/5997525592361140224 current state:\n",
      "JobState.JOB_STATE_PENDING\n",
      "CustomJob projects/1026793852137/locations/us-central1/customJobs/5997525592361140224 current state:\n",
      "JobState.JOB_STATE_PENDING\n",
      "CustomJob projects/1026793852137/locations/us-central1/customJobs/5997525592361140224 current state:\n",
      "JobState.JOB_STATE_PENDING\n",
      "CustomJob projects/1026793852137/locations/us-central1/customJobs/5997525592361140224 current state:\n",
      "JobState.JOB_STATE_PENDING\n",
      "CustomJob projects/1026793852137/locations/us-central1/customJobs/5997525592361140224 current state:\n",
      "JobState.JOB_STATE_PENDING\n",
      "CustomJob projects/1026793852137/locations/us-central1/customJobs/5997525592361140224 current state:\n",
      "JobState.JOB_STATE_PENDING\n",
      "CustomJob projects/1026793852137/locations/us-central1/customJobs/5997525592361140224 current state:\n",
      "JobState.JOB_STATE_PENDING\n",
      "CustomJob projects/1026793852137/locations/us-central1/customJobs/5997525592361140224 current state:\n",
      "JobState.JOB_STATE_PENDING\n",
      "CustomJob projects/1026793852137/locations/us-central1/customJobs/5997525592361140224 current state:\n",
      "JobState.JOB_STATE_PENDING\n",
      "CustomJob projects/1026793852137/locations/us-central1/customJobs/5997525592361140224 current state:\n",
      "JobState.JOB_STATE_PENDING\n",
      "CustomJob projects/1026793852137/locations/us-central1/customJobs/5997525592361140224 current state:\n",
      "JobState.JOB_STATE_PENDING\n",
      "CustomJob projects/1026793852137/locations/us-central1/customJobs/5997525592361140224 current state:\n",
      "JobState.JOB_STATE_PENDING\n",
      "CustomJob projects/1026793852137/locations/us-central1/customJobs/5997525592361140224 current state:\n",
      "JobState.JOB_STATE_PENDING\n",
      "CustomJob projects/1026793852137/locations/us-central1/customJobs/5997525592361140224 current state:\n",
      "JobState.JOB_STATE_PENDING\n",
      "CustomJob projects/1026793852137/locations/us-central1/customJobs/5997525592361140224 current state:\n",
      "JobState.JOB_STATE_PENDING\n",
      "CustomJob projects/1026793852137/locations/us-central1/customJobs/5997525592361140224 current state:\n",
      "JobState.JOB_STATE_PENDING\n",
      "CustomJob projects/1026793852137/locations/us-central1/customJobs/5997525592361140224 current state:\n",
      "JobState.JOB_STATE_PENDING\n",
      "CustomJob projects/1026793852137/locations/us-central1/customJobs/5997525592361140224 current state:\n",
      "JobState.JOB_STATE_PENDING\n",
      "CustomJob projects/1026793852137/locations/us-central1/customJobs/5997525592361140224 current state:\n",
      "JobState.JOB_STATE_PENDING\n",
      "CustomJob projects/1026793852137/locations/us-central1/customJobs/5997525592361140224 current state:\n",
      "JobState.JOB_STATE_PENDING\n",
      "CustomJob projects/1026793852137/locations/us-central1/customJobs/5997525592361140224 current state:\n",
      "JobState.JOB_STATE_PENDING\n",
      "CustomJob projects/1026793852137/locations/us-central1/customJobs/5997525592361140224 current state:\n",
      "JobState.JOB_STATE_PENDING\n",
      "CustomJob projects/1026793852137/locations/us-central1/customJobs/5997525592361140224 current state:\n",
      "JobState.JOB_STATE_PENDING\n",
      "CustomJob projects/1026793852137/locations/us-central1/customJobs/5997525592361140224 current state:\n",
      "JobState.JOB_STATE_PENDING\n",
      "CustomJob projects/1026793852137/locations/us-central1/customJobs/5997525592361140224 current state:\n",
      "JobState.JOB_STATE_PENDING\n",
      "CustomJob projects/1026793852137/locations/us-central1/customJobs/5997525592361140224 current state:\n",
      "JobState.JOB_STATE_PENDING\n",
      "CustomJob projects/1026793852137/locations/us-central1/customJobs/5997525592361140224 current state:\n",
      "JobState.JOB_STATE_PENDING\n",
      "CustomJob projects/1026793852137/locations/us-central1/customJobs/5997525592361140224 current state:\n",
      "JobState.JOB_STATE_PENDING\n",
      "CustomJob projects/1026793852137/locations/us-central1/customJobs/5997525592361140224 current state:\n",
      "JobState.JOB_STATE_PENDING\n",
      "CustomJob projects/1026793852137/locations/us-central1/customJobs/5997525592361140224 current state:\n",
      "JobState.JOB_STATE_PENDING\n",
      "CustomJob projects/1026793852137/locations/us-central1/customJobs/5997525592361140224 current state:\n",
      "JobState.JOB_STATE_PENDING\n",
      "CustomJob projects/1026793852137/locations/us-central1/customJobs/5997525592361140224 current state:\n",
      "JobState.JOB_STATE_PENDING\n",
      "CustomJob projects/1026793852137/locations/us-central1/customJobs/5997525592361140224 current state:\n",
      "JobState.JOB_STATE_PENDING\n",
      "CustomJob projects/1026793852137/locations/us-central1/customJobs/5997525592361140224 current state:\n",
      "JobState.JOB_STATE_PENDING\n",
      "CustomJob projects/1026793852137/locations/us-central1/customJobs/5997525592361140224 current state:\n",
      "JobState.JOB_STATE_PENDING\n",
      "CustomJob projects/1026793852137/locations/us-central1/customJobs/5997525592361140224 current state:\n",
      "JobState.JOB_STATE_PENDING\n",
      "CustomJob projects/1026793852137/locations/us-central1/customJobs/5997525592361140224 current state:\n",
      "JobState.JOB_STATE_PENDING\n",
      "CustomJob projects/1026793852137/locations/us-central1/customJobs/5997525592361140224 current state:\n",
      "JobState.JOB_STATE_PENDING\n",
      "CustomJob projects/1026793852137/locations/us-central1/customJobs/5997525592361140224 current state:\n",
      "JobState.JOB_STATE_PENDING\n",
      "CustomJob projects/1026793852137/locations/us-central1/customJobs/5997525592361140224 current state:\n",
      "JobState.JOB_STATE_PENDING\n",
      "CustomJob projects/1026793852137/locations/us-central1/customJobs/5997525592361140224 current state:\n",
      "JobState.JOB_STATE_RUNNING\n",
      "CustomJob projects/1026793852137/locations/us-central1/customJobs/5997525592361140224 current state:\n",
      "JobState.JOB_STATE_RUNNING\n",
      "CustomJob projects/1026793852137/locations/us-central1/customJobs/5997525592361140224 current state:\n",
      "JobState.JOB_STATE_RUNNING\n",
      "CustomJob projects/1026793852137/locations/us-central1/customJobs/5997525592361140224 current state:\n",
      "JobState.JOB_STATE_RUNNING\n",
      "CustomJob projects/1026793852137/locations/us-central1/customJobs/5997525592361140224 current state:\n",
      "JobState.JOB_STATE_RUNNING\n",
      "CustomJob projects/1026793852137/locations/us-central1/customJobs/5997525592361140224 current state:\n",
      "JobState.JOB_STATE_RUNNING\n",
      "CustomJob projects/1026793852137/locations/us-central1/customJobs/5997525592361140224 current state:\n",
      "JobState.JOB_STATE_RUNNING\n",
      "CustomJob projects/1026793852137/locations/us-central1/customJobs/5997525592361140224 current state:\n",
      "JobState.JOB_STATE_RUNNING\n",
      "CustomJob projects/1026793852137/locations/us-central1/customJobs/5997525592361140224 current state:\n",
      "JobState.JOB_STATE_RUNNING\n",
      "CustomJob projects/1026793852137/locations/us-central1/customJobs/5997525592361140224 current state:\n",
      "JobState.JOB_STATE_RUNNING\n",
      "CustomJob projects/1026793852137/locations/us-central1/customJobs/5997525592361140224 current state:\n",
      "JobState.JOB_STATE_RUNNING\n",
      "CustomJob projects/1026793852137/locations/us-central1/customJobs/5997525592361140224 current state:\n",
      "JobState.JOB_STATE_RUNNING\n",
      "CustomJob projects/1026793852137/locations/us-central1/customJobs/5997525592361140224 current state:\n",
      "JobState.JOB_STATE_RUNNING\n",
      "CustomJob projects/1026793852137/locations/us-central1/customJobs/5997525592361140224 current state:\n",
      "JobState.JOB_STATE_RUNNING\n",
      "CustomJob projects/1026793852137/locations/us-central1/customJobs/5997525592361140224 current state:\n",
      "JobState.JOB_STATE_RUNNING\n",
      "CustomJob projects/1026793852137/locations/us-central1/customJobs/5997525592361140224 current state:\n",
      "JobState.JOB_STATE_RUNNING\n",
      "CustomJob projects/1026793852137/locations/us-central1/customJobs/5997525592361140224 current state:\n",
      "JobState.JOB_STATE_RUNNING\n",
      "CustomJob projects/1026793852137/locations/us-central1/customJobs/5997525592361140224 current state:\n",
      "JobState.JOB_STATE_RUNNING\n",
      "CustomJob projects/1026793852137/locations/us-central1/customJobs/5997525592361140224 current state:\n",
      "JobState.JOB_STATE_RUNNING\n",
      "CustomJob projects/1026793852137/locations/us-central1/customJobs/5997525592361140224 current state:\n",
      "JobState.JOB_STATE_RUNNING\n",
      "CustomJob projects/1026793852137/locations/us-central1/customJobs/5997525592361140224 current state:\n",
      "JobState.JOB_STATE_RUNNING\n",
      "CustomJob projects/1026793852137/locations/us-central1/customJobs/5997525592361140224 current state:\n",
      "JobState.JOB_STATE_RUNNING\n",
      "CustomJob projects/1026793852137/locations/us-central1/customJobs/5997525592361140224 current state:\n",
      "JobState.JOB_STATE_RUNNING\n",
      "CustomJob projects/1026793852137/locations/us-central1/customJobs/5997525592361140224 current state:\n",
      "JobState.JOB_STATE_RUNNING\n",
      "CustomJob projects/1026793852137/locations/us-central1/customJobs/5997525592361140224 current state:\n",
      "JobState.JOB_STATE_RUNNING\n",
      "CustomJob projects/1026793852137/locations/us-central1/customJobs/5997525592361140224 current state:\n",
      "JobState.JOB_STATE_RUNNING\n",
      "CustomJob projects/1026793852137/locations/us-central1/customJobs/5997525592361140224 current state:\n",
      "JobState.JOB_STATE_RUNNING\n",
      "CustomJob projects/1026793852137/locations/us-central1/customJobs/5997525592361140224 current state:\n",
      "JobState.JOB_STATE_RUNNING\n",
      "CustomJob projects/1026793852137/locations/us-central1/customJobs/5997525592361140224 current state:\n",
      "JobState.JOB_STATE_RUNNING\n",
      "CustomJob projects/1026793852137/locations/us-central1/customJobs/5997525592361140224 current state:\n",
      "JobState.JOB_STATE_RUNNING\n",
      "CustomJob projects/1026793852137/locations/us-central1/customJobs/5997525592361140224 current state:\n",
      "JobState.JOB_STATE_RUNNING\n",
      "CustomJob projects/1026793852137/locations/us-central1/customJobs/5997525592361140224 current state:\n",
      "JobState.JOB_STATE_RUNNING\n",
      "CustomJob projects/1026793852137/locations/us-central1/customJobs/5997525592361140224 current state:\n",
      "JobState.JOB_STATE_RUNNING\n",
      "CustomJob projects/1026793852137/locations/us-central1/customJobs/5997525592361140224 current state:\n",
      "JobState.JOB_STATE_RUNNING\n",
      "CustomJob projects/1026793852137/locations/us-central1/customJobs/5997525592361140224 current state:\n",
      "JobState.JOB_STATE_RUNNING\n",
      "CustomJob projects/1026793852137/locations/us-central1/customJobs/5997525592361140224 current state:\n",
      "JobState.JOB_STATE_RUNNING\n",
      "CustomJob projects/1026793852137/locations/us-central1/customJobs/5997525592361140224 current state:\n",
      "JobState.JOB_STATE_RUNNING\n",
      "CustomJob projects/1026793852137/locations/us-central1/customJobs/5997525592361140224 current state:\n",
      "JobState.JOB_STATE_RUNNING\n",
      "CustomJob projects/1026793852137/locations/us-central1/customJobs/5997525592361140224 current state:\n",
      "JobState.JOB_STATE_RUNNING\n",
      "CustomJob projects/1026793852137/locations/us-central1/customJobs/5997525592361140224 current state:\n",
      "JobState.JOB_STATE_RUNNING\n",
      "CustomJob projects/1026793852137/locations/us-central1/customJobs/5997525592361140224 current state:\n",
      "JobState.JOB_STATE_RUNNING\n",
      "CustomJob projects/1026793852137/locations/us-central1/customJobs/5997525592361140224 current state:\n",
      "JobState.JOB_STATE_RUNNING\n",
      "CustomJob projects/1026793852137/locations/us-central1/customJobs/5997525592361140224 current state:\n",
      "JobState.JOB_STATE_RUNNING\n",
      "CustomJob projects/1026793852137/locations/us-central1/customJobs/5997525592361140224 current state:\n",
      "JobState.JOB_STATE_RUNNING\n",
      "CustomJob projects/1026793852137/locations/us-central1/customJobs/5997525592361140224 current state:\n",
      "JobState.JOB_STATE_RUNNING\n",
      "CustomJob projects/1026793852137/locations/us-central1/customJobs/5997525592361140224 current state:\n",
      "JobState.JOB_STATE_RUNNING\n",
      "CustomJob projects/1026793852137/locations/us-central1/customJobs/5997525592361140224 current state:\n",
      "JobState.JOB_STATE_RUNNING\n",
      "CustomJob projects/1026793852137/locations/us-central1/customJobs/5997525592361140224 current state:\n",
      "JobState.JOB_STATE_RUNNING\n",
      "CustomJob projects/1026793852137/locations/us-central1/customJobs/5997525592361140224 current state:\n",
      "JobState.JOB_STATE_RUNNING\n",
      "CustomJob projects/1026793852137/locations/us-central1/customJobs/5997525592361140224 current state:\n",
      "JobState.JOB_STATE_RUNNING\n",
      "CustomJob projects/1026793852137/locations/us-central1/customJobs/5997525592361140224 current state:\n",
      "JobState.JOB_STATE_RUNNING\n",
      "CustomJob projects/1026793852137/locations/us-central1/customJobs/5997525592361140224 current state:\n",
      "JobState.JOB_STATE_RUNNING\n",
      "CustomJob projects/1026793852137/locations/us-central1/customJobs/5997525592361140224 current state:\n",
      "JobState.JOB_STATE_RUNNING\n",
      "CustomJob projects/1026793852137/locations/us-central1/customJobs/5997525592361140224 current state:\n",
      "JobState.JOB_STATE_RUNNING\n",
      "CustomJob projects/1026793852137/locations/us-central1/customJobs/5997525592361140224 current state:\n",
      "JobState.JOB_STATE_RUNNING\n",
      "CustomJob projects/1026793852137/locations/us-central1/customJobs/5997525592361140224 current state:\n",
      "JobState.JOB_STATE_RUNNING\n",
      "CustomJob projects/1026793852137/locations/us-central1/customJobs/5997525592361140224 current state:\n",
      "JobState.JOB_STATE_RUNNING\n",
      "CustomJob projects/1026793852137/locations/us-central1/customJobs/5997525592361140224 current state:\n",
      "JobState.JOB_STATE_RUNNING\n",
      "CustomJob projects/1026793852137/locations/us-central1/customJobs/5997525592361140224 current state:\n",
      "JobState.JOB_STATE_RUNNING\n",
      "CustomJob projects/1026793852137/locations/us-central1/customJobs/5997525592361140224 current state:\n",
      "JobState.JOB_STATE_RUNNING\n",
      "CustomJob projects/1026793852137/locations/us-central1/customJobs/5997525592361140224 current state:\n",
      "JobState.JOB_STATE_RUNNING\n",
      "CustomJob projects/1026793852137/locations/us-central1/customJobs/5997525592361140224 current state:\n",
      "JobState.JOB_STATE_RUNNING\n",
      "CustomJob projects/1026793852137/locations/us-central1/customJobs/5997525592361140224 current state:\n",
      "JobState.JOB_STATE_RUNNING\n",
      "CustomJob projects/1026793852137/locations/us-central1/customJobs/5997525592361140224 current state:\n",
      "JobState.JOB_STATE_RUNNING\n",
      "CustomJob projects/1026793852137/locations/us-central1/customJobs/5997525592361140224 current state:\n",
      "JobState.JOB_STATE_RUNNING\n",
      "CustomJob projects/1026793852137/locations/us-central1/customJobs/5997525592361140224 current state:\n",
      "JobState.JOB_STATE_RUNNING\n",
      "CustomJob projects/1026793852137/locations/us-central1/customJobs/5997525592361140224 current state:\n",
      "JobState.JOB_STATE_RUNNING\n",
      "CustomJob projects/1026793852137/locations/us-central1/customJobs/5997525592361140224 current state:\n",
      "JobState.JOB_STATE_RUNNING\n",
      "CustomJob projects/1026793852137/locations/us-central1/customJobs/5997525592361140224 current state:\n",
      "JobState.JOB_STATE_RUNNING\n",
      "CustomJob projects/1026793852137/locations/us-central1/customJobs/5997525592361140224 current state:\n",
      "JobState.JOB_STATE_RUNNING\n",
      "CustomJob projects/1026793852137/locations/us-central1/customJobs/5997525592361140224 current state:\n",
      "JobState.JOB_STATE_RUNNING\n",
      "CustomJob projects/1026793852137/locations/us-central1/customJobs/5997525592361140224 current state:\n",
      "JobState.JOB_STATE_RUNNING\n",
      "CustomJob projects/1026793852137/locations/us-central1/customJobs/5997525592361140224 current state:\n",
      "JobState.JOB_STATE_RUNNING\n",
      "CustomJob projects/1026793852137/locations/us-central1/customJobs/5997525592361140224 current state:\n",
      "JobState.JOB_STATE_RUNNING\n",
      "CustomJob projects/1026793852137/locations/us-central1/customJobs/5997525592361140224 current state:\n",
      "JobState.JOB_STATE_RUNNING\n",
      "CustomJob projects/1026793852137/locations/us-central1/customJobs/5997525592361140224 current state:\n",
      "JobState.JOB_STATE_RUNNING\n",
      "CustomJob projects/1026793852137/locations/us-central1/customJobs/5997525592361140224 current state:\n",
      "JobState.JOB_STATE_RUNNING\n",
      "CustomJob projects/1026793852137/locations/us-central1/customJobs/5997525592361140224 current state:\n",
      "JobState.JOB_STATE_RUNNING\n",
      "CustomJob projects/1026793852137/locations/us-central1/customJobs/5997525592361140224 current state:\n",
      "JobState.JOB_STATE_RUNNING\n",
      "CustomJob projects/1026793852137/locations/us-central1/customJobs/5997525592361140224 current state:\n",
      "JobState.JOB_STATE_RUNNING\n",
      "CustomJob projects/1026793852137/locations/us-central1/customJobs/5997525592361140224 current state:\n",
      "JobState.JOB_STATE_RUNNING\n",
      "CustomJob projects/1026793852137/locations/us-central1/customJobs/5997525592361140224 current state:\n",
      "JobState.JOB_STATE_RUNNING\n",
      "CustomJob projects/1026793852137/locations/us-central1/customJobs/5997525592361140224 current state:\n",
      "JobState.JOB_STATE_RUNNING\n",
      "CustomJob projects/1026793852137/locations/us-central1/customJobs/5997525592361140224 current state:\n",
      "JobState.JOB_STATE_RUNNING\n",
      "CustomJob projects/1026793852137/locations/us-central1/customJobs/5997525592361140224 current state:\n",
      "JobState.JOB_STATE_RUNNING\n",
      "CustomJob projects/1026793852137/locations/us-central1/customJobs/5997525592361140224 current state:\n",
      "JobState.JOB_STATE_RUNNING\n",
      "CustomJob projects/1026793852137/locations/us-central1/customJobs/5997525592361140224 current state:\n",
      "JobState.JOB_STATE_RUNNING\n",
      "CustomJob projects/1026793852137/locations/us-central1/customJobs/5997525592361140224 current state:\n",
      "JobState.JOB_STATE_RUNNING\n",
      "CustomJob projects/1026793852137/locations/us-central1/customJobs/5997525592361140224 current state:\n",
      "JobState.JOB_STATE_RUNNING\n",
      "CustomJob projects/1026793852137/locations/us-central1/customJobs/5997525592361140224 current state:\n",
      "JobState.JOB_STATE_RUNNING\n",
      "CustomJob projects/1026793852137/locations/us-central1/customJobs/5997525592361140224 current state:\n",
      "JobState.JOB_STATE_RUNNING\n",
      "CustomJob projects/1026793852137/locations/us-central1/customJobs/5997525592361140224 current state:\n",
      "JobState.JOB_STATE_RUNNING\n",
      "CustomJob projects/1026793852137/locations/us-central1/customJobs/5997525592361140224 current state:\n",
      "JobState.JOB_STATE_RUNNING\n",
      "CustomJob projects/1026793852137/locations/us-central1/customJobs/5997525592361140224 current state:\n",
      "JobState.JOB_STATE_RUNNING\n",
      "CustomJob projects/1026793852137/locations/us-central1/customJobs/5997525592361140224 current state:\n",
      "JobState.JOB_STATE_RUNNING\n",
      "CustomJob projects/1026793852137/locations/us-central1/customJobs/5997525592361140224 current state:\n",
      "JobState.JOB_STATE_RUNNING\n",
      "CustomJob projects/1026793852137/locations/us-central1/customJobs/5997525592361140224 current state:\n",
      "JobState.JOB_STATE_RUNNING\n",
      "CustomJob projects/1026793852137/locations/us-central1/customJobs/5997525592361140224 current state:\n",
      "JobState.JOB_STATE_RUNNING\n",
      "CustomJob projects/1026793852137/locations/us-central1/customJobs/5997525592361140224 current state:\n",
      "JobState.JOB_STATE_RUNNING\n",
      "CustomJob projects/1026793852137/locations/us-central1/customJobs/5997525592361140224 current state:\n",
      "JobState.JOB_STATE_RUNNING\n",
      "CustomJob projects/1026793852137/locations/us-central1/customJobs/5997525592361140224 current state:\n",
      "JobState.JOB_STATE_RUNNING\n",
      "CustomJob projects/1026793852137/locations/us-central1/customJobs/5997525592361140224 current state:\n",
      "JobState.JOB_STATE_RUNNING\n",
      "CustomJob projects/1026793852137/locations/us-central1/customJobs/5997525592361140224 current state:\n",
      "JobState.JOB_STATE_RUNNING\n",
      "CustomJob projects/1026793852137/locations/us-central1/customJobs/5997525592361140224 current state:\n",
      "JobState.JOB_STATE_RUNNING\n",
      "CustomJob projects/1026793852137/locations/us-central1/customJobs/5997525592361140224 current state:\n",
      "JobState.JOB_STATE_RUNNING\n",
      "CustomJob projects/1026793852137/locations/us-central1/customJobs/5997525592361140224 current state:\n",
      "JobState.JOB_STATE_RUNNING\n",
      "CustomJob projects/1026793852137/locations/us-central1/customJobs/5997525592361140224 current state:\n",
      "JobState.JOB_STATE_RUNNING\n",
      "CustomJob projects/1026793852137/locations/us-central1/customJobs/5997525592361140224 current state:\n",
      "JobState.JOB_STATE_RUNNING\n",
      "CustomJob projects/1026793852137/locations/us-central1/customJobs/5997525592361140224 current state:\n",
      "JobState.JOB_STATE_RUNNING\n",
      "CustomJob projects/1026793852137/locations/us-central1/customJobs/5997525592361140224 current state:\n",
      "JobState.JOB_STATE_RUNNING\n",
      "CustomJob projects/1026793852137/locations/us-central1/customJobs/5997525592361140224 current state:\n",
      "JobState.JOB_STATE_RUNNING\n",
      "CustomJob projects/1026793852137/locations/us-central1/customJobs/5997525592361140224 current state:\n",
      "JobState.JOB_STATE_RUNNING\n",
      "CustomJob projects/1026793852137/locations/us-central1/customJobs/5997525592361140224 current state:\n",
      "JobState.JOB_STATE_RUNNING\n",
      "CustomJob projects/1026793852137/locations/us-central1/customJobs/5997525592361140224 current state:\n",
      "JobState.JOB_STATE_RUNNING\n",
      "CustomJob projects/1026793852137/locations/us-central1/customJobs/5997525592361140224 current state:\n",
      "JobState.JOB_STATE_RUNNING\n",
      "CustomJob projects/1026793852137/locations/us-central1/customJobs/5997525592361140224 current state:\n",
      "JobState.JOB_STATE_RUNNING\n",
      "CustomJob projects/1026793852137/locations/us-central1/customJobs/5997525592361140224 current state:\n",
      "JobState.JOB_STATE_RUNNING\n",
      "CustomJob projects/1026793852137/locations/us-central1/customJobs/5997525592361140224 current state:\n",
      "JobState.JOB_STATE_SUCCEEDED\n",
      "CustomJob run completed. Resource name: projects/1026793852137/locations/us-central1/customJobs/5997525592361140224\n"
     ]
    }
   ],
   "source": [
    "customJob.run(\n",
    "    service_account = SERVICE_ACCOUNT,\n",
    "    tensorboard = tb.resource_name\n",
    ")"
   ]
  },
  {
   "cell_type": "code",
   "execution_count": 51,
   "id": "980cdd7a-ecba-4d63-b1f0-e693dd92c2c7",
   "metadata": {},
   "outputs": [
    {
     "data": {
      "text/plain": [
       "'05ebe_ebe_20221111130741'"
      ]
     },
     "execution_count": 51,
     "metadata": {},
     "output_type": "execute_result"
    }
   ],
   "source": [
    "customJob.display_name"
   ]
  },
  {
   "cell_type": "code",
   "execution_count": 52,
   "id": "83c448a8-a0f4-45ae-b13d-12ed5293ca60",
   "metadata": {},
   "outputs": [
    {
     "data": {
      "text/plain": [
       "'projects/1026793852137/locations/us-central1/customJobs/5997525592361140224'"
      ]
     },
     "execution_count": 52,
     "metadata": {},
     "output_type": "execute_result"
    }
   ],
   "source": [
    "customJob.resource_name"
   ]
  },
  {
   "cell_type": "markdown",
   "id": "1602540e-b377-4b3f-99e1-f4fef3659483",
   "metadata": {},
   "source": [
    "Create hyperlinks to job and tensorboard here:"
   ]
  },
  {
   "cell_type": "code",
   "execution_count": 53,
   "id": "e4f419d6-c4ec-4753-b1ee-2193d5dc20cd",
   "metadata": {},
   "outputs": [
    {
     "name": "stdout",
     "output_type": "stream",
     "text": [
      "Review the Custom Job here:\n",
      "https://console.cloud.google.com/vertex-ai/locations/us-central1/training/5997525592361140224/cpu?cloudshell=false&project=statmike-mlops-349915\n",
      "Review the TensorBoard From the Job here:\n",
      "https://us-central1.tensorboard.googleusercontent.com/experiment/projects+1026793852137+locations+us-central1+tensorboards+2899904743654555648+experiments+5997525592361140224\n"
     ]
    }
   ],
   "source": [
    "job_link = f\"https://console.cloud.google.com/vertex-ai/locations/{REGION}/training/{customJob.resource_name.split('/')[-1]}/cpu?cloudshell=false&project={PROJECT_ID}\"\n",
    "board_link = f\"https://{REGION}.tensorboard.googleusercontent.com/experiment/{tb.resource_name.replace('/', '+')}+experiments+{customJob.resource_name.split('/')[-1]}\"\n",
    "\n",
    "print(f'Review the Custom Job here:\\n{job_link}')\n",
    "print(f'Review the TensorBoard From the Job here:\\n{board_link}')"
   ]
  },
  {
   "cell_type": "markdown",
   "id": "bf9aea8c-adb4-4b2d-951f-07ab0da665fb",
   "metadata": {},
   "source": [
    "---\n",
    "\n",
    "## Serving"
   ]
  },
  {
   "cell_type": "markdown",
   "id": "39122d89-9c06-458e-b458-f290c60ab2f0",
   "metadata": {},
   "source": [
    "### Upload The Model - Full Model"
   ]
  },
  {
   "cell_type": "code",
   "execution_count": 54,
   "id": "2f144fa9-ec30-4571-808b-04686b4bf51f",
   "metadata": {},
   "outputs": [
    {
     "name": "stdout",
     "output_type": "stream",
     "text": [
      "This is a new model, creating in model registry\n",
      "Creating Model\n",
      "Create Model backing LRO: projects/1026793852137/locations/us-central1/models/model_05ebe_ebe/operations/4984962863073329152\n",
      "Model created. Resource name: projects/1026793852137/locations/us-central1/models/2080236417333592064@1\n",
      "To use this Model in another session:\n",
      "model = aiplatform.Model('projects/1026793852137/locations/us-central1/models/2080236417333592064@1')\n"
     ]
    }
   ],
   "source": [
    "modelmatch = aiplatform.Model.list(filter = f'display_name={SERIES}_{EXPERIMENT} AND labels.series={SERIES} AND labels.experiment={EXPERIMENT}')\n",
    "\n",
    "upload_model = True\n",
    "if modelmatch:\n",
    "    print(\"Model Already in Registry:\")\n",
    "    if RUN_NAME in modelmatch[0].version_aliases:\n",
    "        print(\"This version already loaded, no action taken.\")\n",
    "        upload_model = False\n",
    "        model = aiplatform.Model(model_name = modelmatch[0].resource_name)\n",
    "    else:\n",
    "        print('Loading model as new default version.')\n",
    "        parent_model = modelmatch[0].resource_name\n",
    "\n",
    "else:\n",
    "    print('This is a new model, creating in model registry')\n",
    "    parent_model = ''\n",
    "\n",
    "if upload_model:\n",
    "    model = aiplatform.Model.upload(\n",
    "        display_name = f'{SERIES}_{EXPERIMENT}',\n",
    "        model_id = f'model_{SERIES}_{EXPERIMENT}',\n",
    "        parent_model =  parent_model,\n",
    "        serving_container_image_uri = DEPLOY_IMAGE,\n",
    "        artifact_uri = f\"{URI}/models/{TIMESTAMP}/model\",\n",
    "        is_default_version = True,\n",
    "        version_aliases = [RUN_NAME],\n",
    "        version_description = RUN_NAME,\n",
    "        labels = {'series' : f'{SERIES}', 'experiment' : f'{EXPERIMENT}', 'experiment_name' : f'{EXPERIMENT_NAME}', 'run_name' : f'{RUN_NAME}'}        \n",
    "    )"
   ]
  },
  {
   "cell_type": "markdown",
   "id": "1d35cf32-73d1-45d5-bc54-890d22f953fb",
   "metadata": {},
   "source": [
    ">**Note** on Version Aliases:\n",
    ">Expectation is a name starting with `a-z` that can include `[a-zA-Z0-9-]`\n",
    ">\n",
    ">**Retrieve a Model Resource**\n",
    ">[aiplatform.Model()](https://cloud.google.com/python/docs/reference/aiplatform/latest/google.cloud.aiplatform.Model)\n",
    ">```Python\n",
    "model = aiplatform.Model(model_name = f'model_{SERIES}_{EXPERIMENT}') # retrieves default version\n",
    "model = aiplatform.Model(model_name = f'model_{SERIES}_{EXPERIMENT}@time-{TIMESTAMP}') # retrieves specific version\n",
    "model = aiplatform.Model(model_name = f'model_{SERIES}_{EXPERIMENT}', version = f'time-{TIMESTAMP}') # retrieves specific version\n",
    "```"
   ]
  },
  {
   "cell_type": "code",
   "execution_count": 55,
   "id": "9737abc1-653b-4adc-84a9-a1aeb06b1472",
   "metadata": {},
   "outputs": [
    {
     "name": "stdout",
     "output_type": "stream",
     "text": [
      "Review the model in the Vertex AI Model Registry:\n",
      "https://console.cloud.google.com/vertex-ai/locations/us-central1/models/2080236417333592064?project=statmike-mlops-349915\n"
     ]
    }
   ],
   "source": [
    "print(f'Review the model in the Vertex AI Model Registry:\\nhttps://console.cloud.google.com/vertex-ai/locations/{REGION}/models/{model.name}?project={PROJECT_ID}')"
   ]
  },
  {
   "cell_type": "markdown",
   "id": "88490461-c620-499f-8f8c-a4cb9774fd85",
   "metadata": {},
   "source": [
    "### Upload The Model - Latent Model"
   ]
  },
  {
   "cell_type": "code",
   "execution_count": 56,
   "id": "062fb404-29d1-4420-9c31-dae13724e823",
   "metadata": {},
   "outputs": [
    {
     "name": "stdout",
     "output_type": "stream",
     "text": [
      "This is a new model, creating in model registry\n",
      "Creating Model\n",
      "Create Model backing LRO: projects/1026793852137/locations/us-central1/models/model_05ebe_ebe_latent/operations/3049259448234147840\n",
      "Model created. Resource name: projects/1026793852137/locations/us-central1/models/791081023998787584@1\n",
      "To use this Model in another session:\n",
      "model = aiplatform.Model('projects/1026793852137/locations/us-central1/models/791081023998787584@1')\n"
     ]
    }
   ],
   "source": [
    "modelmatch = aiplatform.Model.list(filter = f'display_name={SERIES}_{EXPERIMENT}_latent AND labels.series={SERIES} AND labels.experiment={EXPERIMENT}')\n",
    "\n",
    "upload_model = True\n",
    "if modelmatch:\n",
    "    print(\"Model Already in Registry:\")\n",
    "    if RUN_NAME in modelmatch[0].version_aliases:\n",
    "        print(\"This version already loaded, no action taken.\")\n",
    "        upload_model = False\n",
    "        model_latent = aiplatform.Model(model_name = modelmatch[0].resource_name)\n",
    "    else:\n",
    "        print('Loading model as new default version.')\n",
    "        parent_model = modelmatch[0].resource_name\n",
    "\n",
    "else:\n",
    "    print('This is a new model, creating in model registry')\n",
    "    parent_model = ''\n",
    "\n",
    "if upload_model:\n",
    "    model_latent = aiplatform.Model.upload(\n",
    "        display_name = f'{SERIES}_{EXPERIMENT}_latent',\n",
    "        model_id = f'model_{SERIES}_{EXPERIMENT}_latent',\n",
    "        parent_model =  parent_model,\n",
    "        serving_container_image_uri = DEPLOY_IMAGE,\n",
    "        artifact_uri = f\"{URI}/models/{TIMESTAMP}/model/encoder\",\n",
    "        is_default_version = True,\n",
    "        version_aliases = [RUN_NAME],\n",
    "        version_description = RUN_NAME,\n",
    "        labels = {'series' : f'{SERIES}', 'experiment' : f'{EXPERIMENT}', 'experiment_name' : f'{EXPERIMENT_NAME}', 'run_name' : f'{RUN_NAME}'}        \n",
    "    )"
   ]
  },
  {
   "cell_type": "markdown",
   "id": "80e9b580-4d01-4b96-8013-d68c6704eff3",
   "metadata": {},
   "source": [
    ">**Note** on Version Aliases:\n",
    ">Expectation is a name starting with `a-z` that can include `[a-zA-Z0-9-]`\n",
    ">\n",
    ">**Retrieve a Model Resource**\n",
    ">[aiplatform.Model()](https://cloud.google.com/python/docs/reference/aiplatform/latest/google.cloud.aiplatform.Model)\n",
    ">```Python\n",
    "model = aiplatform.Model(model_name = f'model_{SERIES}_{EXPERIMENT}') # retrieves default version\n",
    "model = aiplatform.Model(model_name = f'model_{SERIES}_{EXPERIMENT}@time-{TIMESTAMP}') # retrieves specific version\n",
    "model = aiplatform.Model(model_name = f'model_{SERIES}_{EXPERIMENT}', version = f'time-{TIMESTAMP}') # retrieves specific version\n",
    "```"
   ]
  },
  {
   "cell_type": "code",
   "execution_count": 57,
   "id": "a706a6bf-7f79-457a-8a5b-a3b4a2881d55",
   "metadata": {},
   "outputs": [
    {
     "name": "stdout",
     "output_type": "stream",
     "text": [
      "Review the model in the Vertex AI Model Registry:\n",
      "https://console.cloud.google.com/vertex-ai/locations/us-central1/models/791081023998787584?project=statmike-mlops-349915\n"
     ]
    }
   ],
   "source": [
    "print(f'Review the model in the Vertex AI Model Registry:\\nhttps://console.cloud.google.com/vertex-ai/locations/{REGION}/models/{model_latent.name}?project={PROJECT_ID}')"
   ]
  },
  {
   "cell_type": "markdown",
   "id": "f7b55407-3be7-4353-8bfa-d21d752676fe",
   "metadata": {},
   "source": [
    "### Vertex AI Experiment Update"
   ]
  },
  {
   "cell_type": "code",
   "execution_count": 58,
   "id": "c318f4fe-e696-4e74-ac46-bcea79a7bb86",
   "metadata": {},
   "outputs": [],
   "source": [
    "expRun = aiplatform.ExperimentRun(run_name = RUN_NAME, experiment = EXPERIMENT_NAME)"
   ]
  },
  {
   "cell_type": "code",
   "execution_count": 59,
   "id": "10a68a72-e663-4df7-9057-16c9f21b8892",
   "metadata": {},
   "outputs": [],
   "source": [
    "expRun.log_params({\n",
    "    'model.uri': model.uri,\n",
    "    'model.display_name': model.display_name,\n",
    "    'model.name': model.name,\n",
    "    'model.resource_name': model.resource_name,\n",
    "    'model.version_id': model.version_id,\n",
    "    'model.versioned_resource_name': model.versioned_resource_name,\n",
    "    'customJobs.display_name': customJob.display_name,\n",
    "    'customJobs.resource_name': customJob.resource_name,\n",
    "    'customJobs.link': job_link,\n",
    "    'customJobs.tensorboard': board_link,\n",
    "    'model_latent.uri': model_latent.uri,\n",
    "    'model_latent.display_name': model_latent.display_name,\n",
    "    'model_latent.name': model_latent.name,\n",
    "    'model_latent.resource_name': model_latent.resource_name,\n",
    "    'model_latent.version_id': model_latent.version_id,\n",
    "    'model_latent.versioned_resource_name': model_latent.versioned_resource_name,\n",
    "})"
   ]
  },
  {
   "cell_type": "markdown",
   "id": "0f60fd04-1032-48ea-b466-ad226bfa7b6a",
   "metadata": {},
   "source": [
    "Complete the experiment run:"
   ]
  },
  {
   "cell_type": "markdown",
   "id": "de50c589-eeb9-44bd-9705-b30d63cfe6d9",
   "metadata": {},
   "source": [
    "### Vertex AI Experiment Review"
   ]
  },
  {
   "cell_type": "code",
   "execution_count": 60,
   "id": "67e2b028-a85e-4500-9f3a-52e8e0b1b28e",
   "metadata": {},
   "outputs": [],
   "source": [
    "expRun.update_state(state = aiplatform.gapic.Execution.State.COMPLETE)"
   ]
  },
  {
   "cell_type": "markdown",
   "id": "02287115-c9ec-40a1-8b9c-4baf18514c86",
   "metadata": {},
   "source": [
    "Retrieve the experiment:"
   ]
  },
  {
   "cell_type": "code",
   "execution_count": 61,
   "id": "0e06f8dc-24be-4d44-b05c-27c27ee30884",
   "metadata": {},
   "outputs": [],
   "source": [
    "exp = aiplatform.Experiment(experiment_name = EXPERIMENT_NAME)"
   ]
  },
  {
   "cell_type": "code",
   "execution_count": 62,
   "id": "f9d137f3-e31e-4bdd-b075-bf0738cdaf51",
   "metadata": {},
   "outputs": [
    {
     "data": {
      "text/html": [
       "<div>\n",
       "<style scoped>\n",
       "    .dataframe tbody tr th:only-of-type {\n",
       "        vertical-align: middle;\n",
       "    }\n",
       "\n",
       "    .dataframe tbody tr th {\n",
       "        vertical-align: top;\n",
       "    }\n",
       "\n",
       "    .dataframe thead th {\n",
       "        text-align: right;\n",
       "    }\n",
       "</style>\n",
       "<table border=\"1\" class=\"dataframe\">\n",
       "  <thead>\n",
       "    <tr style=\"text-align: right;\">\n",
       "      <th></th>\n",
       "      <th>experiment_name</th>\n",
       "      <th>run_name</th>\n",
       "      <th>run_type</th>\n",
       "      <th>state</th>\n",
       "      <th>param.model.display_name</th>\n",
       "      <th>param.model.resource_name</th>\n",
       "      <th>param.training.epochs</th>\n",
       "      <th>param.customJobs.display_name</th>\n",
       "      <th>param.var_split</th>\n",
       "      <th>param.var_target</th>\n",
       "      <th>...</th>\n",
       "      <th>time_series_metric.train_classification_accuracy</th>\n",
       "      <th>time_series_metric.train_decoder_rmse</th>\n",
       "      <th>time_series_metric.train_classification_loss</th>\n",
       "      <th>time_series_metric.val_classification_loss</th>\n",
       "      <th>time_series_metric.train_logistic_loss</th>\n",
       "      <th>time_series_metric.val_classification_accuracy</th>\n",
       "      <th>time_series_metric.val_loss</th>\n",
       "      <th>time_series_metric.train_decoder_loss</th>\n",
       "      <th>time_series_metric.val_classification_auprc</th>\n",
       "      <th>time_series_metric.val_logistic_loss</th>\n",
       "    </tr>\n",
       "  </thead>\n",
       "  <tbody>\n",
       "    <tr>\n",
       "      <th>0</th>\n",
       "      <td>experiment-05ebe-ebe-tf-classification-dnn</td>\n",
       "      <td>run-20221111130741</td>\n",
       "      <td>system.ExperimentRun</td>\n",
       "      <td>COMPLETE</td>\n",
       "      <td>05ebe_ebe</td>\n",
       "      <td>projects/1026793852137/locations/us-central1/m...</td>\n",
       "      <td>10.0</td>\n",
       "      <td>05ebe_ebe_20221111130741</td>\n",
       "      <td>splits</td>\n",
       "      <td>Class</td>\n",
       "      <td>...</td>\n",
       "      <td>0.996944</td>\n",
       "      <td>19360.314453</td>\n",
       "      <td>6146540.0</td>\n",
       "      <td>290826.28125</td>\n",
       "      <td>0.006737</td>\n",
       "      <td>0.998301</td>\n",
       "      <td>-6.298358e+21</td>\n",
       "      <td>-4.817085e+21</td>\n",
       "      <td>0.997781</td>\n",
       "      <td>0.011533</td>\n",
       "    </tr>\n",
       "  </tbody>\n",
       "</table>\n",
       "<p>1 rows × 59 columns</p>\n",
       "</div>"
      ],
      "text/plain": [
       "                              experiment_name            run_name  \\\n",
       "0  experiment-05ebe-ebe-tf-classification-dnn  run-20221111130741   \n",
       "\n",
       "               run_type     state param.model.display_name  \\\n",
       "0  system.ExperimentRun  COMPLETE                05ebe_ebe   \n",
       "\n",
       "                           param.model.resource_name  param.training.epochs  \\\n",
       "0  projects/1026793852137/locations/us-central1/m...                   10.0   \n",
       "\n",
       "  param.customJobs.display_name param.var_split param.var_target  ...  \\\n",
       "0      05ebe_ebe_20221111130741          splits            Class  ...   \n",
       "\n",
       "   time_series_metric.train_classification_accuracy  \\\n",
       "0                                          0.996944   \n",
       "\n",
       "  time_series_metric.train_decoder_rmse  \\\n",
       "0                          19360.314453   \n",
       "\n",
       "   time_series_metric.train_classification_loss  \\\n",
       "0                                     6146540.0   \n",
       "\n",
       "  time_series_metric.val_classification_loss  \\\n",
       "0                               290826.28125   \n",
       "\n",
       "  time_series_metric.train_logistic_loss  \\\n",
       "0                               0.006737   \n",
       "\n",
       "   time_series_metric.val_classification_accuracy time_series_metric.val_loss  \\\n",
       "0                                        0.998301               -6.298358e+21   \n",
       "\n",
       "  time_series_metric.train_decoder_loss  \\\n",
       "0                         -4.817085e+21   \n",
       "\n",
       "  time_series_metric.val_classification_auprc  \\\n",
       "0                                    0.997781   \n",
       "\n",
       "  time_series_metric.val_logistic_loss  \n",
       "0                             0.011533  \n",
       "\n",
       "[1 rows x 59 columns]"
      ]
     },
     "execution_count": 62,
     "metadata": {},
     "output_type": "execute_result"
    }
   ],
   "source": [
    "exp.get_data_frame()"
   ]
  },
  {
   "cell_type": "markdown",
   "id": "6a26deb0-e1e5-47b4-8426-9dbf8c6b5bef",
   "metadata": {},
   "source": [
    "Review the Experiments TensorBoard to compare runs:"
   ]
  },
  {
   "cell_type": "code",
   "execution_count": 63,
   "id": "de6f87eb-ffa6-4f93-9faa-a574da4e5464",
   "metadata": {},
   "outputs": [
    {
     "name": "stdout",
     "output_type": "stream",
     "text": [
      "The Experiment TensorBoard Link:\n",
      "https://us-central1.tensorboard.googleusercontent.com/experiment/projects+1026793852137+locations+us-central1+tensorboards+2899904743654555648+experiments+experiment-05ebe-ebe-tf-classification-dnn\n"
     ]
    }
   ],
   "source": [
    "print(f\"The Experiment TensorBoard Link:\\nhttps://{REGION}.tensorboard.googleusercontent.com/experiment/{tb.resource_name.replace('/', '+')}+experiments+{exp.name}\")"
   ]
  },
  {
   "cell_type": "code",
   "execution_count": 64,
   "id": "f211776d-3a43-4bb3-bd62-4723099249c4",
   "metadata": {},
   "outputs": [
    {
     "data": {
      "text/html": [
       "<div>\n",
       "<style scoped>\n",
       "    .dataframe tbody tr th:only-of-type {\n",
       "        vertical-align: middle;\n",
       "    }\n",
       "\n",
       "    .dataframe tbody tr th {\n",
       "        vertical-align: top;\n",
       "    }\n",
       "\n",
       "    .dataframe thead th {\n",
       "        text-align: right;\n",
       "    }\n",
       "</style>\n",
       "<table border=\"1\" class=\"dataframe\">\n",
       "  <thead>\n",
       "    <tr style=\"text-align: right;\">\n",
       "      <th></th>\n",
       "      <th>step</th>\n",
       "      <th>wall_time</th>\n",
       "      <th>train_logistic_accuracy</th>\n",
       "      <th>train_logistic_auprc</th>\n",
       "      <th>val_logistic_accuracy</th>\n",
       "      <th>val_logistic_auprc</th>\n",
       "      <th>train_loss</th>\n",
       "      <th>val_decoder_loss</th>\n",
       "      <th>train_classification_auprc</th>\n",
       "      <th>val_decoder_rmse</th>\n",
       "      <th>train_classification_accuracy</th>\n",
       "      <th>train_decoder_rmse</th>\n",
       "      <th>train_classification_loss</th>\n",
       "      <th>val_classification_loss</th>\n",
       "      <th>train_logistic_loss</th>\n",
       "      <th>val_classification_accuracy</th>\n",
       "      <th>val_loss</th>\n",
       "      <th>train_decoder_loss</th>\n",
       "      <th>val_classification_auprc</th>\n",
       "      <th>val_logistic_loss</th>\n",
       "    </tr>\n",
       "  </thead>\n",
       "  <tbody>\n",
       "    <tr>\n",
       "      <th>0</th>\n",
       "      <td>1</td>\n",
       "      <td>2022-11-11 13:22:30.935000+00:00</td>\n",
       "      <td>0.961282</td>\n",
       "      <td>0.995567</td>\n",
       "      <td>0.998902</td>\n",
       "      <td>0.999252</td>\n",
       "      <td>-3.922428e+15</td>\n",
       "      <td>-2.778904e+16</td>\n",
       "      <td>0.993438</td>\n",
       "      <td>19337.955078</td>\n",
       "      <td>0.970973</td>\n",
       "      <td>19360.318359</td>\n",
       "      <td>1.256744e+03</td>\n",
       "      <td>1.206705e+04</td>\n",
       "      <td>0.082286</td>\n",
       "      <td>0.998301</td>\n",
       "      <td>-2.778904e+16</td>\n",
       "      <td>-3.922428e+15</td>\n",
       "      <td>0.997781</td>\n",
       "      <td>0.010563</td>\n",
       "    </tr>\n",
       "    <tr>\n",
       "      <th>1</th>\n",
       "      <td>2</td>\n",
       "      <td>2022-11-11 13:22:31.041000+00:00</td>\n",
       "      <td>0.999263</td>\n",
       "      <td>0.999428</td>\n",
       "      <td>0.999115</td>\n",
       "      <td>0.999439</td>\n",
       "      <td>-4.254539e+17</td>\n",
       "      <td>-1.385080e+18</td>\n",
       "      <td>0.995486</td>\n",
       "      <td>19337.955078</td>\n",
       "      <td>0.996540</td>\n",
       "      <td>19360.318359</td>\n",
       "      <td>2.832311e+04</td>\n",
       "      <td>1.129179e+05</td>\n",
       "      <td>0.006046</td>\n",
       "      <td>0.998301</td>\n",
       "      <td>-1.385080e+18</td>\n",
       "      <td>-4.254539e+17</td>\n",
       "      <td>0.997781</td>\n",
       "      <td>0.008255</td>\n",
       "    </tr>\n",
       "    <tr>\n",
       "      <th>2</th>\n",
       "      <td>3</td>\n",
       "      <td>2022-11-11 13:22:31.151000+00:00</td>\n",
       "      <td>0.999316</td>\n",
       "      <td>0.999519</td>\n",
       "      <td>0.999186</td>\n",
       "      <td>0.999436</td>\n",
       "      <td>-5.149885e+18</td>\n",
       "      <td>-1.158629e+19</td>\n",
       "      <td>0.996023</td>\n",
       "      <td>19337.955078</td>\n",
       "      <td>0.996953</td>\n",
       "      <td>19360.320312</td>\n",
       "      <td>1.267576e+05</td>\n",
       "      <td>6.504652e+03</td>\n",
       "      <td>0.005185</td>\n",
       "      <td>0.998301</td>\n",
       "      <td>-1.158629e+19</td>\n",
       "      <td>-5.149885e+18</td>\n",
       "      <td>0.997781</td>\n",
       "      <td>0.007913</td>\n",
       "    </tr>\n",
       "    <tr>\n",
       "      <th>3</th>\n",
       "      <td>4</td>\n",
       "      <td>2022-11-11 13:22:31.265000+00:00</td>\n",
       "      <td>0.999263</td>\n",
       "      <td>0.999502</td>\n",
       "      <td>0.999150</td>\n",
       "      <td>0.999294</td>\n",
       "      <td>-2.748444e+19</td>\n",
       "      <td>-5.098997e+19</td>\n",
       "      <td>0.995486</td>\n",
       "      <td>19337.955078</td>\n",
       "      <td>0.996540</td>\n",
       "      <td>19360.308594</td>\n",
       "      <td>3.287578e+05</td>\n",
       "      <td>2.656740e+05</td>\n",
       "      <td>0.005984</td>\n",
       "      <td>0.998301</td>\n",
       "      <td>-5.098997e+19</td>\n",
       "      <td>-2.748444e+19</td>\n",
       "      <td>0.997781</td>\n",
       "      <td>0.012127</td>\n",
       "    </tr>\n",
       "    <tr>\n",
       "      <th>4</th>\n",
       "      <td>5</td>\n",
       "      <td>2022-11-11 13:22:31.393000+00:00</td>\n",
       "      <td>0.999277</td>\n",
       "      <td>0.999463</td>\n",
       "      <td>0.999221</td>\n",
       "      <td>0.999305</td>\n",
       "      <td>-9.755336e+19</td>\n",
       "      <td>-1.611581e+20</td>\n",
       "      <td>0.995440</td>\n",
       "      <td>19337.955078</td>\n",
       "      <td>0.996505</td>\n",
       "      <td>19360.308594</td>\n",
       "      <td>7.505218e+05</td>\n",
       "      <td>8.578529e+05</td>\n",
       "      <td>0.006815</td>\n",
       "      <td>0.998301</td>\n",
       "      <td>-1.611581e+20</td>\n",
       "      <td>-9.755336e+19</td>\n",
       "      <td>0.997781</td>\n",
       "      <td>0.011169</td>\n",
       "    </tr>\n",
       "    <tr>\n",
       "      <th>5</th>\n",
       "      <td>6</td>\n",
       "      <td>2022-11-11 13:22:31.509000+00:00</td>\n",
       "      <td>0.999281</td>\n",
       "      <td>0.999492</td>\n",
       "      <td>0.999186</td>\n",
       "      <td>0.999304</td>\n",
       "      <td>-2.719190e+20</td>\n",
       "      <td>-4.157706e+20</td>\n",
       "      <td>0.995452</td>\n",
       "      <td>19337.955078</td>\n",
       "      <td>0.996514</td>\n",
       "      <td>19360.318359</td>\n",
       "      <td>1.263110e+06</td>\n",
       "      <td>2.624982e+06</td>\n",
       "      <td>0.006452</td>\n",
       "      <td>0.998301</td>\n",
       "      <td>-4.157706e+20</td>\n",
       "      <td>-2.719190e+20</td>\n",
       "      <td>0.997781</td>\n",
       "      <td>0.012110</td>\n",
       "    </tr>\n",
       "    <tr>\n",
       "      <th>6</th>\n",
       "      <td>7</td>\n",
       "      <td>2022-11-11 13:22:31.623000+00:00</td>\n",
       "      <td>0.999347</td>\n",
       "      <td>0.999411</td>\n",
       "      <td>0.999221</td>\n",
       "      <td>0.999257</td>\n",
       "      <td>-6.455541e+20</td>\n",
       "      <td>-9.341038e+20</td>\n",
       "      <td>0.996023</td>\n",
       "      <td>19337.955078</td>\n",
       "      <td>0.996953</td>\n",
       "      <td>19360.320312</td>\n",
       "      <td>2.090514e+06</td>\n",
       "      <td>6.163013e+05</td>\n",
       "      <td>0.006775</td>\n",
       "      <td>0.998301</td>\n",
       "      <td>-9.341038e+20</td>\n",
       "      <td>-6.455541e+20</td>\n",
       "      <td>0.997781</td>\n",
       "      <td>0.013139</td>\n",
       "    </tr>\n",
       "    <tr>\n",
       "      <th>7</th>\n",
       "      <td>8</td>\n",
       "      <td>2022-11-11 13:22:31.729000+00:00</td>\n",
       "      <td>0.999285</td>\n",
       "      <td>0.999399</td>\n",
       "      <td>0.999221</td>\n",
       "      <td>0.999213</td>\n",
       "      <td>-1.366705e+21</td>\n",
       "      <td>-1.896183e+21</td>\n",
       "      <td>0.995463</td>\n",
       "      <td>19337.955078</td>\n",
       "      <td>0.996523</td>\n",
       "      <td>19360.324219</td>\n",
       "      <td>3.117826e+06</td>\n",
       "      <td>2.851568e+06</td>\n",
       "      <td>0.008828</td>\n",
       "      <td>0.998301</td>\n",
       "      <td>-1.896183e+21</td>\n",
       "      <td>-1.366705e+21</td>\n",
       "      <td>0.997781</td>\n",
       "      <td>0.017978</td>\n",
       "    </tr>\n",
       "    <tr>\n",
       "      <th>8</th>\n",
       "      <td>9</td>\n",
       "      <td>2022-11-11 13:22:31.817000+00:00</td>\n",
       "      <td>0.999281</td>\n",
       "      <td>0.999394</td>\n",
       "      <td>0.998973</td>\n",
       "      <td>0.999253</td>\n",
       "      <td>-2.653926e+21</td>\n",
       "      <td>-3.563255e+21</td>\n",
       "      <td>0.995440</td>\n",
       "      <td>19337.955078</td>\n",
       "      <td>0.996505</td>\n",
       "      <td>19360.316406</td>\n",
       "      <td>4.900270e+06</td>\n",
       "      <td>7.423477e+06</td>\n",
       "      <td>0.008871</td>\n",
       "      <td>0.998301</td>\n",
       "      <td>-3.563255e+21</td>\n",
       "      <td>-2.653926e+21</td>\n",
       "      <td>0.997781</td>\n",
       "      <td>0.014108</td>\n",
       "    </tr>\n",
       "    <tr>\n",
       "      <th>9</th>\n",
       "      <td>10</td>\n",
       "      <td>2022-11-11 13:22:31.913000+00:00</td>\n",
       "      <td>0.999290</td>\n",
       "      <td>0.999427</td>\n",
       "      <td>0.999044</td>\n",
       "      <td>0.999348</td>\n",
       "      <td>-4.817085e+21</td>\n",
       "      <td>-6.298358e+21</td>\n",
       "      <td>0.996012</td>\n",
       "      <td>19337.955078</td>\n",
       "      <td>0.996944</td>\n",
       "      <td>19360.314453</td>\n",
       "      <td>6.146540e+06</td>\n",
       "      <td>2.908263e+05</td>\n",
       "      <td>0.006737</td>\n",
       "      <td>0.998301</td>\n",
       "      <td>-6.298358e+21</td>\n",
       "      <td>-4.817085e+21</td>\n",
       "      <td>0.997781</td>\n",
       "      <td>0.011533</td>\n",
       "    </tr>\n",
       "  </tbody>\n",
       "</table>\n",
       "</div>"
      ],
      "text/plain": [
       "   step                        wall_time  train_logistic_accuracy  \\\n",
       "0     1 2022-11-11 13:22:30.935000+00:00                 0.961282   \n",
       "1     2 2022-11-11 13:22:31.041000+00:00                 0.999263   \n",
       "2     3 2022-11-11 13:22:31.151000+00:00                 0.999316   \n",
       "3     4 2022-11-11 13:22:31.265000+00:00                 0.999263   \n",
       "4     5 2022-11-11 13:22:31.393000+00:00                 0.999277   \n",
       "5     6 2022-11-11 13:22:31.509000+00:00                 0.999281   \n",
       "6     7 2022-11-11 13:22:31.623000+00:00                 0.999347   \n",
       "7     8 2022-11-11 13:22:31.729000+00:00                 0.999285   \n",
       "8     9 2022-11-11 13:22:31.817000+00:00                 0.999281   \n",
       "9    10 2022-11-11 13:22:31.913000+00:00                 0.999290   \n",
       "\n",
       "   train_logistic_auprc  val_logistic_accuracy  val_logistic_auprc  \\\n",
       "0              0.995567               0.998902            0.999252   \n",
       "1              0.999428               0.999115            0.999439   \n",
       "2              0.999519               0.999186            0.999436   \n",
       "3              0.999502               0.999150            0.999294   \n",
       "4              0.999463               0.999221            0.999305   \n",
       "5              0.999492               0.999186            0.999304   \n",
       "6              0.999411               0.999221            0.999257   \n",
       "7              0.999399               0.999221            0.999213   \n",
       "8              0.999394               0.998973            0.999253   \n",
       "9              0.999427               0.999044            0.999348   \n",
       "\n",
       "     train_loss  val_decoder_loss  train_classification_auprc  \\\n",
       "0 -3.922428e+15     -2.778904e+16                    0.993438   \n",
       "1 -4.254539e+17     -1.385080e+18                    0.995486   \n",
       "2 -5.149885e+18     -1.158629e+19                    0.996023   \n",
       "3 -2.748444e+19     -5.098997e+19                    0.995486   \n",
       "4 -9.755336e+19     -1.611581e+20                    0.995440   \n",
       "5 -2.719190e+20     -4.157706e+20                    0.995452   \n",
       "6 -6.455541e+20     -9.341038e+20                    0.996023   \n",
       "7 -1.366705e+21     -1.896183e+21                    0.995463   \n",
       "8 -2.653926e+21     -3.563255e+21                    0.995440   \n",
       "9 -4.817085e+21     -6.298358e+21                    0.996012   \n",
       "\n",
       "   val_decoder_rmse  train_classification_accuracy  train_decoder_rmse  \\\n",
       "0      19337.955078                       0.970973        19360.318359   \n",
       "1      19337.955078                       0.996540        19360.318359   \n",
       "2      19337.955078                       0.996953        19360.320312   \n",
       "3      19337.955078                       0.996540        19360.308594   \n",
       "4      19337.955078                       0.996505        19360.308594   \n",
       "5      19337.955078                       0.996514        19360.318359   \n",
       "6      19337.955078                       0.996953        19360.320312   \n",
       "7      19337.955078                       0.996523        19360.324219   \n",
       "8      19337.955078                       0.996505        19360.316406   \n",
       "9      19337.955078                       0.996944        19360.314453   \n",
       "\n",
       "   train_classification_loss  val_classification_loss  train_logistic_loss  \\\n",
       "0               1.256744e+03             1.206705e+04             0.082286   \n",
       "1               2.832311e+04             1.129179e+05             0.006046   \n",
       "2               1.267576e+05             6.504652e+03             0.005185   \n",
       "3               3.287578e+05             2.656740e+05             0.005984   \n",
       "4               7.505218e+05             8.578529e+05             0.006815   \n",
       "5               1.263110e+06             2.624982e+06             0.006452   \n",
       "6               2.090514e+06             6.163013e+05             0.006775   \n",
       "7               3.117826e+06             2.851568e+06             0.008828   \n",
       "8               4.900270e+06             7.423477e+06             0.008871   \n",
       "9               6.146540e+06             2.908263e+05             0.006737   \n",
       "\n",
       "   val_classification_accuracy      val_loss  train_decoder_loss  \\\n",
       "0                     0.998301 -2.778904e+16       -3.922428e+15   \n",
       "1                     0.998301 -1.385080e+18       -4.254539e+17   \n",
       "2                     0.998301 -1.158629e+19       -5.149885e+18   \n",
       "3                     0.998301 -5.098997e+19       -2.748444e+19   \n",
       "4                     0.998301 -1.611581e+20       -9.755336e+19   \n",
       "5                     0.998301 -4.157706e+20       -2.719190e+20   \n",
       "6                     0.998301 -9.341038e+20       -6.455541e+20   \n",
       "7                     0.998301 -1.896183e+21       -1.366705e+21   \n",
       "8                     0.998301 -3.563255e+21       -2.653926e+21   \n",
       "9                     0.998301 -6.298358e+21       -4.817085e+21   \n",
       "\n",
       "   val_classification_auprc  val_logistic_loss  \n",
       "0                  0.997781           0.010563  \n",
       "1                  0.997781           0.008255  \n",
       "2                  0.997781           0.007913  \n",
       "3                  0.997781           0.012127  \n",
       "4                  0.997781           0.011169  \n",
       "5                  0.997781           0.012110  \n",
       "6                  0.997781           0.013139  \n",
       "7                  0.997781           0.017978  \n",
       "8                  0.997781           0.014108  \n",
       "9                  0.997781           0.011533  "
      ]
     },
     "execution_count": 64,
     "metadata": {},
     "output_type": "execute_result"
    }
   ],
   "source": [
    "expRun.get_time_series_data_frame()"
   ]
  },
  {
   "cell_type": "markdown",
   "id": "f8c1bc55-772f-468c-94b0-fdc229d9deb9",
   "metadata": {},
   "source": [
    "### Create/Retrieve The Endpoint For This Series"
   ]
  },
  {
   "cell_type": "markdown",
   "id": "b4252e07-d508-40cf-9c1a-ffd702f4b6ec",
   "metadata": {},
   "source": [
    "#### Endpoint - Full Model"
   ]
  },
  {
   "cell_type": "code",
   "execution_count": 65,
   "id": "d6ad9c2f-06eb-45e7-a869-021228d98678",
   "metadata": {},
   "outputs": [
    {
     "name": "stdout",
     "output_type": "stream",
     "text": [
      "Creating Endpoint\n",
      "Create Endpoint backing LRO: projects/1026793852137/locations/us-central1/endpoints/8032666914671034368/operations/635330047963561984\n",
      "Endpoint created. Resource name: projects/1026793852137/locations/us-central1/endpoints/8032666914671034368\n",
      "To use this Endpoint in another session:\n",
      "endpoint = aiplatform.Endpoint('projects/1026793852137/locations/us-central1/endpoints/8032666914671034368')\n",
      "Endpoint Created: projects/1026793852137/locations/us-central1/endpoints/8032666914671034368\n",
      "Review the Endpoint in the Console:\n",
      "https://console.cloud.google.com/vertex-ai/locations/us-central1/endpoints/8032666914671034368?project=statmike-mlops-349915\n"
     ]
    }
   ],
   "source": [
    "endpoints = aiplatform.Endpoint.list(filter = f\"display_name = {SERIES} AND labels.series = {SERIES}\")\n",
    "if endpoints:\n",
    "    endpoint = endpoints[0]\n",
    "    print(f\"Endpoint Exists: {endpoints[0].resource_name}\")\n",
    "else:\n",
    "    endpoint = aiplatform.Endpoint.create(\n",
    "        display_name = f\"{SERIES}\",\n",
    "        labels = {'series' : f\"{SERIES}\"}    \n",
    "    )\n",
    "    print(f\"Endpoint Created: {endpoint.resource_name}\")\n",
    "    \n",
    "print(f'Review the Endpoint in the Console:\\nhttps://console.cloud.google.com/vertex-ai/locations/{REGION}/endpoints/{endpoint.name}?project={PROJECT_ID}')"
   ]
  },
  {
   "cell_type": "code",
   "execution_count": 66,
   "id": "7dfa5453-6452-43e1-a46c-80006350871f",
   "metadata": {},
   "outputs": [
    {
     "data": {
      "text/plain": [
       "'05ebe'"
      ]
     },
     "execution_count": 66,
     "metadata": {},
     "output_type": "execute_result"
    }
   ],
   "source": [
    "endpoint.display_name"
   ]
  },
  {
   "cell_type": "code",
   "execution_count": 67,
   "id": "9f00a1da-c72f-4444-a92b-405e871118fb",
   "metadata": {},
   "outputs": [
    {
     "data": {
      "text/plain": [
       "{}"
      ]
     },
     "execution_count": 67,
     "metadata": {},
     "output_type": "execute_result"
    }
   ],
   "source": [
    "endpoint.traffic_split"
   ]
  },
  {
   "cell_type": "code",
   "execution_count": 68,
   "id": "5d419bc9-3fd9-4c24-b603-beaf7bf61f48",
   "metadata": {},
   "outputs": [],
   "source": [
    "deployed_models = endpoint.list_models()\n",
    "#deployed_models"
   ]
  },
  {
   "cell_type": "markdown",
   "id": "b8e62a2f-d305-4400-877b-a8ebeabf6873",
   "metadata": {},
   "source": [
    "#### Endpoint - Latent Model"
   ]
  },
  {
   "cell_type": "code",
   "execution_count": 69,
   "id": "96045ed5-79fb-433c-af54-77a061281e1c",
   "metadata": {},
   "outputs": [
    {
     "name": "stdout",
     "output_type": "stream",
     "text": [
      "Creating Endpoint\n",
      "Create Endpoint backing LRO: projects/1026793852137/locations/us-central1/endpoints/3139505919532990464/operations/3785597987309223936\n",
      "Endpoint created. Resource name: projects/1026793852137/locations/us-central1/endpoints/3139505919532990464\n",
      "To use this Endpoint in another session:\n",
      "endpoint = aiplatform.Endpoint('projects/1026793852137/locations/us-central1/endpoints/3139505919532990464')\n",
      "Endpoint Created: projects/1026793852137/locations/us-central1/endpoints/3139505919532990464\n",
      "Review the Endpoint in the Console:\n",
      "https://console.cloud.google.com/vertex-ai/locations/us-central1/endpoints/3139505919532990464?project=statmike-mlops-349915\n"
     ]
    }
   ],
   "source": [
    "endpoints = aiplatform.Endpoint.list(filter = f\"display_name = {SERIES}_latent AND labels.series={SERIES}\")\n",
    "if endpoints:\n",
    "    endpoint_latent = endpoints[0]\n",
    "    print(f\"Endpoint Exists: {endpoints[0].resource_name}\")\n",
    "else:\n",
    "    endpoint_latent = aiplatform.Endpoint.create(\n",
    "        display_name = f\"{SERIES}_latent\",\n",
    "        labels = {'series' : f\"{SERIES}\"}    \n",
    "    )\n",
    "    print(f\"Endpoint Created: {endpoint_latent.resource_name}\")\n",
    "    \n",
    "print(f'Review the Endpoint in the Console:\\nhttps://console.cloud.google.com/vertex-ai/locations/{REGION}/endpoints/{endpoint_latent.name}?project={PROJECT_ID}')"
   ]
  },
  {
   "cell_type": "code",
   "execution_count": 70,
   "id": "a22474dc-ea9d-46d2-926b-f145815ea24d",
   "metadata": {},
   "outputs": [
    {
     "data": {
      "text/plain": [
       "'05ebe_latent'"
      ]
     },
     "execution_count": 70,
     "metadata": {},
     "output_type": "execute_result"
    }
   ],
   "source": [
    "endpoint_latent.display_name"
   ]
  },
  {
   "cell_type": "code",
   "execution_count": 71,
   "id": "b4256898-832b-4bd1-9a51-b4e1aed31424",
   "metadata": {},
   "outputs": [
    {
     "data": {
      "text/plain": [
       "{}"
      ]
     },
     "execution_count": 71,
     "metadata": {},
     "output_type": "execute_result"
    }
   ],
   "source": [
    "endpoint_latent.traffic_split"
   ]
  },
  {
   "cell_type": "code",
   "execution_count": 72,
   "id": "b9144e82-7de7-4921-a904-6f74b2c4ee61",
   "metadata": {},
   "outputs": [],
   "source": [
    "deployed_models = endpoint_latent.list_models()\n",
    "#deployed_models"
   ]
  },
  {
   "cell_type": "markdown",
   "id": "fd800be6-e5f4-4fb5-9774-1054b9cd4629",
   "metadata": {},
   "source": [
    "### Deploy Model To Endpoint - Full Model"
   ]
  },
  {
   "cell_type": "code",
   "execution_count": 73,
   "id": "bf90a56b-950a-469b-85be-6e67bb7d9a15",
   "metadata": {},
   "outputs": [
    {
     "name": "stdout",
     "output_type": "stream",
     "text": [
      "Deploying model with 100% of traffic...\n",
      "Deploying Model projects/1026793852137/locations/us-central1/models/2080236417333592064 to Endpoint : projects/1026793852137/locations/us-central1/endpoints/8032666914671034368\n",
      "Deploy Endpoint model backing LRO: projects/1026793852137/locations/us-central1/endpoints/8032666914671034368/operations/1761229954806185984\n",
      "Endpoint model deployed. Resource name: projects/1026793852137/locations/us-central1/endpoints/8032666914671034368\n"
     ]
    }
   ],
   "source": [
    "print(f'Deploying model with 100% of traffic...')\n",
    "endpoint.deploy(\n",
    "    model = model,\n",
    "    deployed_model_display_name = model.display_name,\n",
    "    traffic_percentage = 100,\n",
    "    machine_type = DEPLOY_COMPUTE,\n",
    "    min_replica_count = 1,\n",
    "    max_replica_count = 1\n",
    ")"
   ]
  },
  {
   "cell_type": "markdown",
   "id": "7adf8496-7e04-40e9-98ef-4f6dc10dffdd",
   "metadata": {},
   "source": [
    "#### Remove Deployed Models without Traffic"
   ]
  },
  {
   "cell_type": "code",
   "execution_count": 74,
   "id": "5b008e6c-60f8-4a57-811a-4b81dda2a348",
   "metadata": {},
   "outputs": [
    {
     "name": "stdout",
     "output_type": "stream",
     "text": [
      "Model 05ebe_ebe with version 1 has traffic = 100\n"
     ]
    }
   ],
   "source": [
    "for deployed_model in endpoint.list_models():\n",
    "    if deployed_model.id in endpoint.traffic_split:\n",
    "        print(f\"Model {deployed_model.display_name} with version {deployed_model.model_version_id} has traffic = {endpoint.traffic_split[deployed_model.id]}\")\n",
    "    else:\n",
    "        endpoint.undeploy(deployed_model_id = deployed_model.id)\n",
    "        print(f\"Undeploying {deployed_model.display_name} with version {deployed_model.model_version_id} because it has no traffic.\")"
   ]
  },
  {
   "cell_type": "code",
   "execution_count": 75,
   "id": "097ebbd1-a1af-4554-a9ee-2790b5d23855",
   "metadata": {},
   "outputs": [
    {
     "data": {
      "text/plain": [
       "{'4613783886613184512': 100}"
      ]
     },
     "execution_count": 75,
     "metadata": {},
     "output_type": "execute_result"
    }
   ],
   "source": [
    "endpoint.traffic_split"
   ]
  },
  {
   "cell_type": "code",
   "execution_count": 76,
   "id": "3b1cfd8c-bdf3-48a4-b1ef-9b3fc0d283bf",
   "metadata": {},
   "outputs": [],
   "source": [
    "#endpoint.list_models()"
   ]
  },
  {
   "cell_type": "markdown",
   "id": "523520b6-2d83-404e-a5c6-f839c1568d9b",
   "metadata": {},
   "source": [
    "### Deploy Model To Endpoint - Latent Model"
   ]
  },
  {
   "cell_type": "code",
   "execution_count": 77,
   "id": "4d4b55b9-436b-4044-9332-cfdad7cb65ee",
   "metadata": {},
   "outputs": [
    {
     "name": "stdout",
     "output_type": "stream",
     "text": [
      "Deploying model with 100% of traffic...\n",
      "Deploying Model projects/1026793852137/locations/us-central1/models/791081023998787584 to Endpoint : projects/1026793852137/locations/us-central1/endpoints/3139505919532990464\n",
      "Deploy Endpoint model backing LRO: projects/1026793852137/locations/us-central1/endpoints/3139505919532990464/operations/2447184473050054656\n",
      "Endpoint model deployed. Resource name: projects/1026793852137/locations/us-central1/endpoints/3139505919532990464\n"
     ]
    }
   ],
   "source": [
    "print(f'Deploying model with 100% of traffic...')\n",
    "endpoint_latent.deploy(\n",
    "    model = model_latent,\n",
    "    deployed_model_display_name = model_latent.display_name,\n",
    "    traffic_percentage = 100,\n",
    "    machine_type = DEPLOY_COMPUTE,\n",
    "    min_replica_count = 1,\n",
    "    max_replica_count = 1\n",
    ")"
   ]
  },
  {
   "cell_type": "markdown",
   "id": "0ff43577-5f9f-47be-9334-9d10be69fc24",
   "metadata": {},
   "source": [
    "#### Remove Deployed Models without Traffic"
   ]
  },
  {
   "cell_type": "code",
   "execution_count": 78,
   "id": "bbcb18af-27ef-42b8-8918-442a22ab61db",
   "metadata": {},
   "outputs": [
    {
     "name": "stdout",
     "output_type": "stream",
     "text": [
      "Model 05ebe_ebe_latent with version 1 has traffic = 100\n"
     ]
    }
   ],
   "source": [
    "for deployed_model in endpoint_latent.list_models():\n",
    "    if deployed_model.id in endpoint_latent.traffic_split:\n",
    "        print(f\"Model {deployed_model.display_name} with version {deployed_model.model_version_id} has traffic = {endpoint_latent.traffic_split[deployed_model.id]}\")\n",
    "    else:\n",
    "        endpoint_latent.undeploy(deployed_model_id = deployed_model.id)\n",
    "        print(f\"Undeploying {deployed_model.display_name} with version {deployed_model.model_version_id} because it has no traffic.\")"
   ]
  },
  {
   "cell_type": "code",
   "execution_count": 79,
   "id": "94abeaa9-c64a-4bbc-8608-2354ca5aea49",
   "metadata": {},
   "outputs": [
    {
     "data": {
      "text/plain": [
       "{'3825653951823347712': 100}"
      ]
     },
     "execution_count": 79,
     "metadata": {},
     "output_type": "execute_result"
    }
   ],
   "source": [
    "endpoint_latent.traffic_split"
   ]
  },
  {
   "cell_type": "code",
   "execution_count": 80,
   "id": "95ae5733-b4f8-47d8-ac7e-83646b12cf2c",
   "metadata": {},
   "outputs": [],
   "source": [
    "#endpoint_latent.list_models()"
   ]
  },
  {
   "cell_type": "markdown",
   "id": "dec17d2b-44e0-4385-8372-145d61a881ab",
   "metadata": {},
   "source": [
    "---\n",
    "## Prediction\n",
    "\n",
    "See many more details on requesting predictions in the [05Tools - Prediction](./05Tools%20-%20Prediction.ipynb) notebook."
   ]
  },
  {
   "cell_type": "markdown",
   "id": "a8b1ce14-6a7d-4f50-9f52-18d1faa988a5",
   "metadata": {},
   "source": [
    "### Prepare a record for prediction: instance and parameters lists"
   ]
  },
  {
   "cell_type": "code",
   "execution_count": 81,
   "id": "c2588145",
   "metadata": {},
   "outputs": [],
   "source": [
    "pred = bq.query(query = f\"SELECT * FROM {BQ_PROJECT}.{BQ_DATASET}.{BQ_TABLE} WHERE splits='TEST' LIMIT 10\").to_dataframe()"
   ]
  },
  {
   "cell_type": "code",
   "execution_count": 82,
   "id": "6a19c2b0",
   "metadata": {},
   "outputs": [
    {
     "data": {
      "text/html": [
       "<div>\n",
       "<style scoped>\n",
       "    .dataframe tbody tr th:only-of-type {\n",
       "        vertical-align: middle;\n",
       "    }\n",
       "\n",
       "    .dataframe tbody tr th {\n",
       "        vertical-align: top;\n",
       "    }\n",
       "\n",
       "    .dataframe thead th {\n",
       "        text-align: right;\n",
       "    }\n",
       "</style>\n",
       "<table border=\"1\" class=\"dataframe\">\n",
       "  <thead>\n",
       "    <tr style=\"text-align: right;\">\n",
       "      <th></th>\n",
       "      <th>Time</th>\n",
       "      <th>V1</th>\n",
       "      <th>V2</th>\n",
       "      <th>V3</th>\n",
       "      <th>V4</th>\n",
       "      <th>V5</th>\n",
       "      <th>V6</th>\n",
       "      <th>V7</th>\n",
       "      <th>V8</th>\n",
       "      <th>V9</th>\n",
       "      <th>...</th>\n",
       "      <th>V23</th>\n",
       "      <th>V24</th>\n",
       "      <th>V25</th>\n",
       "      <th>V26</th>\n",
       "      <th>V27</th>\n",
       "      <th>V28</th>\n",
       "      <th>Amount</th>\n",
       "      <th>Class</th>\n",
       "      <th>transaction_id</th>\n",
       "      <th>splits</th>\n",
       "    </tr>\n",
       "  </thead>\n",
       "  <tbody>\n",
       "    <tr>\n",
       "      <th>0</th>\n",
       "      <td>35337</td>\n",
       "      <td>1.092844</td>\n",
       "      <td>-0.013230</td>\n",
       "      <td>1.359829</td>\n",
       "      <td>2.731537</td>\n",
       "      <td>-0.707357</td>\n",
       "      <td>0.873837</td>\n",
       "      <td>-0.796130</td>\n",
       "      <td>0.437707</td>\n",
       "      <td>0.396770</td>\n",
       "      <td>...</td>\n",
       "      <td>-0.167647</td>\n",
       "      <td>0.027557</td>\n",
       "      <td>0.592115</td>\n",
       "      <td>0.219695</td>\n",
       "      <td>0.036970</td>\n",
       "      <td>0.010984</td>\n",
       "      <td>0.0</td>\n",
       "      <td>0</td>\n",
       "      <td>a1b10547-d270-48c0-b902-7a0f735dadc7</td>\n",
       "      <td>TEST</td>\n",
       "    </tr>\n",
       "    <tr>\n",
       "      <th>1</th>\n",
       "      <td>60481</td>\n",
       "      <td>1.238973</td>\n",
       "      <td>0.035226</td>\n",
       "      <td>0.063003</td>\n",
       "      <td>0.641406</td>\n",
       "      <td>-0.260893</td>\n",
       "      <td>-0.580097</td>\n",
       "      <td>0.049938</td>\n",
       "      <td>-0.034733</td>\n",
       "      <td>0.405932</td>\n",
       "      <td>...</td>\n",
       "      <td>-0.057718</td>\n",
       "      <td>0.104983</td>\n",
       "      <td>0.537987</td>\n",
       "      <td>0.589563</td>\n",
       "      <td>-0.046207</td>\n",
       "      <td>-0.006212</td>\n",
       "      <td>0.0</td>\n",
       "      <td>0</td>\n",
       "      <td>814c62c8-ade4-47d5-bf83-313b0aafdee5</td>\n",
       "      <td>TEST</td>\n",
       "    </tr>\n",
       "    <tr>\n",
       "      <th>2</th>\n",
       "      <td>139587</td>\n",
       "      <td>1.870539</td>\n",
       "      <td>0.211079</td>\n",
       "      <td>0.224457</td>\n",
       "      <td>3.889486</td>\n",
       "      <td>-0.380177</td>\n",
       "      <td>0.249799</td>\n",
       "      <td>-0.577133</td>\n",
       "      <td>0.179189</td>\n",
       "      <td>-0.120462</td>\n",
       "      <td>...</td>\n",
       "      <td>0.180776</td>\n",
       "      <td>-0.060226</td>\n",
       "      <td>-0.228979</td>\n",
       "      <td>0.080827</td>\n",
       "      <td>0.009868</td>\n",
       "      <td>-0.036997</td>\n",
       "      <td>0.0</td>\n",
       "      <td>0</td>\n",
       "      <td>d08a1bfa-85c5-4f1b-9537-1c5a93e6afd0</td>\n",
       "      <td>TEST</td>\n",
       "    </tr>\n",
       "    <tr>\n",
       "      <th>3</th>\n",
       "      <td>162908</td>\n",
       "      <td>-3.368339</td>\n",
       "      <td>-1.980442</td>\n",
       "      <td>0.153645</td>\n",
       "      <td>-0.159795</td>\n",
       "      <td>3.847169</td>\n",
       "      <td>-3.516873</td>\n",
       "      <td>-1.209398</td>\n",
       "      <td>-0.292122</td>\n",
       "      <td>0.760543</td>\n",
       "      <td>...</td>\n",
       "      <td>-1.171627</td>\n",
       "      <td>0.214333</td>\n",
       "      <td>-0.159652</td>\n",
       "      <td>-0.060883</td>\n",
       "      <td>1.294977</td>\n",
       "      <td>0.120503</td>\n",
       "      <td>0.0</td>\n",
       "      <td>0</td>\n",
       "      <td>802f3307-8e5a-4475-b795-5d5d8d7d0120</td>\n",
       "      <td>TEST</td>\n",
       "    </tr>\n",
       "  </tbody>\n",
       "</table>\n",
       "<p>4 rows × 33 columns</p>\n",
       "</div>"
      ],
      "text/plain": [
       "     Time        V1        V2        V3        V4        V5        V6  \\\n",
       "0   35337  1.092844 -0.013230  1.359829  2.731537 -0.707357  0.873837   \n",
       "1   60481  1.238973  0.035226  0.063003  0.641406 -0.260893 -0.580097   \n",
       "2  139587  1.870539  0.211079  0.224457  3.889486 -0.380177  0.249799   \n",
       "3  162908 -3.368339 -1.980442  0.153645 -0.159795  3.847169 -3.516873   \n",
       "\n",
       "         V7        V8        V9  ...       V23       V24       V25       V26  \\\n",
       "0 -0.796130  0.437707  0.396770  ... -0.167647  0.027557  0.592115  0.219695   \n",
       "1  0.049938 -0.034733  0.405932  ... -0.057718  0.104983  0.537987  0.589563   \n",
       "2 -0.577133  0.179189 -0.120462  ...  0.180776 -0.060226 -0.228979  0.080827   \n",
       "3 -1.209398 -0.292122  0.760543  ... -1.171627  0.214333 -0.159652 -0.060883   \n",
       "\n",
       "        V27       V28  Amount  Class                        transaction_id  \\\n",
       "0  0.036970  0.010984     0.0      0  a1b10547-d270-48c0-b902-7a0f735dadc7   \n",
       "1 -0.046207 -0.006212     0.0      0  814c62c8-ade4-47d5-bf83-313b0aafdee5   \n",
       "2  0.009868 -0.036997     0.0      0  d08a1bfa-85c5-4f1b-9537-1c5a93e6afd0   \n",
       "3  1.294977  0.120503     0.0      0  802f3307-8e5a-4475-b795-5d5d8d7d0120   \n",
       "\n",
       "   splits  \n",
       "0    TEST  \n",
       "1    TEST  \n",
       "2    TEST  \n",
       "3    TEST  \n",
       "\n",
       "[4 rows x 33 columns]"
      ]
     },
     "execution_count": 82,
     "metadata": {},
     "output_type": "execute_result"
    }
   ],
   "source": [
    "pred.head(4)"
   ]
  },
  {
   "cell_type": "code",
   "execution_count": 83,
   "id": "40711e22",
   "metadata": {},
   "outputs": [
    {
     "data": {
      "text/plain": [
       "{'Time': 35337,\n",
       " 'V1': 1.0928441854981998,\n",
       " 'V2': -0.0132303486713432,\n",
       " 'V3': 1.35982868199426,\n",
       " 'V4': 2.7315370965921004,\n",
       " 'V5': -0.707357349219652,\n",
       " 'V6': 0.8738370029866129,\n",
       " 'V7': -0.7961301510622031,\n",
       " 'V8': 0.437706509544851,\n",
       " 'V9': 0.39676985012996396,\n",
       " 'V10': 0.587438102569443,\n",
       " 'V11': -0.14979756231827498,\n",
       " 'V12': 0.29514781622888103,\n",
       " 'V13': -1.30382621882143,\n",
       " 'V14': -0.31782283120234495,\n",
       " 'V15': -2.03673231037199,\n",
       " 'V16': 0.376090905274179,\n",
       " 'V17': -0.30040350116459497,\n",
       " 'V18': 0.433799615590844,\n",
       " 'V19': -0.145082264348681,\n",
       " 'V20': -0.240427548108996,\n",
       " 'V21': 0.0376030733329398,\n",
       " 'V22': 0.38002620963091405,\n",
       " 'V23': -0.16764742731151097,\n",
       " 'V24': 0.0275573495476881,\n",
       " 'V25': 0.59211469704354,\n",
       " 'V26': 0.219695164116351,\n",
       " 'V27': 0.0369695108704894,\n",
       " 'V28': 0.010984441006191,\n",
       " 'Amount': 0.0}"
      ]
     },
     "execution_count": 83,
     "metadata": {},
     "output_type": "execute_result"
    }
   ],
   "source": [
    "newob = pred[pred.columns[~pred.columns.isin(VAR_OMIT.split()+[VAR_TARGET, 'splits'])]].to_dict(orient='records')[0]\n",
    "newob"
   ]
  },
  {
   "cell_type": "code",
   "execution_count": 84,
   "id": "4007164f-4b56-47b7-8423-bfc2ee373b37",
   "metadata": {},
   "outputs": [
    {
     "data": {
      "text/plain": [
       "[35337,\n",
       " 1.0928441854981998,\n",
       " -0.0132303486713432,\n",
       " 1.35982868199426,\n",
       " 2.7315370965921004,\n",
       " -0.707357349219652,\n",
       " 0.8738370029866129,\n",
       " -0.7961301510622031,\n",
       " 0.437706509544851,\n",
       " 0.39676985012996396,\n",
       " 0.587438102569443,\n",
       " -0.14979756231827498,\n",
       " 0.29514781622888103,\n",
       " -1.30382621882143,\n",
       " -0.31782283120234495,\n",
       " -2.03673231037199,\n",
       " 0.376090905274179,\n",
       " -0.30040350116459497,\n",
       " 0.433799615590844,\n",
       " -0.145082264348681,\n",
       " -0.240427548108996,\n",
       " 0.0376030733329398,\n",
       " 0.38002620963091405,\n",
       " -0.16764742731151097,\n",
       " 0.0275573495476881,\n",
       " 0.59211469704354,\n",
       " 0.219695164116351,\n",
       " 0.0369695108704894,\n",
       " 0.010984441006191,\n",
       " 0.0]"
      ]
     },
     "execution_count": 84,
     "metadata": {},
     "output_type": "execute_result"
    }
   ],
   "source": [
    "newob = list(newob.values())\n",
    "newob"
   ]
  },
  {
   "cell_type": "code",
   "execution_count": 85,
   "id": "5950e3eb",
   "metadata": {},
   "outputs": [],
   "source": [
    "instances = [json_format.ParseDict(newob, Value())]"
   ]
  },
  {
   "cell_type": "code",
   "execution_count": 86,
   "id": "55c1209c-f9d2-4b44-a949-4472258b4f94",
   "metadata": {},
   "outputs": [],
   "source": [
    "#instances"
   ]
  },
  {
   "cell_type": "markdown",
   "id": "7d655f7f-4a53-48aa-80b7-4294b6da8580",
   "metadata": {},
   "source": [
    "### Get Predictions: Python Client"
   ]
  },
  {
   "cell_type": "code",
   "execution_count": 87,
   "id": "5fc3b01a",
   "metadata": {},
   "outputs": [
    {
     "data": {
      "text/plain": [
       "Prediction(predictions=[{'classification': [1.0, 0.0], 'decoder': [1.0, 1.0, 0.0, 0.0, 0.0, 0.0, 0.0, 0.0, 0.0, 0.0, 0.0, 0.0, 0.0, 0.0, 0.0, 0.0, 0.0, 0.0, 0.0, 0.0, 0.0, 0.0, 0.0, 0.0, 0.0, 0.0, 0.0, 0.0, 0.0, 0.0], 'logistic': [1.0, 5.18541871e-16]}], deployed_model_id='4613783886613184512', model_version_id='1', model_resource_name='projects/1026793852137/locations/us-central1/models/model_05ebe_ebe', explanations=None)"
      ]
     },
     "execution_count": 87,
     "metadata": {},
     "output_type": "execute_result"
    }
   ],
   "source": [
    "prediction = endpoint.predict(instances = instances)\n",
    "prediction"
   ]
  },
  {
   "cell_type": "code",
   "execution_count": 88,
   "id": "e3f07649",
   "metadata": {},
   "outputs": [
    {
     "data": {
      "text/plain": [
       "{'classification': [1.0, 0.0],\n",
       " 'decoder': [1.0,\n",
       "  1.0,\n",
       "  0.0,\n",
       "  0.0,\n",
       "  0.0,\n",
       "  0.0,\n",
       "  0.0,\n",
       "  0.0,\n",
       "  0.0,\n",
       "  0.0,\n",
       "  0.0,\n",
       "  0.0,\n",
       "  0.0,\n",
       "  0.0,\n",
       "  0.0,\n",
       "  0.0,\n",
       "  0.0,\n",
       "  0.0,\n",
       "  0.0,\n",
       "  0.0,\n",
       "  0.0,\n",
       "  0.0,\n",
       "  0.0,\n",
       "  0.0,\n",
       "  0.0,\n",
       "  0.0,\n",
       "  0.0,\n",
       "  0.0,\n",
       "  0.0,\n",
       "  0.0],\n",
       " 'logistic': [1.0, 5.18541871e-16]}"
      ]
     },
     "execution_count": 88,
     "metadata": {},
     "output_type": "execute_result"
    }
   ],
   "source": [
    "prediction.predictions[0]"
   ]
  },
  {
   "cell_type": "code",
   "execution_count": 89,
   "id": "5f5912e3",
   "metadata": {},
   "outputs": [
    {
     "data": {
      "text/plain": [
       "0"
      ]
     },
     "execution_count": 89,
     "metadata": {},
     "output_type": "execute_result"
    }
   ],
   "source": [
    "np.argmax(prediction.predictions[0]['logistic'])"
   ]
  },
  {
   "cell_type": "code",
   "execution_count": 90,
   "id": "f93f788d-6b8a-46eb-8039-1209cc4eb28a",
   "metadata": {},
   "outputs": [
    {
     "data": {
      "text/plain": [
       "[[6600611840.0,\n",
       "  6586029060.0,\n",
       "  6598967810.0,\n",
       "  6539714050.0,\n",
       "  6605868030.0,\n",
       "  0.0,\n",
       "  6588803580.0,\n",
       "  6590979070.0,\n",
       "  0.0,\n",
       "  0.0,\n",
       "  6597103100.0,\n",
       "  6592574980.0,\n",
       "  0.0,\n",
       "  6605071870.0,\n",
       "  6577715200.0]]"
      ]
     },
     "execution_count": 90,
     "metadata": {},
     "output_type": "execute_result"
    }
   ],
   "source": [
    "endpoint_latent.predict(instances = instances).predictions"
   ]
  },
  {
   "cell_type": "markdown",
   "id": "76087d6a-f7c3-4b03-81d7-5fa250a8a47f",
   "metadata": {},
   "source": [
    "---\n",
    "## Example-Based Explanations\n",
    "\n",
    "**IN DEVELOPMENT**"
   ]
  },
  {
   "cell_type": "code",
   "execution_count": null,
   "id": "10c0f424-051a-4f75-a485-4128c308d4af",
   "metadata": {},
   "outputs": [],
   "source": []
  },
  {
   "cell_type": "code",
   "execution_count": null,
   "id": "d3e3c8b3-4a32-4276-a0a6-c4ed71e1dca2",
   "metadata": {},
   "outputs": [],
   "source": []
  },
  {
   "cell_type": "code",
   "execution_count": null,
   "id": "b193293a-b803-4bf5-97af-86005a720c0b",
   "metadata": {},
   "outputs": [],
   "source": []
  },
  {
   "cell_type": "code",
   "execution_count": null,
   "id": "4a234c50-b5dc-410d-938c-4240897459d8",
   "metadata": {},
   "outputs": [],
   "source": []
  },
  {
   "cell_type": "code",
   "execution_count": null,
   "id": "7a9c68ae-70c8-483b-9cfc-573191b7f558",
   "metadata": {},
   "outputs": [],
   "source": []
  },
  {
   "cell_type": "code",
   "execution_count": null,
   "id": "04b9c428-e095-4cee-8655-0fae345777cb",
   "metadata": {},
   "outputs": [],
   "source": []
  },
  {
   "cell_type": "code",
   "execution_count": null,
   "id": "25eecff0-fbc8-401e-a642-55d4a61ae9f5",
   "metadata": {},
   "outputs": [],
   "source": []
  },
  {
   "cell_type": "code",
   "execution_count": null,
   "id": "199ca836-7533-4641-8cf8-833b1bab6b2a",
   "metadata": {},
   "outputs": [],
   "source": []
  },
  {
   "cell_type": "code",
   "execution_count": null,
   "id": "a2493991-9274-45a9-a4e4-838ddb8e74ca",
   "metadata": {},
   "outputs": [],
   "source": []
  },
  {
   "cell_type": "code",
   "execution_count": null,
   "id": "622ca325-0500-432c-b224-9ef9e5f75790",
   "metadata": {},
   "outputs": [],
   "source": []
  },
  {
   "cell_type": "code",
   "execution_count": null,
   "id": "6092ac21-d94a-4449-996f-97efe72a8038",
   "metadata": {},
   "outputs": [],
   "source": []
  },
  {
   "cell_type": "code",
   "execution_count": null,
   "id": "0667993d-3da8-4927-bb72-4c819e41334e",
   "metadata": {},
   "outputs": [],
   "source": []
  },
  {
   "cell_type": "code",
   "execution_count": null,
   "id": "7d7bc598-f996-4cdc-b611-b180d33f8cf0",
   "metadata": {},
   "outputs": [],
   "source": []
  },
  {
   "cell_type": "code",
   "execution_count": null,
   "id": "027bf721-95b4-4bff-be69-5d4dacc57a87",
   "metadata": {},
   "outputs": [],
   "source": []
  },
  {
   "cell_type": "code",
   "execution_count": null,
   "id": "53e785b7-7f09-4fd0-9faa-6f93cc89e391",
   "metadata": {},
   "outputs": [],
   "source": []
  },
  {
   "cell_type": "code",
   "execution_count": null,
   "id": "82bae6ac-8ab0-46a6-b8da-3228324b6450",
   "metadata": {},
   "outputs": [],
   "source": []
  },
  {
   "cell_type": "code",
   "execution_count": null,
   "id": "b79b8ad5-017f-49f4-add3-5b319237e6fd",
   "metadata": {},
   "outputs": [],
   "source": []
  },
  {
   "cell_type": "code",
   "execution_count": 92,
   "id": "005c01a2-c9e3-4c2d-9ed1-68a25cd56ea9",
   "metadata": {},
   "outputs": [
    {
     "name": "stdout",
     "output_type": "stream",
     "text": [
      "Undeploying Endpoint model: projects/1026793852137/locations/us-central1/endpoints/8032666914671034368\n",
      "Undeploy Endpoint model backing LRO: projects/1026793852137/locations/us-central1/endpoints/8032666914671034368/operations/4220195351350476800\n",
      "Endpoint model undeployed. Resource name: projects/1026793852137/locations/us-central1/endpoints/8032666914671034368\n",
      "Deleting Endpoint : projects/1026793852137/locations/us-central1/endpoints/8032666914671034368\n",
      "Delete Endpoint  backing LRO: projects/1026793852137/locations/us-central1/operations/8831881369777864704\n",
      "Endpoint deleted. . Resource name: projects/1026793852137/locations/us-central1/endpoints/8032666914671034368\n"
     ]
    }
   ],
   "source": [
    "endpoint.delete(force = True)"
   ]
  },
  {
   "cell_type": "code",
   "execution_count": 93,
   "id": "c497b255-b2de-4bbd-b935-4a82ec8d6200",
   "metadata": {},
   "outputs": [
    {
     "name": "stdout",
     "output_type": "stream",
     "text": [
      "Undeploying Endpoint model: projects/1026793852137/locations/us-central1/endpoints/3139505919532990464\n",
      "Undeploy Endpoint model backing LRO: projects/1026793852137/locations/us-central1/endpoints/3139505919532990464/operations/100527592213315584\n",
      "Endpoint model undeployed. Resource name: projects/1026793852137/locations/us-central1/endpoints/3139505919532990464\n",
      "Deleting Endpoint : projects/1026793852137/locations/us-central1/endpoints/3139505919532990464\n",
      "Delete Endpoint  backing LRO: projects/1026793852137/locations/us-central1/operations/1805140051173048320\n",
      "Endpoint deleted. . Resource name: projects/1026793852137/locations/us-central1/endpoints/3139505919532990464\n"
     ]
    }
   ],
   "source": [
    "endpoint_latent.delete(force = True)"
   ]
  },
  {
   "cell_type": "code",
   "execution_count": null,
   "id": "e9475b8a-9504-46fd-b01d-52118688b948",
   "metadata": {},
   "outputs": [],
   "source": []
  }
 ],
 "metadata": {
  "environment": {
   "kernel": "python3",
   "name": "tf2-gpu.2-3.m94",
   "type": "gcloud",
   "uri": "gcr.io/deeplearning-platform-release/tf2-gpu.2-3:m94"
  },
  "kernelspec": {
   "display_name": "Python 3",
   "language": "python",
   "name": "python3"
  },
  "language_info": {
   "codemirror_mode": {
    "name": "ipython",
    "version": 3
   },
   "file_extension": ".py",
   "mimetype": "text/x-python",
   "name": "python",
   "nbconvert_exporter": "python",
   "pygments_lexer": "ipython3",
   "version": "3.7.12"
  }
 },
 "nbformat": 4,
 "nbformat_minor": 5
}
