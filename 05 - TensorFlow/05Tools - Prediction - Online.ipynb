{
 "cells": [
  {
   "cell_type": "markdown",
   "id": "97b8c55e",
   "metadata": {},
   "source": [
    "![ga4](https://www.google-analytics.com/collect?v=2&tid=G-6VDTYWLKX6&cid=1&en=page_view&sid=1&dl=statmike%2Fvertex-ai-mlops%2F05+-+TensorFlow&dt=05Tools+-+Prediction+-+Online.ipynb)\n",
    "<!--- header table --->\n",
    "<table align=\"left\">\n",
    "  <td style=\"text-align: center\">\n",
    "    <a href=\"https://colab.research.google.com/github/statmike/vertex-ai-mlops/blob/main/05%20-%20TensorFlow/05Tools%20-%20Prediction%20-%20Online.ipynb\">\n",
    "      <img src=\"https://cloud.google.com/ml-engine/images/colab-logo-32px.png\" alt=\"Google Colaboratory logo\">\n",
    "      <br>Run in<br>Colab\n",
    "    </a>\n",
    "  </td>\n",
    "  <td style=\"text-align: center\">\n",
    "    <a href=\"https://console.cloud.google.com/vertex-ai/colab/import/https%3A//raw.githubusercontent.com/statmike/vertex-ai-mlops/main/05%20-%20TensorFlow/05Tools%20-%20Prediction%20-%20Online.ipynb\">\n",
    "      <img width=\"32px\" src=\"https://lh3.googleusercontent.com/JmcxdQi-qOpctIvWKgPtrzZdJJK-J3sWE1RsfjZNwshCFgE_9fULcNpuXYTilIR2hjwN\" alt=\"Google Cloud Colab Enterprise logo\">\n",
    "      <br>Run in<br>Colab Enterprise\n",
    "    </a>\n",
    "  </td>      \n",
    "  <td style=\"text-align: center\">\n",
    "    <a href=\"https://github.com/statmike/vertex-ai-mlops/blob/main/05%20-%20TensorFlow/05Tools%20-%20Prediction%20-%20Online.ipynb\">\n",
    "      <img src=\"https://cloud.google.com/ml-engine/images/github-logo-32px.png\" alt=\"GitHub logo\">\n",
    "      <br>View on<br>GitHub\n",
    "    </a>\n",
    "  </td>\n",
    "  <td style=\"text-align: center\">\n",
    "    <a href=\"https://console.cloud.google.com/vertex-ai/workbench/deploy-notebook?download_url=https%3A//raw.githubusercontent.com/statmike/vertex-ai-mlops/main/05%20-%20TensorFlow/05Tools%20-%20Prediction%20-%20Online.ipynb\">\n",
    "      <img src=\"https://lh3.googleusercontent.com/UiNooY4LUgW_oTvpsNhPpQzsstV5W8F7rYgxgGBD85cWJoLmrOzhVs_ksK_vgx40SHs7jCqkTkCk=e14-rj-sc0xffffff-h130-w32\" alt=\"Vertex AI logo\">\n",
    "      <br>Open in<br>Vertex AI Workbench\n",
    "    </a>\n",
    "  </td>\n",
    "</table>"
   ]
  },
  {
   "cell_type": "markdown",
   "id": "5530ea8e-0359-4e32-a8f6-8beba4e4ee85",
   "metadata": {},
   "source": [
    "# 05Tools: Prediction - Online\n",
    "Predictions from models created in the 05 series of notebooks.\n",
    "\n",
    "This notebook is part of collection of examples that showcase many ways to serve models:\n",
    "- Online:\n",
    "    - (**THIS NOTEBOOK**) Vertex AI Endpoints: Python, REST, CLI (gcloud): [05Tools - Prediction - Online.ipynb](./05Tools%20-%20Prediction%20-%20Online.ipynb)\n",
    "    - Local with TensorFlow ModelServer: [05Tools - Prediction - Local.ipynb](./05Tools%20-%20Prediction%20-%20Local.ipynb)\n",
    "    - Custom: Build a custom container with TensorFlow ModelServer: [05Tools - Prediction - Custom.ipynb](./05Tools%20-%20Prediction%20-%20Custom.ipynb)\n",
    "        - Remote Service with Cloud Run\n",
    "        - Local Service with Docker Run\n",
    "- Batch: [05Tools - Prediction - Batch.ipynb](./05Tools%20-%20Prediction%20-%20Batch.ipynb)\n",
    "    - BigQuery ML Model Import\n",
    "    - Vertex AI Batch Prediction Jobs\n",
    "\n",
    "**Prerequisites:**\n",
    "-  At least 1 of the notebooks in this series [05, 05a-05i]\n",
    "\n",
    "**Conceptual Flow & Workflow**\n",
    "\n",
    "<p align=\"center\">\n",
    "  <img alt=\"Conceptual Flow\" src=\"../architectures/slides/05tools_pred_arch.png\" width=\"45%\">\n",
    "&nbsp; &nbsp; &nbsp; &nbsp;\n",
    "  <img alt=\"Workflow\" src=\"../architectures/slides/05tools_pred_console.png\" width=\"45%\">\n",
    "</p>"
   ]
  },
  {
   "cell_type": "markdown",
   "id": "9fa22002-a946-45b0-a126-e044872ac727",
   "metadata": {
    "id": "od_UkDpvRmgD",
    "tags": []
   },
   "source": [
    "---\n",
    "## Colab Setup\n",
    "\n",
    "To run this notebook in Colab click [![Open In Colab](https://colab.research.google.com/assets/colab-badge.svg)](https://colab.research.google.com/github/statmike/vertex-ai-mlops/blob/main/05%20-%20TensorFlow/05Tools%20-%20Prediction%20-%20Online.ipynb) and run the cells in this section.  Otherwise, skip this section.\n",
    "\n",
    "This cell will authenticate to GCP (follow prompts in the popup)."
   ]
  },
  {
   "cell_type": "code",
   "execution_count": 1,
   "id": "3bc03c99-d354-4754-bce5-bed2692ffbbe",
   "metadata": {
    "executionInfo": {
     "elapsed": 195,
     "status": "ok",
     "timestamp": 1683726184843,
     "user": {
      "displayName": "Mike Henderson",
      "userId": "07691629187611687318"
     },
     "user_tz": 240
    },
    "id": "8UO9FnqyKBlF"
   },
   "outputs": [],
   "source": [
    "PROJECT_ID = 'statmike-mlops-349915' # replace with project ID"
   ]
  },
  {
   "cell_type": "code",
   "execution_count": 2,
   "id": "15985545-6343-412a-b2fb-e3a3ae4d4be0",
   "metadata": {
    "colab": {
     "base_uri": "https://localhost:8080/"
    },
    "executionInfo": {
     "elapsed": 68869,
     "status": "ok",
     "timestamp": 1683726253709,
     "user": {
      "displayName": "Mike Henderson",
      "userId": "07691629187611687318"
     },
     "user_tz": 240
    },
    "id": "N98-KK7LRkjm",
    "outputId": "09ec5008-0def-4e1a-c349-c598ee752f78"
   },
   "outputs": [],
   "source": [
    "try:\n",
    "    import google.colab\n",
    "    from google.colab import auth\n",
    "    auth.authenticate_user()\n",
    "    !gcloud config set project {PROJECT_ID}\n",
    "except Exception:\n",
    "    pass"
   ]
  },
  {
   "cell_type": "markdown",
   "id": "92483439-5b37-4981-a010-54ca20848ac2",
   "metadata": {},
   "source": [
    "---\n",
    "## Installs\n",
    "\n",
    "The list `packages` contains tuples of package import names and install names.  If the import name is not found then the install name is used to install quitely for the current user."
   ]
  },
  {
   "cell_type": "code",
   "execution_count": 3,
   "id": "899f1f11-65f8-4c21-8517-908b773196e2",
   "metadata": {
    "tags": []
   },
   "outputs": [],
   "source": [
    "# tuples of (import name, install name)\n",
    "packages = [\n",
    "    ('google.cloud.aiplatform', 'google-cloud-aiplatform'),\n",
    "    ('google.cloud.bigquery', 'google-cloud-bigquery')\n",
    "]\n",
    "\n",
    "import importlib\n",
    "install = False\n",
    "for package in packages:\n",
    "    if not importlib.util.find_spec(package[0]):\n",
    "        print(f'installing package {package[1]}')\n",
    "        install = True\n",
    "        !pip install {package[1]} -U -q --user"
   ]
  },
  {
   "cell_type": "markdown",
   "id": "ec83ffb0-4d2e-45ec-9ec3-b76d68220529",
   "metadata": {},
   "source": [
    "### Restart Kernel (If Installs Occured)\n",
    "\n",
    "After a kernel restart the code submission can start with the next cell after this one."
   ]
  },
  {
   "cell_type": "code",
   "execution_count": 4,
   "id": "56599f1e-b02a-4172-aa28-fec8444fb60c",
   "metadata": {
    "tags": []
   },
   "outputs": [],
   "source": [
    "if install:\n",
    "    import IPython\n",
    "    app = IPython.Application.instance()\n",
    "    app.kernel.do_shutdown(True)"
   ]
  },
  {
   "cell_type": "markdown",
   "id": "7cbc1869-a004-40d7-99fe-8ae68becb8ef",
   "metadata": {},
   "source": [
    "---\n",
    "## Setup"
   ]
  },
  {
   "cell_type": "markdown",
   "id": "c4b93b74-91fd-433b-ac67-b9e6ac5cb140",
   "metadata": {},
   "source": [
    "inputs:"
   ]
  },
  {
   "cell_type": "code",
   "execution_count": 5,
   "id": "3d88f310-d3b5-4785-a5e6-ac8cdbcc630d",
   "metadata": {
    "tags": []
   },
   "outputs": [
    {
     "data": {
      "text/plain": [
       "'statmike-mlops-349915'"
      ]
     },
     "execution_count": 5,
     "metadata": {},
     "output_type": "execute_result"
    }
   ],
   "source": [
    "project = !gcloud config get-value project\n",
    "PROJECT_ID = project[0]\n",
    "PROJECT_ID"
   ]
  },
  {
   "cell_type": "code",
   "execution_count": 6,
   "id": "8457d0e4-ab01-4933-b179-e7505abf0405",
   "metadata": {
    "tags": []
   },
   "outputs": [],
   "source": [
    "REGION = 'us-central1'\n",
    "EXPERIMENT = '05_predictions'\n",
    "SERIES = '05'\n",
    "\n",
    "# source data\n",
    "BQ_PROJECT = PROJECT_ID\n",
    "BQ_DATASET = 'fraud'\n",
    "BQ_TABLE = 'fraud_prepped'\n",
    "\n",
    "# specify a GCS Bucket\n",
    "GCS_BUCKET = PROJECT_ID\n",
    "\n",
    "# Resources\n",
    "DEPLOY_COMPUTE = 'n1-standard-4'\n",
    "DEPLOY_IMAGE ='us-docker.pkg.dev/vertex-ai/prediction/tf2-cpu.2-12:latest'\n",
    "\n",
    "# Model Training\n",
    "VAR_TARGET = 'Class'\n",
    "VAR_OMIT = 'transaction_id,splits' # add more variables to the string with comma delimiters"
   ]
  },
  {
   "cell_type": "markdown",
   "id": "a0bee74b-cc63-421b-b200-1323c7660c58",
   "metadata": {},
   "source": [
    "packages:"
   ]
  },
  {
   "cell_type": "code",
   "execution_count": 7,
   "id": "7fc761a0-cd7e-4cf8-aebb-281aae0e8ce3",
   "metadata": {
    "tags": []
   },
   "outputs": [],
   "source": [
    "import os\n",
    "os.environ['TF_CPP_MIN_LOG_LEVEL'] = '3'\n",
    "\n",
    "from google.cloud import aiplatform\n",
    "from google.cloud import bigquery\n",
    "\n",
    "import tensorflow as tf\n",
    "\n",
    "from google.api import httpbody_pb2\n",
    "from datetime import datetime\n",
    "import json\n",
    "import numpy as np\n",
    "\n",
    "import asyncio\n",
    "import time\n",
    "import multiprocessing"
   ]
  },
  {
   "cell_type": "markdown",
   "id": "5e46fb44-b7aa-4b93-89b5-d43749f82440",
   "metadata": {},
   "source": [
    "clients:"
   ]
  },
  {
   "cell_type": "code",
   "execution_count": 8,
   "id": "0ac462e2-2294-4097-8639-c8c4f2920ec7",
   "metadata": {
    "tags": []
   },
   "outputs": [],
   "source": [
    "aiplatform.init(project = PROJECT_ID, location = REGION)\n",
    "bq = bigquery.Client(project = PROJECT_ID)"
   ]
  },
  {
   "cell_type": "markdown",
   "id": "7849d23b-2b68-40fa-b9cf-3b542cb70b82",
   "metadata": {},
   "source": [
    "parameters:"
   ]
  },
  {
   "cell_type": "code",
   "execution_count": 9,
   "id": "c244567c-b232-4fba-8fca-adb13e66db50",
   "metadata": {
    "tags": []
   },
   "outputs": [],
   "source": [
    "DIR = f\"temp/{EXPERIMENT}\""
   ]
  },
  {
   "cell_type": "markdown",
   "id": "051d29e7-4048-4fa8-958b-24335c93a1c6",
   "metadata": {},
   "source": [
    "environment:"
   ]
  },
  {
   "cell_type": "code",
   "execution_count": 10,
   "id": "3dc2d64a-e63f-4b0d-b963-022a67b92f08",
   "metadata": {
    "tags": []
   },
   "outputs": [],
   "source": [
    "if not os.path.exists(DIR):\n",
    "    os.makedirs(DIR)"
   ]
  },
  {
   "cell_type": "markdown",
   "id": "9baac50d-86d2-4692-acd5-1834e2c0186d",
   "metadata": {},
   "source": [
    "---\n",
    "## Get Vertex AI Endpoint\n",
    "\n",
    "This project already has a model serving online predictions at a Vertex AI Endpoint.  This section will use the endpoint to retrieve the deployed model and get its information to use for online prediction methods in this notebook."
   ]
  },
  {
   "cell_type": "markdown",
   "id": "856540a1-0327-473a-bdce-2337d606ceec",
   "metadata": {},
   "source": [
    "### Get Endpoint\n",
    "\n",
    "[Endpoint Properties and Methods](https://cloud.google.com/python/docs/reference/aiplatform/latest/google.cloud.aiplatform.Endpoint):\n",
    "\n",
    "```python\n",
    "endpoint\n",
    "endpoint.display_name\n",
    "endpoint.resource_name\n",
    "endpoint.traffic_split\n",
    "endpoint.list_models()\n",
    "```"
   ]
  },
  {
   "cell_type": "code",
   "execution_count": 11,
   "id": "6b6c609a-954d-478a-9b2d-f76a36a17b39",
   "metadata": {
    "tags": []
   },
   "outputs": [
    {
     "name": "stdout",
     "output_type": "stream",
     "text": [
      "Endpoint Exists: projects/1026793852137/locations/us-central1/endpoints/725723853820526592\n"
     ]
    }
   ],
   "source": [
    "endpoints = aiplatform.Endpoint.list(filter = f\"labels.series={SERIES} AND display_name={SERIES}\")\n",
    "if endpoints:\n",
    "    endpoint = endpoints[0]\n",
    "    print(f\"Endpoint Exists: {endpoints[0].resource_name}\")\n",
    "else:\n",
    "    print(f\"There does not appear to be an endpoint for SERIES = {SERIES}\")"
   ]
  },
  {
   "cell_type": "code",
   "execution_count": 12,
   "id": "b8c9370b-e9f3-4831-b9e1-3bf7bad3f911",
   "metadata": {
    "tags": []
   },
   "outputs": [
    {
     "data": {
      "text/plain": [
       "'05'"
      ]
     },
     "execution_count": 12,
     "metadata": {},
     "output_type": "execute_result"
    }
   ],
   "source": [
    "endpoint.display_name"
   ]
  },
  {
   "cell_type": "code",
   "execution_count": 13,
   "id": "877541f4-e091-428e-835b-3171f5c1309d",
   "metadata": {
    "tags": []
   },
   "outputs": [
    {
     "name": "stdout",
     "output_type": "stream",
     "text": [
      "Review the Endpoint in the Console:\n",
      "https://console.cloud.google.com/vertex-ai/locations/us-central1/endpoints/725723853820526592?project=statmike-mlops-349915\n"
     ]
    }
   ],
   "source": [
    "print(f'Review the Endpoint in the Console:\\nhttps://console.cloud.google.com/vertex-ai/locations/{REGION}/endpoints/{endpoint.name}?project={PROJECT_ID}')"
   ]
  },
  {
   "cell_type": "code",
   "execution_count": 14,
   "id": "76e49cbe-f1ae-4396-9788-019a288a1335",
   "metadata": {
    "tags": []
   },
   "outputs": [
    {
     "data": {
      "text/plain": [
       "{'2423682068408958976': 100}"
      ]
     },
     "execution_count": 14,
     "metadata": {},
     "output_type": "execute_result"
    }
   ],
   "source": [
    "endpoint.traffic_split"
   ]
  },
  {
   "cell_type": "code",
   "execution_count": 15,
   "id": "a190c412-ea14-41e4-b288-9e5cc5f40a35",
   "metadata": {
    "tags": []
   },
   "outputs": [
    {
     "data": {
      "text/plain": [
       "dedicated_resources {\n",
       "  machine_spec {\n",
       "    machine_type: \"n1-standard-4\"\n",
       "  }\n",
       "  min_replica_count: 1\n",
       "  max_replica_count: 1\n",
       "}\n",
       "id: \"2423682068408958976\"\n",
       "model: \"projects/1026793852137/locations/us-central1/models/model_05_05\"\n",
       "model_version_id: \"18\"\n",
       "display_name: \"05_05\"\n",
       "create_time {\n",
       "  seconds: 1703181253\n",
       "  nanos: 58849000\n",
       "}"
      ]
     },
     "execution_count": 15,
     "metadata": {},
     "output_type": "execute_result"
    }
   ],
   "source": [
    "endpoint.list_models()[0]"
   ]
  },
  {
   "cell_type": "markdown",
   "id": "eed300b1-7d58-4b0b-9a69-f32ba918d5ef",
   "metadata": {},
   "source": [
    "---\n",
    "## Retrieve Records For Prediction"
   ]
  },
  {
   "cell_type": "code",
   "execution_count": 16,
   "id": "387789b5-8916-4109-a604-e6f91eb1a57f",
   "metadata": {
    "tags": []
   },
   "outputs": [],
   "source": [
    "n = 10000\n",
    "# Make a list of columns to omit\n",
    "OMIT = [x for x in VAR_OMIT.split(',') if x != '']\n",
    "samples = bq.query(\n",
    "    query = f\"\"\"\n",
    "        SELECT * EXCEPT({','.join([VAR_TARGET] + OMIT)})\n",
    "        FROM {BQ_PROJECT}.{BQ_DATASET}.{BQ_TABLE}\n",
    "        WHERE splits='TEST'\n",
    "        LIMIT {n}\n",
    "        \"\"\"\n",
    ").to_dataframe()"
   ]
  },
  {
   "cell_type": "code",
   "execution_count": 17,
   "id": "deee9703-813c-45bd-a3e7-ffa2e9a3614e",
   "metadata": {
    "tags": []
   },
   "outputs": [
    {
     "data": {
      "text/html": [
       "<div>\n",
       "<style scoped>\n",
       "    .dataframe tbody tr th:only-of-type {\n",
       "        vertical-align: middle;\n",
       "    }\n",
       "\n",
       "    .dataframe tbody tr th {\n",
       "        vertical-align: top;\n",
       "    }\n",
       "\n",
       "    .dataframe thead th {\n",
       "        text-align: right;\n",
       "    }\n",
       "</style>\n",
       "<table border=\"1\" class=\"dataframe\">\n",
       "  <thead>\n",
       "    <tr style=\"text-align: right;\">\n",
       "      <th></th>\n",
       "      <th>Time</th>\n",
       "      <th>V1</th>\n",
       "      <th>V2</th>\n",
       "      <th>V3</th>\n",
       "      <th>V4</th>\n",
       "      <th>V5</th>\n",
       "      <th>V6</th>\n",
       "      <th>V7</th>\n",
       "      <th>V8</th>\n",
       "      <th>V9</th>\n",
       "      <th>...</th>\n",
       "      <th>V20</th>\n",
       "      <th>V21</th>\n",
       "      <th>V22</th>\n",
       "      <th>V23</th>\n",
       "      <th>V24</th>\n",
       "      <th>V25</th>\n",
       "      <th>V26</th>\n",
       "      <th>V27</th>\n",
       "      <th>V28</th>\n",
       "      <th>Amount</th>\n",
       "    </tr>\n",
       "  </thead>\n",
       "  <tbody>\n",
       "    <tr>\n",
       "      <th>0</th>\n",
       "      <td>35337</td>\n",
       "      <td>1.092844</td>\n",
       "      <td>-0.013230</td>\n",
       "      <td>1.359829</td>\n",
       "      <td>2.731537</td>\n",
       "      <td>-0.707357</td>\n",
       "      <td>0.873837</td>\n",
       "      <td>-0.796130</td>\n",
       "      <td>0.437707</td>\n",
       "      <td>0.396770</td>\n",
       "      <td>...</td>\n",
       "      <td>-0.240428</td>\n",
       "      <td>0.037603</td>\n",
       "      <td>0.380026</td>\n",
       "      <td>-0.167647</td>\n",
       "      <td>0.027557</td>\n",
       "      <td>0.592115</td>\n",
       "      <td>0.219695</td>\n",
       "      <td>0.036970</td>\n",
       "      <td>0.010984</td>\n",
       "      <td>0.0</td>\n",
       "    </tr>\n",
       "    <tr>\n",
       "      <th>1</th>\n",
       "      <td>60481</td>\n",
       "      <td>1.238973</td>\n",
       "      <td>0.035226</td>\n",
       "      <td>0.063003</td>\n",
       "      <td>0.641406</td>\n",
       "      <td>-0.260893</td>\n",
       "      <td>-0.580097</td>\n",
       "      <td>0.049938</td>\n",
       "      <td>-0.034733</td>\n",
       "      <td>0.405932</td>\n",
       "      <td>...</td>\n",
       "      <td>-0.265080</td>\n",
       "      <td>-0.060003</td>\n",
       "      <td>-0.053585</td>\n",
       "      <td>-0.057718</td>\n",
       "      <td>0.104983</td>\n",
       "      <td>0.537987</td>\n",
       "      <td>0.589563</td>\n",
       "      <td>-0.046207</td>\n",
       "      <td>-0.006212</td>\n",
       "      <td>0.0</td>\n",
       "    </tr>\n",
       "    <tr>\n",
       "      <th>2</th>\n",
       "      <td>139587</td>\n",
       "      <td>1.870539</td>\n",
       "      <td>0.211079</td>\n",
       "      <td>0.224457</td>\n",
       "      <td>3.889486</td>\n",
       "      <td>-0.380177</td>\n",
       "      <td>0.249799</td>\n",
       "      <td>-0.577133</td>\n",
       "      <td>0.179189</td>\n",
       "      <td>-0.120462</td>\n",
       "      <td>...</td>\n",
       "      <td>-0.374356</td>\n",
       "      <td>0.196006</td>\n",
       "      <td>0.656552</td>\n",
       "      <td>0.180776</td>\n",
       "      <td>-0.060226</td>\n",
       "      <td>-0.228979</td>\n",
       "      <td>0.080827</td>\n",
       "      <td>0.009868</td>\n",
       "      <td>-0.036997</td>\n",
       "      <td>0.0</td>\n",
       "    </tr>\n",
       "    <tr>\n",
       "      <th>3</th>\n",
       "      <td>162908</td>\n",
       "      <td>-3.368339</td>\n",
       "      <td>-1.980442</td>\n",
       "      <td>0.153645</td>\n",
       "      <td>-0.159795</td>\n",
       "      <td>3.847169</td>\n",
       "      <td>-3.516873</td>\n",
       "      <td>-1.209398</td>\n",
       "      <td>-0.292122</td>\n",
       "      <td>0.760543</td>\n",
       "      <td>...</td>\n",
       "      <td>-0.923275</td>\n",
       "      <td>-0.545992</td>\n",
       "      <td>-0.252324</td>\n",
       "      <td>-1.171627</td>\n",
       "      <td>0.214333</td>\n",
       "      <td>-0.159652</td>\n",
       "      <td>-0.060883</td>\n",
       "      <td>1.294977</td>\n",
       "      <td>0.120503</td>\n",
       "      <td>0.0</td>\n",
       "    </tr>\n",
       "  </tbody>\n",
       "</table>\n",
       "<p>4 rows × 30 columns</p>\n",
       "</div>"
      ],
      "text/plain": [
       "     Time        V1        V2        V3        V4        V5        V6  \\\n",
       "0   35337  1.092844 -0.013230  1.359829  2.731537 -0.707357  0.873837   \n",
       "1   60481  1.238973  0.035226  0.063003  0.641406 -0.260893 -0.580097   \n",
       "2  139587  1.870539  0.211079  0.224457  3.889486 -0.380177  0.249799   \n",
       "3  162908 -3.368339 -1.980442  0.153645 -0.159795  3.847169 -3.516873   \n",
       "\n",
       "         V7        V8        V9  ...       V20       V21       V22       V23  \\\n",
       "0 -0.796130  0.437707  0.396770  ... -0.240428  0.037603  0.380026 -0.167647   \n",
       "1  0.049938 -0.034733  0.405932  ... -0.265080 -0.060003 -0.053585 -0.057718   \n",
       "2 -0.577133  0.179189 -0.120462  ... -0.374356  0.196006  0.656552  0.180776   \n",
       "3 -1.209398 -0.292122  0.760543  ... -0.923275 -0.545992 -0.252324 -1.171627   \n",
       "\n",
       "        V24       V25       V26       V27       V28  Amount  \n",
       "0  0.027557  0.592115  0.219695  0.036970  0.010984     0.0  \n",
       "1  0.104983  0.537987  0.589563 -0.046207 -0.006212     0.0  \n",
       "2 -0.060226 -0.228979  0.080827  0.009868 -0.036997     0.0  \n",
       "3  0.214333 -0.159652 -0.060883  1.294977  0.120503     0.0  \n",
       "\n",
       "[4 rows x 30 columns]"
      ]
     },
     "execution_count": 17,
     "metadata": {},
     "output_type": "execute_result"
    }
   ],
   "source": [
    "samples.head(4)"
   ]
  },
  {
   "cell_type": "markdown",
   "id": "58d520d7-ef35-4683-a7df-c209ba384bcd",
   "metadata": {},
   "source": [
    "Remove columns not included as features in the model:"
   ]
  },
  {
   "cell_type": "code",
   "execution_count": 33,
   "id": "9932f548-2c04-4150-99e0-0da87e8f216c",
   "metadata": {
    "tags": []
   },
   "outputs": [
    {
     "data": {
      "text/plain": [
       "{'Time': 35337,\n",
       " 'V1': 1.0928441854981998,\n",
       " 'V2': -0.0132303486713432,\n",
       " 'V3': 1.35982868199426,\n",
       " 'V4': 2.7315370965921004,\n",
       " 'V5': -0.707357349219652,\n",
       " 'V6': 0.8738370029866129,\n",
       " 'V7': -0.7961301510622031,\n",
       " 'V8': 0.437706509544851,\n",
       " 'V9': 0.39676985012996396,\n",
       " 'V10': 0.587438102569443,\n",
       " 'V11': -0.14979756231827498,\n",
       " 'V12': 0.29514781622888103,\n",
       " 'V13': -1.30382621882143,\n",
       " 'V14': -0.31782283120234495,\n",
       " 'V15': -2.03673231037199,\n",
       " 'V16': 0.376090905274179,\n",
       " 'V17': -0.30040350116459497,\n",
       " 'V18': 0.433799615590844,\n",
       " 'V19': -0.145082264348681,\n",
       " 'V20': -0.240427548108996,\n",
       " 'V21': 0.0376030733329398,\n",
       " 'V22': 0.38002620963091405,\n",
       " 'V23': -0.16764742731151097,\n",
       " 'V24': 0.0275573495476881,\n",
       " 'V25': 0.59211469704354,\n",
       " 'V26': 0.219695164116351,\n",
       " 'V27': 0.0369695108704894,\n",
       " 'V28': 0.010984441006191,\n",
       " 'Amount': 0.0}"
      ]
     },
     "execution_count": 33,
     "metadata": {},
     "output_type": "execute_result"
    }
   ],
   "source": [
    "newobs = samples.to_dict(orient='records')\n",
    "newobs[0]"
   ]
  },
  {
   "cell_type": "code",
   "execution_count": 35,
   "id": "dd08cd96-3977-45d9-8af5-aca962a57396",
   "metadata": {
    "tags": []
   },
   "outputs": [],
   "source": [
    "newobs = [{k:[v] for k,v in newob.items()} for newob in newobs]"
   ]
  },
  {
   "cell_type": "code",
   "execution_count": 36,
   "id": "7175b907-03af-4836-9243-ba277674d722",
   "metadata": {
    "tags": []
   },
   "outputs": [
    {
     "data": {
      "text/plain": [
       "{'Time': [35337],\n",
       " 'V1': [1.0928441854981998],\n",
       " 'V2': [-0.0132303486713432],\n",
       " 'V3': [1.35982868199426],\n",
       " 'V4': [2.7315370965921004],\n",
       " 'V5': [-0.707357349219652],\n",
       " 'V6': [0.8738370029866129],\n",
       " 'V7': [-0.7961301510622031],\n",
       " 'V8': [0.437706509544851],\n",
       " 'V9': [0.39676985012996396],\n",
       " 'V10': [0.587438102569443],\n",
       " 'V11': [-0.14979756231827498],\n",
       " 'V12': [0.29514781622888103],\n",
       " 'V13': [-1.30382621882143],\n",
       " 'V14': [-0.31782283120234495],\n",
       " 'V15': [-2.03673231037199],\n",
       " 'V16': [0.376090905274179],\n",
       " 'V17': [-0.30040350116459497],\n",
       " 'V18': [0.433799615590844],\n",
       " 'V19': [-0.145082264348681],\n",
       " 'V20': [-0.240427548108996],\n",
       " 'V21': [0.0376030733329398],\n",
       " 'V22': [0.38002620963091405],\n",
       " 'V23': [-0.16764742731151097],\n",
       " 'V24': [0.0275573495476881],\n",
       " 'V25': [0.59211469704354],\n",
       " 'V26': [0.219695164116351],\n",
       " 'V27': [0.0369695108704894],\n",
       " 'V28': [0.010984441006191],\n",
       " 'Amount': [0.0]}"
      ]
     },
     "execution_count": 36,
     "metadata": {},
     "output_type": "execute_result"
    }
   ],
   "source": [
    "newobs[0]"
   ]
  },
  {
   "cell_type": "code",
   "execution_count": 49,
   "id": "95faa54a-ff47-40ce-a3d7-2870cbc69a74",
   "metadata": {
    "tags": []
   },
   "outputs": [
    {
     "data": {
      "text/plain": [
       "10000"
      ]
     },
     "execution_count": 49,
     "metadata": {},
     "output_type": "execute_result"
    }
   ],
   "source": [
    "len(newobs)"
   ]
  },
  {
   "cell_type": "markdown",
   "id": "2a8fcefc-af1c-481c-b24f-9964c1d325c6",
   "metadata": {},
   "source": [
    "---\n",
    "## Online Predictions: Methods for Vertex AI Endpoints\n",
    "\n",
    "There are multiple ways to interact with a Vertex AI Endpoint from Python.  This notebook gives examples of for Python (multiple version of the client, and layers), as well as REST and the `gcloud` CLI.  To better understand these clients, review the notes here: [aiplatform_notes.md](../Tips/aiplatform_notes.md).\n",
    "\n",
    ">**Explanations**\n",
    ">For each of the methods below, the `predict` part of the request can be exchanged for `explain` if the endpoint has a model deployed with explanations setup.  Note: This >will not work for the raw prediction methods.  See more about setting up explainability in the explainability notebooks within this series.\n",
    ">- [05Tools - Explainability - Example-Based.ipynb](./05Tools%20-%20Explainability%20-%20Example-Based.ipynb)\n",
    ">- [05Tools - Explainability - Feature-Based.ipynb](./05Tools%20-%20Explainability%20-%20Feature-Based.ipynb)"
   ]
  },
  {
   "cell_type": "markdown",
   "id": "ccd2c951-ee33-406d-9456-fe2b50c8448d",
   "metadata": {},
   "source": [
    "---\n",
    "### Get Predictions: Python Client\n",
    "\n",
    "[aiplatform.Endpoint.predict()](https://cloud.google.com/python/docs/reference/aiplatform/latest/google.cloud.aiplatform.Endpoint#google_cloud_aiplatform_Endpoint_predict)"
   ]
  },
  {
   "cell_type": "code",
   "execution_count": 25,
   "id": "67f442be-c9e2-4582-90fe-e090fc02730e",
   "metadata": {
    "tags": []
   },
   "outputs": [
    {
     "data": {
      "text/plain": [
       "Prediction(predictions=[[0.999759495, 0.000240550202]], deployed_model_id='2423682068408958976', metadata=None, model_version_id='18', model_resource_name='projects/1026793852137/locations/us-central1/models/model_05_05', explanations=None)"
      ]
     },
     "execution_count": 25,
     "metadata": {},
     "output_type": "execute_result"
    }
   ],
   "source": [
    "prediction = endpoint.predict(instances = newobs[0:1])\n",
    "prediction"
   ]
  },
  {
   "cell_type": "code",
   "execution_count": 26,
   "id": "a5839c46-2cf5-4b09-8e0b-8919e5767112",
   "metadata": {
    "tags": []
   },
   "outputs": [
    {
     "data": {
      "text/plain": [
       "[0.999759495, 0.000240550202]"
      ]
     },
     "execution_count": 26,
     "metadata": {},
     "output_type": "execute_result"
    }
   ],
   "source": [
    "prediction.predictions[0]"
   ]
  },
  {
   "cell_type": "code",
   "execution_count": 27,
   "id": "e5629b86-bd25-4a2c-8dbd-2ab306b58592",
   "metadata": {
    "tags": []
   },
   "outputs": [
    {
     "data": {
      "text/plain": [
       "0"
      ]
     },
     "execution_count": 27,
     "metadata": {},
     "output_type": "execute_result"
    }
   ],
   "source": [
    "np.argmax(prediction.predictions[0])"
   ]
  },
  {
   "cell_type": "code",
   "execution_count": 46,
   "id": "aec4c479-3d12-4101-a4bd-967cb844c144",
   "metadata": {
    "tags": []
   },
   "outputs": [
    {
     "data": {
      "text/plain": [
       "[[0.999759495, 0.000240550202], [0.999389887, 0.000610153715]]"
      ]
     },
     "execution_count": 46,
     "metadata": {},
     "output_type": "execute_result"
    }
   ],
   "source": [
    "endpoint.predict(instances = newobs[0:2]).predictions"
   ]
  },
  {
   "cell_type": "markdown",
   "id": "8ed2982e-852f-4016-8199-420891c8776b",
   "metadata": {},
   "source": [
    "#### Raw Predictions\n",
    "\n",
    "Use arbitrary headers\n",
    "\n",
    "[aiplatform.Endpoint.raw_predict()](https://cloud.google.com/python/docs/reference/aiplatform/latest/google.cloud.aiplatform.Endpoint#google_cloud_aiplatform_Endpoint_raw_predict)"
   ]
  },
  {
   "cell_type": "code",
   "execution_count": 50,
   "id": "a7bf33b7-70f0-4c11-b206-5bd1d9de4469",
   "metadata": {
    "tags": []
   },
   "outputs": [],
   "source": [
    "instances = {\"instances\": newobs[0:1], \"signature_name\": \"serving_default\"}\n",
    "headers = {'Content-Type':'application/json'}"
   ]
  },
  {
   "cell_type": "code",
   "execution_count": 51,
   "id": "e794707f-8e8b-4df6-acb3-ed100b1548b6",
   "metadata": {
    "tags": []
   },
   "outputs": [
    {
     "data": {
      "text/plain": [
       "<Response [200]>"
      ]
     },
     "execution_count": 51,
     "metadata": {},
     "output_type": "execute_result"
    }
   ],
   "source": [
    "prediction = endpoint.raw_predict(\n",
    "    body = json.dumps(instances).encode(\"utf-8\"),\n",
    "    headers = headers\n",
    ")\n",
    "prediction"
   ]
  },
  {
   "cell_type": "code",
   "execution_count": 52,
   "id": "f3dfa186-7431-41d7-b891-e3f385509ac8",
   "metadata": {
    "tags": []
   },
   "outputs": [
    {
     "data": {
      "text/plain": [
       "{'predictions': [[0.999759495, 0.000240550202]]}"
      ]
     },
     "execution_count": 52,
     "metadata": {},
     "output_type": "execute_result"
    }
   ],
   "source": [
    "prediction = json.loads(prediction.text)\n",
    "prediction"
   ]
  },
  {
   "cell_type": "code",
   "execution_count": 53,
   "id": "da5a1702-af4d-4287-9b73-ed6dcd06b006",
   "metadata": {
    "tags": []
   },
   "outputs": [
    {
     "data": {
      "text/plain": [
       "[0.999759495, 0.000240550202]"
      ]
     },
     "execution_count": 53,
     "metadata": {},
     "output_type": "execute_result"
    }
   ],
   "source": [
    "prediction['predictions'][0]"
   ]
  },
  {
   "cell_type": "code",
   "execution_count": 54,
   "id": "0cf2848d-e9a0-4b76-b2e4-97ab97a38570",
   "metadata": {
    "tags": []
   },
   "outputs": [
    {
     "data": {
      "text/plain": [
       "0"
      ]
     },
     "execution_count": 54,
     "metadata": {},
     "output_type": "execute_result"
    }
   ],
   "source": [
    "np.argmax(prediction['predictions'][0])"
   ]
  },
  {
   "cell_type": "markdown",
   "id": "86c1fa44-4e98-4767-a355-ab8758de2bb4",
   "metadata": {},
   "source": [
    "#### Async Predictions\n",
    "\n",
    "Make the call for a prediction an [awaitable](https://docs.python.org/3/library/asyncio-task.html#awaitables) coroutine.\n",
    "\n",
    "[aiplatform.Endpoint.predict_async()](https://cloud.google.com/python/docs/reference/aiplatform/latest/google.cloud.aiplatform.Endpoint#google_cloud_aiplatform_Endpoint_predict_async)"
   ]
  },
  {
   "cell_type": "code",
   "execution_count": 55,
   "id": "73f301c7-ccf8-4e89-aeb3-861573b5d384",
   "metadata": {
    "tags": []
   },
   "outputs": [
    {
     "data": {
      "text/plain": [
       "Prediction(predictions=[[0.999759495, 0.000240550202]], deployed_model_id='2423682068408958976', metadata=None, model_version_id='18', model_resource_name='projects/1026793852137/locations/us-central1/models/model_05_05', explanations=None)"
      ]
     },
     "execution_count": 55,
     "metadata": {},
     "output_type": "execute_result"
    }
   ],
   "source": [
    "prediction = await endpoint.predict_async(instances = newobs[0:1])\n",
    "prediction"
   ]
  },
  {
   "cell_type": "code",
   "execution_count": 56,
   "id": "691fd3f4-5789-4bff-9835-1fa692710d0d",
   "metadata": {
    "tags": []
   },
   "outputs": [
    {
     "data": {
      "text/plain": [
       "[0.999759495, 0.000240550202]"
      ]
     },
     "execution_count": 56,
     "metadata": {},
     "output_type": "execute_result"
    }
   ],
   "source": [
    "prediction.predictions[0]"
   ]
  },
  {
   "cell_type": "code",
   "execution_count": 57,
   "id": "145a98a0-3a1b-4489-8ae1-34fe71d2b73d",
   "metadata": {
    "tags": []
   },
   "outputs": [
    {
     "data": {
      "text/plain": [
       "0"
      ]
     },
     "execution_count": 57,
     "metadata": {},
     "output_type": "execute_result"
    }
   ],
   "source": [
    "np.argmax(prediction.predictions[0])"
   ]
  },
  {
   "cell_type": "markdown",
   "id": "38f38fe9-240b-4fdd-98d6-1174d73107ef",
   "metadata": {},
   "source": [
    "---\n",
    "### Get Predictions: Python Client (gapic access to v1)\n",
    "\n",
    "This is functionally the same as the Python Client V1 section below.\n",
    "\n",
    "[aiplatform.gapic.PredictionServiceClient()](https://cloud.google.com/python/docs/reference/aiplatform/latest/google.cloud.aiplatform_v1.services.prediction_service.PredictionServiceClient)"
   ]
  },
  {
   "cell_type": "markdown",
   "id": "54e3e034-e1fc-49c7-9686-0721e779fdeb",
   "metadata": {},
   "source": [
    "#### Client"
   ]
  },
  {
   "cell_type": "code",
   "execution_count": 58,
   "id": "96ef7b63-6cd3-4d91-a0a0-9d0bcda00569",
   "metadata": {
    "tags": []
   },
   "outputs": [],
   "source": [
    "client_options = {\"api_endpoint\": f\"{REGION}-aiplatform.googleapis.com\"}"
   ]
  },
  {
   "cell_type": "code",
   "execution_count": 59,
   "id": "4bd3bf2d-ead1-422f-8cac-d4ad2d9ad750",
   "metadata": {
    "tags": []
   },
   "outputs": [],
   "source": [
    "predictor = aiplatform.gapic.PredictionServiceClient(client_options = client_options)"
   ]
  },
  {
   "cell_type": "markdown",
   "id": "657ac80a-bbd2-4bd0-b47d-d9b14273ca9d",
   "metadata": {},
   "source": [
    "#### Predictions"
   ]
  },
  {
   "cell_type": "code",
   "execution_count": 60,
   "id": "ed962334-5feb-4c64-ad78-193c9f829dbf",
   "metadata": {
    "tags": []
   },
   "outputs": [
    {
     "data": {
      "text/plain": [
       "predictions {\n",
       "  list_value {\n",
       "    values {\n",
       "      number_value: 0.999759495\n",
       "    }\n",
       "    values {\n",
       "      number_value: 0.000240550202\n",
       "    }\n",
       "  }\n",
       "}\n",
       "deployed_model_id: \"2423682068408958976\"\n",
       "model: \"projects/1026793852137/locations/us-central1/models/model_05_05\"\n",
       "model_version_id: \"18\"\n",
       "model_display_name: \"05_05\""
      ]
     },
     "execution_count": 60,
     "metadata": {},
     "output_type": "execute_result"
    }
   ],
   "source": [
    "prediction = predictor.predict(\n",
    "    endpoint = endpoint.resource_name,\n",
    "    instances = newobs[0:1]\n",
    ")\n",
    "prediction"
   ]
  },
  {
   "cell_type": "code",
   "execution_count": 61,
   "id": "1ef72398-66e6-4ea6-83a6-d75361b6a49f",
   "metadata": {
    "tags": []
   },
   "outputs": [
    {
     "data": {
      "text/plain": [
       "[0.999759495, 0.000240550202]"
      ]
     },
     "execution_count": 61,
     "metadata": {},
     "output_type": "execute_result"
    }
   ],
   "source": [
    "prediction.predictions[0]"
   ]
  },
  {
   "cell_type": "code",
   "execution_count": 62,
   "id": "9cf24ea4-65db-45e2-8b9f-822efd5085f4",
   "metadata": {
    "tags": []
   },
   "outputs": [
    {
     "data": {
      "text/plain": [
       "0"
      ]
     },
     "execution_count": 62,
     "metadata": {},
     "output_type": "execute_result"
    }
   ],
   "source": [
    "np.argmax(prediction.predictions[0])"
   ]
  },
  {
   "cell_type": "markdown",
   "id": "2b976e59-6d8e-43ac-9856-89592be90115",
   "metadata": {},
   "source": [
    "#### Raw Predictions"
   ]
  },
  {
   "cell_type": "code",
   "execution_count": 63,
   "id": "b4d65d86-a1c8-4ccf-9836-024fa5ef6379",
   "metadata": {
    "tags": []
   },
   "outputs": [],
   "source": [
    "instances = {\"instances\": newobs[0:1], \"signature_name\": \"serving_default\"}\n",
    "body = httpbody_pb2.HttpBody(\n",
    "    data = json.dumps(instances).encode(\"utf-8\"),\n",
    "    content_type = \"application/json\"\n",
    ")"
   ]
  },
  {
   "cell_type": "code",
   "execution_count": 64,
   "id": "5b028013-b53c-4c85-8130-6b23ddb75d5d",
   "metadata": {
    "tags": []
   },
   "outputs": [
    {
     "data": {
      "text/plain": [
       "content_type: \"application/json\"\n",
       "data: \"{\\n    \\\"predictions\\\": [[0.999759495, 0.000240550202]\\n    ]\\n}\""
      ]
     },
     "execution_count": 64,
     "metadata": {},
     "output_type": "execute_result"
    }
   ],
   "source": [
    "prediction = predictor.raw_predict(\n",
    "    endpoint = endpoint.resource_name,\n",
    "    http_body = body\n",
    ")\n",
    "prediction"
   ]
  },
  {
   "cell_type": "code",
   "execution_count": 65,
   "id": "f90e0886-2ebb-4ece-b549-8db103295b6e",
   "metadata": {
    "tags": []
   },
   "outputs": [
    {
     "data": {
      "text/plain": [
       "{'predictions': [[0.999759495, 0.000240550202]]}"
      ]
     },
     "execution_count": 65,
     "metadata": {},
     "output_type": "execute_result"
    }
   ],
   "source": [
    "prediction = json.loads(prediction.data)\n",
    "prediction"
   ]
  },
  {
   "cell_type": "code",
   "execution_count": 66,
   "id": "542d3958-a257-48fe-ba2e-28ad5c5d7e1a",
   "metadata": {
    "tags": []
   },
   "outputs": [
    {
     "data": {
      "text/plain": [
       "[0.999759495, 0.000240550202]"
      ]
     },
     "execution_count": 66,
     "metadata": {},
     "output_type": "execute_result"
    }
   ],
   "source": [
    "prediction['predictions'][0]"
   ]
  },
  {
   "cell_type": "code",
   "execution_count": 67,
   "id": "fd0d332b-b0cf-4b4f-8fcb-d37ed644e616",
   "metadata": {
    "tags": []
   },
   "outputs": [
    {
     "data": {
      "text/plain": [
       "0"
      ]
     },
     "execution_count": 67,
     "metadata": {},
     "output_type": "execute_result"
    }
   ],
   "source": [
    "np.argmax(prediction['predictions'][0])"
   ]
  },
  {
   "cell_type": "markdown",
   "id": "56a8fdad-641c-4778-865f-4fae0201b9a9",
   "metadata": {},
   "source": [
    "#### Async Predictions\n",
    "\n",
    "Make the call for a prediction an [awaitable](https://docs.python.org/3/library/asyncio-task.html#awaitables) coroutine.\n",
    "\n",
    "[aiplatform.gapic.PredictionServiceAsyncClient()](https://cloud.google.com/python/docs/reference/aiplatform/latest/google.cloud.aiplatform_v1.services.prediction_service.PredictionServiceAsyncClient#google_cloud_aiplatform_v1_services_prediction_service_PredictionServiceAsyncClient_predict)"
   ]
  },
  {
   "cell_type": "code",
   "execution_count": 68,
   "id": "03eebf9a-e417-4a9c-a1a4-7601a690c055",
   "metadata": {
    "tags": []
   },
   "outputs": [],
   "source": [
    "client_options = {\"api_endpoint\": f\"{REGION}-aiplatform.googleapis.com\"}"
   ]
  },
  {
   "cell_type": "code",
   "execution_count": 69,
   "id": "8ceda2ab-eb06-4ad1-ae60-11ea5fa71aed",
   "metadata": {
    "tags": []
   },
   "outputs": [],
   "source": [
    "async_predictor = aiplatform.gapic.PredictionServiceAsyncClient(client_options = client_options)"
   ]
  },
  {
   "cell_type": "code",
   "execution_count": 70,
   "id": "2a262316-13d5-4191-ad0b-8bcd7e6ea518",
   "metadata": {
    "tags": []
   },
   "outputs": [
    {
     "data": {
      "text/plain": [
       "predictions {\n",
       "  list_value {\n",
       "    values {\n",
       "      number_value: 0.999759495\n",
       "    }\n",
       "    values {\n",
       "      number_value: 0.000240550202\n",
       "    }\n",
       "  }\n",
       "}\n",
       "deployed_model_id: \"2423682068408958976\"\n",
       "model: \"projects/1026793852137/locations/us-central1/models/model_05_05\"\n",
       "model_version_id: \"18\"\n",
       "model_display_name: \"05_05\""
      ]
     },
     "execution_count": 70,
     "metadata": {},
     "output_type": "execute_result"
    }
   ],
   "source": [
    "prediction = await async_predictor.predict(\n",
    "    endpoint = endpoint.resource_name,\n",
    "    instances = newobs[0:1]\n",
    ")\n",
    "prediction"
   ]
  },
  {
   "cell_type": "code",
   "execution_count": 71,
   "id": "b2c208cc-7570-4570-9620-a32e5d4b5a1b",
   "metadata": {
    "tags": []
   },
   "outputs": [
    {
     "data": {
      "text/plain": [
       "[0.999759495, 0.000240550202]"
      ]
     },
     "execution_count": 71,
     "metadata": {},
     "output_type": "execute_result"
    }
   ],
   "source": [
    "prediction.predictions[0]"
   ]
  },
  {
   "cell_type": "code",
   "execution_count": 72,
   "id": "8a211838-4c88-4a7d-85fa-fb89415923dd",
   "metadata": {
    "tags": []
   },
   "outputs": [
    {
     "data": {
      "text/plain": [
       "0"
      ]
     },
     "execution_count": 72,
     "metadata": {},
     "output_type": "execute_result"
    }
   ],
   "source": [
    "np.argmax(prediction.predictions[0])"
   ]
  },
  {
   "cell_type": "markdown",
   "id": "8e79e733-f398-47b2-a799-69dcf8cf6c89",
   "metadata": {},
   "source": [
    "#### Async Raw Predictions\n",
    "\n",
    "Make the call for a raw prediction an [awaitable](https://docs.python.org/3/library/asyncio-task.html#awaitables) coroutine.\n",
    "\n",
    "[aiplatform.gapic.PredictionServiceAsyncClient()](https://cloud.google.com/python/docs/reference/aiplatform/latest/google.cloud.aiplatform_v1.services.prediction_service.PredictionServiceAsyncClient#google_cloud_aiplatform_v1_services_prediction_service_PredictionServiceAsyncClient_predict)"
   ]
  },
  {
   "cell_type": "code",
   "execution_count": 73,
   "id": "4dd7d19d-1693-4401-87b8-13903106f9d7",
   "metadata": {
    "tags": []
   },
   "outputs": [],
   "source": [
    "client_options = {\"api_endpoint\": f\"{REGION}-aiplatform.googleapis.com\"}"
   ]
  },
  {
   "cell_type": "code",
   "execution_count": 74,
   "id": "bc917edd-fd9e-4e0c-93e7-bb4a0c42295f",
   "metadata": {
    "tags": []
   },
   "outputs": [],
   "source": [
    "async_predictor = aiplatform.gapic.PredictionServiceAsyncClient(client_options = client_options)"
   ]
  },
  {
   "cell_type": "code",
   "execution_count": 75,
   "id": "ca5441a9-b1a3-49c4-9c78-b9f098645a66",
   "metadata": {
    "tags": []
   },
   "outputs": [],
   "source": [
    "instances = {\"instances\": newobs[0:1], \"signature_name\": \"serving_default\"}\n",
    "body = httpbody_pb2.HttpBody(\n",
    "    data = json.dumps(instances).encode(\"utf-8\"),\n",
    "    content_type = \"application/json\"\n",
    ")"
   ]
  },
  {
   "cell_type": "code",
   "execution_count": 76,
   "id": "736e3ab5-d25a-42ce-a24a-98899d8fa182",
   "metadata": {
    "tags": []
   },
   "outputs": [
    {
     "data": {
      "text/plain": [
       "content_type: \"application/json\"\n",
       "data: \"{\\n    \\\"predictions\\\": [[0.999759495, 0.000240550202]\\n    ]\\n}\""
      ]
     },
     "execution_count": 76,
     "metadata": {},
     "output_type": "execute_result"
    }
   ],
   "source": [
    "prediction = await async_predictor.raw_predict(\n",
    "    endpoint = endpoint.resource_name,\n",
    "    http_body = body\n",
    ")\n",
    "prediction"
   ]
  },
  {
   "cell_type": "code",
   "execution_count": 77,
   "id": "8ec6d9e6-7060-4416-96d8-c58587dfdf7e",
   "metadata": {
    "tags": []
   },
   "outputs": [
    {
     "data": {
      "text/plain": [
       "{'predictions': [[0.999759495, 0.000240550202]]}"
      ]
     },
     "execution_count": 77,
     "metadata": {},
     "output_type": "execute_result"
    }
   ],
   "source": [
    "prediction = json.loads(prediction.data)\n",
    "prediction"
   ]
  },
  {
   "cell_type": "code",
   "execution_count": 78,
   "id": "a61bbbd9-3c56-4498-a325-c91836f0b20e",
   "metadata": {
    "tags": []
   },
   "outputs": [
    {
     "data": {
      "text/plain": [
       "[0.999759495, 0.000240550202]"
      ]
     },
     "execution_count": 78,
     "metadata": {},
     "output_type": "execute_result"
    }
   ],
   "source": [
    "prediction['predictions'][0]"
   ]
  },
  {
   "cell_type": "code",
   "execution_count": 79,
   "id": "d4d9e98f-37e8-457a-b8bc-ed10a3df6dee",
   "metadata": {
    "tags": []
   },
   "outputs": [
    {
     "data": {
      "text/plain": [
       "0"
      ]
     },
     "execution_count": 79,
     "metadata": {},
     "output_type": "execute_result"
    }
   ],
   "source": [
    "np.argmax(prediction['predictions'][0])"
   ]
  },
  {
   "cell_type": "markdown",
   "id": "fb1c294b-8c3b-4090-b0b2-5b594cf0cc78",
   "metadata": {},
   "source": [
    "---\n",
    "### Get Predictions: Python Client V1\n",
    "\n",
    "This is functionally the same as the Python Client gapic section above.\n",
    "\n",
    "[aiplatform_v1.PredictionServiceClient()](https://cloud.google.com/python/docs/reference/aiplatform/latest/google.cloud.aiplatform_v1.services.prediction_service.PredictionServiceClient)"
   ]
  },
  {
   "cell_type": "markdown",
   "id": "6a4e4934-d42d-4294-ba3f-55be81e421d6",
   "metadata": {},
   "source": [
    "#### Client"
   ]
  },
  {
   "cell_type": "code",
   "execution_count": 80,
   "id": "8ef4179a-2402-4a0c-9a9b-28e61fdaa71d",
   "metadata": {
    "tags": []
   },
   "outputs": [],
   "source": [
    "from google.cloud import aiplatform_v1"
   ]
  },
  {
   "cell_type": "code",
   "execution_count": 81,
   "id": "f6048ce4-9ebe-4ecc-a0d2-a468e5af72e3",
   "metadata": {
    "tags": []
   },
   "outputs": [],
   "source": [
    "client_options = {\"api_endpoint\": f\"{REGION}-aiplatform.googleapis.com\"}"
   ]
  },
  {
   "cell_type": "code",
   "execution_count": 82,
   "id": "87ad73a2-e420-442c-8711-a105a179d091",
   "metadata": {
    "tags": []
   },
   "outputs": [],
   "source": [
    "predictor = aiplatform_v1.PredictionServiceClient(client_options = client_options)"
   ]
  },
  {
   "cell_type": "markdown",
   "id": "d5c619fd-4ff8-48c8-947c-9d7f44dd54cc",
   "metadata": {},
   "source": [
    "#### Predictions"
   ]
  },
  {
   "cell_type": "code",
   "execution_count": 83,
   "id": "27cc62dc-8956-414a-a7ee-c92b44172ab0",
   "metadata": {
    "tags": []
   },
   "outputs": [
    {
     "data": {
      "text/plain": [
       "predictions {\n",
       "  list_value {\n",
       "    values {\n",
       "      number_value: 0.999759495\n",
       "    }\n",
       "    values {\n",
       "      number_value: 0.000240550202\n",
       "    }\n",
       "  }\n",
       "}\n",
       "deployed_model_id: \"2423682068408958976\"\n",
       "model: \"projects/1026793852137/locations/us-central1/models/model_05_05\"\n",
       "model_version_id: \"18\"\n",
       "model_display_name: \"05_05\""
      ]
     },
     "execution_count": 83,
     "metadata": {},
     "output_type": "execute_result"
    }
   ],
   "source": [
    "prediction = predictor.predict(\n",
    "    endpoint = endpoint.resource_name,\n",
    "    instances = newobs[0:1]\n",
    ")\n",
    "prediction"
   ]
  },
  {
   "cell_type": "code",
   "execution_count": 84,
   "id": "32e81591-57bd-41c0-bcf6-59590ada02aa",
   "metadata": {
    "tags": []
   },
   "outputs": [
    {
     "data": {
      "text/plain": [
       "[0.999759495, 0.000240550202]"
      ]
     },
     "execution_count": 84,
     "metadata": {},
     "output_type": "execute_result"
    }
   ],
   "source": [
    "prediction.predictions[0]"
   ]
  },
  {
   "cell_type": "code",
   "execution_count": 85,
   "id": "cf9c916a-ee9d-401f-a461-e10c74c3e45f",
   "metadata": {
    "tags": []
   },
   "outputs": [
    {
     "data": {
      "text/plain": [
       "0"
      ]
     },
     "execution_count": 85,
     "metadata": {},
     "output_type": "execute_result"
    }
   ],
   "source": [
    "np.argmax(prediction.predictions[0])"
   ]
  },
  {
   "cell_type": "markdown",
   "id": "2dd38c88-2d57-45fa-8953-d89c446c37f4",
   "metadata": {},
   "source": [
    "#### Raw Predictions"
   ]
  },
  {
   "cell_type": "code",
   "execution_count": 86,
   "id": "2889a070-50c8-4593-9d1f-5bb0267989b3",
   "metadata": {
    "tags": []
   },
   "outputs": [],
   "source": [
    "instances = {\"instances\": newobs[0:1], \"signature_name\": \"serving_default\"}\n",
    "body = httpbody_pb2.HttpBody(\n",
    "    data = json.dumps(instances).encode(\"utf-8\"),\n",
    "    content_type = \"application/json\"\n",
    ")"
   ]
  },
  {
   "cell_type": "code",
   "execution_count": 87,
   "id": "3f42182c-8e70-4b0b-acc8-72595593113b",
   "metadata": {
    "tags": []
   },
   "outputs": [
    {
     "data": {
      "text/plain": [
       "content_type: \"application/json\"\n",
       "data: \"{\\n    \\\"predictions\\\": [[0.999759495, 0.000240550202]\\n    ]\\n}\""
      ]
     },
     "execution_count": 87,
     "metadata": {},
     "output_type": "execute_result"
    }
   ],
   "source": [
    "prediction = predictor.raw_predict(\n",
    "    endpoint = endpoint.resource_name,\n",
    "    http_body = body\n",
    ")\n",
    "prediction"
   ]
  },
  {
   "cell_type": "code",
   "execution_count": 88,
   "id": "0db7030e-9fee-4704-830f-2b9961ba8a30",
   "metadata": {
    "tags": []
   },
   "outputs": [
    {
     "data": {
      "text/plain": [
       "{'predictions': [[0.999759495, 0.000240550202]]}"
      ]
     },
     "execution_count": 88,
     "metadata": {},
     "output_type": "execute_result"
    }
   ],
   "source": [
    "prediction = json.loads(prediction.data)\n",
    "prediction"
   ]
  },
  {
   "cell_type": "code",
   "execution_count": 89,
   "id": "332ebe8a-f1a8-4404-a003-e3e1166588ce",
   "metadata": {
    "tags": []
   },
   "outputs": [
    {
     "data": {
      "text/plain": [
       "[0.999759495, 0.000240550202]"
      ]
     },
     "execution_count": 89,
     "metadata": {},
     "output_type": "execute_result"
    }
   ],
   "source": [
    "prediction['predictions'][0]"
   ]
  },
  {
   "cell_type": "code",
   "execution_count": 90,
   "id": "76e9109b-b71d-4b6e-bb9c-19e773dc5e4e",
   "metadata": {
    "tags": []
   },
   "outputs": [
    {
     "data": {
      "text/plain": [
       "0"
      ]
     },
     "execution_count": 90,
     "metadata": {},
     "output_type": "execute_result"
    }
   ],
   "source": [
    "np.argmax(prediction['predictions'][0])"
   ]
  },
  {
   "cell_type": "markdown",
   "id": "2c496987-7232-4569-87d7-b872f92902e6",
   "metadata": {},
   "source": [
    "#### Async Predictions\n",
    "\n",
    "Make the call for a prediction an [awaitable](https://docs.python.org/3/library/asyncio-task.html#awaitables) coroutine.\n",
    "\n",
    "[aiplatform_v1.PredictionServiceAsyncClient()](https://cloud.google.com/python/docs/reference/aiplatform/latest/google.cloud.aiplatform_v1.services.prediction_service.PredictionServiceAsyncClient)"
   ]
  },
  {
   "cell_type": "code",
   "execution_count": 91,
   "id": "2c2c1c11-1a29-4644-badf-7747969cb905",
   "metadata": {
    "tags": []
   },
   "outputs": [],
   "source": [
    "client_options = {\"api_endpoint\": f\"{REGION}-aiplatform.googleapis.com\"}"
   ]
  },
  {
   "cell_type": "code",
   "execution_count": 92,
   "id": "7f3cc062-cd3c-4783-acab-48eb7bddd369",
   "metadata": {
    "tags": []
   },
   "outputs": [],
   "source": [
    "async_predictor = aiplatform_v1.PredictionServiceAsyncClient(client_options = client_options)"
   ]
  },
  {
   "cell_type": "code",
   "execution_count": 93,
   "id": "2cb1e027-d248-46d5-912f-0807f7a7f10c",
   "metadata": {
    "tags": []
   },
   "outputs": [
    {
     "data": {
      "text/plain": [
       "predictions {\n",
       "  list_value {\n",
       "    values {\n",
       "      number_value: 0.999759495\n",
       "    }\n",
       "    values {\n",
       "      number_value: 0.000240550202\n",
       "    }\n",
       "  }\n",
       "}\n",
       "deployed_model_id: \"2423682068408958976\"\n",
       "model: \"projects/1026793852137/locations/us-central1/models/model_05_05\"\n",
       "model_version_id: \"18\"\n",
       "model_display_name: \"05_05\""
      ]
     },
     "execution_count": 93,
     "metadata": {},
     "output_type": "execute_result"
    }
   ],
   "source": [
    "prediction = await async_predictor.predict(\n",
    "    endpoint = endpoint.resource_name,\n",
    "    instances = newobs[0:1]\n",
    ")\n",
    "prediction"
   ]
  },
  {
   "cell_type": "code",
   "execution_count": 94,
   "id": "5db5fa3a-ec36-451e-b38d-eb8850db4380",
   "metadata": {
    "tags": []
   },
   "outputs": [
    {
     "data": {
      "text/plain": [
       "[0.999759495, 0.000240550202]"
      ]
     },
     "execution_count": 94,
     "metadata": {},
     "output_type": "execute_result"
    }
   ],
   "source": [
    "prediction.predictions[0]"
   ]
  },
  {
   "cell_type": "code",
   "execution_count": 95,
   "id": "b23b1c8c-b246-403a-b91a-5ab16d1d57aa",
   "metadata": {
    "tags": []
   },
   "outputs": [
    {
     "data": {
      "text/plain": [
       "0"
      ]
     },
     "execution_count": 95,
     "metadata": {},
     "output_type": "execute_result"
    }
   ],
   "source": [
    "np.argmax(prediction.predictions[0])"
   ]
  },
  {
   "cell_type": "markdown",
   "id": "8486e676-0ffc-44a7-a43b-3a18fc710ee5",
   "metadata": {},
   "source": [
    "#### Async Raw Predictions\n",
    "\n",
    "Make the call for a raw prediction an [awaitable](https://docs.python.org/3/library/asyncio-task.html#awaitables) coroutine.\n",
    "\n",
    "[aiplatform_v1.PredictionServiceAsyncClient()](https://cloud.google.com/python/docs/reference/aiplatform/latest/google.cloud.aiplatform_v1.services.prediction_service.PredictionServiceAsyncClient#google_cloud_aiplatform_v1_services_prediction_service_PredictionServiceAsyncClient_predict)"
   ]
  },
  {
   "cell_type": "code",
   "execution_count": 96,
   "id": "6101494c-40ce-44e7-9d9a-75dd212aef57",
   "metadata": {
    "tags": []
   },
   "outputs": [],
   "source": [
    "client_options = {\"api_endpoint\": f\"{REGION}-aiplatform.googleapis.com\"}"
   ]
  },
  {
   "cell_type": "code",
   "execution_count": 97,
   "id": "eaf4ba54-04ba-4e90-8bce-088c2e2cb3b3",
   "metadata": {
    "tags": []
   },
   "outputs": [],
   "source": [
    "async_predictor = aiplatform_v1.PredictionServiceAsyncClient(client_options = client_options)"
   ]
  },
  {
   "cell_type": "code",
   "execution_count": 98,
   "id": "f0a2b992-3d2d-47e9-acbe-1f80416160fc",
   "metadata": {
    "tags": []
   },
   "outputs": [],
   "source": [
    "instances = {\"instances\": newobs[0:1], \"signature_name\": \"serving_default\"}\n",
    "body = httpbody_pb2.HttpBody(\n",
    "    data = json.dumps(instances).encode(\"utf-8\"),\n",
    "    content_type = \"application/json\"\n",
    ")"
   ]
  },
  {
   "cell_type": "code",
   "execution_count": 99,
   "id": "83f8bd49-b6c7-4281-946b-53fbf076e313",
   "metadata": {
    "tags": []
   },
   "outputs": [
    {
     "data": {
      "text/plain": [
       "content_type: \"application/json\"\n",
       "data: \"{\\n    \\\"predictions\\\": [[0.999759495, 0.000240550202]\\n    ]\\n}\""
      ]
     },
     "execution_count": 99,
     "metadata": {},
     "output_type": "execute_result"
    }
   ],
   "source": [
    "prediction = await async_predictor.raw_predict(\n",
    "    endpoint = endpoint.resource_name,\n",
    "    http_body = body\n",
    ")\n",
    "prediction"
   ]
  },
  {
   "cell_type": "code",
   "execution_count": 100,
   "id": "b543c85a-68f8-4c1f-9a5f-38f10c1bb8f9",
   "metadata": {
    "tags": []
   },
   "outputs": [
    {
     "data": {
      "text/plain": [
       "{'predictions': [[0.999759495, 0.000240550202]]}"
      ]
     },
     "execution_count": 100,
     "metadata": {},
     "output_type": "execute_result"
    }
   ],
   "source": [
    "prediction = json.loads(prediction.data)\n",
    "prediction"
   ]
  },
  {
   "cell_type": "code",
   "execution_count": 101,
   "id": "443faf2a-5984-48c7-b4dc-3899d1207027",
   "metadata": {
    "tags": []
   },
   "outputs": [
    {
     "data": {
      "text/plain": [
       "[0.999759495, 0.000240550202]"
      ]
     },
     "execution_count": 101,
     "metadata": {},
     "output_type": "execute_result"
    }
   ],
   "source": [
    "prediction['predictions'][0]"
   ]
  },
  {
   "cell_type": "code",
   "execution_count": 102,
   "id": "dc725e51-360b-4f34-9779-a247a08a7f51",
   "metadata": {
    "tags": []
   },
   "outputs": [
    {
     "data": {
      "text/plain": [
       "0"
      ]
     },
     "execution_count": 102,
     "metadata": {},
     "output_type": "execute_result"
    }
   ],
   "source": [
    "np.argmax(prediction['predictions'][0])"
   ]
  },
  {
   "cell_type": "markdown",
   "id": "a22eb529-cce7-443c-a7f2-d4636bbe6d49",
   "metadata": {},
   "source": [
    "---\n",
    "### Get Predictions: Python Client V1 beta 1\n",
    "\n",
    "[aiplatform_v1beta1.PredictionServiceClient()](https://cloud.google.com/python/docs/reference/aiplatform/latest/google.cloud.aiplatform_v1beta1.services.prediction_service.PredictionServiceClient)"
   ]
  },
  {
   "cell_type": "markdown",
   "id": "26044e4b-274a-4938-adad-26f8ca6d72a9",
   "metadata": {},
   "source": [
    "#### Client"
   ]
  },
  {
   "cell_type": "code",
   "execution_count": 103,
   "id": "234a727e-ff7e-498a-b626-8938b11eab77",
   "metadata": {
    "tags": []
   },
   "outputs": [],
   "source": [
    "from google.cloud import aiplatform_v1beta1"
   ]
  },
  {
   "cell_type": "code",
   "execution_count": 104,
   "id": "8304bac2-1c5c-4a5a-80ce-4e36c977e3d4",
   "metadata": {
    "tags": []
   },
   "outputs": [],
   "source": [
    "client_options = {\"api_endpoint\": f\"{REGION}-aiplatform.googleapis.com\"}"
   ]
  },
  {
   "cell_type": "code",
   "execution_count": 105,
   "id": "9b4785ab-abb7-454f-80d2-ee213774b595",
   "metadata": {
    "tags": []
   },
   "outputs": [],
   "source": [
    "predictor = aiplatform_v1beta1.PredictionServiceClient(client_options = client_options)"
   ]
  },
  {
   "cell_type": "markdown",
   "id": "1d290da7-1b2a-4a77-afee-f82952ac5d3b",
   "metadata": {},
   "source": [
    "#### Predictions"
   ]
  },
  {
   "cell_type": "code",
   "execution_count": 106,
   "id": "99e72ac2-366a-4b98-a275-e6c37821b264",
   "metadata": {
    "tags": []
   },
   "outputs": [
    {
     "data": {
      "text/plain": [
       "predictions {\n",
       "  list_value {\n",
       "    values {\n",
       "      number_value: 0.999759495\n",
       "    }\n",
       "    values {\n",
       "      number_value: 0.000240550202\n",
       "    }\n",
       "  }\n",
       "}\n",
       "deployed_model_id: \"2423682068408958976\"\n",
       "model: \"projects/1026793852137/locations/us-central1/models/model_05_05\"\n",
       "model_version_id: \"18\"\n",
       "model_display_name: \"05_05\""
      ]
     },
     "execution_count": 106,
     "metadata": {},
     "output_type": "execute_result"
    }
   ],
   "source": [
    "prediction = predictor.predict(\n",
    "    endpoint = endpoint.resource_name,\n",
    "    instances = newobs[0:1]\n",
    ")\n",
    "prediction"
   ]
  },
  {
   "cell_type": "code",
   "execution_count": 107,
   "id": "ab29ca95-88d5-4810-912f-aa4b98b7b721",
   "metadata": {
    "tags": []
   },
   "outputs": [
    {
     "data": {
      "text/plain": [
       "[0.999759495, 0.000240550202]"
      ]
     },
     "execution_count": 107,
     "metadata": {},
     "output_type": "execute_result"
    }
   ],
   "source": [
    "prediction.predictions[0]"
   ]
  },
  {
   "cell_type": "code",
   "execution_count": 108,
   "id": "91f20b5a-a7a3-4c99-a024-5c9994f3844d",
   "metadata": {
    "tags": []
   },
   "outputs": [
    {
     "data": {
      "text/plain": [
       "0"
      ]
     },
     "execution_count": 108,
     "metadata": {},
     "output_type": "execute_result"
    }
   ],
   "source": [
    "np.argmax(prediction.predictions[0])"
   ]
  },
  {
   "cell_type": "markdown",
   "id": "04066d5d-a754-46bc-8e89-b82f867ee180",
   "metadata": {},
   "source": [
    "#### Raw Predictions"
   ]
  },
  {
   "cell_type": "code",
   "execution_count": 109,
   "id": "dc5e25df-b4b7-4584-b309-49de0bbf24a9",
   "metadata": {
    "tags": []
   },
   "outputs": [],
   "source": [
    "instances = {\"instances\": newobs[0:1], \"signature_name\": \"serving_default\"}\n",
    "body = httpbody_pb2.HttpBody(\n",
    "    data = json.dumps(instances).encode(\"utf-8\"),\n",
    "    content_type = \"application/json\"\n",
    ")"
   ]
  },
  {
   "cell_type": "code",
   "execution_count": 110,
   "id": "e503e2b5-073a-4122-93fa-82a54b6cecf2",
   "metadata": {
    "tags": []
   },
   "outputs": [
    {
     "data": {
      "text/plain": [
       "content_type: \"application/json\"\n",
       "data: \"{\\n    \\\"predictions\\\": [[0.999759495, 0.000240550202]\\n    ]\\n}\""
      ]
     },
     "execution_count": 110,
     "metadata": {},
     "output_type": "execute_result"
    }
   ],
   "source": [
    "prediction = predictor.raw_predict(\n",
    "    endpoint = endpoint.resource_name,\n",
    "    http_body = body\n",
    ")\n",
    "prediction"
   ]
  },
  {
   "cell_type": "code",
   "execution_count": 111,
   "id": "57ff39ad-8893-486c-855e-dea82e0fce8d",
   "metadata": {
    "tags": []
   },
   "outputs": [
    {
     "data": {
      "text/plain": [
       "{'predictions': [[0.999759495, 0.000240550202]]}"
      ]
     },
     "execution_count": 111,
     "metadata": {},
     "output_type": "execute_result"
    }
   ],
   "source": [
    "prediction = json.loads(prediction.data)\n",
    "prediction"
   ]
  },
  {
   "cell_type": "code",
   "execution_count": 112,
   "id": "f3010348-d458-4d38-a21d-89c7c95e97a8",
   "metadata": {
    "tags": []
   },
   "outputs": [
    {
     "data": {
      "text/plain": [
       "[0.999759495, 0.000240550202]"
      ]
     },
     "execution_count": 112,
     "metadata": {},
     "output_type": "execute_result"
    }
   ],
   "source": [
    "prediction['predictions'][0]"
   ]
  },
  {
   "cell_type": "code",
   "execution_count": 113,
   "id": "139414cc-c57b-411f-9454-465ebe577de5",
   "metadata": {
    "tags": []
   },
   "outputs": [
    {
     "data": {
      "text/plain": [
       "0"
      ]
     },
     "execution_count": 113,
     "metadata": {},
     "output_type": "execute_result"
    }
   ],
   "source": [
    "np.argmax(prediction['predictions'][0])"
   ]
  },
  {
   "cell_type": "markdown",
   "id": "f66a0ccd-3be2-476b-8917-9081b94c4d6d",
   "metadata": {},
   "source": [
    "#### Async Predictions\n",
    "\n",
    "Make the call for a prediction an [awaitable](https://docs.python.org/3/library/asyncio-task.html#awaitables) coroutine.\n",
    "\n",
    "[aiplatform_v1beta1.PredictionServiceAsyncClient()](https://cloud.google.com/python/docs/reference/aiplatform/latest/google.cloud.aiplatform_v1beta1.services.prediction_service.PredictionServiceAsyncClient)"
   ]
  },
  {
   "cell_type": "code",
   "execution_count": 114,
   "id": "8a7b79b1-d2e0-4eb2-8041-41060428045d",
   "metadata": {
    "tags": []
   },
   "outputs": [],
   "source": [
    "client_options = {\"api_endpoint\": f\"{REGION}-aiplatform.googleapis.com\"}"
   ]
  },
  {
   "cell_type": "code",
   "execution_count": 115,
   "id": "68869209-c70f-4b7e-a387-58e1cbbfbeb2",
   "metadata": {
    "tags": []
   },
   "outputs": [],
   "source": [
    "async_predictor = aiplatform_v1beta1.PredictionServiceAsyncClient(client_options = client_options)"
   ]
  },
  {
   "cell_type": "code",
   "execution_count": 116,
   "id": "a8c7d35a-629d-4f09-802f-2f9602c0dcf7",
   "metadata": {
    "tags": []
   },
   "outputs": [
    {
     "data": {
      "text/plain": [
       "predictions {\n",
       "  list_value {\n",
       "    values {\n",
       "      number_value: 0.999759495\n",
       "    }\n",
       "    values {\n",
       "      number_value: 0.000240550202\n",
       "    }\n",
       "  }\n",
       "}\n",
       "deployed_model_id: \"2423682068408958976\"\n",
       "model: \"projects/1026793852137/locations/us-central1/models/model_05_05\"\n",
       "model_version_id: \"18\"\n",
       "model_display_name: \"05_05\""
      ]
     },
     "execution_count": 116,
     "metadata": {},
     "output_type": "execute_result"
    }
   ],
   "source": [
    "prediction = await async_predictor.predict(\n",
    "    endpoint = endpoint.resource_name,\n",
    "    instances = newobs[0:1]\n",
    ")\n",
    "prediction"
   ]
  },
  {
   "cell_type": "code",
   "execution_count": 117,
   "id": "1b886803-6ded-4ed6-982d-94f9d79a2729",
   "metadata": {
    "tags": []
   },
   "outputs": [
    {
     "data": {
      "text/plain": [
       "[0.999759495, 0.000240550202]"
      ]
     },
     "execution_count": 117,
     "metadata": {},
     "output_type": "execute_result"
    }
   ],
   "source": [
    "prediction.predictions[0]"
   ]
  },
  {
   "cell_type": "code",
   "execution_count": 118,
   "id": "345fbf77-1d1c-4fa9-be18-b87b83f393c0",
   "metadata": {
    "tags": []
   },
   "outputs": [
    {
     "data": {
      "text/plain": [
       "0"
      ]
     },
     "execution_count": 118,
     "metadata": {},
     "output_type": "execute_result"
    }
   ],
   "source": [
    "np.argmax(prediction.predictions[0])"
   ]
  },
  {
   "cell_type": "markdown",
   "id": "02004538-7785-4baa-bd56-88833cbaedbe",
   "metadata": {},
   "source": [
    "#### Async Raw Predictions\n",
    "\n",
    "Make the call for a raw prediction an [awaitable](https://docs.python.org/3/library/asyncio-task.html#awaitables) coroutine.\n",
    "\n",
    "[aiplatform_v1beta1.PredictionServiceAsyncClient()](https://cloud.google.com/python/docs/reference/aiplatform/latest/google.cloud.aiplatform_v1beta1.services.prediction_service.PredictionServiceAsyncClient)"
   ]
  },
  {
   "cell_type": "code",
   "execution_count": 119,
   "id": "d4b7d98e-dd9f-48bb-9861-53acc38cf38c",
   "metadata": {
    "tags": []
   },
   "outputs": [],
   "source": [
    "client_options = {\"api_endpoint\": f\"{REGION}-aiplatform.googleapis.com\"}"
   ]
  },
  {
   "cell_type": "code",
   "execution_count": 120,
   "id": "00e976f1-38a4-4680-bc4b-8f7f80f13922",
   "metadata": {
    "tags": []
   },
   "outputs": [],
   "source": [
    "async_predictor = aiplatform_v1beta1.PredictionServiceAsyncClient(client_options = client_options)"
   ]
  },
  {
   "cell_type": "code",
   "execution_count": 121,
   "id": "feb3b01e-c093-4d46-a77a-4072669a2297",
   "metadata": {
    "tags": []
   },
   "outputs": [],
   "source": [
    "instances = {\"instances\": newobs[0:1], \"signature_name\": \"serving_default\"}\n",
    "body = httpbody_pb2.HttpBody(\n",
    "    data = json.dumps(instances).encode(\"utf-8\"),\n",
    "    content_type = \"application/json\"\n",
    ")"
   ]
  },
  {
   "cell_type": "code",
   "execution_count": 122,
   "id": "c7d5fb99-48d4-41a8-b5e0-ef936448cbb0",
   "metadata": {
    "tags": []
   },
   "outputs": [
    {
     "data": {
      "text/plain": [
       "content_type: \"application/json\"\n",
       "data: \"{\\n    \\\"predictions\\\": [[0.999759495, 0.000240550202]\\n    ]\\n}\""
      ]
     },
     "execution_count": 122,
     "metadata": {},
     "output_type": "execute_result"
    }
   ],
   "source": [
    "prediction = await async_predictor.raw_predict(\n",
    "    endpoint = endpoint.resource_name,\n",
    "    http_body = body\n",
    ")\n",
    "prediction"
   ]
  },
  {
   "cell_type": "code",
   "execution_count": 123,
   "id": "e5273a2d-8a41-45fb-8587-0db3b0c123e7",
   "metadata": {
    "tags": []
   },
   "outputs": [
    {
     "data": {
      "text/plain": [
       "{'predictions': [[0.999759495, 0.000240550202]]}"
      ]
     },
     "execution_count": 123,
     "metadata": {},
     "output_type": "execute_result"
    }
   ],
   "source": [
    "prediction = json.loads(prediction.data)\n",
    "prediction"
   ]
  },
  {
   "cell_type": "code",
   "execution_count": 124,
   "id": "f7bb6772-ba2b-4a08-b101-82bb5318d5be",
   "metadata": {
    "tags": []
   },
   "outputs": [
    {
     "data": {
      "text/plain": [
       "[0.999759495, 0.000240550202]"
      ]
     },
     "execution_count": 124,
     "metadata": {},
     "output_type": "execute_result"
    }
   ],
   "source": [
    "prediction['predictions'][0]"
   ]
  },
  {
   "cell_type": "code",
   "execution_count": 125,
   "id": "5cf834c1-ff81-4c43-8f5d-99d29e4234ad",
   "metadata": {
    "tags": []
   },
   "outputs": [
    {
     "data": {
      "text/plain": [
       "0"
      ]
     },
     "execution_count": 125,
     "metadata": {},
     "output_type": "execute_result"
    }
   ],
   "source": [
    "np.argmax(prediction['predictions'][0])"
   ]
  },
  {
   "cell_type": "markdown",
   "id": "950e4592-d06a-4aa7-a27a-fd80966d132c",
   "metadata": {},
   "source": [
    "---\n",
    "### Get Prediction: REST\n",
    "\n",
    "REST Resource [v1.projects.locations.endpoints](https://cloud.google.com/vertex-ai/docs/reference/rest#rest-resource:-v1.projects.locations.endpoints)"
   ]
  },
  {
   "cell_type": "markdown",
   "id": "0f3659b4-84fe-484f-bb6d-1450f9e62a86",
   "metadata": {},
   "source": [
    "#### Method 1: Command Line CURL"
   ]
  },
  {
   "cell_type": "code",
   "execution_count": 126,
   "id": "8c504fcf-b6c1-4dfc-aa7c-d5a6ce9d118d",
   "metadata": {
    "tags": []
   },
   "outputs": [],
   "source": [
    "with open(f'{DIR}/request.json','w') as file:\n",
    "    file.write(json.dumps({\"instances\": newobs[0:1]}))"
   ]
  },
  {
   "cell_type": "code",
   "execution_count": 127,
   "id": "67922a11-a326-4b86-9562-75796b4c4e2b",
   "metadata": {
    "tags": []
   },
   "outputs": [
    {
     "data": {
      "text/plain": [
       "{'predictions': [[0.999759495, 0.000240550202]],\n",
       " 'deployedModelId': '2423682068408958976',\n",
       " 'model': 'projects/1026793852137/locations/us-central1/models/model_05_05',\n",
       " 'modelDisplayName': '05_05',\n",
       " 'modelVersionId': '18'}"
      ]
     },
     "execution_count": 127,
     "metadata": {},
     "output_type": "execute_result"
    }
   ],
   "source": [
    "prediction = !curl -s POST \\\n",
    "-H \"Authorization: Bearer \"$(gcloud auth application-default print-access-token) \\\n",
    "-H \"Content-Type: application/json; charset=utf-8\" \\\n",
    "-d @{DIR}/request.json \\\n",
    "https://{REGION}-aiplatform.googleapis.com/v1/{endpoint.resource_name}:predict\n",
    "\n",
    "prediction = json.loads(''.join([p.strip() for p in prediction]))\n",
    "prediction"
   ]
  },
  {
   "cell_type": "code",
   "execution_count": 128,
   "id": "726455d9-1672-45ee-9aa7-49906eb01d5c",
   "metadata": {
    "tags": []
   },
   "outputs": [
    {
     "data": {
      "text/plain": [
       "[0.999759495, 0.000240550202]"
      ]
     },
     "execution_count": 128,
     "metadata": {},
     "output_type": "execute_result"
    }
   ],
   "source": [
    "prediction['predictions'][0]"
   ]
  },
  {
   "cell_type": "code",
   "execution_count": 129,
   "id": "a65b2950-ff0b-4b0e-bca1-8cd12de3ecb0",
   "metadata": {
    "tags": []
   },
   "outputs": [
    {
     "data": {
      "text/plain": [
       "0"
      ]
     },
     "execution_count": 129,
     "metadata": {},
     "output_type": "execute_result"
    }
   ],
   "source": [
    "np.argmax(prediction['predictions'][0])"
   ]
  },
  {
   "cell_type": "markdown",
   "id": "cfb74502-a39e-4b7d-b910-427299927866",
   "metadata": {},
   "source": [
    "##### Use CURL for Raw Predictions"
   ]
  },
  {
   "cell_type": "code",
   "execution_count": 130,
   "id": "5bbe7c61-9657-4fc4-b57b-ff0ac76af581",
   "metadata": {
    "tags": []
   },
   "outputs": [],
   "source": [
    "with open(f'{DIR}/request.json','w') as file:\n",
    "    file.write(json.dumps({\"signature_name\": \"serving_default\", \"instances\": [newobs[0]]}))"
   ]
  },
  {
   "cell_type": "code",
   "execution_count": 131,
   "id": "e89d87f3-38c3-4fb3-8b40-9bbd8be09c69",
   "metadata": {
    "tags": []
   },
   "outputs": [
    {
     "data": {
      "text/plain": [
       "{'predictions': [[0.999759495, 0.000240550202]]}"
      ]
     },
     "execution_count": 131,
     "metadata": {},
     "output_type": "execute_result"
    }
   ],
   "source": [
    "prediction = !curl -s POST \\\n",
    "-H \"Authorization: Bearer \"$(gcloud auth application-default print-access-token) \\\n",
    "-H \"Content-Type: application/json; charset=utf-8\" \\\n",
    "-d @{DIR}/request.json \\\n",
    "https://{REGION}-aiplatform.googleapis.com/v1/{endpoint.resource_name}:rawPredict\n",
    "\n",
    "prediction = json.loads(''.join([p.strip() for p in prediction]))\n",
    "prediction"
   ]
  },
  {
   "cell_type": "code",
   "execution_count": 132,
   "id": "1038669f-bacb-412b-b8f5-2633a01ac3a6",
   "metadata": {
    "tags": []
   },
   "outputs": [
    {
     "data": {
      "text/plain": [
       "[0.999759495, 0.000240550202]"
      ]
     },
     "execution_count": 132,
     "metadata": {},
     "output_type": "execute_result"
    }
   ],
   "source": [
    "prediction['predictions'][0]"
   ]
  },
  {
   "cell_type": "code",
   "execution_count": 133,
   "id": "6a9f11ec-b3bc-42e7-80fb-f2aab4fd800b",
   "metadata": {
    "tags": []
   },
   "outputs": [
    {
     "data": {
      "text/plain": [
       "0"
      ]
     },
     "execution_count": 133,
     "metadata": {},
     "output_type": "execute_result"
    }
   ],
   "source": [
    "np.argmax(prediction['predictions'][0])"
   ]
  },
  {
   "cell_type": "markdown",
   "id": "2ec54706-7359-4d01-95e7-2d16ef6441c4",
   "metadata": {},
   "source": [
    "#### Method 2: Python with requests"
   ]
  },
  {
   "cell_type": "code",
   "execution_count": 134,
   "id": "cd78b16b-440c-4c0d-88d8-a7fa2b34a194",
   "metadata": {
    "tags": []
   },
   "outputs": [],
   "source": [
    "import requests"
   ]
  },
  {
   "cell_type": "code",
   "execution_count": 135,
   "id": "cbed175e-289f-4eff-9b9e-33a5358a0488",
   "metadata": {
    "tags": []
   },
   "outputs": [],
   "source": [
    "token = !gcloud auth application-default print-access-token\n",
    "headers = {\n",
    "    \"content-type\": \"application/json; charset=utf-8\",\n",
    "    \"Authorization\": f'Bearer {token[0]}'\n",
    "}\n",
    "json_response = requests.post(\n",
    "    f'https://{REGION}-aiplatform.googleapis.com/v1/{endpoint.resource_name}:predict',\n",
    "    data = json.dumps({\"instances\": newobs[0:1]}),\n",
    "    headers = headers\n",
    ")"
   ]
  },
  {
   "cell_type": "code",
   "execution_count": 136,
   "id": "b2cab35d-780a-4f48-935c-1af4d6acffa6",
   "metadata": {
    "tags": []
   },
   "outputs": [
    {
     "name": "stdout",
     "output_type": "stream",
     "text": [
      "{\n",
      "  \"predictions\": [\n",
      "    [\n",
      "      0.999759495,\n",
      "      0.000240550202\n",
      "    ]\n",
      "  ],\n",
      "  \"deployedModelId\": \"2423682068408958976\",\n",
      "  \"model\": \"projects/1026793852137/locations/us-central1/models/model_05_05\",\n",
      "  \"modelDisplayName\": \"05_05\",\n",
      "  \"modelVersionId\": \"18\"\n",
      "}\n",
      "\n"
     ]
    }
   ],
   "source": [
    "print(json_response.text)"
   ]
  },
  {
   "cell_type": "code",
   "execution_count": 137,
   "id": "e2397a15-be1d-42f3-aab2-9175353f0fae",
   "metadata": {
    "tags": []
   },
   "outputs": [
    {
     "data": {
      "text/plain": [
       "[[0.999759495, 0.000240550202]]"
      ]
     },
     "execution_count": 137,
     "metadata": {},
     "output_type": "execute_result"
    }
   ],
   "source": [
    "predictions = json.loads(json_response.text)['predictions']\n",
    "predictions"
   ]
  },
  {
   "cell_type": "code",
   "execution_count": 138,
   "id": "91bbbf95-f866-4214-8fa3-4dfe6b464b37",
   "metadata": {
    "tags": []
   },
   "outputs": [
    {
     "data": {
      "text/plain": [
       "0"
      ]
     },
     "execution_count": 138,
     "metadata": {},
     "output_type": "execute_result"
    }
   ],
   "source": [
    "np.argmax(predictions[0])"
   ]
  },
  {
   "cell_type": "markdown",
   "id": "dd082ca4-044f-412c-9a5b-a26fd072c60c",
   "metadata": {},
   "source": [
    "##### Use Requests for Raw Predictions"
   ]
  },
  {
   "cell_type": "code",
   "execution_count": 139,
   "id": "a662e856-5817-48cb-be93-81c54c93af0c",
   "metadata": {
    "tags": []
   },
   "outputs": [],
   "source": [
    "import requests"
   ]
  },
  {
   "cell_type": "code",
   "execution_count": 140,
   "id": "fd4db00b-f21b-4c3c-aed2-07aea0cb6c87",
   "metadata": {
    "tags": []
   },
   "outputs": [],
   "source": [
    "token = !gcloud auth application-default print-access-token\n",
    "headers = {\n",
    "    \"content-type\": \"application/json; charset=utf-8\", \n",
    "    \"Authorization\": f'Bearer {token[0]}'\n",
    "}\n",
    "json_response = requests.post(\n",
    "    f'https://{REGION}-aiplatform.googleapis.com/v1/{endpoint.resource_name}:rawPredict', \n",
    "    data = json.dumps({\"signature_name\": \"serving_default\", \"instances\": newobs[0:1]}),\n",
    "    headers = headers\n",
    ")"
   ]
  },
  {
   "cell_type": "code",
   "execution_count": 141,
   "id": "29d9be25-c171-4d8b-b3ae-0a9aecb6c749",
   "metadata": {
    "tags": []
   },
   "outputs": [
    {
     "name": "stdout",
     "output_type": "stream",
     "text": [
      "{\n",
      "    \"predictions\": [[0.999759495, 0.000240550202]\n",
      "    ]\n",
      "}\n"
     ]
    }
   ],
   "source": [
    "print(json_response.text)"
   ]
  },
  {
   "cell_type": "code",
   "execution_count": 142,
   "id": "30cef2f2-dabe-4111-9e2d-3c083693867c",
   "metadata": {
    "tags": []
   },
   "outputs": [
    {
     "data": {
      "text/plain": [
       "[[0.999759495, 0.000240550202]]"
      ]
     },
     "execution_count": 142,
     "metadata": {},
     "output_type": "execute_result"
    }
   ],
   "source": [
    "predictions = json.loads(json_response.text)['predictions']\n",
    "predictions"
   ]
  },
  {
   "cell_type": "code",
   "execution_count": 143,
   "id": "a9407871-69bd-4190-b8d5-12c2aa43989a",
   "metadata": {
    "tags": []
   },
   "outputs": [
    {
     "data": {
      "text/plain": [
       "0"
      ]
     },
     "execution_count": 143,
     "metadata": {},
     "output_type": "execute_result"
    }
   ],
   "source": [
    "np.argmax(predictions[0])"
   ]
  },
  {
   "cell_type": "markdown",
   "id": "1dbe3e05-ea69-41b5-8cb9-955b15b882f9",
   "metadata": {},
   "source": [
    "---\n",
    "### Get Prediction: gcloud (CLI)\n",
    "\n",
    "[gcloud ai endpoints](https://cloud.google.com/sdk/gcloud/reference/ai/endpoints)"
   ]
  },
  {
   "cell_type": "code",
   "execution_count": 144,
   "id": "7d2d2be2-4bd6-4566-95f1-acdcbd9926ee",
   "metadata": {
    "tags": []
   },
   "outputs": [],
   "source": [
    "with open(f'{DIR}/request.json','w') as file:\n",
    "    file.write(json.dumps({\"instances\": newobs[0:1]}))"
   ]
  },
  {
   "cell_type": "code",
   "execution_count": 145,
   "id": "37657040-0521-4235-884a-f191d576655c",
   "metadata": {
    "tags": []
   },
   "outputs": [
    {
     "data": {
      "text/plain": [
       "['Using endpoint [https://us-central1-prediction-aiplatform.googleapis.com/]',\n",
       " '[[0.999759495, 0.000240550202]]']"
      ]
     },
     "execution_count": 145,
     "metadata": {},
     "output_type": "execute_result"
    }
   ],
   "source": [
    "prediction = !gcloud ai endpoints predict {endpoint.name.rsplit('/',1)[-1]} --region={REGION} --json-request={DIR}/request.json\n",
    "prediction"
   ]
  },
  {
   "cell_type": "code",
   "execution_count": 146,
   "id": "71025142-a958-4f32-92df-602d8b8de09b",
   "metadata": {
    "tags": []
   },
   "outputs": [
    {
     "data": {
      "text/plain": [
       "[0.999759495, 0.000240550202]"
      ]
     },
     "execution_count": 146,
     "metadata": {},
     "output_type": "execute_result"
    }
   ],
   "source": [
    "import ast\n",
    "prediction = ast.literal_eval(prediction[1])\n",
    "prediction[0]"
   ]
  },
  {
   "cell_type": "code",
   "execution_count": 147,
   "id": "6ed6f508-ed1a-4426-93e7-76cab1da5a71",
   "metadata": {
    "tags": []
   },
   "outputs": [
    {
     "data": {
      "text/plain": [
       "0"
      ]
     },
     "execution_count": 147,
     "metadata": {},
     "output_type": "execute_result"
    }
   ],
   "source": [
    "np.argmax(prediction[0])"
   ]
  },
  {
   "cell_type": "markdown",
   "id": "d476d19f-42a0-4372-a246-ea8674d56fea",
   "metadata": {},
   "source": [
    "#### Use gcloud (CLI) For Raw Predictions"
   ]
  },
  {
   "cell_type": "code",
   "execution_count": 148,
   "id": "e3ec22fd-410e-4077-9669-c11063b61256",
   "metadata": {
    "tags": []
   },
   "outputs": [],
   "source": [
    "with open(f'{DIR}/request.json','w') as file:\n",
    "    file.write(json.dumps({\"signature_name\": \"serving_default\", \"instances\": newobs[0:1]}))"
   ]
  },
  {
   "cell_type": "code",
   "execution_count": 149,
   "id": "f776e1c6-1d06-4c3a-9824-43e3c082911a",
   "metadata": {
    "tags": []
   },
   "outputs": [
    {
     "data": {
      "text/plain": [
       "['Using endpoint [https://us-central1-aiplatform.googleapis.com/]',\n",
       " '{',\n",
       " '  \"predictions\": [',\n",
       " '    [',\n",
       " '      0.999759495,',\n",
       " '      0.000240550202',\n",
       " '    ]',\n",
       " '  ]',\n",
       " '}']"
      ]
     },
     "execution_count": 149,
     "metadata": {},
     "output_type": "execute_result"
    }
   ],
   "source": [
    "prediction = !gcloud ai endpoints raw-predict {endpoint.name.rsplit('/',1)[-1]} --region={REGION} --format=\"json\" --request=@{DIR}/request.json\n",
    "prediction"
   ]
  },
  {
   "cell_type": "code",
   "execution_count": 150,
   "id": "7c0ed887-fc96-42e6-b60d-9b73811852a6",
   "metadata": {
    "tags": []
   },
   "outputs": [
    {
     "data": {
      "text/plain": [
       "{'predictions': [[0.999759495, 0.000240550202]]}"
      ]
     },
     "execution_count": 150,
     "metadata": {},
     "output_type": "execute_result"
    }
   ],
   "source": [
    "prediction = json.loads(\"\".join(prediction[1:]))\n",
    "prediction"
   ]
  },
  {
   "cell_type": "code",
   "execution_count": 151,
   "id": "8fe85820-22c6-48e4-ad28-d5e62589ad19",
   "metadata": {
    "tags": []
   },
   "outputs": [
    {
     "data": {
      "text/plain": [
       "[0.999759495, 0.000240550202]"
      ]
     },
     "execution_count": 151,
     "metadata": {},
     "output_type": "execute_result"
    }
   ],
   "source": [
    "prediction['predictions'][0]"
   ]
  },
  {
   "cell_type": "code",
   "execution_count": 152,
   "id": "26db4db0-2a66-459c-8418-b895c025650f",
   "metadata": {
    "tags": []
   },
   "outputs": [
    {
     "data": {
      "text/plain": [
       "0"
      ]
     },
     "execution_count": 152,
     "metadata": {},
     "output_type": "execute_result"
    }
   ],
   "source": [
    "np.argmax(prediction['predictions'][0])"
   ]
  },
  {
   "cell_type": "markdown",
   "id": "bc243002-2c9b-4da3-b402-44478a15a753",
   "metadata": {},
   "source": [
    "---\n",
    "## Requesting Many Predictions: Synchronous and Asynchronus\n",
    "\n",
    "There are times where you want to make many request of an endpoint for predictions.  If you send request one at a time, synchronous, then the endpoint will fullfill each request as it receives it.  An endpoint is designed to handle simoultaneous requests, asynchronous.  If you set the max_replicas > 1 during the endpoint setup then it will also scale up to handle the amount of traffic.  \n",
    "- [Configure compute resources for prediction](https://cloud.google.com/vertex-ai/docs/predictions/configure-compute)\n",
    "\n",
    "Using Python to make concurrent request is possible and covered the tip notebook [Python Multiprocessing](../Tips/Python%20Multiprocessing.ipynb) which is helpful for understanding the method used below to make asynchronous requests concurrently using `asyncio`."
   ]
  },
  {
   "cell_type": "markdown",
   "id": "5472125c-7255-415b-8ad4-16695fd68f4c",
   "metadata": {},
   "source": [
    "---\n",
    "## Online Predictions: Synchronous Examples\n",
    "Synchronous calls to the Vertex AI Endpoint with different batch size of instances.  This is packaging multiple prediction request up in a single call of the endpoint - size is batch_size. Each request completes before the next request is submitted - sequential, sychronous."
   ]
  },
  {
   "cell_type": "code",
   "execution_count": 130,
   "id": "92af91d7-9053-411b-b87d-4d7d645574cf",
   "metadata": {
    "tags": []
   },
   "outputs": [
    {
     "data": {
      "text/plain": [
       "10000"
      ]
     },
     "execution_count": 130,
     "metadata": {},
     "output_type": "execute_result"
    }
   ],
   "source": [
    "len(newobs)"
   ]
  },
  {
   "cell_type": "code",
   "execution_count": 131,
   "id": "f789397a-a44a-408c-a37f-7f15adaa161b",
   "metadata": {
    "tags": []
   },
   "outputs": [],
   "source": [
    "def syncPredictions(instances, batch_size = 1):\n",
    "    predictions = []\n",
    "    start = time.perf_counter()\n",
    "    # a loop where each step request predictions for batch_size number of instances - in a single request\n",
    "    for p in range(0, len(instances), batch_size):\n",
    "        #instances = [json_format.ParseDict(example, Value()) for example in newobs[p:p+batch_size]]\n",
    "        preds = endpoint.predict(instances = instances[p:p+batch_size])\n",
    "        predictions.extend(np.argmax(pred) for pred in preds.predictions)\n",
    "    elapsed = time.perf_counter() - start\n",
    "    print(f'{elapsed:0.5f} seconds for {len(instances)} instances in sychronous batches of size = {batch_size}')\n",
    "    return predictions"
   ]
  },
  {
   "cell_type": "code",
   "execution_count": 132,
   "id": "0faacadf-cff2-4bba-a046-5bdc97e1250a",
   "metadata": {
    "tags": []
   },
   "outputs": [
    {
     "name": "stdout",
     "output_type": "stream",
     "text": [
      "155.82147 seconds for 10000 instances in sychronous batches of size = 1\n"
     ]
    }
   ],
   "source": [
    "# default batch_size = 1\n",
    "predictions = syncPredictions(newobs)"
   ]
  },
  {
   "cell_type": "code",
   "execution_count": 133,
   "id": "f90f8190-cd4b-4246-993d-2fc030415bdc",
   "metadata": {
    "tags": []
   },
   "outputs": [
    {
     "name": "stdout",
     "output_type": "stream",
     "text": [
      "81.97352 seconds for 10000 instances in sychronous batches of size = 2\n"
     ]
    }
   ],
   "source": [
    "# specify batch_size = 2 - expecting half the time if the endpoint can handle multiple at the same time\n",
    "predictions = syncPredictions(newobs, batch_size = 2)"
   ]
  },
  {
   "cell_type": "code",
   "execution_count": 134,
   "id": "18dfda1f-5c9c-4d7e-aca2-4692656afa13",
   "metadata": {
    "tags": []
   },
   "outputs": [
    {
     "name": "stdout",
     "output_type": "stream",
     "text": [
      "21.00186 seconds for 10000 instances in sychronous batches of size = 10\n"
     ]
    }
   ],
   "source": [
    "# specify batch_size = 10 - expecting 1/10 the time if the endpoint can handle this many at the same time\n",
    "predictions = syncPredictions(newobs, batch_size = 10)"
   ]
  },
  {
   "cell_type": "code",
   "execution_count": 135,
   "id": "0b80748a-cf26-4b76-a200-8247a691275a",
   "metadata": {
    "tags": []
   },
   "outputs": [
    {
     "data": {
      "text/plain": [
       "Counter({0: 9980, 1: 20})"
      ]
     },
     "execution_count": 135,
     "metadata": {},
     "output_type": "execute_result"
    }
   ],
   "source": [
    "# get a count of the number of predictions that resulted in 0 (not fraud) and 1 (fraud)\n",
    "from collections import Counter\n",
    "c = Counter(predictions)\n",
    "c"
   ]
  },
  {
   "cell_type": "code",
   "execution_count": 136,
   "id": "ef8bc8bf-67cf-47d1-82ba-de6eb0e027aa",
   "metadata": {
    "tags": []
   },
   "outputs": [
    {
     "data": {
      "text/plain": [
       "[53,\n",
       " 576,\n",
       " 3371,\n",
       " 3958,\n",
       " 3995,\n",
       " 4028,\n",
       " 4212,\n",
       " 4292,\n",
       " 4293,\n",
       " 4350,\n",
       " 4500,\n",
       " 4532,\n",
       " 4654,\n",
       " 4707,\n",
       " 4738,\n",
       " 4892,\n",
       " 5207,\n",
       " 7052,\n",
       " 8778,\n",
       " 9070]"
      ]
     },
     "execution_count": 136,
     "metadata": {},
     "output_type": "execute_result"
    }
   ],
   "source": [
    "# get the index for the predictions that resulted in predicting = 1 (fraud)\n",
    "[i for i, j in enumerate(predictions) if j == 1]"
   ]
  },
  {
   "cell_type": "code",
   "execution_count": 137,
   "id": "84207f7d-22cf-49ec-bf8c-36da3a3416e7",
   "metadata": {
    "tags": []
   },
   "outputs": [
    {
     "data": {
      "text/html": [
       "<div>\n",
       "<style scoped>\n",
       "    .dataframe tbody tr th:only-of-type {\n",
       "        vertical-align: middle;\n",
       "    }\n",
       "\n",
       "    .dataframe tbody tr th {\n",
       "        vertical-align: top;\n",
       "    }\n",
       "\n",
       "    .dataframe thead th {\n",
       "        text-align: right;\n",
       "    }\n",
       "</style>\n",
       "<table border=\"1\" class=\"dataframe\">\n",
       "  <thead>\n",
       "    <tr style=\"text-align: right;\">\n",
       "      <th></th>\n",
       "      <th>Time</th>\n",
       "      <th>V1</th>\n",
       "      <th>V2</th>\n",
       "      <th>V3</th>\n",
       "      <th>V4</th>\n",
       "      <th>V5</th>\n",
       "      <th>V6</th>\n",
       "      <th>V7</th>\n",
       "      <th>V8</th>\n",
       "      <th>V9</th>\n",
       "      <th>...</th>\n",
       "      <th>V20</th>\n",
       "      <th>V21</th>\n",
       "      <th>V22</th>\n",
       "      <th>V23</th>\n",
       "      <th>V24</th>\n",
       "      <th>V25</th>\n",
       "      <th>V26</th>\n",
       "      <th>V27</th>\n",
       "      <th>V28</th>\n",
       "      <th>Amount</th>\n",
       "    </tr>\n",
       "  </thead>\n",
       "  <tbody>\n",
       "    <tr>\n",
       "      <th>53</th>\n",
       "      <td>85285</td>\n",
       "      <td>-7.030308</td>\n",
       "      <td>3.421991</td>\n",
       "      <td>-9.525072</td>\n",
       "      <td>5.270891</td>\n",
       "      <td>-4.024630</td>\n",
       "      <td>-2.865682</td>\n",
       "      <td>-6.989195</td>\n",
       "      <td>3.791551</td>\n",
       "      <td>-4.622730</td>\n",
       "      <td>...</td>\n",
       "      <td>0.545698</td>\n",
       "      <td>1.103398</td>\n",
       "      <td>-0.541855</td>\n",
       "      <td>0.036943</td>\n",
       "      <td>-0.355519</td>\n",
       "      <td>0.353634</td>\n",
       "      <td>1.042458</td>\n",
       "      <td>1.359516</td>\n",
       "      <td>-0.272188</td>\n",
       "      <td>0.00</td>\n",
       "    </tr>\n",
       "    <tr>\n",
       "      <th>576</th>\n",
       "      <td>56887</td>\n",
       "      <td>-0.075483</td>\n",
       "      <td>1.812355</td>\n",
       "      <td>-2.566981</td>\n",
       "      <td>4.127549</td>\n",
       "      <td>-1.628532</td>\n",
       "      <td>-0.805895</td>\n",
       "      <td>-3.390135</td>\n",
       "      <td>1.019353</td>\n",
       "      <td>-2.451251</td>\n",
       "      <td>...</td>\n",
       "      <td>0.338598</td>\n",
       "      <td>0.794372</td>\n",
       "      <td>0.270471</td>\n",
       "      <td>-0.143624</td>\n",
       "      <td>0.013566</td>\n",
       "      <td>0.634203</td>\n",
       "      <td>0.213693</td>\n",
       "      <td>0.773625</td>\n",
       "      <td>0.387434</td>\n",
       "      <td>5.00</td>\n",
       "    </tr>\n",
       "    <tr>\n",
       "      <th>3371</th>\n",
       "      <td>43369</td>\n",
       "      <td>-3.365319</td>\n",
       "      <td>2.426503</td>\n",
       "      <td>-3.752227</td>\n",
       "      <td>0.276017</td>\n",
       "      <td>-2.305870</td>\n",
       "      <td>-1.961578</td>\n",
       "      <td>-3.029283</td>\n",
       "      <td>-1.674462</td>\n",
       "      <td>0.183961</td>\n",
       "      <td>...</td>\n",
       "      <td>-0.036837</td>\n",
       "      <td>2.070008</td>\n",
       "      <td>-0.512626</td>\n",
       "      <td>-0.248502</td>\n",
       "      <td>0.126550</td>\n",
       "      <td>0.104166</td>\n",
       "      <td>-1.055997</td>\n",
       "      <td>-1.200165</td>\n",
       "      <td>-1.012066</td>\n",
       "      <td>88.00</td>\n",
       "    </tr>\n",
       "    <tr>\n",
       "      <th>3958</th>\n",
       "      <td>143354</td>\n",
       "      <td>1.118331</td>\n",
       "      <td>2.074439</td>\n",
       "      <td>-3.837518</td>\n",
       "      <td>5.448060</td>\n",
       "      <td>0.071816</td>\n",
       "      <td>-1.020509</td>\n",
       "      <td>-1.808574</td>\n",
       "      <td>0.521744</td>\n",
       "      <td>-2.032638</td>\n",
       "      <td>...</td>\n",
       "      <td>0.163513</td>\n",
       "      <td>0.289861</td>\n",
       "      <td>-0.172718</td>\n",
       "      <td>-0.021910</td>\n",
       "      <td>-0.376560</td>\n",
       "      <td>0.192817</td>\n",
       "      <td>0.114107</td>\n",
       "      <td>0.500996</td>\n",
       "      <td>0.259533</td>\n",
       "      <td>1.00</td>\n",
       "    </tr>\n",
       "    <tr>\n",
       "      <th>3995</th>\n",
       "      <td>93888</td>\n",
       "      <td>-10.040631</td>\n",
       "      <td>6.139183</td>\n",
       "      <td>-12.972972</td>\n",
       "      <td>7.740555</td>\n",
       "      <td>-8.684705</td>\n",
       "      <td>-3.837429</td>\n",
       "      <td>-11.907702</td>\n",
       "      <td>5.833273</td>\n",
       "      <td>-5.731054</td>\n",
       "      <td>...</td>\n",
       "      <td>-0.082275</td>\n",
       "      <td>2.823431</td>\n",
       "      <td>1.153005</td>\n",
       "      <td>-0.567343</td>\n",
       "      <td>0.843012</td>\n",
       "      <td>0.549938</td>\n",
       "      <td>0.113892</td>\n",
       "      <td>-0.307375</td>\n",
       "      <td>0.061631</td>\n",
       "      <td>1.00</td>\n",
       "    </tr>\n",
       "    <tr>\n",
       "      <th>4028</th>\n",
       "      <td>20332</td>\n",
       "      <td>-15.271362</td>\n",
       "      <td>8.326581</td>\n",
       "      <td>-22.338591</td>\n",
       "      <td>11.885313</td>\n",
       "      <td>-8.721334</td>\n",
       "      <td>-2.324307</td>\n",
       "      <td>-16.196419</td>\n",
       "      <td>0.512882</td>\n",
       "      <td>-6.333685</td>\n",
       "      <td>...</td>\n",
       "      <td>0.993121</td>\n",
       "      <td>-2.356896</td>\n",
       "      <td>1.068019</td>\n",
       "      <td>1.085617</td>\n",
       "      <td>-1.039797</td>\n",
       "      <td>-0.182006</td>\n",
       "      <td>0.649921</td>\n",
       "      <td>2.149247</td>\n",
       "      <td>-1.406811</td>\n",
       "      <td>1.00</td>\n",
       "    </tr>\n",
       "    <tr>\n",
       "      <th>4212</th>\n",
       "      <td>7551</td>\n",
       "      <td>0.316459</td>\n",
       "      <td>3.809076</td>\n",
       "      <td>-5.615159</td>\n",
       "      <td>6.047445</td>\n",
       "      <td>1.554026</td>\n",
       "      <td>-2.651353</td>\n",
       "      <td>-0.746579</td>\n",
       "      <td>0.055586</td>\n",
       "      <td>-2.678679</td>\n",
       "      <td>...</td>\n",
       "      <td>0.388307</td>\n",
       "      <td>0.208828</td>\n",
       "      <td>-0.511747</td>\n",
       "      <td>-0.583813</td>\n",
       "      <td>-0.219845</td>\n",
       "      <td>1.474753</td>\n",
       "      <td>0.491192</td>\n",
       "      <td>0.518868</td>\n",
       "      <td>0.402528</td>\n",
       "      <td>1.00</td>\n",
       "    </tr>\n",
       "    <tr>\n",
       "      <th>4292</th>\n",
       "      <td>13126</td>\n",
       "      <td>-2.880042</td>\n",
       "      <td>5.225442</td>\n",
       "      <td>-11.063330</td>\n",
       "      <td>6.689951</td>\n",
       "      <td>-5.759924</td>\n",
       "      <td>-2.244031</td>\n",
       "      <td>-11.199975</td>\n",
       "      <td>4.014722</td>\n",
       "      <td>-3.429304</td>\n",
       "      <td>...</td>\n",
       "      <td>1.191444</td>\n",
       "      <td>2.002883</td>\n",
       "      <td>0.351102</td>\n",
       "      <td>0.795255</td>\n",
       "      <td>-0.778379</td>\n",
       "      <td>-1.646815</td>\n",
       "      <td>0.487539</td>\n",
       "      <td>1.427713</td>\n",
       "      <td>0.583172</td>\n",
       "      <td>1.00</td>\n",
       "    </tr>\n",
       "    <tr>\n",
       "      <th>4293</th>\n",
       "      <td>152036</td>\n",
       "      <td>-4.320609</td>\n",
       "      <td>3.199939</td>\n",
       "      <td>-5.799736</td>\n",
       "      <td>6.502330</td>\n",
       "      <td>0.378479</td>\n",
       "      <td>-1.948246</td>\n",
       "      <td>-2.167860</td>\n",
       "      <td>-0.728207</td>\n",
       "      <td>-1.977238</td>\n",
       "      <td>...</td>\n",
       "      <td>-0.263686</td>\n",
       "      <td>0.476660</td>\n",
       "      <td>0.434278</td>\n",
       "      <td>-0.136940</td>\n",
       "      <td>-0.620072</td>\n",
       "      <td>0.642531</td>\n",
       "      <td>0.280717</td>\n",
       "      <td>-2.649107</td>\n",
       "      <td>0.533641</td>\n",
       "      <td>1.00</td>\n",
       "    </tr>\n",
       "    <tr>\n",
       "      <th>4350</th>\n",
       "      <td>100298</td>\n",
       "      <td>-22.341889</td>\n",
       "      <td>15.536133</td>\n",
       "      <td>-22.865228</td>\n",
       "      <td>7.043374</td>\n",
       "      <td>-14.183129</td>\n",
       "      <td>-0.463145</td>\n",
       "      <td>-28.215112</td>\n",
       "      <td>-14.607791</td>\n",
       "      <td>-9.481456</td>\n",
       "      <td>...</td>\n",
       "      <td>4.100019</td>\n",
       "      <td>-9.110423</td>\n",
       "      <td>4.158895</td>\n",
       "      <td>1.412928</td>\n",
       "      <td>0.382801</td>\n",
       "      <td>0.447154</td>\n",
       "      <td>-0.632816</td>\n",
       "      <td>-4.380154</td>\n",
       "      <td>-0.467863</td>\n",
       "      <td>1.00</td>\n",
       "    </tr>\n",
       "    <tr>\n",
       "      <th>4500</th>\n",
       "      <td>92087</td>\n",
       "      <td>-1.451238</td>\n",
       "      <td>3.254195</td>\n",
       "      <td>-4.882234</td>\n",
       "      <td>2.500684</td>\n",
       "      <td>0.049397</td>\n",
       "      <td>-2.453242</td>\n",
       "      <td>-1.467971</td>\n",
       "      <td>0.681112</td>\n",
       "      <td>-1.101456</td>\n",
       "      <td>...</td>\n",
       "      <td>-0.043739</td>\n",
       "      <td>0.742459</td>\n",
       "      <td>0.783571</td>\n",
       "      <td>-0.207588</td>\n",
       "      <td>-0.296522</td>\n",
       "      <td>0.487173</td>\n",
       "      <td>-0.264616</td>\n",
       "      <td>-0.060481</td>\n",
       "      <td>0.188632</td>\n",
       "      <td>1.00</td>\n",
       "    </tr>\n",
       "    <tr>\n",
       "      <th>4532</th>\n",
       "      <td>40742</td>\n",
       "      <td>-2.377533</td>\n",
       "      <td>0.520539</td>\n",
       "      <td>-8.094139</td>\n",
       "      <td>8.005351</td>\n",
       "      <td>2.640750</td>\n",
       "      <td>-3.381586</td>\n",
       "      <td>-1.934372</td>\n",
       "      <td>0.562322</td>\n",
       "      <td>-3.104027</td>\n",
       "      <td>...</td>\n",
       "      <td>-0.634747</td>\n",
       "      <td>0.148284</td>\n",
       "      <td>0.721100</td>\n",
       "      <td>2.661291</td>\n",
       "      <td>-0.508620</td>\n",
       "      <td>-0.401657</td>\n",
       "      <td>0.587611</td>\n",
       "      <td>0.500326</td>\n",
       "      <td>0.551760</td>\n",
       "      <td>1.00</td>\n",
       "    </tr>\n",
       "    <tr>\n",
       "      <th>4654</th>\n",
       "      <td>68207</td>\n",
       "      <td>-13.192671</td>\n",
       "      <td>12.785971</td>\n",
       "      <td>-9.906650</td>\n",
       "      <td>3.320337</td>\n",
       "      <td>-4.801176</td>\n",
       "      <td>5.760059</td>\n",
       "      <td>-18.750889</td>\n",
       "      <td>-37.353443</td>\n",
       "      <td>-0.391540</td>\n",
       "      <td>...</td>\n",
       "      <td>-3.493050</td>\n",
       "      <td>27.202839</td>\n",
       "      <td>-8.887017</td>\n",
       "      <td>5.303607</td>\n",
       "      <td>-0.639435</td>\n",
       "      <td>0.263203</td>\n",
       "      <td>-0.108877</td>\n",
       "      <td>1.269566</td>\n",
       "      <td>0.939407</td>\n",
       "      <td>1.00</td>\n",
       "    </tr>\n",
       "    <tr>\n",
       "      <th>4707</th>\n",
       "      <td>8090</td>\n",
       "      <td>-1.783229</td>\n",
       "      <td>3.402794</td>\n",
       "      <td>-3.822742</td>\n",
       "      <td>2.625368</td>\n",
       "      <td>-1.976415</td>\n",
       "      <td>-2.731689</td>\n",
       "      <td>-3.430559</td>\n",
       "      <td>1.413204</td>\n",
       "      <td>-0.776941</td>\n",
       "      <td>...</td>\n",
       "      <td>0.364089</td>\n",
       "      <td>0.454032</td>\n",
       "      <td>-0.577526</td>\n",
       "      <td>0.045967</td>\n",
       "      <td>0.461700</td>\n",
       "      <td>0.044146</td>\n",
       "      <td>0.305704</td>\n",
       "      <td>0.530981</td>\n",
       "      <td>0.243746</td>\n",
       "      <td>1.00</td>\n",
       "    </tr>\n",
       "    <tr>\n",
       "      <th>4738</th>\n",
       "      <td>41444</td>\n",
       "      <td>-6.691666</td>\n",
       "      <td>5.648488</td>\n",
       "      <td>-10.169744</td>\n",
       "      <td>4.214428</td>\n",
       "      <td>-5.086248</td>\n",
       "      <td>-3.483809</td>\n",
       "      <td>-7.202235</td>\n",
       "      <td>4.829117</td>\n",
       "      <td>-2.492367</td>\n",
       "      <td>...</td>\n",
       "      <td>0.946201</td>\n",
       "      <td>0.965550</td>\n",
       "      <td>-0.649861</td>\n",
       "      <td>-0.092988</td>\n",
       "      <td>-0.055988</td>\n",
       "      <td>0.241145</td>\n",
       "      <td>-0.286647</td>\n",
       "      <td>1.121216</td>\n",
       "      <td>0.320708</td>\n",
       "      <td>1.00</td>\n",
       "    </tr>\n",
       "    <tr>\n",
       "      <th>4892</th>\n",
       "      <td>8886</td>\n",
       "      <td>-2.535852</td>\n",
       "      <td>5.793644</td>\n",
       "      <td>-7.618463</td>\n",
       "      <td>6.395830</td>\n",
       "      <td>-0.065210</td>\n",
       "      <td>-3.136372</td>\n",
       "      <td>-3.104557</td>\n",
       "      <td>1.823233</td>\n",
       "      <td>-3.878658</td>\n",
       "      <td>...</td>\n",
       "      <td>0.408704</td>\n",
       "      <td>0.716720</td>\n",
       "      <td>-0.448060</td>\n",
       "      <td>-0.402407</td>\n",
       "      <td>-0.288835</td>\n",
       "      <td>1.011752</td>\n",
       "      <td>0.425965</td>\n",
       "      <td>0.413140</td>\n",
       "      <td>0.308205</td>\n",
       "      <td>1.00</td>\n",
       "    </tr>\n",
       "    <tr>\n",
       "      <th>5207</th>\n",
       "      <td>84204</td>\n",
       "      <td>-1.927453</td>\n",
       "      <td>1.827621</td>\n",
       "      <td>-7.019495</td>\n",
       "      <td>5.348303</td>\n",
       "      <td>-2.739188</td>\n",
       "      <td>-2.107219</td>\n",
       "      <td>-5.015848</td>\n",
       "      <td>1.205868</td>\n",
       "      <td>-4.382713</td>\n",
       "      <td>...</td>\n",
       "      <td>2.172709</td>\n",
       "      <td>1.376938</td>\n",
       "      <td>-0.792017</td>\n",
       "      <td>-0.771414</td>\n",
       "      <td>-0.379574</td>\n",
       "      <td>0.718717</td>\n",
       "      <td>1.111151</td>\n",
       "      <td>1.277707</td>\n",
       "      <td>0.819081</td>\n",
       "      <td>512.25</td>\n",
       "    </tr>\n",
       "    <tr>\n",
       "      <th>7052</th>\n",
       "      <td>62080</td>\n",
       "      <td>-1.599457</td>\n",
       "      <td>2.607720</td>\n",
       "      <td>-2.987193</td>\n",
       "      <td>3.064156</td>\n",
       "      <td>-2.497914</td>\n",
       "      <td>-0.541103</td>\n",
       "      <td>-2.277786</td>\n",
       "      <td>1.268166</td>\n",
       "      <td>-1.997331</td>\n",
       "      <td>...</td>\n",
       "      <td>0.225333</td>\n",
       "      <td>0.662933</td>\n",
       "      <td>0.184087</td>\n",
       "      <td>-0.089452</td>\n",
       "      <td>-0.506000</td>\n",
       "      <td>-0.062259</td>\n",
       "      <td>-0.052714</td>\n",
       "      <td>0.322854</td>\n",
       "      <td>0.135268</td>\n",
       "      <td>180.00</td>\n",
       "    </tr>\n",
       "    <tr>\n",
       "      <th>8778</th>\n",
       "      <td>56650</td>\n",
       "      <td>-8.762083</td>\n",
       "      <td>2.791030</td>\n",
       "      <td>-7.682767</td>\n",
       "      <td>6.991214</td>\n",
       "      <td>-5.230695</td>\n",
       "      <td>-0.357388</td>\n",
       "      <td>-9.685621</td>\n",
       "      <td>1.749335</td>\n",
       "      <td>-4.495679</td>\n",
       "      <td>...</td>\n",
       "      <td>-0.460390</td>\n",
       "      <td>-0.090527</td>\n",
       "      <td>0.348590</td>\n",
       "      <td>0.051132</td>\n",
       "      <td>-0.415430</td>\n",
       "      <td>0.219665</td>\n",
       "      <td>0.330020</td>\n",
       "      <td>-0.028252</td>\n",
       "      <td>-0.156270</td>\n",
       "      <td>7.52</td>\n",
       "    </tr>\n",
       "    <tr>\n",
       "      <th>9070</th>\n",
       "      <td>155554</td>\n",
       "      <td>-1.040067</td>\n",
       "      <td>3.106703</td>\n",
       "      <td>-5.409027</td>\n",
       "      <td>3.109903</td>\n",
       "      <td>-0.887237</td>\n",
       "      <td>-2.497522</td>\n",
       "      <td>-2.073347</td>\n",
       "      <td>0.639818</td>\n",
       "      <td>-3.013331</td>\n",
       "      <td>...</td>\n",
       "      <td>1.054390</td>\n",
       "      <td>0.773961</td>\n",
       "      <td>0.214868</td>\n",
       "      <td>-0.184233</td>\n",
       "      <td>-0.284091</td>\n",
       "      <td>0.493467</td>\n",
       "      <td>0.732329</td>\n",
       "      <td>0.675067</td>\n",
       "      <td>0.337076</td>\n",
       "      <td>94.82</td>\n",
       "    </tr>\n",
       "  </tbody>\n",
       "</table>\n",
       "<p>20 rows × 30 columns</p>\n",
       "</div>"
      ],
      "text/plain": [
       "        Time         V1         V2         V3         V4         V5        V6  \\\n",
       "53     85285  -7.030308   3.421991  -9.525072   5.270891  -4.024630 -2.865682   \n",
       "576    56887  -0.075483   1.812355  -2.566981   4.127549  -1.628532 -0.805895   \n",
       "3371   43369  -3.365319   2.426503  -3.752227   0.276017  -2.305870 -1.961578   \n",
       "3958  143354   1.118331   2.074439  -3.837518   5.448060   0.071816 -1.020509   \n",
       "3995   93888 -10.040631   6.139183 -12.972972   7.740555  -8.684705 -3.837429   \n",
       "4028   20332 -15.271362   8.326581 -22.338591  11.885313  -8.721334 -2.324307   \n",
       "4212    7551   0.316459   3.809076  -5.615159   6.047445   1.554026 -2.651353   \n",
       "4292   13126  -2.880042   5.225442 -11.063330   6.689951  -5.759924 -2.244031   \n",
       "4293  152036  -4.320609   3.199939  -5.799736   6.502330   0.378479 -1.948246   \n",
       "4350  100298 -22.341889  15.536133 -22.865228   7.043374 -14.183129 -0.463145   \n",
       "4500   92087  -1.451238   3.254195  -4.882234   2.500684   0.049397 -2.453242   \n",
       "4532   40742  -2.377533   0.520539  -8.094139   8.005351   2.640750 -3.381586   \n",
       "4654   68207 -13.192671  12.785971  -9.906650   3.320337  -4.801176  5.760059   \n",
       "4707    8090  -1.783229   3.402794  -3.822742   2.625368  -1.976415 -2.731689   \n",
       "4738   41444  -6.691666   5.648488 -10.169744   4.214428  -5.086248 -3.483809   \n",
       "4892    8886  -2.535852   5.793644  -7.618463   6.395830  -0.065210 -3.136372   \n",
       "5207   84204  -1.927453   1.827621  -7.019495   5.348303  -2.739188 -2.107219   \n",
       "7052   62080  -1.599457   2.607720  -2.987193   3.064156  -2.497914 -0.541103   \n",
       "8778   56650  -8.762083   2.791030  -7.682767   6.991214  -5.230695 -0.357388   \n",
       "9070  155554  -1.040067   3.106703  -5.409027   3.109903  -0.887237 -2.497522   \n",
       "\n",
       "             V7         V8        V9  ...       V20        V21       V22  \\\n",
       "53    -6.989195   3.791551 -4.622730  ...  0.545698   1.103398 -0.541855   \n",
       "576   -3.390135   1.019353 -2.451251  ...  0.338598   0.794372  0.270471   \n",
       "3371  -3.029283  -1.674462  0.183961  ... -0.036837   2.070008 -0.512626   \n",
       "3958  -1.808574   0.521744 -2.032638  ...  0.163513   0.289861 -0.172718   \n",
       "3995 -11.907702   5.833273 -5.731054  ... -0.082275   2.823431  1.153005   \n",
       "4028 -16.196419   0.512882 -6.333685  ...  0.993121  -2.356896  1.068019   \n",
       "4212  -0.746579   0.055586 -2.678679  ...  0.388307   0.208828 -0.511747   \n",
       "4292 -11.199975   4.014722 -3.429304  ...  1.191444   2.002883  0.351102   \n",
       "4293  -2.167860  -0.728207 -1.977238  ... -0.263686   0.476660  0.434278   \n",
       "4350 -28.215112 -14.607791 -9.481456  ...  4.100019  -9.110423  4.158895   \n",
       "4500  -1.467971   0.681112 -1.101456  ... -0.043739   0.742459  0.783571   \n",
       "4532  -1.934372   0.562322 -3.104027  ... -0.634747   0.148284  0.721100   \n",
       "4654 -18.750889 -37.353443 -0.391540  ... -3.493050  27.202839 -8.887017   \n",
       "4707  -3.430559   1.413204 -0.776941  ...  0.364089   0.454032 -0.577526   \n",
       "4738  -7.202235   4.829117 -2.492367  ...  0.946201   0.965550 -0.649861   \n",
       "4892  -3.104557   1.823233 -3.878658  ...  0.408704   0.716720 -0.448060   \n",
       "5207  -5.015848   1.205868 -4.382713  ...  2.172709   1.376938 -0.792017   \n",
       "7052  -2.277786   1.268166 -1.997331  ...  0.225333   0.662933  0.184087   \n",
       "8778  -9.685621   1.749335 -4.495679  ... -0.460390  -0.090527  0.348590   \n",
       "9070  -2.073347   0.639818 -3.013331  ...  1.054390   0.773961  0.214868   \n",
       "\n",
       "           V23       V24       V25       V26       V27       V28  Amount  \n",
       "53    0.036943 -0.355519  0.353634  1.042458  1.359516 -0.272188    0.00  \n",
       "576  -0.143624  0.013566  0.634203  0.213693  0.773625  0.387434    5.00  \n",
       "3371 -0.248502  0.126550  0.104166 -1.055997 -1.200165 -1.012066   88.00  \n",
       "3958 -0.021910 -0.376560  0.192817  0.114107  0.500996  0.259533    1.00  \n",
       "3995 -0.567343  0.843012  0.549938  0.113892 -0.307375  0.061631    1.00  \n",
       "4028  1.085617 -1.039797 -0.182006  0.649921  2.149247 -1.406811    1.00  \n",
       "4212 -0.583813 -0.219845  1.474753  0.491192  0.518868  0.402528    1.00  \n",
       "4292  0.795255 -0.778379 -1.646815  0.487539  1.427713  0.583172    1.00  \n",
       "4293 -0.136940 -0.620072  0.642531  0.280717 -2.649107  0.533641    1.00  \n",
       "4350  1.412928  0.382801  0.447154 -0.632816 -4.380154 -0.467863    1.00  \n",
       "4500 -0.207588 -0.296522  0.487173 -0.264616 -0.060481  0.188632    1.00  \n",
       "4532  2.661291 -0.508620 -0.401657  0.587611  0.500326  0.551760    1.00  \n",
       "4654  5.303607 -0.639435  0.263203 -0.108877  1.269566  0.939407    1.00  \n",
       "4707  0.045967  0.461700  0.044146  0.305704  0.530981  0.243746    1.00  \n",
       "4738 -0.092988 -0.055988  0.241145 -0.286647  1.121216  0.320708    1.00  \n",
       "4892 -0.402407 -0.288835  1.011752  0.425965  0.413140  0.308205    1.00  \n",
       "5207 -0.771414 -0.379574  0.718717  1.111151  1.277707  0.819081  512.25  \n",
       "7052 -0.089452 -0.506000 -0.062259 -0.052714  0.322854  0.135268  180.00  \n",
       "8778  0.051132 -0.415430  0.219665  0.330020 -0.028252 -0.156270    7.52  \n",
       "9070 -0.184233 -0.284091  0.493467  0.732329  0.675067  0.337076   94.82  \n",
       "\n",
       "[20 rows x 30 columns]"
      ]
     },
     "execution_count": 137,
     "metadata": {},
     "output_type": "execute_result"
    }
   ],
   "source": [
    "# review the inputs that lead to a prediction = 1 (fraud)\n",
    "samples.iloc[[i for i, j in enumerate(predictions) if j == 1]]"
   ]
  },
  {
   "cell_type": "markdown",
   "id": "ff33a1b8-dea2-4c86-9551-7c38c067781a",
   "metadata": {},
   "source": [
    "---\n",
    "## Online Predictions: Asynchronous Examples\n",
    "\n",
    "  "
   ]
  },
  {
   "cell_type": "markdown",
   "id": "747a9f57-5179-4d7c-803b-0d90e74e2138",
   "metadata": {},
   "source": [
    "### What is Async?\n",
    "If we make a request with the async method the response is a [coroutine](https://docs.python.org/3/glossary.html#term-coroutine) object.  This means the method is already implemented with an `async def` statement which makes it [awaitable](https://docs.python.org/3/library/asyncio-task.html#awaitables).\n",
    "\n",
    "The following cells show using the method with, and without, an await expression:"
   ]
  },
  {
   "cell_type": "code",
   "execution_count": 153,
   "id": "7da32989-9010-49c7-bc04-45ce0b0f687c",
   "metadata": {
    "tags": []
   },
   "outputs": [
    {
     "data": {
      "text/plain": [
       "10000"
      ]
     },
     "execution_count": 153,
     "metadata": {},
     "output_type": "execute_result"
    }
   ],
   "source": [
    "len(newobs)"
   ]
  },
  {
   "cell_type": "code",
   "execution_count": 169,
   "id": "b70fc42b-558f-4655-b2f4-5341dcc8ba04",
   "metadata": {
    "tags": []
   },
   "outputs": [
    {
     "data": {
      "text/plain": [
       "<coroutine object Endpoint.predict_async at 0x7f51c9929850>"
      ]
     },
     "execution_count": 169,
     "metadata": {},
     "output_type": "execute_result"
    }
   ],
   "source": [
    "endpoint.predict_async(instances = newobs[0:1])"
   ]
  },
  {
   "cell_type": "code",
   "execution_count": 170,
   "id": "b783db87-f9ce-42cf-afdf-54ff4b5dd71a",
   "metadata": {
    "tags": []
   },
   "outputs": [
    {
     "data": {
      "text/plain": [
       "Prediction(predictions=[[0.999759495, 0.000240550202]], deployed_model_id='2423682068408958976', metadata=None, model_version_id='18', model_resource_name='projects/1026793852137/locations/us-central1/models/model_05_05', explanations=None)"
      ]
     },
     "execution_count": 170,
     "metadata": {},
     "output_type": "execute_result"
    }
   ],
   "source": [
    "await endpoint.predict_async(instances = newobs[0:1])"
   ]
  },
  {
   "cell_type": "markdown",
   "id": "62afb7d9-65f0-4f68-aaba-7962733f11a8",
   "metadata": {},
   "source": [
    "### How To Use Async Concurrently\n",
    "\n",
    "The previous section showed that the `predict_async()` method returns a coroutine, which is an awaitable object.  When multiple coroutines are grouped together they can be awaited together - concurrently.\n",
    "\n",
    "To group the coroutines together use [asyncio.gather()](https://docs.python.org/3/library/asyncio-task.html#running-tasks-concurrently):"
   ]
  },
  {
   "cell_type": "code",
   "execution_count": 171,
   "id": "7d33d722-88e3-43f4-8a45-2275c4cbaa43",
   "metadata": {
    "tags": []
   },
   "outputs": [],
   "source": [
    "responses = asyncio.gather(*[\n",
    "    endpoint.predict_async(\n",
    "        instances = [newobs[i]]\n",
    "    ) for i in range(5)\n",
    "])"
   ]
  },
  {
   "cell_type": "code",
   "execution_count": 172,
   "id": "51a43ef7-a9ad-4850-b6e2-6300b517203a",
   "metadata": {
    "tags": []
   },
   "outputs": [
    {
     "data": {
      "text/plain": [
       "asyncio.tasks._GatheringFuture"
      ]
     },
     "execution_count": 172,
     "metadata": {},
     "output_type": "execute_result"
    }
   ],
   "source": [
    "type(responses)"
   ]
  },
  {
   "cell_type": "markdown",
   "id": "07e5e015-80e3-41ef-b2fa-17fe686b2eb4",
   "metadata": {
    "tags": []
   },
   "source": [
    "To make the requests concurrent, `await` the coroutine grouping:"
   ]
  },
  {
   "cell_type": "code",
   "execution_count": 173,
   "id": "411ed2f6-50d8-4e76-ac80-6b7e88afe28d",
   "metadata": {
    "tags": []
   },
   "outputs": [],
   "source": [
    "responses = await asyncio.gather(*[\n",
    "    endpoint.predict_async(\n",
    "        instances = [newobs[i]]\n",
    "    ) for i in range(5)\n",
    "])"
   ]
  },
  {
   "cell_type": "code",
   "execution_count": 174,
   "id": "debc3614-50c1-47fc-aa05-8e01fd3d5a7c",
   "metadata": {
    "tags": []
   },
   "outputs": [
    {
     "data": {
      "text/plain": [
       "(list, 5)"
      ]
     },
     "execution_count": 174,
     "metadata": {},
     "output_type": "execute_result"
    }
   ],
   "source": [
    "type(responses), len(responses)"
   ]
  },
  {
   "cell_type": "code",
   "execution_count": 176,
   "id": "97c4d645-d6e7-4be2-ba68-c53e5de9a38f",
   "metadata": {
    "tags": []
   },
   "outputs": [
    {
     "name": "stdout",
     "output_type": "stream",
     "text": [
      "[[0.999759495, 0.000240550202]]\n",
      "[[0.999389887, 0.000610153715]]\n",
      "[[0.999763429, 0.00023654796]]\n",
      "[[0.999877572, 0.000122421348]]\n",
      "[[0.999873042, 0.000126962143]]\n"
     ]
    }
   ],
   "source": [
    "for response in responses:\n",
    "    print(response.predictions)"
   ]
  },
  {
   "cell_type": "markdown",
   "id": "854eb38e-14b9-4d82-8751-39b9908f6a32",
   "metadata": {},
   "source": [
    "### Managing Concurrency\n",
    "\n",
    "In some cases, doing all the tasks concurrently can work. Usually, there are limitations though. Waiting on a API to respond does not put a burden on the local compute so managing lots of requests may not be an issue on the client side.  It can still be helpful to put limits on concurrency for managing the requests.  A first step to limiting concurrency is using a tool like [asyncio.Semaphore](https://docs.python.org/3/library/asyncio-sync.html#semaphore) to managed a counter of current concurrent requests.\n",
    "\n",
    "The following builds a function that manages the full list of request and uses a semaphore to control the concurrency.  Think of this as the concurrency buffer limit."
   ]
  },
  {
   "cell_type": "code",
   "execution_count": 154,
   "id": "ecc78a02-c59b-4c1f-99a3-f254abd7375e",
   "metadata": {
    "tags": []
   },
   "outputs": [],
   "source": [
    "async def asyncPredictions(instances, batch_size = 1, limit_concur_request = 10):\n",
    "    limit = asyncio.Semaphore(limit_concur_request)\n",
    "    # requests come back out of order so create an ordered structure to capture them\n",
    "    predictions = [None] * len(instances)\n",
    "    \n",
    "    # function to make prediction requests\n",
    "    async def predictor(p):\n",
    "        async with limit:\n",
    "            if limit.locked():\n",
    "                await asyncio.sleep(.01)\n",
    "            preds = await endpoint.predict_async(instances = instances[p:p+batch_size])\n",
    "        predictions[p:p+batch_size] = [np.argmax(pred) for pred in preds.predictions]\n",
    "\n",
    "    # manage tasks\n",
    "    tasks = [asyncio.create_task(predictor(p)) for p in range(0, len(instances), batch_size)]\n",
    "    start = time.perf_counter()\n",
    "    responses = await asyncio.gather(*tasks)\n",
    "    elapsed = time.perf_counter() - start\n",
    "    print(f'{elapsed:0.5f} seconds for {len(instances)} instances in asynchronous batches of size = {batch_size} managed within {limit_concur_request} concurrent requests')\n",
    "    \n",
    "    return predictions"
   ]
  },
  {
   "cell_type": "code",
   "execution_count": 156,
   "id": "6da6c550-e76e-486c-acd8-bbe1532fe03d",
   "metadata": {
    "tags": []
   },
   "outputs": [
    {
     "name": "stdout",
     "output_type": "stream",
     "text": [
      "244.08676 seconds for 10000 instances in asynchronous batches of size = 1 managed within 1 concurrent requests\n"
     ]
    }
   ],
   "source": [
    "# force synchronous request in batch_size = 1\n",
    "predictions = await asyncPredictions(newobs, batch_size = 1, limit_concur_request = 1)"
   ]
  },
  {
   "cell_type": "code",
   "execution_count": 157,
   "id": "d412ca5b-a7b9-4985-a1ec-3378e3b72e2e",
   "metadata": {
    "tags": []
   },
   "outputs": [
    {
     "name": "stdout",
     "output_type": "stream",
     "text": [
      "126.50838 seconds for 10000 instances in asynchronous batches of size = 2 managed within 1 concurrent requests\n"
     ]
    }
   ],
   "source": [
    "# force synchronous request in batch_size = 2\n",
    "predictions = await asyncPredictions(newobs, batch_size = 2, limit_concur_request = 1)"
   ]
  },
  {
   "cell_type": "code",
   "execution_count": 158,
   "id": "fefff81f-2d62-49c1-89ae-6f160e3e4cfc",
   "metadata": {
    "tags": []
   },
   "outputs": [
    {
     "name": "stdout",
     "output_type": "stream",
     "text": [
      "30.81778 seconds for 10000 instances in asynchronous batches of size = 10 managed within 1 concurrent requests\n"
     ]
    }
   ],
   "source": [
    "# force synchronous request in batch_size = 10\n",
    "predictions = await asyncPredictions(newobs, batch_size = 10, limit_concur_request = 1)"
   ]
  },
  {
   "cell_type": "code",
   "execution_count": 159,
   "id": "0338add3-25bd-4bb0-bc0b-a91bfe2f409a",
   "metadata": {
    "tags": []
   },
   "outputs": [
    {
     "name": "stdout",
     "output_type": "stream",
     "text": [
      "123.37394 seconds for 10000 instances in asynchronous batches of size = 1 managed within 2 concurrent requests\n"
     ]
    }
   ],
   "source": [
    "# force asynchronous with 2 concurrent and batch_size = 1\n",
    "predictions = await asyncPredictions(newobs, batch_size = 1, limit_concur_request = 2)"
   ]
  },
  {
   "cell_type": "code",
   "execution_count": 160,
   "id": "02c3f5fa-0c66-4b74-ba3e-1db28465a587",
   "metadata": {
    "tags": []
   },
   "outputs": [
    {
     "name": "stdout",
     "output_type": "stream",
     "text": [
      "25.57906 seconds for 10000 instances in asynchronous batches of size = 1 managed within 10 concurrent requests\n"
     ]
    }
   ],
   "source": [
    "# force asynchronous with 10 concurrent and batch_size = 1\n",
    "predictions = await asyncPredictions(newobs, batch_size = 1, limit_concur_request = 10)"
   ]
  },
  {
   "cell_type": "code",
   "execution_count": 161,
   "id": "00fc9d56-f3d0-4913-a5c5-b58c07355070",
   "metadata": {
    "tags": []
   },
   "outputs": [
    {
     "name": "stdout",
     "output_type": "stream",
     "text": [
      "14.61041 seconds for 10000 instances in asynchronous batches of size = 1 managed within 20 concurrent requests\n"
     ]
    }
   ],
   "source": [
    "# force asynchronous with 20 concurrent and batch_size = 1\n",
    "predictions = await asyncPredictions(newobs, batch_size = 1, limit_concur_request = 20)"
   ]
  },
  {
   "cell_type": "code",
   "execution_count": 162,
   "id": "d254f299-1fa5-480c-a9fc-f76905141758",
   "metadata": {
    "tags": []
   },
   "outputs": [
    {
     "name": "stdout",
     "output_type": "stream",
     "text": [
      "8.82831 seconds for 10000 instances in asynchronous batches of size = 2 managed within 20 concurrent requests\n"
     ]
    }
   ],
   "source": [
    "# force asynchronous with 10 concurrent and batch_size = 2\n",
    "predictions = await asyncPredictions(newobs, batch_size = 2, limit_concur_request = 20)"
   ]
  },
  {
   "cell_type": "code",
   "execution_count": 163,
   "id": "9cc20bcd-84a6-4c25-8576-adab199f31b2",
   "metadata": {
    "tags": []
   },
   "outputs": [
    {
     "name": "stdout",
     "output_type": "stream",
     "text": [
      "4.09104 seconds for 10000 instances in asynchronous batches of size = 100 managed within 10 concurrent requests\n"
     ]
    }
   ],
   "source": [
    "# all at once with 10 concurrent and batch_size = 100\n",
    "predictions = await asyncPredictions(newobs, batch_size = 100, limit_concur_request = 10)"
   ]
  },
  {
   "cell_type": "code",
   "execution_count": 164,
   "id": "afc85cba-0ba0-4bfc-9c2c-c7ee1cbaacfc",
   "metadata": {
    "tags": []
   },
   "outputs": [
    {
     "name": "stdout",
     "output_type": "stream",
     "text": [
      "4.64933 seconds for 10000 instances in asynchronous batches of size = 10 managed within 100 concurrent requests\n"
     ]
    }
   ],
   "source": [
    "# all at once with 100 concurrent and batch_size = 10\n",
    "predictions = await asyncPredictions(newobs, batch_size = 10, limit_concur_request = 100)"
   ]
  },
  {
   "cell_type": "code",
   "execution_count": 165,
   "id": "22895580-2972-4a63-adf5-7cbc9e8a1c94",
   "metadata": {
    "tags": []
   },
   "outputs": [
    {
     "data": {
      "text/plain": [
       "Counter({0: 9980, 1: 20})"
      ]
     },
     "execution_count": 165,
     "metadata": {},
     "output_type": "execute_result"
    }
   ],
   "source": [
    "# get a count of the number of predictions that resulted in 0 (not fraud) and 1 (fraud)\n",
    "from collections import Counter\n",
    "c = Counter(predictions)\n",
    "c"
   ]
  },
  {
   "cell_type": "code",
   "execution_count": 166,
   "id": "93aa46cc-4967-4f45-b28a-eaf026fe777c",
   "metadata": {
    "tags": []
   },
   "outputs": [
    {
     "data": {
      "text/plain": [
       "[53,\n",
       " 576,\n",
       " 3371,\n",
       " 3958,\n",
       " 3995,\n",
       " 4028,\n",
       " 4212,\n",
       " 4292,\n",
       " 4293,\n",
       " 4350,\n",
       " 4500,\n",
       " 4532,\n",
       " 4654,\n",
       " 4707,\n",
       " 4738,\n",
       " 4892,\n",
       " 5207,\n",
       " 7052,\n",
       " 8778,\n",
       " 9070]"
      ]
     },
     "execution_count": 166,
     "metadata": {},
     "output_type": "execute_result"
    }
   ],
   "source": [
    "# get the index for the predictions that resulted in predicting = 1 (fraud)\n",
    "[i for i, j in enumerate(predictions) if j == 1]"
   ]
  },
  {
   "cell_type": "code",
   "execution_count": 167,
   "id": "7f4e969a-dcf0-4e00-827f-3b1629bab893",
   "metadata": {
    "tags": []
   },
   "outputs": [
    {
     "data": {
      "text/html": [
       "<div>\n",
       "<style scoped>\n",
       "    .dataframe tbody tr th:only-of-type {\n",
       "        vertical-align: middle;\n",
       "    }\n",
       "\n",
       "    .dataframe tbody tr th {\n",
       "        vertical-align: top;\n",
       "    }\n",
       "\n",
       "    .dataframe thead th {\n",
       "        text-align: right;\n",
       "    }\n",
       "</style>\n",
       "<table border=\"1\" class=\"dataframe\">\n",
       "  <thead>\n",
       "    <tr style=\"text-align: right;\">\n",
       "      <th></th>\n",
       "      <th>Time</th>\n",
       "      <th>V1</th>\n",
       "      <th>V2</th>\n",
       "      <th>V3</th>\n",
       "      <th>V4</th>\n",
       "      <th>V5</th>\n",
       "      <th>V6</th>\n",
       "      <th>V7</th>\n",
       "      <th>V8</th>\n",
       "      <th>V9</th>\n",
       "      <th>...</th>\n",
       "      <th>V20</th>\n",
       "      <th>V21</th>\n",
       "      <th>V22</th>\n",
       "      <th>V23</th>\n",
       "      <th>V24</th>\n",
       "      <th>V25</th>\n",
       "      <th>V26</th>\n",
       "      <th>V27</th>\n",
       "      <th>V28</th>\n",
       "      <th>Amount</th>\n",
       "    </tr>\n",
       "  </thead>\n",
       "  <tbody>\n",
       "    <tr>\n",
       "      <th>53</th>\n",
       "      <td>85285</td>\n",
       "      <td>-7.030308</td>\n",
       "      <td>3.421991</td>\n",
       "      <td>-9.525072</td>\n",
       "      <td>5.270891</td>\n",
       "      <td>-4.024630</td>\n",
       "      <td>-2.865682</td>\n",
       "      <td>-6.989195</td>\n",
       "      <td>3.791551</td>\n",
       "      <td>-4.622730</td>\n",
       "      <td>...</td>\n",
       "      <td>0.545698</td>\n",
       "      <td>1.103398</td>\n",
       "      <td>-0.541855</td>\n",
       "      <td>0.036943</td>\n",
       "      <td>-0.355519</td>\n",
       "      <td>0.353634</td>\n",
       "      <td>1.042458</td>\n",
       "      <td>1.359516</td>\n",
       "      <td>-0.272188</td>\n",
       "      <td>0.00</td>\n",
       "    </tr>\n",
       "    <tr>\n",
       "      <th>576</th>\n",
       "      <td>56887</td>\n",
       "      <td>-0.075483</td>\n",
       "      <td>1.812355</td>\n",
       "      <td>-2.566981</td>\n",
       "      <td>4.127549</td>\n",
       "      <td>-1.628532</td>\n",
       "      <td>-0.805895</td>\n",
       "      <td>-3.390135</td>\n",
       "      <td>1.019353</td>\n",
       "      <td>-2.451251</td>\n",
       "      <td>...</td>\n",
       "      <td>0.338598</td>\n",
       "      <td>0.794372</td>\n",
       "      <td>0.270471</td>\n",
       "      <td>-0.143624</td>\n",
       "      <td>0.013566</td>\n",
       "      <td>0.634203</td>\n",
       "      <td>0.213693</td>\n",
       "      <td>0.773625</td>\n",
       "      <td>0.387434</td>\n",
       "      <td>5.00</td>\n",
       "    </tr>\n",
       "    <tr>\n",
       "      <th>3371</th>\n",
       "      <td>43369</td>\n",
       "      <td>-3.365319</td>\n",
       "      <td>2.426503</td>\n",
       "      <td>-3.752227</td>\n",
       "      <td>0.276017</td>\n",
       "      <td>-2.305870</td>\n",
       "      <td>-1.961578</td>\n",
       "      <td>-3.029283</td>\n",
       "      <td>-1.674462</td>\n",
       "      <td>0.183961</td>\n",
       "      <td>...</td>\n",
       "      <td>-0.036837</td>\n",
       "      <td>2.070008</td>\n",
       "      <td>-0.512626</td>\n",
       "      <td>-0.248502</td>\n",
       "      <td>0.126550</td>\n",
       "      <td>0.104166</td>\n",
       "      <td>-1.055997</td>\n",
       "      <td>-1.200165</td>\n",
       "      <td>-1.012066</td>\n",
       "      <td>88.00</td>\n",
       "    </tr>\n",
       "    <tr>\n",
       "      <th>3958</th>\n",
       "      <td>143354</td>\n",
       "      <td>1.118331</td>\n",
       "      <td>2.074439</td>\n",
       "      <td>-3.837518</td>\n",
       "      <td>5.448060</td>\n",
       "      <td>0.071816</td>\n",
       "      <td>-1.020509</td>\n",
       "      <td>-1.808574</td>\n",
       "      <td>0.521744</td>\n",
       "      <td>-2.032638</td>\n",
       "      <td>...</td>\n",
       "      <td>0.163513</td>\n",
       "      <td>0.289861</td>\n",
       "      <td>-0.172718</td>\n",
       "      <td>-0.021910</td>\n",
       "      <td>-0.376560</td>\n",
       "      <td>0.192817</td>\n",
       "      <td>0.114107</td>\n",
       "      <td>0.500996</td>\n",
       "      <td>0.259533</td>\n",
       "      <td>1.00</td>\n",
       "    </tr>\n",
       "    <tr>\n",
       "      <th>3995</th>\n",
       "      <td>93888</td>\n",
       "      <td>-10.040631</td>\n",
       "      <td>6.139183</td>\n",
       "      <td>-12.972972</td>\n",
       "      <td>7.740555</td>\n",
       "      <td>-8.684705</td>\n",
       "      <td>-3.837429</td>\n",
       "      <td>-11.907702</td>\n",
       "      <td>5.833273</td>\n",
       "      <td>-5.731054</td>\n",
       "      <td>...</td>\n",
       "      <td>-0.082275</td>\n",
       "      <td>2.823431</td>\n",
       "      <td>1.153005</td>\n",
       "      <td>-0.567343</td>\n",
       "      <td>0.843012</td>\n",
       "      <td>0.549938</td>\n",
       "      <td>0.113892</td>\n",
       "      <td>-0.307375</td>\n",
       "      <td>0.061631</td>\n",
       "      <td>1.00</td>\n",
       "    </tr>\n",
       "    <tr>\n",
       "      <th>4028</th>\n",
       "      <td>20332</td>\n",
       "      <td>-15.271362</td>\n",
       "      <td>8.326581</td>\n",
       "      <td>-22.338591</td>\n",
       "      <td>11.885313</td>\n",
       "      <td>-8.721334</td>\n",
       "      <td>-2.324307</td>\n",
       "      <td>-16.196419</td>\n",
       "      <td>0.512882</td>\n",
       "      <td>-6.333685</td>\n",
       "      <td>...</td>\n",
       "      <td>0.993121</td>\n",
       "      <td>-2.356896</td>\n",
       "      <td>1.068019</td>\n",
       "      <td>1.085617</td>\n",
       "      <td>-1.039797</td>\n",
       "      <td>-0.182006</td>\n",
       "      <td>0.649921</td>\n",
       "      <td>2.149247</td>\n",
       "      <td>-1.406811</td>\n",
       "      <td>1.00</td>\n",
       "    </tr>\n",
       "    <tr>\n",
       "      <th>4212</th>\n",
       "      <td>7551</td>\n",
       "      <td>0.316459</td>\n",
       "      <td>3.809076</td>\n",
       "      <td>-5.615159</td>\n",
       "      <td>6.047445</td>\n",
       "      <td>1.554026</td>\n",
       "      <td>-2.651353</td>\n",
       "      <td>-0.746579</td>\n",
       "      <td>0.055586</td>\n",
       "      <td>-2.678679</td>\n",
       "      <td>...</td>\n",
       "      <td>0.388307</td>\n",
       "      <td>0.208828</td>\n",
       "      <td>-0.511747</td>\n",
       "      <td>-0.583813</td>\n",
       "      <td>-0.219845</td>\n",
       "      <td>1.474753</td>\n",
       "      <td>0.491192</td>\n",
       "      <td>0.518868</td>\n",
       "      <td>0.402528</td>\n",
       "      <td>1.00</td>\n",
       "    </tr>\n",
       "    <tr>\n",
       "      <th>4292</th>\n",
       "      <td>13126</td>\n",
       "      <td>-2.880042</td>\n",
       "      <td>5.225442</td>\n",
       "      <td>-11.063330</td>\n",
       "      <td>6.689951</td>\n",
       "      <td>-5.759924</td>\n",
       "      <td>-2.244031</td>\n",
       "      <td>-11.199975</td>\n",
       "      <td>4.014722</td>\n",
       "      <td>-3.429304</td>\n",
       "      <td>...</td>\n",
       "      <td>1.191444</td>\n",
       "      <td>2.002883</td>\n",
       "      <td>0.351102</td>\n",
       "      <td>0.795255</td>\n",
       "      <td>-0.778379</td>\n",
       "      <td>-1.646815</td>\n",
       "      <td>0.487539</td>\n",
       "      <td>1.427713</td>\n",
       "      <td>0.583172</td>\n",
       "      <td>1.00</td>\n",
       "    </tr>\n",
       "    <tr>\n",
       "      <th>4293</th>\n",
       "      <td>152036</td>\n",
       "      <td>-4.320609</td>\n",
       "      <td>3.199939</td>\n",
       "      <td>-5.799736</td>\n",
       "      <td>6.502330</td>\n",
       "      <td>0.378479</td>\n",
       "      <td>-1.948246</td>\n",
       "      <td>-2.167860</td>\n",
       "      <td>-0.728207</td>\n",
       "      <td>-1.977238</td>\n",
       "      <td>...</td>\n",
       "      <td>-0.263686</td>\n",
       "      <td>0.476660</td>\n",
       "      <td>0.434278</td>\n",
       "      <td>-0.136940</td>\n",
       "      <td>-0.620072</td>\n",
       "      <td>0.642531</td>\n",
       "      <td>0.280717</td>\n",
       "      <td>-2.649107</td>\n",
       "      <td>0.533641</td>\n",
       "      <td>1.00</td>\n",
       "    </tr>\n",
       "    <tr>\n",
       "      <th>4350</th>\n",
       "      <td>100298</td>\n",
       "      <td>-22.341889</td>\n",
       "      <td>15.536133</td>\n",
       "      <td>-22.865228</td>\n",
       "      <td>7.043374</td>\n",
       "      <td>-14.183129</td>\n",
       "      <td>-0.463145</td>\n",
       "      <td>-28.215112</td>\n",
       "      <td>-14.607791</td>\n",
       "      <td>-9.481456</td>\n",
       "      <td>...</td>\n",
       "      <td>4.100019</td>\n",
       "      <td>-9.110423</td>\n",
       "      <td>4.158895</td>\n",
       "      <td>1.412928</td>\n",
       "      <td>0.382801</td>\n",
       "      <td>0.447154</td>\n",
       "      <td>-0.632816</td>\n",
       "      <td>-4.380154</td>\n",
       "      <td>-0.467863</td>\n",
       "      <td>1.00</td>\n",
       "    </tr>\n",
       "    <tr>\n",
       "      <th>4500</th>\n",
       "      <td>92087</td>\n",
       "      <td>-1.451238</td>\n",
       "      <td>3.254195</td>\n",
       "      <td>-4.882234</td>\n",
       "      <td>2.500684</td>\n",
       "      <td>0.049397</td>\n",
       "      <td>-2.453242</td>\n",
       "      <td>-1.467971</td>\n",
       "      <td>0.681112</td>\n",
       "      <td>-1.101456</td>\n",
       "      <td>...</td>\n",
       "      <td>-0.043739</td>\n",
       "      <td>0.742459</td>\n",
       "      <td>0.783571</td>\n",
       "      <td>-0.207588</td>\n",
       "      <td>-0.296522</td>\n",
       "      <td>0.487173</td>\n",
       "      <td>-0.264616</td>\n",
       "      <td>-0.060481</td>\n",
       "      <td>0.188632</td>\n",
       "      <td>1.00</td>\n",
       "    </tr>\n",
       "    <tr>\n",
       "      <th>4532</th>\n",
       "      <td>40742</td>\n",
       "      <td>-2.377533</td>\n",
       "      <td>0.520539</td>\n",
       "      <td>-8.094139</td>\n",
       "      <td>8.005351</td>\n",
       "      <td>2.640750</td>\n",
       "      <td>-3.381586</td>\n",
       "      <td>-1.934372</td>\n",
       "      <td>0.562322</td>\n",
       "      <td>-3.104027</td>\n",
       "      <td>...</td>\n",
       "      <td>-0.634747</td>\n",
       "      <td>0.148284</td>\n",
       "      <td>0.721100</td>\n",
       "      <td>2.661291</td>\n",
       "      <td>-0.508620</td>\n",
       "      <td>-0.401657</td>\n",
       "      <td>0.587611</td>\n",
       "      <td>0.500326</td>\n",
       "      <td>0.551760</td>\n",
       "      <td>1.00</td>\n",
       "    </tr>\n",
       "    <tr>\n",
       "      <th>4654</th>\n",
       "      <td>68207</td>\n",
       "      <td>-13.192671</td>\n",
       "      <td>12.785971</td>\n",
       "      <td>-9.906650</td>\n",
       "      <td>3.320337</td>\n",
       "      <td>-4.801176</td>\n",
       "      <td>5.760059</td>\n",
       "      <td>-18.750889</td>\n",
       "      <td>-37.353443</td>\n",
       "      <td>-0.391540</td>\n",
       "      <td>...</td>\n",
       "      <td>-3.493050</td>\n",
       "      <td>27.202839</td>\n",
       "      <td>-8.887017</td>\n",
       "      <td>5.303607</td>\n",
       "      <td>-0.639435</td>\n",
       "      <td>0.263203</td>\n",
       "      <td>-0.108877</td>\n",
       "      <td>1.269566</td>\n",
       "      <td>0.939407</td>\n",
       "      <td>1.00</td>\n",
       "    </tr>\n",
       "    <tr>\n",
       "      <th>4707</th>\n",
       "      <td>8090</td>\n",
       "      <td>-1.783229</td>\n",
       "      <td>3.402794</td>\n",
       "      <td>-3.822742</td>\n",
       "      <td>2.625368</td>\n",
       "      <td>-1.976415</td>\n",
       "      <td>-2.731689</td>\n",
       "      <td>-3.430559</td>\n",
       "      <td>1.413204</td>\n",
       "      <td>-0.776941</td>\n",
       "      <td>...</td>\n",
       "      <td>0.364089</td>\n",
       "      <td>0.454032</td>\n",
       "      <td>-0.577526</td>\n",
       "      <td>0.045967</td>\n",
       "      <td>0.461700</td>\n",
       "      <td>0.044146</td>\n",
       "      <td>0.305704</td>\n",
       "      <td>0.530981</td>\n",
       "      <td>0.243746</td>\n",
       "      <td>1.00</td>\n",
       "    </tr>\n",
       "    <tr>\n",
       "      <th>4738</th>\n",
       "      <td>41444</td>\n",
       "      <td>-6.691666</td>\n",
       "      <td>5.648488</td>\n",
       "      <td>-10.169744</td>\n",
       "      <td>4.214428</td>\n",
       "      <td>-5.086248</td>\n",
       "      <td>-3.483809</td>\n",
       "      <td>-7.202235</td>\n",
       "      <td>4.829117</td>\n",
       "      <td>-2.492367</td>\n",
       "      <td>...</td>\n",
       "      <td>0.946201</td>\n",
       "      <td>0.965550</td>\n",
       "      <td>-0.649861</td>\n",
       "      <td>-0.092988</td>\n",
       "      <td>-0.055988</td>\n",
       "      <td>0.241145</td>\n",
       "      <td>-0.286647</td>\n",
       "      <td>1.121216</td>\n",
       "      <td>0.320708</td>\n",
       "      <td>1.00</td>\n",
       "    </tr>\n",
       "    <tr>\n",
       "      <th>4892</th>\n",
       "      <td>8886</td>\n",
       "      <td>-2.535852</td>\n",
       "      <td>5.793644</td>\n",
       "      <td>-7.618463</td>\n",
       "      <td>6.395830</td>\n",
       "      <td>-0.065210</td>\n",
       "      <td>-3.136372</td>\n",
       "      <td>-3.104557</td>\n",
       "      <td>1.823233</td>\n",
       "      <td>-3.878658</td>\n",
       "      <td>...</td>\n",
       "      <td>0.408704</td>\n",
       "      <td>0.716720</td>\n",
       "      <td>-0.448060</td>\n",
       "      <td>-0.402407</td>\n",
       "      <td>-0.288835</td>\n",
       "      <td>1.011752</td>\n",
       "      <td>0.425965</td>\n",
       "      <td>0.413140</td>\n",
       "      <td>0.308205</td>\n",
       "      <td>1.00</td>\n",
       "    </tr>\n",
       "    <tr>\n",
       "      <th>5207</th>\n",
       "      <td>84204</td>\n",
       "      <td>-1.927453</td>\n",
       "      <td>1.827621</td>\n",
       "      <td>-7.019495</td>\n",
       "      <td>5.348303</td>\n",
       "      <td>-2.739188</td>\n",
       "      <td>-2.107219</td>\n",
       "      <td>-5.015848</td>\n",
       "      <td>1.205868</td>\n",
       "      <td>-4.382713</td>\n",
       "      <td>...</td>\n",
       "      <td>2.172709</td>\n",
       "      <td>1.376938</td>\n",
       "      <td>-0.792017</td>\n",
       "      <td>-0.771414</td>\n",
       "      <td>-0.379574</td>\n",
       "      <td>0.718717</td>\n",
       "      <td>1.111151</td>\n",
       "      <td>1.277707</td>\n",
       "      <td>0.819081</td>\n",
       "      <td>512.25</td>\n",
       "    </tr>\n",
       "    <tr>\n",
       "      <th>7052</th>\n",
       "      <td>62080</td>\n",
       "      <td>-1.599457</td>\n",
       "      <td>2.607720</td>\n",
       "      <td>-2.987193</td>\n",
       "      <td>3.064156</td>\n",
       "      <td>-2.497914</td>\n",
       "      <td>-0.541103</td>\n",
       "      <td>-2.277786</td>\n",
       "      <td>1.268166</td>\n",
       "      <td>-1.997331</td>\n",
       "      <td>...</td>\n",
       "      <td>0.225333</td>\n",
       "      <td>0.662933</td>\n",
       "      <td>0.184087</td>\n",
       "      <td>-0.089452</td>\n",
       "      <td>-0.506000</td>\n",
       "      <td>-0.062259</td>\n",
       "      <td>-0.052714</td>\n",
       "      <td>0.322854</td>\n",
       "      <td>0.135268</td>\n",
       "      <td>180.00</td>\n",
       "    </tr>\n",
       "    <tr>\n",
       "      <th>8778</th>\n",
       "      <td>56650</td>\n",
       "      <td>-8.762083</td>\n",
       "      <td>2.791030</td>\n",
       "      <td>-7.682767</td>\n",
       "      <td>6.991214</td>\n",
       "      <td>-5.230695</td>\n",
       "      <td>-0.357388</td>\n",
       "      <td>-9.685621</td>\n",
       "      <td>1.749335</td>\n",
       "      <td>-4.495679</td>\n",
       "      <td>...</td>\n",
       "      <td>-0.460390</td>\n",
       "      <td>-0.090527</td>\n",
       "      <td>0.348590</td>\n",
       "      <td>0.051132</td>\n",
       "      <td>-0.415430</td>\n",
       "      <td>0.219665</td>\n",
       "      <td>0.330020</td>\n",
       "      <td>-0.028252</td>\n",
       "      <td>-0.156270</td>\n",
       "      <td>7.52</td>\n",
       "    </tr>\n",
       "    <tr>\n",
       "      <th>9070</th>\n",
       "      <td>155554</td>\n",
       "      <td>-1.040067</td>\n",
       "      <td>3.106703</td>\n",
       "      <td>-5.409027</td>\n",
       "      <td>3.109903</td>\n",
       "      <td>-0.887237</td>\n",
       "      <td>-2.497522</td>\n",
       "      <td>-2.073347</td>\n",
       "      <td>0.639818</td>\n",
       "      <td>-3.013331</td>\n",
       "      <td>...</td>\n",
       "      <td>1.054390</td>\n",
       "      <td>0.773961</td>\n",
       "      <td>0.214868</td>\n",
       "      <td>-0.184233</td>\n",
       "      <td>-0.284091</td>\n",
       "      <td>0.493467</td>\n",
       "      <td>0.732329</td>\n",
       "      <td>0.675067</td>\n",
       "      <td>0.337076</td>\n",
       "      <td>94.82</td>\n",
       "    </tr>\n",
       "  </tbody>\n",
       "</table>\n",
       "<p>20 rows × 30 columns</p>\n",
       "</div>"
      ],
      "text/plain": [
       "        Time         V1         V2         V3         V4         V5        V6  \\\n",
       "53     85285  -7.030308   3.421991  -9.525072   5.270891  -4.024630 -2.865682   \n",
       "576    56887  -0.075483   1.812355  -2.566981   4.127549  -1.628532 -0.805895   \n",
       "3371   43369  -3.365319   2.426503  -3.752227   0.276017  -2.305870 -1.961578   \n",
       "3958  143354   1.118331   2.074439  -3.837518   5.448060   0.071816 -1.020509   \n",
       "3995   93888 -10.040631   6.139183 -12.972972   7.740555  -8.684705 -3.837429   \n",
       "4028   20332 -15.271362   8.326581 -22.338591  11.885313  -8.721334 -2.324307   \n",
       "4212    7551   0.316459   3.809076  -5.615159   6.047445   1.554026 -2.651353   \n",
       "4292   13126  -2.880042   5.225442 -11.063330   6.689951  -5.759924 -2.244031   \n",
       "4293  152036  -4.320609   3.199939  -5.799736   6.502330   0.378479 -1.948246   \n",
       "4350  100298 -22.341889  15.536133 -22.865228   7.043374 -14.183129 -0.463145   \n",
       "4500   92087  -1.451238   3.254195  -4.882234   2.500684   0.049397 -2.453242   \n",
       "4532   40742  -2.377533   0.520539  -8.094139   8.005351   2.640750 -3.381586   \n",
       "4654   68207 -13.192671  12.785971  -9.906650   3.320337  -4.801176  5.760059   \n",
       "4707    8090  -1.783229   3.402794  -3.822742   2.625368  -1.976415 -2.731689   \n",
       "4738   41444  -6.691666   5.648488 -10.169744   4.214428  -5.086248 -3.483809   \n",
       "4892    8886  -2.535852   5.793644  -7.618463   6.395830  -0.065210 -3.136372   \n",
       "5207   84204  -1.927453   1.827621  -7.019495   5.348303  -2.739188 -2.107219   \n",
       "7052   62080  -1.599457   2.607720  -2.987193   3.064156  -2.497914 -0.541103   \n",
       "8778   56650  -8.762083   2.791030  -7.682767   6.991214  -5.230695 -0.357388   \n",
       "9070  155554  -1.040067   3.106703  -5.409027   3.109903  -0.887237 -2.497522   \n",
       "\n",
       "             V7         V8        V9  ...       V20        V21       V22  \\\n",
       "53    -6.989195   3.791551 -4.622730  ...  0.545698   1.103398 -0.541855   \n",
       "576   -3.390135   1.019353 -2.451251  ...  0.338598   0.794372  0.270471   \n",
       "3371  -3.029283  -1.674462  0.183961  ... -0.036837   2.070008 -0.512626   \n",
       "3958  -1.808574   0.521744 -2.032638  ...  0.163513   0.289861 -0.172718   \n",
       "3995 -11.907702   5.833273 -5.731054  ... -0.082275   2.823431  1.153005   \n",
       "4028 -16.196419   0.512882 -6.333685  ...  0.993121  -2.356896  1.068019   \n",
       "4212  -0.746579   0.055586 -2.678679  ...  0.388307   0.208828 -0.511747   \n",
       "4292 -11.199975   4.014722 -3.429304  ...  1.191444   2.002883  0.351102   \n",
       "4293  -2.167860  -0.728207 -1.977238  ... -0.263686   0.476660  0.434278   \n",
       "4350 -28.215112 -14.607791 -9.481456  ...  4.100019  -9.110423  4.158895   \n",
       "4500  -1.467971   0.681112 -1.101456  ... -0.043739   0.742459  0.783571   \n",
       "4532  -1.934372   0.562322 -3.104027  ... -0.634747   0.148284  0.721100   \n",
       "4654 -18.750889 -37.353443 -0.391540  ... -3.493050  27.202839 -8.887017   \n",
       "4707  -3.430559   1.413204 -0.776941  ...  0.364089   0.454032 -0.577526   \n",
       "4738  -7.202235   4.829117 -2.492367  ...  0.946201   0.965550 -0.649861   \n",
       "4892  -3.104557   1.823233 -3.878658  ...  0.408704   0.716720 -0.448060   \n",
       "5207  -5.015848   1.205868 -4.382713  ...  2.172709   1.376938 -0.792017   \n",
       "7052  -2.277786   1.268166 -1.997331  ...  0.225333   0.662933  0.184087   \n",
       "8778  -9.685621   1.749335 -4.495679  ... -0.460390  -0.090527  0.348590   \n",
       "9070  -2.073347   0.639818 -3.013331  ...  1.054390   0.773961  0.214868   \n",
       "\n",
       "           V23       V24       V25       V26       V27       V28  Amount  \n",
       "53    0.036943 -0.355519  0.353634  1.042458  1.359516 -0.272188    0.00  \n",
       "576  -0.143624  0.013566  0.634203  0.213693  0.773625  0.387434    5.00  \n",
       "3371 -0.248502  0.126550  0.104166 -1.055997 -1.200165 -1.012066   88.00  \n",
       "3958 -0.021910 -0.376560  0.192817  0.114107  0.500996  0.259533    1.00  \n",
       "3995 -0.567343  0.843012  0.549938  0.113892 -0.307375  0.061631    1.00  \n",
       "4028  1.085617 -1.039797 -0.182006  0.649921  2.149247 -1.406811    1.00  \n",
       "4212 -0.583813 -0.219845  1.474753  0.491192  0.518868  0.402528    1.00  \n",
       "4292  0.795255 -0.778379 -1.646815  0.487539  1.427713  0.583172    1.00  \n",
       "4293 -0.136940 -0.620072  0.642531  0.280717 -2.649107  0.533641    1.00  \n",
       "4350  1.412928  0.382801  0.447154 -0.632816 -4.380154 -0.467863    1.00  \n",
       "4500 -0.207588 -0.296522  0.487173 -0.264616 -0.060481  0.188632    1.00  \n",
       "4532  2.661291 -0.508620 -0.401657  0.587611  0.500326  0.551760    1.00  \n",
       "4654  5.303607 -0.639435  0.263203 -0.108877  1.269566  0.939407    1.00  \n",
       "4707  0.045967  0.461700  0.044146  0.305704  0.530981  0.243746    1.00  \n",
       "4738 -0.092988 -0.055988  0.241145 -0.286647  1.121216  0.320708    1.00  \n",
       "4892 -0.402407 -0.288835  1.011752  0.425965  0.413140  0.308205    1.00  \n",
       "5207 -0.771414 -0.379574  0.718717  1.111151  1.277707  0.819081  512.25  \n",
       "7052 -0.089452 -0.506000 -0.062259 -0.052714  0.322854  0.135268  180.00  \n",
       "8778  0.051132 -0.415430  0.219665  0.330020 -0.028252 -0.156270    7.52  \n",
       "9070 -0.184233 -0.284091  0.493467  0.732329  0.675067  0.337076   94.82  \n",
       "\n",
       "[20 rows x 30 columns]"
      ]
     },
     "execution_count": 167,
     "metadata": {},
     "output_type": "execute_result"
    }
   ],
   "source": [
    "# review the inputs that lead to a prediction = 1 (fraud)\n",
    "samples.iloc[[i for i, j in enumerate(predictions) if j == 1]]"
   ]
  },
  {
   "cell_type": "markdown",
   "id": "67a6c418-0725-47f6-a6b6-ca0fc6b72c4b",
   "metadata": {},
   "source": [
    "###  Handling Errors With Retries\n",
    "\n",
    "In application design it is not always possible to control all applications trying to make request of a resource at the minute level.  \n",
    "\n",
    "The two most common errors that will be faced are:\n",
    "- `ServiceUnavailable: 503 Model server connection error. Please retry.`\n",
    "- `ResourceExhausted: 429 Quota exceeded for `\n",
    "    - There are [quotas and limits](https://cloud.google.com/vertex-ai/docs/quotas) that restrict the projects use of models, specifically the number of request per minutes.  Across all models in a project there is a very high limit for predictions per minute in a region (30,000). \n",
    "\n",
    "Techniques are needed to detect these and retry after waiting.  The section below shows using asynchronous request, as covered above, as well as forcing and handling errors in serving."
   ]
  },
  {
   "cell_type": "markdown",
   "id": "25b1f855-fc0b-4ff1-93df-dd2a35f0274e",
   "metadata": {},
   "source": [
    "#### Force Error\n",
    "\n",
    "Running the cell below (uncomment to test it), will lead to a `503` service unavailable error:"
   ]
  },
  {
   "cell_type": "code",
   "execution_count": 177,
   "id": "be1bc363-a956-46bc-9b4f-c461f3f91e9b",
   "metadata": {
    "tags": []
   },
   "outputs": [
    {
     "name": "stdout",
     "output_type": "stream",
     "text": [
      "ServiceUnavailable was raised: 503 Model server connection error. Please retry. endpoint_id: 725723853820526592, deployed_model_id: 2423682068408958976\n"
     ]
    }
   ],
   "source": [
    "try:\n",
    "    predictions = await asyncPredictions(newobs[0:1]*10000, batch_size = 1, limit_concur_request = 10000)\n",
    "except Exception as err:\n",
    "    print(f\"{type(err).__name__} was raised: {err}\")"
   ]
  },
  {
   "cell_type": "markdown",
   "id": "4297e236-a161-4941-a245-08595b7af12e",
   "metadata": {},
   "source": [
    "#### Detect Errors and Retry:\n",
    "\n",
    "Recall the function above that managed concurrent requests and modify it to detect the errors and retry with graduated backoff intervals (exponential backoff):\n",
    "- sets a limit on the retries, 20 in this case\n",
    "- increments the wait time for each retry, exponential backoff in this case"
   ]
  },
  {
   "cell_type": "code",
   "execution_count": 178,
   "id": "53b9deba-4d37-42f2-81bd-4cf2e4825303",
   "metadata": {
    "tags": []
   },
   "outputs": [],
   "source": [
    "async def asyncPredictions(instances, batch_size = 1, limit_concur_request = 10):\n",
    "    limit = asyncio.Semaphore(limit_concur_request)\n",
    "    # requests come back out of order so create an ordered structure to capture them\n",
    "    predictions = [None] * len(instances)\n",
    "    \n",
    "    # function to make prediction requests\n",
    "    async def predictor(p):\n",
    "        async with limit:\n",
    "            if limit.locked():\n",
    "                await asyncio.sleep(.01)\n",
    "            ########################### ERROR HANDLING ###########################\n",
    "            fail_count = 0\n",
    "            while fail_count <= 20:\n",
    "                try:\n",
    "                    preds = await endpoint.predict_async(instances = instances[p:p+batch_size])\n",
    "                    if fail_count > 0:\n",
    "                        print(f'Item {p} succeed after fail count = {fail_count}')\n",
    "                    break\n",
    "                except:\n",
    "                    fail_count += 1\n",
    "                    print(f'Item {p} failed: current fail count = {fail_count}')\n",
    "                    await asyncio.sleep(2^(min(fail_count, 6) - 1))\n",
    "            ######################################################################\n",
    "        predictions[p:p+batch_size] = [np.argmax(pred) for pred in preds.predictions]\n",
    "\n",
    "    # manage tasks\n",
    "    tasks = [asyncio.create_task(predictor(p)) for p in range(0, len(instances), batch_size)]\n",
    "    start = time.perf_counter()\n",
    "    responses = await asyncio.gather(*tasks)\n",
    "    elapsed = time.perf_counter() - start\n",
    "    print(f'{elapsed:0.5f} seconds for {len(instances)} instances in asynchronous batches of size = {batch_size} managed within {limit_concur_request} concurrent requests')\n",
    "    \n",
    "    return predictions"
   ]
  },
  {
   "cell_type": "code",
   "execution_count": 180,
   "id": "6378eb8c-a1f3-4c9a-95de-f9f47fc608b9",
   "metadata": {
    "tags": []
   },
   "outputs": [
    {
     "name": "stdout",
     "output_type": "stream",
     "text": [
      "Item 156 failed: current fail count = 1\n",
      "Item 8 failed: current fail count = 1\n",
      "Item 82 failed: current fail count = 1\n",
      "Item 128 failed: current fail count = 1\n",
      "Item 53 failed: current fail count = 1\n",
      "Item 13 failed: current fail count = 1\n",
      "Item 120 failed: current fail count = 1\n",
      "Item 151 failed: current fail count = 1\n",
      "Item 13 succeed after fail count = 1\n",
      "Item 8 succeed after fail count = 1\n",
      "Item 128 succeed after fail count = 1\n",
      "Item 156 succeed after fail count = 1\n",
      "Item 120 succeed after fail count = 1\n",
      "Item 82 succeed after fail count = 1\n",
      "Item 151 succeed after fail count = 1\n",
      "Item 53 succeed after fail count = 1\n",
      "23.03266 seconds for 20000 instances in asynchronous batches of size = 1 managed within 2000 concurrent requests\n"
     ]
    }
   ],
   "source": [
    "# 1000 concurrent requests, each with 10 instances, sustained for 10,000 requests\n",
    "predictions = await asyncPredictions(newobs[0:1]*20000, batch_size = 1, limit_concur_request = 2000)"
   ]
  },
  {
   "cell_type": "code",
   "execution_count": 181,
   "id": "c81b2c88-73b7-4d3b-ae90-7f184b88c3ad",
   "metadata": {
    "tags": []
   },
   "outputs": [
    {
     "data": {
      "text/plain": [
       "20000"
      ]
     },
     "execution_count": 181,
     "metadata": {},
     "output_type": "execute_result"
    }
   ],
   "source": [
    "len(predictions)"
   ]
  },
  {
   "cell_type": "code",
   "execution_count": 182,
   "id": "e6f5da8a-7305-45e7-a523-171e5af5b98f",
   "metadata": {
    "tags": []
   },
   "outputs": [
    {
     "data": {
      "text/plain": [
       "0"
      ]
     },
     "execution_count": 182,
     "metadata": {},
     "output_type": "execute_result"
    }
   ],
   "source": [
    "predictions[0]"
   ]
  },
  {
   "cell_type": "code",
   "execution_count": null,
   "id": "5f99a143-ec08-4959-9fc1-6e752cb72865",
   "metadata": {},
   "outputs": [],
   "source": []
  }
 ],
 "metadata": {
  "environment": {
   "kernel": "conda-root-py",
   "name": "workbench-notebooks.m113",
   "type": "gcloud",
   "uri": "gcr.io/deeplearning-platform-release/workbench-notebooks:m113"
  },
  "kernelspec": {
   "display_name": "Python 3 (ipykernel) (Local)",
   "language": "python",
   "name": "conda-root-py"
  },
  "language_info": {
   "codemirror_mode": {
    "name": "ipython",
    "version": 3
   },
   "file_extension": ".py",
   "mimetype": "text/x-python",
   "name": "python",
   "nbconvert_exporter": "python",
   "pygments_lexer": "ipython3",
   "version": "3.10.13"
  },
  "toc-autonumbering": false,
  "toc-showcode": false,
  "toc-showmarkdowntxt": false,
  "toc-showtags": false
 },
 "nbformat": 4,
 "nbformat_minor": 5
}
