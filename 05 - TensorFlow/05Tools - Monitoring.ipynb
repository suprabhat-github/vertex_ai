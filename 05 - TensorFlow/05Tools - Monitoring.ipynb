{
 "cells": [
  {
   "cell_type": "markdown",
   "id": "d0f36192",
   "metadata": {},
   "source": [
    "![ga4](https://www.google-analytics.com/collect?v=2&tid=G-6VDTYWLKX6&cid=1&en=page_view&sid=1&dl=statmike%2Fvertex-ai-mlops%2F05+-+TensorFlow&dt=05Tools+-+Monitoring.ipynb)\n",
    "<!--- header table --->\n",
    "<table align=\"left\">\n",
    "  <td style=\"text-align: center\">\n",
    "    <a href=\"https://colab.research.google.com/github/statmike/vertex-ai-mlops/blob/main/05%20-%20TensorFlow/05Tools%20-%20Monitoring.ipynb\">\n",
    "      <img src=\"https://cloud.google.com/ml-engine/images/colab-logo-32px.png\" alt=\"Google Colaboratory logo\">\n",
    "      <br>Run in<br>Colab\n",
    "    </a>\n",
    "  </td>\n",
    "  <td style=\"text-align: center\">\n",
    "    <a href=\"https://console.cloud.google.com/vertex-ai/colab/import/https%3A//raw.githubusercontent.com/statmike/vertex-ai-mlops/main/05%20-%20TensorFlow/05Tools%20-%20Monitoring.ipynb\">\n",
    "      <img width=\"32px\" src=\"https://lh3.googleusercontent.com/JmcxdQi-qOpctIvWKgPtrzZdJJK-J3sWE1RsfjZNwshCFgE_9fULcNpuXYTilIR2hjwN\" alt=\"Google Cloud Colab Enterprise logo\">\n",
    "      <br>Run in<br>Colab Enterprise\n",
    "    </a>\n",
    "  </td>      \n",
    "  <td style=\"text-align: center\">\n",
    "    <a href=\"https://github.com/statmike/vertex-ai-mlops/blob/main/05%20-%20TensorFlow/05Tools%20-%20Monitoring.ipynb\">\n",
    "      <img src=\"https://cloud.google.com/ml-engine/images/github-logo-32px.png\" alt=\"GitHub logo\">\n",
    "      <br>View on<br>GitHub\n",
    "    </a>\n",
    "  </td>\n",
    "  <td style=\"text-align: center\">\n",
    "    <a href=\"https://console.cloud.google.com/vertex-ai/workbench/deploy-notebook?download_url=https%3A//raw.githubusercontent.com/statmike/vertex-ai-mlops/main/05%20-%20TensorFlow/05Tools%20-%20Monitoring.ipynb\">\n",
    "      <img src=\"https://lh3.googleusercontent.com/UiNooY4LUgW_oTvpsNhPpQzsstV5W8F7rYgxgGBD85cWJoLmrOzhVs_ksK_vgx40SHs7jCqkTkCk=e14-rj-sc0xffffff-h130-w32\" alt=\"Vertex AI logo\">\n",
    "      <br>Open in<br>Vertex AI Workbench\n",
    "    </a>\n",
    "  </td>\n",
    "</table>"
   ]
  },
  {
   "cell_type": "markdown",
   "id": "13798f26-6018-4d89-b340-c401e2cb1694",
   "metadata": {},
   "source": [
    "# 05Tools: Model Monitoring\n",
    "\n",
    "Model training results in a model that reflects a translation of features to predictions.  Without further training or re-training, this becomes dependent on the training data.  Monitoring is essential for understanding risk, or trust, in a model to do the task it was created for.  There are multiple aspects that may be desired for monitoring:\n",
    "\n",
    "- Features\n",
    "    - At Prediction time\n",
    "        - features shift from train time: training-serving **skew**\n",
    "        - features change over time: prediction **drift**\n",
    "        - feature attributions\n",
    "            - From model explainability\n",
    "        - Predictions themselves\n",
    "        - considerations:\n",
    "            - online predictions\n",
    "            - batch predictions\n",
    "            - edge preditions\n",
    "    - At data time\n",
    "        - values over time - feature store\n",
    "        - features meaning changes over time\n",
    "        - a change in feature stability over time may impact currently deployed models\n",
    "        - changes in features may change their consideration for future model development\n",
    "\n",
    "This notebook will setup model monitoring for a Vertex AI Endpoint hosted model.  Model Monitoring will be setup for skew and drift with thresholds set for all features and local feature attributions (explanations):\n",
    "- numerical features difference is calculated with [Jensen-Shannon divergence](https://en.wikipedia.org/wiki/Jensen%E2%80%93Shannon_divergence)\n",
    "- categorical features difference is calculated with [L-infinity distance](https://en.wikipedia.org/wiki/Chebyshev_distance)\n",
    "\n",
    "**Prerequisites:**\n",
    "-  At least 1 of the notebooks in this series [05, 05a-05i]\n",
    "   \n",
    "**Resources:**\n",
    "- [Python Client for Vertex AI](https://googleapis.dev/python/aiplatform/latest/aiplatform.html)\n",
    "- [Model Monitoring Documentation](https://cloud.google.com/vertex-ai/docs/model-monitoring/overview)\n",
    "- [Blog: Monitor Models with Vertex AI](https://cloud.google.com/blog/topics/developers-practitioners/monitor-models-training-serving-skew-vertex-ai)\n",
    "\n",
    "### Conceptual Flow & Workflow\n",
    "<p align=\"center\">\n",
    "  <img alt=\"Conceptual Flow\" src=\"../architectures/slides/05tools_monitor_arch.png\" width=\"45%\">\n",
    "&nbsp; &nbsp; &nbsp; &nbsp;\n",
    "  <img alt=\"Workflow\" src=\"../architectures/slides/05tools_monitor_console.png\" width=\"45%\">\n",
    "</p>"
   ]
  },
  {
   "cell_type": "markdown",
   "id": "c9289e3e-c96f-4201-8823-02356471bddc",
   "metadata": {},
   "source": [
    "---\n",
    "## Setup"
   ]
  },
  {
   "cell_type": "markdown",
   "id": "1ec9e64d-1969-46dd-9b5f-710843e2aca1",
   "metadata": {},
   "source": [
    "inputs:"
   ]
  },
  {
   "cell_type": "code",
   "execution_count": 1,
   "id": "9dcd574d-77b3-4517-8465-29d4becabd3c",
   "metadata": {},
   "outputs": [
    {
     "data": {
      "text/plain": [
       "'statmike-mlops-349915'"
      ]
     },
     "execution_count": 1,
     "metadata": {},
     "output_type": "execute_result"
    }
   ],
   "source": [
    "project = !gcloud config get-value project\n",
    "PROJECT_ID = project[0]\n",
    "PROJECT_ID"
   ]
  },
  {
   "cell_type": "code",
   "execution_count": 2,
   "id": "995923d5-cc78-4a91-a4f5-65925a3f759e",
   "metadata": {},
   "outputs": [],
   "source": [
    "REGION = 'us-central1'\n",
    "EXPERIMENT = 'monitoring'\n",
    "SERIES = '05'\n",
    "\n",
    "# source data\n",
    "BQ_PROJECT = PROJECT_ID\n",
    "BQ_DATASET = 'fraud'\n",
    "BQ_TABLE = 'fraud_prepped'\n",
    "\n",
    "# Model Training\n",
    "VAR_TARGET = 'Class'\n",
    "VAR_OMIT = 'transaction_id' # add more variables to the string with space delimiters"
   ]
  },
  {
   "cell_type": "markdown",
   "id": "7d5bd722-6de0-4997-85c6-09717aba822d",
   "metadata": {},
   "source": [
    "packages:"
   ]
  },
  {
   "cell_type": "code",
   "execution_count": 3,
   "id": "3b1b72dc-e6c3-451d-8e1a-ea337ef09f0d",
   "metadata": {},
   "outputs": [],
   "source": [
    "from google.cloud import aiplatform\n",
    "\n",
    "from google.cloud import bigquery\n",
    "from google.protobuf import json_format\n",
    "from google.protobuf.struct_pb2 import Value\n",
    "import json\n",
    "import time\n",
    "import numpy as np\n",
    "import matplotlib.pyplot as plt"
   ]
  },
  {
   "cell_type": "markdown",
   "id": "e7dd6b3f-209c-4208-af64-7b5305aa1677",
   "metadata": {},
   "source": [
    "clients:"
   ]
  },
  {
   "cell_type": "code",
   "execution_count": 4,
   "id": "3c44d322-1c20-4b7d-9ebd-d73d084550e2",
   "metadata": {},
   "outputs": [],
   "source": [
    "aiplatform.init(project = PROJECT_ID, location = REGION)\n",
    "bq = bigquery.Client(project = PROJECT_ID)"
   ]
  },
  {
   "cell_type": "markdown",
   "id": "a0b6f802-b6dc-426f-923b-b9a9f816b489",
   "metadata": {},
   "source": [
    "parameters:"
   ]
  },
  {
   "cell_type": "code",
   "execution_count": 5,
   "id": "19068bb5-077a-499e-9aa0-8d12c6616e41",
   "metadata": {},
   "outputs": [],
   "source": [
    "BUCKET = PROJECT_ID\n",
    "URI = f\"gs://{BUCKET}/{SERIES}/{EXPERIMENT}\""
   ]
  },
  {
   "cell_type": "markdown",
   "id": "2b8a8ec6-d053-4a7c-be76-ad014e8ad3af",
   "metadata": {},
   "source": [
    "---\n",
    "## Get Vertex AI Endpoint\n",
    "\n",
    "This project already has a model serving online predictions at a Vertex AI Endpoint.  This section will use the endpoint to retrieve the deployed model and get its information to use for batch prediction methods in this notebook."
   ]
  },
  {
   "cell_type": "markdown",
   "id": "ccf87cda-b31f-4157-b1e9-f96215f19817",
   "metadata": {},
   "source": [
    "### Get Endpoint\n",
    "\n",
    "[Endpoint Properties and Methods](https://cloud.google.com/python/docs/reference/aiplatform/latest/google.cloud.aiplatform.Endpoint):\n",
    "\n",
    "```python\n",
    "endpoint\n",
    "endpoint.display_name\n",
    "endpoint.resource_name\n",
    "endpoint.traffic_split\n",
    "endpoint.list_models()\n",
    "```"
   ]
  },
  {
   "cell_type": "code",
   "execution_count": 6,
   "id": "dae75e08-4c05-4b50-9eb6-55ad851c404d",
   "metadata": {},
   "outputs": [
    {
     "name": "stdout",
     "output_type": "stream",
     "text": [
      "Endpoint Exists: projects/1026793852137/locations/us-central1/endpoints/8352053052307406848\n"
     ]
    }
   ],
   "source": [
    "endpoints = aiplatform.Endpoint.list(filter = f\"labels.series={SERIES}\")\n",
    "if endpoints:\n",
    "    endpoint = endpoints[0]\n",
    "    print(f\"Endpoint Exists: {endpoints[0].resource_name}\")\n",
    "else:\n",
    "    print(f\"There does not appear to be an endpoint for SERIES = {SERIES}\")"
   ]
  },
  {
   "cell_type": "code",
   "execution_count": 7,
   "id": "938af475-ff82-41f4-8fb4-ceeb4c0d6918",
   "metadata": {},
   "outputs": [
    {
     "data": {
      "text/plain": [
       "'05'"
      ]
     },
     "execution_count": 7,
     "metadata": {},
     "output_type": "execute_result"
    }
   ],
   "source": [
    "endpoint.display_name"
   ]
  },
  {
   "cell_type": "code",
   "execution_count": 8,
   "id": "8dc802ff-cc5b-484c-8f1c-7aea6a89f9a3",
   "metadata": {},
   "outputs": [
    {
     "name": "stdout",
     "output_type": "stream",
     "text": [
      "Review the Endpoint in the Console:\n",
      "https://console.cloud.google.com/vertex-ai/locations/us-central1/endpoints/8352053052307406848?project=statmike-mlops-349915\n"
     ]
    }
   ],
   "source": [
    "print(f'Review the Endpoint in the Console:\\nhttps://console.cloud.google.com/vertex-ai/locations/{REGION}/endpoints/{endpoint.name}?project={PROJECT_ID}')"
   ]
  },
  {
   "cell_type": "markdown",
   "id": "5be170ec-3482-4f43-b005-c258a0a1fe30",
   "metadata": {},
   "source": [
    "---\n",
    "## Get The Deployed Model"
   ]
  },
  {
   "cell_type": "code",
   "execution_count": 9,
   "id": "cc2e28b1-d5d7-4943-a7b6-66db9d5f01c4",
   "metadata": {},
   "outputs": [],
   "source": [
    "model = aiplatform.Model(\n",
    "    model_name = endpoint.list_models()[0].model+f'@{endpoint.list_models()[0].model_version_id}'\n",
    ")"
   ]
  },
  {
   "cell_type": "code",
   "execution_count": 10,
   "id": "3833049f-3852-4ff3-9203-d5e03f065e8f",
   "metadata": {},
   "outputs": [
    {
     "data": {
      "text/plain": [
       "'05_05a'"
      ]
     },
     "execution_count": 10,
     "metadata": {},
     "output_type": "execute_result"
    }
   ],
   "source": [
    "model.display_name"
   ]
  },
  {
   "cell_type": "code",
   "execution_count": 11,
   "id": "295a66a8-d7bc-47eb-bfad-f2b60961f930",
   "metadata": {},
   "outputs": [
    {
     "data": {
      "text/plain": [
       "'projects/1026793852137/locations/us-central1/models/model_05_05a@6'"
      ]
     },
     "execution_count": 11,
     "metadata": {},
     "output_type": "execute_result"
    }
   ],
   "source": [
    "model.versioned_resource_name"
   ]
  },
  {
   "cell_type": "code",
   "execution_count": 12,
   "id": "ad48dbb6-e01a-419e-9f4c-94cfd36be4ee",
   "metadata": {},
   "outputs": [
    {
     "data": {
      "text/plain": [
       "'gs://statmike-mlops-349915/05/05a/models/20230210132930/model'"
      ]
     },
     "execution_count": 12,
     "metadata": {},
     "output_type": "execute_result"
    }
   ],
   "source": [
    "model.uri"
   ]
  },
  {
   "cell_type": "code",
   "execution_count": 13,
   "id": "cae87eb1-2021-4073-aa33-24bdb6301843",
   "metadata": {},
   "outputs": [
    {
     "data": {
      "text/plain": [
       "'6'"
      ]
     },
     "execution_count": 13,
     "metadata": {},
     "output_type": "execute_result"
    }
   ],
   "source": [
    "model.version_id"
   ]
  },
  {
   "cell_type": "code",
   "execution_count": 14,
   "id": "0dadc3d2-68b0-4c4c-adbe-7cc3a6381563",
   "metadata": {},
   "outputs": [
    {
     "name": "stdout",
     "output_type": "stream",
     "text": [
      "Review the model in the Vertex AI Model Registry:\n",
      "https://console.cloud.google.com/vertex-ai/locations/us-central1/models/model_05_05a/versions/6/properties?project=statmike-mlops-349915\n"
     ]
    }
   ],
   "source": [
    "print(f'Review the model in the Vertex AI Model Registry:\\nhttps://console.cloud.google.com/vertex-ai/locations/{REGION}/models/{model.name}/versions/{model.version_id}/properties?project={PROJECT_ID}')"
   ]
  },
  {
   "cell_type": "markdown",
   "id": "a8e3098e-8249-4d5d-b192-1804109c76bb",
   "metadata": {},
   "source": [
    "### Review Model Information"
   ]
  },
  {
   "cell_type": "code",
   "execution_count": 15,
   "id": "99ed7230-e41e-4233-ba2c-598835f5be20",
   "metadata": {},
   "outputs": [
    {
     "data": {
      "text/plain": [
       "'05_05a'"
      ]
     },
     "execution_count": 15,
     "metadata": {},
     "output_type": "execute_result"
    }
   ],
   "source": [
    "model.display_name"
   ]
  },
  {
   "cell_type": "code",
   "execution_count": 16,
   "id": "0ef2ca94-ce8f-4baf-b65a-d0105375e9bc",
   "metadata": {},
   "outputs": [
    {
     "data": {
      "text/plain": [
       "'projects/1026793852137/locations/us-central1/models/model_05_05a'"
      ]
     },
     "execution_count": 16,
     "metadata": {},
     "output_type": "execute_result"
    }
   ],
   "source": [
    "model.resource_name"
   ]
  },
  {
   "cell_type": "code",
   "execution_count": 17,
   "id": "c9a2a979-d1db-4700-a830-abf4671215de",
   "metadata": {},
   "outputs": [
    {
     "data": {
      "text/plain": [
       "'6'"
      ]
     },
     "execution_count": 17,
     "metadata": {},
     "output_type": "execute_result"
    }
   ],
   "source": [
    "model.version_id"
   ]
  },
  {
   "cell_type": "code",
   "execution_count": 18,
   "id": "5c403f5f-c1c9-4c00-bf52-05d29ed3626a",
   "metadata": {},
   "outputs": [
    {
     "data": {
      "text/plain": [
       "'run-20230210132930'"
      ]
     },
     "execution_count": 18,
     "metadata": {},
     "output_type": "execute_result"
    }
   ],
   "source": [
    "model.version_description"
   ]
  },
  {
   "cell_type": "code",
   "execution_count": 19,
   "id": "27899830-24e4-4d5c-8f2f-fd9918128fe8",
   "metadata": {},
   "outputs": [
    {
     "data": {
      "text/plain": [
       "'projects/1026793852137/locations/us-central1/models/model_05_05a@6'"
      ]
     },
     "execution_count": 19,
     "metadata": {},
     "output_type": "execute_result"
    }
   ],
   "source": [
    "model.versioned_resource_name"
   ]
  },
  {
   "cell_type": "code",
   "execution_count": 20,
   "id": "20c273da-c917-4a08-bd3d-e35bfeff395b",
   "metadata": {},
   "outputs": [
    {
     "data": {
      "text/plain": [
       "['jsonl', 'bigquery', 'csv', 'tf-record', 'tf-record-gzip', 'file-list']"
      ]
     },
     "execution_count": 20,
     "metadata": {},
     "output_type": "execute_result"
    }
   ],
   "source": [
    "model.supported_input_storage_formats"
   ]
  },
  {
   "cell_type": "code",
   "execution_count": 21,
   "id": "ead5efd2-4cd4-45e4-bd45-ee4100f88ae0",
   "metadata": {},
   "outputs": [
    {
     "data": {
      "text/plain": [
       "'model_05_05a'"
      ]
     },
     "execution_count": 21,
     "metadata": {},
     "output_type": "execute_result"
    }
   ],
   "source": [
    "model.name"
   ]
  },
  {
   "cell_type": "code",
   "execution_count": 22,
   "id": "cad7faa2-0dff-43d5-8735-9d166428c099",
   "metadata": {},
   "outputs": [
    {
     "data": {
      "text/plain": [
       "'gs://statmike-mlops-349915/05/05a/models/20230210132930/model'"
      ]
     },
     "execution_count": 22,
     "metadata": {},
     "output_type": "execute_result"
    }
   ],
   "source": [
    "model.uri"
   ]
  },
  {
   "cell_type": "code",
   "execution_count": 23,
   "id": "188209f9-9cf9-4bdc-9c44-4fae99c893e4",
   "metadata": {},
   "outputs": [
    {
     "name": "stdout",
     "output_type": "stream",
     "text": [
      "Review the model in the Vertex AI Model Registry:\n",
      "https://console.cloud.google.com/vertex-ai/locations/us-central1/models/model_05_05a/versions/6/properties?project=statmike-mlops-349915\n"
     ]
    }
   ],
   "source": [
    "print(f'Review the model in the Vertex AI Model Registry:\\nhttps://console.cloud.google.com/vertex-ai/locations/{REGION}/models/{model.name}/versions/{model.version_id}/properties?project={PROJECT_ID}')"
   ]
  },
  {
   "cell_type": "markdown",
   "id": "23b09967-f425-448b-8e52-e90bf750ea0f",
   "metadata": {},
   "source": [
    "---\n",
    "### Retrieve Records For Prediction"
   ]
  },
  {
   "cell_type": "code",
   "execution_count": 24,
   "id": "fccfdb64-0974-4501-8f29-e8467201609b",
   "metadata": {},
   "outputs": [],
   "source": [
    "n = 1000\n",
    "pred = bq.query(\n",
    "    query = f\"\"\"\n",
    "        SELECT * EXCEPT({VAR_TARGET}, {VAR_OMIT}, splits)\n",
    "        FROM {BQ_PROJECT}.{BQ_DATASET}.{BQ_TABLE}\n",
    "        WHERE splits='TEST'\n",
    "        LIMIT {n}\n",
    "        \"\"\"\n",
    ").to_dataframe()"
   ]
  },
  {
   "cell_type": "code",
   "execution_count": 25,
   "id": "55816776-f14b-4fdb-8549-895d36d87f8d",
   "metadata": {},
   "outputs": [
    {
     "data": {
      "text/html": [
       "<div>\n",
       "<style scoped>\n",
       "    .dataframe tbody tr th:only-of-type {\n",
       "        vertical-align: middle;\n",
       "    }\n",
       "\n",
       "    .dataframe tbody tr th {\n",
       "        vertical-align: top;\n",
       "    }\n",
       "\n",
       "    .dataframe thead th {\n",
       "        text-align: right;\n",
       "    }\n",
       "</style>\n",
       "<table border=\"1\" class=\"dataframe\">\n",
       "  <thead>\n",
       "    <tr style=\"text-align: right;\">\n",
       "      <th></th>\n",
       "      <th>Time</th>\n",
       "      <th>V1</th>\n",
       "      <th>V2</th>\n",
       "      <th>V3</th>\n",
       "      <th>V4</th>\n",
       "      <th>V5</th>\n",
       "      <th>V6</th>\n",
       "      <th>V7</th>\n",
       "      <th>V8</th>\n",
       "      <th>V9</th>\n",
       "      <th>...</th>\n",
       "      <th>V20</th>\n",
       "      <th>V21</th>\n",
       "      <th>V22</th>\n",
       "      <th>V23</th>\n",
       "      <th>V24</th>\n",
       "      <th>V25</th>\n",
       "      <th>V26</th>\n",
       "      <th>V27</th>\n",
       "      <th>V28</th>\n",
       "      <th>Amount</th>\n",
       "    </tr>\n",
       "  </thead>\n",
       "  <tbody>\n",
       "    <tr>\n",
       "      <th>0</th>\n",
       "      <td>35337</td>\n",
       "      <td>1.092844</td>\n",
       "      <td>-0.013230</td>\n",
       "      <td>1.359829</td>\n",
       "      <td>2.731537</td>\n",
       "      <td>-0.707357</td>\n",
       "      <td>0.873837</td>\n",
       "      <td>-0.796130</td>\n",
       "      <td>0.437707</td>\n",
       "      <td>0.396770</td>\n",
       "      <td>...</td>\n",
       "      <td>-0.240428</td>\n",
       "      <td>0.037603</td>\n",
       "      <td>0.380026</td>\n",
       "      <td>-0.167647</td>\n",
       "      <td>0.027557</td>\n",
       "      <td>0.592115</td>\n",
       "      <td>0.219695</td>\n",
       "      <td>0.036970</td>\n",
       "      <td>0.010984</td>\n",
       "      <td>0.0</td>\n",
       "    </tr>\n",
       "    <tr>\n",
       "      <th>1</th>\n",
       "      <td>60481</td>\n",
       "      <td>1.238973</td>\n",
       "      <td>0.035226</td>\n",
       "      <td>0.063003</td>\n",
       "      <td>0.641406</td>\n",
       "      <td>-0.260893</td>\n",
       "      <td>-0.580097</td>\n",
       "      <td>0.049938</td>\n",
       "      <td>-0.034733</td>\n",
       "      <td>0.405932</td>\n",
       "      <td>...</td>\n",
       "      <td>-0.265080</td>\n",
       "      <td>-0.060003</td>\n",
       "      <td>-0.053585</td>\n",
       "      <td>-0.057718</td>\n",
       "      <td>0.104983</td>\n",
       "      <td>0.537987</td>\n",
       "      <td>0.589563</td>\n",
       "      <td>-0.046207</td>\n",
       "      <td>-0.006212</td>\n",
       "      <td>0.0</td>\n",
       "    </tr>\n",
       "    <tr>\n",
       "      <th>2</th>\n",
       "      <td>139587</td>\n",
       "      <td>1.870539</td>\n",
       "      <td>0.211079</td>\n",
       "      <td>0.224457</td>\n",
       "      <td>3.889486</td>\n",
       "      <td>-0.380177</td>\n",
       "      <td>0.249799</td>\n",
       "      <td>-0.577133</td>\n",
       "      <td>0.179189</td>\n",
       "      <td>-0.120462</td>\n",
       "      <td>...</td>\n",
       "      <td>-0.374356</td>\n",
       "      <td>0.196006</td>\n",
       "      <td>0.656552</td>\n",
       "      <td>0.180776</td>\n",
       "      <td>-0.060226</td>\n",
       "      <td>-0.228979</td>\n",
       "      <td>0.080827</td>\n",
       "      <td>0.009868</td>\n",
       "      <td>-0.036997</td>\n",
       "      <td>0.0</td>\n",
       "    </tr>\n",
       "    <tr>\n",
       "      <th>3</th>\n",
       "      <td>162908</td>\n",
       "      <td>-3.368339</td>\n",
       "      <td>-1.980442</td>\n",
       "      <td>0.153645</td>\n",
       "      <td>-0.159795</td>\n",
       "      <td>3.847169</td>\n",
       "      <td>-3.516873</td>\n",
       "      <td>-1.209398</td>\n",
       "      <td>-0.292122</td>\n",
       "      <td>0.760543</td>\n",
       "      <td>...</td>\n",
       "      <td>-0.923275</td>\n",
       "      <td>-0.545992</td>\n",
       "      <td>-0.252324</td>\n",
       "      <td>-1.171627</td>\n",
       "      <td>0.214333</td>\n",
       "      <td>-0.159652</td>\n",
       "      <td>-0.060883</td>\n",
       "      <td>1.294977</td>\n",
       "      <td>0.120503</td>\n",
       "      <td>0.0</td>\n",
       "    </tr>\n",
       "  </tbody>\n",
       "</table>\n",
       "<p>4 rows × 30 columns</p>\n",
       "</div>"
      ],
      "text/plain": [
       "     Time        V1        V2        V3        V4        V5        V6  \\\n",
       "0   35337  1.092844 -0.013230  1.359829  2.731537 -0.707357  0.873837   \n",
       "1   60481  1.238973  0.035226  0.063003  0.641406 -0.260893 -0.580097   \n",
       "2  139587  1.870539  0.211079  0.224457  3.889486 -0.380177  0.249799   \n",
       "3  162908 -3.368339 -1.980442  0.153645 -0.159795  3.847169 -3.516873   \n",
       "\n",
       "         V7        V8        V9  ...       V20       V21       V22       V23  \\\n",
       "0 -0.796130  0.437707  0.396770  ... -0.240428  0.037603  0.380026 -0.167647   \n",
       "1  0.049938 -0.034733  0.405932  ... -0.265080 -0.060003 -0.053585 -0.057718   \n",
       "2 -0.577133  0.179189 -0.120462  ... -0.374356  0.196006  0.656552  0.180776   \n",
       "3 -1.209398 -0.292122  0.760543  ... -0.923275 -0.545992 -0.252324 -1.171627   \n",
       "\n",
       "        V24       V25       V26       V27       V28  Amount  \n",
       "0  0.027557  0.592115  0.219695  0.036970  0.010984     0.0  \n",
       "1  0.104983  0.537987  0.589563 -0.046207 -0.006212     0.0  \n",
       "2 -0.060226 -0.228979  0.080827  0.009868 -0.036997     0.0  \n",
       "3  0.214333 -0.159652 -0.060883  1.294977  0.120503     0.0  \n",
       "\n",
       "[4 rows x 30 columns]"
      ]
     },
     "execution_count": 25,
     "metadata": {},
     "output_type": "execute_result"
    }
   ],
   "source": [
    "pred.head(4)"
   ]
  },
  {
   "cell_type": "markdown",
   "id": "a9f26979-e967-4a7f-b416-4b6f1d095cfa",
   "metadata": {},
   "source": [
    "Remove columns not included as features in the model:"
   ]
  },
  {
   "cell_type": "code",
   "execution_count": 26,
   "id": "85784511-2aa7-4723-bb55-1a232c759653",
   "metadata": {},
   "outputs": [
    {
     "data": {
      "text/plain": [
       "{'Time': 35337,\n",
       " 'V1': 1.0928441854981998,\n",
       " 'V2': -0.0132303486713432,\n",
       " 'V3': 1.35982868199426,\n",
       " 'V4': 2.7315370965921004,\n",
       " 'V5': -0.707357349219652,\n",
       " 'V6': 0.8738370029866129,\n",
       " 'V7': -0.7961301510622031,\n",
       " 'V8': 0.437706509544851,\n",
       " 'V9': 0.39676985012996396,\n",
       " 'V10': 0.587438102569443,\n",
       " 'V11': -0.14979756231827498,\n",
       " 'V12': 0.29514781622888103,\n",
       " 'V13': -1.30382621882143,\n",
       " 'V14': -0.31782283120234495,\n",
       " 'V15': -2.03673231037199,\n",
       " 'V16': 0.376090905274179,\n",
       " 'V17': -0.30040350116459497,\n",
       " 'V18': 0.433799615590844,\n",
       " 'V19': -0.145082264348681,\n",
       " 'V20': -0.240427548108996,\n",
       " 'V21': 0.0376030733329398,\n",
       " 'V22': 0.38002620963091405,\n",
       " 'V23': -0.16764742731151097,\n",
       " 'V24': 0.0275573495476881,\n",
       " 'V25': 0.59211469704354,\n",
       " 'V26': 0.219695164116351,\n",
       " 'V27': 0.0369695108704894,\n",
       " 'V28': 0.010984441006191,\n",
       " 'Amount': 0.0}"
      ]
     },
     "execution_count": 26,
     "metadata": {},
     "output_type": "execute_result"
    }
   ],
   "source": [
    "newobs = pred.to_dict(orient='records')\n",
    "newobs[0]"
   ]
  },
  {
   "cell_type": "code",
   "execution_count": 27,
   "id": "d3c5fdd9-e99f-46b1-92be-08aa624942c5",
   "metadata": {},
   "outputs": [
    {
     "data": {
      "text/plain": [
       "1000"
      ]
     },
     "execution_count": 27,
     "metadata": {},
     "output_type": "execute_result"
    }
   ],
   "source": [
    "len(newobs)"
   ]
  },
  {
   "cell_type": "markdown",
   "id": "7a3e0589-c5e1-4b14-b782-5e0d5fe3442b",
   "metadata": {},
   "source": [
    "---\n",
    "### Predictions\n",
    "\n",
    "For more ways to request predictions from a Vertex AI Endpoint see the [05Tools - Prediction - Online.ipynb](./05Tools%20-%20Prediction%20-%20Online.ipynb) notebook."
   ]
  },
  {
   "cell_type": "markdown",
   "id": "7f4997e2-f1f5-4d1b-ad16-f0ff7566ab15",
   "metadata": {},
   "source": [
    "#### Get Prediction: Python Client"
   ]
  },
  {
   "cell_type": "code",
   "execution_count": 28,
   "id": "5b8f0000-62a2-45fb-9b6c-cf1f6ef2f76c",
   "metadata": {},
   "outputs": [
    {
     "data": {
      "text/plain": [
       "Prediction(predictions=[[0.999802768, 0.000197230533]], deployed_model_id='5147434054177521664', model_version_id='6', model_resource_name='projects/1026793852137/locations/us-central1/models/model_05_05a', explanations=None)"
      ]
     },
     "execution_count": 28,
     "metadata": {},
     "output_type": "execute_result"
    }
   ],
   "source": [
    "prediction = endpoint.predict(instances = newobs[0:1])\n",
    "prediction"
   ]
  },
  {
   "cell_type": "code",
   "execution_count": 29,
   "id": "882d48d3-09d0-4d06-be62-595dbeb3119a",
   "metadata": {},
   "outputs": [
    {
     "data": {
      "text/plain": [
       "[0.999802768, 0.000197230533]"
      ]
     },
     "execution_count": 29,
     "metadata": {},
     "output_type": "execute_result"
    }
   ],
   "source": [
    "prediction.predictions[0]"
   ]
  },
  {
   "cell_type": "code",
   "execution_count": 30,
   "id": "90c5f55c-5a6e-4f27-87c9-e99ad47f2c30",
   "metadata": {},
   "outputs": [
    {
     "data": {
      "text/plain": [
       "0"
      ]
     },
     "execution_count": 30,
     "metadata": {},
     "output_type": "execute_result"
    }
   ],
   "source": [
    "np.argmax(prediction.predictions[0])"
   ]
  },
  {
   "cell_type": "markdown",
   "id": "77f7b1a2-4d2f-42f8-add2-42a5166b19f1",
   "metadata": {
    "tags": []
   },
   "source": [
    "### Explanations\n",
    "\n",
    "If the endpoint is hosting a model with traffic that is also enable for feature-based explanations using the `explanationSpec` then also enable monitoring of feature attributions.  To see how to enable a custom model for feature-based explanations, and to enable them for the model on this endpoint, review the [05Tools - Explainability - Feature-Based](./05Tools%20-%20Explainability%20-%20Feature-Based.ipynb) notebook."
   ]
  },
  {
   "cell_type": "code",
   "execution_count": 31,
   "id": "7e3ea789-7372-4354-b819-45970ad7514f",
   "metadata": {},
   "outputs": [
    {
     "data": {
      "text/plain": [
       "{'5147434054177521664': 100}"
      ]
     },
     "execution_count": 31,
     "metadata": {},
     "output_type": "execute_result"
    }
   ],
   "source": [
    "endpoint.traffic_split"
   ]
  },
  {
   "cell_type": "code",
   "execution_count": 32,
   "id": "b6bb5dfa-6ae1-480b-90fa-d9abb28fbbae",
   "metadata": {},
   "outputs": [],
   "source": [
    "explanation_models = [m for m in endpoint.list_models() if endpoint.traffic_split[m.id] > 0.0 and m.explanation_spec]"
   ]
  },
  {
   "cell_type": "code",
   "execution_count": 33,
   "id": "2a8f0ce5-bfe1-4832-bb8a-08b28f421580",
   "metadata": {},
   "outputs": [
    {
     "name": "stdout",
     "output_type": "stream",
     "text": [
      "prediction =  [0.999802768, 0.000197230533]\n",
      "attributions ...\n",
      "baseline output: 0.9997043013572693\n",
      "instance output: 0.9998027682304382\n",
      "output_index: [0]\n",
      "output_name: logistic\n",
      "approximation error: 0.0005706747590846932\n"
     ]
    },
    {
     "data": {
      "image/png": "[encoded data removed]",
      "text/plain": [
       "<Figure size 648x648 with 1 Axes>"
      ]
     },
     "metadata": {
      "needs_background": "light"
     },
     "output_type": "display_data"
    }
   ],
   "source": [
    "if explanation_models:\n",
    "    explanation = endpoint.explain(instances = newobs[0:1])\n",
    "    print('prediction = ', explanation.predictions[0])\n",
    "    print(\"attributions ...\")\n",
    "    print(\"baseline output:\",explanation.explanations[0].attributions[0].baseline_output_value)\n",
    "    print(\"instance output:\",explanation.explanations[0].attributions[0].instance_output_value)\n",
    "    print(\"output_index:\",explanation.explanations[0].attributions[0].output_index)\n",
    "    print(\"output_name:\",explanation.explanations[0].attributions[0].output_name)\n",
    "    print(\"approximation error:\",explanation.explanations[0].attributions[0].approximation_error)\n",
    "    \n",
    "    features = []\n",
    "    scores = []\n",
    "    for k in explanation.explanations[0].attributions[0].feature_attributions:\n",
    "        features.append(k)\n",
    "        scores.append(explanation.explanations[0].attributions[0].feature_attributions[k])\n",
    "    features = [x for _, x in sorted(zip(scores, features))]\n",
    "    scores = sorted(scores)\n",
    "    fig, ax = plt.subplots()\n",
    "    fig.set_size_inches(9, 9)\n",
    "    ax.barh(features, scores)\n",
    "    plt.title('Feature Attributions')\n",
    "    fig.show()"
   ]
  },
  {
   "cell_type": "markdown",
   "id": "c058999b-ab6f-42c5-941f-0fa23b9810da",
   "metadata": {},
   "source": [
    "---\n",
    "## Monitoring"
   ]
  },
  {
   "cell_type": "markdown",
   "id": "ab618f73-a699-414d-bad6-7bcaa835d0e9",
   "metadata": {},
   "source": [
    "### Training Data"
   ]
  },
  {
   "cell_type": "code",
   "execution_count": 39,
   "id": "01fb62b1-e104-4948-b0b1-cc9bee506201",
   "metadata": {},
   "outputs": [
    {
     "data": {
      "text/plain": [
       "<google.cloud.bigquery.table._EmptyRowIterator at 0x7f4d0373a150>"
      ]
     },
     "execution_count": 39,
     "metadata": {},
     "output_type": "execute_result"
    }
   ],
   "source": [
    "query = f\"\"\"\n",
    "CREATE OR REPLACE VIEW `{BQ_PROJECT}.{BQ_DATASET}.{BQ_TABLE}_trainingView` AS\n",
    "    SELECT * EXCEPT(splits, {VAR_OMIT.replace(' ',',')})\n",
    "    FROM `{BQ_PROJECT}.{BQ_DATASET}.{BQ_TABLE}`\n",
    "    WHERE splits = 'TRAIN'\n",
    "\"\"\"\n",
    "createView = bq.query(query)\n",
    "createView.result()"
   ]
  },
  {
   "cell_type": "markdown",
   "id": "04aa66ab-2d73-45db-b08b-f096492f6259",
   "metadata": {},
   "source": [
    "### Sampling Strategy"
   ]
  },
  {
   "cell_type": "code",
   "execution_count": 40,
   "id": "e203d6ac-f8f2-42ff-8d50-527e8784d761",
   "metadata": {},
   "outputs": [],
   "source": [
    "sampling_config = aiplatform.model_monitoring.RandomSampleConfig(\n",
    "    sample_rate = 1.0\n",
    ")"
   ]
  },
  {
   "cell_type": "markdown",
   "id": "946b5039-7a54-4742-a189-e54c75003bd3",
   "metadata": {},
   "source": [
    "### Schedule"
   ]
  },
  {
   "cell_type": "code",
   "execution_count": 41,
   "id": "1a8d0bf2-da21-4e7f-873d-c37722cfd8cc",
   "metadata": {},
   "outputs": [],
   "source": [
    "schedule_config = aiplatform.model_monitoring.ScheduleConfig(\n",
    "    monitor_interval = 1 #  min is one hour = 1\n",
    ")"
   ]
  },
  {
   "cell_type": "markdown",
   "id": "2eaaf302-c0bf-4835-8945-1da6a58ef717",
   "metadata": {},
   "source": [
    "### Alerts"
   ]
  },
  {
   "cell_type": "code",
   "execution_count": 42,
   "id": "f032b386-fde5-4f49-a79d-b1964660e85f",
   "metadata": {},
   "outputs": [],
   "source": [
    "alerting_config = aiplatform.model_monitoring.EmailAlertConfig(\n",
    "    user_emails = ['statmike@google.com'],\n",
    "    enable_logging = True\n",
    ")"
   ]
  },
  {
   "cell_type": "markdown",
   "id": "37c4597e-61f0-4037-95e1-c96b4e471dd3",
   "metadata": {},
   "source": [
    "### Objective"
   ]
  },
  {
   "cell_type": "code",
   "execution_count": 43,
   "id": "7fa6e9ca-4707-4b52-ba79-776f8e47ddaa",
   "metadata": {},
   "outputs": [],
   "source": [
    "objective_config = aiplatform.model_monitoring.ObjectiveConfig()"
   ]
  },
  {
   "cell_type": "markdown",
   "id": "3047d074-1924-4537-b16c-11adeb2fb109",
   "metadata": {},
   "source": [
    "### Thresholds\n",
    "Set all features to a very low threshold for this example - more sensitive to alerts: 0.001"
   ]
  },
  {
   "cell_type": "code",
   "execution_count": 44,
   "id": "f7f2c98d-d851-4c24-a61d-167ebcde3b3e",
   "metadata": {},
   "outputs": [
    {
     "data": {
      "text/plain": [
       "{'Time': 0.001,\n",
       " 'V1': 0.001,\n",
       " 'V2': 0.001,\n",
       " 'V3': 0.001,\n",
       " 'V4': 0.001,\n",
       " 'V5': 0.001,\n",
       " 'V6': 0.001,\n",
       " 'V7': 0.001,\n",
       " 'V8': 0.001,\n",
       " 'V9': 0.001,\n",
       " 'V10': 0.001,\n",
       " 'V11': 0.001,\n",
       " 'V12': 0.001,\n",
       " 'V13': 0.001,\n",
       " 'V14': 0.001,\n",
       " 'V15': 0.001,\n",
       " 'V16': 0.001,\n",
       " 'V17': 0.001,\n",
       " 'V18': 0.001,\n",
       " 'V19': 0.001,\n",
       " 'V20': 0.001,\n",
       " 'V21': 0.001,\n",
       " 'V22': 0.001,\n",
       " 'V23': 0.001,\n",
       " 'V24': 0.001,\n",
       " 'V25': 0.001,\n",
       " 'V26': 0.001,\n",
       " 'V27': 0.001,\n",
       " 'V28': 0.001,\n",
       " 'Amount': 0.001}"
      ]
     },
     "execution_count": 44,
     "metadata": {},
     "output_type": "execute_result"
    }
   ],
   "source": [
    "query = f\"\"\"\n",
    "SELECT column_name, data_type\n",
    "FROM {BQ_PROJECT}.{BQ_DATASET}.INFORMATION_SCHEMA.COLUMNS\n",
    "WHERE TABLE_NAME = '{BQ_TABLE}_trainingView' and column_name != '{VAR_TARGET}'\n",
    "\"\"\"\n",
    "schema = bq.query(query).to_dataframe()\n",
    "thresholds = dict(zip(schema['column_name'].tolist(), [0.001] * schema.shape[0]))\n",
    "thresholds"
   ]
  },
  {
   "cell_type": "markdown",
   "id": "70b7c462-8916-4db2-bef3-ff10b99c82d8",
   "metadata": {},
   "source": [
    "### Skew"
   ]
  },
  {
   "cell_type": "code",
   "execution_count": 45,
   "id": "16053ca5-7e76-45d5-912b-da701723367f",
   "metadata": {},
   "outputs": [],
   "source": [
    "skew_config = aiplatform.model_monitoring.SkewDetectionConfig(\n",
    "    data_source = f'bq://{BQ_PROJECT}.{BQ_DATASET}.{BQ_TABLE}_trainingView',\n",
    "    skew_thresholds = thresholds,\n",
    "    attribute_skew_thresholds = thresholds,\n",
    "    target_field = VAR_TARGET\n",
    ")\n",
    "objective_config.skew_detection_config = skew_config"
   ]
  },
  {
   "cell_type": "markdown",
   "id": "fa438f22-a0c5-4556-9812-7346f16e179f",
   "metadata": {},
   "source": [
    "### Drift"
   ]
  },
  {
   "cell_type": "code",
   "execution_count": 46,
   "id": "72f94c88-a54e-4354-8e1f-15a9227b549e",
   "metadata": {},
   "outputs": [],
   "source": [
    "drift_config = aiplatform.model_monitoring.DriftDetectionConfig(\n",
    "    drift_thresholds = thresholds,\n",
    "    attribute_drift_thresholds = thresholds\n",
    ")\n",
    "objective_config.drift_detection_config = drift_config"
   ]
  },
  {
   "cell_type": "markdown",
   "id": "03061e9a-a8f0-4631-9208-f3ed978b60d2",
   "metadata": {},
   "source": [
    "### Explanations (Feature Attributions)\n",
    "\n",
    "If the endpoint is hosting a model with traffic that is also enable for feature-based explanations using the `explanationSpec` then also enable monitoring of feature attributions.  To see how to enable a custom model for feature-based explanations, and to enable them for the model on this endpoint, review the [05Tools - Explainability - Feature-Based](./05Tools%20-%20Explainability%20-%20Feature-Based.ipynb) notebook."
   ]
  },
  {
   "cell_type": "code",
   "execution_count": 48,
   "id": "1eb00664-2666-482c-9671-9c42bcdcf6ed",
   "metadata": {},
   "outputs": [],
   "source": [
    "if explanation_models:\n",
    "    explanation_config = aiplatform.model_monitoring.ExplanationConfig()\n",
    "    objective_config.explanation_config = explanation_config"
   ]
  },
  {
   "cell_type": "markdown",
   "id": "f25bcb13-13ab-423f-b56d-55cb957a5d3b",
   "metadata": {},
   "source": [
    "### Job\n",
    "\n",
    "[aiplatform.ModelDeploymentMonitoringJob.create()](https://cloud.google.com/python/docs/reference/aiplatform/latest/google.cloud.aiplatform.ModelDeploymentMonitoringJob#google_cloud_aiplatform_ModelDeploymentMonitoringJob_create)"
   ]
  },
  {
   "cell_type": "code",
   "execution_count": 51,
   "id": "ffe66375-f48d-4073-bdc3-0140e8ac0e1f",
   "metadata": {},
   "outputs": [
    {
     "name": "stdout",
     "output_type": "stream",
     "text": [
      "Creating ModelDeploymentMonitoringJob\n",
      "ModelDeploymentMonitoringJob created. Resource name: projects/1026793852137/locations/us-central1/modelDeploymentMonitoringJobs/510248849273520128\n",
      "To use this ModelDeploymentMonitoringJob in another session:\n",
      "mdm_job = aiplatform.ModelDeploymentMonitoringJob('projects/1026793852137/locations/us-central1/modelDeploymentMonitoringJobs/510248849273520128')\n",
      "View Model Deployment Monitoring Job:\n",
      "https://console.cloud.google.com/ai/platform/locations/us-central1/model-deployment-monitoring/510248849273520128?project=1026793852137\n"
     ]
    }
   ],
   "source": [
    "job = aiplatform.ModelDeploymentMonitoringJob.create(\n",
    "    display_name = f'{SERIES}_{EXPERIMENT}',\n",
    "    logging_sampling_strategy = sampling_config,\n",
    "    schedule_config = schedule_config,\n",
    "    alert_config = alerting_config,\n",
    "    objective_configs = objective_config,\n",
    "    project = PROJECT_ID,\n",
    "    location = REGION,\n",
    "    endpoint = endpoint,\n",
    "    labels = {'series' : f'{SERIES}', 'experiment' : f'{EXPERIMENT}'}\n",
    ")"
   ]
  },
  {
   "cell_type": "raw",
   "id": "7c093f14-7a0a-4b45-b3b4-770157beddc8",
   "metadata": {},
   "source": [
    "print(job)"
   ]
  },
  {
   "cell_type": "code",
   "execution_count": 54,
   "id": "cc92044d-474b-43e5-90cf-a957397655b4",
   "metadata": {},
   "outputs": [
    {
     "data": {
      "text/plain": [
       "<JobState.JOB_STATE_PENDING: 2>"
      ]
     },
     "execution_count": 54,
     "metadata": {},
     "output_type": "execute_result"
    }
   ],
   "source": [
    "job.state"
   ]
  },
  {
   "cell_type": "markdown",
   "id": "121a62e6-75ec-45bd-9c71-cc4b173ca76a",
   "metadata": {},
   "source": [
    "### Confirmation Email\n",
    "Confirmation email is sent letting you know the model monitoring service has been enabled for the endpoint:\n",
    "\n",
    "<p align=\"center\">\n",
    "  <img alt=\"Confirmation Email\" src=\"../architectures/notebooks/05/monitoring/1-request.png\" width=\"75%\">\n",
    "</p>"
   ]
  },
  {
   "cell_type": "markdown",
   "id": "fe53e336-76fd-4b41-b966-98ca14a555f5",
   "metadata": {},
   "source": [
    "### Input Schema Generation\n",
    "After 1000 predict request, the monitoring service will automatically create the `input_schema`:"
   ]
  },
  {
   "cell_type": "code",
   "execution_count": 192,
   "id": "7a680132-da97-43f8-a5c2-bd0babaabc26",
   "metadata": {
    "tags": []
   },
   "outputs": [],
   "source": [
    "#instances = [json_format.ParseDict(newob, Value()) for newob in newobs]"
   ]
  },
  {
   "cell_type": "code",
   "execution_count": 165,
   "id": "86ed7de7-c246-4e17-8a14-9e2b9a135df2",
   "metadata": {},
   "outputs": [],
   "source": [
    "#predictions = endpoint.predict(instances = newobs)"
   ]
  },
  {
   "cell_type": "code",
   "execution_count": 55,
   "id": "a320400f-2f44-4677-92c9-ba4a7384e7b6",
   "metadata": {},
   "outputs": [],
   "source": [
    "explanations = endpoint.explain(instances = newobs)"
   ]
  },
  {
   "cell_type": "code",
   "execution_count": 64,
   "id": "1b7ba719-e513-41e4-8c30-7589463c85c5",
   "metadata": {},
   "outputs": [
    {
     "data": {
      "text/plain": [
       "[0.999802768, 0.000197230911]"
      ]
     },
     "execution_count": 64,
     "metadata": {},
     "output_type": "execute_result"
    }
   ],
   "source": [
    "explanations.predictions[0]"
   ]
  },
  {
   "cell_type": "markdown",
   "id": "0f383b65-782e-4cf9-9949-87adcc6b69d4",
   "metadata": {},
   "source": [
    "wait for 1 hour..."
   ]
  },
  {
   "cell_type": "markdown",
   "id": "e1fb461f-2032-4f7b-a60b-8a21b35fd463",
   "metadata": {},
   "source": [
    "### BigQuery Logging Table"
   ]
  },
  {
   "cell_type": "code",
   "execution_count": 65,
   "id": "9fb1746f-bab0-44be-8787-df4b78959af1",
   "metadata": {},
   "outputs": [
    {
     "data": {
      "text/html": [
       "<div>\n",
       "<style scoped>\n",
       "    .dataframe tbody tr th:only-of-type {\n",
       "        vertical-align: middle;\n",
       "    }\n",
       "\n",
       "    .dataframe tbody tr th {\n",
       "        vertical-align: top;\n",
       "    }\n",
       "\n",
       "    .dataframe thead th {\n",
       "        text-align: right;\n",
       "    }\n",
       "</style>\n",
       "<table border=\"1\" class=\"dataframe\">\n",
       "  <thead>\n",
       "    <tr style=\"text-align: right;\">\n",
       "      <th></th>\n",
       "      <th>endpoint</th>\n",
       "      <th>deployed_model_id</th>\n",
       "      <th>logging_time</th>\n",
       "      <th>request_id</th>\n",
       "      <th>request_payload</th>\n",
       "      <th>response_payload</th>\n",
       "    </tr>\n",
       "  </thead>\n",
       "  <tbody>\n",
       "  </tbody>\n",
       "</table>\n",
       "</div>"
      ],
      "text/plain": [
       "Empty DataFrame\n",
       "Columns: [endpoint, deployed_model_id, logging_time, request_id, request_payload, response_payload]\n",
       "Index: []"
      ]
     },
     "execution_count": 65,
     "metadata": {},
     "output_type": "execute_result"
    }
   ],
   "source": [
    "query = f\"\"\"\n",
    "SELECT *\n",
    "FROM `{BQ_PROJECT}.model_deployment_monitoring_{endpoint.name}.serving_predict`\n",
    "LIMIT 5\n",
    "\"\"\"\n",
    "bq.query(query).to_dataframe()"
   ]
  },
  {
   "cell_type": "markdown",
   "id": "3b5da6b2-de38-4626-a0a7-693ee28a802a",
   "metadata": {},
   "source": [
    "### Run Predictions"
   ]
  },
  {
   "cell_type": "code",
   "execution_count": 68,
   "id": "25aaae00-5dfa-4759-a910-1365a61c6efe",
   "metadata": {},
   "outputs": [],
   "source": [
    "n = 2000\n",
    "pred = bq.query(\n",
    "    query = f\"\"\"\n",
    "        SELECT * EXCEPT({VAR_TARGET}, {VAR_OMIT}, splits)\n",
    "        FROM {BQ_PROJECT}.{BQ_DATASET}.{BQ_TABLE}\n",
    "        WHERE splits='TEST'\n",
    "        LIMIT {n}\n",
    "        \"\"\"\n",
    ").to_dataframe()"
   ]
  },
  {
   "cell_type": "code",
   "execution_count": 70,
   "id": "37a44172-3d8f-4b05-a9f1-b3b41451de92",
   "metadata": {},
   "outputs": [],
   "source": [
    "test_obs = pred.to_dict(orient='records')"
   ]
  },
  {
   "cell_type": "code",
   "execution_count": 71,
   "id": "c804cb09-d4ca-47c0-bf69-b24e2d1d8836",
   "metadata": {
    "tags": []
   },
   "outputs": [],
   "source": [
    "#instances = [json_format.ParseDict(test_ob, Value()) for test_ob in test_obs]"
   ]
  },
  {
   "cell_type": "code",
   "execution_count": 77,
   "id": "17c1e310-95f8-484e-95d2-81442417363c",
   "metadata": {},
   "outputs": [],
   "source": [
    "explanations = endpoint.explain(instances = test_obs[0:1000])"
   ]
  },
  {
   "cell_type": "code",
   "execution_count": 78,
   "id": "34aa575f-5943-4343-a931-07e966e1682b",
   "metadata": {},
   "outputs": [],
   "source": [
    "for obs in test_obs[1000:]:\n",
    "    explanation = endpoint.explain(instances = [obs])\n",
    "#explanations = endpoint.explain(instances = test_obs[1000:])"
   ]
  },
  {
   "cell_type": "code",
   "execution_count": 76,
   "id": "09d72ad8-abb4-4f6b-9101-def801dd5f20",
   "metadata": {},
   "outputs": [],
   "source": [
    "predictions = endpoint.predict(instances = test_obs[0:1000])\n",
    "predictions = endpoint.predict(instances = test_obs[1000:])"
   ]
  },
  {
   "cell_type": "markdown",
   "id": "295caa24-8e75-41da-82c8-7c67190b5358",
   "metadata": {},
   "source": [
    "wait for 1 hour..."
   ]
  },
  {
   "cell_type": "markdown",
   "id": "dd9aca14-7023-43c0-b202-7e9c9852b803",
   "metadata": {},
   "source": [
    "### Alert Email\n",
    "An email with alerts will be triggered after one of the first hours jobs picks up the predictions above.  The threshold was set so sensitive on all features that this is expected and likely includes every feature.  The type of alert is training-serving **skew**, indicating a detect different between the predictions and the training data.\n",
    "\n",
    "<p align=\"center\">\n",
    "  <img alt=\"Confirmation Email\" src=\"../architectures/notebooks/05/monitoring/2-alert.png\" width=\"75%\">\n",
    "</p>"
   ]
  },
  {
   "cell_type": "markdown",
   "id": "d96e1353-77b0-471d-8dca-9b79863e9491",
   "metadata": {},
   "source": [
    "### Alerts In Console\n",
    "In addition to the email with alerts, the console also logs alerts and provides a more interactive view into the data.  From the Vertex AI Endpoints menu, select the endpoint, select monitoring, select alerts, and then click any feature for distribution graphs of training data and recent predictions.\n",
    "\n",
    "\n",
    "<p align=\"center\">\n",
    "  <img alt=\"Confirmation Email\" src=\"../architectures/notebooks/05/monitoring/3-alert_console.png\" width=\"75%\">\n",
    "</p>"
   ]
  },
  {
   "cell_type": "code",
   "execution_count": 230,
   "id": "0e991845-f800-46b4-bb03-b892f06af9fe",
   "metadata": {},
   "outputs": [
    {
     "name": "stdout",
     "output_type": "stream",
     "text": [
      "Use this link to quickly get to the monitoring alerts in the console:\n",
      "https://console.cloud.google.com/vertex-ai/locations/us-central1/endpoints/1961322035766362112/models/6805735083375329280/alerts?monitoring=257115021719371776&project=statmike-mlops-349915\n"
     ]
    }
   ],
   "source": [
    "print(f\"Use this link to quickly get to the monitoring alerts in the console:\\nhttps://console.cloud.google.com/vertex-ai/locations/{REGION}/endpoints/{endpoint.name}/models/{list(endpoint.traffic_split.keys())[0]}/alerts?monitoring={job.name}&project={PROJECT_ID}\")"
   ]
  },
  {
   "cell_type": "markdown",
   "id": "8af8e109-68a0-4392-a736-0cb9682acb7e",
   "metadata": {},
   "source": [
    "### Run Predictions Each Hour with Progressive Drift"
   ]
  },
  {
   "cell_type": "code",
   "execution_count": 267,
   "id": "eece0e6e-2f27-4079-8da2-543607d023ff",
   "metadata": {},
   "outputs": [],
   "source": [
    "n = 1000\n",
    "\n",
    "query =  f\"\"\"\n",
    "SELECT *\n",
    "FROM {BQ_PROJECT}.{BQ_DATASET}.{BQ_TABLE}\n",
    "WHERE splits='TEST'\n",
    "LIMIT {n}\n",
    "\"\"\"\n",
    "\n",
    "pred = bq.query(query = query).to_dataframe()"
   ]
  },
  {
   "cell_type": "code",
   "execution_count": 268,
   "id": "3c2cb016-8a65-4d53-99b6-3143d4833ac5",
   "metadata": {},
   "outputs": [],
   "source": [
    "runHours = 8\n",
    "\n",
    "runs = 0\n",
    "while runs <= runHours:\n",
    "    # increment runs\n",
    "    runs += 1\n",
    "    \n",
    "    # force drift for features V1 through V10\n",
    "    # each iteration add positive noise = abs(random(mean = 0, sd = .1*sd)) \n",
    "    for v in range(1, 11, 1):\n",
    "        pred[f'V{v}'] = pred[f'V{v}'] + np.abs(np.random.normal(0, pred[f'V{v}'].std()/10, size=pred.shape[0]))\n",
    "    \n",
    "    # prepare instances\n",
    "    test_obs = pred[pred.columns[~pred.columns.isin(VAR_OMIT.split()+[VAR_TARGET, 'splits'])]].to_dict(orient='records')\n",
    "    instances = [json_format.ParseDict(test_ob, Value()) for test_ob in test_obs]\n",
    "    \n",
    "    # request predictions\n",
    "    predictions = endpoint.predict(instances = instances)\n",
    "    \n",
    "    # wait an hour: 60 seconds * 60 minutes\n",
    "    time.sleep(3600)\n",
    "    "
   ]
  },
  {
   "cell_type": "markdown",
   "id": "b9ef1f89-17c9-4d57-957c-d2090559cd0d",
   "metadata": {},
   "source": [
    "### Alert Email(s)\n",
    "\n",
    "Before the 8 hours of progressive drift runs finished an alert email was sent indicating both **skew** detection as before and **drift** detection alerts.  This is also in part due to the very low threshold and more features than those with induced drift are part of alerts.\n",
    "    \n",
    "<p align=\"center\">\n",
    "  <img alt=\"Alert Email\" src=\"../architectures/notebooks/05/monitoring/4a-drift.png\" width=\"45%\">\n",
    "&nbsp; &nbsp; &nbsp; &nbsp;\n",
    "  <img alt=\"Alert Email\" src=\"../architectures/notebooks/05/monitoring/4b-drift.png\" width=\"45%\">\n",
    "</p>    \n",
    "\n",
    "After several hours the **drift** alerts are focused in on just the features the method above forced drift on: `V1` through `V10`:\n",
    "\n",
    "<p align=\"center\">\n",
    "  <img alt=\"Alert Email\" src=\"../architectures/notebooks/05/monitoring/5-drift.png\" width=\"85%\">\n",
    "</p>   "
   ]
  },
  {
   "cell_type": "markdown",
   "id": "4ab734e5-1412-44c7-848f-6368b76eb52e",
   "metadata": {},
   "source": [
    "### Console Review of Drift\n",
    "\n",
    "Reviewing the **drift** alerts in the cosole gives a distribution chart for each monitoring time which can be click through to view the pattern over time:\n",
    "\n",
    "<p align=\"center\">\n",
    "  <img alt=\"Drift in Console\" src=\"../architectures/notebooks/05/monitoring/6-drift_console.png\" width=\"85%\">\n",
    "</p>   "
   ]
  },
  {
   "cell_type": "markdown",
   "id": "1a51d248-2281-4c4f-945a-4bbea1c8a8a5",
   "metadata": {},
   "source": [
    "### Removing Monitoring From Endpoint"
   ]
  },
  {
   "cell_type": "code",
   "execution_count": 177,
   "id": "4893c0a8-98ef-4fa2-a70a-d8f6c2e00fe6",
   "metadata": {},
   "outputs": [
    {
     "data": {
      "text/plain": [
       "<google.cloud.aiplatform.jobs.ModelDeploymentMonitoringJob object at 0x7fac8038bcd0> \n",
       "resource name: projects/1026793852137/locations/us-central1/modelDeploymentMonitoringJobs/2063551053504184320"
      ]
     },
     "execution_count": 177,
     "metadata": {},
     "output_type": "execute_result"
    }
   ],
   "source": [
    "#job.pause()\n",
    "#job.delete()"
   ]
  },
  {
   "cell_type": "code",
   "execution_count": 204,
   "id": "f64504c9-5d23-4897-a74e-b09a6942d9c5",
   "metadata": {},
   "outputs": [],
   "source": [
    "jobs = job.list(filter=f\"display_name={SERIES}_{EXPERIMENT}\")"
   ]
  },
  {
   "cell_type": "code",
   "execution_count": 205,
   "id": "dba4406f-5afc-4657-ad80-7ca164402c27",
   "metadata": {},
   "outputs": [
    {
     "data": {
      "text/plain": [
       "<JobState.JOB_STATE_RUNNING: 3>"
      ]
     },
     "execution_count": 205,
     "metadata": {},
     "output_type": "execute_result"
    }
   ],
   "source": [
    "jobs[0].state"
   ]
  },
  {
   "cell_type": "code",
   "execution_count": null,
   "id": "6c031abd-b28c-421c-a2c9-8dfb68f97c83",
   "metadata": {},
   "outputs": [],
   "source": []
  }
 ],
 "metadata": {
  "environment": {
   "kernel": "python3",
   "name": "tf2-gpu.2-3.m94",
   "type": "gcloud",
   "uri": "gcr.io/deeplearning-platform-release/tf2-gpu.2-3:m94"
  },
  "kernelspec": {
   "display_name": "Python 3",
   "language": "python",
   "name": "python3"
  },
  "language_info": {
   "codemirror_mode": {
    "name": "ipython",
    "version": 3
   },
   "file_extension": ".py",
   "mimetype": "text/x-python",
   "name": "python",
   "nbconvert_exporter": "python",
   "pygments_lexer": "ipython3",
   "version": "3.7.12"
  }
 },
 "nbformat": 4,
 "nbformat_minor": 5
}
